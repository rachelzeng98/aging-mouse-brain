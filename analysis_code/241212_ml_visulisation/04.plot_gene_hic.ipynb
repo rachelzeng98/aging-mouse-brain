{
 "cells": [
  {
   "cell_type": "code",
   "execution_count": 1,
   "id": "c2f87d70-e0f5-4542-9d30-22218459f233",
   "metadata": {},
   "outputs": [],
   "source": [
    "import os\n",
    "import cooler\n",
    "import numpy as np\n",
    "import pandas as pd\n",
    "from scipy.stats import norm, zscore\n",
    "from scipy import ndimage as nd\n",
    "import matplotlib as mpl\n",
    "import matplotlib.pyplot as plt\n",
    "from matplotlib.patches import Polygon\n",
    "from matplotlib import cm as cm\n",
    "import seaborn as sns\n",
    "from matplotlib.colors import LogNorm\n",
    "\n",
    "from itertools import cycle, islice\n",
    "import xarray as xr\n",
    "from glob import glob\n",
    "from scipy import ndimage as nd\n",
    "import matplotlib.pyplot as plt\n",
    "from matplotlib.backends.backend_pdf import PdfPages\n",
    "\n",
    "mpl.style.use('default')\n",
    "mpl.rcParams['pdf.fonttype'] = 42\n",
    "mpl.rcParams['ps.fonttype'] = 42\n",
    "#mpl.rcParams['font.family'] = 'sans-serif'\n",
    "#mpl.rcParams['font.sans-serif'] = 'Helvetica'"
   ]
  },
  {
   "cell_type": "code",
   "execution_count": 2,
   "id": "65540d70-33a6-4ad2-b4ef-3b215536015b",
   "metadata": {},
   "outputs": [
    {
     "data": {
      "text/plain": [
       "['Oligo_NN.8wk', 'Oligo_NN.9mo', 'Oligo_NN.18mo']"
      ]
     },
     "execution_count": 2,
     "metadata": {},
     "output_type": "execute_result"
    }
   ],
   "source": [
    "ct = 'Oligo_NN'\n",
    "leg = [f\"{ct}.{age}\" for age in ['8wk','9mo','18mo']]\n",
    "leg"
   ]
  },
  {
   "cell_type": "code",
   "execution_count": 3,
   "id": "b180829e-dd30-4556-a44c-06d0a5055330",
   "metadata": {},
   "outputs": [],
   "source": [
    "chrom_size_path = '/ref/m3C/mm10.main.nochrM.nochrY.chrom.sizes'\n",
    "chrom_sizes = cooler.read_chromsizes(chrom_size_path, all_names=True)\n",
    "chrom_sizes = chrom_sizes.iloc[:-1]"
   ]
  },
  {
   "cell_type": "code",
   "execution_count": 4,
   "id": "10144e61-805a-4448-893b-28231ea359e1",
   "metadata": {},
   "outputs": [],
   "source": [
    "indir = '/data/female-amb/loop/'\n",
    "ddir = f'/home/qzeng_salk_edu/project/240205-domain/CellType.Age.Diff.Domain/{ct}'\n",
    "ldir = f'/data/female-amb/Diff.Result/loop_ct_age/diff/{ct}'\n",
    "cdir = f'/home/qzeng_salk_edu/project/240204-redo-compartment/Call.DiffComp.CellType.Age/{ct}'"
   ]
  },
  {
   "cell_type": "code",
   "execution_count": 5,
   "id": "5be47d69-cb85-44a1-9d26-029e0c5ab04b",
   "metadata": {},
   "outputs": [
    {
     "data": {
      "text/html": [
       "<div>\n",
       "<style scoped>\n",
       "    .dataframe tbody tr th:only-of-type {\n",
       "        vertical-align: middle;\n",
       "    }\n",
       "\n",
       "    .dataframe tbody tr th {\n",
       "        vertical-align: top;\n",
       "    }\n",
       "\n",
       "    .dataframe thead th {\n",
       "        text-align: right;\n",
       "    }\n",
       "</style>\n",
       "<table border=\"1\" class=\"dataframe\">\n",
       "  <thead>\n",
       "    <tr style=\"text-align: right;\">\n",
       "      <th></th>\n",
       "      <th>chrom</th>\n",
       "      <th>source</th>\n",
       "      <th>feature</th>\n",
       "      <th>start</th>\n",
       "      <th>end</th>\n",
       "      <th>score</th>\n",
       "      <th>strand</th>\n",
       "      <th>phase</th>\n",
       "      <th>gene_id</th>\n",
       "      <th>transcript_id</th>\n",
       "      <th>...</th>\n",
       "      <th>gene_status</th>\n",
       "      <th>transcript_type</th>\n",
       "      <th>transcript_status</th>\n",
       "      <th>transcript_name</th>\n",
       "      <th>exon_number</th>\n",
       "      <th>exon_id</th>\n",
       "      <th>level</th>\n",
       "      <th>mgi_id</th>\n",
       "      <th>havana_gene</th>\n",
       "      <th>tag</th>\n",
       "    </tr>\n",
       "    <tr>\n",
       "      <th>gene_name</th>\n",
       "      <th></th>\n",
       "      <th></th>\n",
       "      <th></th>\n",
       "      <th></th>\n",
       "      <th></th>\n",
       "      <th></th>\n",
       "      <th></th>\n",
       "      <th></th>\n",
       "      <th></th>\n",
       "      <th></th>\n",
       "      <th></th>\n",
       "      <th></th>\n",
       "      <th></th>\n",
       "      <th></th>\n",
       "      <th></th>\n",
       "      <th></th>\n",
       "      <th></th>\n",
       "      <th></th>\n",
       "      <th></th>\n",
       "      <th></th>\n",
       "      <th></th>\n",
       "    </tr>\n",
       "  </thead>\n",
       "  <tbody>\n",
       "    <tr>\n",
       "      <th>4933401J01Rik</th>\n",
       "      <td>chr1</td>\n",
       "      <td>HAVANA</td>\n",
       "      <td>gene</td>\n",
       "      <td>3073253</td>\n",
       "      <td>3074322</td>\n",
       "      <td>.</td>\n",
       "      <td>+</td>\n",
       "      <td>.</td>\n",
       "      <td>ENSMUSG00000102693.1</td>\n",
       "      <td>NaN</td>\n",
       "      <td>...</td>\n",
       "      <td>NaN</td>\n",
       "      <td>NaN</td>\n",
       "      <td>NaN</td>\n",
       "      <td>NaN</td>\n",
       "      <td>NaN</td>\n",
       "      <td>NaN</td>\n",
       "      <td>2</td>\n",
       "      <td>MGI:1918292</td>\n",
       "      <td>OTTMUSG00000049935.1</td>\n",
       "      <td>NaN</td>\n",
       "    </tr>\n",
       "    <tr>\n",
       "      <th>Gm26206</th>\n",
       "      <td>chr1</td>\n",
       "      <td>ENSEMBL</td>\n",
       "      <td>gene</td>\n",
       "      <td>3102016</td>\n",
       "      <td>3102125</td>\n",
       "      <td>.</td>\n",
       "      <td>+</td>\n",
       "      <td>.</td>\n",
       "      <td>ENSMUSG00000064842.1</td>\n",
       "      <td>NaN</td>\n",
       "      <td>...</td>\n",
       "      <td>NaN</td>\n",
       "      <td>NaN</td>\n",
       "      <td>NaN</td>\n",
       "      <td>NaN</td>\n",
       "      <td>NaN</td>\n",
       "      <td>NaN</td>\n",
       "      <td>3</td>\n",
       "      <td>MGI:5455983</td>\n",
       "      <td>NaN</td>\n",
       "      <td>NaN</td>\n",
       "    </tr>\n",
       "    <tr>\n",
       "      <th>Xkr4</th>\n",
       "      <td>chr1</td>\n",
       "      <td>HAVANA</td>\n",
       "      <td>gene</td>\n",
       "      <td>3205901</td>\n",
       "      <td>3671498</td>\n",
       "      <td>.</td>\n",
       "      <td>-</td>\n",
       "      <td>.</td>\n",
       "      <td>ENSMUSG00000051951.5</td>\n",
       "      <td>NaN</td>\n",
       "      <td>...</td>\n",
       "      <td>NaN</td>\n",
       "      <td>NaN</td>\n",
       "      <td>NaN</td>\n",
       "      <td>NaN</td>\n",
       "      <td>NaN</td>\n",
       "      <td>NaN</td>\n",
       "      <td>2</td>\n",
       "      <td>MGI:3528744</td>\n",
       "      <td>OTTMUSG00000026353.2</td>\n",
       "      <td>NaN</td>\n",
       "    </tr>\n",
       "    <tr>\n",
       "      <th>Gm18956</th>\n",
       "      <td>chr1</td>\n",
       "      <td>HAVANA</td>\n",
       "      <td>gene</td>\n",
       "      <td>3252757</td>\n",
       "      <td>3253236</td>\n",
       "      <td>.</td>\n",
       "      <td>+</td>\n",
       "      <td>.</td>\n",
       "      <td>ENSMUSG00000102851.1</td>\n",
       "      <td>NaN</td>\n",
       "      <td>...</td>\n",
       "      <td>NaN</td>\n",
       "      <td>NaN</td>\n",
       "      <td>NaN</td>\n",
       "      <td>NaN</td>\n",
       "      <td>NaN</td>\n",
       "      <td>NaN</td>\n",
       "      <td>1</td>\n",
       "      <td>MGI:5011141</td>\n",
       "      <td>OTTMUSG00000049958.1</td>\n",
       "      <td>pseudo_consens</td>\n",
       "    </tr>\n",
       "    <tr>\n",
       "      <th>Gm37180</th>\n",
       "      <td>chr1</td>\n",
       "      <td>HAVANA</td>\n",
       "      <td>gene</td>\n",
       "      <td>3365731</td>\n",
       "      <td>3368549</td>\n",
       "      <td>.</td>\n",
       "      <td>-</td>\n",
       "      <td>.</td>\n",
       "      <td>ENSMUSG00000103377.1</td>\n",
       "      <td>NaN</td>\n",
       "      <td>...</td>\n",
       "      <td>NaN</td>\n",
       "      <td>NaN</td>\n",
       "      <td>NaN</td>\n",
       "      <td>NaN</td>\n",
       "      <td>NaN</td>\n",
       "      <td>NaN</td>\n",
       "      <td>2</td>\n",
       "      <td>MGI:5610408</td>\n",
       "      <td>OTTMUSG00000049960.1</td>\n",
       "      <td>NaN</td>\n",
       "    </tr>\n",
       "  </tbody>\n",
       "</table>\n",
       "<p>5 rows × 21 columns</p>\n",
       "</div>"
      ],
      "text/plain": [
       "              chrom   source feature    start      end score strand phase  \\\n",
       "gene_name                                                                   \n",
       "4933401J01Rik  chr1   HAVANA    gene  3073253  3074322     .      +     .   \n",
       "Gm26206        chr1  ENSEMBL    gene  3102016  3102125     .      +     .   \n",
       "Xkr4           chr1   HAVANA    gene  3205901  3671498     .      -     .   \n",
       "Gm18956        chr1   HAVANA    gene  3252757  3253236     .      +     .   \n",
       "Gm37180        chr1   HAVANA    gene  3365731  3368549     .      -     .   \n",
       "\n",
       "                            gene_id  transcript_id  ... gene_status  \\\n",
       "gene_name                                           ...               \n",
       "4933401J01Rik  ENSMUSG00000102693.1            NaN  ...         NaN   \n",
       "Gm26206        ENSMUSG00000064842.1            NaN  ...         NaN   \n",
       "Xkr4           ENSMUSG00000051951.5            NaN  ...         NaN   \n",
       "Gm18956        ENSMUSG00000102851.1            NaN  ...         NaN   \n",
       "Gm37180        ENSMUSG00000103377.1            NaN  ...         NaN   \n",
       "\n",
       "               transcript_type  transcript_status  transcript_name  \\\n",
       "gene_name                                                            \n",
       "4933401J01Rik              NaN                NaN              NaN   \n",
       "Gm26206                    NaN                NaN              NaN   \n",
       "Xkr4                       NaN                NaN              NaN   \n",
       "Gm18956                    NaN                NaN              NaN   \n",
       "Gm37180                    NaN                NaN              NaN   \n",
       "\n",
       "               exon_number  exon_id  level       mgi_id           havana_gene  \\\n",
       "gene_name                                                                       \n",
       "4933401J01Rik          NaN      NaN      2  MGI:1918292  OTTMUSG00000049935.1   \n",
       "Gm26206                NaN      NaN      3  MGI:5455983                   NaN   \n",
       "Xkr4                   NaN      NaN      2  MGI:3528744  OTTMUSG00000026353.2   \n",
       "Gm18956                NaN      NaN      1  MGI:5011141  OTTMUSG00000049958.1   \n",
       "Gm37180                NaN      NaN      2  MGI:5610408  OTTMUSG00000049960.1   \n",
       "\n",
       "                          tag  \n",
       "gene_name                      \n",
       "4933401J01Rik             NaN  \n",
       "Gm26206                   NaN  \n",
       "Xkr4                      NaN  \n",
       "Gm18956        pseudo_consens  \n",
       "Gm37180                   NaN  \n",
       "\n",
       "[5 rows x 21 columns]"
      ]
     },
     "execution_count": 5,
     "metadata": {},
     "output_type": "execute_result"
    }
   ],
   "source": [
    "genemeta = pd.read_csv('/data/metadata/gencode.vM22.basic.annotation.gene.flat.tsv.gz', sep = '\\t', index_col = 'gene_name')\n",
    "genemeta = genemeta[~genemeta.index.duplicated(keep='first')]\n",
    "genemeta.head()"
   ]
  },
  {
   "cell_type": "code",
   "execution_count": 6,
   "id": "e56e2bed-b5da-42fa-8b05-13115570ccf6",
   "metadata": {},
   "outputs": [
    {
     "name": "stdout",
     "output_type": "stream",
     "text": [
      "Il33:29923114, 29962718\n"
     ]
    }
   ],
   "source": [
    "gtmp = 'Il33'\n",
    "\n",
    "\n",
    "chrom = genemeta.loc[gtmp, 'chrom']\n",
    "if genemeta.loc[gtmp, 'strand']=='+':\n",
    "    tss = genemeta.loc[gtmp, 'start'] -2000\n",
    "    tes = genemeta.loc[gtmp, 'end'] + 2000\n",
    "else:\n",
    "    tss = genemeta.loc[gtmp, 'end'] -2000\n",
    "    tes = genemeta.loc[gtmp, 'start'] +2000\n",
    "\n",
    "print(f\"{gtmp}:{tss}, {tes}\")\n"
   ]
  },
  {
   "cell_type": "code",
   "execution_count": 8,
   "id": "31aebfc5",
   "metadata": {},
   "outputs": [
    {
     "data": {
      "text/plain": [
       "'chr19:29623114-30262718'"
      ]
     },
     "execution_count": 8,
     "metadata": {},
     "output_type": "execute_result"
    }
   ],
   "source": [
    "#tss, tes = tss -2000, tes + 2000\n",
    "lslop, rslop = 300000, 300000\n",
    "ll, rr = (tss - lslop), (tes + rslop)\n",
    "region = f\"{chrom}:{ll}-{rr}\"\n",
    "region"
   ]
  },
  {
   "cell_type": "code",
   "execution_count": 9,
   "id": "74ee654c",
   "metadata": {},
   "outputs": [
    {
     "name": "stdout",
     "output_type": "stream",
     "text": [
      "2962 3026\n"
     ]
    }
   ],
   "source": [
    "resl = 10000\n",
    "loopl, loopr = (ll//resl), (rr//resl)\n",
    "print(loopl, loopr)"
   ]
  },
  {
   "cell_type": "code",
   "execution_count": 10,
   "id": "192b0929-d2d2-48fc-82de-f315ee4300aa",
   "metadata": {},
   "outputs": [],
   "source": [
    "dstall = []\n",
    "resolution = 5000\n",
    "\n",
    "for group in leg:\n",
    "    #cool = cooler.Cooler(f'/data/female-amb/AMB.CoolFiles/CellType.Age.Region.Raw.5kb/{group}.cool')\n",
    "    #cool = cooler.Cooler(f'/data/female-amb/AMB.CoolFiles/CellType.Age.Raw.5kb.mcool/{group}.raw.mcool::resolutions/{resolution}')\n",
    "    cool = cooler.Cooler(f'/data/female-amb/loop/{group}/{group}/{group}.Q.cool')\n",
    "\n",
    "    Q = cool.matrix(balance=False, sparse=True).fetch(region).toarray()\n",
    "    Q = Q - np.diag(np.diag(Q))\n",
    "    dst = nd.rotate(Q, 45, order=0, reshape=True, prefilter=False, cval=0)\n",
    "    dstall.append(dst)"
   ]
  },
  {
   "cell_type": "code",
   "execution_count": 11,
   "id": "cd02ef73",
   "metadata": {},
   "outputs": [
    {
     "name": "stdout",
     "output_type": "stream",
     "text": [
      "30\n"
     ]
    }
   ],
   "source": [
    "## select differential loop\n",
    "loopall = pd.read_hdf(f'{ldir}/merged_loop.hdf', key='data')\n",
    "sell = ((loopall[0]==chrom) & \n",
    "        (zscore(np.log(loopall['Qanova']))>norm.isf(0.3)) & \n",
    "        (zscore(np.log(loopall['Tanova']))>norm.isf(0.3)) & \n",
    "        (loopall[1]>ll) & (loopall[5]<rr))\n",
    "print(sell.sum())"
   ]
  },
  {
   "cell_type": "code",
   "execution_count": 17,
   "id": "eaeff172",
   "metadata": {},
   "outputs": [
    {
     "data": {
      "text/plain": [
       "Text(0.5, 0.98, 'Il33 chr19:29623114-30262718 0-0.022')"
      ]
     },
     "execution_count": 17,
     "metadata": {},
     "output_type": "execute_result"
    },
    {
     "data": {
      "image/png": "[encoded data removed]",
      "text/plain": [
       "<Figure size 300x550 with 3 Axes>"
      ]
     },
     "metadata": {},
     "output_type": "display_data"
    }
   ],
   "source": [
    "fig, axes = plt.subplots(nrows = 3, figsize=(3, 5.5), constrained_layout = True, dpi = 100)\n",
    "vmin = 0\n",
    "vmax  = 0.022\n",
    "\n",
    "tmpl = loopall.loc[sell, [1,4]].values // resl - loopl\n",
    "#tmpl= tmpl * (resl//resolution)\n",
    "\n",
    "for i , ax in zip(range(len(leg)),axes.ravel()):\n",
    "    ax.axis('equal')\n",
    "    ax.set_title(f\"{leg[i]}:{sell.sum()}\", fontsize=9)\n",
    "    \n",
    "    #img = ax.imshow(dstall[i][:dstall[i].shape[0]//2], cmap='afmhot_r', vmin=0, vmax=30, aspect='auto')\n",
    "    img = ax.imshow(dstall[i], cmap='afmhot_r', vmin=vmin, vmax=vmax, aspect='auto') #afmhot_r\n",
    "    h = len(dstall[i])\n",
    "    ax.set_ylim([0.5*h, 0*h])\n",
    "    ax.set_xlim([0, h])\n",
    "    ax.set_yticks([])\n",
    "    ax.set_yticklabels([])\n",
    "    ax.set_xticklabels([])\n",
    "    \n",
    "    ## plot diff loop\n",
    "    # ax.scatter((tmpl[:, 0]+tmpl[:, 1])/np.sqrt(2), 0.5*h-(tmpl[:, 1]-tmpl[:, 0])/np.sqrt(2), \n",
    "    #        alpha=0.15, s=3, marker='D', edgecolors='c', color='none')\n",
    " \n",
    "ax.set_xlim([0, (loopr-loopl-1)*np.sqrt(2)])\n",
    "ax.set_xticks(np.sqrt(2)*np.array(np.arange(0, loopr-loopl+1, 100).tolist() + [tss//resl-loopl, tes//resl-loopl]))\n",
    "ax.set_xticklabels([])\n",
    "ax.set_xticklabels([f'{(xx+loopl)/100}M' for xx in np.arange(0, loopr-loopl+1, 100)]+['TSS','TES'])\n",
    "plt.suptitle(f\"{gtmp} {region} {vmin}-{vmax}\") \n",
    "\n",
    "#fig.savefig(f'figure/{ct}.{gtmp}.Hic.Example.pdf', transparent=True, bbox_inches = 'tight')\n"
   ]
  },
  {
   "cell_type": "code",
   "execution_count": null,
   "id": "0db270b6",
   "metadata": {},
   "outputs": [],
   "source": []
  },
  {
   "cell_type": "code",
   "execution_count": 164,
   "id": "84826cea",
   "metadata": {},
   "outputs": [],
   "source": [
    "# fig, axes = plt.subplots(ncols = 2, nrows = 3, figsize=(10, 6), constrained_layout = True, dpi = 300)\n",
    "# vmin = 0\n",
    "# vmax = 9\n",
    "\n",
    "# for i , ax in zip(range(len(leg)),axes.ravel()):\n",
    "#     ax.axis('equal')\n",
    "#     ax.set_title(leg[i], fontsize=9)\n",
    "    \n",
    "#     #img = ax.imshow(dstall[i][:dstall[i].shape[0]//2], cmap='afmhot_r', vmin=0, vmax=30, aspect='auto')\n",
    "#     img = ax.imshow(dstall[i], cmap='afmhot_r', vmin=vmin, vmax=vmax, aspect='auto') #afmhot_r\n",
    "#     h = len(dstall[i])\n",
    "#     ax.set_ylim([0.5*h, 0.2*h])\n",
    "#     ax.set_xlim([0, h])\n",
    "#     ax.set_yticks([])\n",
    "#     ax.set_yticklabels([])\n",
    "\n",
    "\n",
    "#     mid_point = dstall[i].shape[1] // 2  # Since we're only showing the upper half\n",
    "    \n",
    "#     # Set the x-ticks and labels\n",
    "#     ax.set_xticks([mid_point])\n",
    "#     ax.set_xticklabels([gtmp])\n",
    "# plt.suptitle(f\"{region} {vmin}-{vmax}\")  \n",
    "# #fig.savefig(f'Fig1.Il33.Hic.Example.pdf', transparent=True, bbox_inches = 'tight')"
   ]
  },
  {
   "cell_type": "code",
   "execution_count": 156,
   "id": "2d05a68d-ced3-4218-ba2f-7f974941f3ff",
   "metadata": {},
   "outputs": [],
   "source": [
    "# fig, axes = plt.subplots(ncols = 1, nrows = len(leg), figsize=(5, 6), constrained_layout = True, dpi = 100)\n",
    "# vmin = 2\n",
    "# vmax = 10\n",
    "# for i in range(len(leg)):\n",
    "#     ax = axes[i]\n",
    "#     ax.axis('equal')\n",
    "#     ax.set_title(leg[i], fontsize=9)\n",
    "    \n",
    "#     #img = ax.imshow(dstall[i][:dstall[i].shape[0]//2], cmap='afmhot_r', vmin=0, vmax=30, aspect='auto')\n",
    "#     img = ax.imshow(dstall[i], cmap='afmhot_r', vmin=vmin, vmax=vmax, aspect='auto') #afmhot_r\n",
    "#     h = len(dstall[i])\n",
    "#     ax.set_ylim([0.5*h, 0.2*h])\n",
    "#     ax.set_xlim([0, h])\n",
    "#     ax.set_yticks([])\n",
    "#     ax.set_yticklabels([])\n",
    "\n",
    "\n",
    "#     mid_point = dstall[i].shape[1] // 2  # Since we're only showing the upper half\n",
    "    \n",
    "#     # Set the x-ticks and labels\n",
    "#     ax.set_xticks([mid_point])\n",
    "#     ax.set_xticklabels([gtmp])\n",
    "# plt.suptitle(f\"{region} {vmin}-{vmax}\")  \n",
    "# #fig.savefig(f'Fig1.Il33.Hic.Example.pdf', transparent=True, bbox_inches = 'tight')"
   ]
  },
  {
   "cell_type": "code",
   "execution_count": 117,
   "id": "2c61889b-7171-4b32-b32e-d334949ee7e4",
   "metadata": {},
   "outputs": [],
   "source": [
    "# import matplotlib.pyplot as plt\n",
    "# import numpy as np\n",
    "# import matplotlib.colors as mcolors\n",
    "# import matplotlib.colorbar as mcolorbar\n",
    "\n",
    "# # Define the data range\n",
    "# vmin = 1\n",
    "# vmax = 30\n",
    "\n",
    "# # Create a colormap\n",
    "# cmap = plt.cm.afmhot_r\n",
    "\n",
    "# # Create a normalization based on the data range\n",
    "# norm = mcolors.Normalize(vmin=vmin, vmax=vmax)\n",
    "\n",
    "# # Create a figure and axis for the plot\n",
    "# fig, ax = plt.subplots(figsize=(2, 6))\n",
    "\n",
    "# # Create a colorbar\n",
    "# cbar = mcolorbar.ColorbarBase(ax, cmap=cmap, norm=norm, orientation='vertical')\n",
    "\n",
    "# # Set the colorbar ticks and labels\n",
    "# cbar.set_ticks([vmin, vmax])\n",
    "# cbar.set_ticklabels([f'{vmin}', f'{vmax}'])\n",
    "\n",
    "# fig.savefig(f'Il33.Hic.colorbar.pdf', transparent=True, bbox_inches = 'tight')"
   ]
  },
  {
   "cell_type": "code",
   "execution_count": null,
   "id": "a30429c2-1d79-478a-95c9-7a320be7ed2a",
   "metadata": {},
   "outputs": [],
   "source": []
  },
  {
   "cell_type": "code",
   "execution_count": null,
   "id": "6c79a5cc-12b1-49bd-a31b-27d87748f62c",
   "metadata": {},
   "outputs": [],
   "source": []
  },
  {
   "cell_type": "code",
   "execution_count": null,
   "id": "746ae15e-36a4-4a26-af7d-422141de9169",
   "metadata": {},
   "outputs": [],
   "source": []
  },
  {
   "cell_type": "code",
   "execution_count": null,
   "id": "ee717a03-9bd5-4d10-a812-a0a44e881cc5",
   "metadata": {},
   "outputs": [],
   "source": []
  },
  {
   "cell_type": "code",
   "execution_count": null,
   "id": "f95908e5-927f-4200-bf2a-23b85d11a14c",
   "metadata": {},
   "outputs": [],
   "source": []
  },
  {
   "cell_type": "code",
   "execution_count": null,
   "id": "1571d3d5-98a6-47f5-8fde-c613672f22ad",
   "metadata": {},
   "outputs": [],
   "source": []
  },
  {
   "cell_type": "code",
   "execution_count": null,
   "id": "a7525769-dd4c-43db-8b15-84660cd5a2f8",
   "metadata": {},
   "outputs": [],
   "source": []
  },
  {
   "cell_type": "code",
   "execution_count": null,
   "id": "d0c3526e-3f6d-47be-b3bc-5999d20c6f99",
   "metadata": {},
   "outputs": [],
   "source": []
  },
  {
   "cell_type": "code",
   "execution_count": null,
   "id": "2de61804-55a4-46c4-917e-b85aa372363b",
   "metadata": {},
   "outputs": [],
   "source": []
  },
  {
   "cell_type": "code",
   "execution_count": null,
   "id": "f112ec8f-dc3e-4617-9d08-d17bc2284b9e",
   "metadata": {},
   "outputs": [],
   "source": []
  },
  {
   "cell_type": "code",
   "execution_count": null,
   "id": "5531b030-f50d-4ed0-9806-0cbd58517e73",
   "metadata": {},
   "outputs": [],
   "source": []
  },
  {
   "cell_type": "code",
   "execution_count": null,
   "id": "42d740d1-cf59-4187-9ad7-d5e8cf17e5e6",
   "metadata": {},
   "outputs": [],
   "source": []
  },
  {
   "cell_type": "code",
   "execution_count": null,
   "id": "47721cad-905d-4540-a901-68b263a1349d",
   "metadata": {},
   "outputs": [],
   "source": []
  },
  {
   "cell_type": "code",
   "execution_count": null,
   "id": "4b0956c9-4d14-43d7-a7e0-7e6b057ed530",
   "metadata": {},
   "outputs": [],
   "source": []
  },
  {
   "cell_type": "code",
   "execution_count": null,
   "id": "bdaff1a6-fe60-4a65-9ce1-421751ea4894",
   "metadata": {},
   "outputs": [],
   "source": []
  }
 ],
 "metadata": {
  "kernelspec": {
   "display_name": "Python 3 (ipykernel)",
   "language": "python",
   "name": "python3"
  },
  "language_info": {
   "codemirror_mode": {
    "name": "ipython",
    "version": 3
   },
   "file_extension": ".py",
   "mimetype": "text/x-python",
   "name": "python",
   "nbconvert_exporter": "python",
   "pygments_lexer": "ipython3",
   "version": "3.10.12"
  }
 },
 "nbformat": 4,
 "nbformat_minor": 5
}
