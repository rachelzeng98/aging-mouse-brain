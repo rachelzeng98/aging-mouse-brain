{
 "cells": [
  {
   "cell_type": "code",
   "execution_count": 1,
   "id": "da773491-36b7-44f4-9068-38fad14bcd74",
   "metadata": {
    "execution": {
     "iopub.execute_input": "2024-05-20T22:13:11.073197Z",
     "iopub.status.busy": "2024-05-20T22:13:11.072746Z",
     "iopub.status.idle": "2024-05-20T22:13:23.168277Z",
     "shell.execute_reply": "2024-05-20T22:13:23.167583Z",
     "shell.execute_reply.started": "2024-05-20T22:13:11.073161Z"
    },
    "tags": []
   },
   "outputs": [],
   "source": [
    "import scanpy as sc\n",
    "import anndata\n",
    "import pandas as pd\n",
    "from ALLCools.mcds import MCDS\n",
    "import seaborn as sns\n",
    "from scipy.stats import zscore\n",
    "import matplotlib.pyplot as plt\n",
    "import numpy as np"
   ]
  },
  {
   "cell_type": "code",
   "execution_count": 2,
   "id": "a0d74f7f-4772-4a58-b241-374f486cf196",
   "metadata": {
    "execution": {
     "iopub.execute_input": "2024-05-20T22:13:23.169916Z",
     "iopub.status.busy": "2024-05-20T22:13:23.169601Z",
     "iopub.status.idle": "2024-05-20T22:13:23.173282Z",
     "shell.execute_reply": "2024-05-20T22:13:23.172670Z",
     "shell.execute_reply.started": "2024-05-20T22:13:23.169891Z"
    },
    "tags": []
   },
   "outputs": [],
   "source": [
    "_dir = '/home/qzeng/project/aging/231117_update_annot'\n",
    "mc_meta_path = '/home/qzeng/project/aging/231117_update_annot/240104_mC_META.csv'\n",
    "gene_annotation_path = '/gale/netapp/home/wtian/refs/mouse/mm10/gencode/v22/gencode.vM22.basic.annotation.gene.flat.tsv.gz'\n",
    "mcds_path = '/ceph/gale-1/qzeng/AmbData/geneslop2k_frac.mcds'\n",
    "mc_type = 'CHN'"
   ]
  },
  {
   "cell_type": "code",
   "execution_count": 3,
   "id": "97bff585-c064-4a4c-9dff-f87efc9ab83b",
   "metadata": {
    "execution": {
     "iopub.execute_input": "2024-05-20T22:13:23.174369Z",
     "iopub.status.busy": "2024-05-20T22:13:23.174092Z",
     "iopub.status.idle": "2024-05-20T22:13:23.178851Z",
     "shell.execute_reply": "2024-05-20T22:13:23.178399Z",
     "shell.execute_reply.started": "2024-05-20T22:13:23.174348Z"
    },
    "tags": []
   },
   "outputs": [],
   "source": [
    "marker_gene_dict = {'Glut Neuron':'Slc17a7',\n",
    "                    'Gaba Neuron':'Gad2',\n",
    "                    'DG Glut':'Dock10', \n",
    "                    'CA1-ProS Glut':'Fibcd1',\n",
    "                    'CA3 Glut':'Rerg', \n",
    "                    'STR D1 Gaba':'Drd1', \n",
    "                    'STR D2 Gaba':'Drd2', \n",
    "                    'L2/3 IT CTX Glut':'Prex1', \n",
    "                    'L4/5 IT CTX Glut':'Rorb',\n",
    "                    'L6 IT CTX Glut':'Xkr7',\n",
    "                    'L5 ET CTX Glut':'Tcerg1l', \n",
    "                    'L5 NP CTX Glut':'Kremen1',\n",
    "                    'L2/3 IT PPP Glut':'Tshz2', \n",
    "                    'L2/3 IT ENT Glut':'Trps1',\n",
    "                    'L6 CT CTX Glut':'Arhgap25', \n",
    "                    'L6b/CT ENT Glut':'Cobll1', \n",
    "                    'PAG Glut':'Tcf7l2', \n",
    "                    'STR-PAL Chst9 Gaba':'Tshz1', \n",
    "                    'STR D1 Sema5a Gaba':'Chn2', \n",
    "                    'LA-BLA-BMA-PA Glut':'Hpcal1',  \n",
    "                    'Sst Gaba':'Sst',  \n",
    "                    'Pvalb Gaba':'Pvalb', \n",
    "                     'Oligo NN':'Mobp',\n",
    "                     'Astro-TE NN':'Slc1a2', \n",
    "                     'Microglia NN':'Csf1r',\n",
    "                     'OPC NN':'Pdgfra',\n",
    "                    }"
   ]
  },
  {
   "cell_type": "code",
   "execution_count": 4,
   "id": "85b78cb8-09d9-4a2d-8ecf-10e333fb7301",
   "metadata": {
    "execution": {
     "iopub.execute_input": "2024-05-20T22:13:23.180096Z",
     "iopub.status.busy": "2024-05-20T22:13:23.179848Z",
     "iopub.status.idle": "2024-05-20T22:13:24.092521Z",
     "shell.execute_reply": "2024-05-20T22:13:24.091850Z",
     "shell.execute_reply.started": "2024-05-20T22:13:23.180076Z"
    },
    "tags": []
   },
   "outputs": [
    {
     "name": "stderr",
     "output_type": "stream",
     "text": [
      "/home/qz/miniconda3/envs/allcools/lib/python3.7/site-packages/IPython/core/interactiveshell.py:3552: DtypeWarning: Columns (22) have mixed types.Specify dtype option on import or set low_memory=False.\n",
      "  exec(code_obj, self.user_global_ns, self.user_ns)\n"
     ]
    }
   ],
   "source": [
    "mc_meta = pd.read_csv(mc_meta_path, index_col = 0)\n",
    "use_mc_meta = mc_meta[mc_meta['AgingMajorType'].isin(marker_gene_dict.keys())]"
   ]
  },
  {
   "cell_type": "code",
   "execution_count": 5,
   "id": "629f0535-7180-48d2-b841-b12212079533",
   "metadata": {
    "execution": {
     "iopub.execute_input": "2024-05-20T22:13:24.093848Z",
     "iopub.status.busy": "2024-05-20T22:13:24.093527Z",
     "iopub.status.idle": "2024-05-20T22:13:24.414408Z",
     "shell.execute_reply": "2024-05-20T22:13:24.413903Z",
     "shell.execute_reply.started": "2024-05-20T22:13:24.093823Z"
    },
    "tags": []
   },
   "outputs": [],
   "source": [
    "gene_meta = pd.read_csv(\n",
    "    '/home/hanliu/ref/mouse/gencode/vm22/gencode.vM22.annotation.gene.flat.tsv.gz',\n",
    "    sep='\\t')\n",
    "id_to_name = gene_meta.set_index('gene_id')['gene_name'].to_dict()\n",
    "name_to_id = gene_meta.set_index('gene_name')['gene_id'].to_dict()"
   ]
  },
  {
   "cell_type": "markdown",
   "id": "d43931ec-f6fa-430b-9d18-0967444ef15c",
   "metadata": {
    "jp-MarkdownHeadingCollapsed": true,
    "tags": []
   },
   "source": [
    "## generate  adata"
   ]
  },
  {
   "cell_type": "code",
   "execution_count": 14,
   "id": "28f4efdb-5838-484a-9361-1e3c107941fb",
   "metadata": {
    "execution": {
     "iopub.execute_input": "2024-01-08T01:53:39.959592Z",
     "iopub.status.busy": "2024-01-08T01:53:39.959322Z",
     "iopub.status.idle": "2024-01-08T01:53:39.963309Z",
     "shell.execute_reply": "2024-01-08T01:53:39.962848Z",
     "shell.execute_reply.started": "2024-01-08T01:53:39.959570Z"
    },
    "tags": []
   },
   "outputs": [],
   "source": [
    "marker_genes = [name_to_id[gene_name] for gene_name in marker_gene_dict.values()]"
   ]
  },
  {
   "cell_type": "code",
   "execution_count": 15,
   "id": "c9fc4300-7bd9-4013-8600-391ba76c4197",
   "metadata": {
    "execution": {
     "iopub.execute_input": "2024-01-08T01:53:40.549941Z",
     "iopub.status.busy": "2024-01-08T01:53:40.549738Z",
     "iopub.status.idle": "2024-01-08T01:53:40.722012Z",
     "shell.execute_reply": "2024-01-08T01:53:40.721528Z",
     "shell.execute_reply.started": "2024-01-08T01:53:40.549922Z"
    },
    "tags": []
   },
   "outputs": [
    {
     "data": {
      "text/html": [
       "<div><svg style=\"position: absolute; width: 0; height: 0; overflow: hidden\">\n",
       "<defs>\n",
       "<symbol id=\"icon-database\" viewBox=\"0 0 32 32\">\n",
       "<path d=\"M16 0c-8.837 0-16 2.239-16 5v4c0 2.761 7.163 5 16 5s16-2.239 16-5v-4c0-2.761-7.163-5-16-5z\"></path>\n",
       "<path d=\"M16 17c-8.837 0-16-2.239-16-5v6c0 2.761 7.163 5 16 5s16-2.239 16-5v-6c0 2.761-7.163 5-16 5z\"></path>\n",
       "<path d=\"M16 26c-8.837 0-16-2.239-16-5v6c0 2.761 7.163 5 16 5s16-2.239 16-5v-6c0 2.761-7.163 5-16 5z\"></path>\n",
       "</symbol>\n",
       "<symbol id=\"icon-file-text2\" viewBox=\"0 0 32 32\">\n",
       "<path d=\"M28.681 7.159c-0.694-0.947-1.662-2.053-2.724-3.116s-2.169-2.030-3.116-2.724c-1.612-1.182-2.393-1.319-2.841-1.319h-15.5c-1.378 0-2.5 1.121-2.5 2.5v27c0 1.378 1.122 2.5 2.5 2.5h23c1.378 0 2.5-1.122 2.5-2.5v-19.5c0-0.448-0.137-1.23-1.319-2.841zM24.543 5.457c0.959 0.959 1.712 1.825 2.268 2.543h-4.811v-4.811c0.718 0.556 1.584 1.309 2.543 2.268zM28 29.5c0 0.271-0.229 0.5-0.5 0.5h-23c-0.271 0-0.5-0.229-0.5-0.5v-27c0-0.271 0.229-0.5 0.5-0.5 0 0 15.499-0 15.5 0v7c0 0.552 0.448 1 1 1h7v19.5z\"></path>\n",
       "<path d=\"M23 26h-14c-0.552 0-1-0.448-1-1s0.448-1 1-1h14c0.552 0 1 0.448 1 1s-0.448 1-1 1z\"></path>\n",
       "<path d=\"M23 22h-14c-0.552 0-1-0.448-1-1s0.448-1 1-1h14c0.552 0 1 0.448 1 1s-0.448 1-1 1z\"></path>\n",
       "<path d=\"M23 18h-14c-0.552 0-1-0.448-1-1s0.448-1 1-1h14c0.552 0 1 0.448 1 1s-0.448 1-1 1z\"></path>\n",
       "</symbol>\n",
       "</defs>\n",
       "</svg>\n",
       "<style>/* CSS stylesheet for displaying xarray objects in jupyterlab.\n",
       " *\n",
       " */\n",
       "\n",
       ":root {\n",
       "  --xr-font-color0: var(--jp-content-font-color0, rgba(0, 0, 0, 1));\n",
       "  --xr-font-color2: var(--jp-content-font-color2, rgba(0, 0, 0, 0.54));\n",
       "  --xr-font-color3: var(--jp-content-font-color3, rgba(0, 0, 0, 0.38));\n",
       "  --xr-border-color: var(--jp-border-color2, #e0e0e0);\n",
       "  --xr-disabled-color: var(--jp-layout-color3, #bdbdbd);\n",
       "  --xr-background-color: var(--jp-layout-color0, white);\n",
       "  --xr-background-color-row-even: var(--jp-layout-color1, white);\n",
       "  --xr-background-color-row-odd: var(--jp-layout-color2, #eeeeee);\n",
       "}\n",
       "\n",
       "html[theme=dark],\n",
       "body.vscode-dark {\n",
       "  --xr-font-color0: rgba(255, 255, 255, 1);\n",
       "  --xr-font-color2: rgba(255, 255, 255, 0.54);\n",
       "  --xr-font-color3: rgba(255, 255, 255, 0.38);\n",
       "  --xr-border-color: #1F1F1F;\n",
       "  --xr-disabled-color: #515151;\n",
       "  --xr-background-color: #111111;\n",
       "  --xr-background-color-row-even: #111111;\n",
       "  --xr-background-color-row-odd: #313131;\n",
       "}\n",
       "\n",
       ".xr-wrap {\n",
       "  display: block;\n",
       "  min-width: 300px;\n",
       "  max-width: 700px;\n",
       "}\n",
       "\n",
       ".xr-text-repr-fallback {\n",
       "  /* fallback to plain text repr when CSS is not injected (untrusted notebook) */\n",
       "  display: none;\n",
       "}\n",
       "\n",
       ".xr-header {\n",
       "  padding-top: 6px;\n",
       "  padding-bottom: 6px;\n",
       "  margin-bottom: 4px;\n",
       "  border-bottom: solid 1px var(--xr-border-color);\n",
       "}\n",
       "\n",
       ".xr-header > div,\n",
       ".xr-header > ul {\n",
       "  display: inline;\n",
       "  margin-top: 0;\n",
       "  margin-bottom: 0;\n",
       "}\n",
       "\n",
       ".xr-obj-type,\n",
       ".xr-array-name {\n",
       "  margin-left: 2px;\n",
       "  margin-right: 10px;\n",
       "}\n",
       "\n",
       ".xr-obj-type {\n",
       "  color: var(--xr-font-color2);\n",
       "}\n",
       "\n",
       ".xr-sections {\n",
       "  padding-left: 0 !important;\n",
       "  display: grid;\n",
       "  grid-template-columns: 150px auto auto 1fr 20px 20px;\n",
       "}\n",
       "\n",
       ".xr-section-item {\n",
       "  display: contents;\n",
       "}\n",
       "\n",
       ".xr-section-item input {\n",
       "  display: none;\n",
       "}\n",
       "\n",
       ".xr-section-item input + label {\n",
       "  color: var(--xr-disabled-color);\n",
       "}\n",
       "\n",
       ".xr-section-item input:enabled + label {\n",
       "  cursor: pointer;\n",
       "  color: var(--xr-font-color2);\n",
       "}\n",
       "\n",
       ".xr-section-item input:enabled + label:hover {\n",
       "  color: var(--xr-font-color0);\n",
       "}\n",
       "\n",
       ".xr-section-summary {\n",
       "  grid-column: 1;\n",
       "  color: var(--xr-font-color2);\n",
       "  font-weight: 500;\n",
       "}\n",
       "\n",
       ".xr-section-summary > span {\n",
       "  display: inline-block;\n",
       "  padding-left: 0.5em;\n",
       "}\n",
       "\n",
       ".xr-section-summary-in:disabled + label {\n",
       "  color: var(--xr-font-color2);\n",
       "}\n",
       "\n",
       ".xr-section-summary-in + label:before {\n",
       "  display: inline-block;\n",
       "  content: '►';\n",
       "  font-size: 11px;\n",
       "  width: 15px;\n",
       "  text-align: center;\n",
       "}\n",
       "\n",
       ".xr-section-summary-in:disabled + label:before {\n",
       "  color: var(--xr-disabled-color);\n",
       "}\n",
       "\n",
       ".xr-section-summary-in:checked + label:before {\n",
       "  content: '▼';\n",
       "}\n",
       "\n",
       ".xr-section-summary-in:checked + label > span {\n",
       "  display: none;\n",
       "}\n",
       "\n",
       ".xr-section-summary,\n",
       ".xr-section-inline-details {\n",
       "  padding-top: 4px;\n",
       "  padding-bottom: 4px;\n",
       "}\n",
       "\n",
       ".xr-section-inline-details {\n",
       "  grid-column: 2 / -1;\n",
       "}\n",
       "\n",
       ".xr-section-details {\n",
       "  display: none;\n",
       "  grid-column: 1 / -1;\n",
       "  margin-bottom: 5px;\n",
       "}\n",
       "\n",
       ".xr-section-summary-in:checked ~ .xr-section-details {\n",
       "  display: contents;\n",
       "}\n",
       "\n",
       ".xr-array-wrap {\n",
       "  grid-column: 1 / -1;\n",
       "  display: grid;\n",
       "  grid-template-columns: 20px auto;\n",
       "}\n",
       "\n",
       ".xr-array-wrap > label {\n",
       "  grid-column: 1;\n",
       "  vertical-align: top;\n",
       "}\n",
       "\n",
       ".xr-preview {\n",
       "  color: var(--xr-font-color3);\n",
       "}\n",
       "\n",
       ".xr-array-preview,\n",
       ".xr-array-data {\n",
       "  padding: 0 5px !important;\n",
       "  grid-column: 2;\n",
       "}\n",
       "\n",
       ".xr-array-data,\n",
       ".xr-array-in:checked ~ .xr-array-preview {\n",
       "  display: none;\n",
       "}\n",
       "\n",
       ".xr-array-in:checked ~ .xr-array-data,\n",
       ".xr-array-preview {\n",
       "  display: inline-block;\n",
       "}\n",
       "\n",
       ".xr-dim-list {\n",
       "  display: inline-block !important;\n",
       "  list-style: none;\n",
       "  padding: 0 !important;\n",
       "  margin: 0;\n",
       "}\n",
       "\n",
       ".xr-dim-list li {\n",
       "  display: inline-block;\n",
       "  padding: 0;\n",
       "  margin: 0;\n",
       "}\n",
       "\n",
       ".xr-dim-list:before {\n",
       "  content: '(';\n",
       "}\n",
       "\n",
       ".xr-dim-list:after {\n",
       "  content: ')';\n",
       "}\n",
       "\n",
       ".xr-dim-list li:not(:last-child):after {\n",
       "  content: ',';\n",
       "  padding-right: 5px;\n",
       "}\n",
       "\n",
       ".xr-has-index {\n",
       "  font-weight: bold;\n",
       "}\n",
       "\n",
       ".xr-var-list,\n",
       ".xr-var-item {\n",
       "  display: contents;\n",
       "}\n",
       "\n",
       ".xr-var-item > div,\n",
       ".xr-var-item label,\n",
       ".xr-var-item > .xr-var-name span {\n",
       "  background-color: var(--xr-background-color-row-even);\n",
       "  margin-bottom: 0;\n",
       "}\n",
       "\n",
       ".xr-var-item > .xr-var-name:hover span {\n",
       "  padding-right: 5px;\n",
       "}\n",
       "\n",
       ".xr-var-list > li:nth-child(odd) > div,\n",
       ".xr-var-list > li:nth-child(odd) > label,\n",
       ".xr-var-list > li:nth-child(odd) > .xr-var-name span {\n",
       "  background-color: var(--xr-background-color-row-odd);\n",
       "}\n",
       "\n",
       ".xr-var-name {\n",
       "  grid-column: 1;\n",
       "}\n",
       "\n",
       ".xr-var-dims {\n",
       "  grid-column: 2;\n",
       "}\n",
       "\n",
       ".xr-var-dtype {\n",
       "  grid-column: 3;\n",
       "  text-align: right;\n",
       "  color: var(--xr-font-color2);\n",
       "}\n",
       "\n",
       ".xr-var-preview {\n",
       "  grid-column: 4;\n",
       "}\n",
       "\n",
       ".xr-var-name,\n",
       ".xr-var-dims,\n",
       ".xr-var-dtype,\n",
       ".xr-preview,\n",
       ".xr-attrs dt {\n",
       "  white-space: nowrap;\n",
       "  overflow: hidden;\n",
       "  text-overflow: ellipsis;\n",
       "  padding-right: 10px;\n",
       "}\n",
       "\n",
       ".xr-var-name:hover,\n",
       ".xr-var-dims:hover,\n",
       ".xr-var-dtype:hover,\n",
       ".xr-attrs dt:hover {\n",
       "  overflow: visible;\n",
       "  width: auto;\n",
       "  z-index: 1;\n",
       "}\n",
       "\n",
       ".xr-var-attrs,\n",
       ".xr-var-data {\n",
       "  display: none;\n",
       "  background-color: var(--xr-background-color) !important;\n",
       "  padding-bottom: 5px !important;\n",
       "}\n",
       "\n",
       ".xr-var-attrs-in:checked ~ .xr-var-attrs,\n",
       ".xr-var-data-in:checked ~ .xr-var-data {\n",
       "  display: block;\n",
       "}\n",
       "\n",
       ".xr-var-data > table {\n",
       "  float: right;\n",
       "}\n",
       "\n",
       ".xr-var-name span,\n",
       ".xr-var-data,\n",
       ".xr-attrs {\n",
       "  padding-left: 25px !important;\n",
       "}\n",
       "\n",
       ".xr-attrs,\n",
       ".xr-var-attrs,\n",
       ".xr-var-data {\n",
       "  grid-column: 1 / -1;\n",
       "}\n",
       "\n",
       "dl.xr-attrs {\n",
       "  padding: 0;\n",
       "  margin: 0;\n",
       "  display: grid;\n",
       "  grid-template-columns: 125px auto;\n",
       "}\n",
       "\n",
       ".xr-attrs dt,\n",
       ".xr-attrs dd {\n",
       "  padding: 0;\n",
       "  margin: 0;\n",
       "  float: left;\n",
       "  padding-right: 10px;\n",
       "  width: auto;\n",
       "}\n",
       "\n",
       ".xr-attrs dt {\n",
       "  font-weight: normal;\n",
       "  grid-column: 1;\n",
       "}\n",
       "\n",
       ".xr-attrs dt:hover span {\n",
       "  display: inline-block;\n",
       "  background: var(--xr-background-color);\n",
       "  padding-right: 10px;\n",
       "}\n",
       "\n",
       ".xr-attrs dd {\n",
       "  grid-column: 2;\n",
       "  white-space: pre-wrap;\n",
       "  word-break: break-all;\n",
       "}\n",
       "\n",
       ".xr-icon-database,\n",
       ".xr-icon-file-text2 {\n",
       "  display: inline-block;\n",
       "  vertical-align: middle;\n",
       "  width: 1em;\n",
       "  height: 1.5em !important;\n",
       "  stroke-width: 0;\n",
       "  stroke: currentColor;\n",
       "  fill: currentColor;\n",
       "}\n",
       "</style><pre class='xr-text-repr-fallback'>&lt;xarray.DataArray &#x27;geneslop2k_da_frac&#x27; (cell: 93723, geneslop2k: 26, mc_type: 2)&gt;\n",
       "dask.array&lt;getitem, shape=(93723, 26, 2), dtype=float32, chunksize=(10000, 26, 1), chunktype=numpy.ndarray&gt;\n",
       "Coordinates:\n",
       "  * cell              (cell) &lt;U42 &#x27;AMB_200218_9mo_8E_9H_8J_9J_2_P1-3-B24-P5&#x27; ...\n",
       "  * geneslop2k        (geneslop2k) &lt;U21 &#x27;ENSMUSG00000070570.5&#x27; ... &#x27;ENSMUSG00...\n",
       "    geneslop2k_chrom  (geneslop2k) &lt;U5 &#x27;chr7&#x27; &#x27;chr2&#x27; &#x27;chr1&#x27; ... &#x27;chr18&#x27; &#x27;chr5&#x27;\n",
       "    geneslop2k_end    (geneslop2k) int32 45178141 22695873 ... 61134148 75200214\n",
       "    geneslop2k_start  (geneslop2k) int32 45161948 22620204 ... 61098597 75150291\n",
       "  * mc_type           (mc_type) &lt;U3 &#x27;CGN&#x27; &#x27;CHN&#x27;\n",
       "    strand_type       &lt;U4 &#x27;both&#x27;</pre><div class='xr-wrap' hidden><div class='xr-header'><div class='xr-obj-type'>xarray.DataArray</div><div class='xr-array-name'>'geneslop2k_da_frac'</div><ul class='xr-dim-list'><li><span class='xr-has-index'>cell</span>: 93723</li><li><span class='xr-has-index'>geneslop2k</span>: 26</li><li><span class='xr-has-index'>mc_type</span>: 2</li></ul></div><ul class='xr-sections'><li class='xr-section-item'><div class='xr-array-wrap'><input id='section-b03efe5c-8aac-47a9-b32f-a0e96bd43a31' class='xr-array-in' type='checkbox' checked><label for='section-b03efe5c-8aac-47a9-b32f-a0e96bd43a31' title='Show/hide data repr'><svg class='icon xr-icon-database'><use xlink:href='#icon-database'></use></svg></label><div class='xr-array-preview xr-preview'><span>dask.array&lt;chunksize=(10000, 26, 1), meta=np.ndarray&gt;</span></div><div class='xr-array-data'><table>\n",
       "    <tr>\n",
       "        <td>\n",
       "            <table>\n",
       "                <thead>\n",
       "                    <tr>\n",
       "                        <td> </td>\n",
       "                        <th> Array </th>\n",
       "                        <th> Chunk </th>\n",
       "                    </tr>\n",
       "                </thead>\n",
       "                <tbody>\n",
       "                    \n",
       "                    <tr>\n",
       "                        <th> Bytes </th>\n",
       "                        <td> 18.59 MiB </td>\n",
       "                        <td> 0.99 MiB </td>\n",
       "                    </tr>\n",
       "                    \n",
       "                    <tr>\n",
       "                        <th> Shape </th>\n",
       "                        <td> (93723, 26, 2) </td>\n",
       "                        <td> (10000, 26, 1) </td>\n",
       "                    </tr>\n",
       "                    <tr>\n",
       "                        <th> Count </th>\n",
       "                        <td> 41 Tasks </td>\n",
       "                        <td> 20 Chunks </td>\n",
       "                    </tr>\n",
       "                    <tr>\n",
       "                    <th> Type </th>\n",
       "                    <td> float32 </td>\n",
       "                    <td> numpy.ndarray </td>\n",
       "                    </tr>\n",
       "                </tbody>\n",
       "            </table>\n",
       "        </td>\n",
       "        <td>\n",
       "        <svg width=\"156\" height=\"146\" style=\"stroke:rgb(0,0,0);stroke-width:1\" >\n",
       "\n",
       "  <!-- Horizontal lines -->\n",
       "  <line x1=\"10\" y1=\"0\" x2=\"80\" y2=\"70\" style=\"stroke-width:2\" />\n",
       "  <line x1=\"10\" y1=\"25\" x2=\"80\" y2=\"96\" style=\"stroke-width:2\" />\n",
       "\n",
       "  <!-- Vertical lines -->\n",
       "  <line x1=\"10\" y1=\"0\" x2=\"10\" y2=\"25\" style=\"stroke-width:2\" />\n",
       "  <line x1=\"17\" y1=\"7\" x2=\"17\" y2=\"32\" />\n",
       "  <line x1=\"25\" y1=\"15\" x2=\"25\" y2=\"40\" />\n",
       "  <line x1=\"32\" y1=\"22\" x2=\"32\" y2=\"48\" />\n",
       "  <line x1=\"40\" y1=\"30\" x2=\"40\" y2=\"55\" />\n",
       "  <line x1=\"47\" y1=\"37\" x2=\"47\" y2=\"63\" />\n",
       "  <line x1=\"55\" y1=\"45\" x2=\"55\" y2=\"70\" />\n",
       "  <line x1=\"62\" y1=\"52\" x2=\"62\" y2=\"78\" />\n",
       "  <line x1=\"70\" y1=\"60\" x2=\"70\" y2=\"85\" />\n",
       "  <line x1=\"77\" y1=\"67\" x2=\"77\" y2=\"93\" />\n",
       "  <line x1=\"80\" y1=\"70\" x2=\"80\" y2=\"96\" style=\"stroke-width:2\" />\n",
       "\n",
       "  <!-- Colored Rectangle -->\n",
       "  <polygon points=\"10.0,0.0 80.58823529411765,70.58823529411765 80.58823529411765,96.00085180870013 10.0,25.412616514582485\" style=\"fill:#ECB172A0;stroke-width:0\"/>\n",
       "\n",
       "  <!-- Horizontal lines -->\n",
       "  <line x1=\"10\" y1=\"0\" x2=\"35\" y2=\"0\" style=\"stroke-width:2\" />\n",
       "  <line x1=\"17\" y1=\"7\" x2=\"42\" y2=\"7\" />\n",
       "  <line x1=\"25\" y1=\"15\" x2=\"50\" y2=\"15\" />\n",
       "  <line x1=\"32\" y1=\"22\" x2=\"58\" y2=\"22\" />\n",
       "  <line x1=\"40\" y1=\"30\" x2=\"65\" y2=\"30\" />\n",
       "  <line x1=\"47\" y1=\"37\" x2=\"73\" y2=\"37\" />\n",
       "  <line x1=\"55\" y1=\"45\" x2=\"80\" y2=\"45\" />\n",
       "  <line x1=\"62\" y1=\"52\" x2=\"88\" y2=\"52\" />\n",
       "  <line x1=\"70\" y1=\"60\" x2=\"95\" y2=\"60\" />\n",
       "  <line x1=\"77\" y1=\"67\" x2=\"103\" y2=\"67\" />\n",
       "  <line x1=\"80\" y1=\"70\" x2=\"106\" y2=\"70\" style=\"stroke-width:2\" />\n",
       "\n",
       "  <!-- Vertical lines -->\n",
       "  <line x1=\"10\" y1=\"0\" x2=\"80\" y2=\"70\" style=\"stroke-width:2\" />\n",
       "  <line x1=\"22\" y1=\"0\" x2=\"93\" y2=\"70\" />\n",
       "  <line x1=\"35\" y1=\"0\" x2=\"106\" y2=\"70\" style=\"stroke-width:2\" />\n",
       "\n",
       "  <!-- Colored Rectangle -->\n",
       "  <polygon points=\"10.0,0.0 35.41261651458248,0.0 106.00085180870013,70.58823529411765 80.58823529411765,70.58823529411765\" style=\"fill:#ECB172A0;stroke-width:0\"/>\n",
       "\n",
       "  <!-- Horizontal lines -->\n",
       "  <line x1=\"80\" y1=\"70\" x2=\"106\" y2=\"70\" style=\"stroke-width:2\" />\n",
       "  <line x1=\"80\" y1=\"96\" x2=\"106\" y2=\"96\" style=\"stroke-width:2\" />\n",
       "\n",
       "  <!-- Vertical lines -->\n",
       "  <line x1=\"80\" y1=\"70\" x2=\"80\" y2=\"96\" style=\"stroke-width:2\" />\n",
       "  <line x1=\"93\" y1=\"70\" x2=\"93\" y2=\"96\" />\n",
       "  <line x1=\"106\" y1=\"70\" x2=\"106\" y2=\"96\" style=\"stroke-width:2\" />\n",
       "\n",
       "  <!-- Colored Rectangle -->\n",
       "  <polygon points=\"80.58823529411765,70.58823529411765 106.00085180870013,70.58823529411765 106.00085180870013,96.00085180870013 80.58823529411765,96.00085180870013\" style=\"fill:#ECB172A0;stroke-width:0\"/>\n",
       "\n",
       "  <!-- Text -->\n",
       "  <text x=\"93.294544\" y=\"116.000852\" font-size=\"1.0rem\" font-weight=\"100\" text-anchor=\"middle\" >2</text>\n",
       "  <text x=\"126.000852\" y=\"83.294544\" font-size=\"1.0rem\" font-weight=\"100\" text-anchor=\"middle\" transform=\"rotate(0,126.000852,83.294544)\">26</text>\n",
       "  <text x=\"35.294118\" y=\"80.706734\" font-size=\"1.0rem\" font-weight=\"100\" text-anchor=\"middle\" transform=\"rotate(45,35.294118,80.706734)\">93723</text>\n",
       "</svg>\n",
       "        </td>\n",
       "    </tr>\n",
       "</table></div></div></li><li class='xr-section-item'><input id='section-70a45bd5-2472-4b8c-9aa5-bce49e3a0c19' class='xr-section-summary-in' type='checkbox'  checked><label for='section-70a45bd5-2472-4b8c-9aa5-bce49e3a0c19' class='xr-section-summary' >Coordinates: <span>(7)</span></label><div class='xr-section-inline-details'></div><div class='xr-section-details'><ul class='xr-var-list'><li class='xr-var-item'><div class='xr-var-name'><span class='xr-has-index'>cell</span></div><div class='xr-var-dims'>(cell)</div><div class='xr-var-dtype'>&lt;U42</div><div class='xr-var-preview xr-preview'>&#x27;AMB_200218_9mo_8E_9H_8J_9J_2_P1...</div><input id='attrs-5c7e2d5a-c1ea-49ac-b415-1e6fe565e073' class='xr-var-attrs-in' type='checkbox' disabled><label for='attrs-5c7e2d5a-c1ea-49ac-b415-1e6fe565e073' title='Show/Hide attributes'><svg class='icon xr-icon-file-text2'><use xlink:href='#icon-file-text2'></use></svg></label><input id='data-e6a2fac3-4c78-4113-af5f-18490a3edb93' class='xr-var-data-in' type='checkbox'><label for='data-e6a2fac3-4c78-4113-af5f-18490a3edb93' title='Show/Hide data repr'><svg class='icon xr-icon-database'><use xlink:href='#icon-database'></use></svg></label><div class='xr-var-attrs'><dl class='xr-attrs'></dl></div><div class='xr-var-data'><pre>array([&#x27;AMB_200218_9mo_8E_9H_8J_9J_2_P1-3-B24-P5&#x27;,\n",
       "       &#x27;AMB_200218_9mo_8E_9H_8J_9J_2_P1-3-B24-L6&#x27;,\n",
       "       &#x27;AMB_200218_9mo_8E_9H_8J_9J_2_P1-3-B24-O17&#x27;, ..., &#x27;12E_M_3059&#x27;,\n",
       "       &#x27;12E_M_3061&#x27;, &#x27;12E_M_3062&#x27;], dtype=&#x27;&lt;U42&#x27;)</pre></div></li><li class='xr-var-item'><div class='xr-var-name'><span class='xr-has-index'>geneslop2k</span></div><div class='xr-var-dims'>(geneslop2k)</div><div class='xr-var-dtype'>&lt;U21</div><div class='xr-var-preview xr-preview'>&#x27;ENSMUSG00000070570.5&#x27; ... &#x27;ENSM...</div><input id='attrs-4a87574b-1437-489b-9564-81626803a218' class='xr-var-attrs-in' type='checkbox' disabled><label for='attrs-4a87574b-1437-489b-9564-81626803a218' title='Show/Hide attributes'><svg class='icon xr-icon-file-text2'><use xlink:href='#icon-file-text2'></use></svg></label><input id='data-7a7bd7a4-b1c4-4661-91e3-973fa024357d' class='xr-var-data-in' type='checkbox'><label for='data-7a7bd7a4-b1c4-4661-91e3-973fa024357d' title='Show/Hide data repr'><svg class='icon xr-icon-database'><use xlink:href='#icon-database'></use></svg></label><div class='xr-var-attrs'><dl class='xr-attrs'></dl></div><div class='xr-var-data'><pre>array([&#x27;ENSMUSG00000070570.5&#x27;, &#x27;ENSMUSG00000026787.3&#x27;, &#x27;ENSMUSG00000038608.15&#x27;,\n",
       "       &#x27;ENSMUSG00000026841.7&#x27;, &#x27;ENSMUSG00000030222.13&#x27;, &#x27;ENSMUSG00000021478.6&#x27;,\n",
       "       &#x27;ENSMUSG00000032259.8&#x27;, &#x27;ENSMUSG00000039621.13&#x27;,\n",
       "       &#x27;ENSMUSG00000036192.15&#x27;, &#x27;ENSMUSG00000042631.7&#x27;, &#x27;ENSMUSG00000091002.2&#x27;,\n",
       "       &#x27;ENSMUSG00000020393.16&#x27;, &#x27;ENSMUSG00000047907.11&#x27;,\n",
       "       &#x27;ENSMUSG00000038679.16&#x27;, &#x27;ENSMUSG00000030047.14&#x27;,\n",
       "       &#x27;ENSMUSG00000034903.18&#x27;, &#x27;ENSMUSG00000024985.19&#x27;,\n",
       "       &#x27;ENSMUSG00000046982.11&#x27;, &#x27;ENSMUSG00000004633.17&#x27;,\n",
       "       &#x27;ENSMUSG00000071379.2&#x27;, &#x27;ENSMUSG00000004366.4&#x27;, &#x27;ENSMUSG00000005716.16&#x27;,\n",
       "       &#x27;ENSMUSG00000032517.16&#x27;, &#x27;ENSMUSG00000005089.15&#x27;,\n",
       "       &#x27;ENSMUSG00000024621.16&#x27;, &#x27;ENSMUSG00000029231.15&#x27;], dtype=&#x27;&lt;U21&#x27;)</pre></div></li><li class='xr-var-item'><div class='xr-var-name'><span>geneslop2k_chrom</span></div><div class='xr-var-dims'>(geneslop2k)</div><div class='xr-var-dtype'>&lt;U5</div><div class='xr-var-preview xr-preview'>&#x27;chr7&#x27; &#x27;chr2&#x27; ... &#x27;chr18&#x27; &#x27;chr5&#x27;</div><input id='attrs-a0ac3984-8eca-45da-bc7c-d0de39b6531e' class='xr-var-attrs-in' type='checkbox' disabled><label for='attrs-a0ac3984-8eca-45da-bc7c-d0de39b6531e' title='Show/Hide attributes'><svg class='icon xr-icon-file-text2'><use xlink:href='#icon-file-text2'></use></svg></label><input id='data-9d7c7763-8d71-4a47-be51-407d55384d02' class='xr-var-data-in' type='checkbox'><label for='data-9d7c7763-8d71-4a47-be51-407d55384d02' title='Show/Hide data repr'><svg class='icon xr-icon-database'><use xlink:href='#icon-database'></use></svg></label><div class='xr-var-attrs'><dl class='xr-attrs'></dl></div><div class='xr-var-data'><pre>array([&#x27;chr7&#x27;, &#x27;chr2&#x27;, &#x27;chr1&#x27;, &#x27;chr2&#x27;, &#x27;chr6&#x27;, &#x27;chr13&#x27;, &#x27;chr9&#x27;, &#x27;chr2&#x27;,\n",
       "       &#x27;chr19&#x27;, &#x27;chr2&#x27;, &#x27;chr7&#x27;, &#x27;chr11&#x27;, &#x27;chr2&#x27;, &#x27;chr15&#x27;, &#x27;chr6&#x27;, &#x27;chr2&#x27;,\n",
       "       &#x27;chr19&#x27;, &#x27;chr18&#x27;, &#x27;chr6&#x27;, &#x27;chr12&#x27;, &#x27;chr16&#x27;, &#x27;chr15&#x27;, &#x27;chr9&#x27;,\n",
       "       &#x27;chr2&#x27;, &#x27;chr18&#x27;, &#x27;chr5&#x27;], dtype=&#x27;&lt;U5&#x27;)</pre></div></li><li class='xr-var-item'><div class='xr-var-name'><span>geneslop2k_end</span></div><div class='xr-var-dims'>(geneslop2k)</div><div class='xr-var-dtype'>int32</div><div class='xr-var-preview xr-preview'>45178141 22695873 ... 75200214</div><input id='attrs-291eabe9-4b4c-41ca-b143-d2e815d64e15' class='xr-var-attrs-in' type='checkbox' disabled><label for='attrs-291eabe9-4b4c-41ca-b143-d2e815d64e15' title='Show/Hide attributes'><svg class='icon xr-icon-file-text2'><use xlink:href='#icon-file-text2'></use></svg></label><input id='data-529d56d2-b8d5-4e6e-8cb3-644e2f893d2a' class='xr-var-data-in' type='checkbox'><label for='data-529d56d2-b8d5-4e6e-8cb3-644e2f893d2a' title='Show/Hide data repr'><svg class='icon xr-icon-database'><use xlink:href='#icon-database'></use></svg></label><div class='xr-var-attrs'><dl class='xr-attrs'></dl></div><div class='xr-var-data'><pre>array([ 45178141,  22695873,  80760526,  31848004, 137172496,  54057704,\n",
       "        49410176, 166715831,  19113195, 153057774, 138399729,   5263557,\n",
       "       170073815,  50892462,  87535258,  65241402,  55935653,  84089705,\n",
       "        54303809,  17793932,  23892957,  78208399, 120183483, 102792783,\n",
       "        61134148,  75200214], dtype=int32)</pre></div></li><li class='xr-var-item'><div class='xr-var-name'><span>geneslop2k_start</span></div><div class='xr-var-dims'>(geneslop2k)</div><div class='xr-var-dtype'>int32</div><div class='xr-var-preview xr-preview'>45161948 22620204 ... 75150291</div><input id='attrs-69ff93e7-2b36-4d8e-910b-28c94fb0ea0e' class='xr-var-attrs-in' type='checkbox' disabled><label for='attrs-69ff93e7-2b36-4d8e-910b-28c94fb0ea0e' title='Show/Hide attributes'><svg class='icon xr-icon-file-text2'><use xlink:href='#icon-file-text2'></use></svg></label><input id='data-d01d1f38-255a-4e14-890c-bb9f7dde1d3a' class='xr-var-data-in' type='checkbox'><label for='data-d01d1f38-255a-4e14-890c-bb9f7dde1d3a' title='Show/Hide data repr'><svg class='icon xr-icon-database'><use xlink:href='#icon-database'></use></svg></label><div class='xr-var-attrs'><dl class='xr-attrs'></dl></div><div class='xr-var-data'><pre>array([ 45161948,  22620204,  80499072,  31811289, 137052824,  54049182,\n",
       "        49338626, 166564341,  18928604, 153029851, 138206973,   5189551,\n",
       "       169631012,  50652751,  87456544,  65086338,  55739819,  84009626,\n",
       "        54037553,  17688855,  23887572,  78189113, 120147706, 102656658,\n",
       "        61098597,  75150291], dtype=int32)</pre></div></li><li class='xr-var-item'><div class='xr-var-name'><span class='xr-has-index'>mc_type</span></div><div class='xr-var-dims'>(mc_type)</div><div class='xr-var-dtype'>&lt;U3</div><div class='xr-var-preview xr-preview'>&#x27;CGN&#x27; &#x27;CHN&#x27;</div><input id='attrs-09bdfb72-ab72-43f7-9e71-f8f6d8b722aa' class='xr-var-attrs-in' type='checkbox' disabled><label for='attrs-09bdfb72-ab72-43f7-9e71-f8f6d8b722aa' title='Show/Hide attributes'><svg class='icon xr-icon-file-text2'><use xlink:href='#icon-file-text2'></use></svg></label><input id='data-2f5b3b2a-8e29-4325-b8b8-8a2ed0ac8cce' class='xr-var-data-in' type='checkbox'><label for='data-2f5b3b2a-8e29-4325-b8b8-8a2ed0ac8cce' title='Show/Hide data repr'><svg class='icon xr-icon-database'><use xlink:href='#icon-database'></use></svg></label><div class='xr-var-attrs'><dl class='xr-attrs'></dl></div><div class='xr-var-data'><pre>array([&#x27;CGN&#x27;, &#x27;CHN&#x27;], dtype=&#x27;&lt;U3&#x27;)</pre></div></li><li class='xr-var-item'><div class='xr-var-name'><span>strand_type</span></div><div class='xr-var-dims'>()</div><div class='xr-var-dtype'>&lt;U4</div><div class='xr-var-preview xr-preview'>&#x27;both&#x27;</div><input id='attrs-4e86587d-2c0c-4ff4-9311-e555d82f6340' class='xr-var-attrs-in' type='checkbox' disabled><label for='attrs-4e86587d-2c0c-4ff4-9311-e555d82f6340' title='Show/Hide attributes'><svg class='icon xr-icon-file-text2'><use xlink:href='#icon-file-text2'></use></svg></label><input id='data-8ebf9ea9-bf57-4084-ad15-51e991665b22' class='xr-var-data-in' type='checkbox'><label for='data-8ebf9ea9-bf57-4084-ad15-51e991665b22' title='Show/Hide data repr'><svg class='icon xr-icon-database'><use xlink:href='#icon-database'></use></svg></label><div class='xr-var-attrs'><dl class='xr-attrs'></dl></div><div class='xr-var-data'><pre>array(&#x27;both&#x27;, dtype=&#x27;&lt;U4&#x27;)</pre></div></li></ul></div></li><li class='xr-section-item'><input id='section-a428d8ec-7d3e-4e78-9c9f-7229f48236ef' class='xr-section-summary-in' type='checkbox' disabled ><label for='section-a428d8ec-7d3e-4e78-9c9f-7229f48236ef' class='xr-section-summary'  title='Expand/collapse section'>Attributes: <span>(0)</span></label><div class='xr-section-inline-details'></div><div class='xr-section-details'><dl class='xr-attrs'></dl></div></li></ul></div></div>"
      ],
      "text/plain": [
       "<xarray.DataArray 'geneslop2k_da_frac' (cell: 93723, geneslop2k: 26, mc_type: 2)>\n",
       "dask.array<getitem, shape=(93723, 26, 2), dtype=float32, chunksize=(10000, 26, 1), chunktype=numpy.ndarray>\n",
       "Coordinates:\n",
       "  * cell              (cell) <U42 'AMB_200218_9mo_8E_9H_8J_9J_2_P1-3-B24-P5' ...\n",
       "  * geneslop2k        (geneslop2k) <U21 'ENSMUSG00000070570.5' ... 'ENSMUSG00...\n",
       "    geneslop2k_chrom  (geneslop2k) <U5 'chr7' 'chr2' 'chr1' ... 'chr18' 'chr5'\n",
       "    geneslop2k_end    (geneslop2k) int32 45178141 22695873 ... 61134148 75200214\n",
       "    geneslop2k_start  (geneslop2k) int32 45161948 22620204 ... 61098597 75150291\n",
       "  * mc_type           (mc_type) <U3 'CGN' 'CHN'\n",
       "    strand_type       <U4 'both'"
      ]
     },
     "execution_count": 15,
     "metadata": {},
     "output_type": "execute_result"
    }
   ],
   "source": [
    "gene_frac_da = MCDS.open(\n",
    "    mcds_path, \n",
    "    obs_dim='cell', \n",
    "    #var_dim='chrom100k',\n",
    "    use_obs=use_mc_meta.index).sel(geneslop2k = marker_genes)['geneslop2k_da_frac']\n",
    "gene_frac_da"
   ]
  },
  {
   "cell_type": "code",
   "execution_count": 16,
   "id": "31258981-6aa5-4ad9-b940-544716326584",
   "metadata": {
    "execution": {
     "iopub.execute_input": "2024-01-08T01:53:42.018584Z",
     "iopub.status.busy": "2024-01-08T01:53:42.018260Z",
     "iopub.status.idle": "2024-01-08T01:54:07.184225Z",
     "shell.execute_reply": "2024-01-08T01:54:07.183525Z",
     "shell.execute_reply.started": "2024-01-08T01:53:42.018563Z"
    },
    "tags": []
   },
   "outputs": [
    {
     "data": {
      "text/html": [
       "<div>\n",
       "<style scoped>\n",
       "    .dataframe tbody tr th:only-of-type {\n",
       "        vertical-align: middle;\n",
       "    }\n",
       "\n",
       "    .dataframe tbody tr th {\n",
       "        vertical-align: top;\n",
       "    }\n",
       "\n",
       "    .dataframe thead th {\n",
       "        text-align: right;\n",
       "    }\n",
       "</style>\n",
       "<table border=\"1\" class=\"dataframe\">\n",
       "  <thead>\n",
       "    <tr style=\"text-align: right;\">\n",
       "      <th></th>\n",
       "      <th>Slc17a7</th>\n",
       "      <th>Gad2</th>\n",
       "      <th>Dock10</th>\n",
       "      <th>Fibcd1</th>\n",
       "      <th>Rerg</th>\n",
       "      <th>Drd1</th>\n",
       "      <th>Drd2</th>\n",
       "      <th>Prex1</th>\n",
       "      <th>Rorb</th>\n",
       "      <th>Xkr7</th>\n",
       "      <th>...</th>\n",
       "      <th>Tcf7l2</th>\n",
       "      <th>Tshz1</th>\n",
       "      <th>Chn2</th>\n",
       "      <th>Hpcal1</th>\n",
       "      <th>Sst</th>\n",
       "      <th>Pvalb</th>\n",
       "      <th>Mobp</th>\n",
       "      <th>Slc1a2</th>\n",
       "      <th>Csf1r</th>\n",
       "      <th>Pdgfra</th>\n",
       "    </tr>\n",
       "    <tr>\n",
       "      <th>cell</th>\n",
       "      <th></th>\n",
       "      <th></th>\n",
       "      <th></th>\n",
       "      <th></th>\n",
       "      <th></th>\n",
       "      <th></th>\n",
       "      <th></th>\n",
       "      <th></th>\n",
       "      <th></th>\n",
       "      <th></th>\n",
       "      <th></th>\n",
       "      <th></th>\n",
       "      <th></th>\n",
       "      <th></th>\n",
       "      <th></th>\n",
       "      <th></th>\n",
       "      <th></th>\n",
       "      <th></th>\n",
       "      <th></th>\n",
       "      <th></th>\n",
       "      <th></th>\n",
       "    </tr>\n",
       "  </thead>\n",
       "  <tbody>\n",
       "    <tr>\n",
       "      <th>AMB_200218_9mo_8E_9H_8J_9J_2_P1-3-B24-P5</th>\n",
       "      <td>-0.557472</td>\n",
       "      <td>-0.251418</td>\n",
       "      <td>-1.582085</td>\n",
       "      <td>-1.692846</td>\n",
       "      <td>-0.389078</td>\n",
       "      <td>-4.222661</td>\n",
       "      <td>-1.637462</td>\n",
       "      <td>-1.941021</td>\n",
       "      <td>-3.188098</td>\n",
       "      <td>-0.307067</td>\n",
       "      <td>...</td>\n",
       "      <td>-1.543939</td>\n",
       "      <td>-1.567998</td>\n",
       "      <td>-1.955807</td>\n",
       "      <td>-1.438887</td>\n",
       "      <td>-1.000000</td>\n",
       "      <td>-1.689057</td>\n",
       "      <td>-1.535129</td>\n",
       "      <td>-0.654123</td>\n",
       "      <td>-0.808754</td>\n",
       "      <td>-1.609819</td>\n",
       "    </tr>\n",
       "    <tr>\n",
       "      <th>AMB_200218_9mo_8E_9H_8J_9J_2_P1-3-B24-L6</th>\n",
       "      <td>-1.330190</td>\n",
       "      <td>-0.640473</td>\n",
       "      <td>-0.300530</td>\n",
       "      <td>-2.196749</td>\n",
       "      <td>-0.402059</td>\n",
       "      <td>-1.000000</td>\n",
       "      <td>-0.963485</td>\n",
       "      <td>-2.401001</td>\n",
       "      <td>-1.822403</td>\n",
       "      <td>-1.000000</td>\n",
       "      <td>...</td>\n",
       "      <td>-1.476436</td>\n",
       "      <td>-1.894606</td>\n",
       "      <td>-1.844892</td>\n",
       "      <td>-1.483013</td>\n",
       "      <td>-2.346156</td>\n",
       "      <td>-2.181489</td>\n",
       "      <td>-3.168222</td>\n",
       "      <td>-1.182779</td>\n",
       "      <td>-1.307965</td>\n",
       "      <td>-0.977331</td>\n",
       "    </tr>\n",
       "    <tr>\n",
       "      <th>AMB_200218_9mo_8E_9H_8J_9J_2_P1-3-B24-O17</th>\n",
       "      <td>-1.101478</td>\n",
       "      <td>-0.399244</td>\n",
       "      <td>-0.948885</td>\n",
       "      <td>-0.729829</td>\n",
       "      <td>-0.811072</td>\n",
       "      <td>-0.891929</td>\n",
       "      <td>-1.514036</td>\n",
       "      <td>-2.539537</td>\n",
       "      <td>-2.425798</td>\n",
       "      <td>-4.063669</td>\n",
       "      <td>...</td>\n",
       "      <td>-1.902287</td>\n",
       "      <td>-1.419420</td>\n",
       "      <td>-1.691228</td>\n",
       "      <td>-1.591563</td>\n",
       "      <td>-1.277406</td>\n",
       "      <td>-0.116557</td>\n",
       "      <td>-1.618874</td>\n",
       "      <td>-0.269000</td>\n",
       "      <td>-0.082797</td>\n",
       "      <td>-0.442246</td>\n",
       "    </tr>\n",
       "    <tr>\n",
       "      <th>AMB_200218_9mo_8E_9H_8J_9J_2_P1-3-B24-M6</th>\n",
       "      <td>-0.596522</td>\n",
       "      <td>-1.625161</td>\n",
       "      <td>-1.523440</td>\n",
       "      <td>-1.740854</td>\n",
       "      <td>-0.146342</td>\n",
       "      <td>-2.039111</td>\n",
       "      <td>-1.235042</td>\n",
       "      <td>-1.232992</td>\n",
       "      <td>-2.558733</td>\n",
       "      <td>-1.950681</td>\n",
       "      <td>...</td>\n",
       "      <td>-2.222006</td>\n",
       "      <td>-2.042578</td>\n",
       "      <td>-2.576674</td>\n",
       "      <td>-1.269941</td>\n",
       "      <td>-1.990205</td>\n",
       "      <td>-1.136035</td>\n",
       "      <td>-1.671725</td>\n",
       "      <td>-0.310761</td>\n",
       "      <td>-0.871429</td>\n",
       "      <td>-0.570418</td>\n",
       "    </tr>\n",
       "    <tr>\n",
       "      <th>AMB_200218_9mo_8E_9H_8J_9J_2_P1-3-B24-C5</th>\n",
       "      <td>-0.825917</td>\n",
       "      <td>-0.800998</td>\n",
       "      <td>-0.597084</td>\n",
       "      <td>-1.608541</td>\n",
       "      <td>-1.351904</td>\n",
       "      <td>-2.901256</td>\n",
       "      <td>-1.746321</td>\n",
       "      <td>-1.261522</td>\n",
       "      <td>-1.830786</td>\n",
       "      <td>-1.406893</td>\n",
       "      <td>...</td>\n",
       "      <td>-1.079135</td>\n",
       "      <td>-3.495757</td>\n",
       "      <td>-2.147663</td>\n",
       "      <td>-1.325211</td>\n",
       "      <td>-1.000000</td>\n",
       "      <td>-1.000000</td>\n",
       "      <td>-1.230202</td>\n",
       "      <td>-0.590014</td>\n",
       "      <td>-1.966563</td>\n",
       "      <td>-0.626840</td>\n",
       "    </tr>\n",
       "  </tbody>\n",
       "</table>\n",
       "<p>5 rows × 26 columns</p>\n",
       "</div>"
      ],
      "text/plain": [
       "                                            Slc17a7      Gad2    Dock10  \\\n",
       "cell                                                                      \n",
       "AMB_200218_9mo_8E_9H_8J_9J_2_P1-3-B24-P5  -0.557472 -0.251418 -1.582085   \n",
       "AMB_200218_9mo_8E_9H_8J_9J_2_P1-3-B24-L6  -1.330190 -0.640473 -0.300530   \n",
       "AMB_200218_9mo_8E_9H_8J_9J_2_P1-3-B24-O17 -1.101478 -0.399244 -0.948885   \n",
       "AMB_200218_9mo_8E_9H_8J_9J_2_P1-3-B24-M6  -0.596522 -1.625161 -1.523440   \n",
       "AMB_200218_9mo_8E_9H_8J_9J_2_P1-3-B24-C5  -0.825917 -0.800998 -0.597084   \n",
       "\n",
       "                                             Fibcd1      Rerg      Drd1  \\\n",
       "cell                                                                      \n",
       "AMB_200218_9mo_8E_9H_8J_9J_2_P1-3-B24-P5  -1.692846 -0.389078 -4.222661   \n",
       "AMB_200218_9mo_8E_9H_8J_9J_2_P1-3-B24-L6  -2.196749 -0.402059 -1.000000   \n",
       "AMB_200218_9mo_8E_9H_8J_9J_2_P1-3-B24-O17 -0.729829 -0.811072 -0.891929   \n",
       "AMB_200218_9mo_8E_9H_8J_9J_2_P1-3-B24-M6  -1.740854 -0.146342 -2.039111   \n",
       "AMB_200218_9mo_8E_9H_8J_9J_2_P1-3-B24-C5  -1.608541 -1.351904 -2.901256   \n",
       "\n",
       "                                               Drd2     Prex1      Rorb  \\\n",
       "cell                                                                      \n",
       "AMB_200218_9mo_8E_9H_8J_9J_2_P1-3-B24-P5  -1.637462 -1.941021 -3.188098   \n",
       "AMB_200218_9mo_8E_9H_8J_9J_2_P1-3-B24-L6  -0.963485 -2.401001 -1.822403   \n",
       "AMB_200218_9mo_8E_9H_8J_9J_2_P1-3-B24-O17 -1.514036 -2.539537 -2.425798   \n",
       "AMB_200218_9mo_8E_9H_8J_9J_2_P1-3-B24-M6  -1.235042 -1.232992 -2.558733   \n",
       "AMB_200218_9mo_8E_9H_8J_9J_2_P1-3-B24-C5  -1.746321 -1.261522 -1.830786   \n",
       "\n",
       "                                               Xkr7  ...    Tcf7l2     Tshz1  \\\n",
       "cell                                                 ...                       \n",
       "AMB_200218_9mo_8E_9H_8J_9J_2_P1-3-B24-P5  -0.307067  ... -1.543939 -1.567998   \n",
       "AMB_200218_9mo_8E_9H_8J_9J_2_P1-3-B24-L6  -1.000000  ... -1.476436 -1.894606   \n",
       "AMB_200218_9mo_8E_9H_8J_9J_2_P1-3-B24-O17 -4.063669  ... -1.902287 -1.419420   \n",
       "AMB_200218_9mo_8E_9H_8J_9J_2_P1-3-B24-M6  -1.950681  ... -2.222006 -2.042578   \n",
       "AMB_200218_9mo_8E_9H_8J_9J_2_P1-3-B24-C5  -1.406893  ... -1.079135 -3.495757   \n",
       "\n",
       "                                               Chn2    Hpcal1       Sst  \\\n",
       "cell                                                                      \n",
       "AMB_200218_9mo_8E_9H_8J_9J_2_P1-3-B24-P5  -1.955807 -1.438887 -1.000000   \n",
       "AMB_200218_9mo_8E_9H_8J_9J_2_P1-3-B24-L6  -1.844892 -1.483013 -2.346156   \n",
       "AMB_200218_9mo_8E_9H_8J_9J_2_P1-3-B24-O17 -1.691228 -1.591563 -1.277406   \n",
       "AMB_200218_9mo_8E_9H_8J_9J_2_P1-3-B24-M6  -2.576674 -1.269941 -1.990205   \n",
       "AMB_200218_9mo_8E_9H_8J_9J_2_P1-3-B24-C5  -2.147663 -1.325211 -1.000000   \n",
       "\n",
       "                                              Pvalb      Mobp    Slc1a2  \\\n",
       "cell                                                                      \n",
       "AMB_200218_9mo_8E_9H_8J_9J_2_P1-3-B24-P5  -1.689057 -1.535129 -0.654123   \n",
       "AMB_200218_9mo_8E_9H_8J_9J_2_P1-3-B24-L6  -2.181489 -3.168222 -1.182779   \n",
       "AMB_200218_9mo_8E_9H_8J_9J_2_P1-3-B24-O17 -0.116557 -1.618874 -0.269000   \n",
       "AMB_200218_9mo_8E_9H_8J_9J_2_P1-3-B24-M6  -1.136035 -1.671725 -0.310761   \n",
       "AMB_200218_9mo_8E_9H_8J_9J_2_P1-3-B24-C5  -1.000000 -1.230202 -0.590014   \n",
       "\n",
       "                                              Csf1r    Pdgfra  \n",
       "cell                                                           \n",
       "AMB_200218_9mo_8E_9H_8J_9J_2_P1-3-B24-P5  -0.808754 -1.609819  \n",
       "AMB_200218_9mo_8E_9H_8J_9J_2_P1-3-B24-L6  -1.307965 -0.977331  \n",
       "AMB_200218_9mo_8E_9H_8J_9J_2_P1-3-B24-O17 -0.082797 -0.442246  \n",
       "AMB_200218_9mo_8E_9H_8J_9J_2_P1-3-B24-M6  -0.871429 -0.570418  \n",
       "AMB_200218_9mo_8E_9H_8J_9J_2_P1-3-B24-C5  -1.966563 -0.626840  \n",
       "\n",
       "[5 rows x 26 columns]"
      ]
     },
     "execution_count": 16,
     "metadata": {},
     "output_type": "execute_result"
    }
   ],
   "source": [
    "gene_frac_da = gene_frac_da.sel(mc_type=mc_type).load()\n",
    "gene_frac_da = gene_frac_da.to_pandas()\n",
    "gene_frac_da = -gene_frac_da\n",
    "gene_frac_da.columns = [id_to_name[gene_id] for gene_id in gene_frac_da.columns]\n",
    "gene_frac_da.head()"
   ]
  },
  {
   "cell_type": "code",
   "execution_count": 17,
   "id": "04f23eaf-8478-454e-8225-cfb32fdb611b",
   "metadata": {
    "execution": {
     "iopub.execute_input": "2024-01-08T01:54:07.185922Z",
     "iopub.status.busy": "2024-01-08T01:54:07.185665Z",
     "iopub.status.idle": "2024-01-08T01:54:08.853595Z",
     "shell.execute_reply": "2024-01-08T01:54:08.853029Z",
     "shell.execute_reply.started": "2024-01-08T01:54:07.185900Z"
    },
    "tags": []
   },
   "outputs": [],
   "source": [
    "gene_frac_da.to_csv(f'{mc_type}.MarkerGene.csv')"
   ]
  },
  {
   "cell_type": "markdown",
   "id": "0951d0ba-3e05-4072-a316-a3ddb997b0f2",
   "metadata": {
    "tags": []
   },
   "source": [
    "## plot neu"
   ]
  },
  {
   "cell_type": "code",
   "execution_count": 6,
   "id": "6d57cb37-887d-4d23-9b56-e4568dae845e",
   "metadata": {
    "execution": {
     "iopub.execute_input": "2024-05-20T22:13:24.415422Z",
     "iopub.status.busy": "2024-05-20T22:13:24.415147Z",
     "iopub.status.idle": "2024-05-20T22:13:24.883552Z",
     "shell.execute_reply": "2024-05-20T22:13:24.883014Z",
     "shell.execute_reply.started": "2024-05-20T22:13:24.415401Z"
    },
    "tags": []
   },
   "outputs": [],
   "source": [
    "ch_df = pd.read_csv(f'CHN.MarkerGene.csv', index_col = 0)"
   ]
  },
  {
   "cell_type": "code",
   "execution_count": 7,
   "id": "ae346d57-3088-4b44-808f-5336fd5de59a",
   "metadata": {
    "execution": {
     "iopub.execute_input": "2024-05-20T22:13:24.884608Z",
     "iopub.status.busy": "2024-05-20T22:13:24.884340Z",
     "iopub.status.idle": "2024-05-20T22:13:24.888780Z",
     "shell.execute_reply": "2024-05-20T22:13:24.888297Z",
     "shell.execute_reply.started": "2024-05-20T22:13:24.884585Z"
    },
    "tags": []
   },
   "outputs": [],
   "source": [
    "marker_gene_dict = {'Glut Neuron':'Slc17a7',\n",
    "                    'Gaba Neuron':'Gad2',\n",
    "                    'DG Glut':'Dock10', \n",
    "                    'CA1-ProS Glut':'Fibcd1',\n",
    "                    'CA3 Glut':'Rerg', \n",
    "                    'STR D1 Gaba':'Drd1', \n",
    "                    'STR D2 Gaba':'Drd2', \n",
    "                    'L2/3 IT CTX Glut':'Prex1', \n",
    "                    'L4/5 IT CTX Glut':'Rorb',\n",
    "                    'L6 IT CTX Glut':'Xkr7',\n",
    "                    'L5 ET CTX Glut':'Tcerg1l', \n",
    "                    'L5 NP CTX Glut':'Kremen1',\n",
    "                    'L2/3 IT PPP Glut':'Tshz2', \n",
    "                    'L2/3 IT ENT Glut':'Trps1',\n",
    "                    'L6 CT CTX Glut':'Arhgap25', \n",
    "                    'L6b/CT ENT Glut':'Cobll1', \n",
    "                    'PAG Glut':'Tcf7l2', \n",
    "                    'STR-PAL Chst9 Gaba':'Tshz1', \n",
    "                    'STR D1 Sema5a Gaba':'Chn2', \n",
    "                    'LA-BLA-BMA-PA Glut':'Hpcal1',  \n",
    "                    'Sst Gaba':'Sst',  \n",
    "                    'Pvalb Gaba':'Pvalb', \n",
    "                     # 'Oligo NN':'Mobp',\n",
    "                     # 'Astro-TE NN':'Slc1a2', \n",
    "                     # 'Microglia NN':'Csf1r',\n",
    "                     # 'OPC NN':'Pdgfra',\n",
    "                    }"
   ]
  },
  {
   "cell_type": "code",
   "execution_count": 8,
   "id": "24255214-61c8-47c9-97fb-ddc0b0455252",
   "metadata": {
    "execution": {
     "iopub.execute_input": "2024-05-20T22:13:24.889611Z",
     "iopub.status.busy": "2024-05-20T22:13:24.889371Z",
     "iopub.status.idle": "2024-05-20T22:13:24.971482Z",
     "shell.execute_reply": "2024-05-20T22:13:24.970936Z",
     "shell.execute_reply.started": "2024-05-20T22:13:24.889590Z"
    },
    "tags": []
   },
   "outputs": [],
   "source": [
    "neu_mc_meta = use_mc_meta[~use_mc_meta['Class'].isin(['NN','IMN'])]\n",
    "use_ch_df = ch_df.loc[neu_mc_meta.index]"
   ]
  },
  {
   "cell_type": "code",
   "execution_count": 9,
   "id": "71da408f-4d17-4599-beec-b1b4ef2ba559",
   "metadata": {
    "execution": {
     "iopub.execute_input": "2024-05-20T22:13:24.972501Z",
     "iopub.status.busy": "2024-05-20T22:13:24.972234Z",
     "iopub.status.idle": "2024-05-20T22:13:25.020881Z",
     "shell.execute_reply": "2024-05-20T22:13:25.020378Z",
     "shell.execute_reply.started": "2024-05-20T22:13:24.972480Z"
    },
    "tags": []
   },
   "outputs": [],
   "source": [
    "to_plot = (use_ch_df - np.mean(use_ch_df)) / np.std(use_ch_df)"
   ]
  },
  {
   "cell_type": "code",
   "execution_count": 10,
   "id": "cd1f7968-bda7-46d4-aa8e-8588ac7940d7",
   "metadata": {
    "execution": {
     "iopub.execute_input": "2024-05-20T22:13:26.697327Z",
     "iopub.status.busy": "2024-05-20T22:13:26.696975Z",
     "iopub.status.idle": "2024-05-20T22:13:35.404314Z",
     "shell.execute_reply": "2024-05-20T22:13:35.403814Z",
     "shell.execute_reply.started": "2024-05-20T22:13:26.697305Z"
    },
    "tags": []
   },
   "outputs": [
    {
     "name": "stderr",
     "output_type": "stream",
     "text": [
      "/home/qz/miniconda3/envs/allcools/lib/python3.7/site-packages/seaborn/distributions.py:2619: FutureWarning: `distplot` is a deprecated function and will be removed in a future version. Please adapt your code to use either `displot` (a figure-level function with similar flexibility) or `histplot` (an axes-level function for histograms).\n",
      "  warnings.warn(msg, FutureWarning)\n"
     ]
    },
    {
     "data": {
      "text/plain": [
       "<AxesSubplot:ylabel='Density'>"
      ]
     },
     "execution_count": 10,
     "metadata": {},
     "output_type": "execute_result"
    },
    {
     "data": {
      "image/png": "[encoded data removed]",
      "text/plain": [
       "<Figure size 432x288 with 1 Axes>"
      ]
     },
     "metadata": {
      "needs_background": "light"
     },
     "output_type": "display_data"
    }
   ],
   "source": [
    "sns.distplot(to_plot)"
   ]
  },
  {
   "cell_type": "code",
   "execution_count": 11,
   "id": "5c75e8da-7bf4-4f46-89fb-f27e19702304",
   "metadata": {
    "execution": {
     "iopub.execute_input": "2024-05-20T22:14:06.471845Z",
     "iopub.status.busy": "2024-05-20T22:14:06.471470Z",
     "iopub.status.idle": "2024-05-20T22:14:06.526416Z",
     "shell.execute_reply": "2024-05-20T22:14:06.525859Z",
     "shell.execute_reply.started": "2024-05-20T22:14:06.471820Z"
    },
    "tags": []
   },
   "outputs": [
    {
     "name": "stderr",
     "output_type": "stream",
     "text": [
      "/home/qz/miniconda3/envs/allcools/lib/python3.7/site-packages/ipykernel_launcher.py:1: FutureWarning: X.dtype being converted to np.float32 from float64. In the next version of anndata (0.9) conversion will not be automatic. Pass dtype explicitly to avoid this warning. Pass `AnnData(X, dtype=X.dtype, ...)` to get the future behavour.\n",
      "  \"\"\"Entry point for launching an IPython kernel.\n"
     ]
    }
   ],
   "source": [
    "adata = anndata.AnnData(to_plot)\n",
    "adata.obs['AgingMajorType'] = mc_meta['AgingMajorType']"
   ]
  },
  {
   "cell_type": "code",
   "execution_count": 12,
   "id": "f2a23faf-0f17-4c76-a01b-1ef54d2f8bca",
   "metadata": {
    "execution": {
     "iopub.execute_input": "2024-05-20T22:14:09.544580Z",
     "iopub.status.busy": "2024-05-20T22:14:09.544240Z",
     "iopub.status.idle": "2024-05-20T22:14:09.547058Z",
     "shell.execute_reply": "2024-05-20T22:14:09.546606Z",
     "shell.execute_reply.started": "2024-05-20T22:14:09.544557Z"
    },
    "tags": []
   },
   "outputs": [],
   "source": [
    "# markers = list(marker_gene_dict.values())\n",
    "# categories_order = list(marker_gene_dict.keys())"
   ]
  },
  {
   "cell_type": "code",
   "execution_count": 75,
   "id": "1a8af3be-2a41-4281-b515-b6d56979a127",
   "metadata": {
    "execution": {
     "iopub.execute_input": "2024-01-08T02:41:08.444668Z",
     "iopub.status.busy": "2024-01-08T02:41:08.444462Z",
     "iopub.status.idle": "2024-01-08T02:41:08.527526Z",
     "shell.execute_reply": "2024-01-08T02:41:08.526979Z",
     "shell.execute_reply.started": "2024-01-08T02:41:08.444649Z"
    },
    "tags": []
   },
   "outputs": [],
   "source": [
    "adata.write_h5ad('Neu.MarkerGene.h5ad')"
   ]
  },
  {
   "cell_type": "markdown",
   "id": "8791c238-4208-4706-b8e1-a524356e8485",
   "metadata": {},
   "source": [
    "## start from here"
   ]
  },
  {
   "cell_type": "code",
   "execution_count": 16,
   "id": "cd72cc35-cf01-41fd-ab29-3ffb2b93fc0f",
   "metadata": {
    "execution": {
     "iopub.execute_input": "2024-05-20T22:14:25.981964Z",
     "iopub.status.busy": "2024-05-20T22:14:25.981591Z",
     "iopub.status.idle": "2024-05-20T22:14:26.076966Z",
     "shell.execute_reply": "2024-05-20T22:14:26.076440Z",
     "shell.execute_reply.started": "2024-05-20T22:14:25.981938Z"
    },
    "tags": []
   },
   "outputs": [],
   "source": [
    "neu_adata = anndata.read_h5ad('Neu.MarkerGene.h5ad')"
   ]
  },
  {
   "cell_type": "code",
   "execution_count": 17,
   "id": "c1fe0806-f40f-4eac-8bca-531c0f5063d5",
   "metadata": {
    "execution": {
     "iopub.execute_input": "2024-05-20T22:14:26.381787Z",
     "iopub.status.busy": "2024-05-20T22:14:26.381474Z",
     "iopub.status.idle": "2024-05-20T22:14:26.385108Z",
     "shell.execute_reply": "2024-05-20T22:14:26.384649Z",
     "shell.execute_reply.started": "2024-05-20T22:14:26.381763Z"
    },
    "tags": []
   },
   "outputs": [],
   "source": [
    "neu_categories_order = ['DG Glut',\n",
    " 'CA1-ProS Glut',\n",
    " 'CA3 Glut',\n",
    " 'L2/3 IT CTX Glut',\n",
    " 'L4/5 IT CTX Glut',\n",
    " 'L6 IT CTX Glut',\n",
    " 'L5 ET CTX Glut',\n",
    " 'L5 NP CTX Glut',\n",
    " 'L2/3 IT PPP Glut',\n",
    " 'L2/3 IT ENT Glut',\n",
    " 'L6 CT CTX Glut',\n",
    " 'L6b/CT ENT Glut',\n",
    " 'LA-BLA-BMA-PA Glut',\n",
    " 'PAG Glut',\n",
    " 'STR D1 Gaba',\n",
    " 'STR D2 Gaba',\n",
    " 'STR-PAL Chst9 Gaba',\n",
    " 'STR D1 Sema5a Gaba',\n",
    " 'Sst Gaba',\n",
    " 'Pvalb Gaba']"
   ]
  },
  {
   "cell_type": "code",
   "execution_count": 18,
   "id": "17e6857c-a6b4-407f-8cd1-0d722430f0fe",
   "metadata": {
    "execution": {
     "iopub.execute_input": "2024-05-20T22:14:26.787860Z",
     "iopub.status.busy": "2024-05-20T22:14:26.787598Z",
     "iopub.status.idle": "2024-05-20T22:14:26.790816Z",
     "shell.execute_reply": "2024-05-20T22:14:26.790336Z",
     "shell.execute_reply.started": "2024-05-20T22:14:26.787839Z"
    },
    "tags": []
   },
   "outputs": [
    {
     "name": "stdout",
     "output_type": "stream",
     "text": [
      "DG Glut\n",
      "CA1-ProS Glut\n",
      "CA3 Glut\n",
      "L2/3 IT CTX Glut\n",
      "L4/5 IT CTX Glut\n",
      "L6 IT CTX Glut\n",
      "L5 ET CTX Glut\n",
      "L5 NP CTX Glut\n",
      "L2/3 IT PPP Glut\n",
      "L2/3 IT ENT Glut\n",
      "L6 CT CTX Glut\n",
      "L6b/CT ENT Glut\n",
      "LA-BLA-BMA-PA Glut\n",
      "PAG Glut\n",
      "STR D1 Gaba\n",
      "STR D2 Gaba\n",
      "STR-PAL Chst9 Gaba\n",
      "STR D1 Sema5a Gaba\n",
      "Sst Gaba\n",
      "Pvalb Gaba\n"
     ]
    }
   ],
   "source": [
    "for ct in neu_categories_order:\n",
    "    print(ct)"
   ]
  },
  {
   "cell_type": "code",
   "execution_count": 19,
   "id": "94c8b6dc-eec4-4ac3-8e00-b64645e0ff68",
   "metadata": {
    "execution": {
     "iopub.execute_input": "2024-05-20T22:14:28.931323Z",
     "iopub.status.busy": "2024-05-20T22:14:28.930935Z",
     "iopub.status.idle": "2024-05-20T22:14:28.934941Z",
     "shell.execute_reply": "2024-05-20T22:14:28.934490Z",
     "shell.execute_reply.started": "2024-05-20T22:14:28.931298Z"
    },
    "tags": []
   },
   "outputs": [],
   "source": [
    "markers = [  #'Pdgfra',\n",
    "             #'Mobp',\n",
    "             #'Slc1a2', \n",
    "             #'Csf1r',\n",
    "             'Dock10',\n",
    "             'Fibcd1',\n",
    "             'Rerg',\n",
    "             'Prex1',\n",
    "             'Rorb',\n",
    "             'Xkr7',\n",
    "             'Tcerg1l',\n",
    "             'Kremen1',\n",
    "             'Tshz2',\n",
    "             'Trps1',\n",
    "             'Arhgap25',\n",
    "             'Cobll1',\n",
    "             'Hpcal1',\n",
    "             'Tcf7l2',\n",
    "             'Drd1',\n",
    "             'Drd2',\n",
    "             'Tshz1',\n",
    "             'Chn2',\n",
    "             'Sst',\n",
    "             'Pvalb',\n",
    "             'Slc17a7',\n",
    "             'Gad2',\n",
    "]"
   ]
  },
  {
   "cell_type": "code",
   "execution_count": 20,
   "id": "4602656b-6870-4ed8-ba3f-4f426530b7c2",
   "metadata": {
    "execution": {
     "iopub.execute_input": "2024-05-20T22:14:30.008075Z",
     "iopub.status.busy": "2024-05-20T22:14:30.007814Z",
     "iopub.status.idle": "2024-05-20T22:14:30.011063Z",
     "shell.execute_reply": "2024-05-20T22:14:30.010598Z",
     "shell.execute_reply.started": "2024-05-20T22:14:30.008055Z"
    },
    "tags": []
   },
   "outputs": [
    {
     "name": "stdout",
     "output_type": "stream",
     "text": [
      "Dock10\n",
      "Fibcd1\n",
      "Rerg\n",
      "Prex1\n",
      "Rorb\n",
      "Xkr7\n",
      "Tcerg1l\n",
      "Kremen1\n",
      "Tshz2\n",
      "Trps1\n",
      "Arhgap25\n",
      "Cobll1\n",
      "Hpcal1\n",
      "Tcf7l2\n",
      "Drd1\n",
      "Drd2\n",
      "Tshz1\n",
      "Chn2\n",
      "Sst\n",
      "Pvalb\n",
      "Slc17a7\n",
      "Gad2\n"
     ]
    }
   ],
   "source": [
    "for _marker in markers:\n",
    "    print(_marker)"
   ]
  },
  {
   "cell_type": "code",
   "execution_count": null,
   "id": "70972ba0-2907-4c0c-9d61-ac05e51babc4",
   "metadata": {
    "execution": {
     "iopub.execute_input": "2024-05-20T22:14:48.222642Z",
     "iopub.status.busy": "2024-05-20T22:14:48.222287Z"
    },
    "tags": []
   },
   "outputs": [],
   "source": [
    "ax = sc.pl.DotPlot(neu_adata, \n",
    "              markers, \n",
    "              groupby='AgingMajorType',\n",
    "              categories_order=neu_categories_order,\n",
    "              expression_cutoff=0.4,\n",
    "              vmin = -0.8,\n",
    "              vmax = 0.8,\n",
    "              #figsize=(0.8*len(categories_order), 0.4*len(markers)), \n",
    "              figsize= (20,10),\n",
    "              #dendrogram=True,\n",
    "              standard_scale=None)\\\n",
    ".style(cmap=\"coolwarm\",largest_dot=400,dot_edge_lw=0)\\\n",
    ".legend(width=2.5,colorbar_title='Mean expression',size_title='Fraction of cells').swap_axes()\n",
    "ax.savefig(\"Neu.MarkerGene.pdf\", dpi=300)  # Increase dpi for higher resolution"
   ]
  },
  {
   "cell_type": "code",
   "execution_count": 82,
   "id": "7b8548af-0943-48fa-99d3-d6fce11569dd",
   "metadata": {
    "execution": {
     "iopub.execute_input": "2024-01-08T02:41:33.890910Z",
     "iopub.status.busy": "2024-01-08T02:41:33.890504Z",
     "iopub.status.idle": "2024-01-08T02:41:34.938668Z",
     "shell.execute_reply": "2024-01-08T02:41:34.938098Z",
     "shell.execute_reply.started": "2024-01-08T02:41:33.890884Z"
    },
    "tags": []
   },
   "outputs": [
    {
     "data": {
      "image/png": "[encoded data removed]",
      "text/plain": [
       "<Figure size 1440x720 with 4 Axes>"
      ]
     },
     "metadata": {
      "needs_background": "light"
     },
     "output_type": "display_data"
    }
   ],
   "source": [
    "##.add_totals(size=3)\\\n",
    "ax = sc.pl.DotPlot(neu_adata, \n",
    "              markers, \n",
    "              groupby='AgingMajorType',\n",
    "              categories_order=neu_categories_order,\n",
    "              expression_cutoff=0.4,\n",
    "              vmin = -0.8,\n",
    "              vmax = 0.8,\n",
    "              #figsize=(0.8*len(categories_order), 0.4*len(markers)), \n",
    "              figsize= (20,10),\n",
    "              #dendrogram=True,\n",
    "              standard_scale=None)\\\n",
    ".style(cmap=\"coolwarm\",largest_dot=400,dot_edge_lw=0)\\\n",
    ".legend(width=2.5,colorbar_title='Mean expression',size_title='Fraction of cells').swap_axes()\n",
    "\n",
    "ax.savefig(\"Neu.MarkerGene.pdf\", dpi=300)  # Increase dpi for higher resolution"
   ]
  },
  {
   "cell_type": "markdown",
   "id": "fba099b1-8022-4c45-91c1-deb400dfdc96",
   "metadata": {
    "jp-MarkdownHeadingCollapsed": true,
    "tags": []
   },
   "source": [
    "## plot nn"
   ]
  },
  {
   "cell_type": "code",
   "execution_count": 29,
   "id": "cca1dadd-007a-4b63-b770-3052a1e7b574",
   "metadata": {
    "execution": {
     "iopub.execute_input": "2024-01-08T02:25:54.288264Z",
     "iopub.status.busy": "2024-01-08T02:25:54.287927Z",
     "iopub.status.idle": "2024-01-08T02:25:54.692956Z",
     "shell.execute_reply": "2024-01-08T02:25:54.692393Z",
     "shell.execute_reply.started": "2024-01-08T02:25:54.288241Z"
    },
    "tags": []
   },
   "outputs": [],
   "source": [
    "cg_df =pd.read_csv(f'CGN.MarkerGene.csv',index_col = 0)"
   ]
  },
  {
   "cell_type": "code",
   "execution_count": 30,
   "id": "ce32407e-c654-442e-b7f9-ad6b2d8c6aed",
   "metadata": {
    "execution": {
     "iopub.execute_input": "2024-01-08T02:25:54.814982Z",
     "iopub.status.busy": "2024-01-08T02:25:54.814673Z",
     "iopub.status.idle": "2024-01-08T02:25:54.817611Z",
     "shell.execute_reply": "2024-01-08T02:25:54.817146Z",
     "shell.execute_reply.started": "2024-01-08T02:25:54.814960Z"
    },
    "tags": []
   },
   "outputs": [],
   "source": [
    "# 'Oligo NN':'Mobp',\n",
    "                     # 'Astro-TE NN':'Slc1a2', \n",
    "                     # 'Microglia NN':'Csf1r',\n",
    "                     # 'OPC NN':'Pdgfra',"
   ]
  },
  {
   "cell_type": "code",
   "execution_count": 31,
   "id": "b0ce5f5b-fbf4-4e4f-9adf-c2eef5619ac0",
   "metadata": {
    "execution": {
     "iopub.execute_input": "2024-01-08T02:25:55.176326Z",
     "iopub.status.busy": "2024-01-08T02:25:55.175992Z",
     "iopub.status.idle": "2024-01-08T02:25:55.179124Z",
     "shell.execute_reply": "2024-01-08T02:25:55.178687Z",
     "shell.execute_reply.started": "2024-01-08T02:25:55.176305Z"
    },
    "tags": []
   },
   "outputs": [],
   "source": [
    "marker_gene_dict = { 'OPC NN':'Pdgfra',\n",
    "                     'Oligo NN':'Mobp',\n",
    "                     'Astro-TE NN':'Slc1a2', \n",
    "                     'Microglia NN':'Csf1r',\n",
    "                    }"
   ]
  },
  {
   "cell_type": "code",
   "execution_count": 32,
   "id": "8786dd09-e238-4259-a434-1b52394c3ca2",
   "metadata": {
    "execution": {
     "iopub.execute_input": "2024-01-08T02:25:55.908434Z",
     "iopub.status.busy": "2024-01-08T02:25:55.908027Z",
     "iopub.status.idle": "2024-01-08T02:25:55.934612Z",
     "shell.execute_reply": "2024-01-08T02:25:55.934125Z",
     "shell.execute_reply.started": "2024-01-08T02:25:55.908414Z"
    },
    "tags": []
   },
   "outputs": [],
   "source": [
    "nn_mc_meta = use_mc_meta[use_mc_meta['Class'].isin(['NN'])]\n",
    "use_cg_df = cg_df.loc[nn_mc_meta.index]"
   ]
  },
  {
   "cell_type": "code",
   "execution_count": 33,
   "id": "25926dbf-8296-41a7-9f6b-c7f657ebab10",
   "metadata": {
    "execution": {
     "iopub.execute_input": "2024-01-08T02:25:56.686914Z",
     "iopub.status.busy": "2024-01-08T02:25:56.686589Z",
     "iopub.status.idle": "2024-01-08T02:25:56.694049Z",
     "shell.execute_reply": "2024-01-08T02:25:56.693582Z",
     "shell.execute_reply.started": "2024-01-08T02:25:56.686891Z"
    },
    "tags": []
   },
   "outputs": [],
   "source": [
    "to_plot = (use_cg_df - np.mean(use_cg_df)) / np.std(use_cg_df)"
   ]
  },
  {
   "cell_type": "code",
   "execution_count": 34,
   "id": "11d527ce-cfe9-43aa-8f24-7d17fe92eeb3",
   "metadata": {
    "execution": {
     "iopub.execute_input": "2024-01-08T02:25:57.109504Z",
     "iopub.status.busy": "2024-01-08T02:25:57.109081Z",
     "iopub.status.idle": "2024-01-08T02:25:58.428722Z",
     "shell.execute_reply": "2024-01-08T02:25:58.428251Z",
     "shell.execute_reply.started": "2024-01-08T02:25:57.109483Z"
    },
    "tags": []
   },
   "outputs": [
    {
     "name": "stderr",
     "output_type": "stream",
     "text": [
      "/home/qz/miniconda3/envs/allcools/lib/python3.7/site-packages/seaborn/distributions.py:2619: FutureWarning: `distplot` is a deprecated function and will be removed in a future version. Please adapt your code to use either `displot` (a figure-level function with similar flexibility) or `histplot` (an axes-level function for histograms).\n",
      "  warnings.warn(msg, FutureWarning)\n"
     ]
    },
    {
     "data": {
      "text/plain": [
       "<AxesSubplot:ylabel='Density'>"
      ]
     },
     "execution_count": 34,
     "metadata": {},
     "output_type": "execute_result"
    },
    {
     "data": {
      "image/png": "[encoded data removed]",
      "text/plain": [
       "<Figure size 432x288 with 1 Axes>"
      ]
     },
     "metadata": {
      "needs_background": "light"
     },
     "output_type": "display_data"
    }
   ],
   "source": [
    "sns.distplot(to_plot)"
   ]
  },
  {
   "cell_type": "code",
   "execution_count": 35,
   "id": "7eb14878-1a29-49f7-98e0-c59c32c30660",
   "metadata": {
    "execution": {
     "iopub.execute_input": "2024-01-08T02:25:58.429870Z",
     "iopub.status.busy": "2024-01-08T02:25:58.429593Z",
     "iopub.status.idle": "2024-01-08T02:25:58.441832Z",
     "shell.execute_reply": "2024-01-08T02:25:58.441367Z",
     "shell.execute_reply.started": "2024-01-08T02:25:58.429848Z"
    },
    "tags": []
   },
   "outputs": [
    {
     "name": "stderr",
     "output_type": "stream",
     "text": [
      "/home/qz/miniconda3/envs/allcools/lib/python3.7/site-packages/ipykernel_launcher.py:1: FutureWarning: X.dtype being converted to np.float32 from float64. In the next version of anndata (0.9) conversion will not be automatic. Pass dtype explicitly to avoid this warning. Pass `AnnData(X, dtype=X.dtype, ...)` to get the future behavour.\n",
      "  \"\"\"Entry point for launching an IPython kernel.\n"
     ]
    }
   ],
   "source": [
    "adata = anndata.AnnData(to_plot)\n",
    "adata.obs['AgingMajorType'] = mc_meta['AgingMajorType']"
   ]
  },
  {
   "cell_type": "code",
   "execution_count": 36,
   "id": "05eefa94-d1c7-42b5-be64-d771dcb2fca8",
   "metadata": {
    "execution": {
     "iopub.execute_input": "2024-01-08T02:26:00.123019Z",
     "iopub.status.busy": "2024-01-08T02:26:00.122655Z",
     "iopub.status.idle": "2024-01-08T02:26:00.145886Z",
     "shell.execute_reply": "2024-01-08T02:26:00.145418Z",
     "shell.execute_reply.started": "2024-01-08T02:26:00.122995Z"
    },
    "tags": []
   },
   "outputs": [],
   "source": [
    "adata.write_h5ad('NN.MarkerGene.h5ad')"
   ]
  },
  {
   "cell_type": "code",
   "execution_count": 37,
   "id": "ac8d8621-9a08-4411-9007-d89142958eb2",
   "metadata": {
    "execution": {
     "iopub.execute_input": "2024-01-08T02:26:02.497267Z",
     "iopub.status.busy": "2024-01-08T02:26:02.496791Z",
     "iopub.status.idle": "2024-01-08T02:26:02.772493Z",
     "shell.execute_reply": "2024-01-08T02:26:02.772011Z",
     "shell.execute_reply.started": "2024-01-08T02:26:02.497245Z"
    },
    "tags": []
   },
   "outputs": [
    {
     "data": {
      "image/png": "[encoded data removed]",
      "text/plain": [
       "<Figure size 288x720 with 4 Axes>"
      ]
     },
     "metadata": {
      "needs_background": "light"
     },
     "output_type": "display_data"
    }
   ],
   "source": [
    "##.add_totals(size=3)\\\n",
    "nn_categories_order = ['OPC NN',\n",
    "                       'Oligo NN',\n",
    "                       'Astro-TE NN', \n",
    "                       'Microglia NN']\n",
    "\n",
    "ax = sc.pl.DotPlot(adata, \n",
    "              markers, \n",
    "              groupby='AgingMajorType',\n",
    "              categories_order=nn_categories_order,\n",
    "              expression_cutoff=0.4,\n",
    "              vmin = -0.8,\n",
    "              vmax = 0.8,\n",
    "              figsize= (4,10),\n",
    "              #figsize=(0.8*len(categories_order), 0.4*len(markers)), \n",
    "              #dendrogram=True,\n",
    "              standard_scale=None)\\\n",
    ".style(cmap=\"coolwarm\",largest_dot=400,dot_edge_lw=0)\\\n",
    ".legend(width=2.5,colorbar_title='Mean expression',size_title='Fraction of cells').swap_axes().show()\n",
    "\n",
    "#ax.savefig(\"NN.MarkerGene.pdf\", dpi=300)  # Increase dpi for higher resolution"
   ]
  },
  {
   "cell_type": "markdown",
   "id": "f92ab6a4-1685-467b-ac4e-be7608b9d742",
   "metadata": {},
   "source": [
    "## combine both"
   ]
  },
  {
   "cell_type": "code",
   "execution_count": 56,
   "id": "d5459130-4e1b-4e03-be17-9841fa9a2bc9",
   "metadata": {
    "execution": {
     "iopub.execute_input": "2024-01-08T02:36:15.072259Z",
     "iopub.status.busy": "2024-01-08T02:36:15.071717Z",
     "iopub.status.idle": "2024-01-08T02:36:15.184814Z",
     "shell.execute_reply": "2024-01-08T02:36:15.184125Z",
     "shell.execute_reply.started": "2024-01-08T02:36:15.072230Z"
    },
    "tags": []
   },
   "outputs": [],
   "source": [
    "neu_adata = anndata.read_h5ad('Neu.MarkerGene.h5ad')\n",
    "nn_adata = anndata.read_h5ad('NN.MarkerGene.h5ad')"
   ]
  },
  {
   "cell_type": "code",
   "execution_count": 40,
   "id": "1cdfd489-2e6f-4532-9c99-aaeca778494a",
   "metadata": {
    "execution": {
     "iopub.execute_input": "2024-01-08T02:27:59.343020Z",
     "iopub.status.busy": "2024-01-08T02:27:59.342662Z",
     "iopub.status.idle": "2024-01-08T02:27:59.346746Z",
     "shell.execute_reply": "2024-01-08T02:27:59.346178Z",
     "shell.execute_reply.started": "2024-01-08T02:27:59.342996Z"
    },
    "tags": []
   },
   "outputs": [],
   "source": [
    "neu_categories_order = ['DG Glut',\n",
    " 'CA1-ProS Glut',\n",
    " 'CA3 Glut',\n",
    " 'L2/3 IT CTX Glut',\n",
    " 'L4/5 IT CTX Glut',\n",
    " 'L6 IT CTX Glut',\n",
    " 'L5 ET CTX Glut',\n",
    " 'L5 NP CTX Glut',\n",
    " 'L2/3 IT PPP Glut',\n",
    " 'L2/3 IT ENT Glut',\n",
    " 'L6 CT CTX Glut',\n",
    " 'L6b/CT ENT Glut',\n",
    " 'LA-BLA-BMA-PA Glut',\n",
    " 'PAG Glut',\n",
    " 'STR D1 Gaba',\n",
    " 'STR D2 Gaba',\n",
    " 'STR-PAL Chst9 Gaba',\n",
    " 'STR D1 Sema5a Gaba',\n",
    " 'Sst Gaba',\n",
    " 'Pvalb Gaba']"
   ]
  },
  {
   "cell_type": "code",
   "execution_count": 57,
   "id": "aac067e3-fb49-443f-bcca-eec2e936a741",
   "metadata": {
    "execution": {
     "iopub.execute_input": "2024-01-08T02:36:17.807522Z",
     "iopub.status.busy": "2024-01-08T02:36:17.807021Z",
     "iopub.status.idle": "2024-01-08T02:36:17.810429Z",
     "shell.execute_reply": "2024-01-08T02:36:17.809969Z",
     "shell.execute_reply.started": "2024-01-08T02:36:17.807498Z"
    },
    "tags": []
   },
   "outputs": [],
   "source": [
    "nn_categories_order = ['OPC NN',\n",
    "                       'Oligo NN',\n",
    "                       'Astro-TE NN', \n",
    "                       'Microglia NN']"
   ]
  },
  {
   "cell_type": "code",
   "execution_count": 55,
   "id": "29389147-e212-42d6-9d11-aff5920e7348",
   "metadata": {
    "execution": {
     "iopub.execute_input": "2024-01-08T02:36:08.990820Z",
     "iopub.status.busy": "2024-01-08T02:36:08.990449Z",
     "iopub.status.idle": "2024-01-08T02:36:08.993853Z",
     "shell.execute_reply": "2024-01-08T02:36:08.993306Z",
     "shell.execute_reply.started": "2024-01-08T02:36:08.990796Z"
    },
    "tags": []
   },
   "outputs": [],
   "source": [
    "# ax = sc.pl.DotPlot(neu_adata, \n",
    "#               markers, \n",
    "#               groupby='AgingMajorType',\n",
    "#               categories_order=neu_categories_order,\n",
    "#               expression_cutoff=0.4,\n",
    "#               vmin = -0.8,\n",
    "#               vmax = 0.8,\n",
    "#               #figsize=(0.8*len(categories_order), 0.4*len(markers)), \n",
    "#               figsize= (20,10),\n",
    "#               #dendrogram=True,\n",
    "#               standard_scale=None)\\\n",
    "# .style(cmap=\"coolwarm\",largest_dot=400,dot_edge_lw=0)\\\n",
    "# .legend(width=2.5,colorbar_title='Mean expression',size_title='Fraction of cells').swap_axes().show()"
   ]
  },
  {
   "cell_type": "code",
   "execution_count": 59,
   "id": "cae1fea6-6bdd-4310-be7a-3fbbe0e10d40",
   "metadata": {
    "execution": {
     "iopub.execute_input": "2024-01-08T02:36:22.915989Z",
     "iopub.status.busy": "2024-01-08T02:36:22.915585Z",
     "iopub.status.idle": "2024-01-08T02:36:22.922378Z",
     "shell.execute_reply": "2024-01-08T02:36:22.921558Z",
     "shell.execute_reply.started": "2024-01-08T02:36:22.915952Z"
    },
    "tags": []
   },
   "outputs": [],
   "source": [
    "# ax = sc.pl.DotPlot(nn_adata, \n",
    "#               markers, \n",
    "#               groupby='AgingMajorType',\n",
    "#               categories_order=nn_categories_order,\n",
    "#               expression_cutoff=0.4,\n",
    "#               vmin = -0.8,\n",
    "#               vmax = 0.8,\n",
    "#               figsize= (4,10),\n",
    "#               #figsize=(0.8*len(categories_order), 0.4*len(markers)), \n",
    "#               #dendrogram=True,\n",
    "#               standard_scale=None)\\\n",
    "# .style(cmap=\"coolwarm\",largest_dot=400,dot_edge_lw=0)\\\n",
    "# .legend(width=2.5,colorbar_title='Mean expression',size_title='Fraction of cells').swap_axes().show()\n"
   ]
  },
  {
   "cell_type": "code",
   "execution_count": 66,
   "id": "bb53ac6a-18ca-4e2d-a4d1-0c786f7f788f",
   "metadata": {
    "execution": {
     "iopub.execute_input": "2024-01-08T02:40:07.175062Z",
     "iopub.status.busy": "2024-01-08T02:40:07.174670Z",
     "iopub.status.idle": "2024-01-08T02:40:07.525979Z",
     "shell.execute_reply": "2024-01-08T02:40:07.525266Z",
     "shell.execute_reply.started": "2024-01-08T02:40:07.175039Z"
    },
    "tags": []
   },
   "outputs": [
    {
     "data": {
      "image/png": "[encoded data removed]",
      "text/plain": [
       "<Figure size 2160x1008 with 2 Axes>"
      ]
     },
     "metadata": {
      "needs_background": "light"
     },
     "output_type": "display_data"
    }
   ],
   "source": [
    "fig, axes = plt.subplots(1, 2, figsize=(30, 14), gridspec_kw={'width_ratios': [4, 10]})\n",
    "\n",
    "# Plot the first DotPlot on the first axes\n",
    "ax = axes[0]\n",
    "dp1 = sc.pl.DotPlot(nn_adata, markers, groupby='AgingMajorType', categories_order=nn_categories_order, expression_cutoff=0.4, vmin=-0.8, vmax=0.8, ax=ax, show=False)\\\n",
    "        .style(cmap=\"coolwarm\", largest_dot=400, dot_edge_lw=0)\\\n",
    "        .legend(width=2.5, colorbar_title='Mean expression', size_title='Fraction of cells').swap_axes()\n",
    "\n",
    "# Plot the second DotPlot on the second axes\n",
    "ax = axes[1]\n",
    "dp2 = sc.pl.DotPlot(neu_adata, markers, groupby='AgingMajorType', categories_order=neu_categories_order, expression_cutoff=0.4, vmin=-0.8, vmax=0.8, ax=ax, show=False)\\\n",
    "        .style(cmap=\"coolwarm\", largest_dot=400, dot_edge_lw=0)\\\n",
    "        .legend(width=2.5, colorbar_title='Mean expression', size_title='Fraction of cells').swap_axes()\n",
    "\n",
    "# Adjust the layout and display the figure\n",
    "plt.tight_layout()\n",
    "plt.show()\n"
   ]
  },
  {
   "cell_type": "code",
   "execution_count": null,
   "id": "f27f3f69-4b6c-49e0-8cf6-92d576883bae",
   "metadata": {},
   "outputs": [],
   "source": [
    "ax = sc.pl.DotPlot(neu_adata, \n",
    "              markers, \n",
    "              groupby='AgingMajorType',\n",
    "              categories_order=neu_categories_order,\n",
    "              expression_cutoff=0.4,\n",
    "              vmin = -0.8,\n",
    "              vmax = 0.8,\n",
    "              #figsize=(0.8*len(categories_order), 0.4*len(markers)), \n",
    "              figsize= (20,10),\n",
    "              #dendrogram=True,\n",
    "              standard_scale=None)\\\n",
    ".style(cmap=\"coolwarm\",largest_dot=400,dot_edge_lw=0)\\\n",
    ".legend(width=2.5,colorbar_title='Mean expression',size_title='Fraction of cells').swap_axes().show()\n",
    "\n",
    "ax = sc.pl.DotPlot(adata, \n",
    "              markers, \n",
    "              groupby='AgingMajorType',\n",
    "              categories_order=nn_categories_order,\n",
    "              expression_cutoff=0.4,\n",
    "              vmin = -0.8,\n",
    "              vmax = 0.8,\n",
    "              figsize= (4,10),\n",
    "              #figsize=(0.8*len(categories_order), 0.4*len(markers)), \n",
    "              #dendrogram=True,\n",
    "              standard_scale=None)\\\n",
    ".style(cmap=\"coolwarm\",largest_dot=400,dot_edge_lw=0)\\\n",
    ".legend(width=2.5,colorbar_title='Mean expression',size_title='Fraction of cells').swap_axes().show()\n"
   ]
  },
  {
   "cell_type": "code",
   "execution_count": 64,
   "id": "dde74c3a-ccb2-48f8-9c56-6b0dc7054a1c",
   "metadata": {
    "execution": {
     "iopub.execute_input": "2024-01-08T02:39:37.671535Z",
     "iopub.status.busy": "2024-01-08T02:39:37.671141Z",
     "iopub.status.idle": "2024-01-08T02:39:38.034544Z",
     "shell.execute_reply": "2024-01-08T02:39:38.034061Z",
     "shell.execute_reply.started": "2024-01-08T02:39:37.671511Z"
    },
    "tags": []
   },
   "outputs": [
    {
     "data": {
      "image/png": "[encoded data removed]",
      "text/plain": [
       "<Figure size 2160x1008 with 2 Axes>"
      ]
     },
     "metadata": {
      "needs_background": "light"
     },
     "output_type": "display_data"
    }
   ],
   "source": [
    "fig, axes = plt.subplots(1, 2, figsize=(30, 14), gridspec_kw={'width_ratios': [4, 10]})\n",
    "\n",
    "# Plot the first DotPlot on the first axes\n",
    "ax = axes[0]\n",
    "sc.pl.DotPlot(nn_adata, markers, ax = ax,groupby='AgingMajorType', \n",
    "              categories_order=nn_categories_order, \n",
    "              expression_cutoff=0.4, vmin=-0.8, vmax=0.8,\n",
    "              show = False)\\\n",
    "        .style(cmap=\"coolwarm\", largest_dot=400, dot_edge_lw=0)\\\n",
    "        .legend(width=2.5, colorbar_title='Mean expression', size_title='Fraction of cells').swap_axes()\n",
    "\n",
    "# Plot the second DotPlot on the second axes\n",
    "ax = axes[1]\n",
    "sc.pl.DotPlot(neu_adata, markers, ax = ax,groupby='AgingMajorType', \n",
    "              categories_order=neu_categories_order, \n",
    "              expression_cutoff=0.4, vmin=-0.8, vmax=0.8,\n",
    "              show = False)\\\n",
    "        .style(cmap=\"coolwarm\", largest_dot=400, dot_edge_lw=0)\\\n",
    "        .legend(width=2.5, colorbar_title='Mean expression', size_title='Fraction of cells').swap_axes()\n",
    "\n",
    "# Adjust the layout and display the figure\n",
    "plt.tight_layout()\n",
    "plt.show()"
   ]
  },
  {
   "cell_type": "code",
   "execution_count": null,
   "id": "883b9419-ad2a-4e94-9adf-839f5e907ef1",
   "metadata": {},
   "outputs": [],
   "source": []
  },
  {
   "cell_type": "code",
   "execution_count": null,
   "id": "76ba3cca-a379-43f0-89d0-2936e3f40f97",
   "metadata": {},
   "outputs": [],
   "source": []
  },
  {
   "cell_type": "code",
   "execution_count": null,
   "id": "a8e93c60-89a0-4007-95e3-aca677df4da9",
   "metadata": {},
   "outputs": [],
   "source": []
  }
 ],
 "metadata": {
  "kernelspec": {
   "display_name": "Python 3 (ipykernel)",
   "language": "python",
   "name": "python3"
  },
  "language_info": {
   "codemirror_mode": {
    "name": "ipython",
    "version": 3
   },
   "file_extension": ".py",
   "mimetype": "text/x-python",
   "name": "python",
   "nbconvert_exporter": "python",
   "pygments_lexer": "ipython3",
   "version": "3.7.12"
  }
 },
 "nbformat": 4,
 "nbformat_minor": 5
}
