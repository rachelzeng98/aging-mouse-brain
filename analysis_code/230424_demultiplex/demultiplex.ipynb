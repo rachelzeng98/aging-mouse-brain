{
 "cells": [
  {
   "cell_type": "code",
   "execution_count": 3,
   "id": "8dadcdda",
   "metadata": {
    "ExecuteTime": {
     "end_time": "2022-11-18T22:33:45.926311Z",
     "start_time": "2022-11-18T22:33:40.815314Z"
    }
   },
   "outputs": [],
   "source": [
    "from cemba_data.demultiplex.demultiplex import demultiplex_pipeline\n",
    "import pathlib"
   ]
  },
  {
   "cell_type": "code",
   "execution_count": 4,
   "id": "ed645b54",
   "metadata": {
    "ExecuteTime": {
     "end_time": "2022-11-18T22:33:45.932393Z",
     "start_time": "2022-11-18T22:33:45.930120Z"
    }
   },
   "outputs": [],
   "source": [
    "fastq_dir = '/gale/raidix/rdx-3/illumina_runs/221019_A00280_0606_AHLJNCDSX5_221104104318355831679/Pool_Devel_2/'"
   ]
  },
  {
   "cell_type": "code",
   "execution_count": 5,
   "id": "da27ea7c-2f5b-42d7-bb01-12c4aa5969e7",
   "metadata": {},
   "outputs": [
    {
     "data": {
      "text/plain": [
       "'Pool_Devel_2'"
      ]
     },
     "execution_count": 5,
     "metadata": {},
     "output_type": "execute_result"
    }
   ],
   "source": [
    "pathlib.Path(fastq_dir).name"
   ]
  },
  {
   "cell_type": "code",
   "execution_count": null,
   "id": "df824d94",
   "metadata": {
    "ExecuteTime": {
     "start_time": "2022-11-18T22:33:43.137Z"
    }
   },
   "outputs": [
    {
     "name": "stdout",
     "output_type": "stream",
     "text": [
      "Mapping config file looks good. Here is what will be used in generating Snakefile:\n",
      "overlap = 6\n",
      "r1_left_cut = 10\n",
      "r1_right_cut = 10\n",
      "r2_left_cut = 10\n",
      "r2_right_cut = 10\n",
      "quality_threshold = 20\n",
      "length_threshold = 30\n",
      "total_read_pairs_min = 1\n",
      "total_read_pairs_max = 6000000\n",
      "mapq_threshold = 10\n",
      "num_upstr_bases = 0\n",
      "num_downstr_bases = 2\n",
      "compress_level = 5\n",
      "split_left_size = 40\n",
      "split_right_size = 40\n",
      "split_middle_min_size = 30\n",
      "min_gap = 2500\n",
      "trim_on_both_end = 5\n",
      "mode = 'm3c'\n",
      "barcode_version = 'V2'\n",
      "r1_adapter = 'AGATCGGAAGAGCACACGTCTGAAC'\n",
      "r2_adapter = 'AGATCGGAAGAGCGTCGTGTAGGGA'\n",
      "hisat3n_dna_reference = '/home/hanliu/ref/mouse/genome/fasta/with_chrl/hisat-3n-dna/mm10_with_chrl'\n",
      "hisat3n_repeat_index_type = 'no-repeat'\n",
      "reference_fasta = '/home/hanliu/ref/mouse/genome/fasta/with_chrl/mm10_with_chrl.fa'\n",
      "mc_stat_feature = 'CHN CGN CCC'\n",
      "mc_stat_alias = 'mCH mCG mCCC'\n",
      "chrom_size_path = '/home/hanliu/ref/mouse/genome/mm10.main.nochrM.nochrY.chrom.sizes'\n",
      "\n",
      "Detect only single multiplex group in each plate, will use V2-single mode.\n",
      "Demultiplexing raw FASTQ\n"
     ]
    },
    {
     "name": "stderr",
     "output_type": "stream",
     "text": [
      "Building DAG of jobs...\n",
      "Using shell: /usr/bin/bash\n",
      "Provided cores: 10\n",
      "Rules claiming more threads will be scaled down.\n",
      "Job stats:\n",
      "job               count    min threads    max threads\n",
      "--------------  -------  -------------  -------------\n",
      "demultiplex_0         1              1              1\n",
      "demultiplex_1         1              1              1\n",
      "demultiplex_10        1              1              1\n",
      "demultiplex_11        1              1              1\n",
      "demultiplex_12        1              1              1\n",
      "demultiplex_13        1              1              1\n",
      "demultiplex_14        1              1              1\n",
      "demultiplex_15        1              1              1\n",
      "demultiplex_16        1              1              1\n",
      "demultiplex_17        1              1              1\n",
      "demultiplex_18        1              1              1\n",
      "demultiplex_19        1              1              1\n",
      "demultiplex_2         1              1              1\n",
      "demultiplex_20        1              1              1\n",
      "demultiplex_21        1              1              1\n",
      "demultiplex_22        1              1              1\n",
      "demultiplex_23        1              1              1\n",
      "demultiplex_24        1              1              1\n",
      "demultiplex_25        1              1              1\n",
      "demultiplex_26        1              1              1\n",
      "demultiplex_27        1              1              1\n",
      "demultiplex_28        1              1              1\n",
      "demultiplex_29        1              1              1\n",
      "demultiplex_3         1              1              1\n",
      "demultiplex_30        1              1              1\n",
      "demultiplex_31        1              1              1\n",
      "demultiplex_4         1              1              1\n",
      "demultiplex_5         1              1              1\n",
      "demultiplex_6         1              1              1\n",
      "demultiplex_7         1              1              1\n",
      "demultiplex_8         1              1              1\n",
      "demultiplex_9         1              1              1\n",
      "final                 1              1              1\n",
      "total                33              1              1\n",
      "\n",
      "Select jobs to execute...\n",
      "\n",
      "[Mon Dec 12 22:31:03 2022]\n",
      "rule demultiplex_18:\n",
      "    input: /home/sky3/projects/devel-pfc-mapping/Pool_Devel_2/FC_P0b_3C_5-1-I24/raw/FC_P0b_3C_5-1-I24+L003+R1.fq.gz, /home/sky3/projects/devel-pfc-mapping/Pool_Devel_2/FC_P0b_3C_5-1-I24/raw/FC_P0b_3C_5-1-I24+L003+R2.fq.gz\n",
      "    output: /home/sky3/projects/devel-pfc-mapping/Pool_Devel_2/FC_P0b_3C_5-1-I24/lanes/FC_P0b_3C_5-1-I24-L003.demultiplex.stats.txt\n",
      "    jobid: 19\n",
      "    reason: Missing output files: /home/sky3/projects/devel-pfc-mapping/Pool_Devel_2/FC_P0b_3C_5-1-I24/lanes/FC_P0b_3C_5-1-I24-L003.demultiplex.stats.txt\n",
      "    resources: tmpdir=/tmp\n",
      "\n",
      "\n",
      "[Mon Dec 12 22:31:03 2022]\n",
      "rule demultiplex_11:\n",
      "    input: /home/sky3/projects/devel-pfc-mapping/Pool_Devel_2/FC_P0b_3C_3-1-K20/raw/FC_P0b_3C_3-1-K20+L004+R1.fq.gz, /home/sky3/projects/devel-pfc-mapping/Pool_Devel_2/FC_P0b_3C_3-1-K20/raw/FC_P0b_3C_3-1-K20+L004+R2.fq.gz\n",
      "    output: /home/sky3/projects/devel-pfc-mapping/Pool_Devel_2/FC_P0b_3C_3-1-K20/lanes/FC_P0b_3C_3-1-K20-L004.demultiplex.stats.txt\n",
      "    jobid: 12\n",
      "    reason: Missing output files: /home/sky3/projects/devel-pfc-mapping/Pool_Devel_2/FC_P0b_3C_3-1-K20/lanes/FC_P0b_3C_3-1-K20-L004.demultiplex.stats.txt\n",
      "    resources: tmpdir=/tmp\n",
      "\n",
      "\n",
      "[Mon Dec 12 22:31:03 2022]\n",
      "rule demultiplex_29:\n",
      "    input: /home/sky3/projects/devel-pfc-mapping/Pool_Devel_2/FC_P0b_3C_8-1-J7/raw/FC_P0b_3C_8-1-J7+L002+R1.fq.gz, /home/sky3/projects/devel-pfc-mapping/Pool_Devel_2/FC_P0b_3C_8-1-J7/raw/FC_P0b_3C_8-1-J7+L002+R2.fq.gz\n",
      "    output: /home/sky3/projects/devel-pfc-mapping/Pool_Devel_2/FC_P0b_3C_8-1-J7/lanes/FC_P0b_3C_8-1-J7-L002.demultiplex.stats.txt\n",
      "    jobid: 30\n",
      "    reason: Missing output files: /home/sky3/projects/devel-pfc-mapping/Pool_Devel_2/FC_P0b_3C_8-1-J7/lanes/FC_P0b_3C_8-1-J7-L002.demultiplex.stats.txt\n",
      "    resources: tmpdir=/tmp\n",
      "\n",
      "\n",
      "[Mon Dec 12 22:31:03 2022]\n",
      "rule demultiplex_31:\n",
      "    input: /home/sky3/projects/devel-pfc-mapping/Pool_Devel_2/FC_P0b_3C_8-1-J7/raw/FC_P0b_3C_8-1-J7+L004+R1.fq.gz, /home/sky3/projects/devel-pfc-mapping/Pool_Devel_2/FC_P0b_3C_8-1-J7/raw/FC_P0b_3C_8-1-J7+L004+R2.fq.gz\n",
      "    output: /home/sky3/projects/devel-pfc-mapping/Pool_Devel_2/FC_P0b_3C_8-1-J7/lanes/FC_P0b_3C_8-1-J7-L004.demultiplex.stats.txt\n",
      "    jobid: 32\n",
      "    reason: Missing output files: /home/sky3/projects/devel-pfc-mapping/Pool_Devel_2/FC_P0b_3C_8-1-J7/lanes/FC_P0b_3C_8-1-J7-L004.demultiplex.stats.txt\n",
      "    resources: tmpdir=/tmp\n",
      "\n",
      "\n",
      "[Mon Dec 12 22:31:03 2022]\n",
      "rule demultiplex_17:\n",
      "    input: /home/sky3/projects/devel-pfc-mapping/Pool_Devel_2/FC_P0b_3C_5-1-I24/raw/FC_P0b_3C_5-1-I24+L002+R1.fq.gz, /home/sky3/projects/devel-pfc-mapping/Pool_Devel_2/FC_P0b_3C_5-1-I24/raw/FC_P0b_3C_5-1-I24+L002+R2.fq.gz\n",
      "    output: /home/sky3/projects/devel-pfc-mapping/Pool_Devel_2/FC_P0b_3C_5-1-I24/lanes/FC_P0b_3C_5-1-I24-L002.demultiplex.stats.txt\n",
      "    jobid: 18\n",
      "    reason: Missing output files: /home/sky3/projects/devel-pfc-mapping/Pool_Devel_2/FC_P0b_3C_5-1-I24/lanes/FC_P0b_3C_5-1-I24-L002.demultiplex.stats.txt\n",
      "    resources: tmpdir=/tmp\n",
      "\n",
      "\n",
      "[Mon Dec 12 22:31:03 2022]\n",
      "rule demultiplex_24:\n",
      "    input: /home/sky3/projects/devel-pfc-mapping/Pool_Devel_2/FC_P0b_3C_7-1-L3/raw/FC_P0b_3C_7-1-L3+L001+R1.fq.gz, /home/sky3/projects/devel-pfc-mapping/Pool_Devel_2/FC_P0b_3C_7-1-L3/raw/FC_P0b_3C_7-1-L3+L001+R2.fq.gz\n",
      "    output: /home/sky3/projects/devel-pfc-mapping/Pool_Devel_2/FC_P0b_3C_7-1-L3/lanes/FC_P0b_3C_7-1-L3-L001.demultiplex.stats.txt\n",
      "    jobid: 25\n",
      "    reason: Missing output files: /home/sky3/projects/devel-pfc-mapping/Pool_Devel_2/FC_P0b_3C_7-1-L3/lanes/FC_P0b_3C_7-1-L3-L001.demultiplex.stats.txt\n",
      "    resources: tmpdir=/tmp\n",
      "\n",
      "\n",
      "[Mon Dec 12 22:31:03 2022]\n",
      "rule demultiplex_10:\n",
      "    input: /home/sky3/projects/devel-pfc-mapping/Pool_Devel_2/FC_P0b_3C_3-1-K20/raw/FC_P0b_3C_3-1-K20+L003+R1.fq.gz, /home/sky3/projects/devel-pfc-mapping/Pool_Devel_2/FC_P0b_3C_3-1-K20/raw/FC_P0b_3C_3-1-K20+L003+R2.fq.gz\n",
      "    output: /home/sky3/projects/devel-pfc-mapping/Pool_Devel_2/FC_P0b_3C_3-1-K20/lanes/FC_P0b_3C_3-1-K20-L003.demultiplex.stats.txt\n",
      "    jobid: 11\n",
      "    reason: Missing output files: /home/sky3/projects/devel-pfc-mapping/Pool_Devel_2/FC_P0b_3C_3-1-K20/lanes/FC_P0b_3C_3-1-K20-L003.demultiplex.stats.txt\n",
      "    resources: tmpdir=/tmp\n",
      "\n",
      "\n",
      "[Mon Dec 12 22:31:03 2022]\n",
      "rule demultiplex_0:\n",
      "    input: /home/sky3/projects/devel-pfc-mapping/Pool_Devel_2/FC_P0b_3C_1-1-M14/raw/FC_P0b_3C_1-1-M14+L001+R1.fq.gz, /home/sky3/projects/devel-pfc-mapping/Pool_Devel_2/FC_P0b_3C_1-1-M14/raw/FC_P0b_3C_1-1-M14+L001+R2.fq.gz\n",
      "    output: /home/sky3/projects/devel-pfc-mapping/Pool_Devel_2/FC_P0b_3C_1-1-M14/lanes/FC_P0b_3C_1-1-M14-L001.demultiplex.stats.txt\n",
      "    jobid: 1\n",
      "    reason: Missing output files: /home/sky3/projects/devel-pfc-mapping/Pool_Devel_2/FC_P0b_3C_1-1-M14/lanes/FC_P0b_3C_1-1-M14-L001.demultiplex.stats.txt\n",
      "    resources: tmpdir=/tmp\n",
      "\n",
      "\n",
      "[Mon Dec 12 22:31:03 2022]\n",
      "rule demultiplex_16:\n",
      "    input: /home/sky3/projects/devel-pfc-mapping/Pool_Devel_2/FC_P0b_3C_5-1-I24/raw/FC_P0b_3C_5-1-I24+L001+R1.fq.gz, /home/sky3/projects/devel-pfc-mapping/Pool_Devel_2/FC_P0b_3C_5-1-I24/raw/FC_P0b_3C_5-1-I24+L001+R2.fq.gz\n",
      "    output: /home/sky3/projects/devel-pfc-mapping/Pool_Devel_2/FC_P0b_3C_5-1-I24/lanes/FC_P0b_3C_5-1-I24-L001.demultiplex.stats.txt\n",
      "    jobid: 17\n",
      "    reason: Missing output files: /home/sky3/projects/devel-pfc-mapping/Pool_Devel_2/FC_P0b_3C_5-1-I24/lanes/FC_P0b_3C_5-1-I24-L001.demultiplex.stats.txt\n",
      "    resources: tmpdir=/tmp\n",
      "\n",
      "\n",
      "[Mon Dec 12 22:31:03 2022]\n",
      "rule demultiplex_4:\n",
      "    input: /home/sky3/projects/devel-pfc-mapping/Pool_Devel_2/FC_P0b_3C_2-1-K18/raw/FC_P0b_3C_2-1-K18+L001+R1.fq.gz, /home/sky3/projects/devel-pfc-mapping/Pool_Devel_2/FC_P0b_3C_2-1-K18/raw/FC_P0b_3C_2-1-K18+L001+R2.fq.gz\n",
      "    output: /home/sky3/projects/devel-pfc-mapping/Pool_Devel_2/FC_P0b_3C_2-1-K18/lanes/FC_P0b_3C_2-1-K18-L001.demultiplex.stats.txt\n",
      "    jobid: 5\n",
      "    reason: Missing output files: /home/sky3/projects/devel-pfc-mapping/Pool_Devel_2/FC_P0b_3C_2-1-K18/lanes/FC_P0b_3C_2-1-K18-L001.demultiplex.stats.txt\n",
      "    resources: tmpdir=/tmp\n",
      "\n"
     ]
    }
   ],
   "source": [
    "demultiplex_pipeline(\n",
    "    fastq_pattern=f'{fastq_dir}/*.gz', \n",
    "    output_dir=pathlib.Path(fastq_dir).name, \n",
    "    config_path='mm10.hisat-3n.mapping_config.ini', \n",
    "    cpu=10, \n",
    "    aligner='hisat-3n'\n",
    ")"
   ]
  },
  {
   "cell_type": "code",
   "execution_count": null,
   "id": "fe2e6653",
   "metadata": {},
   "outputs": [],
   "source": []
  }
 ],
 "metadata": {
  "hide_input": false,
  "kernelspec": {
   "display_name": "Python 3 (ipykernel)",
   "language": "python",
   "name": "python3"
  },
  "language_info": {
   "codemirror_mode": {
    "name": "ipython",
    "version": 3
   },
   "file_extension": ".py",
   "mimetype": "text/x-python",
   "name": "python",
   "nbconvert_exporter": "python",
   "pygments_lexer": "ipython3",
   "version": "3.9.13"
  },
  "toc": {
   "base_numbering": 1,
   "nav_menu": {},
   "number_sections": true,
   "sideBar": true,
   "skip_h1_title": true,
   "title_cell": "Table of Contents",
   "title_sidebar": "Contents",
   "toc_cell": false,
   "toc_position": {
    "height": "calc(100% - 180px)",
    "left": "10px",
    "top": "150px",
    "width": "399.594px"
   },
   "toc_section_display": true,
   "toc_window_display": true
  }
 },
 "nbformat": 4,
 "nbformat_minor": 5
}
