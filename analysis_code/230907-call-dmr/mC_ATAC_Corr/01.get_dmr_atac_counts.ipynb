{
 "cells": [
  {
   "cell_type": "code",
   "execution_count": 1,
   "id": "b26dc669-3b3b-474a-8976-499b2551119d",
   "metadata": {
    "execution": {
     "iopub.execute_input": "2024-06-20T18:45:29.584982Z",
     "iopub.status.busy": "2024-06-20T18:45:29.584416Z",
     "iopub.status.idle": "2024-06-20T18:45:31.324947Z",
     "shell.execute_reply": "2024-06-20T18:45:31.323796Z",
     "shell.execute_reply.started": "2024-06-20T18:45:29.584925Z"
    },
    "tags": []
   },
   "outputs": [],
   "source": [
    "import glob\n",
    "import seaborn as sns\n",
    "import pandas as pd\n",
    "import pybedtools\n",
    "from matplotlib import pyplot as plt\n",
    "import pyBigWig\n",
    "from tqdm import tqdm\n",
    "import joblib"
   ]
  },
  {
   "cell_type": "code",
   "execution_count": 2,
   "id": "d9eaeed3-d684-4959-a1d9-61b57f323f03",
   "metadata": {
    "execution": {
     "iopub.execute_input": "2024-06-20T18:45:31.327421Z",
     "iopub.status.busy": "2024-06-20T18:45:31.326861Z",
     "iopub.status.idle": "2024-06-20T18:45:31.331873Z",
     "shell.execute_reply": "2024-06-20T18:45:31.331013Z",
     "shell.execute_reply.started": "2024-06-20T18:45:31.327392Z"
    },
    "tags": []
   },
   "outputs": [],
   "source": [
    "age_list = ['2mo','9mo','18mo']\n",
    "_type  = 'Hypo'\n",
    "\n",
    "dmr_dir = '/home/qzeng/project/aging/230907-recall-dmr/Merge_DMR/mC_FILTER_DMR_BED'\n",
    "bigwig_dir = '/ceph/gale-1/qzeng/AmbData/Luisa/male_atac'"
   ]
  },
  {
   "cell_type": "code",
   "execution_count": 3,
   "id": "572289ab-b04f-4e5d-8706-74fed783a0dc",
   "metadata": {
    "execution": {
     "iopub.execute_input": "2024-06-20T18:45:31.332712Z",
     "iopub.status.busy": "2024-06-20T18:45:31.332509Z",
     "iopub.status.idle": "2024-06-20T18:45:31.336558Z",
     "shell.execute_reply": "2024-06-20T18:45:31.335896Z",
     "shell.execute_reply.started": "2024-06-20T18:45:31.332693Z"
    },
    "tags": []
   },
   "outputs": [],
   "source": [
    "mc_to_atac = joblib.load('mc_to_atac')"
   ]
  },
  {
   "cell_type": "code",
   "execution_count": 9,
   "id": "e9941429-8a9d-44fa-827a-55038266a4c0",
   "metadata": {
    "execution": {
     "iopub.execute_input": "2024-06-20T18:50:31.362729Z",
     "iopub.status.busy": "2024-06-20T18:50:31.362517Z",
     "iopub.status.idle": "2024-06-20T18:50:31.368338Z",
     "shell.execute_reply": "2024-06-20T18:50:31.367613Z",
     "shell.execute_reply.started": "2024-06-20T18:50:31.362708Z"
    },
    "tags": []
   },
   "outputs": [
    {
     "data": {
      "text/plain": [
       "{'L23_IT_ENT_Glut': 'L2_3_IT_ENT_Glut',\n",
       " 'L23_IT_ENTl-PIR_Glut': 'L2_3_IT_PIR-ENTl_Glut',\n",
       " 'L23_IT_PPP_Glut': 'L2_3_IT_PPP_Glut',\n",
       " 'L6bCT_ENT_Glut': 'L6b_CT_ENT_Glut',\n",
       " 'PAG_Glut': 'PAG_Pou4f1_Ebf2_Glut',\n",
       " 'VipSncg_Gaba': 'Sncg_Gaba',\n",
       " 'Astro-NT_NN': 'Astro-NT',\n",
       " 'Astro-TE_NN': 'Astro-TE',\n",
       " 'MB-MY_Tph2_Glut-Sero': 'MB-MY_Tph2_Glut-Sero',\n",
       " 'CA1-ProS_Glut': 'CA1-ProS_Glut',\n",
       " 'CA2-FC-IG_Glut': 'CA2-FC-IG_Glut',\n",
       " 'CA3_Glut': 'CA3_Glut',\n",
       " 'CEA-BST_Gaba': 'CEA-BST_Gaba',\n",
       " 'DG_Glut': 'DG_Glut',\n",
       " 'ENTmv-PA-COAp_Glut': 'ENTmv-PA-COAp_Glut',\n",
       " 'Endo_NN': 'Endo_NN',\n",
       " 'L2_IT_PPP-APr_Glut': 'L2_IT_PPP-APr_Glut',\n",
       " 'L5_ET_CTX_Glut': 'L5_ET_CTX_Glut',\n",
       " 'L5_IT_CTX_Glut': 'L5_IT_CTX_Glut',\n",
       " 'L5_NP_CTX_Glut': 'L5_NP_CTX_Glut',\n",
       " 'L6_CT_CTX_Glut': 'L6_CT_CTX_Glut',\n",
       " 'L6_IT_CTX_Glut': 'L6_IT_CTX_Glut',\n",
       " 'LA-BLA-BMA-PA_Glut': 'LA-BLA-BMA-PA_Glut',\n",
       " 'Lamp5_Gaba': 'Lamp5_Gaba',\n",
       " 'OPC_NN': 'OPC_NN',\n",
       " 'MEA-BST_Gaba': 'MEA-BST_Gaba',\n",
       " 'Microglia_NN': 'Microglia_NN',\n",
       " 'Oligo_NN': 'Oligo_NN',\n",
       " 'NDB-SI-MA-STRv_Lhx8_Gaba': 'NDB-SI-MA-STRv_Lhx8_Gaba',\n",
       " 'NP_SUB_Glut': 'NP_SUB_Glut',\n",
       " 'OT_D3_Folh1_Gaba': 'OT_D3_Folh1_Gaba',\n",
       " 'STR-PAL_Chst9_Gaba': 'STR-PAL_Chst9_Gaba',\n",
       " 'SUB-ProS_Glut': 'SUB-ProS_Glut',\n",
       " 'Sst_Chodl_Gaba': 'Sst_Chodl_Gaba',\n",
       " 'Sst_Gaba': 'Sst_Gaba',\n",
       " 'VLMC_NN': 'VLMC_NN',\n",
       " 'STR_D1_Sema5a_Gaba': 'STR_D1_Sema5a_Gaba',\n",
       " 'Vip_Gaba': 'Vip_Gaba'}"
      ]
     },
     "execution_count": 9,
     "metadata": {},
     "output_type": "execute_result"
    }
   ],
   "source": [
    "mc_to_atac"
   ]
  },
  {
   "cell_type": "code",
   "execution_count": 4,
   "id": "dea56eb7-1e3b-4f49-8cb0-8d5a2b0ddbde",
   "metadata": {
    "execution": {
     "iopub.execute_input": "2024-06-20T18:45:31.337578Z",
     "iopub.status.busy": "2024-06-20T18:45:31.337369Z",
     "iopub.status.idle": "2024-06-20T18:45:31.340590Z",
     "shell.execute_reply": "2024-06-20T18:45:31.340058Z",
     "shell.execute_reply.started": "2024-06-20T18:45:31.337559Z"
    },
    "tags": []
   },
   "outputs": [],
   "source": [
    "# mc_to_atac = {'Oligo_NN':'Oligo_NN',\n",
    "#              'CA1-ProS_Glut': 'CA1-ProS_Glut',\n",
    "#              'L5_IT_CTX_Glut': 'L5_IT_CTX_Glut',\n",
    "#              'DG_Glut': 'DG_Glut',\n",
    "#              'L6_IT_CTX_Glut': 'L6_IT_CTX_Glut',\n",
    "#              'L5_ET_CTX_Glut': 'L5_ET_CTX_Glut',\n",
    "#              'CA3_Glut': 'CA3_Glut',\n",
    "#              'L23_IT_PPP_Glut':'L2_IT_PPP-APr_Glut',\n",
    "#              'ENTmv-PA-COAp_Glut': 'ENTmv-PA-COAp_Glut',\n",
    "#              'L45_IT_CTX_Glut':'L5_IT_CTX_Glut',\n",
    "#              'LA-BLA-BMA-PA_Glut': 'LA-BLA-BMA-PA_Glut'}\n"
   ]
  },
  {
   "cell_type": "code",
   "execution_count": 5,
   "id": "f7c5ac57-d509-428f-869c-cc7d44cfe430",
   "metadata": {
    "execution": {
     "iopub.execute_input": "2024-06-20T18:45:31.341503Z",
     "iopub.status.busy": "2024-06-20T18:45:31.341297Z",
     "iopub.status.idle": "2024-06-20T18:45:31.347297Z",
     "shell.execute_reply": "2024-06-20T18:45:31.346507Z",
     "shell.execute_reply.started": "2024-06-20T18:45:31.341484Z"
    },
    "tags": []
   },
   "outputs": [],
   "source": [
    "def get_atac_counts(age, dmr_list):\n",
    "    bigwig_path = f\"{bigwig_dir}/Male_{atac_ct}_{age}_merge.bw\"\n",
    "    try:\n",
    "        bw = pyBigWig.open(bigwig_path)\n",
    "    except Exception as e:\n",
    "        return None\n",
    "    \n",
    "    total_counts = []\n",
    "    for dmr_id in dmr_list:\n",
    "        slop = 1000\n",
    "        _chr, start, end = dmr_id.split('-')\n",
    "        start, end = int(start)-slop, int(end) + slop\n",
    "        counts = bw.stats(_chr, start, end, type=\"sum\")[0]\n",
    "        total_counts.append(counts)\n",
    "    tmpdf = pd.DataFrame({age:total_counts}, index = dmr_list)\n",
    "    bw.close()\n",
    "    return tmpdf"
   ]
  },
  {
   "cell_type": "code",
   "execution_count": 6,
   "id": "6ea128d4-3efa-4f0c-b8b6-31f5a845233a",
   "metadata": {
    "execution": {
     "iopub.execute_input": "2024-06-20T18:45:31.348273Z",
     "iopub.status.busy": "2024-06-20T18:45:31.347961Z",
     "iopub.status.idle": "2024-06-20T18:45:31.354658Z",
     "shell.execute_reply": "2024-06-20T18:45:31.354186Z",
     "shell.execute_reply.started": "2024-06-20T18:45:31.348253Z"
    },
    "tags": []
   },
   "outputs": [
    {
     "data": {
      "text/plain": [
       "38"
      ]
     },
     "execution_count": 6,
     "metadata": {},
     "output_type": "execute_result"
    }
   ],
   "source": [
    "use_cts = list(mc_to_atac.keys())\n",
    "len(use_cts)"
   ]
  },
  {
   "cell_type": "code",
   "execution_count": 7,
   "id": "3e202bf2-7a71-41fb-8fc7-e526e14b16e2",
   "metadata": {
    "execution": {
     "iopub.execute_input": "2024-06-20T18:45:31.357540Z",
     "iopub.status.busy": "2024-06-20T18:45:31.357341Z",
     "iopub.status.idle": "2024-06-20T18:45:31.360883Z",
     "shell.execute_reply": "2024-06-20T18:45:31.360145Z",
     "shell.execute_reply.started": "2024-06-20T18:45:31.357521Z"
    },
    "tags": []
   },
   "outputs": [],
   "source": [
    "# use_cts = ['Oligo_NN', 'CA1-ProS_Glut', 'L5_IT_CTX_Glut', 'DG_Glut', 'L6_IT_CTX_Glut', 'L5_ET_CTX_Glut', 'CA3_Glut', \n",
    "#            'L23_IT_PPP_Glut', 'ENTmv-PA-COAp_Glut']"
   ]
  },
  {
   "cell_type": "code",
   "execution_count": 8,
   "id": "e85a02be-b7f9-499f-9ea8-c38b7f6694d3",
   "metadata": {
    "execution": {
     "iopub.execute_input": "2024-06-20T18:45:34.359133Z",
     "iopub.status.busy": "2024-06-20T18:45:34.358450Z",
     "iopub.status.idle": "2024-06-20T18:50:30.264607Z",
     "shell.execute_reply": "2024-06-20T18:50:30.263393Z",
     "shell.execute_reply.started": "2024-06-20T18:45:34.359077Z"
    },
    "tags": []
   },
   "outputs": [],
   "source": [
    "for _type in ['Hypo','Hyper']:\n",
    "    for ct in use_cts:\n",
    "        atac_ct = mc_to_atac[ct]\n",
    "        dmr_path = f\"{dmr_dir}/{ct}.{_type}.aDMR.bed\"\n",
    "        dmr_bed = pd.read_csv(dmr_path, sep = '\\t', header = None, index_col = 3)\n",
    "        all_dmrs = dmr_bed.index\n",
    "\n",
    "        all_counts_df = []\n",
    "        for age in age_list:\n",
    "            tmpdf = get_atac_counts(age, all_dmrs)\n",
    "            if tmpdf is None:\n",
    "                print(f\"{ct} {age}\")\n",
    "                continue\n",
    "            else:\n",
    "                all_counts_df.append(tmpdf)\n",
    "        all_counts_df = pd.concat(all_counts_df, axis = 1)\n",
    "        all_counts_df.to_csv(f\"1000_atac_counts/{ct}.{_type}.csv\")\n",
    "    "
   ]
  },
  {
   "cell_type": "code",
   "execution_count": null,
   "id": "2fae1ab0-7a33-4967-8f49-6da750d3bc9b",
   "metadata": {},
   "outputs": [],
   "source": []
  },
  {
   "cell_type": "code",
   "execution_count": null,
   "id": "01883430-a5c1-4d70-b92e-80e99fda796a",
   "metadata": {},
   "outputs": [],
   "source": []
  },
  {
   "cell_type": "code",
   "execution_count": null,
   "id": "d19b1f06-d3e6-4ef4-ae5e-cad95020dffb",
   "metadata": {},
   "outputs": [],
   "source": []
  },
  {
   "cell_type": "code",
   "execution_count": null,
   "id": "d62c4a58-e9da-48f2-bfc7-0e706c777cb5",
   "metadata": {},
   "outputs": [],
   "source": []
  },
  {
   "cell_type": "code",
   "execution_count": null,
   "id": "c5f2317d-9caf-4cc2-a2e4-08fc1944d9d2",
   "metadata": {},
   "outputs": [],
   "source": []
  },
  {
   "cell_type": "code",
   "execution_count": null,
   "id": "5f914201-053f-47b9-89fb-3163e9e9cab8",
   "metadata": {},
   "outputs": [],
   "source": []
  },
  {
   "cell_type": "code",
   "execution_count": null,
   "id": "3197d16d-e708-476f-8e82-05c5213d7b70",
   "metadata": {},
   "outputs": [],
   "source": []
  },
  {
   "cell_type": "code",
   "execution_count": null,
   "id": "f234465a-4e1b-44fe-bd71-c8d2d8965a39",
   "metadata": {},
   "outputs": [],
   "source": []
  },
  {
   "cell_type": "code",
   "execution_count": null,
   "id": "629b3582-de28-4515-a086-78d6741d3914",
   "metadata": {},
   "outputs": [],
   "source": []
  },
  {
   "cell_type": "code",
   "execution_count": null,
   "id": "899c597d-1742-4aa0-afb7-fadfbd936d9d",
   "metadata": {},
   "outputs": [],
   "source": []
  },
  {
   "cell_type": "code",
   "execution_count": null,
   "id": "f81e8fe3-ab5f-40e7-b9b1-fbdc87ce15bd",
   "metadata": {},
   "outputs": [],
   "source": []
  },
  {
   "cell_type": "code",
   "execution_count": null,
   "id": "82761652-36c4-4546-8aa9-72583c39ef48",
   "metadata": {},
   "outputs": [],
   "source": []
  },
  {
   "cell_type": "code",
   "execution_count": null,
   "id": "8e378746-77dd-41be-af16-f896d5227312",
   "metadata": {},
   "outputs": [],
   "source": []
  },
  {
   "cell_type": "code",
   "execution_count": null,
   "id": "f7f80bba-51f5-4f0f-9d47-3fa4a7be6ea7",
   "metadata": {},
   "outputs": [],
   "source": []
  },
  {
   "cell_type": "code",
   "execution_count": null,
   "id": "bca19b96-2179-4399-b883-6f1b08562ffb",
   "metadata": {},
   "outputs": [],
   "source": []
  },
  {
   "cell_type": "code",
   "execution_count": null,
   "id": "ec7426f5-7569-42d5-b08d-b8fffdf45e08",
   "metadata": {},
   "outputs": [],
   "source": []
  }
 ],
 "metadata": {
  "kernelspec": {
   "display_name": "Python 3 (ipykernel)",
   "language": "python",
   "name": "python3"
  },
  "language_info": {
   "codemirror_mode": {
    "name": "ipython",
    "version": 3
   },
   "file_extension": ".py",
   "mimetype": "text/x-python",
   "name": "python",
   "nbconvert_exporter": "python",
   "pygments_lexer": "ipython3",
   "version": "3.7.12"
  }
 },
 "nbformat": 4,
 "nbformat_minor": 5
}
