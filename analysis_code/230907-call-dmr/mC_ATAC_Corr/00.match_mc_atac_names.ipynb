{
 "cells": [
  {
   "cell_type": "code",
   "execution_count": 1,
   "id": "d51e75ec-a1e2-4739-ae91-ba0cb6a8674f",
   "metadata": {
    "execution": {
     "iopub.execute_input": "2024-06-20T18:31:26.843985Z",
     "iopub.status.busy": "2024-06-20T18:31:26.843362Z",
     "iopub.status.idle": "2024-06-20T18:31:26.856383Z",
     "shell.execute_reply": "2024-06-20T18:31:26.855123Z",
     "shell.execute_reply.started": "2024-06-20T18:31:26.843937Z"
    },
    "tags": []
   },
   "outputs": [],
   "source": [
    "import glob"
   ]
  },
  {
   "cell_type": "code",
   "execution_count": 2,
   "id": "840e158d-7f5e-4f5c-b296-360d57e2577e",
   "metadata": {
    "execution": {
     "iopub.execute_input": "2024-06-20T18:31:26.858683Z",
     "iopub.status.busy": "2024-06-20T18:31:26.858208Z",
     "iopub.status.idle": "2024-06-20T18:31:26.863464Z",
     "shell.execute_reply": "2024-06-20T18:31:26.862358Z",
     "shell.execute_reply.started": "2024-06-20T18:31:26.858647Z"
    },
    "tags": []
   },
   "outputs": [],
   "source": [
    "dmr_dir = '/home/qzeng/project/aging/230907-recall-dmr/Merge_DMR/mC_FILTER_DMR_BED'\n",
    "bigwig_dir = '/ceph/gale-1/qzeng/AmbData/Luisa/male_atac'"
   ]
  },
  {
   "cell_type": "code",
   "execution_count": 3,
   "id": "0885d497-df53-4c30-8a1d-d6ce93b08c22",
   "metadata": {
    "execution": {
     "iopub.execute_input": "2024-06-20T18:31:26.865036Z",
     "iopub.status.busy": "2024-06-20T18:31:26.864597Z",
     "iopub.status.idle": "2024-06-20T18:31:26.871713Z",
     "shell.execute_reply": "2024-06-20T18:31:26.870848Z",
     "shell.execute_reply.started": "2024-06-20T18:31:26.865002Z"
    },
    "tags": []
   },
   "outputs": [],
   "source": [
    "all_mc_names = [path.split('/')[-1].split('.')[0] for path in glob.glob(f\"{dmr_dir}/*.Hypo.aDMR.bed\")]"
   ]
  },
  {
   "cell_type": "code",
   "execution_count": 8,
   "id": "415c058f-79d8-4460-840c-f6903f55b4bb",
   "metadata": {
    "execution": {
     "iopub.execute_input": "2024-06-20T18:32:39.904289Z",
     "iopub.status.busy": "2024-06-20T18:32:39.903674Z",
     "iopub.status.idle": "2024-06-20T18:32:39.917665Z",
     "shell.execute_reply": "2024-06-20T18:32:39.916545Z",
     "shell.execute_reply.started": "2024-06-20T18:32:39.904234Z"
    },
    "tags": []
   },
   "outputs": [
    {
     "data": {
      "text/plain": [
       "82"
      ]
     },
     "execution_count": 8,
     "metadata": {},
     "output_type": "execute_result"
    }
   ],
   "source": [
    "all_atac_2mo_names = [path.split('/')[-1].split('_2mo')[0].split('Male_')[1] for path in glob.glob(f\"{bigwig_dir}/*_2mo_*\")]\n",
    "len(all_atac_2mo_names)"
   ]
  },
  {
   "cell_type": "code",
   "execution_count": 9,
   "id": "4f5e2d14-bf62-4bb6-9bc8-23e1137aeb0b",
   "metadata": {
    "execution": {
     "iopub.execute_input": "2024-06-20T18:32:40.491540Z",
     "iopub.status.busy": "2024-06-20T18:32:40.490849Z",
     "iopub.status.idle": "2024-06-20T18:32:40.503934Z",
     "shell.execute_reply": "2024-06-20T18:32:40.502876Z",
     "shell.execute_reply.started": "2024-06-20T18:32:40.491485Z"
    },
    "tags": []
   },
   "outputs": [
    {
     "data": {
      "text/plain": [
       "82"
      ]
     },
     "execution_count": 9,
     "metadata": {},
     "output_type": "execute_result"
    }
   ],
   "source": [
    "all_atac_9mo_names = [path.split('/')[-1].split('_9mo')[0].split('Male_')[1] for path in glob.glob(f\"{bigwig_dir}/*_9mo_*\")]\n",
    "len(all_atac_2mo_names)"
   ]
  },
  {
   "cell_type": "code",
   "execution_count": 10,
   "id": "a50951f3-8c17-40d5-a0d8-807d4537d5d6",
   "metadata": {
    "execution": {
     "iopub.execute_input": "2024-06-20T18:32:41.541436Z",
     "iopub.status.busy": "2024-06-20T18:32:41.540742Z",
     "iopub.status.idle": "2024-06-20T18:32:41.554199Z",
     "shell.execute_reply": "2024-06-20T18:32:41.553134Z",
     "shell.execute_reply.started": "2024-06-20T18:32:41.541382Z"
    },
    "tags": []
   },
   "outputs": [
    {
     "data": {
      "text/plain": [
       "82"
      ]
     },
     "execution_count": 10,
     "metadata": {},
     "output_type": "execute_result"
    }
   ],
   "source": [
    "all_atac_18mo_names = [path.split('/')[-1].split('_18mo')[0].split('Male_')[1] for path in glob.glob(f\"{bigwig_dir}/*_18mo_*\")]\n",
    "len(all_atac_2mo_names)"
   ]
  },
  {
   "cell_type": "code",
   "execution_count": 11,
   "id": "5b5fc6b9-5b18-4fbf-897c-31813a71f2c6",
   "metadata": {
    "execution": {
     "iopub.execute_input": "2024-06-20T18:32:52.264688Z",
     "iopub.status.busy": "2024-06-20T18:32:52.264292Z",
     "iopub.status.idle": "2024-06-20T18:32:52.272994Z",
     "shell.execute_reply": "2024-06-20T18:32:52.271678Z",
     "shell.execute_reply.started": "2024-06-20T18:32:52.264653Z"
    },
    "tags": []
   },
   "outputs": [
    {
     "data": {
      "text/plain": [
       "78"
      ]
     },
     "execution_count": 11,
     "metadata": {},
     "output_type": "execute_result"
    }
   ],
   "source": [
    "all_atac_names = list(set(all_atac_2mo_names) & set(all_atac_9mo_names) & set(all_atac_18mo_names))\n",
    "len(all_atac_names)"
   ]
  },
  {
   "cell_type": "code",
   "execution_count": 12,
   "id": "f40724be-01bd-478b-aefc-1abc5afeccb4",
   "metadata": {
    "execution": {
     "iopub.execute_input": "2024-06-20T18:32:54.176506Z",
     "iopub.status.busy": "2024-06-20T18:32:54.175922Z",
     "iopub.status.idle": "2024-06-20T18:32:54.183727Z",
     "shell.execute_reply": "2024-06-20T18:32:54.182191Z",
     "shell.execute_reply.started": "2024-06-20T18:32:54.176452Z"
    },
    "tags": []
   },
   "outputs": [],
   "source": [
    "already_matched = [mc for mc in all_mc_names if mc in all_atac_names]"
   ]
  },
  {
   "cell_type": "code",
   "execution_count": 17,
   "id": "be92361e-7217-44c3-adc8-fba37bf0ce6f",
   "metadata": {
    "execution": {
     "iopub.execute_input": "2024-06-20T18:33:23.422245Z",
     "iopub.status.busy": "2024-06-20T18:33:23.421490Z",
     "iopub.status.idle": "2024-06-20T18:33:23.428398Z",
     "shell.execute_reply": "2024-06-20T18:33:23.427346Z",
     "shell.execute_reply.started": "2024-06-20T18:33:23.422175Z"
    },
    "tags": []
   },
   "outputs": [],
   "source": [
    "# for _name in all_mc_names:\n",
    "#     if _name not in already_matched:\n",
    "#         print(_name)"
   ]
  },
  {
   "cell_type": "code",
   "execution_count": 18,
   "id": "9e606acf-e4bd-4de2-865a-7645b235f0c8",
   "metadata": {
    "execution": {
     "iopub.execute_input": "2024-06-20T18:33:27.774993Z",
     "iopub.status.busy": "2024-06-20T18:33:27.774660Z",
     "iopub.status.idle": "2024-06-20T18:33:27.779186Z",
     "shell.execute_reply": "2024-06-20T18:33:27.778478Z",
     "shell.execute_reply.started": "2024-06-20T18:33:27.774970Z"
    },
    "tags": []
   },
   "outputs": [],
   "source": [
    "mc_to_atac = {\n",
    "#'DGNBL_Glut':'',\n",
    "#'MEA-COAp_Glut':'',\n",
    "#'L23_IT_CTX_Glut':'L2_3_IT_CTX_Glut',\n",
    "'L23_IT_ENT_Glut':'L2_3_IT_ENT_Glut',\n",
    "'L23_IT_ENTl-PIR_Glut':'L2_3_IT_PIR-ENTl_Glut',\n",
    "'L23_IT_PPP_Glut':'L2_3_IT_PPP_Glut',\n",
    "'L6bCT_ENT_Glut':'L6b_CT_ENT_Glut',\n",
    "'PAG_Glut':'PAG_Pou4f1_Ebf2_Glut',\n",
    "# 'PAG-MRN_Pou3f1_Glut':'',\n",
    "# 'PAG_PCG':'',\n",
    "# 'STR_D1_Gaba':'STR_D12_Gaba',\n",
    "# 'STR_D2_Gaba':'STR_D12_Gaba',\n",
    "# 'STR_Gaba':'STR_Prox1_Lhx6_Gaba',\n",
    "'VipSncg_Gaba':'Sncg_Gaba',\n",
    "'Astro-NT_NN':'Astro-NT',\n",
    "'Astro-TE_NN':'Astro-TE',\n",
    "# 'LDT-PCG-CS_Gata3_Lhx1_Gaba':'',\n",
    "# 'MEA-COA_Glut':'',\n",
    "# 'PAG-PPN_Pax5_Sox21_Gaba':'',\n",
    "# 'PB_Evx2_Glut':'',\n",
    "}"
   ]
  },
  {
   "cell_type": "code",
   "execution_count": 19,
   "id": "c233e0b4-73c0-49e4-8ea9-b9e954667b25",
   "metadata": {
    "execution": {
     "iopub.execute_input": "2024-06-20T18:33:29.967889Z",
     "iopub.status.busy": "2024-06-20T18:33:29.967183Z",
     "iopub.status.idle": "2024-06-20T18:33:29.974414Z",
     "shell.execute_reply": "2024-06-20T18:33:29.972873Z",
     "shell.execute_reply.started": "2024-06-20T18:33:29.967836Z"
    },
    "tags": []
   },
   "outputs": [],
   "source": [
    "for ct in already_matched:\n",
    "    mc_to_atac[ct] = ct"
   ]
  },
  {
   "cell_type": "code",
   "execution_count": 20,
   "id": "a3391947-3bf9-4b9d-801f-483cb4b9390e",
   "metadata": {
    "execution": {
     "iopub.execute_input": "2024-06-20T18:34:07.058117Z",
     "iopub.status.busy": "2024-06-20T18:34:07.057770Z",
     "iopub.status.idle": "2024-06-20T18:34:07.062257Z",
     "shell.execute_reply": "2024-06-20T18:34:07.061618Z",
     "shell.execute_reply.started": "2024-06-20T18:34:07.058083Z"
    },
    "tags": []
   },
   "outputs": [],
   "source": [
    "for k,v in mc_to_atac.items():\n",
    "    if v not in all_atac_names:\n",
    "        print(v)"
   ]
  },
  {
   "cell_type": "code",
   "execution_count": 21,
   "id": "92c11b49-ecf0-475b-875c-b5e6d2119be4",
   "metadata": {
    "execution": {
     "iopub.execute_input": "2024-06-20T18:34:14.650731Z",
     "iopub.status.busy": "2024-06-20T18:34:14.650098Z",
     "iopub.status.idle": "2024-06-20T18:34:14.968490Z",
     "shell.execute_reply": "2024-06-20T18:34:14.967638Z",
     "shell.execute_reply.started": "2024-06-20T18:34:14.650675Z"
    },
    "tags": []
   },
   "outputs": [],
   "source": [
    "import joblib"
   ]
  },
  {
   "cell_type": "code",
   "execution_count": 22,
   "id": "f0fc8832-4c6a-423b-975c-07aa53402cbc",
   "metadata": {
    "execution": {
     "iopub.execute_input": "2024-06-20T18:34:15.022968Z",
     "iopub.status.busy": "2024-06-20T18:34:15.022061Z",
     "iopub.status.idle": "2024-06-20T18:34:15.033500Z",
     "shell.execute_reply": "2024-06-20T18:34:15.032180Z",
     "shell.execute_reply.started": "2024-06-20T18:34:15.022907Z"
    },
    "tags": []
   },
   "outputs": [
    {
     "data": {
      "text/plain": [
       "['mc_to_atac']"
      ]
     },
     "execution_count": 22,
     "metadata": {},
     "output_type": "execute_result"
    }
   ],
   "source": [
    "joblib.dump(mc_to_atac,'mc_to_atac') "
   ]
  },
  {
   "cell_type": "code",
   "execution_count": null,
   "id": "f48f1166-b732-441b-b977-bc3ad7d1d6ec",
   "metadata": {},
   "outputs": [],
   "source": []
  },
  {
   "cell_type": "code",
   "execution_count": null,
   "id": "fdb60520-2a55-47a1-a862-0ab5ead4c1c0",
   "metadata": {},
   "outputs": [],
   "source": []
  },
  {
   "cell_type": "code",
   "execution_count": null,
   "id": "0020abe4-e20e-4b32-bfdf-6b8d038200d1",
   "metadata": {},
   "outputs": [],
   "source": []
  },
  {
   "cell_type": "code",
   "execution_count": null,
   "id": "6e59a6c9-ea3f-40ec-917c-a3cdc5dbe434",
   "metadata": {},
   "outputs": [],
   "source": []
  }
 ],
 "metadata": {
  "kernelspec": {
   "display_name": "Python 3 (ipykernel)",
   "language": "python",
   "name": "python3"
  },
  "language_info": {
   "codemirror_mode": {
    "name": "ipython",
    "version": 3
   },
   "file_extension": ".py",
   "mimetype": "text/x-python",
   "name": "python",
   "nbconvert_exporter": "python",
   "pygments_lexer": "ipython3",
   "version": "3.7.12"
  }
 },
 "nbformat": 4,
 "nbformat_minor": 5
}
