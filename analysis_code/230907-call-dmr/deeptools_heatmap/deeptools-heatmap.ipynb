{
 "cells": [
  {
   "cell_type": "code",
   "execution_count": 1,
   "id": "8407a385-88a8-4128-af2f-5b602cea7ddf",
   "metadata": {
    "execution": {
     "iopub.execute_input": "2024-07-02T20:52:36.333722Z",
     "iopub.status.busy": "2024-07-02T20:52:36.333020Z",
     "iopub.status.idle": "2024-07-02T20:52:36.777990Z",
     "shell.execute_reply": "2024-07-02T20:52:36.777342Z",
     "shell.execute_reply.started": "2024-07-02T20:52:36.333665Z"
    },
    "tags": []
   },
   "outputs": [],
   "source": [
    "import subprocess\n",
    "import pandas as pd\n",
    "import glob\n",
    "import pathlib"
   ]
  },
  {
   "cell_type": "code",
   "execution_count": 2,
   "id": "dd75ffb9-0f17-435d-a061-4add36e5c1d7",
   "metadata": {
    "execution": {
     "iopub.execute_input": "2024-07-02T20:52:36.779508Z",
     "iopub.status.busy": "2024-07-02T20:52:36.779209Z",
     "iopub.status.idle": "2024-07-02T20:52:36.799381Z",
     "shell.execute_reply": "2024-07-02T20:52:36.798856Z",
     "shell.execute_reply.started": "2024-07-02T20:52:36.779486Z"
    },
    "tags": []
   },
   "outputs": [
    {
     "data": {
      "text/plain": [
       "32"
      ]
     },
     "execution_count": 2,
     "metadata": {},
     "output_type": "execute_result"
    }
   ],
   "source": [
    "atac_use_cts = [pathlib.Path(path).name.split('_2mo')[0].split('Male_')[-1] for path in glob.glob('/ceph/gale-1/qzeng/AmbData/Luisa/male_atac/*_2mo_*')]\n",
    "mc_cts = [pathlib.Path(path).name.split('.')[0] for path in glob.glob('/home/qzeng/project/aging/230907-recall-dmr/Merge_DMR/mC_FILTER_DMR_BED/*.Hyper.aDMR.bed')]\n",
    "shared_cts  = list(set(atac_use_cts) & set(mc_cts))\n",
    "len(shared_cts)"
   ]
  },
  {
   "cell_type": "code",
   "execution_count": 3,
   "id": "9090d43b-2c40-4225-8a1d-019ae85cd0a0",
   "metadata": {
    "execution": {
     "iopub.execute_input": "2024-07-02T20:52:36.904269Z",
     "iopub.status.busy": "2024-07-02T20:52:36.903701Z",
     "iopub.status.idle": "2024-07-02T20:52:36.909776Z",
     "shell.execute_reply": "2024-07-02T20:52:36.908450Z",
     "shell.execute_reply.started": "2024-07-02T20:52:36.904216Z"
    },
    "tags": []
   },
   "outputs": [],
   "source": [
    "bw_dir = '/ceph/gale-1/qzeng/AmbData/Luisa/male_atac'\n",
    "admr_bed_dir = '/home/qzeng/project/aging/230907-recall-dmr/Merge_DMR/mC_FILTER_DMR_BED'"
   ]
  },
  {
   "cell_type": "markdown",
   "id": "d7b53c12-c402-4a55-8511-b89f4afb2072",
   "metadata": {
    "tags": []
   },
   "source": [
    "## for all"
   ]
  },
  {
   "cell_type": "code",
   "execution_count": 4,
   "id": "ab631c0a-9bdc-4902-84a1-9d205a92c0fe",
   "metadata": {
    "execution": {
     "iopub.execute_input": "2024-04-23T06:38:22.853143Z",
     "iopub.status.busy": "2024-04-23T06:38:22.852789Z",
     "iopub.status.idle": "2024-04-23T06:38:22.855523Z",
     "shell.execute_reply": "2024-04-23T06:38:22.855051Z",
     "shell.execute_reply.started": "2024-04-23T06:38:22.853119Z"
    },
    "tags": []
   },
   "outputs": [],
   "source": [
    "# def get_matrix(_type, admr_path, matrix_path):\n",
    "#     command = f\"computeMatrix scale-regions -S {bw_paths[0]} {bw_paths[1]} {bw_paths[2]} \\\n",
    "# -R {admr_path} \\\n",
    "# --beforeRegionStartLength 500 \\\n",
    "# --regionBodyLength 1500 \\\n",
    "# --afterRegionStartLength 500 \\\n",
    "# --binSize 20 \\\n",
    "# --skipZeros -o {matrix_path}\"\n",
    "#     subprocess.run(command, shell=True, stderr=subprocess.DEVNULL)"
   ]
  },
  {
   "cell_type": "code",
   "execution_count": 7,
   "id": "badbda28-5d85-48b0-b90c-d18b575b90a5",
   "metadata": {
    "execution": {
     "iopub.execute_input": "2024-04-23T06:35:54.122673Z",
     "iopub.status.busy": "2024-04-23T06:35:54.122329Z",
     "iopub.status.idle": "2024-04-23T06:37:23.816020Z",
     "shell.execute_reply": "2024-04-23T06:37:23.815186Z",
     "shell.execute_reply.started": "2024-04-23T06:35:54.122650Z"
    },
    "tags": []
   },
   "outputs": [],
   "source": [
    "for ct in shared_cts:\n",
    "    bw_paths = [f\"{bw_dir}/Male_{ct}_{age}_merge.bw\" for age in ['2mo','9mo','18mo']]\n",
    "    for _type in ['Hypo', 'Hyper']:\n",
    "        admr_path = f\"{admr_bed_dir}/{ct}.{_type}.aDMR.bed\" \n",
    "        matrix_path  = f\"{ct}.{_type}.outmat.gz\"\n",
    "        get_matrix(_type, admr_path, matrix_path)\n",
    "        "
   ]
  },
  {
   "cell_type": "code",
   "execution_count": 19,
   "id": "3dfc52f3-b032-47b2-b551-f49f21396a4d",
   "metadata": {
    "execution": {
     "iopub.execute_input": "2024-07-02T21:12:45.583599Z",
     "iopub.status.busy": "2024-07-02T21:12:45.582934Z",
     "iopub.status.idle": "2024-07-02T21:12:45.640006Z",
     "shell.execute_reply": "2024-07-02T21:12:45.639237Z",
     "shell.execute_reply.started": "2024-07-02T21:12:45.583533Z"
    },
    "tags": []
   },
   "outputs": [
    {
     "data": {
      "text/html": [
       "<div>\n",
       "<style scoped>\n",
       "    .dataframe tbody tr th:only-of-type {\n",
       "        vertical-align: middle;\n",
       "    }\n",
       "\n",
       "    .dataframe tbody tr th {\n",
       "        vertical-align: top;\n",
       "    }\n",
       "\n",
       "    .dataframe thead th {\n",
       "        text-align: right;\n",
       "    }\n",
       "</style>\n",
       "<table border=\"1\" class=\"dataframe\">\n",
       "  <thead>\n",
       "    <tr style=\"text-align: right;\">\n",
       "      <th></th>\n",
       "      <th>chr1</th>\n",
       "      <th>6846251</th>\n",
       "      <th>6846299</th>\n",
       "      <th>chr1-6846251-6846299</th>\n",
       "      <th>0.81</th>\n",
       "      <th>0.68</th>\n",
       "      <th>0.56</th>\n",
       "    </tr>\n",
       "  </thead>\n",
       "  <tbody>\n",
       "    <tr>\n",
       "      <th>0</th>\n",
       "      <td>chr1</td>\n",
       "      <td>9169723</td>\n",
       "      <td>9169728</td>\n",
       "      <td>chr1-9169723-9169728</td>\n",
       "      <td>0.76</td>\n",
       "      <td>0.60</td>\n",
       "      <td>0.51</td>\n",
       "    </tr>\n",
       "    <tr>\n",
       "      <th>1</th>\n",
       "      <td>chr1</td>\n",
       "      <td>10148905</td>\n",
       "      <td>10148983</td>\n",
       "      <td>chr1-10148905-10148983</td>\n",
       "      <td>0.73</td>\n",
       "      <td>0.58</td>\n",
       "      <td>0.53</td>\n",
       "    </tr>\n",
       "    <tr>\n",
       "      <th>2</th>\n",
       "      <td>chr1</td>\n",
       "      <td>10164948</td>\n",
       "      <td>10165945</td>\n",
       "      <td>chr1-10164948-10165945</td>\n",
       "      <td>0.53</td>\n",
       "      <td>0.35</td>\n",
       "      <td>0.20</td>\n",
       "    </tr>\n",
       "    <tr>\n",
       "      <th>3</th>\n",
       "      <td>chr1</td>\n",
       "      <td>13192043</td>\n",
       "      <td>13192080</td>\n",
       "      <td>chr1-13192043-13192080</td>\n",
       "      <td>0.75</td>\n",
       "      <td>0.61</td>\n",
       "      <td>0.54</td>\n",
       "    </tr>\n",
       "    <tr>\n",
       "      <th>4</th>\n",
       "      <td>chr1</td>\n",
       "      <td>13259663</td>\n",
       "      <td>13259747</td>\n",
       "      <td>chr1-13259663-13259747</td>\n",
       "      <td>0.85</td>\n",
       "      <td>0.74</td>\n",
       "      <td>0.63</td>\n",
       "    </tr>\n",
       "    <tr>\n",
       "      <th>...</th>\n",
       "      <td>...</td>\n",
       "      <td>...</td>\n",
       "      <td>...</td>\n",
       "      <td>...</td>\n",
       "      <td>...</td>\n",
       "      <td>...</td>\n",
       "      <td>...</td>\n",
       "    </tr>\n",
       "    <tr>\n",
       "      <th>6983</th>\n",
       "      <td>chrX</td>\n",
       "      <td>162176262</td>\n",
       "      <td>162176265</td>\n",
       "      <td>chrX-162176262-162176265</td>\n",
       "      <td>0.76</td>\n",
       "      <td>0.63</td>\n",
       "      <td>0.54</td>\n",
       "    </tr>\n",
       "    <tr>\n",
       "      <th>6984</th>\n",
       "      <td>chrX</td>\n",
       "      <td>162642402</td>\n",
       "      <td>162642442</td>\n",
       "      <td>chrX-162642402-162642442</td>\n",
       "      <td>0.45</td>\n",
       "      <td>0.39</td>\n",
       "      <td>0.25</td>\n",
       "    </tr>\n",
       "    <tr>\n",
       "      <th>6985</th>\n",
       "      <td>chrX</td>\n",
       "      <td>167251225</td>\n",
       "      <td>167251233</td>\n",
       "      <td>chrX-167251225-167251233</td>\n",
       "      <td>1.00</td>\n",
       "      <td>0.88</td>\n",
       "      <td>0.76</td>\n",
       "    </tr>\n",
       "    <tr>\n",
       "      <th>6986</th>\n",
       "      <td>chrX</td>\n",
       "      <td>167330504</td>\n",
       "      <td>167330530</td>\n",
       "      <td>chrX-167330504-167330530</td>\n",
       "      <td>0.79</td>\n",
       "      <td>0.70</td>\n",
       "      <td>0.56</td>\n",
       "    </tr>\n",
       "    <tr>\n",
       "      <th>6987</th>\n",
       "      <td>chrX</td>\n",
       "      <td>169323139</td>\n",
       "      <td>169323296</td>\n",
       "      <td>chrX-169323139-169323296</td>\n",
       "      <td>0.84</td>\n",
       "      <td>0.69</td>\n",
       "      <td>0.52</td>\n",
       "    </tr>\n",
       "  </tbody>\n",
       "</table>\n",
       "<p>6988 rows × 7 columns</p>\n",
       "</div>"
      ],
      "text/plain": [
       "      chr1    6846251    6846299      chr1-6846251-6846299  0.81  0.68  0.56\n",
       "0     chr1    9169723    9169728      chr1-9169723-9169728  0.76  0.60  0.51\n",
       "1     chr1   10148905   10148983    chr1-10148905-10148983  0.73  0.58  0.53\n",
       "2     chr1   10164948   10165945    chr1-10164948-10165945  0.53  0.35  0.20\n",
       "3     chr1   13192043   13192080    chr1-13192043-13192080  0.75  0.61  0.54\n",
       "4     chr1   13259663   13259747    chr1-13259663-13259747  0.85  0.74  0.63\n",
       "...    ...        ...        ...                       ...   ...   ...   ...\n",
       "6983  chrX  162176262  162176265  chrX-162176262-162176265  0.76  0.63  0.54\n",
       "6984  chrX  162642402  162642442  chrX-162642402-162642442  0.45  0.39  0.25\n",
       "6985  chrX  167251225  167251233  chrX-167251225-167251233  1.00  0.88  0.76\n",
       "6986  chrX  167330504  167330530  chrX-167330504-167330530  0.79  0.70  0.56\n",
       "6987  chrX  169323139  169323296  chrX-169323139-169323296  0.84  0.69  0.52\n",
       "\n",
       "[6988 rows x 7 columns]"
      ]
     },
     "execution_count": 19,
     "metadata": {},
     "output_type": "execute_result"
    }
   ],
   "source": [
    "pd.read_csv(f\"{admr_bed_dir}/{ct}.{_type}.aDMR.bed\", sep = '\\t')"
   ]
  },
  {
   "cell_type": "code",
   "execution_count": 7,
   "id": "b411e381-3099-4d5a-8935-0600c8979538",
   "metadata": {
    "execution": {
     "iopub.execute_input": "2024-04-19T18:13:14.881574Z",
     "iopub.status.busy": "2024-04-19T18:13:14.881303Z",
     "iopub.status.idle": "2024-04-19T18:13:14.884645Z",
     "shell.execute_reply": "2024-04-19T18:13:14.884085Z",
     "shell.execute_reply.started": "2024-04-19T18:13:14.881554Z"
    },
    "tags": []
   },
   "outputs": [],
   "source": [
    "# slop = 200\n",
    "# for _type in ['Hypo', 'Hyper']:\n",
    "#     admr_path = f\"{admr_bed_dir}/{ct}.{_type}.aDMR.bed\" \n",
    "    \n",
    "#     # tmpdf = pd.read_csv(admr_path, sep = '\\t', header = None)\n",
    "#     # tmpdf[1] = tmpdf[1] - slop\n",
    "#     # tmpdf[2] = tmpdf[2] + slop\n",
    "#     # tmpdf.to_csv(f\"sloped_beds/{ct}.{_type}.aDMR.bed\", sep = '\\t', index = None, header = None)\n",
    "#     # admr_path = f\"sloped_beds/{ct}.{_type}.aDMR.bed\"\n",
    "    \n",
    "#     matrix_path  = f\"{ct}.{_type}.outmat.gz\"\n",
    "#     command = f\"computeMatrix scale-regions -S {bw_paths[0]} {bw_paths[1]} {bw_paths[2]} \\\n",
    "# -R {admr_path} \\\n",
    "# --beforeRegionStartLength 500 \\\n",
    "# --regionBodyLength 1500 \\\n",
    "# --afterRegionStartLength 500 \\\n",
    "# --binSize 20 \\\n",
    "# --skipZeros -o {matrix_path}\"\n",
    "#     subprocess.run(command, shell=True, stderr=subprocess.DEVNULL)\n",
    "#     print(_type)"
   ]
  },
  {
   "cell_type": "code",
   "execution_count": 7,
   "id": "1e878e1c-47ee-4d94-a3aa-d5a4ccb1e892",
   "metadata": {
    "execution": {
     "iopub.execute_input": "2024-04-23T06:38:25.744820Z",
     "iopub.status.busy": "2024-04-23T06:38:25.744433Z",
     "iopub.status.idle": "2024-04-23T06:38:31.612064Z",
     "shell.execute_reply": "2024-04-23T06:38:31.611229Z",
     "shell.execute_reply.started": "2024-04-23T06:38:25.744794Z"
    },
    "tags": []
   },
   "outputs": [],
   "source": [
    "for ct in shared_cts:\n",
    "    for _type in ['Hypo', 'Hyper']:\n",
    "        outpath = f\"figure/{ct}.{_type}.pdf\"\n",
    "        matrix_path =  f\"{ct}.{_type}.outmat.gz\"\n",
    "\n",
    "        command = f\"plotHeatmap -m {matrix_path} \\\n",
    "        --colorMap Oranges \\\n",
    "        --heatmapHeight 30 --heatmapWidth 9 \\\n",
    "        --startLabel Start --endLabel End \\\n",
    "        --dpi 100 \\\n",
    "        -out {outpath}\"\n",
    "        subprocess.run(command, shell = True)"
   ]
  },
  {
   "cell_type": "markdown",
   "id": "79db4f19-0d4c-4ad1-b286-42102f36e1e4",
   "metadata": {},
   "source": [
    "## plot example"
   ]
  },
  {
   "cell_type": "code",
   "execution_count": 4,
   "id": "9bb22cd4-3e1b-45dd-9e03-848589dd133e",
   "metadata": {
    "execution": {
     "iopub.execute_input": "2024-07-02T20:52:47.064203Z",
     "iopub.status.busy": "2024-07-02T20:52:47.063646Z",
     "iopub.status.idle": "2024-07-02T20:52:47.070046Z",
     "shell.execute_reply": "2024-07-02T20:52:47.068709Z",
     "shell.execute_reply.started": "2024-07-02T20:52:47.064155Z"
    },
    "tags": []
   },
   "outputs": [],
   "source": [
    "ct = 'DG_Glut'"
   ]
  },
  {
   "cell_type": "code",
   "execution_count": 5,
   "id": "ba80e1af-00db-41ba-85d9-3c6cf1592150",
   "metadata": {
    "execution": {
     "iopub.execute_input": "2024-07-02T20:52:50.048498Z",
     "iopub.status.busy": "2024-07-02T20:52:50.047842Z",
     "iopub.status.idle": "2024-07-02T20:52:50.056186Z",
     "shell.execute_reply": "2024-07-02T20:52:50.054920Z",
     "shell.execute_reply.started": "2024-07-02T20:52:50.048447Z"
    },
    "tags": []
   },
   "outputs": [],
   "source": [
    "def get_matrix(_type, admr_path, matrix_path):\n",
    "    command = f\"computeMatrix scale-regions -S {bw_paths[0]} {bw_paths[1]} {bw_paths[2]} \\\n",
    "-R {admr_path} \\\n",
    "--beforeRegionStartLength 500 \\\n",
    "--regionBodyLength 1000 \\\n",
    "--afterRegionStartLength 500 \\\n",
    "--binSize 20 \\\n",
    "--skipZeros -o {matrix_path}\"\n",
    "    subprocess.run(command, shell=True, stderr=subprocess.DEVNULL)"
   ]
  },
  {
   "cell_type": "code",
   "execution_count": 6,
   "id": "58d2b4d3-5e83-41a5-830d-0575194329c6",
   "metadata": {
    "execution": {
     "iopub.execute_input": "2024-07-02T20:52:53.032743Z",
     "iopub.status.busy": "2024-07-02T20:52:53.032134Z",
     "iopub.status.idle": "2024-07-02T20:52:53.038509Z",
     "shell.execute_reply": "2024-07-02T20:52:53.037117Z",
     "shell.execute_reply.started": "2024-07-02T20:52:53.032688Z"
    },
    "tags": []
   },
   "outputs": [],
   "source": [
    "#'Hypo', "
   ]
  },
  {
   "cell_type": "code",
   "execution_count": 7,
   "id": "d0ce9c73-5ba9-4985-82dd-d2a8a9dd16fc",
   "metadata": {
    "execution": {
     "iopub.execute_input": "2024-07-02T20:52:53.542639Z",
     "iopub.status.busy": "2024-07-02T20:52:53.541677Z",
     "iopub.status.idle": "2024-07-02T20:54:28.988500Z",
     "shell.execute_reply": "2024-07-02T20:54:28.986857Z",
     "shell.execute_reply.started": "2024-07-02T20:52:53.542584Z"
    },
    "tags": []
   },
   "outputs": [],
   "source": [
    "bw_paths = [f\"{bw_dir}/Male_{ct}_{age}_merge.bw\" for age in ['2mo','9mo','18mo']]\n",
    "for _type in ['Hypo']:\n",
    "    slop = 1000\n",
    "    admr_path = f\"{admr_bed_dir}/{ct}.{_type}.aDMR.bed\" \n",
    "    tmpdf = pd.read_csv(admr_path, sep = '\\t', header = None)\n",
    "    tmpdf[1] = tmpdf[1] - slop\n",
    "    tmpdf[2] = tmpdf[2] + slop\n",
    "    tmpdf.to_csv(f\"sloped_beds/{ct}.{_type}.aDMR.bed\", sep = '\\t', index = None, header = None)\n",
    "    admr_path = f\"sloped_beds/{ct}.{_type}.aDMR.bed\"\n",
    "    \n",
    "    matrix_path  = f\"{ct}.{_type}.outmat.gz\"\n",
    "    get_matrix(_type, admr_path, matrix_path)"
   ]
  },
  {
   "cell_type": "code",
   "execution_count": 8,
   "id": "88973ee1-175b-479c-9eaf-a0ea9e0612ae",
   "metadata": {
    "execution": {
     "iopub.execute_input": "2024-07-02T20:54:28.992003Z",
     "iopub.status.busy": "2024-07-02T20:54:28.991272Z",
     "iopub.status.idle": "2024-07-02T20:54:28.998542Z",
     "shell.execute_reply": "2024-07-02T20:54:28.997515Z",
     "shell.execute_reply.started": "2024-07-02T20:54:28.991932Z"
    },
    "tags": []
   },
   "outputs": [],
   "source": [
    "_type = 'Hypo'"
   ]
  },
  {
   "cell_type": "code",
   "execution_count": 18,
   "id": "fb77903b-5980-4151-a9d1-e76b2045c6bb",
   "metadata": {
    "execution": {
     "iopub.execute_input": "2024-07-02T21:03:38.559778Z",
     "iopub.status.busy": "2024-07-02T21:03:38.559044Z",
     "iopub.status.idle": "2024-07-02T21:03:42.904703Z",
     "shell.execute_reply": "2024-07-02T21:03:42.903249Z",
     "shell.execute_reply.started": "2024-07-02T21:03:38.559706Z"
    },
    "tags": []
   },
   "outputs": [
    {
     "data": {
      "text/plain": [
       "CompletedProcess(args='plotHeatmap -m DG_Glut.Hypo.outmat.gz --heatmapHeight 20 --heatmapWidth 6 --startLabel Start --endLabel End --zMin 0 0 0 --zMax 4 4 4 --dpi 200 -out DG_Glut.Hypo.pdf', returncode=0)"
      ]
     },
     "execution_count": 18,
     "metadata": {},
     "output_type": "execute_result"
    }
   ],
   "source": [
    "outpath = f\"{ct}.{_type}.pdf\"\n",
    "matrix_path =  f\"{ct}.{_type}.outmat.gz\"\n",
    "\n",
    "command = f\"plotHeatmap -m {matrix_path} \\\n",
    "--heatmapHeight 20 --heatmapWidth 6 \\\n",
    "--startLabel Start --endLabel End \\\n",
    "--zMin 0 0 0 --zMax 4 4 4 \\\n",
    "--dpi 200 \\\n",
    "-out {outpath}\"\n",
    "subprocess.run(command, shell = True)"
   ]
  },
  {
   "cell_type": "code",
   "execution_count": null,
   "id": "cba5f511-3435-42ed-bb03-383bbd01212e",
   "metadata": {},
   "outputs": [],
   "source": [
    "--zMin -1 -1 -1 --zMax 3 3 3 \\"
   ]
  },
  {
   "cell_type": "code",
   "execution_count": null,
   "id": "3c7945c7-ea4b-40dd-baed-ff687331d556",
   "metadata": {},
   "outputs": [],
   "source": [
    "--colorMap Oranges \\"
   ]
  },
  {
   "cell_type": "code",
   "execution_count": null,
   "id": "d6aade09-b648-4b3b-8f2b-c0369ed4a889",
   "metadata": {},
   "outputs": [],
   "source": []
  },
  {
   "cell_type": "code",
   "execution_count": null,
   "id": "2e3b96bb-4b26-40db-8332-eabb9eb97eec",
   "metadata": {},
   "outputs": [],
   "source": []
  },
  {
   "cell_type": "code",
   "execution_count": null,
   "id": "4c5e6efd-d6a2-4794-8e8c-2a91cd8a959d",
   "metadata": {},
   "outputs": [],
   "source": []
  },
  {
   "cell_type": "code",
   "execution_count": null,
   "id": "ba4da023-c9e7-40c0-9d97-4355b08b809e",
   "metadata": {},
   "outputs": [],
   "source": []
  },
  {
   "cell_type": "code",
   "execution_count": null,
   "id": "cb1eb61b-34a0-4874-8c72-fde4c8ea7bf8",
   "metadata": {},
   "outputs": [],
   "source": []
  },
  {
   "cell_type": "code",
   "execution_count": null,
   "id": "8a124e21-7f3b-4f71-9799-8c5648591f0c",
   "metadata": {},
   "outputs": [],
   "source": []
  },
  {
   "cell_type": "code",
   "execution_count": null,
   "id": "0d49aa93-fbfd-4ce1-8556-9f0245789395",
   "metadata": {},
   "outputs": [],
   "source": []
  },
  {
   "cell_type": "code",
   "execution_count": null,
   "id": "ae604652-2108-4632-b247-8f0ddcab51f4",
   "metadata": {},
   "outputs": [],
   "source": []
  },
  {
   "cell_type": "code",
   "execution_count": null,
   "id": "1af4b131-4d31-47c7-80ea-ff0ebeb44e52",
   "metadata": {},
   "outputs": [],
   "source": []
  },
  {
   "cell_type": "code",
   "execution_count": null,
   "id": "eba704be-4117-46a2-87ba-afe97258e5f7",
   "metadata": {},
   "outputs": [],
   "source": []
  }
 ],
 "metadata": {
  "kernelspec": {
   "display_name": "Python 3 (ipykernel)",
   "language": "python",
   "name": "python3"
  },
  "language_info": {
   "codemirror_mode": {
    "name": "ipython",
    "version": 3
   },
   "file_extension": ".py",
   "mimetype": "text/x-python",
   "name": "python",
   "nbconvert_exporter": "python",
   "pygments_lexer": "ipython3",
   "version": "3.7.12"
  }
 },
 "nbformat": 4,
 "nbformat_minor": 5
}
