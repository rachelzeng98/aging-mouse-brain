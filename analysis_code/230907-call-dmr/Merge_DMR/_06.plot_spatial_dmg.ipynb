{
 "cells": [
  {
   "cell_type": "code",
   "execution_count": 2,
   "id": "3ff1916a-3c25-4285-8e3d-980c67b4b56e",
   "metadata": {
    "papermill": {
     "duration": 2.473424,
     "end_time": "2023-03-09T20:52:52.068573",
     "exception": false,
     "start_time": "2023-03-09T20:52:49.595149",
     "status": "completed"
    },
    "tags": []
   },
   "outputs": [],
   "source": [
    "import pandas as pd\n",
    "import numpy as np\n",
    "from wmb import brain, cemba, mm10\n",
    "import pathlib\n",
    "import seaborn as sns\n",
    "from matplotlib import pyplot as plt\n",
    "from collections import defaultdict\n",
    "from ALLCools.mcds import MCDS\n",
    "import dask\n",
    "import collections\n",
    "from scipy.stats import zscore\n",
    "import joblib"
   ]
  },
  {
   "cell_type": "code",
   "execution_count": 3,
   "id": "c1613069-c5ed-466e-a227-a93f44d5fd9c",
   "metadata": {
    "papermill": {
     "duration": 0.010854,
     "end_time": "2023-03-09T20:52:52.127421",
     "exception": false,
     "start_time": "2023-03-09T20:52:52.116567",
     "status": "completed"
    },
    "tags": [
     "parameters"
    ]
   },
   "outputs": [],
   "source": [
    "qval_cutoff =0.01\n",
    "var_dim = 'geneslop2k-vm23'\n",
    "chrom_to_remove = ['chrX', 'chrY', 'chrM', 'chrL']\n",
    "mc_type = 'CHN'\n",
    "\n",
    "group_name = 'DissectionRegion_MOB-AON-PIR'\n"
   ]
  },
  {
   "cell_type": "code",
   "execution_count": 4,
   "id": "0f82d7ce",
   "metadata": {
    "papermill": {
     "duration": 0.009468,
     "end_time": "2023-03-09T20:52:52.140967",
     "exception": false,
     "start_time": "2023-03-09T20:52:52.131499",
     "status": "completed"
    },
    "tags": [
     "injected-parameters"
    ]
   },
   "outputs": [],
   "source": [
    "# Parameters\n",
    "chrom_to_remove = [\"chrX\", \"chrY\", \"chrM\", \"chrL\"]\n",
    "cpu = 40\n",
    "group_name = \"DissectionRegion_Slice12-FGHJ\"\n",
    "mc_type = \"CHN\"\n",
    "mem_gb = 15\n",
    "qval_cutoff = 0.01\n",
    "var_dim = \"geneslop2k-vm23\"\n"
   ]
  },
  {
   "cell_type": "code",
   "execution_count": 5,
   "id": "bd0ad95f-2499-4968-9e92-d806b4a44bfa",
   "metadata": {
    "papermill": {
     "duration": 0.008741,
     "end_time": "2023-03-09T20:52:52.153801",
     "exception": false,
     "start_time": "2023-03-09T20:52:52.145060",
     "status": "completed"
    },
    "tags": []
   },
   "outputs": [],
   "source": [
    "var, region_axis = group_name.split('_')"
   ]
  },
  {
   "cell_type": "markdown",
   "id": "e56f8b77-40c9-4ce2-aaa8-bb8e7b12ba74",
   "metadata": {
    "papermill": {
     "duration": 0.004032,
     "end_time": "2023-03-09T20:52:52.161927",
     "exception": false,
     "start_time": "2023-03-09T20:52:52.157895",
     "status": "completed"
    },
    "tags": []
   },
   "source": [
    "## select use dmgs"
   ]
  },
  {
   "cell_type": "code",
   "execution_count": 6,
   "id": "935937f2-dfae-43b0-9fae-088df3669900",
   "metadata": {
    "papermill": {
     "duration": 0.018118,
     "end_time": "2023-03-09T20:52:52.184123",
     "exception": false,
     "start_time": "2023-03-09T20:52:52.166005",
     "status": "completed"
    },
    "tags": []
   },
   "outputs": [
    {
     "data": {
      "text/plain": [
       "8579"
      ]
     },
     "execution_count": 6,
     "metadata": {},
     "output_type": "execute_result"
    }
   ],
   "source": [
    "cells = pd.read_csv(f'/home/qzeng_salk_edu/project/cemba/230223_spatial/_prepare/{region_axis}.mc_cells.txt', \n",
    "                    index_col=0, header=None).index\n",
    "cells.name = 'cell'\n",
    "cells.size"
   ]
  },
  {
   "cell_type": "code",
   "execution_count": null,
   "id": "0bf873e6-c18d-4de8-885a-3d99616de2be",
   "metadata": {},
   "outputs": [],
   "source": []
  },
  {
   "cell_type": "code",
   "execution_count": 7,
   "id": "0dd66931-3cf8-46b3-9c2d-65843ce3060d",
   "metadata": {
    "papermill": {
     "duration": 0.046207,
     "end_time": "2023-03-09T20:52:52.234530",
     "exception": false,
     "start_time": "2023-03-09T20:52:52.188323",
     "status": "completed"
    },
    "tags": []
   },
   "outputs": [],
   "source": [
    "cef_score = pd.read_csv(f'{region_axis}_{var}.CEF_score.csv', index_col = 0)\n",
    "cef_vals = pd.read_csv(f'{region_axis}_{var}.CEF_vals.csv', index_col = 0)"
   ]
  },
  {
   "cell_type": "code",
   "execution_count": 8,
   "id": "b551b9b3-1b2b-425f-bd4a-045700565ecf",
   "metadata": {
    "papermill": {
     "duration": 0.014337,
     "end_time": "2023-03-09T20:52:52.253647",
     "exception": false,
     "start_time": "2023-03-09T20:52:52.239310",
     "status": "completed"
    },
    "tags": []
   },
   "outputs": [],
   "source": [
    "# filter genes with all na score\n",
    "from pandas.errors import EmptyDataError \n",
    "use_genes_by_score = cef_score.isna().sum(axis= 1)[cef_score.isna().sum(axis= 1) != cef_score.shape[1]].index\n",
    "\n",
    "try:\n",
    "    use_genes_by_anova = [mm10.gene_id_to_name(gene_id) for gene_id in list(pd.read_csv('filtered_genes.txt', header = None)[0])]\n",
    "    use_genes = list(set(use_genes_by_score) & set(use_genes_by_anova))\n",
    "except EmptyDataError:\n",
    "    use_genes = list(set(use_genes_by_score)) "
   ]
  },
  {
   "cell_type": "code",
   "execution_count": 9,
   "id": "ca4d7e0d-a76c-407d-a786-8a1d381d5be8",
   "metadata": {
    "papermill": {
     "duration": 0.009879,
     "end_time": "2023-03-09T20:52:52.267793",
     "exception": false,
     "start_time": "2023-03-09T20:52:52.257914",
     "status": "completed"
    },
    "tags": []
   },
   "outputs": [
    {
     "data": {
      "text/plain": [
       "18549"
      ]
     },
     "execution_count": 9,
     "metadata": {},
     "output_type": "execute_result"
    }
   ],
   "source": [
    "len(use_genes)"
   ]
  },
  {
   "cell_type": "code",
   "execution_count": 10,
   "id": "c228aa44-7ce8-45ad-9e8c-3cf016cf746b",
   "metadata": {
    "papermill": {
     "duration": 0.039084,
     "end_time": "2023-03-09T20:52:52.311240",
     "exception": false,
     "start_time": "2023-03-09T20:52:52.272156",
     "status": "completed"
    },
    "tags": []
   },
   "outputs": [],
   "source": [
    "# select cef dataframe\n",
    "cef_score = cef_score.loc[use_genes]\n",
    "cef_vals = cef_vals.loc[use_genes]\n",
    "\n",
    "cef_score = cef_score[~cef_score.index.duplicated(keep='first')]\n",
    "cef_vals = cef_vals[~cef_vals.index.duplicated(keep='first')]\n",
    "\n",
    "cef_vals = cef_vals.fillna(1)"
   ]
  },
  {
   "cell_type": "code",
   "execution_count": 11,
   "id": "49ee1821-262c-42a6-9dbf-fd886dac163c",
   "metadata": {
    "papermill": {
     "duration": 0.148335,
     "end_time": "2023-03-09T20:52:52.464034",
     "exception": false,
     "start_time": "2023-03-09T20:52:52.315699",
     "status": "completed"
    },
    "tags": []
   },
   "outputs": [],
   "source": [
    "# for each subregion, select genes with the highest score and qvals < 0.05\n",
    "subregion_dmg = cef_score.idxmax(axis = 1).to_dict()\n",
    "subregion_dmgs = defaultdict(list)\n",
    "for gene, subregion in subregion_dmg.items():\n",
    "    try:\n",
    "        if cef_vals.loc[gene,subregion] < qval_cutoff:\n",
    "            subregion_dmgs[subregion].append(gene)\n",
    "    except KeyError:\n",
    "        continue\n",
    "        \n",
    "        "
   ]
  },
  {
   "cell_type": "code",
   "execution_count": 12,
   "id": "6fb2eeb8-dea6-4327-a1da-c9020558a795",
   "metadata": {
    "papermill": {
     "duration": 0.013077,
     "end_time": "2023-03-09T20:52:52.482069",
     "exception": false,
     "start_time": "2023-03-09T20:52:52.468992",
     "status": "completed"
    },
    "tags": []
   },
   "outputs": [],
   "source": [
    "# balance gene number\n",
    "gene_num = {}\n",
    "for _region, dmg_list in  subregion_dmgs.items():\n",
    "    gene_num[_region] = len(dmg_list)\n",
    "\n",
    "target_number = np.sqrt(pd.Series(gene_num)) * 20\n",
    "target_number = (pd.DataFrame([pd.Series(gene_num), target_number]).T.min(axis =1)-1).astype(int)"
   ]
  },
  {
   "cell_type": "code",
   "execution_count": 13,
   "id": "1b5d16b5-e74f-4d0b-a0c8-46a28f6eae53",
   "metadata": {
    "papermill": {
     "duration": 0.019728,
     "end_time": "2023-03-09T20:52:52.506256",
     "exception": false,
     "start_time": "2023-03-09T20:52:52.486528",
     "status": "completed"
    },
    "tags": []
   },
   "outputs": [],
   "source": [
    "balanced_subregion_dmgs = {}\n",
    "for _region in list(gene_num.keys()):\n",
    "    top_gene_number = target_number[f'{_region}']\n",
    "    top_genes = cef_score.loc[subregion_dmgs[_region]][_region].sort_values(ascending = False)[:top_gene_number].index.tolist()\n",
    "    balanced_subregion_dmgs[_region] = top_genes"
   ]
  },
  {
   "cell_type": "code",
   "execution_count": 14,
   "id": "d7434996-8b50-42a1-946f-a062cd96bbe7",
   "metadata": {
    "papermill": {
     "duration": 0.037135,
     "end_time": "2023-03-09T20:52:52.548182",
     "exception": false,
     "start_time": "2023-03-09T20:52:52.511047",
     "status": "completed"
    },
    "tags": []
   },
   "outputs": [],
   "source": [
    "all_gene_ids = pd.read_csv(f'./{region_axis}.mc_genes.txt', index_col=0, header=None).index\n",
    "use_gene_ids = [mm10.gene_name_to_id(gene_name) for gene_name in use_genes]\n",
    "genes  = list(set(all_gene_ids) & set(use_gene_ids))\n",
    "genes = pd.Index(genes)\n",
    "genes.name = 'genes'"
   ]
  },
  {
   "cell_type": "markdown",
   "id": "71955eb2-5f67-4336-baec-49f07ada5c87",
   "metadata": {
    "papermill": {
     "duration": 0.004413,
     "end_time": "2023-03-09T20:52:52.557089",
     "exception": false,
     "start_time": "2023-03-09T20:52:52.552676",
     "status": "completed"
    },
    "tags": []
   },
   "source": [
    "## get mc_frac df"
   ]
  },
  {
   "cell_type": "code",
   "execution_count": 15,
   "id": "74f014b8-b1d0-416b-b6fe-dca9b95b5d6c",
   "metadata": {
    "papermill": {
     "duration": 0.8561,
     "end_time": "2023-03-09T20:52:53.417668",
     "exception": false,
     "start_time": "2023-03-09T20:52:52.561568",
     "status": "completed"
    },
    "tags": []
   },
   "outputs": [
    {
     "data": {
      "text/html": [
       "<div><svg style=\"position: absolute; width: 0; height: 0; overflow: hidden\">\n",
       "<defs>\n",
       "<symbol id=\"icon-database\" viewBox=\"0 0 32 32\">\n",
       "<path d=\"M16 0c-8.837 0-16 2.239-16 5v4c0 2.761 7.163 5 16 5s16-2.239 16-5v-4c0-2.761-7.163-5-16-5z\"></path>\n",
       "<path d=\"M16 17c-8.837 0-16-2.239-16-5v6c0 2.761 7.163 5 16 5s16-2.239 16-5v-6c0 2.761-7.163 5-16 5z\"></path>\n",
       "<path d=\"M16 26c-8.837 0-16-2.239-16-5v6c0 2.761 7.163 5 16 5s16-2.239 16-5v-6c0 2.761-7.163 5-16 5z\"></path>\n",
       "</symbol>\n",
       "<symbol id=\"icon-file-text2\" viewBox=\"0 0 32 32\">\n",
       "<path d=\"M28.681 7.159c-0.694-0.947-1.662-2.053-2.724-3.116s-2.169-2.030-3.116-2.724c-1.612-1.182-2.393-1.319-2.841-1.319h-15.5c-1.378 0-2.5 1.121-2.5 2.5v27c0 1.378 1.122 2.5 2.5 2.5h23c1.378 0 2.5-1.122 2.5-2.5v-19.5c0-0.448-0.137-1.23-1.319-2.841zM24.543 5.457c0.959 0.959 1.712 1.825 2.268 2.543h-4.811v-4.811c0.718 0.556 1.584 1.309 2.543 2.268zM28 29.5c0 0.271-0.229 0.5-0.5 0.5h-23c-0.271 0-0.5-0.229-0.5-0.5v-27c0-0.271 0.229-0.5 0.5-0.5 0 0 15.499-0 15.5 0v7c0 0.552 0.448 1 1 1h7v19.5z\"></path>\n",
       "<path d=\"M23 26h-14c-0.552 0-1-0.448-1-1s0.448-1 1-1h14c0.552 0 1 0.448 1 1s-0.448 1-1 1z\"></path>\n",
       "<path d=\"M23 22h-14c-0.552 0-1-0.448-1-1s0.448-1 1-1h14c0.552 0 1 0.448 1 1s-0.448 1-1 1z\"></path>\n",
       "<path d=\"M23 18h-14c-0.552 0-1-0.448-1-1s0.448-1 1-1h14c0.552 0 1 0.448 1 1s-0.448 1-1 1z\"></path>\n",
       "</symbol>\n",
       "</defs>\n",
       "</svg>\n",
       "<style>/* CSS stylesheet for displaying xarray objects in jupyterlab.\n",
       " *\n",
       " */\n",
       "\n",
       ":root {\n",
       "  --xr-font-color0: var(--jp-content-font-color0, rgba(0, 0, 0, 1));\n",
       "  --xr-font-color2: var(--jp-content-font-color2, rgba(0, 0, 0, 0.54));\n",
       "  --xr-font-color3: var(--jp-content-font-color3, rgba(0, 0, 0, 0.38));\n",
       "  --xr-border-color: var(--jp-border-color2, #e0e0e0);\n",
       "  --xr-disabled-color: var(--jp-layout-color3, #bdbdbd);\n",
       "  --xr-background-color: var(--jp-layout-color0, white);\n",
       "  --xr-background-color-row-even: var(--jp-layout-color1, white);\n",
       "  --xr-background-color-row-odd: var(--jp-layout-color2, #eeeeee);\n",
       "}\n",
       "\n",
       "html[theme=dark],\n",
       "body.vscode-dark {\n",
       "  --xr-font-color0: rgba(255, 255, 255, 1);\n",
       "  --xr-font-color2: rgba(255, 255, 255, 0.54);\n",
       "  --xr-font-color3: rgba(255, 255, 255, 0.38);\n",
       "  --xr-border-color: #1F1F1F;\n",
       "  --xr-disabled-color: #515151;\n",
       "  --xr-background-color: #111111;\n",
       "  --xr-background-color-row-even: #111111;\n",
       "  --xr-background-color-row-odd: #313131;\n",
       "}\n",
       "\n",
       ".xr-wrap {\n",
       "  display: block !important;\n",
       "  min-width: 300px;\n",
       "  max-width: 700px;\n",
       "}\n",
       "\n",
       ".xr-text-repr-fallback {\n",
       "  /* fallback to plain text repr when CSS is not injected (untrusted notebook) */\n",
       "  display: none;\n",
       "}\n",
       "\n",
       ".xr-header {\n",
       "  padding-top: 6px;\n",
       "  padding-bottom: 6px;\n",
       "  margin-bottom: 4px;\n",
       "  border-bottom: solid 1px var(--xr-border-color);\n",
       "}\n",
       "\n",
       ".xr-header > div,\n",
       ".xr-header > ul {\n",
       "  display: inline;\n",
       "  margin-top: 0;\n",
       "  margin-bottom: 0;\n",
       "}\n",
       "\n",
       ".xr-obj-type,\n",
       ".xr-array-name {\n",
       "  margin-left: 2px;\n",
       "  margin-right: 10px;\n",
       "}\n",
       "\n",
       ".xr-obj-type {\n",
       "  color: var(--xr-font-color2);\n",
       "}\n",
       "\n",
       ".xr-sections {\n",
       "  padding-left: 0 !important;\n",
       "  display: grid;\n",
       "  grid-template-columns: 150px auto auto 1fr 20px 20px;\n",
       "}\n",
       "\n",
       ".xr-section-item {\n",
       "  display: contents;\n",
       "}\n",
       "\n",
       ".xr-section-item input {\n",
       "  display: none;\n",
       "}\n",
       "\n",
       ".xr-section-item input + label {\n",
       "  color: var(--xr-disabled-color);\n",
       "}\n",
       "\n",
       ".xr-section-item input:enabled + label {\n",
       "  cursor: pointer;\n",
       "  color: var(--xr-font-color2);\n",
       "}\n",
       "\n",
       ".xr-section-item input:enabled + label:hover {\n",
       "  color: var(--xr-font-color0);\n",
       "}\n",
       "\n",
       ".xr-section-summary {\n",
       "  grid-column: 1;\n",
       "  color: var(--xr-font-color2);\n",
       "  font-weight: 500;\n",
       "}\n",
       "\n",
       ".xr-section-summary > span {\n",
       "  display: inline-block;\n",
       "  padding-left: 0.5em;\n",
       "}\n",
       "\n",
       ".xr-section-summary-in:disabled + label {\n",
       "  color: var(--xr-font-color2);\n",
       "}\n",
       "\n",
       ".xr-section-summary-in + label:before {\n",
       "  display: inline-block;\n",
       "  content: '►';\n",
       "  font-size: 11px;\n",
       "  width: 15px;\n",
       "  text-align: center;\n",
       "}\n",
       "\n",
       ".xr-section-summary-in:disabled + label:before {\n",
       "  color: var(--xr-disabled-color);\n",
       "}\n",
       "\n",
       ".xr-section-summary-in:checked + label:before {\n",
       "  content: '▼';\n",
       "}\n",
       "\n",
       ".xr-section-summary-in:checked + label > span {\n",
       "  display: none;\n",
       "}\n",
       "\n",
       ".xr-section-summary,\n",
       ".xr-section-inline-details {\n",
       "  padding-top: 4px;\n",
       "  padding-bottom: 4px;\n",
       "}\n",
       "\n",
       ".xr-section-inline-details {\n",
       "  grid-column: 2 / -1;\n",
       "}\n",
       "\n",
       ".xr-section-details {\n",
       "  display: none;\n",
       "  grid-column: 1 / -1;\n",
       "  margin-bottom: 5px;\n",
       "}\n",
       "\n",
       ".xr-section-summary-in:checked ~ .xr-section-details {\n",
       "  display: contents;\n",
       "}\n",
       "\n",
       ".xr-array-wrap {\n",
       "  grid-column: 1 / -1;\n",
       "  display: grid;\n",
       "  grid-template-columns: 20px auto;\n",
       "}\n",
       "\n",
       ".xr-array-wrap > label {\n",
       "  grid-column: 1;\n",
       "  vertical-align: top;\n",
       "}\n",
       "\n",
       ".xr-preview {\n",
       "  color: var(--xr-font-color3);\n",
       "}\n",
       "\n",
       ".xr-array-preview,\n",
       ".xr-array-data {\n",
       "  padding: 0 5px !important;\n",
       "  grid-column: 2;\n",
       "}\n",
       "\n",
       ".xr-array-data,\n",
       ".xr-array-in:checked ~ .xr-array-preview {\n",
       "  display: none;\n",
       "}\n",
       "\n",
       ".xr-array-in:checked ~ .xr-array-data,\n",
       ".xr-array-preview {\n",
       "  display: inline-block;\n",
       "}\n",
       "\n",
       ".xr-dim-list {\n",
       "  display: inline-block !important;\n",
       "  list-style: none;\n",
       "  padding: 0 !important;\n",
       "  margin: 0;\n",
       "}\n",
       "\n",
       ".xr-dim-list li {\n",
       "  display: inline-block;\n",
       "  padding: 0;\n",
       "  margin: 0;\n",
       "}\n",
       "\n",
       ".xr-dim-list:before {\n",
       "  content: '(';\n",
       "}\n",
       "\n",
       ".xr-dim-list:after {\n",
       "  content: ')';\n",
       "}\n",
       "\n",
       ".xr-dim-list li:not(:last-child):after {\n",
       "  content: ',';\n",
       "  padding-right: 5px;\n",
       "}\n",
       "\n",
       ".xr-has-index {\n",
       "  font-weight: bold;\n",
       "}\n",
       "\n",
       ".xr-var-list,\n",
       ".xr-var-item {\n",
       "  display: contents;\n",
       "}\n",
       "\n",
       ".xr-var-item > div,\n",
       ".xr-var-item label,\n",
       ".xr-var-item > .xr-var-name span {\n",
       "  background-color: var(--xr-background-color-row-even);\n",
       "  margin-bottom: 0;\n",
       "}\n",
       "\n",
       ".xr-var-item > .xr-var-name:hover span {\n",
       "  padding-right: 5px;\n",
       "}\n",
       "\n",
       ".xr-var-list > li:nth-child(odd) > div,\n",
       ".xr-var-list > li:nth-child(odd) > label,\n",
       ".xr-var-list > li:nth-child(odd) > .xr-var-name span {\n",
       "  background-color: var(--xr-background-color-row-odd);\n",
       "}\n",
       "\n",
       ".xr-var-name {\n",
       "  grid-column: 1;\n",
       "}\n",
       "\n",
       ".xr-var-dims {\n",
       "  grid-column: 2;\n",
       "}\n",
       "\n",
       ".xr-var-dtype {\n",
       "  grid-column: 3;\n",
       "  text-align: right;\n",
       "  color: var(--xr-font-color2);\n",
       "}\n",
       "\n",
       ".xr-var-preview {\n",
       "  grid-column: 4;\n",
       "}\n",
       "\n",
       ".xr-var-name,\n",
       ".xr-var-dims,\n",
       ".xr-var-dtype,\n",
       ".xr-preview,\n",
       ".xr-attrs dt {\n",
       "  white-space: nowrap;\n",
       "  overflow: hidden;\n",
       "  text-overflow: ellipsis;\n",
       "  padding-right: 10px;\n",
       "}\n",
       "\n",
       ".xr-var-name:hover,\n",
       ".xr-var-dims:hover,\n",
       ".xr-var-dtype:hover,\n",
       ".xr-attrs dt:hover {\n",
       "  overflow: visible;\n",
       "  width: auto;\n",
       "  z-index: 1;\n",
       "}\n",
       "\n",
       ".xr-var-attrs,\n",
       ".xr-var-data {\n",
       "  display: none;\n",
       "  background-color: var(--xr-background-color) !important;\n",
       "  padding-bottom: 5px !important;\n",
       "}\n",
       "\n",
       ".xr-var-attrs-in:checked ~ .xr-var-attrs,\n",
       ".xr-var-data-in:checked ~ .xr-var-data {\n",
       "  display: block;\n",
       "}\n",
       "\n",
       ".xr-var-data > table {\n",
       "  float: right;\n",
       "}\n",
       "\n",
       ".xr-var-name span,\n",
       ".xr-var-data,\n",
       ".xr-attrs {\n",
       "  padding-left: 25px !important;\n",
       "}\n",
       "\n",
       ".xr-attrs,\n",
       ".xr-var-attrs,\n",
       ".xr-var-data {\n",
       "  grid-column: 1 / -1;\n",
       "}\n",
       "\n",
       "dl.xr-attrs {\n",
       "  padding: 0;\n",
       "  margin: 0;\n",
       "  display: grid;\n",
       "  grid-template-columns: 125px auto;\n",
       "}\n",
       "\n",
       ".xr-attrs dt,\n",
       ".xr-attrs dd {\n",
       "  padding: 0;\n",
       "  margin: 0;\n",
       "  float: left;\n",
       "  padding-right: 10px;\n",
       "  width: auto;\n",
       "}\n",
       "\n",
       ".xr-attrs dt {\n",
       "  font-weight: normal;\n",
       "  grid-column: 1;\n",
       "}\n",
       "\n",
       ".xr-attrs dt:hover span {\n",
       "  display: inline-block;\n",
       "  background: var(--xr-background-color);\n",
       "  padding-right: 10px;\n",
       "}\n",
       "\n",
       ".xr-attrs dd {\n",
       "  grid-column: 2;\n",
       "  white-space: pre-wrap;\n",
       "  word-break: break-all;\n",
       "}\n",
       "\n",
       ".xr-icon-database,\n",
       ".xr-icon-file-text2 {\n",
       "  display: inline-block;\n",
       "  vertical-align: middle;\n",
       "  width: 1em;\n",
       "  height: 1.5em !important;\n",
       "  stroke-width: 0;\n",
       "  stroke: currentColor;\n",
       "  fill: currentColor;\n",
       "}\n",
       "</style><pre class='xr-text-repr-fallback'>&lt;xarray.MCDS&gt;\n",
       "Dimensions:                   (cell: 8579, count_type: 2, geneslop2k-vm23: 18547)\n",
       "Coordinates:\n",
       "  * cell                      (cell) &lt;U15 &#x27;12F_M_2168&#x27; ... &#x27;12J_M_2682&#x27;\n",
       "  * count_type                (count_type) &lt;U3 &#x27;mc&#x27; &#x27;cov&#x27;\n",
       "  * geneslop2k-vm23           (geneslop2k-vm23) &lt;U18 &#x27;ENSMUSG00000064128&#x27; ......\n",
       "    geneslop2k-vm23_chrom     (geneslop2k-vm23) &lt;U5 &#x27;chr14&#x27; &#x27;chr9&#x27; ... &#x27;chr3&#x27;\n",
       "    geneslop2k-vm23_cov_mean  (geneslop2k-vm23) float64 812.3 ... 93.65\n",
       "    geneslop2k-vm23_end       (geneslop2k-vm23) int64 56577425 ... 36207623\n",
       "    geneslop2k-vm23_start     (geneslop2k-vm23) int64 56524761 ... 36201289\n",
       "    mc_type                   &lt;U3 &#x27;CHN&#x27;\n",
       "Data variables:\n",
       "    geneslop2k-vm23_da        (cell, geneslop2k-vm23, count_type) uint16 dask.array&lt;chunksize=(1000, 18547, 1), meta=np.ndarray&gt;\n",
       "    geneslop2k-vm23_da_frac   (cell, geneslop2k-vm23) float32 dask.array&lt;chunksize=(1000, 18547), meta=np.ndarray&gt;\n",
       "Attributes:\n",
       "    obs_dim:  cell\n",
       "    var_dim:  geneslop2k-vm23</pre><div class='xr-wrap' style='display:none'><div class='xr-header'><div class='xr-obj-type'>xarray.MCDS</div></div><ul class='xr-sections'><li class='xr-section-item'><input id='section-3e01e3e8-d7d6-422e-ad94-8c0486393e5e' class='xr-section-summary-in' type='checkbox' disabled ><label for='section-3e01e3e8-d7d6-422e-ad94-8c0486393e5e' class='xr-section-summary'  title='Expand/collapse section'>Dimensions:</label><div class='xr-section-inline-details'><ul class='xr-dim-list'><li><span class='xr-has-index'>cell</span>: 8579</li><li><span class='xr-has-index'>count_type</span>: 2</li><li><span class='xr-has-index'>geneslop2k-vm23</span>: 18547</li></ul></div><div class='xr-section-details'></div></li><li class='xr-section-item'><input id='section-22a1af33-7497-4109-a1b7-bdae71e1c110' class='xr-section-summary-in' type='checkbox'  checked><label for='section-22a1af33-7497-4109-a1b7-bdae71e1c110' class='xr-section-summary' >Coordinates: <span>(8)</span></label><div class='xr-section-inline-details'></div><div class='xr-section-details'><ul class='xr-var-list'><li class='xr-var-item'><div class='xr-var-name'><span class='xr-has-index'>cell</span></div><div class='xr-var-dims'>(cell)</div><div class='xr-var-dtype'>&lt;U15</div><div class='xr-var-preview xr-preview'>&#x27;12F_M_2168&#x27; ... &#x27;12J_M_2682&#x27;</div><input id='attrs-7a6c8406-fe2d-43c3-aabc-890697a0043a' class='xr-var-attrs-in' type='checkbox' disabled><label for='attrs-7a6c8406-fe2d-43c3-aabc-890697a0043a' title='Show/Hide attributes'><svg class='icon xr-icon-file-text2'><use xlink:href='#icon-file-text2'></use></svg></label><input id='data-d55565fe-044e-48a2-928c-157e966c65a0' class='xr-var-data-in' type='checkbox'><label for='data-d55565fe-044e-48a2-928c-157e966c65a0' title='Show/Hide data repr'><svg class='icon xr-icon-database'><use xlink:href='#icon-database'></use></svg></label><div class='xr-var-attrs'><dl class='xr-attrs'></dl></div><div class='xr-var-data'><pre>array([&#x27;12F_M_2168&#x27;, &#x27;12F_M_2681&#x27;, &#x27;12G_M_20&#x27;, ..., &#x27;12J_M_1144&#x27;, &#x27;12J_M_1776&#x27;,\n",
       "       &#x27;12J_M_2682&#x27;], dtype=&#x27;&lt;U15&#x27;)</pre></div></li><li class='xr-var-item'><div class='xr-var-name'><span class='xr-has-index'>count_type</span></div><div class='xr-var-dims'>(count_type)</div><div class='xr-var-dtype'>&lt;U3</div><div class='xr-var-preview xr-preview'>&#x27;mc&#x27; &#x27;cov&#x27;</div><input id='attrs-37431655-cb44-412e-bc4b-32d8b517998d' class='xr-var-attrs-in' type='checkbox' disabled><label for='attrs-37431655-cb44-412e-bc4b-32d8b517998d' title='Show/Hide attributes'><svg class='icon xr-icon-file-text2'><use xlink:href='#icon-file-text2'></use></svg></label><input id='data-a133120f-b3b9-413f-9268-99935ddd18ce' class='xr-var-data-in' type='checkbox'><label for='data-a133120f-b3b9-413f-9268-99935ddd18ce' title='Show/Hide data repr'><svg class='icon xr-icon-database'><use xlink:href='#icon-database'></use></svg></label><div class='xr-var-attrs'><dl class='xr-attrs'></dl></div><div class='xr-var-data'><pre>array([&#x27;mc&#x27;, &#x27;cov&#x27;], dtype=&#x27;&lt;U3&#x27;)</pre></div></li><li class='xr-var-item'><div class='xr-var-name'><span class='xr-has-index'>geneslop2k-vm23</span></div><div class='xr-var-dims'>(geneslop2k-vm23)</div><div class='xr-var-dtype'>&lt;U18</div><div class='xr-var-preview xr-preview'>&#x27;ENSMUSG00000064128&#x27; ... &#x27;ENSMUS...</div><input id='attrs-4af2fb3f-07e7-4841-b8af-039655e34d77' class='xr-var-attrs-in' type='checkbox' disabled><label for='attrs-4af2fb3f-07e7-4841-b8af-039655e34d77' title='Show/Hide attributes'><svg class='icon xr-icon-file-text2'><use xlink:href='#icon-file-text2'></use></svg></label><input id='data-bf3c87c3-a75d-4721-b064-d8fe7a19f6ef' class='xr-var-data-in' type='checkbox'><label for='data-bf3c87c3-a75d-4721-b064-d8fe7a19f6ef' title='Show/Hide data repr'><svg class='icon xr-icon-database'><use xlink:href='#icon-database'></use></svg></label><div class='xr-var-attrs'><dl class='xr-attrs'></dl></div><div class='xr-var-data'><pre>array([&#x27;ENSMUSG00000064128&#x27;, &#x27;ENSMUSG00000032059&#x27;, &#x27;ENSMUSG00000030682&#x27;, ...,\n",
       "       &#x27;ENSMUSG00000027346&#x27;, &#x27;ENSMUSG00000030431&#x27;, &#x27;ENSMUSG00000104568&#x27;],\n",
       "      dtype=&#x27;&lt;U18&#x27;)</pre></div></li><li class='xr-var-item'><div class='xr-var-name'><span>geneslop2k-vm23_chrom</span></div><div class='xr-var-dims'>(geneslop2k-vm23)</div><div class='xr-var-dtype'>&lt;U5</div><div class='xr-var-preview xr-preview'>&#x27;chr14&#x27; &#x27;chr9&#x27; ... &#x27;chr7&#x27; &#x27;chr3&#x27;</div><input id='attrs-2a59edf5-bd55-496e-8efa-a68eb0157deb' class='xr-var-attrs-in' type='checkbox' disabled><label for='attrs-2a59edf5-bd55-496e-8efa-a68eb0157deb' title='Show/Hide attributes'><svg class='icon xr-icon-file-text2'><use xlink:href='#icon-file-text2'></use></svg></label><input id='data-377314b4-107a-4860-acad-4edef660b55a' class='xr-var-data-in' type='checkbox'><label for='data-377314b4-107a-4860-acad-4edef660b55a' title='Show/Hide data repr'><svg class='icon xr-icon-database'><use xlink:href='#icon-database'></use></svg></label><div class='xr-var-attrs'><dl class='xr-attrs'></dl></div><div class='xr-var-data'><pre>array([&#x27;chr14&#x27;, &#x27;chr9&#x27;, &#x27;chr7&#x27;, ..., &#x27;chr2&#x27;, &#x27;chr7&#x27;, &#x27;chr3&#x27;], dtype=&#x27;&lt;U5&#x27;)</pre></div></li><li class='xr-var-item'><div class='xr-var-name'><span>geneslop2k-vm23_cov_mean</span></div><div class='xr-var-dims'>(geneslop2k-vm23)</div><div class='xr-var-dtype'>float64</div><div class='xr-var-preview xr-preview'>812.3 1.275e+03 ... 190.3 93.65</div><input id='attrs-aaa0fa9a-6a97-4297-8f55-26641a0b0da2' class='xr-var-attrs-in' type='checkbox' disabled><label for='attrs-aaa0fa9a-6a97-4297-8f55-26641a0b0da2' title='Show/Hide attributes'><svg class='icon xr-icon-file-text2'><use xlink:href='#icon-file-text2'></use></svg></label><input id='data-c48ba8bf-83fa-4b5d-a5e4-b368ad502d5d' class='xr-var-data-in' type='checkbox'><label for='data-c48ba8bf-83fa-4b5d-a5e4-b368ad502d5d' title='Show/Hide data repr'><svg class='icon xr-icon-database'><use xlink:href='#icon-database'></use></svg></label><div class='xr-var-attrs'><dl class='xr-attrs'></dl></div><div class='xr-var-data'><pre>array([ 812.29906957, 1274.99296245,  179.51313419, ...,  900.38335073,\n",
       "        190.32593852,   93.64542159])</pre></div></li><li class='xr-var-item'><div class='xr-var-name'><span>geneslop2k-vm23_end</span></div><div class='xr-var-dims'>(geneslop2k-vm23)</div><div class='xr-var-dtype'>int64</div><div class='xr-var-preview xr-preview'>56577425 50845542 ... 36207623</div><input id='attrs-074a8622-be17-4b1d-8939-4874066a680d' class='xr-var-attrs-in' type='checkbox' disabled><label for='attrs-074a8622-be17-4b1d-8939-4874066a680d' title='Show/Hide attributes'><svg class='icon xr-icon-file-text2'><use xlink:href='#icon-file-text2'></use></svg></label><input id='data-bf113505-5f46-4404-a855-a61d34a274f2' class='xr-var-data-in' type='checkbox'><label for='data-bf113505-5f46-4404-a855-a61d34a274f2' title='Show/Hide data repr'><svg class='icon xr-icon-database'><use xlink:href='#icon-database'></use></svg></label><div class='xr-var-attrs'><dl class='xr-attrs'></dl></div><div class='xr-var-data'><pre>array([ 56577425,  50845542, 126982501, ..., 132589729,   4791656,\n",
       "        36207623])</pre></div></li><li class='xr-var-item'><div class='xr-var-name'><span>geneslop2k-vm23_start</span></div><div class='xr-var-dims'>(geneslop2k-vm23)</div><div class='xr-var-dtype'>int64</div><div class='xr-var-preview xr-preview'>56524761 50773019 ... 36201289</div><input id='attrs-7fa4fcad-5f75-4187-a357-118bbd5ace71' class='xr-var-attrs-in' type='checkbox' disabled><label for='attrs-7fa4fcad-5f75-4187-a357-118bbd5ace71' title='Show/Hide attributes'><svg class='icon xr-icon-file-text2'><use xlink:href='#icon-file-text2'></use></svg></label><input id='data-2f58ed70-6900-4fdb-afca-fe89e46be83d' class='xr-var-data-in' type='checkbox'><label for='data-2f58ed70-6900-4fdb-afca-fe89e46be83d' title='Show/Hide data repr'><svg class='icon xr-icon-database'><use xlink:href='#icon-database'></use></svg></label><div class='xr-var-attrs'><dl class='xr-attrs'></dl></div><div class='xr-var-data'><pre>array([ 56524761,  50773019, 126973914, ..., 132527082,   4782557,\n",
       "        36201289])</pre></div></li><li class='xr-var-item'><div class='xr-var-name'><span>mc_type</span></div><div class='xr-var-dims'>()</div><div class='xr-var-dtype'>&lt;U3</div><div class='xr-var-preview xr-preview'>&#x27;CHN&#x27;</div><input id='attrs-98b66e85-46e1-4019-b097-c56073d1cd2c' class='xr-var-attrs-in' type='checkbox' disabled><label for='attrs-98b66e85-46e1-4019-b097-c56073d1cd2c' title='Show/Hide attributes'><svg class='icon xr-icon-file-text2'><use xlink:href='#icon-file-text2'></use></svg></label><input id='data-db1b96a0-0302-4c18-82f5-1300019fd712' class='xr-var-data-in' type='checkbox'><label for='data-db1b96a0-0302-4c18-82f5-1300019fd712' title='Show/Hide data repr'><svg class='icon xr-icon-database'><use xlink:href='#icon-database'></use></svg></label><div class='xr-var-attrs'><dl class='xr-attrs'></dl></div><div class='xr-var-data'><pre>array(&#x27;CHN&#x27;, dtype=&#x27;&lt;U3&#x27;)</pre></div></li></ul></div></li><li class='xr-section-item'><input id='section-08e2d618-45bd-4373-84ff-1072ca1ea0c1' class='xr-section-summary-in' type='checkbox'  checked><label for='section-08e2d618-45bd-4373-84ff-1072ca1ea0c1' class='xr-section-summary' >Data variables: <span>(2)</span></label><div class='xr-section-inline-details'></div><div class='xr-section-details'><ul class='xr-var-list'><li class='xr-var-item'><div class='xr-var-name'><span>geneslop2k-vm23_da</span></div><div class='xr-var-dims'>(cell, geneslop2k-vm23, count_type)</div><div class='xr-var-dtype'>uint16</div><div class='xr-var-preview xr-preview'>dask.array&lt;chunksize=(1000, 18547, 1), meta=np.ndarray&gt;</div><input id='attrs-b6f69ca8-9d93-42ab-9eb3-1ac6a9175e69' class='xr-var-attrs-in' type='checkbox' disabled><label for='attrs-b6f69ca8-9d93-42ab-9eb3-1ac6a9175e69' title='Show/Hide attributes'><svg class='icon xr-icon-file-text2'><use xlink:href='#icon-file-text2'></use></svg></label><input id='data-094f1f9b-befd-4965-a877-fc0f9f89e6c6' class='xr-var-data-in' type='checkbox'><label for='data-094f1f9b-befd-4965-a877-fc0f9f89e6c6' title='Show/Hide data repr'><svg class='icon xr-icon-database'><use xlink:href='#icon-database'></use></svg></label><div class='xr-var-attrs'><dl class='xr-attrs'></dl></div><div class='xr-var-data'><table>\n",
       "    <tr>\n",
       "        <td>\n",
       "            <table>\n",
       "                <thead>\n",
       "                    <tr>\n",
       "                        <td> </td>\n",
       "                        <th> Array </th>\n",
       "                        <th> Chunk </th>\n",
       "                    </tr>\n",
       "                </thead>\n",
       "                <tbody>\n",
       "                    \n",
       "                    <tr>\n",
       "                        <th> Bytes </th>\n",
       "                        <td> 606.97 MiB </td>\n",
       "                        <td> 35.38 MiB </td>\n",
       "                    </tr>\n",
       "                    \n",
       "                    <tr>\n",
       "                        <th> Shape </th>\n",
       "                        <td> (8579, 18547, 2) </td>\n",
       "                        <td> (1000, 18547, 1) </td>\n",
       "                    </tr>\n",
       "                    <tr>\n",
       "                        <th> Count </th>\n",
       "                        <td> 73 Tasks </td>\n",
       "                        <td> 18 Chunks </td>\n",
       "                    </tr>\n",
       "                    <tr>\n",
       "                    <th> Type </th>\n",
       "                    <td> uint16 </td>\n",
       "                    <td> numpy.ndarray </td>\n",
       "                    </tr>\n",
       "                </tbody>\n",
       "            </table>\n",
       "        </td>\n",
       "        <td>\n",
       "        <svg width=\"118\" height=\"202\" style=\"stroke:rgb(0,0,0);stroke-width:1\" >\n",
       "\n",
       "  <!-- Horizontal lines -->\n",
       "  <line x1=\"10\" y1=\"0\" x2=\"42\" y2=\"32\" style=\"stroke-width:2\" />\n",
       "  <line x1=\"10\" y1=\"120\" x2=\"42\" y2=\"152\" style=\"stroke-width:2\" />\n",
       "\n",
       "  <!-- Vertical lines -->\n",
       "  <line x1=\"10\" y1=\"0\" x2=\"10\" y2=\"120\" style=\"stroke-width:2\" />\n",
       "  <line x1=\"13\" y1=\"3\" x2=\"13\" y2=\"123\" />\n",
       "  <line x1=\"17\" y1=\"7\" x2=\"17\" y2=\"127\" />\n",
       "  <line x1=\"21\" y1=\"11\" x2=\"21\" y2=\"131\" />\n",
       "  <line x1=\"25\" y1=\"15\" x2=\"25\" y2=\"135\" />\n",
       "  <line x1=\"29\" y1=\"19\" x2=\"29\" y2=\"139\" />\n",
       "  <line x1=\"32\" y1=\"22\" x2=\"32\" y2=\"142\" />\n",
       "  <line x1=\"36\" y1=\"26\" x2=\"36\" y2=\"146\" />\n",
       "  <line x1=\"40\" y1=\"30\" x2=\"40\" y2=\"150\" />\n",
       "  <line x1=\"42\" y1=\"32\" x2=\"42\" y2=\"152\" style=\"stroke-width:2\" />\n",
       "\n",
       "  <!-- Colored Rectangle -->\n",
       "  <polygon points=\"10.0,0.0 42.65091230863403,32.65091230863403 42.65091230863403,152.65091230863402 10.0,120.0\" style=\"fill:#ECB172A0;stroke-width:0\"/>\n",
       "\n",
       "  <!-- Horizontal lines -->\n",
       "  <line x1=\"10\" y1=\"0\" x2=\"35\" y2=\"0\" style=\"stroke-width:2\" />\n",
       "  <line x1=\"13\" y1=\"3\" x2=\"39\" y2=\"3\" />\n",
       "  <line x1=\"17\" y1=\"7\" x2=\"43\" y2=\"7\" />\n",
       "  <line x1=\"21\" y1=\"11\" x2=\"46\" y2=\"11\" />\n",
       "  <line x1=\"25\" y1=\"15\" x2=\"50\" y2=\"15\" />\n",
       "  <line x1=\"29\" y1=\"19\" x2=\"54\" y2=\"19\" />\n",
       "  <line x1=\"32\" y1=\"22\" x2=\"58\" y2=\"22\" />\n",
       "  <line x1=\"36\" y1=\"26\" x2=\"62\" y2=\"26\" />\n",
       "  <line x1=\"40\" y1=\"30\" x2=\"65\" y2=\"30\" />\n",
       "  <line x1=\"42\" y1=\"32\" x2=\"68\" y2=\"32\" style=\"stroke-width:2\" />\n",
       "\n",
       "  <!-- Vertical lines -->\n",
       "  <line x1=\"10\" y1=\"0\" x2=\"42\" y2=\"32\" style=\"stroke-width:2\" />\n",
       "  <line x1=\"22\" y1=\"0\" x2=\"55\" y2=\"32\" />\n",
       "  <line x1=\"35\" y1=\"0\" x2=\"68\" y2=\"32\" style=\"stroke-width:2\" />\n",
       "\n",
       "  <!-- Colored Rectangle -->\n",
       "  <polygon points=\"10.0,0.0 35.41261651458248,0.0 68.0635288232165,32.65091230863403 42.65091230863403,32.65091230863403\" style=\"fill:#ECB172A0;stroke-width:0\"/>\n",
       "\n",
       "  <!-- Horizontal lines -->\n",
       "  <line x1=\"42\" y1=\"32\" x2=\"68\" y2=\"32\" style=\"stroke-width:2\" />\n",
       "  <line x1=\"42\" y1=\"152\" x2=\"68\" y2=\"152\" style=\"stroke-width:2\" />\n",
       "\n",
       "  <!-- Vertical lines -->\n",
       "  <line x1=\"42\" y1=\"32\" x2=\"42\" y2=\"152\" style=\"stroke-width:2\" />\n",
       "  <line x1=\"55\" y1=\"32\" x2=\"55\" y2=\"152\" />\n",
       "  <line x1=\"68\" y1=\"32\" x2=\"68\" y2=\"152\" style=\"stroke-width:2\" />\n",
       "\n",
       "  <!-- Colored Rectangle -->\n",
       "  <polygon points=\"42.65091230863403,32.65091230863403 68.06352882321652,32.65091230863403 68.06352882321652,152.65091230863402 42.65091230863403,152.65091230863402\" style=\"fill:#ECB172A0;stroke-width:0\"/>\n",
       "\n",
       "  <!-- Text -->\n",
       "  <text x=\"55.357221\" y=\"172.650912\" font-size=\"1.0rem\" font-weight=\"100\" text-anchor=\"middle\" >2</text>\n",
       "  <text x=\"88.063529\" y=\"92.650912\" font-size=\"1.0rem\" font-weight=\"100\" text-anchor=\"middle\" transform=\"rotate(-90,88.063529,92.650912)\">18547</text>\n",
       "  <text x=\"16.325456\" y=\"156.325456\" font-size=\"1.0rem\" font-weight=\"100\" text-anchor=\"middle\" transform=\"rotate(45,16.325456,156.325456)\">8579</text>\n",
       "</svg>\n",
       "        </td>\n",
       "    </tr>\n",
       "</table></div></li><li class='xr-var-item'><div class='xr-var-name'><span>geneslop2k-vm23_da_frac</span></div><div class='xr-var-dims'>(cell, geneslop2k-vm23)</div><div class='xr-var-dtype'>float32</div><div class='xr-var-preview xr-preview'>dask.array&lt;chunksize=(1000, 18547), meta=np.ndarray&gt;</div><input id='attrs-8ab09e70-2554-4d41-aff9-8f79825b5ebd' class='xr-var-attrs-in' type='checkbox' disabled><label for='attrs-8ab09e70-2554-4d41-aff9-8f79825b5ebd' title='Show/Hide attributes'><svg class='icon xr-icon-file-text2'><use xlink:href='#icon-file-text2'></use></svg></label><input id='data-240d5662-ad47-460a-ba8f-64caa53c333f' class='xr-var-data-in' type='checkbox'><label for='data-240d5662-ad47-460a-ba8f-64caa53c333f' title='Show/Hide data repr'><svg class='icon xr-icon-database'><use xlink:href='#icon-database'></use></svg></label><div class='xr-var-attrs'><dl class='xr-attrs'></dl></div><div class='xr-var-data'><table>\n",
       "    <tr>\n",
       "        <td>\n",
       "            <table>\n",
       "                <thead>\n",
       "                    <tr>\n",
       "                        <td> </td>\n",
       "                        <th> Array </th>\n",
       "                        <th> Chunk </th>\n",
       "                    </tr>\n",
       "                </thead>\n",
       "                <tbody>\n",
       "                    \n",
       "                    <tr>\n",
       "                        <th> Bytes </th>\n",
       "                        <td> 606.97 MiB </td>\n",
       "                        <td> 70.75 MiB </td>\n",
       "                    </tr>\n",
       "                    \n",
       "                    <tr>\n",
       "                        <th> Shape </th>\n",
       "                        <td> (8579, 18547) </td>\n",
       "                        <td> (1000, 18547) </td>\n",
       "                    </tr>\n",
       "                    <tr>\n",
       "                        <th> Count </th>\n",
       "                        <td> 37 Tasks </td>\n",
       "                        <td> 9 Chunks </td>\n",
       "                    </tr>\n",
       "                    <tr>\n",
       "                    <th> Type </th>\n",
       "                    <td> float32 </td>\n",
       "                    <td> numpy.ndarray </td>\n",
       "                    </tr>\n",
       "                </tbody>\n",
       "            </table>\n",
       "        </td>\n",
       "        <td>\n",
       "        <svg width=\"170\" height=\"105\" style=\"stroke:rgb(0,0,0);stroke-width:1\" >\n",
       "\n",
       "  <!-- Horizontal lines -->\n",
       "  <line x1=\"0\" y1=\"0\" x2=\"120\" y2=\"0\" style=\"stroke-width:2\" />\n",
       "  <line x1=\"0\" y1=\"6\" x2=\"120\" y2=\"6\" />\n",
       "  <line x1=\"0\" y1=\"12\" x2=\"120\" y2=\"12\" />\n",
       "  <line x1=\"0\" y1=\"19\" x2=\"120\" y2=\"19\" />\n",
       "  <line x1=\"0\" y1=\"25\" x2=\"120\" y2=\"25\" />\n",
       "  <line x1=\"0\" y1=\"32\" x2=\"120\" y2=\"32\" />\n",
       "  <line x1=\"0\" y1=\"38\" x2=\"120\" y2=\"38\" />\n",
       "  <line x1=\"0\" y1=\"45\" x2=\"120\" y2=\"45\" />\n",
       "  <line x1=\"0\" y1=\"51\" x2=\"120\" y2=\"51\" />\n",
       "  <line x1=\"0\" y1=\"55\" x2=\"120\" y2=\"55\" style=\"stroke-width:2\" />\n",
       "\n",
       "  <!-- Vertical lines -->\n",
       "  <line x1=\"0\" y1=\"0\" x2=\"0\" y2=\"55\" style=\"stroke-width:2\" />\n",
       "  <line x1=\"120\" y1=\"0\" x2=\"120\" y2=\"55\" style=\"stroke-width:2\" />\n",
       "\n",
       "  <!-- Colored Rectangle -->\n",
       "  <polygon points=\"0.0,0.0 120.0,0.0 120.0,55.50655092467784 0.0,55.50655092467784\" style=\"fill:#ECB172A0;stroke-width:0\"/>\n",
       "\n",
       "  <!-- Text -->\n",
       "  <text x=\"60.000000\" y=\"75.506551\" font-size=\"1.0rem\" font-weight=\"100\" text-anchor=\"middle\" >18547</text>\n",
       "  <text x=\"140.000000\" y=\"27.753275\" font-size=\"1.0rem\" font-weight=\"100\" text-anchor=\"middle\" transform=\"rotate(-90,140.000000,27.753275)\">8579</text>\n",
       "</svg>\n",
       "        </td>\n",
       "    </tr>\n",
       "</table></div></li></ul></div></li><li class='xr-section-item'><input id='section-63a94927-78ea-48f7-abb7-b464d96fab99' class='xr-section-summary-in' type='checkbox'  checked><label for='section-63a94927-78ea-48f7-abb7-b464d96fab99' class='xr-section-summary' >Attributes: <span>(2)</span></label><div class='xr-section-inline-details'></div><div class='xr-section-details'><dl class='xr-attrs'><dt><span>obs_dim :</span></dt><dd>cell</dd><dt><span>var_dim :</span></dt><dd>geneslop2k-vm23</dd></dl></div></li></ul></div></div>"
      ],
      "text/plain": [
       "<xarray.MCDS>\n",
       "Dimensions:                   (cell: 8579, count_type: 2, geneslop2k-vm23: 18547)\n",
       "Coordinates:\n",
       "  * cell                      (cell) <U15 '12F_M_2168' ... '12J_M_2682'\n",
       "  * count_type                (count_type) <U3 'mc' 'cov'\n",
       "  * geneslop2k-vm23           (geneslop2k-vm23) <U18 'ENSMUSG00000064128' ......\n",
       "    geneslop2k-vm23_chrom     (geneslop2k-vm23) <U5 'chr14' 'chr9' ... 'chr3'\n",
       "    geneslop2k-vm23_cov_mean  (geneslop2k-vm23) float64 812.3 ... 93.65\n",
       "    geneslop2k-vm23_end       (geneslop2k-vm23) int64 56577425 ... 36207623\n",
       "    geneslop2k-vm23_start     (geneslop2k-vm23) int64 56524761 ... 36201289\n",
       "    mc_type                   <U3 'CHN'\n",
       "Data variables:\n",
       "    geneslop2k-vm23_da        (cell, geneslop2k-vm23, count_type) uint16 dask.array<chunksize=(1000, 18547, 1), meta=np.ndarray>\n",
       "    geneslop2k-vm23_da_frac   (cell, geneslop2k-vm23) float32 dask.array<chunksize=(1000, 18547), meta=np.ndarray>\n",
       "Attributes:\n",
       "    obs_dim:  cell\n",
       "    var_dim:  geneslop2k-vm23"
      ]
     },
     "execution_count": 15,
     "metadata": {},
     "output_type": "execute_result"
    }
   ],
   "source": [
    "mcds = MCDS.open(cemba.CEMBA_SNMC_MCDS_PATH, var_dim=var_dim, use_obs=cells )\n",
    "with dask.config.set(**{'array.slicing.split_large_chunks': False}):\n",
    "    mcds = mcds.sel({\"geneslop2k-vm23\": genes, \"mc_type\": mc_type })\n",
    "mcds"
   ]
  },
  {
   "cell_type": "code",
   "execution_count": 16,
   "id": "5da2fba9-d7cc-467f-abd8-dd3bc42d6edd",
   "metadata": {
    "papermill": {
     "duration": 6.417199,
     "end_time": "2023-03-09T20:52:59.840600",
     "exception": false,
     "start_time": "2023-03-09T20:52:53.423401",
     "status": "completed"
    },
    "tags": []
   },
   "outputs": [],
   "source": [
    "frac_xr = mcds['geneslop2k-vm23_da_frac']\n",
    "mc_annot = cemba.get_mc_annot()\n",
    "annot = mc_annot.sel(cell=cells)\n",
    "frac_xr[f'{var}'] = annot[f'{var}']\n",
    "frac_xr = frac_xr.groupby(f'{var}').mean(dim = 'cell')\n",
    "\n",
    "region_mean_df = frac_xr.to_pandas()\n",
    "region_mean_df.columns = [mm10.gene_id_to_name(gene_id) for gene_id in region_mean_df.columns]"
   ]
  },
  {
   "cell_type": "markdown",
   "id": "48547346-fb5a-4eda-bc84-821f5af863eb",
   "metadata": {
    "papermill": {
     "duration": 0.005079,
     "end_time": "2023-03-09T20:52:59.851236",
     "exception": false,
     "start_time": "2023-03-09T20:52:59.846157",
     "status": "completed"
    },
    "tags": []
   },
   "source": [
    "## order gene and region for heatmap"
   ]
  },
  {
   "cell_type": "code",
   "execution_count": 17,
   "id": "d5cf5ceb-2b1f-4ec9-ad7e-b4d5440e6cea",
   "metadata": {
    "papermill": {
     "duration": 0.011633,
     "end_time": "2023-03-09T20:52:59.868058",
     "exception": false,
     "start_time": "2023-03-09T20:52:59.856425",
     "status": "completed"
    },
    "tags": []
   },
   "outputs": [],
   "source": [
    "region_axis_to_drs_order = joblib.load('/home/qzeng_salk_edu/project/cemba/230223_spatial/_prepare/region_axis_to_drs_order')"
   ]
  },
  {
   "cell_type": "code",
   "execution_count": 18,
   "id": "d6b70f40-6f5e-4116-aa91-7c0af33bebdc",
   "metadata": {
    "papermill": {
     "duration": 0.009848,
     "end_time": "2023-03-09T20:52:59.883118",
     "exception": false,
     "start_time": "2023-03-09T20:52:59.873270",
     "status": "completed"
    },
    "tags": []
   },
   "outputs": [],
   "source": [
    "region_order = region_axis_to_drs_order[region_axis]"
   ]
  },
  {
   "cell_type": "code",
   "execution_count": 19,
   "id": "5452dbe8-7483-4c51-abd7-140f4e4eacec",
   "metadata": {
    "papermill": {
     "duration": 0.010556,
     "end_time": "2023-03-09T20:52:59.898890",
     "exception": false,
     "start_time": "2023-03-09T20:52:59.888334",
     "status": "completed"
    },
    "tags": []
   },
   "outputs": [],
   "source": [
    "gene_order = []\n",
    "for region in region_order:\n",
    "    gene_list = subregion_dmgs[region]\n",
    "    gene_order += gene_list"
   ]
  },
  {
   "cell_type": "code",
   "execution_count": 20,
   "id": "a422c829-27cc-4f4f-9e91-ba0cb3f76197",
   "metadata": {
    "papermill": {
     "duration": 2.144592,
     "end_time": "2023-03-09T20:53:02.048736",
     "exception": false,
     "start_time": "2023-03-09T20:52:59.904144",
     "status": "completed"
    },
    "tags": []
   },
   "outputs": [],
   "source": [
    "shared_genes = list(set(gene_order) & set(region_mean_df.columns))\n",
    "\n",
    "new_gene_order = []\n",
    "for gene in gene_order:\n",
    "    if gene in  shared_genes:\n",
    "        new_gene_order.append(gene)\n",
    "\n",
    "region_mean_df = region_mean_df.loc[region_order,new_gene_order]"
   ]
  },
  {
   "cell_type": "code",
   "execution_count": 21,
   "id": "3396cc6d-29f8-4b27-9f0a-1bcc0d5312ff",
   "metadata": {
    "papermill": {
     "duration": 3.963326,
     "end_time": "2023-03-09T20:53:06.022678",
     "exception": false,
     "start_time": "2023-03-09T20:53:02.059352",
     "status": "completed"
    },
    "tags": []
   },
   "outputs": [],
   "source": [
    "all_alpha = []\n",
    "use_genes_after_alpha = []\n",
    "for gene in region_mean_df.columns:\n",
    "    tmpdf = region_mean_df[gene]\n",
    "    alpha = tmpdf.max() - tmpdf.min()\n",
    "    all_alpha.append(alpha)\n",
    "    \n",
    "    if alpha > 0.2:\n",
    "        use_genes_after_alpha.append(gene)\n",
    "    "
   ]
  },
  {
   "cell_type": "code",
   "execution_count": 22,
   "id": "6023eacf-f67c-411d-a028-3ea1ba75c4c4",
   "metadata": {
    "papermill": {
     "duration": 0.023017,
     "end_time": "2023-03-09T20:53:06.056062",
     "exception": false,
     "start_time": "2023-03-09T20:53:06.033045",
     "status": "completed"
    },
    "tags": []
   },
   "outputs": [
    {
     "data": {
      "text/plain": [
       "3083"
      ]
     },
     "execution_count": 22,
     "metadata": {},
     "output_type": "execute_result"
    }
   ],
   "source": [
    "len(use_genes_after_alpha)"
   ]
  },
  {
   "cell_type": "code",
   "execution_count": 23,
   "id": "be85a075-989f-401e-a1eb-9b602c8588d1",
   "metadata": {
    "papermill": {
     "duration": 2.640692,
     "end_time": "2023-03-09T20:53:08.706677",
     "exception": false,
     "start_time": "2023-03-09T20:53:06.065985",
     "status": "completed"
    },
    "tags": []
   },
   "outputs": [],
   "source": [
    "region_mean_df = region_mean_df.loc[region_order,use_genes_after_alpha]\n",
    "region_mean_df_scored = region_mean_df.apply(zscore)"
   ]
  },
  {
   "cell_type": "code",
   "execution_count": 24,
   "id": "44fa9c30-0659-46f6-b260-0ff0f5fd4f92",
   "metadata": {
    "papermill": {
     "duration": 0.039436,
     "end_time": "2023-03-09T20:53:08.757642",
     "exception": false,
     "start_time": "2023-03-09T20:53:08.718206",
     "status": "completed"
    },
    "tags": []
   },
   "outputs": [],
   "source": [
    "region_mean_df.to_csv('region_mean_df.csv')"
   ]
  },
  {
   "cell_type": "code",
   "execution_count": 25,
   "id": "f3b0b7a6-b688-4e7b-b4a9-a29f3a4e57d9",
   "metadata": {
    "papermill": {
     "duration": 0.019798,
     "end_time": "2023-03-09T20:53:08.790060",
     "exception": false,
     "start_time": "2023-03-09T20:53:08.770262",
     "status": "completed"
    },
    "tags": []
   },
   "outputs": [
    {
     "data": {
      "text/plain": [
       "(3083, 4)"
      ]
     },
     "execution_count": 25,
     "metadata": {},
     "output_type": "execute_result"
    }
   ],
   "source": [
    "to_plot = region_mean_df_scored.T\n",
    "to_plot.shape"
   ]
  },
  {
   "cell_type": "code",
   "execution_count": 26,
   "id": "605096b4-7729-40eb-9f8d-f7a9303a0760",
   "metadata": {},
   "outputs": [
    {
     "data": {
      "text/html": [
       "<div>\n",
       "<style scoped>\n",
       "    .dataframe tbody tr th:only-of-type {\n",
       "        vertical-align: middle;\n",
       "    }\n",
       "\n",
       "    .dataframe tbody tr th {\n",
       "        vertical-align: top;\n",
       "    }\n",
       "\n",
       "    .dataframe thead th {\n",
       "        text-align: right;\n",
       "    }\n",
       "</style>\n",
       "<table border=\"1\" class=\"dataframe\">\n",
       "  <thead>\n",
       "    <tr style=\"text-align: right;\">\n",
       "      <th>DissectionRegion</th>\n",
       "      <th>SC-2</th>\n",
       "      <th>PAG-1</th>\n",
       "      <th>MRN</th>\n",
       "      <th>PRN-4</th>\n",
       "    </tr>\n",
       "  </thead>\n",
       "  <tbody>\n",
       "    <tr>\n",
       "      <th>Gm39038</th>\n",
       "      <td>-0.878047</td>\n",
       "      <td>-0.753955</td>\n",
       "      <td>0.000872</td>\n",
       "      <td>1.631130</td>\n",
       "    </tr>\n",
       "    <tr>\n",
       "      <th>Spag11a</th>\n",
       "      <td>-0.939510</td>\n",
       "      <td>-0.677910</td>\n",
       "      <td>-0.012791</td>\n",
       "      <td>1.630213</td>\n",
       "    </tr>\n",
       "    <tr>\n",
       "      <th>Nell1</th>\n",
       "      <td>-1.137220</td>\n",
       "      <td>0.094337</td>\n",
       "      <td>-0.516351</td>\n",
       "      <td>1.559235</td>\n",
       "    </tr>\n",
       "    <tr>\n",
       "      <th>Pknox2</th>\n",
       "      <td>-1.513862</td>\n",
       "      <td>0.699191</td>\n",
       "      <td>-0.258813</td>\n",
       "      <td>1.073485</td>\n",
       "    </tr>\n",
       "    <tr>\n",
       "      <th>Vmn1r201</th>\n",
       "      <td>-1.164046</td>\n",
       "      <td>0.072903</td>\n",
       "      <td>-0.465466</td>\n",
       "      <td>1.556606</td>\n",
       "    </tr>\n",
       "  </tbody>\n",
       "</table>\n",
       "</div>"
      ],
      "text/plain": [
       "DissectionRegion      SC-2     PAG-1       MRN     PRN-4\n",
       "Gm39038          -0.878047 -0.753955  0.000872  1.631130\n",
       "Spag11a          -0.939510 -0.677910 -0.012791  1.630213\n",
       "Nell1            -1.137220  0.094337 -0.516351  1.559235\n",
       "Pknox2           -1.513862  0.699191 -0.258813  1.073485\n",
       "Vmn1r201         -1.164046  0.072903 -0.465466  1.556606"
      ]
     },
     "execution_count": 26,
     "metadata": {},
     "output_type": "execute_result"
    }
   ],
   "source": [
    "to_plot.head()"
   ]
  },
  {
   "cell_type": "code",
   "execution_count": 25,
   "id": "a343a3c8-7417-4873-bc61-15ec9d6cf9f6",
   "metadata": {
    "execution": {
     "iopub.execute_input": "2023-03-09T20:53:08.813193Z",
     "iopub.status.busy": "2023-03-09T20:53:08.812355Z",
     "iopub.status.idle": "2023-03-09T20:53:08.820603Z",
     "shell.execute_reply": "2023-03-09T20:53:08.819657Z"
    },
    "papermill": {
     "duration": 0.022143,
     "end_time": "2023-03-09T20:53:08.822531",
     "exception": false,
     "start_time": "2023-03-09T20:53:08.800388",
     "status": "completed"
    },
    "tags": []
   },
   "outputs": [],
   "source": [
    "# prepare region bar\n",
    "from matplotlib.colors import hex2color\n",
    "region_type = 'CEMBA'\n",
    "dissection_region_palette = brain.get_dissection_region_palette(region_type=region_type)\n",
    "mc_annot = cemba.get_mc_annot()\n",
    "\n",
    "region_colors = []\n",
    "for _region in region_order:\n",
    "    region_hex = dissection_region_palette[_region]\n",
    "    region_colors.append(hex2color(region_hex))\n",
    "region_colors = np.array(region_colors)"
   ]
  },
  {
   "cell_type": "code",
   "execution_count": 26,
   "id": "a4ab7a9e-596c-4e3c-bd0d-10d2eeb5d2ba",
   "metadata": {
    "execution": {
     "iopub.execute_input": "2023-03-09T20:53:08.847817Z",
     "iopub.status.busy": "2023-03-09T20:53:08.847464Z",
     "iopub.status.idle": "2023-03-09T20:53:09.573921Z",
     "shell.execute_reply": "2023-03-09T20:53:09.572279Z"
    },
    "papermill": {
     "duration": 0.742128,
     "end_time": "2023-03-09T20:53:09.577031",
     "exception": false,
     "start_time": "2023-03-09T20:53:08.834903",
     "status": "completed"
    },
    "tags": []
   },
   "outputs": [
    {
     "data": {
      "image/png": "[encoded data removed]",
      "text/plain": [
       "<Figure size 3000x1200 with 2 Axes>"
      ]
     },
     "metadata": {},
     "output_type": "display_data"
    }
   ],
   "source": [
    "fig = plt.figure(figsize=(5, 2), dpi=600)\n",
    "gs = fig.add_gridspec(\n",
    "    2,2,  height_ratios=(1, 10), width_ratios=(1, 10), hspace=0, wspace=0\n",
    ")\n",
    "\n",
    "ax = fig.add_subplot(gs[0, 1])\n",
    "ax.imshow(region_colors[None, :, :], aspect=\"auto\")\n",
    "ax.set(xticks=[], yticks=[], ylabel=\"\", xlabel=\"\")\n",
    "\n",
    "\n",
    "ax = fig.add_subplot(gs[1,1])\n",
    "kwargs = {'rasterized':True}\n",
    "\n",
    "sns.heatmap(data = to_plot,\n",
    "            ax = ax,\n",
    "            vmin=-2,\n",
    "            cbar=None,\n",
    "            vmax=2,\n",
    "            cmap='coolwarm_r',\n",
    "            xticklabels=False,\n",
    "            yticklabels=False,\n",
    "            **kwargs\n",
    "           )\n",
    "\n",
    "fig.savefig(f'{region_axis}.GLUT.{var}.DMG.pdf',bbox_inches = 'tight')"
   ]
  },
  {
   "cell_type": "markdown",
   "id": "0eae8bd4-c71e-4886-aaac-99c187bed202",
   "metadata": {
    "papermill": {
     "duration": 0.011829,
     "end_time": "2023-03-09T20:53:09.600072",
     "exception": false,
     "start_time": "2023-03-09T20:53:09.588243",
     "status": "completed"
    },
    "tags": []
   },
   "source": [
    "## GO to check"
   ]
  },
  {
   "cell_type": "code",
   "execution_count": 27,
   "id": "d26101ed-6945-435b-b237-417dbd9ca122",
   "metadata": {
    "execution": {
     "iopub.execute_input": "2023-03-09T20:53:09.627752Z",
     "iopub.status.busy": "2023-03-09T20:53:09.626942Z",
     "iopub.status.idle": "2023-03-09T20:53:09.630970Z",
     "shell.execute_reply": "2023-03-09T20:53:09.630267Z"
    },
    "papermill": {
     "duration": 0.021128,
     "end_time": "2023-03-09T20:53:09.633638",
     "exception": false,
     "start_time": "2023-03-09T20:53:09.612510",
     "status": "completed"
    },
    "tags": []
   },
   "outputs": [],
   "source": [
    "# from gseapy import barplot, dotplot\n",
    "# from gseapy.plot import gseaplot\n",
    "# import gseapy as gp"
   ]
  },
  {
   "cell_type": "code",
   "execution_count": 28,
   "id": "2c498dfa-1693-4111-935e-f55e77a2b050",
   "metadata": {
    "execution": {
     "iopub.execute_input": "2023-03-09T20:53:09.663846Z",
     "iopub.status.busy": "2023-03-09T20:53:09.662997Z",
     "iopub.status.idle": "2023-03-09T20:53:09.666842Z",
     "shell.execute_reply": "2023-03-09T20:53:09.666210Z"
    },
    "papermill": {
     "duration": 0.02494,
     "end_time": "2023-03-09T20:53:09.670544",
     "exception": false,
     "start_time": "2023-03-09T20:53:09.645604",
     "status": "completed"
    },
    "tags": []
   },
   "outputs": [],
   "source": [
    "# go_mf = gp.get_library(name='GO_Biological_Process_2021', organism='Mouse')"
   ]
  },
  {
   "cell_type": "code",
   "execution_count": 29,
   "id": "b4eece95-e1c8-424d-909e-94fdc8682fe7",
   "metadata": {
    "execution": {
     "iopub.execute_input": "2023-03-09T20:53:09.698638Z",
     "iopub.status.busy": "2023-03-09T20:53:09.698325Z",
     "iopub.status.idle": "2023-03-09T20:53:09.701308Z",
     "shell.execute_reply": "2023-03-09T20:53:09.700690Z"
    },
    "papermill": {
     "duration": 0.024232,
     "end_time": "2023-03-09T20:53:09.707015",
     "exception": false,
     "start_time": "2023-03-09T20:53:09.682783",
     "status": "completed"
    },
    "tags": []
   },
   "outputs": [],
   "source": [
    "# all_regions = list(balanced_subregion_dmgs.keys())\n",
    "# _region = all_regions[0]\n",
    "# _region"
   ]
  },
  {
   "cell_type": "code",
   "execution_count": 30,
   "id": "16496e12-d424-415e-ad9b-923be58991e7",
   "metadata": {
    "execution": {
     "iopub.execute_input": "2023-03-09T20:53:09.736749Z",
     "iopub.status.busy": "2023-03-09T20:53:09.735938Z",
     "iopub.status.idle": "2023-03-09T20:53:09.740366Z",
     "shell.execute_reply": "2023-03-09T20:53:09.739479Z"
    },
    "papermill": {
     "duration": 0.022311,
     "end_time": "2023-03-09T20:53:09.742490",
     "exception": false,
     "start_time": "2023-03-09T20:53:09.720179",
     "status": "completed"
    },
    "tags": []
   },
   "outputs": [],
   "source": [
    "# interested_genes = subregion_dmgs[f'{_region}']\n",
    "# gene_list_new = [gene.upper() for gene in interested_genes]"
   ]
  },
  {
   "cell_type": "code",
   "execution_count": 31,
   "id": "4f1cc96e-ca59-45eb-8d2b-1c345f1ebfee",
   "metadata": {
    "execution": {
     "iopub.execute_input": "2023-03-09T20:53:09.770451Z",
     "iopub.status.busy": "2023-03-09T20:53:09.770123Z",
     "iopub.status.idle": "2023-03-09T20:53:09.774551Z",
     "shell.execute_reply": "2023-03-09T20:53:09.773665Z"
    },
    "papermill": {
     "duration": 0.021927,
     "end_time": "2023-03-09T20:53:09.777194",
     "exception": false,
     "start_time": "2023-03-09T20:53:09.755267",
     "status": "completed"
    },
    "tags": []
   },
   "outputs": [],
   "source": [
    "# enr2 = gp.enrich(gene_list=gene_list_new, \n",
    "#                  gene_sets=go_mf,\n",
    "#                  outdir=None,\n",
    "#                  verbose=False)\n",
    "# enr2.res2d.sort_values('Adjusted P-value').head()"
   ]
  },
  {
   "cell_type": "code",
   "execution_count": 32,
   "id": "61b2eac5-3b12-4346-a672-bea3f80b6835",
   "metadata": {
    "execution": {
     "iopub.execute_input": "2023-03-09T20:53:09.803519Z",
     "iopub.status.busy": "2023-03-09T20:53:09.803194Z",
     "iopub.status.idle": "2023-03-09T20:53:09.811546Z",
     "shell.execute_reply": "2023-03-09T20:53:09.810249Z"
    },
    "papermill": {
     "duration": 0.024426,
     "end_time": "2023-03-09T20:53:09.814421",
     "exception": false,
     "start_time": "2023-03-09T20:53:09.789995",
     "status": "completed"
    },
    "tags": []
   },
   "outputs": [],
   "source": [
    "# ax = barplot(enr2.res2d,\n",
    "#              title=f\"{_region} DMG\", \n",
    "#              figsize=(4, 5), \n",
    "#              color='darkred',\n",
    "#              #ofname = 'HignE_GO.png'\n",
    "#             )"
   ]
  },
  {
   "cell_type": "code",
   "execution_count": null,
   "id": "5648b0e4-dc65-468d-a0bb-076430df99f5",
   "metadata": {
    "papermill": {
     "duration": 0.011901,
     "end_time": "2023-03-09T20:53:09.838150",
     "exception": false,
     "start_time": "2023-03-09T20:53:09.826249",
     "status": "completed"
    },
    "tags": []
   },
   "outputs": [],
   "source": []
  },
  {
   "cell_type": "code",
   "execution_count": null,
   "id": "3ab2b391-e6fd-460c-a975-d3f4814b74d4",
   "metadata": {
    "papermill": {
     "duration": 0.012882,
     "end_time": "2023-03-09T20:53:09.864464",
     "exception": false,
     "start_time": "2023-03-09T20:53:09.851582",
     "status": "completed"
    },
    "tags": []
   },
   "outputs": [],
   "source": []
  },
  {
   "cell_type": "code",
   "execution_count": null,
   "id": "5a89981f-7013-424d-8b09-7e52f9a7256c",
   "metadata": {
    "papermill": {
     "duration": 0.012659,
     "end_time": "2023-03-09T20:53:09.888543",
     "exception": false,
     "start_time": "2023-03-09T20:53:09.875884",
     "status": "completed"
    },
    "tags": []
   },
   "outputs": [],
   "source": []
  },
  {
   "cell_type": "code",
   "execution_count": null,
   "id": "74148573-fc3d-40b9-b6ee-0b6a9b25d43d",
   "metadata": {
    "papermill": {
     "duration": 0.010908,
     "end_time": "2023-03-09T20:53:09.912394",
     "exception": false,
     "start_time": "2023-03-09T20:53:09.901486",
     "status": "completed"
    },
    "tags": []
   },
   "outputs": [],
   "source": []
  },
  {
   "cell_type": "code",
   "execution_count": null,
   "id": "11231c73-536c-44c9-b6d4-8c2a676ed42e",
   "metadata": {
    "papermill": {
     "duration": 0.010965,
     "end_time": "2023-03-09T20:53:09.935527",
     "exception": false,
     "start_time": "2023-03-09T20:53:09.924562",
     "status": "completed"
    },
    "tags": []
   },
   "outputs": [],
   "source": []
  },
  {
   "cell_type": "code",
   "execution_count": null,
   "id": "11a3cac6-a203-464b-9f1c-7cfefc85e122",
   "metadata": {
    "papermill": {
     "duration": 0.013074,
     "end_time": "2023-03-09T20:53:09.961503",
     "exception": false,
     "start_time": "2023-03-09T20:53:09.948429",
     "status": "completed"
    },
    "tags": []
   },
   "outputs": [],
   "source": []
  }
 ],
 "metadata": {
  "kernelspec": {
   "display_name": "Python 3 (ipykernel)",
   "language": "python",
   "name": "python3"
  },
  "language_info": {
   "codemirror_mode": {
    "name": "ipython",
    "version": 3
   },
   "file_extension": ".py",
   "mimetype": "text/x-python",
   "name": "python",
   "nbconvert_exporter": "python",
   "pygments_lexer": "ipython3",
   "version": "3.7.12"
  },
  "papermill": {
   "default_parameters": {},
   "duration": 22.652821,
   "end_time": "2023-03-09T20:53:10.996565",
   "environment_variables": {},
   "exception": null,
   "input_path": "/home/qzeng_salk_edu/project/cemba/230223_spatial/dmg/Template/06.plot_spatial_dmg.ipynb",
   "output_path": "/home/qzeng_salk_edu/project/cemba/230223_spatial/dmg/DissectionRegion_Glut3/DissectionRegion_Slice12-FGHJ/06.plot_spatial_dmg.ipynb",
   "parameters": {
    "chrom_to_remove": [
     "chrX",
     "chrY",
     "chrM",
     "chrL"
    ],
    "cpu": 40,
    "group_name": "DissectionRegion_Slice12-FGHJ",
    "mc_type": "CHN",
    "mem_gb": 15,
    "qval_cutoff": 0.01,
    "var_dim": "geneslop2k-vm23"
   },
   "start_time": "2023-03-09T20:52:48.343744",
   "version": "2.4.0"
  }
 },
 "nbformat": 4,
 "nbformat_minor": 5
}
