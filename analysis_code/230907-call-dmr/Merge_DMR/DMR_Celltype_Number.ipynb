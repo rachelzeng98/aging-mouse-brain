{
 "cells": [
  {
   "cell_type": "code",
   "execution_count": 1,
   "id": "0a91697d-89e4-4c11-9b5b-8099487beb5a",
   "metadata": {
    "execution": {
     "iopub.execute_input": "2024-11-08T19:58:41.649610Z",
     "iopub.status.busy": "2024-11-08T19:58:41.648773Z",
     "iopub.status.idle": "2024-11-08T19:58:46.868122Z",
     "shell.execute_reply": "2024-11-08T19:58:46.866047Z",
     "shell.execute_reply.started": "2024-11-08T19:58:41.649549Z"
    },
    "tags": []
   },
   "outputs": [],
   "source": [
    "import pandas as pd\n",
    "import glob\n",
    "import matplotlib.pyplot as plt\n",
    "import pathlib\n",
    "from scipy import stats\n",
    "import numpy as np\n",
    "import pybedtools\n",
    "from amb import *\n",
    "import seaborn  as sns\n",
    "import joblib\n",
    "\n",
    "plt.rcParams['pdf.fonttype']=42"
   ]
  },
  {
   "cell_type": "code",
   "execution_count": 2,
   "id": "36d457b5-0171-4950-bd84-4309a84e75f1",
   "metadata": {
    "execution": {
     "iopub.execute_input": "2024-11-08T19:58:46.872591Z",
     "iopub.status.busy": "2024-11-08T19:58:46.871478Z",
     "iopub.status.idle": "2024-11-08T19:58:46.894496Z",
     "shell.execute_reply": "2024-11-08T19:58:46.893441Z",
     "shell.execute_reply.started": "2024-11-08T19:58:46.872519Z"
    },
    "tags": []
   },
   "outputs": [],
   "source": [
    "hyper_dmr_paths = glob.glob('mC_FILTER_DMR_BED/*.Hyper.aDMR.bed')\n",
    "hypo_dmr_paths = glob.glob('mC_FILTER_DMR_BED/*.Hypo.aDMR.bed')"
   ]
  },
  {
   "cell_type": "code",
   "execution_count": 3,
   "id": "9fc8b3a9-a7ee-4f47-892e-af97be0dd381",
   "metadata": {
    "execution": {
     "iopub.execute_input": "2024-11-08T19:58:46.896583Z",
     "iopub.status.busy": "2024-11-08T19:58:46.895965Z",
     "iopub.status.idle": "2024-11-08T19:58:46.916855Z",
     "shell.execute_reply": "2024-11-08T19:58:46.915764Z",
     "shell.execute_reply.started": "2024-11-08T19:58:46.896533Z"
    },
    "tags": []
   },
   "outputs": [],
   "source": [
    "use_cts = joblib.load('/home/qzeng/project/aging/metadata/mc_use_cts')\n",
    "use_cts = [ct.replace(' ','_').replace('/','') for ct in use_cts]"
   ]
  },
  {
   "cell_type": "code",
   "execution_count": 4,
   "id": "209a8faa-47fa-49a2-8396-575e849c885d",
   "metadata": {
    "execution": {
     "iopub.execute_input": "2024-11-08T19:58:46.920220Z",
     "iopub.status.busy": "2024-11-08T19:58:46.919571Z",
     "iopub.status.idle": "2024-11-08T19:58:48.369978Z",
     "shell.execute_reply": "2024-11-08T19:58:48.368867Z",
     "shell.execute_reply.started": "2024-11-08T19:58:46.920170Z"
    },
    "tags": []
   },
   "outputs": [],
   "source": [
    "dmr_num = {}\n",
    "dmr_length = {}\n",
    "all_celltypes = []\n",
    "for path in hyper_dmr_paths:\n",
    "    mt = pathlib.Path(path).name.split('.')[0]\n",
    "    if mt in use_cts:\n",
    "        hyper_df = pd.read_csv(path, on_bad_lines='skip', sep = '\\t', header = None,index_col = 3)\n",
    "        hypo_df = pd.read_csv(f\"mC_FILTER_DMR_BED/{mt}.Hypo.aDMR.bed\", on_bad_lines='skip', sep = '\\t', header = None,index_col = 3)\n",
    "\n",
    "        hyper_df['length'] = hyper_df[2] - hyper_df[1]\n",
    "        hypo_df['length'] = hypo_df[2] - hypo_df[1]\n",
    "\n",
    "        hypo_mean = hypo_df['length'].mean()\n",
    "        hyper_mean = hyper_df['length'].mean()\n",
    "        mean = (hypo_mean+hyper_mean)/2\n",
    "\n",
    "        all_celltypes.append(mt)\n",
    "        dmr_num[mt] = [hyper_df.shape[0]+hypo_df.shape[0] ,hyper_df.shape[0],hypo_df.shape[0]]  \n",
    "        dmr_length[mt] = [mean]  "
   ]
  },
  {
   "cell_type": "code",
   "execution_count": 5,
   "id": "f90fb6fd-56cc-4fc5-8d8f-03b9a3abd34e",
   "metadata": {
    "execution": {
     "iopub.execute_input": "2024-11-08T19:58:48.371780Z",
     "iopub.status.busy": "2024-11-08T19:58:48.371233Z",
     "iopub.status.idle": "2024-11-08T19:58:48.393548Z",
     "shell.execute_reply": "2024-11-08T19:58:48.392874Z",
     "shell.execute_reply.started": "2024-11-08T19:58:48.371744Z"
    },
    "tags": []
   },
   "outputs": [
    {
     "data": {
      "text/html": [
       "<div>\n",
       "<style scoped>\n",
       "    .dataframe tbody tr th:only-of-type {\n",
       "        vertical-align: middle;\n",
       "    }\n",
       "\n",
       "    .dataframe tbody tr th {\n",
       "        vertical-align: top;\n",
       "    }\n",
       "\n",
       "    .dataframe thead th {\n",
       "        text-align: right;\n",
       "    }\n",
       "</style>\n",
       "<table border=\"1\" class=\"dataframe\">\n",
       "  <thead>\n",
       "    <tr style=\"text-align: right;\">\n",
       "      <th></th>\n",
       "      <th>All aDMRs</th>\n",
       "      <th>Aging Hyper</th>\n",
       "      <th>Aging Hypo</th>\n",
       "    </tr>\n",
       "  </thead>\n",
       "  <tbody>\n",
       "    <tr>\n",
       "      <th>OPC_NN</th>\n",
       "      <td>70516</td>\n",
       "      <td>35491</td>\n",
       "      <td>35025</td>\n",
       "    </tr>\n",
       "    <tr>\n",
       "      <th>Astro-NT_NN</th>\n",
       "      <td>58742</td>\n",
       "      <td>43960</td>\n",
       "      <td>14782</td>\n",
       "    </tr>\n",
       "    <tr>\n",
       "      <th>L23_IT_CTX_Glut</th>\n",
       "      <td>17998</td>\n",
       "      <td>757</td>\n",
       "      <td>17241</td>\n",
       "    </tr>\n",
       "    <tr>\n",
       "      <th>Microglia_NN</th>\n",
       "      <td>15929</td>\n",
       "      <td>9447</td>\n",
       "      <td>6482</td>\n",
       "    </tr>\n",
       "    <tr>\n",
       "      <th>LDT-PCG-CS_Gata3_Lhx1_Gaba</th>\n",
       "      <td>13622</td>\n",
       "      <td>7935</td>\n",
       "      <td>5687</td>\n",
       "    </tr>\n",
       "  </tbody>\n",
       "</table>\n",
       "</div>"
      ],
      "text/plain": [
       "                            All aDMRs  Aging Hyper  Aging Hypo\n",
       "OPC_NN                          70516        35491       35025\n",
       "Astro-NT_NN                     58742        43960       14782\n",
       "L23_IT_CTX_Glut                 17998          757       17241\n",
       "Microglia_NN                    15929         9447        6482\n",
       "LDT-PCG-CS_Gata3_Lhx1_Gaba      13622         7935        5687"
      ]
     },
     "execution_count": 5,
     "metadata": {},
     "output_type": "execute_result"
    }
   ],
   "source": [
    "dmr_num_df = pd.DataFrame(data = dmr_num, index = ['All aDMRs', 'Aging Hyper','Aging Hypo']).T\n",
    "dmr_num_df = dmr_num_df.sort_values(by = 'All aDMRs', ascending = False).copy()\n",
    "#dmr_num_df = dmr_num_df.drop(columns = ['All aDMRs'])\n",
    "dmr_num_df.head()"
   ]
  },
  {
   "cell_type": "code",
   "execution_count": 6,
   "id": "2dadb88a-85c0-4026-b24d-ff94fb2d72a0",
   "metadata": {
    "execution": {
     "iopub.execute_input": "2024-11-08T19:58:48.395238Z",
     "iopub.status.busy": "2024-11-08T19:58:48.394829Z",
     "iopub.status.idle": "2024-11-08T19:58:48.407076Z",
     "shell.execute_reply": "2024-11-08T19:58:48.406486Z",
     "shell.execute_reply.started": "2024-11-08T19:58:48.395207Z"
    },
    "tags": []
   },
   "outputs": [
    {
     "data": {
      "text/html": [
       "<div>\n",
       "<style scoped>\n",
       "    .dataframe tbody tr th:only-of-type {\n",
       "        vertical-align: middle;\n",
       "    }\n",
       "\n",
       "    .dataframe tbody tr th {\n",
       "        vertical-align: top;\n",
       "    }\n",
       "\n",
       "    .dataframe thead th {\n",
       "        text-align: right;\n",
       "    }\n",
       "</style>\n",
       "<table border=\"1\" class=\"dataframe\">\n",
       "  <thead>\n",
       "    <tr style=\"text-align: right;\">\n",
       "      <th></th>\n",
       "      <th>Average Mean</th>\n",
       "    </tr>\n",
       "  </thead>\n",
       "  <tbody>\n",
       "    <tr>\n",
       "      <th>CA1-ProS_Glut</th>\n",
       "      <td>65.319460</td>\n",
       "    </tr>\n",
       "    <tr>\n",
       "      <th>CEA-BST_Gaba</th>\n",
       "      <td>63.668145</td>\n",
       "    </tr>\n",
       "    <tr>\n",
       "      <th>CA3_Glut</th>\n",
       "      <td>64.369323</td>\n",
       "    </tr>\n",
       "    <tr>\n",
       "      <th>DG_Glut</th>\n",
       "      <td>77.458292</td>\n",
       "    </tr>\n",
       "    <tr>\n",
       "      <th>MEA-BST_Gaba</th>\n",
       "      <td>65.955874</td>\n",
       "    </tr>\n",
       "  </tbody>\n",
       "</table>\n",
       "</div>"
      ],
      "text/plain": [
       "               Average Mean\n",
       "CA1-ProS_Glut     65.319460\n",
       "CEA-BST_Gaba      63.668145\n",
       "CA3_Glut          64.369323\n",
       "DG_Glut           77.458292\n",
       "MEA-BST_Gaba      65.955874"
      ]
     },
     "execution_count": 6,
     "metadata": {},
     "output_type": "execute_result"
    }
   ],
   "source": [
    "dmr_length_df = pd.DataFrame(data = dmr_length, index = ['Average Mean']).T\n",
    "dmr_length_df.head()"
   ]
  },
  {
   "cell_type": "code",
   "execution_count": 7,
   "id": "7f2a209e-67d0-4133-8779-1bcb7cc92023",
   "metadata": {
    "execution": {
     "iopub.execute_input": "2024-11-08T19:58:48.408517Z",
     "iopub.status.busy": "2024-11-08T19:58:48.408139Z",
     "iopub.status.idle": "2024-11-08T19:58:50.086078Z",
     "shell.execute_reply": "2024-11-08T19:58:50.085165Z",
     "shell.execute_reply.started": "2024-11-08T19:58:48.408489Z"
    },
    "tags": []
   },
   "outputs": [
    {
     "name": "stderr",
     "output_type": "stream",
     "text": [
      "/home/qz/miniconda3/envs/allcools/lib/python3.7/site-packages/IPython/core/interactiveshell.py:3552: DtypeWarning: Columns (22) have mixed types.Specify dtype option on import or set low_memory=False.\n",
      "  exec(code_obj, self.user_global_ns, self.user_ns)\n"
     ]
    }
   ],
   "source": [
    "mc_meta = pd.read_csv('/home/qzeng/project/aging/metadata/240104_mC_META.csv', index_col =0)\n",
    "m3c_meta = pd.read_csv('/home/qzeng/project/aging/metadata/240104_m3C_META.csv', index_col =0)"
   ]
  },
  {
   "cell_type": "code",
   "execution_count": 8,
   "id": "1535815f-a4a7-4b5d-a4fb-7fdecc49d380",
   "metadata": {
    "execution": {
     "iopub.execute_input": "2024-11-08T19:58:50.087234Z",
     "iopub.status.busy": "2024-11-08T19:58:50.087012Z",
     "iopub.status.idle": "2024-11-08T19:58:50.282460Z",
     "shell.execute_reply": "2024-11-08T19:58:50.281559Z",
     "shell.execute_reply.started": "2024-11-08T19:58:50.087213Z"
    },
    "tags": []
   },
   "outputs": [],
   "source": [
    "meta = pd.concat([mc_meta, m3c_meta], axis =0)"
   ]
  },
  {
   "cell_type": "code",
   "execution_count": 9,
   "id": "5c6628aa-e4c2-4de1-b142-ceaa12c3a307",
   "metadata": {
    "execution": {
     "iopub.execute_input": "2024-11-08T19:58:50.283535Z",
     "iopub.status.busy": "2024-11-08T19:58:50.283304Z",
     "iopub.status.idle": "2024-11-08T19:58:50.332624Z",
     "shell.execute_reply": "2024-11-08T19:58:50.331347Z",
     "shell.execute_reply.started": "2024-11-08T19:58:50.283514Z"
    },
    "tags": []
   },
   "outputs": [],
   "source": [
    "cell_counts = meta['AgingMajorType'].value_counts()"
   ]
  },
  {
   "cell_type": "code",
   "execution_count": 10,
   "id": "b49eb029-a2db-4912-8904-594aceb0937f",
   "metadata": {
    "execution": {
     "iopub.execute_input": "2024-11-08T19:58:50.335486Z",
     "iopub.status.busy": "2024-11-08T19:58:50.334969Z",
     "iopub.status.idle": "2024-11-08T19:58:50.340875Z",
     "shell.execute_reply": "2024-11-08T19:58:50.340015Z",
     "shell.execute_reply.started": "2024-11-08T19:58:50.335451Z"
    },
    "tags": []
   },
   "outputs": [],
   "source": [
    "cell_counts.index = cell_counts.index.map(lambda x: x.replace(' ','_').replace('/',''))"
   ]
  },
  {
   "cell_type": "code",
   "execution_count": 11,
   "id": "34b99f57-e7cf-4e7d-b4df-a9ce5cda9da2",
   "metadata": {
    "execution": {
     "iopub.execute_input": "2024-11-08T19:58:50.342397Z",
     "iopub.status.busy": "2024-11-08T19:58:50.342043Z",
     "iopub.status.idle": "2024-11-08T19:58:50.352915Z",
     "shell.execute_reply": "2024-11-08T19:58:50.352118Z",
     "shell.execute_reply.started": "2024-11-08T19:58:50.342364Z"
    },
    "tags": []
   },
   "outputs": [],
   "source": [
    "toplot = pd.concat([cell_counts, dmr_length_df, dmr_num_df[['All aDMRs']]], axis = 1).dropna()"
   ]
  },
  {
   "cell_type": "code",
   "execution_count": 12,
   "id": "87bcb675-dc19-479f-a1e3-7f39ac951b29",
   "metadata": {
    "execution": {
     "iopub.execute_input": "2024-11-08T19:58:50.354399Z",
     "iopub.status.busy": "2024-11-08T19:58:50.353937Z",
     "iopub.status.idle": "2024-11-08T19:58:50.358922Z",
     "shell.execute_reply": "2024-11-08T19:58:50.357981Z",
     "shell.execute_reply.started": "2024-11-08T19:58:50.354366Z"
    },
    "tags": []
   },
   "outputs": [],
   "source": [
    "toplot.columns = ['Cell Number','DMR Length','DMR Number']"
   ]
  },
  {
   "cell_type": "code",
   "execution_count": 13,
   "id": "3ca8f045-6eb5-4d36-a126-ca50cb5beb80",
   "metadata": {
    "execution": {
     "iopub.execute_input": "2024-11-08T19:58:50.360356Z",
     "iopub.status.busy": "2024-11-08T19:58:50.360016Z",
     "iopub.status.idle": "2024-11-08T19:58:50.371181Z",
     "shell.execute_reply": "2024-11-08T19:58:50.370290Z",
     "shell.execute_reply.started": "2024-11-08T19:58:50.360325Z"
    },
    "tags": []
   },
   "outputs": [
    {
     "data": {
      "text/html": [
       "<div>\n",
       "<style scoped>\n",
       "    .dataframe tbody tr th:only-of-type {\n",
       "        vertical-align: middle;\n",
       "    }\n",
       "\n",
       "    .dataframe tbody tr th {\n",
       "        vertical-align: top;\n",
       "    }\n",
       "\n",
       "    .dataframe thead th {\n",
       "        text-align: right;\n",
       "    }\n",
       "</style>\n",
       "<table border=\"1\" class=\"dataframe\">\n",
       "  <thead>\n",
       "    <tr style=\"text-align: right;\">\n",
       "      <th></th>\n",
       "      <th>Cell Number</th>\n",
       "      <th>DMR Length</th>\n",
       "      <th>DMR Number</th>\n",
       "    </tr>\n",
       "  </thead>\n",
       "  <tbody>\n",
       "    <tr>\n",
       "      <th>DG_Glut</th>\n",
       "      <td>17062</td>\n",
       "      <td>77.458292</td>\n",
       "      <td>7192.0</td>\n",
       "    </tr>\n",
       "    <tr>\n",
       "      <th>STR_D1_Gaba</th>\n",
       "      <td>15989</td>\n",
       "      <td>77.210276</td>\n",
       "      <td>3579.0</td>\n",
       "    </tr>\n",
       "    <tr>\n",
       "      <th>Oligo_NN</th>\n",
       "      <td>15000</td>\n",
       "      <td>96.634623</td>\n",
       "      <td>5028.0</td>\n",
       "    </tr>\n",
       "    <tr>\n",
       "      <th>STR_D2_Gaba</th>\n",
       "      <td>12942</td>\n",
       "      <td>72.839573</td>\n",
       "      <td>2875.0</td>\n",
       "    </tr>\n",
       "    <tr>\n",
       "      <th>CA1-ProS_Glut</th>\n",
       "      <td>7948</td>\n",
       "      <td>65.319460</td>\n",
       "      <td>1279.0</td>\n",
       "    </tr>\n",
       "  </tbody>\n",
       "</table>\n",
       "</div>"
      ],
      "text/plain": [
       "               Cell Number  DMR Length  DMR Number\n",
       "DG_Glut              17062   77.458292      7192.0\n",
       "STR_D1_Gaba          15989   77.210276      3579.0\n",
       "Oligo_NN             15000   96.634623      5028.0\n",
       "STR_D2_Gaba          12942   72.839573      2875.0\n",
       "CA1-ProS_Glut         7948   65.319460      1279.0"
      ]
     },
     "execution_count": 13,
     "metadata": {},
     "output_type": "execute_result"
    }
   ],
   "source": [
    "toplot.head()"
   ]
  },
  {
   "cell_type": "code",
   "execution_count": 14,
   "id": "91412dd9-efe7-40bb-a00d-fdb0114d2575",
   "metadata": {
    "execution": {
     "iopub.execute_input": "2024-11-08T19:58:53.914752Z",
     "iopub.status.busy": "2024-11-08T19:58:53.914081Z",
     "iopub.status.idle": "2024-11-08T19:58:53.926636Z",
     "shell.execute_reply": "2024-11-08T19:58:53.925374Z",
     "shell.execute_reply.started": "2024-11-08T19:58:53.914695Z"
    },
    "tags": []
   },
   "outputs": [
    {
     "data": {
      "text/plain": [
       "Index(['DG_Glut', 'STR_D1_Gaba', 'Oligo_NN', 'STR_D2_Gaba', 'CA1-ProS_Glut',\n",
       "       'Astro-TE_NN', 'L6_CT_CTX_Glut', 'L23_IT_CTX_Glut', 'CA3_Glut',\n",
       "       'CEA-BST_Gaba', 'L45_IT_CTX_Glut', 'MEA-COA_Glut', 'L6bCT_ENT_Glut',\n",
       "       'L23_IT_PPP_Glut', 'Microglia_NN', 'STR-PAL_Chst9_Gaba', 'PAG_Glut',\n",
       "       'LA-BLA-BMA-PA_Glut', 'L23_IT_ENT_Glut', 'L6_IT_CTX_Glut'],\n",
       "      dtype='object')"
      ]
     },
     "execution_count": 14,
     "metadata": {},
     "output_type": "execute_result"
    }
   ],
   "source": [
    "toplot.sort_values('Cell Number', ascending = False).head(20).index"
   ]
  },
  {
   "cell_type": "code",
   "execution_count": 16,
   "id": "cc95bcec-45f9-475a-9fd6-603f3d8c8299",
   "metadata": {
    "execution": {
     "iopub.execute_input": "2024-11-08T19:59:40.358377Z",
     "iopub.status.busy": "2024-11-08T19:59:40.357584Z",
     "iopub.status.idle": "2024-11-08T19:59:41.214771Z",
     "shell.execute_reply": "2024-11-08T19:59:41.214141Z",
     "shell.execute_reply.started": "2024-11-08T19:59:40.358303Z"
    },
    "tags": []
   },
   "outputs": [
    {
     "data": {
      "image/png": "[encoded data removed]",
      "text/plain": [
       "<Figure size 900x1800 with 2 Axes>"
      ]
     },
     "metadata": {
      "needs_background": "light"
     },
     "output_type": "display_data"
    }
   ],
   "source": [
    "fig, axes= plt.subplots(figsize =(3,6), nrows = 2, dpi = 300,\n",
    "                        constrained_layout = True)\n",
    "\n",
    "ax = axes[0]\n",
    "sns.scatterplot(data = toplot, ax= ax,\n",
    "                s = 10, linewidth = 0,\n",
    "                rasterized = True,\n",
    "                x ='Cell Number',\n",
    "                y = 'DMR Number')\n",
    "corr = stats.pearsonr(toplot['Cell Number'], toplot['DMR Number'])[0].round(2)\n",
    "ax.set_title(f\"DMR Number PCC.: {corr}\")\n",
    "\n",
    "ax = axes[1]\n",
    "sns.scatterplot(data = toplot, ax = ax,\n",
    "                s = 10, linewidth = 0,\n",
    "                rasterized = True,\n",
    "                x ='Cell Number',\n",
    "                y = 'DMR Length')\n",
    "corr = stats.pearsonr(toplot['Cell Number'], toplot['DMR Length'])[0].round(2)\n",
    "ax.set_title(f\"DMR Length PCC.: {corr}\")\n",
    "fig.savefig(f\"figure/cell_numer_corr.pdf\", bbox_inches = 'tight')"
   ]
  },
  {
   "cell_type": "code",
   "execution_count": null,
   "id": "82a1129d-0d86-4b37-b594-ddf0640d0df3",
   "metadata": {},
   "outputs": [],
   "source": []
  },
  {
   "cell_type": "code",
   "execution_count": null,
   "id": "b42b7f43-9072-437c-b4b1-ad4675527364",
   "metadata": {},
   "outputs": [],
   "source": []
  },
  {
   "cell_type": "code",
   "execution_count": null,
   "id": "a0dced33-e7d1-4d46-8829-b3ee64242e71",
   "metadata": {},
   "outputs": [],
   "source": []
  },
  {
   "cell_type": "code",
   "execution_count": null,
   "id": "929cf110-9546-4928-9909-dd4b9a469dc8",
   "metadata": {},
   "outputs": [],
   "source": []
  },
  {
   "cell_type": "code",
   "execution_count": null,
   "id": "74a386a8-4f2a-48db-abf3-2b2e44030588",
   "metadata": {},
   "outputs": [],
   "source": []
  },
  {
   "cell_type": "code",
   "execution_count": null,
   "id": "a5a0b057-c238-4b0c-846d-8b543ee939f4",
   "metadata": {},
   "outputs": [],
   "source": []
  },
  {
   "cell_type": "code",
   "execution_count": null,
   "id": "ebf172cd-c2e3-4ba8-ac5f-307799eae01b",
   "metadata": {},
   "outputs": [],
   "source": []
  },
  {
   "cell_type": "code",
   "execution_count": null,
   "id": "4257816b-900b-4f76-933b-523633f827a3",
   "metadata": {},
   "outputs": [],
   "source": []
  },
  {
   "cell_type": "code",
   "execution_count": null,
   "id": "c78e4f6d-865e-4f4e-9f78-f4347e835c1a",
   "metadata": {},
   "outputs": [],
   "source": []
  },
  {
   "cell_type": "code",
   "execution_count": null,
   "id": "e381013e-b62b-4ca3-8302-692d402c4d37",
   "metadata": {},
   "outputs": [],
   "source": []
  }
 ],
 "metadata": {
  "kernelspec": {
   "display_name": "Python 3 (ipykernel)",
   "language": "python",
   "name": "python3"
  },
  "language_info": {
   "codemirror_mode": {
    "name": "ipython",
    "version": 3
   },
   "file_extension": ".py",
   "mimetype": "text/x-python",
   "name": "python",
   "nbconvert_exporter": "python",
   "pygments_lexer": "ipython3",
   "version": "3.7.12"
  }
 },
 "nbformat": 4,
 "nbformat_minor": 5
}
