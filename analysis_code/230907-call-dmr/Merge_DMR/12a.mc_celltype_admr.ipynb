{
 "cells": [
  {
   "cell_type": "code",
   "execution_count": 1,
   "id": "69891df3-8887-4089-9eae-46d4f8cc01be",
   "metadata": {
    "execution": {
     "iopub.execute_input": "2024-12-09T17:51:00.468264Z",
     "iopub.status.busy": "2024-12-09T17:51:00.467686Z",
     "iopub.status.idle": "2024-12-09T17:51:02.421747Z",
     "shell.execute_reply": "2024-12-09T17:51:02.418613Z",
     "shell.execute_reply.started": "2024-12-09T17:51:00.468209Z"
    },
    "tags": []
   },
   "outputs": [],
   "source": [
    "import pandas as pd\n",
    "import glob\n",
    "import matplotlib.pyplot as plt\n",
    "import pathlib\n",
    "import seaborn as sns\n",
    "import numpy as np\n",
    "import pathlib\n",
    "import matplotlib.pyplot as plt\n",
    "import pybedtools\n",
    "from amb import *\n",
    "import seaborn  as sns\n",
    "from amb import *\n",
    "import numpy as np\n",
    "import joblib\n",
    "import pyBigWig"
   ]
  },
  {
   "cell_type": "code",
   "execution_count": 2,
   "id": "5f81aa44-153e-41ac-98df-e4e7d8f158f2",
   "metadata": {
    "execution": {
     "iopub.execute_input": "2024-12-09T17:51:02.428444Z",
     "iopub.status.busy": "2024-12-09T17:51:02.426889Z",
     "iopub.status.idle": "2024-12-09T17:51:02.439273Z",
     "shell.execute_reply": "2024-12-09T17:51:02.437595Z",
     "shell.execute_reply.started": "2024-12-09T17:51:02.428379Z"
    },
    "tags": []
   },
   "outputs": [],
   "source": [
    "plt.rcParams['figure.dpi'] = 100\n",
    "plt.rcParams['savefig.dpi']=300\n",
    "plt.rcParams['pdf.fonttype']=42"
   ]
  },
  {
   "cell_type": "code",
   "execution_count": 3,
   "id": "136e935c-6f02-4479-a79f-66d61b9dc630",
   "metadata": {
    "execution": {
     "iopub.execute_input": "2024-12-09T17:51:02.442679Z",
     "iopub.status.busy": "2024-12-09T17:51:02.441708Z",
     "iopub.status.idle": "2024-12-09T17:51:02.466552Z",
     "shell.execute_reply": "2024-12-09T17:51:02.465075Z",
     "shell.execute_reply.started": "2024-12-09T17:51:02.442603Z"
    },
    "tags": []
   },
   "outputs": [
    {
     "data": {
      "text/plain": [
       "36"
      ]
     },
     "execution_count": 3,
     "metadata": {},
     "output_type": "execute_result"
    }
   ],
   "source": [
    "shared_cts = joblib.load('/home/qzeng/project/aging/metadata/shared_use_cts')\n",
    "admr_dir = 'mC_FILTER_DMR_BED/'\n",
    "\n",
    "ordered_shared_cts = [  'Astro-NT NN','Astro-TE NN','Microglia NN','OPC NN','Oligo NN',\n",
    " 'L2/3 IT CTX Glut','L4/5 IT CTX Glut','L5 IT CTX Glut','L6 IT CTX Glut',\n",
    " 'L6 CT CTX Glut',  'L5 ET CTX Glut',  'L5 NP CTX Glut',   'L6b/CT ENT Glut','L2/3 IT ENT Glut',                               \n",
    " 'L2/3 IT PPP Glut', 'CA1-ProS Glut','CA3 Glut','DG Glut','SUB-ProS Glut','LA-BLA-BMA-PA Glut',\n",
    " 'MEA-COA Glut','PAG Glut','PB Evx2 Glut',\n",
    " 'Lamp5 Gaba','Vip Gaba','Pvalb Gaba','Sst Gaba',\n",
    " 'MEA-BST Gaba','CEA-BST Gaba','LDT-PCG-CS Gata3 Lhx1 Gaba','PAG-PPN Pax5 Sox21 Gaba',\n",
    " 'STR-PAL Chst9 Gaba', 'STR D1 Sema5a Gaba','STR D1 Gaba','STR D2 Gaba','STR Gaba',\n",
    " ]\n",
    "len(ordered_shared_cts)\n"
   ]
  },
  {
   "cell_type": "code",
   "execution_count": 4,
   "id": "306bea1a-8352-430e-ba84-f4c5d006002e",
   "metadata": {
    "execution": {
     "iopub.execute_input": "2024-12-08T21:03:05.140071Z",
     "iopub.status.busy": "2024-12-08T21:03:05.139872Z",
     "iopub.status.idle": "2024-12-08T21:03:05.143112Z",
     "shell.execute_reply": "2024-12-08T21:03:05.142614Z",
     "shell.execute_reply.started": "2024-12-08T21:03:05.140053Z"
    },
    "tags": []
   },
   "outputs": [],
   "source": [
    "# plot_cts = ['OPC_NN','DG_Glut', 'STR_D1_Gaba', 'Oligo_NN', 'STR_D2_Gaba', 'CA1-ProS_Glut',\n",
    "#        'Astro-TE_NN', 'L6_CT_CTX_Glut', 'L23_IT_CTX_Glut', 'CA3_Glut',\n",
    "#        'CEA-BST_Gaba', 'L45_IT_CTX_Glut', 'MEA-COA_Glut', 'L6bCT_ENT_Glut',\n",
    "#        'L23_IT_PPP_Glut', 'Microglia_NN', 'STR-PAL_Chst9_Gaba','STR_D1_Gaba', 'PAG_Glut',\n",
    "#         'Sst_Gaba','Lamp5 _Gaba','Pvalb_Gaba','Vip_Gaba',\n",
    "#        'LA-BLA-BMA-PA_Glut', 'L23_IT_ENT_Glut', 'L6_IT_CTX_Glut']\n",
    "# len(plot_cts)"
   ]
  },
  {
   "cell_type": "code",
   "execution_count": 4,
   "id": "a7cca74c-7d38-46fe-9cc9-82dceba1bfa7",
   "metadata": {
    "execution": {
     "iopub.execute_input": "2024-12-09T17:51:02.483799Z",
     "iopub.status.busy": "2024-12-09T17:51:02.483400Z",
     "iopub.status.idle": "2024-12-09T17:51:02.491688Z",
     "shell.execute_reply": "2024-12-09T17:51:02.490617Z",
     "shell.execute_reply.started": "2024-12-09T17:51:02.483765Z"
    },
    "tags": []
   },
   "outputs": [
    {
     "data": {
      "text/plain": [
       "36"
      ]
     },
     "execution_count": 4,
     "metadata": {},
     "output_type": "execute_result"
    }
   ],
   "source": [
    "#ordered_plot_cts = [ct for ct in ordered_shared_cts if ct.replace('/','').replace(' ','_')  in plot_cts]\n",
    "use_cts = [ct.replace('/','').replace(' ','_') for ct in ordered_shared_cts]\n",
    "len(use_cts)\n"
   ]
  },
  {
   "cell_type": "markdown",
   "id": "c602470c-a653-4b4d-ade8-94cc28fc2915",
   "metadata": {
    "tags": []
   },
   "source": [
    "## get values"
   ]
  },
  {
   "cell_type": "code",
   "execution_count": 25,
   "id": "d30183cf-3027-49cb-b15c-46a04edf9094",
   "metadata": {
    "execution": {
     "iopub.execute_input": "2024-12-09T22:44:39.837390Z",
     "iopub.status.busy": "2024-12-09T22:44:39.836893Z",
     "iopub.status.idle": "2024-12-09T22:44:40.196923Z",
     "shell.execute_reply": "2024-12-09T22:44:40.195991Z",
     "shell.execute_reply.started": "2024-12-09T22:44:39.837360Z"
    },
    "tags": []
   },
   "outputs": [],
   "source": [
    "all_beds = []\n",
    "\n",
    "for ct in use_cts:\n",
    "    path = f\"{admr_dir}/{ct}.Hypo.aDMR.bed\"\n",
    "    tmpdf = pd.read_csv(path, sep = '\\t', header = None)\n",
    "    tmpdf['celltype'] = ct\n",
    "    tmpdf = tmpdf[tmpdf[0] != 'chrX'][[3, 'celltype']]\n",
    "    # if tmpdf.shape[0] > 500:\n",
    "    #     tmpdf = tmpdf.sample(500)\n",
    "    # else:\n",
    "    #     tmpdf = tmpdf\n",
    "    # if tmpdf.shape[0] > 2000:\n",
    "    #     sample_dmr_num = int(tmpdf.shape[0]/20)\n",
    "    #     tmpdf = tmpdf.sample(sample_dmr_num)\n",
    "    # else: \n",
    "    #     tmpdf = tmpdf\n",
    "    all_beds.append(tmpdf)\n",
    "\n",
    "all_beds = pd.concat(all_beds, axis = 0).set_index(3)\n",
    "duplicated_indices = all_beds.index.duplicated(keep=False)\n",
    "all_beds = all_beds[~duplicated_indices]\n",
    "\n",
    "dmr_list = all_beds.index"
   ]
  },
  {
   "cell_type": "code",
   "execution_count": 26,
   "id": "4feaa1b3-e078-4bec-86a4-681ec675c599",
   "metadata": {
    "execution": {
     "iopub.execute_input": "2024-12-09T22:44:41.532253Z",
     "iopub.status.busy": "2024-12-09T22:44:41.531632Z",
     "iopub.status.idle": "2024-12-09T22:44:41.539366Z",
     "shell.execute_reply": "2024-12-09T22:44:41.538223Z",
     "shell.execute_reply.started": "2024-12-09T22:44:41.532196Z"
    },
    "tags": []
   },
   "outputs": [
    {
     "name": "stdout",
     "output_type": "stream",
     "text": [
      "155657\n"
     ]
    }
   ],
   "source": [
    "print(len(dmr_list))"
   ]
  },
  {
   "cell_type": "code",
   "execution_count": 8,
   "id": "07f98265-9976-4966-a6b4-bed1a3affafe",
   "metadata": {
    "execution": {
     "iopub.execute_input": "2024-12-09T17:51:39.346088Z",
     "iopub.status.busy": "2024-12-09T17:51:39.345373Z",
     "iopub.status.idle": "2024-12-09T17:51:39.357919Z",
     "shell.execute_reply": "2024-12-09T17:51:39.356860Z",
     "shell.execute_reply.started": "2024-12-09T17:51:39.346030Z"
    },
    "tags": []
   },
   "outputs": [],
   "source": [
    "## get aDMR mC counts\n",
    "mc_dir = '/ceph/gale-1/qzeng/AmbData/CellType_Allc/M.CellType.Age'\n",
    "\n",
    "def get_mc_mean(age, ct, dmr_list):\n",
    "    bigwig_path = f\"{mc_dir}/{ct}.{age}/{ct}.{age}.CGN-both.frac.bw\"\n",
    "    bw = pyBigWig.open(bigwig_path)\n",
    "    total_counts = []\n",
    "    for dmr_id in dmr_list:\n",
    "        slop = 0\n",
    "        _chr, start, end = dmr_id.split('-')\n",
    "        start, end = int(start)-slop, int(end) + slop\n",
    "        counts = bw.stats(_chr, start, end, type=\"mean\")[0]\n",
    "        total_counts.append(counts)\n",
    "    tmpdf = pd.DataFrame({age:total_counts}, index = dmr_list)\n",
    "    return tmpdf\n"
   ]
  },
  {
   "cell_type": "code",
   "execution_count": 9,
   "id": "5e1797b9-afee-4612-a038-5da7f0e6b2a4",
   "metadata": {
    "execution": {
     "iopub.execute_input": "2024-12-09T17:51:39.868142Z",
     "iopub.status.busy": "2024-12-09T17:51:39.867466Z",
     "iopub.status.idle": "2024-12-09T18:18:38.054913Z",
     "shell.execute_reply": "2024-12-09T18:18:38.053751Z",
     "shell.execute_reply.started": "2024-12-09T17:51:39.868087Z"
    },
    "tags": []
   },
   "outputs": [
    {
     "name": "stdout",
     "output_type": "stream",
     "text": [
      "Astro-NT_NN\n",
      "Astro-TE_NN\n",
      "Microglia_NN\n",
      "OPC_NN\n",
      "Oligo_NN\n",
      "L23_IT_CTX_Glut\n",
      "L45_IT_CTX_Glut\n",
      "L5_IT_CTX_Glut\n",
      "L6_IT_CTX_Glut\n",
      "L6_CT_CTX_Glut\n",
      "L5_ET_CTX_Glut\n",
      "L5_NP_CTX_Glut\n",
      "L6bCT_ENT_Glut\n",
      "L23_IT_ENT_Glut\n",
      "L23_IT_PPP_Glut\n",
      "CA1-ProS_Glut\n",
      "CA3_Glut\n",
      "DG_Glut\n",
      "SUB-ProS_Glut\n",
      "LA-BLA-BMA-PA_Glut\n",
      "MEA-COA_Glut\n",
      "PAG_Glut\n",
      "PB_Evx2_Glut\n",
      "Lamp5_Gaba\n",
      "Vip_Gaba\n",
      "Pvalb_Gaba\n",
      "Sst_Gaba\n",
      "MEA-BST_Gaba\n",
      "CEA-BST_Gaba\n",
      "LDT-PCG-CS_Gata3_Lhx1_Gaba\n",
      "PAG-PPN_Pax5_Sox21_Gaba\n",
      "STR-PAL_Chst9_Gaba\n",
      "STR_D1_Sema5a_Gaba\n",
      "STR_D1_Gaba\n",
      "STR_D2_Gaba\n",
      "STR_Gaba\n"
     ]
    }
   ],
   "source": [
    "age_list = ['8wk','18mo']\n",
    "\n",
    "all_mc_df = []\n",
    "for ct in use_cts:\n",
    "    ct_mc = []\n",
    "    for age in age_list:\n",
    "        tmpdf = get_mc_mean(age, ct, dmr_list)\n",
    "        ct_mc.append(tmpdf)\n",
    "    \n",
    "    ct_mc = pd.concat(ct_mc, axis = 1)\n",
    "    #ct_mc['change'] = ct_mc['18mo'] - ct_mc['8wk']\n",
    "    ct_mc['change'] = ct_mc['8wk'] - ct_mc['18mo']\n",
    "    ct_mc = ct_mc[['change']]\n",
    "    ct_mc.columns = [ct]\n",
    "    all_mc_df.append(ct_mc)\n",
    "    print(ct)"
   ]
  },
  {
   "cell_type": "code",
   "execution_count": 10,
   "id": "13d5a91a-3c09-428c-8fd4-ab62d091f66a",
   "metadata": {
    "execution": {
     "iopub.execute_input": "2024-12-09T18:18:38.057599Z",
     "iopub.status.busy": "2024-12-09T18:18:38.057297Z",
     "iopub.status.idle": "2024-12-09T18:18:38.662473Z",
     "shell.execute_reply": "2024-12-09T18:18:38.661896Z",
     "shell.execute_reply.started": "2024-12-09T18:18:38.057571Z"
    },
    "tags": []
   },
   "outputs": [
    {
     "data": {
      "text/html": [
       "<div>\n",
       "<style scoped>\n",
       "    .dataframe tbody tr th:only-of-type {\n",
       "        vertical-align: middle;\n",
       "    }\n",
       "\n",
       "    .dataframe tbody tr th {\n",
       "        vertical-align: top;\n",
       "    }\n",
       "\n",
       "    .dataframe thead th {\n",
       "        text-align: right;\n",
       "    }\n",
       "</style>\n",
       "<table border=\"1\" class=\"dataframe\">\n",
       "  <thead>\n",
       "    <tr style=\"text-align: right;\">\n",
       "      <th></th>\n",
       "      <th>Astro-NT_NN</th>\n",
       "      <th>Astro-TE_NN</th>\n",
       "      <th>Microglia_NN</th>\n",
       "      <th>OPC_NN</th>\n",
       "      <th>Oligo_NN</th>\n",
       "      <th>L23_IT_CTX_Glut</th>\n",
       "      <th>L45_IT_CTX_Glut</th>\n",
       "      <th>L5_IT_CTX_Glut</th>\n",
       "      <th>L6_IT_CTX_Glut</th>\n",
       "      <th>L6_CT_CTX_Glut</th>\n",
       "      <th>...</th>\n",
       "      <th>Sst_Gaba</th>\n",
       "      <th>MEA-BST_Gaba</th>\n",
       "      <th>CEA-BST_Gaba</th>\n",
       "      <th>LDT-PCG-CS_Gata3_Lhx1_Gaba</th>\n",
       "      <th>PAG-PPN_Pax5_Sox21_Gaba</th>\n",
       "      <th>STR-PAL_Chst9_Gaba</th>\n",
       "      <th>STR_D1_Sema5a_Gaba</th>\n",
       "      <th>STR_D1_Gaba</th>\n",
       "      <th>STR_D2_Gaba</th>\n",
       "      <th>STR_Gaba</th>\n",
       "    </tr>\n",
       "    <tr>\n",
       "      <th>3</th>\n",
       "      <th></th>\n",
       "      <th></th>\n",
       "      <th></th>\n",
       "      <th></th>\n",
       "      <th></th>\n",
       "      <th></th>\n",
       "      <th></th>\n",
       "      <th></th>\n",
       "      <th></th>\n",
       "      <th></th>\n",
       "      <th></th>\n",
       "      <th></th>\n",
       "      <th></th>\n",
       "      <th></th>\n",
       "      <th></th>\n",
       "      <th></th>\n",
       "      <th></th>\n",
       "      <th></th>\n",
       "      <th></th>\n",
       "      <th></th>\n",
       "      <th></th>\n",
       "    </tr>\n",
       "  </thead>\n",
       "  <tbody>\n",
       "    <tr>\n",
       "      <th>chr1-3149493-3149499</th>\n",
       "      <td>-0.600000</td>\n",
       "      <td>0.043798</td>\n",
       "      <td>0.063024</td>\n",
       "      <td>0.001288</td>\n",
       "      <td>0.027710</td>\n",
       "      <td>-0.039593</td>\n",
       "      <td>-0.029212</td>\n",
       "      <td>0.095960</td>\n",
       "      <td>0.098794</td>\n",
       "      <td>0.048419</td>\n",
       "      <td>...</td>\n",
       "      <td>-0.045525</td>\n",
       "      <td>0.134821</td>\n",
       "      <td>-0.038095</td>\n",
       "      <td>0.166667</td>\n",
       "      <td>-0.019608</td>\n",
       "      <td>-0.035304</td>\n",
       "      <td>-0.038889</td>\n",
       "      <td>-0.005945</td>\n",
       "      <td>0.015457</td>\n",
       "      <td>-0.022222</td>\n",
       "    </tr>\n",
       "    <tr>\n",
       "      <th>chr1-3155400-3155481</th>\n",
       "      <td>-0.406575</td>\n",
       "      <td>0.085914</td>\n",
       "      <td>0.132559</td>\n",
       "      <td>-0.109098</td>\n",
       "      <td>0.102347</td>\n",
       "      <td>-0.016580</td>\n",
       "      <td>0.037454</td>\n",
       "      <td>0.035137</td>\n",
       "      <td>-0.044425</td>\n",
       "      <td>0.051561</td>\n",
       "      <td>...</td>\n",
       "      <td>-0.050937</td>\n",
       "      <td>0.024181</td>\n",
       "      <td>-0.017573</td>\n",
       "      <td>0.017094</td>\n",
       "      <td>-0.065083</td>\n",
       "      <td>-0.013985</td>\n",
       "      <td>-0.090042</td>\n",
       "      <td>0.005867</td>\n",
       "      <td>-0.081274</td>\n",
       "      <td>-0.033765</td>\n",
       "    </tr>\n",
       "    <tr>\n",
       "      <th>chr1-3188443-3188741</th>\n",
       "      <td>-0.279694</td>\n",
       "      <td>-0.062472</td>\n",
       "      <td>-0.085903</td>\n",
       "      <td>-0.045325</td>\n",
       "      <td>0.021216</td>\n",
       "      <td>-0.027087</td>\n",
       "      <td>0.048868</td>\n",
       "      <td>-0.030399</td>\n",
       "      <td>-0.005830</td>\n",
       "      <td>-0.008691</td>\n",
       "      <td>...</td>\n",
       "      <td>0.007830</td>\n",
       "      <td>0.086961</td>\n",
       "      <td>0.044610</td>\n",
       "      <td>0.099015</td>\n",
       "      <td>0.000000</td>\n",
       "      <td>0.074883</td>\n",
       "      <td>-0.039519</td>\n",
       "      <td>-0.018998</td>\n",
       "      <td>0.004514</td>\n",
       "      <td>0.077927</td>\n",
       "    </tr>\n",
       "    <tr>\n",
       "      <th>chr1-3190961-3191346</th>\n",
       "      <td>-0.295041</td>\n",
       "      <td>0.083277</td>\n",
       "      <td>-0.013609</td>\n",
       "      <td>0.012032</td>\n",
       "      <td>0.047340</td>\n",
       "      <td>-0.060417</td>\n",
       "      <td>0.053140</td>\n",
       "      <td>-0.010219</td>\n",
       "      <td>0.132260</td>\n",
       "      <td>0.064807</td>\n",
       "      <td>...</td>\n",
       "      <td>-0.050147</td>\n",
       "      <td>0.001358</td>\n",
       "      <td>-0.051651</td>\n",
       "      <td>-0.050505</td>\n",
       "      <td>-0.189394</td>\n",
       "      <td>0.082354</td>\n",
       "      <td>0.015007</td>\n",
       "      <td>0.000290</td>\n",
       "      <td>-0.012307</td>\n",
       "      <td>-0.000562</td>\n",
       "    </tr>\n",
       "    <tr>\n",
       "      <th>chr1-3259956-3260172</th>\n",
       "      <td>-0.322076</td>\n",
       "      <td>-0.080232</td>\n",
       "      <td>-0.165998</td>\n",
       "      <td>0.052567</td>\n",
       "      <td>-0.037286</td>\n",
       "      <td>0.166843</td>\n",
       "      <td>-0.033859</td>\n",
       "      <td>-0.005783</td>\n",
       "      <td>-0.044828</td>\n",
       "      <td>-0.017621</td>\n",
       "      <td>...</td>\n",
       "      <td>-0.020869</td>\n",
       "      <td>-0.068900</td>\n",
       "      <td>0.000016</td>\n",
       "      <td>0.001709</td>\n",
       "      <td>-0.098876</td>\n",
       "      <td>-0.026255</td>\n",
       "      <td>-0.084283</td>\n",
       "      <td>0.004346</td>\n",
       "      <td>0.021602</td>\n",
       "      <td>-0.118329</td>\n",
       "    </tr>\n",
       "  </tbody>\n",
       "</table>\n",
       "<p>5 rows × 36 columns</p>\n",
       "</div>"
      ],
      "text/plain": [
       "                      Astro-NT_NN  Astro-TE_NN  Microglia_NN    OPC_NN  \\\n",
       "3                                                                        \n",
       "chr1-3149493-3149499    -0.600000     0.043798      0.063024  0.001288   \n",
       "chr1-3155400-3155481    -0.406575     0.085914      0.132559 -0.109098   \n",
       "chr1-3188443-3188741    -0.279694    -0.062472     -0.085903 -0.045325   \n",
       "chr1-3190961-3191346    -0.295041     0.083277     -0.013609  0.012032   \n",
       "chr1-3259956-3260172    -0.322076    -0.080232     -0.165998  0.052567   \n",
       "\n",
       "                      Oligo_NN  L23_IT_CTX_Glut  L45_IT_CTX_Glut  \\\n",
       "3                                                                  \n",
       "chr1-3149493-3149499  0.027710        -0.039593        -0.029212   \n",
       "chr1-3155400-3155481  0.102347        -0.016580         0.037454   \n",
       "chr1-3188443-3188741  0.021216        -0.027087         0.048868   \n",
       "chr1-3190961-3191346  0.047340        -0.060417         0.053140   \n",
       "chr1-3259956-3260172 -0.037286         0.166843        -0.033859   \n",
       "\n",
       "                      L5_IT_CTX_Glut  L6_IT_CTX_Glut  L6_CT_CTX_Glut  ...  \\\n",
       "3                                                                     ...   \n",
       "chr1-3149493-3149499        0.095960        0.098794        0.048419  ...   \n",
       "chr1-3155400-3155481        0.035137       -0.044425        0.051561  ...   \n",
       "chr1-3188443-3188741       -0.030399       -0.005830       -0.008691  ...   \n",
       "chr1-3190961-3191346       -0.010219        0.132260        0.064807  ...   \n",
       "chr1-3259956-3260172       -0.005783       -0.044828       -0.017621  ...   \n",
       "\n",
       "                      Sst_Gaba  MEA-BST_Gaba  CEA-BST_Gaba  \\\n",
       "3                                                            \n",
       "chr1-3149493-3149499 -0.045525      0.134821     -0.038095   \n",
       "chr1-3155400-3155481 -0.050937      0.024181     -0.017573   \n",
       "chr1-3188443-3188741  0.007830      0.086961      0.044610   \n",
       "chr1-3190961-3191346 -0.050147      0.001358     -0.051651   \n",
       "chr1-3259956-3260172 -0.020869     -0.068900      0.000016   \n",
       "\n",
       "                      LDT-PCG-CS_Gata3_Lhx1_Gaba  PAG-PPN_Pax5_Sox21_Gaba  \\\n",
       "3                                                                           \n",
       "chr1-3149493-3149499                    0.166667                -0.019608   \n",
       "chr1-3155400-3155481                    0.017094                -0.065083   \n",
       "chr1-3188443-3188741                    0.099015                 0.000000   \n",
       "chr1-3190961-3191346                   -0.050505                -0.189394   \n",
       "chr1-3259956-3260172                    0.001709                -0.098876   \n",
       "\n",
       "                      STR-PAL_Chst9_Gaba  STR_D1_Sema5a_Gaba  STR_D1_Gaba  \\\n",
       "3                                                                           \n",
       "chr1-3149493-3149499           -0.035304           -0.038889    -0.005945   \n",
       "chr1-3155400-3155481           -0.013985           -0.090042     0.005867   \n",
       "chr1-3188443-3188741            0.074883           -0.039519    -0.018998   \n",
       "chr1-3190961-3191346            0.082354            0.015007     0.000290   \n",
       "chr1-3259956-3260172           -0.026255           -0.084283     0.004346   \n",
       "\n",
       "                      STR_D2_Gaba  STR_Gaba  \n",
       "3                                            \n",
       "chr1-3149493-3149499     0.015457 -0.022222  \n",
       "chr1-3155400-3155481    -0.081274 -0.033765  \n",
       "chr1-3188443-3188741     0.004514  0.077927  \n",
       "chr1-3190961-3191346    -0.012307 -0.000562  \n",
       "chr1-3259956-3260172     0.021602 -0.118329  \n",
       "\n",
       "[5 rows x 36 columns]"
      ]
     },
     "execution_count": 10,
     "metadata": {},
     "output_type": "execute_result"
    }
   ],
   "source": [
    "all_mc_df = pd.concat(all_mc_df, axis = 1)\n",
    "all_mc_df.head()"
   ]
  },
  {
   "cell_type": "code",
   "execution_count": 11,
   "id": "e7b78fc9-1e99-490b-921b-1753b8bc22ba",
   "metadata": {
    "execution": {
     "iopub.execute_input": "2024-12-09T18:18:38.737165Z",
     "iopub.status.busy": "2024-12-09T18:18:38.736887Z",
     "iopub.status.idle": "2024-12-09T18:18:45.051132Z",
     "shell.execute_reply": "2024-12-09T18:18:45.050461Z",
     "shell.execute_reply.started": "2024-12-09T18:18:38.737141Z"
    },
    "tags": []
   },
   "outputs": [],
   "source": [
    "all_mc_df.to_csv('all-hyper.all_mc_df.csv')"
   ]
  },
  {
   "cell_type": "code",
   "execution_count": 12,
   "id": "26e66628-1609-409e-a687-5731238f6f3a",
   "metadata": {
    "execution": {
     "iopub.execute_input": "2024-12-09T18:18:45.054965Z",
     "iopub.status.busy": "2024-12-09T18:18:45.054697Z",
     "iopub.status.idle": "2024-12-09T18:18:45.198614Z",
     "shell.execute_reply": "2024-12-09T18:18:45.197965Z",
     "shell.execute_reply.started": "2024-12-09T18:18:45.054942Z"
    },
    "tags": []
   },
   "outputs": [],
   "source": [
    "all_beds.to_csv('all-hyper.all_beds.csv')"
   ]
  },
  {
   "cell_type": "markdown",
   "id": "264b1821-137f-4238-a631-d894e0929854",
   "metadata": {},
   "source": [
    "## plot heatmap"
   ]
  },
  {
   "cell_type": "code",
   "execution_count": 41,
   "id": "a0d7a219-bcea-4c63-a088-b0dad44161d9",
   "metadata": {
    "execution": {
     "iopub.execute_input": "2024-12-20T23:55:59.772701Z",
     "iopub.status.busy": "2024-12-20T23:55:59.771979Z",
     "iopub.status.idle": "2024-12-20T23:56:01.281438Z",
     "shell.execute_reply": "2024-12-20T23:56:01.280094Z",
     "shell.execute_reply.started": "2024-12-20T23:55:59.772622Z"
    },
    "tags": []
   },
   "outputs": [],
   "source": [
    "all_mc_df = pd.read_csv('all-hyper.all_mc_df.csv', index_col =0)\n",
    "all_beds = pd.read_csv('all-hyper.all_beds.csv', index_col =0)"
   ]
  },
  {
   "cell_type": "code",
   "execution_count": 15,
   "id": "b8648a8f-d1d3-4b01-b9dd-d2326da2bba1",
   "metadata": {
    "execution": {
     "iopub.execute_input": "2024-12-09T19:35:32.682515Z",
     "iopub.status.busy": "2024-12-09T19:35:32.682094Z",
     "iopub.status.idle": "2024-12-09T19:35:33.422614Z",
     "shell.execute_reply": "2024-12-09T19:35:33.421949Z",
     "shell.execute_reply.started": "2024-12-09T19:35:32.682489Z"
    },
    "tags": []
   },
   "outputs": [],
   "source": [
    "import PyComplexHeatmap as pch\n",
    "from PyComplexHeatmap import *\n",
    "plt.rcParams['figure.dpi'] = 100\n",
    "plt.rcParams['savefig.dpi']=300\n",
    "plt.rcParams['pdf.fonttype']=42"
   ]
  },
  {
   "cell_type": "code",
   "execution_count": 16,
   "id": "eecdcab8-786f-4d93-a14e-12ff91289870",
   "metadata": {
    "execution": {
     "iopub.execute_input": "2024-12-09T19:35:33.461507Z",
     "iopub.status.busy": "2024-12-09T19:35:33.461250Z",
     "iopub.status.idle": "2024-12-09T19:35:33.468914Z",
     "shell.execute_reply": "2024-12-09T19:35:33.467984Z",
     "shell.execute_reply.started": "2024-12-09T19:35:33.461484Z"
    },
    "tags": []
   },
   "outputs": [],
   "source": [
    "import joblib\n",
    "mt_pelatte = joblib.load('/home/qzeng/project/aging/231117_update_annot/AgingMajorType_Palette')\n",
    "\n",
    "new_mt_palette = {}\n",
    "for mt ,_color in mt_pelatte.items():\n",
    "    mt= mt.replace('/','').replace(' ','_')\n",
    "    new_mt_palette[mt] = _color"
   ]
  },
  {
   "cell_type": "code",
   "execution_count": 17,
   "id": "529e05b3-8718-4c77-8317-a6167d724771",
   "metadata": {
    "execution": {
     "iopub.execute_input": "2024-12-09T19:35:33.679201Z",
     "iopub.status.busy": "2024-12-09T19:35:33.678583Z",
     "iopub.status.idle": "2024-12-09T19:35:33.812353Z",
     "shell.execute_reply": "2024-12-09T19:35:33.811641Z",
     "shell.execute_reply.started": "2024-12-09T19:35:33.679143Z"
    },
    "tags": []
   },
   "outputs": [
    {
     "data": {
      "text/html": [
       "<div>\n",
       "<style scoped>\n",
       "    .dataframe tbody tr th:only-of-type {\n",
       "        vertical-align: middle;\n",
       "    }\n",
       "\n",
       "    .dataframe tbody tr th {\n",
       "        vertical-align: top;\n",
       "    }\n",
       "\n",
       "    .dataframe thead th {\n",
       "        text-align: right;\n",
       "    }\n",
       "</style>\n",
       "<table border=\"1\" class=\"dataframe\">\n",
       "  <thead>\n",
       "    <tr style=\"text-align: right;\">\n",
       "      <th></th>\n",
       "      <th>celltype</th>\n",
       "      <th>celltype_annot</th>\n",
       "    </tr>\n",
       "    <tr>\n",
       "      <th>3</th>\n",
       "      <th></th>\n",
       "      <th></th>\n",
       "    </tr>\n",
       "  </thead>\n",
       "  <tbody>\n",
       "    <tr>\n",
       "      <th>chr1-3149493-3149499</th>\n",
       "      <td>Astro-NT_NN</td>\n",
       "      <td>Astro-NT</td>\n",
       "    </tr>\n",
       "    <tr>\n",
       "      <th>chr1-3155400-3155481</th>\n",
       "      <td>Astro-NT_NN</td>\n",
       "      <td>Astro-NT</td>\n",
       "    </tr>\n",
       "    <tr>\n",
       "      <th>chr1-3188443-3188741</th>\n",
       "      <td>Astro-NT_NN</td>\n",
       "      <td>Astro-NT</td>\n",
       "    </tr>\n",
       "    <tr>\n",
       "      <th>chr1-3190961-3191346</th>\n",
       "      <td>Astro-NT_NN</td>\n",
       "      <td>Astro-NT</td>\n",
       "    </tr>\n",
       "    <tr>\n",
       "      <th>chr1-3259956-3260172</th>\n",
       "      <td>Astro-NT_NN</td>\n",
       "      <td>Astro-NT</td>\n",
       "    </tr>\n",
       "  </tbody>\n",
       "</table>\n",
       "</div>"
      ],
      "text/plain": [
       "                         celltype celltype_annot\n",
       "3                                               \n",
       "chr1-3149493-3149499  Astro-NT_NN       Astro-NT\n",
       "chr1-3155400-3155481  Astro-NT_NN       Astro-NT\n",
       "chr1-3188443-3188741  Astro-NT_NN       Astro-NT\n",
       "chr1-3190961-3191346  Astro-NT_NN       Astro-NT\n",
       "chr1-3259956-3260172  Astro-NT_NN       Astro-NT"
      ]
     },
     "execution_count": 17,
     "metadata": {},
     "output_type": "execute_result"
    }
   ],
   "source": [
    "row_annot = all_beds.copy()\n",
    "row_annot['celltype_annot'] = row_annot['celltype']\n",
    "row_annot['celltype_annot'] = [' '.join(ct.split('_')[:-1]) for ct in row_annot['celltype']]\n",
    "row_annot.head()"
   ]
  },
  {
   "cell_type": "code",
   "execution_count": 18,
   "id": "7235e828-5f93-4e11-bd49-01d161182122",
   "metadata": {
    "execution": {
     "iopub.execute_input": "2024-12-09T19:35:34.871562Z",
     "iopub.status.busy": "2024-12-09T19:35:34.870742Z",
     "iopub.status.idle": "2024-12-09T19:35:34.890812Z",
     "shell.execute_reply": "2024-12-09T19:35:34.889847Z",
     "shell.execute_reply.started": "2024-12-09T19:35:34.871503Z"
    },
    "tags": []
   },
   "outputs": [
    {
     "data": {
      "text/html": [
       "<div>\n",
       "<style scoped>\n",
       "    .dataframe tbody tr th:only-of-type {\n",
       "        vertical-align: middle;\n",
       "    }\n",
       "\n",
       "    .dataframe tbody tr th {\n",
       "        vertical-align: top;\n",
       "    }\n",
       "\n",
       "    .dataframe thead th {\n",
       "        text-align: right;\n",
       "    }\n",
       "</style>\n",
       "<table border=\"1\" class=\"dataframe\">\n",
       "  <thead>\n",
       "    <tr style=\"text-align: right;\">\n",
       "      <th></th>\n",
       "      <th>celltype</th>\n",
       "    </tr>\n",
       "    <tr>\n",
       "      <th>celltype</th>\n",
       "      <th></th>\n",
       "    </tr>\n",
       "  </thead>\n",
       "  <tbody>\n",
       "    <tr>\n",
       "      <th>Astro-NT</th>\n",
       "      <td>Astro-NT</td>\n",
       "    </tr>\n",
       "    <tr>\n",
       "      <th>Astro-TE</th>\n",
       "      <td>Astro-TE</td>\n",
       "    </tr>\n",
       "    <tr>\n",
       "      <th>Microglia</th>\n",
       "      <td>Microglia</td>\n",
       "    </tr>\n",
       "    <tr>\n",
       "      <th>OPC</th>\n",
       "      <td>OPC</td>\n",
       "    </tr>\n",
       "    <tr>\n",
       "      <th>Oligo</th>\n",
       "      <td>Oligo</td>\n",
       "    </tr>\n",
       "  </tbody>\n",
       "</table>\n",
       "</div>"
      ],
      "text/plain": [
       "            celltype\n",
       "celltype            \n",
       "Astro-NT    Astro-NT\n",
       "Astro-TE    Astro-TE\n",
       "Microglia  Microglia\n",
       "OPC              OPC\n",
       "Oligo          Oligo"
      ]
     },
     "execution_count": 18,
     "metadata": {},
     "output_type": "execute_result"
    }
   ],
   "source": [
    "col_annot = pd.DataFrame({'celltype':[ct.replace(' ','_').replace('/','') for ct in ordered_shared_cts]})\n",
    "col_annot.index= col_annot.celltype\n",
    "col_annot.index.name = 'celltype'\n",
    "col_annot['celltype'] = [' '.join(ct.split('_')[:-1]) for ct in col_annot['celltype']]\n",
    "col_annot.head()"
   ]
  },
  {
   "cell_type": "code",
   "execution_count": 19,
   "id": "0a8f0b39-f7ed-4a11-9e9e-16516c8e0632",
   "metadata": {
    "execution": {
     "iopub.execute_input": "2024-12-09T19:35:35.349989Z",
     "iopub.status.busy": "2024-12-09T19:35:35.349218Z",
     "iopub.status.idle": "2024-12-09T19:35:35.417285Z",
     "shell.execute_reply": "2024-12-09T19:35:35.416202Z",
     "shell.execute_reply.started": "2024-12-09T19:35:35.349933Z"
    },
    "tags": []
   },
   "outputs": [],
   "source": [
    "left_ha = pch.HeatmapAnnotation(\n",
    "                          label=pch.anno_label(row_annot.celltype_annot,merge=True,extend=False,\n",
    "                                               adjust_color=True,luminance=0.75,relpos=(1,0.5), colors = 'black'), #,\n",
    "                           AgeDMRs=pch.anno_simple(row_annot.celltype,legend=True,colors= new_mt_palette),\n",
    "                           verbose=1,axis=0,plot_legend=False)"
   ]
  },
  {
   "cell_type": "code",
   "execution_count": 20,
   "id": "688f8f30-336f-48b4-9fa3-0974effb955c",
   "metadata": {
    "execution": {
     "iopub.execute_input": "2024-12-09T19:35:36.458977Z",
     "iopub.status.busy": "2024-12-09T19:35:36.458364Z",
     "iopub.status.idle": "2024-12-09T19:35:36.468830Z",
     "shell.execute_reply": "2024-12-09T19:35:36.467498Z",
     "shell.execute_reply.started": "2024-12-09T19:35:36.458921Z"
    },
    "tags": []
   },
   "outputs": [],
   "source": [
    "col_ha = pch.HeatmapAnnotation(\n",
    "    # label=pch.anno_label(col_annot.celltype,merge=True,rotation=90,\n",
    "    #                      extend=True,colors= new_mt_palette,relpos=(0.5,0)\n",
    "    #                     ), #fontsize=10\n",
    "   celltype=pch.anno_simple(col_annot.celltype,legend=False,  colors=new_mt_palette),\n",
    "   verbose=1,axis=1)"
   ]
  },
  {
   "cell_type": "code",
   "execution_count": 21,
   "id": "f3cd9ea4-8e17-4a85-b52f-43257569fe71",
   "metadata": {
    "execution": {
     "iopub.execute_input": "2024-12-09T19:35:36.694411Z",
     "iopub.status.busy": "2024-12-09T19:35:36.693703Z",
     "iopub.status.idle": "2024-12-09T19:35:36.769479Z",
     "shell.execute_reply": "2024-12-09T19:35:36.768581Z",
     "shell.execute_reply.started": "2024-12-09T19:35:36.694355Z"
    },
    "tags": []
   },
   "outputs": [],
   "source": [
    "plot_mc_df = all_mc_df.dropna()"
   ]
  },
  {
   "cell_type": "code",
   "execution_count": 22,
   "id": "0ca21937-76f2-4f23-b599-182c48fdc606",
   "metadata": {
    "execution": {
     "iopub.execute_input": "2024-12-09T19:35:36.986735Z",
     "iopub.status.busy": "2024-12-09T19:35:36.985981Z",
     "iopub.status.idle": "2024-12-09T19:35:36.995138Z",
     "shell.execute_reply": "2024-12-09T19:35:36.993854Z",
     "shell.execute_reply.started": "2024-12-09T19:35:36.986676Z"
    },
    "tags": []
   },
   "outputs": [
    {
     "data": {
      "text/plain": [
       "(118233, 36)"
      ]
     },
     "execution_count": 22,
     "metadata": {},
     "output_type": "execute_result"
    }
   ],
   "source": [
    "plot_mc_df.shape"
   ]
  },
  {
   "cell_type": "code",
   "execution_count": 23,
   "id": "fcf21c11-a791-4cd1-90a0-705f5272f579",
   "metadata": {
    "execution": {
     "iopub.execute_input": "2024-12-09T19:35:38.018796Z",
     "iopub.status.busy": "2024-12-09T19:35:38.018050Z",
     "iopub.status.idle": "2024-12-09T19:35:38.026694Z",
     "shell.execute_reply": "2024-12-09T19:35:38.025326Z",
     "shell.execute_reply.started": "2024-12-09T19:35:38.018738Z"
    },
    "tags": []
   },
   "outputs": [],
   "source": [
    "plot_mc_df.columns = [' '.join(ct.split('_')[:-1]) for ct in plot_mc_df.columns]"
   ]
  },
  {
   "cell_type": "code",
   "execution_count": 42,
   "id": "05c0f374-2c2a-4e04-b9ed-ee7db330c0a6",
   "metadata": {
    "execution": {
     "iopub.execute_input": "2024-12-20T23:56:08.817209Z",
     "iopub.status.busy": "2024-12-20T23:56:08.816521Z",
     "iopub.status.idle": "2024-12-20T23:56:08.949290Z",
     "shell.execute_reply": "2024-12-20T23:56:08.948552Z",
     "shell.execute_reply.started": "2024-12-20T23:56:08.817142Z"
    },
    "tags": []
   },
   "outputs": [
    {
     "data": {
      "text/html": [
       "<div>\n",
       "<style scoped>\n",
       "    .dataframe tbody tr th:only-of-type {\n",
       "        vertical-align: middle;\n",
       "    }\n",
       "\n",
       "    .dataframe tbody tr th {\n",
       "        vertical-align: top;\n",
       "    }\n",
       "\n",
       "    .dataframe thead th {\n",
       "        text-align: right;\n",
       "    }\n",
       "</style>\n",
       "<table border=\"1\" class=\"dataframe\">\n",
       "  <thead>\n",
       "    <tr style=\"text-align: right;\">\n",
       "      <th></th>\n",
       "      <th>Astro-NT_NN</th>\n",
       "      <th>Astro-TE_NN</th>\n",
       "      <th>Microglia_NN</th>\n",
       "      <th>OPC_NN</th>\n",
       "      <th>Oligo_NN</th>\n",
       "      <th>L23_IT_CTX_Glut</th>\n",
       "      <th>L45_IT_CTX_Glut</th>\n",
       "      <th>L5_IT_CTX_Glut</th>\n",
       "      <th>L6_IT_CTX_Glut</th>\n",
       "      <th>L6_CT_CTX_Glut</th>\n",
       "      <th>...</th>\n",
       "      <th>Sst_Gaba</th>\n",
       "      <th>MEA-BST_Gaba</th>\n",
       "      <th>CEA-BST_Gaba</th>\n",
       "      <th>LDT-PCG-CS_Gata3_Lhx1_Gaba</th>\n",
       "      <th>PAG-PPN_Pax5_Sox21_Gaba</th>\n",
       "      <th>STR-PAL_Chst9_Gaba</th>\n",
       "      <th>STR_D1_Sema5a_Gaba</th>\n",
       "      <th>STR_D1_Gaba</th>\n",
       "      <th>STR_D2_Gaba</th>\n",
       "      <th>STR_Gaba</th>\n",
       "    </tr>\n",
       "    <tr>\n",
       "      <th>3</th>\n",
       "      <th></th>\n",
       "      <th></th>\n",
       "      <th></th>\n",
       "      <th></th>\n",
       "      <th></th>\n",
       "      <th></th>\n",
       "      <th></th>\n",
       "      <th></th>\n",
       "      <th></th>\n",
       "      <th></th>\n",
       "      <th></th>\n",
       "      <th></th>\n",
       "      <th></th>\n",
       "      <th></th>\n",
       "      <th></th>\n",
       "      <th></th>\n",
       "      <th></th>\n",
       "      <th></th>\n",
       "      <th></th>\n",
       "      <th></th>\n",
       "      <th></th>\n",
       "    </tr>\n",
       "  </thead>\n",
       "  <tbody>\n",
       "    <tr>\n",
       "      <th>chr1-3149493-3149499</th>\n",
       "      <td>-0.600000</td>\n",
       "      <td>0.043798</td>\n",
       "      <td>0.063024</td>\n",
       "      <td>0.001288</td>\n",
       "      <td>0.027710</td>\n",
       "      <td>-0.039593</td>\n",
       "      <td>-0.029212</td>\n",
       "      <td>0.095960</td>\n",
       "      <td>0.098794</td>\n",
       "      <td>0.048419</td>\n",
       "      <td>...</td>\n",
       "      <td>-0.045525</td>\n",
       "      <td>0.134821</td>\n",
       "      <td>-0.038095</td>\n",
       "      <td>0.166667</td>\n",
       "      <td>-0.019608</td>\n",
       "      <td>-0.035304</td>\n",
       "      <td>-0.038889</td>\n",
       "      <td>-0.005945</td>\n",
       "      <td>0.015457</td>\n",
       "      <td>-0.022222</td>\n",
       "    </tr>\n",
       "    <tr>\n",
       "      <th>chr1-3155400-3155481</th>\n",
       "      <td>-0.406575</td>\n",
       "      <td>0.085914</td>\n",
       "      <td>0.132559</td>\n",
       "      <td>-0.109098</td>\n",
       "      <td>0.102347</td>\n",
       "      <td>-0.016580</td>\n",
       "      <td>0.037454</td>\n",
       "      <td>0.035137</td>\n",
       "      <td>-0.044425</td>\n",
       "      <td>0.051561</td>\n",
       "      <td>...</td>\n",
       "      <td>-0.050937</td>\n",
       "      <td>0.024181</td>\n",
       "      <td>-0.017573</td>\n",
       "      <td>0.017094</td>\n",
       "      <td>-0.065083</td>\n",
       "      <td>-0.013985</td>\n",
       "      <td>-0.090042</td>\n",
       "      <td>0.005867</td>\n",
       "      <td>-0.081274</td>\n",
       "      <td>-0.033765</td>\n",
       "    </tr>\n",
       "    <tr>\n",
       "      <th>chr1-3188443-3188741</th>\n",
       "      <td>-0.279694</td>\n",
       "      <td>-0.062472</td>\n",
       "      <td>-0.085903</td>\n",
       "      <td>-0.045325</td>\n",
       "      <td>0.021216</td>\n",
       "      <td>-0.027087</td>\n",
       "      <td>0.048868</td>\n",
       "      <td>-0.030399</td>\n",
       "      <td>-0.005830</td>\n",
       "      <td>-0.008691</td>\n",
       "      <td>...</td>\n",
       "      <td>0.007830</td>\n",
       "      <td>0.086961</td>\n",
       "      <td>0.044610</td>\n",
       "      <td>0.099015</td>\n",
       "      <td>0.000000</td>\n",
       "      <td>0.074883</td>\n",
       "      <td>-0.039519</td>\n",
       "      <td>-0.018998</td>\n",
       "      <td>0.004514</td>\n",
       "      <td>0.077927</td>\n",
       "    </tr>\n",
       "    <tr>\n",
       "      <th>chr1-3190961-3191346</th>\n",
       "      <td>-0.295041</td>\n",
       "      <td>0.083277</td>\n",
       "      <td>-0.013609</td>\n",
       "      <td>0.012032</td>\n",
       "      <td>0.047340</td>\n",
       "      <td>-0.060417</td>\n",
       "      <td>0.053140</td>\n",
       "      <td>-0.010219</td>\n",
       "      <td>0.132260</td>\n",
       "      <td>0.064807</td>\n",
       "      <td>...</td>\n",
       "      <td>-0.050147</td>\n",
       "      <td>0.001358</td>\n",
       "      <td>-0.051651</td>\n",
       "      <td>-0.050505</td>\n",
       "      <td>-0.189394</td>\n",
       "      <td>0.082354</td>\n",
       "      <td>0.015007</td>\n",
       "      <td>0.000290</td>\n",
       "      <td>-0.012307</td>\n",
       "      <td>-0.000562</td>\n",
       "    </tr>\n",
       "    <tr>\n",
       "      <th>chr1-3259956-3260172</th>\n",
       "      <td>-0.322076</td>\n",
       "      <td>-0.080232</td>\n",
       "      <td>-0.165998</td>\n",
       "      <td>0.052567</td>\n",
       "      <td>-0.037286</td>\n",
       "      <td>0.166843</td>\n",
       "      <td>-0.033859</td>\n",
       "      <td>-0.005783</td>\n",
       "      <td>-0.044828</td>\n",
       "      <td>-0.017621</td>\n",
       "      <td>...</td>\n",
       "      <td>-0.020869</td>\n",
       "      <td>-0.068900</td>\n",
       "      <td>0.000016</td>\n",
       "      <td>0.001709</td>\n",
       "      <td>-0.098876</td>\n",
       "      <td>-0.026255</td>\n",
       "      <td>-0.084283</td>\n",
       "      <td>0.004346</td>\n",
       "      <td>0.021602</td>\n",
       "      <td>-0.118329</td>\n",
       "    </tr>\n",
       "    <tr>\n",
       "      <th>...</th>\n",
       "      <td>...</td>\n",
       "      <td>...</td>\n",
       "      <td>...</td>\n",
       "      <td>...</td>\n",
       "      <td>...</td>\n",
       "      <td>...</td>\n",
       "      <td>...</td>\n",
       "      <td>...</td>\n",
       "      <td>...</td>\n",
       "      <td>...</td>\n",
       "      <td>...</td>\n",
       "      <td>...</td>\n",
       "      <td>...</td>\n",
       "      <td>...</td>\n",
       "      <td>...</td>\n",
       "      <td>...</td>\n",
       "      <td>...</td>\n",
       "      <td>...</td>\n",
       "      <td>...</td>\n",
       "      <td>...</td>\n",
       "      <td>...</td>\n",
       "    </tr>\n",
       "    <tr>\n",
       "      <th>chr9-120716726-120716814</th>\n",
       "      <td>-0.154762</td>\n",
       "      <td>0.012508</td>\n",
       "      <td>0.011753</td>\n",
       "      <td>-0.219907</td>\n",
       "      <td>0.056258</td>\n",
       "      <td>0.147827</td>\n",
       "      <td>0.155605</td>\n",
       "      <td>0.321193</td>\n",
       "      <td>0.066001</td>\n",
       "      <td>-0.210928</td>\n",
       "      <td>...</td>\n",
       "      <td>-0.060717</td>\n",
       "      <td>0.076037</td>\n",
       "      <td>0.089615</td>\n",
       "      <td>-0.054762</td>\n",
       "      <td>0.045833</td>\n",
       "      <td>-0.058642</td>\n",
       "      <td>-0.026967</td>\n",
       "      <td>0.089554</td>\n",
       "      <td>0.143841</td>\n",
       "      <td>-0.226190</td>\n",
       "    </tr>\n",
       "    <tr>\n",
       "      <th>chr9-121370322-121370378</th>\n",
       "      <td>0.006217</td>\n",
       "      <td>-0.018127</td>\n",
       "      <td>-0.084117</td>\n",
       "      <td>0.107606</td>\n",
       "      <td>-0.000371</td>\n",
       "      <td>0.004890</td>\n",
       "      <td>-0.051222</td>\n",
       "      <td>0.006173</td>\n",
       "      <td>0.023298</td>\n",
       "      <td>-0.011078</td>\n",
       "      <td>...</td>\n",
       "      <td>-0.136884</td>\n",
       "      <td>-0.163345</td>\n",
       "      <td>-0.042211</td>\n",
       "      <td>-0.166667</td>\n",
       "      <td>0.000000</td>\n",
       "      <td>-0.081033</td>\n",
       "      <td>0.087771</td>\n",
       "      <td>-0.000615</td>\n",
       "      <td>0.023870</td>\n",
       "      <td>-0.164566</td>\n",
       "    </tr>\n",
       "    <tr>\n",
       "      <th>chr9-121764288-121764319</th>\n",
       "      <td>0.305556</td>\n",
       "      <td>-0.020145</td>\n",
       "      <td>0.030590</td>\n",
       "      <td>0.093349</td>\n",
       "      <td>-0.068853</td>\n",
       "      <td>0.096706</td>\n",
       "      <td>-0.124505</td>\n",
       "      <td>-0.059885</td>\n",
       "      <td>0.060195</td>\n",
       "      <td>0.139508</td>\n",
       "      <td>...</td>\n",
       "      <td>-0.072207</td>\n",
       "      <td>-0.062279</td>\n",
       "      <td>0.034641</td>\n",
       "      <td>-0.500000</td>\n",
       "      <td>-0.177881</td>\n",
       "      <td>-0.015961</td>\n",
       "      <td>-0.068023</td>\n",
       "      <td>0.048238</td>\n",
       "      <td>0.008642</td>\n",
       "      <td>-0.492375</td>\n",
       "    </tr>\n",
       "    <tr>\n",
       "      <th>chr9-122019442-122019506</th>\n",
       "      <td>-0.118367</td>\n",
       "      <td>-0.051865</td>\n",
       "      <td>-0.114942</td>\n",
       "      <td>0.176763</td>\n",
       "      <td>-0.035201</td>\n",
       "      <td>0.015546</td>\n",
       "      <td>-0.081588</td>\n",
       "      <td>-0.077048</td>\n",
       "      <td>0.005707</td>\n",
       "      <td>0.008587</td>\n",
       "      <td>...</td>\n",
       "      <td>-0.059517</td>\n",
       "      <td>-0.043638</td>\n",
       "      <td>-0.029374</td>\n",
       "      <td>-0.184583</td>\n",
       "      <td>0.028265</td>\n",
       "      <td>-0.066522</td>\n",
       "      <td>-0.031047</td>\n",
       "      <td>-0.037756</td>\n",
       "      <td>-0.023933</td>\n",
       "      <td>-0.175707</td>\n",
       "    </tr>\n",
       "    <tr>\n",
       "      <th>chr9-122263772-122263793</th>\n",
       "      <td>0.041667</td>\n",
       "      <td>0.000091</td>\n",
       "      <td>-0.032941</td>\n",
       "      <td>-0.025641</td>\n",
       "      <td>-0.019685</td>\n",
       "      <td>0.037673</td>\n",
       "      <td>-0.097995</td>\n",
       "      <td>0.182497</td>\n",
       "      <td>-0.061225</td>\n",
       "      <td>0.053936</td>\n",
       "      <td>...</td>\n",
       "      <td>-0.010566</td>\n",
       "      <td>-0.023810</td>\n",
       "      <td>-0.011905</td>\n",
       "      <td>0.000000</td>\n",
       "      <td>0.000000</td>\n",
       "      <td>0.008102</td>\n",
       "      <td>-0.047977</td>\n",
       "      <td>-0.013261</td>\n",
       "      <td>-0.010896</td>\n",
       "      <td>-0.202797</td>\n",
       "    </tr>\n",
       "  </tbody>\n",
       "</table>\n",
       "<p>135613 rows × 36 columns</p>\n",
       "</div>"
      ],
      "text/plain": [
       "                          Astro-NT_NN  Astro-TE_NN  Microglia_NN    OPC_NN  \\\n",
       "3                                                                            \n",
       "chr1-3149493-3149499        -0.600000     0.043798      0.063024  0.001288   \n",
       "chr1-3155400-3155481        -0.406575     0.085914      0.132559 -0.109098   \n",
       "chr1-3188443-3188741        -0.279694    -0.062472     -0.085903 -0.045325   \n",
       "chr1-3190961-3191346        -0.295041     0.083277     -0.013609  0.012032   \n",
       "chr1-3259956-3260172        -0.322076    -0.080232     -0.165998  0.052567   \n",
       "...                               ...          ...           ...       ...   \n",
       "chr9-120716726-120716814    -0.154762     0.012508      0.011753 -0.219907   \n",
       "chr9-121370322-121370378     0.006217    -0.018127     -0.084117  0.107606   \n",
       "chr9-121764288-121764319     0.305556    -0.020145      0.030590  0.093349   \n",
       "chr9-122019442-122019506    -0.118367    -0.051865     -0.114942  0.176763   \n",
       "chr9-122263772-122263793     0.041667     0.000091     -0.032941 -0.025641   \n",
       "\n",
       "                          Oligo_NN  L23_IT_CTX_Glut  L45_IT_CTX_Glut  \\\n",
       "3                                                                      \n",
       "chr1-3149493-3149499      0.027710        -0.039593        -0.029212   \n",
       "chr1-3155400-3155481      0.102347        -0.016580         0.037454   \n",
       "chr1-3188443-3188741      0.021216        -0.027087         0.048868   \n",
       "chr1-3190961-3191346      0.047340        -0.060417         0.053140   \n",
       "chr1-3259956-3260172     -0.037286         0.166843        -0.033859   \n",
       "...                            ...              ...              ...   \n",
       "chr9-120716726-120716814  0.056258         0.147827         0.155605   \n",
       "chr9-121370322-121370378 -0.000371         0.004890        -0.051222   \n",
       "chr9-121764288-121764319 -0.068853         0.096706        -0.124505   \n",
       "chr9-122019442-122019506 -0.035201         0.015546        -0.081588   \n",
       "chr9-122263772-122263793 -0.019685         0.037673        -0.097995   \n",
       "\n",
       "                          L5_IT_CTX_Glut  L6_IT_CTX_Glut  L6_CT_CTX_Glut  ...  \\\n",
       "3                                                                         ...   \n",
       "chr1-3149493-3149499            0.095960        0.098794        0.048419  ...   \n",
       "chr1-3155400-3155481            0.035137       -0.044425        0.051561  ...   \n",
       "chr1-3188443-3188741           -0.030399       -0.005830       -0.008691  ...   \n",
       "chr1-3190961-3191346           -0.010219        0.132260        0.064807  ...   \n",
       "chr1-3259956-3260172           -0.005783       -0.044828       -0.017621  ...   \n",
       "...                                  ...             ...             ...  ...   \n",
       "chr9-120716726-120716814        0.321193        0.066001       -0.210928  ...   \n",
       "chr9-121370322-121370378        0.006173        0.023298       -0.011078  ...   \n",
       "chr9-121764288-121764319       -0.059885        0.060195        0.139508  ...   \n",
       "chr9-122019442-122019506       -0.077048        0.005707        0.008587  ...   \n",
       "chr9-122263772-122263793        0.182497       -0.061225        0.053936  ...   \n",
       "\n",
       "                          Sst_Gaba  MEA-BST_Gaba  CEA-BST_Gaba  \\\n",
       "3                                                                \n",
       "chr1-3149493-3149499     -0.045525      0.134821     -0.038095   \n",
       "chr1-3155400-3155481     -0.050937      0.024181     -0.017573   \n",
       "chr1-3188443-3188741      0.007830      0.086961      0.044610   \n",
       "chr1-3190961-3191346     -0.050147      0.001358     -0.051651   \n",
       "chr1-3259956-3260172     -0.020869     -0.068900      0.000016   \n",
       "...                            ...           ...           ...   \n",
       "chr9-120716726-120716814 -0.060717      0.076037      0.089615   \n",
       "chr9-121370322-121370378 -0.136884     -0.163345     -0.042211   \n",
       "chr9-121764288-121764319 -0.072207     -0.062279      0.034641   \n",
       "chr9-122019442-122019506 -0.059517     -0.043638     -0.029374   \n",
       "chr9-122263772-122263793 -0.010566     -0.023810     -0.011905   \n",
       "\n",
       "                          LDT-PCG-CS_Gata3_Lhx1_Gaba  PAG-PPN_Pax5_Sox21_Gaba  \\\n",
       "3                                                                               \n",
       "chr1-3149493-3149499                        0.166667                -0.019608   \n",
       "chr1-3155400-3155481                        0.017094                -0.065083   \n",
       "chr1-3188443-3188741                        0.099015                 0.000000   \n",
       "chr1-3190961-3191346                       -0.050505                -0.189394   \n",
       "chr1-3259956-3260172                        0.001709                -0.098876   \n",
       "...                                              ...                      ...   \n",
       "chr9-120716726-120716814                   -0.054762                 0.045833   \n",
       "chr9-121370322-121370378                   -0.166667                 0.000000   \n",
       "chr9-121764288-121764319                   -0.500000                -0.177881   \n",
       "chr9-122019442-122019506                   -0.184583                 0.028265   \n",
       "chr9-122263772-122263793                    0.000000                 0.000000   \n",
       "\n",
       "                          STR-PAL_Chst9_Gaba  STR_D1_Sema5a_Gaba  STR_D1_Gaba  \\\n",
       "3                                                                               \n",
       "chr1-3149493-3149499               -0.035304           -0.038889    -0.005945   \n",
       "chr1-3155400-3155481               -0.013985           -0.090042     0.005867   \n",
       "chr1-3188443-3188741                0.074883           -0.039519    -0.018998   \n",
       "chr1-3190961-3191346                0.082354            0.015007     0.000290   \n",
       "chr1-3259956-3260172               -0.026255           -0.084283     0.004346   \n",
       "...                                      ...                 ...          ...   \n",
       "chr9-120716726-120716814           -0.058642           -0.026967     0.089554   \n",
       "chr9-121370322-121370378           -0.081033            0.087771    -0.000615   \n",
       "chr9-121764288-121764319           -0.015961           -0.068023     0.048238   \n",
       "chr9-122019442-122019506           -0.066522           -0.031047    -0.037756   \n",
       "chr9-122263772-122263793            0.008102           -0.047977    -0.013261   \n",
       "\n",
       "                          STR_D2_Gaba  STR_Gaba  \n",
       "3                                                \n",
       "chr1-3149493-3149499         0.015457 -0.022222  \n",
       "chr1-3155400-3155481        -0.081274 -0.033765  \n",
       "chr1-3188443-3188741         0.004514  0.077927  \n",
       "chr1-3190961-3191346        -0.012307 -0.000562  \n",
       "chr1-3259956-3260172         0.021602 -0.118329  \n",
       "...                               ...       ...  \n",
       "chr9-120716726-120716814     0.143841 -0.226190  \n",
       "chr9-121370322-121370378     0.023870 -0.164566  \n",
       "chr9-121764288-121764319     0.008642 -0.492375  \n",
       "chr9-122019442-122019506    -0.023933 -0.175707  \n",
       "chr9-122263772-122263793    -0.010896 -0.202797  \n",
       "\n",
       "[135613 rows x 36 columns]"
      ]
     },
     "execution_count": 42,
     "metadata": {},
     "output_type": "execute_result"
    }
   ],
   "source": [
    "all_mc_df"
   ]
  },
  {
   "cell_type": "code",
   "execution_count": 24,
   "id": "52a3df2f-000d-4a47-b228-3483c4a0c069",
   "metadata": {
    "execution": {
     "iopub.execute_input": "2024-12-09T19:35:41.009664Z",
     "iopub.status.busy": "2024-12-09T19:35:41.009076Z",
     "iopub.status.idle": "2024-12-09T19:37:48.371673Z",
     "shell.execute_reply": "2024-12-09T19:37:48.370978Z",
     "shell.execute_reply.started": "2024-12-09T19:35:41.009609Z"
    },
    "tags": []
   },
   "outputs": [
    {
     "name": "stdout",
     "output_type": "stream",
     "text": [
      "Starting plotting..\n",
      "Starting calculating row orders..\n",
      "Reordering rows..\n",
      "Starting calculating col orders..\n",
      "Reordering cols..\n",
      "Plotting matrix..\n",
      "Starting plotting HeatmapAnnotations\n",
      "Starting plotting HeatmapAnnotations\n",
      "Collecting legends..\n",
      "Collecting annotation legends..\n",
      "Collecting annotation legends..\n",
      "Plotting legends..\n",
      "Estimated legend width: 7.5 mm\n"
     ]
    },
    {
     "data": {
      "image/png": "[encoded data removed]",
      "text/plain": [
       "<Figure size 576x864 with 12 Axes>"
      ]
     },
     "metadata": {
      "needs_background": "light"
     },
     "output_type": "display_data"
    }
   ],
   "source": [
    "plt.figure(figsize=(8, 12))\n",
    "\n",
    "cm = ClusterMapPlotter(\n",
    "        data=plot_mc_df, \n",
    "        top_annotation=col_ha,left_annotation=left_ha,\n",
    "        vmin = -0.2, vmax = 0.1,\n",
    "        col_cluster=False,row_cluster=False,\n",
    "        label = 'mCG Frac. Change',\n",
    "        cmap='viridis',rasterized=True,\n",
    "        xticklabels_kws={'labelrotation':0,'labelcolor':'blue'}\n",
    "        )\n",
    "plt.savefig(f\"figure/allDMR-hyper-all.pycomplex.celltype.admr.heatmap.pdf\", bbox_inches='tight')\n",
    "plt.show()"
   ]
  },
  {
   "cell_type": "markdown",
   "id": "40ed73ff-e963-4059-b294-5d4507b375e3",
   "metadata": {},
   "source": [
    "## plot cell types var"
   ]
  },
  {
   "cell_type": "code",
   "execution_count": 29,
   "id": "1488463f-0c82-4e49-9504-7f4823cc27de",
   "metadata": {
    "execution": {
     "iopub.execute_input": "2024-12-09T23:08:52.824911Z",
     "iopub.status.busy": "2024-12-09T23:08:52.824134Z",
     "iopub.status.idle": "2024-12-09T23:08:52.830786Z",
     "shell.execute_reply": "2024-12-09T23:08:52.829681Z",
     "shell.execute_reply.started": "2024-12-09T23:08:52.824852Z"
    },
    "tags": []
   },
   "outputs": [],
   "source": [
    "colors = [new_mt_palette[ct] for ct in use_cts]"
   ]
  },
  {
   "cell_type": "code",
   "execution_count": null,
   "id": "61411404-b1c9-4efa-9466-e9c85c50fc34",
   "metadata": {},
   "outputs": [],
   "source": []
  },
  {
   "cell_type": "code",
   "execution_count": 40,
   "id": "4edb6ed0-4bab-4e8b-be4e-4d043cd1b785",
   "metadata": {
    "execution": {
     "iopub.execute_input": "2024-12-09T23:13:53.547932Z",
     "iopub.status.busy": "2024-12-09T23:13:53.547248Z",
     "iopub.status.idle": "2024-12-09T23:13:53.942436Z",
     "shell.execute_reply": "2024-12-09T23:13:53.941827Z",
     "shell.execute_reply.started": "2024-12-09T23:13:53.547874Z"
    },
    "tags": []
   },
   "outputs": [
    {
     "data": {
      "image/png": "[encoded data removed]",
      "text/plain": [
       "<Figure size 150x4500 with 1 Axes>"
      ]
     },
     "metadata": {
      "needs_background": "light"
     },
     "output_type": "display_data"
    }
   ],
   "source": [
    "fig, ax = plt.subplots(figsize=(0.5,15), dpi = 300)\n",
    "data = [1] * len(use_cts)\n",
    "start = 0\n",
    "for idx, (category, color) in enumerate(zip(use_cts, colors)):\n",
    "    ax.bar('Stacked Bar', data[idx], bottom=start, color=color, label=category)\n",
    "    start += data[idx]\n",
    "\n",
    "fig.savefig('celltype_order_bar.pdf', bbox_inches = 'tight')"
   ]
  },
  {
   "cell_type": "code",
   "execution_count": null,
   "id": "738c40b2-7de7-40ca-a227-5b9ffe6ab6a5",
   "metadata": {},
   "outputs": [],
   "source": []
  },
  {
   "cell_type": "code",
   "execution_count": null,
   "id": "074368b0-65df-4bc6-a3b1-3e07f5bbf191",
   "metadata": {},
   "outputs": [],
   "source": []
  },
  {
   "cell_type": "code",
   "execution_count": null,
   "id": "12f729fc-cd87-46a2-8ebe-86748e62c4d9",
   "metadata": {},
   "outputs": [],
   "source": []
  },
  {
   "cell_type": "code",
   "execution_count": null,
   "id": "490d842b-02e7-4c7f-98d8-80ce090ea77d",
   "metadata": {},
   "outputs": [],
   "source": []
  },
  {
   "cell_type": "code",
   "execution_count": null,
   "id": "c7ee1ce3-f529-4f4f-a4e9-55cdd1cdb26d",
   "metadata": {},
   "outputs": [],
   "source": []
  },
  {
   "cell_type": "code",
   "execution_count": null,
   "id": "9e0202ff-c361-49fb-bc1b-95378366e2eb",
   "metadata": {},
   "outputs": [],
   "source": []
  }
 ],
 "metadata": {
  "kernelspec": {
   "display_name": "Python 3 (ipykernel)",
   "language": "python",
   "name": "python3"
  },
  "language_info": {
   "codemirror_mode": {
    "name": "ipython",
    "version": 3
   },
   "file_extension": ".py",
   "mimetype": "text/x-python",
   "name": "python",
   "nbconvert_exporter": "python",
   "pygments_lexer": "ipython3",
   "version": "3.7.12"
  }
 },
 "nbformat": 4,
 "nbformat_minor": 5
}
