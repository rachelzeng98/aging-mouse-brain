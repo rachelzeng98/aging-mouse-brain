{
 "cells": [
  {
   "cell_type": "code",
   "execution_count": 1,
   "id": "840abf68-7bf7-46eb-bc39-851610f5a465",
   "metadata": {
    "execution": {
     "iopub.execute_input": "2024-02-22T20:03:29.259757Z",
     "iopub.status.busy": "2024-02-22T20:03:29.259264Z",
     "iopub.status.idle": "2024-02-22T20:03:29.667808Z",
     "shell.execute_reply": "2024-02-22T20:03:29.667051Z",
     "shell.execute_reply.started": "2024-02-22T20:03:29.259732Z"
    },
    "tags": []
   },
   "outputs": [],
   "source": [
    "import pandas as pd\n",
    "import joblib\n",
    "import pathlib\n",
    "import glob"
   ]
  },
  {
   "cell_type": "code",
   "execution_count": 11,
   "id": "f23b5a07-db81-4531-af06-a55fa31d7d36",
   "metadata": {
    "execution": {
     "iopub.execute_input": "2024-02-22T20:04:00.118756Z",
     "iopub.status.busy": "2024-02-22T20:04:00.118355Z",
     "iopub.status.idle": "2024-02-22T20:04:00.123724Z",
     "shell.execute_reply": "2024-02-22T20:04:00.123129Z",
     "shell.execute_reply.started": "2024-02-22T20:04:00.118727Z"
    },
    "tags": []
   },
   "outputs": [],
   "source": [
    "m3c_use_ct = joblib.load('/home/qzeng/project/aging/metadata/m3c_use_cts')\n",
    "m3c_use_ct = [ct.replace('/','').replace(' ','_') for ct in m3c_use_ct]"
   ]
  },
  {
   "cell_type": "code",
   "execution_count": 3,
   "id": "daf95789-df37-4069-b8ae-866e5a105192",
   "metadata": {
    "execution": {
     "iopub.execute_input": "2024-02-22T20:03:29.673737Z",
     "iopub.status.busy": "2024-02-22T20:03:29.673492Z",
     "iopub.status.idle": "2024-02-22T20:03:29.676009Z",
     "shell.execute_reply": "2024-02-22T20:03:29.675524Z",
     "shell.execute_reply.started": "2024-02-22T20:03:29.673717Z"
    },
    "tags": []
   },
   "outputs": [],
   "source": [
    "## sample celltype class path gender"
   ]
  },
  {
   "cell_type": "code",
   "execution_count": 4,
   "id": "752bc6a7-2453-4489-8a40-0913804efb56",
   "metadata": {
    "execution": {
     "iopub.execute_input": "2024-02-22T20:03:29.676891Z",
     "iopub.status.busy": "2024-02-22T20:03:29.676639Z",
     "iopub.status.idle": "2024-02-22T20:03:29.680610Z",
     "shell.execute_reply": "2024-02-22T20:03:29.680183Z",
     "shell.execute_reply.started": "2024-02-22T20:03:29.676871Z"
    },
    "tags": []
   },
   "outputs": [],
   "source": [
    "male_paths = sorted(glob.glob('/ceph/gale-1/qzeng/AmbData/CellType_Allc/F.CellType.Age/*'))\n",
    "male_paths = [path for path in male_paths if path != '/ceph/gale-1/qzeng/AmbData/CellType_Allc/F.CellType.Age/_']"
   ]
  },
  {
   "cell_type": "code",
   "execution_count": 5,
   "id": "e86d28a3-3205-434a-a91f-d1cb74a1192a",
   "metadata": {
    "execution": {
     "iopub.execute_input": "2024-02-22T20:03:29.686347Z",
     "iopub.status.busy": "2024-02-22T20:03:29.686092Z",
     "iopub.status.idle": "2024-02-22T20:03:29.690284Z",
     "shell.execute_reply": "2024-02-22T20:03:29.689791Z",
     "shell.execute_reply.started": "2024-02-22T20:03:29.686326Z"
    },
    "tags": []
   },
   "outputs": [],
   "source": [
    "sample_names = [pathlib.Path(path).name.split('.csv')[0] for path in male_paths]"
   ]
  },
  {
   "cell_type": "code",
   "execution_count": 6,
   "id": "f51b5946-c1a4-44b9-8145-e152b4f3a10b",
   "metadata": {
    "execution": {
     "iopub.execute_input": "2024-02-22T20:03:29.691116Z",
     "iopub.status.busy": "2024-02-22T20:03:29.690871Z",
     "iopub.status.idle": "2024-02-22T20:03:29.693635Z",
     "shell.execute_reply": "2024-02-22T20:03:29.693175Z",
     "shell.execute_reply.started": "2024-02-22T20:03:29.691097Z"
    },
    "tags": []
   },
   "outputs": [],
   "source": [
    "celltype = [sample.split('.')[0] for sample in sample_names]"
   ]
  },
  {
   "cell_type": "code",
   "execution_count": 7,
   "id": "6e397ab6-fc32-499b-8d64-4cdf11c63821",
   "metadata": {
    "execution": {
     "iopub.execute_input": "2024-02-22T20:03:29.694513Z",
     "iopub.status.busy": "2024-02-22T20:03:29.694206Z",
     "iopub.status.idle": "2024-02-22T20:03:29.696928Z",
     "shell.execute_reply": "2024-02-22T20:03:29.696459Z",
     "shell.execute_reply.started": "2024-02-22T20:03:29.694494Z"
    },
    "tags": []
   },
   "outputs": [],
   "source": [
    "ages = [sample.split('.')[1] for sample in sample_names]"
   ]
  },
  {
   "cell_type": "code",
   "execution_count": 8,
   "id": "1c1e0d77-0cee-47aa-81eb-3b2020006c1b",
   "metadata": {
    "execution": {
     "iopub.execute_input": "2024-02-22T20:03:29.697744Z",
     "iopub.status.busy": "2024-02-22T20:03:29.697498Z",
     "iopub.status.idle": "2024-02-22T20:03:29.701036Z",
     "shell.execute_reply": "2024-02-22T20:03:29.700626Z",
     "shell.execute_reply.started": "2024-02-22T20:03:29.697725Z"
    },
    "tags": []
   },
   "outputs": [],
   "source": [
    "df = pd.DataFrame({'FilePath':male_paths,\n",
    "              'SampleName':sample_names,\n",
    "              'CellType':celltype,\n",
    "              'Age':ages,\n",
    "              'Gender':'Male'})"
   ]
  },
  {
   "cell_type": "code",
   "execution_count": 9,
   "id": "b8b511ed-e979-4c3d-b3d9-c65e38dea23f",
   "metadata": {
    "execution": {
     "iopub.execute_input": "2024-02-22T20:03:29.701932Z",
     "iopub.status.busy": "2024-02-22T20:03:29.701626Z",
     "iopub.status.idle": "2024-02-22T20:03:29.709226Z",
     "shell.execute_reply": "2024-02-22T20:03:29.708521Z",
     "shell.execute_reply.started": "2024-02-22T20:03:29.701913Z"
    },
    "tags": []
   },
   "outputs": [],
   "source": [
    "df = df[['CellType','SampleName']]"
   ]
  },
  {
   "cell_type": "code",
   "execution_count": 10,
   "id": "6b542c24-1911-4c1c-a3a6-da29a82100fe",
   "metadata": {
    "execution": {
     "iopub.execute_input": "2024-02-22T20:03:34.250741Z",
     "iopub.status.busy": "2024-02-22T20:03:34.250525Z",
     "iopub.status.idle": "2024-02-22T20:03:34.263491Z",
     "shell.execute_reply": "2024-02-22T20:03:34.263007Z",
     "shell.execute_reply.started": "2024-02-22T20:03:34.250720Z"
    },
    "tags": []
   },
   "outputs": [
    {
     "data": {
      "text/html": [
       "<div>\n",
       "<style scoped>\n",
       "    .dataframe tbody tr th:only-of-type {\n",
       "        vertical-align: middle;\n",
       "    }\n",
       "\n",
       "    .dataframe tbody tr th {\n",
       "        vertical-align: top;\n",
       "    }\n",
       "\n",
       "    .dataframe thead th {\n",
       "        text-align: right;\n",
       "    }\n",
       "</style>\n",
       "<table border=\"1\" class=\"dataframe\">\n",
       "  <thead>\n",
       "    <tr style=\"text-align: right;\">\n",
       "      <th></th>\n",
       "      <th>CellType</th>\n",
       "      <th>SampleName</th>\n",
       "    </tr>\n",
       "  </thead>\n",
       "  <tbody>\n",
       "    <tr>\n",
       "      <th>0</th>\n",
       "      <td>Astro-NT_NN</td>\n",
       "      <td>Astro-NT_NN.18mo</td>\n",
       "    </tr>\n",
       "    <tr>\n",
       "      <th>1</th>\n",
       "      <td>Astro-NT_NN</td>\n",
       "      <td>Astro-NT_NN.8wk</td>\n",
       "    </tr>\n",
       "    <tr>\n",
       "      <th>2</th>\n",
       "      <td>Astro-NT_NN</td>\n",
       "      <td>Astro-NT_NN.9mo</td>\n",
       "    </tr>\n",
       "    <tr>\n",
       "      <th>3</th>\n",
       "      <td>Astro-TE_NN</td>\n",
       "      <td>Astro-TE_NN.18mo</td>\n",
       "    </tr>\n",
       "    <tr>\n",
       "      <th>4</th>\n",
       "      <td>Astro-TE_NN</td>\n",
       "      <td>Astro-TE_NN.8wk</td>\n",
       "    </tr>\n",
       "    <tr>\n",
       "      <th>...</th>\n",
       "      <td>...</td>\n",
       "      <td>...</td>\n",
       "    </tr>\n",
       "    <tr>\n",
       "      <th>166</th>\n",
       "      <td>VipSncg_Gaba</td>\n",
       "      <td>VipSncg_Gaba.8wk</td>\n",
       "    </tr>\n",
       "    <tr>\n",
       "      <th>167</th>\n",
       "      <td>VipSncg_Gaba</td>\n",
       "      <td>VipSncg_Gaba.9mo</td>\n",
       "    </tr>\n",
       "    <tr>\n",
       "      <th>168</th>\n",
       "      <td>Vip_Gaba</td>\n",
       "      <td>Vip_Gaba.18mo</td>\n",
       "    </tr>\n",
       "    <tr>\n",
       "      <th>169</th>\n",
       "      <td>Vip_Gaba</td>\n",
       "      <td>Vip_Gaba.8wk</td>\n",
       "    </tr>\n",
       "    <tr>\n",
       "      <th>170</th>\n",
       "      <td>Vip_Gaba</td>\n",
       "      <td>Vip_Gaba.9mo</td>\n",
       "    </tr>\n",
       "  </tbody>\n",
       "</table>\n",
       "<p>171 rows × 2 columns</p>\n",
       "</div>"
      ],
      "text/plain": [
       "         CellType        SampleName\n",
       "0     Astro-NT_NN  Astro-NT_NN.18mo\n",
       "1     Astro-NT_NN   Astro-NT_NN.8wk\n",
       "2     Astro-NT_NN   Astro-NT_NN.9mo\n",
       "3     Astro-TE_NN  Astro-TE_NN.18mo\n",
       "4     Astro-TE_NN   Astro-TE_NN.8wk\n",
       "..            ...               ...\n",
       "166  VipSncg_Gaba  VipSncg_Gaba.8wk\n",
       "167  VipSncg_Gaba  VipSncg_Gaba.9mo\n",
       "168      Vip_Gaba     Vip_Gaba.18mo\n",
       "169      Vip_Gaba      Vip_Gaba.8wk\n",
       "170      Vip_Gaba      Vip_Gaba.9mo\n",
       "\n",
       "[171 rows x 2 columns]"
      ]
     },
     "execution_count": 10,
     "metadata": {},
     "output_type": "execute_result"
    }
   ],
   "source": [
    "df"
   ]
  },
  {
   "cell_type": "code",
   "execution_count": 13,
   "id": "726e8b83-6375-470d-a7d1-639c39986133",
   "metadata": {
    "execution": {
     "iopub.execute_input": "2024-02-22T20:04:07.646591Z",
     "iopub.status.busy": "2024-02-22T20:04:07.646321Z",
     "iopub.status.idle": "2024-02-22T20:04:07.650011Z",
     "shell.execute_reply": "2024-02-22T20:04:07.649588Z",
     "shell.execute_reply.started": "2024-02-22T20:04:07.646569Z"
    },
    "tags": []
   },
   "outputs": [],
   "source": [
    "df = df[df['CellType'].isin(m3c_use_ct)]"
   ]
  },
  {
   "cell_type": "code",
   "execution_count": 16,
   "id": "4e21fc65-67ed-43c0-92e4-87cf1c79b2c4",
   "metadata": {
    "execution": {
     "iopub.execute_input": "2024-02-22T20:04:18.229376Z",
     "iopub.status.busy": "2024-02-22T20:04:18.228977Z",
     "iopub.status.idle": "2024-02-22T20:04:18.236941Z",
     "shell.execute_reply": "2024-02-22T20:04:18.236465Z",
     "shell.execute_reply.started": "2024-02-22T20:04:18.229352Z"
    },
    "tags": []
   },
   "outputs": [],
   "source": [
    "df.to_csv('/ceph/gale-1/qzeng/AmbData/CellType_Allc/Female.CellType_to_SampleName.tsv', sep = '\\t', index = None)"
   ]
  },
  {
   "cell_type": "code",
   "execution_count": null,
   "id": "66b31780-4720-4726-9ed4-880a433cf768",
   "metadata": {},
   "outputs": [],
   "source": []
  },
  {
   "cell_type": "code",
   "execution_count": null,
   "id": "d536260f-2e32-4ea8-af05-0bd41fc2142d",
   "metadata": {},
   "outputs": [],
   "source": []
  },
  {
   "cell_type": "code",
   "execution_count": null,
   "id": "bc3927ce-c440-4c2e-a87f-1382ddf03044",
   "metadata": {},
   "outputs": [],
   "source": [
    "sample_info=\"/ceph/gale-1/qzeng/AmbData/CellType_Allc/Female.CellType_to_SampleName.tsv\",\n",
    "figshare_mapping=\"figshare.tsv\",parent='CellType', hub_name=\"SampleName\",\n",
    "short_label='Aging Mouse Brain',color='blue',\n",
    "long_label='Aging Mouse Brain -Single Cell DNA Methylation',\n",
    "genome=\"mm10\",email=\"qzeng@salk.edu\",\n",
    "mc_types=['CGN','CHN'],max_mch=0.06"
   ]
  },
  {
   "cell_type": "code",
   "execution_count": null,
   "id": "abf148cd-9203-4965-8af4-2dae3a3120f3",
   "metadata": {},
   "outputs": [],
   "source": []
  },
  {
   "cell_type": "code",
   "execution_count": null,
   "id": "6e8c3df9-dd58-40b3-9126-dc1100cbd1db",
   "metadata": {},
   "outputs": [],
   "source": []
  },
  {
   "cell_type": "code",
   "execution_count": null,
   "id": "11a378e9-bb0c-4c04-bf68-43d50ac74c63",
   "metadata": {},
   "outputs": [],
   "source": []
  },
  {
   "cell_type": "code",
   "execution_count": null,
   "id": "a2942633-7b92-4608-8a45-2750e17cba8a",
   "metadata": {},
   "outputs": [],
   "source": []
  },
  {
   "cell_type": "code",
   "execution_count": null,
   "id": "9c2ae587-13a5-407e-8f37-70225e38b8f7",
   "metadata": {},
   "outputs": [],
   "source": []
  },
  {
   "cell_type": "code",
   "execution_count": null,
   "id": "81c548dd-fe92-493b-8173-9178fbd261ad",
   "metadata": {},
   "outputs": [],
   "source": []
  },
  {
   "cell_type": "code",
   "execution_count": null,
   "id": "030cbdfd-0de8-4b63-a091-25d648bff150",
   "metadata": {},
   "outputs": [],
   "source": []
  },
  {
   "cell_type": "code",
   "execution_count": null,
   "id": "ef483f19-b287-4d03-9901-ae8329b6b937",
   "metadata": {},
   "outputs": [],
   "source": []
  },
  {
   "cell_type": "code",
   "execution_count": null,
   "id": "dd9b0bd5-6a2a-40fa-b270-d8722616b9ca",
   "metadata": {},
   "outputs": [],
   "source": []
  },
  {
   "cell_type": "code",
   "execution_count": null,
   "id": "581a6a55-4f4f-4006-b9a6-eb9e3688c271",
   "metadata": {},
   "outputs": [],
   "source": []
  },
  {
   "cell_type": "code",
   "execution_count": null,
   "id": "2f9f6dfa-743b-426d-a76d-3f7ddff626b8",
   "metadata": {},
   "outputs": [],
   "source": []
  }
 ],
 "metadata": {
  "kernelspec": {
   "display_name": "Python 3 (ipykernel)",
   "language": "python",
   "name": "python3"
  },
  "language_info": {
   "codemirror_mode": {
    "name": "ipython",
    "version": 3
   },
   "file_extension": ".py",
   "mimetype": "text/x-python",
   "name": "python",
   "nbconvert_exporter": "python",
   "pygments_lexer": "ipython3",
   "version": "3.7.12"
  }
 },
 "nbformat": 4,
 "nbformat_minor": 5
}
