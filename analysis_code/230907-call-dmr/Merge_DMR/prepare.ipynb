{
 "cells": [
  {
   "cell_type": "code",
   "execution_count": 1,
   "id": "8f4e8657-355b-45f9-986c-a33d1b169939",
   "metadata": {
    "execution": {
     "iopub.execute_input": "2024-01-15T23:13:57.359411Z",
     "iopub.status.busy": "2024-01-15T23:13:57.359210Z",
     "iopub.status.idle": "2024-01-15T23:13:58.239951Z",
     "shell.execute_reply": "2024-01-15T23:13:58.239188Z",
     "shell.execute_reply.started": "2024-01-15T23:13:57.359389Z"
    },
    "tags": []
   },
   "outputs": [],
   "source": [
    "import os\n",
    "import pandas as pd\n",
    "import subprocess\n",
    "import glob\n",
    "from gliderport.preset.notebook import notebook_snakemake\n",
    "import joblib"
   ]
  },
  {
   "cell_type": "code",
   "execution_count": 2,
   "id": "744e4728-156a-4f6a-b054-f3dfd0323876",
   "metadata": {
    "execution": {
     "iopub.execute_input": "2024-01-15T23:13:46.988508Z",
     "iopub.status.busy": "2024-01-15T23:13:46.988116Z",
     "iopub.status.idle": "2024-01-15T23:13:46.991378Z",
     "shell.execute_reply": "2024-01-15T23:13:46.990822Z",
     "shell.execute_reply.started": "2024-01-15T23:13:46.988485Z"
    },
    "tags": []
   },
   "outputs": [],
   "source": [
    "input_dir = \"/ceph/gale-1/qzeng/amb_datasets\"\n",
    "output_dir = f\"{os.getcwd()}/balanced_allc\""
   ]
  },
  {
   "cell_type": "code",
   "execution_count": 3,
   "id": "f1d499e9-8aad-40c8-abae-0c68b19d4643",
   "metadata": {
    "execution": {
     "iopub.execute_input": "2024-01-15T23:13:46.992241Z",
     "iopub.status.busy": "2024-01-15T23:13:46.991997Z",
     "iopub.status.idle": "2024-01-15T23:13:46.999870Z",
     "shell.execute_reply": "2024-01-15T23:13:46.999481Z",
     "shell.execute_reply.started": "2024-01-15T23:13:46.992221Z"
    },
    "tags": []
   },
   "outputs": [
    {
     "data": {
      "text/plain": [
       "(0, 0)"
      ]
     },
     "execution_count": 3,
     "metadata": {},
     "output_type": "execute_result"
    }
   ],
   "source": [
    "male_merged_allcs = glob.glob(f'{input_dir}/M.CellType.Age/*/*.CGN-Merge.allc.tsv.gz')\n",
    "female_merged_allcs = glob.glob(f'{input_dir}/F.CellType.Age/*/*.CGN-Merge.allc.tsv.gz')\n",
    "\n",
    "male_ct_name = sorted(list(set([path.split('/')[-2].split('.')[0] for path in male_merged_allcs])))\n",
    "female_ct_name = sorted(list(set([path.split('/')[-2].split('.')[0]  for path in female_merged_allcs])))\n",
    "len(male_ct_name), len(female_ct_name)"
   ]
  },
  {
   "cell_type": "code",
   "execution_count": 4,
   "id": "5ba503e8-5d5c-44e8-91c5-a851550ada9e",
   "metadata": {
    "execution": {
     "iopub.execute_input": "2024-01-15T23:13:47.000925Z",
     "iopub.status.busy": "2024-01-15T23:13:47.000673Z",
     "iopub.status.idle": "2024-01-15T23:13:47.003867Z",
     "shell.execute_reply": "2024-01-15T23:13:47.003455Z",
     "shell.execute_reply.started": "2024-01-15T23:13:47.000906Z"
    },
    "tags": []
   },
   "outputs": [],
   "source": [
    "modified_male_ct_name = [ct.replace('_',' ').replace('-',' ') for ct in male_ct_name]\n",
    "modified_female_ct_name = [ct.replace('_',' ').replace('-',' ') for ct in female_ct_name]"
   ]
  },
  {
   "cell_type": "code",
   "execution_count": 5,
   "id": "e6c46ecf-a6f4-438a-8b19-b35ca90e83be",
   "metadata": {
    "execution": {
     "iopub.execute_input": "2023-10-17T06:20:04.484153Z",
     "iopub.status.busy": "2023-10-17T06:20:04.483850Z",
     "iopub.status.idle": "2023-10-17T06:20:04.487378Z",
     "shell.execute_reply": "2023-10-17T06:20:04.486771Z",
     "shell.execute_reply.started": "2023-10-17T06:20:04.484130Z"
    },
    "tags": []
   },
   "outputs": [],
   "source": [
    "shared_modified_names = list((set(modified_male_ct_name) & set(modified_female_ct_name)))"
   ]
  },
  {
   "cell_type": "code",
   "execution_count": 6,
   "id": "9b849780-6b35-4480-94ca-1d23172b34b2",
   "metadata": {
    "execution": {
     "iopub.execute_input": "2023-10-17T06:20:04.488609Z",
     "iopub.status.busy": "2023-10-17T06:20:04.488267Z",
     "iopub.status.idle": "2023-10-17T06:20:04.491787Z",
     "shell.execute_reply": "2023-10-17T06:20:04.491191Z",
     "shell.execute_reply.started": "2023-10-17T06:20:04.488579Z"
    },
    "tags": []
   },
   "outputs": [],
   "source": [
    "male_dict = dict(zip(modified_male_ct_name, male_ct_name))\n",
    "female_dict = dict(zip(modified_female_ct_name, female_ct_name))"
   ]
  },
  {
   "cell_type": "code",
   "execution_count": 7,
   "id": "a9375a00-b1b9-4366-9b8a-f3ff8510a2a7",
   "metadata": {
    "execution": {
     "iopub.execute_input": "2023-10-17T06:20:04.493525Z",
     "iopub.status.busy": "2023-10-17T06:20:04.493144Z",
     "iopub.status.idle": "2023-10-17T06:20:04.498163Z",
     "shell.execute_reply": "2023-10-17T06:20:04.497570Z",
     "shell.execute_reply.started": "2023-10-17T06:20:04.493488Z"
    },
    "tags": []
   },
   "outputs": [
    {
     "data": {
      "text/plain": [
       "141"
      ]
     },
     "execution_count": 7,
     "metadata": {},
     "output_type": "execute_result"
    }
   ],
   "source": [
    "all_groups = [f\"{modified_name}.{age}\" for modified_name in shared_modified_names for age in ['8wk','9mo','18mo']]\n",
    "all_groups = sorted(all_groups)\n",
    "len(all_groups)"
   ]
  },
  {
   "cell_type": "code",
   "execution_count": 8,
   "id": "6029970f-acf6-4b83-9f44-4668bd998672",
   "metadata": {
    "execution": {
     "iopub.execute_input": "2023-10-17T06:20:04.499267Z",
     "iopub.status.busy": "2023-10-17T06:20:04.498923Z",
     "iopub.status.idle": "2023-10-17T06:20:04.504083Z",
     "shell.execute_reply": "2023-10-17T06:20:04.503487Z",
     "shell.execute_reply.started": "2023-10-17T06:20:04.499233Z"
    },
    "tags": []
   },
   "outputs": [
    {
     "data": {
      "text/plain": [
       "['Astro-NN.18mo',\n",
       " 'Astro-NN.8wk',\n",
       " 'Astro-NN.9mo',\n",
       " 'CA1-ProS-Glut.18mo',\n",
       " 'CA1-ProS-Glut.8wk']"
      ]
     },
     "execution_count": 8,
     "metadata": {},
     "output_type": "execute_result"
    }
   ],
   "source": [
    "all_groups = [group.replace(' ','-') for group in all_groups]\n",
    "all_groups[:5]"
   ]
  },
  {
   "cell_type": "code",
   "execution_count": 7,
   "id": "ddf198f7-ed84-4315-9c27-2aa719946990",
   "metadata": {
    "execution": {
     "iopub.execute_input": "2024-01-15T23:18:22.201797Z",
     "iopub.status.busy": "2024-01-15T23:18:22.201512Z",
     "iopub.status.idle": "2024-01-15T23:18:22.204995Z",
     "shell.execute_reply": "2024-01-15T23:18:22.204483Z",
     "shell.execute_reply.started": "2024-01-15T23:18:22.201775Z"
    },
    "tags": []
   },
   "outputs": [],
   "source": [
    "groups = joblib.load('remain_groups')"
   ]
  },
  {
   "cell_type": "code",
   "execution_count": 11,
   "id": "086b4cb9-b5ed-422f-918e-1251d7c10a20",
   "metadata": {
    "execution": {
     "iopub.execute_input": "2024-01-15T23:18:45.584148Z",
     "iopub.status.busy": "2024-01-15T23:18:45.583556Z",
     "iopub.status.idle": "2024-01-15T23:18:45.589274Z",
     "shell.execute_reply": "2024-01-15T23:18:45.588685Z",
     "shell.execute_reply.started": "2024-01-15T23:18:45.584107Z"
    },
    "tags": []
   },
   "outputs": [],
   "source": [
    "groups = ['MEA-COA_Glut.8wk',\n",
    " 'MEA-COA_Glut.9mo',\n",
    " 'MEA-COA_Glut.18mo',\n",
    " #'Astro-TE_NN.8wk',\n",
    " 'Astro-TE_NN.9mo',\n",
    " 'Astro-TE_NN.18mo',\n",
    " 'STR_D1_Sema5a_Gaba.8wk',\n",
    " 'STR_D1_Sema5a_Gaba.9mo',\n",
    " 'STR_D1_Sema5a_Gaba.18mo',\n",
    " 'Vip_Gaba.8wk',\n",
    " 'Vip_Gaba.9mo',\n",
    " 'Vip_Gaba.18mo',\n",
    " 'PAG-PPN_Pax5_Sox21_Gaba.8wk',\n",
    " 'PAG-PPN_Pax5_Sox21_Gaba.9mo',\n",
    " 'PAG-PPN_Pax5_Sox21_Gaba.18mo',\n",
    " 'Astro-NT_NN.8wk',\n",
    " 'Astro-NT_NN.9mo',\n",
    " 'Astro-NT_NN.18mo',\n",
    " 'PB_Evx2_Glut.8wk',\n",
    " 'PB_Evx2_Glut.9mo',\n",
    " 'PB_Evx2_Glut.18mo',\n",
    " 'LDT-PCG-CS_Gata3_Lhx1_Gaba.8wk',\n",
    " 'LDT-PCG-CS_Gata3_Lhx1_Gaba.9mo',\n",
    " 'LDT-PCG-CS_Gata3_Lhx1_Gaba.18mo']"
   ]
  },
  {
   "cell_type": "code",
   "execution_count": 12,
   "id": "e277541a-fe70-4d4d-8e86-f8fc831ed673",
   "metadata": {
    "execution": {
     "iopub.execute_input": "2024-01-15T23:18:48.835834Z",
     "iopub.status.busy": "2024-01-15T23:18:48.835543Z",
     "iopub.status.idle": "2024-01-15T23:18:48.865445Z",
     "shell.execute_reply": "2024-01-15T23:18:48.864995Z",
     "shell.execute_reply.started": "2024-01-15T23:18:48.835810Z"
    },
    "tags": []
   },
   "outputs": [],
   "source": [
    "notebook_snakemake(\n",
    "    work_dir = 'total_merge_balance_allc', \n",
    "    notebook_dir = 'template', \n",
    "    groups = groups, \n",
    "    group_files=None, \n",
    "    default_cpu=5, \n",
    "    default_mem_gb=20, \n",
    "    redo_prepare=False\n",
    ")"
   ]
  },
  {
   "cell_type": "code",
   "execution_count": 9,
   "id": "1d69d746-ee17-4ad3-bfb2-d0ad7d011759",
   "metadata": {
    "execution": {
     "iopub.execute_input": "2024-01-15T23:12:00.241676Z",
     "iopub.status.busy": "2024-01-15T23:12:00.241244Z",
     "iopub.status.idle": "2024-01-15T23:12:00.369552Z",
     "shell.execute_reply": "2024-01-15T23:12:00.368872Z",
     "shell.execute_reply.started": "2024-01-15T23:12:00.241648Z"
    }
   },
   "outputs": [
    {
     "name": "stdout",
     "output_type": "stream",
     "text": [
      "/home/qzeng/project/aging/230907-recall-dmr/Merge_DMR\n"
     ]
    }
   ],
   "source": [
    "! pwd"
   ]
  },
  {
   "cell_type": "code",
   "execution_count": null,
   "id": "d3976415-4536-454f-8770-33604e533eae",
   "metadata": {},
   "outputs": [],
   "source": []
  },
  {
   "cell_type": "code",
   "execution_count": null,
   "id": "fdcd5eea-bd11-4d38-b374-2dd1a0ee99ac",
   "metadata": {},
   "outputs": [],
   "source": []
  },
  {
   "cell_type": "code",
   "execution_count": null,
   "id": "ffd2cd53-dc22-41a1-8f34-06f12cd4b3f1",
   "metadata": {},
   "outputs": [],
   "source": []
  },
  {
   "cell_type": "code",
   "execution_count": null,
   "id": "812cc367-5220-4568-9951-7dd79adf3005",
   "metadata": {},
   "outputs": [],
   "source": []
  },
  {
   "cell_type": "code",
   "execution_count": null,
   "id": "1201910e-a9cb-438c-852d-e00434adaa1a",
   "metadata": {},
   "outputs": [],
   "source": []
  },
  {
   "cell_type": "code",
   "execution_count": null,
   "id": "ab25a8e9-46b3-474e-80d7-8772c69accc7",
   "metadata": {},
   "outputs": [],
   "source": []
  },
  {
   "cell_type": "code",
   "execution_count": null,
   "id": "32af939d-f98d-4b27-8446-60db7f22d83f",
   "metadata": {},
   "outputs": [],
   "source": []
  },
  {
   "cell_type": "code",
   "execution_count": null,
   "id": "086ec581-ea8c-49a7-a20c-ba97b79f9385",
   "metadata": {},
   "outputs": [],
   "source": []
  }
 ],
 "metadata": {
  "kernelspec": {
   "display_name": "Python 3 (ipykernel)",
   "language": "python",
   "name": "python3"
  },
  "language_info": {
   "codemirror_mode": {
    "name": "ipython",
    "version": 3
   },
   "file_extension": ".py",
   "mimetype": "text/x-python",
   "name": "python",
   "nbconvert_exporter": "python",
   "pygments_lexer": "ipython3",
   "version": "3.7.12"
  }
 },
 "nbformat": 4,
 "nbformat_minor": 5
}
