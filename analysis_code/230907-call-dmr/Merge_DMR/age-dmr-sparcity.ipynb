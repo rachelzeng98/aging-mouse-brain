{
 "cells": [
  {
   "cell_type": "code",
   "execution_count": 1,
   "id": "45325642-73a4-4b14-a317-18d5e322216b",
   "metadata": {
    "execution": {
     "iopub.execute_input": "2024-08-19T23:41:39.524082Z",
     "iopub.status.busy": "2024-08-19T23:41:39.523886Z",
     "iopub.status.idle": "2024-08-19T23:41:39.987163Z",
     "shell.execute_reply": "2024-08-19T23:41:39.986209Z",
     "shell.execute_reply.started": "2024-08-19T23:41:39.524058Z"
    },
    "tags": []
   },
   "outputs": [],
   "source": [
    "import glob\n",
    "import joblib\n",
    "import pandas as pd\n",
    "from tqdm import tqdm"
   ]
  },
  {
   "cell_type": "code",
   "execution_count": 2,
   "id": "b0acc760-1331-4f96-a4d8-b069e56a1302",
   "metadata": {
    "execution": {
     "iopub.execute_input": "2024-08-19T23:41:39.988666Z",
     "iopub.status.busy": "2024-08-19T23:41:39.988191Z",
     "iopub.status.idle": "2024-08-19T23:41:39.992502Z",
     "shell.execute_reply": "2024-08-19T23:41:39.991607Z",
     "shell.execute_reply.started": "2024-08-19T23:41:39.988640Z"
    },
    "tags": []
   },
   "outputs": [],
   "source": [
    "dmr_dir = '/home/qzeng/project/aging/230907-recall-dmr/Merge_DMR/mC_FILTER_DMR_BED'"
   ]
  },
  {
   "cell_type": "code",
   "execution_count": 3,
   "id": "7f6841d2-cf75-4c49-b515-6084d3e79b86",
   "metadata": {
    "execution": {
     "iopub.execute_input": "2024-08-19T23:41:39.993516Z",
     "iopub.status.busy": "2024-08-19T23:41:39.993281Z",
     "iopub.status.idle": "2024-08-19T23:41:39.996611Z",
     "shell.execute_reply": "2024-08-19T23:41:39.996082Z",
     "shell.execute_reply.started": "2024-08-19T23:41:39.993497Z"
    },
    "tags": []
   },
   "outputs": [],
   "source": [
    "meta_dir = '/home/qzeng/project/aging/metadata'"
   ]
  },
  {
   "cell_type": "code",
   "execution_count": 4,
   "id": "c1c451b5-3605-4bba-ab25-c694d4f3b4d6",
   "metadata": {
    "execution": {
     "iopub.execute_input": "2024-08-19T23:41:39.997659Z",
     "iopub.status.busy": "2024-08-19T23:41:39.997454Z",
     "iopub.status.idle": "2024-08-19T23:41:40.002065Z",
     "shell.execute_reply": "2024-08-19T23:41:40.001332Z",
     "shell.execute_reply.started": "2024-08-19T23:41:39.997641Z"
    },
    "tags": []
   },
   "outputs": [],
   "source": [
    "use_cts = joblib.load(f\"{meta_dir}/shared_use_cts\")\n",
    "use_cts = [ct.replace('/','').replace(' ','_') for ct in use_cts]"
   ]
  },
  {
   "cell_type": "code",
   "execution_count": 5,
   "id": "4a210cd4-2ee0-4d15-94e2-85648c8a4ea0",
   "metadata": {
    "execution": {
     "iopub.execute_input": "2024-08-19T23:41:40.003004Z",
     "iopub.status.busy": "2024-08-19T23:41:40.002799Z",
     "iopub.status.idle": "2024-08-19T23:41:40.451641Z",
     "shell.execute_reply": "2024-08-19T23:41:40.450916Z",
     "shell.execute_reply.started": "2024-08-19T23:41:40.002985Z"
    },
    "tags": []
   },
   "outputs": [
    {
     "name": "stderr",
     "output_type": "stream",
     "text": [
      "100%|███████████████████████████████████████████| 36/36 [00:00<00:00, 81.69it/s]\n"
     ]
    }
   ],
   "source": [
    "total_num = 0\n",
    "\n",
    "for ct in tqdm(use_cts):\n",
    "    tmpdf = pd.read_csv(f'{dmr_dir}/{ct}.Hypo-Hyper.aDMR.bed', sep = '\\t', header =None)\n",
    "    tmpdf['length'] = tmpdf[2] - tmpdf[1]\n",
    "    total_num += tmpdf['length'].sum()\n"
   ]
  },
  {
   "cell_type": "code",
   "execution_count": 6,
   "id": "236a5109-e15e-4cea-846f-3993978a79fb",
   "metadata": {
    "execution": {
     "iopub.execute_input": "2024-08-19T23:41:40.453981Z",
     "iopub.status.busy": "2024-08-19T23:41:40.453755Z",
     "iopub.status.idle": "2024-08-19T23:41:40.460707Z",
     "shell.execute_reply": "2024-08-19T23:41:40.460141Z",
     "shell.execute_reply.started": "2024-08-19T23:41:40.453960Z"
    },
    "tags": []
   },
   "outputs": [
    {
     "data": {
      "text/plain": [
       "35207217"
      ]
     },
     "execution_count": 6,
     "metadata": {},
     "output_type": "execute_result"
    }
   ],
   "source": [
    "total_num"
   ]
  },
  {
   "cell_type": "code",
   "execution_count": 7,
   "id": "3de389b7-ddd1-498e-8163-39e3c2758290",
   "metadata": {
    "execution": {
     "iopub.execute_input": "2024-08-19T23:41:40.461469Z",
     "iopub.status.busy": "2024-08-19T23:41:40.461265Z",
     "iopub.status.idle": "2024-08-19T23:41:40.467949Z",
     "shell.execute_reply": "2024-08-19T23:41:40.467159Z",
     "shell.execute_reply.started": "2024-08-19T23:41:40.461450Z"
    },
    "tags": []
   },
   "outputs": [],
   "source": [
    "chrom_size = pd.read_csv('/home/qzeng/ref/mouse/mm10/genome/mm10.main.chrom.sizes', sep = '\\t', header = None)\n",
    "chrom_size = chrom_size[~chrom_size[0].isin(['chrM', 'chrY'])]"
   ]
  },
  {
   "cell_type": "code",
   "execution_count": 8,
   "id": "7bfd3698-3378-4ea6-8c9f-4810f40b13d9",
   "metadata": {
    "execution": {
     "iopub.execute_input": "2024-08-19T23:41:40.468867Z",
     "iopub.status.busy": "2024-08-19T23:41:40.468671Z",
     "iopub.status.idle": "2024-08-19T23:41:40.472658Z",
     "shell.execute_reply": "2024-08-19T23:41:40.471946Z",
     "shell.execute_reply.started": "2024-08-19T23:41:40.468849Z"
    },
    "tags": []
   },
   "outputs": [],
   "source": [
    "genome_length = chrom_size[1].sum()"
   ]
  },
  {
   "cell_type": "code",
   "execution_count": 9,
   "id": "ed786533-1d5a-4223-8634-be12f8863d45",
   "metadata": {
    "execution": {
     "iopub.execute_input": "2024-08-19T23:41:40.473592Z",
     "iopub.status.busy": "2024-08-19T23:41:40.473399Z",
     "iopub.status.idle": "2024-08-19T23:41:40.478148Z",
     "shell.execute_reply": "2024-08-19T23:41:40.477597Z",
     "shell.execute_reply.started": "2024-08-19T23:41:40.473575Z"
    }
   },
   "outputs": [
    {
     "data": {
      "text/plain": [
       "0.013367578722331398"
      ]
     },
     "execution_count": 9,
     "metadata": {},
     "output_type": "execute_result"
    }
   ],
   "source": [
    "total_num /genome_length"
   ]
  },
  {
   "cell_type": "code",
   "execution_count": null,
   "id": "32b787ac-fa5c-457e-a04c-1ccaa0b3ea39",
   "metadata": {},
   "outputs": [],
   "source": []
  },
  {
   "cell_type": "code",
   "execution_count": null,
   "id": "1acbb2e3-58f5-4272-85a7-03dd96a1fc33",
   "metadata": {},
   "outputs": [],
   "source": []
  },
  {
   "cell_type": "code",
   "execution_count": null,
   "id": "f376b71b-bf4a-4113-b545-cd71a9103a28",
   "metadata": {},
   "outputs": [],
   "source": []
  },
  {
   "cell_type": "code",
   "execution_count": null,
   "id": "09f9d508-fff2-46c0-9e06-aee068c7c8dc",
   "metadata": {},
   "outputs": [],
   "source": []
  },
  {
   "cell_type": "code",
   "execution_count": null,
   "id": "345f7f28-c429-474a-9439-379da771a38f",
   "metadata": {},
   "outputs": [],
   "source": []
  },
  {
   "cell_type": "code",
   "execution_count": null,
   "id": "0d5de574-05eb-4ace-817f-699869e2e209",
   "metadata": {},
   "outputs": [],
   "source": []
  },
  {
   "cell_type": "code",
   "execution_count": null,
   "id": "94334879-9f4f-4553-949e-8c20a4ed6529",
   "metadata": {},
   "outputs": [],
   "source": []
  },
  {
   "cell_type": "code",
   "execution_count": null,
   "id": "f29b9fe6-4292-4561-8d09-3bb2d5b95cc5",
   "metadata": {},
   "outputs": [],
   "source": []
  },
  {
   "cell_type": "code",
   "execution_count": null,
   "id": "58bcdf16-97ae-46d9-9551-d7736943cd19",
   "metadata": {},
   "outputs": [],
   "source": []
  },
  {
   "cell_type": "code",
   "execution_count": null,
   "id": "65cbb204-a15e-4a74-b02d-5944821c7212",
   "metadata": {},
   "outputs": [],
   "source": []
  },
  {
   "cell_type": "code",
   "execution_count": null,
   "id": "86c31da5-cc5c-48a1-a78d-56e3cac7570d",
   "metadata": {},
   "outputs": [],
   "source": []
  },
  {
   "cell_type": "code",
   "execution_count": null,
   "id": "45dbe92d-eeef-4a0d-89dd-7de4616bf397",
   "metadata": {},
   "outputs": [],
   "source": []
  }
 ],
 "metadata": {
  "kernelspec": {
   "display_name": "Python 3 (ipykernel)",
   "language": "python",
   "name": "python3"
  },
  "language_info": {
   "codemirror_mode": {
    "name": "ipython",
    "version": 3
   },
   "file_extension": ".py",
   "mimetype": "text/x-python",
   "name": "python",
   "nbconvert_exporter": "python",
   "pygments_lexer": "ipython3",
   "version": "3.7.12"
  }
 },
 "nbformat": 4,
 "nbformat_minor": 5
}
