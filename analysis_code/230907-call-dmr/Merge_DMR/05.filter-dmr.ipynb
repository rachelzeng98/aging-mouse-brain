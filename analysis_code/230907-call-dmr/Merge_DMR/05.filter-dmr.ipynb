{
 "cells": [
  {
   "cell_type": "code",
   "execution_count": 1,
   "id": "515a3a25-8edb-4a94-87a3-28e0cfc6ed4a",
   "metadata": {
    "execution": {
     "iopub.execute_input": "2024-01-16T19:22:13.746543Z",
     "iopub.status.busy": "2024-01-16T19:22:13.745985Z",
     "iopub.status.idle": "2024-01-16T19:22:16.426024Z",
     "shell.execute_reply": "2024-01-16T19:22:16.425040Z",
     "shell.execute_reply.started": "2024-01-16T19:22:13.746518Z"
    },
    "tags": []
   },
   "outputs": [],
   "source": [
    "import pandas as pd\n",
    "from ALLCools.mcds import MCDS\n",
    "import glob\n",
    "from tqdm import tqdm\n",
    "import pathlib"
   ]
  },
  {
   "cell_type": "code",
   "execution_count": 2,
   "id": "8930f32d-9b6c-4f42-978e-29e65865e641",
   "metadata": {
    "execution": {
     "iopub.execute_input": "2024-01-16T19:22:16.428056Z",
     "iopub.status.busy": "2024-01-16T19:22:16.427716Z",
     "iopub.status.idle": "2024-01-16T19:22:16.431350Z",
     "shell.execute_reply": "2024-01-16T19:22:16.430874Z",
     "shell.execute_reply.started": "2024-01-16T19:22:16.428030Z"
    },
    "tags": []
   },
   "outputs": [],
   "source": [
    "obs_dim='sample'\n",
    "region_dim='dmr_region'\n",
    "min_delta_change = 0.2"
   ]
  },
  {
   "cell_type": "code",
   "execution_count": 10,
   "id": "044f5c90-4c45-4e5c-b0c6-7aa223f16855",
   "metadata": {
    "execution": {
     "iopub.execute_input": "2024-01-16T19:24:46.354347Z",
     "iopub.status.busy": "2024-01-16T19:24:46.353950Z",
     "iopub.status.idle": "2024-01-16T19:24:46.357097Z",
     "shell.execute_reply": "2024-01-16T19:24:46.356589Z",
     "shell.execute_reply.started": "2024-01-16T19:24:46.354324Z"
    },
    "tags": []
   },
   "outputs": [],
   "source": [
    "_dir = 'mC_RAW_DMR_ZARR'\n",
    "output_dir = 'mC_FILTER_DMR_BED'"
   ]
  },
  {
   "cell_type": "code",
   "execution_count": 4,
   "id": "dec78f8b-81d7-4f76-bba1-816917919752",
   "metadata": {
    "execution": {
     "iopub.execute_input": "2024-01-16T19:22:18.107042Z",
     "iopub.status.busy": "2024-01-16T19:22:18.106671Z",
     "iopub.status.idle": "2024-01-16T19:22:18.110581Z",
     "shell.execute_reply": "2024-01-16T19:22:18.109962Z",
     "shell.execute_reply.started": "2024-01-16T19:22:18.107018Z"
    },
    "tags": []
   },
   "outputs": [],
   "source": [
    "pathlib.Path(output_dir).mkdir(parents=True, exist_ok=True)"
   ]
  },
  {
   "cell_type": "code",
   "execution_count": 5,
   "id": "82caed30-7962-40c8-8804-4ac4e5fd35f4",
   "metadata": {
    "execution": {
     "iopub.execute_input": "2024-01-16T19:22:26.248168Z",
     "iopub.status.busy": "2024-01-16T19:22:26.247794Z",
     "iopub.status.idle": "2024-01-16T19:22:26.253891Z",
     "shell.execute_reply": "2024-01-16T19:22:26.253401Z",
     "shell.execute_reply.started": "2024-01-16T19:22:26.248137Z"
    },
    "tags": []
   },
   "outputs": [
    {
     "name": "stderr",
     "output_type": "stream",
     "text": [
      "  0%|                                                                                      | 0/8 [00:00<?, ?it/s]\n"
     ]
    }
   ],
   "source": [
    "for path in tqdm(glob.glob(f'{_dir}/*')):\n",
    "    break"
   ]
  },
  {
   "cell_type": "code",
   "execution_count": 7,
   "id": "1e358e51-bf59-47f9-b188-7f34a4bf75d3",
   "metadata": {
    "execution": {
     "iopub.execute_input": "2024-01-16T19:23:33.948847Z",
     "iopub.status.busy": "2024-01-16T19:23:33.948331Z",
     "iopub.status.idle": "2024-01-16T19:23:33.953115Z",
     "shell.execute_reply": "2024-01-16T19:23:33.952493Z",
     "shell.execute_reply.started": "2024-01-16T19:23:33.948808Z"
    },
    "tags": []
   },
   "outputs": [],
   "source": [
    "left_cts = ['Astro-NT_NN',\n",
    " 'Astro-TE_NN',\n",
    " 'LDT-PCG-CS_Gata3_Lhx1_Gaba',\n",
    " 'MEA-COA_Glut',\n",
    " 'PAG-PPN_Pax5_Sox21_Gaba',\n",
    " 'PB_Evx2_Glut',\n",
    " 'STR_D1_Sema5a_Gaba',\n",
    " 'Vip_Gaba']"
   ]
  },
  {
   "cell_type": "code",
   "execution_count": 12,
   "id": "e07d349e-606b-4bd1-91fc-c635ce100629",
   "metadata": {
    "execution": {
     "iopub.execute_input": "2024-01-16T19:25:14.647251Z",
     "iopub.status.busy": "2024-01-16T19:25:14.646891Z",
     "iopub.status.idle": "2024-01-16T19:25:23.661574Z",
     "shell.execute_reply": "2024-01-16T19:25:23.660859Z",
     "shell.execute_reply.started": "2024-01-16T19:25:14.647229Z"
    },
    "tags": []
   },
   "outputs": [],
   "source": [
    "for celltype in left_cts:\n",
    "    path = f'{_dir}/{celltype}'\n",
    "    mcds = MCDS.open(\n",
    "        mcds_paths = path, \n",
    "        obs_dim=obs_dim, \n",
    "        var_dim=region_dim)\n",
    "    \n",
    "    mc_df = mcds['dmr_region_da'].sel(count_type = 'mc')\n",
    "    cov_df = mcds['dmr_region_da'].sel(count_type = 'cov')\n",
    "    frac_df = mc_df/cov_df\n",
    "    frac_df = frac_df.to_pandas()\n",
    "    \n",
    "    # filter for delta change\n",
    "    delta_change = frac_df.max() - frac_df.min()\n",
    "    use_dmrs = delta_change[delta_change > min_delta_change].index\n",
    "    \n",
    "    dmr_bed = pd.read_csv(f'DMR-with-id/{celltype}.with-ID.DMR.bed', sep = '\\t', header = None)\n",
    "    dmr_bed = dmr_bed[dmr_bed[3].isin(use_dmrs)]\n",
    "    \n",
    "    try:\n",
    "        dmr_bed['8wk'] = dmr_bed[3].map(frac_df.T[f'{celltype}.8wk'])\n",
    "        dmr_bed['9mo'] = dmr_bed[3].map(frac_df.T[f'{celltype}.9mo'])\n",
    "        dmr_bed['18mo'] = dmr_bed[3].map(frac_df.T[f'{celltype}.18mo'])\n",
    "        \n",
    "        dmr_bed['8wk'] = round(dmr_bed['8wk'],2)\n",
    "        dmr_bed['9mo'] = round(dmr_bed['9mo'],2)\n",
    "        dmr_bed['18mo'] = round(dmr_bed['18mo'],2)\n",
    "        \n",
    "    except KeyError:\n",
    "        print(celltype)\n",
    "    \n",
    "    hyper_dmr = dmr_bed[(dmr_bed['8wk']<= dmr_bed['9mo']) & (dmr_bed['9mo']<= dmr_bed['18mo'])]\n",
    "    hypo_dmr = dmr_bed[(dmr_bed['8wk']>= dmr_bed['9mo']) & (dmr_bed['9mo'] >= dmr_bed['18mo'])]\n",
    "    \n",
    "    hypo_hyper_dmr = pd.concat([hyper_dmr, hypo_dmr])\n",
    "    \n",
    "    hypo_hyper_dmr.to_csv(f'{output_dir}/{celltype}.Hypo-Hyper.aDMR.bed', sep = '\\t', header = None, index= False)\n",
    "    dmr_bed.to_csv(f'{output_dir}/{celltype}.Total.aDMR.bed', sep = '\\t', header = None, index= False)\n",
    "    hyper_dmr.to_csv(f'{output_dir}/{celltype}.Hyper.aDMR.bed', sep = '\\t', header = None, index= False)\n",
    "    hypo_dmr.to_csv(f'{output_dir}/{celltype}.Hypo.aDMR.bed', sep = '\\t', header = None, index= False)\n"
   ]
  },
  {
   "cell_type": "code",
   "execution_count": 7,
   "id": "37324913-4062-4568-b067-c96819fcb4fe",
   "metadata": {
    "execution": {
     "iopub.execute_input": "2023-11-25T21:43:37.471509Z",
     "iopub.status.busy": "2023-11-25T21:43:37.471130Z",
     "iopub.status.idle": "2023-11-25T21:43:37.479470Z",
     "shell.execute_reply": "2023-11-25T21:43:37.479027Z",
     "shell.execute_reply.started": "2023-11-25T21:43:37.471483Z"
    },
    "tags": []
   },
   "outputs": [],
   "source": []
  },
  {
   "cell_type": "code",
   "execution_count": 6,
   "id": "1e89c92c-e472-40eb-87e8-549e3cf7b23a",
   "metadata": {
    "execution": {
     "iopub.execute_input": "2023-10-19T20:55:33.055433Z",
     "iopub.status.busy": "2023-10-19T20:55:33.055149Z",
     "iopub.status.idle": "2023-10-19T20:55:33.196968Z",
     "shell.execute_reply": "2023-10-19T20:55:33.195940Z",
     "shell.execute_reply.started": "2023-10-19T20:55:33.055411Z"
    },
    "tags": []
   },
   "outputs": [
    {
     "name": "stdout",
     "output_type": "stream",
     "text": [
      "/home/qzeng/project/aging/230907-recall-dmr/Merge_DMR\n"
     ]
    }
   ],
   "source": [
    "!pwd"
   ]
  },
  {
   "cell_type": "code",
   "execution_count": null,
   "id": "54a3f13c-a7a7-4ef9-a642-ddd303e458cb",
   "metadata": {},
   "outputs": [],
   "source": []
  },
  {
   "cell_type": "code",
   "execution_count": null,
   "id": "32fc98dc-bdd9-4937-8109-c95f1726b65a",
   "metadata": {},
   "outputs": [],
   "source": []
  },
  {
   "cell_type": "code",
   "execution_count": null,
   "id": "8aa2b68f-e001-4f3d-9831-28dece6a0602",
   "metadata": {},
   "outputs": [],
   "source": []
  },
  {
   "cell_type": "code",
   "execution_count": null,
   "id": "9ba3fd66-a9ad-460f-aa06-a94165f11a7a",
   "metadata": {},
   "outputs": [],
   "source": []
  },
  {
   "cell_type": "code",
   "execution_count": null,
   "id": "0071fb6e-578b-456d-9eee-b21b311a27c4",
   "metadata": {},
   "outputs": [],
   "source": []
  },
  {
   "cell_type": "code",
   "execution_count": null,
   "id": "eaf321a9-c1cd-4fa1-99bd-31d8f13167b8",
   "metadata": {},
   "outputs": [],
   "source": []
  },
  {
   "cell_type": "code",
   "execution_count": null,
   "id": "c1abc8bb-53c9-44d3-bbfd-12a84b3fe624",
   "metadata": {},
   "outputs": [],
   "source": []
  },
  {
   "cell_type": "code",
   "execution_count": null,
   "id": "0ce94016-b453-4dfb-bd0e-d71a982c1712",
   "metadata": {},
   "outputs": [],
   "source": []
  }
 ],
 "metadata": {
  "kernelspec": {
   "display_name": "Python 3 (ipykernel)",
   "language": "python",
   "name": "python3"
  },
  "language_info": {
   "codemirror_mode": {
    "name": "ipython",
    "version": 3
   },
   "file_extension": ".py",
   "mimetype": "text/x-python",
   "name": "python",
   "nbconvert_exporter": "python",
   "pygments_lexer": "ipython3",
   "version": "3.7.12"
  }
 },
 "nbformat": 4,
 "nbformat_minor": 5
}
