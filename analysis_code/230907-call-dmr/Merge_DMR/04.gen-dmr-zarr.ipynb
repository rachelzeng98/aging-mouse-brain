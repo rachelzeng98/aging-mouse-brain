{
 "cells": [
  {
   "cell_type": "code",
   "execution_count": 1,
   "id": "a288022d-1a5d-4471-8edc-2aa39e6aaf94",
   "metadata": {
    "execution": {
     "iopub.execute_input": "2024-01-16T19:06:55.965974Z",
     "iopub.status.busy": "2024-01-16T19:06:55.965415Z",
     "iopub.status.idle": "2024-01-16T19:07:00.358552Z",
     "shell.execute_reply": "2024-01-16T19:07:00.357806Z",
     "shell.execute_reply.started": "2024-01-16T19:06:55.965952Z"
    },
    "tags": []
   },
   "outputs": [
    {
     "name": "stderr",
     "output_type": "stream",
     "text": [
      "2024-01-16 11:06:58,545\tINFO services.py:1476 -- View the Ray dashboard at \u001b[1m\u001b[32mhttp://127.0.0.1:8265\u001b[39m\u001b[22m\n"
     ]
    },
    {
     "data": {
      "text/plain": [
       "RayContext(dashboard_url='127.0.0.1:8265', python_version='3.7.12', ray_version='1.13.0', ray_commit='e4ce38d001dbbe09cd21c497fedd03d692b2be3e', address_info={'node_ip_address': '10.7.30.230', 'raylet_ip_address': '10.7.30.230', 'redis_address': None, 'object_store_address': '/tmp/ray_rachel/session_2024-01-16_11-06-56_315861_389651/sockets/plasma_store', 'raylet_socket_name': '/tmp/ray_rachel/session_2024-01-16_11-06-56_315861_389651/sockets/raylet', 'webui_url': '127.0.0.1:8265', 'session_dir': '/tmp/ray_rachel/session_2024-01-16_11-06-56_315861_389651', 'metrics_export_port': 65236, 'gcs_address': '10.7.30.230:59047', 'address': '10.7.30.230:59047', 'node_id': '665d6feede38254ed9936dba6af9bb2d4bd7c8e866f4959a2285ac7b'})"
      ]
     },
     "execution_count": 1,
     "metadata": {},
     "output_type": "execute_result"
    }
   ],
   "source": [
    "import ray\n",
    "ray.init(ignore_reinit_error=True, _temp_dir='/tmp/ray_rachel')"
   ]
  },
  {
   "cell_type": "code",
   "execution_count": 2,
   "id": "4eb3871c-06a2-4b78-9bf4-72beccbd2b14",
   "metadata": {
    "execution": {
     "iopub.execute_input": "2024-01-16T19:07:00.360885Z",
     "iopub.status.busy": "2024-01-16T19:07:00.360262Z",
     "iopub.status.idle": "2024-01-16T19:07:00.369177Z",
     "shell.execute_reply": "2024-01-16T19:07:00.368529Z",
     "shell.execute_reply.started": "2024-01-16T19:07:00.360845Z"
    },
    "tags": []
   },
   "outputs": [],
   "source": [
    "@ray.remote(num_cpus=1)\n",
    "def _count_single_region_set_for_single_allc(sample, allc_path, mc_types, region_path, obs_dim, region_dim):\n",
    "    \"\"\"Get cell-by-region-by-mc_types count matrix, save to zarr.\"\"\"\n",
    "    total_mc_types = list(set(mc_types))\n",
    "\n",
    "    with pysam.TabixFile(allc_path) as allc:\n",
    "        region_ids = []\n",
    "        sample_data = []\n",
    "        region_chunks = pd.read_csv(region_path, index_col=3, sep='\\t', chunksize=2000)\n",
    "        for chunk in region_chunks:\n",
    "            region_ids += chunk.index.tolist()\n",
    "            for _, (chrom, start, end) in chunk.iterrows():\n",
    "                count_quant = _CountQuantifier(mc_types=total_mc_types)\n",
    "                try:\n",
    "                    allc_lines = allc.fetch(chrom, start, end)\n",
    "                    for line in allc_lines:\n",
    "                        count_quant.read_line(line)\n",
    "                except ValueError:\n",
    "                    # got value error, this chrom not exist in allc\n",
    "                    pass\n",
    "                sample_data.append(count_quant.summary())\n",
    "        data = xr.DataArray(\n",
    "            np.array([sample_data]),\n",
    "            coords=[[sample], region_ids, total_mc_types, [\"mc\", \"cov\"]],\n",
    "            dims=[obs_dim, region_dim, \"mc_type\", \"count_type\"],\n",
    "        )\n",
    "        return data"
   ]
  },
  {
   "cell_type": "code",
   "execution_count": 3,
   "id": "5c5d4366-6d9a-4528-b661-cb569d8a3434",
   "metadata": {
    "execution": {
     "iopub.execute_input": "2024-01-16T19:07:00.376411Z",
     "iopub.status.busy": "2024-01-16T19:07:00.376013Z",
     "iopub.status.idle": "2024-01-16T19:07:02.271848Z",
     "shell.execute_reply": "2024-01-16T19:07:02.270677Z",
     "shell.execute_reply.started": "2024-01-16T19:07:00.376390Z"
    },
    "tags": []
   },
   "outputs": [],
   "source": [
    "import pandas as pd\n",
    "import pysam\n",
    "import glob\n",
    "import pathlib\n",
    "import xarray as xr\n",
    "from ALLCools.count_matrix.dataset import _CountQuantifier\n",
    "import time\n",
    "import subprocess\n",
    "import numpy as np\n",
    "from tqdm import tqdm\n",
    "import os\n",
    "import joblib"
   ]
  },
  {
   "cell_type": "code",
   "execution_count": 4,
   "id": "2d577adc-9dad-4ce9-b300-2ac30790a728",
   "metadata": {
    "execution": {
     "iopub.execute_input": "2024-01-16T19:07:02.273510Z",
     "iopub.status.busy": "2024-01-16T19:07:02.273030Z",
     "iopub.status.idle": "2024-01-16T19:07:02.279652Z",
     "shell.execute_reply": "2024-01-16T19:07:02.278594Z",
     "shell.execute_reply.started": "2024-01-16T19:07:02.273470Z"
    },
    "tags": []
   },
   "outputs": [],
   "source": [
    "mc_types = ['CGN']\n",
    "allc_paths_dir = f\"{os.getcwd()}/Total.Balanced.Merged.Allc\"\n",
    "kind = '2-BothGender.CellType.Age'\n",
    "obs_dim='sample'\n",
    "region_dim='dmr_region'"
   ]
  },
  {
   "cell_type": "code",
   "execution_count": 5,
   "id": "7ac858d1-09f1-405b-8d85-bd73a418c2cf",
   "metadata": {
    "execution": {
     "iopub.execute_input": "2024-01-16T19:07:02.281229Z",
     "iopub.status.busy": "2024-01-16T19:07:02.280669Z",
     "iopub.status.idle": "2024-01-16T19:07:02.289772Z",
     "shell.execute_reply": "2024-01-16T19:07:02.288835Z",
     "shell.execute_reply.started": "2024-01-16T19:07:02.281186Z"
    },
    "tags": []
   },
   "outputs": [
    {
     "data": {
      "text/plain": [
       "8"
      ]
     },
     "execution_count": 5,
     "metadata": {},
     "output_type": "execute_result"
    }
   ],
   "source": [
    "ready_celltypes = [pathlib.Path(path).name.split('.')[0] for path in glob.glob(f'{kind}/DMR/*')]\n",
    "len(ready_celltypes)"
   ]
  },
  {
   "cell_type": "code",
   "execution_count": 6,
   "id": "3aab6a55-2235-4050-80af-1657ef08bc4c",
   "metadata": {
    "execution": {
     "iopub.execute_input": "2024-01-16T19:07:02.291998Z",
     "iopub.status.busy": "2024-01-16T19:07:02.291069Z",
     "iopub.status.idle": "2024-01-16T19:07:02.296807Z",
     "shell.execute_reply": "2024-01-16T19:07:02.295916Z",
     "shell.execute_reply.started": "2024-01-16T19:07:02.291941Z"
    },
    "tags": []
   },
   "outputs": [],
   "source": [
    "pathlib.Path('DMR-with-id').mkdir(parents=True, exist_ok=True)"
   ]
  },
  {
   "cell_type": "code",
   "execution_count": 7,
   "id": "a7b2fc4f-b79d-4b5d-8c76-9f558832d5cb",
   "metadata": {
    "execution": {
     "iopub.execute_input": "2024-01-16T19:07:02.298559Z",
     "iopub.status.busy": "2024-01-16T19:07:02.298189Z",
     "iopub.status.idle": "2024-01-16T19:07:02.302809Z",
     "shell.execute_reply": "2024-01-16T19:07:02.301902Z",
     "shell.execute_reply.started": "2024-01-16T19:07:02.298536Z"
    },
    "tags": []
   },
   "outputs": [],
   "source": [
    "# for celltype in tqdm(ready_celltypes):\n",
    "#     dmr_bed = pd.read_csv(f'{kind}/DMR/{celltype}.DMR.bed', sep = '\\t', header = None)\n",
    "#     dmr_bed['id'] = dmr_bed[0] + '-' + dmr_bed[1].astype(str) + '-' + dmr_bed[2].astype(str)\n",
    "#     dmr_bed.to_csv(f'DMR-with-id/{celltype}.with-ID.DMR.bed', sep = '\\t', index= None, header = None)"
   ]
  },
  {
   "cell_type": "code",
   "execution_count": 25,
   "id": "d1557ebf-431e-45b3-8cb3-cdb89792b77a",
   "metadata": {
    "execution": {
     "iopub.execute_input": "2024-01-16T19:13:17.237793Z",
     "iopub.status.busy": "2024-01-16T19:13:17.237425Z",
     "iopub.status.idle": "2024-01-16T19:13:17.241985Z",
     "shell.execute_reply": "2024-01-16T19:13:17.241424Z",
     "shell.execute_reply.started": "2024-01-16T19:13:17.237770Z"
    },
    "tags": []
   },
   "outputs": [],
   "source": [
    "use_cts = joblib.load('/home/qzeng/project/aging/metadata/mc_use_cts')\n",
    "use_cts = [ct.replace(' ','_').replace('/','') for ct in use_cts]"
   ]
  },
  {
   "cell_type": "code",
   "execution_count": 28,
   "id": "e3d60eb8-66d1-495c-a574-2264ea4166cf",
   "metadata": {
    "execution": {
     "iopub.execute_input": "2024-01-16T19:22:52.520764Z",
     "iopub.status.busy": "2024-01-16T19:22:52.520352Z",
     "iopub.status.idle": "2024-01-16T19:22:52.525987Z",
     "shell.execute_reply": "2024-01-16T19:22:52.525490Z",
     "shell.execute_reply.started": "2024-01-16T19:22:52.520731Z"
    },
    "tags": []
   },
   "outputs": [
    {
     "data": {
      "text/plain": [
       "['Astro-NT_NN',\n",
       " 'Astro-TE_NN',\n",
       " 'LDT-PCG-CS_Gata3_Lhx1_Gaba',\n",
       " 'MEA-COA_Glut',\n",
       " 'PAG-PPN_Pax5_Sox21_Gaba',\n",
       " 'PB_Evx2_Glut',\n",
       " 'STR_D1_Sema5a_Gaba',\n",
       " 'Vip_Gaba']"
      ]
     },
     "execution_count": 28,
     "metadata": {},
     "output_type": "execute_result"
    }
   ],
   "source": [
    "ready_celltypes"
   ]
  },
  {
   "cell_type": "code",
   "execution_count": 27,
   "id": "6e5b0639-c566-41ba-9ce7-573ef0b4d67f",
   "metadata": {
    "execution": {
     "iopub.execute_input": "2024-01-16T19:14:34.909262Z",
     "iopub.status.busy": "2024-01-16T19:14:34.908866Z",
     "iopub.status.idle": "2024-01-16T19:21:28.096672Z",
     "shell.execute_reply": "2024-01-16T19:21:28.096048Z",
     "shell.execute_reply.started": "2024-01-16T19:14:34.909239Z"
    },
    "tags": []
   },
   "outputs": [
    {
     "name": "stderr",
     "output_type": "stream",
     "text": [
      "100%|██████████████████████████████████████████████████████████████████████████████| 8/8 [06:53<00:00, 51.65s/it]\n"
     ]
    }
   ],
   "source": [
    "for celltype in tqdm(ready_celltypes):\n",
    "    df = pd.DataFrame()\n",
    "    df['allc_path'] = glob.glob(f'{allc_paths_dir}/{celltype}.*.CGN-Merge.allc.tsv.gz')\n",
    "    df['allc_path'] = df['allc_path'].apply(lambda x: str(pathlib.Path(x).resolve()) )\n",
    "    df['kind'] = 'BothGender.CellType.Age'\n",
    "    #df['sample'] = df.apply(lambda x: x['allc_path'].split('/')[-1].replace(x['kind']+'.','').replace('.CGN-Merge.allc.tsv.gz',''), axis=1)\n",
    "    df['sample'] = df['allc_path'].apply(lambda x: x.split('/')[-1].split('.Both-Gender.')[0])\n",
    "    allc_table = df[['sample','allc_path']].copy()\n",
    "    allc_table = allc_table.set_index('sample')['allc_path'].to_dict()\n",
    "    \n",
    "    region_path = f'DMR-with-id/{celltype}.with-ID.DMR.bed'\n",
    "    \n",
    "    results = [_count_single_region_set_for_single_allc.remote(sample, allc_path, mc_types, region_path, obs_dim, region_dim)\n",
    "           for sample, allc_path in allc_table.items()]\n",
    "    total_data = ray.get(results)\n",
    "\n",
    "    total_data = xr.Dataset({f\"{region_dim}_da\": xr.concat(total_data, dim=obs_dim)}) \n",
    "    \n",
    "    output_path = f'mC_RAW_DMR_ZARR/{celltype}'\n",
    "    output_path = pathlib.Path(output_path)\n",
    "    \n",
    "    total_data.to_zarr(output_path, mode='w')"
   ]
  },
  {
   "cell_type": "code",
   "execution_count": null,
   "id": "06d94207-19bf-4be2-bedc-4c80a8f012ee",
   "metadata": {},
   "outputs": [],
   "source": []
  },
  {
   "cell_type": "code",
   "execution_count": null,
   "id": "d742cc3b-44c7-4beb-8a43-971438772866",
   "metadata": {},
   "outputs": [],
   "source": []
  }
 ],
 "metadata": {
  "kernelspec": {
   "display_name": "Python 3 (ipykernel)",
   "language": "python",
   "name": "python3"
  },
  "language_info": {
   "codemirror_mode": {
    "name": "ipython",
    "version": 3
   },
   "file_extension": ".py",
   "mimetype": "text/x-python",
   "name": "python",
   "nbconvert_exporter": "python",
   "pygments_lexer": "ipython3",
   "version": "3.7.12"
  }
 },
 "nbformat": 4,
 "nbformat_minor": 5
}
