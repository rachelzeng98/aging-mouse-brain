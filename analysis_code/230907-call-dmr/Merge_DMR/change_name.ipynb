{
 "cells": [
  {
   "cell_type": "code",
   "execution_count": 2,
   "id": "fcce9dc2-62c9-4c64-ae32-ff4dc550b896",
   "metadata": {
    "execution": {
     "iopub.execute_input": "2024-01-16T22:36:39.882628Z",
     "iopub.status.busy": "2024-01-16T22:36:39.882097Z",
     "iopub.status.idle": "2024-01-16T22:36:39.885113Z",
     "shell.execute_reply": "2024-01-16T22:36:39.884638Z",
     "shell.execute_reply.started": "2024-01-16T22:36:39.882607Z"
    },
    "tags": []
   },
   "outputs": [],
   "source": [
    "import subprocess\n",
    "import glob"
   ]
  },
  {
   "cell_type": "code",
   "execution_count": 3,
   "id": "e4505dbb-c9c6-4fec-ae23-045c08a8f503",
   "metadata": {
    "execution": {
     "iopub.execute_input": "2024-01-16T22:36:40.034489Z",
     "iopub.status.busy": "2024-01-16T22:36:40.034118Z",
     "iopub.status.idle": "2024-01-16T22:36:40.037788Z",
     "shell.execute_reply": "2024-01-16T22:36:40.037339Z",
     "shell.execute_reply.started": "2024-01-16T22:36:40.034470Z"
    },
    "tags": []
   },
   "outputs": [],
   "source": [
    "all_files = glob.glob('*_DMR_ZARR/*')"
   ]
  },
  {
   "cell_type": "code",
   "execution_count": 6,
   "id": "8ec48d9f-1f09-4d3b-8b48-3e52a55d16f3",
   "metadata": {
    "execution": {
     "iopub.execute_input": "2024-01-16T22:37:01.339547Z",
     "iopub.status.busy": "2024-01-16T22:37:01.339255Z",
     "iopub.status.idle": "2024-01-16T22:37:01.344918Z",
     "shell.execute_reply": "2024-01-16T22:37:01.344492Z",
     "shell.execute_reply.started": "2024-01-16T22:37:01.339526Z"
    },
    "tags": []
   },
   "outputs": [],
   "source": [
    "old_to_new = {'Endo-NN': 'Endo_NN',\n",
    " 'L6-IT-CTX-Glut': 'L6_IT_CTX_Glut',\n",
    " 'SUB-ProS-Glut': 'SUB-ProS_Glut',\n",
    " 'L23-IT-ENTl-PIR-Glut': 'L23_IT_ENTl-PIR_Glut',\n",
    " 'NDB-SI-MA-STRv-Lhx8-Gaba': 'NDB-SI-MA-STRv_Lhx8_Gaba',\n",
    " 'NP-SUB-Glut': 'NP_SUB_Glut',\n",
    " 'Oligo-NN': 'Oligo_NN',\n",
    " 'STR-PAL-Chst9-Gaba': 'STR-PAL_Chst9_Gaba',\n",
    " 'L6bCT-ENT-Glut': 'L6bCT_ENT_Glut',\n",
    " 'L2-IT-PPP-APr-Glut': 'L2_IT_PPP-APr_Glut',\n",
    " 'VLMC-NN': 'VLMC_NN',\n",
    " 'STR-D1-Gaba': 'STR_D1_Gaba',\n",
    " 'CA3-Glut': 'CA3_Glut',\n",
    " 'MEA-COAp-Glut': 'MEA-COAp_Glut',\n",
    " 'L23-IT-PPP-Glut': 'L23_IT_PPP_Glut',\n",
    " 'L23-IT-ENT-Glut': 'L23_IT_ENT_Glut',\n",
    " 'Sst-Chodl-Gaba': 'Sst_Chodl_Gaba',\n",
    " 'Lamp5-Gaba': 'Lamp5_Gaba',\n",
    " 'CA2-FC-IG-Glut': 'CA2-FC-IG_Glut',\n",
    " 'Astro-NN': 'Astro_NN',\n",
    " 'ENTmv-PA-COAp-Glut': 'ENTmv-PA-COAp_Glut',\n",
    " 'L45-IT-CTX-Glut': 'L45_IT_CTX_Glut',\n",
    " 'LA-BLA-BMA-PA-Glut': 'LA-BLA-BMA-PA_Glut',\n",
    " 'CHOR-NN': 'CHOR_NN',\n",
    " 'PAG-Glut': 'PAG_Glut',\n",
    " 'MB-MY-Glut-Sero': 'MB-MY_Tph2_Glut-Sero',\n",
    " 'CA1-ProS-Glut': 'CA1-ProS_Glut',\n",
    " 'PAG-PCG': 'PAG_PCG',\n",
    " 'Microglia-NN': 'Microglia_NN',\n",
    " 'STR-D2-Gaba': 'STR_D2_Gaba',\n",
    " 'L5-IT-CTX-Glut': 'L5_IT_CTX_Glut',\n",
    " 'PAG-MRN-Pou3f1-Glut': 'PAG-MRN_Pou3f1_Glut',\n",
    " 'OT-D3-Folh1-Gaba': 'OT_D3_Folh1_Gaba',\n",
    " 'DGNBL-Glut': 'DGNBL_Glut',\n",
    " 'L5-NP-CTX-Glut': 'L5_NP_CTX_Glut',\n",
    " 'L5-ET-CTX-Glut': 'L5_ET_CTX_Glut',\n",
    " 'Pvalb-Gaba': 'Pvalb_Gaba',\n",
    " 'L6-CT-CTX-Glut': 'L6_CT_CTX_Glut',\n",
    " 'CEA-Gaba': 'CEA-BST_Gaba',\n",
    " 'Sst-Gaba': 'Sst_Gaba',\n",
    " 'DG-Glut': 'DG_Glut',\n",
    " 'L23-IT-CTX-Glut': 'L23_IT_CTX_Glut',\n",
    " 'STR-Gaba': 'STR_Gaba',\n",
    " 'VipSncg-Gaba': 'VipSncg_Gaba',\n",
    " 'OPC-NN': 'OPC_NN',\n",
    " 'MEA-COA-Glut': 'MEA-COAp_Glut',\n",
    " 'MEA-Gaba': 'MEA-BST_Gaba'}"
   ]
  },
  {
   "cell_type": "code",
   "execution_count": 11,
   "id": "33ea130a-8e20-42cd-9028-d482d3f3f5e8",
   "metadata": {
    "execution": {
     "iopub.execute_input": "2024-01-16T22:39:13.087214Z",
     "iopub.status.busy": "2024-01-16T22:39:13.086856Z",
     "iopub.status.idle": "2024-01-16T22:39:14.056677Z",
     "shell.execute_reply": "2024-01-16T22:39:14.055829Z",
     "shell.execute_reply.started": "2024-01-16T22:39:13.087192Z"
    },
    "tags": []
   },
   "outputs": [
    {
     "name": "stderr",
     "output_type": "stream",
     "text": [
      "mv: cannot stat 'Male_DMR_ZARR/MEA-COA-Glut': No such file or directory\n",
      "mv: cannot stat 'Female_DMR_ZARR/MEA-COA-Glut': No such file or directory\n"
     ]
    },
    {
     "name": "stdout",
     "output_type": "stream",
     "text": [
      "Astro-NT_NN\n",
      "Astro-TE_NN\n",
      "LDT-PCG-CS_Gata3_Lhx1_Gaba\n",
      "MEA-COA_Glut\n",
      "PAG-PPN_Pax5_Sox21_Gaba\n",
      "PB_Evx2_Glut\n",
      "STR_D1_Sema5a_Gaba\n",
      "Vip_Gaba\n"
     ]
    }
   ],
   "source": [
    "all_old_names = []\n",
    "for path in all_files:\n",
    "    old_name = path.split('/')[-1].split('.')[0]\n",
    "    if old_name in old_to_new.keys():\n",
    "        new_name = old_to_new[old_name]\n",
    "        new_path = path.replace(old_name,new_name)\n",
    "        command = f\"mv {path} {new_path}\"\n",
    "        subprocess.run(command, shell = True)\n",
    "    else:\n",
    "        print(old_name)\n",
    "       "
   ]
  },
  {
   "cell_type": "code",
   "execution_count": null,
   "id": "57029b6a-ada8-4b49-90cd-7176c5e18f56",
   "metadata": {},
   "outputs": [],
   "source": []
  },
  {
   "cell_type": "code",
   "execution_count": null,
   "id": "9d608165-a2a9-4fcd-aedc-eb448c238048",
   "metadata": {},
   "outputs": [],
   "source": []
  },
  {
   "cell_type": "code",
   "execution_count": null,
   "id": "514e648b-f908-43dd-8552-eba9d620f5ca",
   "metadata": {},
   "outputs": [],
   "source": []
  },
  {
   "cell_type": "code",
   "execution_count": null,
   "id": "e66badd8-ef4a-47f3-a3e9-36f56a8556a2",
   "metadata": {},
   "outputs": [],
   "source": []
  },
  {
   "cell_type": "code",
   "execution_count": null,
   "id": "d5a43544-9e57-4e3f-9aef-7540b70389e6",
   "metadata": {},
   "outputs": [],
   "source": []
  },
  {
   "cell_type": "code",
   "execution_count": null,
   "id": "2d52cc11-4fe8-4839-89a0-bc70f82d6ab5",
   "metadata": {},
   "outputs": [],
   "source": []
  },
  {
   "cell_type": "code",
   "execution_count": null,
   "id": "2b2d354d-cbbe-4177-9435-2bbbaeea55fe",
   "metadata": {},
   "outputs": [],
   "source": []
  },
  {
   "cell_type": "code",
   "execution_count": null,
   "id": "404b91de-6b39-4151-9209-87e6f1257410",
   "metadata": {},
   "outputs": [],
   "source": []
  },
  {
   "cell_type": "code",
   "execution_count": null,
   "id": "06434338-de27-4b0f-8941-6e2e92c074b8",
   "metadata": {},
   "outputs": [],
   "source": []
  },
  {
   "cell_type": "code",
   "execution_count": null,
   "id": "e67889e3-a2da-4b1c-b2db-0757de828e93",
   "metadata": {},
   "outputs": [],
   "source": []
  },
  {
   "cell_type": "code",
   "execution_count": null,
   "id": "8f597cb5-fdbb-4401-bea2-170b67cd52f9",
   "metadata": {},
   "outputs": [],
   "source": []
  },
  {
   "cell_type": "code",
   "execution_count": null,
   "id": "3fcd2ac0-c6ab-4f07-8d64-f672c46ad4f6",
   "metadata": {},
   "outputs": [],
   "source": []
  },
  {
   "cell_type": "code",
   "execution_count": null,
   "id": "428180a4-ca9c-4806-b4db-332339557464",
   "metadata": {},
   "outputs": [],
   "source": []
  },
  {
   "cell_type": "code",
   "execution_count": null,
   "id": "8435de4d-bbc5-4746-8345-72e3b185c28c",
   "metadata": {},
   "outputs": [],
   "source": []
  },
  {
   "cell_type": "code",
   "execution_count": null,
   "id": "737e308a-1da7-4c96-9311-eaafc3f086f1",
   "metadata": {},
   "outputs": [],
   "source": []
  }
 ],
 "metadata": {
  "kernelspec": {
   "display_name": "Python 3 (ipykernel)",
   "language": "python",
   "name": "python3"
  },
  "language_info": {
   "codemirror_mode": {
    "name": "ipython",
    "version": 3
   },
   "file_extension": ".py",
   "mimetype": "text/x-python",
   "name": "python",
   "nbconvert_exporter": "python",
   "pygments_lexer": "ipython3",
   "version": "3.7.12"
  }
 },
 "nbformat": 4,
 "nbformat_minor": 5
}
