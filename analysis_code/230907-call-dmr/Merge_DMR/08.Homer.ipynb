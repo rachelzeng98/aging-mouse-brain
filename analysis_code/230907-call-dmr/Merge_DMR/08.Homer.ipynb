{
 "cells": [
  {
   "cell_type": "code",
   "execution_count": 1,
   "id": "fb4e7b77-d748-4885-9abd-6044f52aa4d4",
   "metadata": {
    "execution": {
     "iopub.execute_input": "2024-08-09T22:27:31.650751Z",
     "iopub.status.busy": "2024-08-09T22:27:31.650154Z",
     "iopub.status.idle": "2024-08-09T22:27:32.795929Z",
     "shell.execute_reply": "2024-08-09T22:27:32.795169Z",
     "shell.execute_reply.started": "2024-08-09T22:27:31.650701Z"
    },
    "tags": []
   },
   "outputs": [],
   "source": [
    "import pandas as pd\n",
    "import glob\n",
    "import subprocess\n",
    "from collections import defaultdict\n",
    "import pathlib\n",
    "import subprocess\n",
    "import matplotlib.pyplot as plt\n",
    "\n",
    "plt.rcParams['figure.dpi'] = 100\n",
    "plt.rcParams['savefig.dpi']=300\n",
    "plt.rcParams['pdf.fonttype']=42"
   ]
  },
  {
   "cell_type": "markdown",
   "id": "f4605fde-7af8-4047-b8fc-62901ab281a7",
   "metadata": {},
   "source": [
    "## homer annot"
   ]
  },
  {
   "cell_type": "code",
   "execution_count": 21,
   "id": "da94f602-88bc-4fb1-82c0-438945f161ca",
   "metadata": {
    "execution": {
     "iopub.execute_input": "2023-11-09T06:59:49.826004Z",
     "iopub.status.busy": "2023-11-09T06:59:49.825665Z",
     "iopub.status.idle": "2023-11-09T06:59:49.828801Z",
     "shell.execute_reply": "2023-11-09T06:59:49.828243Z",
     "shell.execute_reply.started": "2023-11-09T06:59:49.825980Z"
    },
    "tags": []
   },
   "outputs": [],
   "source": [
    "_type= 'Hypo'"
   ]
  },
  {
   "cell_type": "code",
   "execution_count": 22,
   "id": "5bd8d51c-75cb-4049-978f-42c6b2c98779",
   "metadata": {
    "execution": {
     "iopub.execute_input": "2023-11-09T06:59:50.114111Z",
     "iopub.status.busy": "2023-11-09T06:59:50.113791Z",
     "iopub.status.idle": "2023-11-09T06:59:50.117490Z",
     "shell.execute_reply": "2023-11-09T06:59:50.117021Z",
     "shell.execute_reply.started": "2023-11-09T06:59:50.114089Z"
    },
    "tags": []
   },
   "outputs": [],
   "source": [
    "all_bed_files = glob.glob(f'mC_FILTER_DMR_BED/*.{_type}.aDMR.bed')"
   ]
  },
  {
   "cell_type": "code",
   "execution_count": 23,
   "id": "4b59d0e1-07d2-4deb-bbac-7e6adeddd001",
   "metadata": {
    "execution": {
     "iopub.execute_input": "2023-11-09T06:59:50.367069Z",
     "iopub.status.busy": "2023-11-09T06:59:50.366672Z",
     "iopub.status.idle": "2023-11-09T06:59:50.370551Z",
     "shell.execute_reply": "2023-11-09T06:59:50.370070Z",
     "shell.execute_reply.started": "2023-11-09T06:59:50.367048Z"
    },
    "tags": []
   },
   "outputs": [],
   "source": [
    "class_bed_files = defaultdict(list)\n",
    "for path in all_bed_files:\n",
    "    _class = pathlib.Path(path).name.split('.')[0].split('-')[-1]\n",
    "    class_bed_files[_class].append(path)"
   ]
  },
  {
   "cell_type": "code",
   "execution_count": 24,
   "id": "e2ad2439-2f3a-4666-88eb-4fd14e045fc0",
   "metadata": {
    "execution": {
     "iopub.execute_input": "2023-11-09T06:59:50.611073Z",
     "iopub.status.busy": "2023-11-09T06:59:50.610823Z",
     "iopub.status.idle": "2023-11-09T06:59:51.387199Z",
     "shell.execute_reply": "2023-11-09T06:59:51.386691Z",
     "shell.execute_reply.started": "2023-11-09T06:59:50.611054Z"
    },
    "tags": []
   },
   "outputs": [
    {
     "name": "stdout",
     "output_type": "stream",
     "text": [
      "Sero done\n",
      "NN done\n",
      "Glut done\n",
      "Gaba done\n",
      "PCG done\n"
     ]
    }
   ],
   "source": [
    "all_neuron_df_list = []\n",
    "for _class, file_list in class_bed_files.items():\n",
    "    dfs = [pd.read_csv(file, sep='\\t', header=None) for file in file_list]\n",
    "    combined_df = pd.concat(dfs, ignore_index=True)\n",
    "    combined_df = combined_df[[0,1,2]]\n",
    "    combined_df.drop_duplicates(inplace=True)\n",
    "    \n",
    "    combined_df.to_csv(f'class_combined_bed/{_class}.{_type}.combined.bed', sep='\\t', header=False, index=False)\n",
    "    if _class != 'NN':\n",
    "        all_neuron_df_list.append(combined_df)   \n",
    "    print(f'{_class} done')\n",
    "    \n",
    "all_comb_df = pd.concat(all_neuron_df_list)\n",
    "all_comb_df.drop_duplicates(inplace=True)    \n",
    "all_comb_df.to_csv(f'class_combined_bed/Neu.{_type}.combined.bed', sep='\\t', header=False, index=False)"
   ]
  },
  {
   "cell_type": "code",
   "execution_count": 25,
   "id": "371632b9-3db3-433a-ac94-cc1c22b4b4f6",
   "metadata": {
    "execution": {
     "iopub.execute_input": "2023-11-09T06:59:51.388322Z",
     "iopub.status.busy": "2023-11-09T06:59:51.388096Z",
     "iopub.status.idle": "2023-11-09T06:59:51.391095Z",
     "shell.execute_reply": "2023-11-09T06:59:51.390598Z",
     "shell.execute_reply.started": "2023-11-09T06:59:51.388302Z"
    },
    "tags": []
   },
   "outputs": [],
   "source": [
    "all_classes = ['Sero', 'NN', 'Glut', 'Gaba', 'PCG','Neu']"
   ]
  },
  {
   "cell_type": "code",
   "execution_count": 26,
   "id": "0c51ac60-8a89-470d-a7ad-50f811635785",
   "metadata": {
    "execution": {
     "iopub.execute_input": "2023-11-09T06:59:51.891625Z",
     "iopub.status.busy": "2023-11-09T06:59:51.891306Z",
     "iopub.status.idle": "2023-11-09T06:59:51.895435Z",
     "shell.execute_reply": "2023-11-09T06:59:51.894915Z",
     "shell.execute_reply.started": "2023-11-09T06:59:51.891604Z"
    },
    "tags": []
   },
   "outputs": [],
   "source": [
    "with open(f'homer.{_type}.sh', 'w') as file:\n",
    "    for _class in all_classes:\n",
    "        command = f\"annotatePeaks.pl class_combined_bed/{_class}.{_type}.combined.bed mm10 > class_combined_bed/{_class}.{_type}.annotated.txt\"\n",
    "        file.write(command)\n",
    "        file.write('\\n')"
   ]
  },
  {
   "cell_type": "markdown",
   "id": "688b6056-e819-40b0-84ea-66a29e61d8c4",
   "metadata": {
    "execution": {
     "iopub.execute_input": "2023-11-09T03:50:19.622363Z",
     "iopub.status.busy": "2023-11-09T03:50:19.622082Z",
     "iopub.status.idle": "2023-11-09T03:50:19.624718Z",
     "shell.execute_reply": "2023-11-09T03:50:19.624175Z",
     "shell.execute_reply.started": "2023-11-09T03:50:19.622340Z"
    },
    "tags": []
   },
   "source": [
    "## plot"
   ]
  },
  {
   "cell_type": "code",
   "execution_count": 22,
   "id": "1c2dbb15-fb42-4182-bb26-288e7c465e41",
   "metadata": {
    "execution": {
     "iopub.execute_input": "2024-08-09T22:32:22.624735Z",
     "iopub.status.busy": "2024-08-09T22:32:22.624235Z",
     "iopub.status.idle": "2024-08-09T22:32:22.628940Z",
     "shell.execute_reply": "2024-08-09T22:32:22.627830Z",
     "shell.execute_reply.started": "2024-08-09T22:32:22.624709Z"
    },
    "tags": []
   },
   "outputs": [],
   "source": [
    "_type= 'Hyper'\n",
    "_class = 'NN'"
   ]
  },
  {
   "cell_type": "code",
   "execution_count": 23,
   "id": "2c8b118b-eede-429f-955b-707ebd58c362",
   "metadata": {
    "execution": {
     "iopub.execute_input": "2024-08-09T22:32:22.854568Z",
     "iopub.status.busy": "2024-08-09T22:32:22.853929Z",
     "iopub.status.idle": "2024-08-09T22:32:23.723490Z",
     "shell.execute_reply": "2024-08-09T22:32:23.722785Z",
     "shell.execute_reply.started": "2024-08-09T22:32:22.854513Z"
    },
    "tags": []
   },
   "outputs": [],
   "source": [
    "\n",
    "tmpdf = pd.read_csv(f'class_combined_bed/{_class}.{_type}.annotated.txt',\n",
    "                    sep='\\t', header=0, index_col=False)\n",
    "annot = tmpdf['Annotation'].tolist()\n",
    "\n",
    "all_locations  = []\n",
    "for _ in annot:\n",
    "    location = _.split('(')[0]\n",
    "    all_locations.append(location)\n",
    "data = pd.Series(all_locations).value_counts()"
   ]
  },
  {
   "cell_type": "code",
   "execution_count": 24,
   "id": "9de8512d-336f-4fb4-8153-46e4f2a91be1",
   "metadata": {
    "execution": {
     "iopub.execute_input": "2024-08-09T22:32:23.724934Z",
     "iopub.status.busy": "2024-08-09T22:32:23.724678Z",
     "iopub.status.idle": "2024-08-09T22:32:24.033561Z",
     "shell.execute_reply": "2024-08-09T22:32:24.032891Z",
     "shell.execute_reply.started": "2024-08-09T22:32:23.724911Z"
    },
    "tags": []
   },
   "outputs": [
    {
     "data": {
      "image/png": "[encoded data removed]",
      "text/plain": [
       "<Figure size 576x576 with 1 Axes>"
      ]
     },
     "metadata": {},
     "output_type": "display_data"
    }
   ],
   "source": [
    "plt.figure(figsize=(8, 8))  # Set the figure size\n",
    "data.plot.pie(autopct='%.1f%%', startangle=90)  # autopct formats the value label on each slice\n",
    "plt.title(f'{_class} aDMR genome annotation')  # Set the title of the pie chart\n",
    "plt.ylabel('')  # Hide the y-axis label\n",
    "plt.tight_layout()\n",
    "plt.savefig(f'figure/{_class}.{_type}.aDMR.genome.annotation.pdf', dpi=300)\n",
    "plt.show()"
   ]
  },
  {
   "cell_type": "code",
   "execution_count": 8,
   "id": "a7b9a087-d40c-42e4-93ec-94af4aea910e",
   "metadata": {
    "execution": {
     "iopub.execute_input": "2024-08-09T22:28:09.399543Z",
     "iopub.status.busy": "2024-08-09T22:28:09.398363Z",
     "iopub.status.idle": "2024-08-09T22:28:09.411267Z",
     "shell.execute_reply": "2024-08-09T22:28:09.410242Z",
     "shell.execute_reply.started": "2024-08-09T22:28:09.399484Z"
    },
    "tags": []
   },
   "outputs": [
    {
     "data": {
      "text/plain": [
       "intron           52.163053\n",
       "Intergenic       35.337062\n",
       "exon              6.134237\n",
       "promoter-TSS      2.175450\n",
       "3' UTR            1.701608\n",
       "TTS               1.641919\n",
       "non-coding        0.533532\n",
       "5' UTR            0.313140\n",
       "dtype: float64"
      ]
     },
     "execution_count": 8,
     "metadata": {},
     "output_type": "execute_result"
    }
   ],
   "source": [
    "## Hypo\n",
    "percentage = data/data.sum()\n",
    "percentage*100"
   ]
  },
  {
   "cell_type": "code",
   "execution_count": 12,
   "id": "29868284-8ab2-4b9f-a466-17823e3adcab",
   "metadata": {
    "execution": {
     "iopub.execute_input": "2024-08-09T22:28:24.850033Z",
     "iopub.status.busy": "2024-08-09T22:28:24.849784Z",
     "iopub.status.idle": "2024-08-09T22:28:24.856789Z",
     "shell.execute_reply": "2024-08-09T22:28:24.856216Z",
     "shell.execute_reply.started": "2024-08-09T22:28:24.850010Z"
    }
   },
   "outputs": [
    {
     "data": {
      "text/plain": [
       "Intergenic       45.174870\n",
       "intron           42.493119\n",
       "exon              4.723931\n",
       "promoter-TSS      3.574320\n",
       "TTS               1.568572\n",
       "3' UTR            1.558452\n",
       "non-coding        0.532302\n",
       "5' UTR            0.374433\n",
       "dtype: float64"
      ]
     },
     "execution_count": 12,
     "metadata": {},
     "output_type": "execute_result"
    }
   ],
   "source": [
    "## Hyper\n",
    "percentage = data/data.sum()\n",
    "percentage*100"
   ]
  },
  {
   "cell_type": "code",
   "execution_count": null,
   "id": "dde7ec7f-0b3d-4461-ab97-d201babe0aaf",
   "metadata": {},
   "outputs": [],
   "source": []
  },
  {
   "cell_type": "code",
   "execution_count": null,
   "id": "fb321d9e-7d99-4fbb-ad74-b28e5bb0f794",
   "metadata": {},
   "outputs": [],
   "source": []
  }
 ],
 "metadata": {
  "kernelspec": {
   "display_name": "Python 3 (ipykernel)",
   "language": "python",
   "name": "python3"
  },
  "language_info": {
   "codemirror_mode": {
    "name": "ipython",
    "version": 3
   },
   "file_extension": ".py",
   "mimetype": "text/x-python",
   "name": "python",
   "nbconvert_exporter": "python",
   "pygments_lexer": "ipython3",
   "version": "3.7.12"
  }
 },
 "nbformat": 4,
 "nbformat_minor": 5
}
