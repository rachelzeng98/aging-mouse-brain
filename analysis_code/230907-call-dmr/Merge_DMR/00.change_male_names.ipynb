{
 "cells": [
  {
   "cell_type": "code",
   "execution_count": 68,
   "id": "db633eee-a31a-49dd-8e07-08ab3a57ddc6",
   "metadata": {
    "execution": {
     "iopub.execute_input": "2023-10-13T21:09:19.657890Z",
     "iopub.status.busy": "2023-10-13T21:09:19.657546Z",
     "iopub.status.idle": "2023-10-13T21:09:19.660941Z",
     "shell.execute_reply": "2023-10-13T21:09:19.660498Z",
     "shell.execute_reply.started": "2023-10-13T21:09:19.657867Z"
    },
    "tags": []
   },
   "outputs": [],
   "source": [
    "import glob\n",
    "import pathlib\n",
    "from tqdm import tqdm\n",
    "import subprocess"
   ]
  },
  {
   "cell_type": "code",
   "execution_count": 16,
   "id": "46c865ba-2b68-47a4-9088-168bba05159e",
   "metadata": {
    "execution": {
     "iopub.execute_input": "2023-10-13T18:31:04.198645Z",
     "iopub.status.busy": "2023-10-13T18:31:04.198279Z",
     "iopub.status.idle": "2023-10-13T18:31:04.201969Z",
     "shell.execute_reply": "2023-10-13T18:31:04.201349Z",
     "shell.execute_reply.started": "2023-10-13T18:31:04.198621Z"
    },
    "tags": []
   },
   "outputs": [],
   "source": [
    "_dir = '/ceph/gale-1/qzeng/amb_datasets/M.CellType.Age'"
   ]
  },
  {
   "cell_type": "code",
   "execution_count": 17,
   "id": "b7572f94-e531-44c0-bfcd-c9581f5981ae",
   "metadata": {
    "execution": {
     "iopub.execute_input": "2023-10-13T18:31:04.413639Z",
     "iopub.status.busy": "2023-10-13T18:31:04.413288Z",
     "iopub.status.idle": "2023-10-13T18:31:04.417444Z",
     "shell.execute_reply": "2023-10-13T18:31:04.416927Z",
     "shell.execute_reply.started": "2023-10-13T18:31:04.413617Z"
    },
    "tags": []
   },
   "outputs": [],
   "source": [
    "all_dirs = glob.glob(f'{_dir}/*')"
   ]
  },
  {
   "cell_type": "code",
   "execution_count": 72,
   "id": "ec004dee-6eeb-4cdf-8f51-213a03f31c42",
   "metadata": {
    "execution": {
     "iopub.execute_input": "2023-10-13T21:09:57.217510Z",
     "iopub.status.busy": "2023-10-13T21:09:57.217021Z",
     "iopub.status.idle": "2023-10-13T21:09:57.266808Z",
     "shell.execute_reply": "2023-10-13T21:09:57.266351Z",
     "shell.execute_reply.started": "2023-10-13T21:09:57.217479Z"
    },
    "tags": []
   },
   "outputs": [],
   "source": [
    "# check files with not same name\n",
    "diff_files = []\n",
    "for dir_path in all_dirs:\n",
    "    _dir_ct_name = pathlib.Path(f'{dir_path}').name.split('.')[0]\n",
    "    all_files =glob.glob(f\"{dir_path}/*\")\n",
    "    \n",
    "    for file_path in all_files:\n",
    "        file_name = pathlib.Path(file_path).name.split('.')[0]\n",
    "        post_fix_list = pathlib.Path(file_path).name.split('.')[1:]\n",
    "        if file_name != _dir_ct_name:\n",
    "            diff_files.append(file_path)"
   ]
  },
  {
   "cell_type": "code",
   "execution_count": 59,
   "id": "74640d0b-0882-47f5-b1c9-ede2fa306ecb",
   "metadata": {
    "execution": {
     "iopub.execute_input": "2023-10-13T21:06:15.732402Z",
     "iopub.status.busy": "2023-10-13T21:06:15.732041Z",
     "iopub.status.idle": "2023-10-13T21:06:15.840770Z",
     "shell.execute_reply": "2023-10-13T21:06:15.840295Z",
     "shell.execute_reply.started": "2023-10-13T21:06:15.732378Z"
    },
    "tags": []
   },
   "outputs": [],
   "source": [
    "all_command = []\n",
    "for dir_path in all_dirs:\n",
    "    _dir_ct_name = pathlib.Path(f'{dir_path}').name.split('.')[0]\n",
    "    all_files =glob.glob(f\"{dir_path}/*\")\n",
    "    \n",
    "    for file_path in all_files:\n",
    "        if file_path in diff_files:\n",
    "            file_name_postfix = '.'.join(pathlib.Path(file_path).name.split('.')[1:])\n",
    "            replace_file_name = f\"{dir_path}/{_dir_ct_name}.{file_name_postfix}\"\n",
    "            commad = f\"mv {file_path} {replace_file_name}\"\n",
    "            all_command.append(commad)"
   ]
  },
  {
   "cell_type": "code",
   "execution_count": 61,
   "id": "8bbd57db-3b6a-4ec9-93d3-7a8a4ecad2b0",
   "metadata": {
    "execution": {
     "iopub.execute_input": "2023-10-13T21:08:03.724463Z",
     "iopub.status.busy": "2023-10-13T21:08:03.724096Z",
     "iopub.status.idle": "2023-10-13T21:08:03.727311Z",
     "shell.execute_reply": "2023-10-13T21:08:03.726864Z",
     "shell.execute_reply.started": "2023-10-13T21:08:03.724440Z"
    },
    "tags": []
   },
   "outputs": [],
   "source": [
    "all_command = sorted(all_command)"
   ]
  },
  {
   "cell_type": "code",
   "execution_count": 71,
   "id": "c2d45366-75ac-4ab1-a4a3-8f23caf8a812",
   "metadata": {
    "execution": {
     "iopub.execute_input": "2023-10-13T21:09:51.367733Z",
     "iopub.status.busy": "2023-10-13T21:09:51.367376Z",
     "iopub.status.idle": "2023-10-13T21:09:53.162799Z",
     "shell.execute_reply": "2023-10-13T21:09:53.161710Z",
     "shell.execute_reply.started": "2023-10-13T21:09:51.367710Z"
    },
    "tags": []
   },
   "outputs": [
    {
     "name": "stderr",
     "output_type": "stream",
     "text": [
      "100%|██████████████████████████████████████████████████████████████████████████████████████████████████████| 235/235 [00:01<00:00, 131.43it/s]\n"
     ]
    }
   ],
   "source": [
    "for command in tqdm(all_command[8:]):\n",
    "    subprocess.run(command, shell = True)"
   ]
  },
  {
   "cell_type": "code",
   "execution_count": null,
   "id": "850440b1-64d4-4cbf-91b7-8098711421d9",
   "metadata": {},
   "outputs": [],
   "source": []
  },
  {
   "cell_type": "code",
   "execution_count": null,
   "id": "c4592020-7b55-4124-94d4-f7cdf4374054",
   "metadata": {},
   "outputs": [],
   "source": []
  },
  {
   "cell_type": "code",
   "execution_count": null,
   "id": "82148432-096b-47eb-85ab-de694b698740",
   "metadata": {},
   "outputs": [],
   "source": []
  },
  {
   "cell_type": "code",
   "execution_count": null,
   "id": "3a5f5f0e-7ac7-4332-9fa2-5fda1c32a6e2",
   "metadata": {},
   "outputs": [],
   "source": []
  },
  {
   "cell_type": "code",
   "execution_count": null,
   "id": "3905e3c1-2401-4bed-bc51-a5db3c37b2e3",
   "metadata": {},
   "outputs": [],
   "source": []
  }
 ],
 "metadata": {
  "kernelspec": {
   "display_name": "Python 3 (ipykernel)",
   "language": "python",
   "name": "python3"
  },
  "language_info": {
   "codemirror_mode": {
    "name": "ipython",
    "version": 3
   },
   "file_extension": ".py",
   "mimetype": "text/x-python",
   "name": "python",
   "nbconvert_exporter": "python",
   "pygments_lexer": "ipython3",
   "version": "3.7.12"
  }
 },
 "nbformat": 4,
 "nbformat_minor": 5
}
