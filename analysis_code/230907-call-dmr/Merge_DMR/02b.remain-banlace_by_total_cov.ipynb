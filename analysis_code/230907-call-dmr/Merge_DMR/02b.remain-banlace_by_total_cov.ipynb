{
 "cells": [
  {
   "cell_type": "code",
   "execution_count": 1,
   "id": "2370ba3a-99a0-4831-9402-f9ce9632ffee",
   "metadata": {
    "execution": {
     "iopub.execute_input": "2024-01-16T04:01:35.172700Z",
     "iopub.status.busy": "2024-01-16T04:01:35.172252Z",
     "iopub.status.idle": "2024-01-16T04:01:35.589915Z",
     "shell.execute_reply": "2024-01-16T04:01:35.589384Z",
     "shell.execute_reply.started": "2024-01-16T04:01:35.172677Z"
    },
    "tags": []
   },
   "outputs": [],
   "source": [
    "import os\n",
    "import pandas as pd\n",
    "import subprocess\n",
    "import glob\n",
    "import pysam\n",
    "from tqdm import tqdm\n",
    "import subprocess\n",
    "import joblib\n",
    "import pathlib"
   ]
  },
  {
   "cell_type": "code",
   "execution_count": 2,
   "id": "98677039-d469-489b-940b-d45e0ba9cd11",
   "metadata": {
    "execution": {
     "iopub.execute_input": "2024-01-16T04:01:35.591219Z",
     "iopub.status.busy": "2024-01-16T04:01:35.590864Z",
     "iopub.status.idle": "2024-01-16T04:01:35.593724Z",
     "shell.execute_reply": "2024-01-16T04:01:35.593305Z",
     "shell.execute_reply.started": "2024-01-16T04:01:35.591195Z"
    },
    "tags": []
   },
   "outputs": [],
   "source": [
    "input_dir = '/ceph/gale-1/qzeng/AmbData/CellType_Allc/'"
   ]
  },
  {
   "cell_type": "code",
   "execution_count": 3,
   "id": "3822d755-5d66-4f4e-9508-7b00700f6f52",
   "metadata": {
    "execution": {
     "iopub.execute_input": "2024-01-16T04:01:35.644483Z",
     "iopub.status.busy": "2024-01-16T04:01:35.644229Z",
     "iopub.status.idle": "2024-01-16T04:01:35.648393Z",
     "shell.execute_reply": "2024-01-16T04:01:35.647957Z",
     "shell.execute_reply.started": "2024-01-16T04:01:35.644463Z"
    },
    "tags": []
   },
   "outputs": [],
   "source": [
    "ages = ['8wk','9mo','18mo']\n",
    "use_mc_cts = joblib.load('/home/qzeng/project/aging/metadata/mc_use_cts')\n",
    "use_m3c_cts = joblib.load('/home/qzeng/project/aging/metadata/m3c_use_cts')"
   ]
  },
  {
   "cell_type": "code",
   "execution_count": 4,
   "id": "c05d6df5-3143-4429-9618-cd721f2c8ee4",
   "metadata": {
    "execution": {
     "iopub.execute_input": "2024-01-16T04:01:35.968869Z",
     "iopub.status.busy": "2024-01-16T04:01:35.968619Z",
     "iopub.status.idle": "2024-01-16T04:01:35.974340Z",
     "shell.execute_reply": "2024-01-16T04:01:35.973950Z",
     "shell.execute_reply.started": "2024-01-16T04:01:35.968850Z"
    },
    "tags": []
   },
   "outputs": [
    {
     "data": {
      "text/plain": [
       "36"
      ]
     },
     "execution_count": 4,
     "metadata": {},
     "output_type": "execute_result"
    }
   ],
   "source": [
    "shared_cts = list(set(use_mc_cts) & set(use_m3c_cts))\n",
    "len(shared_cts)"
   ]
  },
  {
   "cell_type": "markdown",
   "id": "9b4db13c-9ab8-4bdb-a782-c153c278c005",
   "metadata": {
    "tags": []
   },
   "source": [
    "## change names"
   ]
  },
  {
   "cell_type": "code",
   "execution_count": 6,
   "id": "e566d501-c2d5-47f3-a420-539cb3039ca7",
   "metadata": {
    "execution": {
     "iopub.execute_input": "2024-01-15T22:40:34.345127Z",
     "iopub.status.busy": "2024-01-15T22:40:34.344755Z",
     "iopub.status.idle": "2024-01-15T22:40:34.354412Z",
     "shell.execute_reply": "2024-01-15T22:40:34.353573Z",
     "shell.execute_reply.started": "2024-01-15T22:40:34.345093Z"
    },
    "tags": []
   },
   "outputs": [],
   "source": [
    "mreged_cts = [pathlib.Path(path).name.split('.')[0] for path in glob.glob('Total.Balanced.Merged.Allc/*.Both-Gender.CGN-Merge.allc.tsv.gz')]\n",
    "mreged_cts = list(set(mreged_cts))"
   ]
  },
  {
   "cell_type": "code",
   "execution_count": 7,
   "id": "5b6b7b95-9da0-4e07-a80c-3610ced9cb3a",
   "metadata": {
    "execution": {
     "iopub.execute_input": "2024-01-15T22:40:35.957573Z",
     "iopub.status.busy": "2024-01-15T22:40:35.957291Z",
     "iopub.status.idle": "2024-01-15T22:40:35.963689Z",
     "shell.execute_reply": "2024-01-15T22:40:35.963101Z",
     "shell.execute_reply.started": "2024-01-15T22:40:35.957553Z"
    },
    "tags": []
   },
   "outputs": [],
   "source": [
    "old_to_new = {'Endo-NN': 'Endo_NN',\n",
    " 'L6-IT-CTX-Glut': 'L6_IT_CTX_Glut',\n",
    " 'SUB-ProS-Glut': 'SUB-ProS_Glut',\n",
    " 'L23-IT-ENTl-PIR-Glut': 'L23_IT_ENTl-PIR_Glut',\n",
    " 'NDB-SI-MA-STRv-Lhx8-Gaba': 'NDB-SI-MA-STRv_Lhx8_Gaba',\n",
    " 'NP-SUB-Glut': 'NP_SUB_Glut',\n",
    " 'Oligo-NN': 'Oligo_NN',\n",
    " 'STR-PAL-Chst9-Gaba': 'STR-PAL_Chst9_Gaba',\n",
    " 'L6bCT-ENT-Glut': 'L6bCT_ENT_Glut',\n",
    " 'L2-IT-PPP-APr-Glut': 'L2_IT_PPP-APr_Glut',\n",
    " 'VLMC-NN': 'VLMC_NN',\n",
    " 'STR-D1-Gaba': 'STR_D1_Gaba',\n",
    " 'CA3-Glut': 'CA3_Glut',\n",
    " 'MEA-COAp-Glut': 'MEA-COAp_Glut',\n",
    " 'L23-IT-PPP-Glut': 'L23_IT_PPP_Glut',\n",
    " 'L23-IT-ENT-Glut': 'L23_IT_ENT_Glut',\n",
    " 'Sst-Chodl-Gaba': 'Sst_Chodl_Gaba',\n",
    " 'Lamp5-Gaba': 'Lamp5_Gaba',\n",
    " 'CA2-FC-IG-Glut': 'CA2-FC-IG_Glut',\n",
    " 'Astro-NN': 'Astro_NN',\n",
    " 'ENTmv-PA-COAp-Glut': 'ENTmv-PA-COAp_Glut',\n",
    " 'L45-IT-CTX-Glut': 'L45_IT_CTX_Glut',\n",
    " 'LA-BLA-BMA-PA-Glut': 'LA-BLA-BMA-PA_Glut',\n",
    " 'CHOR-NN': 'CHOR_NN',\n",
    " 'PAG-Glut': 'PAG_Glut',\n",
    " 'MB-MY-Glut-Sero': 'MB-MY_Tph2_Glut-Sero',\n",
    " 'CA1-ProS-Glut': 'CA1-ProS_Glut',\n",
    " 'PAG-PCG': 'PAG_PCG',\n",
    " 'Microglia-NN': 'Microglia_NN',\n",
    " 'STR-D2-Gaba': 'STR_D2_Gaba',\n",
    " 'L5-IT-CTX-Glut': 'L5_IT_CTX_Glut',\n",
    " 'PAG-MRN-Pou3f1-Glut': 'PAG-MRN_Pou3f1_Glut',\n",
    " 'OT-D3-Folh1-Gaba': 'OT_D3_Folh1_Gaba',\n",
    " 'DGNBL-Glut': 'DGNBL_Glut',\n",
    " 'L5-NP-CTX-Glut': 'L5_NP_CTX_Glut',\n",
    " 'L5-ET-CTX-Glut': 'L5_ET_CTX_Glut',\n",
    " 'Pvalb-Gaba': 'Pvalb_Gaba',\n",
    " 'L6-CT-CTX-Glut': 'L6_CT_CTX_Glut',\n",
    " 'CEA-BST-Gaba': 'CEA-BST_Gaba',\n",
    " 'Sst-Gaba': 'Sst_Gaba',\n",
    " 'DG-Glut': 'DG_Glut',\n",
    " 'L23-IT-CTX-Glut': 'L23_IT_CTX_Glut',\n",
    " 'STR-Gaba': 'STR_Gaba',\n",
    " 'VipSncg-Gaba': 'VipSncg_Gaba',\n",
    " 'OPC-NN': 'OPC_NN',\n",
    " 'MEA-COA-Glut': 'MEA-COAp_Glut',\n",
    " 'MEA-BST-Gaba': 'MEA-BST_Gaba'}"
   ]
  },
  {
   "cell_type": "code",
   "execution_count": 11,
   "id": "97abde94-9506-44a3-9066-bc48e78ce9ba",
   "metadata": {
    "execution": {
     "iopub.execute_input": "2024-01-15T22:41:13.687612Z",
     "iopub.status.busy": "2024-01-15T22:41:13.687120Z",
     "iopub.status.idle": "2024-01-15T22:41:13.692109Z",
     "shell.execute_reply": "2024-01-15T22:41:13.691609Z",
     "shell.execute_reply.started": "2024-01-15T22:41:13.687586Z"
    },
    "tags": []
   },
   "outputs": [],
   "source": [
    "all_paths = glob.glob('Total.Balanced.Merged.Allc/*.Both-Gender.CGN-Merge.allc.tsv.gz')"
   ]
  },
  {
   "cell_type": "code",
   "execution_count": 10,
   "id": "5b27dfe6-0112-437c-970a-21c0768ea121",
   "metadata": {
    "execution": {
     "iopub.execute_input": "2024-01-15T22:41:10.047434Z",
     "iopub.status.busy": "2024-01-15T22:41:10.047041Z",
     "iopub.status.idle": "2024-01-15T22:41:10.682315Z",
     "shell.execute_reply": "2024-01-15T22:41:10.681205Z",
     "shell.execute_reply.started": "2024-01-15T22:41:10.047409Z"
    },
    "tags": []
   },
   "outputs": [],
   "source": [
    "for path in all_paths:\n",
    "    old_ct = pathlib.Path(path).name.split('.')[0]\n",
    "    if old_ct in old_to_new.keys():\n",
    "        new_ct = old_to_new[old_ct]\n",
    "        new_path = path.replace(old_ct, new_ct)\n",
    "        command = f\"mv {path} {new_path}\"\n",
    "        subprocess.run(command, shell = True)\n",
    "        "
   ]
  },
  {
   "cell_type": "markdown",
   "id": "726203b0-67e2-4478-821e-0f4bc931d223",
   "metadata": {},
   "source": [
    "## merge remaining"
   ]
  },
  {
   "cell_type": "code",
   "execution_count": 15,
   "id": "74c70fe8-cb4a-4e86-bb19-3ec51ef21285",
   "metadata": {
    "execution": {
     "iopub.execute_input": "2024-01-15T23:17:38.102771Z",
     "iopub.status.busy": "2024-01-15T23:17:38.102460Z",
     "iopub.status.idle": "2024-01-15T23:17:38.107613Z",
     "shell.execute_reply": "2024-01-15T23:17:38.107179Z",
     "shell.execute_reply.started": "2024-01-15T23:17:38.102748Z"
    },
    "tags": []
   },
   "outputs": [],
   "source": [
    "has_cts = [pathlib.Path(path).name.split('.')[0] for path in glob.glob('Total.Balanced.Merged.Allc/*.Both-Gender.CGN-Merge.allc.tsv.gz')]\n",
    "has_cts = set(has_cts)"
   ]
  },
  {
   "cell_type": "code",
   "execution_count": 16,
   "id": "9ece01c8-6998-4ed0-9166-be50d34bf2f4",
   "metadata": {
    "execution": {
     "iopub.execute_input": "2024-01-15T23:17:38.540790Z",
     "iopub.status.busy": "2024-01-15T23:17:38.540528Z",
     "iopub.status.idle": "2024-01-15T23:17:38.543588Z",
     "shell.execute_reply": "2024-01-15T23:17:38.543177Z",
     "shell.execute_reply.started": "2024-01-15T23:17:38.540769Z"
    },
    "tags": []
   },
   "outputs": [],
   "source": [
    "shared_cts = [ct.replace('/','').replace(' ','_') for ct in shared_cts]"
   ]
  },
  {
   "cell_type": "code",
   "execution_count": 21,
   "id": "b55e5fdb-0a9a-464f-8a65-4641df524880",
   "metadata": {
    "execution": {
     "iopub.execute_input": "2024-01-15T23:18:04.983775Z",
     "iopub.status.busy": "2024-01-15T23:18:04.983510Z",
     "iopub.status.idle": "2024-01-15T23:18:04.986498Z",
     "shell.execute_reply": "2024-01-15T23:18:04.986089Z",
     "shell.execute_reply.started": "2024-01-15T23:18:04.983753Z"
    },
    "tags": []
   },
   "outputs": [],
   "source": [
    "remerge_cts = ['MEA-COA_Glut',\n",
    " 'Astro-TE_NN',\n",
    " 'STR_D1_Sema5a_Gaba',\n",
    " 'Vip_Gaba',\n",
    " 'PAG-PPN_Pax5_Sox21_Gaba',\n",
    " 'Astro-NT_NN',\n",
    " 'PB_Evx2_Glut',\n",
    " 'LDT-PCG-CS_Gata3_Lhx1_Gaba']"
   ]
  },
  {
   "cell_type": "code",
   "execution_count": 22,
   "id": "8329a81a-6063-4936-88d2-a0814f7c2516",
   "metadata": {
    "execution": {
     "iopub.execute_input": "2024-01-15T23:18:04.987573Z",
     "iopub.status.busy": "2024-01-15T23:18:04.987342Z",
     "iopub.status.idle": "2024-01-15T23:18:04.991246Z",
     "shell.execute_reply": "2024-01-15T23:18:04.990868Z",
     "shell.execute_reply.started": "2024-01-15T23:18:04.987554Z"
    },
    "tags": []
   },
   "outputs": [
    {
     "data": {
      "text/plain": [
       "24"
      ]
     },
     "execution_count": 22,
     "metadata": {},
     "output_type": "execute_result"
    }
   ],
   "source": [
    "groups = [f'{ct}.{age}' for ct in remerge_cts for age in ages ]\n",
    "len(groups)"
   ]
  },
  {
   "cell_type": "code",
   "execution_count": 23,
   "id": "ca2438e6-e677-43a0-84b3-805023f4951a",
   "metadata": {
    "execution": {
     "iopub.execute_input": "2024-01-15T23:18:08.943336Z",
     "iopub.status.busy": "2024-01-15T23:18:08.943050Z",
     "iopub.status.idle": "2024-01-15T23:18:08.947232Z",
     "shell.execute_reply": "2024-01-15T23:18:08.946830Z",
     "shell.execute_reply.started": "2024-01-15T23:18:08.943313Z"
    },
    "tags": []
   },
   "outputs": [
    {
     "data": {
      "text/plain": [
       "['remain_groups']"
      ]
     },
     "execution_count": 23,
     "metadata": {},
     "output_type": "execute_result"
    }
   ],
   "source": [
    "joblib.dump(groups, 'remain_groups')"
   ]
  },
  {
   "cell_type": "code",
   "execution_count": 9,
   "id": "5fb9afac-5c27-4551-88fa-95d4ad120e22",
   "metadata": {
    "execution": {
     "iopub.execute_input": "2024-01-15T22:59:29.968491Z",
     "iopub.status.busy": "2024-01-15T22:59:29.968249Z",
     "iopub.status.idle": "2024-01-15T22:59:29.970769Z",
     "shell.execute_reply": "2024-01-15T22:59:29.970367Z",
     "shell.execute_reply.started": "2024-01-15T22:59:29.968472Z"
    },
    "tags": []
   },
   "outputs": [],
   "source": [
    "save_dir = '/home/qzeng/project/aging/230907-recall-dmr/Merge_DMR/Total.Balanced.Merged.Allc'"
   ]
  },
  {
   "cell_type": "code",
   "execution_count": null,
   "id": "1b249d9d-930c-4baa-9a6f-fdb679b32be3",
   "metadata": {
    "execution": {
     "iopub.execute_input": "2024-01-15T22:59:29.971579Z",
     "iopub.status.busy": "2024-01-15T22:59:29.971353Z"
    },
    "tags": []
   },
   "outputs": [
    {
     "name": "stderr",
     "output_type": "stream",
     "text": [
      "  0%|                                                                                     | 0/24 [00:00<?, ?it/s]"
     ]
    }
   ],
   "source": [
    "for group in tqdm(groups):\n",
    "    ct, age = group.split('.')\n",
    "    male_path = f\"{input_dir}/M.CellType.Age/{group}/{group}.CGN-Merge.allc.tsv.gz\"\n",
    "    female_path = f\"{input_dir}/F.CellType.Age/{group}/{group}.CGN-Merge.allc.tsv.gz\"\n",
    "    \n",
    "    male_df = pd.read_csv(male_path, sep = '\\t', header = None)\n",
    "    female_df = pd.read_csv(female_path, sep = '\\t', header = None)\n",
    "    \n",
    "    male_df.index = male_df[0] + '-' + male_df[1].astype(str)\n",
    "    female_df.index = female_df[0] + '-' + female_df[1].astype(str)\n",
    "    #shared_cytosine_id = list(set(male_df.index) & set(female_df.index))\n",
    "    shared_cytosine_id = [index for index in male_df.index if index in female_df.index]\n",
    "    \n",
    "    male_df = male_df.loc[shared_cytosine_id]\n",
    "    female_df = female_df.loc[shared_cytosine_id]\n",
    "    \n",
    "    male_total_cov = male_df[5].sum()\n",
    "    female_total_cov = female_df[5].sum()\n",
    "    div_by = male_total_cov/female_total_cov\n",
    "\n",
    "    male_df[4] = (male_df[4] / div_by).astype('int32')\n",
    "    male_df[5] = (male_df[5] / div_by).astype('int32')\n",
    "    \n",
    "    allc_df = female_df.copy()\n",
    "    allc_df[4] = female_df[4] + male_df[4]\n",
    "    allc_df[5] = female_df[5] + male_df[5]\n",
    "    \n",
    "    allc_df.to_csv(f\"{save_dir}/{group_name}.Both-Gender.CGN-Merge.allc.tsv\", sep = '\\t', \n",
    "               index = None, header = None)\n",
    "    \n",
    "    subprocess.run(f\"bgzip {save_dir}/{group_name}.Both-Gender.CGN-Merge.allc.tsv\", \n",
    "               shell = True)\n",
    "    \n",
    "    subprocess.run(f\"allcools tabix-allc {save_dir}/{group_name}.Both-Gender.CGN-Merge.allc.tsv.gz\", shell = True)\n",
    "    \n",
    "    \n",
    "    "
   ]
  },
  {
   "cell_type": "code",
   "execution_count": null,
   "id": "5e72d946-8637-46e9-b5a6-6f241f8cc1af",
   "metadata": {},
   "outputs": [],
   "source": []
  },
  {
   "cell_type": "code",
   "execution_count": null,
   "id": "ccb688ed-2968-45be-90b1-7c866843cc89",
   "metadata": {},
   "outputs": [],
   "source": []
  },
  {
   "cell_type": "code",
   "execution_count": null,
   "id": "a50e08aa-76df-414d-88e6-e364c89fd78e",
   "metadata": {},
   "outputs": [],
   "source": []
  },
  {
   "cell_type": "code",
   "execution_count": null,
   "id": "99d7e40d-09aa-4cf4-b68e-3e9e5272b41b",
   "metadata": {},
   "outputs": [],
   "source": []
  }
 ],
 "metadata": {
  "kernelspec": {
   "display_name": "Python 3 (ipykernel)",
   "language": "python",
   "name": "python3"
  },
  "language_info": {
   "codemirror_mode": {
    "name": "ipython",
    "version": 3
   },
   "file_extension": ".py",
   "mimetype": "text/x-python",
   "name": "python",
   "nbconvert_exporter": "python",
   "pygments_lexer": "ipython3",
   "version": "3.7.12"
  }
 },
 "nbformat": 4,
 "nbformat_minor": 5
}
