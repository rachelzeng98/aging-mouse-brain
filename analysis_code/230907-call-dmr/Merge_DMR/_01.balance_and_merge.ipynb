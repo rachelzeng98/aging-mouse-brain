{
 "cells": [
  {
   "cell_type": "code",
   "execution_count": 1,
   "id": "2ac28728-d4ad-43d6-8cbc-a6132086a0dc",
   "metadata": {
    "execution": {
     "iopub.execute_input": "2023-10-13T22:22:25.855938Z",
     "iopub.status.busy": "2023-10-13T22:22:25.855730Z",
     "iopub.status.idle": "2023-10-13T22:22:29.014768Z",
     "shell.execute_reply": "2023-10-13T22:22:29.013987Z",
     "shell.execute_reply.started": "2023-10-13T22:22:25.855915Z"
    },
    "tags": []
   },
   "outputs": [],
   "source": [
    "import os\n",
    "import pandas as pd\n",
    "import subprocess\n",
    "import glob\n",
    "import pysam\n",
    "from ALLCools.count_matrix.dataset import _CountQuantifier\n",
    "import csv\n",
    "from tqdm import tqdm"
   ]
  },
  {
   "cell_type": "code",
   "execution_count": 2,
   "id": "26c54133-090b-47c2-ae67-e989e8ea0f1b",
   "metadata": {
    "execution": {
     "iopub.execute_input": "2023-10-13T22:22:29.016725Z",
     "iopub.status.busy": "2023-10-13T22:22:29.016404Z",
     "iopub.status.idle": "2023-10-13T22:22:29.019775Z",
     "shell.execute_reply": "2023-10-13T22:22:29.019354Z",
     "shell.execute_reply.started": "2023-10-13T22:22:29.016701Z"
    },
    "tags": []
   },
   "outputs": [],
   "source": [
    "group_name = 'VipSncg Gaba.8wk'\n",
    "cell_type, age = group_name.split('.')"
   ]
  },
  {
   "cell_type": "code",
   "execution_count": 3,
   "id": "fcab1626-148a-40c9-8a7c-62ac1ae8b98b",
   "metadata": {
    "execution": {
     "iopub.execute_input": "2023-10-13T22:22:29.020620Z",
     "iopub.status.busy": "2023-10-13T22:22:29.020385Z",
     "iopub.status.idle": "2023-10-13T22:22:29.023000Z",
     "shell.execute_reply": "2023-10-13T22:22:29.022586Z",
     "shell.execute_reply.started": "2023-10-13T22:22:29.020599Z"
    },
    "tags": []
   },
   "outputs": [],
   "source": [
    "input_dir = \"/ceph/gale-1/qzeng/amb_datasets\"\n",
    "output_dir = f\"{os.getcwd()}/balanced_allc\""
   ]
  },
  {
   "cell_type": "code",
   "execution_count": 4,
   "id": "efd8e98b-6626-4371-99e4-057172d85353",
   "metadata": {
    "execution": {
     "iopub.execute_input": "2023-10-13T22:22:29.023833Z",
     "iopub.status.busy": "2023-10-13T22:22:29.023589Z",
     "iopub.status.idle": "2023-10-13T22:22:29.043760Z",
     "shell.execute_reply": "2023-10-13T22:22:29.043379Z",
     "shell.execute_reply.started": "2023-10-13T22:22:29.023815Z"
    },
    "tags": []
   },
   "outputs": [
    {
     "data": {
      "text/plain": [
       "(58, 47)"
      ]
     },
     "execution_count": 4,
     "metadata": {},
     "output_type": "execute_result"
    }
   ],
   "source": [
    "male_merged_allcs = glob.glob(f'{input_dir}/M.CellType.Age/*/*.CGN-Merge.allc.tsv.gz')\n",
    "female_merged_allcs = glob.glob(f'{input_dir}/F.CellType.Age/*/*.CGN-Merge.allc.tsv.gz')\n",
    "\n",
    "male_ct_name = sorted(list(set([path.split('/')[-2].split('.')[0] for path in male_merged_allcs])))\n",
    "female_ct_name = sorted(list(set([path.split('/')[-2].split('.')[0]  for path in female_merged_allcs])))\n",
    "len(male_ct_name), len(female_ct_name)"
   ]
  },
  {
   "cell_type": "code",
   "execution_count": 5,
   "id": "67dd0ae8-5b7a-4313-8488-d131d8e05328",
   "metadata": {
    "execution": {
     "iopub.execute_input": "2023-10-13T22:22:29.044621Z",
     "iopub.status.busy": "2023-10-13T22:22:29.044376Z",
     "iopub.status.idle": "2023-10-13T22:22:29.047532Z",
     "shell.execute_reply": "2023-10-13T22:22:29.047113Z",
     "shell.execute_reply.started": "2023-10-13T22:22:29.044603Z"
    },
    "tags": []
   },
   "outputs": [],
   "source": [
    "modified_male_ct_name = [ct.replace('_',' ').replace('-',' ') for ct in male_ct_name]\n",
    "modified_female_ct_name = [ct.replace('_',' ').replace('-',' ') for ct in female_ct_name]"
   ]
  },
  {
   "cell_type": "code",
   "execution_count": 6,
   "id": "437fc345-4c28-44f8-abff-0fa430ec0058",
   "metadata": {
    "execution": {
     "iopub.execute_input": "2023-10-13T22:22:29.048317Z",
     "iopub.status.busy": "2023-10-13T22:22:29.048118Z",
     "iopub.status.idle": "2023-10-13T22:22:29.050793Z",
     "shell.execute_reply": "2023-10-13T22:22:29.050385Z",
     "shell.execute_reply.started": "2023-10-13T22:22:29.048298Z"
    },
    "tags": []
   },
   "outputs": [],
   "source": [
    "male_dict = dict(zip(modified_male_ct_name, male_ct_name))\n",
    "female_dict = dict(zip(modified_female_ct_name, female_ct_name))"
   ]
  },
  {
   "cell_type": "code",
   "execution_count": 7,
   "id": "9fbdc98b-db91-4d4b-ace9-2cd51864e23a",
   "metadata": {
    "execution": {
     "iopub.execute_input": "2023-10-13T22:22:29.052423Z",
     "iopub.status.busy": "2023-10-13T22:22:29.052078Z",
     "iopub.status.idle": "2023-10-13T22:22:29.054820Z",
     "shell.execute_reply": "2023-10-13T22:22:29.054415Z",
     "shell.execute_reply.started": "2023-10-13T22:22:29.052404Z"
    },
    "tags": []
   },
   "outputs": [],
   "source": [
    "male_path = f\"{input_dir}/M.CellType.Age/{male_dict[cell_type]}.{age}/{male_dict[cell_type]}.{age}.CGN-Merge.allc.tsv.gz\"\n",
    "female_path = f\"{input_dir}/F.CellType.Age/{female_dict[cell_type]}.{age}/{female_dict[cell_type]}.{age}.CGN-Merge.allc.tsv.gz\""
   ]
  },
  {
   "cell_type": "code",
   "execution_count": 8,
   "id": "6c8bb5cb-1e5d-45a1-ab01-c3c86b69f4b5",
   "metadata": {
    "execution": {
     "iopub.execute_input": "2023-10-13T22:22:29.055621Z",
     "iopub.status.busy": "2023-10-13T22:22:29.055390Z",
     "iopub.status.idle": "2023-10-13T22:22:51.892181Z",
     "shell.execute_reply": "2023-10-13T22:22:51.891507Z",
     "shell.execute_reply.started": "2023-10-13T22:22:29.055603Z"
    },
    "tags": []
   },
   "outputs": [],
   "source": [
    "male_df = pd.read_csv(male_path, sep = '\\t', header = None)\n",
    "female_df = pd.read_csv(female_path, sep = '\\t', header = None)"
   ]
  },
  {
   "cell_type": "code",
   "execution_count": 9,
   "id": "d0b0965a-419b-4038-9ad3-1d0d9c0c75fc",
   "metadata": {
    "execution": {
     "iopub.execute_input": "2023-10-13T22:22:51.893434Z",
     "iopub.status.busy": "2023-10-13T22:22:51.893120Z",
     "iopub.status.idle": "2023-10-13T22:24:15.731194Z",
     "shell.execute_reply": "2023-10-13T22:24:15.729776Z",
     "shell.execute_reply.started": "2023-10-13T22:22:51.893408Z"
    },
    "tags": []
   },
   "outputs": [
    {
     "name": "stderr",
     "output_type": "stream",
     "text": [
      "IOStream.flush timed out\n"
     ]
    },
    {
     "data": {
      "text/plain": [
       "20339783"
      ]
     },
     "execution_count": 9,
     "metadata": {},
     "output_type": "execute_result"
    }
   ],
   "source": [
    "male_df['cytosine_id'] = male_df[0] + '-' + male_df[1].astype(str)\n",
    "female_df['cytosine_id'] = female_df[0] + '-' + female_df[1].astype(str)\n",
    "shared_cytosine_id = list(set(male_df['cytosine_id']) & set(female_df['cytosine_id']))\n",
    "shared_cytosine_id = sorted(shared_cytosine_id)\n",
    "len(shared_cytosine_id)"
   ]
  },
  {
   "cell_type": "code",
   "execution_count": 10,
   "id": "2027edd5-637b-4aca-8a1d-c3efe9cfe01a",
   "metadata": {
    "execution": {
     "iopub.execute_input": "2023-10-13T22:24:15.733325Z",
     "iopub.status.busy": "2023-10-13T22:24:15.733056Z",
     "iopub.status.idle": "2023-10-13T22:24:15.740067Z",
     "shell.execute_reply": "2023-10-13T22:24:15.739486Z",
     "shell.execute_reply.started": "2023-10-13T22:24:15.733302Z"
    },
    "tags": []
   },
   "outputs": [],
   "source": [
    "def banlance_line(cytosine_id):\n",
    "    chromosome, start_position = cytosine_id.split('-')\n",
    "    start_position = int(start_position)\n",
    "    \n",
    "    merged_line = []\n",
    "\n",
    "    for row in male_tabix.fetch(chromosome, start_position-1, start_position):\n",
    "        _chr, pos, line, cg_format, male_mc, male_cov, _  = row.split('\\t')  \n",
    "\n",
    "    for row in female_tabix.fetch(chromosome, start_position-1, start_position):\n",
    "        _chr, pos, line, cg_format, female_mc, female_cov, _  = row.split('\\t')  \n",
    "\n",
    "    div_by= int(male_cov) / int(female_cov)\n",
    "    merged_cov = int(female_cov) + int(int(male_cov)/div_by)\n",
    "    merged_mc = int(female_mc) + int(int(male_mc)/div_by)\n",
    "\n",
    "    merged_line = [_chr, int(pos), line, cg_format, merged_mc, merged_cov, int(_)]\n",
    "    return merged_line"
   ]
  },
  {
   "cell_type": "code",
   "execution_count": 11,
   "id": "93fd650a-d661-4e08-94a5-d8a9f8571f79",
   "metadata": {
    "execution": {
     "iopub.execute_input": "2023-10-13T22:24:15.741034Z",
     "iopub.status.busy": "2023-10-13T22:24:15.740771Z",
     "iopub.status.idle": "2023-10-13T22:24:20.467969Z",
     "shell.execute_reply": "2023-10-13T22:24:20.467462Z",
     "shell.execute_reply.started": "2023-10-13T22:24:15.741011Z"
    },
    "tags": []
   },
   "outputs": [
    {
     "name": "stderr",
     "output_type": "stream",
     "text": [
      "100%|█████████████████████████████████████████████████████████████████████████████████████████████████| 10000/10000 [00:04<00:00, 2153.79it/s]\n"
     ]
    }
   ],
   "source": [
    "male_tabix = pysam.TabixFile(male_path)\n",
    "female_tabix = pysam.TabixFile(female_path)\n",
    "\n",
    "all_lines = []\n",
    "for cytosine_id in tqdm(shared_cytosine_id[:10000]):\n",
    "    merged_line = banlance_line(cytosine_id)\n",
    "    all_lines.append(merged_line)"
   ]
  },
  {
   "cell_type": "code",
   "execution_count": 12,
   "id": "257af9e5-f58c-4114-87fd-a434f15a8fa3",
   "metadata": {
    "execution": {
     "iopub.execute_input": "2023-10-13T22:24:20.468963Z",
     "iopub.status.busy": "2023-10-13T22:24:20.468689Z",
     "iopub.status.idle": "2023-10-13T22:24:20.472216Z",
     "shell.execute_reply": "2023-10-13T22:24:20.471674Z",
     "shell.execute_reply.started": "2023-10-13T22:24:20.468941Z"
    },
    "tags": []
   },
   "outputs": [],
   "source": [
    "save_dir = '/home/qzeng/project/aging/230907-recall-dmr/Merge_DMR/Balanced.Merged.Allc'"
   ]
  },
  {
   "cell_type": "code",
   "execution_count": 13,
   "id": "72b0b91a-5c62-43d3-96fc-74c9ad23e35b",
   "metadata": {
    "execution": {
     "iopub.execute_input": "2023-10-13T22:24:20.473060Z",
     "iopub.status.busy": "2023-10-13T22:24:20.472813Z",
     "iopub.status.idle": "2023-10-13T22:24:20.486169Z",
     "shell.execute_reply": "2023-10-13T22:24:20.485751Z",
     "shell.execute_reply.started": "2023-10-13T22:24:20.473041Z"
    },
    "tags": []
   },
   "outputs": [],
   "source": [
    "use_name = group_name.replace(' ','_')\n",
    "tsv_file = f\"{save_dir}/{use_name}.Blanced.Merged.AllC.tsv\"\n",
    "\n",
    "with open(tsv_file, mode='w', newline='') as file:\n",
    "    writer = csv.writer(file, delimiter='\\t')\n",
    "    for command in all_lines:\n",
    "        writer.writerow(command)"
   ]
  },
  {
   "cell_type": "code",
   "execution_count": 14,
   "id": "e9060755-72b7-48ec-8d04-3368f2cbbb20",
   "metadata": {
    "execution": {
     "iopub.execute_input": "2023-10-13T22:24:20.487007Z",
     "iopub.status.busy": "2023-10-13T22:24:20.486763Z",
     "iopub.status.idle": "2023-10-13T22:24:20.489809Z",
     "shell.execute_reply": "2023-10-13T22:24:20.489400Z",
     "shell.execute_reply.started": "2023-10-13T22:24:20.486988Z"
    },
    "tags": []
   },
   "outputs": [],
   "source": [
    "# import ray\n",
    "# ray.init(ignore_reinit_error=True)\n",
    "\n",
    "# male_tabix = pysam.TabixFile(male_path)\n",
    "# female_tabix = pysam.TabixFile(female_path)\n",
    "\n",
    "# @ray.remote(num_cpus=20)\n",
    "# def balance_line(cytosine_id):\n",
    "#     chromosome, start_position = cytosine_id.split('-')\n",
    "#     start_position = int(start_position)\n",
    "\n",
    "#     merged_line = []\n",
    "\n",
    "#     for row in male_tabix.fetch(chromosome, start_position-1, start_position):\n",
    "#         _chr, pos, line, cg_format, male_frac, male_cov, _  = row.split('\\t')  \n",
    "\n",
    "#     for row in female_tabix.fetch(chromosome, start_position-1, start_position):\n",
    "#         _chr, pos, line, cg_format, female_frac, female_cov, _  = row.split('\\t')  \n",
    "\n",
    "#     div_by= int(male_cov) / int(female_cov)\n",
    "#     merged_cov = int(female_cov) + int(int(male_cov)/div_by)\n",
    "#     merged_mc = int(female_frac) + int(int(female_frac)/div_by)\n",
    "\n",
    "#     merged_line = [_chr, int(pos), line, cg_format, merged_mc, merged_cov, int(_)]\n",
    "#     return merged_line\n",
    "\n",
    "# all_lines = ray.get([balance_line.remote(cytosine_id) for cytosine_id in shared_cytosine_id[:1000]])"
   ]
  },
  {
   "cell_type": "code",
   "execution_count": null,
   "id": "c998f702-c2c7-47f0-9f1e-ba841657b210",
   "metadata": {},
   "outputs": [],
   "source": []
  },
  {
   "cell_type": "code",
   "execution_count": null,
   "id": "d5dad2fa-429f-449b-989b-be7d319bdbec",
   "metadata": {},
   "outputs": [],
   "source": []
  }
 ],
 "metadata": {
  "kernelspec": {
   "display_name": "Python 3 (ipykernel)",
   "language": "python",
   "name": "python3"
  },
  "language_info": {
   "codemirror_mode": {
    "name": "ipython",
    "version": 3
   },
   "file_extension": ".py",
   "mimetype": "text/x-python",
   "name": "python",
   "nbconvert_exporter": "python",
   "pygments_lexer": "ipython3",
   "version": "3.7.12"
  }
 },
 "nbformat": 4,
 "nbformat_minor": 5
}
