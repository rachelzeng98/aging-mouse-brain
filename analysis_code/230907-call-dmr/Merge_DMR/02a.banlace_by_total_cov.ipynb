{
 "cells": [
  {
   "cell_type": "code",
   "execution_count": 1,
   "id": "2370ba3a-99a0-4831-9402-f9ce9632ffee",
   "metadata": {
    "execution": {
     "iopub.execute_input": "2024-01-15T22:05:12.996153Z",
     "iopub.status.busy": "2024-01-15T22:05:12.995786Z",
     "iopub.status.idle": "2024-01-15T22:05:16.614338Z",
     "shell.execute_reply": "2024-01-15T22:05:16.613459Z",
     "shell.execute_reply.started": "2024-01-15T22:05:12.996128Z"
    },
    "tags": []
   },
   "outputs": [],
   "source": [
    "import os\n",
    "import pandas as pd\n",
    "import subprocess\n",
    "import glob\n",
    "import pysam\n",
    "from tqdm import tqdm\n",
    "import subprocess"
   ]
  },
  {
   "cell_type": "code",
   "execution_count": 2,
   "id": "4b57b836-7f5a-4422-9703-a53af1451b93",
   "metadata": {
    "execution": {
     "iopub.execute_input": "2024-01-15T22:05:16.616959Z",
     "iopub.status.busy": "2024-01-15T22:05:16.616118Z",
     "iopub.status.idle": "2024-01-15T22:05:16.620367Z",
     "shell.execute_reply": "2024-01-15T22:05:16.619751Z",
     "shell.execute_reply.started": "2024-01-15T22:05:16.616931Z"
    },
    "tags": []
   },
   "outputs": [],
   "source": [
    "group_name = 'NP-SUB-Glut.18mo'"
   ]
  },
  {
   "cell_type": "code",
   "execution_count": 3,
   "id": "5467b814-0b6b-462d-91a6-b06cae7842f2",
   "metadata": {
    "execution": {
     "iopub.execute_input": "2024-01-15T22:05:16.621286Z",
     "iopub.status.busy": "2024-01-15T22:05:16.621075Z",
     "iopub.status.idle": "2024-01-15T22:05:16.624117Z",
     "shell.execute_reply": "2024-01-15T22:05:16.623655Z",
     "shell.execute_reply.started": "2024-01-15T22:05:16.621264Z"
    },
    "tags": []
   },
   "outputs": [],
   "source": [
    "cell_type, age = group_name.split('.')\n",
    "cell_type = cell_type.replace('-',' ')"
   ]
  },
  {
   "cell_type": "code",
   "execution_count": 6,
   "id": "8e2aa112-39f0-4a6e-94a9-bbcc5a69a5f6",
   "metadata": {
    "execution": {
     "iopub.execute_input": "2024-01-15T22:05:47.941797Z",
     "iopub.status.busy": "2024-01-15T22:05:47.941307Z",
     "iopub.status.idle": "2024-01-15T22:05:47.945418Z",
     "shell.execute_reply": "2024-01-15T22:05:47.944665Z",
     "shell.execute_reply.started": "2024-01-15T22:05:47.941765Z"
    },
    "tags": []
   },
   "outputs": [],
   "source": [
    "input_dir = \"/ceph/gale-1/qzeng/AmbData/CellType_Allc/\"\n",
    "output_dir = f\"{os.getcwd()}/balanced_allc\""
   ]
  },
  {
   "cell_type": "code",
   "execution_count": 7,
   "id": "9c9f6ed1-6021-4a78-ac77-02c1500fb288",
   "metadata": {
    "execution": {
     "iopub.execute_input": "2024-01-15T22:05:55.626969Z",
     "iopub.status.busy": "2024-01-15T22:05:55.626475Z",
     "iopub.status.idle": "2024-01-15T22:05:56.579536Z",
     "shell.execute_reply": "2024-01-15T22:05:56.579015Z",
     "shell.execute_reply.started": "2024-01-15T22:05:55.626936Z"
    },
    "tags": []
   },
   "outputs": [
    {
     "data": {
      "text/plain": [
       "(79, 57)"
      ]
     },
     "execution_count": 7,
     "metadata": {},
     "output_type": "execute_result"
    }
   ],
   "source": [
    "male_merged_allcs = glob.glob(f'{input_dir}/M.CellType.Age/*/*.CGN-Merge.allc.tsv.gz')\n",
    "female_merged_allcs = glob.glob(f'{input_dir}/F.CellType.Age/*/*.CGN-Merge.allc.tsv.gz')\n",
    "\n",
    "male_ct_name = sorted(list(set([path.split('/')[-2].split('.')[0] for path in male_merged_allcs])))\n",
    "female_ct_name = sorted(list(set([path.split('/')[-2].split('.')[0]  for path in female_merged_allcs])))\n",
    "len(male_ct_name), len(female_ct_name)"
   ]
  },
  {
   "cell_type": "code",
   "execution_count": 6,
   "id": "3933ab88-e373-4faa-8a22-9cfb75fbfa81",
   "metadata": {
    "execution": {
     "iopub.execute_input": "2023-10-17T04:51:19.972878Z",
     "iopub.status.busy": "2023-10-17T04:51:19.972607Z",
     "iopub.status.idle": "2023-10-17T04:51:19.975932Z",
     "shell.execute_reply": "2023-10-17T04:51:19.975520Z",
     "shell.execute_reply.started": "2023-10-17T04:51:19.972859Z"
    },
    "tags": []
   },
   "outputs": [],
   "source": [
    "modified_male_ct_name = [ct.replace('_',' ').replace('-',' ') for ct in male_ct_name]\n",
    "modified_female_ct_name = [ct.replace('_',' ').replace('-',' ') for ct in female_ct_name]"
   ]
  },
  {
   "cell_type": "code",
   "execution_count": 7,
   "id": "e1588c8e-51ab-4f8e-aab9-a11715fa5fca",
   "metadata": {
    "execution": {
     "iopub.execute_input": "2023-10-17T04:51:19.976842Z",
     "iopub.status.busy": "2023-10-17T04:51:19.976578Z",
     "iopub.status.idle": "2023-10-17T04:51:19.979615Z",
     "shell.execute_reply": "2023-10-17T04:51:19.979169Z",
     "shell.execute_reply.started": "2023-10-17T04:51:19.976823Z"
    },
    "tags": []
   },
   "outputs": [],
   "source": [
    "male_dict = dict(zip(modified_male_ct_name, male_ct_name))\n",
    "female_dict = dict(zip(modified_female_ct_name, female_ct_name))"
   ]
  },
  {
   "cell_type": "code",
   "execution_count": 8,
   "id": "4e18a7f4-b8b7-448a-a847-e4a50a0ffaba",
   "metadata": {
    "execution": {
     "iopub.execute_input": "2023-10-17T04:51:19.980782Z",
     "iopub.status.busy": "2023-10-17T04:51:19.980379Z",
     "iopub.status.idle": "2023-10-17T04:51:19.983225Z",
     "shell.execute_reply": "2023-10-17T04:51:19.982817Z",
     "shell.execute_reply.started": "2023-10-17T04:51:19.980762Z"
    },
    "tags": []
   },
   "outputs": [],
   "source": [
    "male_path = f\"{input_dir}/M.CellType.Age/{male_dict[cell_type]}.{age}/{male_dict[cell_type]}.{age}.CGN-Merge.allc.tsv.gz\"\n",
    "female_path = f\"{input_dir}/F.CellType.Age/{female_dict[cell_type]}.{age}/{female_dict[cell_type]}.{age}.CGN-Merge.allc.tsv.gz\""
   ]
  },
  {
   "cell_type": "code",
   "execution_count": 9,
   "id": "4ec9aa49-5e11-476d-af7b-44a7000a4b76",
   "metadata": {
    "execution": {
     "iopub.execute_input": "2023-10-17T04:51:19.984226Z",
     "iopub.status.busy": "2023-10-17T04:51:19.983816Z",
     "iopub.status.idle": "2023-10-17T04:51:39.268243Z",
     "shell.execute_reply": "2023-10-17T04:51:39.267379Z",
     "shell.execute_reply.started": "2023-10-17T04:51:19.984207Z"
    },
    "tags": []
   },
   "outputs": [],
   "source": [
    "male_df = pd.read_csv(male_path, sep = '\\t', header = None)\n",
    "female_df = pd.read_csv(female_path, sep = '\\t', header = None)"
   ]
  },
  {
   "cell_type": "code",
   "execution_count": 10,
   "id": "67a669da-9ba8-4059-84a5-5dca975472d9",
   "metadata": {
    "execution": {
     "iopub.execute_input": "2023-10-17T04:51:39.270341Z",
     "iopub.status.busy": "2023-10-17T04:51:39.269416Z",
     "iopub.status.idle": "2023-10-17T04:52:06.243445Z",
     "shell.execute_reply": "2023-10-17T04:52:06.242132Z",
     "shell.execute_reply.started": "2023-10-17T04:51:39.270316Z"
    },
    "tags": []
   },
   "outputs": [],
   "source": [
    "male_df.index = male_df[0] + '-' + male_df[1].astype(str)\n",
    "female_df.index = female_df[0] + '-' + female_df[1].astype(str)\n",
    "#shared_cytosine_id = list(set(male_df.index) & set(female_df.index))"
   ]
  },
  {
   "cell_type": "code",
   "execution_count": 11,
   "id": "773808e0-473b-4e0e-9f37-07167870b173",
   "metadata": {
    "execution": {
     "iopub.execute_input": "2023-10-17T04:52:06.245426Z",
     "iopub.status.busy": "2023-10-17T04:52:06.245033Z",
     "iopub.status.idle": "2023-10-17T04:52:35.803805Z",
     "shell.execute_reply": "2023-10-17T04:52:35.803090Z",
     "shell.execute_reply.started": "2023-10-17T04:52:06.245391Z"
    },
    "tags": []
   },
   "outputs": [
    {
     "data": {
      "text/plain": [
       "19863877"
      ]
     },
     "execution_count": 11,
     "metadata": {},
     "output_type": "execute_result"
    }
   ],
   "source": [
    "shared_cytosine_id = [index for index in male_df.index if index in female_df.index]\n",
    "len(shared_cytosine_id)"
   ]
  },
  {
   "cell_type": "code",
   "execution_count": 12,
   "id": "2f51c007-22d7-4b65-a424-95724abe82e8",
   "metadata": {
    "execution": {
     "iopub.execute_input": "2023-10-17T04:52:35.805160Z",
     "iopub.status.busy": "2023-10-17T04:52:35.804802Z",
     "iopub.status.idle": "2023-10-17T04:53:22.356217Z",
     "shell.execute_reply": "2023-10-17T04:53:22.354820Z",
     "shell.execute_reply.started": "2023-10-17T04:52:35.805133Z"
    },
    "tags": []
   },
   "outputs": [],
   "source": [
    "male_df = male_df.loc[shared_cytosine_id]\n",
    "female_df = female_df.loc[shared_cytosine_id]"
   ]
  },
  {
   "cell_type": "code",
   "execution_count": 13,
   "id": "9c69b3be-39ec-43cf-8ccb-8393362ad32b",
   "metadata": {
    "execution": {
     "iopub.execute_input": "2023-10-17T04:53:22.358962Z",
     "iopub.status.busy": "2023-10-17T04:53:22.358678Z",
     "iopub.status.idle": "2023-10-17T04:53:22.434837Z",
     "shell.execute_reply": "2023-10-17T04:53:22.434325Z",
     "shell.execute_reply.started": "2023-10-17T04:53:22.358940Z"
    },
    "tags": []
   },
   "outputs": [
    {
     "data": {
      "text/plain": [
       "2.0766901235051325"
      ]
     },
     "execution_count": 13,
     "metadata": {},
     "output_type": "execute_result"
    }
   ],
   "source": [
    "male_total_cov = male_df[5].sum()\n",
    "female_total_cov = female_df[5].sum()\n",
    "div_by = male_total_cov/female_total_cov\n",
    "div_by"
   ]
  },
  {
   "cell_type": "code",
   "execution_count": 14,
   "id": "795309d9-e917-4752-a846-b23a1a27fc13",
   "metadata": {
    "execution": {
     "iopub.execute_input": "2023-10-17T04:53:22.435739Z",
     "iopub.status.busy": "2023-10-17T04:53:22.435542Z",
     "iopub.status.idle": "2023-10-17T04:53:23.566030Z",
     "shell.execute_reply": "2023-10-17T04:53:23.565393Z",
     "shell.execute_reply.started": "2023-10-17T04:53:22.435720Z"
    },
    "tags": []
   },
   "outputs": [],
   "source": [
    "male_df[4] = (male_df[4] / div_by).astype('int32')\n",
    "male_df[5] = (male_df[5] / div_by).astype('int32')"
   ]
  },
  {
   "cell_type": "code",
   "execution_count": 15,
   "id": "4c13bab3-a30d-4eba-a858-7a617b873ec0",
   "metadata": {
    "execution": {
     "iopub.execute_input": "2023-10-17T04:53:23.567207Z",
     "iopub.status.busy": "2023-10-17T04:53:23.566874Z",
     "iopub.status.idle": "2023-10-17T04:53:26.414747Z",
     "shell.execute_reply": "2023-10-17T04:53:26.414113Z",
     "shell.execute_reply.started": "2023-10-17T04:53:23.567184Z"
    },
    "tags": []
   },
   "outputs": [],
   "source": [
    "allc_df = female_df.copy()\n",
    "allc_df[4] = female_df[4] + male_df[4]\n",
    "allc_df[5] = female_df[5] + male_df[5]"
   ]
  },
  {
   "cell_type": "code",
   "execution_count": 16,
   "id": "1885084f-5289-47bc-a62e-d65a44843088",
   "metadata": {
    "execution": {
     "iopub.execute_input": "2023-10-17T04:53:26.415745Z",
     "iopub.status.busy": "2023-10-17T04:53:26.415523Z",
     "iopub.status.idle": "2023-10-17T04:53:26.418761Z",
     "shell.execute_reply": "2023-10-17T04:53:26.418181Z",
     "shell.execute_reply.started": "2023-10-17T04:53:26.415725Z"
    },
    "tags": []
   },
   "outputs": [],
   "source": [
    "save_dir = '/home/qzeng/project/aging/230907-recall-dmr/Merge_DMR/Total.Balanced.Merged.Allc'"
   ]
  },
  {
   "cell_type": "code",
   "execution_count": 17,
   "id": "f73eef09-d5b9-45e7-8a61-fd0c2910336f",
   "metadata": {
    "execution": {
     "iopub.execute_input": "2023-10-17T04:53:26.419828Z",
     "iopub.status.busy": "2023-10-17T04:53:26.419464Z",
     "iopub.status.idle": "2023-10-17T04:53:47.475608Z",
     "shell.execute_reply": "2023-10-17T04:53:47.474944Z",
     "shell.execute_reply.started": "2023-10-17T04:53:26.419809Z"
    },
    "tags": []
   },
   "outputs": [],
   "source": [
    "allc_df.to_csv(f\"{save_dir}/{group_name}.Both-Gender.CGN-Merge.allc.tsv\", sep = '\\t', \n",
    "               index = None, header = None)"
   ]
  },
  {
   "cell_type": "code",
   "execution_count": 21,
   "id": "ddafa614-d2b4-4597-95d8-4ccf5415e8a8",
   "metadata": {
    "execution": {
     "iopub.execute_input": "2023-10-17T04:56:12.263945Z",
     "iopub.status.busy": "2023-10-17T04:56:12.263581Z",
     "iopub.status.idle": "2023-10-17T04:56:33.631825Z",
     "shell.execute_reply": "2023-10-17T04:56:33.631186Z",
     "shell.execute_reply.started": "2023-10-17T04:56:12.263920Z"
    },
    "tags": []
   },
   "outputs": [
    {
     "data": {
      "text/plain": [
       "CompletedProcess(args='bgzip /home/qzeng/project/aging/230907-recall-dmr/Merge_DMR/Total.Balanced.Merged.Allc/NP-SUB-Glut.18mo.Both-Gender.CGN-Merge.allc.tsv', returncode=0)"
      ]
     },
     "execution_count": 21,
     "metadata": {},
     "output_type": "execute_result"
    }
   ],
   "source": [
    "subprocess.run(f\"bgzip {save_dir}/{group_name}.Both-Gender.CGN-Merge.allc.tsv\", \n",
    "               shell = True)"
   ]
  },
  {
   "cell_type": "code",
   "execution_count": 22,
   "id": "3b90e4eb-9d5d-4ecb-a2b1-40ab877f3daf",
   "metadata": {
    "execution": {
     "iopub.execute_input": "2023-10-17T04:56:33.633434Z",
     "iopub.status.busy": "2023-10-17T04:56:33.633095Z",
     "iopub.status.idle": "2023-10-17T04:56:41.612493Z",
     "shell.execute_reply": "2023-10-17T04:56:41.611829Z",
     "shell.execute_reply.started": "2023-10-17T04:56:33.633411Z"
    },
    "tags": []
   },
   "outputs": [
    {
     "name": "stdout",
     "output_type": "stream",
     "text": [
      "command\ttabix-allc\n",
      "allc_path\t/home/qzeng/project/aging/230907-recall-dmr/Merge_DMR/Total.Balanced.Merged.Allc/NP-SUB-Glut.18mo.Both-Gender.CGN-Merge.allc.tsv.gz\n",
      "reindex\tFalse\n",
      "Executing tabix-allc...\n",
      "tabix-allc finished.\n"
     ]
    },
    {
     "data": {
      "text/plain": [
       "CompletedProcess(args='allcools tabix-allc /home/qzeng/project/aging/230907-recall-dmr/Merge_DMR/Total.Balanced.Merged.Allc/NP-SUB-Glut.18mo.Both-Gender.CGN-Merge.allc.tsv.gz', returncode=0)"
      ]
     },
     "execution_count": 22,
     "metadata": {},
     "output_type": "execute_result"
    }
   ],
   "source": [
    "subprocess.run(f\"allcools tabix-allc {save_dir}/{group_name}.Both-Gender.CGN-Merge.allc.tsv.gz\", shell = True)"
   ]
  },
  {
   "cell_type": "code",
   "execution_count": null,
   "id": "5e72d946-8637-46e9-b5a6-6f241f8cc1af",
   "metadata": {},
   "outputs": [],
   "source": []
  },
  {
   "cell_type": "code",
   "execution_count": null,
   "id": "ccb688ed-2968-45be-90b1-7c866843cc89",
   "metadata": {},
   "outputs": [],
   "source": []
  },
  {
   "cell_type": "code",
   "execution_count": null,
   "id": "a50e08aa-76df-414d-88e6-e364c89fd78e",
   "metadata": {},
   "outputs": [],
   "source": []
  },
  {
   "cell_type": "code",
   "execution_count": null,
   "id": "99d7e40d-09aa-4cf4-b68e-3e9e5272b41b",
   "metadata": {},
   "outputs": [],
   "source": []
  }
 ],
 "metadata": {
  "kernelspec": {
   "display_name": "Python 3 (ipykernel)",
   "language": "python",
   "name": "python3"
  },
  "language_info": {
   "codemirror_mode": {
    "name": "ipython",
    "version": 3
   },
   "file_extension": ".py",
   "mimetype": "text/x-python",
   "name": "python",
   "nbconvert_exporter": "python",
   "pygments_lexer": "ipython3",
   "version": "3.7.12"
  }
 },
 "nbformat": 4,
 "nbformat_minor": 5
}
