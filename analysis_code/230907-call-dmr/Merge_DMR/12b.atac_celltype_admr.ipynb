{
 "cells": [
  {
   "cell_type": "code",
   "execution_count": 1,
   "id": "69891df3-8887-4089-9eae-46d4f8cc01be",
   "metadata": {
    "execution": {
     "iopub.execute_input": "2024-05-20T23:58:28.059660Z",
     "iopub.status.busy": "2024-05-20T23:58:28.059239Z",
     "iopub.status.idle": "2024-05-20T23:58:29.772768Z",
     "shell.execute_reply": "2024-05-20T23:58:29.772015Z",
     "shell.execute_reply.started": "2024-05-20T23:58:28.059628Z"
    },
    "tags": []
   },
   "outputs": [],
   "source": [
    "import pandas as pd\n",
    "import glob\n",
    "import matplotlib.pyplot as plt\n",
    "import pathlib\n",
    "import seaborn as sns\n",
    "import numpy as np\n",
    "import pathlib\n",
    "import matplotlib.pyplot as plt\n",
    "import pybedtools\n",
    "from amb import *\n",
    "import seaborn  as sns\n",
    "from amb import *\n",
    "import numpy as np\n",
    "import joblib\n",
    "import pyBigWig"
   ]
  },
  {
   "cell_type": "code",
   "execution_count": 2,
   "id": "746a8bf3-15b4-41a0-b058-636c0aff23c8",
   "metadata": {
    "execution": {
     "iopub.execute_input": "2024-05-20T23:58:29.774656Z",
     "iopub.status.busy": "2024-05-20T23:58:29.774107Z",
     "iopub.status.idle": "2024-05-20T23:58:29.777813Z",
     "shell.execute_reply": "2024-05-20T23:58:29.777276Z",
     "shell.execute_reply.started": "2024-05-20T23:58:29.774626Z"
    },
    "tags": []
   },
   "outputs": [],
   "source": [
    "use_cts = ['Oligo_NN', 'CA1-ProS_Glut', 'L5_IT_CTX_Glut', 'DG_Glut', 'L6_IT_CTX_Glut', 'L5_ET_CTX_Glut', \n",
    "           'CA3_Glut',  'L45_IT_CTX_Glut', 'LA-BLA-BMA-PA_Glut']"
   ]
  },
  {
   "cell_type": "code",
   "execution_count": 3,
   "id": "af42b4a0-b93f-4023-9f87-8da445c8d5a7",
   "metadata": {
    "execution": {
     "iopub.execute_input": "2024-05-20T23:58:29.778726Z",
     "iopub.status.busy": "2024-05-20T23:58:29.778483Z",
     "iopub.status.idle": "2024-05-20T23:58:29.782095Z",
     "shell.execute_reply": "2024-05-20T23:58:29.781568Z",
     "shell.execute_reply.started": "2024-05-20T23:58:29.778707Z"
    },
    "tags": []
   },
   "outputs": [],
   "source": [
    "admr_dir = 'mC_FILTER_DMR_BED/'\n",
    "\n",
    "mc_to_atac = {'Oligo_NN':'Oligo_NN',\n",
    "             'CA1-ProS_Glut': 'CA1-ProS_Glut',\n",
    "             'L5_IT_CTX_Glut': 'L5_IT_CTX_Glut',\n",
    "             'DG_Glut': 'DG_Glut',\n",
    "             'L6_IT_CTX_Glut': 'L6_IT_CTX_Glut',\n",
    "             'L5_ET_CTX_Glut': 'L5_ET_CTX_Glut',\n",
    "             'CA3_Glut': 'CA3_Glut',\n",
    "             'L23_IT_PPP_Glut':'L2_IT_PPP-APr_Glut',\n",
    "             'ENTmv-PA-COAp_Glut': 'ENTmv-PA-COAp_Glut',\n",
    "             'L45_IT_CTX_Glut':'L5_IT_CTX_Glut',\n",
    "             'LA-BLA-BMA-PA_Glut': 'LA-BLA-BMA-PA_Glut'}\n"
   ]
  },
  {
   "cell_type": "code",
   "execution_count": 4,
   "id": "93477228-ec13-4b1b-b747-ae32ec127787",
   "metadata": {
    "execution": {
     "iopub.execute_input": "2024-05-20T23:58:29.783279Z",
     "iopub.status.busy": "2024-05-20T23:58:29.783011Z",
     "iopub.status.idle": "2024-05-20T23:58:29.868486Z",
     "shell.execute_reply": "2024-05-20T23:58:29.868001Z",
     "shell.execute_reply.started": "2024-05-20T23:58:29.783261Z"
    },
    "tags": []
   },
   "outputs": [],
   "source": [
    "all_beds = []\n",
    "\n",
    "for ct in use_cts:\n",
    "    path = f\"{admr_dir}/{ct}.Hypo.aDMR.bed\"\n",
    "    tmpdf = pd.read_csv(path, sep = '\\t', header = None)\n",
    "    tmpdf['celltype'] = ct\n",
    "    tmpdf = tmpdf[tmpdf[0] != 'chrX'][[3, 'celltype']]\n",
    "    if tmpdf.shape[0] > 100:\n",
    "        tmpdf = tmpdf.sample(100)\n",
    "    else:\n",
    "        tmpdf = tmpdf\n",
    "    all_beds.append(tmpdf)\n",
    "\n",
    "all_beds = pd.concat(all_beds, axis = 0).set_index(3)\n",
    "duplicated_indices = all_beds.index.duplicated(keep=False)\n",
    "all_beds = all_beds[~duplicated_indices]\n",
    "\n",
    "dmr_list = all_beds.index"
   ]
  },
  {
   "cell_type": "code",
   "execution_count": 5,
   "id": "1585c884-fb42-4219-96dd-957b807ebb45",
   "metadata": {
    "execution": {
     "iopub.execute_input": "2024-05-20T23:58:29.869614Z",
     "iopub.status.busy": "2024-05-20T23:58:29.869343Z",
     "iopub.status.idle": "2024-05-20T23:58:29.874123Z",
     "shell.execute_reply": "2024-05-20T23:58:29.873667Z",
     "shell.execute_reply.started": "2024-05-20T23:58:29.869594Z"
    },
    "tags": []
   },
   "outputs": [],
   "source": [
    "# get aDMR atac counts\n",
    "bigwig_dir = '/ceph/gale-1/qzeng/AmbData/Luisa/male_atac'\n",
    "\n",
    "def get_atac_counts(age, atac_ct, dmr_list):\n",
    "    bigwig_path = f\"{bigwig_dir}/Male_{atac_ct}_{age}_merge.bw\"\n",
    "    bw = pyBigWig.open(bigwig_path)\n",
    "    total_counts = []\n",
    "    for dmr_id in dmr_list:\n",
    "        slop = 300\n",
    "        _chr, start, end = dmr_id.split('-')\n",
    "        start, end = int(start)-slop, int(end) + slop\n",
    "        counts = bw.stats(_chr, start, end, type=\"sum\")[0]\n",
    "        total_counts.append(counts)\n",
    "    tmpdf = pd.DataFrame({age:total_counts}, index = dmr_list)\n",
    "    return tmpdf\n"
   ]
  },
  {
   "cell_type": "code",
   "execution_count": 6,
   "id": "00b49fa9-bcfc-4888-bb72-3709bccef994",
   "metadata": {
    "execution": {
     "iopub.execute_input": "2024-05-20T23:58:30.434764Z",
     "iopub.status.busy": "2024-05-20T23:58:30.434334Z",
     "iopub.status.idle": "2024-05-20T23:58:36.158438Z",
     "shell.execute_reply": "2024-05-20T23:58:36.157634Z",
     "shell.execute_reply.started": "2024-05-20T23:58:30.434743Z"
    },
    "tags": []
   },
   "outputs": [
    {
     "data": {
      "text/html": [
       "<div>\n",
       "<style scoped>\n",
       "    .dataframe tbody tr th:only-of-type {\n",
       "        vertical-align: middle;\n",
       "    }\n",
       "\n",
       "    .dataframe tbody tr th {\n",
       "        vertical-align: top;\n",
       "    }\n",
       "\n",
       "    .dataframe thead th {\n",
       "        text-align: right;\n",
       "    }\n",
       "</style>\n",
       "<table border=\"1\" class=\"dataframe\">\n",
       "  <thead>\n",
       "    <tr style=\"text-align: right;\">\n",
       "      <th></th>\n",
       "      <th>Oligo_NN</th>\n",
       "      <th>CA1-ProS_Glut</th>\n",
       "      <th>L5_IT_CTX_Glut</th>\n",
       "      <th>DG_Glut</th>\n",
       "      <th>L6_IT_CTX_Glut</th>\n",
       "      <th>L5_ET_CTX_Glut</th>\n",
       "      <th>CA3_Glut</th>\n",
       "      <th>L5_IT_CTX_Glut</th>\n",
       "      <th>LA-BLA-BMA-PA_Glut</th>\n",
       "    </tr>\n",
       "    <tr>\n",
       "      <th>3</th>\n",
       "      <th></th>\n",
       "      <th></th>\n",
       "      <th></th>\n",
       "      <th></th>\n",
       "      <th></th>\n",
       "      <th></th>\n",
       "      <th></th>\n",
       "      <th></th>\n",
       "      <th></th>\n",
       "    </tr>\n",
       "  </thead>\n",
       "  <tbody>\n",
       "    <tr>\n",
       "      <th>chr11-113138687-113138714</th>\n",
       "      <td>0.180777</td>\n",
       "      <td>0.264000</td>\n",
       "      <td>0.165274</td>\n",
       "      <td>0.138251</td>\n",
       "      <td>-0.005784</td>\n",
       "      <td>-0.330143</td>\n",
       "      <td>-0.116735</td>\n",
       "      <td>0.165274</td>\n",
       "      <td>-0.052247</td>\n",
       "    </tr>\n",
       "    <tr>\n",
       "      <th>chr13-80940543-80940574</th>\n",
       "      <td>0.040530</td>\n",
       "      <td>-0.297160</td>\n",
       "      <td>-0.132594</td>\n",
       "      <td>-0.218104</td>\n",
       "      <td>-0.175012</td>\n",
       "      <td>-0.588193</td>\n",
       "      <td>0.208598</td>\n",
       "      <td>-0.132594</td>\n",
       "      <td>-0.501648</td>\n",
       "    </tr>\n",
       "    <tr>\n",
       "      <th>chr8-10959005-10959178</th>\n",
       "      <td>0.108305</td>\n",
       "      <td>0.708113</td>\n",
       "      <td>-0.131894</td>\n",
       "      <td>-0.153050</td>\n",
       "      <td>0.000000</td>\n",
       "      <td>0.065742</td>\n",
       "      <td>0.495771</td>\n",
       "      <td>-0.131894</td>\n",
       "      <td>-1.000000</td>\n",
       "    </tr>\n",
       "    <tr>\n",
       "      <th>chr7-139580679-139580806</th>\n",
       "      <td>0.051854</td>\n",
       "      <td>0.117427</td>\n",
       "      <td>-0.052179</td>\n",
       "      <td>0.015734</td>\n",
       "      <td>-0.040848</td>\n",
       "      <td>-0.085747</td>\n",
       "      <td>0.024969</td>\n",
       "      <td>-0.052179</td>\n",
       "      <td>-0.141356</td>\n",
       "    </tr>\n",
       "    <tr>\n",
       "      <th>chr19-41075358-41075689</th>\n",
       "      <td>-0.068874</td>\n",
       "      <td>-0.230806</td>\n",
       "      <td>-0.133761</td>\n",
       "      <td>-0.288958</td>\n",
       "      <td>-0.338610</td>\n",
       "      <td>0.174289</td>\n",
       "      <td>0.190267</td>\n",
       "      <td>-0.133761</td>\n",
       "      <td>0.101445</td>\n",
       "    </tr>\n",
       "  </tbody>\n",
       "</table>\n",
       "</div>"
      ],
      "text/plain": [
       "                           Oligo_NN  CA1-ProS_Glut  L5_IT_CTX_Glut   DG_Glut  \\\n",
       "3                                                                              \n",
       "chr11-113138687-113138714  0.180777       0.264000        0.165274  0.138251   \n",
       "chr13-80940543-80940574    0.040530      -0.297160       -0.132594 -0.218104   \n",
       "chr8-10959005-10959178     0.108305       0.708113       -0.131894 -0.153050   \n",
       "chr7-139580679-139580806   0.051854       0.117427       -0.052179  0.015734   \n",
       "chr19-41075358-41075689   -0.068874      -0.230806       -0.133761 -0.288958   \n",
       "\n",
       "                           L6_IT_CTX_Glut  L5_ET_CTX_Glut  CA3_Glut  \\\n",
       "3                                                                     \n",
       "chr11-113138687-113138714       -0.005784       -0.330143 -0.116735   \n",
       "chr13-80940543-80940574         -0.175012       -0.588193  0.208598   \n",
       "chr8-10959005-10959178           0.000000        0.065742  0.495771   \n",
       "chr7-139580679-139580806        -0.040848       -0.085747  0.024969   \n",
       "chr19-41075358-41075689         -0.338610        0.174289  0.190267   \n",
       "\n",
       "                           L5_IT_CTX_Glut  LA-BLA-BMA-PA_Glut  \n",
       "3                                                              \n",
       "chr11-113138687-113138714        0.165274           -0.052247  \n",
       "chr13-80940543-80940574         -0.132594           -0.501648  \n",
       "chr8-10959005-10959178          -0.131894           -1.000000  \n",
       "chr7-139580679-139580806        -0.052179           -0.141356  \n",
       "chr19-41075358-41075689         -0.133761            0.101445  "
      ]
     },
     "execution_count": 6,
     "metadata": {},
     "output_type": "execute_result"
    }
   ],
   "source": [
    "age_list = ['2mo','18mo']\n",
    "all_use_dmrs = []\n",
    "all_counts_df = []\n",
    "\n",
    "for ct in use_cts:\n",
    "    ct_counts = []\n",
    "    atac_ct = mc_to_atac[ct]\n",
    "    for age in age_list:\n",
    "        tmpdf = get_atac_counts(age, atac_ct, dmr_list)\n",
    "        ct_counts.append(tmpdf)\n",
    "    \n",
    "    ct_counts = pd.concat(ct_counts, axis = 1)\n",
    "    ct_counts = ct_counts.div(ct_counts.sum(axis = 1), axis = 0).fillna(0)\n",
    "    ct_counts['change'] = ct_counts['18mo'] - ct_counts['2mo']\n",
    "    ct_counts = ct_counts[['change']]\n",
    "    \n",
    "    \n",
    "    ct_counts.columns = [atac_ct]\n",
    "    all_counts_df.append(ct_counts)\n",
    "\n",
    "\n",
    "all_counts_df = pd.concat(all_counts_df, axis = 1)\n",
    "all_counts_df.head()"
   ]
  },
  {
   "cell_type": "markdown",
   "id": "264b1821-137f-4238-a631-d894e0929854",
   "metadata": {},
   "source": [
    "## plot heatmap"
   ]
  },
  {
   "cell_type": "code",
   "execution_count": 7,
   "id": "b8648a8f-d1d3-4b01-b9dd-d2326da2bba1",
   "metadata": {
    "execution": {
     "iopub.execute_input": "2024-05-20T23:58:42.541189Z",
     "iopub.status.busy": "2024-05-20T23:58:42.540708Z",
     "iopub.status.idle": "2024-05-20T23:58:42.554906Z",
     "shell.execute_reply": "2024-05-20T23:58:42.554371Z",
     "shell.execute_reply.started": "2024-05-20T23:58:42.541148Z"
    },
    "tags": []
   },
   "outputs": [],
   "source": [
    "import PyComplexHeatmap as pch\n",
    "from PyComplexHeatmap import *\n",
    "plt.rcParams['figure.dpi'] = 100\n",
    "plt.rcParams['savefig.dpi']=100\n",
    "plt.rcParams['pdf.fonttype']=42"
   ]
  },
  {
   "cell_type": "code",
   "execution_count": 8,
   "id": "eecdcab8-786f-4d93-a14e-12ff91289870",
   "metadata": {
    "execution": {
     "iopub.execute_input": "2024-05-20T23:58:42.883752Z",
     "iopub.status.busy": "2024-05-20T23:58:42.883218Z",
     "iopub.status.idle": "2024-05-20T23:58:42.888041Z",
     "shell.execute_reply": "2024-05-20T23:58:42.887541Z",
     "shell.execute_reply.started": "2024-05-20T23:58:42.883730Z"
    },
    "tags": []
   },
   "outputs": [],
   "source": [
    "import joblib\n",
    "mt_pelatte = joblib.load('/home/qzeng/project/aging/231117_update_annot/AgingMajorType_Palette')\n",
    "\n",
    "new_mt_palette = {}\n",
    "for mt ,_color in mt_pelatte.items():\n",
    "    mt= mt.replace('/','').replace(' ','_')\n",
    "    new_mt_palette[mt] = _color"
   ]
  },
  {
   "cell_type": "code",
   "execution_count": 9,
   "id": "b083cf0d-4929-47c2-a033-d63045b6606a",
   "metadata": {
    "execution": {
     "iopub.execute_input": "2024-05-20T23:58:43.211312Z",
     "iopub.status.busy": "2024-05-20T23:58:43.210931Z",
     "iopub.status.idle": "2024-05-20T23:58:43.213622Z",
     "shell.execute_reply": "2024-05-20T23:58:43.213127Z",
     "shell.execute_reply.started": "2024-05-20T23:58:43.211292Z"
    },
    "tags": []
   },
   "outputs": [],
   "source": [
    "# use_counts_df = all_counts_df.loc[ordered_all_use_dmrs]\n",
    "# row_annot = all_beds.loc[ordered_all_use_dmrs]"
   ]
  },
  {
   "cell_type": "code",
   "execution_count": 10,
   "id": "ff40a028-22d2-4ada-b05d-b00a226cb411",
   "metadata": {
    "execution": {
     "iopub.execute_input": "2024-05-20T23:58:43.591034Z",
     "iopub.status.busy": "2024-05-20T23:58:43.590538Z",
     "iopub.status.idle": "2024-05-20T23:58:43.596779Z",
     "shell.execute_reply": "2024-05-20T23:58:43.596324Z",
     "shell.execute_reply.started": "2024-05-20T23:58:43.591014Z"
    },
    "tags": []
   },
   "outputs": [
    {
     "data": {
      "text/html": [
       "<div>\n",
       "<style scoped>\n",
       "    .dataframe tbody tr th:only-of-type {\n",
       "        vertical-align: middle;\n",
       "    }\n",
       "\n",
       "    .dataframe tbody tr th {\n",
       "        vertical-align: top;\n",
       "    }\n",
       "\n",
       "    .dataframe thead th {\n",
       "        text-align: right;\n",
       "    }\n",
       "</style>\n",
       "<table border=\"1\" class=\"dataframe\">\n",
       "  <thead>\n",
       "    <tr style=\"text-align: right;\">\n",
       "      <th></th>\n",
       "      <th>celltype</th>\n",
       "    </tr>\n",
       "    <tr>\n",
       "      <th>3</th>\n",
       "      <th></th>\n",
       "    </tr>\n",
       "  </thead>\n",
       "  <tbody>\n",
       "    <tr>\n",
       "      <th>chr11-113138687-113138714</th>\n",
       "      <td>Oligo_NN</td>\n",
       "    </tr>\n",
       "    <tr>\n",
       "      <th>chr13-80940543-80940574</th>\n",
       "      <td>Oligo_NN</td>\n",
       "    </tr>\n",
       "    <tr>\n",
       "      <th>chr8-10959005-10959178</th>\n",
       "      <td>Oligo_NN</td>\n",
       "    </tr>\n",
       "    <tr>\n",
       "      <th>chr7-139580679-139580806</th>\n",
       "      <td>Oligo_NN</td>\n",
       "    </tr>\n",
       "    <tr>\n",
       "      <th>chr19-41075358-41075689</th>\n",
       "      <td>Oligo_NN</td>\n",
       "    </tr>\n",
       "  </tbody>\n",
       "</table>\n",
       "</div>"
      ],
      "text/plain": [
       "                           celltype\n",
       "3                                  \n",
       "chr11-113138687-113138714  Oligo_NN\n",
       "chr13-80940543-80940574    Oligo_NN\n",
       "chr8-10959005-10959178     Oligo_NN\n",
       "chr7-139580679-139580806   Oligo_NN\n",
       "chr19-41075358-41075689    Oligo_NN"
      ]
     },
     "execution_count": 10,
     "metadata": {},
     "output_type": "execute_result"
    }
   ],
   "source": [
    "row_annot = all_beds\n",
    "row_annot.head()"
   ]
  },
  {
   "cell_type": "code",
   "execution_count": 11,
   "id": "0a8f0b39-f7ed-4a11-9e9e-16516c8e0632",
   "metadata": {
    "execution": {
     "iopub.execute_input": "2024-05-20T23:58:44.986540Z",
     "iopub.status.busy": "2024-05-20T23:58:44.986248Z",
     "iopub.status.idle": "2024-05-20T23:58:44.991993Z",
     "shell.execute_reply": "2024-05-20T23:58:44.991501Z",
     "shell.execute_reply.started": "2024-05-20T23:58:44.986520Z"
    },
    "tags": []
   },
   "outputs": [],
   "source": [
    "left_ha = pch.HeatmapAnnotation(\n",
    "                          label=pch.anno_label(row_annot.celltype,merge=True,extend=False,colors = new_mt_palette,\n",
    "                                               adjust_color=True,luminance=0.75,relpos=(1,0.5)),\n",
    "                           CellType=pch.anno_simple(row_annot.celltype,legend=True,colors= new_mt_palette),\n",
    "                           verbose=1,axis=0,plot_legend=False)"
   ]
  },
  {
   "cell_type": "code",
   "execution_count": 12,
   "id": "c6fe7998-d6a3-4f3e-8efa-127c52b79097",
   "metadata": {
    "execution": {
     "iopub.execute_input": "2024-05-20T23:58:45.325995Z",
     "iopub.status.busy": "2024-05-20T23:58:45.325613Z",
     "iopub.status.idle": "2024-05-20T23:58:45.358110Z",
     "shell.execute_reply": "2024-05-20T23:58:45.357639Z",
     "shell.execute_reply.started": "2024-05-20T23:58:45.325975Z"
    },
    "tags": []
   },
   "outputs": [
    {
     "data": {
      "text/html": [
       "<div>\n",
       "<style scoped>\n",
       "    .dataframe tbody tr th:only-of-type {\n",
       "        vertical-align: middle;\n",
       "    }\n",
       "\n",
       "    .dataframe tbody tr th {\n",
       "        vertical-align: top;\n",
       "    }\n",
       "\n",
       "    .dataframe thead th {\n",
       "        text-align: right;\n",
       "    }\n",
       "</style>\n",
       "<table border=\"1\" class=\"dataframe\">\n",
       "  <thead>\n",
       "    <tr style=\"text-align: right;\">\n",
       "      <th></th>\n",
       "      <th>Oligo_NN</th>\n",
       "      <th>CA1-ProS_Glut</th>\n",
       "      <th>L5_IT_CTX_Glut</th>\n",
       "      <th>DG_Glut</th>\n",
       "      <th>L6_IT_CTX_Glut</th>\n",
       "      <th>L5_ET_CTX_Glut</th>\n",
       "      <th>CA3_Glut</th>\n",
       "      <th>L5_IT_CTX_Glut</th>\n",
       "      <th>LA-BLA-BMA-PA_Glut</th>\n",
       "    </tr>\n",
       "    <tr>\n",
       "      <th>3</th>\n",
       "      <th></th>\n",
       "      <th></th>\n",
       "      <th></th>\n",
       "      <th></th>\n",
       "      <th></th>\n",
       "      <th></th>\n",
       "      <th></th>\n",
       "      <th></th>\n",
       "      <th></th>\n",
       "    </tr>\n",
       "  </thead>\n",
       "  <tbody>\n",
       "    <tr>\n",
       "      <th>chr11-113138687-113138714</th>\n",
       "      <td>0.956401</td>\n",
       "      <td>0.804402</td>\n",
       "      <td>0.473539</td>\n",
       "      <td>0.525585</td>\n",
       "      <td>-0.049363</td>\n",
       "      <td>-0.974023</td>\n",
       "      <td>-0.410300</td>\n",
       "      <td>0.473539</td>\n",
       "      <td>-0.211978</td>\n",
       "    </tr>\n",
       "    <tr>\n",
       "      <th>chr13-80940543-80940574</th>\n",
       "      <td>0.414903</td>\n",
       "      <td>-1.326978</td>\n",
       "      <td>-0.749486</td>\n",
       "      <td>-1.037143</td>\n",
       "      <td>-0.414808</td>\n",
       "      <td>-1.674814</td>\n",
       "      <td>0.642229</td>\n",
       "      <td>-0.749486</td>\n",
       "      <td>-1.585613</td>\n",
       "    </tr>\n",
       "    <tr>\n",
       "      <th>chr8-10959005-10959178</th>\n",
       "      <td>0.676582</td>\n",
       "      <td>2.491222</td>\n",
       "      <td>-0.746613</td>\n",
       "      <td>-0.751861</td>\n",
       "      <td>-0.036872</td>\n",
       "      <td>0.101089</td>\n",
       "      <td>1.571304</td>\n",
       "      <td>-0.746613</td>\n",
       "      <td>-3.108869</td>\n",
       "    </tr>\n",
       "    <tr>\n",
       "      <th>chr7-139580679-139580806</th>\n",
       "      <td>0.458624</td>\n",
       "      <td>0.247693</td>\n",
       "      <td>-0.419307</td>\n",
       "      <td>-0.011690</td>\n",
       "      <td>-0.125084</td>\n",
       "      <td>-0.310311</td>\n",
       "      <td>0.048145</td>\n",
       "      <td>-0.419307</td>\n",
       "      <td>-0.484348</td>\n",
       "    </tr>\n",
       "    <tr>\n",
       "      <th>chr19-41075358-41075689</th>\n",
       "      <td>-0.007512</td>\n",
       "      <td>-1.074957</td>\n",
       "      <td>-0.754279</td>\n",
       "      <td>-1.347861</td>\n",
       "      <td>-0.768098</td>\n",
       "      <td>0.395871</td>\n",
       "      <td>0.582925</td>\n",
       "      <td>-0.754279</td>\n",
       "      <td>0.257795</td>\n",
       "    </tr>\n",
       "  </tbody>\n",
       "</table>\n",
       "</div>"
      ],
      "text/plain": [
       "                           Oligo_NN  CA1-ProS_Glut  L5_IT_CTX_Glut   DG_Glut  \\\n",
       "3                                                                              \n",
       "chr11-113138687-113138714  0.956401       0.804402        0.473539  0.525585   \n",
       "chr13-80940543-80940574    0.414903      -1.326978       -0.749486 -1.037143   \n",
       "chr8-10959005-10959178     0.676582       2.491222       -0.746613 -0.751861   \n",
       "chr7-139580679-139580806   0.458624       0.247693       -0.419307 -0.011690   \n",
       "chr19-41075358-41075689   -0.007512      -1.074957       -0.754279 -1.347861   \n",
       "\n",
       "                           L6_IT_CTX_Glut  L5_ET_CTX_Glut  CA3_Glut  \\\n",
       "3                                                                     \n",
       "chr11-113138687-113138714       -0.049363       -0.974023 -0.410300   \n",
       "chr13-80940543-80940574         -0.414808       -1.674814  0.642229   \n",
       "chr8-10959005-10959178          -0.036872        0.101089  1.571304   \n",
       "chr7-139580679-139580806        -0.125084       -0.310311  0.048145   \n",
       "chr19-41075358-41075689         -0.768098        0.395871  0.582925   \n",
       "\n",
       "                           L5_IT_CTX_Glut  LA-BLA-BMA-PA_Glut  \n",
       "3                                                              \n",
       "chr11-113138687-113138714        0.473539           -0.211978  \n",
       "chr13-80940543-80940574         -0.749486           -1.585613  \n",
       "chr8-10959005-10959178          -0.746613           -3.108869  \n",
       "chr7-139580679-139580806        -0.419307           -0.484348  \n",
       "chr19-41075358-41075689         -0.754279            0.257795  "
      ]
     },
     "execution_count": 12,
     "metadata": {},
     "output_type": "execute_result"
    }
   ],
   "source": [
    "from scipy.stats import zscore\n",
    "all_counts_df_zscore = all_counts_df.apply(zscore)\n",
    "all_counts_df_zscore.head()"
   ]
  },
  {
   "cell_type": "code",
   "execution_count": 13,
   "id": "ada6467f-e715-4f92-8052-44674acd6608",
   "metadata": {
    "execution": {
     "iopub.execute_input": "2024-05-20T23:58:46.799545Z",
     "iopub.status.busy": "2024-05-20T23:58:46.799020Z",
     "iopub.status.idle": "2024-05-20T23:58:46.803865Z",
     "shell.execute_reply": "2024-05-20T23:58:46.803380Z",
     "shell.execute_reply.started": "2024-05-20T23:58:46.799523Z"
    },
    "tags": []
   },
   "outputs": [
    {
     "data": {
      "text/plain": [
       "1.019691556191854"
      ]
     },
     "execution_count": 13,
     "metadata": {},
     "output_type": "execute_result"
    }
   ],
   "source": [
    "np.percentile(all_counts_df_zscore.values, 90)"
   ]
  },
  {
   "cell_type": "code",
   "execution_count": 15,
   "id": "99b15a5a-f919-427a-98ba-262707e86157",
   "metadata": {
    "execution": {
     "iopub.execute_input": "2024-05-20T23:59:44.692593Z",
     "iopub.status.busy": "2024-05-20T23:59:44.692022Z",
     "iopub.status.idle": "2024-05-20T23:59:46.154823Z",
     "shell.execute_reply": "2024-05-20T23:59:46.154292Z",
     "shell.execute_reply.started": "2024-05-20T23:59:44.692568Z"
    },
    "tags": []
   },
   "outputs": [
    {
     "name": "stdout",
     "output_type": "stream",
     "text": [
      "Starting plotting..\n",
      "Starting calculating row orders..\n",
      "Reordering rows..\n",
      "Starting calculating col orders..\n",
      "Reordering cols..\n",
      "Plotting matrix..\n",
      "Starting plotting HeatmapAnnotations\n",
      "Collecting legends..\n",
      "Collecting annotation legends..\n",
      "Plotting legends..\n",
      "Estimated legend width: 7.5 mm\n"
     ]
    },
    {
     "data": {
      "image/png": "[encoded data removed]",
      "text/plain": [
       "<Figure size 288x288 with 11 Axes>"
      ]
     },
     "metadata": {
      "needs_background": "light"
     },
     "output_type": "display_data"
    }
   ],
   "source": [
    "plt.figure(figsize=(4, 4))\n",
    "value = 1\n",
    "cm = ClusterMapPlotter(\n",
    "        data= all_counts_df_zscore, \n",
    "        fmt=None,\n",
    "        top_annotation=None,left_annotation=left_ha,\n",
    "        vmin = -value, vmax = value,\n",
    "        col_cluster=False,row_cluster=False,\n",
    "        label = 'ATAC CPM',z_score = None,\n",
    "        cmap='viridis',rasterized=True,\n",
    "        # xticklabels_kws={'labelrotation':0,'labelcolor':'blue'}\n",
    "        )\n",
    "#plt.savefig(f\"figure/{_type}.PycomplexClustertmap.pdf\", bbox_inches='tight')\n",
    "plt.show()"
   ]
  },
  {
   "cell_type": "code",
   "execution_count": null,
   "id": "af7440dd-dd01-42f8-b77d-7739509cb91d",
   "metadata": {},
   "outputs": [],
   "source": []
  },
  {
   "cell_type": "code",
   "execution_count": null,
   "id": "f6179caa-fa8f-43f8-b500-88a33746b04c",
   "metadata": {},
   "outputs": [],
   "source": []
  },
  {
   "cell_type": "code",
   "execution_count": null,
   "id": "b2d0950e-fc84-4dd3-a7e0-6c62963c37a5",
   "metadata": {},
   "outputs": [],
   "source": []
  },
  {
   "cell_type": "code",
   "execution_count": null,
   "id": "920d7eb7-6d4c-4ee9-a784-f579e409ec21",
   "metadata": {},
   "outputs": [],
   "source": []
  },
  {
   "cell_type": "code",
   "execution_count": null,
   "id": "738c40b2-7de7-40ca-a227-5b9ffe6ab6a5",
   "metadata": {},
   "outputs": [],
   "source": []
  },
  {
   "cell_type": "code",
   "execution_count": null,
   "id": "074368b0-65df-4bc6-a3b1-3e07f5bbf191",
   "metadata": {},
   "outputs": [],
   "source": []
  },
  {
   "cell_type": "code",
   "execution_count": null,
   "id": "12f729fc-cd87-46a2-8ebe-86748e62c4d9",
   "metadata": {},
   "outputs": [],
   "source": []
  },
  {
   "cell_type": "code",
   "execution_count": null,
   "id": "490d842b-02e7-4c7f-98d8-80ce090ea77d",
   "metadata": {},
   "outputs": [],
   "source": []
  },
  {
   "cell_type": "code",
   "execution_count": null,
   "id": "c7ee1ce3-f529-4f4f-a4e9-55cdd1cdb26d",
   "metadata": {},
   "outputs": [],
   "source": []
  },
  {
   "cell_type": "code",
   "execution_count": null,
   "id": "9e0202ff-c361-49fb-bc1b-95378366e2eb",
   "metadata": {},
   "outputs": [],
   "source": []
  }
 ],
 "metadata": {
  "kernelspec": {
   "display_name": "Python 3 (ipykernel)",
   "language": "python",
   "name": "python3"
  },
  "language_info": {
   "codemirror_mode": {
    "name": "ipython",
    "version": 3
   },
   "file_extension": ".py",
   "mimetype": "text/x-python",
   "name": "python",
   "nbconvert_exporter": "python",
   "pygments_lexer": "ipython3",
   "version": "3.7.12"
  }
 },
 "nbformat": 4,
 "nbformat_minor": 5
}
