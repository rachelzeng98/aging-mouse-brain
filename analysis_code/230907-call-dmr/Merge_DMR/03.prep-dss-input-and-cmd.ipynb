{
 "cells": [
  {
   "cell_type": "code",
   "execution_count": 1,
   "metadata": {
    "ExecuteTime": {
     "end_time": "2021-05-24T17:03:26.732000Z",
     "start_time": "2021-05-24T17:03:26.154826Z"
    },
    "execution": {
     "iopub.execute_input": "2024-01-16T03:58:07.243703Z",
     "iopub.status.busy": "2024-01-16T03:58:07.243436Z",
     "iopub.status.idle": "2024-01-16T03:58:07.622508Z",
     "shell.execute_reply": "2024-01-16T03:58:07.621720Z",
     "shell.execute_reply.started": "2024-01-16T03:58:07.243680Z"
    },
    "tags": []
   },
   "outputs": [],
   "source": [
    "import glob\n",
    "import pandas as pd\n",
    "import os\n",
    "import subprocess\n",
    "from pathlib import Path\n",
    "import pathlib\n",
    "from collections import defaultdict"
   ]
  },
  {
   "cell_type": "code",
   "execution_count": 2,
   "metadata": {
    "execution": {
     "iopub.execute_input": "2024-01-16T03:58:07.623769Z",
     "iopub.status.busy": "2024-01-16T03:58:07.623480Z",
     "iopub.status.idle": "2024-01-16T03:58:07.626798Z",
     "shell.execute_reply": "2024-01-16T03:58:07.626306Z",
     "shell.execute_reply.started": "2024-01-16T03:58:07.623748Z"
    },
    "tags": []
   },
   "outputs": [],
   "source": [
    "allc_paths_dir = f'{os.getcwd()}/Total.Balanced.Merged.Allc'\n",
    "#kind = 'M.CellType.Age'"
   ]
  },
  {
   "cell_type": "code",
   "execution_count": 3,
   "metadata": {
    "ExecuteTime": {
     "end_time": "2021-05-24T17:03:26.753892Z",
     "start_time": "2021-05-24T17:03:26.736645Z"
    },
    "execution": {
     "iopub.execute_input": "2024-01-16T03:58:09.669354Z",
     "iopub.status.busy": "2024-01-16T03:58:09.669092Z",
     "iopub.status.idle": "2024-01-16T03:58:09.689400Z",
     "shell.execute_reply": "2024-01-16T03:58:09.688938Z",
     "shell.execute_reply.started": "2024-01-16T03:58:09.669333Z"
    },
    "tags": []
   },
   "outputs": [
    {
     "data": {
      "text/html": [
       "<div>\n",
       "<style scoped>\n",
       "    .dataframe tbody tr th:only-of-type {\n",
       "        vertical-align: middle;\n",
       "    }\n",
       "\n",
       "    .dataframe tbody tr th {\n",
       "        vertical-align: top;\n",
       "    }\n",
       "\n",
       "    .dataframe thead th {\n",
       "        text-align: right;\n",
       "    }\n",
       "</style>\n",
       "<table border=\"1\" class=\"dataframe\">\n",
       "  <thead>\n",
       "    <tr style=\"text-align: right;\">\n",
       "      <th></th>\n",
       "      <th>chr</th>\n",
       "      <th>start</th>\n",
       "      <th>end</th>\n",
       "      <th>id</th>\n",
       "    </tr>\n",
       "  </thead>\n",
       "  <tbody>\n",
       "    <tr>\n",
       "      <th>0</th>\n",
       "      <td>chr1</td>\n",
       "      <td>0</td>\n",
       "      <td>97735985</td>\n",
       "      <td>chr1-p1</td>\n",
       "    </tr>\n",
       "    <tr>\n",
       "      <th>1</th>\n",
       "      <td>chr1</td>\n",
       "      <td>97735985</td>\n",
       "      <td>195471971</td>\n",
       "      <td>chr1-p2</td>\n",
       "    </tr>\n",
       "    <tr>\n",
       "      <th>2</th>\n",
       "      <td>chr2</td>\n",
       "      <td>0</td>\n",
       "      <td>91056612</td>\n",
       "      <td>chr2-p1</td>\n",
       "    </tr>\n",
       "    <tr>\n",
       "      <th>3</th>\n",
       "      <td>chr2</td>\n",
       "      <td>91056612</td>\n",
       "      <td>182113224</td>\n",
       "      <td>chr2-p2</td>\n",
       "    </tr>\n",
       "    <tr>\n",
       "      <th>4</th>\n",
       "      <td>chr3</td>\n",
       "      <td>0</td>\n",
       "      <td>80019840</td>\n",
       "      <td>chr3-p1</td>\n",
       "    </tr>\n",
       "  </tbody>\n",
       "</table>\n",
       "</div>"
      ],
      "text/plain": [
       "    chr     start        end       id\n",
       "0  chr1         0   97735985  chr1-p1\n",
       "1  chr1  97735985  195471971  chr1-p2\n",
       "2  chr2         0   91056612  chr2-p1\n",
       "3  chr2  91056612  182113224  chr2-p2\n",
       "4  chr3         0   80019840  chr3-p1"
      ]
     },
     "execution_count": 3,
     "metadata": {},
     "output_type": "execute_result"
    }
   ],
   "source": [
    "mm10_wins = pd.read_csv('../mm10.main.chrom.blanced_windows.bed',\n",
    "                        sep='\\t', names=['chr','start','end','id'])\n",
    "mm10_wins = mm10_wins[~mm10_wins['chr'].isin(['chrY','chrM'])]\n",
    "mm10_wins.head()"
   ]
  },
  {
   "cell_type": "code",
   "execution_count": 4,
   "metadata": {
    "execution": {
     "iopub.execute_input": "2024-01-16T03:58:10.824300Z",
     "iopub.status.busy": "2024-01-16T03:58:10.824064Z",
     "iopub.status.idle": "2024-01-16T03:58:10.828306Z",
     "shell.execute_reply": "2024-01-16T03:58:10.827838Z",
     "shell.execute_reply.started": "2024-01-16T03:58:10.824281Z"
    },
    "tags": []
   },
   "outputs": [
    {
     "data": {
      "text/plain": [
       "(35, 4)"
      ]
     },
     "execution_count": 4,
     "metadata": {},
     "output_type": "execute_result"
    }
   ],
   "source": [
    "mm10_wins.shape"
   ]
  },
  {
   "cell_type": "markdown",
   "metadata": {},
   "source": [
    "## check ready cell types"
   ]
  },
  {
   "cell_type": "code",
   "execution_count": 5,
   "metadata": {
    "execution": {
     "iopub.execute_input": "2024-01-16T03:58:14.438062Z",
     "iopub.status.busy": "2024-01-16T03:58:14.437809Z",
     "iopub.status.idle": "2024-01-16T03:58:14.444108Z",
     "shell.execute_reply": "2024-01-16T03:58:14.443653Z",
     "shell.execute_reply.started": "2024-01-16T03:58:14.438042Z"
    },
    "tags": []
   },
   "outputs": [
    {
     "data": {
      "text/plain": [
       "162"
      ]
     },
     "execution_count": 5,
     "metadata": {},
     "output_type": "execute_result"
    }
   ],
   "source": [
    "ready_samples = []\n",
    "for path in glob.glob(f'{allc_paths_dir}/*.CGN-Merge.allc.tsv.gz'):\n",
    "    sample = path.split('/')[-1]\n",
    "    ready_samples.append(sample)\n",
    "len(ready_samples)"
   ]
  },
  {
   "cell_type": "code",
   "execution_count": 6,
   "metadata": {
    "execution": {
     "iopub.execute_input": "2024-01-16T03:58:36.211198Z",
     "iopub.status.busy": "2024-01-16T03:58:36.210621Z",
     "iopub.status.idle": "2024-01-16T03:58:36.217282Z",
     "shell.execute_reply": "2024-01-16T03:58:36.216272Z",
     "shell.execute_reply.started": "2024-01-16T03:58:36.211147Z"
    },
    "tags": []
   },
   "outputs": [],
   "source": [
    "celltype_ages = defaultdict(list)\n",
    "for sample in ready_samples:\n",
    "    celltype, age,_,_,_,_,_ = sample.split('.')\n",
    "    celltype_ages[celltype].append(age)"
   ]
  },
  {
   "cell_type": "code",
   "execution_count": 7,
   "metadata": {
    "execution": {
     "iopub.execute_input": "2024-01-16T03:58:36.602931Z",
     "iopub.status.busy": "2024-01-16T03:58:36.602656Z",
     "iopub.status.idle": "2024-01-16T03:58:36.607978Z",
     "shell.execute_reply": "2024-01-16T03:58:36.607322Z",
     "shell.execute_reply.started": "2024-01-16T03:58:36.602910Z"
    },
    "tags": []
   },
   "outputs": [
    {
     "data": {
      "text/plain": [
       "54"
      ]
     },
     "execution_count": 7,
     "metadata": {},
     "output_type": "execute_result"
    }
   ],
   "source": [
    "ready_celltypes =[]\n",
    "for celltype, age_list in celltype_ages.items():\n",
    "    if len(age_list) == 3:\n",
    "        ready_celltypes.append(celltype)\n",
    "    else:\n",
    "        print(celltype)\n",
    "len(ready_celltypes)"
   ]
  },
  {
   "cell_type": "code",
   "execution_count": 9,
   "metadata": {
    "execution": {
     "iopub.execute_input": "2024-01-16T03:59:05.373780Z",
     "iopub.status.busy": "2024-01-16T03:59:05.373357Z",
     "iopub.status.idle": "2024-01-16T03:59:05.377040Z",
     "shell.execute_reply": "2024-01-16T03:59:05.376498Z",
     "shell.execute_reply.started": "2024-01-16T03:59:05.373755Z"
    },
    "tags": []
   },
   "outputs": [],
   "source": [
    "remerge_cts = ['MEA-COA_Glut',\n",
    " 'Astro-TE_NN',\n",
    " 'STR_D1_Sema5a_Gaba',\n",
    " 'Vip_Gaba',\n",
    " 'PAG-PPN_Pax5_Sox21_Gaba',\n",
    " 'Astro-NT_NN',\n",
    " 'PB_Evx2_Glut',\n",
    " 'LDT-PCG-CS_Gata3_Lhx1_Gaba']"
   ]
  },
  {
   "cell_type": "markdown",
   "metadata": {},
   "source": [
    "## generate scripts"
   ]
  },
  {
   "cell_type": "code",
   "execution_count": 18,
   "metadata": {
    "execution": {
     "iopub.execute_input": "2024-01-16T04:03:28.649601Z",
     "iopub.status.busy": "2024-01-16T04:03:28.649239Z",
     "iopub.status.idle": "2024-01-16T04:03:28.652319Z",
     "shell.execute_reply": "2024-01-16T04:03:28.651808Z",
     "shell.execute_reply.started": "2024-01-16T04:03:28.649577Z"
    },
    "tags": []
   },
   "outputs": [],
   "source": [
    "kind = \"2-BothGender.CellType.Age\""
   ]
  },
  {
   "cell_type": "code",
   "execution_count": 11,
   "metadata": {
    "execution": {
     "iopub.execute_input": "2024-01-16T03:59:13.372570Z",
     "iopub.status.busy": "2024-01-16T03:59:13.372120Z",
     "iopub.status.idle": "2024-01-16T03:59:13.415406Z",
     "shell.execute_reply": "2024-01-16T03:59:13.414918Z",
     "shell.execute_reply.started": "2024-01-16T03:59:13.372543Z"
    },
    "tags": []
   },
   "outputs": [],
   "source": [
    "df = pd.DataFrame()\n",
    "df['allc_path'] = glob.glob(f'{allc_paths_dir}/*.CGN-Merge.allc.tsv.gz')\n",
    "df['allc_path'] = df['allc_path'].apply(lambda x: str(Path(x).resolve()))\n",
    "df['kind'] = kind\n",
    "df['sample'] = df.apply(lambda x: x['allc_path'].split('/')[-1].replace(x['kind']+'.','').replace('.Both-Gender.CGN-Merge.allc.tsv.gz',''), axis=1)\n",
    "df['Rep'] = 'rep1'\n",
    "\n",
    "for col,vals in zip(df['kind'][0].split('.')[1:],df['sample'].str.split('.', expand=True).values.T):\n",
    "    df[col] = vals\n",
    "\n",
    "#df['Celltype'] = df['allc_path'].apply(lambda x: x.split('/')[-2].split('.')[0])\n",
    "df2 = df.copy()\n",
    "df2['Rep'] = 'rep2'"
   ]
  },
  {
   "cell_type": "code",
   "execution_count": 12,
   "metadata": {
    "execution": {
     "iopub.execute_input": "2024-01-16T03:59:14.942659Z",
     "iopub.status.busy": "2024-01-16T03:59:14.942364Z",
     "iopub.status.idle": "2024-01-16T03:59:14.953323Z",
     "shell.execute_reply": "2024-01-16T03:59:14.952897Z",
     "shell.execute_reply.started": "2024-01-16T03:59:14.942637Z"
    },
    "tags": []
   },
   "outputs": [
    {
     "data": {
      "text/html": [
       "<div>\n",
       "<style scoped>\n",
       "    .dataframe tbody tr th:only-of-type {\n",
       "        vertical-align: middle;\n",
       "    }\n",
       "\n",
       "    .dataframe tbody tr th {\n",
       "        vertical-align: top;\n",
       "    }\n",
       "\n",
       "    .dataframe thead th {\n",
       "        text-align: right;\n",
       "    }\n",
       "</style>\n",
       "<table border=\"1\" class=\"dataframe\">\n",
       "  <thead>\n",
       "    <tr style=\"text-align: right;\">\n",
       "      <th></th>\n",
       "      <th>allc_path</th>\n",
       "      <th>kind</th>\n",
       "      <th>sample</th>\n",
       "      <th>Rep</th>\n",
       "      <th>CellType</th>\n",
       "      <th>Age</th>\n",
       "    </tr>\n",
       "  </thead>\n",
       "  <tbody>\n",
       "    <tr>\n",
       "      <th>0</th>\n",
       "      <td>/home/qzeng/project/aging/230907-recall-dmr/Me...</td>\n",
       "      <td>BothGender.CellType.Age</td>\n",
       "      <td>Endo_NN.9mo.rep1</td>\n",
       "      <td>rep1</td>\n",
       "      <td>Endo_NN</td>\n",
       "      <td>9mo</td>\n",
       "    </tr>\n",
       "    <tr>\n",
       "      <th>1</th>\n",
       "      <td>/home/qzeng/project/aging/230907-recall-dmr/Me...</td>\n",
       "      <td>BothGender.CellType.Age</td>\n",
       "      <td>Microglia_NN.8wk.rep1</td>\n",
       "      <td>rep1</td>\n",
       "      <td>Microglia_NN</td>\n",
       "      <td>8wk</td>\n",
       "    </tr>\n",
       "    <tr>\n",
       "      <th>2</th>\n",
       "      <td>/home/qzeng/project/aging/230907-recall-dmr/Me...</td>\n",
       "      <td>BothGender.CellType.Age</td>\n",
       "      <td>NP_SUB_Glut.8wk.rep1</td>\n",
       "      <td>rep1</td>\n",
       "      <td>NP_SUB_Glut</td>\n",
       "      <td>8wk</td>\n",
       "    </tr>\n",
       "    <tr>\n",
       "      <th>3</th>\n",
       "      <td>/home/qzeng/project/aging/230907-recall-dmr/Me...</td>\n",
       "      <td>BothGender.CellType.Age</td>\n",
       "      <td>CHOR_NN.18mo.rep1</td>\n",
       "      <td>rep1</td>\n",
       "      <td>CHOR_NN</td>\n",
       "      <td>18mo</td>\n",
       "    </tr>\n",
       "    <tr>\n",
       "      <th>4</th>\n",
       "      <td>/home/qzeng/project/aging/230907-recall-dmr/Me...</td>\n",
       "      <td>BothGender.CellType.Age</td>\n",
       "      <td>OT_D3_Folh1_Gaba.9mo.rep1</td>\n",
       "      <td>rep1</td>\n",
       "      <td>OT_D3_Folh1_Gaba</td>\n",
       "      <td>9mo</td>\n",
       "    </tr>\n",
       "  </tbody>\n",
       "</table>\n",
       "</div>"
      ],
      "text/plain": [
       "                                           allc_path                     kind  \\\n",
       "0  /home/qzeng/project/aging/230907-recall-dmr/Me...  BothGender.CellType.Age   \n",
       "1  /home/qzeng/project/aging/230907-recall-dmr/Me...  BothGender.CellType.Age   \n",
       "2  /home/qzeng/project/aging/230907-recall-dmr/Me...  BothGender.CellType.Age   \n",
       "3  /home/qzeng/project/aging/230907-recall-dmr/Me...  BothGender.CellType.Age   \n",
       "4  /home/qzeng/project/aging/230907-recall-dmr/Me...  BothGender.CellType.Age   \n",
       "\n",
       "                      sample   Rep          CellType   Age  \n",
       "0           Endo_NN.9mo.rep1  rep1           Endo_NN   9mo  \n",
       "1      Microglia_NN.8wk.rep1  rep1      Microglia_NN   8wk  \n",
       "2       NP_SUB_Glut.8wk.rep1  rep1       NP_SUB_Glut   8wk  \n",
       "3          CHOR_NN.18mo.rep1  rep1           CHOR_NN  18mo  \n",
       "4  OT_D3_Folh1_Gaba.9mo.rep1  rep1  OT_D3_Folh1_Gaba   9mo  "
      ]
     },
     "execution_count": 12,
     "metadata": {},
     "output_type": "execute_result"
    }
   ],
   "source": [
    "df = pd.concat([df,df2])\n",
    "df['sample'] = df['sample'] + '.' + df['Rep']\n",
    "df.head()"
   ]
  },
  {
   "cell_type": "code",
   "execution_count": 14,
   "metadata": {
    "execution": {
     "iopub.execute_input": "2024-01-16T04:00:16.556582Z",
     "iopub.status.busy": "2024-01-16T04:00:16.556304Z",
     "iopub.status.idle": "2024-01-16T04:00:16.562586Z",
     "shell.execute_reply": "2024-01-16T04:00:16.562172Z",
     "shell.execute_reply.started": "2024-01-16T04:00:16.556551Z"
    },
    "tags": []
   },
   "outputs": [],
   "source": [
    "df = df[df['CellType'].isin(remerge_cts)]"
   ]
  },
  {
   "cell_type": "code",
   "execution_count": 16,
   "metadata": {
    "execution": {
     "iopub.execute_input": "2024-01-16T04:00:36.191593Z",
     "iopub.status.busy": "2024-01-16T04:00:36.191318Z",
     "iopub.status.idle": "2024-01-16T04:00:36.195034Z",
     "shell.execute_reply": "2024-01-16T04:00:36.194629Z",
     "shell.execute_reply.started": "2024-01-16T04:00:36.191570Z"
    },
    "tags": []
   },
   "outputs": [
    {
     "data": {
      "text/plain": [
       "(48, 6)"
      ]
     },
     "execution_count": 16,
     "metadata": {},
     "output_type": "execute_result"
    }
   ],
   "source": [
    "df.shape"
   ]
  },
  {
   "cell_type": "code",
   "execution_count": 17,
   "metadata": {
    "execution": {
     "iopub.execute_input": "2024-01-16T04:03:03.995160Z",
     "iopub.status.busy": "2024-01-16T04:03:03.994811Z",
     "iopub.status.idle": "2024-01-16T04:03:03.998265Z",
     "shell.execute_reply": "2024-01-16T04:03:03.997819Z",
     "shell.execute_reply.started": "2024-01-16T04:03:03.995131Z"
    },
    "tags": []
   },
   "outputs": [],
   "source": [
    "prepcmds = []\n",
    "dml_test_cmds = []\n",
    "dml_finalize_cmds = []\n",
    "dmr_cmds = []\n",
    "dmrfix_cmds = []"
   ]
  },
  {
   "cell_type": "code",
   "execution_count": 19,
   "metadata": {
    "execution": {
     "iopub.execute_input": "2024-01-16T04:03:32.785872Z",
     "iopub.status.busy": "2024-01-16T04:03:32.785501Z",
     "iopub.status.idle": "2024-01-16T04:03:33.305115Z",
     "shell.execute_reply": "2024-01-16T04:03:33.304690Z",
     "shell.execute_reply.started": "2024-01-16T04:03:32.785850Z"
    },
    "tags": []
   },
   "outputs": [],
   "source": [
    "for ct,tmpdf in df.groupby('CellType'):\n",
    "    ct_input_dir = Path(f'{kind}/input/{ct}').resolve()\n",
    "    ct_input_dir.mkdir(parents=True,exist_ok=True)\n",
    "\n",
    "    ct_output_dir = Path(f'{kind}/DMLtest/{ct}').resolve()\n",
    "    ct_output_dir.mkdir(parents=True,exist_ok=True)\n",
    "\n",
    "    finaldmr_dir = Path(f'{kind}/DMR/').resolve()\n",
    "    finaldmr_dir.mkdir(parents=True,exist_ok=True)\n",
    "\n",
    "    dmlparts = []\n",
    "    for _,(chrom,start,end,wid) in mm10_wins.iterrows():\n",
    "        subdf = tmpdf.copy()\n",
    "        subdf['allc_path'] = subdf['sample'].apply(lambda x: ct_input_dir/f'{x}-{wid}.allc.tsv.gz')\n",
    "        submeta_path = ct_input_dir/f'{ct}-{wid}.csv'\n",
    "\n",
    "        subdf.to_csv(submeta_path)\n",
    "\n",
    "        for inallc,outallc in zip(tmpdf['allc_path'],subdf['allc_path']):\n",
    "            prepcmds.append(f'tabix {inallc} {chrom}:{start}-{end} | bgzip > {outallc}\\n')\n",
    "\n",
    "\n",
    "        cmd = f\"{Path('dss-DMLtest.r').resolve()} {submeta_path} {ct_output_dir}/{ct}-{wid}\\n\"\n",
    "        dml_test_cmds.append(cmd)\n",
    "\n",
    "        dmlparts.append(f'{ct_output_dir}/{ct}-{wid}.DMLtest.bed')\n",
    "\n",
    "    dmltottmpfn = f'{ct_output_dir}/{ct}.DMLtest.tmp.bed'\n",
    "    dmltotfn = f'{ct_output_dir}/{ct}.DMLtest.bed'\n",
    "\n",
    "    dml_finalize_cmds.append(f'tail -n +2 {dmlparts[0]} > {dmltottmpfn}\\n')\n",
    "    for p in dmlparts[1:]:\n",
    "        dml_finalize_cmds.append(f'tail -n +2 {p} >> {dmltottmpfn}\\n')\n",
    "\n",
    "    dml_finalize_cmds.append(f'head -n 1 {p} > {dmltotfn}\\n')\n",
    "    dml_finalize_cmds.append(f'cat {dmltottmpfn}  >> {dmltotfn}\\n')\n",
    "\n",
    "    dmrfn = f'{ct_output_dir}/{ct}.DMR.bed'\n",
    "    cmd = f\"{Path('dss-CallDMR.r').resolve()} {dmltotfn} {dmrfn}\\n\"\n",
    "    dmr_cmds.append(cmd)\n",
    "\n",
    "    dmrfn = f'{ct_output_dir}/{ct}.DMR.bed'\n",
    "    dmr_fixedfn = f'{finaldmr_dir}/{ct}.DMR.bed'\n",
    "    cmd = f\"awk '{{OFS=\\\"\\\\t\\\";printf \\\"%s\\\\t%d\\\\t%d\\\\n\\\", $1,$2-1,$3}}' {dmrfn} > {dmr_fixedfn}\\n\"\n",
    "    dmrfix_cmds.append(cmd)"
   ]
  },
  {
   "cell_type": "code",
   "execution_count": 21,
   "metadata": {
    "execution": {
     "iopub.execute_input": "2024-01-16T04:04:01.378346Z",
     "iopub.status.busy": "2024-01-16T04:04:01.377971Z",
     "iopub.status.idle": "2024-01-16T04:04:01.381454Z",
     "shell.execute_reply": "2024-01-16T04:04:01.380929Z",
     "shell.execute_reply.started": "2024-01-16T04:04:01.378322Z"
    },
    "tags": []
   },
   "outputs": [],
   "source": [
    "pathlib.Path(\"qsub\").mkdir(parents=True, exist_ok=True)"
   ]
  },
  {
   "cell_type": "code",
   "execution_count": 22,
   "metadata": {
    "ExecuteTime": {
     "end_time": "2021-05-24T17:03:31.054269Z",
     "start_time": "2021-05-24T17:03:31.003114Z"
    },
    "execution": {
     "iopub.execute_input": "2024-01-16T04:04:02.213179Z",
     "iopub.status.busy": "2024-01-16T04:04:02.212820Z",
     "iopub.status.idle": "2024-01-16T04:04:02.216856Z",
     "shell.execute_reply": "2024-01-16T04:04:02.216446Z",
     "shell.execute_reply.started": "2024-01-16T04:04:02.213151Z"
    },
    "tags": []
   },
   "outputs": [],
   "source": [
    "with open('qsub/00.prep.cmd','w') as f:\n",
    "    f.writelines(prepcmds)"
   ]
  },
  {
   "cell_type": "code",
   "execution_count": 23,
   "metadata": {
    "execution": {
     "iopub.execute_input": "2024-01-16T04:04:05.698131Z",
     "iopub.status.busy": "2024-01-16T04:04:05.697846Z",
     "iopub.status.idle": "2024-01-16T04:04:05.702008Z",
     "shell.execute_reply": "2024-01-16T04:04:05.701533Z",
     "shell.execute_reply.started": "2024-01-16T04:04:05.698110Z"
    },
    "tags": []
   },
   "outputs": [],
   "source": [
    "with open('qsub/01.dmltest.cmd', 'w') as f:\n",
    "    for i, cmd in enumerate(dml_test_cmds, start=1):\n",
    "        f.write(f\"{cmd.strip()} &\\n\")\n",
    "        if i % 35 == 0:\n",
    "            f.write(\"wait\\n\")\n",
    "    f.write(\"wait\\n\") "
   ]
  },
  {
   "cell_type": "code",
   "execution_count": 24,
   "metadata": {
    "ExecuteTime": {
     "end_time": "2021-05-24T17:03:31.070101Z",
     "start_time": "2021-05-24T17:03:31.056673Z"
    },
    "execution": {
     "iopub.execute_input": "2024-01-16T04:04:25.496864Z",
     "iopub.status.busy": "2024-01-16T04:04:25.496519Z",
     "iopub.status.idle": "2024-01-16T04:04:25.500055Z",
     "shell.execute_reply": "2024-01-16T04:04:25.499599Z",
     "shell.execute_reply.started": "2024-01-16T04:04:25.496841Z"
    },
    "tags": []
   },
   "outputs": [],
   "source": [
    "with open('qsub/02.dml-finalize.cmd','w') as f:\n",
    "    f.writelines(dml_finalize_cmds)"
   ]
  },
  {
   "cell_type": "code",
   "execution_count": 25,
   "metadata": {
    "ExecuteTime": {
     "end_time": "2021-05-24T17:03:31.106810Z",
     "start_time": "2021-05-24T17:03:31.074888Z"
    },
    "execution": {
     "iopub.execute_input": "2024-01-16T04:04:26.001531Z",
     "iopub.status.busy": "2024-01-16T04:04:26.001115Z",
     "iopub.status.idle": "2024-01-16T04:04:26.004224Z",
     "shell.execute_reply": "2024-01-16T04:04:26.003796Z",
     "shell.execute_reply.started": "2024-01-16T04:04:26.001510Z"
    },
    "scrolled": true,
    "tags": []
   },
   "outputs": [],
   "source": [
    "with open('qsub/03.dmr.cmd','w') as f:\n",
    "    f.writelines(dmr_cmds)"
   ]
  },
  {
   "cell_type": "code",
   "execution_count": 26,
   "metadata": {
    "ExecuteTime": {
     "end_time": "2021-05-24T17:03:31.131034Z",
     "start_time": "2021-05-24T17:03:31.110741Z"
    },
    "execution": {
     "iopub.execute_input": "2024-01-16T04:04:27.151323Z",
     "iopub.status.busy": "2024-01-16T04:04:27.151034Z",
     "iopub.status.idle": "2024-01-16T04:04:27.153976Z",
     "shell.execute_reply": "2024-01-16T04:04:27.153556Z",
     "shell.execute_reply.started": "2024-01-16T04:04:27.151302Z"
    },
    "tags": []
   },
   "outputs": [],
   "source": [
    "with open('qsub/04.fix-dss-dmr.cmd','w') as f:\n",
    "    f.writelines(dmrfix_cmds)"
   ]
  },
  {
   "cell_type": "code",
   "execution_count": 19,
   "metadata": {
    "execution": {
     "iopub.execute_input": "2023-10-17T20:52:55.136195Z",
     "iopub.status.busy": "2023-10-17T20:52:55.135987Z",
     "iopub.status.idle": "2023-10-17T20:52:55.260149Z",
     "shell.execute_reply": "2023-10-17T20:52:55.259349Z",
     "shell.execute_reply.started": "2023-10-17T20:52:55.136175Z"
    },
    "tags": []
   },
   "outputs": [
    {
     "name": "stdout",
     "output_type": "stream",
     "text": [
      "/home/qzeng/project/aging/230907-recall-dmr/Merge_DMR\n"
     ]
    }
   ],
   "source": [
    "! pwd"
   ]
  },
  {
   "cell_type": "code",
   "execution_count": null,
   "metadata": {},
   "outputs": [],
   "source": []
  }
 ],
 "metadata": {
  "kernelspec": {
   "display_name": "Python 3 (ipykernel)",
   "language": "python",
   "name": "python3"
  },
  "language_info": {
   "codemirror_mode": {
    "name": "ipython",
    "version": 3
   },
   "file_extension": ".py",
   "mimetype": "text/x-python",
   "name": "python",
   "nbconvert_exporter": "python",
   "pygments_lexer": "ipython3",
   "version": "3.7.12"
  },
  "toc": {
   "base_numbering": 1,
   "nav_menu": {},
   "number_sections": true,
   "sideBar": true,
   "skip_h1_title": false,
   "title_cell": "Table of Contents",
   "title_sidebar": "Contents",
   "toc_cell": false,
   "toc_position": {},
   "toc_section_display": true,
   "toc_window_display": false
  },
  "varInspector": {
   "cols": {
    "lenName": 16,
    "lenType": 16,
    "lenVar": 40
   },
   "kernels_config": {
    "python": {
     "delete_cmd_postfix": "",
     "delete_cmd_prefix": "del ",
     "library": "var_list.py",
     "varRefreshCmd": "print(var_dic_list())"
    },
    "r": {
     "delete_cmd_postfix": ") ",
     "delete_cmd_prefix": "rm(",
     "library": "var_list.r",
     "varRefreshCmd": "cat(var_dic_list()) "
    }
   },
   "types_to_exclude": [
    "module",
    "function",
    "builtin_function_or_method",
    "instance",
    "_Feature"
   ],
   "window_display": false
  }
 },
 "nbformat": 4,
 "nbformat_minor": 4
}
