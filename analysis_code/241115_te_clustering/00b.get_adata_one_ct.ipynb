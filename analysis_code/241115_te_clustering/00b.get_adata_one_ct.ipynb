{
 "cells": [
  {
   "cell_type": "code",
   "execution_count": 1,
   "metadata": {},
   "outputs": [],
   "source": [
    "import glob\n",
    "from ALLCools.mcds import MCDS\n",
    "import pandas as pd\n",
    "import time\n",
    "import pybedtools\n",
    "import anndata\n",
    "import numpy as np\n",
    "from scipy.sparse import coo_matrix, csc_matrix, csr_matrix, vstack, save_npz"
   ]
  },
  {
   "cell_type": "code",
   "execution_count": 2,
   "metadata": {},
   "outputs": [],
   "source": [
    "mc_type = 'CGN'\n",
    "te_class = 'LINE'\n",
    "inout='all'\n",
    "ct = 'DG_Glut'"
   ]
  },
  {
   "cell_type": "code",
   "execution_count": 3,
   "metadata": {},
   "outputs": [],
   "source": [
    "genomepath = '/ref/m3C/mm10.main.nochrM.nochrY.chrom.sizes'\n",
    "gene_bed = pybedtools.BedTool('TE_use.gencode.vM22.annotation.gene.sorted.bed')\n",
    "te_bed = pybedtools.BedTool(f'/ref/repeatmasker-with-id/hg38.repeatmasker.repClass-{te_class}.bed')"
   ]
  },
  {
   "cell_type": "code",
   "execution_count": 4,
   "metadata": {},
   "outputs": [
    {
     "data": {
      "text/html": [
       "<div>\n",
       "<style scoped>\n",
       "    .dataframe tbody tr th:only-of-type {\n",
       "        vertical-align: middle;\n",
       "    }\n",
       "\n",
       "    .dataframe tbody tr th {\n",
       "        vertical-align: top;\n",
       "    }\n",
       "\n",
       "    .dataframe thead th {\n",
       "        text-align: right;\n",
       "    }\n",
       "</style>\n",
       "<table border=\"1\" class=\"dataframe\">\n",
       "  <thead>\n",
       "    <tr style=\"text-align: right;\">\n",
       "      <th></th>\n",
       "      <th>InputReadPairs</th>\n",
       "      <th>InputReadPairsBP</th>\n",
       "      <th>TrimmedReadPairs</th>\n",
       "      <th>R1WithAdapters</th>\n",
       "      <th>R1QualTrimBP</th>\n",
       "      <th>R1TrimmedReadsBP</th>\n",
       "      <th>R2WithAdapters</th>\n",
       "      <th>R2QualTrimBP</th>\n",
       "      <th>R2TrimmedReadsBP</th>\n",
       "      <th>UniqueMappedReads</th>\n",
       "      <th>...</th>\n",
       "      <th>DissectionRegion</th>\n",
       "      <th>Region</th>\n",
       "      <th>Replicate</th>\n",
       "      <th>l1</th>\n",
       "      <th>mc_m3c-co_cluster_l1</th>\n",
       "      <th>mc_m3c-co_cluster_l2</th>\n",
       "      <th>CellType</th>\n",
       "      <th>CellSubclass</th>\n",
       "      <th>AgingMajorType</th>\n",
       "      <th>Class</th>\n",
       "    </tr>\n",
       "    <tr>\n",
       "      <th>cell</th>\n",
       "      <th></th>\n",
       "      <th></th>\n",
       "      <th></th>\n",
       "      <th></th>\n",
       "      <th></th>\n",
       "      <th></th>\n",
       "      <th></th>\n",
       "      <th></th>\n",
       "      <th></th>\n",
       "      <th></th>\n",
       "      <th></th>\n",
       "      <th></th>\n",
       "      <th></th>\n",
       "      <th></th>\n",
       "      <th></th>\n",
       "      <th></th>\n",
       "      <th></th>\n",
       "      <th></th>\n",
       "      <th></th>\n",
       "      <th></th>\n",
       "      <th></th>\n",
       "    </tr>\n",
       "  </thead>\n",
       "  <tbody>\n",
       "    <tr>\n",
       "      <th>AMB_220628_18mo_3F_4E_1_P1-1-I3-A1</th>\n",
       "      <td>1710943</td>\n",
       "      <td>516615812</td>\n",
       "      <td>1710512</td>\n",
       "      <td>309</td>\n",
       "      <td>766343</td>\n",
       "      <td>216480647</td>\n",
       "      <td>874</td>\n",
       "      <td>649089</td>\n",
       "      <td>230238965</td>\n",
       "      <td>1870858</td>\n",
       "      <td>...</td>\n",
       "      <td>ACB-1+ACB-2</td>\n",
       "      <td>Nucleus_accumbens</td>\n",
       "      <td>rep2</td>\n",
       "      <td>13</td>\n",
       "      <td>23</td>\n",
       "      <td>0-0</td>\n",
       "      <td>STR D1 Gaba</td>\n",
       "      <td>STR D1 Gaba</td>\n",
       "      <td>STR_D1_Gaba</td>\n",
       "      <td>Gaba</td>\n",
       "    </tr>\n",
       "    <tr>\n",
       "      <th>AMB_220628_18mo_3F_4E_1_P1-1-I3-A13</th>\n",
       "      <td>1688475</td>\n",
       "      <td>510130057</td>\n",
       "      <td>1688130</td>\n",
       "      <td>316</td>\n",
       "      <td>725418</td>\n",
       "      <td>213815592</td>\n",
       "      <td>832</td>\n",
       "      <td>673498</td>\n",
       "      <td>227339515</td>\n",
       "      <td>1820523</td>\n",
       "      <td>...</td>\n",
       "      <td>ACB-1+ACB-2</td>\n",
       "      <td>Nucleus_accumbens</td>\n",
       "      <td>rep2</td>\n",
       "      <td>11</td>\n",
       "      <td>6</td>\n",
       "      <td>12-6</td>\n",
       "      <td>STR-PAL Chst9 Gaba</td>\n",
       "      <td>STR D1 Sema5a Gaba</td>\n",
       "      <td>STR_D1_Sema5a_Gaba</td>\n",
       "      <td>Gaba</td>\n",
       "    </tr>\n",
       "    <tr>\n",
       "      <th>AMB_220628_18mo_3F_4E_1_P1-1-I3-A14</th>\n",
       "      <td>2158376</td>\n",
       "      <td>651979882</td>\n",
       "      <td>2157941</td>\n",
       "      <td>456</td>\n",
       "      <td>998559</td>\n",
       "      <td>273186730</td>\n",
       "      <td>1132</td>\n",
       "      <td>869248</td>\n",
       "      <td>290536436</td>\n",
       "      <td>2374173</td>\n",
       "      <td>...</td>\n",
       "      <td>ACB-1+ACB-2</td>\n",
       "      <td>Nucleus_accumbens</td>\n",
       "      <td>rep2</td>\n",
       "      <td>8</td>\n",
       "      <td>4</td>\n",
       "      <td>2-2</td>\n",
       "      <td>Astro NN</td>\n",
       "      <td>Astro-TE NN</td>\n",
       "      <td>Astro-TE_NN</td>\n",
       "      <td>NN</td>\n",
       "    </tr>\n",
       "    <tr>\n",
       "      <th>AMB_220628_18mo_3F_4E_1_P1-1-I3-A2</th>\n",
       "      <td>1582810</td>\n",
       "      <td>478040623</td>\n",
       "      <td>1582446</td>\n",
       "      <td>283</td>\n",
       "      <td>708122</td>\n",
       "      <td>200329678</td>\n",
       "      <td>853</td>\n",
       "      <td>626267</td>\n",
       "      <td>213020525</td>\n",
       "      <td>1746308</td>\n",
       "      <td>...</td>\n",
       "      <td>ACB-1+ACB-2</td>\n",
       "      <td>Nucleus_accumbens</td>\n",
       "      <td>rep2</td>\n",
       "      <td>9</td>\n",
       "      <td>8</td>\n",
       "      <td>7-6</td>\n",
       "      <td>STR D2 Gaba</td>\n",
       "      <td>STR D2 Gaba</td>\n",
       "      <td>STR_D2_Gaba</td>\n",
       "      <td>Gaba</td>\n",
       "    </tr>\n",
       "    <tr>\n",
       "      <th>AMB_220628_18mo_3F_4E_1_P1-1-I3-B1</th>\n",
       "      <td>1766714</td>\n",
       "      <td>533610284</td>\n",
       "      <td>1766279</td>\n",
       "      <td>411</td>\n",
       "      <td>810795</td>\n",
       "      <td>223604054</td>\n",
       "      <td>1045</td>\n",
       "      <td>691737</td>\n",
       "      <td>237777442</td>\n",
       "      <td>1968711</td>\n",
       "      <td>...</td>\n",
       "      <td>ACB-1+ACB-2</td>\n",
       "      <td>Nucleus_accumbens</td>\n",
       "      <td>rep2</td>\n",
       "      <td>13</td>\n",
       "      <td>23</td>\n",
       "      <td>0-0</td>\n",
       "      <td>STR D1 Gaba</td>\n",
       "      <td>STR D1 Gaba</td>\n",
       "      <td>STR_D1_Gaba</td>\n",
       "      <td>Gaba</td>\n",
       "    </tr>\n",
       "  </tbody>\n",
       "</table>\n",
       "<p>5 rows × 62 columns</p>\n",
       "</div>"
      ],
      "text/plain": [
       "                                     InputReadPairs  InputReadPairsBP  \\\n",
       "cell                                                                    \n",
       "AMB_220628_18mo_3F_4E_1_P1-1-I3-A1          1710943         516615812   \n",
       "AMB_220628_18mo_3F_4E_1_P1-1-I3-A13         1688475         510130057   \n",
       "AMB_220628_18mo_3F_4E_1_P1-1-I3-A14         2158376         651979882   \n",
       "AMB_220628_18mo_3F_4E_1_P1-1-I3-A2          1582810         478040623   \n",
       "AMB_220628_18mo_3F_4E_1_P1-1-I3-B1          1766714         533610284   \n",
       "\n",
       "                                     TrimmedReadPairs  R1WithAdapters  \\\n",
       "cell                                                                    \n",
       "AMB_220628_18mo_3F_4E_1_P1-1-I3-A1            1710512             309   \n",
       "AMB_220628_18mo_3F_4E_1_P1-1-I3-A13           1688130             316   \n",
       "AMB_220628_18mo_3F_4E_1_P1-1-I3-A14           2157941             456   \n",
       "AMB_220628_18mo_3F_4E_1_P1-1-I3-A2            1582446             283   \n",
       "AMB_220628_18mo_3F_4E_1_P1-1-I3-B1            1766279             411   \n",
       "\n",
       "                                     R1QualTrimBP  R1TrimmedReadsBP  \\\n",
       "cell                                                                  \n",
       "AMB_220628_18mo_3F_4E_1_P1-1-I3-A1         766343         216480647   \n",
       "AMB_220628_18mo_3F_4E_1_P1-1-I3-A13        725418         213815592   \n",
       "AMB_220628_18mo_3F_4E_1_P1-1-I3-A14        998559         273186730   \n",
       "AMB_220628_18mo_3F_4E_1_P1-1-I3-A2         708122         200329678   \n",
       "AMB_220628_18mo_3F_4E_1_P1-1-I3-B1         810795         223604054   \n",
       "\n",
       "                                     R2WithAdapters  R2QualTrimBP  \\\n",
       "cell                                                                \n",
       "AMB_220628_18mo_3F_4E_1_P1-1-I3-A1              874        649089   \n",
       "AMB_220628_18mo_3F_4E_1_P1-1-I3-A13             832        673498   \n",
       "AMB_220628_18mo_3F_4E_1_P1-1-I3-A14            1132        869248   \n",
       "AMB_220628_18mo_3F_4E_1_P1-1-I3-A2              853        626267   \n",
       "AMB_220628_18mo_3F_4E_1_P1-1-I3-B1             1045        691737   \n",
       "\n",
       "                                     R2TrimmedReadsBP  UniqueMappedReads  ...  \\\n",
       "cell                                                                      ...   \n",
       "AMB_220628_18mo_3F_4E_1_P1-1-I3-A1          230238965            1870858  ...   \n",
       "AMB_220628_18mo_3F_4E_1_P1-1-I3-A13         227339515            1820523  ...   \n",
       "AMB_220628_18mo_3F_4E_1_P1-1-I3-A14         290536436            2374173  ...   \n",
       "AMB_220628_18mo_3F_4E_1_P1-1-I3-A2          213020525            1746308  ...   \n",
       "AMB_220628_18mo_3F_4E_1_P1-1-I3-B1          237777442            1968711  ...   \n",
       "\n",
       "                                     DissectionRegion             Region  \\\n",
       "cell                                                                       \n",
       "AMB_220628_18mo_3F_4E_1_P1-1-I3-A1        ACB-1+ACB-2  Nucleus_accumbens   \n",
       "AMB_220628_18mo_3F_4E_1_P1-1-I3-A13       ACB-1+ACB-2  Nucleus_accumbens   \n",
       "AMB_220628_18mo_3F_4E_1_P1-1-I3-A14       ACB-1+ACB-2  Nucleus_accumbens   \n",
       "AMB_220628_18mo_3F_4E_1_P1-1-I3-A2        ACB-1+ACB-2  Nucleus_accumbens   \n",
       "AMB_220628_18mo_3F_4E_1_P1-1-I3-B1        ACB-1+ACB-2  Nucleus_accumbens   \n",
       "\n",
       "                                     Replicate  l1  mc_m3c-co_cluster_l1  \\\n",
       "cell                                                                       \n",
       "AMB_220628_18mo_3F_4E_1_P1-1-I3-A1        rep2  13                    23   \n",
       "AMB_220628_18mo_3F_4E_1_P1-1-I3-A13       rep2  11                     6   \n",
       "AMB_220628_18mo_3F_4E_1_P1-1-I3-A14       rep2   8                     4   \n",
       "AMB_220628_18mo_3F_4E_1_P1-1-I3-A2        rep2   9                     8   \n",
       "AMB_220628_18mo_3F_4E_1_P1-1-I3-B1        rep2  13                    23   \n",
       "\n",
       "                                     mc_m3c-co_cluster_l2            CellType  \\\n",
       "cell                                                                            \n",
       "AMB_220628_18mo_3F_4E_1_P1-1-I3-A1                    0-0         STR D1 Gaba   \n",
       "AMB_220628_18mo_3F_4E_1_P1-1-I3-A13                  12-6  STR-PAL Chst9 Gaba   \n",
       "AMB_220628_18mo_3F_4E_1_P1-1-I3-A14                   2-2            Astro NN   \n",
       "AMB_220628_18mo_3F_4E_1_P1-1-I3-A2                    7-6         STR D2 Gaba   \n",
       "AMB_220628_18mo_3F_4E_1_P1-1-I3-B1                    0-0         STR D1 Gaba   \n",
       "\n",
       "                                           CellSubclass      AgingMajorType  \\\n",
       "cell                                                                          \n",
       "AMB_220628_18mo_3F_4E_1_P1-1-I3-A1          STR D1 Gaba         STR_D1_Gaba   \n",
       "AMB_220628_18mo_3F_4E_1_P1-1-I3-A13  STR D1 Sema5a Gaba  STR_D1_Sema5a_Gaba   \n",
       "AMB_220628_18mo_3F_4E_1_P1-1-I3-A14         Astro-TE NN         Astro-TE_NN   \n",
       "AMB_220628_18mo_3F_4E_1_P1-1-I3-A2          STR D2 Gaba         STR_D2_Gaba   \n",
       "AMB_220628_18mo_3F_4E_1_P1-1-I3-B1          STR D1 Gaba         STR_D1_Gaba   \n",
       "\n",
       "                                     Class  \n",
       "cell                                        \n",
       "AMB_220628_18mo_3F_4E_1_P1-1-I3-A1    Gaba  \n",
       "AMB_220628_18mo_3F_4E_1_P1-1-I3-A13   Gaba  \n",
       "AMB_220628_18mo_3F_4E_1_P1-1-I3-A14     NN  \n",
       "AMB_220628_18mo_3F_4E_1_P1-1-I3-A2    Gaba  \n",
       "AMB_220628_18mo_3F_4E_1_P1-1-I3-B1    Gaba  \n",
       "\n",
       "[5 rows x 62 columns]"
      ]
     },
     "execution_count": 4,
     "metadata": {},
     "output_type": "execute_result"
    }
   ],
   "source": [
    "meta = pd.read_csv('/data/metadata/240104_m3C_META.csv', index_col =0)\n",
    "meta['AgingMajorType'] = meta['AgingMajorType'].apply(lambda x: x.replace(' ','_').replace('/',''))\n",
    "meta.head()"
   ]
  },
  {
   "cell_type": "code",
   "execution_count": 8,
   "metadata": {},
   "outputs": [],
   "source": [
    "all_cts = ['Oligo_NN', 'STR_D1_Gaba', 'Astro-TE_NN', 'STR_D2_Gaba',\n",
    "          'L6_CT_CTX_Glut', 'VLMC_NN', 'OPC_NN',\n",
    "          'L23_IT_CTX_Glut', 'CA1-ProS_Glut', 'CEA-BST_Gaba', 'MEA-COA_Glut',\n",
    "          'Pvalb_Gaba', 'L45_IT_CTX_Glut', 'L6bCT_ENT_Glut',\n",
    "          'STR-PAL_Chst9_Gaba', 'L23_IT_PPP_Glut', 'Astro-NT_NN',\n",
    "          'L6_IT_CTX_Glut', 'CA3_Glut', 'Sst_Gaba', 'MEA-BST_Gaba']"
   ]
  },
  {
   "cell_type": "code",
   "execution_count": 7,
   "metadata": {},
   "outputs": [
    {
     "data": {
      "text/plain": [
       "122"
      ]
     },
     "execution_count": 7,
     "metadata": {},
     "output_type": "execute_result"
    }
   ],
   "source": [
    "all_mcds_paths = glob.glob(f'/data/female-amb/Famale.TE.zarr/*/{te_class}') \n",
    "len(all_mcds_paths)"
   ]
  },
  {
   "cell_type": "code",
   "execution_count": null,
   "metadata": {},
   "outputs": [],
   "source": [
    "mcds = MCDS.open(\n",
    "    all_mcds_paths, \n",
    "    #use_obs = use_cells,\n",
    "    obs_dim='cell', \n",
    "    ).sel(mc_type = mc_type)"
   ]
  },
  {
   "cell_type": "code",
   "execution_count": null,
   "metadata": {},
   "outputs": [],
   "source": [
    "for ct in all_cts:\n",
    "    use_cells = meta[meta['AgingMajorType'] == ct].index\n",
    "    if te_class == 'LINE':\n",
    "        tmp_mcds = mcds.sel(LINE = mcds.get_index(te_class).isin(te['te_id'].unique()), \n",
    "                        cell = mcds.get_index('cell').isin(use_cells))\n",
    "    elif te_class == 'SINE':\n",
    "        tmp_mcds = mcds.sel(SINE = mcds.get_index(te_class).isin(te['te_id'].unique()),\n",
    "                        cell = mcds.get_index('cell').isin(use_cells))\n",
    "    else:\n",
    "        tmp_mcds = mcds.sel(LTR = mcds.get_index(te_class).isin(te['te_id'].unique()),\n",
    "                        cell = mcds.get_index('cell').isin(use_cells))\n",
    "    tmp = tmp_mcds[f'{te_class}_da'].sel(count_type='mc').values.astype(np.float16)/tmp_mcds[f'{te_class}_da'].sel(count_type='cov').values.astype(np.float16)\n",
    "    ads = anndata.AnnData(csr_matrix(tmp<=0.75, dtype=np.uint8), \n",
    "                      obs=mcds.get_index('cell').to_frame()[[]],\n",
    "                      var=mcds.get_index(te_class).to_frame()[[]],\n",
    "                      dtype=np.uint8)\n",
    "    ads.write_h5ad(f\"/home/qzeng_salk_edu/project/241115_te_clustering/adata/{ct}.{te_class}.downsampled.h5ad\")\n",
    "    print(f\"{ct} done\")"
   ]
  },
  {
   "cell_type": "code",
   "execution_count": 6,
   "metadata": {},
   "outputs": [],
   "source": [
    "# te_ref = pd.read_csv(f\"/ref/repeatmasker-with-id/hg38.repeatmasker.repClass-{te_class}.bed\", sep='\\t', header=None)\n",
    "# # index as chr1-3188159-3188425\n",
    "# te_ref.index = te_ref[0]+'-'+te_ref[1].astype(str)+'-'+te_ref[2].astype(str)\n",
    "\n",
    "# # select features\n",
    "# hyper_te =pd.read_csv(f'/data/female-amb/aDMR_TE_overlap/Hyper/{ct}.TE.bed', sep='\\t', header=None, index_col=3)  \n",
    "# hypo_te =pd.read_csv(f'/data/female-amb/aDMR_TE_overlap/Hypo/{ct}.TE.bed', sep='\\t', header=None, index_col=3)\n",
    "# # concat hyper and hypo\n",
    "# te = pd.concat([hyper_te, hypo_te])\n",
    "# # te index use 7 8 9\n",
    "# te.index = te[7]+'-'+te[8].astype(str)+'-'+te[9].astype(str)\n",
    "# te['te_id'] = te_ref[3].to_dict()\n",
    "# te = te.dropna()\n",
    "# # drop duplicate\n",
    "# te = te.drop_duplicates()\n",
    "# te"
   ]
  },
  {
   "cell_type": "code",
   "execution_count": 35,
   "metadata": {},
   "outputs": [],
   "source": [
    "#mcds = mcds[f'{te_class}_da'].load()  "
   ]
  },
  {
   "cell_type": "code",
   "execution_count": 9,
   "metadata": {},
   "outputs": [
    {
     "name": "stderr",
     "output_type": "stream",
     "text": [
      "/var/tmp/ipykernel_358449/700226016.py:1: RuntimeWarning: invalid value encountered in divide\n",
      "  tmp = mcds[f'{te_class}_da'].sel(count_type='mc').values.astype(np.float16)/mcds[f'{te_class}_da'].sel(count_type='cov').values.astype(np.float16)\n"
     ]
    }
   ],
   "source": [
    "# tmp = tmp_mcds[f'{te_class}_da'].sel(count_type='mc').values.astype(np.float16)/tmp_mcds[f'{te_class}_da'].sel(count_type='cov').values.astype(np.float16)"
   ]
  },
  {
   "cell_type": "code",
   "execution_count": 9,
   "metadata": {},
   "outputs": [],
   "source": [
    "# ads = anndata.AnnData(csr_matrix(tmp<=0.75, dtype=np.uint8), \n",
    "#                       obs=mcds.get_index('cell').to_frame()[[]],\n",
    "#                       var=mcds.get_index(te_class).to_frame()[[]],\n",
    "#                       dtype=np.uint8)"
   ]
  },
  {
   "cell_type": "code",
   "execution_count": 10,
   "metadata": {},
   "outputs": [],
   "source": [
    "# ads.write_h5ad(f\"adata/{ct}.{te_class}.downsampled.h5ad\")\n",
    "# ads"
   ]
  },
  {
   "cell_type": "code",
   "execution_count": 11,
   "metadata": {},
   "outputs": [],
   "source": [
    "# del tmp"
   ]
  },
  {
   "cell_type": "code",
   "execution_count": 40,
   "metadata": {},
   "outputs": [],
   "source": [
    "# mcds.add_mc_frac(\n",
    "#     var_dim = te_class,\n",
    "# normalize_per_cell=True,  # after calculating mC frac, per cell normalize the matrix\n",
    "#     clip_norm_value=10  # clip outlier values above 10 to 10\n",
    "# )\n"
   ]
  },
  {
   "cell_type": "code",
   "execution_count": 41,
   "metadata": {},
   "outputs": [],
   "source": [
    "# adata = mcds.get_count_adata(da_name=f'{te_class}_da_frac',var_dim=te_class, \n",
    "#                                 loading_chunk=50000)\n"
   ]
  },
  {
   "cell_type": "code",
   "execution_count": 42,
   "metadata": {},
   "outputs": [],
   "source": [
    "#adata.write_h5ad(f\"{te_class}.norm_downsampled.h5ad\")"
   ]
  },
  {
   "cell_type": "code",
   "execution_count": null,
   "metadata": {},
   "outputs": [],
   "source": []
  },
  {
   "cell_type": "code",
   "execution_count": null,
   "metadata": {},
   "outputs": [],
   "source": []
  },
  {
   "cell_type": "code",
   "execution_count": null,
   "metadata": {},
   "outputs": [],
   "source": []
  },
  {
   "cell_type": "code",
   "execution_count": null,
   "metadata": {},
   "outputs": [],
   "source": []
  },
  {
   "cell_type": "code",
   "execution_count": null,
   "metadata": {},
   "outputs": [],
   "source": []
  },
  {
   "cell_type": "code",
   "execution_count": null,
   "metadata": {},
   "outputs": [],
   "source": []
  },
  {
   "cell_type": "code",
   "execution_count": null,
   "metadata": {},
   "outputs": [],
   "source": []
  },
  {
   "cell_type": "code",
   "execution_count": null,
   "metadata": {},
   "outputs": [],
   "source": []
  },
  {
   "cell_type": "code",
   "execution_count": null,
   "metadata": {},
   "outputs": [],
   "source": []
  },
  {
   "cell_type": "code",
   "execution_count": null,
   "metadata": {},
   "outputs": [],
   "source": []
  },
  {
   "cell_type": "code",
   "execution_count": null,
   "metadata": {},
   "outputs": [],
   "source": []
  },
  {
   "cell_type": "code",
   "execution_count": null,
   "metadata": {},
   "outputs": [],
   "source": []
  },
  {
   "cell_type": "code",
   "execution_count": null,
   "metadata": {},
   "outputs": [],
   "source": []
  },
  {
   "cell_type": "code",
   "execution_count": null,
   "metadata": {},
   "outputs": [],
   "source": []
  },
  {
   "cell_type": "code",
   "execution_count": null,
   "metadata": {},
   "outputs": [],
   "source": []
  },
  {
   "cell_type": "code",
   "execution_count": null,
   "metadata": {},
   "outputs": [],
   "source": []
  },
  {
   "cell_type": "code",
   "execution_count": null,
   "metadata": {},
   "outputs": [],
   "source": []
  },
  {
   "cell_type": "code",
   "execution_count": null,
   "metadata": {},
   "outputs": [],
   "source": []
  },
  {
   "cell_type": "code",
   "execution_count": null,
   "metadata": {},
   "outputs": [],
   "source": []
  },
  {
   "cell_type": "code",
   "execution_count": null,
   "metadata": {},
   "outputs": [],
   "source": []
  },
  {
   "cell_type": "code",
   "execution_count": null,
   "metadata": {},
   "outputs": [],
   "source": []
  },
  {
   "cell_type": "code",
   "execution_count": null,
   "metadata": {},
   "outputs": [],
   "source": []
  },
  {
   "cell_type": "code",
   "execution_count": null,
   "metadata": {},
   "outputs": [],
   "source": []
  },
  {
   "cell_type": "code",
   "execution_count": null,
   "metadata": {},
   "outputs": [],
   "source": []
  },
  {
   "cell_type": "code",
   "execution_count": null,
   "metadata": {},
   "outputs": [],
   "source": []
  }
 ],
 "metadata": {
  "kernelspec": {
   "display_name": "base",
   "language": "python",
   "name": "python3"
  },
  "language_info": {
   "codemirror_mode": {
    "name": "ipython",
    "version": 3
   },
   "file_extension": ".py",
   "mimetype": "text/x-python",
   "name": "python",
   "nbconvert_exporter": "python",
   "pygments_lexer": "ipython3",
   "version": "3.10.12"
  }
 },
 "nbformat": 4,
 "nbformat_minor": 2
}
