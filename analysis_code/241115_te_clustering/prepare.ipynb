{
 "cells": [
  {
   "cell_type": "code",
   "execution_count": 1,
   "metadata": {},
   "outputs": [
    {
     "name": "stderr",
     "output_type": "stream",
     "text": [
      "INFO:numexpr.utils:Note: NumExpr detected 48 cores but \"NUMEXPR_MAX_THREADS\" not set, so enforcing safe limit of 8.\n",
      "INFO:numexpr.utils:NumExpr defaulting to 8 threads.\n"
     ]
    }
   ],
   "source": [
    "from gliderport.preset import notebook_snakemake\n",
    "import glob"
   ]
  },
  {
   "cell_type": "code",
   "execution_count": 2,
   "metadata": {},
   "outputs": [],
   "source": [
    "group_dict = {'group1':['Oligo_NN', 'STR_D1_Gaba', 'Astro-TE_NN', 'STR_D2_Gaba','L6_CT_CTX_Glut'],\n",
    "         'group2':['VLMC_NN', 'OPC_NN','L23_IT_CTX_Glut', 'CA1-ProS_Glut', 'CEA-BST_Gaba'],\n",
    "        'group3':['MEA-COA_Glut','Pvalb_Gaba', 'L45_IT_CTX_Glut', 'L6bCT_ENT_Glut','STR-PAL_Chst9_Gaba'],\n",
    "        'group4':['L23_IT_PPP_Glut', 'Astro-NT_NN','L6_IT_CTX_Glut', 'CA3_Glut', 'Sst_Gaba', 'MEA-BST_Gaba'],    \n",
    "        }"
   ]
  },
  {
   "cell_type": "code",
   "execution_count": 3,
   "metadata": {},
   "outputs": [
    {
     "data": {
      "text/plain": [
       "dict_keys(['group1', 'group2', 'group3', 'group4'])"
      ]
     },
     "execution_count": 3,
     "metadata": {},
     "output_type": "execute_result"
    }
   ],
   "source": [
    "groups = group_dict.keys()\n",
    "groups"
   ]
  },
  {
   "cell_type": "code",
   "execution_count": 4,
   "metadata": {},
   "outputs": [
    {
     "data": {
      "text/plain": [
       "21"
      ]
     },
     "execution_count": 4,
     "metadata": {},
     "output_type": "execute_result"
    }
   ],
   "source": [
    "all_cts = ['Oligo_NN', 'STR_D1_Gaba', 'Astro-TE_NN', 'STR_D2_Gaba',\n",
    "          'L6_CT_CTX_Glut', 'VLMC_NN', 'OPC_NN',\n",
    "          'L23_IT_CTX_Glut', 'CA1-ProS_Glut', 'CEA-BST_Gaba', 'MEA-COA_Glut',\n",
    "          'Pvalb_Gaba', 'L45_IT_CTX_Glut', 'L6bCT_ENT_Glut',\n",
    "          'STR-PAL_Chst9_Gaba', 'L23_IT_PPP_Glut', 'Astro-NT_NN',\n",
    "          'L6_IT_CTX_Glut', 'CA3_Glut', 'Sst_Gaba', 'MEA-BST_Gaba']\n",
    "len(all_cts)"
   ]
  },
  {
   "cell_type": "code",
   "execution_count": 5,
   "metadata": {},
   "outputs": [
    {
     "data": {
      "text/plain": [
       "['CA3_Glut',\n",
       " 'Sst_Gaba',\n",
       " 'MEA-BST_Gaba',\n",
       " 'L6_IT_CTX_Glut',\n",
       " 'STR_D2_Gaba',\n",
       " 'L23_IT_CTX_Glut',\n",
       " 'L45_IT_CTX_Glut',\n",
       " 'Microglia_NN',\n",
       " 'Astro-TE_NN',\n",
       " 'L6_CT_CTX_Glut',\n",
       " 'Pvalb_Gaba',\n",
       " 'L6bCT_ENT_Glut',\n",
       " 'MEA-COA_Glut',\n",
       " 'STR-PAL_Chst9_Gaba',\n",
       " 'CEA-BST_Gaba',\n",
       " 'L23_IT_PPP_Glut',\n",
       " 'STR_D1_Gaba',\n",
       " 'VLMC_NN',\n",
       " 'CA1-ProS_Glut',\n",
       " 'OPC_NN',\n",
       " 'Oligo_NN',\n",
       " 'DG_Glut',\n",
       " 'Astro-NT_NN']"
      ]
     },
     "execution_count": 5,
     "metadata": {},
     "output_type": "execute_result"
    }
   ],
   "source": [
    "all_cts = glob.glob(f\"/home/qzeng_salk_edu/project/241115_te_clustering/adata/celltype/*.h5ad\")\n",
    "all_cts = [path.split('/')[-1].split('.')[0] for path in all_cts]\n",
    "all_cts"
   ]
  },
  {
   "cell_type": "code",
   "execution_count": 6,
   "metadata": {},
   "outputs": [],
   "source": [
    "notebook_snakemake(\n",
    "    work_dir=\"plot_LINE_by_ct/\",\n",
    "    notebook_dir=\"template/\",\n",
    "    groups=all_cts,\n",
    "    default_cpu=5,\n",
    "    default_mem_gb=10,\n",
    "    redo_prepare=False,\n",
    ")"
   ]
  },
  {
   "cell_type": "code",
   "execution_count": null,
   "metadata": {},
   "outputs": [],
   "source": []
  },
  {
   "cell_type": "code",
   "execution_count": null,
   "metadata": {},
   "outputs": [],
   "source": []
  },
  {
   "cell_type": "code",
   "execution_count": null,
   "metadata": {},
   "outputs": [],
   "source": []
  },
  {
   "cell_type": "code",
   "execution_count": null,
   "metadata": {},
   "outputs": [],
   "source": []
  }
 ],
 "metadata": {
  "kernelspec": {
   "display_name": "base",
   "language": "python",
   "name": "python3"
  },
  "language_info": {
   "codemirror_mode": {
    "name": "ipython",
    "version": 3
   },
   "file_extension": ".py",
   "mimetype": "text/x-python",
   "name": "python",
   "nbconvert_exporter": "python",
   "pygments_lexer": "ipython3",
   "version": "3.10.12"
  }
 },
 "nbformat": 4,
 "nbformat_minor": 2
}
