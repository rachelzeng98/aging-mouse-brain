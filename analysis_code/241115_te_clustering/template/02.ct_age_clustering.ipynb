{
 "cells": [
  {
   "cell_type": "code",
   "execution_count": 2,
   "id": "8495f9ab",
   "metadata": {
    "execution": {
     "iopub.execute_input": "2024-11-19T19:49:12.396755Z",
     "iopub.status.busy": "2024-11-19T19:49:12.396370Z",
     "iopub.status.idle": "2024-11-19T19:49:18.454057Z",
     "shell.execute_reply": "2024-11-19T19:49:18.452991Z"
    },
    "papermill": {
     "duration": 6.063432,
     "end_time": "2024-11-19T19:49:18.456175",
     "exception": false,
     "start_time": "2024-11-19T19:49:12.392743",
     "status": "completed"
    },
    "tags": []
   },
   "outputs": [],
   "source": [
    "import anndata \n",
    "import pandas as pd\n",
    "import scanpy as sc\n",
    "import pybedtools\n",
    "import numpy as np\n",
    "from ALLCools.plot import categorical_scatter,continuous_scatter\n",
    "import matplotlib.pyplot as plt\n",
    "from ALLCools.clustering import \\\n",
    "    tsne, \\\n",
    "    significant_pc_test, \\\n",
    "    filter_regions, \\\n",
    "    remove_black_list_region, \\\n",
    "    lsi, \\\n",
    "    binarize_matrix\n",
    "import joblib\n",
    "from amb import *\n",
    "from ALLCools.clustering import *\n",
    "\n",
    "\n",
    "plt.rcParams['figure.dpi'] = 100\n",
    "plt.rcParams['savefig.dpi']=300\n",
    "plt.rcParams['pdf.fonttype']=42\n",
    "\n",
    "age_palette = get_age_palette()\n",
    "age_palette['8wk'] = age_palette['2mo']\n",
    "\n",
    "ct_palette = joblib.load('/home/qzeng_salk_edu/project/240319_te/AgingMajorType_Palette')\n",
    "# replace the keys by .apply(lambda x: x.replace(' ','_').replace('/',''))\n",
    "ct_palette = {x.replace(' ','_').replace('/',''):y for x,y in ct_palette.items()}\n",
    "\n",
    "region_palette = get_major_region_palette()"
   ]
  },
  {
   "cell_type": "code",
   "execution_count": 3,
   "id": "30703c68",
   "metadata": {
    "execution": {
     "iopub.execute_input": "2024-11-19T19:49:18.465018Z",
     "iopub.status.busy": "2024-11-19T19:49:18.463342Z",
     "iopub.status.idle": "2024-11-19T19:49:18.467487Z",
     "shell.execute_reply": "2024-11-19T19:49:18.466992Z"
    },
    "papermill": {
     "duration": 0.018819,
     "end_time": "2024-11-19T19:49:18.477990",
     "exception": false,
     "start_time": "2024-11-19T19:49:18.459171",
     "status": "completed"
    },
    "tags": []
   },
   "outputs": [],
   "source": [
    "#group_name = 'CA1-ProS_Glut'"
   ]
  },
  {
   "cell_type": "code",
   "execution_count": 4,
   "id": "660b71b8",
   "metadata": {
    "execution": {
     "iopub.execute_input": "2024-11-19T19:49:18.488843Z",
     "iopub.status.busy": "2024-11-19T19:49:18.488387Z",
     "iopub.status.idle": "2024-11-19T19:49:18.492168Z",
     "shell.execute_reply": "2024-11-19T19:49:18.491463Z"
    },
    "papermill": {
     "duration": 0.023082,
     "end_time": "2024-11-19T19:49:18.504601",
     "exception": false,
     "start_time": "2024-11-19T19:49:18.481519",
     "status": "completed"
    },
    "tags": []
   },
   "outputs": [],
   "source": [
    "mc_type = 'CGN'\n",
    "te_class = 'LINE'\n",
    "inout='in'\n",
    "ct = group_name"
   ]
  },
  {
   "cell_type": "code",
   "execution_count": 5,
   "id": "5bda70cf",
   "metadata": {
    "execution": {
     "iopub.execute_input": "2024-11-19T19:49:18.550747Z",
     "iopub.status.busy": "2024-11-19T19:49:18.550382Z",
     "iopub.status.idle": "2024-11-19T19:49:18.634735Z",
     "shell.execute_reply": "2024-11-19T19:49:18.634121Z"
    },
    "papermill": {
     "duration": 0.094602,
     "end_time": "2024-11-19T19:49:18.636774",
     "exception": false,
     "start_time": "2024-11-19T19:49:18.542172",
     "status": "completed"
    },
    "tags": []
   },
   "outputs": [],
   "source": [
    "genomepath = '/ref/m3C/mm10.main.nochrM.nochrY.chrom.sizes'\n",
    "gene_bed = pybedtools.BedTool('/home/qzeng_salk_edu/project/241115_te_clustering/TE_use.gencode.vM22.annotation.gene.sorted.bed')\n",
    "te_bed = pybedtools.BedTool(f'/ref/repeatmasker-with-id/hg38.repeatmasker.repClass-{te_class}.bed')"
   ]
  },
  {
   "cell_type": "code",
   "execution_count": 6,
   "id": "e0379bfc",
   "metadata": {
    "execution": {
     "iopub.execute_input": "2024-11-19T19:49:18.650579Z",
     "iopub.status.busy": "2024-11-19T19:49:18.650326Z",
     "iopub.status.idle": "2024-11-19T19:49:19.484171Z",
     "shell.execute_reply": "2024-11-19T19:49:19.480226Z"
    },
    "papermill": {
     "duration": 0.846336,
     "end_time": "2024-11-19T19:49:19.486555",
     "exception": false,
     "start_time": "2024-11-19T19:49:18.640219",
     "status": "completed"
    },
    "tags": []
   },
   "outputs": [
    {
     "data": {
      "text/html": [
       "<div>\n",
       "<style scoped>\n",
       "    .dataframe tbody tr th:only-of-type {\n",
       "        vertical-align: middle;\n",
       "    }\n",
       "\n",
       "    .dataframe tbody tr th {\n",
       "        vertical-align: top;\n",
       "    }\n",
       "\n",
       "    .dataframe thead th {\n",
       "        text-align: right;\n",
       "    }\n",
       "</style>\n",
       "<table border=\"1\" class=\"dataframe\">\n",
       "  <thead>\n",
       "    <tr style=\"text-align: right;\">\n",
       "      <th></th>\n",
       "      <th>InputReadPairs</th>\n",
       "      <th>InputReadPairsBP</th>\n",
       "      <th>TrimmedReadPairs</th>\n",
       "      <th>R1WithAdapters</th>\n",
       "      <th>R1QualTrimBP</th>\n",
       "      <th>R1TrimmedReadsBP</th>\n",
       "      <th>R2WithAdapters</th>\n",
       "      <th>R2QualTrimBP</th>\n",
       "      <th>R2TrimmedReadsBP</th>\n",
       "      <th>UniqueMappedReads</th>\n",
       "      <th>...</th>\n",
       "      <th>DissectionRegion</th>\n",
       "      <th>Region</th>\n",
       "      <th>Replicate</th>\n",
       "      <th>l1</th>\n",
       "      <th>mc_m3c-co_cluster_l1</th>\n",
       "      <th>mc_m3c-co_cluster_l2</th>\n",
       "      <th>CellType</th>\n",
       "      <th>CellSubclass</th>\n",
       "      <th>AgingMajorType</th>\n",
       "      <th>Class</th>\n",
       "    </tr>\n",
       "    <tr>\n",
       "      <th>cell</th>\n",
       "      <th></th>\n",
       "      <th></th>\n",
       "      <th></th>\n",
       "      <th></th>\n",
       "      <th></th>\n",
       "      <th></th>\n",
       "      <th></th>\n",
       "      <th></th>\n",
       "      <th></th>\n",
       "      <th></th>\n",
       "      <th></th>\n",
       "      <th></th>\n",
       "      <th></th>\n",
       "      <th></th>\n",
       "      <th></th>\n",
       "      <th></th>\n",
       "      <th></th>\n",
       "      <th></th>\n",
       "      <th></th>\n",
       "      <th></th>\n",
       "      <th></th>\n",
       "    </tr>\n",
       "  </thead>\n",
       "  <tbody>\n",
       "    <tr>\n",
       "      <th>AMB_220628_18mo_3F_4E_1_P1-1-I3-A1</th>\n",
       "      <td>1710943</td>\n",
       "      <td>516615812</td>\n",
       "      <td>1710512</td>\n",
       "      <td>309</td>\n",
       "      <td>766343</td>\n",
       "      <td>216480647</td>\n",
       "      <td>874</td>\n",
       "      <td>649089</td>\n",
       "      <td>230238965</td>\n",
       "      <td>1870858</td>\n",
       "      <td>...</td>\n",
       "      <td>ACB-1+ACB-2</td>\n",
       "      <td>Nucleus_accumbens</td>\n",
       "      <td>rep2</td>\n",
       "      <td>13</td>\n",
       "      <td>23</td>\n",
       "      <td>0-0</td>\n",
       "      <td>STR D1 Gaba</td>\n",
       "      <td>STR D1 Gaba</td>\n",
       "      <td>STR_D1_Gaba</td>\n",
       "      <td>Gaba</td>\n",
       "    </tr>\n",
       "    <tr>\n",
       "      <th>AMB_220628_18mo_3F_4E_1_P1-1-I3-A13</th>\n",
       "      <td>1688475</td>\n",
       "      <td>510130057</td>\n",
       "      <td>1688130</td>\n",
       "      <td>316</td>\n",
       "      <td>725418</td>\n",
       "      <td>213815592</td>\n",
       "      <td>832</td>\n",
       "      <td>673498</td>\n",
       "      <td>227339515</td>\n",
       "      <td>1820523</td>\n",
       "      <td>...</td>\n",
       "      <td>ACB-1+ACB-2</td>\n",
       "      <td>Nucleus_accumbens</td>\n",
       "      <td>rep2</td>\n",
       "      <td>11</td>\n",
       "      <td>6</td>\n",
       "      <td>12-6</td>\n",
       "      <td>STR-PAL Chst9 Gaba</td>\n",
       "      <td>STR D1 Sema5a Gaba</td>\n",
       "      <td>STR_D1_Sema5a_Gaba</td>\n",
       "      <td>Gaba</td>\n",
       "    </tr>\n",
       "    <tr>\n",
       "      <th>AMB_220628_18mo_3F_4E_1_P1-1-I3-A14</th>\n",
       "      <td>2158376</td>\n",
       "      <td>651979882</td>\n",
       "      <td>2157941</td>\n",
       "      <td>456</td>\n",
       "      <td>998559</td>\n",
       "      <td>273186730</td>\n",
       "      <td>1132</td>\n",
       "      <td>869248</td>\n",
       "      <td>290536436</td>\n",
       "      <td>2374173</td>\n",
       "      <td>...</td>\n",
       "      <td>ACB-1+ACB-2</td>\n",
       "      <td>Nucleus_accumbens</td>\n",
       "      <td>rep2</td>\n",
       "      <td>8</td>\n",
       "      <td>4</td>\n",
       "      <td>2-2</td>\n",
       "      <td>Astro NN</td>\n",
       "      <td>Astro-TE NN</td>\n",
       "      <td>Astro-TE_NN</td>\n",
       "      <td>NN</td>\n",
       "    </tr>\n",
       "    <tr>\n",
       "      <th>AMB_220628_18mo_3F_4E_1_P1-1-I3-A2</th>\n",
       "      <td>1582810</td>\n",
       "      <td>478040623</td>\n",
       "      <td>1582446</td>\n",
       "      <td>283</td>\n",
       "      <td>708122</td>\n",
       "      <td>200329678</td>\n",
       "      <td>853</td>\n",
       "      <td>626267</td>\n",
       "      <td>213020525</td>\n",
       "      <td>1746308</td>\n",
       "      <td>...</td>\n",
       "      <td>ACB-1+ACB-2</td>\n",
       "      <td>Nucleus_accumbens</td>\n",
       "      <td>rep2</td>\n",
       "      <td>9</td>\n",
       "      <td>8</td>\n",
       "      <td>7-6</td>\n",
       "      <td>STR D2 Gaba</td>\n",
       "      <td>STR D2 Gaba</td>\n",
       "      <td>STR_D2_Gaba</td>\n",
       "      <td>Gaba</td>\n",
       "    </tr>\n",
       "    <tr>\n",
       "      <th>AMB_220628_18mo_3F_4E_1_P1-1-I3-B1</th>\n",
       "      <td>1766714</td>\n",
       "      <td>533610284</td>\n",
       "      <td>1766279</td>\n",
       "      <td>411</td>\n",
       "      <td>810795</td>\n",
       "      <td>223604054</td>\n",
       "      <td>1045</td>\n",
       "      <td>691737</td>\n",
       "      <td>237777442</td>\n",
       "      <td>1968711</td>\n",
       "      <td>...</td>\n",
       "      <td>ACB-1+ACB-2</td>\n",
       "      <td>Nucleus_accumbens</td>\n",
       "      <td>rep2</td>\n",
       "      <td>13</td>\n",
       "      <td>23</td>\n",
       "      <td>0-0</td>\n",
       "      <td>STR D1 Gaba</td>\n",
       "      <td>STR D1 Gaba</td>\n",
       "      <td>STR_D1_Gaba</td>\n",
       "      <td>Gaba</td>\n",
       "    </tr>\n",
       "  </tbody>\n",
       "</table>\n",
       "<p>5 rows × 62 columns</p>\n",
       "</div>"
      ],
      "text/plain": [
       "                                     InputReadPairs  InputReadPairsBP  \\\n",
       "cell                                                                    \n",
       "AMB_220628_18mo_3F_4E_1_P1-1-I3-A1          1710943         516615812   \n",
       "AMB_220628_18mo_3F_4E_1_P1-1-I3-A13         1688475         510130057   \n",
       "AMB_220628_18mo_3F_4E_1_P1-1-I3-A14         2158376         651979882   \n",
       "AMB_220628_18mo_3F_4E_1_P1-1-I3-A2          1582810         478040623   \n",
       "AMB_220628_18mo_3F_4E_1_P1-1-I3-B1          1766714         533610284   \n",
       "\n",
       "                                     TrimmedReadPairs  R1WithAdapters  \\\n",
       "cell                                                                    \n",
       "AMB_220628_18mo_3F_4E_1_P1-1-I3-A1            1710512             309   \n",
       "AMB_220628_18mo_3F_4E_1_P1-1-I3-A13           1688130             316   \n",
       "AMB_220628_18mo_3F_4E_1_P1-1-I3-A14           2157941             456   \n",
       "AMB_220628_18mo_3F_4E_1_P1-1-I3-A2            1582446             283   \n",
       "AMB_220628_18mo_3F_4E_1_P1-1-I3-B1            1766279             411   \n",
       "\n",
       "                                     R1QualTrimBP  R1TrimmedReadsBP  \\\n",
       "cell                                                                  \n",
       "AMB_220628_18mo_3F_4E_1_P1-1-I3-A1         766343         216480647   \n",
       "AMB_220628_18mo_3F_4E_1_P1-1-I3-A13        725418         213815592   \n",
       "AMB_220628_18mo_3F_4E_1_P1-1-I3-A14        998559         273186730   \n",
       "AMB_220628_18mo_3F_4E_1_P1-1-I3-A2         708122         200329678   \n",
       "AMB_220628_18mo_3F_4E_1_P1-1-I3-B1         810795         223604054   \n",
       "\n",
       "                                     R2WithAdapters  R2QualTrimBP  \\\n",
       "cell                                                                \n",
       "AMB_220628_18mo_3F_4E_1_P1-1-I3-A1              874        649089   \n",
       "AMB_220628_18mo_3F_4E_1_P1-1-I3-A13             832        673498   \n",
       "AMB_220628_18mo_3F_4E_1_P1-1-I3-A14            1132        869248   \n",
       "AMB_220628_18mo_3F_4E_1_P1-1-I3-A2              853        626267   \n",
       "AMB_220628_18mo_3F_4E_1_P1-1-I3-B1             1045        691737   \n",
       "\n",
       "                                     R2TrimmedReadsBP  UniqueMappedReads  ...  \\\n",
       "cell                                                                      ...   \n",
       "AMB_220628_18mo_3F_4E_1_P1-1-I3-A1          230238965            1870858  ...   \n",
       "AMB_220628_18mo_3F_4E_1_P1-1-I3-A13         227339515            1820523  ...   \n",
       "AMB_220628_18mo_3F_4E_1_P1-1-I3-A14         290536436            2374173  ...   \n",
       "AMB_220628_18mo_3F_4E_1_P1-1-I3-A2          213020525            1746308  ...   \n",
       "AMB_220628_18mo_3F_4E_1_P1-1-I3-B1          237777442            1968711  ...   \n",
       "\n",
       "                                     DissectionRegion             Region  \\\n",
       "cell                                                                       \n",
       "AMB_220628_18mo_3F_4E_1_P1-1-I3-A1        ACB-1+ACB-2  Nucleus_accumbens   \n",
       "AMB_220628_18mo_3F_4E_1_P1-1-I3-A13       ACB-1+ACB-2  Nucleus_accumbens   \n",
       "AMB_220628_18mo_3F_4E_1_P1-1-I3-A14       ACB-1+ACB-2  Nucleus_accumbens   \n",
       "AMB_220628_18mo_3F_4E_1_P1-1-I3-A2        ACB-1+ACB-2  Nucleus_accumbens   \n",
       "AMB_220628_18mo_3F_4E_1_P1-1-I3-B1        ACB-1+ACB-2  Nucleus_accumbens   \n",
       "\n",
       "                                     Replicate  l1  mc_m3c-co_cluster_l1  \\\n",
       "cell                                                                       \n",
       "AMB_220628_18mo_3F_4E_1_P1-1-I3-A1        rep2  13                    23   \n",
       "AMB_220628_18mo_3F_4E_1_P1-1-I3-A13       rep2  11                     6   \n",
       "AMB_220628_18mo_3F_4E_1_P1-1-I3-A14       rep2   8                     4   \n",
       "AMB_220628_18mo_3F_4E_1_P1-1-I3-A2        rep2   9                     8   \n",
       "AMB_220628_18mo_3F_4E_1_P1-1-I3-B1        rep2  13                    23   \n",
       "\n",
       "                                     mc_m3c-co_cluster_l2            CellType  \\\n",
       "cell                                                                            \n",
       "AMB_220628_18mo_3F_4E_1_P1-1-I3-A1                    0-0         STR D1 Gaba   \n",
       "AMB_220628_18mo_3F_4E_1_P1-1-I3-A13                  12-6  STR-PAL Chst9 Gaba   \n",
       "AMB_220628_18mo_3F_4E_1_P1-1-I3-A14                   2-2            Astro NN   \n",
       "AMB_220628_18mo_3F_4E_1_P1-1-I3-A2                    7-6         STR D2 Gaba   \n",
       "AMB_220628_18mo_3F_4E_1_P1-1-I3-B1                    0-0         STR D1 Gaba   \n",
       "\n",
       "                                           CellSubclass      AgingMajorType  \\\n",
       "cell                                                                          \n",
       "AMB_220628_18mo_3F_4E_1_P1-1-I3-A1          STR D1 Gaba         STR_D1_Gaba   \n",
       "AMB_220628_18mo_3F_4E_1_P1-1-I3-A13  STR D1 Sema5a Gaba  STR_D1_Sema5a_Gaba   \n",
       "AMB_220628_18mo_3F_4E_1_P1-1-I3-A14         Astro-TE NN         Astro-TE_NN   \n",
       "AMB_220628_18mo_3F_4E_1_P1-1-I3-A2          STR D2 Gaba         STR_D2_Gaba   \n",
       "AMB_220628_18mo_3F_4E_1_P1-1-I3-B1          STR D1 Gaba         STR_D1_Gaba   \n",
       "\n",
       "                                     Class  \n",
       "cell                                        \n",
       "AMB_220628_18mo_3F_4E_1_P1-1-I3-A1    Gaba  \n",
       "AMB_220628_18mo_3F_4E_1_P1-1-I3-A13   Gaba  \n",
       "AMB_220628_18mo_3F_4E_1_P1-1-I3-A14     NN  \n",
       "AMB_220628_18mo_3F_4E_1_P1-1-I3-A2    Gaba  \n",
       "AMB_220628_18mo_3F_4E_1_P1-1-I3-B1    Gaba  \n",
       "\n",
       "[5 rows x 62 columns]"
      ]
     },
     "execution_count": 6,
     "metadata": {},
     "output_type": "execute_result"
    }
   ],
   "source": [
    "meta = pd.read_csv('/data/metadata/240104_m3C_META.csv', index_col =0)\n",
    "meta['AgingMajorType'] = meta['AgingMajorType'].apply(lambda x: x.replace(' ','_').replace('/',''))\n",
    "meta.head()"
   ]
  },
  {
   "cell_type": "code",
   "execution_count": 14,
   "id": "30d9226d",
   "metadata": {
    "execution": {
     "iopub.execute_input": "2024-11-19T19:49:27.143681Z",
     "iopub.status.busy": "2024-11-19T19:49:27.143132Z",
     "iopub.status.idle": "2024-11-19T19:49:27.146576Z",
     "shell.execute_reply": "2024-11-19T19:49:27.146041Z"
    },
    "papermill": {
     "duration": 0.008873,
     "end_time": "2024-11-19T19:49:27.147766",
     "exception": false,
     "start_time": "2024-11-19T19:49:27.138893",
     "status": "completed"
    },
    "tags": []
   },
   "outputs": [],
   "source": [
    "plot_inouts  = ['out20','out2','out','all','in'] #'out10',"
   ]
  },
  {
   "cell_type": "code",
   "execution_count": 15,
   "id": "7a39178a",
   "metadata": {},
   "outputs": [
    {
     "data": {
      "text/plain": [
       "AnnData object with n_obs × n_vars = 4851 × 954358\n",
       "    obs: 'celltype', 'Age', 'Region', 'hypo_te_counts'"
      ]
     },
     "execution_count": 15,
     "metadata": {},
     "output_type": "execute_result"
    }
   ],
   "source": [
    "ads =  anndata.read_h5ad(f\"/home/qzeng_salk_edu/project/241115_te_clustering/adata/celltype/{ct}.{te_class}.downsampled.h5ad\")\n",
    "ads.obs['celltype'] = meta['AgingMajorType']\n",
    "ads.obs['Age'] = meta['Age']\n",
    "ads.obs['Region'] = meta['Region']\n",
    "\n",
    "# change ads.X to df\n",
    "df = pd.DataFrame(ads.X.toarray(), index=ads.obs_names, columns=ads.var_names)\n",
    "ads.obs['hypo_te_counts'] = df.sum(axis = 1)\n",
    "ads"
   ]
  },
  {
   "cell_type": "code",
   "execution_count": 16,
   "id": "9386c11e",
   "metadata": {
    "execution": {
     "iopub.execute_input": "2024-11-19T19:49:27.155786Z",
     "iopub.status.busy": "2024-11-19T19:49:27.155211Z",
     "iopub.status.idle": "2024-11-19T20:26:16.149470Z",
     "shell.execute_reply": "2024-11-19T20:26:16.148934Z"
    },
    "papermill": {
     "duration": 2209.002992,
     "end_time": "2024-11-19T20:26:16.153838",
     "exception": false,
     "start_time": "2024-11-19T19:49:27.150846",
     "status": "completed"
    },
    "tags": []
   },
   "outputs": [
    {
     "name": "stdout",
     "output_type": "stream",
     "text": [
      "out20:546795slected feats\n",
      "5 components passed P cutoff of 0.1.\n",
      "Changing adata.obsm['X_pca'] from shape (4851, 100) to (4851, 5)\n",
      "out20 tsne done\n",
      "in:353424slected feats\n",
      "6 components passed P cutoff of 0.1.\n",
      "Changing adata.obsm['X_pca'] from shape (4851, 100) to (4851, 6)\n",
      "in tsne done\n"
     ]
    }
   ],
   "source": [
    "for inout in plot_inouts:\n",
    "    if inout=='out20':\n",
    "        feats = te_bed.subtract(gene_bed.flank(b=20000, g=genomepath)).to_dataframe()['name'].tolist()\n",
    "    elif inout=='out10':\n",
    "        feats = te_bed.subtract(gene_bed.flank(b=10000, g=genomepath)).to_dataframe()['name'].tolist()\n",
    "    elif inout=='out2':\n",
    "        feats = te_bed.subtract(gene_bed.flank(b=2000, g=genomepath)).to_dataframe()['name'].tolist()\n",
    "    elif inout=='out':\n",
    "        feats = te_bed.subtract(gene_bed).to_dataframe()['name'].tolist()\n",
    "    elif inout=='in':\n",
    "        feats = te_bed.intersect(gene_bed,).to_dataframe()['name'].tolist()\n",
    "    else:\n",
    "        feats = te_bed.to_dataframe()['name'].tolist()\n",
    "\n",
    "    shared_feats = list(set(feats) & set(ads.var_names))\n",
    "    print(f\"{inout}:{len(shared_feats)}slected feats\")\n",
    "\n",
    "    # original adata\n",
    "\n",
    "    cluster_ads = ads[:,shared_feats].copy()\n",
    "\n",
    "    sc.pp.filter_genes(cluster_ads, min_cells=3)\n",
    "\n",
    "    pc_cutoff = 0.1\n",
    "    lsi(cluster_ads, algorithm='arpack', obsm='X_pca')\n",
    "    n_components = significant_pc_test(cluster_ads, p_cutoff=pc_cutoff, update=True)\n",
    "\n",
    "    resolution = 0.5\n",
    "    sc.pp.neighbors(cluster_ads)\n",
    "    sc.tl.leiden(cluster_ads, resolution=resolution)\n",
    "    sc.tl.umap(cluster_ads)\n",
    "\n",
    "    tsne(cluster_ads,\n",
    "        obsm='X_pca',\n",
    "        metric='euclidean',\n",
    "        exaggeration=-1,  # auto determined\n",
    "        perplexity=30,\n",
    "        n_jobs=-1)\n",
    "\n",
    "    # add the f'{inout}_tsne_1 and f'{inout}_tsne_2 in obs to obsm\n",
    "    ads.obsm[f'X_{inout}_tsne'] = cluster_ads.obsm['X_tsne']\n",
    "    ads.obs[f\"{inout}_leiden\"] = cluster_ads.obs['leiden']\n",
    "    print(f\"{inout} tsne done\")\n",
    "    \n",
    "ads.write_h5ad(f\"clustered.{ct}.{te_class}.h5ad\")\n",
    "\n",
    "\n"
   ]
  },
  {
   "cell_type": "markdown",
   "id": "af346c80",
   "metadata": {
    "papermill": {
     "duration": 0.004553,
     "end_time": "2024-11-19T20:26:16.163174",
     "exception": false,
     "start_time": "2024-11-19T20:26:16.158621",
     "status": "completed"
    },
    "tags": []
   },
   "source": [
    "## plot"
   ]
  },
  {
   "cell_type": "code",
   "execution_count": 19,
   "id": "c360d759",
   "metadata": {
    "execution": {
     "iopub.execute_input": "2024-11-19T20:26:16.173973Z",
     "iopub.status.busy": "2024-11-19T20:26:16.173421Z",
     "iopub.status.idle": "2024-11-19T20:26:16.179885Z",
     "shell.execute_reply": "2024-11-19T20:26:16.179297Z"
    },
    "papermill": {
     "duration": 0.013057,
     "end_time": "2024-11-19T20:26:16.180970",
     "exception": false,
     "start_time": "2024-11-19T20:26:16.167913",
     "status": "completed"
    },
    "tags": []
   },
   "outputs": [],
   "source": [
    "def plot_tsne(ads, coord_base, inout, **kwargs):\n",
    "    fig, axes = plt.subplots(figsize=(8, 8),ncols = 2,nrows = 2,  dpi=300, constrained_layout=True)\n",
    "    ax = axes[0,0]\n",
    "    categorical_scatter(data=ads,\n",
    "                        ax=ax, \n",
    "                        coord_base=coord_base, \n",
    "                        hue=f'{inout}_leiden', \n",
    "                        rasterized= True,\n",
    "                        text_anno = f'{inout}_leiden',\n",
    "                        show_legend=False\n",
    "                        )\n",
    "\n",
    "    ax.set_title(f\"leiden resolution={resolution}\")\n",
    "\n",
    "    ax = axes[0,1]\n",
    "    categorical_scatter(data=ads, \n",
    "                        ax=ax, \n",
    "                        coord_base=coord_base, \n",
    "                        hue='Region', \n",
    "                        #text_anno = 'Region',\n",
    "                        rasterized= True,\n",
    "                        show_legend=True, \n",
    "                        palette=region_palette\n",
    "                        )\n",
    "    ax.set_title(f\"Region\")                    \n",
    "\n",
    "    ax = axes[1,0]\n",
    "    categorical_scatter(data=ads, \n",
    "                    ax=ax, \n",
    "                    coord_base=coord_base, \n",
    "                    hue='Age', \n",
    "                    #text_anno = 'Age',\n",
    "                    rasterized= True,\n",
    "                    show_legend=True, \n",
    "                    palette=age_palette)\n",
    "    ax.set_title(f\"Age\")  \n",
    "\n",
    "    ax = axes[1,1]\n",
    "    continuous_scatter(data=ads, \n",
    "                    ax=ax, \n",
    "                    coord_base=coord_base, \n",
    "                    hue='hypo_te_counts', \n",
    "                    hue_norm=(np.percentile(ads.obs['hypo_te_counts'], 5), np.percentile(ads.obs['hypo_te_counts'], 95)),\n",
    "                    )\n",
    "    ax.set_title(f\"hypo(frac<0.75) te counts\")  \n",
    "    plt.suptitle(f\"{te_class} {ct} {inout}\")\n",
    "    \n",
    "    return fig\n",
    "    #fig.savefig(f\"figure/{ct}.{te_class}.{inout}.tsne.pdf\")"
   ]
  },
  {
   "cell_type": "code",
   "execution_count": 20,
   "id": "25c6e86f",
   "metadata": {
    "execution": {
     "iopub.execute_input": "2024-11-19T20:26:16.188745Z",
     "iopub.status.busy": "2024-11-19T20:26:16.188566Z",
     "iopub.status.idle": "2024-11-19T20:26:22.657323Z",
     "shell.execute_reply": "2024-11-19T20:26:22.656530Z"
    },
    "papermill": {
     "duration": 6.474603,
     "end_time": "2024-11-19T20:26:22.659086",
     "exception": false,
     "start_time": "2024-11-19T20:26:16.184483",
     "status": "completed"
    },
    "tags": []
   },
   "outputs": [
    {
     "name": "stderr",
     "output_type": "stream",
     "text": [
      "/opt/conda/lib/python3.10/site-packages/ALLCools/plot/text_anno_scatter.py:33: FutureWarning: The default of observed=False is deprecated and will be changed to True in a future version of pandas. Pass observed=False to retain current behavior or observed=True to adopt the future default and silence this warning.\n",
      "  for text, sub_df in data.groupby(anno_col):\n",
      "/opt/conda/lib/python3.10/site-packages/ALLCools/plot/text_anno_scatter.py:33: FutureWarning: The default of observed=False is deprecated and will be changed to True in a future version of pandas. Pass observed=False to retain current behavior or observed=True to adopt the future default and silence this warning.\n",
      "  for text, sub_df in data.groupby(anno_col):\n"
     ]
    }
   ],
   "source": [
    "from matplotlib.backends.backend_pdf import PdfPages\n",
    "with PdfPages(f'{ct}_{te_class}_pdf.pdf') as pdf:\n",
    "    for inout in plot_inouts:\n",
    "        fig = plot_tsne(ads, \n",
    "            coord_base = f'{inout}_tsne', \n",
    "            inout = inout)\n",
    "        pdf.savefig(fig)  # or you can pass a Figure object to pdf.savefig\n",
    "        plt.close()"
   ]
  },
  {
   "cell_type": "code",
   "execution_count": 12,
   "id": "b6682eb6",
   "metadata": {
    "execution": {
     "iopub.execute_input": "2024-11-19T20:26:22.671966Z",
     "iopub.status.busy": "2024-11-19T20:26:22.671116Z",
     "iopub.status.idle": "2024-11-19T20:26:22.674755Z",
     "shell.execute_reply": "2024-11-19T20:26:22.674119Z"
    },
    "papermill": {
     "duration": 0.012994,
     "end_time": "2024-11-19T20:26:22.677650",
     "exception": false,
     "start_time": "2024-11-19T20:26:22.664656",
     "status": "completed"
    },
    "tags": []
   },
   "outputs": [],
   "source": [
    "# select high vraiable feature among Age\n",
    "#sc.pp.highly_variable_genes(ads, n_top_genes=2000, flavor='seurat', n_bins=20)\n",
    "\n",
    "# # cluster_enriched_features(ads,\n",
    "# #                           cluster_col='Age',\n",
    "# #                           top_n=200,\n",
    "# #                           alpha=0.05,\n",
    "# #                           stat_plot=True,\n",
    "# #                           method='mc')\n",
    "\n",
    "# cef = ads.var[f'Age_enriched_features'].copy()\n",
    "# cef.sum()\n",
    "\n",
    "# cef = ads.var[f'Age_enriched_features'].copy()\n",
    "# ads = ads[:,cef]"
   ]
  },
  {
   "cell_type": "code",
   "execution_count": null,
   "id": "a9e27586",
   "metadata": {
    "papermill": {
     "duration": 0.003586,
     "end_time": "2024-11-19T20:26:22.686925",
     "exception": false,
     "start_time": "2024-11-19T20:26:22.683339",
     "status": "completed"
    },
    "tags": []
   },
   "outputs": [],
   "source": []
  },
  {
   "cell_type": "code",
   "execution_count": null,
   "id": "71127ad4",
   "metadata": {
    "papermill": {
     "duration": 0.037665,
     "end_time": "2024-11-19T20:26:22.728146",
     "exception": false,
     "start_time": "2024-11-19T20:26:22.690481",
     "status": "completed"
    },
    "tags": []
   },
   "outputs": [],
   "source": []
  },
  {
   "cell_type": "code",
   "execution_count": null,
   "id": "afcfff1d",
   "metadata": {
    "papermill": {
     "duration": 0.004806,
     "end_time": "2024-11-19T20:26:22.738046",
     "exception": false,
     "start_time": "2024-11-19T20:26:22.733240",
     "status": "completed"
    },
    "tags": []
   },
   "outputs": [],
   "source": []
  },
  {
   "cell_type": "code",
   "execution_count": null,
   "id": "028ce8ed",
   "metadata": {
    "papermill": {
     "duration": 0.00374,
     "end_time": "2024-11-19T20:26:22.746759",
     "exception": false,
     "start_time": "2024-11-19T20:26:22.743019",
     "status": "completed"
    },
    "tags": []
   },
   "outputs": [],
   "source": []
  },
  {
   "cell_type": "code",
   "execution_count": null,
   "id": "eb6ebc77",
   "metadata": {
    "papermill": {
     "duration": 0.003569,
     "end_time": "2024-11-19T20:26:22.753886",
     "exception": false,
     "start_time": "2024-11-19T20:26:22.750317",
     "status": "completed"
    },
    "tags": []
   },
   "outputs": [],
   "source": []
  }
 ],
 "metadata": {
  "kernelspec": {
   "display_name": "Python 3 (ipykernel)",
   "language": "python",
   "name": "python3"
  },
  "language_info": {
   "codemirror_mode": {
    "name": "ipython",
    "version": 3
   },
   "file_extension": ".py",
   "mimetype": "text/x-python",
   "name": "python",
   "nbconvert_exporter": "python",
   "pygments_lexer": "ipython3",
   "version": "3.10.12"
  },
  "papermill": {
   "default_parameters": {},
   "duration": 2233.803431,
   "end_time": "2024-11-19T20:26:24.279589",
   "environment_variables": {},
   "exception": null,
   "input_path": "/home/qzeng_salk_edu/project/241115_te_clustering/plot_LINE_by_ct/notebooks/02.ct_age_clustering.ipynb",
   "output_path": "DG_Glut/02.ct_age_clustering.ipynb",
   "parameters": {
    "cpu": 5,
    "group_name": "DG_Glut",
    "mem_gb": 10
   },
   "start_time": "2024-11-19T19:49:10.476158",
   "version": "2.4.0"
  }
 },
 "nbformat": 4,
 "nbformat_minor": 5
}
