{
 "cells": [
  {
   "cell_type": "code",
   "execution_count": 1,
   "id": "a0283310-ddb3-47eb-b18b-29b369cfb230",
   "metadata": {},
   "outputs": [],
   "source": [
    "import joblib\n",
    "import pandas as pd\n",
    "from wmb import mm10\n",
    "from collections import defaultdict"
   ]
  },
  {
   "cell_type": "code",
   "execution_count": 2,
   "id": "7796f295-ae55-4d38-846e-6ccd21975eea",
   "metadata": {},
   "outputs": [],
   "source": [
    "gene_name_to_id = joblib.load('/home/qzeng_salk_edu/project/aging/freq_used_files/gene_name_to_id_dict')\n",
    "gene_id_to_name = joblib.load('/home/qzeng_salk_edu/project/aging/freq_used_files/gene_id_to_name_dict')"
   ]
  },
  {
   "cell_type": "code",
   "execution_count": 3,
   "id": "ab745ddf-88ab-4aa6-8ab0-9811110e1350",
   "metadata": {},
   "outputs": [],
   "source": [
    "gene_meta = pd.read_csv(\"/home/qzeng_salk_edu/project/aging/freq_used_files/GeneMetadata.csv.gz\", index_col=0)\n",
    "gene_meta['length'] = gene_meta['end'] - gene_meta['start']\n",
    "use_genes = gene_meta[gene_meta['length'] > 1000].index"
   ]
  },
  {
   "cell_type": "code",
   "execution_count": 4,
   "id": "11991a8f-4e00-4acc-aeb4-c7a94dd1cd9f",
   "metadata": {},
   "outputs": [],
   "source": [
    "all_celltype_gene_change_df = pd.read_csv('result/change_celltype_admgs_8wk_18mo.csv', index_col =0)\n",
    "all_celltype_gene_pvalue_df = pd.read_csv('result/pvalues_celltype_admgs_8wk_18mo.csv', index_col =0 )"
   ]
  },
  {
   "cell_type": "markdown",
   "id": "898d0393-3110-4da6-bb94-8121cf9386ed",
   "metadata": {},
   "source": [
    "## aDMGs"
   ]
  },
  {
   "cell_type": "code",
   "execution_count": 20,
   "id": "a9714b6f-5c8a-4b9c-925b-61fe5a68afce",
   "metadata": {},
   "outputs": [],
   "source": [
    "all_dmgs_dict = joblib.load('all_cellltype_admgs_dict')\n",
    "celltype_dmg_number_dict = {}\n",
    "for ct, admgs in all_dmgs_dict.items():\n",
    "    celltype_dmg_number_dict[ct] = len(admgs)"
   ]
  },
  {
   "cell_type": "code",
   "execution_count": 45,
   "id": "327bca86-2d57-434c-a258-621671bf684b",
   "metadata": {},
   "outputs": [
    {
     "data": {
      "text/plain": [
       "OPC NN                 18\n",
       "CA2 Glut               12\n",
       "IT EP-CLA Glut         12\n",
       "L2 IT PPP-APr Glut     12\n",
       "Lamp5 Lhx6 Gaba        12\n",
       "Sst Chodl Gaba         10\n",
       "L5 NP CTX Glut          9\n",
       "MSN D1 Gaba             9\n",
       "MB-MY Glut-Sero         9\n",
       "MSN D2 Gaba             9\n",
       "CA3 Glut                9\n",
       "L6 CT CTX Glut          6\n",
       "STR Prox1 Lhx6 Gaba     5\n",
       "STR-PAL Chst9 Gaba      4\n",
       "L2/3 IT ENT Glut        4\n",
       "DG Glut                 4\n",
       "Sst Gaba                3\n",
       "OLF-ENT Glut            3\n",
       "Scdg Glut               3\n",
       "Vip Gaba                3\n",
       "dtype: int64"
      ]
     },
     "execution_count": 45,
     "metadata": {},
     "output_type": "execute_result"
    }
   ],
   "source": [
    "pd.Series(celltype_dmg_number_dict).sort_values(ascending = False).head(20)"
   ]
  },
  {
   "cell_type": "code",
   "execution_count": 46,
   "id": "7afc1237-c129-4de5-8133-0425cbb9d4e8",
   "metadata": {},
   "outputs": [],
   "source": [
    "top_celltypes = pd.Series(celltype_dmg_number_dict).sort_values(ascending = False).head(20).index"
   ]
  },
  {
   "cell_type": "code",
   "execution_count": null,
   "id": "decc5cb4-d8d4-457b-803d-57d6f2e0830a",
   "metadata": {},
   "outputs": [],
   "source": []
  },
  {
   "cell_type": "code",
   "execution_count": 26,
   "id": "d190b7a2-e01f-4982-bcbc-bae08d515dc0",
   "metadata": {},
   "outputs": [],
   "source": [
    "meta = pd.read_csv('/home/qzeng_salk_edu/project/aging/freq_used_files/221027_AMB_metadata.csv', index_col =0)\n",
    "use_meta = meta[['MajorType','DissectionRegion']].copy()"
   ]
  },
  {
   "cell_type": "code",
   "execution_count": 34,
   "id": "5ddc8d5b-0c32-45b8-a115-fa4850588bc9",
   "metadata": {},
   "outputs": [
    {
     "data": {
      "text/plain": [
       "'OPC NN'"
      ]
     },
     "execution_count": 34,
     "metadata": {},
     "output_type": "execute_result"
    }
   ],
   "source": [
    "ct"
   ]
  },
  {
   "cell_type": "code",
   "execution_count": 49,
   "id": "9bb0c168-12a9-4dec-a820-35a418b733fc",
   "metadata": {},
   "outputs": [],
   "source": [
    "ct_topregions = {}\n",
    "for ct in top_celltypes:\n",
    "    cell_class = ct.split(' ')[-1]\n",
    "    if cell_class != 'NN':\n",
    "        tmpdf = use_meta[use_meta['MajorType'] == ct]\n",
    "        top_regions = tmpdf['DissectionRegion'].value_counts()\n",
    "        ct_topregions[ct] = top_regions"
   ]
  },
  {
   "cell_type": "code",
   "execution_count": 59,
   "id": "bd199488-7253-4d9e-81bc-ac4ed8b91061",
   "metadata": {},
   "outputs": [
    {
     "data": {
      "text/plain": [
       "Index(['OPC NN', 'CA2 Glut', 'IT EP-CLA Glut', 'L2 IT PPP-APr Glut',\n",
       "       'Lamp5 Lhx6 Gaba', 'Sst Chodl Gaba', 'L5 NP CTX Glut', 'MSN D1 Gaba',\n",
       "       'MB-MY Glut-Sero', 'MSN D2 Gaba', 'CA3 Glut', 'L6 CT CTX Glut',\n",
       "       'STR Prox1 Lhx6 Gaba', 'STR-PAL Chst9 Gaba', 'L2/3 IT ENT Glut',\n",
       "       'DG Glut', 'Sst Gaba', 'OLF-ENT Glut', 'Scdg Glut', 'Vip Gaba'],\n",
       "      dtype='object')"
      ]
     },
     "execution_count": 59,
     "metadata": {},
     "output_type": "execute_result"
    }
   ],
   "source": [
    "top_celltypes"
   ]
  },
  {
   "cell_type": "code",
   "execution_count": 66,
   "id": "b817d7e8-5878-4712-94c3-251e5f156dc8",
   "metadata": {},
   "outputs": [
    {
     "data": {
      "text/plain": [
       "12D,13B        1518\n",
       "12D             576\n",
       "3F,4E           504\n",
       "13B             372\n",
       "3F              308\n",
       "8H               68\n",
       "7H,8H,9G         67\n",
       "12E              61\n",
       "11E,11F,12E      28\n",
       "7H               25\n",
       "9G               22\n",
       "4E               20\n",
       "11E              12\n",
       "6E                5\n",
       "5E,6E             2\n",
       "5E                1\n",
       "2A,3A             1\n",
       "Name: DissectionRegion, dtype: int64"
      ]
     },
     "execution_count": 66,
     "metadata": {},
     "output_type": "execute_result"
    }
   ],
   "source": [
    "ct_topregions['OLF-ENT Glut']"
   ]
  },
  {
   "cell_type": "code",
   "execution_count": null,
   "id": "985656ba-8f82-4825-8d3a-54c604fe0660",
   "metadata": {},
   "outputs": [],
   "source": []
  },
  {
   "cell_type": "code",
   "execution_count": null,
   "id": "7218f9fd-a009-4e05-81da-d2fece909dd6",
   "metadata": {},
   "outputs": [],
   "source": []
  },
  {
   "cell_type": "code",
   "execution_count": null,
   "id": "d3eac0be-d6ba-4076-a302-153bd1fa26b7",
   "metadata": {},
   "outputs": [],
   "source": []
  },
  {
   "cell_type": "code",
   "execution_count": null,
   "id": "f0a6f21c-c18e-40cc-abdd-4b0b87ac2f29",
   "metadata": {},
   "outputs": [],
   "source": []
  },
  {
   "cell_type": "code",
   "execution_count": null,
   "id": "7b933e5d-062a-4592-a4c1-adc80b1005df",
   "metadata": {},
   "outputs": [],
   "source": []
  }
 ],
 "metadata": {
  "kernelspec": {
   "display_name": "Python 3 (ipykernel)",
   "language": "python",
   "name": "python3"
  },
  "language_info": {
   "codemirror_mode": {
    "name": "ipython",
    "version": 3
   },
   "file_extension": ".py",
   "mimetype": "text/x-python",
   "name": "python",
   "nbconvert_exporter": "python",
   "pygments_lexer": "ipython3",
   "version": "3.7.12"
  }
 },
 "nbformat": 4,
 "nbformat_minor": 5
}
