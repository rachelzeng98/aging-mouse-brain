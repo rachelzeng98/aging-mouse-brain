{
 "cells": [
  {
   "cell_type": "code",
   "execution_count": 1,
   "id": "a85ea187-9b98-44f8-8fb9-874a01eacbb3",
   "metadata": {},
   "outputs": [],
   "source": [
    "import pandas as pd\n",
    "import joblib"
   ]
  },
  {
   "cell_type": "code",
   "execution_count": 2,
   "id": "3a7a1405-6b08-441c-a261-99ebba6d7ab3",
   "metadata": {},
   "outputs": [],
   "source": [
    "gene_name_to_id = joblib.load('/home/qzeng_salk_edu/project/aging/freq_used_files/gene_name_to_id_dict')\n",
    "gene_id_to_name = joblib.load('/home/qzeng_salk_edu/project/aging/freq_used_files/gene_id_to_name_dict')"
   ]
  },
  {
   "cell_type": "code",
   "execution_count": 24,
   "id": "f1ed33a1-aa2e-4459-9b82-23d33d8f35b2",
   "metadata": {},
   "outputs": [
    {
     "data": {
      "text/plain": [
       "(500, 7)"
      ]
     },
     "execution_count": 24,
     "metadata": {},
     "output_type": "execute_result"
    }
   ],
   "source": [
    "final_panel = pd.read_csv('FinalGeneList_ecker-amb-500_CP1145.csv', index_col = 0)\n",
    "final_panel.shape"
   ]
  },
  {
   "cell_type": "code",
   "execution_count": 4,
   "id": "db88f761-89c7-4c25-bc1c-b9dab98a82a9",
   "metadata": {},
   "outputs": [],
   "source": [
    "gene_id_to_source = {}"
   ]
  },
  {
   "cell_type": "markdown",
   "id": "570125b7-d45d-406e-ae44-ad0975ee1746",
   "metadata": {},
   "source": [
    "## cell tyep admgs"
   ]
  },
  {
   "cell_type": "code",
   "execution_count": 5,
   "id": "b7d57abd-5cb5-498d-a048-b00fe255d440",
   "metadata": {},
   "outputs": [],
   "source": [
    "all_celltype_admgs_dict = joblib.load('all_cellltype_admgs_dict')\n",
    "\n",
    "all_admgs = []\n",
    "for ct, genes in all_celltype_admgs_dict.items():\n",
    "    all_admgs += genes\n",
    "all_admgs = list(set(all_admgs))"
   ]
  },
  {
   "cell_type": "code",
   "execution_count": 6,
   "id": "a3647a41-e5b4-4af7-91f6-ec9e776c9b94",
   "metadata": {},
   "outputs": [
    {
     "data": {
      "text/plain": [
       "119"
      ]
     },
     "execution_count": 6,
     "metadata": {},
     "output_type": "execute_result"
    }
   ],
   "source": [
    "celltype_admgs = list(set(final_panel.index) & set(all_admgs))\n",
    "len(celltype_admgs)"
   ]
  },
  {
   "cell_type": "code",
   "execution_count": 7,
   "id": "df35a6df-78c8-4a61-965f-0db4425497e5",
   "metadata": {},
   "outputs": [],
   "source": [
    "for ct, genes in all_celltype_admgs_dict.items():\n",
    "    shared_gene = list(set(genes) & set(all_admgs))\n",
    "    for gene in shared_gene:\n",
    "        gene_id_to_source[gene] = f'{ct} aDMGS'"
   ]
  },
  {
   "cell_type": "markdown",
   "id": "4531967c-76ee-4a6a-a869-9f1edbc916ec",
   "metadata": {},
   "source": [
    "## hotspot genes"
   ]
  },
  {
   "cell_type": "code",
   "execution_count": 8,
   "id": "f883282b-419c-46bf-8bdf-c96d1a931375",
   "metadata": {},
   "outputs": [],
   "source": [
    "hotspot_genes = joblib.load('hotspot_genes_list')"
   ]
  },
  {
   "cell_type": "code",
   "execution_count": 9,
   "id": "ac724895-be62-49b9-b0af-4edd994feb5c",
   "metadata": {},
   "outputs": [],
   "source": [
    "for gene in hotspot_genes:\n",
    "    gene_id_to_source[gene] = 'hotspot gene'"
   ]
  },
  {
   "cell_type": "markdown",
   "id": "665f5ef6-3b1c-45d7-b9f9-6d28dfeeaaa0",
   "metadata": {},
   "source": [
    "## custom genes"
   ]
  },
  {
   "cell_type": "code",
   "execution_count": 10,
   "id": "b1396573-791d-43d3-af49-9e4be08d82b6",
   "metadata": {},
   "outputs": [],
   "source": [
    "methyl_genes = ['Dnmt1','Dnmt3a','Dnmt3b','Tet1','Tet2','Tet3','Mbd1','Mbd2','Mbd3','Mecp2']\n",
    "ad_markers = ['Trem2','Nlrp3','Il18','Il1b','Apoe','App','Tff1','Psen1']\n",
    "use_sasp_genes = ['Foxo1','Timp2','Klf4','Sox9','Rps23','Lmnb1','Il1b','Myc','Irf2bp1','Irf1','Cdkn2a','Sirt6','Mmp13','Cdkn1a','Gadd45b','Btg2','Atf3','Glb1', 'Il1a']\n",
    "immune_markers = ['Ptprc','Cd3d','Cd69','Cd19','Cd8a','Cd4','Cx3cr1','Mertk']\n",
    "zhuang_genes = ['Il33','C4b','Onecut2','Pakap','Mpp7','Ighm','Bmp6']"
   ]
  },
  {
   "cell_type": "code",
   "execution_count": 11,
   "id": "232561f9-1a53-44ac-b3c7-949fcc3806ef",
   "metadata": {},
   "outputs": [
    {
     "data": {
      "text/plain": [
       "52"
      ]
     },
     "execution_count": 11,
     "metadata": {},
     "output_type": "execute_result"
    }
   ],
   "source": [
    "all_custom_genes = methyl_genes + ad_markers + use_sasp_genes + immune_markers + zhuang_genes\n",
    "len(all_custom_genes)"
   ]
  },
  {
   "cell_type": "code",
   "execution_count": 12,
   "id": "33d27b65-81dd-4b50-bc5b-42c43dc796b0",
   "metadata": {},
   "outputs": [],
   "source": [
    "custome_genes = final_panel[final_panel['Vizgen Gene'].isin(all_custom_genes)]\n",
    "custome_genes['Notes'] = 'custom genes'\n",
    "gene_id_to_source.update(custome_genes['Notes'].to_dict())"
   ]
  },
  {
   "cell_type": "markdown",
   "id": "872c5ab9-463f-4351-be8b-356f0a38bbb8",
   "metadata": {},
   "source": [
    "## TF genes"
   ]
  },
  {
   "cell_type": "code",
   "execution_count": 13,
   "id": "818c4843-b53c-4568-bb31-5eef96a84be7",
   "metadata": {},
   "outputs": [],
   "source": [
    "rs1_include_tfs = joblib.load('rs1_include_tf_list')\n",
    "high_e_tfs = joblib.load('high_freq_tf_genes_list')"
   ]
  },
  {
   "cell_type": "code",
   "execution_count": 14,
   "id": "24027067-4ad5-4b96-a43e-1256a16f9285",
   "metadata": {},
   "outputs": [],
   "source": [
    "tmpdf = final_panel[final_panel['Vizgen Gene'].isin(rs1_include_tfs)]\n",
    "tmpdf['Notes'] = 'rs1_tf'\n",
    "gene_id_to_source.update(tmpdf['Notes'].to_dict())"
   ]
  },
  {
   "cell_type": "code",
   "execution_count": 15,
   "id": "a5a78649-79e4-4cbd-9606-02b71024945b",
   "metadata": {},
   "outputs": [],
   "source": [
    "tmpdf = final_panel[final_panel['Vizgen Gene'].isin(high_e_tfs)]\n",
    "tmpdf['Notes'] = 'high_e_tfs'\n",
    "gene_id_to_source.update(tmpdf['Notes'].to_dict())"
   ]
  },
  {
   "cell_type": "markdown",
   "id": "7676e503-673d-41ea-8f60-836c5e641c2b",
   "metadata": {},
   "source": [
    "## final"
   ]
  },
  {
   "cell_type": "code",
   "execution_count": 25,
   "id": "109e2db5-4324-427c-b085-8e44736e1cfb",
   "metadata": {},
   "outputs": [],
   "source": [
    "final_panel['Notes'] = final_panel.index.map(gene_id_to_source)"
   ]
  },
  {
   "cell_type": "code",
   "execution_count": 27,
   "id": "89a1133a-d9bf-45f6-a895-14b9c44b7326",
   "metadata": {},
   "outputs": [],
   "source": [
    "final_panel  = final_panel.fillna('cell type markers')                             "
   ]
  },
  {
   "cell_type": "code",
   "execution_count": 30,
   "id": "c679cbb7-8643-49b7-8865-d2c7d3107fca",
   "metadata": {},
   "outputs": [],
   "source": [
    "final_panel.to_csv('annotated_FinalGeneList_ecker-amb-500_CP1145.csv')"
   ]
  },
  {
   "cell_type": "code",
   "execution_count": 31,
   "id": "571a782f-c282-4649-b17c-226261f0fb9b",
   "metadata": {},
   "outputs": [],
   "source": [
    "final_panel.to_excel('annotated_FinalGeneList_ecker-amb-500_CP1145.xlsx', index=False)"
   ]
  },
  {
   "cell_type": "code",
   "execution_count": null,
   "id": "b73ba703-8e9b-4377-811d-0e54538bb505",
   "metadata": {},
   "outputs": [],
   "source": []
  }
 ],
 "metadata": {
  "kernelspec": {
   "display_name": "Python 3 (ipykernel)",
   "language": "python",
   "name": "python3"
  },
  "language_info": {
   "codemirror_mode": {
    "name": "ipython",
    "version": 3
   },
   "file_extension": ".py",
   "mimetype": "text/x-python",
   "name": "python",
   "nbconvert_exporter": "python",
   "pygments_lexer": "ipython3",
   "version": "3.7.12"
  }
 },
 "nbformat": 4,
 "nbformat_minor": 5
}
