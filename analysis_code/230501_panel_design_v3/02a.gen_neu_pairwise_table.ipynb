{
 "cells": [
  {
   "cell_type": "code",
   "execution_count": 1,
   "id": "bcbdc7f7-1875-44c4-8161-560d13330e05",
   "metadata": {},
   "outputs": [],
   "source": [
    "import pandas as pd\n",
    "from ALLCools.mcds import MCDS\n",
    "from scipy.stats import f_oneway, ttest_ind\n",
    "import joblib\n",
    "import anndata"
   ]
  },
  {
   "cell_type": "code",
   "execution_count": 2,
   "id": "da2f8e29-3d98-4032-b72a-7a2725ec0ae8",
   "metadata": {},
   "outputs": [],
   "source": [
    "gene_name_to_id = joblib.load('../freq_used_files/gene_name_to_id_dict')\n",
    "gene_id_to_name = joblib.load('../freq_used_files/gene_id_to_name_dict')\n",
    "gene_meta = pd.read_csv(\"../freq_used_files/GeneMetadata.csv.gz\", index_col=0)"
   ]
  },
  {
   "cell_type": "code",
   "execution_count": 3,
   "id": "4243648b-c087-4fac-a5f6-7dd88e775131",
   "metadata": {},
   "outputs": [],
   "source": [
    "age_young = '9mo'\n",
    "age_old = '18mo'"
   ]
  },
  {
   "cell_type": "code",
   "execution_count": 4,
   "id": "e54232c0-e26f-4124-b47f-8979ccbb6139",
   "metadata": {},
   "outputs": [],
   "source": [
    "mcds_paths = \"../freq_used_files/geneslop2k_frac.mcds\"\n",
    "var_dim = \"geneslop2k\""
   ]
  },
  {
   "cell_type": "code",
   "execution_count": 5,
   "id": "b25305c9-c5c8-42be-a57f-8336c9421dd6",
   "metadata": {},
   "outputs": [],
   "source": [
    "adata = anndata.read_h5ad('All_Genes.mCH.h5ad')\n",
    "adata.X = - adata.X"
   ]
  },
  {
   "cell_type": "code",
   "execution_count": 6,
   "id": "2be0b492-c6e6-4694-9401-e7ebb50b47a5",
   "metadata": {},
   "outputs": [],
   "source": [
    "gene_name_to_id = joblib.load('../freq_used_files/gene_name_to_id_dict')\n",
    "gene_id_to_name = joblib.load('../freq_used_files/gene_id_to_name_dict')"
   ]
  },
  {
   "cell_type": "code",
   "execution_count": 7,
   "id": "53157739-74cf-4b2c-ad81-5ab413f0c5f5",
   "metadata": {},
   "outputs": [],
   "source": [
    "pvalue_cutoff = 0.001\n",
    "ch_change_cutoff = 0.4\n",
    "#cg_change_cutoff = 0.2"
   ]
  },
  {
   "cell_type": "code",
   "execution_count": 8,
   "id": "27b733a2-c2e2-44b4-b702-cd5efd71f1c6",
   "metadata": {},
   "outputs": [
    {
     "data": {
      "text/plain": [
       "(38, 4, 34)"
      ]
     },
     "execution_count": 8,
     "metadata": {},
     "output_type": "execute_result"
    }
   ],
   "source": [
    "meta = pd.read_csv(\"../freq_used_files/221027_AMB_metadata.csv\", index_col=0)\n",
    "all_celltypes = meta[\"MajorType\"].unique().tolist()\n",
    "nn_celltypes = ['Oligo NN','Astro NN','OPC NN','Microglia NN']\n",
    "neu_celltypes = list(set(all_celltypes) ^ set(nn_celltypes))\n",
    "\n",
    "len(all_celltypes), len(nn_celltypes), len(neu_celltypes)"
   ]
  },
  {
   "cell_type": "code",
   "execution_count": 9,
   "id": "0b54cfe3-d622-475e-b9c9-11328d1e84e4",
   "metadata": {},
   "outputs": [],
   "source": [
    "meta = pd.read_csv(\"../freq_used_files/221027_AMB_metadata.csv\", index_col=0)\n",
    "meta = meta[(meta[\"Age\"].isin([f\"{age_young}\", f\"{age_old}\"])) & (meta[\"MajorType\"].isin(neu_celltypes))]"
   ]
  },
  {
   "cell_type": "code",
   "execution_count": 10,
   "id": "bd8cc545-b7d2-42b0-a905-3d622e67b3b7",
   "metadata": {},
   "outputs": [],
   "source": [
    "mcds =  MCDS.open(mcds_paths, var_dim=var_dim, use_obs=meta.index).sel(\n",
    "        mc_type=\"CHN\")"
   ]
  },
  {
   "cell_type": "code",
   "execution_count": 11,
   "id": "d67c537d-6c23-483f-9b17-47181d074458",
   "metadata": {},
   "outputs": [],
   "source": [
    "mcds.coords['MajorType'] = meta['MajorType']\n",
    "mcds.coords['Age'] = meta['Age']"
   ]
  },
  {
   "cell_type": "code",
   "execution_count": 12,
   "id": "747cfc1f-cc7f-4369-aace-d1a1c591fd70",
   "metadata": {},
   "outputs": [],
   "source": [
    "celltype_admgs = {}\n",
    "all_celltype_gene_pvalue = []\n",
    "all_celltype_gene_change = []\n",
    "\n",
    "for mt ,tmp_mcds in mcds.groupby('MajorType'):\n",
    "    tmp_young_cells = tmp_mcds.get_index('cell')[tmp_mcds[\"Age\"] == f\"{age_young}\"]\n",
    "    tmp_old_cells = tmp_mcds.get_index('cell')[tmp_mcds[\"Age\"] == f\"{age_old}\"]\n",
    "    \n",
    "    tmp_gene_frac = tmp_mcds[\"geneslop2k_da_frac\"].to_pandas()\n",
    "    genes = tmp_gene_frac.columns.tolist()\n",
    "    \n",
    "    statistic, p_value = ttest_ind(tmp_gene_frac.loc[tmp_young_cells], tmp_gene_frac.loc[tmp_old_cells], axis=0)\n",
    "    \n",
    "    celltype_gene_pvalue = pd.DataFrame({f\"{mt}\": p_value}, index=genes)\n",
    "    all_celltype_gene_pvalue.append(celltype_gene_pvalue)\n",
    "    f_celltype_gene_pvalue = celltype_gene_pvalue[celltype_gene_pvalue[f'{mt}'] < pvalue_cutoff]\n",
    "    \n",
    "    celltype_gene_change = pd.DataFrame(tmp_gene_frac.loc[tmp_old_cells].mean() - tmp_gene_frac.loc[tmp_young_cells].mean(), columns = [f'{mt}'])\n",
    "    all_celltype_gene_change.append(celltype_gene_change)\n",
    "    \n",
    "    f_celltype_gene_change = celltype_gene_change.loc[f_celltype_gene_pvalue.index]\n",
    "    f_celltype_gene_change = f_celltype_gene_change[abs(f_celltype_gene_change[f'{mt}']) > ch_change_cutoff]\n",
    "    \n",
    "    celltype_admgs[mt] = f_celltype_gene_change.index.tolist()"
   ]
  },
  {
   "cell_type": "code",
   "execution_count": 13,
   "id": "5cc9c5ca-e4c3-4435-a8bf-e59d45b7e409",
   "metadata": {},
   "outputs": [
    {
     "data": {
      "text/plain": [
       "['result/celltype_admgs_9mo_18mo.dict']"
      ]
     },
     "execution_count": 13,
     "metadata": {},
     "output_type": "execute_result"
    }
   ],
   "source": [
    "joblib.dump(celltype_admgs, f'result/celltype_admgs_{age_young}_{age_old}.dict')"
   ]
  },
  {
   "cell_type": "code",
   "execution_count": 14,
   "id": "52741a2c-7a30-4af6-8473-552c4115a6ec",
   "metadata": {},
   "outputs": [],
   "source": [
    "all_celltype_gene_pvalue_df = pd.concat(all_celltype_gene_pvalue,axis = 1)\n",
    "all_celltype_gene_change_df = pd.concat(all_celltype_gene_change, axis = 1)"
   ]
  },
  {
   "cell_type": "code",
   "execution_count": 15,
   "id": "fc0f82df-2b92-4ace-8492-fce415c6aca7",
   "metadata": {},
   "outputs": [],
   "source": [
    "all_celltype_gene_pvalue_df.to_csv(f'result/pvalues_celltype_admgs_{age_young}_{age_old}.csv')\n",
    "all_celltype_gene_change_df.to_csv(f'result/change_celltype_admgs_{age_young}_{age_old}.csv')"
   ]
  },
  {
   "cell_type": "code",
   "execution_count": null,
   "id": "24a9b85d-a1cc-47b1-b4ef-28d6586a0ac4",
   "metadata": {},
   "outputs": [],
   "source": []
  },
  {
   "cell_type": "code",
   "execution_count": null,
   "id": "c6fbf3b1-dbb1-4f35-89f9-6f4a9c935a08",
   "metadata": {},
   "outputs": [],
   "source": []
  },
  {
   "cell_type": "code",
   "execution_count": null,
   "id": "0eb3bd33-b741-42e4-9efb-c675af92341a",
   "metadata": {},
   "outputs": [],
   "source": []
  },
  {
   "cell_type": "code",
   "execution_count": null,
   "id": "10c855a8-6980-4b06-9a0c-30bb23f90a67",
   "metadata": {},
   "outputs": [],
   "source": []
  },
  {
   "cell_type": "code",
   "execution_count": null,
   "id": "a7aa4e14-b64b-4a63-bc32-820326777afa",
   "metadata": {},
   "outputs": [],
   "source": []
  }
 ],
 "metadata": {
  "kernelspec": {
   "display_name": "Python 3 (ipykernel)",
   "language": "python",
   "name": "python3"
  },
  "language_info": {
   "codemirror_mode": {
    "name": "ipython",
    "version": 3
   },
   "file_extension": ".py",
   "mimetype": "text/x-python",
   "name": "python",
   "nbconvert_exporter": "python",
   "pygments_lexer": "ipython3",
   "version": "3.7.12"
  }
 },
 "nbformat": 4,
 "nbformat_minor": 5
}
