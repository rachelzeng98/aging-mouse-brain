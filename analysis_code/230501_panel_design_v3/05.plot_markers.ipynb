{
 "cells": [
  {
   "cell_type": "code",
   "execution_count": 1,
   "id": "f70de798-842a-4fdb-81f2-8b2cb7e75aa0",
   "metadata": {},
   "outputs": [],
   "source": [
    "import glob\n",
    "from ALLCools.mcds import MCDS\n",
    "import anndata\n",
    "import matplotlib.pyplot as plt\n",
    "import pandas as pd\n",
    "import seaborn as sns\n",
    "from ALLCools.plot import *\n",
    "from wmb import cemba\n",
    "import dask\n",
    "import scanpy as sc"
   ]
  },
  {
   "cell_type": "code",
   "execution_count": null,
   "id": "afb554de-9a9a-4d44-b977-6ee157b795f7",
   "metadata": {},
   "outputs": [],
   "source": [
    "adata_path = \"mC_clustering/adata/my_markers.mCH.h5ad\"\n",
    "adata = anndata.read_h5ad(adata_path)"
   ]
  },
  {
   "cell_type": "code",
   "execution_count": null,
   "id": "f14ece1a-4e21-41b4-9762-db7fa8739584",
   "metadata": {},
   "outputs": [],
   "source": [
    "my_markers = "
   ]
  },
  {
   "cell_type": "code",
   "execution_count": null,
   "id": "7a2a8049-d00b-4470-b2ff-c08e5675ed75",
   "metadata": {},
   "outputs": [],
   "source": [
    "mcds_paths = \"../230410_panel_design_v1/geneslop2k_frac.mcds\"\n",
    "meta = pd.read_csv(\"../221027_AMB_metadata.csv\", index_col=0)\n",
    "var_dim = \"geneslop2k\"\n",
    "\n",
    "mcds = MCDS.open(mcds_paths, var_dim=var_dim, use_obs=meta.index).sel(mc_type=\"CHN\")"
   ]
  },
  {
   "cell_type": "code",
   "execution_count": null,
   "id": "38872766-e2f5-456e-8e20-0375be248cbc",
   "metadata": {},
   "outputs": [],
   "source": [
    "mcds.sel(gene = )"
   ]
  },
  {
   "cell_type": "code",
   "execution_count": null,
   "id": "74822127-b677-4147-8dd8-beb9236425e1",
   "metadata": {},
   "outputs": [],
   "source": [
    "fig, axes = plt.subplots(figsize=(28, 16),ncols= 7, nrows = 4, dpi=300, constrained_layout = True)\n",
    "\n",
    "for gene, ax in zip(marker_genes[:1], axes.ravel()):\n",
    "\n",
    "    coord_base = 'tsne_ori'\n",
    "    hue_norm = (0.67, 1.5)\n",
    "\n",
    "    _ = continuous_scatter(ax=ax,\n",
    "                           data=adata,\n",
    "                           hue=tmpdf[gene_name_to_id[gene]],\n",
    "                           hue_norm=hue_norm,\n",
    "                           coord_base=coord_base,\n",
    "                           max_points=None,\n",
    "                           s=1)\n",
    "    ax.set_title(f'{gene} {marker_gene_anno[gene]}')\n",
    "    \n",
    "for ax in axes.ravel():\n",
    "    ax.axis('off')\n",
    "    \n",
    "#fig.savefig('marker_genes.png')"
   ]
  },
  {
   "cell_type": "code",
   "execution_count": null,
   "id": "c8e694f4-2eaa-473b-bfa6-9f211a23559b",
   "metadata": {},
   "outputs": [],
   "source": []
  },
  {
   "cell_type": "code",
   "execution_count": null,
   "id": "e60c8f0c-a201-4b9b-80f7-8151a249b06d",
   "metadata": {},
   "outputs": [],
   "source": []
  },
  {
   "cell_type": "code",
   "execution_count": null,
   "id": "315ea88c-6f52-45c8-abd9-0d75519157f4",
   "metadata": {},
   "outputs": [],
   "source": []
  },
  {
   "cell_type": "code",
   "execution_count": null,
   "id": "b19aed85-df01-4191-a48b-e744d365a8f8",
   "metadata": {},
   "outputs": [],
   "source": []
  },
  {
   "cell_type": "code",
   "execution_count": null,
   "id": "97cd3d3c-8d26-410d-83b4-3053a65a00b2",
   "metadata": {},
   "outputs": [],
   "source": []
  },
  {
   "cell_type": "code",
   "execution_count": null,
   "id": "9618dc60-5985-4d72-9d1c-71861d6e4a23",
   "metadata": {},
   "outputs": [],
   "source": []
  },
  {
   "cell_type": "code",
   "execution_count": null,
   "id": "0ed221e1-d1ce-40d8-a56b-565d7a0cb315",
   "metadata": {},
   "outputs": [],
   "source": []
  },
  {
   "cell_type": "code",
   "execution_count": null,
   "id": "39fc6b87-5c1e-495b-9eea-1b05140def4b",
   "metadata": {},
   "outputs": [],
   "source": []
  },
  {
   "cell_type": "code",
   "execution_count": null,
   "id": "68d4e486-e3c5-42ae-9f5a-e81f8316c69e",
   "metadata": {},
   "outputs": [],
   "source": []
  },
  {
   "cell_type": "code",
   "execution_count": null,
   "id": "98bcdb7f-e7ab-40c0-9c8e-38719c5a8ec8",
   "metadata": {},
   "outputs": [],
   "source": []
  },
  {
   "cell_type": "code",
   "execution_count": null,
   "id": "cf9dd973-57f4-468e-8ee9-a63209192afe",
   "metadata": {},
   "outputs": [],
   "source": []
  },
  {
   "cell_type": "code",
   "execution_count": null,
   "id": "8a78d354-9dcd-44b8-877c-18f3fa161b52",
   "metadata": {},
   "outputs": [],
   "source": []
  }
 ],
 "metadata": {
  "kernelspec": {
   "display_name": "Python 3 (ipykernel)",
   "language": "python",
   "name": "python3"
  },
  "language_info": {
   "codemirror_mode": {
    "name": "ipython",
    "version": 3
   },
   "file_extension": ".py",
   "mimetype": "text/x-python",
   "name": "python",
   "nbconvert_exporter": "python",
   "pygments_lexer": "ipython3",
   "version": "3.7.12"
  }
 },
 "nbformat": 4,
 "nbformat_minor": 5
}
