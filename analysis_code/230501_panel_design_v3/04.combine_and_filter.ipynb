{
 "cells": [
  {
   "cell_type": "code",
   "execution_count": 1,
   "id": "e30eff81-02fb-428f-a9dc-61f9ef75d7b2",
   "metadata": {},
   "outputs": [],
   "source": [
    "import pandas as pd\n",
    "import joblib"
   ]
  },
  {
   "cell_type": "code",
   "execution_count": 2,
   "id": "abf445ea-b36d-4d38-8da6-83bb421eed52",
   "metadata": {},
   "outputs": [],
   "source": [
    "gene_meta = pd.read_csv(\"../freq_used_files/GeneMetadata.csv.gz\", index_col='geneslop2k')\n",
    "gene_id_to_name = gene_meta['gene_name'].to_dict()"
   ]
  },
  {
   "cell_type": "code",
   "execution_count": 3,
   "id": "fe12ebfc-b869-49f9-95a8-04ea12f60bfd",
   "metadata": {},
   "outputs": [],
   "source": [
    "aging_gene_ids = joblib.load('result/aging_gene_ids')\n",
    "celltype_marker_ids = pd.read_csv('result/final_ct_marker_panel.csv', index_col = 0).index.tolist()"
   ]
  },
  {
   "cell_type": "code",
   "execution_count": 4,
   "id": "32387d68-0b79-46c0-bd5e-1bbceeaf0894",
   "metadata": {},
   "outputs": [
    {
     "data": {
      "text/plain": [
       "555"
      ]
     },
     "execution_count": 4,
     "metadata": {},
     "output_type": "execute_result"
    }
   ],
   "source": [
    "my_gene_panel_v3 = list(set(aging_gene_ids + celltype_marker_ids))\n",
    "len(my_gene_panel_v3)"
   ]
  },
  {
   "cell_type": "code",
   "execution_count": 5,
   "id": "584612fb-f2ff-4acd-b601-6b62501ad34b",
   "metadata": {},
   "outputs": [
    {
     "data": {
      "text/plain": [
       "['1700010L04Rik', 'Patz1', 'Itpr1']"
      ]
     },
     "execution_count": 5,
     "metadata": {},
     "output_type": "execute_result"
    }
   ],
   "source": [
    "my_gene_panel_v3_name = [gene_id_to_name[gene_id] for gene_id in my_gene_panel_v3]\n",
    "my_gene_panel_v3_name[:3]"
   ]
  },
  {
   "cell_type": "code",
   "execution_count": 6,
   "id": "fb61dced-6908-430f-9864-79537f5948ea",
   "metadata": {},
   "outputs": [],
   "source": [
    "_dir = 'published_panel/'\n",
    "luisa_panel = pd.read_csv(f'{_dir}/luisa.csv')['gene symbol'].tolist()\n",
    "rs1_panel = pd.read_csv(f'{_dir}/rs1_gene_panel.csv')['Gene Names Included in MERFISH Gene Panel'].tolist()\n",
    "zhuang_aging = pd.read_csv(f'{_dir}/Zhuang.Aging.Markers.csv')['Gene'].tolist()\n",
    "zhuang_ct_marker = pd.read_csv(f'{_dir}/Zhuang.CellType.Marker.csv')['Gene'].tolist()"
   ]
  },
  {
   "cell_type": "code",
   "execution_count": 7,
   "id": "21118f30-b8e0-43b0-a145-40be42f82c86",
   "metadata": {},
   "outputs": [
    {
     "name": "stdout",
     "output_type": "stream",
     "text": [
      "78 genes shared by mine and luisa\n",
      "122 genes shared by mine and hq panel\n",
      "27 genes shared by mine and zhuang aging\n",
      "40 genes shared by mine and zhuang ct marker\n"
     ]
    }
   ],
   "source": [
    "print(f'{len(set(my_gene_panel_v3_name).intersection(luisa_panel))} genes shared by mine and luisa')\n",
    "print(f'{len(set(my_gene_panel_v3_name).intersection(rs1_panel))} genes shared by mine and hq panel')\n",
    "print(f'{len(set(my_gene_panel_v3_name).intersection(zhuang_aging))} genes shared by mine and zhuang aging')\n",
    "print(f'{len(set(my_gene_panel_v3_name).intersection(zhuang_ct_marker))} genes shared by mine and zhuang ct marker')"
   ]
  },
  {
   "cell_type": "code",
   "execution_count": 8,
   "id": "57107b49-ba3d-4f03-bc6d-7b861568367a",
   "metadata": {},
   "outputs": [],
   "source": [
    "gene_meta['length'] = gene_meta['end'] - gene_meta['start']\n",
    "proper_length_genes = gene_meta[(gene_meta['length'] > 1000) & (gene_meta['length'] < 1000000)].index"
   ]
  },
  {
   "cell_type": "code",
   "execution_count": 9,
   "id": "eb9b7ab9-2ac8-4776-b79c-25a440254baa",
   "metadata": {},
   "outputs": [
    {
     "data": {
      "text/plain": [
       "519"
      ]
     },
     "execution_count": 9,
     "metadata": {},
     "output_type": "execute_result"
    }
   ],
   "source": [
    "my_gene_panel_v3 = list(set(my_gene_panel_v3) & set(proper_length_genes))\n",
    "len(my_gene_panel_v3)"
   ]
  },
  {
   "cell_type": "code",
   "execution_count": 27,
   "id": "74eed1bf-9448-4623-993e-d8f6eef35237",
   "metadata": {},
   "outputs": [
    {
     "data": {
      "text/plain": [
       "22"
      ]
     },
     "execution_count": 27,
     "metadata": {},
     "output_type": "execute_result"
    }
   ],
   "source": [
    "v1_panel = pd.read_csv('ECKER_AMB_500_1.txt', header = None)\n",
    "v2_v1_genes = list(set(v1_panel[0]) ^ set(my_gene_panel_v3))\n",
    "len(v2_v1_genes)"
   ]
  },
  {
   "cell_type": "code",
   "execution_count": 29,
   "id": "576d5c8b-2e5c-44a6-bd29-4890222a4989",
   "metadata": {},
   "outputs": [],
   "source": [
    "pd.Series(v2_v1_genes).to_csv('ECKER_AMB_500_2.txt', index = None)"
   ]
  },
  {
   "cell_type": "code",
   "execution_count": null,
   "id": "e35b7c47-bdc8-4f53-9077-2d3654b378f4",
   "metadata": {},
   "outputs": [],
   "source": []
  },
  {
   "cell_type": "code",
   "execution_count": 12,
   "id": "79335b0c-10e1-4785-b1a9-ae98de69004c",
   "metadata": {},
   "outputs": [
    {
     "data": {
      "text/plain": [
       "['result/V3_gene_panel_list']"
      ]
     },
     "execution_count": 12,
     "metadata": {},
     "output_type": "execute_result"
    }
   ],
   "source": [
    "joblib.dump(my_gene_panel_v3, 'result/V3_gene_panel_list')"
   ]
  }
 ],
 "metadata": {
  "kernelspec": {
   "display_name": "Python 3 (ipykernel)",
   "language": "python",
   "name": "python3"
  },
  "language_info": {
   "codemirror_mode": {
    "name": "ipython",
    "version": 3
   },
   "file_extension": ".py",
   "mimetype": "text/x-python",
   "name": "python",
   "nbconvert_exporter": "python",
   "pygments_lexer": "ipython3",
   "version": "3.7.12"
  }
 },
 "nbformat": 4,
 "nbformat_minor": 5
}
