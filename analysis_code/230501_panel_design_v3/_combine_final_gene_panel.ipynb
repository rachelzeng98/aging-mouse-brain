{
 "cells": [
  {
   "cell_type": "code",
   "execution_count": 1,
   "id": "aa3f4680-f9dc-479a-8e06-cab0c2570bd9",
   "metadata": {},
   "outputs": [],
   "source": [
    "import joblib\n",
    "import pandas as pd"
   ]
  },
  {
   "cell_type": "code",
   "execution_count": 2,
   "id": "6b6b03d7-3670-436a-aeed-a3f78fd6d33d",
   "metadata": {},
   "outputs": [],
   "source": [
    "gene_meta = pd.read_csv(\"../GeneMetadata.csv.gz\", index_col=0)\n",
    "gene_meta['length'] = gene_meta['end'] - gene_meta['start']\n",
    "\n",
    "use_genes = gene_meta[gene_meta['length'] > 1000].index"
   ]
  },
  {
   "cell_type": "code",
   "execution_count": 3,
   "id": "727565e2-f414-4ec5-a8d6-f569a01d4310",
   "metadata": {},
   "outputs": [],
   "source": [
    "gene_name_to_id = joblib.load('../gene_name_to_id_dict')\n",
    "gene_id_to_name = joblib.load('../gene_id_to_name_dict')"
   ]
  },
  {
   "cell_type": "markdown",
   "id": "e0ee973c-1d20-4762-a3ae-fd4bb31f998b",
   "metadata": {},
   "source": [
    "## merge"
   ]
  },
  {
   "cell_type": "code",
   "execution_count": 6,
   "id": "941fcfb7-9520-4513-9784-bd64e055f993",
   "metadata": {},
   "outputs": [
    {
     "data": {
      "text/plain": [
       "MajorType    233\n",
       "Name: Name, dtype: int64"
      ]
     },
     "execution_count": 6,
     "metadata": {},
     "output_type": "execute_result"
    }
   ],
   "source": [
    "# these 233 genes are enough to seperate major cell types\n",
    "wei_gene_panel = pd.read_csv('final_panel.csv', index_col = 0)\n",
    "wei_gene_panel = wei_gene_panel[wei_gene_panel['diff'] > 0.4]\n",
    "wei_gene_panel = wei_gene_panel[wei_gene_panel['Name'] == 'MajorType']\n",
    "wei_gene_panel['Name'].value_counts()"
   ]
  },
  {
   "cell_type": "code",
   "execution_count": 7,
   "id": "8f7e21dc-96e1-4be8-87bf-d2baca73c5d2",
   "metadata": {},
   "outputs": [
    {
     "data": {
      "text/html": [
       "<div>\n",
       "<style scoped>\n",
       "    .dataframe tbody tr th:only-of-type {\n",
       "        vertical-align: middle;\n",
       "    }\n",
       "\n",
       "    .dataframe tbody tr th {\n",
       "        vertical-align: top;\n",
       "    }\n",
       "\n",
       "    .dataframe thead th {\n",
       "        text-align: right;\n",
       "    }\n",
       "</style>\n",
       "<table border=\"1\" class=\"dataframe\">\n",
       "  <thead>\n",
       "    <tr style=\"text-align: right;\">\n",
       "      <th></th>\n",
       "      <th>Source</th>\n",
       "    </tr>\n",
       "  </thead>\n",
       "  <tbody>\n",
       "    <tr>\n",
       "      <th>ENSMUSG00000029705.17</th>\n",
       "      <td>MajorType</td>\n",
       "    </tr>\n",
       "    <tr>\n",
       "      <th>ENSMUSG00000026872.18</th>\n",
       "      <td>MajorType</td>\n",
       "    </tr>\n",
       "    <tr>\n",
       "      <th>ENSMUSG00000042992.15</th>\n",
       "      <td>MajorType</td>\n",
       "    </tr>\n",
       "    <tr>\n",
       "      <th>ENSMUSG00000062209.15</th>\n",
       "      <td>MajorType</td>\n",
       "    </tr>\n",
       "    <tr>\n",
       "      <th>ENSMUSG00000026872.18</th>\n",
       "      <td>MajorType</td>\n",
       "    </tr>\n",
       "  </tbody>\n",
       "</table>\n",
       "</div>"
      ],
      "text/plain": [
       "                          Source\n",
       "ENSMUSG00000029705.17  MajorType\n",
       "ENSMUSG00000026872.18  MajorType\n",
       "ENSMUSG00000042992.15  MajorType\n",
       "ENSMUSG00000062209.15  MajorType\n",
       "ENSMUSG00000026872.18  MajorType"
      ]
     },
     "execution_count": 7,
     "metadata": {},
     "output_type": "execute_result"
    }
   ],
   "source": [
    "gene_table_with_source = wei_gene_panel[['Name']]\n",
    "gene_table_with_source.columns = ['Source']\n",
    "gene_table_with_source.head()"
   ]
  },
  {
   "cell_type": "markdown",
   "id": "d66fae4b-14a8-476b-b71f-a1e3a7a6b1a4",
   "metadata": {
    "tags": []
   },
   "source": [
    "## aDMG"
   ]
  },
  {
   "cell_type": "code",
   "execution_count": 8,
   "id": "5a731f45-8f5d-4ab7-9dca-24e88c770987",
   "metadata": {},
   "outputs": [],
   "source": [
    "admgs_8wk_9mo_dict = joblib.load('celltype_admgs_8wk_18mo.dict')\n",
    "admgs_8wk_9mo_18mo_dict = joblib.load('celltype_admgs_8wk_9mo_18mo.dict')"
   ]
  },
  {
   "cell_type": "code",
   "execution_count": 9,
   "id": "7fadc961-5e6e-4892-a4ff-d22338611e6c",
   "metadata": {
    "tags": []
   },
   "outputs": [],
   "source": [
    "all_admgs_8wk_18mo = []\n",
    "all_admgs_8wk_9mo_18mo = []\n",
    "\n",
    "for ct, genes in admgs_8wk_9mo_dict.items():\n",
    "    all_admgs_8wk_18mo += genes\n",
    "\n",
    "for ct, genes in admgs_8wk_9mo_18mo_dict.items():\n",
    "    all_admgs_8wk_9mo_18mo += genes\n",
    "\n",
    "all_admgs_8wk_18mo = list(set(all_admgs_8wk_18mo))\n",
    "all_admgs_8wk_9mo_18mo = list(set(all_admgs_8wk_9mo_18mo))"
   ]
  },
  {
   "cell_type": "code",
   "execution_count": 10,
   "id": "8c2f02fb-75b8-40c7-8657-cfdeb2589222",
   "metadata": {},
   "outputs": [
    {
     "data": {
      "text/plain": [
       "111"
      ]
     },
     "execution_count": 10,
     "metadata": {},
     "output_type": "execute_result"
    }
   ],
   "source": [
    "celltype_admg = list(set(all_admgs_8wk_18mo + all_admgs_8wk_18mo))\n",
    "len(celltype_admg)"
   ]
  },
  {
   "cell_type": "code",
   "execution_count": 9,
   "id": "f47ed05f-5ded-41ed-a615-ab766cd587c5",
   "metadata": {},
   "outputs": [
    {
     "data": {
      "text/plain": [
       "319"
      ]
     },
     "execution_count": 9,
     "metadata": {},
     "output_type": "execute_result"
    }
   ],
   "source": [
    "all_panel = list(set(celltype_admg + wei_gene_panel.index.tolist()))\n",
    "len(all_panel)"
   ]
  },
  {
   "cell_type": "code",
   "execution_count": 10,
   "id": "c6dcc01a-9ca3-4298-a013-ed5c89f7e8ea",
   "metadata": {},
   "outputs": [],
   "source": [
    "tmp = pd.DataFrame(index = celltype_admg)\n",
    "tmp['Source'] = 'aDMG'"
   ]
  },
  {
   "cell_type": "code",
   "execution_count": 11,
   "id": "ee1afb40-1fbb-4140-b312-baa30d339aaa",
   "metadata": {},
   "outputs": [],
   "source": [
    "gene_table_with_source = pd.concat([gene_table_with_source, tmp])"
   ]
  },
  {
   "cell_type": "markdown",
   "id": "9d12b63b-2375-4ab9-b536-8bdf4d321a41",
   "metadata": {
    "tags": []
   },
   "source": [
    "## canonical marker"
   ]
  },
  {
   "cell_type": "code",
   "execution_count": 7,
   "id": "06740365-eb2e-463d-889c-a4cd12cf3eb4",
   "metadata": {},
   "outputs": [],
   "source": [
    "gene_meta = pd.read_csv(\"../GeneMetadata.csv.gz\", index_col='gene_name')\n",
    "#gene_id_to_name = gene_meta[\"gene_name\"].to_dict()\n",
    "gene_name_to_id = gene_meta[\"geneslop2k\"].to_dict()"
   ]
  },
  {
   "cell_type": "code",
   "execution_count": 8,
   "id": "1bb87ad3-11a1-4464-9bfa-d3d7d92e56bb",
   "metadata": {},
   "outputs": [
    {
     "data": {
      "text/plain": [
       "34"
      ]
     },
     "execution_count": 8,
     "metadata": {},
     "output_type": "execute_result"
    }
   ],
   "source": [
    "genes_names_to_include = [\"Slc17a6\",\"Slc17a7\",\"Gad1\",\"Gad2\",\"Prex1\",\"Cux2\",\n",
    "                  \"Rorb\",\"Ptgfrn\",\"Xkr7\",\"Tcerg1l\",\"Tle4\",\"Tshz2\",\n",
    "                  \"Galnt10\",\"Rerg\",\"Fibcd1\",\"Dock10\",\"Lhx6\",\"Lamp5\",\n",
    "                  \"Vip\",\"Sst\",\"Pvalb\",\"Foxp2\",\"Drd1\",\"Drd2\",\"Mobp\",\n",
    "                  \"Pdgfra\",\"Csf1r\",\"Cspg4\",\"Olig2\",\"Olig1\",\"Rorb\",\"Slc1a2\",\"Aqp4\",\"Ctss\"]\n",
    "len(genes_names_to_include)"
   ]
  },
  {
   "cell_type": "code",
   "execution_count": 9,
   "id": "e7d4cd8e-a460-4ba4-af97-208353a36d20",
   "metadata": {},
   "outputs": [],
   "source": [
    "genes_to_include = [gene_name_to_id[gene_name] for gene_name in genes_names_to_include]"
   ]
  },
  {
   "cell_type": "code",
   "execution_count": 11,
   "id": "d4b4884b-fa86-4a49-8572-254498ac344e",
   "metadata": {},
   "outputs": [
    {
     "data": {
      "text/plain": [
       "241"
      ]
     },
     "execution_count": 11,
     "metadata": {},
     "output_type": "execute_result"
    }
   ],
   "source": [
    "celltype_markers = list(set(wei_gene_panel.index.tolist() + genes_to_include))\n",
    "len(celltype_markers)"
   ]
  },
  {
   "cell_type": "code",
   "execution_count": 13,
   "id": "1d24975c-52f5-4b7a-94f3-13398a8a505a",
   "metadata": {},
   "outputs": [
    {
     "data": {
      "text/plain": [
       "['celltype_markers.list']"
      ]
     },
     "execution_count": 13,
     "metadata": {},
     "output_type": "execute_result"
    }
   ],
   "source": [
    "joblib.dump(celltype_markers, 'celltype_markers.list')"
   ]
  },
  {
   "cell_type": "code",
   "execution_count": 15,
   "id": "331fae48-4e97-4b75-9692-ef5d3fe6a7f4",
   "metadata": {},
   "outputs": [],
   "source": [
    "tmp = pd.DataFrame(index = celltype_admg)\n",
    "tmp['Source'] = 'Canonical Marker'"
   ]
  },
  {
   "cell_type": "code",
   "execution_count": 16,
   "id": "446bc809-a41e-425f-b009-83c6cfcc8c8b",
   "metadata": {},
   "outputs": [
    {
     "data": {
      "text/html": [
       "<div>\n",
       "<style scoped>\n",
       "    .dataframe tbody tr th:only-of-type {\n",
       "        vertical-align: middle;\n",
       "    }\n",
       "\n",
       "    .dataframe tbody tr th {\n",
       "        vertical-align: top;\n",
       "    }\n",
       "\n",
       "    .dataframe thead th {\n",
       "        text-align: right;\n",
       "    }\n",
       "</style>\n",
       "<table border=\"1\" class=\"dataframe\">\n",
       "  <thead>\n",
       "    <tr style=\"text-align: right;\">\n",
       "      <th></th>\n",
       "      <th>Source</th>\n",
       "    </tr>\n",
       "  </thead>\n",
       "  <tbody>\n",
       "    <tr>\n",
       "      <th>ENSMUSG00000029705.17</th>\n",
       "      <td>MajorType</td>\n",
       "    </tr>\n",
       "    <tr>\n",
       "      <th>ENSMUSG00000026872.18</th>\n",
       "      <td>MajorType</td>\n",
       "    </tr>\n",
       "    <tr>\n",
       "      <th>ENSMUSG00000042992.15</th>\n",
       "      <td>MajorType</td>\n",
       "    </tr>\n",
       "    <tr>\n",
       "      <th>ENSMUSG00000062209.15</th>\n",
       "      <td>MajorType</td>\n",
       "    </tr>\n",
       "    <tr>\n",
       "      <th>ENSMUSG00000026872.18</th>\n",
       "      <td>MajorType</td>\n",
       "    </tr>\n",
       "  </tbody>\n",
       "</table>\n",
       "</div>"
      ],
      "text/plain": [
       "                          Source\n",
       "ENSMUSG00000029705.17  MajorType\n",
       "ENSMUSG00000026872.18  MajorType\n",
       "ENSMUSG00000042992.15  MajorType\n",
       "ENSMUSG00000062209.15  MajorType\n",
       "ENSMUSG00000026872.18  MajorType"
      ]
     },
     "execution_count": 16,
     "metadata": {},
     "output_type": "execute_result"
    }
   ],
   "source": [
    "gene_table_with_source = pd.concat([gene_table_with_source, tmp])\n",
    "gene_table_with_source.head()"
   ]
  },
  {
   "cell_type": "code",
   "execution_count": 17,
   "id": "19c20b81-aa42-4f9a-8b33-0f919b9f5d81",
   "metadata": {},
   "outputs": [
    {
     "data": {
      "text/plain": [
       "343"
      ]
     },
     "execution_count": 17,
     "metadata": {},
     "output_type": "execute_result"
    }
   ],
   "source": [
    "all_gene_panel2 = list(set(all_panel + genes_to_include))\n",
    "len(all_gene_panel2)"
   ]
  },
  {
   "cell_type": "markdown",
   "id": "15685630-d260-43f2-8b79-709cfe93fc6a",
   "metadata": {},
   "source": [
    "## SASP genes"
   ]
  },
  {
   "cell_type": "code",
   "execution_count": 18,
   "id": "6bb01a23-0458-4614-82ca-666c751aab6b",
   "metadata": {},
   "outputs": [],
   "source": [
    "luisa_panel = pd.read_csv(\"../230410_panel_design_v1/published_panel/luisa.csv\", index_col=0)"
   ]
  },
  {
   "cell_type": "code",
   "execution_count": 19,
   "id": "2f79ab22-6f08-43f5-8b91-a57787159c4b",
   "metadata": {},
   "outputs": [],
   "source": [
    "sasp_genes = luisa_panel[\n",
    "    luisa_panel[\"type of marker\"].isin([\"age/sasp\"])\n",
    "].index.tolist()\n",
    "\n",
    "sasp_genes.append('Il33')"
   ]
  },
  {
   "cell_type": "code",
   "execution_count": 20,
   "id": "ec56d5c9-0c3d-49c4-9438-416e8040b6eb",
   "metadata": {},
   "outputs": [
    {
     "data": {
      "text/plain": [
       "43"
      ]
     },
     "execution_count": 20,
     "metadata": {},
     "output_type": "execute_result"
    }
   ],
   "source": [
    "sasp_genes_ids = []\n",
    "for genea_name in sasp_genes:\n",
    "    if genea_name in gene_name_to_id.keys():\n",
    "        sasp_genes_ids.append(gene_name_to_id[genea_name])\n",
    "len(sasp_genes_ids)        "
   ]
  },
  {
   "cell_type": "code",
   "execution_count": 21,
   "id": "d5a44d2a-98b9-42e9-9898-f6208a2d27b4",
   "metadata": {},
   "outputs": [],
   "source": [
    "tmp = pd.DataFrame(index = sasp_genes_ids)\n",
    "tmp['Source'] = 'SASP'"
   ]
  },
  {
   "cell_type": "code",
   "execution_count": 22,
   "id": "90e84c0f-b0d1-4ed4-8620-c4181f9a3ef3",
   "metadata": {},
   "outputs": [
    {
     "data": {
      "text/html": [
       "<div>\n",
       "<style scoped>\n",
       "    .dataframe tbody tr th:only-of-type {\n",
       "        vertical-align: middle;\n",
       "    }\n",
       "\n",
       "    .dataframe tbody tr th {\n",
       "        vertical-align: top;\n",
       "    }\n",
       "\n",
       "    .dataframe thead th {\n",
       "        text-align: right;\n",
       "    }\n",
       "</style>\n",
       "<table border=\"1\" class=\"dataframe\">\n",
       "  <thead>\n",
       "    <tr style=\"text-align: right;\">\n",
       "      <th></th>\n",
       "      <th>Source</th>\n",
       "    </tr>\n",
       "  </thead>\n",
       "  <tbody>\n",
       "    <tr>\n",
       "      <th>ENSMUSG00000029705.17</th>\n",
       "      <td>MajorType</td>\n",
       "    </tr>\n",
       "    <tr>\n",
       "      <th>ENSMUSG00000026872.18</th>\n",
       "      <td>MajorType</td>\n",
       "    </tr>\n",
       "    <tr>\n",
       "      <th>ENSMUSG00000042992.15</th>\n",
       "      <td>MajorType</td>\n",
       "    </tr>\n",
       "    <tr>\n",
       "      <th>ENSMUSG00000062209.15</th>\n",
       "      <td>MajorType</td>\n",
       "    </tr>\n",
       "    <tr>\n",
       "      <th>ENSMUSG00000026872.18</th>\n",
       "      <td>MajorType</td>\n",
       "    </tr>\n",
       "  </tbody>\n",
       "</table>\n",
       "</div>"
      ],
      "text/plain": [
       "                          Source\n",
       "ENSMUSG00000029705.17  MajorType\n",
       "ENSMUSG00000026872.18  MajorType\n",
       "ENSMUSG00000042992.15  MajorType\n",
       "ENSMUSG00000062209.15  MajorType\n",
       "ENSMUSG00000026872.18  MajorType"
      ]
     },
     "execution_count": 22,
     "metadata": {},
     "output_type": "execute_result"
    }
   ],
   "source": [
    "gene_table_with_source = pd.concat([gene_table_with_source, tmp])\n",
    "gene_table_with_source.head()"
   ]
  },
  {
   "cell_type": "code",
   "execution_count": 23,
   "id": "36350081-bff3-4262-970b-5a3cb7073d48",
   "metadata": {},
   "outputs": [
    {
     "data": {
      "text/plain": [
       "385"
      ]
     },
     "execution_count": 23,
     "metadata": {},
     "output_type": "execute_result"
    }
   ],
   "source": [
    "all_gene_panel3 = list(set(all_gene_panel2 + sasp_genes_ids))\n",
    "len(all_gene_panel3)"
   ]
  },
  {
   "cell_type": "markdown",
   "id": "0531b421-6b48-4f7b-baf7-62edbbf61f7a",
   "metadata": {},
   "source": [
    "## hotspot genes"
   ]
  },
  {
   "cell_type": "code",
   "execution_count": 24,
   "id": "14d3b522-fe2d-4181-8f35-6f65d3c805d9",
   "metadata": {},
   "outputs": [],
   "source": [
    "_dir = '/data/aging/analysis/221027_dmr/hotspot/5000_result'"
   ]
  },
  {
   "cell_type": "code",
   "execution_count": 25,
   "id": "1ddc8489-9158-433e-bbd3-3bf8368476a6",
   "metadata": {},
   "outputs": [],
   "source": [
    "hotspot_genes = pd.read_csv(f'{_dir}/5000_inter_genebody_2k.bed', sep = '\\t', header = None, index_col = 3)\n",
    "hotspot_genes.index = hotspot_genes.index.map(gene_name_to_id)\n",
    "hotspot_genes = hotspot_genes.loc[list(set(use_genes)& set(hotspot_genes.index))]"
   ]
  },
  {
   "cell_type": "code",
   "execution_count": 26,
   "id": "19a55d7a-6352-440b-8c26-60287e98ed0b",
   "metadata": {},
   "outputs": [],
   "source": [
    "hotspot_genes = hotspot_genes[7]\n",
    "hotspot_genes = hotspot_genes.groupby(hotspot_genes.index).sum()"
   ]
  },
  {
   "cell_type": "code",
   "execution_count": 28,
   "id": "923713a8-9ee7-45ff-8ab5-791336b26f4f",
   "metadata": {},
   "outputs": [
    {
     "data": {
      "text/plain": [
       "50"
      ]
     },
     "execution_count": 28,
     "metadata": {},
     "output_type": "execute_result"
    }
   ],
   "source": [
    "hotspot_genes = hotspot_genes.sort_values(ascending = False)[:50].index.tolist()\n",
    "len(hotspot_genes)"
   ]
  },
  {
   "cell_type": "code",
   "execution_count": 29,
   "id": "b55fd637-4220-4435-87eb-927e6467a9b6",
   "metadata": {},
   "outputs": [],
   "source": [
    "tmp = pd.DataFrame(index = sasp_genes_ids)\n",
    "tmp['Source'] = 'Hotspot'\n",
    "\n",
    "gene_table_with_source = pd.concat([gene_table_with_source, tmp])\n",
    "gene_table_with_source.head()"
   ]
  },
  {
   "cell_type": "code",
   "execution_count": 31,
   "id": "6d4e30f8-a9a3-404a-be13-e6c338bbaeb9",
   "metadata": {},
   "outputs": [
    {
     "data": {
      "text/plain": [
       "430"
      ]
     },
     "execution_count": 31,
     "metadata": {},
     "output_type": "execute_result"
    }
   ],
   "source": [
    "all_gene_panel4 = list(set(hotspot_genes + all_gene_panel3))\n",
    "len(all_gene_panel4)"
   ]
  },
  {
   "cell_type": "markdown",
   "id": "ea6e311d-2c05-4709-8b8f-91f1bb796a03",
   "metadata": {},
   "source": [
    "## add immune genes"
   ]
  },
  {
   "cell_type": "code",
   "execution_count": 33,
   "id": "0ad2d6c2-9e2a-4369-9cbc-79478731e974",
   "metadata": {},
   "outputs": [],
   "source": [
    "immune_markers = ['Ptprc','Cd3d','Cd69','Cd19','Cd8a','Cd4','Cx3cr1','Mertk']\n",
    "immune_markers_id = [gene_name_to_id[gene_name] for gene_name in immune_markers]"
   ]
  },
  {
   "cell_type": "code",
   "execution_count": 34,
   "id": "3d2e1143-99b7-427b-a6c0-b85df3762e7f",
   "metadata": {},
   "outputs": [
    {
     "data": {
      "text/plain": [
       "438"
      ]
     },
     "execution_count": 34,
     "metadata": {},
     "output_type": "execute_result"
    }
   ],
   "source": [
    "all_gene_panel5 = list(set(immune_markers_id + all_gene_panel4))\n",
    "len(all_gene_panel5)"
   ]
  },
  {
   "cell_type": "code",
   "execution_count": 43,
   "id": "6e032bd0-0d5b-4da6-821b-8dbd66152ec3",
   "metadata": {},
   "outputs": [],
   "source": [
    "tmp = pd.DataFrame(index = immune_markers_id)\n",
    "tmp['Source'] = 'immune'\n",
    "\n",
    "gene_table_with_source = pd.concat([gene_table_with_source, tmp])"
   ]
  },
  {
   "cell_type": "markdown",
   "id": "de2b9d70-3438-4304-bd50-b1f6fc5c5343",
   "metadata": {},
   "source": [
    "## AD genes"
   ]
  },
  {
   "cell_type": "code",
   "execution_count": 36,
   "id": "b619d946-bdce-4667-b480-18652b87a703",
   "metadata": {},
   "outputs": [],
   "source": [
    "ad_markers = ['Trem2','Nlrp3','Il18','Il1b','Apoe','App','Tff1','Psen1']\n",
    "# hippocuss, enthorinal cortex\n",
    "ad_markers_id = [gene_name_to_id[gene_name] for gene_name in ad_markers]"
   ]
  },
  {
   "cell_type": "code",
   "execution_count": 37,
   "id": "f67b37f4-fb55-46a3-aa0a-3f66f75182d6",
   "metadata": {},
   "outputs": [
    {
     "data": {
      "text/plain": [
       "444"
      ]
     },
     "execution_count": 37,
     "metadata": {},
     "output_type": "execute_result"
    }
   ],
   "source": [
    "all_gene_panel6 = list(set(ad_markers_id + all_gene_panel5))\n",
    "len(all_gene_panel6)"
   ]
  },
  {
   "cell_type": "code",
   "execution_count": 38,
   "id": "c24e3c65-e073-4f68-b7d6-d417c650cd68",
   "metadata": {},
   "outputs": [],
   "source": [
    "tmp = pd.DataFrame(index = ad_markers_id)\n",
    "tmp['Source'] = 'AD'\n",
    "\n",
    "gene_table_with_source = pd.concat([gene_table_with_source, tmp])"
   ]
  },
  {
   "cell_type": "markdown",
   "id": "d528a436-d2f0-4702-ba76-97f2f22aeb18",
   "metadata": {},
   "source": [
    "## methylation genes"
   ]
  },
  {
   "cell_type": "code",
   "execution_count": null,
   "id": "14199b5a-8b0a-46a2-8c4e-7ae3c8d96190",
   "metadata": {},
   "outputs": [],
   "source": [
    "methyl_genes = ['Dnmt3a','Dnmt3b','Tet1','Tet2','Tet3','Mecp2']"
   ]
  },
  {
   "cell_type": "code",
   "execution_count": null,
   "id": "711ebc1a-ee5c-45de-a288-c3d408e0e8d5",
   "metadata": {},
   "outputs": [],
   "source": []
  },
  {
   "cell_type": "code",
   "execution_count": null,
   "id": "6b732426-b483-46fc-96d0-c9a074291d92",
   "metadata": {},
   "outputs": [],
   "source": [
    "# xiaowei paper\n",
    "# \n"
   ]
  },
  {
   "cell_type": "code",
   "execution_count": null,
   "id": "05b905c8-7c1f-49a5-b3ba-bdf60fca0706",
   "metadata": {},
   "outputs": [],
   "source": []
  },
  {
   "cell_type": "markdown",
   "id": "373537d8-73f3-47a1-a025-f351986ef131",
   "metadata": {},
   "source": [
    "## assert length > 1000"
   ]
  },
  {
   "cell_type": "code",
   "execution_count": 39,
   "id": "13de9234-7611-458f-b94a-d90e1c545903",
   "metadata": {},
   "outputs": [
    {
     "data": {
      "text/plain": [
       "434"
      ]
     },
     "execution_count": 39,
     "metadata": {},
     "output_type": "execute_result"
    }
   ],
   "source": [
    "final_gene_panel = list(set(use_genes) & set(all_gene_panel6))\n",
    "len(final_gene_panel)"
   ]
  },
  {
   "cell_type": "code",
   "execution_count": 74,
   "id": "5059aa74-0255-46fb-b0c1-9cbfb0c4ee37",
   "metadata": {},
   "outputs": [],
   "source": [
    "gene_table_with_source.to_csv('Gene_Panel.V2.csv')"
   ]
  },
  {
   "cell_type": "code",
   "execution_count": 60,
   "id": "42673eb9-c41e-49bc-92aa-3abdfc9cc279",
   "metadata": {},
   "outputs": [
    {
     "data": {
      "text/plain": [
       "['all_gene_pane.list']"
      ]
     },
     "execution_count": 60,
     "metadata": {},
     "output_type": "execute_result"
    }
   ],
   "source": [
    "joblib.dump(all_gene_panel4, 'all_gene_pane.list')"
   ]
  },
  {
   "cell_type": "code",
   "execution_count": null,
   "id": "f5f52d3b-1a58-4ead-a006-5a8c46de0ef2",
   "metadata": {},
   "outputs": [],
   "source": []
  },
  {
   "cell_type": "code",
   "execution_count": null,
   "id": "49a3d2d8-9747-4b21-b81e-044ae09998cd",
   "metadata": {},
   "outputs": [],
   "source": []
  },
  {
   "cell_type": "code",
   "execution_count": null,
   "id": "8568964b-d5d9-4ce1-9446-85a5eb09321e",
   "metadata": {},
   "outputs": [],
   "source": []
  },
  {
   "cell_type": "code",
   "execution_count": null,
   "id": "74a8515a-2158-4295-acb0-38d89f913b0a",
   "metadata": {},
   "outputs": [],
   "source": []
  },
  {
   "cell_type": "code",
   "execution_count": null,
   "id": "b013facb-e000-451f-9dcf-b5dc29321e85",
   "metadata": {},
   "outputs": [],
   "source": []
  },
  {
   "cell_type": "code",
   "execution_count": null,
   "id": "be279616-601b-4ad5-a5a6-9d036e18ab99",
   "metadata": {},
   "outputs": [],
   "source": []
  }
 ],
 "metadata": {
  "kernelspec": {
   "display_name": "Python 3 (ipykernel)",
   "language": "python",
   "name": "python3"
  },
  "language_info": {
   "codemirror_mode": {
    "name": "ipython",
    "version": 3
   },
   "file_extension": ".py",
   "mimetype": "text/x-python",
   "name": "python",
   "nbconvert_exporter": "python",
   "pygments_lexer": "ipython3",
   "version": "3.7.12"
  }
 },
 "nbformat": 4,
 "nbformat_minor": 5
}
