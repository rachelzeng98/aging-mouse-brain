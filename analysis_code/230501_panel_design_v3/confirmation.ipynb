{
 "cells": [
  {
   "cell_type": "code",
   "execution_count": 1,
   "id": "f7eb1b3f-a582-4c05-9d6a-e5ac3b9e34c7",
   "metadata": {},
   "outputs": [],
   "source": [
    "import pandas as pd\n",
    "import pathlib\n",
    "import joblib"
   ]
  },
  {
   "cell_type": "code",
   "execution_count": 2,
   "id": "7a3e1a52-338d-4b42-ab56-e46915a9933d",
   "metadata": {},
   "outputs": [],
   "source": [
    "final_panel = pd.read_csv('FinalGeneList_ecker-amb-500_CP1145.csv', index_col = 1)\n",
    "final_panel_inout_genes = final_panel['Gene Input'].tolist()"
   ]
  },
  {
   "cell_type": "code",
   "execution_count": 3,
   "id": "af4081e2-2d04-4635-963c-7cd5ade99e34",
   "metadata": {},
   "outputs": [],
   "source": [
    "gene_meta = pd.read_csv(\"../freq_used_files/GeneMetadata.csv.gz\", index_col='geneslop2k')\n",
    "gene_name_to_id = joblib.load('../freq_used_files/gene_name_to_id_dict')\n",
    "gene_id_to_name = joblib.load('../freq_used_files/gene_id_to_name_dict')"
   ]
  },
  {
   "cell_type": "markdown",
   "id": "9d6486bb-ad4f-44b5-b3ae-7f2f91c6c5ad",
   "metadata": {},
   "source": [
    "## all celltype_marker_ids"
   ]
  },
  {
   "cell_type": "code",
   "execution_count": 7,
   "id": "a8cf4b11-f4cd-4c5f-a00f-b51e93bdcf06",
   "metadata": {},
   "outputs": [
    {
     "name": "stdout",
     "output_type": "stream",
     "text": [
      "in total of 281 celltype marker genes\n"
     ]
    }
   ],
   "source": [
    "celltype_marker_ids = pd.read_csv('result/final_ct_marker_panel.csv', index_col = 0).index.tolist()\n",
    "\n",
    "canonical_markers = [\"Slc17a6\",\"Slc17a7\",\"Gad1\",\"Gad2\",\"Prex1\",\"Cux2\",\n",
    "                  \"Rorb\",\"Ptgfrn\",\"Xkr7\",\"Tcerg1l\",\"Tle4\",\"Tshz2\",\n",
    "                  \"Galnt10\",\"Rerg\",\"Fibcd1\",\"Dock10\",\"Lhx6\",\"Lamp5\",\n",
    "                  \"Vip\",\"Sst\",\"Pvalb\",\"Foxp2\",\"Drd1\",\"Drd2\",\n",
    "                    \"Mobp\",\"Olig2\",\"Olig1\",'Mbp',\n",
    "                   \"Pdgfra\",'Pdgfra', 'Xylt1', 'Chst11',\n",
    "                    \"Csf1r\",'Fcrls',\n",
    "                    'Slc1a2', 'Trim9', 'Paqr8',\n",
    "                    \"Cspg4\",\"Rorb\",\"Aqp4\",\"Ctss\"]\n",
    "\n",
    "canonical_marker_ids = [gene_name_to_id[gene_name] for gene_name in canonical_markers]\n",
    "all_celltype_marker_ids = list(set(celltype_marker_ids + canonical_marker_ids))\n",
    "\n",
    "print(f'in total of {len(all_celltype_marker_ids)} celltype marker genes')"
   ]
  },
  {
   "cell_type": "code",
   "execution_count": 8,
   "id": "240ff4f9-0d0e-4eee-be6e-545d5fd15486",
   "metadata": {},
   "outputs": [
    {
     "name": "stdout",
     "output_type": "stream",
     "text": [
      "genes included in the final_merfish-panel 264\n"
     ]
    }
   ],
   "source": [
    "print(f'genes included in the final_merfish-panel {len(set(all_celltype_marker_ids) & set(final_panel_inout_genes))}')"
   ]
  },
  {
   "cell_type": "code",
   "execution_count": null,
   "id": "d8a46c6a-b029-4061-b959-e37a2c312ea5",
   "metadata": {},
   "outputs": [],
   "source": []
  },
  {
   "cell_type": "code",
   "execution_count": null,
   "id": "d2a52e61-f951-40aa-b479-8023b32b27a6",
   "metadata": {},
   "outputs": [],
   "source": []
  },
  {
   "cell_type": "code",
   "execution_count": null,
   "id": "82791542-9f71-49ab-8246-29de256628b0",
   "metadata": {},
   "outputs": [],
   "source": []
  },
  {
   "cell_type": "code",
   "execution_count": null,
   "id": "85cf8d79-2021-49bf-b094-d96f44f4346a",
   "metadata": {},
   "outputs": [],
   "source": []
  },
  {
   "cell_type": "code",
   "execution_count": null,
   "id": "7342a413-9fc1-4fc1-af5e-d3e4f28c3a0c",
   "metadata": {},
   "outputs": [],
   "source": []
  },
  {
   "cell_type": "code",
   "execution_count": null,
   "id": "254d171d-efee-403c-beb9-0a309813c1af",
   "metadata": {},
   "outputs": [],
   "source": []
  },
  {
   "cell_type": "code",
   "execution_count": null,
   "id": "569a293d-c63b-44cf-845c-329034dac3c3",
   "metadata": {},
   "outputs": [],
   "source": []
  },
  {
   "cell_type": "code",
   "execution_count": null,
   "id": "dcb718fe-9417-4a30-9486-bc9703ed1988",
   "metadata": {},
   "outputs": [],
   "source": []
  },
  {
   "cell_type": "code",
   "execution_count": null,
   "id": "66b0db74-d056-4500-b203-8b32003da9b5",
   "metadata": {},
   "outputs": [],
   "source": []
  },
  {
   "cell_type": "code",
   "execution_count": null,
   "id": "0bf28589-4fd4-462a-9050-399923c60bb9",
   "metadata": {},
   "outputs": [],
   "source": []
  },
  {
   "cell_type": "code",
   "execution_count": null,
   "id": "e251d633-7969-4d21-9b80-159f3a0b1e0b",
   "metadata": {},
   "outputs": [],
   "source": []
  },
  {
   "cell_type": "code",
   "execution_count": null,
   "id": "6b48e1f6-db96-4cdd-a303-9b7460e092e8",
   "metadata": {},
   "outputs": [],
   "source": []
  },
  {
   "cell_type": "code",
   "execution_count": null,
   "id": "a7212f14-ca85-4142-98ee-39eefb325896",
   "metadata": {},
   "outputs": [],
   "source": []
  }
 ],
 "metadata": {
  "kernelspec": {
   "display_name": "Python 3 (ipykernel)",
   "language": "python",
   "name": "python3"
  },
  "language_info": {
   "codemirror_mode": {
    "name": "ipython",
    "version": 3
   },
   "file_extension": ".py",
   "mimetype": "text/x-python",
   "name": "python",
   "nbconvert_exporter": "python",
   "pygments_lexer": "ipython3",
   "version": "3.7.12"
  }
 },
 "nbformat": 4,
 "nbformat_minor": 5
}
