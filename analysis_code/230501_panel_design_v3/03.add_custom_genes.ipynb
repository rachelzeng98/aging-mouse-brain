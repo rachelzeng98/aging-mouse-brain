{
 "cells": [
  {
   "cell_type": "code",
   "execution_count": 1,
   "id": "70584c97-a683-45f7-834a-c0e4261e4a18",
   "metadata": {},
   "outputs": [],
   "source": [
    "import joblib\n",
    "import pandas as pd\n",
    "from wmb import mm10\n",
    "from collections import defaultdict"
   ]
  },
  {
   "cell_type": "code",
   "execution_count": 2,
   "id": "be3fce4a-963e-4b40-b270-1b9edf53663d",
   "metadata": {},
   "outputs": [],
   "source": [
    "gene_name_to_id = joblib.load('/home/qzeng_salk_edu/project/aging/freq_used_files/gene_name_to_id_dict')\n",
    "gene_id_to_name = joblib.load('/home/qzeng_salk_edu/project/aging/freq_used_files/gene_id_to_name_dict')"
   ]
  },
  {
   "cell_type": "code",
   "execution_count": 3,
   "id": "34119f6f-609d-42de-ad29-36a9a9a19a29",
   "metadata": {},
   "outputs": [],
   "source": [
    "gene_meta = pd.read_csv(\"/home/qzeng_salk_edu/project/aging/freq_used_files/GeneMetadata.csv.gz\", index_col=0)\n",
    "gene_meta['length'] = gene_meta['end'] - gene_meta['start']\n",
    "use_genes = gene_meta[gene_meta['length'] > 1000].index"
   ]
  },
  {
   "cell_type": "code",
   "execution_count": 4,
   "id": "d92c9662-c76e-4f57-9ba5-461d1f205565",
   "metadata": {},
   "outputs": [],
   "source": [
    "all_celltype_gene_change_df = pd.read_csv('result/change_celltype_admgs_8wk_18mo.csv', index_col =0)\n",
    "all_celltype_gene_pvalue_df = pd.read_csv('result/pvalues_celltype_admgs_8wk_18mo.csv', index_col =0 )"
   ]
  },
  {
   "cell_type": "code",
   "execution_count": 5,
   "id": "95ad98fa-bdfb-46e4-bd7f-730c90ef63df",
   "metadata": {},
   "outputs": [],
   "source": [
    "#gene_meta = mm10.get_gene_metadata(annot_version = 'GENCODE_vm22')"
   ]
  },
  {
   "cell_type": "markdown",
   "id": "b15a3f6b-6bc7-45d6-b6c2-7023221c5bc1",
   "metadata": {},
   "source": [
    "# custom genes inclusing\n",
    "\n",
    "1. methylation genes\n",
    "2. aDMGs\n",
    "3. AD genes in hippo and ent\n",
    "4. sasp genes\n",
    "5. hotspot genes\n",
    "6. immune genes\n",
    "7. some xiaowei genes\n",
    "8. TF genes"
   ]
  },
  {
   "cell_type": "markdown",
   "id": "cf17c31a-d31f-4874-bd41-1f7b8c43bb3f",
   "metadata": {
    "tags": []
   },
   "source": [
    "## 1. methylation genes\n"
   ]
  },
  {
   "cell_type": "code",
   "execution_count": 6,
   "id": "cb87db93-cb09-4c1a-84ed-0079f8a5b235",
   "metadata": {},
   "outputs": [
    {
     "data": {
      "text/plain": [
       "10"
      ]
     },
     "execution_count": 6,
     "metadata": {},
     "output_type": "execute_result"
    }
   ],
   "source": [
    "methyl_genes = ['Dnmt1','Dnmt3a','Dnmt3b',\n",
    "                'Tet1','Tet2','Tet3',\n",
    "                'Mbd1','Mbd2','Mbd3',\n",
    "                'Mecp2']\n",
    "methyl_gene_ids = [gene_name_to_id[gene_name] for gene_name in methyl_genes]\n",
    "len(methyl_gene_ids)"
   ]
  },
  {
   "cell_type": "markdown",
   "id": "5439772e-f128-4544-80aa-94df4428ee65",
   "metadata": {
    "tags": []
   },
   "source": [
    "## 2. aDMGs"
   ]
  },
  {
   "cell_type": "code",
   "execution_count": 7,
   "id": "9abce290-7ff9-44a0-833c-8fb5013b87f8",
   "metadata": {},
   "outputs": [],
   "source": [
    "neu_dmgs_8wk_18mo = joblib.load('result/celltype_admgs_8wk_18mo.dict')\n",
    "neu_dmgs_8wk_9mo = joblib.load('result/celltype_admgs_8wk_9mo.dict')\n",
    "neu_dmgs_9mo_18mo = joblib.load('result/celltype_admgs_9mo_18mo.dict')"
   ]
  },
  {
   "cell_type": "code",
   "execution_count": 8,
   "id": "014da17c-5e01-4f28-b185-03f99ef587b8",
   "metadata": {},
   "outputs": [
    {
     "data": {
      "text/plain": [
       "133"
      ]
     },
     "execution_count": 8,
     "metadata": {},
     "output_type": "execute_result"
    }
   ],
   "source": [
    "all_neu_dmgs = []\n",
    "all_dmgs_dict = defaultdict(list)\n",
    "all_neu_dmgs_dict = defaultdict(list)\n",
    "\n",
    "for neu_dmgs in [neu_dmgs_8wk_18mo, neu_dmgs_8wk_9mo, neu_dmgs_9mo_18mo]:\n",
    "    for ct, dmgs in neu_dmgs.items():\n",
    "        all_neu_dmgs += dmgs\n",
    "        all_neu_dmgs_dict[ct] += dmgs\n",
    "        all_dmgs_dict[ct]+= dmgs\n",
    "\n",
    "all_neu_dmgs = list(set(all_neu_dmgs))\n",
    "len(all_neu_dmgs)"
   ]
  },
  {
   "cell_type": "code",
   "execution_count": 9,
   "id": "2e2cbafa-1699-414d-9091-4998bd9159ef",
   "metadata": {},
   "outputs": [],
   "source": [
    "nn_dmgs_8wk_18mo = joblib.load('result/nn_celltype_admgs_8wk_18mo.dict')\n",
    "nn_dmgs_8wk_9mo = joblib.load('result/nn_celltype_admgs_8wk_9mo.dict')\n",
    "nn_dmgs_9mo_18mo = joblib.load('result/nn_celltype_admgs_9mo_18mo.dict')"
   ]
  },
  {
   "cell_type": "code",
   "execution_count": 10,
   "id": "e127ed8f-e17f-44ee-9bca-8d8b88ac79b0",
   "metadata": {},
   "outputs": [
    {
     "data": {
      "text/plain": [
       "20"
      ]
     },
     "execution_count": 10,
     "metadata": {},
     "output_type": "execute_result"
    }
   ],
   "source": [
    "all_nn_dmgs = []\n",
    "all_nn_dmgs_dict = defaultdict(list)\n",
    "\n",
    "for nn_dmgs in [nn_dmgs_8wk_18mo, nn_dmgs_8wk_9mo, nn_dmgs_9mo_18mo]:\n",
    "    for ct, dmgs in nn_dmgs.items():\n",
    "        all_nn_dmgs += dmgs\n",
    "        all_nn_dmgs_dict[ct] += dmgs\n",
    "        all_dmgs_dict[ct]+= dmgs\n",
    "\n",
    "all_nn_dmgs = list(set(all_nn_dmgs))\n",
    "len(all_nn_dmgs)"
   ]
  },
  {
   "cell_type": "code",
   "execution_count": 11,
   "id": "ca30c0ab-334c-48a0-80db-4d371276ff5b",
   "metadata": {},
   "outputs": [
    {
     "data": {
      "text/plain": [
       "['all_cellltype_admgs_dict']"
      ]
     },
     "execution_count": 11,
     "metadata": {},
     "output_type": "execute_result"
    }
   ],
   "source": [
    "joblib.dump(all_dmgs_dict, 'all_cellltype_admgs_dict')"
   ]
  },
  {
   "cell_type": "code",
   "execution_count": 12,
   "id": "05ad178d-b1fc-4300-9242-73f20e82d31a",
   "metadata": {},
   "outputs": [
    {
     "data": {
      "text/plain": [
       "153"
      ]
     },
     "execution_count": 12,
     "metadata": {},
     "output_type": "execute_result"
    }
   ],
   "source": [
    "all_admgs = list(set(all_neu_dmgs + all_nn_dmgs))\n",
    "len(all_admgs)"
   ]
  },
  {
   "cell_type": "markdown",
   "id": "ac348ea6-a1a8-41eb-af05-85dc4cf2eca9",
   "metadata": {
    "tags": []
   },
   "source": [
    "## 3. AD genes"
   ]
  },
  {
   "cell_type": "code",
   "execution_count": 13,
   "id": "112819e4-705f-416e-8c42-28a7d6fcb174",
   "metadata": {},
   "outputs": [
    {
     "data": {
      "text/plain": [
       "8"
      ]
     },
     "execution_count": 13,
     "metadata": {},
     "output_type": "execute_result"
    }
   ],
   "source": [
    "# AD genes in hippo and ent\n",
    "ad_markers = ['Trem2','Nlrp3','Il18','Il1b','Apoe','App','Tff1','Psen1']\n",
    "ad_markers_ids = [gene_name_to_id[gene_name] for gene_name in ad_markers]\n",
    "len(ad_markers_ids)"
   ]
  },
  {
   "cell_type": "markdown",
   "id": "56208bf1-6bc1-4864-abbf-c7ae89c762f0",
   "metadata": {
    "tags": []
   },
   "source": [
    "## 4. SASP genes"
   ]
  },
  {
   "cell_type": "code",
   "execution_count": 14,
   "id": "e3bca163-aa2b-4f97-b952-effe9cf0284b",
   "metadata": {},
   "outputs": [],
   "source": [
    "# top_sasp_genes = 10"
   ]
  },
  {
   "cell_type": "code",
   "execution_count": 15,
   "id": "155e72f1-b43e-4525-a0a1-9fb62a9aaf7f",
   "metadata": {},
   "outputs": [],
   "source": [
    "# # sasp genes\n",
    "# luisa_panel = pd.read_csv(\"../230410_panel_design_v1/published_panel/luisa.csv\", index_col=0)\n",
    "\n",
    "# sasp_genes = luisa_panel[\n",
    "#     luisa_panel[\"type of marker\"].isin([\"age/sasp\"])\n",
    "# ].index.tolist()"
   ]
  },
  {
   "cell_type": "code",
   "execution_count": 16,
   "id": "533c40a4-398e-4fd5-afc0-8a07b94a3b21",
   "metadata": {},
   "outputs": [],
   "source": [
    "# sasp_genes_ids = []\n",
    "# for genea_name in sasp_genes:\n",
    "#     if genea_name in gene_name_to_id.keys():\n",
    "#         sasp_genes_ids.append(gene_name_to_id[genea_name])\n",
    "# len(sasp_genes_ids)        "
   ]
  },
  {
   "cell_type": "code",
   "execution_count": 17,
   "id": "b7b0d763-ff61-4bb4-af95-c3ffb381f5b7",
   "metadata": {},
   "outputs": [],
   "source": [
    "# sasp_change_df = all_celltype_gene_change_df.loc[sasp_genes_ids]\n",
    "# sasp_pvalue_df = all_celltype_gene_pvalue_df.loc[sasp_genes_ids]"
   ]
  },
  {
   "cell_type": "code",
   "execution_count": 18,
   "id": "75cb3a42-55b0-45a5-a94d-9aea076dc65e",
   "metadata": {},
   "outputs": [],
   "source": [
    "# sasp_change_df.index = sasp_change_df.index.map(gene_id_to_name)\n",
    "# sasp_pvalue_df.index = sasp_pvalue_df.index.map(gene_id_to_name)"
   ]
  },
  {
   "cell_type": "code",
   "execution_count": 19,
   "id": "5a3b7785-3917-49bb-82c5-b00f93029b00",
   "metadata": {},
   "outputs": [],
   "source": [
    "# use_sasp_genes = abs(sasp_change_df).max(axis = 1).sort_values(ascending =False).head(top_sasp_genes).index"
   ]
  },
  {
   "cell_type": "code",
   "execution_count": 20,
   "id": "3f9772a2-0c28-4736-b0ef-7ab34227a621",
   "metadata": {},
   "outputs": [],
   "source": [
    "# γH2AX and 53BP1 staining"
   ]
  },
  {
   "cell_type": "code",
   "execution_count": 21,
   "id": "0e888ea6-70c8-4bab-9584-0fcb8ea3db4f",
   "metadata": {},
   "outputs": [],
   "source": [
    "#filter by change\n",
    "#adding 'Cdkn2a','Sirt6', 'Cdkn2a','Sirt6','Mmp13','Cdkn1a','Gadd45b','Btg2','Atf3'\n",
    "use_sasp_genes = ['Foxo1','Timp2','Klf4','Sox9','Rps23',\n",
    "                  'Lmnb1','Il1b','Myc','Irf2bp1','Irf1','Cdkn2a','Sirt6',\n",
    "                  'Mmp13','Cdkn1a','Gadd45b','Btg2','Atf3','Glb1', 'Il1a']"
   ]
  },
  {
   "cell_type": "code",
   "execution_count": 22,
   "id": "8df22f39-84f4-469b-ab92-953d4b214ba2",
   "metadata": {},
   "outputs": [
    {
     "data": {
      "text/plain": [
       "19"
      ]
     },
     "execution_count": 22,
     "metadata": {},
     "output_type": "execute_result"
    }
   ],
   "source": [
    "use_sasp_gene_ids = [gene_name_to_id[gene_name] for gene_name in use_sasp_genes]\n",
    "len(use_sasp_gene_ids)"
   ]
  },
  {
   "cell_type": "markdown",
   "id": "257d68d5-b88d-4417-b4f3-935831ba4eeb",
   "metadata": {
    "tags": []
   },
   "source": [
    "## 5. hotspot genes"
   ]
  },
  {
   "cell_type": "code",
   "execution_count": 23,
   "id": "c369add8-2fd0-4bd4-b916-7afe5e2b67a1",
   "metadata": {
    "tags": []
   },
   "outputs": [],
   "source": [
    "_dir = '/data/aging/analysis/221027_dmr/hotspot/5000_result'\n",
    "\n",
    "hotspot_genes = pd.read_csv(f'{_dir}/5000_inter_genebody_2k.bed', sep = '\\t', header = None, index_col = 3)\n",
    "hotspot_genes.index = hotspot_genes.index.map(gene_name_to_id)\n",
    "hotspot_genes = hotspot_genes.loc[list(set(use_genes)& set(hotspot_genes.index))]\n",
    "\n",
    "hotspot_genes = hotspot_genes[7]\n",
    "hotspot_genes = hotspot_genes.groupby(hotspot_genes.index).sum()"
   ]
  },
  {
   "cell_type": "code",
   "execution_count": 24,
   "id": "33aa430a-5547-4f4a-84f3-24dfd56f0390",
   "metadata": {},
   "outputs": [
    {
     "data": {
      "text/plain": [
       "40"
      ]
     },
     "execution_count": 24,
     "metadata": {},
     "output_type": "execute_result"
    }
   ],
   "source": [
    "hotspot_genes = hotspot_genes.sort_values(ascending = False)[:40].index.tolist()\n",
    "len(hotspot_genes)"
   ]
  },
  {
   "cell_type": "code",
   "execution_count": 25,
   "id": "09c315b0-5bcb-4f7a-9e76-e739ecb3b551",
   "metadata": {},
   "outputs": [
    {
     "data": {
      "text/plain": [
       "['hotspot_genes_list']"
      ]
     },
     "execution_count": 25,
     "metadata": {},
     "output_type": "execute_result"
    }
   ],
   "source": [
    "joblib.dump(hotspot_genes, 'hotspot_genes_list')"
   ]
  },
  {
   "cell_type": "code",
   "execution_count": 26,
   "id": "fadbeb5d-f688-44b7-9aa8-bb08ae55ceaf",
   "metadata": {},
   "outputs": [],
   "source": [
    "# gene_meta['length'] = gene_meta['end'] - gene_meta['start']\n",
    "# gene_meta = gene_meta[['chrom','start','end','length','gene_name']]"
   ]
  },
  {
   "cell_type": "markdown",
   "id": "dc4e3023-09c4-43da-a94f-5ffe3a8398e6",
   "metadata": {
    "tags": []
   },
   "source": [
    "## 6. immuen genes"
   ]
  },
  {
   "cell_type": "code",
   "execution_count": 27,
   "id": "8fcab4a2-01ab-464a-aa50-b237e4e9e940",
   "metadata": {},
   "outputs": [
    {
     "data": {
      "text/plain": [
       "8"
      ]
     },
     "execution_count": 27,
     "metadata": {},
     "output_type": "execute_result"
    }
   ],
   "source": [
    "immune_markers = ['Ptprc','Cd3d','Cd69','Cd19','Cd8a','Cd4','Cx3cr1','Mertk']\n",
    "immune_markers_ids = [gene_name_to_id[gene_name] for gene_name in immune_markers]\n",
    "len(immune_markers_ids)"
   ]
  },
  {
   "cell_type": "markdown",
   "id": "2e383928-8de3-47d6-b038-3fba10e7b228",
   "metadata": {
    "tags": []
   },
   "source": [
    "## 7. zhuang genes"
   ]
  },
  {
   "cell_type": "code",
   "execution_count": 28,
   "id": "454b6057-8fdd-49bb-8674-d7177e3f1c1d",
   "metadata": {},
   "outputs": [
    {
     "data": {
      "text/plain": [
       "7"
      ]
     },
     "execution_count": 28,
     "metadata": {},
     "output_type": "execute_result"
    }
   ],
   "source": [
    "zhuang_genes = ['Il33','C4b','Onecut2','Pakap','Mpp7','Ighm','Bmp6']\n",
    "zhuang_genes_ids = [gene_name_to_id[gene_name] for gene_name in zhuang_genes]\n",
    "len(zhuang_genes_ids)"
   ]
  },
  {
   "cell_type": "markdown",
   "id": "40e6584d-a5c0-452a-b10f-29c53ee4945c",
   "metadata": {},
   "source": [
    "## 8. TF genes"
   ]
  },
  {
   "cell_type": "markdown",
   "id": "9401dee1-54db-49f0-9c8b-5520965da369",
   "metadata": {
    "tags": []
   },
   "source": [
    "### 8.1 rs1 related tfs"
   ]
  },
  {
   "cell_type": "code",
   "execution_count": 29,
   "id": "e97a84a9-8afa-4307-a956-d04f9f4a4914",
   "metadata": {},
   "outputs": [],
   "source": [
    "rs1_df = pd.read_hdf('/mnt/filestore/230125-corr-edges/TotalGeneDMRTF.NNZCorrRecords.All.Filtered.hdf')\n",
    "rs1_df = rs1_df.set_index('gene')"
   ]
  },
  {
   "cell_type": "code",
   "execution_count": 36,
   "id": "d772b2d7-535c-4673-9b8e-0a33ac558af7",
   "metadata": {},
   "outputs": [
    {
     "data": {
      "text/plain": [
       "190"
      ]
     },
     "execution_count": 36,
     "metadata": {},
     "output_type": "execute_result"
    }
   ],
   "source": [
    "# \n",
    "interested_genes = list(set(all_admgs + hotspot_genes))\n",
    "len(interested_genes)"
   ]
  },
  {
   "cell_type": "code",
   "execution_count": 37,
   "id": "7837f1b4-c791-4604-8ebb-25fc99941b8f",
   "metadata": {},
   "outputs": [],
   "source": [
    "all_admgs_name = [gene_id_to_name[gene_id] for gene_id in interested_genes]"
   ]
  },
  {
   "cell_type": "code",
   "execution_count": 38,
   "id": "2793d734-893f-496c-9431-fc1a45b4eaf2",
   "metadata": {},
   "outputs": [],
   "source": [
    "use_rs1_df = rs1_df[rs1_df['gene_name'].isin(all_admgs_name)]"
   ]
  },
  {
   "cell_type": "code",
   "execution_count": 39,
   "id": "00bbd25f-c9b3-4455-80c8-06a90259ba4a",
   "metadata": {},
   "outputs": [
    {
     "data": {
      "text/plain": [
       "94"
      ]
     },
     "execution_count": 39,
     "metadata": {},
     "output_type": "execute_result"
    }
   ],
   "source": [
    "rs1_include_tf_names = []\n",
    "for gene_name, tmpdf in use_rs1_df.groupby('gene_name'):\n",
    "    rs1_include_tf_names += tmpdf.sort_values('final-corr', ascending = False).iloc[:2]['tf_name'].tolist()\n",
    "    \n",
    "rs1_include_tf_names = list(set(rs1_include_tf_names))\n",
    "len(rs1_include_tf_names)"
   ]
  },
  {
   "cell_type": "code",
   "execution_count": 46,
   "id": "9982251d-a020-4b06-afb7-057eafe35fc4",
   "metadata": {},
   "outputs": [
    {
     "data": {
      "text/plain": [
       "['rs1_include_tf_list']"
      ]
     },
     "execution_count": 46,
     "metadata": {},
     "output_type": "execute_result"
    }
   ],
   "source": [
    "joblib.dump(rs1_include_tf_names, 'rs1_include_tf_list')"
   ]
  },
  {
   "cell_type": "markdown",
   "id": "6c8b1d67-8efc-4e64-bc2e-cde8d6682ea6",
   "metadata": {},
   "source": [
    "### 8.2 high entropy tfs"
   ]
  },
  {
   "cell_type": "code",
   "execution_count": 52,
   "id": "3a15ae58-cc65-4c90-aac8-3e6238d54006",
   "metadata": {},
   "outputs": [],
   "source": [
    "highe_genes = pd.read_csv('/home/qzeng_salk_edu/project/aging/230117_variance/protein_coding_gene/highE_genes_frac.csv', index_col = 0)\n",
    "highe_genes.columns = ['freq']\n",
    "\n",
    "# from wmb import cemba, mm10\n",
    "tf_gene_table = pd.read_csv('/home/qzeng_salk_edu/project/aging/freq_used_files/SCENIC_allTFs_mm.gene_info.csv', index_col = 0)\n",
    "all_tf_gene = [gene_name.upper() for gene_name in tf_gene_table['gene_name']]"
   ]
  },
  {
   "cell_type": "code",
   "execution_count": 54,
   "id": "1256e406-548f-44af-a446-4ef86e1f7f41",
   "metadata": {},
   "outputs": [
    {
     "data": {
      "text/plain": [
       "28"
      ]
     },
     "execution_count": 54,
     "metadata": {},
     "output_type": "execute_result"
    }
   ],
   "source": [
    "high_freq_genes = highe_genes[highe_genes['freq'] > 9].index\n",
    "high_freq_tf_genes = list(set(high_freq_genes) & set(all_tf_gene))\n",
    "high_freq_tf_genes = [gene_name.title() for gene_name in high_freq_tf_genes]\n",
    "len(high_freq_tf_genes)"
   ]
  },
  {
   "cell_type": "code",
   "execution_count": 60,
   "id": "0330b3d3-6543-412a-b125-77bb677a4a1f",
   "metadata": {},
   "outputs": [
    {
     "data": {
      "text/plain": [
       "['high_freq_tf_genes_list']"
      ]
     },
     "execution_count": 60,
     "metadata": {},
     "output_type": "execute_result"
    }
   ],
   "source": [
    "joblib.dump(high_freq_tf_genes, 'high_freq_tf_genes_list')"
   ]
  },
  {
   "cell_type": "code",
   "execution_count": 61,
   "id": "867e79ec-d41b-44af-aa96-bc524663a29f",
   "metadata": {},
   "outputs": [],
   "source": [
    "all_tfs = list(set(high_freq_tf_genes + rs1_include_tf_names))"
   ]
  },
  {
   "cell_type": "code",
   "execution_count": 62,
   "id": "1eb5d3d3-23b0-4657-ae1e-0eb5d412e235",
   "metadata": {},
   "outputs": [
    {
     "data": {
      "text/plain": [
       "112"
      ]
     },
     "execution_count": 62,
     "metadata": {},
     "output_type": "execute_result"
    }
   ],
   "source": [
    "all_tf_ids = []\n",
    "for tf_name in all_tfs:\n",
    "    try: \n",
    "        all_tf_ids.append(gene_name_to_id[tf_name])\n",
    "    except KeyError:\n",
    "        continue\n",
    "len(all_tf_ids)    "
   ]
  },
  {
   "cell_type": "markdown",
   "id": "525d07e4-7f19-4b90-9d60-22090352cbf2",
   "metadata": {},
   "source": [
    "### 8.3 check expression change"
   ]
  },
  {
   "cell_type": "code",
   "execution_count": 63,
   "id": "df9d8fbc-1fdc-43ad-ae65-6788f3a90042",
   "metadata": {},
   "outputs": [],
   "source": [
    "tf_change_df = all_celltype_gene_change_df.loc[all_tf_ids]\n",
    "tf_pvalue_df = all_celltype_gene_pvalue_df.loc[all_tf_ids]"
   ]
  },
  {
   "cell_type": "code",
   "execution_count": 64,
   "id": "9a716c64-7687-4f47-98e1-5b67035e82c1",
   "metadata": {},
   "outputs": [],
   "source": [
    "tf_max_change = abs(tf_change_df).max(axis = 1).sort_values(ascending =False)"
   ]
  },
  {
   "cell_type": "code",
   "execution_count": 65,
   "id": "82ddc075-167c-4274-aaa0-d1f4562b6476",
   "metadata": {},
   "outputs": [],
   "source": [
    "use_tf_ids = tf_max_change[tf_max_change >= 0.15].index.tolist()"
   ]
  },
  {
   "cell_type": "code",
   "execution_count": 66,
   "id": "1aaa1cd0-04d5-4272-9804-01696a6aa68d",
   "metadata": {},
   "outputs": [
    {
     "data": {
      "text/plain": [
       "57"
      ]
     },
     "execution_count": 66,
     "metadata": {},
     "output_type": "execute_result"
    }
   ],
   "source": [
    "len(use_tf_ids)"
   ]
  },
  {
   "cell_type": "code",
   "execution_count": 68,
   "id": "84153350-6765-451d-8a99-54841573d4c6",
   "metadata": {},
   "outputs": [
    {
     "data": {
      "text/plain": [
       "['use_tf_ids_list']"
      ]
     },
     "execution_count": 68,
     "metadata": {},
     "output_type": "execute_result"
    }
   ],
   "source": [
    "joblib.dump(use_tf_ids, 'use_tf_ids_list')"
   ]
  },
  {
   "cell_type": "markdown",
   "id": "b62c4fb2-e311-4cbc-9a2e-d9f06ea6fd12",
   "metadata": {},
   "source": [
    "## make sure canonical markers are in"
   ]
  },
  {
   "cell_type": "code",
   "execution_count": 37,
   "id": "bc754e94-05f4-48ed-b759-d128cef727ea",
   "metadata": {},
   "outputs": [],
   "source": [
    "canonical_markers = [\"Slc17a6\",\"Slc17a7\",\"Gad1\",\"Gad2\",\"Prex1\",\"Cux2\",\n",
    "                  \"Rorb\",\"Ptgfrn\",\"Xkr7\",\"Tcerg1l\",\"Tle4\",\"Tshz2\",\n",
    "                  \"Galnt10\",\"Rerg\",\"Fibcd1\",\"Dock10\",\"Lhx6\",\"Lamp5\",\n",
    "                  \"Vip\",\"Sst\",\"Pvalb\",\"Foxp2\",\"Drd1\",\"Drd2\",\n",
    "                    \"Mobp\",\"Olig2\",\"Olig1\",'Mbp',\n",
    "                   \"Pdgfra\",'Pdgfra', 'Xylt1', 'Chst11',\n",
    "                    \"Csf1r\",'Fcrls',\n",
    "                    'Slc1a2', 'Trim9', 'Paqr8',\n",
    "                    \"Cspg4\",\"Rorb\",\"Aqp4\",\"Ctss\"]"
   ]
  },
  {
   "cell_type": "code",
   "execution_count": 38,
   "id": "fdf16868-028d-4bf6-90f3-0f9c455ea460",
   "metadata": {},
   "outputs": [],
   "source": [
    "canonical_marker_ids = [gene_name_to_id[gene_name] for gene_name in canonical_markers]"
   ]
  },
  {
   "cell_type": "markdown",
   "id": "964a0023-0c80-4285-8e73-9e5f9dc3c24b",
   "metadata": {},
   "source": [
    "## combine"
   ]
  },
  {
   "cell_type": "code",
   "execution_count": 39,
   "id": "75b020f9-6250-4045-805d-8ea9cfdd9f53",
   "metadata": {},
   "outputs": [
    {
     "data": {
      "text/plain": [
       "321"
      ]
     },
     "execution_count": 39,
     "metadata": {},
     "output_type": "execute_result"
    }
   ],
   "source": [
    "aging_gene_ids = list(set(methyl_gene_ids + all_neu_dmgs + all_nn_dmgs + ad_markers_ids + \n",
    "                          use_sasp_gene_ids + hotspot_genes + immune_markers_ids + \n",
    "                          zhuang_genes_ids + use_tf_ids + canonical_marker_ids))\n",
    "len(aging_gene_ids)"
   ]
  },
  {
   "cell_type": "code",
   "execution_count": 40,
   "id": "67b7e9ba-0531-4240-995b-cc314697ec79",
   "metadata": {},
   "outputs": [
    {
     "data": {
      "text/plain": [
       "['result/aging_gene_ids']"
      ]
     },
     "execution_count": 40,
     "metadata": {},
     "output_type": "execute_result"
    }
   ],
   "source": [
    "joblib.dump(aging_gene_ids,'result/aging_gene_ids')"
   ]
  },
  {
   "cell_type": "code",
   "execution_count": null,
   "id": "16c57ecf-c345-4d98-b6e0-b0f069ff6c63",
   "metadata": {},
   "outputs": [],
   "source": []
  },
  {
   "cell_type": "code",
   "execution_count": null,
   "id": "ffee312d-17b7-4266-8ed7-4eeb6d4345fd",
   "metadata": {},
   "outputs": [],
   "source": []
  },
  {
   "cell_type": "code",
   "execution_count": null,
   "id": "b00ba6e0-4b94-49d4-96fc-3965e1719942",
   "metadata": {},
   "outputs": [],
   "source": []
  },
  {
   "cell_type": "code",
   "execution_count": null,
   "id": "16202c83-fbb1-4847-b059-a3dc9829b1bc",
   "metadata": {},
   "outputs": [],
   "source": []
  },
  {
   "cell_type": "code",
   "execution_count": null,
   "id": "d2a1a1cd-9348-4adc-80e0-8b9228196b27",
   "metadata": {},
   "outputs": [],
   "source": []
  },
  {
   "cell_type": "code",
   "execution_count": null,
   "id": "01c96293-34b4-40f4-b474-bbdbca6f2b64",
   "metadata": {},
   "outputs": [],
   "source": []
  },
  {
   "cell_type": "code",
   "execution_count": null,
   "id": "e176a681-54ac-4a86-a56d-6f608aff83f7",
   "metadata": {},
   "outputs": [],
   "source": []
  },
  {
   "cell_type": "code",
   "execution_count": null,
   "id": "24e4c9f3-fe55-4fb8-a597-21b509245f5e",
   "metadata": {},
   "outputs": [],
   "source": []
  },
  {
   "cell_type": "code",
   "execution_count": null,
   "id": "1167f111-f24d-455c-8fe8-6f63501b495e",
   "metadata": {},
   "outputs": [],
   "source": []
  }
 ],
 "metadata": {
  "kernelspec": {
   "display_name": "Python 3 (ipykernel)",
   "language": "python",
   "name": "python3"
  },
  "language_info": {
   "codemirror_mode": {
    "name": "ipython",
    "version": 3
   },
   "file_extension": ".py",
   "mimetype": "text/x-python",
   "name": "python",
   "nbconvert_exporter": "python",
   "pygments_lexer": "ipython3",
   "version": "3.7.12"
  }
 },
 "nbformat": 4,
 "nbformat_minor": 5
}
