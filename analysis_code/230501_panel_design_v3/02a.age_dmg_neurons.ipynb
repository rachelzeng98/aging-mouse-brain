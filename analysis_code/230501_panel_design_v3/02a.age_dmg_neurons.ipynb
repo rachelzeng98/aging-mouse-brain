{
 "cells": [
  {
   "cell_type": "code",
   "execution_count": 1,
   "id": "f50d32c0-3cf2-447d-881f-bc9303a7a9d5",
   "metadata": {},
   "outputs": [],
   "source": [
    "import pandas as pd\n",
    "from ALLCools.mcds import MCDS\n",
    "from scipy.stats import f_oneway, ttest_ind\n",
    "import joblib\n",
    "import anndata"
   ]
  },
  {
   "cell_type": "code",
   "execution_count": 2,
   "id": "d1dd612a-db2b-4052-8805-3217b5078ed4",
   "metadata": {},
   "outputs": [],
   "source": [
    "gene_name_to_id = joblib.load('../freq_used_files/gene_name_to_id_dict')\n",
    "gene_id_to_name = joblib.load('../freq_used_files/gene_id_to_name_dict')\n",
    "gene_meta = pd.read_csv(\"../freq_used_files/GeneMetadata.csv.gz\", index_col=0)"
   ]
  },
  {
   "cell_type": "markdown",
   "id": "4f9eb3e4-e196-4c27-983d-63974d99054a",
   "metadata": {},
   "source": [
    "## pairwise compair"
   ]
  },
  {
   "cell_type": "code",
   "execution_count": 3,
   "id": "0fb023f5-4b92-4956-aa26-7af9ac96196f",
   "metadata": {},
   "outputs": [],
   "source": [
    "pvalue_cutoff = 0.01\n",
    "ch_change_cutoff = 0.4"
   ]
  },
  {
   "cell_type": "code",
   "execution_count": 6,
   "id": "dd1afb2f-a933-4d6d-b0f7-3cd49fad2c6e",
   "metadata": {},
   "outputs": [],
   "source": [
    "for age_pair in ['8wk-18mo','8wk-9mo','9mo-18mo']:\n",
    "    age_young, age_old = age_pair.split('-')\n",
    "    \n",
    "    all_celltype_gene_pvalue_df = pd.read_csv(f'result/pvalues_celltype_admgs_{age_young}_{age_old}.csv', index_col =0 )\n",
    "    all_celltype_gene_change_df = pd.read_csv(f'result/change_celltype_admgs_{age_young}_{age_old}.csv', index_col =0)\n",
    "    \n",
    "    celltype_admgs = {}\n",
    "\n",
    "    for celltype_of_interest in all_celltype_gene_change_df.columns:\n",
    "        if celltype_of_interest == 'PAG/PCG':\n",
    "            continue\n",
    "        tmpdf = pd.concat([all_celltype_gene_pvalue_df[celltype_of_interest], all_celltype_gene_change_df[celltype_of_interest]], axis = 1)\n",
    "        tmpdf.columns = ['pvalue','change']\n",
    "        tmpdf['abs_changes'] = abs(tmpdf['change'])\n",
    "\n",
    "        f_tmpdf = tmpdf[(tmpdf['pvalue'] < pvalue_cutoff) & (tmpdf['abs_changes'] > ch_change_cutoff)].copy()\n",
    "\n",
    "        if f_tmpdf.shape[0] > 4:\n",
    "            use_genes = f_tmpdf.sort_values('abs_changes', ascending = False).head(4).index.tolist()\n",
    "        elif f_tmpdf.shape[0] == 0:\n",
    "            use_genes = tmpdf.sort_values('abs_changes', ascending = False).head(1).index.tolist()\n",
    "        else:\n",
    "            use_genes = f_tmpdf.index.tolist()\n",
    "\n",
    "        celltype_admgs[celltype_of_interest] = use_genes  \n",
    "\n",
    "    joblib.dump(celltype_admgs, f'result/celltype_admgs_{age_young}_{age_old}.dict')"
   ]
  },
  {
   "cell_type": "markdown",
   "id": "e36210fa-5b1c-4367-9514-58c2e6ce62cc",
   "metadata": {},
   "source": [
    "## 3 age group skipped"
   ]
  },
  {
   "cell_type": "code",
   "execution_count": 2,
   "id": "a371eb0d-bf56-4b9f-80a5-4cf7a76cdf43",
   "metadata": {},
   "outputs": [],
   "source": [
    "mcds_paths = \"../230410_panel_design_v1/geneslop2k_frac.mcds\"\n",
    "var_dim = \"geneslop2k\""
   ]
  },
  {
   "cell_type": "code",
   "execution_count": null,
   "id": "2d651ac6-21ce-4681-a813-196b83be3a4d",
   "metadata": {},
   "outputs": [],
   "source": [
    "adata = anndata.read_h5ad('../230424_panel_design_v2/adata/All_Genes.mCH.h5ad')\n",
    "adata.X = - adata.X"
   ]
  },
  {
   "cell_type": "code",
   "execution_count": null,
   "id": "00fa862a-ff77-4d86-a407-c6f4699fdd99",
   "metadata": {},
   "outputs": [],
   "source": [
    "gene_name_to_id = joblib.load('../gene_name_to_id_dict')\n",
    "gene_id_to_name = joblib.load('../gene_id_to_name_dict')"
   ]
  },
  {
   "cell_type": "code",
   "execution_count": null,
   "id": "e406f314-9811-48e6-8175-03305ddb885b",
   "metadata": {},
   "outputs": [],
   "source": [
    "pvalue_cutoff = 0.001\n",
    "ch_change_cutoff = 0.4\n",
    "#cg_change_cutoff = 0.2"
   ]
  },
  {
   "cell_type": "code",
   "execution_count": null,
   "id": "f86fb0cd-4b51-49b8-b002-cbcdc4724332",
   "metadata": {},
   "outputs": [],
   "source": [
    "meta = pd.read_csv(\"../221027_AMB_metadata.csv\", index_col=0)\n",
    "all_celltypes = meta[\"MajorType\"].unique().tolist()\n",
    "nn_celltypes = ['Oligo NN','Astro NN','OPC NN','Microglia NN']\n",
    "neu_celltypes = list(set(all_celltypes) ^ set(nn_celltypes))\n",
    "\n",
    "len(all_celltypes), len(nn_celltypes), len(neu_celltypes)"
   ]
  },
  {
   "cell_type": "code",
   "execution_count": null,
   "id": "d5fbe947-5399-400d-ba8e-9bc26ce3bc49",
   "metadata": {},
   "outputs": [],
   "source": [
    "meta = pd.read_csv(\"../221027_AMB_metadata.csv\", index_col=0)\n",
    "meta = meta[(meta[\"Age\"].isin([\"8wk\", \"18mo\"])) & (meta[\"MajorType\"].isin(neu_celltypes))]"
   ]
  },
  {
   "cell_type": "code",
   "execution_count": null,
   "id": "5466c93a-92a9-4bdd-a71f-90ed09b1c42f",
   "metadata": {},
   "outputs": [],
   "source": [
    "mcds =  MCDS.open(mcds_paths, var_dim=var_dim, use_obs=meta.index).sel(\n",
    "        mc_type=\"CHN\")"
   ]
  },
  {
   "cell_type": "code",
   "execution_count": null,
   "id": "90ce1069-6a1d-4155-9184-8caacfa3bdc6",
   "metadata": {},
   "outputs": [],
   "source": [
    "mcds.coords['MajorType'] = meta['MajorType']\n",
    "mcds.coords['Age'] = meta['Age']"
   ]
  },
  {
   "cell_type": "code",
   "execution_count": 9,
   "id": "5b45b875-4fb3-4f9f-90bb-e3b5d2325999",
   "metadata": {},
   "outputs": [],
   "source": [
    "celltype_admgs_8wk_18mo = {}\n",
    "all_celltype_gene_pvalue = []\n",
    "all_celltype_gene_change = []\n",
    "\n",
    "for mt ,tmp_mcds in mcds.groupby('MajorType'):\n",
    "    tmp_8wk_cells = tmp_mcds.get_index('cell')[tmp_mcds[\"Age\"] == \"8wk\"]\n",
    "    tmp_18mo_cells = tmp_mcds.get_index('cell')[tmp_mcds[\"Age\"] == \"18mo\"]\n",
    "    \n",
    "    tmp_gene_frac = tmp_mcds[\"geneslop2k_da_frac\"].to_pandas()\n",
    "    genes = tmp_gene_frac.columns.tolist()\n",
    "    \n",
    "    statistic, p_value = ttest_ind(tmp_gene_frac.loc[tmp_8wk_cells], tmp_gene_frac.loc[tmp_18mo_cells], axis=0)\n",
    "    \n",
    "    celltype_gene_pvalue = pd.DataFrame({f\"{mt}\": p_value}, index=genes)\n",
    "    all_celltype_gene_pvalue.append(celltype_gene_pvalue)\n",
    "    f_celltype_gene_pvalue = celltype_gene_pvalue[celltype_gene_pvalue[f'{mt}'] < pvalue_cutoff]\n",
    "    \n",
    "    celltype_gene_change = pd.DataFrame(tmp_gene_frac.loc[tmp_18mo_cells].mean() - tmp_gene_frac.loc[tmp_8wk_cells].mean(), columns = [f'{mt}'])\n",
    "    all_celltype_gene_change.append(celltype_gene_change)\n",
    "    \n",
    "    f_celltype_gene_change = celltype_gene_change.loc[f_celltype_gene_pvalue.index]\n",
    "    f_celltype_gene_change = f_celltype_gene_change[abs(f_celltype_gene_change[f'{mt}']) > ch_change_cutoff]\n",
    "    \n",
    "    celltype_admgs_8wk_18mo[mt] = f_celltype_gene_change.index.tolist()"
   ]
  },
  {
   "cell_type": "code",
   "execution_count": 10,
   "id": "5e8064bb-31aa-4e7f-b719-f46e78984be4",
   "metadata": {},
   "outputs": [
    {
     "data": {
      "text/plain": [
       "['result/celltype_admgs_8wk_18mo.dict']"
      ]
     },
     "execution_count": 10,
     "metadata": {},
     "output_type": "execute_result"
    }
   ],
   "source": [
    "joblib.dump(celltype_admgs_8wk_18mo, 'result/celltype_admgs_8wk_18mo.dict')"
   ]
  },
  {
   "cell_type": "code",
   "execution_count": null,
   "id": "95a26696-f2c6-460a-be9c-2d068e58f6db",
   "metadata": {},
   "outputs": [],
   "source": [
    "# all_celltype_gene_pvalue_df = pd.concat(all_celltype_gene_pvalue,axis = 1)\n",
    "# all_celltype_gene_change_df = pd.concat(all_celltype_gene_change, axis = 1)"
   ]
  },
  {
   "cell_type": "code",
   "execution_count": null,
   "id": "1a1db65c-2968-4791-b607-4d2887bc5bfc",
   "metadata": {},
   "outputs": [],
   "source": [
    "# all_celltype_gene_pvalue_df.to_csv('result/pvalues_celltype_admgs_8wk_18mo.csv')\n",
    "# all_celltype_gene_change_df.to_csv('result/change_celltype_admgs_8wk_18mo.csv')"
   ]
  },
  {
   "cell_type": "markdown",
   "id": "0f7029eb-7252-4595-b1ab-333148092c1f",
   "metadata": {
    "tags": []
   },
   "source": [
    "## 8wk, 9mo and 18mo"
   ]
  },
  {
   "cell_type": "code",
   "execution_count": 10,
   "id": "a9bbb83f-bb3d-447f-9cd8-f10e28173f0b",
   "metadata": {},
   "outputs": [],
   "source": [
    "meta = pd.read_csv(\"../221027_AMB_metadata.csv\", index_col=0)\n",
    "meta = meta[(meta[\"Age\"].isin([\"8wk\", '9mo',\"18mo\"])) & (meta[\"MajorType\"].isin(neu_celltypes))]"
   ]
  },
  {
   "cell_type": "code",
   "execution_count": null,
   "id": "b9515c06-1daf-4d50-af28-fa262314f627",
   "metadata": {},
   "outputs": [],
   "source": [
    "mcds =  MCDS.open(mcds_paths, var_dim=var_dim, use_obs=meta.index).sel(\n",
    "        mc_type=\"CHN\")"
   ]
  },
  {
   "cell_type": "code",
   "execution_count": 11,
   "id": "f895db6d-516b-4888-b3d9-d244539e8c2a",
   "metadata": {},
   "outputs": [],
   "source": [
    "mcds.coords['MajorType'] = meta['MajorType']\n",
    "mcds.coords['Age'] = meta['Age']"
   ]
  },
  {
   "cell_type": "code",
   "execution_count": 12,
   "id": "31e716e1-a163-4c96-b0d9-c360641d1b5f",
   "metadata": {},
   "outputs": [],
   "source": [
    "celltype_admgs_8wk_9mo_18mo = {}\n",
    "all_celltype_gene_pvalue = []\n",
    "all_celltype_gene_change = []\n",
    "\n",
    "\n",
    "for mt ,tmp_mcds in mcds.groupby('MajorType'):\n",
    "\n",
    "    tmp_8wk_cells = tmp_meta[tmp_meta[\"Age\"] == \"8wk\"].index\n",
    "    tmp_9mo_cells = tmp_meta[tmp_meta[\"Age\"] == \"9mo\"].index\n",
    "    tmp_18mo_cells = tmp_meta[tmp_meta[\"Age\"] == \"18mo\"].index\n",
    "\n",
    "    tmp_gene_frac = tmp_mcds[\"geneslop2k_da_frac\"].to_pandas()\n",
    "\n",
    "    genes = tmp_gene_frac.columns.tolist()\n",
    "\n",
    "    F, p_value = f_oneway(\n",
    "        tmp_gene_frac.loc[tmp_8wk_cells],\n",
    "        tmp_gene_frac.loc[tmp_9mo_cells],\n",
    "        tmp_gene_frac.loc[tmp_18mo_cells],\n",
    "        axis=0,\n",
    "    )\n",
    "    celltype_gene_pvalue = pd.DataFrame({f\"{test_celltype}\": p_value}, index=genes)\n",
    "    celltype_gene_pvalue = celltype_gene_pvalue[celltype_gene_pvalue[f'{test_celltype}'] < pvalue_cutoff]\n",
    "    \n",
    "    average_df = pd.concat([tmp_gene_frac.loc[tmp_8wk_cells].mean(), tmp_gene_frac.loc[tmp_9mo_cells].mean(), tmp_gene_frac.loc[tmp_18mo_cells].mean()], axis = 1)\n",
    "    average_df = average_df.loc[celltype_gene_pvalue.index]\n",
    "    average_df.columns = ['8wk','9mo','18mo']\n",
    "    \n",
    "    increase_df = average_df[(average_df['8wk'] < average_df['9mo']) & (average_df['9mo'] < average_df['18mo'])].copy()\n",
    "    decrease_df = average_df[(average_df['8wk'] > average_df['9mo']) & (average_df['9mo'] > average_df['18mo'])].copy()\n",
    "    \n",
    "    increase_df = increase_df[abs(increase_df['18mo'] - increase_df['8wk']) > ch_change_cutoff]\n",
    "    decrease_df = decrease_df[abs(decrease_df['18mo'] - decrease_df['8wk']) > ch_change_cutoff]\n",
    "    \n",
    "    average_df = pd.concat([increase_df, decrease_df])\n",
    "    celltype_admgs_8wk_9mo_18mo[test_celltype] = average_df.index.tolist()\n",
    "    \n"
   ]
  },
  {
   "cell_type": "code",
   "execution_count": 14,
   "id": "e8ad7e99-0293-4b7d-a229-7d631899ad7f",
   "metadata": {},
   "outputs": [
    {
     "data": {
      "text/plain": [
       "['celltype_admgs_8wk_9mo_18mo.dict']"
      ]
     },
     "execution_count": 14,
     "metadata": {},
     "output_type": "execute_result"
    }
   ],
   "source": [
    "joblib.dump(celltype_admgs_8wk_9mo_18mo, 'celltype_admgs_8wk_9mo_18mo.dict')"
   ]
  },
  {
   "cell_type": "code",
   "execution_count": null,
   "id": "b7acb8f1-445c-4d27-956e-84efb5e90bdf",
   "metadata": {},
   "outputs": [],
   "source": []
  },
  {
   "cell_type": "code",
   "execution_count": null,
   "id": "9eff824b-a3f3-4753-a7e2-b8e0b02522cd",
   "metadata": {},
   "outputs": [],
   "source": []
  },
  {
   "cell_type": "code",
   "execution_count": null,
   "id": "57985a9a-322f-4752-8e0d-08d5061beed7",
   "metadata": {},
   "outputs": [],
   "source": []
  },
  {
   "cell_type": "code",
   "execution_count": null,
   "id": "3c8bba00-4724-4427-9558-012312bc7026",
   "metadata": {},
   "outputs": [],
   "source": []
  },
  {
   "cell_type": "code",
   "execution_count": null,
   "id": "53184dba-9f91-4261-8efe-9abfa0f4f7ce",
   "metadata": {},
   "outputs": [],
   "source": []
  },
  {
   "cell_type": "code",
   "execution_count": null,
   "id": "ba4bbc16-8e4d-4f0b-b24c-84758f963cdd",
   "metadata": {},
   "outputs": [],
   "source": []
  }
 ],
 "metadata": {
  "kernelspec": {
   "display_name": "Python 3 (ipykernel)",
   "language": "python",
   "name": "python3"
  },
  "language_info": {
   "codemirror_mode": {
    "name": "ipython",
    "version": 3
   },
   "file_extension": ".py",
   "mimetype": "text/x-python",
   "name": "python",
   "nbconvert_exporter": "python",
   "pygments_lexer": "ipython3",
   "version": "3.7.12"
  }
 },
 "nbformat": 4,
 "nbformat_minor": 5
}
