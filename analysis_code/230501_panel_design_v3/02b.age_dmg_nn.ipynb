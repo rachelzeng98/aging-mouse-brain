{
 "cells": [
  {
   "cell_type": "code",
   "execution_count": 1,
   "id": "f50d32c0-3cf2-447d-881f-bc9303a7a9d5",
   "metadata": {},
   "outputs": [],
   "source": [
    "import pandas as pd\n",
    "from ALLCools.mcds import MCDS\n",
    "from scipy.stats import f_oneway, ttest_ind\n",
    "import joblib\n",
    "import anndata"
   ]
  },
  {
   "cell_type": "code",
   "execution_count": 2,
   "id": "a371eb0d-bf56-4b9f-80a5-4cf7a76cdf43",
   "metadata": {},
   "outputs": [],
   "source": [
    "mcds_paths = \"../freq_used_files/geneslop2k_frac.mcds\"\n",
    "var_dim = \"geneslop2k\""
   ]
  },
  {
   "cell_type": "code",
   "execution_count": 3,
   "id": "2d651ac6-21ce-4681-a813-196b83be3a4d",
   "metadata": {},
   "outputs": [],
   "source": [
    "adata = anndata.read_h5ad('All_Genes.mCH.h5ad')\n",
    "adata.X = - adata.X"
   ]
  },
  {
   "cell_type": "code",
   "execution_count": 4,
   "id": "00fa862a-ff77-4d86-a407-c6f4699fdd99",
   "metadata": {},
   "outputs": [],
   "source": [
    "meta = pd.read_csv(\"../freq_used_files/221027_AMB_metadata.csv\", index_col=0)\n",
    "meta = meta[meta[\"Age\"].isin([\"8wk\", \"18mo\"])]\n",
    "\n",
    "gene_name_to_id = joblib.load('../freq_used_files/gene_name_to_id_dict')\n",
    "gene_id_to_name = joblib.load('../freq_used_files/gene_id_to_name_dict')"
   ]
  },
  {
   "cell_type": "code",
   "execution_count": 5,
   "id": "e406f314-9811-48e6-8175-03305ddb885b",
   "metadata": {},
   "outputs": [],
   "source": [
    "pvalue_cutoff = 0.01\n",
    "cg_change_cutoff = 0.15\n",
    "mc_type = 'CGN'"
   ]
  },
  {
   "cell_type": "code",
   "execution_count": 6,
   "id": "f86fb0cd-4b51-49b8-b002-cbcdc4724332",
   "metadata": {},
   "outputs": [
    {
     "data": {
      "text/plain": [
       "(38, 4, 34)"
      ]
     },
     "execution_count": 6,
     "metadata": {},
     "output_type": "execute_result"
    }
   ],
   "source": [
    "all_celltypes = meta[\"MajorType\"].unique().tolist()\n",
    "nn_celltypes = ['Oligo NN','Astro NN','OPC NN','Microglia NN']\n",
    "neu_celltypes = list(set(all_celltypes) ^ set(nn_celltypes))\n",
    "len(all_celltypes), len(nn_celltypes), len(neu_celltypes)"
   ]
  },
  {
   "cell_type": "code",
   "execution_count": 7,
   "id": "7abca2b6-0247-4e7f-8587-a6f35a505210",
   "metadata": {},
   "outputs": [],
   "source": [
    "age_young = '8wk'\n",
    "age_old = '18mo'"
   ]
  },
  {
   "cell_type": "markdown",
   "id": "cc3cd2a0-7918-4306-a591-282a6fdffb74",
   "metadata": {
    "tags": []
   },
   "source": [
    "## 8 week vs. 18 month"
   ]
  },
  {
   "cell_type": "code",
   "execution_count": 8,
   "id": "7edddba1-6627-4ce3-8d6e-e352fbb26bd4",
   "metadata": {},
   "outputs": [],
   "source": [
    "meta = pd.read_csv(\"../freq_used_files/221027_AMB_metadata.csv\", index_col=0)\n",
    "meta = meta[(meta[\"Age\"].isin([f\"{age_young}\", f\"{age_old}\"])) & (meta[\"MajorType\"].isin(nn_celltypes))]"
   ]
  },
  {
   "cell_type": "code",
   "execution_count": 9,
   "id": "1461c6be-271c-498f-9a1f-d75fc50a38ac",
   "metadata": {},
   "outputs": [],
   "source": [
    "mcds =  MCDS.open(mcds_paths, var_dim=var_dim, use_obs=meta.index).sel(\n",
    "        mc_type=mc_type)"
   ]
  },
  {
   "cell_type": "code",
   "execution_count": 10,
   "id": "2680c859-9d7c-474c-8ce0-664636bd1da8",
   "metadata": {},
   "outputs": [],
   "source": [
    "mcds.coords['MajorType'] = meta['MajorType']\n",
    "mcds.coords['Age'] = meta['Age']"
   ]
  },
  {
   "cell_type": "code",
   "execution_count": 11,
   "id": "3768dc52-b2e6-484a-b596-424fd681c281",
   "metadata": {},
   "outputs": [],
   "source": [
    "for age_pair in ['8wk_9mo','8wk_18mo','9mo_18mo']:\n",
    "    \n",
    "    age_young, age_old = age_pair.split('_')\n",
    "    \n",
    "    celltype_admgs = {}\n",
    "    all_celltype_gene_pvalue = []\n",
    "    all_celltype_gene_change = []\n",
    "\n",
    "    for mt ,tmp_mcds in mcds.groupby('MajorType'):\n",
    "        tmp_young_cells = tmp_mcds.get_index('cell')[tmp_mcds[\"Age\"] == f\"{age_young}\"]\n",
    "        tmp_old_cells = tmp_mcds.get_index('cell')[tmp_mcds[\"Age\"] == f\"{age_old}\"]\n",
    "\n",
    "        tmp_gene_frac = tmp_mcds[\"geneslop2k_da_frac\"].to_pandas()\n",
    "        genes = tmp_gene_frac.columns.tolist()\n",
    "\n",
    "        statistic, p_value = ttest_ind(\n",
    "            tmp_gene_frac.loc[tmp_young_cells], tmp_gene_frac.loc[tmp_old_cells], axis=0\n",
    "        )\n",
    "\n",
    "        celltype_gene_pvalue = pd.DataFrame({f\"{mt}\": p_value}, index=genes)\n",
    "        all_celltype_gene_pvalue.append(celltype_gene_pvalue)\n",
    "        f_celltype_gene_pvalue = celltype_gene_pvalue[celltype_gene_pvalue[f'{mt}'] < pvalue_cutoff]\n",
    "\n",
    "        celltype_gene_change = pd.DataFrame(tmp_gene_frac.loc[tmp_old_cells].mean() - tmp_gene_frac.loc[tmp_young_cells].mean(), columns = [f'{mt}'])\n",
    "        all_celltype_gene_change.append(celltype_gene_change)\n",
    "\n",
    "        f_celltype_gene_change = celltype_gene_change.loc[f_celltype_gene_pvalue.index]\n",
    "        f_celltype_gene_change = f_celltype_gene_change[abs(celltype_gene_change[f'{mt}']) > cg_change_cutoff]\n",
    "\n",
    "        celltype_admgs[mt] = f_celltype_gene_change.index.tolist()\n",
    "        \n",
    "    joblib.dump(celltype_admgs, f'result/nn_celltype_admgs_{age_young}_{age_old}.dict')"
   ]
  },
  {
   "cell_type": "code",
   "execution_count": 12,
   "id": "e1759295-c138-4612-bed9-96f77f75d521",
   "metadata": {},
   "outputs": [],
   "source": [
    "# all_celltype_gene_pvalue_df = pd.concat(all_celltype_gene_pvalue,axis = 1)\n",
    "# all_celltype_gene_change_df = pd.concat(all_celltype_gene_change, axis = 1)"
   ]
  },
  {
   "cell_type": "code",
   "execution_count": 13,
   "id": "8bec7046-7bca-4f73-8664-306038648e55",
   "metadata": {},
   "outputs": [],
   "source": [
    "# joblib.dump(celltype_admgs, f'result/nn_celltype_admgs_{age_young}_{age_old}.dict')\n",
    "# all_celltype_gene_pvalue_df.to_csv(f'result/pvalues_nn_celltype_admgs_{age_young}_{age_old}.csv')\n",
    "# all_celltype_gene_change_df.to_csv(f'result/change_nn_elltype_admgs_{age_young}_{age_old}.csv')"
   ]
  },
  {
   "cell_type": "markdown",
   "id": "0f7029eb-7252-4595-b1ab-333148092c1f",
   "metadata": {
    "jp-MarkdownHeadingCollapsed": true,
    "tags": []
   },
   "source": [
    "## 8wk, 9mo and 18mo"
   ]
  },
  {
   "cell_type": "code",
   "execution_count": 10,
   "id": "a9bbb83f-bb3d-447f-9cd8-f10e28173f0b",
   "metadata": {},
   "outputs": [],
   "source": [
    "meta = pd.read_csv(\"../221027_AMB_metadata.csv\", index_col=0)\n",
    "meta = meta[meta[\"Age\"].isin([\"8wk\", \"9mo\", \"18mo\"])]"
   ]
  },
  {
   "cell_type": "code",
   "execution_count": 11,
   "id": "f895db6d-516b-4888-b3d9-d244539e8c2a",
   "metadata": {},
   "outputs": [],
   "source": [
    "all_celltypes = meta[\"MajorType\"].unique().tolist()"
   ]
  },
  {
   "cell_type": "code",
   "execution_count": 12,
   "id": "31e716e1-a163-4c96-b0d9-c360641d1b5f",
   "metadata": {},
   "outputs": [],
   "source": [
    "celltype_admgs_8wk_9mo_18mo = {}\n",
    "for test_celltype in neu_celltypes:\n",
    "    # get gene fraction dataframe\n",
    "    tmp_meta = meta[meta[\"MajorType\"] == test_celltype].copy()\n",
    "\n",
    "    tmp_8wk_cells = tmp_meta[tmp_meta[\"Age\"] == \"8wk\"].index\n",
    "    tmp_9mo_cells = tmp_meta[tmp_meta[\"Age\"] == \"9mo\"].index\n",
    "    tmp_18mo_cells = tmp_meta[tmp_meta[\"Age\"] == \"18mo\"].index\n",
    "\n",
    "    tmp_mcds = MCDS.open(mcds_paths, var_dim=var_dim, use_obs=tmp_meta.index).sel(\n",
    "        mc_type=\"CHN\"\n",
    "    )\n",
    "    tmp_gene_frac = tmp_mcds[\"geneslop2k_da_frac\"].to_pandas()\n",
    "\n",
    "    genes = tmp_gene_frac.columns.tolist()\n",
    "\n",
    "    F, p_value = f_oneway(\n",
    "        tmp_gene_frac.loc[tmp_8wk_cells],\n",
    "        tmp_gene_frac.loc[tmp_9mo_cells],\n",
    "        tmp_gene_frac.loc[tmp_18mo_cells],\n",
    "        axis=0,\n",
    "    )\n",
    "    celltype_gene_pvalue = pd.DataFrame({f\"{test_celltype}\": p_value}, index=genes)\n",
    "    celltype_gene_pvalue = celltype_gene_pvalue[celltype_gene_pvalue[f'{test_celltype}'] < pvalue_cutoff]\n",
    "    \n",
    "    average_df = pd.concat([tmp_gene_frac.loc[tmp_8wk_cells].mean(), tmp_gene_frac.loc[tmp_9mo_cells].mean(), tmp_gene_frac.loc[tmp_18mo_cells].mean()], axis = 1)\n",
    "    average_df = average_df.loc[celltype_gene_pvalue.index]\n",
    "    average_df.columns = ['8wk','9mo','18mo']\n",
    "    \n",
    "    increase_df = average_df[(average_df['8wk'] < average_df['9mo']) & (average_df['9mo'] < average_df['18mo'])].copy()\n",
    "    decrease_df = average_df[(average_df['8wk'] > average_df['9mo']) & (average_df['9mo'] > average_df['18mo'])].copy()\n",
    "    \n",
    "    increase_df = increase_df[abs(increase_df['18mo'] - increase_df['8wk']) > ch_change_cutoff]\n",
    "    decrease_df = decrease_df[abs(decrease_df['18mo'] - decrease_df['8wk']) > ch_change_cutoff]\n",
    "    \n",
    "    average_df = pd.concat([increase_df, decrease_df])\n",
    "    celltype_admgs_8wk_9mo_18mo[test_celltype] = average_df.index.tolist()\n",
    "    \n",
    "for test_celltype in nn_celltypes:\n",
    "    # get gene fraction dataframe\n",
    "    tmp_meta = meta[meta[\"MajorType\"] == test_celltype].copy()\n",
    "\n",
    "    tmp_8wk_cells = tmp_meta[tmp_meta[\"Age\"] == \"8wk\"].index\n",
    "    tmp_9mo_cells = tmp_meta[tmp_meta[\"Age\"] == \"9mo\"].index\n",
    "    tmp_18mo_cells = tmp_meta[tmp_meta[\"Age\"] == \"18mo\"].index\n",
    "\n",
    "    tmp_mcds = MCDS.open(mcds_paths, var_dim=var_dim, use_obs=tmp_meta.index).sel(\n",
    "        mc_type=\"CGN\"\n",
    "    )\n",
    "    tmp_gene_frac = tmp_mcds[\"geneslop2k_da_frac\"].to_pandas()\n",
    "\n",
    "    genes = tmp_gene_frac.columns.tolist()\n",
    "\n",
    "    F, p_value = f_oneway(\n",
    "        tmp_gene_frac.loc[tmp_8wk_cells],\n",
    "        tmp_gene_frac.loc[tmp_9mo_cells],\n",
    "        tmp_gene_frac.loc[tmp_18mo_cells],\n",
    "        axis=0,\n",
    "    )\n",
    "    celltype_gene_pvalue = pd.DataFrame({f\"{test_celltype}\": p_value}, index=genes)\n",
    "    celltype_gene_pvalue = celltype_gene_pvalue[celltype_gene_pvalue[f'{test_celltype}'] < pvalue_cutoff]\n",
    "    \n",
    "    average_df = pd.concat([tmp_gene_frac.loc[tmp_8wk_cells].mean(), tmp_gene_frac.loc[tmp_9mo_cells].mean(), tmp_gene_frac.loc[tmp_18mo_cells].mean()], axis = 1)\n",
    "    average_df = average_df.loc[celltype_gene_pvalue.index]\n",
    "    average_df.columns = ['8wk','9mo','18mo']\n",
    "    \n",
    "    increase_df = average_df[(average_df['8wk'] < average_df['9mo']) & (average_df['9mo'] < average_df['18mo'])].copy()\n",
    "    decrease_df = average_df[(average_df['8wk'] > average_df['9mo']) & (average_df['9mo'] > average_df['18mo'])].copy()\n",
    "    \n",
    "    increase_df = increase_df[abs(increase_df['18mo'] - increase_df['8wk']) > cg_change_cutoff]\n",
    "    decrease_df = decrease_df[abs(decrease_df['18mo'] - decrease_df['8wk']) > cg_change_cutoff]\n",
    "    \n",
    "    average_df = pd.concat([increase_df, decrease_df])\n",
    "    celltype_admgs_8wk_9mo_18mo[test_celltype] = average_df.index.tolist()"
   ]
  },
  {
   "cell_type": "code",
   "execution_count": 14,
   "id": "e8ad7e99-0293-4b7d-a229-7d631899ad7f",
   "metadata": {},
   "outputs": [
    {
     "data": {
      "text/plain": [
       "['celltype_admgs_8wk_9mo_18mo.dict']"
      ]
     },
     "execution_count": 14,
     "metadata": {},
     "output_type": "execute_result"
    }
   ],
   "source": [
    "joblib.dump(celltype_admgs_8wk_9mo_18mo, 'celltype_admgs_8wk_9mo_18mo.dict')"
   ]
  },
  {
   "cell_type": "code",
   "execution_count": null,
   "id": "b7acb8f1-445c-4d27-956e-84efb5e90bdf",
   "metadata": {},
   "outputs": [],
   "source": []
  },
  {
   "cell_type": "code",
   "execution_count": null,
   "id": "9eff824b-a3f3-4753-a7e2-b8e0b02522cd",
   "metadata": {},
   "outputs": [],
   "source": []
  },
  {
   "cell_type": "code",
   "execution_count": null,
   "id": "57985a9a-322f-4752-8e0d-08d5061beed7",
   "metadata": {},
   "outputs": [],
   "source": []
  },
  {
   "cell_type": "code",
   "execution_count": null,
   "id": "3c8bba00-4724-4427-9558-012312bc7026",
   "metadata": {},
   "outputs": [],
   "source": []
  },
  {
   "cell_type": "code",
   "execution_count": null,
   "id": "53184dba-9f91-4261-8efe-9abfa0f4f7ce",
   "metadata": {},
   "outputs": [],
   "source": []
  },
  {
   "cell_type": "code",
   "execution_count": null,
   "id": "ba4bbc16-8e4d-4f0b-b24c-84758f963cdd",
   "metadata": {},
   "outputs": [],
   "source": []
  }
 ],
 "metadata": {
  "kernelspec": {
   "display_name": "Python 3 (ipykernel)",
   "language": "python",
   "name": "python3"
  },
  "language_info": {
   "codemirror_mode": {
    "name": "ipython",
    "version": 3
   },
   "file_extension": ".py",
   "mimetype": "text/x-python",
   "name": "python",
   "nbconvert_exporter": "python",
   "pygments_lexer": "ipython3",
   "version": "3.7.12"
  }
 },
 "nbformat": 4,
 "nbformat_minor": 5
}
