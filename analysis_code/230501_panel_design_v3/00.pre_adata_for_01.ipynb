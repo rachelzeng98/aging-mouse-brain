{
 "cells": [
  {
   "cell_type": "code",
   "execution_count": 1,
   "id": "6ef45cba-a453-495c-97e2-bc52480bc3e6",
   "metadata": {},
   "outputs": [],
   "source": [
    "from ALLCools.mcds import MCDS\n",
    "import pandas as pd\n",
    "import dask\n",
    "import pathlib\n",
    "from wmb import brain, aibs, broad, mm10"
   ]
  },
  {
   "cell_type": "code",
   "execution_count": 2,
   "id": "7b96ab27-9c7e-4e87-94ef-26aaf2ab9caf",
   "metadata": {},
   "outputs": [],
   "source": [
    "metadata_path = '../221027_AMB_metadata.csv'\n",
    "metadata = pd.read_csv(metadata_path, index_col=0)\n",
    "\n",
    "gene_meta = pd.read_csv(\"../GeneMetadata.csv.gz\", index_col=0)\n",
    "gene_meta['length'] = gene_meta['end'] - gene_meta['start']"
   ]
  },
  {
   "cell_type": "code",
   "execution_count": 3,
   "id": "1a54ed98-509a-4d61-8d59-f523d6030aac",
   "metadata": {},
   "outputs": [],
   "source": [
    "use_genes = gene_meta[gene_meta['length'] > 1000].index"
   ]
  },
  {
   "cell_type": "code",
   "execution_count": 4,
   "id": "6cf16965-dd8b-4996-81c7-c5b342ee8c17",
   "metadata": {},
   "outputs": [],
   "source": [
    "n_cell = 5\n",
    "dataset = 'AIBS_TENX'"
   ]
  },
  {
   "cell_type": "markdown",
   "id": "0ceca168-a587-45f5-a734-3242eb454849",
   "metadata": {
    "jp-MarkdownHeadingCollapsed": true,
    "tags": []
   },
   "source": [
    "## gen mc adata"
   ]
  },
  {
   "cell_type": "code",
   "execution_count": 3,
   "id": "5b224375-1aad-45c2-af74-fb77ac2b3da4",
   "metadata": {},
   "outputs": [],
   "source": [
    "mcds_paths = '../230410_panel_design_v1/geneslop2k_frac.mcds'\n",
    "\n",
    "obs_dim = 'cell'\n",
    "var_dim = 'geneslop2k'\n",
    "\n",
    "with dask.config.set(**{'array.slicing.split_large_chunks': False}):\n",
    "    # still use all the cells to load MCDS\n",
    "    total_mcds = MCDS.open(mcds_paths,\n",
    "                           obs_dim=obs_dim,\n",
    "                           use_obs=metadata.index)"
   ]
  },
  {
   "cell_type": "code",
   "execution_count": 4,
   "id": "dd4e1f0c-02d4-4b77-9f6f-6e5e15afbc43",
   "metadata": {},
   "outputs": [],
   "source": [
    "mch_adata = total_mcds.get_adata(mc_type='CHN',\n",
    "                           var_dim=var_dim,\n",
    "                           select_hvf=False)\n"
   ]
  },
  {
   "cell_type": "code",
   "execution_count": 5,
   "id": "1d8b5c20-bcec-4624-b706-5199dbe2a2ea",
   "metadata": {},
   "outputs": [],
   "source": [
    "mch_adata.X = - mch_adata.X"
   ]
  },
  {
   "cell_type": "code",
   "execution_count": 6,
   "id": "708d4ad7-c81b-4361-92ff-6371f1c4afe4",
   "metadata": {},
   "outputs": [
    {
     "data": {
      "text/plain": [
       "AnnData object with n_obs × n_vars = 132747 × 39681\n",
       "    var: 'chrom', 'end', 'start'"
      ]
     },
     "execution_count": 6,
     "metadata": {},
     "output_type": "execute_result"
    }
   ],
   "source": [
    "pathlib.Path('adata').mkdir(exist_ok = True)\n",
    "mch_adata.write_h5ad(f'./adata/All_Genes.mCH.h5ad')\n",
    "\n",
    "mch_adata"
   ]
  },
  {
   "cell_type": "markdown",
   "id": "f38cccfe-15cf-4464-9606-f3ee4b306cd3",
   "metadata": {},
   "source": [
    "## gen rna adata"
   ]
  },
  {
   "cell_type": "code",
   "execution_count": 5,
   "id": "12424bc9-818a-4bbd-84b6-beb3434fc3d1",
   "metadata": {},
   "outputs": [],
   "source": [
    "rna_annot = aibs.get_tenx_annot()"
   ]
  },
  {
   "cell_type": "code",
   "execution_count": 6,
   "id": "1e428822-b605-4ae1-bcff-e7bcd0a64253",
   "metadata": {},
   "outputs": [
    {
     "data": {
      "text/plain": [
       "100000"
      ]
     },
     "execution_count": 6,
     "metadata": {},
     "output_type": "execute_result"
    }
   ],
   "source": [
    "cells = pd.Series(rna_annot.get_index('cell'))\n",
    "cells = cells.sample(100000, random_state=0)\n",
    "len(cells)"
   ]
  },
  {
   "cell_type": "code",
   "execution_count": 7,
   "id": "1b7baae4-010e-4b70-9ad7-cae883d4a8f2",
   "metadata": {},
   "outputs": [],
   "source": [
    "if dataset == 'AIBS_SMART':\n",
    "    mcds_path = aibs.AIBS_SMART_ZARR_PATH\n",
    "    gene_map = aibs.get_smart_gene_map()\n",
    "elif dataset == 'AIBS_TENX':\n",
    "    mcds_path = aibs.AIBS_TENX_ZARR_PATH\n",
    "    gene_map = aibs.get_tenx_gene_map()\n",
    "else:\n",
    "    mcds_path = broad.BROAD_TENX_ZARR_PATH\n",
    "    gene_map = broad.get_tenx_gene_map()"
   ]
  },
  {
   "cell_type": "code",
   "execution_count": 8,
   "id": "f7e55e6a-59f2-4d21-8140-bdebabc0428b",
   "metadata": {},
   "outputs": [],
   "source": [
    "rna_ds = MCDS.open(mcds_path, use_obs = cells, var_dim='gene')"
   ]
  },
  {
   "cell_type": "code",
   "execution_count": 9,
   "id": "f81e4064-7288-4546-bba2-b5413657f72e",
   "metadata": {},
   "outputs": [
    {
     "ename": "KeyError",
     "evalue": "\"not all values found in index 'gene'\"",
     "output_type": "error",
     "traceback": [
      "\u001b[0;31m---------------------------------------------------------------------------\u001b[0m",
      "\u001b[0;31mKeyError\u001b[0m                                  Traceback (most recent call last)",
      "\u001b[0;32m/tmp/ipykernel_48640/1840589655.py\u001b[0m in \u001b[0;36m<module>\u001b[0;34m\u001b[0m\n\u001b[0;32m----> 1\u001b[0;31m \u001b[0madata\u001b[0m \u001b[0;34m=\u001b[0m \u001b[0mrna_ds\u001b[0m\u001b[0;34m.\u001b[0m\u001b[0mget_count_adata\u001b[0m\u001b[0;34m(\u001b[0m\u001b[0mda_name\u001b[0m\u001b[0;34m=\u001b[0m\u001b[0;34m'gene_da'\u001b[0m\u001b[0;34m,\u001b[0m \u001b[0muse_vars\u001b[0m\u001b[0;34m=\u001b[0m\u001b[0muse_genes\u001b[0m\u001b[0;34m)\u001b[0m\u001b[0;34m\u001b[0m\u001b[0;34m\u001b[0m\u001b[0m\n\u001b[0m",
      "\u001b[0;32m/opt/conda/lib/python3.7/site-packages/ALLCools/mcds/mcds.py\u001b[0m in \u001b[0;36mget_count_adata\u001b[0;34m(self, da_name, obs_dim, var_dim, sparse, loading_chunk, binarize_cutoff, dtype, use_vars, split_large_chunks)\u001b[0m\n\u001b[1;32m    944\u001b[0m \u001b[0;34m\u001b[0m\u001b[0m\n\u001b[1;32m    945\u001b[0m                 \u001b[0;32mif\u001b[0m \u001b[0muse_vars\u001b[0m \u001b[0;32mis\u001b[0m \u001b[0;32mnot\u001b[0m \u001b[0;32mNone\u001b[0m\u001b[0;34m:\u001b[0m\u001b[0;34m\u001b[0m\u001b[0;34m\u001b[0m\u001b[0m\n\u001b[0;32m--> 946\u001b[0;31m                     \u001b[0mchunk_da\u001b[0m \u001b[0;34m=\u001b[0m \u001b[0mchunk_da\u001b[0m\u001b[0;34m.\u001b[0m\u001b[0msel\u001b[0m\u001b[0;34m(\u001b[0m\u001b[0;34m{\u001b[0m\u001b[0mvar_dim\u001b[0m\u001b[0;34m:\u001b[0m \u001b[0muse_vars\u001b[0m\u001b[0;34m}\u001b[0m\u001b[0;34m)\u001b[0m\u001b[0;34m\u001b[0m\u001b[0;34m\u001b[0m\u001b[0m\n\u001b[0m\u001b[1;32m    947\u001b[0m \u001b[0;34m\u001b[0m\u001b[0m\n\u001b[1;32m    948\u001b[0m                 \u001b[0;32mif\u001b[0m \u001b[0msparse\u001b[0m\u001b[0;34m:\u001b[0m\u001b[0;34m\u001b[0m\u001b[0;34m\u001b[0m\u001b[0m\n",
      "\u001b[0;32m/opt/conda/lib/python3.7/site-packages/xarray/core/dataarray.py\u001b[0m in \u001b[0;36msel\u001b[0;34m(self, indexers, method, tolerance, drop, **indexers_kwargs)\u001b[0m\n\u001b[1;32m   1335\u001b[0m             \u001b[0mmethod\u001b[0m\u001b[0;34m=\u001b[0m\u001b[0mmethod\u001b[0m\u001b[0;34m,\u001b[0m\u001b[0;34m\u001b[0m\u001b[0;34m\u001b[0m\u001b[0m\n\u001b[1;32m   1336\u001b[0m             \u001b[0mtolerance\u001b[0m\u001b[0;34m=\u001b[0m\u001b[0mtolerance\u001b[0m\u001b[0;34m,\u001b[0m\u001b[0;34m\u001b[0m\u001b[0;34m\u001b[0m\u001b[0m\n\u001b[0;32m-> 1337\u001b[0;31m             \u001b[0;34m**\u001b[0m\u001b[0mindexers_kwargs\u001b[0m\u001b[0;34m,\u001b[0m\u001b[0;34m\u001b[0m\u001b[0;34m\u001b[0m\u001b[0m\n\u001b[0m\u001b[1;32m   1338\u001b[0m         )\n\u001b[1;32m   1339\u001b[0m         \u001b[0;32mreturn\u001b[0m \u001b[0mself\u001b[0m\u001b[0;34m.\u001b[0m\u001b[0m_from_temp_dataset\u001b[0m\u001b[0;34m(\u001b[0m\u001b[0mds\u001b[0m\u001b[0;34m)\u001b[0m\u001b[0;34m\u001b[0m\u001b[0;34m\u001b[0m\u001b[0m\n",
      "\u001b[0;32m/opt/conda/lib/python3.7/site-packages/xarray/core/dataset.py\u001b[0m in \u001b[0;36msel\u001b[0;34m(self, indexers, method, tolerance, drop, **indexers_kwargs)\u001b[0m\n\u001b[1;32m   2503\u001b[0m         \u001b[0mindexers\u001b[0m \u001b[0;34m=\u001b[0m \u001b[0meither_dict_or_kwargs\u001b[0m\u001b[0;34m(\u001b[0m\u001b[0mindexers\u001b[0m\u001b[0;34m,\u001b[0m \u001b[0mindexers_kwargs\u001b[0m\u001b[0;34m,\u001b[0m \u001b[0;34m\"sel\"\u001b[0m\u001b[0;34m)\u001b[0m\u001b[0;34m\u001b[0m\u001b[0;34m\u001b[0m\u001b[0m\n\u001b[1;32m   2504\u001b[0m         pos_indexers, new_indexes = remap_label_indexers(\n\u001b[0;32m-> 2505\u001b[0;31m             \u001b[0mself\u001b[0m\u001b[0;34m,\u001b[0m \u001b[0mindexers\u001b[0m\u001b[0;34m=\u001b[0m\u001b[0mindexers\u001b[0m\u001b[0;34m,\u001b[0m \u001b[0mmethod\u001b[0m\u001b[0;34m=\u001b[0m\u001b[0mmethod\u001b[0m\u001b[0;34m,\u001b[0m \u001b[0mtolerance\u001b[0m\u001b[0;34m=\u001b[0m\u001b[0mtolerance\u001b[0m\u001b[0;34m\u001b[0m\u001b[0;34m\u001b[0m\u001b[0m\n\u001b[0m\u001b[1;32m   2506\u001b[0m         )\n\u001b[1;32m   2507\u001b[0m         \u001b[0;31m# TODO: benbovy - flexible indexes: also use variables returned by Index.query\u001b[0m\u001b[0;34m\u001b[0m\u001b[0;34m\u001b[0m\u001b[0;34m\u001b[0m\u001b[0m\n",
      "\u001b[0;32m/opt/conda/lib/python3.7/site-packages/xarray/core/coordinates.py\u001b[0m in \u001b[0;36mremap_label_indexers\u001b[0;34m(obj, indexers, method, tolerance, **indexers_kwargs)\u001b[0m\n\u001b[1;32m    420\u001b[0m \u001b[0;34m\u001b[0m\u001b[0m\n\u001b[1;32m    421\u001b[0m     pos_indexers, new_indexes = indexing.remap_label_indexers(\n\u001b[0;32m--> 422\u001b[0;31m         \u001b[0mobj\u001b[0m\u001b[0;34m,\u001b[0m \u001b[0mv_indexers\u001b[0m\u001b[0;34m,\u001b[0m \u001b[0mmethod\u001b[0m\u001b[0;34m=\u001b[0m\u001b[0mmethod\u001b[0m\u001b[0;34m,\u001b[0m \u001b[0mtolerance\u001b[0m\u001b[0;34m=\u001b[0m\u001b[0mtolerance\u001b[0m\u001b[0;34m\u001b[0m\u001b[0;34m\u001b[0m\u001b[0m\n\u001b[0m\u001b[1;32m    423\u001b[0m     )\n\u001b[1;32m    424\u001b[0m     \u001b[0;31m# attach indexer's coordinate to pos_indexers\u001b[0m\u001b[0;34m\u001b[0m\u001b[0;34m\u001b[0m\u001b[0;34m\u001b[0m\u001b[0m\n",
      "\u001b[0;32m/opt/conda/lib/python3.7/site-packages/xarray/core/indexing.py\u001b[0m in \u001b[0;36mremap_label_indexers\u001b[0;34m(data_obj, indexers, method, tolerance)\u001b[0m\n\u001b[1;32m    118\u001b[0m     \u001b[0;32mfor\u001b[0m \u001b[0mdim\u001b[0m\u001b[0;34m,\u001b[0m \u001b[0mindex\u001b[0m \u001b[0;32min\u001b[0m \u001b[0mindexes\u001b[0m\u001b[0;34m.\u001b[0m\u001b[0mitems\u001b[0m\u001b[0;34m(\u001b[0m\u001b[0;34m)\u001b[0m\u001b[0;34m:\u001b[0m\u001b[0;34m\u001b[0m\u001b[0;34m\u001b[0m\u001b[0m\n\u001b[1;32m    119\u001b[0m         \u001b[0mlabels\u001b[0m \u001b[0;34m=\u001b[0m \u001b[0mgrouped_indexers\u001b[0m\u001b[0;34m[\u001b[0m\u001b[0mdim\u001b[0m\u001b[0;34m]\u001b[0m\u001b[0;34m\u001b[0m\u001b[0;34m\u001b[0m\u001b[0m\n\u001b[0;32m--> 120\u001b[0;31m         \u001b[0midxr\u001b[0m\u001b[0;34m,\u001b[0m \u001b[0mnew_idx\u001b[0m \u001b[0;34m=\u001b[0m \u001b[0mindex\u001b[0m\u001b[0;34m.\u001b[0m\u001b[0mquery\u001b[0m\u001b[0;34m(\u001b[0m\u001b[0mlabels\u001b[0m\u001b[0;34m,\u001b[0m \u001b[0mmethod\u001b[0m\u001b[0;34m=\u001b[0m\u001b[0mmethod\u001b[0m\u001b[0;34m,\u001b[0m \u001b[0mtolerance\u001b[0m\u001b[0;34m=\u001b[0m\u001b[0mtolerance\u001b[0m\u001b[0;34m)\u001b[0m\u001b[0;34m\u001b[0m\u001b[0;34m\u001b[0m\u001b[0m\n\u001b[0m\u001b[1;32m    121\u001b[0m         \u001b[0mpos_indexers\u001b[0m\u001b[0;34m[\u001b[0m\u001b[0mdim\u001b[0m\u001b[0;34m]\u001b[0m \u001b[0;34m=\u001b[0m \u001b[0midxr\u001b[0m\u001b[0;34m\u001b[0m\u001b[0;34m\u001b[0m\u001b[0m\n\u001b[1;32m    122\u001b[0m         \u001b[0;32mif\u001b[0m \u001b[0mnew_idx\u001b[0m \u001b[0;32mis\u001b[0m \u001b[0;32mnot\u001b[0m \u001b[0;32mNone\u001b[0m\u001b[0;34m:\u001b[0m\u001b[0;34m\u001b[0m\u001b[0;34m\u001b[0m\u001b[0m\n",
      "\u001b[0;32m/opt/conda/lib/python3.7/site-packages/xarray/core/indexes.py\u001b[0m in \u001b[0;36mquery\u001b[0;34m(self, labels, method, tolerance)\u001b[0m\n\u001b[1;32m    240\u001b[0m                 \u001b[0mindexer\u001b[0m \u001b[0;34m=\u001b[0m \u001b[0mget_indexer_nd\u001b[0m\u001b[0;34m(\u001b[0m\u001b[0mself\u001b[0m\u001b[0;34m.\u001b[0m\u001b[0mindex\u001b[0m\u001b[0;34m,\u001b[0m \u001b[0mlabel\u001b[0m\u001b[0;34m,\u001b[0m \u001b[0mmethod\u001b[0m\u001b[0;34m,\u001b[0m \u001b[0mtolerance\u001b[0m\u001b[0;34m)\u001b[0m\u001b[0;34m\u001b[0m\u001b[0;34m\u001b[0m\u001b[0m\n\u001b[1;32m    241\u001b[0m                 \u001b[0;32mif\u001b[0m \u001b[0mnp\u001b[0m\u001b[0;34m.\u001b[0m\u001b[0many\u001b[0m\u001b[0;34m(\u001b[0m\u001b[0mindexer\u001b[0m \u001b[0;34m<\u001b[0m \u001b[0;36m0\u001b[0m\u001b[0;34m)\u001b[0m\u001b[0;34m:\u001b[0m\u001b[0;34m\u001b[0m\u001b[0;34m\u001b[0m\u001b[0m\n\u001b[0;32m--> 242\u001b[0;31m                     \u001b[0;32mraise\u001b[0m \u001b[0mKeyError\u001b[0m\u001b[0;34m(\u001b[0m\u001b[0;34mf\"not all values found in index {coord_name!r}\"\u001b[0m\u001b[0;34m)\u001b[0m\u001b[0;34m\u001b[0m\u001b[0;34m\u001b[0m\u001b[0m\n\u001b[0m\u001b[1;32m    243\u001b[0m \u001b[0;34m\u001b[0m\u001b[0m\n\u001b[1;32m    244\u001b[0m         \u001b[0;32mreturn\u001b[0m \u001b[0mindexer\u001b[0m\u001b[0;34m,\u001b[0m \u001b[0;32mNone\u001b[0m\u001b[0;34m\u001b[0m\u001b[0;34m\u001b[0m\u001b[0m\n",
      "\u001b[0;31mKeyError\u001b[0m: \"not all values found in index 'gene'\""
     ]
    }
   ],
   "source": [
    "adata = rna_ds.get_count_adata(da_name='gene_da', use_vars=use_genes)"
   ]
  },
  {
   "cell_type": "code",
   "execution_count": null,
   "id": "fe38cdac-6e97-4d2e-95be-bd48f8b9ea98",
   "metadata": {},
   "outputs": [],
   "source": []
  },
  {
   "cell_type": "code",
   "execution_count": null,
   "id": "13e224c4-f144-42ad-afbe-6a2871c33c1b",
   "metadata": {},
   "outputs": [],
   "source": []
  }
 ],
 "metadata": {
  "kernelspec": {
   "display_name": "Python 3 (ipykernel)",
   "language": "python",
   "name": "python3"
  },
  "language_info": {
   "codemirror_mode": {
    "name": "ipython",
    "version": 3
   },
   "file_extension": ".py",
   "mimetype": "text/x-python",
   "name": "python",
   "nbconvert_exporter": "python",
   "pygments_lexer": "ipython3",
   "version": "3.7.12"
  }
 },
 "nbformat": 4,
 "nbformat_minor": 5
}
