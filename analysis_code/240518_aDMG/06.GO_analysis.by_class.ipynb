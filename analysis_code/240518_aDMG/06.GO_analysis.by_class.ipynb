{
 "cells": [
  {
   "cell_type": "code",
   "execution_count": 1,
   "id": "f1511a70-c670-4c66-bb05-c525110dff1a",
   "metadata": {
    "execution": {
     "iopub.execute_input": "2024-09-23T22:01:25.208203Z",
     "iopub.status.busy": "2024-09-23T22:01:25.207683Z",
     "iopub.status.idle": "2024-09-23T22:01:43.243464Z",
     "shell.execute_reply": "2024-09-23T22:01:43.242715Z",
     "shell.execute_reply.started": "2024-09-23T22:01:25.208158Z"
    },
    "tags": []
   },
   "outputs": [],
   "source": [
    "import pandas as pd\n",
    "import matplotlib.pyplot as plt\n",
    "import seaborn as sns\n",
    "import joblib\n",
    "import numpy as np\n",
    "from scipy import stats\n",
    "import gseapy as gp\n",
    "from gseapy import barplot, dotplot\n",
    "import seaborn as sns\n",
    "import matplotlib.pyplot as plt\n",
    "import PyComplexHeatmap as pch\n",
    "from PyComplexHeatmap import *\n",
    "\n",
    "plt.rcParams['figure.dpi'] = 200\n",
    "plt.rcParams['savefig.dpi']=300\n",
    "plt.rcParams['pdf.fonttype']=42"
   ]
  },
  {
   "cell_type": "code",
   "execution_count": 2,
   "id": "375229ff-ad32-4251-a82c-c9154dd6d723",
   "metadata": {
    "execution": {
     "iopub.execute_input": "2024-09-23T22:01:43.245707Z",
     "iopub.status.busy": "2024-09-23T22:01:43.245195Z",
     "iopub.status.idle": "2024-09-23T22:01:43.250493Z",
     "shell.execute_reply": "2024-09-23T22:01:43.249814Z",
     "shell.execute_reply.started": "2024-09-23T22:01:43.245668Z"
    },
    "tags": []
   },
   "outputs": [],
   "source": [
    "def filter_terms(terms):\n",
    "    term_dict = {}\n",
    "    for term in terms:\n",
    "        first_word = term.split()[0]\n",
    "        if first_word not in term_dict:\n",
    "            term_dict[first_word] = term\n",
    "    return list(term_dict.values())\n"
   ]
  },
  {
   "cell_type": "markdown",
   "id": "ecd05105-83c5-440d-b596-0dbaf99de4eb",
   "metadata": {
    "tags": []
   },
   "source": [
    "## GO"
   ]
  },
  {
   "cell_type": "code",
   "execution_count": 3,
   "id": "33b191b3-4cdc-49ed-9eb3-f2ac69acc467",
   "metadata": {
    "execution": {
     "iopub.execute_input": "2024-09-23T22:01:43.251688Z",
     "iopub.status.busy": "2024-09-23T22:01:43.251378Z",
     "iopub.status.idle": "2024-09-23T22:01:43.254837Z",
     "shell.execute_reply": "2024-09-23T22:01:43.254230Z",
     "shell.execute_reply.started": "2024-09-23T22:01:43.251663Z"
    },
    "tags": []
   },
   "outputs": [],
   "source": [
    "_gender = 'Male'\n",
    "mc_type = 'CGN'\n",
    "ct_type = 'All_CellType'"
   ]
  },
  {
   "cell_type": "code",
   "execution_count": 4,
   "id": "57cbe91c-a729-467f-8849-521c9730b0f0",
   "metadata": {
    "execution": {
     "iopub.execute_input": "2024-09-23T22:01:43.256105Z",
     "iopub.status.busy": "2024-09-23T22:01:43.255713Z",
     "iopub.status.idle": "2024-09-23T22:01:44.491896Z",
     "shell.execute_reply": "2024-09-23T22:01:44.491284Z",
     "shell.execute_reply.started": "2024-09-23T22:01:43.256080Z"
    },
    "tags": []
   },
   "outputs": [],
   "source": [
    "gene_name_to_id = joblib.load('/home/qzeng/project/aging/240112_DMG_CEF/gene_name_to_id_dict')\n",
    "gene_id_to_name = joblib.load('/home/qzeng/project/aging/240112_DMG_CEF/gene_id_to_name_dict')\n",
    "\n",
    "gene_meta_path = '/home/qzeng/project/aging/metadata/gencode.vM22.basic.annotation.gene.flat.tsv.gz'\n",
    "gene_meta = pd.read_csv(gene_meta_path, index_col ='gene_id', sep='\\t')\n",
    "gene_meta['length'] = gene_meta['end'] - gene_meta['start']\n",
    "gene_length_dict = gene_meta['length'].to_dict()"
   ]
  },
  {
   "cell_type": "code",
   "execution_count": 5,
   "id": "021debcc-4e7a-4623-b8bd-12b74d50ddd7",
   "metadata": {
    "execution": {
     "iopub.execute_input": "2024-09-23T22:01:44.493112Z",
     "iopub.status.busy": "2024-09-23T22:01:44.492787Z",
     "iopub.status.idle": "2024-09-23T22:01:52.819691Z",
     "shell.execute_reply": "2024-09-23T22:01:52.818563Z",
     "shell.execute_reply.started": "2024-09-23T22:01:44.493088Z"
    },
    "tags": []
   },
   "outputs": [
    {
     "name": "stderr",
     "output_type": "stream",
     "text": [
      "/home/qz/miniconda3/envs/allcools/lib/python3.7/site-packages/IPython/core/interactiveshell.py:3552: DtypeWarning: Columns (10) have mixed types.Specify dtype option on import or set low_memory=False.\n",
      "  exec(code_obj, self.user_global_ns, self.user_ns)\n"
     ]
    }
   ],
   "source": [
    "_dir = '/home/qzeng/project/aging/240112_DMG_CEF'\n",
    "mc_all = pd.read_csv(f'{_dir}/result/{_gender}.{mc_type}.DMG.csv', index_col = 0)\n",
    "mc_all['celltype'] = mc_all['celltype'].apply(lambda x: x.replace('/','').replace(' ','_'))"
   ]
  },
  {
   "cell_type": "code",
   "execution_count": 6,
   "id": "b3728e92-a6da-4890-a383-cb35476d452b",
   "metadata": {
    "execution": {
     "iopub.execute_input": "2024-09-23T22:01:52.821951Z",
     "iopub.status.busy": "2024-09-23T22:01:52.821193Z",
     "iopub.status.idle": "2024-09-23T22:01:52.839303Z",
     "shell.execute_reply": "2024-09-23T22:01:52.838818Z",
     "shell.execute_reply.started": "2024-09-23T22:01:52.821911Z"
    },
    "tags": []
   },
   "outputs": [],
   "source": [
    "use_cts= joblib.load('mc_rna_corr_cts')\n",
    "if ct_type == 'Neuron':\n",
    "    use_cts = [ct for ct in use_cts if ct.endswith('NN') == False]\n",
    "elif ct_type == 'NN':\n",
    "    use_cts = [ct for ct in use_cts if ct.endswith('NN') == True]\n",
    "if ct_type == 'All_CellType':\n",
    "    use_cts= joblib.load('mc_rna_corr_cts')"
   ]
  },
  {
   "cell_type": "code",
   "execution_count": 7,
   "id": "ca473d16-decb-43f1-9953-9398652434d8",
   "metadata": {
    "execution": {
     "iopub.execute_input": "2024-09-23T22:01:52.841324Z",
     "iopub.status.busy": "2024-09-23T22:01:52.841050Z",
     "iopub.status.idle": "2024-09-23T22:01:52.844037Z",
     "shell.execute_reply": "2024-09-23T22:01:52.843583Z",
     "shell.execute_reply.started": "2024-09-23T22:01:52.841297Z"
    },
    "tags": []
   },
   "outputs": [],
   "source": [
    "_type = 'DEG'\n",
    "pvalue_cutoff = 0.05\n",
    "fc_cutoff = 0.1"
   ]
  },
  {
   "cell_type": "code",
   "execution_count": 16,
   "id": "54338f52-0be9-4c25-914f-9dc91b3d0b62",
   "metadata": {
    "execution": {
     "iopub.execute_input": "2024-09-23T22:03:34.199522Z",
     "iopub.status.busy": "2024-09-23T22:03:34.198920Z",
     "iopub.status.idle": "2024-09-23T22:03:41.183042Z",
     "shell.execute_reply": "2024-09-23T22:03:41.182354Z",
     "shell.execute_reply.started": "2024-09-23T22:03:34.199468Z"
    },
    "tags": []
   },
   "outputs": [],
   "source": [
    "all_up_genes = []\n",
    "all_down_genes = []\n",
    "all_deg_df = []\n",
    "\n",
    "for ct in use_cts:\n",
    "    rna_df = pd.read_csv(f\"DEGs/{ct}.csv\", index_col = 0)\n",
    "    rna_df['log2(Aged/Young)'] = -rna_df['avg_log2FC']\n",
    "    deg_df = rna_df[(rna_df['p_val_adj'] < pvalue_cutoff) & (abs(rna_df['log2(Aged/Young)']) > fc_cutoff)]\n",
    "    \n",
    "    up_genes = deg_df[deg_df['log2(Aged/Young)'] > 0].index\n",
    "    down_genes = deg_df[deg_df['log2(Aged/Young)'] < 0].index\n",
    "    \n",
    "    # get DEG mc info\n",
    "    mc_df  = mc_all[mc_all['celltype'] == ct].copy()\n",
    "    mc_df['gene_name'] = mc_df.index.map(gene_id_to_name)\n",
    "\n",
    "    deg_mc_df = mc_df.set_index('gene_name')\n",
    "    deg_mc_df = deg_mc_df.loc[deg_mc_df.index.isin(deg_df.index)]\n",
    "    deg_mc_df['Aged-Young'] = deg_mc_df['18mo'] - deg_mc_df['8wk']\n",
    "    \n",
    "    \n",
    "    # also filter for DMGs\n",
    "    deg_mc_df  = deg_mc_df[deg_mc_df['pvalue'] < 0.05]\n",
    "    mc_hyper_genes = deg_mc_df[deg_mc_df['Aged-Young'] > 0].index\n",
    "    mc_hypo_genes = deg_mc_df[deg_mc_df['Aged-Young'] < 0].index\n",
    "    all_deg_df.append(deg_mc_df)\n",
    "    \n",
    "    # unique_genes = deg_mc_df.index.value_counts()[deg_mc_df.index.value_counts() == 1].index\n",
    "    up_genes = list(set(mc_hypo_genes) & set(up_genes))\n",
    "    down_genes = list(set(mc_hyper_genes) & set(down_genes))\n",
    "    all_up_genes += list(up_genes)\n",
    "    all_down_genes += list(down_genes)\n"
   ]
  },
  {
   "cell_type": "code",
   "execution_count": 9,
   "id": "0a883382-9ee9-4937-97f2-3e60ff1b5ca4",
   "metadata": {
    "execution": {
     "iopub.execute_input": "2024-09-23T22:01:59.303943Z",
     "iopub.status.busy": "2024-09-23T22:01:59.303670Z",
     "iopub.status.idle": "2024-09-23T22:01:59.307706Z",
     "shell.execute_reply": "2024-09-23T22:01:59.307198Z",
     "shell.execute_reply.started": "2024-09-23T22:01:59.303915Z"
    },
    "tags": []
   },
   "outputs": [],
   "source": [
    "#mouse = gp.get_library_name(organism='mouse')"
   ]
  },
  {
   "cell_type": "code",
   "execution_count": 10,
   "id": "c466c16b-1f18-4021-93e9-531115c1d4f4",
   "metadata": {
    "execution": {
     "iopub.execute_input": "2024-09-23T22:01:59.308675Z",
     "iopub.status.busy": "2024-09-23T22:01:59.308396Z",
     "iopub.status.idle": "2024-09-23T22:01:59.328983Z",
     "shell.execute_reply": "2024-09-23T22:01:59.328372Z",
     "shell.execute_reply.started": "2024-09-23T22:01:59.308655Z"
    },
    "tags": []
   },
   "outputs": [
    {
     "data": {
      "text/plain": [
       "(5128, 1569, 3991)"
      ]
     },
     "execution_count": 10,
     "metadata": {},
     "output_type": "execute_result"
    }
   ],
   "source": [
    "all_genes = list(set(all_up_genes + all_down_genes))\n",
    "all_up_genes = list(set(all_up_genes))\n",
    "all_down_genes = list(set(all_down_genes))\n",
    "len(all_genes), len(all_up_genes) , len(all_down_genes)                      "
   ]
  },
  {
   "cell_type": "code",
   "execution_count": 14,
   "id": "a539a375-4f14-469f-b397-6633e56f9fd5",
   "metadata": {
    "execution": {
     "iopub.execute_input": "2024-09-23T22:02:31.079053Z",
     "iopub.status.busy": "2024-09-23T22:02:31.078649Z",
     "iopub.status.idle": "2024-09-23T22:02:31.083453Z",
     "shell.execute_reply": "2024-09-23T22:02:31.082975Z",
     "shell.execute_reply.started": "2024-09-23T22:02:31.079027Z"
    },
    "tags": []
   },
   "outputs": [
    {
     "data": {
      "text/plain": [
       "True"
      ]
     },
     "execution_count": 14,
     "metadata": {},
     "output_type": "execute_result"
    }
   ],
   "source": [
    "'Suv39h2' in all_down_genes"
   ]
  },
  {
   "cell_type": "code",
   "execution_count": null,
   "id": "d491d5fa-21c8-4513-837f-14cd07c19d5e",
   "metadata": {},
   "outputs": [],
   "source": []
  },
  {
   "cell_type": "code",
   "execution_count": null,
   "id": "c1703462-b0a2-488f-ad3e-058e4794fc6a",
   "metadata": {},
   "outputs": [],
   "source": []
  },
  {
   "cell_type": "code",
   "execution_count": null,
   "id": "29bba951-2860-4a43-8616-afc8aa5950d0",
   "metadata": {},
   "outputs": [],
   "source": []
  },
  {
   "cell_type": "code",
   "execution_count": 61,
   "id": "6b768c10-dbec-4cd3-8708-7177d4baa056",
   "metadata": {
    "execution": {
     "iopub.execute_input": "2024-07-02T00:00:35.127405Z",
     "iopub.status.busy": "2024-07-02T00:00:35.127110Z",
     "iopub.status.idle": "2024-07-02T00:00:35.131084Z",
     "shell.execute_reply": "2024-07-02T00:00:35.130624Z",
     "shell.execute_reply.started": "2024-07-02T00:00:35.127383Z"
    },
    "tags": []
   },
   "outputs": [],
   "source": [
    "gene_sets = [\n",
    "              'KEGG_2019_Mouse',\n",
    "              'GO_Biological_Process_2023', \n",
    "              'GO_Molecular_Function_2023',\n",
    "              'WikiPathways_2019_Mouse',\n",
    "              'Reactome_2022'\n",
    "               ]"
   ]
  },
  {
   "cell_type": "code",
   "execution_count": 62,
   "id": "99265d2d-38c6-4ed5-84fa-7ecbcc2c98cf",
   "metadata": {
    "execution": {
     "iopub.execute_input": "2024-07-02T00:00:40.761647Z",
     "iopub.status.busy": "2024-07-02T00:00:40.761076Z",
     "iopub.status.idle": "2024-07-02T00:01:32.004434Z",
     "shell.execute_reply": "2024-07-02T00:01:32.003639Z",
     "shell.execute_reply.started": "2024-07-02T00:00:40.761596Z"
    },
    "tags": []
   },
   "outputs": [],
   "source": [
    "go_enrichment = gp.enrichr(gene_list=all_down_genes,\n",
    "                           gene_sets=gene_sets,\n",
    "                           organism='mouse', # don't forget to set organism\n",
    "                           #outdir='test/go', # set the output directory\n",
    "                           no_plot=False, # do not draw a plot\n",
    "                           cutoff=0.01) # set a significance cutoff\n",
    "result_df= go_enrichment.results.copy()\n",
    "result_df.to_csv(f'GO_analysis/{ct_type}.Down.enrichr.result.csv')"
   ]
  },
  {
   "cell_type": "code",
   "execution_count": 63,
   "id": "d1a7702d-e1b5-4801-b0df-8d79e23dda4f",
   "metadata": {
    "execution": {
     "iopub.execute_input": "2024-07-02T00:01:32.178527Z",
     "iopub.status.busy": "2024-07-02T00:01:32.178321Z",
     "iopub.status.idle": "2024-07-02T00:01:55.696042Z",
     "shell.execute_reply": "2024-07-02T00:01:55.695145Z",
     "shell.execute_reply.started": "2024-07-02T00:01:32.178506Z"
    },
    "tags": []
   },
   "outputs": [],
   "source": [
    "go_enrichment = gp.enrichr(gene_list=all_up_genes,\n",
    "                           gene_sets=gene_sets,\n",
    "                           organism='mouse', # don't forget to set organism\n",
    "                           #outdir='test/go', # set the output directory\n",
    "                           no_plot=False, # do not draw a plot\n",
    "                           cutoff=0.01) # set a significance cutoff\n",
    "result_df= go_enrichment.results.copy()\n",
    "result_df.to_csv(f'GO_analysis/{ct_type}.Up.enrichr.result.csv')"
   ]
  },
  {
   "cell_type": "code",
   "execution_count": 64,
   "id": "9c52e2be-d253-423a-a25b-b04491004212",
   "metadata": {
    "execution": {
     "iopub.execute_input": "2024-07-02T00:01:56.877514Z",
     "iopub.status.busy": "2024-07-02T00:01:56.877301Z",
     "iopub.status.idle": "2024-07-02T00:02:53.696777Z",
     "shell.execute_reply": "2024-07-02T00:02:53.696038Z",
     "shell.execute_reply.started": "2024-07-02T00:01:56.877493Z"
    },
    "tags": []
   },
   "outputs": [],
   "source": [
    "go_enrichment = gp.enrichr(gene_list=all_genes,\n",
    "                           gene_sets=gene_sets,\n",
    "                           organism='mouse', # don't forget to set organism\n",
    "                           #outdir='test/go', # set the output directory\n",
    "                           no_plot=False, # do not draw a plot\n",
    "                           cutoff=0.01) # set a significance cutoff\n",
    "result_df= go_enrichment.results.copy()\n",
    "result_df.to_csv(f'GO_analysis/{ct_type}.All.enrichr.result.csv')"
   ]
  },
  {
   "cell_type": "markdown",
   "id": "afd2bf57-f98b-4289-8a06-076b7f45357c",
   "metadata": {
    "tags": []
   },
   "source": [
    "## plot"
   ]
  },
  {
   "cell_type": "code",
   "execution_count": 3,
   "id": "d78ce3ca-809e-4711-a4c0-ed64d76b24a3",
   "metadata": {
    "execution": {
     "iopub.execute_input": "2024-07-02T19:01:42.754926Z",
     "iopub.status.busy": "2024-07-02T19:01:42.754672Z",
     "iopub.status.idle": "2024-07-02T19:01:42.772343Z",
     "shell.execute_reply": "2024-07-02T19:01:42.771412Z",
     "shell.execute_reply.started": "2024-07-02T19:01:42.754901Z"
    },
    "tags": []
   },
   "outputs": [
    {
     "data": {
      "text/plain": [
       "['GO_analysis/Neuron.Up.enrichr.result.csv',\n",
       " 'GO_analysis/Neuron.All.enrichr.result.csv',\n",
       " 'GO_analysis/Neuron.Down.enrichr.result.csv',\n",
       " 'GO_analysis/NN.Down.enrichr.result.csv',\n",
       " 'GO_analysis/NN.Up.enrichr.result.csv',\n",
       " 'GO_analysis/NN.All.enrichr.result.csv',\n",
       " 'GO_analysis/All_CellType.Down.enrichr.result.csv',\n",
       " 'GO_analysis/All_CellType.Up.enrichr.result.csv',\n",
       " 'GO_analysis/All_CellType.All.enrichr.result.csv']"
      ]
     },
     "execution_count": 3,
     "metadata": {},
     "output_type": "execute_result"
    }
   ],
   "source": [
    "import glob\n",
    "all_files = glob.glob(f'GO_analysis/*.enrichr.result.csv')\n",
    "all_files"
   ]
  },
  {
   "cell_type": "code",
   "execution_count": 6,
   "id": "1374191e-7f87-44b7-9606-41e889fc9363",
   "metadata": {
    "execution": {
     "iopub.execute_input": "2024-07-02T19:01:45.162726Z",
     "iopub.status.busy": "2024-07-02T19:01:45.162041Z",
     "iopub.status.idle": "2024-07-02T19:01:45.171465Z",
     "shell.execute_reply": "2024-07-02T19:01:45.170282Z",
     "shell.execute_reply.started": "2024-07-02T19:01:45.162673Z"
    },
    "tags": []
   },
   "outputs": [
    {
     "data": {
      "text/plain": [
       "'All_CellType.Down'"
      ]
     },
     "execution_count": 6,
     "metadata": {},
     "output_type": "execute_result"
    }
   ],
   "source": [
    "fp = 'GO_analysis/All_CellType.Down.enrichr.result.csv'\n",
    "group = fp.split('/')[-1].split('.enrichr')[0]\n",
    "group"
   ]
  },
  {
   "cell_type": "code",
   "execution_count": 69,
   "id": "ad7a9929-a8d3-4c66-9174-7181c43255a5",
   "metadata": {
    "execution": {
     "iopub.execute_input": "2024-07-02T19:22:16.229996Z",
     "iopub.status.busy": "2024-07-02T19:22:16.229400Z",
     "iopub.status.idle": "2024-07-02T19:22:16.323206Z",
     "shell.execute_reply": "2024-07-02T19:22:16.322482Z",
     "shell.execute_reply.started": "2024-07-02T19:22:16.229941Z"
    },
    "tags": []
   },
   "outputs": [
    {
     "data": {
      "text/html": [
       "<div>\n",
       "<style scoped>\n",
       "    .dataframe tbody tr th:only-of-type {\n",
       "        vertical-align: middle;\n",
       "    }\n",
       "\n",
       "    .dataframe tbody tr th {\n",
       "        vertical-align: top;\n",
       "    }\n",
       "\n",
       "    .dataframe thead th {\n",
       "        text-align: right;\n",
       "    }\n",
       "</style>\n",
       "<table border=\"1\" class=\"dataframe\">\n",
       "  <thead>\n",
       "    <tr style=\"text-align: right;\">\n",
       "      <th></th>\n",
       "      <th>Gene_set</th>\n",
       "      <th>Term</th>\n",
       "      <th>Overlap</th>\n",
       "      <th>P-value</th>\n",
       "      <th>Adjusted P-value</th>\n",
       "      <th>Old P-value</th>\n",
       "      <th>Old Adjusted P-value</th>\n",
       "      <th>Odds Ratio</th>\n",
       "      <th>Combined Score</th>\n",
       "      <th>Genes</th>\n",
       "      <th>gene_num</th>\n",
       "    </tr>\n",
       "  </thead>\n",
       "  <tbody>\n",
       "    <tr>\n",
       "      <th>5065</th>\n",
       "      <td>GO_Molecular_Function_2023</td>\n",
       "      <td>RNA Binding (GO:0003723)</td>\n",
       "      <td>509/1411</td>\n",
       "      <td>8.971776e-49</td>\n",
       "      <td>8.774397e-46</td>\n",
       "      <td>0</td>\n",
       "      <td>0</td>\n",
       "      <td>2.448278</td>\n",
       "      <td>270.859312</td>\n",
       "      <td>RPL4;POP5;RPL5;RAMAC;RPL30;POP7;RPL3;TFRC;RPL3...</td>\n",
       "      <td>1411</td>\n",
       "    </tr>\n",
       "    <tr>\n",
       "      <th>296</th>\n",
       "      <td>GO_Biological_Process_2023</td>\n",
       "      <td>Cytoplasmic Translation (GO:0002181)</td>\n",
       "      <td>83/93</td>\n",
       "      <td>3.752725e-47</td>\n",
       "      <td>1.789675e-43</td>\n",
       "      <td>0</td>\n",
       "      <td>0</td>\n",
       "      <td>33.979452</td>\n",
       "      <td>3632.370064</td>\n",
       "      <td>EIF4A2;RPL4;EIF4A1;RPL5;RPL30;RPL3;RPL32;RPL31...</td>\n",
       "      <td>93</td>\n",
       "    </tr>\n",
       "    <tr>\n",
       "      <th>6202</th>\n",
       "      <td>Reactome_2022</td>\n",
       "      <td>Eukaryotic Translation Elongation R-HSA-156842</td>\n",
       "      <td>80/90</td>\n",
       "      <td>3.513300e-45</td>\n",
       "      <td>5.782891e-42</td>\n",
       "      <td>0</td>\n",
       "      <td>0</td>\n",
       "      <td>32.726157</td>\n",
       "      <td>3349.842016</td>\n",
       "      <td>RPL4;RPL5;RPL30;RPL3;RPL32;RPL31;RPL34;RPLP1;R...</td>\n",
       "      <td>90</td>\n",
       "    </tr>\n",
       "    <tr>\n",
       "      <th>6203</th>\n",
       "      <td>Reactome_2022</td>\n",
       "      <td>Eukaryotic Translation Termination R-HSA-72764</td>\n",
       "      <td>79/90</td>\n",
       "      <td>1.049024e-43</td>\n",
       "      <td>7.946447e-41</td>\n",
       "      <td>0</td>\n",
       "      <td>0</td>\n",
       "      <td>29.369818</td>\n",
       "      <td>2906.534049</td>\n",
       "      <td>N6AMT1;RPL4;RPL5;RPL30;RPL3;RPL32;RPL31;RPL34;...</td>\n",
       "      <td>90</td>\n",
       "    </tr>\n",
       "    <tr>\n",
       "      <th>6204</th>\n",
       "      <td>Reactome_2022</td>\n",
       "      <td>Nonsense Mediated Decay (NMD) Independent Of E...</td>\n",
       "      <td>80/92</td>\n",
       "      <td>1.448320e-43</td>\n",
       "      <td>7.946447e-41</td>\n",
       "      <td>0</td>\n",
       "      <td>0</td>\n",
       "      <td>27.268388</td>\n",
       "      <td>2689.774410</td>\n",
       "      <td>RPL4;RPL5;RPL30;RPL3;RPL32;RPL31;RPL34;RPLP1;R...</td>\n",
       "      <td>92</td>\n",
       "    </tr>\n",
       "  </tbody>\n",
       "</table>\n",
       "</div>"
      ],
      "text/plain": [
       "                        Gene_set  \\\n",
       "5065  GO_Molecular_Function_2023   \n",
       "296   GO_Biological_Process_2023   \n",
       "6202               Reactome_2022   \n",
       "6203               Reactome_2022   \n",
       "6204               Reactome_2022   \n",
       "\n",
       "                                                   Term   Overlap  \\\n",
       "5065                           RNA Binding (GO:0003723)  509/1411   \n",
       "296                Cytoplasmic Translation (GO:0002181)     83/93   \n",
       "6202     Eukaryotic Translation Elongation R-HSA-156842     80/90   \n",
       "6203     Eukaryotic Translation Termination R-HSA-72764     79/90   \n",
       "6204  Nonsense Mediated Decay (NMD) Independent Of E...     80/92   \n",
       "\n",
       "           P-value  Adjusted P-value  Old P-value  Old Adjusted P-value  \\\n",
       "5065  8.971776e-49      8.774397e-46            0                     0   \n",
       "296   3.752725e-47      1.789675e-43            0                     0   \n",
       "6202  3.513300e-45      5.782891e-42            0                     0   \n",
       "6203  1.049024e-43      7.946447e-41            0                     0   \n",
       "6204  1.448320e-43      7.946447e-41            0                     0   \n",
       "\n",
       "      Odds Ratio  Combined Score  \\\n",
       "5065    2.448278      270.859312   \n",
       "296    33.979452     3632.370064   \n",
       "6202   32.726157     3349.842016   \n",
       "6203   29.369818     2906.534049   \n",
       "6204   27.268388     2689.774410   \n",
       "\n",
       "                                                  Genes  gene_num  \n",
       "5065  RPL4;POP5;RPL5;RAMAC;RPL30;POP7;RPL3;TFRC;RPL3...      1411  \n",
       "296   EIF4A2;RPL4;EIF4A1;RPL5;RPL30;RPL3;RPL32;RPL31...        93  \n",
       "6202  RPL4;RPL5;RPL30;RPL3;RPL32;RPL31;RPL34;RPLP1;R...        90  \n",
       "6203  N6AMT1;RPL4;RPL5;RPL30;RPL3;RPL32;RPL31;RPL34;...        90  \n",
       "6204  RPL4;RPL5;RPL30;RPL3;RPL32;RPL31;RPL34;RPLP1;R...        92  "
      ]
     },
     "execution_count": 69,
     "metadata": {},
     "output_type": "execute_result"
    }
   ],
   "source": [
    "result_df = pd.read_csv(fp, index_col =0)\n",
    "result_df['gene_num'] = result_df['Overlap'].apply(lambda x: int(x.split('/')[-1]))\n",
    "result_df = result_df[(result_df['Adjusted P-value']  < 1e-3) & (result_df['gene_num']  > 5)]\n",
    "result_df.sort_values('Adjusted P-value').head()"
   ]
  },
  {
   "cell_type": "code",
   "execution_count": 64,
   "id": "c4551e4f-1e0c-4071-8c4e-40aef891a019",
   "metadata": {
    "execution": {
     "iopub.execute_input": "2024-07-02T19:22:00.357660Z",
     "iopub.status.busy": "2024-07-02T19:22:00.357197Z",
     "iopub.status.idle": "2024-07-02T19:22:00.362622Z",
     "shell.execute_reply": "2024-07-02T19:22:00.361495Z",
     "shell.execute_reply.started": "2024-07-02T19:22:00.357629Z"
    },
    "tags": []
   },
   "outputs": [],
   "source": [
    "#result_df['Gene_set'].value_counts()"
   ]
  },
  {
   "cell_type": "code",
   "execution_count": 65,
   "id": "9f9ae6b2-5618-46d4-8247-9dd13af046a6",
   "metadata": {
    "execution": {
     "iopub.execute_input": "2024-07-02T19:22:00.632700Z",
     "iopub.status.busy": "2024-07-02T19:22:00.631858Z",
     "iopub.status.idle": "2024-07-02T19:22:00.638772Z",
     "shell.execute_reply": "2024-07-02T19:22:00.637412Z",
     "shell.execute_reply.started": "2024-07-02T19:22:00.632646Z"
    },
    "tags": []
   },
   "outputs": [],
   "source": [
    "gene_sets = [\n",
    "              'KEGG_2019_Mouse',\n",
    "              'GO_Biological_Process_2023', \n",
    "              'GO_Molecular_Function_2023',\n",
    "              'WikiPathways_2019_Mouse',\n",
    "              'Reactome_2022'\n",
    "               ]"
   ]
  },
  {
   "cell_type": "code",
   "execution_count": 70,
   "id": "7f0ce510-af2e-46f0-bbd6-ece79dfbe877",
   "metadata": {
    "execution": {
     "iopub.execute_input": "2024-07-02T19:22:19.776575Z",
     "iopub.status.busy": "2024-07-02T19:22:19.775960Z",
     "iopub.status.idle": "2024-07-02T19:22:19.784409Z",
     "shell.execute_reply": "2024-07-02T19:22:19.783245Z",
     "shell.execute_reply.started": "2024-07-02T19:22:19.776520Z"
    },
    "tags": []
   },
   "outputs": [],
   "source": [
    "result_df = result_df[result_df['Gene_set'].isin(['GO_Biological_Process_2023', 'GO_Molecular_Function_2023'])]"
   ]
  },
  {
   "cell_type": "code",
   "execution_count": 11,
   "id": "18cc759b-d952-4a81-871e-b6541c7dcd53",
   "metadata": {
    "execution": {
     "iopub.execute_input": "2024-07-02T19:01:50.144842Z",
     "iopub.status.busy": "2024-07-02T19:01:50.144201Z",
     "iopub.status.idle": "2024-07-02T19:01:50.151258Z",
     "shell.execute_reply": "2024-07-02T19:01:50.149999Z",
     "shell.execute_reply.started": "2024-07-02T19:01:50.144792Z"
    },
    "tags": []
   },
   "outputs": [],
   "source": [
    "all_terms = result_df['Term'].unique()\n",
    "filtered_terms = filter_terms(all_terms)"
   ]
  },
  {
   "cell_type": "code",
   "execution_count": 13,
   "id": "9ae41d91-1e73-4ed8-b5a7-d058bccef595",
   "metadata": {
    "execution": {
     "iopub.execute_input": "2024-07-02T19:01:51.483889Z",
     "iopub.status.busy": "2024-07-02T19:01:51.483249Z",
     "iopub.status.idle": "2024-07-02T19:01:51.545734Z",
     "shell.execute_reply": "2024-07-02T19:01:51.544478Z",
     "shell.execute_reply.started": "2024-07-02T19:01:51.483840Z"
    },
    "tags": []
   },
   "outputs": [],
   "source": [
    "to_plot = result_df[result_df['Term'].isin(filtered_terms)]\n",
    "to_plot = to_plot[['Genes','Term']].copy()\n",
    "to_plot = to_plot.assign(Genes=to_plot.Genes.str.split(';')).explode('Genes').reset_index(drop=True)"
   ]
  },
  {
   "cell_type": "code",
   "execution_count": 14,
   "id": "f41a2eee-c369-4412-a166-a93df54f7479",
   "metadata": {
    "execution": {
     "iopub.execute_input": "2024-07-02T19:01:52.634332Z",
     "iopub.status.busy": "2024-07-02T19:01:52.633673Z",
     "iopub.status.idle": "2024-07-02T19:01:52.676644Z",
     "shell.execute_reply": "2024-07-02T19:01:52.675436Z",
     "shell.execute_reply.started": "2024-07-02T19:01:52.634268Z"
    },
    "tags": []
   },
   "outputs": [],
   "source": [
    "heatmap_data = to_plot.pivot_table(index='Genes', columns='Term', aggfunc='size', fill_value=0)\n",
    "heatmap_data = heatmap_data.T"
   ]
  },
  {
   "cell_type": "code",
   "execution_count": 15,
   "id": "17336e1c-8191-433c-9747-b6102b3e5a71",
   "metadata": {
    "execution": {
     "iopub.execute_input": "2024-07-02T19:01:52.891073Z",
     "iopub.status.busy": "2024-07-02T19:01:52.890458Z",
     "iopub.status.idle": "2024-07-02T19:01:52.911466Z",
     "shell.execute_reply": "2024-07-02T19:01:52.910468Z",
     "shell.execute_reply.started": "2024-07-02T19:01:52.891019Z"
    },
    "tags": []
   },
   "outputs": [
    {
     "data": {
      "text/html": [
       "<div>\n",
       "<style scoped>\n",
       "    .dataframe tbody tr th:only-of-type {\n",
       "        vertical-align: middle;\n",
       "    }\n",
       "\n",
       "    .dataframe tbody tr th {\n",
       "        vertical-align: top;\n",
       "    }\n",
       "\n",
       "    .dataframe thead th {\n",
       "        text-align: right;\n",
       "    }\n",
       "</style>\n",
       "<table border=\"1\" class=\"dataframe\">\n",
       "  <thead>\n",
       "    <tr style=\"text-align: right;\">\n",
       "      <th></th>\n",
       "      <th>Term</th>\n",
       "    </tr>\n",
       "    <tr>\n",
       "      <th>Term</th>\n",
       "      <th></th>\n",
       "    </tr>\n",
       "  </thead>\n",
       "  <tbody>\n",
       "    <tr>\n",
       "      <th>Aerobic Electron Transport Chain (GO:0019646)</th>\n",
       "      <td>Aerobic Electron Transport Chain</td>\n",
       "    </tr>\n",
       "    <tr>\n",
       "      <th>Autophagosome Assembly (GO:0000045)</th>\n",
       "      <td>Autophagosome Assembly</td>\n",
       "    </tr>\n",
       "    <tr>\n",
       "      <th>Axon Development (GO:0061564)</th>\n",
       "      <td>Axon Development</td>\n",
       "    </tr>\n",
       "    <tr>\n",
       "      <th>Axonogenesis (GO:0007409)</th>\n",
       "      <td>Axonogenesis</td>\n",
       "    </tr>\n",
       "    <tr>\n",
       "      <th>Cadherin Binding (GO:0045296)</th>\n",
       "      <td>Cadherin Binding</td>\n",
       "    </tr>\n",
       "  </tbody>\n",
       "</table>\n",
       "</div>"
      ],
      "text/plain": [
       "                                                                            Term\n",
       "Term                                                                            \n",
       "Aerobic Electron Transport Chain (GO:0019646)  Aerobic Electron Transport Chain \n",
       "Autophagosome Assembly (GO:0000045)                      Autophagosome Assembly \n",
       "Axon Development (GO:0061564)                                  Axon Development \n",
       "Axonogenesis (GO:0007409)                                          Axonogenesis \n",
       "Cadherin Binding (GO:0045296)                                  Cadherin Binding "
      ]
     },
     "execution_count": 15,
     "metadata": {},
     "output_type": "execute_result"
    }
   ],
   "source": [
    "row_annot = pd.DataFrame(heatmap_data.index, columns=['Term'], index = heatmap_data.index)\n",
    "row_annot['Term'] = row_annot['Term'].apply(lambda x: x.split('(')[0])\n",
    "row_annot['Term'] = row_annot['Term'].apply(lambda x: x.split('R-HSA')[0])\n",
    "row_annot.head()"
   ]
  },
  {
   "cell_type": "code",
   "execution_count": 16,
   "id": "7f798693-c7f9-47f5-8421-64ecbe62fd5c",
   "metadata": {
    "execution": {
     "iopub.execute_input": "2024-07-02T19:01:54.713472Z",
     "iopub.status.busy": "2024-07-02T19:01:54.712830Z",
     "iopub.status.idle": "2024-07-02T19:01:54.723753Z",
     "shell.execute_reply": "2024-07-02T19:01:54.722555Z",
     "shell.execute_reply.started": "2024-07-02T19:01:54.713417Z"
    },
    "tags": []
   },
   "outputs": [],
   "source": [
    "row_ha = pch.HeatmapAnnotation(label=pch.anno_label(row_annot.Term, merge=True,rotation=0, colors = 'black' ),\n",
    "                                #Motif=pch.anno_simple(row_annot.Motif,add_text=False,legend=False,height = 6), \n",
    "                               axis=0,\n",
    "                               legend=False,legend_gap=5,hgap=0.5, label_kws=dict(visible=False))"
   ]
  },
  {
   "cell_type": "code",
   "execution_count": 17,
   "id": "f3f18aee-8d4f-4f4a-b29f-38dd90bb7612",
   "metadata": {
    "execution": {
     "iopub.execute_input": "2024-07-02T19:01:54.920105Z",
     "iopub.status.busy": "2024-07-02T19:01:54.919067Z",
     "iopub.status.idle": "2024-07-02T19:01:54.925088Z",
     "shell.execute_reply": "2024-07-02T19:01:54.923933Z",
     "shell.execute_reply.started": "2024-07-02T19:01:54.920051Z"
    },
    "tags": []
   },
   "outputs": [],
   "source": [
    "# heatmap_data.index = heatmap_data.index.map(lambda x: x.split('(')[0])\n",
    "# heatmap_data.index = heatmap_data.index.map(lambda x: x.split('R-HSA')[0])"
   ]
  },
  {
   "cell_type": "code",
   "execution_count": 18,
   "id": "fb993148-0111-40d8-b413-245b5ea892f5",
   "metadata": {
    "execution": {
     "iopub.execute_input": "2024-07-02T19:01:56.318211Z",
     "iopub.status.busy": "2024-07-02T19:01:56.317538Z",
     "iopub.status.idle": "2024-07-02T19:01:56.326009Z",
     "shell.execute_reply": "2024-07-02T19:01:56.324886Z",
     "shell.execute_reply.started": "2024-07-02T19:01:56.318157Z"
    },
    "tags": []
   },
   "outputs": [
    {
     "data": {
      "text/plain": [
       "(36, 1184)"
      ]
     },
     "execution_count": 18,
     "metadata": {},
     "output_type": "execute_result"
    }
   ],
   "source": [
    "heatmap_data.shape"
   ]
  },
  {
   "cell_type": "code",
   "execution_count": 19,
   "id": "d3eab68b-cfd4-4e27-9ae7-1edb7063f9cb",
   "metadata": {
    "execution": {
     "iopub.execute_input": "2024-07-02T19:01:59.512860Z",
     "iopub.status.busy": "2024-07-02T19:01:59.512606Z",
     "iopub.status.idle": "2024-07-02T19:02:01.423118Z",
     "shell.execute_reply": "2024-07-02T19:02:01.422457Z",
     "shell.execute_reply.started": "2024-07-02T19:01:59.512837Z"
    },
    "tags": []
   },
   "outputs": [
    {
     "name": "stdout",
     "output_type": "stream",
     "text": [
      "Starting plotting..\n",
      "Starting calculating row orders..\n",
      "Reordering rows..\n",
      "Starting calculating col orders..\n",
      "Reordering cols..\n",
      "Plotting matrix..\n",
      "Starting plotting HeatmapAnnotations\n",
      "Collecting legends..\n",
      "Collecting annotation legends..\n",
      "Plotting legends..\n",
      "Estimated legend width: 7.5 mm\n"
     ]
    },
    {
     "data": {
      "image/png": "[encoded data removed]",
      "text/plain": [
       "<Figure size 576x432 with 10 Axes>"
      ]
     },
     "metadata": {
      "needs_background": "light"
     },
     "output_type": "display_data"
    }
   ],
   "source": [
    "plt.figure(figsize=(8,6))\n",
    "cm = ClusterMapPlotter(\n",
    "        data=heatmap_data, \n",
    "        #show_rownames=True,\n",
    "        show_colnames=True,\n",
    "        left_annotation=row_ha,\n",
    "        vmin = 0, vmax = 1,\n",
    "        col_cluster=True,row_cluster=True,\n",
    "        label = 'xx',z_score = False,\n",
    "        cmap='Reds',rasterized=True)\n",
    "#plt.suptitle(f\"{group}\")\n",
    "#plt.savefig(f\"figure/{group}.result.PycomplexClustertmap.pdf\", bbox_inches='tight')\n",
    "plt.show()"
   ]
  },
  {
   "cell_type": "markdown",
   "id": "4e562a40-ada7-4f93-b53e-9056e4b65dd7",
   "metadata": {},
   "source": [
    "## make barplot"
   ]
  },
  {
   "cell_type": "code",
   "execution_count": 74,
   "id": "a4b47c17-b492-4aba-af81-ef9823fc8fec",
   "metadata": {
    "execution": {
     "iopub.execute_input": "2024-07-02T19:23:59.297289Z",
     "iopub.status.busy": "2024-07-02T19:23:59.296516Z",
     "iopub.status.idle": "2024-07-02T19:23:59.304560Z",
     "shell.execute_reply": "2024-07-02T19:23:59.303390Z",
     "shell.execute_reply.started": "2024-07-02T19:23:59.297227Z"
    },
    "tags": []
   },
   "outputs": [],
   "source": [
    "plot_term = ['mRNA Binding (GO:0003729)',\n",
    "             'Mitochondrial ATP Synthesis Coupled Electron Transport (GO:0042775)',\n",
    "             'Axonogenesis (GO:0007409)',\n",
    "             'Cadherin Binding (GO:0045296)',\n",
    "             'Ubiquitin-Dependent Protein Catabolic Process (GO:0006511)',\n",
    "             'mRNA Splicing, Via Spliceosome (GO:0000398)',\n",
    "             'Ribonucleoprotein Complex Biogenesis (GO:0022613)',\n",
    "             'Chromatin Remodeling (GO:0006338)']"
   ]
  },
  {
   "cell_type": "code",
   "execution_count": 75,
   "id": "6275a164-05cd-4a60-99a0-199941f7acf5",
   "metadata": {
    "execution": {
     "iopub.execute_input": "2024-07-02T19:23:59.625379Z",
     "iopub.status.busy": "2024-07-02T19:23:59.624682Z",
     "iopub.status.idle": "2024-07-02T19:23:59.635254Z",
     "shell.execute_reply": "2024-07-02T19:23:59.634098Z",
     "shell.execute_reply.started": "2024-07-02T19:23:59.625305Z"
    },
    "tags": []
   },
   "outputs": [],
   "source": [
    "for_bar_plot = result_df[result_df['Term'].isin(plot_term)]\n",
    "for_bar_plot = for_bar_plot[['Term','Adjusted P-value','Genes']]"
   ]
  },
  {
   "cell_type": "code",
   "execution_count": 76,
   "id": "f9d9a62e-28d5-4f4f-8f49-f6d2b3562554",
   "metadata": {
    "execution": {
     "iopub.execute_input": "2024-07-02T19:24:00.373056Z",
     "iopub.status.busy": "2024-07-02T19:24:00.372376Z",
     "iopub.status.idle": "2024-07-02T19:24:00.406572Z",
     "shell.execute_reply": "2024-07-02T19:24:00.405586Z",
     "shell.execute_reply.started": "2024-07-02T19:24:00.372998Z"
    },
    "tags": []
   },
   "outputs": [
    {
     "data": {
      "text/html": [
       "<div>\n",
       "<style scoped>\n",
       "    .dataframe tbody tr th:only-of-type {\n",
       "        vertical-align: middle;\n",
       "    }\n",
       "\n",
       "    .dataframe tbody tr th {\n",
       "        vertical-align: top;\n",
       "    }\n",
       "\n",
       "    .dataframe thead th {\n",
       "        text-align: right;\n",
       "    }\n",
       "</style>\n",
       "<table border=\"1\" class=\"dataframe\">\n",
       "  <thead>\n",
       "    <tr style=\"text-align: right;\">\n",
       "      <th></th>\n",
       "      <th>Gene_set</th>\n",
       "      <th>Term</th>\n",
       "      <th>Overlap</th>\n",
       "      <th>P-value</th>\n",
       "      <th>Adjusted P-value</th>\n",
       "      <th>Old P-value</th>\n",
       "      <th>Old Adjusted P-value</th>\n",
       "      <th>Odds Ratio</th>\n",
       "      <th>Combined Score</th>\n",
       "      <th>Genes</th>\n",
       "      <th>gene_num</th>\n",
       "    </tr>\n",
       "  </thead>\n",
       "  <tbody>\n",
       "    <tr>\n",
       "      <th>5066</th>\n",
       "      <td>GO_Molecular_Function_2023</td>\n",
       "      <td>mRNA Binding (GO:0003729)</td>\n",
       "      <td>108/282</td>\n",
       "      <td>6.491684e-13</td>\n",
       "      <td>2.909048e-10</td>\n",
       "      <td>0</td>\n",
       "      <td>0</td>\n",
       "      <td>2.531193</td>\n",
       "      <td>71.033070</td>\n",
       "      <td>EIF4A1;RPL5;FMR1;HDLBP;HNRNPU;RPL7;RPS14;EIF4E...</td>\n",
       "      <td>282</td>\n",
       "    </tr>\n",
       "    <tr>\n",
       "      <th>304</th>\n",
       "      <td>GO_Biological_Process_2023</td>\n",
       "      <td>protein-RNA Complex Assembly (GO:0022618)</td>\n",
       "      <td>68/150</td>\n",
       "      <td>1.638300e-12</td>\n",
       "      <td>8.681172e-10</td>\n",
       "      <td>0</td>\n",
       "      <td>0</td>\n",
       "      <td>3.366749</td>\n",
       "      <td>91.364684</td>\n",
       "      <td>RPL5;RAMAC;HSP90AB1;CELF1;CELF3;RPLP0;CELF4;CE...</td>\n",
       "      <td>150</td>\n",
       "    </tr>\n",
       "    <tr>\n",
       "      <th>305</th>\n",
       "      <td>GO_Biological_Process_2023</td>\n",
       "      <td>Axonogenesis (GO:0007409)</td>\n",
       "      <td>79/188</td>\n",
       "      <td>3.525858e-12</td>\n",
       "      <td>1.681482e-09</td>\n",
       "      <td>0</td>\n",
       "      <td>0</td>\n",
       "      <td>2.945770</td>\n",
       "      <td>77.682604</td>\n",
       "      <td>CYFIP2;EPHB6;SEMA5A;ROBO2;SEMA5B;ROBO3;RAB3A;H...</td>\n",
       "      <td>188</td>\n",
       "    </tr>\n",
       "    <tr>\n",
       "      <th>306</th>\n",
       "      <td>GO_Biological_Process_2023</td>\n",
       "      <td>Aerobic Respiration (GO:0009060)</td>\n",
       "      <td>34/59</td>\n",
       "      <td>2.076199e-10</td>\n",
       "      <td>9.001267e-08</td>\n",
       "      <td>0</td>\n",
       "      <td>0</td>\n",
       "      <td>5.493616</td>\n",
       "      <td>122.481892</td>\n",
       "      <td>NDUFB9;NDUFA13;NDUFB8;NDUFB7;NDUFA11;NDUFB10;N...</td>\n",
       "      <td>59</td>\n",
       "    </tr>\n",
       "    <tr>\n",
       "      <th>307</th>\n",
       "      <td>GO_Biological_Process_2023</td>\n",
       "      <td>Mitochondrial Electron Transport, NADH To Ubiq...</td>\n",
       "      <td>24/34</td>\n",
       "      <td>2.386305e-10</td>\n",
       "      <td>9.483574e-08</td>\n",
       "      <td>0</td>\n",
       "      <td>0</td>\n",
       "      <td>9.679254</td>\n",
       "      <td>214.454562</td>\n",
       "      <td>NDUFB9;NDUFA8;NDUFB8;NDUFA7;NDUFB7;NDUFA6;NDUF...</td>\n",
       "      <td>34</td>\n",
       "    </tr>\n",
       "    <tr>\n",
       "      <th>308</th>\n",
       "      <td>GO_Biological_Process_2023</td>\n",
       "      <td>Regulation Of mRNA Splicing, Via Spliceosome (...</td>\n",
       "      <td>46/94</td>\n",
       "      <td>2.754011e-10</td>\n",
       "      <td>1.010298e-07</td>\n",
       "      <td>0</td>\n",
       "      <td>0</td>\n",
       "      <td>3.877302</td>\n",
       "      <td>85.350255</td>\n",
       "      <td>KHDRBS1;RBM25;DDX5;KHDRBS3;RBM8A;CELF1;YTHDC1;...</td>\n",
       "      <td>94</td>\n",
       "    </tr>\n",
       "    <tr>\n",
       "      <th>309</th>\n",
       "      <td>GO_Biological_Process_2023</td>\n",
       "      <td>Protein Modification Process (GO:0036211)</td>\n",
       "      <td>210/711</td>\n",
       "      <td>3.497596e-10</td>\n",
       "      <td>1.191431e-07</td>\n",
       "      <td>0</td>\n",
       "      <td>0</td>\n",
       "      <td>1.719217</td>\n",
       "      <td>37.433843</td>\n",
       "      <td>EPHB6;GMFB;MAML1;PPP2R2A;UBE2L3;GOLGA2;PPP2R1A...</td>\n",
       "      <td>711</td>\n",
       "    </tr>\n",
       "    <tr>\n",
       "      <th>5068</th>\n",
       "      <td>GO_Molecular_Function_2023</td>\n",
       "      <td>NADH Dehydrogenase (Ubiquinone) Activity (GO:0...</td>\n",
       "      <td>23/33</td>\n",
       "      <td>8.514303e-10</td>\n",
       "      <td>2.081747e-07</td>\n",
       "      <td>0</td>\n",
       "      <td>0</td>\n",
       "      <td>9.273614</td>\n",
       "      <td>193.671112</td>\n",
       "      <td>NDUFB9;NDUFA8;NDUFB8;NDUFA7;NDUFB7;NDUFA6;NDUF...</td>\n",
       "      <td>33</td>\n",
       "    </tr>\n",
       "    <tr>\n",
       "      <th>311</th>\n",
       "      <td>GO_Biological_Process_2023</td>\n",
       "      <td>Mitochondrial Respiratory Chain Complex I Asse...</td>\n",
       "      <td>31/53</td>\n",
       "      <td>7.811117e-10</td>\n",
       "      <td>2.328201e-07</td>\n",
       "      <td>0</td>\n",
       "      <td>0</td>\n",
       "      <td>5.688671</td>\n",
       "      <td>119.293150</td>\n",
       "      <td>NDUFB9;NDUFA13;NDUFB8;NDUFB7;NDUFA11;NDUFB10;N...</td>\n",
       "      <td>53</td>\n",
       "    </tr>\n",
       "    <tr>\n",
       "      <th>310</th>\n",
       "      <td>GO_Biological_Process_2023</td>\n",
       "      <td>NADH Dehydrogenase Complex Assembly (GO:0010257)</td>\n",
       "      <td>31/53</td>\n",
       "      <td>7.811117e-10</td>\n",
       "      <td>2.328201e-07</td>\n",
       "      <td>0</td>\n",
       "      <td>0</td>\n",
       "      <td>5.688671</td>\n",
       "      <td>119.293150</td>\n",
       "      <td>NDUFB9;NDUFA13;NDUFB8;NDUFB7;NDUFA11;NDUFB10;N...</td>\n",
       "      <td>53</td>\n",
       "    </tr>\n",
       "  </tbody>\n",
       "</table>\n",
       "</div>"
      ],
      "text/plain": [
       "                        Gene_set  \\\n",
       "5066  GO_Molecular_Function_2023   \n",
       "304   GO_Biological_Process_2023   \n",
       "305   GO_Biological_Process_2023   \n",
       "306   GO_Biological_Process_2023   \n",
       "307   GO_Biological_Process_2023   \n",
       "308   GO_Biological_Process_2023   \n",
       "309   GO_Biological_Process_2023   \n",
       "5068  GO_Molecular_Function_2023   \n",
       "311   GO_Biological_Process_2023   \n",
       "310   GO_Biological_Process_2023   \n",
       "\n",
       "                                                   Term  Overlap  \\\n",
       "5066                          mRNA Binding (GO:0003729)  108/282   \n",
       "304           protein-RNA Complex Assembly (GO:0022618)   68/150   \n",
       "305                           Axonogenesis (GO:0007409)   79/188   \n",
       "306                    Aerobic Respiration (GO:0009060)    34/59   \n",
       "307   Mitochondrial Electron Transport, NADH To Ubiq...    24/34   \n",
       "308   Regulation Of mRNA Splicing, Via Spliceosome (...    46/94   \n",
       "309           Protein Modification Process (GO:0036211)  210/711   \n",
       "5068  NADH Dehydrogenase (Ubiquinone) Activity (GO:0...    23/33   \n",
       "311   Mitochondrial Respiratory Chain Complex I Asse...    31/53   \n",
       "310    NADH Dehydrogenase Complex Assembly (GO:0010257)    31/53   \n",
       "\n",
       "           P-value  Adjusted P-value  Old P-value  Old Adjusted P-value  \\\n",
       "5066  6.491684e-13      2.909048e-10            0                     0   \n",
       "304   1.638300e-12      8.681172e-10            0                     0   \n",
       "305   3.525858e-12      1.681482e-09            0                     0   \n",
       "306   2.076199e-10      9.001267e-08            0                     0   \n",
       "307   2.386305e-10      9.483574e-08            0                     0   \n",
       "308   2.754011e-10      1.010298e-07            0                     0   \n",
       "309   3.497596e-10      1.191431e-07            0                     0   \n",
       "5068  8.514303e-10      2.081747e-07            0                     0   \n",
       "311   7.811117e-10      2.328201e-07            0                     0   \n",
       "310   7.811117e-10      2.328201e-07            0                     0   \n",
       "\n",
       "      Odds Ratio  Combined Score  \\\n",
       "5066    2.531193       71.033070   \n",
       "304     3.366749       91.364684   \n",
       "305     2.945770       77.682604   \n",
       "306     5.493616      122.481892   \n",
       "307     9.679254      214.454562   \n",
       "308     3.877302       85.350255   \n",
       "309     1.719217       37.433843   \n",
       "5068    9.273614      193.671112   \n",
       "311     5.688671      119.293150   \n",
       "310     5.688671      119.293150   \n",
       "\n",
       "                                                  Genes  gene_num  \n",
       "5066  EIF4A1;RPL5;FMR1;HDLBP;HNRNPU;RPL7;RPS14;EIF4E...       282  \n",
       "304   RPL5;RAMAC;HSP90AB1;CELF1;CELF3;RPLP0;CELF4;CE...       150  \n",
       "305   CYFIP2;EPHB6;SEMA5A;ROBO2;SEMA5B;ROBO3;RAB3A;H...       188  \n",
       "306   NDUFB9;NDUFA13;NDUFB8;NDUFB7;NDUFA11;NDUFB10;N...        59  \n",
       "307   NDUFB9;NDUFA8;NDUFB8;NDUFA7;NDUFB7;NDUFA6;NDUF...        34  \n",
       "308   KHDRBS1;RBM25;DDX5;KHDRBS3;RBM8A;CELF1;YTHDC1;...        94  \n",
       "309   EPHB6;GMFB;MAML1;PPP2R2A;UBE2L3;GOLGA2;PPP2R1A...       711  \n",
       "5068  NDUFB9;NDUFA8;NDUFB8;NDUFA7;NDUFB7;NDUFA6;NDUF...        33  \n",
       "311   NDUFB9;NDUFA13;NDUFB8;NDUFB7;NDUFA11;NDUFB10;N...        53  \n",
       "310   NDUFB9;NDUFA13;NDUFB8;NDUFB7;NDUFA11;NDUFB10;N...        53  "
      ]
     },
     "execution_count": 76,
     "metadata": {},
     "output_type": "execute_result"
    }
   ],
   "source": [
    "result_df.sort_values('Adjusted P-value')[10:20]"
   ]
  },
  {
   "cell_type": "code",
   "execution_count": 77,
   "id": "b8780c82-5a54-4f6a-a5f9-18a3fb0369ba",
   "metadata": {
    "execution": {
     "iopub.execute_input": "2024-07-02T19:24:00.779515Z",
     "iopub.status.busy": "2024-07-02T19:24:00.778810Z",
     "iopub.status.idle": "2024-07-02T19:24:00.789164Z",
     "shell.execute_reply": "2024-07-02T19:24:00.788020Z",
     "shell.execute_reply.started": "2024-07-02T19:24:00.779457Z"
    },
    "tags": []
   },
   "outputs": [],
   "source": [
    "for_bar_plot['-log10(FDR)'] = -np.log10(for_bar_plot['Adjusted P-value'])\n",
    "\n",
    "# Sort the DataFrame by -log10(FDR)\n",
    "for_bar_plot = for_bar_plot.sort_values(by='-log10(FDR)', ascending=False)\n"
   ]
  },
  {
   "cell_type": "code",
   "execution_count": 78,
   "id": "b7ca8308-8cfc-4c3d-8285-60f38ae3c808",
   "metadata": {
    "execution": {
     "iopub.execute_input": "2024-07-02T19:24:02.065498Z",
     "iopub.status.busy": "2024-07-02T19:24:02.064709Z",
     "iopub.status.idle": "2024-07-02T19:24:02.071949Z",
     "shell.execute_reply": "2024-07-02T19:24:02.070580Z",
     "shell.execute_reply.started": "2024-07-02T19:24:02.065437Z"
    },
    "tags": []
   },
   "outputs": [],
   "source": [
    "def format_gene(gene):\n",
    "    return gene.capitalize()"
   ]
  },
  {
   "cell_type": "code",
   "execution_count": 81,
   "id": "9cf40068-2f7b-470b-bf2e-739d66b06170",
   "metadata": {
    "execution": {
     "iopub.execute_input": "2024-07-02T19:59:11.346425Z",
     "iopub.status.busy": "2024-07-02T19:59:11.346015Z",
     "iopub.status.idle": "2024-07-02T19:59:12.945543Z",
     "shell.execute_reply": "2024-07-02T19:59:12.945015Z",
     "shell.execute_reply.started": "2024-07-02T19:59:11.346400Z"
    },
    "tags": []
   },
   "outputs": [
    {
     "data": {
      "image/png": "[encoded data removed]",
      "text/plain": [
       "<Figure size 720x432 with 1 Axes>"
      ]
     },
     "metadata": {
      "needs_background": "light"
     },
     "output_type": "display_data"
    }
   ],
   "source": [
    "# Plot\n",
    "plt.figure(figsize=(10, 6))\n",
    "#plt.barh(for_bar_plot['Term'], for_bar_plot['-log10(FDR)'], color='steelblue', edgecolor='black')\n",
    "# Annotate bars with the first 5 genes\n",
    "bars = plt.barh(for_bar_plot['Term'], for_bar_plot['-log10(FDR)'], color='steelblue', edgecolor='black')\n",
    "\n",
    "for i, (bar, genes) in enumerate(zip(bars, for_bar_plot['Genes'])):\n",
    "    genes_list = genes.split(';')[:3]  # Get the first 5 genes\n",
    "    annotation = ';'.join([format_gene(gene) for gene in genes_list])  # Format genes for the first bar\n",
    "    \n",
    "    plt.text(bar.get_width(), bar.get_y() + bar.get_height()/2, f' {annotation}', va='center')\n",
    "\n",
    "plt.xlabel('-log10(FDR)')\n",
    "plt.xlabel('-log10(FDR)')\n",
    "plt.title('Biological processes enriched in hyper-methylated age-DMGs')\n",
    "plt.gca().invert_yaxis()  # Highest values at the top\n",
    "plt.tight_layout()\n",
    "plt.savefig(f'figure/{group}.barplot.pdf', dpi=300)\n",
    "plt.show()\n"
   ]
  },
  {
   "cell_type": "code",
   "execution_count": null,
   "id": "97634ebd-addc-46e8-81c1-a6466b7037ce",
   "metadata": {},
   "outputs": [],
   "source": []
  },
  {
   "cell_type": "code",
   "execution_count": null,
   "id": "09679ef3-af0b-4bc0-be25-2dd4ec6bf617",
   "metadata": {},
   "outputs": [],
   "source": []
  },
  {
   "cell_type": "code",
   "execution_count": null,
   "id": "211bd265-be72-468e-b63e-0a290b9cc54b",
   "metadata": {},
   "outputs": [],
   "source": []
  },
  {
   "cell_type": "code",
   "execution_count": null,
   "id": "262176e7-4974-4aa0-b616-8af75f37b50a",
   "metadata": {},
   "outputs": [],
   "source": []
  }
 ],
 "metadata": {
  "kernelspec": {
   "display_name": "Python 3 (ipykernel)",
   "language": "python",
   "name": "python3"
  },
  "language_info": {
   "codemirror_mode": {
    "name": "ipython",
    "version": 3
   },
   "file_extension": ".py",
   "mimetype": "text/x-python",
   "name": "python",
   "nbconvert_exporter": "python",
   "pygments_lexer": "ipython3",
   "version": "3.7.12"
  }
 },
 "nbformat": 4,
 "nbformat_minor": 5
}
