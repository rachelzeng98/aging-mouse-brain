{
 "cells": [
  {
   "cell_type": "code",
   "execution_count": 1,
   "id": "b292bd26-70c3-4dc0-aee4-36483902c1e8",
   "metadata": {
    "execution": {
     "iopub.execute_input": "2025-01-02T23:02:09.619386Z",
     "iopub.status.busy": "2025-01-02T23:02:09.618494Z",
     "iopub.status.idle": "2025-01-02T23:02:13.252265Z",
     "shell.execute_reply": "2025-01-02T23:02:13.250483Z",
     "shell.execute_reply.started": "2025-01-02T23:02:09.619281Z"
    },
    "tags": []
   },
   "outputs": [],
   "source": [
    "import pandas as pd\n",
    "from ALLCools.mcds import MCDS\n",
    "from scipy.stats import f_oneway, ttest_ind, kruskal\n",
    "import joblib\n",
    "import anndata\n",
    "from wmb import mm10\n",
    "import pingouin as pg\n",
    "import xarray as xr\n",
    "import joblib\n",
    "import numpy as np\n",
    "import glob\n",
    "from matplotlib import pyplot as plt\n",
    "import seaborn as sns\n",
    "\n",
    "plt.rcParams['figure.dpi'] = 100\n",
    "plt.rcParams['savefig.dpi']=300\n",
    "plt.rcParams['pdf.fonttype']=42\n",
    "\n",
    "gene_name_to_id = joblib.load('240112_DMG_CEF/gene_name_to_id_dict')\n",
    "gene_id_to_name = joblib.load('240112_DMG_CEF/gene_id_to_name_dict')"
   ]
  },
  {
   "cell_type": "code",
   "execution_count": 3,
   "id": "eb592366-9761-4426-9eac-d9eb8aa1e6b7",
   "metadata": {
    "execution": {
     "iopub.execute_input": "2025-01-02T23:02:13.772593Z",
     "iopub.status.busy": "2025-01-02T23:02:13.772352Z",
     "iopub.status.idle": "2025-01-02T23:02:13.777031Z",
     "shell.execute_reply": "2025-01-02T23:02:13.776100Z",
     "shell.execute_reply.started": "2025-01-02T23:02:13.772572Z"
    },
    "tags": []
   },
   "outputs": [],
   "source": [
    "_gender = 'Male'\n",
    "mc_type = 'CGN'\n",
    "p_cutoff = 1e-5\n",
    "ct = 'Oligo_NN'"
   ]
  },
  {
   "cell_type": "code",
   "execution_count": 69,
   "id": "7bf3cae7-1fc0-4c1e-a04c-de175aa5c7f6",
   "metadata": {
    "execution": {
     "iopub.execute_input": "2025-01-02T22:33:18.055125Z",
     "iopub.status.busy": "2025-01-02T22:33:18.054558Z",
     "iopub.status.idle": "2025-01-02T22:33:18.081411Z",
     "shell.execute_reply": "2025-01-02T22:33:18.080343Z",
     "shell.execute_reply.started": "2025-01-02T22:33:18.055073Z"
    },
    "tags": []
   },
   "outputs": [
    {
     "name": "stderr",
     "output_type": "stream",
     "text": [
      "/home/qz/miniconda3/envs/allcools/lib/python3.7/site-packages/xarray/backends/plugins.py:114: RuntimeWarning: 'netcdf4' fails while guessing\n",
      "  warnings.warn(f\"{engine!r} fails while guessing\", RuntimeWarning)\n",
      "/home/qz/miniconda3/envs/allcools/lib/python3.7/site-packages/xarray/backends/plugins.py:114: RuntimeWarning: 'scipy' fails while guessing\n",
      "  warnings.warn(f\"{engine!r} fails while guessing\", RuntimeWarning)\n"
     ]
    }
   ],
   "source": [
    "total_data = xr.open_dataset(f'{mc_type}.{_gender}.AgingMajorType.Region.Anova.Result.zarr')"
   ]
  },
  {
   "cell_type": "code",
   "execution_count": 70,
   "id": "f21def04-55bc-41f8-9794-4782b8b3b077",
   "metadata": {
    "execution": {
     "iopub.execute_input": "2025-01-02T22:33:18.302613Z",
     "iopub.status.busy": "2025-01-02T22:33:18.301904Z",
     "iopub.status.idle": "2025-01-02T22:33:18.338563Z",
     "shell.execute_reply": "2025-01-02T22:33:18.337685Z",
     "shell.execute_reply.started": "2025-01-02T22:33:18.302559Z"
    },
    "tags": []
   },
   "outputs": [],
   "source": [
    "rna_df = pd.read_csv(f\"DEGs/{ct].csv\", index_col =0)\n",
    "rna_df['log2(aged/young)'] = -rna_df['avg_log2FC']\n"
   ]
  },
  {
   "cell_type": "code",
   "execution_count": 71,
   "id": "049073d9-3c9b-4a66-acf1-35d1d6a9a1cf",
   "metadata": {
    "execution": {
     "iopub.execute_input": "2025-01-02T22:33:18.534786Z",
     "iopub.status.busy": "2025-01-02T22:33:18.534110Z",
     "iopub.status.idle": "2025-01-02T22:33:18.541192Z",
     "shell.execute_reply": "2025-01-02T22:33:18.539626Z",
     "shell.execute_reply.started": "2025-01-02T22:33:18.534732Z"
    },
    "tags": []
   },
   "outputs": [],
   "source": [
    "use_region_cts = ['DG_Glut.Anterior_Hippocampus','DG_Glut.Posterior_Hippocampus',]"
   ]
  },
  {
   "cell_type": "code",
   "execution_count": 72,
   "id": "1f93fd49-abf6-4184-9d3f-b8a97381c2af",
   "metadata": {
    "execution": {
     "iopub.execute_input": "2025-01-02T22:33:18.769513Z",
     "iopub.status.busy": "2025-01-02T22:33:18.768823Z",
     "iopub.status.idle": "2025-01-02T22:33:18.824783Z",
     "shell.execute_reply": "2025-01-02T22:33:18.823806Z",
     "shell.execute_reply.started": "2025-01-02T22:33:18.769457Z"
    },
    "tags": []
   },
   "outputs": [],
   "source": [
    "dmg_num_df = {}\n",
    "for region_ct in use_region_cts:\n",
    "    ct, region = region_ct.split('.')\n",
    "    tmpdf = total_data.sel(region_ct= region_ct)['anova_results'].to_pandas()\n",
    "    _up_tmpdf = tmpdf[(tmpdf['8wk'] < tmpdf['9mo']) & (tmpdf['9mo'] < tmpdf['18mo'])]\n",
    "    _down_tmpdf = tmpdf[(tmpdf['8wk'] > tmpdf['9mo']) & (tmpdf['9mo'] > tmpdf['18mo'])]\n",
    "    tmpdf= pd.concat([_up_tmpdf, _down_tmpdf])\n",
    "    tmpdf = tmpdf[tmpdf['corrected_pvalue'] < p_cutoff]\n",
    "    tmpdf = tmpdf.sort_values('corrected_pvalue')\n",
    "    dmg_num_df[region_ct] = tmpdf"
   ]
  },
  {
   "cell_type": "code",
   "execution_count": 37,
   "id": "088abd2c-1994-4664-8b2a-70215716566b",
   "metadata": {
    "execution": {
     "iopub.execute_input": "2025-01-02T21:58:43.861180Z",
     "iopub.status.busy": "2025-01-02T21:58:43.860941Z",
     "iopub.status.idle": "2025-01-02T21:58:43.874588Z",
     "shell.execute_reply": "2025-01-02T21:58:43.873713Z",
     "shell.execute_reply.started": "2025-01-02T21:58:43.861152Z"
    },
    "tags": []
   },
   "outputs": [
    {
     "name": "stdout",
     "output_type": "stream",
     "text": [
      "ENSMUSG00000029406.15:Pitpnm2\n",
      "ENSMUSG00000001520.12:Nrip2\n",
      "ENSMUSG00000104585.1:4921511C10Rik\n",
      "ENSMUSG00000079484.12:Phyhd1\n",
      "ENSMUSG00000076617.9:Ighm\n",
      "ENSMUSG00000096910.2:Zfp955b\n",
      "ENSMUSG00000049928.15:Glp2r\n",
      "ENSMUSG00000112280.1:A830082N09Rik\n",
      "ENSMUSG00000035337.3:Uchl4\n",
      "ENSMUSG00000100281.1:4930422M22Rik\n",
      "ENSMUSG00000084792.1:1700056N10Rik\n",
      "ENSMUSG00000085030.1:2810455O05Rik\n",
      "ENSMUSG00000027001.10:Dusp19\n",
      "ENSMUSG00000094441.2:Zfp955a\n"
     ]
    }
   ],
   "source": [
    "for gene_id in tmpdf.index:\n",
    "    if gene_id_to_name[gene_id].startswith('Gm') == False and gene_id_to_name[gene_id].startswith('Mir') == False:\n",
    "        if gene_id_to_name[gene_id] in rna_df.index:\n",
    "            print(f\"{gene_id}:{gene_id_to_name[gene_id]}\")"
   ]
  },
  {
   "cell_type": "code",
   "execution_count": 78,
   "id": "50255941-7481-455c-9c91-790d6a18dbe8",
   "metadata": {
    "execution": {
     "iopub.execute_input": "2025-01-02T22:35:50.332489Z",
     "iopub.status.busy": "2025-01-02T22:35:50.331715Z",
     "iopub.status.idle": "2025-01-02T22:35:50.341161Z",
     "shell.execute_reply": "2025-01-02T22:35:50.339885Z",
     "shell.execute_reply.started": "2025-01-02T22:35:50.332432Z"
    },
    "tags": []
   },
   "outputs": [
    {
     "data": {
      "text/plain": [
       "'Dusp19'"
      ]
     },
     "execution_count": 78,
     "metadata": {},
     "output_type": "execute_result"
    }
   ],
   "source": [
    "goi = gene_id_to_name['ENSMUSG00000027001.10']\n",
    "goi"
   ]
  },
  {
   "cell_type": "code",
   "execution_count": 79,
   "id": "2da402df-e5b2-40dd-b090-f295854d9af0",
   "metadata": {
    "execution": {
     "iopub.execute_input": "2025-01-02T22:35:54.212948Z",
     "iopub.status.busy": "2025-01-02T22:35:54.212008Z",
     "iopub.status.idle": "2025-01-02T22:35:54.235722Z",
     "shell.execute_reply": "2025-01-02T22:35:54.234756Z",
     "shell.execute_reply.started": "2025-01-02T22:35:54.212888Z"
    },
    "tags": []
   },
   "outputs": [
    {
     "data": {
      "text/html": [
       "<div>\n",
       "<style scoped>\n",
       "    .dataframe tbody tr th:only-of-type {\n",
       "        vertical-align: middle;\n",
       "    }\n",
       "\n",
       "    .dataframe tbody tr th {\n",
       "        vertical-align: top;\n",
       "    }\n",
       "\n",
       "    .dataframe thead th {\n",
       "        text-align: right;\n",
       "    }\n",
       "</style>\n",
       "<table border=\"1\" class=\"dataframe\">\n",
       "  <thead>\n",
       "    <tr style=\"text-align: right;\">\n",
       "      <th></th>\n",
       "      <th>p_val</th>\n",
       "      <th>avg_log2FC</th>\n",
       "      <th>pct.1</th>\n",
       "      <th>pct.2</th>\n",
       "      <th>p_val_adj</th>\n",
       "      <th>log2(aged/young)</th>\n",
       "    </tr>\n",
       "  </thead>\n",
       "  <tbody>\n",
       "    <tr>\n",
       "      <th>Dusp19</th>\n",
       "      <td>2.371601e-07</td>\n",
       "      <td>0.915022</td>\n",
       "      <td>0.019</td>\n",
       "      <td>0.01</td>\n",
       "      <td>0.00616</td>\n",
       "      <td>-0.915022</td>\n",
       "    </tr>\n",
       "  </tbody>\n",
       "</table>\n",
       "</div>"
      ],
      "text/plain": [
       "               p_val  avg_log2FC  pct.1  pct.2  p_val_adj  log2(aged/young)\n",
       "Dusp19  2.371601e-07    0.915022  0.019   0.01    0.00616         -0.915022"
      ]
     },
     "execution_count": 79,
     "metadata": {},
     "output_type": "execute_result"
    }
   ],
   "source": [
    "rna_df.loc[[goi]]"
   ]
  },
  {
   "cell_type": "code",
   "execution_count": 4,
   "id": "1d6b1cac-7306-4233-a430-157be3eb5cdc",
   "metadata": {
    "execution": {
     "iopub.execute_input": "2025-01-02T23:02:13.784639Z",
     "iopub.status.busy": "2025-01-02T23:02:13.784438Z",
     "iopub.status.idle": "2025-01-02T23:02:13.788152Z",
     "shell.execute_reply": "2025-01-02T23:02:13.787607Z",
     "shell.execute_reply.started": "2025-01-02T23:02:13.784620Z"
    },
    "tags": []
   },
   "outputs": [],
   "source": [
    "goi = 'C4b'"
   ]
  },
  {
   "cell_type": "code",
   "execution_count": 23,
   "id": "ce7a81ac-a847-4fd8-9426-a1cbde4c3277",
   "metadata": {
    "execution": {
     "iopub.execute_input": "2025-01-02T23:05:16.569723Z",
     "iopub.status.busy": "2025-01-02T23:05:16.569449Z",
     "iopub.status.idle": "2025-01-02T23:05:16.703633Z",
     "shell.execute_reply": "2025-01-02T23:05:16.702950Z",
     "shell.execute_reply.started": "2025-01-02T23:05:16.569700Z"
    },
    "tags": []
   },
   "outputs": [],
   "source": [
    "all_df =[] \n",
    "\n",
    "for fp in glob.glob(f\"Regional.aDEG.2/{ct}.*/stats.hdf\"):\n",
    "    deg_df = pd.read_hdf(fp)\n",
    "    if goi in deg_df.index:\n",
    "        deg_df = pd.DataFrame(deg_df.loc[goi, ['fdr', 'log2(18mo/2mo)']])\n",
    "        deg_df['region_ct'] = fp.split('/')[-2]\n",
    "        all_df.append(deg_df)\n",
    "\n",
    "all_df = pd.concat(all_df)"
   ]
  },
  {
   "cell_type": "markdown",
   "id": "12d5e7cd-0cd2-4d80-b285-76f75c53e035",
   "metadata": {},
   "source": [
    "## check astro"
   ]
  },
  {
   "cell_type": "code",
   "execution_count": 2,
   "id": "f6c62427-b861-4467-857c-35fdf79527c1",
   "metadata": {
    "execution": {
     "iopub.execute_input": "2025-01-02T23:48:15.962411Z",
     "iopub.status.busy": "2025-01-02T23:48:15.961826Z",
     "iopub.status.idle": "2025-01-02T23:48:20.141874Z",
     "shell.execute_reply": "2025-01-02T23:48:20.140491Z",
     "shell.execute_reply.started": "2025-01-02T23:48:15.962357Z"
    },
    "tags": []
   },
   "outputs": [],
   "source": [
    "import pandas as pd\n",
    "from ALLCools.mcds import MCDS\n",
    "from scipy.stats import f_oneway, ttest_ind, kruskal\n",
    "import joblib\n",
    "import anndata\n",
    "from wmb import mm10\n",
    "import pingouin as pg\n",
    "import xarray as xr\n",
    "import joblib\n",
    "import numpy as np\n",
    "import glob\n",
    "from matplotlib import pyplot as plt\n",
    "import seaborn as sns\n",
    "\n",
    "plt.rcParams['figure.dpi'] = 100\n",
    "plt.rcParams['savefig.dpi']=300\n",
    "plt.rcParams['pdf.fonttype']=42\n",
    "\n",
    "gene_name_to_id = joblib.load('240112_DMG_CEF/gene_name_to_id_dict')\n",
    "gene_id_to_name = joblib.load('240112_DMG_CEF/gene_id_to_name_dict')"
   ]
  },
  {
   "cell_type": "code",
   "execution_count": 3,
   "id": "d2350c73-71a8-4a45-a621-68626ab4e7da",
   "metadata": {
    "execution": {
     "iopub.execute_input": "2025-01-02T23:48:20.144636Z",
     "iopub.status.busy": "2025-01-02T23:48:20.144176Z",
     "iopub.status.idle": "2025-01-02T23:48:20.150881Z",
     "shell.execute_reply": "2025-01-02T23:48:20.150292Z",
     "shell.execute_reply.started": "2025-01-02T23:48:20.144611Z"
    },
    "tags": []
   },
   "outputs": [
    {
     "name": "stderr",
     "output_type": "stream",
     "text": [
      "/home/qz/miniconda3/envs/allcools/lib/python3.7/site-packages/outdated/utils.py:18: OutdatedPackageWarning: The package outdated is out of date. Your version is 0.2.1, the latest is 0.2.2.\n",
      "Set the environment variable OUTDATED_IGNORE=1 to disable these warnings.\n",
      "  **kwargs\n",
      "/home/qz/miniconda3/envs/allcools/lib/python3.7/site-packages/outdated/utils.py:18: OutdatedPackageWarning: The package pingouin is out of date. Your version is 0.5.2, the latest is 0.5.5.\n",
      "Set the environment variable OUTDATED_IGNORE=1 to disable these warnings.\n",
      "  **kwargs\n"
     ]
    }
   ],
   "source": [
    "_gender = 'Male'\n",
    "mc_type = 'CGN'\n",
    "p_cutoff = 1e-5\n",
    "ct = 'Oligo_NN'"
   ]
  },
  {
   "cell_type": "code",
   "execution_count": 4,
   "id": "017b81bc-a265-4fb2-8976-d68c7bc60778",
   "metadata": {
    "execution": {
     "iopub.execute_input": "2025-01-02T23:48:20.152239Z",
     "iopub.status.busy": "2025-01-02T23:48:20.151911Z",
     "iopub.status.idle": "2025-01-02T23:48:20.159101Z",
     "shell.execute_reply": "2025-01-02T23:48:20.158597Z",
     "shell.execute_reply.started": "2025-01-02T23:48:20.152218Z"
    },
    "tags": []
   },
   "outputs": [],
   "source": [
    "merfish_genes = pd.read_csv('annotated_FinalGeneList_ecker-amb-500_CP1145.csv', index_col =0)['Vizgen Gene'].values"
   ]
  },
  {
   "cell_type": "code",
   "execution_count": 22,
   "id": "0a79767f-aec2-48af-b3ec-ae2857db9b47",
   "metadata": {
    "execution": {
     "iopub.execute_input": "2025-01-02T23:58:28.210034Z",
     "iopub.status.busy": "2025-01-02T23:58:28.209414Z",
     "iopub.status.idle": "2025-01-02T23:58:32.197468Z",
     "shell.execute_reply": "2025-01-02T23:58:32.196705Z",
     "shell.execute_reply.started": "2025-01-02T23:58:28.209977Z"
    },
    "tags": []
   },
   "outputs": [
    {
     "name": "stderr",
     "output_type": "stream",
     "text": [
      "/home/qz/miniconda3/envs/allcools/lib/python3.7/site-packages/IPython/core/interactiveshell.py:3552: DtypeWarning: Columns (10) have mixed types.Specify dtype option on import or set low_memory=False.\n",
      "  exec(code_obj, self.user_global_ns, self.user_ns)\n"
     ]
    }
   ],
   "source": [
    "tmpdf = pd.read_csv(f\"result/{_gender}.{mc_type}.AllGene.Anova.Result.csv\")\n",
    "tmpdf = tmpdf[tmpdf['celltype'].isin(['Astro-TE NN','Astro-NT NN'])]\n",
    "tmpdf['gene_name'] = tmpdf['genes'].map(gene_id_to_name)\n",
    "\n",
    "# _up_tmpdf = tmpdf[(tmpdf['8wk'] < tmpdf['9mo']) & (tmpdf['9mo'] < tmpdf['18mo'])]\n",
    "# _down_tmpdf = tmpdf[(tmpdf['8wk'] > tmpdf['9mo']) & (tmpdf['9mo'] > tmpdf['18mo'])]\n",
    "# tmpdf= pd.concat([_up_tmpdf, _down_tmpdf])\n",
    "# dmg_df = tmpdf[tmpdf['pvalue'] < p_cutoff]\n"
   ]
  },
  {
   "cell_type": "code",
   "execution_count": 7,
   "id": "cb9e6887-a2bf-45bf-b055-996eb7d77340",
   "metadata": {
    "execution": {
     "iopub.execute_input": "2025-01-02T23:48:24.357905Z",
     "iopub.status.busy": "2025-01-02T23:48:24.357561Z",
     "iopub.status.idle": "2025-01-02T23:48:24.361019Z",
     "shell.execute_reply": "2025-01-02T23:48:24.360221Z",
     "shell.execute_reply.started": "2025-01-02T23:48:24.357869Z"
    },
    "tags": []
   },
   "outputs": [],
   "source": [
    "# merfish_dmg_df= dmg_df[dmg_df['gene_name'].isin(merfish_genes)]\n",
    "# merfish_dmg_df.sort_values('corrected_pvalue')"
   ]
  },
  {
   "cell_type": "code",
   "execution_count": 27,
   "id": "6f232136-29ff-4875-8cb7-3b09a921aec6",
   "metadata": {
    "execution": {
     "iopub.execute_input": "2025-01-02T23:33:16.465266Z",
     "iopub.status.busy": "2025-01-02T23:33:16.464621Z",
     "iopub.status.idle": "2025-01-02T23:33:16.471338Z",
     "shell.execute_reply": "2025-01-02T23:33:16.470104Z",
     "shell.execute_reply.started": "2025-01-02T23:33:16.465211Z"
    },
    "tags": []
   },
   "outputs": [],
   "source": [
    "goi = 'Camta1'"
   ]
  },
  {
   "cell_type": "code",
   "execution_count": 28,
   "id": "c0cf1afb-919b-4579-b338-50954f16d271",
   "metadata": {
    "execution": {
     "iopub.execute_input": "2025-01-02T23:33:16.627426Z",
     "iopub.status.busy": "2025-01-02T23:33:16.626769Z",
     "iopub.status.idle": "2025-01-02T23:33:16.655261Z",
     "shell.execute_reply": "2025-01-02T23:33:16.654303Z",
     "shell.execute_reply.started": "2025-01-02T23:33:16.627372Z"
    },
    "tags": []
   },
   "outputs": [
    {
     "data": {
      "text/html": [
       "<div>\n",
       "<style scoped>\n",
       "    .dataframe tbody tr th:only-of-type {\n",
       "        vertical-align: middle;\n",
       "    }\n",
       "\n",
       "    .dataframe tbody tr th {\n",
       "        vertical-align: top;\n",
       "    }\n",
       "\n",
       "    .dataframe thead th {\n",
       "        text-align: right;\n",
       "    }\n",
       "</style>\n",
       "<table border=\"1\" class=\"dataframe\">\n",
       "  <thead>\n",
       "    <tr style=\"text-align: right;\">\n",
       "      <th></th>\n",
       "      <th>genes</th>\n",
       "      <th>pvalue</th>\n",
       "      <th>corrected_pvalue</th>\n",
       "      <th>18mo</th>\n",
       "      <th>8wk</th>\n",
       "      <th>9mo</th>\n",
       "      <th>gene_length</th>\n",
       "      <th>celltype</th>\n",
       "      <th>methylation_change</th>\n",
       "      <th>abs_change</th>\n",
       "      <th>trend</th>\n",
       "      <th>gene_name</th>\n",
       "    </tr>\n",
       "  </thead>\n",
       "  <tbody>\n",
       "    <tr>\n",
       "      <th>25972</th>\n",
       "      <td>ENSMUSG00000014592.20</td>\n",
       "      <td>4.399345e-01</td>\n",
       "      <td>1.000000e+00</td>\n",
       "      <td>0.784441</td>\n",
       "      <td>0.781003</td>\n",
       "      <td>0.787327</td>\n",
       "      <td>944554</td>\n",
       "      <td>Astro-NT NN</td>\n",
       "      <td>0.003438</td>\n",
       "      <td>0.003438</td>\n",
       "      <td>NaN</td>\n",
       "      <td>Camta1</td>\n",
       "    </tr>\n",
       "    <tr>\n",
       "      <th>57075</th>\n",
       "      <td>ENSMUSG00000014592.20</td>\n",
       "      <td>5.310808e-24</td>\n",
       "      <td>2.484745e-19</td>\n",
       "      <td>0.761497</td>\n",
       "      <td>0.738208</td>\n",
       "      <td>0.754551</td>\n",
       "      <td>944554</td>\n",
       "      <td>Astro-TE NN</td>\n",
       "      <td>0.023289</td>\n",
       "      <td>0.023289</td>\n",
       "      <td>NaN</td>\n",
       "      <td>Camta1</td>\n",
       "    </tr>\n",
       "  </tbody>\n",
       "</table>\n",
       "</div>"
      ],
      "text/plain": [
       "                       genes        pvalue  corrected_pvalue      18mo  \\\n",
       "25972  ENSMUSG00000014592.20  4.399345e-01      1.000000e+00  0.784441   \n",
       "57075  ENSMUSG00000014592.20  5.310808e-24      2.484745e-19  0.761497   \n",
       "\n",
       "            8wk       9mo  gene_length     celltype  methylation_change  \\\n",
       "25972  0.781003  0.787327       944554  Astro-NT NN            0.003438   \n",
       "57075  0.738208  0.754551       944554  Astro-TE NN            0.023289   \n",
       "\n",
       "       abs_change trend gene_name  \n",
       "25972    0.003438   NaN    Camta1  \n",
       "57075    0.023289   NaN    Camta1  "
      ]
     },
     "execution_count": 28,
     "metadata": {},
     "output_type": "execute_result"
    }
   ],
   "source": [
    "merfish_dmg_df[merfish_dmg_df['gene_name'] == goi]"
   ]
  },
  {
   "cell_type": "code",
   "execution_count": 34,
   "id": "f4124d07-9a2b-471f-a7f7-a7dbb0728429",
   "metadata": {
    "execution": {
     "iopub.execute_input": "2025-01-02T23:34:01.122427Z",
     "iopub.status.busy": "2025-01-02T23:34:01.122164Z",
     "iopub.status.idle": "2025-01-02T23:34:01.134564Z",
     "shell.execute_reply": "2025-01-02T23:34:01.133999Z",
     "shell.execute_reply.started": "2025-01-02T23:34:01.122402Z"
    },
    "tags": []
   },
   "outputs": [
    {
     "data": {
      "text/html": [
       "<div>\n",
       "<style scoped>\n",
       "    .dataframe tbody tr th:only-of-type {\n",
       "        vertical-align: middle;\n",
       "    }\n",
       "\n",
       "    .dataframe tbody tr th {\n",
       "        vertical-align: top;\n",
       "    }\n",
       "\n",
       "    .dataframe thead th {\n",
       "        text-align: right;\n",
       "    }\n",
       "</style>\n",
       "<table border=\"1\" class=\"dataframe\">\n",
       "  <thead>\n",
       "    <tr style=\"text-align: right;\">\n",
       "      <th></th>\n",
       "      <th>p_val</th>\n",
       "      <th>avg_log2FC</th>\n",
       "      <th>pct.1</th>\n",
       "      <th>pct.2</th>\n",
       "      <th>p_val_adj</th>\n",
       "    </tr>\n",
       "  </thead>\n",
       "  <tbody>\n",
       "    <tr>\n",
       "      <th>Camta1</th>\n",
       "      <td>2.241959e-23</td>\n",
       "      <td>0.235689</td>\n",
       "      <td>0.468</td>\n",
       "      <td>0.329</td>\n",
       "      <td>5.823263e-19</td>\n",
       "    </tr>\n",
       "  </tbody>\n",
       "</table>\n",
       "</div>"
      ],
      "text/plain": [
       "               p_val  avg_log2FC  pct.1  pct.2     p_val_adj\n",
       "Camta1  2.241959e-23    0.235689  0.468  0.329  5.823263e-19"
      ]
     },
     "execution_count": 34,
     "metadata": {},
     "output_type": "execute_result"
    }
   ],
   "source": [
    "astro_nt_df.loc[[goi]]"
   ]
  },
  {
   "cell_type": "code",
   "execution_count": 17,
   "id": "54548c5a-1b5d-4e2f-afe2-3868813dc6b8",
   "metadata": {
    "execution": {
     "iopub.execute_input": "2025-01-02T23:50:46.431083Z",
     "iopub.status.busy": "2025-01-02T23:50:46.430454Z",
     "iopub.status.idle": "2025-01-02T23:50:46.439210Z",
     "shell.execute_reply": "2025-01-02T23:50:46.438123Z",
     "shell.execute_reply.started": "2025-01-02T23:50:46.431029Z"
    },
    "tags": []
   },
   "outputs": [],
   "source": [
    "def load_df(fp):\n",
    "    df = pd.read_csv(fp, index_col = 0)\n",
    "    df = df.loc[df.index.isin(merfish_genes)]\n",
    "    deg_df = df[(df['p_val_adj'] < 0.01) & (abs(df['avg_log2FC']) > 0.1)]\n",
    "    return df, deg_df"
   ]
  },
  {
   "cell_type": "code",
   "execution_count": 18,
   "id": "c3c63fee-50c9-4c39-9db6-ff516e1a6152",
   "metadata": {
    "execution": {
     "iopub.execute_input": "2025-01-02T23:51:09.555876Z",
     "iopub.status.busy": "2025-01-02T23:51:09.555670Z",
     "iopub.status.idle": "2025-01-02T23:51:09.581428Z",
     "shell.execute_reply": "2025-01-02T23:51:09.580868Z",
     "shell.execute_reply.started": "2025-01-02T23:51:09.555855Z"
    },
    "tags": []
   },
   "outputs": [],
   "source": [
    "astro_te_df,astro_te_deg_df  = load_df(f\"DEGs/Astro-TE_NN.csv\")\n",
    "astro_nt_df, astro_nt_deg_df = load_df(f\"DEGs/Astro-NT_NN.csv\")"
   ]
  },
  {
   "cell_type": "code",
   "execution_count": null,
   "id": "7e97b7c2-107f-4565-aa58-6cd0b89abf0f",
   "metadata": {},
   "outputs": [],
   "source": [
    "# Pde1a, Shisa9, Camta1 down in NT"
   ]
  },
  {
   "cell_type": "code",
   "execution_count": 23,
   "id": "71f0140b-1afa-4e32-81e6-0c91e57c0b23",
   "metadata": {
    "execution": {
     "iopub.execute_input": "2025-01-02T23:58:45.111408Z",
     "iopub.status.busy": "2025-01-02T23:58:45.110715Z",
     "iopub.status.idle": "2025-01-02T23:58:45.117956Z",
     "shell.execute_reply": "2025-01-02T23:58:45.116714Z",
     "shell.execute_reply.started": "2025-01-02T23:58:45.111349Z"
    }
   },
   "outputs": [],
   "source": [
    "goi_list = ['Pde1a', 'Shisa9', 'Camta1']"
   ]
  },
  {
   "cell_type": "code",
   "execution_count": 25,
   "id": "90ce7f6f-3e1c-4526-8c19-cb2e17a6f007",
   "metadata": {
    "execution": {
     "iopub.execute_input": "2025-01-02T23:59:35.883797Z",
     "iopub.status.busy": "2025-01-02T23:59:35.883562Z",
     "iopub.status.idle": "2025-01-02T23:59:35.913968Z",
     "shell.execute_reply": "2025-01-02T23:59:35.913407Z",
     "shell.execute_reply.started": "2025-01-02T23:59:35.883776Z"
    },
    "tags": []
   },
   "outputs": [
    {
     "data": {
      "text/html": [
       "<div>\n",
       "<style scoped>\n",
       "    .dataframe tbody tr th:only-of-type {\n",
       "        vertical-align: middle;\n",
       "    }\n",
       "\n",
       "    .dataframe tbody tr th {\n",
       "        vertical-align: top;\n",
       "    }\n",
       "\n",
       "    .dataframe thead th {\n",
       "        text-align: right;\n",
       "    }\n",
       "</style>\n",
       "<table border=\"1\" class=\"dataframe\">\n",
       "  <thead>\n",
       "    <tr style=\"text-align: right;\">\n",
       "      <th></th>\n",
       "      <th>genes</th>\n",
       "      <th>pvalue</th>\n",
       "      <th>corrected_pvalue</th>\n",
       "      <th>18mo</th>\n",
       "      <th>8wk</th>\n",
       "      <th>9mo</th>\n",
       "      <th>gene_length</th>\n",
       "      <th>celltype</th>\n",
       "      <th>methylation_change</th>\n",
       "      <th>abs_change</th>\n",
       "      <th>trend</th>\n",
       "      <th>gene_name</th>\n",
       "    </tr>\n",
       "  </thead>\n",
       "  <tbody>\n",
       "    <tr>\n",
       "      <th>25972</th>\n",
       "      <td>ENSMUSG00000014592.20</td>\n",
       "      <td>4.399345e-01</td>\n",
       "      <td>1.000000e+00</td>\n",
       "      <td>0.784441</td>\n",
       "      <td>0.781003</td>\n",
       "      <td>0.787327</td>\n",
       "      <td>944554</td>\n",
       "      <td>Astro-NT NN</td>\n",
       "      <td>0.003438</td>\n",
       "      <td>0.003438</td>\n",
       "      <td>NaN</td>\n",
       "      <td>Camta1</td>\n",
       "    </tr>\n",
       "    <tr>\n",
       "      <th>26584</th>\n",
       "      <td>ENSMUSG00000022494.15</td>\n",
       "      <td>5.729657e-01</td>\n",
       "      <td>1.000000e+00</td>\n",
       "      <td>0.793323</td>\n",
       "      <td>0.790485</td>\n",
       "      <td>0.781958</td>\n",
       "      <td>286789</td>\n",
       "      <td>Astro-NT NN</td>\n",
       "      <td>0.002837</td>\n",
       "      <td>0.002837</td>\n",
       "      <td>NaN</td>\n",
       "      <td>Shisa9</td>\n",
       "    </tr>\n",
       "    <tr>\n",
       "      <th>39667</th>\n",
       "      <td>ENSMUSG00000059173.19</td>\n",
       "      <td>4.549861e-02</td>\n",
       "      <td>1.000000e+00</td>\n",
       "      <td>0.850308</td>\n",
       "      <td>0.851461</td>\n",
       "      <td>0.865136</td>\n",
       "      <td>295005</td>\n",
       "      <td>Astro-NT NN</td>\n",
       "      <td>-0.001153</td>\n",
       "      <td>0.001153</td>\n",
       "      <td>NaN</td>\n",
       "      <td>Pde1a</td>\n",
       "    </tr>\n",
       "    <tr>\n",
       "      <th>57075</th>\n",
       "      <td>ENSMUSG00000014592.20</td>\n",
       "      <td>5.310808e-24</td>\n",
       "      <td>2.484745e-19</td>\n",
       "      <td>0.761497</td>\n",
       "      <td>0.738208</td>\n",
       "      <td>0.754551</td>\n",
       "      <td>944554</td>\n",
       "      <td>Astro-TE NN</td>\n",
       "      <td>0.023289</td>\n",
       "      <td>0.023289</td>\n",
       "      <td>NaN</td>\n",
       "      <td>Camta1</td>\n",
       "    </tr>\n",
       "    <tr>\n",
       "      <th>57687</th>\n",
       "      <td>ENSMUSG00000022494.15</td>\n",
       "      <td>6.502015e-02</td>\n",
       "      <td>1.000000e+00</td>\n",
       "      <td>0.799616</td>\n",
       "      <td>0.787815</td>\n",
       "      <td>0.795259</td>\n",
       "      <td>286789</td>\n",
       "      <td>Astro-TE NN</td>\n",
       "      <td>0.011801</td>\n",
       "      <td>0.011801</td>\n",
       "      <td>NaN</td>\n",
       "      <td>Shisa9</td>\n",
       "    </tr>\n",
       "    <tr>\n",
       "      <th>70743</th>\n",
       "      <td>ENSMUSG00000059173.19</td>\n",
       "      <td>1.824005e-02</td>\n",
       "      <td>5.718520e-01</td>\n",
       "      <td>0.824481</td>\n",
       "      <td>0.815570</td>\n",
       "      <td>0.820984</td>\n",
       "      <td>295005</td>\n",
       "      <td>Astro-TE NN</td>\n",
       "      <td>0.008910</td>\n",
       "      <td>0.008910</td>\n",
       "      <td>NaN</td>\n",
       "      <td>Pde1a</td>\n",
       "    </tr>\n",
       "  </tbody>\n",
       "</table>\n",
       "</div>"
      ],
      "text/plain": [
       "                       genes        pvalue  corrected_pvalue      18mo  \\\n",
       "25972  ENSMUSG00000014592.20  4.399345e-01      1.000000e+00  0.784441   \n",
       "26584  ENSMUSG00000022494.15  5.729657e-01      1.000000e+00  0.793323   \n",
       "39667  ENSMUSG00000059173.19  4.549861e-02      1.000000e+00  0.850308   \n",
       "57075  ENSMUSG00000014592.20  5.310808e-24      2.484745e-19  0.761497   \n",
       "57687  ENSMUSG00000022494.15  6.502015e-02      1.000000e+00  0.799616   \n",
       "70743  ENSMUSG00000059173.19  1.824005e-02      5.718520e-01  0.824481   \n",
       "\n",
       "            8wk       9mo  gene_length     celltype  methylation_change  \\\n",
       "25972  0.781003  0.787327       944554  Astro-NT NN            0.003438   \n",
       "26584  0.790485  0.781958       286789  Astro-NT NN            0.002837   \n",
       "39667  0.851461  0.865136       295005  Astro-NT NN           -0.001153   \n",
       "57075  0.738208  0.754551       944554  Astro-TE NN            0.023289   \n",
       "57687  0.787815  0.795259       286789  Astro-TE NN            0.011801   \n",
       "70743  0.815570  0.820984       295005  Astro-TE NN            0.008910   \n",
       "\n",
       "       abs_change trend gene_name  \n",
       "25972    0.003438   NaN    Camta1  \n",
       "26584    0.002837   NaN    Shisa9  \n",
       "39667    0.001153   NaN     Pde1a  \n",
       "57075    0.023289   NaN    Camta1  \n",
       "57687    0.011801   NaN    Shisa9  \n",
       "70743    0.008910   NaN     Pde1a  "
      ]
     },
     "execution_count": 25,
     "metadata": {},
     "output_type": "execute_result"
    }
   ],
   "source": [
    "tmpdf[tmpdf['gene_name'].isin(goi_list)]"
   ]
  },
  {
   "cell_type": "code",
   "execution_count": null,
   "id": "78835ed1-e911-41b7-9512-b4431ce1a0aa",
   "metadata": {},
   "outputs": [],
   "source": []
  },
  {
   "cell_type": "code",
   "execution_count": null,
   "id": "ccc17462-434c-4cc4-9110-24a73328b6d6",
   "metadata": {},
   "outputs": [],
   "source": []
  },
  {
   "cell_type": "code",
   "execution_count": null,
   "id": "eb560635-260f-40ce-9a28-9e4836d5253d",
   "metadata": {},
   "outputs": [],
   "source": []
  }
 ],
 "metadata": {
  "kernelspec": {
   "display_name": "Python 3 (ipykernel)",
   "language": "python",
   "name": "python3"
  },
  "language_info": {
   "codemirror_mode": {
    "name": "ipython",
    "version": 3
   },
   "file_extension": ".py",
   "mimetype": "text/x-python",
   "name": "python",
   "nbconvert_exporter": "python",
   "pygments_lexer": "ipython3",
   "version": "3.7.12"
  }
 },
 "nbformat": 4,
 "nbformat_minor": 5
}
