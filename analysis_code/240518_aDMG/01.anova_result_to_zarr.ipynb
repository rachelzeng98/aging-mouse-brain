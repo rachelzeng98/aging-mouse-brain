{
 "cells": [
  {
   "cell_type": "code",
   "execution_count": 1,
   "id": "0720fbdf-4b30-4d96-a43c-c7129d00a9c6",
   "metadata": {
    "execution": {
     "iopub.execute_input": "2024-05-22T21:39:42.279006Z",
     "iopub.status.busy": "2024-05-22T21:39:42.278787Z",
     "iopub.status.idle": "2024-05-22T21:39:45.696456Z",
     "shell.execute_reply": "2024-05-22T21:39:45.695289Z",
     "shell.execute_reply.started": "2024-05-22T21:39:42.278985Z"
    },
    "tags": []
   },
   "outputs": [],
   "source": [
    "import pandas as pd\n",
    "from ALLCools.mcds import MCDS\n",
    "from scipy.stats import f_oneway, ttest_ind, kruskal\n",
    "import joblib\n",
    "import anndata\n",
    "from wmb import mm10\n",
    "import pingouin as pg\n",
    "import xarray as xr\n",
    "import joblib\n",
    "import numpy as np"
   ]
  },
  {
   "cell_type": "code",
   "execution_count": 2,
   "id": "e75963cf-1b89-4eb7-a2f4-e2f5f9b979ee",
   "metadata": {
    "execution": {
     "iopub.execute_input": "2024-05-22T21:39:45.699625Z",
     "iopub.status.busy": "2024-05-22T21:39:45.699304Z",
     "iopub.status.idle": "2024-05-22T21:39:46.188561Z",
     "shell.execute_reply": "2024-05-22T21:39:46.188004Z",
     "shell.execute_reply.started": "2024-05-22T21:39:45.699603Z"
    },
    "tags": []
   },
   "outputs": [
    {
     "name": "stderr",
     "output_type": "stream",
     "text": [
      "/home/qz/miniconda3/envs/allcools/lib/python3.7/site-packages/outdated/utils.py:18: OutdatedPackageWarning: The package pingouin is out of date. Your version is 0.5.2, the latest is 0.5.4.\n",
      "Set the environment variable OUTDATED_IGNORE=1 to disable these warnings.\n",
      "  **kwargs\n",
      "/home/qz/miniconda3/envs/allcools/lib/python3.7/site-packages/outdated/utils.py:18: OutdatedPackageWarning: The package outdated is out of date. Your version is 0.2.1, the latest is 0.2.2.\n",
      "Set the environment variable OUTDATED_IGNORE=1 to disable these warnings.\n",
      "  **kwargs\n"
     ]
    }
   ],
   "source": [
    "gene_name_to_id = joblib.load('240112_DMG_CEF/gene_name_to_id_dict')\n",
    "gene_id_to_name = joblib.load('240112_DMG_CEF/gene_id_to_name_dict')"
   ]
  },
  {
   "cell_type": "markdown",
   "id": "33c44780-9cc4-4f95-ba85-c660e247c167",
   "metadata": {},
   "source": [
    "1. calculate p value by f_oneway\n",
    "2. do a fdr correction"
   ]
  },
  {
   "cell_type": "code",
   "execution_count": 3,
   "id": "5ea40b28-052a-4ff3-afdb-42355f1a785d",
   "metadata": {
    "execution": {
     "iopub.execute_input": "2024-05-22T21:39:46.189601Z",
     "iopub.status.busy": "2024-05-22T21:39:46.189310Z",
     "iopub.status.idle": "2024-05-22T21:39:46.192213Z",
     "shell.execute_reply": "2024-05-22T21:39:46.191782Z",
     "shell.execute_reply.started": "2024-05-22T21:39:46.189580Z"
    },
    "tags": []
   },
   "outputs": [],
   "source": [
    "_gender = 'Female'\n",
    "mc_type = 'CHN'"
   ]
  },
  {
   "cell_type": "code",
   "execution_count": 4,
   "id": "52caa61d-f3c9-4c9f-ae1e-3508db67f24c",
   "metadata": {
    "execution": {
     "iopub.execute_input": "2024-05-22T21:39:46.193101Z",
     "iopub.status.busy": "2024-05-22T21:39:46.192848Z",
     "iopub.status.idle": "2024-05-22T21:39:46.785032Z",
     "shell.execute_reply": "2024-05-22T21:39:46.784494Z",
     "shell.execute_reply.started": "2024-05-22T21:39:46.193081Z"
    },
    "tags": []
   },
   "outputs": [],
   "source": [
    "if _gender == 'Female':\n",
    "    mcds_paths = \"Female.genes_frac.mcds\"\n",
    "    var_dim = \"gene\"\n",
    "    meta = pd.read_csv('/home/qzeng/project/aging/metadata/240104_m3C_META.csv', index_col = 0)\n",
    "    use_cts = joblib.load(f\"/home/qzeng/project/aging/metadata/m3c_use_cts\")\n",
    "elif _gender == 'Male':\n",
    "    mcds_paths = \"Male.genes_frac.mcds\"\n",
    "    var_dim = \"geneslop2k\"\n",
    "    meta = pd.read_csv('/home/qzeng/project/aging/metadata/240104_mC_META.csv', index_col = 0)\n",
    "    use_cts = joblib.load(f\"/home/qzeng/project/aging/metadata/mc_use_cts\")"
   ]
  },
  {
   "cell_type": "code",
   "execution_count": 5,
   "id": "5e5e60cf-de20-4f7b-9a4f-9fab8e04dd72",
   "metadata": {
    "execution": {
     "iopub.execute_input": "2024-05-22T21:39:46.786149Z",
     "iopub.status.busy": "2024-05-22T21:39:46.785861Z",
     "iopub.status.idle": "2024-05-22T21:39:46.810519Z",
     "shell.execute_reply": "2024-05-22T21:39:46.809952Z",
     "shell.execute_reply.started": "2024-05-22T21:39:46.786127Z"
    },
    "tags": []
   },
   "outputs": [],
   "source": [
    "use_meta = meta[meta['AgingMajorType'].isin(use_cts)]"
   ]
  },
  {
   "cell_type": "code",
   "execution_count": 6,
   "id": "41efe4d0-1d08-45c6-a587-292adeef37bf",
   "metadata": {
    "execution": {
     "iopub.execute_input": "2024-05-22T21:39:46.811593Z",
     "iopub.status.busy": "2024-05-22T21:39:46.811297Z",
     "iopub.status.idle": "2024-05-22T21:41:27.808835Z",
     "shell.execute_reply": "2024-05-22T21:41:27.807801Z",
     "shell.execute_reply.started": "2024-05-22T21:39:46.811571Z"
    },
    "tags": []
   },
   "outputs": [],
   "source": [
    "mcds =  MCDS.open(mcds_paths, var_dim=var_dim, use_obs=use_meta.index).sel(mc_type=mc_type).load()"
   ]
  },
  {
   "cell_type": "code",
   "execution_count": 7,
   "id": "8f5e3186-12ec-4acf-9766-5b013b5d6e51",
   "metadata": {
    "execution": {
     "iopub.execute_input": "2024-05-22T21:41:27.811797Z",
     "iopub.status.busy": "2024-05-22T21:41:27.811289Z",
     "iopub.status.idle": "2024-05-22T21:41:27.855405Z",
     "shell.execute_reply": "2024-05-22T21:41:27.854850Z",
     "shell.execute_reply.started": "2024-05-22T21:41:27.811771Z"
    },
    "tags": []
   },
   "outputs": [],
   "source": [
    "mcds.coords['AgingMajorType'] = use_meta['AgingMajorType']\n",
    "mcds.coords['Age'] = use_meta['Age']"
   ]
  },
  {
   "cell_type": "code",
   "execution_count": 8,
   "id": "b232dda5-fc70-4aed-bc8a-259fad605aba",
   "metadata": {
    "execution": {
     "iopub.execute_input": "2024-05-22T21:41:27.856400Z",
     "iopub.status.busy": "2024-05-22T21:41:27.856148Z",
     "iopub.status.idle": "2024-05-22T21:41:27.859382Z",
     "shell.execute_reply": "2024-05-22T21:41:27.858923Z",
     "shell.execute_reply.started": "2024-05-22T21:41:27.856377Z"
    },
    "tags": []
   },
   "outputs": [],
   "source": [
    "genes = mcds.get_index(var_dim)"
   ]
  },
  {
   "cell_type": "code",
   "execution_count": 9,
   "id": "b9c05690-3c6e-481d-9997-94d36b5ed5e2",
   "metadata": {
    "execution": {
     "iopub.execute_input": "2024-05-22T21:41:27.860332Z",
     "iopub.status.busy": "2024-05-22T21:41:27.860047Z",
     "iopub.status.idle": "2024-05-22T21:41:27.874078Z",
     "shell.execute_reply": "2024-05-22T21:41:27.873649Z",
     "shell.execute_reply.started": "2024-05-22T21:41:27.860311Z"
    },
    "tags": []
   },
   "outputs": [
    {
     "data": {
      "text/plain": [
       "True"
      ]
     },
     "execution_count": 9,
     "metadata": {},
     "output_type": "execute_result"
    }
   ],
   "source": [
    "gene_name_to_id['Xist'] in genes"
   ]
  },
  {
   "cell_type": "code",
   "execution_count": 10,
   "id": "0146a66c-1f6f-43a4-9671-d7489e8bef84",
   "metadata": {
    "execution": {
     "iopub.execute_input": "2024-05-22T21:41:27.875063Z",
     "iopub.status.busy": "2024-05-22T21:41:27.874784Z",
     "iopub.status.idle": "2024-05-22T21:43:58.391296Z",
     "shell.execute_reply": "2024-05-22T21:43:58.390484Z",
     "shell.execute_reply.started": "2024-05-22T21:41:27.875042Z"
    },
    "tags": []
   },
   "outputs": [
    {
     "name": "stdout",
     "output_type": "stream",
     "text": [
      "Astro-NT NN\n",
      "Astro-TE NN\n",
      "CA1-ProS Glut\n",
      "CA3 Glut\n",
      "CEA-BST Gaba\n",
      "CS-PRNr-DR En1 Sox2 Gaba\n",
      "DG Glut\n",
      "DG-PIR Ex IMN\n",
      "L2/3 IT CTX Glut\n",
      "L2/3 IT ENT Glut\n",
      "L2/3 IT PPP Glut\n",
      "L4/5 IT CTX Glut\n",
      "L5 ET CTX Glut\n",
      "L5 IT CTX Glut\n",
      "L5 NP CTX Glut\n",
      "L6 CT CTX Glut\n",
      "L6 IT CTX Glut\n",
      "L6b/CT ENT Glut\n",
      "LA-BLA-BMA-PA Glut\n",
      "LDT-PCG-CS Gata3 Lhx1 Gaba\n",
      "Lamp5 Gaba\n",
      "MEA-BST Gaba\n",
      "MEA-COA Glut\n",
      "MRN-VTN-PPN Pax5 Cdh23 Gaba\n",
      "Microglia NN\n",
      "OPC NN\n",
      "Oligo NN\n",
      "PAG Glut\n",
      "PAG-PPN Pax5 Sox21 Gaba\n",
      "PB Evx2 Glut\n",
      "Pvalb Gaba\n",
      "STR D1 Gaba\n",
      "STR D1 Sema5a Gaba\n",
      "STR D2 Gaba\n",
      "STR Gaba\n",
      "STR-PAL Chst9 Gaba\n",
      "SUB-ProS Glut\n",
      "Sst Gaba\n",
      "VLMC NN\n",
      "Vip Gaba\n"
     ]
    }
   ],
   "source": [
    "df_list = []\n",
    "cell_types = []\n",
    "\n",
    "for mt ,tmp_mcds in mcds.groupby('AgingMajorType'):\n",
    "\n",
    "    tmp_meta = tmp_mcds['Age'].to_pandas()\n",
    "\n",
    "    tmp_8wk_cells = tmp_meta[tmp_meta == '8wk'].index\n",
    "    tmp_9mo_cells = tmp_meta[tmp_meta == '9mo'].index\n",
    "    tmp_18mo_cells = tmp_meta[tmp_meta == '18mo'].index\n",
    "\n",
    "    tmp_gene_frac = tmp_mcds[f\"{var_dim}_da_frac\"].to_pandas()\n",
    "\n",
    "    F, p_value = f_oneway(\n",
    "        tmp_gene_frac.loc[tmp_8wk_cells],\n",
    "        tmp_gene_frac.loc[tmp_9mo_cells],\n",
    "        tmp_gene_frac.loc[tmp_18mo_cells],\n",
    "        axis=0,\n",
    "    )\n",
    "    celltype_gene_pvalue = pd.DataFrame({\"pvalue\": p_value}, index=genes)\n",
    "    \n",
    "    # fdr correction\n",
    "    reject, pvals_corr = pg.multicomp(celltype_gene_pvalue[f'pvalue'], method=\"fdr_by\")\n",
    "    celltype_gene_pvalue['corrected_pvalue'] = pvals_corr\n",
    "\n",
    "    tmp_gene_frac['Age'] = use_meta['Age']\n",
    "    gene_mean_by_age = tmp_gene_frac.groupby('Age').mean().T\n",
    "    gene_mean_by_age.columns = [f'{_age}' for _age in gene_mean_by_age.columns]\n",
    "\n",
    "    celltype_gene_pvalue_and_mean = pd.concat([celltype_gene_pvalue, gene_mean_by_age], axis = 1)\n",
    "    df_list.append(celltype_gene_pvalue_and_mean)\n",
    "    cell_types.append(mt)\n",
    "    print(mt)"
   ]
  },
  {
   "cell_type": "code",
   "execution_count": 11,
   "id": "950d6c1b-3198-469b-879c-9b1838103950",
   "metadata": {
    "execution": {
     "iopub.execute_input": "2024-05-22T21:43:58.392784Z",
     "iopub.status.busy": "2024-05-22T21:43:58.392444Z",
     "iopub.status.idle": "2024-05-22T21:43:58.955118Z",
     "shell.execute_reply": "2024-05-22T21:43:58.954298Z",
     "shell.execute_reply.started": "2024-05-22T21:43:58.392757Z"
    },
    "tags": []
   },
   "outputs": [
    {
     "data": {
      "text/plain": [
       "<xarray.backends.zarr.ZarrStore at 0x7f34c4b107d0>"
      ]
     },
     "execution_count": 11,
     "metadata": {},
     "output_type": "execute_result"
    }
   ],
   "source": [
    "data_arrays = []\n",
    "for cell_type, df in dict(zip(cell_types,df_list)).items():\n",
    "    data = np.array([df])\n",
    "    da = xr.DataArray(data, \n",
    "                      coords=[\n",
    "                          [cell_type],\n",
    "                          df.index, \n",
    "                          df.columns, \n",
    "                          ],\n",
    "                      dims=['cell_type','genes', 'columns'])\n",
    "    data_arrays.append(da)\n",
    "total_data = xr.Dataset({f\"anova_results\": xr.concat(data_arrays, dim=\"cell_type\")})\n",
    "total_data.to_zarr(f'{mc_type}.{_gender}.AgingMajorType.Anova.Result.zarr', mode='w')"
   ]
  },
  {
   "cell_type": "code",
   "execution_count": null,
   "id": "907cfdf8-1cbc-4e34-a698-74998b3cc16b",
   "metadata": {},
   "outputs": [],
   "source": []
  },
  {
   "cell_type": "code",
   "execution_count": null,
   "id": "d816f877-ea06-440e-a3b3-bba1ba6608be",
   "metadata": {},
   "outputs": [],
   "source": []
  },
  {
   "cell_type": "code",
   "execution_count": null,
   "id": "20936f95-8d2a-49e3-b049-94904fd8fd40",
   "metadata": {},
   "outputs": [],
   "source": []
  }
 ],
 "metadata": {
  "kernelspec": {
   "display_name": "Python 3 (ipykernel)",
   "language": "python",
   "name": "python3"
  },
  "language_info": {
   "codemirror_mode": {
    "name": "ipython",
    "version": 3
   },
   "file_extension": ".py",
   "mimetype": "text/x-python",
   "name": "python",
   "nbconvert_exporter": "python",
   "pygments_lexer": "ipython3",
   "version": "3.7.12"
  }
 },
 "nbformat": 4,
 "nbformat_minor": 5
}
