{
 "cells": [
  {
   "cell_type": "code",
   "execution_count": 1,
   "id": "79779928-704b-4a0b-a291-eff983c162fc",
   "metadata": {
    "execution": {
     "iopub.execute_input": "2024-09-23T22:12:50.691730Z",
     "iopub.status.busy": "2024-09-23T22:12:50.691285Z",
     "iopub.status.idle": "2024-09-23T22:12:54.144508Z",
     "shell.execute_reply": "2024-09-23T22:12:54.142172Z",
     "shell.execute_reply.started": "2024-09-23T22:12:50.691689Z"
    },
    "tags": []
   },
   "outputs": [],
   "source": [
    "import pandas as pd\n",
    "import matplotlib.pyplot as plt\n",
    "import seaborn as sns\n",
    "import joblib\n",
    "import numpy as np\n",
    "from scipy import stats\n",
    "import gseapy as gp\n",
    "from gseapy import barplot, dotplot\n",
    "import seaborn as sns\n",
    "import matplotlib.pyplot as plt\n",
    "import PyComplexHeatmap as pch\n",
    "from PyComplexHeatmap import *\n",
    "\n",
    "plt.rcParams['figure.dpi'] = 200\n",
    "plt.rcParams['savefig.dpi']=300\n",
    "plt.rcParams['pdf.fonttype']=42"
   ]
  },
  {
   "cell_type": "code",
   "execution_count": 2,
   "id": "41af7dc2-c1f1-4ab1-8b5a-ca43bd42553f",
   "metadata": {
    "execution": {
     "iopub.execute_input": "2024-09-23T22:12:54.149570Z",
     "iopub.status.busy": "2024-09-23T22:12:54.148526Z",
     "iopub.status.idle": "2024-09-23T22:12:54.154519Z",
     "shell.execute_reply": "2024-09-23T22:12:54.153832Z",
     "shell.execute_reply.started": "2024-09-23T22:12:54.149527Z"
    },
    "tags": []
   },
   "outputs": [],
   "source": [
    "_gender = 'Male'\n",
    "mc_type = 'CGN'\n",
    "ct_type = 'All_CellType'"
   ]
  },
  {
   "cell_type": "code",
   "execution_count": 3,
   "id": "7999f31e-8398-4ccb-869e-3db6cc8a76a1",
   "metadata": {
    "execution": {
     "iopub.execute_input": "2024-09-23T22:12:54.156136Z",
     "iopub.status.busy": "2024-09-23T22:12:54.155704Z",
     "iopub.status.idle": "2024-09-23T22:12:55.373655Z",
     "shell.execute_reply": "2024-09-23T22:12:55.372904Z",
     "shell.execute_reply.started": "2024-09-23T22:12:54.156105Z"
    },
    "tags": []
   },
   "outputs": [],
   "source": [
    "gene_name_to_id = joblib.load('/home/qzeng/project/aging/240112_DMG_CEF/gene_name_to_id_dict')\n",
    "gene_id_to_name = joblib.load('/home/qzeng/project/aging/240112_DMG_CEF/gene_id_to_name_dict')\n",
    "\n",
    "gene_meta_path = '/home/qzeng/project/aging/metadata/gencode.vM22.basic.annotation.gene.flat.tsv.gz'\n",
    "gene_meta = pd.read_csv(gene_meta_path, index_col ='gene_id', sep='\\t')\n",
    "gene_meta['length'] = gene_meta['end'] - gene_meta['start']\n",
    "gene_length_dict = gene_meta['length'].to_dict()"
   ]
  },
  {
   "cell_type": "code",
   "execution_count": 4,
   "id": "61bc3fbb-a29d-4587-9661-8096adcfdfa7",
   "metadata": {
    "execution": {
     "iopub.execute_input": "2024-09-23T22:12:55.375250Z",
     "iopub.status.busy": "2024-09-23T22:12:55.374812Z",
     "iopub.status.idle": "2024-09-23T22:13:03.133458Z",
     "shell.execute_reply": "2024-09-23T22:13:03.132314Z",
     "shell.execute_reply.started": "2024-09-23T22:12:55.375220Z"
    },
    "tags": []
   },
   "outputs": [
    {
     "name": "stderr",
     "output_type": "stream",
     "text": [
      "/home/qz/miniconda3/envs/allcools/lib/python3.7/site-packages/IPython/core/interactiveshell.py:3552: DtypeWarning: Columns (10) have mixed types.Specify dtype option on import or set low_memory=False.\n",
      "  exec(code_obj, self.user_global_ns, self.user_ns)\n"
     ]
    }
   ],
   "source": [
    "_dir = '/home/qzeng/project/aging/240112_DMG_CEF'\n",
    "mc_all = pd.read_csv(f'{_dir}/result/{_gender}.{mc_type}.DMG.csv', index_col = 0)\n",
    "mc_all['celltype'] = mc_all['celltype'].apply(lambda x: x.replace('/','').replace(' ','_'))"
   ]
  },
  {
   "cell_type": "code",
   "execution_count": 5,
   "id": "2a1c0d32-57d0-4778-b829-f7956578901c",
   "metadata": {
    "execution": {
     "iopub.execute_input": "2024-09-23T22:13:03.136909Z",
     "iopub.status.busy": "2024-09-23T22:13:03.136213Z",
     "iopub.status.idle": "2024-09-23T22:13:03.143405Z",
     "shell.execute_reply": "2024-09-23T22:13:03.142708Z",
     "shell.execute_reply.started": "2024-09-23T22:13:03.136874Z"
    },
    "tags": []
   },
   "outputs": [],
   "source": [
    "use_cts= joblib.load('mc_rna_corr_cts')\n",
    "if ct_type == 'Neuron':\n",
    "    use_cts = [ct for ct in use_cts if ct.endswith('NN') == False]\n",
    "elif ct_type == 'NN':\n",
    "    use_cts = [ct for ct in use_cts if ct.endswith('NN') == True]\n",
    "if ct_type == 'All_CellType':\n",
    "    use_cts= joblib.load('mc_rna_corr_cts')"
   ]
  },
  {
   "cell_type": "code",
   "execution_count": 19,
   "id": "0d6b4925-f09a-485b-abab-6c9cf0171ae7",
   "metadata": {
    "execution": {
     "iopub.execute_input": "2024-09-23T22:14:32.726083Z",
     "iopub.status.busy": "2024-09-23T22:14:32.725081Z",
     "iopub.status.idle": "2024-09-23T22:14:32.733773Z",
     "shell.execute_reply": "2024-09-23T22:14:32.732290Z",
     "shell.execute_reply.started": "2024-09-23T22:14:32.726025Z"
    },
    "tags": []
   },
   "outputs": [],
   "source": [
    "_type = 'DEG'\n",
    "pvalue_cutoff = 0.05\n",
    "fc_cutoff = 0"
   ]
  },
  {
   "cell_type": "code",
   "execution_count": 20,
   "id": "81296be9-10ce-4523-a3c0-7601c33a70a5",
   "metadata": {
    "execution": {
     "iopub.execute_input": "2024-09-23T22:14:33.040369Z",
     "iopub.status.busy": "2024-09-23T22:14:33.039233Z",
     "iopub.status.idle": "2024-09-23T22:14:33.046646Z",
     "shell.execute_reply": "2024-09-23T22:14:33.044872Z",
     "shell.execute_reply.started": "2024-09-23T22:14:33.040288Z"
    },
    "tags": []
   },
   "outputs": [],
   "source": [
    "goi = 'Suv39h2'"
   ]
  },
  {
   "cell_type": "code",
   "execution_count": 21,
   "id": "03c9cfe0-c84e-4488-baf3-6f66948c96ea",
   "metadata": {
    "execution": {
     "iopub.execute_input": "2024-09-23T22:14:33.315191Z",
     "iopub.status.busy": "2024-09-23T22:14:33.314071Z",
     "iopub.status.idle": "2024-09-23T22:14:33.766821Z",
     "shell.execute_reply": "2024-09-23T22:14:33.765864Z",
     "shell.execute_reply.started": "2024-09-23T22:14:33.315133Z"
    },
    "tags": []
   },
   "outputs": [
    {
     "name": "stderr",
     "output_type": "stream",
     "text": [
      "/home/qz/miniconda3/envs/allcools/lib/python3.7/site-packages/ipykernel_launcher.py:9: SettingWithCopyWarning: \n",
      "A value is trying to be set on a copy of a slice from a DataFrame.\n",
      "Try using .loc[row_indexer,col_indexer] = value instead\n",
      "\n",
      "See the caveats in the documentation: https://pandas.pydata.org/pandas-docs/stable/user_guide/indexing.html#returning-a-view-versus-a-copy\n",
      "  if __name__ == \"__main__\":\n"
     ]
    }
   ],
   "source": [
    "all_deg_df = []\n",
    "\n",
    "for ct in use_cts:\n",
    "    rna_df = pd.read_csv(f\"DEGs/{ct}.csv\", index_col = 0)\n",
    "    rna_df['log2(Aged/Young)'] = -rna_df['avg_log2FC']\n",
    "    \n",
    "    # also filter for DMGs\n",
    "    deg_df = rna_df[(rna_df['p_val_adj'] < pvalue_cutoff) & (abs(rna_df['log2(Aged/Young)']) > fc_cutoff)]\n",
    "    deg_df['celltype'] = ct\n",
    "    if goi in deg_df.index:\n",
    "        deg_df = deg_df.loc[goi]\n",
    "        all_deg_df.append(deg_df)\n"
   ]
  },
  {
   "cell_type": "code",
   "execution_count": 22,
   "id": "e52552ca-c9f2-47c2-ada4-a247b4c68e16",
   "metadata": {
    "execution": {
     "iopub.execute_input": "2024-09-23T22:14:33.768436Z",
     "iopub.status.busy": "2024-09-23T22:14:33.768190Z",
     "iopub.status.idle": "2024-09-23T22:14:33.775811Z",
     "shell.execute_reply": "2024-09-23T22:14:33.774406Z",
     "shell.execute_reply.started": "2024-09-23T22:14:33.768415Z"
    },
    "tags": []
   },
   "outputs": [
    {
     "data": {
      "text/plain": [
       "[p_val                    0.0\n",
       " avg_log2FC          1.178646\n",
       " pct.1                  0.016\n",
       " pct.2                  0.007\n",
       " p_val_adj           0.000325\n",
       " log2(Aged/Young)   -1.178646\n",
       " celltype             DG_Glut\n",
       " Name: Suv39h2, dtype: object]"
      ]
     },
     "execution_count": 22,
     "metadata": {},
     "output_type": "execute_result"
    }
   ],
   "source": [
    "all_deg_df"
   ]
  },
  {
   "cell_type": "code",
   "execution_count": null,
   "id": "671eeddf-436f-47a7-8ad7-0d92ad03202c",
   "metadata": {},
   "outputs": [],
   "source": []
  },
  {
   "cell_type": "code",
   "execution_count": null,
   "id": "1f1814dd-8ba3-427a-a691-936c31348827",
   "metadata": {},
   "outputs": [],
   "source": []
  },
  {
   "cell_type": "code",
   "execution_count": null,
   "id": "4aa20f72-7930-49d1-aee4-4f5fe25b691c",
   "metadata": {},
   "outputs": [],
   "source": []
  },
  {
   "cell_type": "code",
   "execution_count": null,
   "id": "512fd6d4-5b7f-48fd-9a90-163941955176",
   "metadata": {},
   "outputs": [],
   "source": []
  },
  {
   "cell_type": "code",
   "execution_count": null,
   "id": "6e89c8eb-86b8-407b-80e3-13558649f643",
   "metadata": {},
   "outputs": [],
   "source": []
  },
  {
   "cell_type": "code",
   "execution_count": null,
   "id": "df425f57-6ee2-4261-b410-465c6365be13",
   "metadata": {},
   "outputs": [],
   "source": []
  },
  {
   "cell_type": "code",
   "execution_count": null,
   "id": "be3f1e60-1403-413a-9d27-718e4756d822",
   "metadata": {},
   "outputs": [],
   "source": []
  }
 ],
 "metadata": {
  "kernelspec": {
   "display_name": "Python 3 (ipykernel)",
   "language": "python",
   "name": "python3"
  },
  "language_info": {
   "codemirror_mode": {
    "name": "ipython",
    "version": 3
   },
   "file_extension": ".py",
   "mimetype": "text/x-python",
   "name": "python",
   "nbconvert_exporter": "python",
   "pygments_lexer": "ipython3",
   "version": "3.7.12"
  }
 },
 "nbformat": 4,
 "nbformat_minor": 5
}
