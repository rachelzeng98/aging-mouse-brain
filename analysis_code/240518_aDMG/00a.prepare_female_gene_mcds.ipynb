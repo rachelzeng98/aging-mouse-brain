{
 "cells": [
  {
   "cell_type": "code",
   "execution_count": 1,
   "id": "fe719112-647d-4490-a3fa-7845b40c4f47",
   "metadata": {
    "execution": {
     "iopub.execute_input": "2025-01-02T22:03:54.671790Z",
     "iopub.status.busy": "2025-01-02T22:03:54.671052Z",
     "iopub.status.idle": "2025-01-02T22:03:57.592934Z",
     "shell.execute_reply": "2025-01-02T22:03:57.591769Z",
     "shell.execute_reply.started": "2025-01-02T22:03:54.671736Z"
    },
    "tags": []
   },
   "outputs": [],
   "source": [
    "import pandas as pd\n",
    "import pybedtools\n",
    "from ALLCools.mcds import MCDS\n",
    "import glob\n",
    "import joblib"
   ]
  },
  {
   "cell_type": "code",
   "execution_count": 2,
   "id": "229b90e4-ebf2-4432-884b-30d48e57267e",
   "metadata": {
    "execution": {
     "iopub.execute_input": "2025-01-02T22:03:57.595244Z",
     "iopub.status.busy": "2025-01-02T22:03:57.595011Z",
     "iopub.status.idle": "2025-01-02T22:03:57.737600Z",
     "shell.execute_reply": "2025-01-02T22:03:57.736040Z",
     "shell.execute_reply.started": "2025-01-02T22:03:57.595222Z"
    },
    "tags": []
   },
   "outputs": [],
   "source": [
    "gene_meta_path = '/home/qzeng/project/aging/metadata/gencode.vM22.basic.annotation.gene.flat.tsv.gz'\n",
    "chrom_to_remove = ['chrM','chrY']\n",
    "\n",
    "# change this to the path to your filtered metadata\n",
    "metadata_path = '/home/qzeng/project/aging/metadata/240104_m3C_META.csv'\n",
    "\n",
    "# change this to the paths to your MCDS files\n",
    "obs_dim = 'cell'\n",
    "var_dim = 'gene'\n",
    "\n",
    "min_cov = 5\n",
    "\n",
    "mcds_path = glob.glob('/ceph/gale-1/qzeng/AmbData/5kb_MCDS/F.MCDS/*.mcds/gene')"
   ]
  },
  {
   "cell_type": "code",
   "execution_count": 3,
   "id": "05324754-e41a-4f3d-aa34-9ed4543703ec",
   "metadata": {
    "execution": {
     "iopub.execute_input": "2025-01-02T22:03:57.739671Z",
     "iopub.status.busy": "2025-01-02T22:03:57.739154Z",
     "iopub.status.idle": "2025-01-02T22:03:59.270677Z",
     "shell.execute_reply": "2025-01-02T22:03:59.270045Z",
     "shell.execute_reply.started": "2025-01-02T22:03:57.739622Z"
    },
    "tags": []
   },
   "outputs": [],
   "source": [
    "metadata = pd.read_csv(metadata_path, index_col = 0)\n",
    "\n",
    "gene_name_to_id = joblib.load('240112_DMG_CEF/gene_name_to_id_dict')\n",
    "gene_id_to_name = joblib.load('240112_DMG_CEF/gene_id_to_name_dict')\n",
    "\n",
    "gene_meta = pd.read_csv(gene_meta_path, index_col ='gene_id', sep='\\t')"
   ]
  },
  {
   "cell_type": "markdown",
   "id": "61d3a8c2-7d7a-4b58-aac3-6a4052d3b413",
   "metadata": {
    "tags": []
   },
   "source": [
    "## prepare male gene MCDS"
   ]
  },
  {
   "cell_type": "code",
   "execution_count": 4,
   "id": "bac69efd-12bb-4b30-b0ae-81fdf36bde36",
   "metadata": {
    "execution": {
     "iopub.execute_input": "2024-05-22T06:20:22.202359Z",
     "iopub.status.busy": "2024-05-22T06:20:22.202087Z",
     "iopub.status.idle": "2024-05-22T06:20:22.213229Z",
     "shell.execute_reply": "2024-05-22T06:20:22.212739Z",
     "shell.execute_reply.started": "2024-05-22T06:20:22.202325Z"
    },
    "tags": []
   },
   "outputs": [
    {
     "name": "stdout",
     "output_type": "stream",
     "text": [
      "53881 features remained\n"
     ]
    }
   ],
   "source": [
    "genes_to_skip = set()\n",
    "\n",
    "# skip smaller genes mostly covered by a larger gene, e.g., a miRNA within a protein coding gene.\n",
    "# F=0.9 means > 90% of gene_b is overlapped with gene_a, in this case, we only keep gene_a for DMG test\n",
    "# gene_bed = pybedtools.BedTool.from_dataframe(\n",
    "#     gene_meta.reset_index()[['chrom', 'start', 'end', 'gene_id']])\n",
    "# mapped_bam = gene_bed.map(b=gene_bed, c=4, o='distinct', F=0.9)\n",
    "# for _, (*_, gene_a, gene_b_str) in mapped_bam.to_dataframe().iterrows():\n",
    "#     for gene_b in gene_b_str.split(','):\n",
    "#         if gene_b != gene_a:\n",
    "#             genes_to_skip.add(gene_b)\n",
    "\n",
    "# remove certain chromosomes\n",
    "genes_to_skip |= set(gene_meta.index[gene_meta['chrom'].isin(chrom_to_remove)])\n",
    "use_features = gene_meta.index[~gene_meta.index.isin(genes_to_skip)]\n",
    "print(f'{use_features.size} features remained')"
   ]
  },
  {
   "cell_type": "code",
   "execution_count": 5,
   "id": "eda6ec63-0a3c-4b3e-ac2f-c080bc09b866",
   "metadata": {
    "execution": {
     "iopub.execute_input": "2024-05-22T06:20:22.214172Z",
     "iopub.status.busy": "2024-05-22T06:20:22.213896Z",
     "iopub.status.idle": "2024-05-22T06:20:23.789743Z",
     "shell.execute_reply": "2024-05-22T06:20:23.789191Z",
     "shell.execute_reply.started": "2024-05-22T06:20:22.214145Z"
    },
    "tags": []
   },
   "outputs": [],
   "source": [
    "mcds = MCDS.open(mcds_path, \n",
    "                 var_dim=var_dim,\n",
    "                 use_obs=metadata.index\n",
    "                )"
   ]
  },
  {
   "cell_type": "code",
   "execution_count": 6,
   "id": "d3291dcb-8457-41d7-be54-91a7bc4df4c4",
   "metadata": {
    "execution": {
     "iopub.execute_input": "2024-05-22T06:20:23.791418Z",
     "iopub.status.busy": "2024-05-22T06:20:23.791010Z",
     "iopub.status.idle": "2024-05-22T06:20:23.794176Z",
     "shell.execute_reply": "2024-05-22T06:20:23.793682Z",
     "shell.execute_reply.started": "2024-05-22T06:20:23.791395Z"
    },
    "tags": []
   },
   "outputs": [],
   "source": [
    "all_ = mcds.get_index(var_dim)"
   ]
  },
  {
   "cell_type": "code",
   "execution_count": 7,
   "id": "8ec5885f-1cec-47da-8b88-74f66be45f90",
   "metadata": {
    "execution": {
     "iopub.execute_input": "2024-05-22T06:20:23.795201Z",
     "iopub.status.busy": "2024-05-22T06:20:23.794836Z",
     "iopub.status.idle": "2024-05-22T06:20:23.826570Z",
     "shell.execute_reply": "2024-05-22T06:20:23.826092Z",
     "shell.execute_reply.started": "2024-05-22T06:20:23.795181Z"
    },
    "tags": []
   },
   "outputs": [
    {
     "data": {
      "text/plain": [
       "53881"
      ]
     },
     "execution_count": 7,
     "metadata": {},
     "output_type": "execute_result"
    }
   ],
   "source": [
    "use_features = list(set(mcds.get_index(var_dim)) & set(use_features))\n",
    "len(use_features)"
   ]
  },
  {
   "cell_type": "code",
   "execution_count": 8,
   "id": "467da353-31dd-494f-b02a-6eb28e16c825",
   "metadata": {
    "execution": {
     "iopub.execute_input": "2024-05-22T06:20:23.827596Z",
     "iopub.status.busy": "2024-05-22T06:20:23.827294Z",
     "iopub.status.idle": "2024-05-22T06:20:24.102512Z",
     "shell.execute_reply": "2024-05-22T06:20:24.102011Z",
     "shell.execute_reply.started": "2024-05-22T06:20:23.827575Z"
    },
    "tags": []
   },
   "outputs": [
    {
     "data": {
      "text/plain": [
       "['tmp_use_features']"
      ]
     },
     "execution_count": 8,
     "metadata": {},
     "output_type": "execute_result"
    }
   ],
   "source": [
    "joblib.dump(use_features,'tmp_use_features')"
   ]
  },
  {
   "cell_type": "markdown",
   "id": "9db72f85-1ac4-4f77-82a1-81fe0df3851c",
   "metadata": {},
   "source": [
    "## select features"
   ]
  },
  {
   "cell_type": "code",
   "execution_count": 9,
   "id": "36da7ae4-e00e-46a4-8551-6e418c8b18e3",
   "metadata": {
    "execution": {
     "iopub.execute_input": "2024-05-22T06:20:24.170790Z",
     "iopub.status.busy": "2024-05-22T06:20:24.170407Z",
     "iopub.status.idle": "2024-05-22T06:20:25.641271Z",
     "shell.execute_reply": "2024-05-22T06:20:25.640694Z",
     "shell.execute_reply.started": "2024-05-22T06:20:24.170767Z"
    },
    "tags": []
   },
   "outputs": [],
   "source": [
    "mcds = MCDS.open(mcds_path, \n",
    "                 var_dim= var_dim,\n",
    "                 use_obs=metadata.index)"
   ]
  },
  {
   "cell_type": "code",
   "execution_count": 10,
   "id": "15bd2e5e-0648-4901-a26e-b60258caa203",
   "metadata": {
    "execution": {
     "iopub.execute_input": "2024-05-22T06:20:25.642522Z",
     "iopub.status.busy": "2024-05-22T06:20:25.642230Z",
     "iopub.status.idle": "2024-05-22T06:21:40.323791Z",
     "shell.execute_reply": "2024-05-22T06:21:40.323091Z",
     "shell.execute_reply.started": "2024-05-22T06:20:25.642501Z"
    },
    "tags": []
   },
   "outputs": [
    {
     "name": "stdout",
     "output_type": "stream",
     "text": [
      "Feature gene mean cov across cells added in MCDS.coords['gene_cov_mean'].\n"
     ]
    },
    {
     "data": {
      "image/png": "[encoded data removed]",
      "text/plain": [
       "<Figure size 432x288 with 2 Axes>"
      ]
     },
     "metadata": {
      "needs_background": "light"
     },
     "output_type": "display_data"
    }
   ],
   "source": [
    "mcds.add_feature_cov_mean()"
   ]
  },
  {
   "cell_type": "code",
   "execution_count": 11,
   "id": "d607b130-c76e-4739-8781-dbdcf262897a",
   "metadata": {
    "execution": {
     "iopub.execute_input": "2024-05-22T06:21:40.325525Z",
     "iopub.status.busy": "2024-05-22T06:21:40.325178Z",
     "iopub.status.idle": "2024-05-22T06:21:40.329566Z",
     "shell.execute_reply": "2024-05-22T06:21:40.329083Z",
     "shell.execute_reply.started": "2024-05-22T06:21:40.325501Z"
    },
    "tags": []
   },
   "outputs": [],
   "source": [
    "feature_cov_mean = mcds.coords[f'{var_dim}_cov_mean'].to_pandas()"
   ]
  },
  {
   "cell_type": "code",
   "execution_count": 12,
   "id": "8dd407af-8166-4025-9c7c-6f6f484cd817",
   "metadata": {
    "execution": {
     "iopub.execute_input": "2024-05-22T06:21:40.330808Z",
     "iopub.status.busy": "2024-05-22T06:21:40.330536Z",
     "iopub.status.idle": "2024-05-22T06:21:40.335184Z",
     "shell.execute_reply": "2024-05-22T06:21:40.334487Z",
     "shell.execute_reply.started": "2024-05-22T06:21:40.330786Z"
    },
    "tags": []
   },
   "outputs": [],
   "source": [
    "use_features_2 = feature_cov_mean[feature_cov_mean > min_cov].index"
   ]
  },
  {
   "cell_type": "code",
   "execution_count": 13,
   "id": "4a6f56d7-dcac-4c74-8968-01909cb82a08",
   "metadata": {
    "execution": {
     "iopub.execute_input": "2024-05-22T06:21:40.336674Z",
     "iopub.status.busy": "2024-05-22T06:21:40.336393Z",
     "iopub.status.idle": "2024-05-22T06:21:40.610839Z",
     "shell.execute_reply": "2024-05-22T06:21:40.610195Z",
     "shell.execute_reply.started": "2024-05-22T06:21:40.336653Z"
    },
    "tags": []
   },
   "outputs": [
    {
     "name": "stdout",
     "output_type": "stream",
     "text": [
      "Before cov mean filter: 53881 gene\n",
      " After cov mean filter: 43511 gene 80.8%\n"
     ]
    },
    {
     "data": {
      "text/html": [
       "<div><svg style=\"position: absolute; width: 0; height: 0; overflow: hidden\">\n",
       "<defs>\n",
       "<symbol id=\"icon-database\" viewBox=\"0 0 32 32\">\n",
       "<path d=\"M16 0c-8.837 0-16 2.239-16 5v4c0 2.761 7.163 5 16 5s16-2.239 16-5v-4c0-2.761-7.163-5-16-5z\"></path>\n",
       "<path d=\"M16 17c-8.837 0-16-2.239-16-5v6c0 2.761 7.163 5 16 5s16-2.239 16-5v-6c0 2.761-7.163 5-16 5z\"></path>\n",
       "<path d=\"M16 26c-8.837 0-16-2.239-16-5v6c0 2.761 7.163 5 16 5s16-2.239 16-5v-6c0 2.761-7.163 5-16 5z\"></path>\n",
       "</symbol>\n",
       "<symbol id=\"icon-file-text2\" viewBox=\"0 0 32 32\">\n",
       "<path d=\"M28.681 7.159c-0.694-0.947-1.662-2.053-2.724-3.116s-2.169-2.030-3.116-2.724c-1.612-1.182-2.393-1.319-2.841-1.319h-15.5c-1.378 0-2.5 1.121-2.5 2.5v27c0 1.378 1.122 2.5 2.5 2.5h23c1.378 0 2.5-1.122 2.5-2.5v-19.5c0-0.448-0.137-1.23-1.319-2.841zM24.543 5.457c0.959 0.959 1.712 1.825 2.268 2.543h-4.811v-4.811c0.718 0.556 1.584 1.309 2.543 2.268zM28 29.5c0 0.271-0.229 0.5-0.5 0.5h-23c-0.271 0-0.5-0.229-0.5-0.5v-27c0-0.271 0.229-0.5 0.5-0.5 0 0 15.499-0 15.5 0v7c0 0.552 0.448 1 1 1h7v19.5z\"></path>\n",
       "<path d=\"M23 26h-14c-0.552 0-1-0.448-1-1s0.448-1 1-1h14c0.552 0 1 0.448 1 1s-0.448 1-1 1z\"></path>\n",
       "<path d=\"M23 22h-14c-0.552 0-1-0.448-1-1s0.448-1 1-1h14c0.552 0 1 0.448 1 1s-0.448 1-1 1z\"></path>\n",
       "<path d=\"M23 18h-14c-0.552 0-1-0.448-1-1s0.448-1 1-1h14c0.552 0 1 0.448 1 1s-0.448 1-1 1z\"></path>\n",
       "</symbol>\n",
       "</defs>\n",
       "</svg>\n",
       "<style>/* CSS stylesheet for displaying xarray objects in jupyterlab.\n",
       " *\n",
       " */\n",
       "\n",
       ":root {\n",
       "  --xr-font-color0: var(--jp-content-font-color0, rgba(0, 0, 0, 1));\n",
       "  --xr-font-color2: var(--jp-content-font-color2, rgba(0, 0, 0, 0.54));\n",
       "  --xr-font-color3: var(--jp-content-font-color3, rgba(0, 0, 0, 0.38));\n",
       "  --xr-border-color: var(--jp-border-color2, #e0e0e0);\n",
       "  --xr-disabled-color: var(--jp-layout-color3, #bdbdbd);\n",
       "  --xr-background-color: var(--jp-layout-color0, white);\n",
       "  --xr-background-color-row-even: var(--jp-layout-color1, white);\n",
       "  --xr-background-color-row-odd: var(--jp-layout-color2, #eeeeee);\n",
       "}\n",
       "\n",
       "html[theme=dark],\n",
       "body.vscode-dark {\n",
       "  --xr-font-color0: rgba(255, 255, 255, 1);\n",
       "  --xr-font-color2: rgba(255, 255, 255, 0.54);\n",
       "  --xr-font-color3: rgba(255, 255, 255, 0.38);\n",
       "  --xr-border-color: #1F1F1F;\n",
       "  --xr-disabled-color: #515151;\n",
       "  --xr-background-color: #111111;\n",
       "  --xr-background-color-row-even: #111111;\n",
       "  --xr-background-color-row-odd: #313131;\n",
       "}\n",
       "\n",
       ".xr-wrap {\n",
       "  display: block;\n",
       "  min-width: 300px;\n",
       "  max-width: 700px;\n",
       "}\n",
       "\n",
       ".xr-text-repr-fallback {\n",
       "  /* fallback to plain text repr when CSS is not injected (untrusted notebook) */\n",
       "  display: none;\n",
       "}\n",
       "\n",
       ".xr-header {\n",
       "  padding-top: 6px;\n",
       "  padding-bottom: 6px;\n",
       "  margin-bottom: 4px;\n",
       "  border-bottom: solid 1px var(--xr-border-color);\n",
       "}\n",
       "\n",
       ".xr-header > div,\n",
       ".xr-header > ul {\n",
       "  display: inline;\n",
       "  margin-top: 0;\n",
       "  margin-bottom: 0;\n",
       "}\n",
       "\n",
       ".xr-obj-type,\n",
       ".xr-array-name {\n",
       "  margin-left: 2px;\n",
       "  margin-right: 10px;\n",
       "}\n",
       "\n",
       ".xr-obj-type {\n",
       "  color: var(--xr-font-color2);\n",
       "}\n",
       "\n",
       ".xr-sections {\n",
       "  padding-left: 0 !important;\n",
       "  display: grid;\n",
       "  grid-template-columns: 150px auto auto 1fr 20px 20px;\n",
       "}\n",
       "\n",
       ".xr-section-item {\n",
       "  display: contents;\n",
       "}\n",
       "\n",
       ".xr-section-item input {\n",
       "  display: none;\n",
       "}\n",
       "\n",
       ".xr-section-item input + label {\n",
       "  color: var(--xr-disabled-color);\n",
       "}\n",
       "\n",
       ".xr-section-item input:enabled + label {\n",
       "  cursor: pointer;\n",
       "  color: var(--xr-font-color2);\n",
       "}\n",
       "\n",
       ".xr-section-item input:enabled + label:hover {\n",
       "  color: var(--xr-font-color0);\n",
       "}\n",
       "\n",
       ".xr-section-summary {\n",
       "  grid-column: 1;\n",
       "  color: var(--xr-font-color2);\n",
       "  font-weight: 500;\n",
       "}\n",
       "\n",
       ".xr-section-summary > span {\n",
       "  display: inline-block;\n",
       "  padding-left: 0.5em;\n",
       "}\n",
       "\n",
       ".xr-section-summary-in:disabled + label {\n",
       "  color: var(--xr-font-color2);\n",
       "}\n",
       "\n",
       ".xr-section-summary-in + label:before {\n",
       "  display: inline-block;\n",
       "  content: '►';\n",
       "  font-size: 11px;\n",
       "  width: 15px;\n",
       "  text-align: center;\n",
       "}\n",
       "\n",
       ".xr-section-summary-in:disabled + label:before {\n",
       "  color: var(--xr-disabled-color);\n",
       "}\n",
       "\n",
       ".xr-section-summary-in:checked + label:before {\n",
       "  content: '▼';\n",
       "}\n",
       "\n",
       ".xr-section-summary-in:checked + label > span {\n",
       "  display: none;\n",
       "}\n",
       "\n",
       ".xr-section-summary,\n",
       ".xr-section-inline-details {\n",
       "  padding-top: 4px;\n",
       "  padding-bottom: 4px;\n",
       "}\n",
       "\n",
       ".xr-section-inline-details {\n",
       "  grid-column: 2 / -1;\n",
       "}\n",
       "\n",
       ".xr-section-details {\n",
       "  display: none;\n",
       "  grid-column: 1 / -1;\n",
       "  margin-bottom: 5px;\n",
       "}\n",
       "\n",
       ".xr-section-summary-in:checked ~ .xr-section-details {\n",
       "  display: contents;\n",
       "}\n",
       "\n",
       ".xr-array-wrap {\n",
       "  grid-column: 1 / -1;\n",
       "  display: grid;\n",
       "  grid-template-columns: 20px auto;\n",
       "}\n",
       "\n",
       ".xr-array-wrap > label {\n",
       "  grid-column: 1;\n",
       "  vertical-align: top;\n",
       "}\n",
       "\n",
       ".xr-preview {\n",
       "  color: var(--xr-font-color3);\n",
       "}\n",
       "\n",
       ".xr-array-preview,\n",
       ".xr-array-data {\n",
       "  padding: 0 5px !important;\n",
       "  grid-column: 2;\n",
       "}\n",
       "\n",
       ".xr-array-data,\n",
       ".xr-array-in:checked ~ .xr-array-preview {\n",
       "  display: none;\n",
       "}\n",
       "\n",
       ".xr-array-in:checked ~ .xr-array-data,\n",
       ".xr-array-preview {\n",
       "  display: inline-block;\n",
       "}\n",
       "\n",
       ".xr-dim-list {\n",
       "  display: inline-block !important;\n",
       "  list-style: none;\n",
       "  padding: 0 !important;\n",
       "  margin: 0;\n",
       "}\n",
       "\n",
       ".xr-dim-list li {\n",
       "  display: inline-block;\n",
       "  padding: 0;\n",
       "  margin: 0;\n",
       "}\n",
       "\n",
       ".xr-dim-list:before {\n",
       "  content: '(';\n",
       "}\n",
       "\n",
       ".xr-dim-list:after {\n",
       "  content: ')';\n",
       "}\n",
       "\n",
       ".xr-dim-list li:not(:last-child):after {\n",
       "  content: ',';\n",
       "  padding-right: 5px;\n",
       "}\n",
       "\n",
       ".xr-has-index {\n",
       "  font-weight: bold;\n",
       "}\n",
       "\n",
       ".xr-var-list,\n",
       ".xr-var-item {\n",
       "  display: contents;\n",
       "}\n",
       "\n",
       ".xr-var-item > div,\n",
       ".xr-var-item label,\n",
       ".xr-var-item > .xr-var-name span {\n",
       "  background-color: var(--xr-background-color-row-even);\n",
       "  margin-bottom: 0;\n",
       "}\n",
       "\n",
       ".xr-var-item > .xr-var-name:hover span {\n",
       "  padding-right: 5px;\n",
       "}\n",
       "\n",
       ".xr-var-list > li:nth-child(odd) > div,\n",
       ".xr-var-list > li:nth-child(odd) > label,\n",
       ".xr-var-list > li:nth-child(odd) > .xr-var-name span {\n",
       "  background-color: var(--xr-background-color-row-odd);\n",
       "}\n",
       "\n",
       ".xr-var-name {\n",
       "  grid-column: 1;\n",
       "}\n",
       "\n",
       ".xr-var-dims {\n",
       "  grid-column: 2;\n",
       "}\n",
       "\n",
       ".xr-var-dtype {\n",
       "  grid-column: 3;\n",
       "  text-align: right;\n",
       "  color: var(--xr-font-color2);\n",
       "}\n",
       "\n",
       ".xr-var-preview {\n",
       "  grid-column: 4;\n",
       "}\n",
       "\n",
       ".xr-var-name,\n",
       ".xr-var-dims,\n",
       ".xr-var-dtype,\n",
       ".xr-preview,\n",
       ".xr-attrs dt {\n",
       "  white-space: nowrap;\n",
       "  overflow: hidden;\n",
       "  text-overflow: ellipsis;\n",
       "  padding-right: 10px;\n",
       "}\n",
       "\n",
       ".xr-var-name:hover,\n",
       ".xr-var-dims:hover,\n",
       ".xr-var-dtype:hover,\n",
       ".xr-attrs dt:hover {\n",
       "  overflow: visible;\n",
       "  width: auto;\n",
       "  z-index: 1;\n",
       "}\n",
       "\n",
       ".xr-var-attrs,\n",
       ".xr-var-data {\n",
       "  display: none;\n",
       "  background-color: var(--xr-background-color) !important;\n",
       "  padding-bottom: 5px !important;\n",
       "}\n",
       "\n",
       ".xr-var-attrs-in:checked ~ .xr-var-attrs,\n",
       ".xr-var-data-in:checked ~ .xr-var-data {\n",
       "  display: block;\n",
       "}\n",
       "\n",
       ".xr-var-data > table {\n",
       "  float: right;\n",
       "}\n",
       "\n",
       ".xr-var-name span,\n",
       ".xr-var-data,\n",
       ".xr-attrs {\n",
       "  padding-left: 25px !important;\n",
       "}\n",
       "\n",
       ".xr-attrs,\n",
       ".xr-var-attrs,\n",
       ".xr-var-data {\n",
       "  grid-column: 1 / -1;\n",
       "}\n",
       "\n",
       "dl.xr-attrs {\n",
       "  padding: 0;\n",
       "  margin: 0;\n",
       "  display: grid;\n",
       "  grid-template-columns: 125px auto;\n",
       "}\n",
       "\n",
       ".xr-attrs dt,\n",
       ".xr-attrs dd {\n",
       "  padding: 0;\n",
       "  margin: 0;\n",
       "  float: left;\n",
       "  padding-right: 10px;\n",
       "  width: auto;\n",
       "}\n",
       "\n",
       ".xr-attrs dt {\n",
       "  font-weight: normal;\n",
       "  grid-column: 1;\n",
       "}\n",
       "\n",
       ".xr-attrs dt:hover span {\n",
       "  display: inline-block;\n",
       "  background: var(--xr-background-color);\n",
       "  padding-right: 10px;\n",
       "}\n",
       "\n",
       ".xr-attrs dd {\n",
       "  grid-column: 2;\n",
       "  white-space: pre-wrap;\n",
       "  word-break: break-all;\n",
       "}\n",
       "\n",
       ".xr-icon-database,\n",
       ".xr-icon-file-text2 {\n",
       "  display: inline-block;\n",
       "  vertical-align: middle;\n",
       "  width: 1em;\n",
       "  height: 1.5em !important;\n",
       "  stroke-width: 0;\n",
       "  stroke: currentColor;\n",
       "  fill: currentColor;\n",
       "}\n",
       "</style><pre class='xr-text-repr-fallback'>&lt;xarray.MCDS&gt;\n",
       "Dimensions:        (mc_type: 2, cell: 72666, count_type: 2, gene: 43511)\n",
       "Coordinates:\n",
       "  * mc_type        (mc_type) &lt;U3 &#x27;CGN&#x27; &#x27;CHN&#x27;\n",
       "  * cell           (cell) &lt;U43 &#x27;AMB_220719_18mo_13D_14C_2_P1-1-B11-A1&#x27; ... &#x27;A...\n",
       "  * count_type     (count_type) &lt;U3 &#x27;mc&#x27; &#x27;cov&#x27;\n",
       "  * gene           (gene) object &#x27;ENSMUSG00000102693.1&#x27; ... &#x27;ENSMUSG000000938...\n",
       "    gene_chrom     (gene) &lt;U5 dask.array&lt;chunksize=(10931,), meta=np.ndarray&gt;\n",
       "    gene_end       (gene) int64 dask.array&lt;chunksize=(21850,), meta=np.ndarray&gt;\n",
       "    gene_start     (gene) int64 dask.array&lt;chunksize=(21850,), meta=np.ndarray&gt;\n",
       "    gene_cov_mean  (gene) float64 9.525 4.631e+03 7.318 ... 49.45 301.5 121.6\n",
       "Data variables:\n",
       "    gene_da        (cell, gene, mc_type, count_type) uint32 dask.array&lt;chunksize=(15, 10931, 1, 1), meta=np.ndarray&gt;\n",
       "Attributes:\n",
       "    obs_dim:  cell\n",
       "    var_dim:  gene</pre><div class='xr-wrap' hidden><div class='xr-header'><div class='xr-obj-type'>xarray.MCDS</div></div><ul class='xr-sections'><li class='xr-section-item'><input id='section-cc48e8c2-86e2-488c-a35e-6fbeb2449fbd' class='xr-section-summary-in' type='checkbox' disabled ><label for='section-cc48e8c2-86e2-488c-a35e-6fbeb2449fbd' class='xr-section-summary'  title='Expand/collapse section'>Dimensions:</label><div class='xr-section-inline-details'><ul class='xr-dim-list'><li><span class='xr-has-index'>mc_type</span>: 2</li><li><span class='xr-has-index'>cell</span>: 72666</li><li><span class='xr-has-index'>count_type</span>: 2</li><li><span class='xr-has-index'>gene</span>: 43511</li></ul></div><div class='xr-section-details'></div></li><li class='xr-section-item'><input id='section-e4ced7f7-84c8-4e0d-8973-05ec9c510368' class='xr-section-summary-in' type='checkbox'  checked><label for='section-e4ced7f7-84c8-4e0d-8973-05ec9c510368' class='xr-section-summary' >Coordinates: <span>(8)</span></label><div class='xr-section-inline-details'></div><div class='xr-section-details'><ul class='xr-var-list'><li class='xr-var-item'><div class='xr-var-name'><span class='xr-has-index'>mc_type</span></div><div class='xr-var-dims'>(mc_type)</div><div class='xr-var-dtype'>&lt;U3</div><div class='xr-var-preview xr-preview'>&#x27;CGN&#x27; &#x27;CHN&#x27;</div><input id='attrs-d0b0c226-71e3-4bbd-884c-ab487b1f1b71' class='xr-var-attrs-in' type='checkbox' disabled><label for='attrs-d0b0c226-71e3-4bbd-884c-ab487b1f1b71' title='Show/Hide attributes'><svg class='icon xr-icon-file-text2'><use xlink:href='#icon-file-text2'></use></svg></label><input id='data-2268dba9-e49f-48ca-b827-2ff697ab2b57' class='xr-var-data-in' type='checkbox'><label for='data-2268dba9-e49f-48ca-b827-2ff697ab2b57' title='Show/Hide data repr'><svg class='icon xr-icon-database'><use xlink:href='#icon-database'></use></svg></label><div class='xr-var-attrs'><dl class='xr-attrs'></dl></div><div class='xr-var-data'><pre>array([&#x27;CGN&#x27;, &#x27;CHN&#x27;], dtype=&#x27;&lt;U3&#x27;)</pre></div></li><li class='xr-var-item'><div class='xr-var-name'><span class='xr-has-index'>cell</span></div><div class='xr-var-dims'>(cell)</div><div class='xr-var-dtype'>&lt;U43</div><div class='xr-var-preview xr-preview'>&#x27;AMB_220719_18mo_13D_14C_2_P1-1-...</div><input id='attrs-4647caed-f9e9-48c5-9009-0f06f5816385' class='xr-var-attrs-in' type='checkbox' disabled><label for='attrs-4647caed-f9e9-48c5-9009-0f06f5816385' title='Show/Hide attributes'><svg class='icon xr-icon-file-text2'><use xlink:href='#icon-file-text2'></use></svg></label><input id='data-5feec950-80d4-4b1e-bfb4-7d35a755604b' class='xr-var-data-in' type='checkbox'><label for='data-5feec950-80d4-4b1e-bfb4-7d35a755604b' title='Show/Hide data repr'><svg class='icon xr-icon-database'><use xlink:href='#icon-database'></use></svg></label><div class='xr-var-attrs'><dl class='xr-attrs'></dl></div><div class='xr-var-data'><pre>array([&#x27;AMB_220719_18mo_13D_14C_2_P1-1-B11-A1&#x27;,\n",
       "       &#x27;AMB_220719_18mo_13D_14C_2_P1-1-B11-A13&#x27;,\n",
       "       &#x27;AMB_220719_18mo_13D_14C_2_P1-1-B11-A14&#x27;, ...,\n",
       "       &#x27;AMB_220407_8wk_12D_13B_1_P8-6-J7-P12&#x27;,\n",
       "       &#x27;AMB_220407_8wk_12D_13B_1_P8-6-J7-P23&#x27;,\n",
       "       &#x27;AMB_220407_8wk_12D_13B_1_P8-6-J7-P24&#x27;], dtype=&#x27;&lt;U43&#x27;)</pre></div></li><li class='xr-var-item'><div class='xr-var-name'><span class='xr-has-index'>count_type</span></div><div class='xr-var-dims'>(count_type)</div><div class='xr-var-dtype'>&lt;U3</div><div class='xr-var-preview xr-preview'>&#x27;mc&#x27; &#x27;cov&#x27;</div><input id='attrs-48ecc635-1192-48b5-a614-62f0cb70bb53' class='xr-var-attrs-in' type='checkbox' disabled><label for='attrs-48ecc635-1192-48b5-a614-62f0cb70bb53' title='Show/Hide attributes'><svg class='icon xr-icon-file-text2'><use xlink:href='#icon-file-text2'></use></svg></label><input id='data-d74f8bab-6e92-40a0-8356-7ebdfe52a40b' class='xr-var-data-in' type='checkbox'><label for='data-d74f8bab-6e92-40a0-8356-7ebdfe52a40b' title='Show/Hide data repr'><svg class='icon xr-icon-database'><use xlink:href='#icon-database'></use></svg></label><div class='xr-var-attrs'><dl class='xr-attrs'></dl></div><div class='xr-var-data'><pre>array([&#x27;mc&#x27;, &#x27;cov&#x27;], dtype=&#x27;&lt;U3&#x27;)</pre></div></li><li class='xr-var-item'><div class='xr-var-name'><span class='xr-has-index'>gene</span></div><div class='xr-var-dims'>(gene)</div><div class='xr-var-dtype'>object</div><div class='xr-var-preview xr-preview'>&#x27;ENSMUSG00000102693.1&#x27; ... &#x27;ENSM...</div><input id='attrs-fee4816d-c0c8-491b-a434-c84d7dceac98' class='xr-var-attrs-in' type='checkbox' disabled><label for='attrs-fee4816d-c0c8-491b-a434-c84d7dceac98' title='Show/Hide attributes'><svg class='icon xr-icon-file-text2'><use xlink:href='#icon-file-text2'></use></svg></label><input id='data-876b4847-34e1-417f-8ded-f5b75db74a56' class='xr-var-data-in' type='checkbox'><label for='data-876b4847-34e1-417f-8ded-f5b75db74a56' title='Show/Hide data repr'><svg class='icon xr-icon-database'><use xlink:href='#icon-database'></use></svg></label><div class='xr-var-attrs'><dl class='xr-attrs'></dl></div><div class='xr-var-data'><pre>array([&#x27;ENSMUSG00000102693.1&#x27;, &#x27;ENSMUSG00000051951.5&#x27;, &#x27;ENSMUSG00000102851.1&#x27;,\n",
       "       ..., &#x27;ENSMUSG00000086695.1&#x27;, &#x27;ENSMUSG00000095562.8&#x27;,\n",
       "       &#x27;ENSMUSG00000093806.1&#x27;], dtype=object)</pre></div></li><li class='xr-var-item'><div class='xr-var-name'><span>gene_chrom</span></div><div class='xr-var-dims'>(gene)</div><div class='xr-var-dtype'>&lt;U5</div><div class='xr-var-preview xr-preview'>dask.array&lt;chunksize=(10931,), meta=np.ndarray&gt;</div><input id='attrs-d4cda4a7-7aec-4244-af42-6d6934d0a00c' class='xr-var-attrs-in' type='checkbox' disabled><label for='attrs-d4cda4a7-7aec-4244-af42-6d6934d0a00c' title='Show/Hide attributes'><svg class='icon xr-icon-file-text2'><use xlink:href='#icon-file-text2'></use></svg></label><input id='data-43313208-c1cc-4cb7-a66b-8699934d4db4' class='xr-var-data-in' type='checkbox'><label for='data-43313208-c1cc-4cb7-a66b-8699934d4db4' title='Show/Hide data repr'><svg class='icon xr-icon-database'><use xlink:href='#icon-database'></use></svg></label><div class='xr-var-attrs'><dl class='xr-attrs'></dl></div><div class='xr-var-data'><table>\n",
       "    <tr>\n",
       "        <td>\n",
       "            <table>\n",
       "                <thead>\n",
       "                    <tr>\n",
       "                        <td> </td>\n",
       "                        <th> Array </th>\n",
       "                        <th> Chunk </th>\n",
       "                    </tr>\n",
       "                </thead>\n",
       "                <tbody>\n",
       "                    \n",
       "                    <tr>\n",
       "                        <th> Bytes </th>\n",
       "                        <td> 849.82 kiB </td>\n",
       "                        <td> 214.28 kiB </td>\n",
       "                    </tr>\n",
       "                    \n",
       "                    <tr>\n",
       "                        <th> Shape </th>\n",
       "                        <td> (43511,) </td>\n",
       "                        <td> (10971,) </td>\n",
       "                    </tr>\n",
       "                    <tr>\n",
       "                        <th> Count </th>\n",
       "                        <td> 9 Tasks </td>\n",
       "                        <td> 4 Chunks </td>\n",
       "                    </tr>\n",
       "                    <tr>\n",
       "                    <th> Type </th>\n",
       "                    <td> <U5 </td>\n",
       "                    <td> numpy.ndarray </td>\n",
       "                    </tr>\n",
       "                </tbody>\n",
       "            </table>\n",
       "        </td>\n",
       "        <td>\n",
       "        <svg width=\"170\" height=\"75\" style=\"stroke:rgb(0,0,0);stroke-width:1\" >\n",
       "\n",
       "  <!-- Horizontal lines -->\n",
       "  <line x1=\"0\" y1=\"0\" x2=\"120\" y2=\"0\" style=\"stroke-width:2\" />\n",
       "  <line x1=\"0\" y1=\"25\" x2=\"120\" y2=\"25\" style=\"stroke-width:2\" />\n",
       "\n",
       "  <!-- Vertical lines -->\n",
       "  <line x1=\"0\" y1=\"0\" x2=\"0\" y2=\"25\" style=\"stroke-width:2\" />\n",
       "  <line x1=\"30\" y1=\"0\" x2=\"30\" y2=\"25\" />\n",
       "  <line x1=\"60\" y1=\"0\" x2=\"60\" y2=\"25\" />\n",
       "  <line x1=\"90\" y1=\"0\" x2=\"90\" y2=\"25\" />\n",
       "  <line x1=\"120\" y1=\"0\" x2=\"120\" y2=\"25\" style=\"stroke-width:2\" />\n",
       "\n",
       "  <!-- Colored Rectangle -->\n",
       "  <polygon points=\"0.0,0.0 120.0,0.0 120.0,25.412616514582485 0.0,25.412616514582485\" style=\"fill:#ECB172A0;stroke-width:0\"/>\n",
       "\n",
       "  <!-- Text -->\n",
       "  <text x=\"60.000000\" y=\"45.412617\" font-size=\"1.0rem\" font-weight=\"100\" text-anchor=\"middle\" >43511</text>\n",
       "  <text x=\"140.000000\" y=\"12.706308\" font-size=\"1.0rem\" font-weight=\"100\" text-anchor=\"middle\" transform=\"rotate(0,140.000000,12.706308)\">1</text>\n",
       "</svg>\n",
       "        </td>\n",
       "    </tr>\n",
       "</table></div></li><li class='xr-var-item'><div class='xr-var-name'><span>gene_end</span></div><div class='xr-var-dims'>(gene)</div><div class='xr-var-dtype'>int64</div><div class='xr-var-preview xr-preview'>dask.array&lt;chunksize=(21850,), meta=np.ndarray&gt;</div><input id='attrs-4b1ca71c-f57e-4819-aa9a-63aef11bf31d' class='xr-var-attrs-in' type='checkbox' disabled><label for='attrs-4b1ca71c-f57e-4819-aa9a-63aef11bf31d' title='Show/Hide attributes'><svg class='icon xr-icon-file-text2'><use xlink:href='#icon-file-text2'></use></svg></label><input id='data-65ee0d57-d02b-47ce-b701-b36085021095' class='xr-var-data-in' type='checkbox'><label for='data-65ee0d57-d02b-47ce-b701-b36085021095' title='Show/Hide data repr'><svg class='icon xr-icon-database'><use xlink:href='#icon-database'></use></svg></label><div class='xr-var-attrs'><dl class='xr-attrs'></dl></div><div class='xr-var-data'><table>\n",
       "    <tr>\n",
       "        <td>\n",
       "            <table>\n",
       "                <thead>\n",
       "                    <tr>\n",
       "                        <td> </td>\n",
       "                        <th> Array </th>\n",
       "                        <th> Chunk </th>\n",
       "                    </tr>\n",
       "                </thead>\n",
       "                <tbody>\n",
       "                    \n",
       "                    <tr>\n",
       "                        <th> Bytes </th>\n",
       "                        <td> 339.93 kiB </td>\n",
       "                        <td> 170.70 kiB </td>\n",
       "                    </tr>\n",
       "                    \n",
       "                    <tr>\n",
       "                        <th> Shape </th>\n",
       "                        <td> (43511,) </td>\n",
       "                        <td> (21850,) </td>\n",
       "                    </tr>\n",
       "                    <tr>\n",
       "                        <th> Count </th>\n",
       "                        <td> 5 Tasks </td>\n",
       "                        <td> 2 Chunks </td>\n",
       "                    </tr>\n",
       "                    <tr>\n",
       "                    <th> Type </th>\n",
       "                    <td> int64 </td>\n",
       "                    <td> numpy.ndarray </td>\n",
       "                    </tr>\n",
       "                </tbody>\n",
       "            </table>\n",
       "        </td>\n",
       "        <td>\n",
       "        <svg width=\"170\" height=\"75\" style=\"stroke:rgb(0,0,0);stroke-width:1\" >\n",
       "\n",
       "  <!-- Horizontal lines -->\n",
       "  <line x1=\"0\" y1=\"0\" x2=\"120\" y2=\"0\" style=\"stroke-width:2\" />\n",
       "  <line x1=\"0\" y1=\"25\" x2=\"120\" y2=\"25\" style=\"stroke-width:2\" />\n",
       "\n",
       "  <!-- Vertical lines -->\n",
       "  <line x1=\"0\" y1=\"0\" x2=\"0\" y2=\"25\" style=\"stroke-width:2\" />\n",
       "  <line x1=\"60\" y1=\"0\" x2=\"60\" y2=\"25\" />\n",
       "  <line x1=\"120\" y1=\"0\" x2=\"120\" y2=\"25\" style=\"stroke-width:2\" />\n",
       "\n",
       "  <!-- Colored Rectangle -->\n",
       "  <polygon points=\"0.0,0.0 120.0,0.0 120.0,25.412616514582485 0.0,25.412616514582485\" style=\"fill:#ECB172A0;stroke-width:0\"/>\n",
       "\n",
       "  <!-- Text -->\n",
       "  <text x=\"60.000000\" y=\"45.412617\" font-size=\"1.0rem\" font-weight=\"100\" text-anchor=\"middle\" >43511</text>\n",
       "  <text x=\"140.000000\" y=\"12.706308\" font-size=\"1.0rem\" font-weight=\"100\" text-anchor=\"middle\" transform=\"rotate(0,140.000000,12.706308)\">1</text>\n",
       "</svg>\n",
       "        </td>\n",
       "    </tr>\n",
       "</table></div></li><li class='xr-var-item'><div class='xr-var-name'><span>gene_start</span></div><div class='xr-var-dims'>(gene)</div><div class='xr-var-dtype'>int64</div><div class='xr-var-preview xr-preview'>dask.array&lt;chunksize=(21850,), meta=np.ndarray&gt;</div><input id='attrs-f4d34d40-dad1-437a-a179-ee0fb305ff87' class='xr-var-attrs-in' type='checkbox' disabled><label for='attrs-f4d34d40-dad1-437a-a179-ee0fb305ff87' title='Show/Hide attributes'><svg class='icon xr-icon-file-text2'><use xlink:href='#icon-file-text2'></use></svg></label><input id='data-86887eb3-c3df-4583-9532-f8068f507278' class='xr-var-data-in' type='checkbox'><label for='data-86887eb3-c3df-4583-9532-f8068f507278' title='Show/Hide data repr'><svg class='icon xr-icon-database'><use xlink:href='#icon-database'></use></svg></label><div class='xr-var-attrs'><dl class='xr-attrs'></dl></div><div class='xr-var-data'><table>\n",
       "    <tr>\n",
       "        <td>\n",
       "            <table>\n",
       "                <thead>\n",
       "                    <tr>\n",
       "                        <td> </td>\n",
       "                        <th> Array </th>\n",
       "                        <th> Chunk </th>\n",
       "                    </tr>\n",
       "                </thead>\n",
       "                <tbody>\n",
       "                    \n",
       "                    <tr>\n",
       "                        <th> Bytes </th>\n",
       "                        <td> 339.93 kiB </td>\n",
       "                        <td> 170.70 kiB </td>\n",
       "                    </tr>\n",
       "                    \n",
       "                    <tr>\n",
       "                        <th> Shape </th>\n",
       "                        <td> (43511,) </td>\n",
       "                        <td> (21850,) </td>\n",
       "                    </tr>\n",
       "                    <tr>\n",
       "                        <th> Count </th>\n",
       "                        <td> 5 Tasks </td>\n",
       "                        <td> 2 Chunks </td>\n",
       "                    </tr>\n",
       "                    <tr>\n",
       "                    <th> Type </th>\n",
       "                    <td> int64 </td>\n",
       "                    <td> numpy.ndarray </td>\n",
       "                    </tr>\n",
       "                </tbody>\n",
       "            </table>\n",
       "        </td>\n",
       "        <td>\n",
       "        <svg width=\"170\" height=\"75\" style=\"stroke:rgb(0,0,0);stroke-width:1\" >\n",
       "\n",
       "  <!-- Horizontal lines -->\n",
       "  <line x1=\"0\" y1=\"0\" x2=\"120\" y2=\"0\" style=\"stroke-width:2\" />\n",
       "  <line x1=\"0\" y1=\"25\" x2=\"120\" y2=\"25\" style=\"stroke-width:2\" />\n",
       "\n",
       "  <!-- Vertical lines -->\n",
       "  <line x1=\"0\" y1=\"0\" x2=\"0\" y2=\"25\" style=\"stroke-width:2\" />\n",
       "  <line x1=\"60\" y1=\"0\" x2=\"60\" y2=\"25\" />\n",
       "  <line x1=\"120\" y1=\"0\" x2=\"120\" y2=\"25\" style=\"stroke-width:2\" />\n",
       "\n",
       "  <!-- Colored Rectangle -->\n",
       "  <polygon points=\"0.0,0.0 120.0,0.0 120.0,25.412616514582485 0.0,25.412616514582485\" style=\"fill:#ECB172A0;stroke-width:0\"/>\n",
       "\n",
       "  <!-- Text -->\n",
       "  <text x=\"60.000000\" y=\"45.412617\" font-size=\"1.0rem\" font-weight=\"100\" text-anchor=\"middle\" >43511</text>\n",
       "  <text x=\"140.000000\" y=\"12.706308\" font-size=\"1.0rem\" font-weight=\"100\" text-anchor=\"middle\" transform=\"rotate(0,140.000000,12.706308)\">1</text>\n",
       "</svg>\n",
       "        </td>\n",
       "    </tr>\n",
       "</table></div></li><li class='xr-var-item'><div class='xr-var-name'><span>gene_cov_mean</span></div><div class='xr-var-dims'>(gene)</div><div class='xr-var-dtype'>float64</div><div class='xr-var-preview xr-preview'>9.525 4.631e+03 ... 301.5 121.6</div><input id='attrs-42ff01d1-aac9-457a-923f-888019f36e74' class='xr-var-attrs-in' type='checkbox' disabled><label for='attrs-42ff01d1-aac9-457a-923f-888019f36e74' title='Show/Hide attributes'><svg class='icon xr-icon-file-text2'><use xlink:href='#icon-file-text2'></use></svg></label><input id='data-bde89d8d-cec8-4616-b6d7-08ebe197cfee' class='xr-var-data-in' type='checkbox'><label for='data-bde89d8d-cec8-4616-b6d7-08ebe197cfee' title='Show/Hide data repr'><svg class='icon xr-icon-database'><use xlink:href='#icon-database'></use></svg></label><div class='xr-var-attrs'><dl class='xr-attrs'></dl></div><div class='xr-var-data'><pre>array([   9.52474335, 4630.97016486,    7.31779649, ...,   49.45277021,\n",
       "        301.49427518,  121.5709823 ])</pre></div></li></ul></div></li><li class='xr-section-item'><input id='section-94faf8f4-b4a3-4231-82ee-9ace9d2c41a1' class='xr-section-summary-in' type='checkbox'  checked><label for='section-94faf8f4-b4a3-4231-82ee-9ace9d2c41a1' class='xr-section-summary' >Data variables: <span>(1)</span></label><div class='xr-section-inline-details'></div><div class='xr-section-details'><ul class='xr-var-list'><li class='xr-var-item'><div class='xr-var-name'><span>gene_da</span></div><div class='xr-var-dims'>(cell, gene, mc_type, count_type)</div><div class='xr-var-dtype'>uint32</div><div class='xr-var-preview xr-preview'>dask.array&lt;chunksize=(15, 10931, 1, 1), meta=np.ndarray&gt;</div><input id='attrs-5007b29a-de8c-47bb-bd3d-336e905ed682' class='xr-var-attrs-in' type='checkbox' disabled><label for='attrs-5007b29a-de8c-47bb-bd3d-336e905ed682' title='Show/Hide attributes'><svg class='icon xr-icon-file-text2'><use xlink:href='#icon-file-text2'></use></svg></label><input id='data-0b3e76ac-8d5f-4444-b0df-36da4632d470' class='xr-var-data-in' type='checkbox'><label for='data-0b3e76ac-8d5f-4444-b0df-36da4632d470' title='Show/Hide data repr'><svg class='icon xr-icon-database'><use xlink:href='#icon-database'></use></svg></label><div class='xr-var-attrs'><dl class='xr-attrs'></dl></div><div class='xr-var-data'><table>\n",
       "    <tr>\n",
       "        <td>\n",
       "            <table>\n",
       "                <thead>\n",
       "                    <tr>\n",
       "                        <td> </td>\n",
       "                        <th> Array </th>\n",
       "                        <th> Chunk </th>\n",
       "                    </tr>\n",
       "                </thead>\n",
       "                <tbody>\n",
       "                    \n",
       "                    <tr>\n",
       "                        <th> Bytes </th>\n",
       "                        <td> 47.11 GiB </td>\n",
       "                        <td> 642.83 kiB </td>\n",
       "                    </tr>\n",
       "                    \n",
       "                    <tr>\n",
       "                        <th> Shape </th>\n",
       "                        <td> (72666, 43511, 2, 2) </td>\n",
       "                        <td> (15, 10971, 1, 1) </td>\n",
       "                    </tr>\n",
       "                    <tr>\n",
       "                        <th> Count </th>\n",
       "                        <td> 379101 Tasks </td>\n",
       "                        <td> 82368 Chunks </td>\n",
       "                    </tr>\n",
       "                    <tr>\n",
       "                    <th> Type </th>\n",
       "                    <td> uint32 </td>\n",
       "                    <td> numpy.ndarray </td>\n",
       "                    </tr>\n",
       "                </tbody>\n",
       "            </table>\n",
       "        </td>\n",
       "        <td>\n",
       "        <svg width=\"497\" height=\"117\" style=\"stroke:rgb(0,0,0);stroke-width:1\" >\n",
       "\n",
       "  <!-- Horizontal lines -->\n",
       "  <line x1=\"0\" y1=\"0\" x2=\"120\" y2=\"0\" style=\"stroke-width:2\" />\n",
       "  <line x1=\"0\" y1=\"25\" x2=\"120\" y2=\"25\" style=\"stroke-width:2\" />\n",
       "\n",
       "  <!-- Vertical lines -->\n",
       "  <line x1=\"0\" y1=\"0\" x2=\"0\" y2=\"25\" style=\"stroke-width:2\" />\n",
       "  <line x1=\"3\" y1=\"0\" x2=\"3\" y2=\"25\" />\n",
       "  <line x1=\"7\" y1=\"0\" x2=\"7\" y2=\"25\" />\n",
       "  <line x1=\"11\" y1=\"0\" x2=\"11\" y2=\"25\" />\n",
       "  <line x1=\"15\" y1=\"0\" x2=\"15\" y2=\"25\" />\n",
       "  <line x1=\"18\" y1=\"0\" x2=\"18\" y2=\"25\" />\n",
       "  <line x1=\"21\" y1=\"0\" x2=\"21\" y2=\"25\" />\n",
       "  <line x1=\"25\" y1=\"0\" x2=\"25\" y2=\"25\" />\n",
       "  <line x1=\"29\" y1=\"0\" x2=\"29\" y2=\"25\" />\n",
       "  <line x1=\"32\" y1=\"0\" x2=\"32\" y2=\"25\" />\n",
       "  <line x1=\"36\" y1=\"0\" x2=\"36\" y2=\"25\" />\n",
       "  <line x1=\"40\" y1=\"0\" x2=\"40\" y2=\"25\" />\n",
       "  <line x1=\"44\" y1=\"0\" x2=\"44\" y2=\"25\" />\n",
       "  <line x1=\"48\" y1=\"0\" x2=\"48\" y2=\"25\" />\n",
       "  <line x1=\"52\" y1=\"0\" x2=\"52\" y2=\"25\" />\n",
       "  <line x1=\"55\" y1=\"0\" x2=\"55\" y2=\"25\" />\n",
       "  <line x1=\"59\" y1=\"0\" x2=\"59\" y2=\"25\" />\n",
       "  <line x1=\"63\" y1=\"0\" x2=\"63\" y2=\"25\" />\n",
       "  <line x1=\"67\" y1=\"0\" x2=\"67\" y2=\"25\" />\n",
       "  <line x1=\"71\" y1=\"0\" x2=\"71\" y2=\"25\" />\n",
       "  <line x1=\"75\" y1=\"0\" x2=\"75\" y2=\"25\" />\n",
       "  <line x1=\"79\" y1=\"0\" x2=\"79\" y2=\"25\" />\n",
       "  <line x1=\"83\" y1=\"0\" x2=\"83\" y2=\"25\" />\n",
       "  <line x1=\"87\" y1=\"0\" x2=\"87\" y2=\"25\" />\n",
       "  <line x1=\"91\" y1=\"0\" x2=\"91\" y2=\"25\" />\n",
       "  <line x1=\"94\" y1=\"0\" x2=\"94\" y2=\"25\" />\n",
       "  <line x1=\"98\" y1=\"0\" x2=\"98\" y2=\"25\" />\n",
       "  <line x1=\"102\" y1=\"0\" x2=\"102\" y2=\"25\" />\n",
       "  <line x1=\"105\" y1=\"0\" x2=\"105\" y2=\"25\" />\n",
       "  <line x1=\"109\" y1=\"0\" x2=\"109\" y2=\"25\" />\n",
       "  <line x1=\"112\" y1=\"0\" x2=\"112\" y2=\"25\" />\n",
       "  <line x1=\"116\" y1=\"0\" x2=\"116\" y2=\"25\" />\n",
       "  <line x1=\"120\" y1=\"0\" x2=\"120\" y2=\"25\" style=\"stroke-width:2\" />\n",
       "\n",
       "  <!-- Colored Rectangle -->\n",
       "  <polygon points=\"0.0,0.0 120.0,0.0 120.0,25.412616514582485 0.0,25.412616514582485\" style=\"fill:#8B4903A0;stroke-width:0\"/>\n",
       "\n",
       "  <!-- Text -->\n",
       "  <text x=\"60.000000\" y=\"45.412617\" font-size=\"1.0rem\" font-weight=\"100\" text-anchor=\"middle\" >72666</text>\n",
       "  <text x=\"140.000000\" y=\"12.706308\" font-size=\"1.0rem\" font-weight=\"100\" text-anchor=\"middle\" transform=\"rotate(0,140.000000,12.706308)\">1</text>\n",
       "\n",
       "\n",
       "  <!-- Horizontal lines -->\n",
       "  <line x1=\"190\" y1=\"0\" x2=\"232\" y2=\"42\" style=\"stroke-width:2\" />\n",
       "  <line x1=\"190\" y1=\"12\" x2=\"232\" y2=\"54\" />\n",
       "  <line x1=\"190\" y1=\"25\" x2=\"232\" y2=\"67\" style=\"stroke-width:2\" />\n",
       "\n",
       "  <!-- Vertical lines -->\n",
       "  <line x1=\"190\" y1=\"0\" x2=\"190\" y2=\"25\" style=\"stroke-width:2\" />\n",
       "  <line x1=\"200\" y1=\"10\" x2=\"200\" y2=\"36\" />\n",
       "  <line x1=\"211\" y1=\"21\" x2=\"211\" y2=\"46\" />\n",
       "  <line x1=\"221\" y1=\"31\" x2=\"221\" y2=\"57\" />\n",
       "  <line x1=\"232\" y1=\"42\" x2=\"232\" y2=\"67\" style=\"stroke-width:2\" />\n",
       "\n",
       "  <!-- Colored Rectangle -->\n",
       "  <polygon points=\"190.0,0.0 232.2668745476888,42.26687454768878 232.2668745476888,67.67949106227127 190.0,25.412616514582485\" style=\"fill:#ECB172A0;stroke-width:0\"/>\n",
       "\n",
       "  <!-- Horizontal lines -->\n",
       "  <line x1=\"190\" y1=\"0\" x2=\"215\" y2=\"0\" style=\"stroke-width:2\" />\n",
       "  <line x1=\"200\" y1=\"10\" x2=\"226\" y2=\"10\" />\n",
       "  <line x1=\"211\" y1=\"21\" x2=\"236\" y2=\"21\" />\n",
       "  <line x1=\"221\" y1=\"31\" x2=\"247\" y2=\"31\" />\n",
       "  <line x1=\"232\" y1=\"42\" x2=\"257\" y2=\"42\" style=\"stroke-width:2\" />\n",
       "\n",
       "  <!-- Vertical lines -->\n",
       "  <line x1=\"190\" y1=\"0\" x2=\"232\" y2=\"42\" style=\"stroke-width:2\" />\n",
       "  <line x1=\"202\" y1=\"0\" x2=\"244\" y2=\"42\" />\n",
       "  <line x1=\"215\" y1=\"0\" x2=\"257\" y2=\"42\" style=\"stroke-width:2\" />\n",
       "\n",
       "  <!-- Colored Rectangle -->\n",
       "  <polygon points=\"190.0,0.0 215.41261651458248,0.0 257.67949106227127,42.26687454768878 232.2668745476888,42.26687454768878\" style=\"fill:#ECB172A0;stroke-width:0\"/>\n",
       "\n",
       "  <!-- Horizontal lines -->\n",
       "  <line x1=\"232\" y1=\"42\" x2=\"257\" y2=\"42\" style=\"stroke-width:2\" />\n",
       "  <line x1=\"232\" y1=\"54\" x2=\"257\" y2=\"54\" />\n",
       "  <line x1=\"232\" y1=\"67\" x2=\"257\" y2=\"67\" style=\"stroke-width:2\" />\n",
       "\n",
       "  <!-- Vertical lines -->\n",
       "  <line x1=\"232\" y1=\"42\" x2=\"232\" y2=\"67\" style=\"stroke-width:2\" />\n",
       "  <line x1=\"244\" y1=\"42\" x2=\"244\" y2=\"67\" />\n",
       "  <line x1=\"257\" y1=\"42\" x2=\"257\" y2=\"67\" style=\"stroke-width:2\" />\n",
       "\n",
       "  <!-- Colored Rectangle -->\n",
       "  <polygon points=\"232.2668745476888,42.26687454768878 257.67949106227127,42.26687454768878 257.67949106227127,67.67949106227127 232.2668745476888,67.67949106227127\" style=\"fill:#ECB172A0;stroke-width:0\"/>\n",
       "\n",
       "  <!-- Text -->\n",
       "  <text x=\"244.973183\" y=\"87.679491\" font-size=\"1.0rem\" font-weight=\"100\" text-anchor=\"middle\" >2</text>\n",
       "  <text x=\"277.679491\" y=\"54.973183\" font-size=\"1.0rem\" font-weight=\"100\" text-anchor=\"middle\" transform=\"rotate(0,277.679491,54.973183)\">2</text>\n",
       "  <text x=\"201.133437\" y=\"66.546054\" font-size=\"1.0rem\" font-weight=\"100\" text-anchor=\"middle\" transform=\"rotate(45,201.133437,66.546054)\">43511</text>\n",
       "</svg>\n",
       "        </td>\n",
       "    </tr>\n",
       "</table></div></li></ul></div></li><li class='xr-section-item'><input id='section-17911ba0-d7da-4174-8e92-ec8aa3f7cbe3' class='xr-section-summary-in' type='checkbox'  checked><label for='section-17911ba0-d7da-4174-8e92-ec8aa3f7cbe3' class='xr-section-summary' >Attributes: <span>(2)</span></label><div class='xr-section-inline-details'></div><div class='xr-section-details'><dl class='xr-attrs'><dt><span>obs_dim :</span></dt><dd>cell</dd><dt><span>var_dim :</span></dt><dd>gene</dd></dl></div></li></ul></div></div>"
      ],
      "text/plain": [
       "<xarray.MCDS>\n",
       "Dimensions:        (mc_type: 2, cell: 72666, count_type: 2, gene: 43511)\n",
       "Coordinates:\n",
       "  * mc_type        (mc_type) <U3 'CGN' 'CHN'\n",
       "  * cell           (cell) <U43 'AMB_220719_18mo_13D_14C_2_P1-1-B11-A1' ... 'A...\n",
       "  * count_type     (count_type) <U3 'mc' 'cov'\n",
       "  * gene           (gene) object 'ENSMUSG00000102693.1' ... 'ENSMUSG000000938...\n",
       "    gene_chrom     (gene) <U5 dask.array<chunksize=(10931,), meta=np.ndarray>\n",
       "    gene_end       (gene) int64 dask.array<chunksize=(21850,), meta=np.ndarray>\n",
       "    gene_start     (gene) int64 dask.array<chunksize=(21850,), meta=np.ndarray>\n",
       "    gene_cov_mean  (gene) float64 9.525 4.631e+03 7.318 ... 49.45 301.5 121.6\n",
       "Data variables:\n",
       "    gene_da        (cell, gene, mc_type, count_type) uint32 dask.array<chunksize=(15, 10931, 1, 1), meta=np.ndarray>\n",
       "Attributes:\n",
       "    obs_dim:  cell\n",
       "    var_dim:  gene"
      ]
     },
     "execution_count": 13,
     "metadata": {},
     "output_type": "execute_result"
    }
   ],
   "source": [
    "mcds.filter_feature_by_cov_mean(min_cov=min_cov)"
   ]
  },
  {
   "cell_type": "code",
   "execution_count": 14,
   "id": "7df5f991-7f7a-4daa-8764-31baf64a7f59",
   "metadata": {
    "execution": {
     "iopub.execute_input": "2024-05-22T06:21:40.612263Z",
     "iopub.status.busy": "2024-05-22T06:21:40.611873Z",
     "iopub.status.idle": "2024-05-22T06:21:40.765960Z",
     "shell.execute_reply": "2024-05-22T06:21:40.765260Z",
     "shell.execute_reply.started": "2024-05-22T06:21:40.612237Z"
    },
    "tags": []
   },
   "outputs": [],
   "source": [
    "use_features_1 = joblib.load('tmp_use_features')"
   ]
  },
  {
   "cell_type": "code",
   "execution_count": 15,
   "id": "638b19bd-0192-41d7-8368-c5894d12f1bc",
   "metadata": {
    "execution": {
     "iopub.execute_input": "2024-05-22T06:21:40.767053Z",
     "iopub.status.busy": "2024-05-22T06:21:40.766805Z",
     "iopub.status.idle": "2024-05-22T06:21:40.795626Z",
     "shell.execute_reply": "2024-05-22T06:21:40.795100Z",
     "shell.execute_reply.started": "2024-05-22T06:21:40.767031Z"
    },
    "tags": []
   },
   "outputs": [
    {
     "data": {
      "text/plain": [
       "43511"
      ]
     },
     "execution_count": 15,
     "metadata": {},
     "output_type": "execute_result"
    }
   ],
   "source": [
    "use_features = list(set(use_features_1) & set(use_features_2))\n",
    "len(use_features)"
   ]
  },
  {
   "cell_type": "code",
   "execution_count": 16,
   "id": "d0f2d43f-b403-49aa-80b9-9a7b652f1ab0",
   "metadata": {
    "execution": {
     "iopub.execute_input": "2024-05-22T06:21:42.884188Z",
     "iopub.status.busy": "2024-05-22T06:21:42.883899Z",
     "iopub.status.idle": "2024-05-22T06:21:42.996833Z",
     "shell.execute_reply": "2024-05-22T06:21:42.996244Z",
     "shell.execute_reply.started": "2024-05-22T06:21:42.884165Z"
    },
    "tags": []
   },
   "outputs": [
    {
     "name": "stderr",
     "output_type": "stream",
     "text": [
      "/home/qz/miniconda3/envs/allcools/lib/python3.7/site-packages/xarray/core/indexing.py:1227: PerformanceWarning: Slicing is producing a large chunk. To accept the large\n",
      "chunk and silence this warning, set the option\n",
      "    >>> with dask.config.set(**{'array.slicing.split_large_chunks': False}):\n",
      "    ...     array[indexer]\n",
      "\n",
      "To avoid creating the large chunks, set the option\n",
      "    >>> with dask.config.set(**{'array.slicing.split_large_chunks': True}):\n",
      "    ...     array[indexer]\n",
      "  return self.array[key]\n"
     ]
    }
   ],
   "source": [
    "f_mcds = mcds.sel(gene = mcds.get_index(var_dim).isin(use_features))"
   ]
  },
  {
   "cell_type": "code",
   "execution_count": 17,
   "id": "913de632-6105-49b0-b1ea-cf893b0e9886",
   "metadata": {
    "execution": {
     "iopub.execute_input": "2024-05-22T06:21:42.997953Z",
     "iopub.status.busy": "2024-05-22T06:21:42.997637Z",
     "iopub.status.idle": "2024-05-22T06:21:44.157137Z",
     "shell.execute_reply": "2024-05-22T06:21:44.156526Z",
     "shell.execute_reply.started": "2024-05-22T06:21:42.997931Z"
    },
    "tags": []
   },
   "outputs": [],
   "source": [
    "f_mcds.add_mc_frac(normalize_per_cell=False, clip_norm_value=None)"
   ]
  },
  {
   "cell_type": "code",
   "execution_count": 18,
   "id": "fe89416d-6051-4b14-9822-bf1962dd9a38",
   "metadata": {
    "execution": {
     "iopub.execute_input": "2024-05-22T06:22:08.936282Z",
     "iopub.status.busy": "2024-05-22T06:22:08.935877Z",
     "iopub.status.idle": "2024-05-22T06:22:08.957440Z",
     "shell.execute_reply": "2024-05-22T06:22:08.956657Z",
     "shell.execute_reply.started": "2024-05-22T06:22:08.936257Z"
    },
    "tags": []
   },
   "outputs": [],
   "source": [
    "f_mcds = f_mcds[['gene_da_frac']]\n",
    "f_mcds['gene_da_frac'] = f_mcds['gene_da_frac'].astype('float32')"
   ]
  },
  {
   "cell_type": "code",
   "execution_count": 19,
   "id": "89719b0c-ed30-430d-a3a9-4a279dac9ab6",
   "metadata": {
    "execution": {
     "iopub.execute_input": "2024-05-22T06:22:09.969912Z",
     "iopub.status.busy": "2024-05-22T06:22:09.969532Z",
     "iopub.status.idle": "2024-05-22T06:27:06.254137Z",
     "shell.execute_reply": "2024-05-22T06:27:06.253379Z",
     "shell.execute_reply.started": "2024-05-22T06:22:09.969889Z"
    },
    "tags": []
   },
   "outputs": [
    {
     "name": "stdout",
     "output_type": "stream",
     "text": [
      "Saving gene\n",
      "Saving chunk 0: 0 - 7266\n"
     ]
    },
    {
     "name": "stderr",
     "output_type": "stream",
     "text": [
      "/home/qz/miniconda3/envs/allcools/lib/python3.7/site-packages/dask/core.py:119: RuntimeWarning: invalid value encountered in true_divide\n",
      "  return func(*(_execute_task(a, cache) for a in args))\n"
     ]
    },
    {
     "name": "stdout",
     "output_type": "stream",
     "text": [
      "Saving chunk 1: 7266 - 14532\n",
      "Saving chunk 2: 14532 - 21798\n",
      "Saving chunk 3: 21798 - 29064\n",
      "Saving chunk 4: 29064 - 36330\n",
      "Saving chunk 5: 36330 - 43596\n",
      "Saving chunk 6: 43596 - 50862\n",
      "Saving chunk 7: 50862 - 58128\n",
      "Saving chunk 8: 58128 - 65394\n",
      "Saving chunk 9: 65394 - 72660\n",
      "Saving chunk 10: 72660 - 72666\n"
     ]
    }
   ],
   "source": [
    "f_mcds.write_dataset(f'Female.genes_frac.mcds', var_dims=['gene'])"
   ]
  },
  {
   "cell_type": "code",
   "execution_count": null,
   "id": "2c8648bf-9001-48f2-bff3-8cf50d67d01e",
   "metadata": {},
   "outputs": [],
   "source": [
    "# mcds = MCDS.open(mcds_path, \n",
    "#                  var_dim= use_features.isin(mcds.get_index(var_dim)),\n",
    "#                  use_obs=metadata.index).sel({var_dim: use_features})"
   ]
  },
  {
   "cell_type": "code",
   "execution_count": null,
   "id": "bb2016d3-945c-4447-9ce1-9a3be6b8d01a",
   "metadata": {},
   "outputs": [],
   "source": []
  },
  {
   "cell_type": "code",
   "execution_count": null,
   "id": "4fed1862-0f42-4b27-8bb4-37790546442e",
   "metadata": {},
   "outputs": [],
   "source": []
  },
  {
   "cell_type": "code",
   "execution_count": null,
   "id": "2ccd7fbb-1600-4620-97fd-16c6584cdf4d",
   "metadata": {},
   "outputs": [],
   "source": []
  },
  {
   "cell_type": "code",
   "execution_count": null,
   "id": "b3e5e4a6-a2bb-42da-885e-08b158f62d0d",
   "metadata": {},
   "outputs": [],
   "source": []
  },
  {
   "cell_type": "code",
   "execution_count": null,
   "id": "1d4afe9a-db70-4347-808a-cbd31fa4cc52",
   "metadata": {},
   "outputs": [],
   "source": []
  },
  {
   "cell_type": "code",
   "execution_count": null,
   "id": "13fd7445-aadc-4c0d-b8c5-e474b7c296cf",
   "metadata": {},
   "outputs": [],
   "source": []
  },
  {
   "cell_type": "code",
   "execution_count": null,
   "id": "e612d702-770d-43b7-a846-a49a85861a31",
   "metadata": {},
   "outputs": [],
   "source": []
  },
  {
   "cell_type": "code",
   "execution_count": null,
   "id": "89c0c09e-be5f-451b-bb8c-775e7d7e6b2a",
   "metadata": {},
   "outputs": [],
   "source": []
  },
  {
   "cell_type": "code",
   "execution_count": null,
   "id": "fa86372d-5454-4333-a40d-5c063052433b",
   "metadata": {},
   "outputs": [],
   "source": []
  },
  {
   "cell_type": "code",
   "execution_count": null,
   "id": "928ed5a6-b3c5-470b-874a-822521800ad4",
   "metadata": {},
   "outputs": [],
   "source": []
  },
  {
   "cell_type": "code",
   "execution_count": null,
   "id": "ea7d1837-2d93-4e20-a09a-a8af74684d2e",
   "metadata": {},
   "outputs": [],
   "source": []
  },
  {
   "cell_type": "code",
   "execution_count": null,
   "id": "7ef1f22c-5892-48d9-a94f-89f90741ef6f",
   "metadata": {},
   "outputs": [],
   "source": []
  },
  {
   "cell_type": "code",
   "execution_count": null,
   "id": "1f068662-ce6e-42b8-98a7-91f809d58486",
   "metadata": {},
   "outputs": [],
   "source": []
  }
 ],
 "metadata": {
  "kernelspec": {
   "display_name": "Python 3 (ipykernel)",
   "language": "python",
   "name": "python3"
  },
  "language_info": {
   "codemirror_mode": {
    "name": "ipython",
    "version": 3
   },
   "file_extension": ".py",
   "mimetype": "text/x-python",
   "name": "python",
   "nbconvert_exporter": "python",
   "pygments_lexer": "ipython3",
   "version": "3.7.12"
  }
 },
 "nbformat": 4,
 "nbformat_minor": 5
}
