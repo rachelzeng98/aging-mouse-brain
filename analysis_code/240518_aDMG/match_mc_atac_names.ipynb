{
 "cells": [
  {
   "cell_type": "code",
   "execution_count": 1,
   "id": "c581a806-1c79-4f86-903c-898ddb003b06",
   "metadata": {
    "execution": {
     "iopub.execute_input": "2024-06-22T00:34:18.760557Z",
     "iopub.status.busy": "2024-06-22T00:34:18.759924Z",
     "iopub.status.idle": "2024-06-22T00:34:19.247044Z",
     "shell.execute_reply": "2024-06-22T00:34:19.246346Z",
     "shell.execute_reply.started": "2024-06-22T00:34:18.760507Z"
    },
    "tags": []
   },
   "outputs": [],
   "source": [
    "import glob\n",
    "import subprocess\n",
    "import pandas as pd\n",
    "import joblib"
   ]
  },
  {
   "cell_type": "code",
   "execution_count": 2,
   "id": "b54295f6-7583-434b-ba0b-8b9c0e42aada",
   "metadata": {
    "execution": {
     "iopub.execute_input": "2024-06-22T00:34:19.251010Z",
     "iopub.status.busy": "2024-06-22T00:34:19.250801Z",
     "iopub.status.idle": "2024-06-22T00:34:24.009827Z",
     "shell.execute_reply": "2024-06-22T00:34:24.008564Z",
     "shell.execute_reply.started": "2024-06-22T00:34:19.250988Z"
    },
    "tags": []
   },
   "outputs": [
    {
     "name": "stderr",
     "output_type": "stream",
     "text": [
      "/home/qz/miniconda3/envs/allcools/lib/python3.7/site-packages/IPython/core/interactiveshell.py:3552: DtypeWarning: Columns (10) have mixed types.Specify dtype option on import or set low_memory=False.\n",
      "  exec(code_obj, self.user_global_ns, self.user_ns)\n"
     ]
    }
   ],
   "source": [
    "mc_all = pd.read_csv('/home/qzeng/project/aging/240112_DMG_CEF/result/Male.CGN.DMG.csv', index_col = 0)"
   ]
  },
  {
   "cell_type": "code",
   "execution_count": 3,
   "id": "1a699640-a0d7-40ec-887a-382b24f68b3a",
   "metadata": {
    "execution": {
     "iopub.execute_input": "2024-06-22T00:34:24.012579Z",
     "iopub.status.busy": "2024-06-22T00:34:24.012289Z",
     "iopub.status.idle": "2024-06-22T00:34:24.019621Z",
     "shell.execute_reply": "2024-06-22T00:34:24.018622Z",
     "shell.execute_reply.started": "2024-06-22T00:34:24.012542Z"
    },
    "tags": []
   },
   "outputs": [],
   "source": [
    "rna_cts = [path.split('/')[-1].split('.')[0] for path in glob.glob('DEGs/*')]"
   ]
  },
  {
   "cell_type": "code",
   "execution_count": 4,
   "id": "612f5977-e2e5-4521-bf4c-6872d9e509d2",
   "metadata": {
    "execution": {
     "iopub.execute_input": "2024-06-22T00:34:24.020646Z",
     "iopub.status.busy": "2024-06-22T00:34:24.020438Z",
     "iopub.status.idle": "2024-06-22T00:34:24.151525Z",
     "shell.execute_reply": "2024-06-22T00:34:24.150771Z",
     "shell.execute_reply.started": "2024-06-22T00:34:24.020626Z"
    },
    "tags": []
   },
   "outputs": [
    {
     "data": {
      "text/plain": [
       "36"
      ]
     },
     "execution_count": 4,
     "metadata": {},
     "output_type": "execute_result"
    }
   ],
   "source": [
    "mc_cts = mc_all['celltype'].unique()\n",
    "mc_cts= [ct.replace(' ','_').replace('/','') for ct in mc_cts] \n",
    "\n",
    "use_cts  = joblib.load('/home/qzeng/project/aging/metadata/shared_use_cts')\n",
    "use_cts = [ct.replace(' ','_').replace('/','') for ct in use_cts]\n",
    "\n",
    "mc_cts  = list(set(use_cts) & set(mc_cts))\n",
    "len(mc_cts)"
   ]
  },
  {
   "cell_type": "code",
   "execution_count": 5,
   "id": "4d2c9ad9-eef5-454f-84b5-2d74a448e5b2",
   "metadata": {
    "execution": {
     "iopub.execute_input": "2024-06-22T00:34:24.152571Z",
     "iopub.status.busy": "2024-06-22T00:34:24.152340Z",
     "iopub.status.idle": "2024-06-22T00:34:24.157900Z",
     "shell.execute_reply": "2024-06-22T00:34:24.157332Z",
     "shell.execute_reply.started": "2024-06-22T00:34:24.152551Z"
    },
    "tags": []
   },
   "outputs": [
    {
     "data": {
      "text/plain": [
       "27"
      ]
     },
     "execution_count": 5,
     "metadata": {},
     "output_type": "execute_result"
    }
   ],
   "source": [
    "shared  = list(set(rna_cts) & set(mc_cts))\n",
    "len(shared)"
   ]
  },
  {
   "cell_type": "code",
   "execution_count": 8,
   "id": "2fd8d815-26f5-40a2-a023-14c23ba6c3d0",
   "metadata": {
    "execution": {
     "iopub.execute_input": "2024-06-22T00:35:47.458783Z",
     "iopub.status.busy": "2024-06-22T00:35:47.458027Z",
     "iopub.status.idle": "2024-06-22T00:35:47.470829Z",
     "shell.execute_reply": "2024-06-22T00:35:47.469653Z",
     "shell.execute_reply.started": "2024-06-22T00:35:47.458699Z"
    },
    "tags": []
   },
   "outputs": [
    {
     "data": {
      "text/plain": [
       "['mc_rna_corr_cts']"
      ]
     },
     "execution_count": 8,
     "metadata": {},
     "output_type": "execute_result"
    }
   ],
   "source": [
    "joblib.dump(shared, 'mc_rna_corr_cts')"
   ]
  },
  {
   "cell_type": "code",
   "execution_count": 6,
   "id": "54249db4-f312-462e-be6a-b222a15c6af0",
   "metadata": {
    "execution": {
     "iopub.execute_input": "2024-06-22T00:34:24.158823Z",
     "iopub.status.busy": "2024-06-22T00:34:24.158624Z",
     "iopub.status.idle": "2024-06-22T00:34:24.163244Z",
     "shell.execute_reply": "2024-06-22T00:34:24.162351Z",
     "shell.execute_reply.started": "2024-06-22T00:34:24.158804Z"
    },
    "tags": []
   },
   "outputs": [
    {
     "name": "stdout",
     "output_type": "stream",
     "text": [
      "PAG-PPN_Pax5_Sox21_Gaba\n",
      "STR_D1_Gaba\n",
      "PB_Evx2_Glut\n",
      "STR_D2_Gaba\n",
      "STR_Gaba\n",
      "L45_IT_CTX_Glut\n",
      "MEA-COA_Glut\n",
      "LDT-PCG-CS_Gata3_Lhx1_Gaba\n",
      "PAG_Glut\n"
     ]
    }
   ],
   "source": [
    "for mc in mc_cts:\n",
    "    if mc not in shared:\n",
    "        print(mc)"
   ]
  },
  {
   "cell_type": "code",
   "execution_count": null,
   "id": "54db3b15-1bcb-496f-8d70-10561642e9ac",
   "metadata": {},
   "outputs": [],
   "source": []
  },
  {
   "cell_type": "code",
   "execution_count": null,
   "id": "1c7885ce-3e77-48c8-a304-d2b9a303d74a",
   "metadata": {},
   "outputs": [],
   "source": []
  },
  {
   "cell_type": "code",
   "execution_count": null,
   "id": "2ede2c49-0118-43b6-bd2a-a5e3b3f710a4",
   "metadata": {},
   "outputs": [],
   "source": []
  },
  {
   "cell_type": "code",
   "execution_count": null,
   "id": "52829012-067d-4935-ba1f-7a1bb74e79b7",
   "metadata": {},
   "outputs": [],
   "source": []
  }
 ],
 "metadata": {
  "kernelspec": {
   "display_name": "Python 3 (ipykernel)",
   "language": "python",
   "name": "python3"
  },
  "language_info": {
   "codemirror_mode": {
    "name": "ipython",
    "version": 3
   },
   "file_extension": ".py",
   "mimetype": "text/x-python",
   "name": "python",
   "nbconvert_exporter": "python",
   "pygments_lexer": "ipython3",
   "version": "3.7.12"
  }
 },
 "nbformat": 4,
 "nbformat_minor": 5
}
