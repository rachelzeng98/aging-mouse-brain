{
 "cells": [
  {
   "cell_type": "code",
   "execution_count": 9,
   "id": "159b3b54-2fd6-47d9-8d59-75bd25c6cdc4",
   "metadata": {
    "execution": {
     "iopub.execute_input": "2025-02-04T01:13:44.768883Z",
     "iopub.status.busy": "2025-02-04T01:13:44.768224Z",
     "iopub.status.idle": "2025-02-04T01:13:44.775418Z",
     "shell.execute_reply": "2025-02-04T01:13:44.773976Z",
     "shell.execute_reply.started": "2025-02-04T01:13:44.768827Z"
    },
    "tags": []
   },
   "outputs": [],
   "source": [
    "import xarray as xr\n",
    "import pandas as pd"
   ]
  },
  {
   "cell_type": "code",
   "execution_count": 2,
   "id": "154cddbd-395f-49bd-af4f-84cb0c1f0c67",
   "metadata": {
    "execution": {
     "iopub.execute_input": "2025-02-04T01:11:20.143475Z",
     "iopub.status.busy": "2025-02-04T01:11:20.142764Z",
     "iopub.status.idle": "2025-02-04T01:11:20.270406Z",
     "shell.execute_reply": "2025-02-04T01:11:20.269249Z",
     "shell.execute_reply.started": "2025-02-04T01:11:20.143403Z"
    },
    "tags": []
   },
   "outputs": [
    {
     "name": "stderr",
     "output_type": "stream",
     "text": [
      "/home/qz/miniconda3/envs/allcools/lib/python3.7/site-packages/xarray/backends/plugins.py:114: RuntimeWarning: 'netcdf4' fails while guessing\n",
      "  warnings.warn(f\"{engine!r} fails while guessing\", RuntimeWarning)\n",
      "/home/qz/miniconda3/envs/allcools/lib/python3.7/site-packages/xarray/backends/plugins.py:114: RuntimeWarning: 'scipy' fails while guessing\n",
      "  warnings.warn(f\"{engine!r} fails while guessing\", RuntimeWarning)\n"
     ]
    }
   ],
   "source": [
    "anova_zarr = xr.open_dataset('CGN.Female.AgingMajorType.Anova.Result.zarr')"
   ]
  },
  {
   "cell_type": "code",
   "execution_count": 7,
   "id": "bba05030-b73e-4b5d-a212-37c806597c02",
   "metadata": {
    "execution": {
     "iopub.execute_input": "2025-02-04T01:13:20.699176Z",
     "iopub.status.busy": "2025-02-04T01:13:20.698947Z",
     "iopub.status.idle": "2025-02-04T01:13:20.703276Z",
     "shell.execute_reply": "2025-02-04T01:13:20.702743Z",
     "shell.execute_reply.started": "2025-02-04T01:13:20.699156Z"
    },
    "tags": []
   },
   "outputs": [],
   "source": [
    "zarr = anova_zarr.sel(cell_type = 'Oligo NN')['anova_results'].to_pandas()"
   ]
  },
  {
   "cell_type": "code",
   "execution_count": 8,
   "id": "fd20ffd2-d6bf-431c-9cfe-8f57bf344e44",
   "metadata": {
    "execution": {
     "iopub.execute_input": "2025-02-04T01:13:24.382785Z",
     "iopub.status.busy": "2025-02-04T01:13:24.382184Z",
     "iopub.status.idle": "2025-02-04T01:13:24.403639Z",
     "shell.execute_reply": "2025-02-04T01:13:24.402730Z",
     "shell.execute_reply.started": "2025-02-04T01:13:24.382740Z"
    },
    "tags": []
   },
   "outputs": [
    {
     "data": {
      "text/html": [
       "<div>\n",
       "<style scoped>\n",
       "    .dataframe tbody tr th:only-of-type {\n",
       "        vertical-align: middle;\n",
       "    }\n",
       "\n",
       "    .dataframe tbody tr th {\n",
       "        vertical-align: top;\n",
       "    }\n",
       "\n",
       "    .dataframe thead th {\n",
       "        text-align: right;\n",
       "    }\n",
       "</style>\n",
       "<table border=\"1\" class=\"dataframe\">\n",
       "  <thead>\n",
       "    <tr style=\"text-align: right;\">\n",
       "      <th>columns</th>\n",
       "      <th>pvalue</th>\n",
       "      <th>corrected_pvalue</th>\n",
       "      <th>18mo</th>\n",
       "      <th>8wk</th>\n",
       "      <th>9mo</th>\n",
       "    </tr>\n",
       "    <tr>\n",
       "      <th>genes</th>\n",
       "      <th></th>\n",
       "      <th></th>\n",
       "      <th></th>\n",
       "      <th></th>\n",
       "      <th></th>\n",
       "    </tr>\n",
       "  </thead>\n",
       "  <tbody>\n",
       "    <tr>\n",
       "      <th>ENSMUSG00000102693.1</th>\n",
       "      <td>1.524617e-08</td>\n",
       "      <td>1.521655e-06</td>\n",
       "      <td>0.726088</td>\n",
       "      <td>0.717583</td>\n",
       "      <td>0.722536</td>\n",
       "    </tr>\n",
       "    <tr>\n",
       "      <th>ENSMUSG00000051951.5</th>\n",
       "      <td>6.980852e-10</td>\n",
       "      <td>9.914604e-08</td>\n",
       "      <td>0.836244</td>\n",
       "      <td>0.823856</td>\n",
       "      <td>0.828250</td>\n",
       "    </tr>\n",
       "    <tr>\n",
       "      <th>ENSMUSG00000102851.1</th>\n",
       "      <td>5.300872e-09</td>\n",
       "      <td>6.013465e-07</td>\n",
       "      <td>0.734833</td>\n",
       "      <td>0.724670</td>\n",
       "      <td>0.729237</td>\n",
       "    </tr>\n",
       "    <tr>\n",
       "      <th>ENSMUSG00000103377.1</th>\n",
       "      <td>5.210725e-01</td>\n",
       "      <td>1.000000e+00</td>\n",
       "      <td>0.708639</td>\n",
       "      <td>0.711398</td>\n",
       "      <td>0.712179</td>\n",
       "    </tr>\n",
       "    <tr>\n",
       "      <th>ENSMUSG00000104017.1</th>\n",
       "      <td>1.807186e-05</td>\n",
       "      <td>7.449666e-04</td>\n",
       "      <td>0.742791</td>\n",
       "      <td>0.732814</td>\n",
       "      <td>0.741387</td>\n",
       "    </tr>\n",
       "    <tr>\n",
       "      <th>...</th>\n",
       "      <td>...</td>\n",
       "      <td>...</td>\n",
       "      <td>...</td>\n",
       "      <td>...</td>\n",
       "      <td>...</td>\n",
       "    </tr>\n",
       "    <tr>\n",
       "      <th>ENSMUSG00000072844.6</th>\n",
       "      <td>5.046048e-04</td>\n",
       "      <td>1.379347e-02</td>\n",
       "      <td>0.715993</td>\n",
       "      <td>0.700601</td>\n",
       "      <td>0.718196</td>\n",
       "    </tr>\n",
       "    <tr>\n",
       "      <th>ENSMUSG00000087263.1</th>\n",
       "      <td>2.495585e-02</td>\n",
       "      <td>4.391630e-01</td>\n",
       "      <td>0.702871</td>\n",
       "      <td>0.698390</td>\n",
       "      <td>0.709723</td>\n",
       "    </tr>\n",
       "    <tr>\n",
       "      <th>ENSMUSG00000086695.1</th>\n",
       "      <td>1.954042e-07</td>\n",
       "      <td>1.409485e-05</td>\n",
       "      <td>0.690463</td>\n",
       "      <td>0.694215</td>\n",
       "      <td>0.717155</td>\n",
       "    </tr>\n",
       "    <tr>\n",
       "      <th>ENSMUSG00000095562.8</th>\n",
       "      <td>5.522589e-26</td>\n",
       "      <td>5.123527e-23</td>\n",
       "      <td>0.850675</td>\n",
       "      <td>0.866775</td>\n",
       "      <td>0.874812</td>\n",
       "    </tr>\n",
       "    <tr>\n",
       "      <th>ENSMUSG00000093806.1</th>\n",
       "      <td>1.380835e-02</td>\n",
       "      <td>2.599528e-01</td>\n",
       "      <td>0.620761</td>\n",
       "      <td>0.638583</td>\n",
       "      <td>0.622641</td>\n",
       "    </tr>\n",
       "  </tbody>\n",
       "</table>\n",
       "<p>43511 rows × 5 columns</p>\n",
       "</div>"
      ],
      "text/plain": [
       "columns                     pvalue  corrected_pvalue      18mo       8wk  \\\n",
       "genes                                                                      \n",
       "ENSMUSG00000102693.1  1.524617e-08      1.521655e-06  0.726088  0.717583   \n",
       "ENSMUSG00000051951.5  6.980852e-10      9.914604e-08  0.836244  0.823856   \n",
       "ENSMUSG00000102851.1  5.300872e-09      6.013465e-07  0.734833  0.724670   \n",
       "ENSMUSG00000103377.1  5.210725e-01      1.000000e+00  0.708639  0.711398   \n",
       "ENSMUSG00000104017.1  1.807186e-05      7.449666e-04  0.742791  0.732814   \n",
       "...                            ...               ...       ...       ...   \n",
       "ENSMUSG00000072844.6  5.046048e-04      1.379347e-02  0.715993  0.700601   \n",
       "ENSMUSG00000087263.1  2.495585e-02      4.391630e-01  0.702871  0.698390   \n",
       "ENSMUSG00000086695.1  1.954042e-07      1.409485e-05  0.690463  0.694215   \n",
       "ENSMUSG00000095562.8  5.522589e-26      5.123527e-23  0.850675  0.866775   \n",
       "ENSMUSG00000093806.1  1.380835e-02      2.599528e-01  0.620761  0.638583   \n",
       "\n",
       "columns                    9mo  \n",
       "genes                           \n",
       "ENSMUSG00000102693.1  0.722536  \n",
       "ENSMUSG00000051951.5  0.828250  \n",
       "ENSMUSG00000102851.1  0.729237  \n",
       "ENSMUSG00000103377.1  0.712179  \n",
       "ENSMUSG00000104017.1  0.741387  \n",
       "...                        ...  \n",
       "ENSMUSG00000072844.6  0.718196  \n",
       "ENSMUSG00000087263.1  0.709723  \n",
       "ENSMUSG00000086695.1  0.717155  \n",
       "ENSMUSG00000095562.8  0.874812  \n",
       "ENSMUSG00000093806.1  0.622641  \n",
       "\n",
       "[43511 rows x 5 columns]"
      ]
     },
     "execution_count": 8,
     "metadata": {},
     "output_type": "execute_result"
    }
   ],
   "source": [
    "zarr"
   ]
  },
  {
   "cell_type": "code",
   "execution_count": 10,
   "id": "1f6b9a0d-a3aa-4124-9f21-f9feaf3ccde4",
   "metadata": {
    "execution": {
     "iopub.execute_input": "2025-02-04T01:15:42.771641Z",
     "iopub.status.busy": "2025-02-04T01:15:42.770845Z",
     "iopub.status.idle": "2025-02-04T01:15:45.651790Z",
     "shell.execute_reply": "2025-02-04T01:15:45.650893Z",
     "shell.execute_reply.started": "2025-02-04T01:15:42.771583Z"
    },
    "tags": []
   },
   "outputs": [
    {
     "name": "stderr",
     "output_type": "stream",
     "text": [
      "/home/qz/miniconda3/envs/allcools/lib/python3.7/site-packages/IPython/core/interactiveshell.py:3552: DtypeWarning: Columns (10) have mixed types.Specify dtype option on import or set low_memory=False.\n",
      "  exec(code_obj, self.user_global_ns, self.user_ns)\n"
     ]
    }
   ],
   "source": [
    "df = pd.read_csv(f\"result/Female.CGN.AllGene.Anova.Result.csv\", index_col =0)"
   ]
  },
  {
   "cell_type": "code",
   "execution_count": 13,
   "id": "53accc16-41bb-46be-83d3-884c19ba0637",
   "metadata": {
    "execution": {
     "iopub.execute_input": "2025-02-04T01:17:00.117520Z",
     "iopub.status.busy": "2025-02-04T01:17:00.116982Z",
     "iopub.status.idle": "2025-02-04T01:17:00.253168Z",
     "shell.execute_reply": "2025-02-04T01:17:00.252473Z",
     "shell.execute_reply.started": "2025-02-04T01:17:00.117473Z"
    },
    "tags": []
   },
   "outputs": [],
   "source": [
    "df = df[df['celltype'] == 'Oligo NN']"
   ]
  },
  {
   "cell_type": "code",
   "execution_count": 16,
   "id": "14eb36d5-be6a-40f2-a9fc-d94565ed8ed4",
   "metadata": {
    "execution": {
     "iopub.execute_input": "2025-02-04T01:17:30.265090Z",
     "iopub.status.busy": "2025-02-04T01:17:30.264493Z",
     "iopub.status.idle": "2025-02-04T01:17:30.291644Z",
     "shell.execute_reply": "2025-02-04T01:17:30.290263Z",
     "shell.execute_reply.started": "2025-02-04T01:17:30.265035Z"
    },
    "tags": []
   },
   "outputs": [
    {
     "data": {
      "text/html": [
       "<div>\n",
       "<style scoped>\n",
       "    .dataframe tbody tr th:only-of-type {\n",
       "        vertical-align: middle;\n",
       "    }\n",
       "\n",
       "    .dataframe tbody tr th {\n",
       "        vertical-align: top;\n",
       "    }\n",
       "\n",
       "    .dataframe thead th {\n",
       "        text-align: right;\n",
       "    }\n",
       "</style>\n",
       "<table border=\"1\" class=\"dataframe\">\n",
       "  <thead>\n",
       "    <tr style=\"text-align: right;\">\n",
       "      <th></th>\n",
       "      <th>pvalue</th>\n",
       "      <th>corrected_pvalue</th>\n",
       "      <th>18mo</th>\n",
       "      <th>8wk</th>\n",
       "      <th>9mo</th>\n",
       "      <th>gene_length</th>\n",
       "      <th>celltype</th>\n",
       "      <th>methylation_change</th>\n",
       "      <th>abs_change</th>\n",
       "      <th>trend</th>\n",
       "    </tr>\n",
       "    <tr>\n",
       "      <th>genes</th>\n",
       "      <th></th>\n",
       "      <th></th>\n",
       "      <th></th>\n",
       "      <th></th>\n",
       "      <th></th>\n",
       "      <th></th>\n",
       "      <th></th>\n",
       "      <th></th>\n",
       "      <th></th>\n",
       "      <th></th>\n",
       "    </tr>\n",
       "  </thead>\n",
       "  <tbody>\n",
       "    <tr>\n",
       "      <th>ENSMUSG00000051951.5</th>\n",
       "      <td>6.980852e-10</td>\n",
       "      <td>9.914604e-08</td>\n",
       "      <td>0.836244</td>\n",
       "      <td>0.823856</td>\n",
       "      <td>0.82825</td>\n",
       "      <td>465597</td>\n",
       "      <td>Oligo NN</td>\n",
       "      <td>0.012388</td>\n",
       "      <td>0.012388</td>\n",
       "      <td>NaN</td>\n",
       "    </tr>\n",
       "  </tbody>\n",
       "</table>\n",
       "</div>"
      ],
      "text/plain": [
       "                            pvalue  corrected_pvalue      18mo       8wk  \\\n",
       "genes                                                                      \n",
       "ENSMUSG00000051951.5  6.980852e-10      9.914604e-08  0.836244  0.823856   \n",
       "\n",
       "                          9mo  gene_length  celltype  methylation_change  \\\n",
       "genes                                                                      \n",
       "ENSMUSG00000051951.5  0.82825       465597  Oligo NN            0.012388   \n",
       "\n",
       "                      abs_change trend  \n",
       "genes                                   \n",
       "ENSMUSG00000051951.5    0.012388   NaN  "
      ]
     },
     "execution_count": 16,
     "metadata": {},
     "output_type": "execute_result"
    }
   ],
   "source": [
    "df.loc[['ENSMUSG00000051951.5']]"
   ]
  },
  {
   "cell_type": "code",
   "execution_count": null,
   "id": "97a2b543-91a2-4bfe-90a7-d9c422e60675",
   "metadata": {},
   "outputs": [],
   "source": []
  },
  {
   "cell_type": "code",
   "execution_count": null,
   "id": "889605bb-5c1c-4846-be81-0416dd5bf43d",
   "metadata": {},
   "outputs": [],
   "source": []
  },
  {
   "cell_type": "code",
   "execution_count": null,
   "id": "b5f5cb08-fedc-4e30-8573-b9f2daf08790",
   "metadata": {},
   "outputs": [],
   "source": []
  },
  {
   "cell_type": "code",
   "execution_count": null,
   "id": "921e6c11-594f-43e7-8d93-46811ee0cc49",
   "metadata": {},
   "outputs": [],
   "source": []
  },
  {
   "cell_type": "code",
   "execution_count": null,
   "id": "b72cd84f-0465-4020-80d8-70256a700d01",
   "metadata": {},
   "outputs": [],
   "source": []
  },
  {
   "cell_type": "code",
   "execution_count": null,
   "id": "cb3a1873-6c12-446f-b899-56a9f6367336",
   "metadata": {},
   "outputs": [],
   "source": []
  },
  {
   "cell_type": "code",
   "execution_count": null,
   "id": "8da96b31-75e1-405d-a308-6080b3462a82",
   "metadata": {},
   "outputs": [],
   "source": []
  }
 ],
 "metadata": {
  "kernelspec": {
   "display_name": "Python 3 (ipykernel)",
   "language": "python",
   "name": "python3"
  },
  "language_info": {
   "codemirror_mode": {
    "name": "ipython",
    "version": 3
   },
   "file_extension": ".py",
   "mimetype": "text/x-python",
   "name": "python",
   "nbconvert_exporter": "python",
   "pygments_lexer": "ipython3",
   "version": "3.7.12"
  }
 },
 "nbformat": 4,
 "nbformat_minor": 5
}
