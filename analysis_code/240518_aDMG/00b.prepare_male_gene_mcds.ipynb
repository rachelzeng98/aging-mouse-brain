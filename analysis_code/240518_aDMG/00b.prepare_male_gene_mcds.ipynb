{
 "cells": [
  {
   "cell_type": "code",
   "execution_count": 1,
   "id": "fe719112-647d-4490-a3fa-7845b40c4f47",
   "metadata": {
    "execution": {
     "iopub.execute_input": "2024-05-22T06:22:53.521910Z",
     "iopub.status.busy": "2024-05-22T06:22:53.521539Z",
     "iopub.status.idle": "2024-05-22T06:22:57.573803Z",
     "shell.execute_reply": "2024-05-22T06:22:57.573199Z",
     "shell.execute_reply.started": "2024-05-22T06:22:53.521880Z"
    },
    "tags": []
   },
   "outputs": [],
   "source": [
    "import pandas as pd\n",
    "import pybedtools\n",
    "from ALLCools.mcds import MCDS\n",
    "import glob\n",
    "import joblib"
   ]
  },
  {
   "cell_type": "code",
   "execution_count": 2,
   "id": "229b90e4-ebf2-4432-884b-30d48e57267e",
   "metadata": {
    "execution": {
     "iopub.execute_input": "2024-05-22T06:22:57.575276Z",
     "iopub.status.busy": "2024-05-22T06:22:57.574953Z",
     "iopub.status.idle": "2024-05-22T06:22:57.581604Z",
     "shell.execute_reply": "2024-05-22T06:22:57.581138Z",
     "shell.execute_reply.started": "2024-05-22T06:22:57.575252Z"
    },
    "tags": []
   },
   "outputs": [],
   "source": [
    "gene_meta_path = '/home/qzeng/project/aging/metadata/gencode.vM22.basic.annotation.gene.flat.tsv.gz'\n",
    "chrom_to_remove = ['chrM','chrY']\n",
    "\n",
    "# change this to the path to your filtered metadata\n",
    "metadata_path = '/home/qzeng/project/aging/metadata/240104_mC_META.csv'\n",
    "\n",
    "# change this to the paths to your MCDS files\n",
    "obs_dim = 'cell'\n",
    "var_dim = 'geneslop2k'\n",
    "\n",
    "min_cov = 5\n",
    "\n",
    "male_cemba_mcds_paths = glob.glob('/gale/netapp/home/wtian/aging/dataset/cemba/mcds/*.mcds') \n",
    "male_aging_mcds_paths = glob.glob('/gale/netapp/home/wtian/aging/dataset/aging/mcds/*.mcds') \n",
    "mcds_path = list(male_cemba_mcds_paths) + list(male_aging_mcds_paths)"
   ]
  },
  {
   "cell_type": "code",
   "execution_count": 3,
   "id": "806ca5f7-0ab7-41f8-a814-8522abf374a1",
   "metadata": {
    "execution": {
     "iopub.execute_input": "2024-05-22T06:22:57.582517Z",
     "iopub.status.busy": "2024-05-22T06:22:57.582265Z",
     "iopub.status.idle": "2024-05-22T06:22:57.715647Z",
     "shell.execute_reply": "2024-05-22T06:22:57.714968Z",
     "shell.execute_reply.started": "2024-05-22T06:22:57.582496Z"
    },
    "tags": []
   },
   "outputs": [
    {
     "name": "stdout",
     "output_type": "stream",
     "text": [
      "/home/qzeng/project/aging/240518_redo_aDMG\n"
     ]
    }
   ],
   "source": [
    "!pwd"
   ]
  },
  {
   "cell_type": "code",
   "execution_count": 4,
   "id": "05324754-e41a-4f3d-aa34-9ed4543703ec",
   "metadata": {
    "execution": {
     "iopub.execute_input": "2024-05-22T06:22:57.717480Z",
     "iopub.status.busy": "2024-05-22T06:22:57.717151Z",
     "iopub.status.idle": "2024-05-22T06:22:59.321418Z",
     "shell.execute_reply": "2024-05-22T06:22:59.320846Z",
     "shell.execute_reply.started": "2024-05-22T06:22:57.717456Z"
    },
    "tags": []
   },
   "outputs": [
    {
     "name": "stderr",
     "output_type": "stream",
     "text": [
      "/home/qz/miniconda3/envs/allcools/lib/python3.7/site-packages/IPython/core/interactiveshell.py:3552: DtypeWarning: Columns (22) have mixed types.Specify dtype option on import or set low_memory=False.\n",
      "  exec(code_obj, self.user_global_ns, self.user_ns)\n"
     ]
    }
   ],
   "source": [
    "metadata = pd.read_csv(metadata_path, index_col = 0)\n",
    "\n",
    "gene_name_to_id = joblib.load('240112_DMG_CEF/gene_name_to_id_dict')\n",
    "gene_id_to_name = joblib.load('240112_DMG_CEF/gene_id_to_name_dict')\n",
    "\n",
    "gene_meta = pd.read_csv(gene_meta_path, index_col ='gene_id', sep='\\t')"
   ]
  },
  {
   "cell_type": "markdown",
   "id": "61d3a8c2-7d7a-4b58-aac3-6a4052d3b413",
   "metadata": {
    "tags": []
   },
   "source": [
    "## prepare male gene MCDS"
   ]
  },
  {
   "cell_type": "code",
   "execution_count": 5,
   "id": "bac69efd-12bb-4b30-b0ae-81fdf36bde36",
   "metadata": {
    "execution": {
     "iopub.execute_input": "2024-05-22T06:22:59.322564Z",
     "iopub.status.busy": "2024-05-22T06:22:59.322247Z",
     "iopub.status.idle": "2024-05-22T06:22:59.332423Z",
     "shell.execute_reply": "2024-05-22T06:22:59.331899Z",
     "shell.execute_reply.started": "2024-05-22T06:22:59.322541Z"
    },
    "tags": []
   },
   "outputs": [
    {
     "name": "stdout",
     "output_type": "stream",
     "text": [
      "53881 features remained\n"
     ]
    }
   ],
   "source": [
    "genes_to_skip = set()\n",
    "\n",
    "# skip smaller genes mostly covered by a larger gene, e.g., a miRNA within a protein coding gene.\n",
    "# F=0.9 means > 90% of gene_b is overlapped with gene_a, in this case, we only keep gene_a for DMG test\n",
    "# gene_bed = pybedtools.BedTool.from_dataframe(\n",
    "#     gene_meta.reset_index()[['chrom', 'start', 'end', 'gene_id']])\n",
    "# mapped_bam = gene_bed.map(b=gene_bed, c=4, o='distinct', F=0.9)\n",
    "# for _, (*_, gene_a, gene_b_str) in mapped_bam.to_dataframe().iterrows():\n",
    "#     for gene_b in gene_b_str.split(','):\n",
    "#         if gene_b != gene_a:\n",
    "#             genes_to_skip.add(gene_b)\n",
    "\n",
    "# remove certain chromosomes\n",
    "genes_to_skip |= set(gene_meta.index[gene_meta['chrom'].isin(chrom_to_remove)])\n",
    "use_features = gene_meta.index[~gene_meta.index.isin(genes_to_skip)]\n",
    "print(f'{use_features.size} features remained')"
   ]
  },
  {
   "cell_type": "code",
   "execution_count": 6,
   "id": "eda6ec63-0a3c-4b3e-ac2f-c080bc09b866",
   "metadata": {
    "execution": {
     "iopub.execute_input": "2024-05-22T06:22:59.333423Z",
     "iopub.status.busy": "2024-05-22T06:22:59.333134Z",
     "iopub.status.idle": "2024-05-22T06:23:16.462501Z",
     "shell.execute_reply": "2024-05-22T06:23:16.461941Z",
     "shell.execute_reply.started": "2024-05-22T06:22:59.333402Z"
    },
    "tags": []
   },
   "outputs": [],
   "source": [
    "mcds = MCDS.open(mcds_path, \n",
    "                 var_dim=var_dim,\n",
    "                 use_obs=metadata.index\n",
    "                )"
   ]
  },
  {
   "cell_type": "code",
   "execution_count": 7,
   "id": "d3291dcb-8457-41d7-be54-91a7bc4df4c4",
   "metadata": {
    "execution": {
     "iopub.execute_input": "2024-05-22T06:23:16.463856Z",
     "iopub.status.busy": "2024-05-22T06:23:16.463479Z",
     "iopub.status.idle": "2024-05-22T06:23:16.467670Z",
     "shell.execute_reply": "2024-05-22T06:23:16.466999Z",
     "shell.execute_reply.started": "2024-05-22T06:23:16.463823Z"
    },
    "tags": []
   },
   "outputs": [],
   "source": [
    "all_ = mcds.get_index(var_dim)"
   ]
  },
  {
   "cell_type": "code",
   "execution_count": 8,
   "id": "8ec5885f-1cec-47da-8b88-74f66be45f90",
   "metadata": {
    "execution": {
     "iopub.execute_input": "2024-05-22T06:23:16.468972Z",
     "iopub.status.busy": "2024-05-22T06:23:16.468591Z",
     "iopub.status.idle": "2024-05-22T06:23:16.509007Z",
     "shell.execute_reply": "2024-05-22T06:23:16.508359Z",
     "shell.execute_reply.started": "2024-05-22T06:23:16.468937Z"
    },
    "tags": []
   },
   "outputs": [
    {
     "data": {
      "text/plain": [
       "53881"
      ]
     },
     "execution_count": 8,
     "metadata": {},
     "output_type": "execute_result"
    }
   ],
   "source": [
    "use_features = list(set(mcds.get_index(var_dim)) & set(use_features))\n",
    "len(use_features)"
   ]
  },
  {
   "cell_type": "code",
   "execution_count": 9,
   "id": "467da353-31dd-494f-b02a-6eb28e16c825",
   "metadata": {
    "execution": {
     "iopub.execute_input": "2024-05-22T06:23:16.510467Z",
     "iopub.status.busy": "2024-05-22T06:23:16.510034Z",
     "iopub.status.idle": "2024-05-22T06:23:16.729609Z",
     "shell.execute_reply": "2024-05-22T06:23:16.728929Z",
     "shell.execute_reply.started": "2024-05-22T06:23:16.510430Z"
    },
    "tags": []
   },
   "outputs": [
    {
     "data": {
      "text/plain": [
       "['tmp_use_features']"
      ]
     },
     "execution_count": 9,
     "metadata": {},
     "output_type": "execute_result"
    }
   ],
   "source": [
    "joblib.dump(use_features,'tmp_use_features')"
   ]
  },
  {
   "cell_type": "markdown",
   "id": "9db72f85-1ac4-4f77-82a1-81fe0df3851c",
   "metadata": {},
   "source": [
    "## select features"
   ]
  },
  {
   "cell_type": "code",
   "execution_count": 10,
   "id": "36da7ae4-e00e-46a4-8551-6e418c8b18e3",
   "metadata": {
    "execution": {
     "iopub.execute_input": "2024-05-22T06:23:16.732420Z",
     "iopub.status.busy": "2024-05-22T06:23:16.731985Z",
     "iopub.status.idle": "2024-05-22T06:23:21.058699Z",
     "shell.execute_reply": "2024-05-22T06:23:21.058105Z",
     "shell.execute_reply.started": "2024-05-22T06:23:16.732382Z"
    },
    "tags": []
   },
   "outputs": [],
   "source": [
    "mcds = MCDS.open(mcds_path, \n",
    "                 var_dim= var_dim,\n",
    "                 use_obs=metadata.index)"
   ]
  },
  {
   "cell_type": "code",
   "execution_count": 11,
   "id": "15bd2e5e-0648-4901-a26e-b60258caa203",
   "metadata": {
    "execution": {
     "iopub.execute_input": "2024-05-22T06:23:21.059971Z",
     "iopub.status.busy": "2024-05-22T06:23:21.059620Z",
     "iopub.status.idle": "2024-05-22T06:29:20.405345Z",
     "shell.execute_reply": "2024-05-22T06:29:20.404608Z",
     "shell.execute_reply.started": "2024-05-22T06:23:21.059949Z"
    },
    "tags": []
   },
   "outputs": [
    {
     "name": "stdout",
     "output_type": "stream",
     "text": [
      "Feature geneslop2k mean cov across cells added in MCDS.coords['geneslop2k_cov_mean'].\n"
     ]
    },
    {
     "data": {
      "image/png": "[encoded data removed]",
      "text/plain": [
       "<Figure size 432x288 with 2 Axes>"
      ]
     },
     "metadata": {
      "needs_background": "light"
     },
     "output_type": "display_data"
    }
   ],
   "source": [
    "mcds.add_feature_cov_mean()"
   ]
  },
  {
   "cell_type": "code",
   "execution_count": 12,
   "id": "d607b130-c76e-4739-8781-dbdcf262897a",
   "metadata": {
    "execution": {
     "iopub.execute_input": "2024-05-22T06:29:20.406836Z",
     "iopub.status.busy": "2024-05-22T06:29:20.406485Z",
     "iopub.status.idle": "2024-05-22T06:29:20.411606Z",
     "shell.execute_reply": "2024-05-22T06:29:20.411077Z",
     "shell.execute_reply.started": "2024-05-22T06:29:20.406813Z"
    },
    "tags": []
   },
   "outputs": [],
   "source": [
    "feature_cov_mean = mcds.coords[f'{var_dim}_cov_mean'].to_pandas()"
   ]
  },
  {
   "cell_type": "code",
   "execution_count": 13,
   "id": "8dd407af-8166-4025-9c7c-6f6f484cd817",
   "metadata": {
    "execution": {
     "iopub.execute_input": "2024-05-22T06:29:20.412715Z",
     "iopub.status.busy": "2024-05-22T06:29:20.412356Z",
     "iopub.status.idle": "2024-05-22T06:29:20.610659Z",
     "shell.execute_reply": "2024-05-22T06:29:20.610152Z",
     "shell.execute_reply.started": "2024-05-22T06:29:20.412693Z"
    },
    "tags": []
   },
   "outputs": [],
   "source": [
    "use_features_2 = feature_cov_mean[feature_cov_mean > min_cov].index"
   ]
  },
  {
   "cell_type": "code",
   "execution_count": 14,
   "id": "4a6f56d7-dcac-4c74-8968-01909cb82a08",
   "metadata": {
    "execution": {
     "iopub.execute_input": "2024-05-22T06:29:20.611772Z",
     "iopub.status.busy": "2024-05-22T06:29:20.611375Z",
     "iopub.status.idle": "2024-05-22T06:29:20.866395Z",
     "shell.execute_reply": "2024-05-22T06:29:20.865824Z",
     "shell.execute_reply.started": "2024-05-22T06:29:20.611750Z"
    },
    "tags": []
   },
   "outputs": [
    {
     "name": "stdout",
     "output_type": "stream",
     "text": [
      "Before cov mean filter: 55487 geneslop2k\n",
      " After cov mean filter: 53533 geneslop2k 96.5%\n"
     ]
    },
    {
     "data": {
      "text/html": [
       "<div><svg style=\"position: absolute; width: 0; height: 0; overflow: hidden\">\n",
       "<defs>\n",
       "<symbol id=\"icon-database\" viewBox=\"0 0 32 32\">\n",
       "<path d=\"M16 0c-8.837 0-16 2.239-16 5v4c0 2.761 7.163 5 16 5s16-2.239 16-5v-4c0-2.761-7.163-5-16-5z\"></path>\n",
       "<path d=\"M16 17c-8.837 0-16-2.239-16-5v6c0 2.761 7.163 5 16 5s16-2.239 16-5v-6c0 2.761-7.163 5-16 5z\"></path>\n",
       "<path d=\"M16 26c-8.837 0-16-2.239-16-5v6c0 2.761 7.163 5 16 5s16-2.239 16-5v-6c0 2.761-7.163 5-16 5z\"></path>\n",
       "</symbol>\n",
       "<symbol id=\"icon-file-text2\" viewBox=\"0 0 32 32\">\n",
       "<path d=\"M28.681 7.159c-0.694-0.947-1.662-2.053-2.724-3.116s-2.169-2.030-3.116-2.724c-1.612-1.182-2.393-1.319-2.841-1.319h-15.5c-1.378 0-2.5 1.121-2.5 2.5v27c0 1.378 1.122 2.5 2.5 2.5h23c1.378 0 2.5-1.122 2.5-2.5v-19.5c0-0.448-0.137-1.23-1.319-2.841zM24.543 5.457c0.959 0.959 1.712 1.825 2.268 2.543h-4.811v-4.811c0.718 0.556 1.584 1.309 2.543 2.268zM28 29.5c0 0.271-0.229 0.5-0.5 0.5h-23c-0.271 0-0.5-0.229-0.5-0.5v-27c0-0.271 0.229-0.5 0.5-0.5 0 0 15.499-0 15.5 0v7c0 0.552 0.448 1 1 1h7v19.5z\"></path>\n",
       "<path d=\"M23 26h-14c-0.552 0-1-0.448-1-1s0.448-1 1-1h14c0.552 0 1 0.448 1 1s-0.448 1-1 1z\"></path>\n",
       "<path d=\"M23 22h-14c-0.552 0-1-0.448-1-1s0.448-1 1-1h14c0.552 0 1 0.448 1 1s-0.448 1-1 1z\"></path>\n",
       "<path d=\"M23 18h-14c-0.552 0-1-0.448-1-1s0.448-1 1-1h14c0.552 0 1 0.448 1 1s-0.448 1-1 1z\"></path>\n",
       "</symbol>\n",
       "</defs>\n",
       "</svg>\n",
       "<style>/* CSS stylesheet for displaying xarray objects in jupyterlab.\n",
       " *\n",
       " */\n",
       "\n",
       ":root {\n",
       "  --xr-font-color0: var(--jp-content-font-color0, rgba(0, 0, 0, 1));\n",
       "  --xr-font-color2: var(--jp-content-font-color2, rgba(0, 0, 0, 0.54));\n",
       "  --xr-font-color3: var(--jp-content-font-color3, rgba(0, 0, 0, 0.38));\n",
       "  --xr-border-color: var(--jp-border-color2, #e0e0e0);\n",
       "  --xr-disabled-color: var(--jp-layout-color3, #bdbdbd);\n",
       "  --xr-background-color: var(--jp-layout-color0, white);\n",
       "  --xr-background-color-row-even: var(--jp-layout-color1, white);\n",
       "  --xr-background-color-row-odd: var(--jp-layout-color2, #eeeeee);\n",
       "}\n",
       "\n",
       "html[theme=dark],\n",
       "body.vscode-dark {\n",
       "  --xr-font-color0: rgba(255, 255, 255, 1);\n",
       "  --xr-font-color2: rgba(255, 255, 255, 0.54);\n",
       "  --xr-font-color3: rgba(255, 255, 255, 0.38);\n",
       "  --xr-border-color: #1F1F1F;\n",
       "  --xr-disabled-color: #515151;\n",
       "  --xr-background-color: #111111;\n",
       "  --xr-background-color-row-even: #111111;\n",
       "  --xr-background-color-row-odd: #313131;\n",
       "}\n",
       "\n",
       ".xr-wrap {\n",
       "  display: block;\n",
       "  min-width: 300px;\n",
       "  max-width: 700px;\n",
       "}\n",
       "\n",
       ".xr-text-repr-fallback {\n",
       "  /* fallback to plain text repr when CSS is not injected (untrusted notebook) */\n",
       "  display: none;\n",
       "}\n",
       "\n",
       ".xr-header {\n",
       "  padding-top: 6px;\n",
       "  padding-bottom: 6px;\n",
       "  margin-bottom: 4px;\n",
       "  border-bottom: solid 1px var(--xr-border-color);\n",
       "}\n",
       "\n",
       ".xr-header > div,\n",
       ".xr-header > ul {\n",
       "  display: inline;\n",
       "  margin-top: 0;\n",
       "  margin-bottom: 0;\n",
       "}\n",
       "\n",
       ".xr-obj-type,\n",
       ".xr-array-name {\n",
       "  margin-left: 2px;\n",
       "  margin-right: 10px;\n",
       "}\n",
       "\n",
       ".xr-obj-type {\n",
       "  color: var(--xr-font-color2);\n",
       "}\n",
       "\n",
       ".xr-sections {\n",
       "  padding-left: 0 !important;\n",
       "  display: grid;\n",
       "  grid-template-columns: 150px auto auto 1fr 20px 20px;\n",
       "}\n",
       "\n",
       ".xr-section-item {\n",
       "  display: contents;\n",
       "}\n",
       "\n",
       ".xr-section-item input {\n",
       "  display: none;\n",
       "}\n",
       "\n",
       ".xr-section-item input + label {\n",
       "  color: var(--xr-disabled-color);\n",
       "}\n",
       "\n",
       ".xr-section-item input:enabled + label {\n",
       "  cursor: pointer;\n",
       "  color: var(--xr-font-color2);\n",
       "}\n",
       "\n",
       ".xr-section-item input:enabled + label:hover {\n",
       "  color: var(--xr-font-color0);\n",
       "}\n",
       "\n",
       ".xr-section-summary {\n",
       "  grid-column: 1;\n",
       "  color: var(--xr-font-color2);\n",
       "  font-weight: 500;\n",
       "}\n",
       "\n",
       ".xr-section-summary > span {\n",
       "  display: inline-block;\n",
       "  padding-left: 0.5em;\n",
       "}\n",
       "\n",
       ".xr-section-summary-in:disabled + label {\n",
       "  color: var(--xr-font-color2);\n",
       "}\n",
       "\n",
       ".xr-section-summary-in + label:before {\n",
       "  display: inline-block;\n",
       "  content: '►';\n",
       "  font-size: 11px;\n",
       "  width: 15px;\n",
       "  text-align: center;\n",
       "}\n",
       "\n",
       ".xr-section-summary-in:disabled + label:before {\n",
       "  color: var(--xr-disabled-color);\n",
       "}\n",
       "\n",
       ".xr-section-summary-in:checked + label:before {\n",
       "  content: '▼';\n",
       "}\n",
       "\n",
       ".xr-section-summary-in:checked + label > span {\n",
       "  display: none;\n",
       "}\n",
       "\n",
       ".xr-section-summary,\n",
       ".xr-section-inline-details {\n",
       "  padding-top: 4px;\n",
       "  padding-bottom: 4px;\n",
       "}\n",
       "\n",
       ".xr-section-inline-details {\n",
       "  grid-column: 2 / -1;\n",
       "}\n",
       "\n",
       ".xr-section-details {\n",
       "  display: none;\n",
       "  grid-column: 1 / -1;\n",
       "  margin-bottom: 5px;\n",
       "}\n",
       "\n",
       ".xr-section-summary-in:checked ~ .xr-section-details {\n",
       "  display: contents;\n",
       "}\n",
       "\n",
       ".xr-array-wrap {\n",
       "  grid-column: 1 / -1;\n",
       "  display: grid;\n",
       "  grid-template-columns: 20px auto;\n",
       "}\n",
       "\n",
       ".xr-array-wrap > label {\n",
       "  grid-column: 1;\n",
       "  vertical-align: top;\n",
       "}\n",
       "\n",
       ".xr-preview {\n",
       "  color: var(--xr-font-color3);\n",
       "}\n",
       "\n",
       ".xr-array-preview,\n",
       ".xr-array-data {\n",
       "  padding: 0 5px !important;\n",
       "  grid-column: 2;\n",
       "}\n",
       "\n",
       ".xr-array-data,\n",
       ".xr-array-in:checked ~ .xr-array-preview {\n",
       "  display: none;\n",
       "}\n",
       "\n",
       ".xr-array-in:checked ~ .xr-array-data,\n",
       ".xr-array-preview {\n",
       "  display: inline-block;\n",
       "}\n",
       "\n",
       ".xr-dim-list {\n",
       "  display: inline-block !important;\n",
       "  list-style: none;\n",
       "  padding: 0 !important;\n",
       "  margin: 0;\n",
       "}\n",
       "\n",
       ".xr-dim-list li {\n",
       "  display: inline-block;\n",
       "  padding: 0;\n",
       "  margin: 0;\n",
       "}\n",
       "\n",
       ".xr-dim-list:before {\n",
       "  content: '(';\n",
       "}\n",
       "\n",
       ".xr-dim-list:after {\n",
       "  content: ')';\n",
       "}\n",
       "\n",
       ".xr-dim-list li:not(:last-child):after {\n",
       "  content: ',';\n",
       "  padding-right: 5px;\n",
       "}\n",
       "\n",
       ".xr-has-index {\n",
       "  font-weight: bold;\n",
       "}\n",
       "\n",
       ".xr-var-list,\n",
       ".xr-var-item {\n",
       "  display: contents;\n",
       "}\n",
       "\n",
       ".xr-var-item > div,\n",
       ".xr-var-item label,\n",
       ".xr-var-item > .xr-var-name span {\n",
       "  background-color: var(--xr-background-color-row-even);\n",
       "  margin-bottom: 0;\n",
       "}\n",
       "\n",
       ".xr-var-item > .xr-var-name:hover span {\n",
       "  padding-right: 5px;\n",
       "}\n",
       "\n",
       ".xr-var-list > li:nth-child(odd) > div,\n",
       ".xr-var-list > li:nth-child(odd) > label,\n",
       ".xr-var-list > li:nth-child(odd) > .xr-var-name span {\n",
       "  background-color: var(--xr-background-color-row-odd);\n",
       "}\n",
       "\n",
       ".xr-var-name {\n",
       "  grid-column: 1;\n",
       "}\n",
       "\n",
       ".xr-var-dims {\n",
       "  grid-column: 2;\n",
       "}\n",
       "\n",
       ".xr-var-dtype {\n",
       "  grid-column: 3;\n",
       "  text-align: right;\n",
       "  color: var(--xr-font-color2);\n",
       "}\n",
       "\n",
       ".xr-var-preview {\n",
       "  grid-column: 4;\n",
       "}\n",
       "\n",
       ".xr-var-name,\n",
       ".xr-var-dims,\n",
       ".xr-var-dtype,\n",
       ".xr-preview,\n",
       ".xr-attrs dt {\n",
       "  white-space: nowrap;\n",
       "  overflow: hidden;\n",
       "  text-overflow: ellipsis;\n",
       "  padding-right: 10px;\n",
       "}\n",
       "\n",
       ".xr-var-name:hover,\n",
       ".xr-var-dims:hover,\n",
       ".xr-var-dtype:hover,\n",
       ".xr-attrs dt:hover {\n",
       "  overflow: visible;\n",
       "  width: auto;\n",
       "  z-index: 1;\n",
       "}\n",
       "\n",
       ".xr-var-attrs,\n",
       ".xr-var-data {\n",
       "  display: none;\n",
       "  background-color: var(--xr-background-color) !important;\n",
       "  padding-bottom: 5px !important;\n",
       "}\n",
       "\n",
       ".xr-var-attrs-in:checked ~ .xr-var-attrs,\n",
       ".xr-var-data-in:checked ~ .xr-var-data {\n",
       "  display: block;\n",
       "}\n",
       "\n",
       ".xr-var-data > table {\n",
       "  float: right;\n",
       "}\n",
       "\n",
       ".xr-var-name span,\n",
       ".xr-var-data,\n",
       ".xr-attrs {\n",
       "  padding-left: 25px !important;\n",
       "}\n",
       "\n",
       ".xr-attrs,\n",
       ".xr-var-attrs,\n",
       ".xr-var-data {\n",
       "  grid-column: 1 / -1;\n",
       "}\n",
       "\n",
       "dl.xr-attrs {\n",
       "  padding: 0;\n",
       "  margin: 0;\n",
       "  display: grid;\n",
       "  grid-template-columns: 125px auto;\n",
       "}\n",
       "\n",
       ".xr-attrs dt,\n",
       ".xr-attrs dd {\n",
       "  padding: 0;\n",
       "  margin: 0;\n",
       "  float: left;\n",
       "  padding-right: 10px;\n",
       "  width: auto;\n",
       "}\n",
       "\n",
       ".xr-attrs dt {\n",
       "  font-weight: normal;\n",
       "  grid-column: 1;\n",
       "}\n",
       "\n",
       ".xr-attrs dt:hover span {\n",
       "  display: inline-block;\n",
       "  background: var(--xr-background-color);\n",
       "  padding-right: 10px;\n",
       "}\n",
       "\n",
       ".xr-attrs dd {\n",
       "  grid-column: 2;\n",
       "  white-space: pre-wrap;\n",
       "  word-break: break-all;\n",
       "}\n",
       "\n",
       ".xr-icon-database,\n",
       ".xr-icon-file-text2 {\n",
       "  display: inline-block;\n",
       "  vertical-align: middle;\n",
       "  width: 1em;\n",
       "  height: 1.5em !important;\n",
       "  stroke-width: 0;\n",
       "  stroke: currentColor;\n",
       "  fill: currentColor;\n",
       "}\n",
       "</style><pre class='xr-text-repr-fallback'>&lt;xarray.MCDS&gt;\n",
       "Dimensions:              (mc_type: 2, cell: 132551, count_type: 2, chrom100k: 27269, geneslop2k: 53533)\n",
       "Coordinates: (12/13)\n",
       "  * mc_type              (mc_type) &lt;U3 &#x27;CGN&#x27; &#x27;CHN&#x27;\n",
       "  * cell                 (cell) &lt;U42 &#x27;3A_M_1385&#x27; ... &#x27;AMB_210309_9mo_7H_8H_9G...\n",
       "  * count_type           (count_type) &lt;U3 &#x27;mc&#x27; &#x27;cov&#x27;\n",
       "    strand_type          &lt;U4 &#x27;both&#x27;\n",
       "  * chrom100k            (chrom100k) int64 0 1 2 3 4 ... 27265 27266 27267 27268\n",
       "    chrom100k_chrom      (chrom100k) &lt;U5 &#x27;chr1&#x27; &#x27;chr1&#x27; &#x27;chr1&#x27; ... &#x27;chrY&#x27; &#x27;chrM&#x27;\n",
       "    ...                   ...\n",
       "    chrom100k_bin_end    (chrom100k) int64 100000 200000 ... 91744698 16299\n",
       "  * geneslop2k           (geneslop2k) object &#x27;ENSMUSG00000102693.1&#x27; ... &#x27;ENSM...\n",
       "    geneslop2k_chrom     (geneslop2k) &lt;U5 &#x27;chr1&#x27; &#x27;chr1&#x27; &#x27;chr1&#x27; ... &#x27;chrM&#x27; &#x27;chrM&#x27;\n",
       "    geneslop2k_start     (geneslop2k) int64 3071252 3100015 ... 13288 13355\n",
       "    geneslop2k_end       (geneslop2k) int64 3076321 3104124 ... 16299 16299\n",
       "    geneslop2k_cov_mean  (geneslop2k) float64 53.12 42.42 ... 129.3 127.5\n",
       "Data variables:\n",
       "    chrom100k_da         (cell, chrom100k, mc_type, count_type) int64 dask.array&lt;chunksize=(1250, 27269, 2, 2), meta=np.ndarray&gt;\n",
       "    geneslop2k_da        (cell, geneslop2k, mc_type, count_type) int64 dask.array&lt;chunksize=(1250, 53533, 2, 2), meta=np.ndarray&gt;\n",
       "Attributes:\n",
       "    obs_dim:  cell\n",
       "    var_dim:  geneslop2k</pre><div class='xr-wrap' hidden><div class='xr-header'><div class='xr-obj-type'>xarray.MCDS</div></div><ul class='xr-sections'><li class='xr-section-item'><input id='section-20111398-ca9f-4c61-ba2c-6d5b9eae04c6' class='xr-section-summary-in' type='checkbox' disabled ><label for='section-20111398-ca9f-4c61-ba2c-6d5b9eae04c6' class='xr-section-summary'  title='Expand/collapse section'>Dimensions:</label><div class='xr-section-inline-details'><ul class='xr-dim-list'><li><span class='xr-has-index'>mc_type</span>: 2</li><li><span class='xr-has-index'>cell</span>: 132551</li><li><span class='xr-has-index'>count_type</span>: 2</li><li><span class='xr-has-index'>chrom100k</span>: 27269</li><li><span class='xr-has-index'>geneslop2k</span>: 53533</li></ul></div><div class='xr-section-details'></div></li><li class='xr-section-item'><input id='section-19b1b590-969b-4326-8e1c-70a411182f99' class='xr-section-summary-in' type='checkbox'  checked><label for='section-19b1b590-969b-4326-8e1c-70a411182f99' class='xr-section-summary' >Coordinates: <span>(13)</span></label><div class='xr-section-inline-details'></div><div class='xr-section-details'><ul class='xr-var-list'><li class='xr-var-item'><div class='xr-var-name'><span class='xr-has-index'>mc_type</span></div><div class='xr-var-dims'>(mc_type)</div><div class='xr-var-dtype'>&lt;U3</div><div class='xr-var-preview xr-preview'>&#x27;CGN&#x27; &#x27;CHN&#x27;</div><input id='attrs-5163a6aa-4e3f-4fa5-99ba-5912479da010' class='xr-var-attrs-in' type='checkbox' disabled><label for='attrs-5163a6aa-4e3f-4fa5-99ba-5912479da010' title='Show/Hide attributes'><svg class='icon xr-icon-file-text2'><use xlink:href='#icon-file-text2'></use></svg></label><input id='data-31f6a3b0-e011-4ed8-b9ee-fb1a3151347f' class='xr-var-data-in' type='checkbox'><label for='data-31f6a3b0-e011-4ed8-b9ee-fb1a3151347f' title='Show/Hide data repr'><svg class='icon xr-icon-database'><use xlink:href='#icon-database'></use></svg></label><div class='xr-var-attrs'><dl class='xr-attrs'></dl></div><div class='xr-var-data'><pre>array([&#x27;CGN&#x27;, &#x27;CHN&#x27;], dtype=&#x27;&lt;U3&#x27;)</pre></div></li><li class='xr-var-item'><div class='xr-var-name'><span class='xr-has-index'>cell</span></div><div class='xr-var-dims'>(cell)</div><div class='xr-var-dtype'>&lt;U42</div><div class='xr-var-preview xr-preview'>&#x27;3A_M_1385&#x27; ... &#x27;AMB_210309_9mo_...</div><input id='attrs-a40b1a96-ba11-47de-89c1-f0c076d4149c' class='xr-var-attrs-in' type='checkbox' disabled><label for='attrs-a40b1a96-ba11-47de-89c1-f0c076d4149c' title='Show/Hide attributes'><svg class='icon xr-icon-file-text2'><use xlink:href='#icon-file-text2'></use></svg></label><input id='data-3ee45451-9c33-49b3-a2d3-90a491432e58' class='xr-var-data-in' type='checkbox'><label for='data-3ee45451-9c33-49b3-a2d3-90a491432e58' title='Show/Hide data repr'><svg class='icon xr-icon-database'><use xlink:href='#icon-database'></use></svg></label><div class='xr-var-attrs'><dl class='xr-attrs'></dl></div><div class='xr-var-data'><pre>array([&#x27;3A_M_1385&#x27;, &#x27;3A_M_1386&#x27;, &#x27;3A_M_1387&#x27;, ...,\n",
       "       &#x27;AMB_210309_9mo_7H_8H_9G_3_P6-3-E9-G5&#x27;,\n",
       "       &#x27;AMB_210309_9mo_7H_8H_9G_3_P6-3-E9-D18&#x27;,\n",
       "       &#x27;AMB_210309_9mo_7H_8H_9G_3_P6-3-E9-K5&#x27;], dtype=&#x27;&lt;U42&#x27;)</pre></div></li><li class='xr-var-item'><div class='xr-var-name'><span class='xr-has-index'>count_type</span></div><div class='xr-var-dims'>(count_type)</div><div class='xr-var-dtype'>&lt;U3</div><div class='xr-var-preview xr-preview'>&#x27;mc&#x27; &#x27;cov&#x27;</div><input id='attrs-278f72f7-50d7-4ab7-b386-32beabbb78c7' class='xr-var-attrs-in' type='checkbox' disabled><label for='attrs-278f72f7-50d7-4ab7-b386-32beabbb78c7' title='Show/Hide attributes'><svg class='icon xr-icon-file-text2'><use xlink:href='#icon-file-text2'></use></svg></label><input id='data-76d37f15-8934-42e0-ba6d-20d1951a207a' class='xr-var-data-in' type='checkbox'><label for='data-76d37f15-8934-42e0-ba6d-20d1951a207a' title='Show/Hide data repr'><svg class='icon xr-icon-database'><use xlink:href='#icon-database'></use></svg></label><div class='xr-var-attrs'><dl class='xr-attrs'></dl></div><div class='xr-var-data'><pre>array([&#x27;mc&#x27;, &#x27;cov&#x27;], dtype=&#x27;&lt;U3&#x27;)</pre></div></li><li class='xr-var-item'><div class='xr-var-name'><span>strand_type</span></div><div class='xr-var-dims'>()</div><div class='xr-var-dtype'>&lt;U4</div><div class='xr-var-preview xr-preview'>&#x27;both&#x27;</div><input id='attrs-963f519f-e871-4040-9965-3db7ee876f2e' class='xr-var-attrs-in' type='checkbox' disabled><label for='attrs-963f519f-e871-4040-9965-3db7ee876f2e' title='Show/Hide attributes'><svg class='icon xr-icon-file-text2'><use xlink:href='#icon-file-text2'></use></svg></label><input id='data-ed282884-d14d-4f60-8263-ee96303f9b29' class='xr-var-data-in' type='checkbox'><label for='data-ed282884-d14d-4f60-8263-ee96303f9b29' title='Show/Hide data repr'><svg class='icon xr-icon-database'><use xlink:href='#icon-database'></use></svg></label><div class='xr-var-attrs'><dl class='xr-attrs'></dl></div><div class='xr-var-data'><pre>array(&#x27;both&#x27;, dtype=&#x27;&lt;U4&#x27;)</pre></div></li><li class='xr-var-item'><div class='xr-var-name'><span class='xr-has-index'>chrom100k</span></div><div class='xr-var-dims'>(chrom100k)</div><div class='xr-var-dtype'>int64</div><div class='xr-var-preview xr-preview'>0 1 2 3 ... 27265 27266 27267 27268</div><input id='attrs-12696a72-cea8-4317-a44a-d7c8d9e26895' class='xr-var-attrs-in' type='checkbox' disabled><label for='attrs-12696a72-cea8-4317-a44a-d7c8d9e26895' title='Show/Hide attributes'><svg class='icon xr-icon-file-text2'><use xlink:href='#icon-file-text2'></use></svg></label><input id='data-bc9c8ab9-14cd-4f42-83cd-5dba9164141c' class='xr-var-data-in' type='checkbox'><label for='data-bc9c8ab9-14cd-4f42-83cd-5dba9164141c' title='Show/Hide data repr'><svg class='icon xr-icon-database'><use xlink:href='#icon-database'></use></svg></label><div class='xr-var-attrs'><dl class='xr-attrs'></dl></div><div class='xr-var-data'><pre>array([    0,     1,     2, ..., 27266, 27267, 27268])</pre></div></li><li class='xr-var-item'><div class='xr-var-name'><span>chrom100k_chrom</span></div><div class='xr-var-dims'>(chrom100k)</div><div class='xr-var-dtype'>&lt;U5</div><div class='xr-var-preview xr-preview'>&#x27;chr1&#x27; &#x27;chr1&#x27; ... &#x27;chrY&#x27; &#x27;chrM&#x27;</div><input id='attrs-45cb188b-b7a4-4980-87e1-a40e7b53606b' class='xr-var-attrs-in' type='checkbox' disabled><label for='attrs-45cb188b-b7a4-4980-87e1-a40e7b53606b' title='Show/Hide attributes'><svg class='icon xr-icon-file-text2'><use xlink:href='#icon-file-text2'></use></svg></label><input id='data-63660877-0b33-44f9-9436-7c633a65d249' class='xr-var-data-in' type='checkbox'><label for='data-63660877-0b33-44f9-9436-7c633a65d249' title='Show/Hide data repr'><svg class='icon xr-icon-database'><use xlink:href='#icon-database'></use></svg></label><div class='xr-var-attrs'><dl class='xr-attrs'></dl></div><div class='xr-var-data'><pre>array([&#x27;chr1&#x27;, &#x27;chr1&#x27;, &#x27;chr1&#x27;, ..., &#x27;chrY&#x27;, &#x27;chrY&#x27;, &#x27;chrM&#x27;], dtype=&#x27;&lt;U5&#x27;)</pre></div></li><li class='xr-var-item'><div class='xr-var-name'><span>chrom100k_bin_start</span></div><div class='xr-var-dims'>(chrom100k)</div><div class='xr-var-dtype'>int64</div><div class='xr-var-preview xr-preview'>0 100000 200000 ... 91700000 0</div><input id='attrs-ae4b9c58-99bb-490d-b32b-2d1a5f103745' class='xr-var-attrs-in' type='checkbox' disabled><label for='attrs-ae4b9c58-99bb-490d-b32b-2d1a5f103745' title='Show/Hide attributes'><svg class='icon xr-icon-file-text2'><use xlink:href='#icon-file-text2'></use></svg></label><input id='data-e4af8ea8-44a3-4ae8-88af-50148d227798' class='xr-var-data-in' type='checkbox'><label for='data-e4af8ea8-44a3-4ae8-88af-50148d227798' title='Show/Hide data repr'><svg class='icon xr-icon-database'><use xlink:href='#icon-database'></use></svg></label><div class='xr-var-attrs'><dl class='xr-attrs'></dl></div><div class='xr-var-data'><pre>array([       0,   100000,   200000, ..., 91600000, 91700000,        0])</pre></div></li><li class='xr-var-item'><div class='xr-var-name'><span>chrom100k_bin_end</span></div><div class='xr-var-dims'>(chrom100k)</div><div class='xr-var-dtype'>int64</div><div class='xr-var-preview xr-preview'>100000 200000 ... 91744698 16299</div><input id='attrs-7c1cf395-cf5a-4c6d-ad8d-a6e942683ed6' class='xr-var-attrs-in' type='checkbox' disabled><label for='attrs-7c1cf395-cf5a-4c6d-ad8d-a6e942683ed6' title='Show/Hide attributes'><svg class='icon xr-icon-file-text2'><use xlink:href='#icon-file-text2'></use></svg></label><input id='data-f08118d8-cd6d-4e67-81e5-db48f51293f1' class='xr-var-data-in' type='checkbox'><label for='data-f08118d8-cd6d-4e67-81e5-db48f51293f1' title='Show/Hide data repr'><svg class='icon xr-icon-database'><use xlink:href='#icon-database'></use></svg></label><div class='xr-var-attrs'><dl class='xr-attrs'></dl></div><div class='xr-var-data'><pre>array([  100000,   200000,   300000, ..., 91700000, 91744698,    16299])</pre></div></li><li class='xr-var-item'><div class='xr-var-name'><span class='xr-has-index'>geneslop2k</span></div><div class='xr-var-dims'>(geneslop2k)</div><div class='xr-var-dtype'>object</div><div class='xr-var-preview xr-preview'>&#x27;ENSMUSG00000102693.1&#x27; ... &#x27;ENSM...</div><input id='attrs-a10cf23c-0f44-4c82-bd2f-a69c44ffe872' class='xr-var-attrs-in' type='checkbox' disabled><label for='attrs-a10cf23c-0f44-4c82-bd2f-a69c44ffe872' title='Show/Hide attributes'><svg class='icon xr-icon-file-text2'><use xlink:href='#icon-file-text2'></use></svg></label><input id='data-70a7d85f-8c48-45b5-9557-62ba30a0bc7d' class='xr-var-data-in' type='checkbox'><label for='data-70a7d85f-8c48-45b5-9557-62ba30a0bc7d' title='Show/Hide data repr'><svg class='icon xr-icon-database'><use xlink:href='#icon-database'></use></svg></label><div class='xr-var-attrs'><dl class='xr-attrs'></dl></div><div class='xr-var-data'><pre>array([&#x27;ENSMUSG00000102693.1&#x27;, &#x27;ENSMUSG00000064842.1&#x27;, &#x27;ENSMUSG00000051951.5&#x27;,\n",
       "       ..., &#x27;ENSMUSG00000064370.1&#x27;, &#x27;ENSMUSG00000064371.1&#x27;,\n",
       "       &#x27;ENSMUSG00000064372.1&#x27;], dtype=object)</pre></div></li><li class='xr-var-item'><div class='xr-var-name'><span>geneslop2k_chrom</span></div><div class='xr-var-dims'>(geneslop2k)</div><div class='xr-var-dtype'>&lt;U5</div><div class='xr-var-preview xr-preview'>&#x27;chr1&#x27; &#x27;chr1&#x27; ... &#x27;chrM&#x27; &#x27;chrM&#x27;</div><input id='attrs-01cb8ab0-4ad8-4d25-9937-699eb1662c37' class='xr-var-attrs-in' type='checkbox' disabled><label for='attrs-01cb8ab0-4ad8-4d25-9937-699eb1662c37' title='Show/Hide attributes'><svg class='icon xr-icon-file-text2'><use xlink:href='#icon-file-text2'></use></svg></label><input id='data-1bd1788e-0cfa-4f9b-ad6d-b971dc56e62f' class='xr-var-data-in' type='checkbox'><label for='data-1bd1788e-0cfa-4f9b-ad6d-b971dc56e62f' title='Show/Hide data repr'><svg class='icon xr-icon-database'><use xlink:href='#icon-database'></use></svg></label><div class='xr-var-attrs'><dl class='xr-attrs'></dl></div><div class='xr-var-data'><pre>array([&#x27;chr1&#x27;, &#x27;chr1&#x27;, &#x27;chr1&#x27;, ..., &#x27;chrM&#x27;, &#x27;chrM&#x27;, &#x27;chrM&#x27;], dtype=&#x27;&lt;U5&#x27;)</pre></div></li><li class='xr-var-item'><div class='xr-var-name'><span>geneslop2k_start</span></div><div class='xr-var-dims'>(geneslop2k)</div><div class='xr-var-dtype'>int64</div><div class='xr-var-preview xr-preview'>3071252 3100015 ... 13288 13355</div><input id='attrs-96c0f217-002e-4461-9ab3-4df4bf594222' class='xr-var-attrs-in' type='checkbox' disabled><label for='attrs-96c0f217-002e-4461-9ab3-4df4bf594222' title='Show/Hide attributes'><svg class='icon xr-icon-file-text2'><use xlink:href='#icon-file-text2'></use></svg></label><input id='data-128cc13b-ccab-425d-bf6c-c4e8c115eb77' class='xr-var-data-in' type='checkbox'><label for='data-128cc13b-ccab-425d-bf6c-c4e8c115eb77' title='Show/Hide data repr'><svg class='icon xr-icon-database'><use xlink:href='#icon-database'></use></svg></label><div class='xr-var-attrs'><dl class='xr-attrs'></dl></div><div class='xr-var-data'><pre>array([3071252, 3100015, 3203900, ...,   12144,   13288,   13355])</pre></div></li><li class='xr-var-item'><div class='xr-var-name'><span>geneslop2k_end</span></div><div class='xr-var-dims'>(geneslop2k)</div><div class='xr-var-dtype'>int64</div><div class='xr-var-preview xr-preview'>3076321 3104124 ... 16299 16299</div><input id='attrs-9762716f-08e5-4c8b-a9b0-2f333d461060' class='xr-var-attrs-in' type='checkbox' disabled><label for='attrs-9762716f-08e5-4c8b-a9b0-2f333d461060' title='Show/Hide attributes'><svg class='icon xr-icon-file-text2'><use xlink:href='#icon-file-text2'></use></svg></label><input id='data-d32d1ed6-b6a2-4113-b2a5-10cd261f0a27' class='xr-var-data-in' type='checkbox'><label for='data-d32d1ed6-b6a2-4113-b2a5-10cd261f0a27' title='Show/Hide data repr'><svg class='icon xr-icon-database'><use xlink:href='#icon-database'></use></svg></label><div class='xr-var-attrs'><dl class='xr-attrs'></dl></div><div class='xr-var-data'><pre>array([3076321, 3104124, 3673497, ...,   16299,   16299,   16299])</pre></div></li><li class='xr-var-item'><div class='xr-var-name'><span>geneslop2k_cov_mean</span></div><div class='xr-var-dims'>(geneslop2k)</div><div class='xr-var-dtype'>float64</div><div class='xr-var-preview xr-preview'>53.12 42.42 ... 129.3 127.5</div><input id='attrs-8c0f105d-84c1-400c-80a1-f70a637889bd' class='xr-var-attrs-in' type='checkbox' disabled><label for='attrs-8c0f105d-84c1-400c-80a1-f70a637889bd' title='Show/Hide attributes'><svg class='icon xr-icon-file-text2'><use xlink:href='#icon-file-text2'></use></svg></label><input id='data-965cbd15-4a06-4832-b779-6f7a9dcb63b2' class='xr-var-data-in' type='checkbox'><label for='data-965cbd15-4a06-4832-b779-6f7a9dcb63b2' title='Show/Hide data repr'><svg class='icon xr-icon-database'><use xlink:href='#icon-database'></use></svg></label><div class='xr-var-attrs'><dl class='xr-attrs'></dl></div><div class='xr-var-data'><pre>array([  53.12028578,   42.41888028, 4998.71859888, ...,  192.70454391,\n",
       "        129.28597295,  127.52059207])</pre></div></li></ul></div></li><li class='xr-section-item'><input id='section-b296afb6-69bf-4bdf-ac6b-54f1c688a9e7' class='xr-section-summary-in' type='checkbox'  checked><label for='section-b296afb6-69bf-4bdf-ac6b-54f1c688a9e7' class='xr-section-summary' >Data variables: <span>(2)</span></label><div class='xr-section-inline-details'></div><div class='xr-section-details'><ul class='xr-var-list'><li class='xr-var-item'><div class='xr-var-name'><span>chrom100k_da</span></div><div class='xr-var-dims'>(cell, chrom100k, mc_type, count_type)</div><div class='xr-var-dtype'>int64</div><div class='xr-var-preview xr-preview'>dask.array&lt;chunksize=(1250, 27269, 2, 2), meta=np.ndarray&gt;</div><input id='attrs-f95f9a12-f4dd-47b4-9bdc-22491a8edf78' class='xr-var-attrs-in' type='checkbox' disabled><label for='attrs-f95f9a12-f4dd-47b4-9bdc-22491a8edf78' title='Show/Hide attributes'><svg class='icon xr-icon-file-text2'><use xlink:href='#icon-file-text2'></use></svg></label><input id='data-9073a6bc-9db2-40b2-9abf-bdf0382fe386' class='xr-var-data-in' type='checkbox'><label for='data-9073a6bc-9db2-40b2-9abf-bdf0382fe386' title='Show/Hide data repr'><svg class='icon xr-icon-database'><use xlink:href='#icon-database'></use></svg></label><div class='xr-var-attrs'><dl class='xr-attrs'></dl></div><div class='xr-var-data'><table>\n",
       "    <tr>\n",
       "        <td>\n",
       "            <table>\n",
       "                <thead>\n",
       "                    <tr>\n",
       "                        <td> </td>\n",
       "                        <th> Array </th>\n",
       "                        <th> Chunk </th>\n",
       "                    </tr>\n",
       "                </thead>\n",
       "                <tbody>\n",
       "                    \n",
       "                    <tr>\n",
       "                        <th> Bytes </th>\n",
       "                        <td> 107.72 GiB </td>\n",
       "                        <td> 2.41 GiB </td>\n",
       "                    </tr>\n",
       "                    \n",
       "                    <tr>\n",
       "                        <th> Shape </th>\n",
       "                        <td> (132551, 27269, 2, 2) </td>\n",
       "                        <td> (2967, 27269, 2, 2) </td>\n",
       "                    </tr>\n",
       "                    <tr>\n",
       "                        <th> Count </th>\n",
       "                        <td> 490 Tasks </td>\n",
       "                        <td> 75 Chunks </td>\n",
       "                    </tr>\n",
       "                    <tr>\n",
       "                    <th> Type </th>\n",
       "                    <td> int64 </td>\n",
       "                    <td> numpy.ndarray </td>\n",
       "                    </tr>\n",
       "                </tbody>\n",
       "            </table>\n",
       "        </td>\n",
       "        <td>\n",
       "        <svg width=\"480\" height=\"100\" style=\"stroke:rgb(0,0,0);stroke-width:1\" >\n",
       "\n",
       "  <!-- Horizontal lines -->\n",
       "  <line x1=\"0\" y1=\"0\" x2=\"120\" y2=\"0\" style=\"stroke-width:2\" />\n",
       "  <line x1=\"0\" y1=\"25\" x2=\"120\" y2=\"25\" style=\"stroke-width:2\" />\n",
       "\n",
       "  <!-- Vertical lines -->\n",
       "  <line x1=\"0\" y1=\"0\" x2=\"0\" y2=\"25\" style=\"stroke-width:2\" />\n",
       "  <line x1=\"1\" y1=\"0\" x2=\"1\" y2=\"25\" />\n",
       "  <line x1=\"3\" y1=\"0\" x2=\"3\" y2=\"25\" />\n",
       "  <line x1=\"7\" y1=\"0\" x2=\"7\" y2=\"25\" />\n",
       "  <line x1=\"9\" y1=\"0\" x2=\"9\" y2=\"25\" />\n",
       "  <line x1=\"12\" y1=\"0\" x2=\"12\" y2=\"25\" />\n",
       "  <line x1=\"15\" y1=\"0\" x2=\"15\" y2=\"25\" />\n",
       "  <line x1=\"18\" y1=\"0\" x2=\"18\" y2=\"25\" />\n",
       "  <line x1=\"20\" y1=\"0\" x2=\"20\" y2=\"25\" />\n",
       "  <line x1=\"24\" y1=\"0\" x2=\"24\" y2=\"25\" />\n",
       "  <line x1=\"26\" y1=\"0\" x2=\"26\" y2=\"25\" />\n",
       "  <line x1=\"28\" y1=\"0\" x2=\"28\" y2=\"25\" />\n",
       "  <line x1=\"32\" y1=\"0\" x2=\"32\" y2=\"25\" />\n",
       "  <line x1=\"34\" y1=\"0\" x2=\"34\" y2=\"25\" />\n",
       "  <line x1=\"36\" y1=\"0\" x2=\"36\" y2=\"25\" />\n",
       "  <line x1=\"40\" y1=\"0\" x2=\"40\" y2=\"25\" />\n",
       "  <line x1=\"42\" y1=\"0\" x2=\"42\" y2=\"25\" />\n",
       "  <line x1=\"45\" y1=\"0\" x2=\"45\" y2=\"25\" />\n",
       "  <line x1=\"50\" y1=\"0\" x2=\"50\" y2=\"25\" />\n",
       "  <line x1=\"54\" y1=\"0\" x2=\"54\" y2=\"25\" />\n",
       "  <line x1=\"58\" y1=\"0\" x2=\"58\" y2=\"25\" />\n",
       "  <line x1=\"64\" y1=\"0\" x2=\"64\" y2=\"25\" />\n",
       "  <line x1=\"68\" y1=\"0\" x2=\"68\" y2=\"25\" />\n",
       "  <line x1=\"72\" y1=\"0\" x2=\"72\" y2=\"25\" />\n",
       "  <line x1=\"78\" y1=\"0\" x2=\"78\" y2=\"25\" />\n",
       "  <line x1=\"82\" y1=\"0\" x2=\"82\" y2=\"25\" />\n",
       "  <line x1=\"85\" y1=\"0\" x2=\"85\" y2=\"25\" />\n",
       "  <line x1=\"92\" y1=\"0\" x2=\"92\" y2=\"25\" />\n",
       "  <line x1=\"97\" y1=\"0\" x2=\"97\" y2=\"25\" />\n",
       "  <line x1=\"102\" y1=\"0\" x2=\"102\" y2=\"25\" />\n",
       "  <line x1=\"108\" y1=\"0\" x2=\"108\" y2=\"25\" />\n",
       "  <line x1=\"112\" y1=\"0\" x2=\"112\" y2=\"25\" />\n",
       "  <line x1=\"120\" y1=\"0\" x2=\"120\" y2=\"25\" style=\"stroke-width:2\" />\n",
       "\n",
       "  <!-- Colored Rectangle -->\n",
       "  <polygon points=\"0.0,0.0 120.0,0.0 120.0,25.412616514582485 0.0,25.412616514582485\" style=\"fill:#8B4903A0;stroke-width:0\"/>\n",
       "\n",
       "  <!-- Text -->\n",
       "  <text x=\"60.000000\" y=\"45.412617\" font-size=\"1.0rem\" font-weight=\"100\" text-anchor=\"middle\" >132551</text>\n",
       "  <text x=\"140.000000\" y=\"12.706308\" font-size=\"1.0rem\" font-weight=\"100\" text-anchor=\"middle\" transform=\"rotate(0,140.000000,12.706308)\">1</text>\n",
       "\n",
       "\n",
       "  <!-- Horizontal lines -->\n",
       "  <line x1=\"190\" y1=\"0\" x2=\"214\" y2=\"24\" style=\"stroke-width:2\" />\n",
       "  <line x1=\"190\" y1=\"25\" x2=\"214\" y2=\"50\" style=\"stroke-width:2\" />\n",
       "\n",
       "  <!-- Vertical lines -->\n",
       "  <line x1=\"190\" y1=\"0\" x2=\"190\" y2=\"25\" style=\"stroke-width:2\" />\n",
       "  <line x1=\"214\" y1=\"24\" x2=\"214\" y2=\"50\" style=\"stroke-width:2\" />\n",
       "\n",
       "  <!-- Colored Rectangle -->\n",
       "  <polygon points=\"190.0,0.0 214.78134939600284,24.781349396002838 214.78134939600284,50.19396591058532 190.0,25.412616514582485\" style=\"fill:#ECB172A0;stroke-width:0\"/>\n",
       "\n",
       "  <!-- Horizontal lines -->\n",
       "  <line x1=\"190\" y1=\"0\" x2=\"215\" y2=\"0\" style=\"stroke-width:2\" />\n",
       "  <line x1=\"214\" y1=\"24\" x2=\"240\" y2=\"24\" style=\"stroke-width:2\" />\n",
       "\n",
       "  <!-- Vertical lines -->\n",
       "  <line x1=\"190\" y1=\"0\" x2=\"214\" y2=\"24\" style=\"stroke-width:2\" />\n",
       "  <line x1=\"215\" y1=\"0\" x2=\"240\" y2=\"24\" style=\"stroke-width:2\" />\n",
       "\n",
       "  <!-- Colored Rectangle -->\n",
       "  <polygon points=\"190.0,0.0 215.41261651458248,0.0 240.19396591058532,24.781349396002838 214.78134939600284,24.781349396002838\" style=\"fill:#ECB172A0;stroke-width:0\"/>\n",
       "\n",
       "  <!-- Horizontal lines -->\n",
       "  <line x1=\"214\" y1=\"24\" x2=\"240\" y2=\"24\" style=\"stroke-width:2\" />\n",
       "  <line x1=\"214\" y1=\"50\" x2=\"240\" y2=\"50\" style=\"stroke-width:2\" />\n",
       "\n",
       "  <!-- Vertical lines -->\n",
       "  <line x1=\"214\" y1=\"24\" x2=\"214\" y2=\"50\" style=\"stroke-width:2\" />\n",
       "  <line x1=\"240\" y1=\"24\" x2=\"240\" y2=\"50\" style=\"stroke-width:2\" />\n",
       "\n",
       "  <!-- Colored Rectangle -->\n",
       "  <polygon points=\"214.78134939600284,24.781349396002838 240.19396591058532,24.781349396002838 240.19396591058532,50.19396591058532 214.78134939600284,50.19396591058532\" style=\"fill:#ECB172A0;stroke-width:0\"/>\n",
       "\n",
       "  <!-- Text -->\n",
       "  <text x=\"227.487658\" y=\"70.193966\" font-size=\"1.0rem\" font-weight=\"100\" text-anchor=\"middle\" >2</text>\n",
       "  <text x=\"260.193966\" y=\"37.487658\" font-size=\"1.0rem\" font-weight=\"100\" text-anchor=\"middle\" transform=\"rotate(0,260.193966,37.487658)\">2</text>\n",
       "  <text x=\"192.390675\" y=\"57.803291\" font-size=\"1.0rem\" font-weight=\"100\" text-anchor=\"middle\" transform=\"rotate(45,192.390675,57.803291)\">27269</text>\n",
       "</svg>\n",
       "        </td>\n",
       "    </tr>\n",
       "</table></div></li><li class='xr-var-item'><div class='xr-var-name'><span>geneslop2k_da</span></div><div class='xr-var-dims'>(cell, geneslop2k, mc_type, count_type)</div><div class='xr-var-dtype'>int64</div><div class='xr-var-preview xr-preview'>dask.array&lt;chunksize=(1250, 53533, 2, 2), meta=np.ndarray&gt;</div><input id='attrs-eb909918-7fae-427a-a3db-18aa29d7259e' class='xr-var-attrs-in' type='checkbox' disabled><label for='attrs-eb909918-7fae-427a-a3db-18aa29d7259e' title='Show/Hide attributes'><svg class='icon xr-icon-file-text2'><use xlink:href='#icon-file-text2'></use></svg></label><input id='data-3fba63a1-b253-42af-bd01-3d7b22a089a3' class='xr-var-data-in' type='checkbox'><label for='data-3fba63a1-b253-42af-bd01-3d7b22a089a3' title='Show/Hide data repr'><svg class='icon xr-icon-database'><use xlink:href='#icon-database'></use></svg></label><div class='xr-var-attrs'><dl class='xr-attrs'></dl></div><div class='xr-var-data'><table>\n",
       "    <tr>\n",
       "        <td>\n",
       "            <table>\n",
       "                <thead>\n",
       "                    <tr>\n",
       "                        <td> </td>\n",
       "                        <th> Array </th>\n",
       "                        <th> Chunk </th>\n",
       "                    </tr>\n",
       "                </thead>\n",
       "                <tbody>\n",
       "                    \n",
       "                    <tr>\n",
       "                        <th> Bytes </th>\n",
       "                        <td> 211.47 GiB </td>\n",
       "                        <td> 4.73 GiB </td>\n",
       "                    </tr>\n",
       "                    \n",
       "                    <tr>\n",
       "                        <th> Shape </th>\n",
       "                        <td> (132551, 53533, 2, 2) </td>\n",
       "                        <td> (2967, 53533, 2, 2) </td>\n",
       "                    </tr>\n",
       "                    <tr>\n",
       "                        <th> Count </th>\n",
       "                        <td> 565 Tasks </td>\n",
       "                        <td> 75 Chunks </td>\n",
       "                    </tr>\n",
       "                    <tr>\n",
       "                    <th> Type </th>\n",
       "                    <td> int64 </td>\n",
       "                    <td> numpy.ndarray </td>\n",
       "                    </tr>\n",
       "                </tbody>\n",
       "            </table>\n",
       "        </td>\n",
       "        <td>\n",
       "        <svg width=\"483\" height=\"103\" style=\"stroke:rgb(0,0,0);stroke-width:1\" >\n",
       "\n",
       "  <!-- Horizontal lines -->\n",
       "  <line x1=\"0\" y1=\"0\" x2=\"120\" y2=\"0\" style=\"stroke-width:2\" />\n",
       "  <line x1=\"0\" y1=\"25\" x2=\"120\" y2=\"25\" style=\"stroke-width:2\" />\n",
       "\n",
       "  <!-- Vertical lines -->\n",
       "  <line x1=\"0\" y1=\"0\" x2=\"0\" y2=\"25\" style=\"stroke-width:2\" />\n",
       "  <line x1=\"1\" y1=\"0\" x2=\"1\" y2=\"25\" />\n",
       "  <line x1=\"3\" y1=\"0\" x2=\"3\" y2=\"25\" />\n",
       "  <line x1=\"7\" y1=\"0\" x2=\"7\" y2=\"25\" />\n",
       "  <line x1=\"9\" y1=\"0\" x2=\"9\" y2=\"25\" />\n",
       "  <line x1=\"12\" y1=\"0\" x2=\"12\" y2=\"25\" />\n",
       "  <line x1=\"15\" y1=\"0\" x2=\"15\" y2=\"25\" />\n",
       "  <line x1=\"18\" y1=\"0\" x2=\"18\" y2=\"25\" />\n",
       "  <line x1=\"20\" y1=\"0\" x2=\"20\" y2=\"25\" />\n",
       "  <line x1=\"24\" y1=\"0\" x2=\"24\" y2=\"25\" />\n",
       "  <line x1=\"26\" y1=\"0\" x2=\"26\" y2=\"25\" />\n",
       "  <line x1=\"28\" y1=\"0\" x2=\"28\" y2=\"25\" />\n",
       "  <line x1=\"32\" y1=\"0\" x2=\"32\" y2=\"25\" />\n",
       "  <line x1=\"34\" y1=\"0\" x2=\"34\" y2=\"25\" />\n",
       "  <line x1=\"36\" y1=\"0\" x2=\"36\" y2=\"25\" />\n",
       "  <line x1=\"40\" y1=\"0\" x2=\"40\" y2=\"25\" />\n",
       "  <line x1=\"42\" y1=\"0\" x2=\"42\" y2=\"25\" />\n",
       "  <line x1=\"45\" y1=\"0\" x2=\"45\" y2=\"25\" />\n",
       "  <line x1=\"50\" y1=\"0\" x2=\"50\" y2=\"25\" />\n",
       "  <line x1=\"54\" y1=\"0\" x2=\"54\" y2=\"25\" />\n",
       "  <line x1=\"58\" y1=\"0\" x2=\"58\" y2=\"25\" />\n",
       "  <line x1=\"64\" y1=\"0\" x2=\"64\" y2=\"25\" />\n",
       "  <line x1=\"68\" y1=\"0\" x2=\"68\" y2=\"25\" />\n",
       "  <line x1=\"72\" y1=\"0\" x2=\"72\" y2=\"25\" />\n",
       "  <line x1=\"78\" y1=\"0\" x2=\"78\" y2=\"25\" />\n",
       "  <line x1=\"82\" y1=\"0\" x2=\"82\" y2=\"25\" />\n",
       "  <line x1=\"85\" y1=\"0\" x2=\"85\" y2=\"25\" />\n",
       "  <line x1=\"92\" y1=\"0\" x2=\"92\" y2=\"25\" />\n",
       "  <line x1=\"97\" y1=\"0\" x2=\"97\" y2=\"25\" />\n",
       "  <line x1=\"102\" y1=\"0\" x2=\"102\" y2=\"25\" />\n",
       "  <line x1=\"108\" y1=\"0\" x2=\"108\" y2=\"25\" />\n",
       "  <line x1=\"112\" y1=\"0\" x2=\"112\" y2=\"25\" />\n",
       "  <line x1=\"120\" y1=\"0\" x2=\"120\" y2=\"25\" style=\"stroke-width:2\" />\n",
       "\n",
       "  <!-- Colored Rectangle -->\n",
       "  <polygon points=\"0.0,0.0 120.0,0.0 120.0,25.412616514582485 0.0,25.412616514582485\" style=\"fill:#8B4903A0;stroke-width:0\"/>\n",
       "\n",
       "  <!-- Text -->\n",
       "  <text x=\"60.000000\" y=\"45.412617\" font-size=\"1.0rem\" font-weight=\"100\" text-anchor=\"middle\" >132551</text>\n",
       "  <text x=\"140.000000\" y=\"12.706308\" font-size=\"1.0rem\" font-weight=\"100\" text-anchor=\"middle\" transform=\"rotate(0,140.000000,12.706308)\">1</text>\n",
       "\n",
       "\n",
       "  <!-- Horizontal lines -->\n",
       "  <line x1=\"190\" y1=\"0\" x2=\"218\" y2=\"28\" style=\"stroke-width:2\" />\n",
       "  <line x1=\"190\" y1=\"25\" x2=\"218\" y2=\"53\" style=\"stroke-width:2\" />\n",
       "\n",
       "  <!-- Vertical lines -->\n",
       "  <line x1=\"190\" y1=\"0\" x2=\"190\" y2=\"25\" style=\"stroke-width:2\" />\n",
       "  <line x1=\"218\" y1=\"28\" x2=\"218\" y2=\"53\" style=\"stroke-width:2\" />\n",
       "\n",
       "  <!-- Colored Rectangle -->\n",
       "  <polygon points=\"190.0,0.0 218.50827228764777,28.508272287647774 218.50827228764777,53.92088880223026 190.0,25.412616514582485\" style=\"fill:#ECB172A0;stroke-width:0\"/>\n",
       "\n",
       "  <!-- Horizontal lines -->\n",
       "  <line x1=\"190\" y1=\"0\" x2=\"215\" y2=\"0\" style=\"stroke-width:2\" />\n",
       "  <line x1=\"218\" y1=\"28\" x2=\"243\" y2=\"28\" style=\"stroke-width:2\" />\n",
       "\n",
       "  <!-- Vertical lines -->\n",
       "  <line x1=\"190\" y1=\"0\" x2=\"218\" y2=\"28\" style=\"stroke-width:2\" />\n",
       "  <line x1=\"215\" y1=\"0\" x2=\"243\" y2=\"28\" style=\"stroke-width:2\" />\n",
       "\n",
       "  <!-- Colored Rectangle -->\n",
       "  <polygon points=\"190.0,0.0 215.41261651458248,0.0 243.92088880223025,28.508272287647774 218.50827228764777,28.508272287647774\" style=\"fill:#ECB172A0;stroke-width:0\"/>\n",
       "\n",
       "  <!-- Horizontal lines -->\n",
       "  <line x1=\"218\" y1=\"28\" x2=\"243\" y2=\"28\" style=\"stroke-width:2\" />\n",
       "  <line x1=\"218\" y1=\"53\" x2=\"243\" y2=\"53\" style=\"stroke-width:2\" />\n",
       "\n",
       "  <!-- Vertical lines -->\n",
       "  <line x1=\"218\" y1=\"28\" x2=\"218\" y2=\"53\" style=\"stroke-width:2\" />\n",
       "  <line x1=\"243\" y1=\"28\" x2=\"243\" y2=\"53\" style=\"stroke-width:2\" />\n",
       "\n",
       "  <!-- Colored Rectangle -->\n",
       "  <polygon points=\"218.50827228764777,28.508272287647774 243.92088880223025,28.508272287647774 243.92088880223025,53.92088880223026 218.50827228764777,53.92088880223026\" style=\"fill:#ECB172A0;stroke-width:0\"/>\n",
       "\n",
       "  <!-- Text -->\n",
       "  <text x=\"231.214581\" y=\"73.920889\" font-size=\"1.0rem\" font-weight=\"100\" text-anchor=\"middle\" >2</text>\n",
       "  <text x=\"263.920889\" y=\"41.214581\" font-size=\"1.0rem\" font-weight=\"100\" text-anchor=\"middle\" transform=\"rotate(0,263.920889,41.214581)\">2</text>\n",
       "  <text x=\"194.254136\" y=\"59.666753\" font-size=\"1.0rem\" font-weight=\"100\" text-anchor=\"middle\" transform=\"rotate(45,194.254136,59.666753)\">53533</text>\n",
       "</svg>\n",
       "        </td>\n",
       "    </tr>\n",
       "</table></div></li></ul></div></li><li class='xr-section-item'><input id='section-ae0751d0-0fe2-4689-aece-60d71809d256' class='xr-section-summary-in' type='checkbox'  checked><label for='section-ae0751d0-0fe2-4689-aece-60d71809d256' class='xr-section-summary' >Attributes: <span>(2)</span></label><div class='xr-section-inline-details'></div><div class='xr-section-details'><dl class='xr-attrs'><dt><span>obs_dim :</span></dt><dd>cell</dd><dt><span>var_dim :</span></dt><dd>geneslop2k</dd></dl></div></li></ul></div></div>"
      ],
      "text/plain": [
       "<xarray.MCDS>\n",
       "Dimensions:              (mc_type: 2, cell: 132551, count_type: 2, chrom100k: 27269, geneslop2k: 53533)\n",
       "Coordinates: (12/13)\n",
       "  * mc_type              (mc_type) <U3 'CGN' 'CHN'\n",
       "  * cell                 (cell) <U42 '3A_M_1385' ... 'AMB_210309_9mo_7H_8H_9G...\n",
       "  * count_type           (count_type) <U3 'mc' 'cov'\n",
       "    strand_type          <U4 'both'\n",
       "  * chrom100k            (chrom100k) int64 0 1 2 3 4 ... 27265 27266 27267 27268\n",
       "    chrom100k_chrom      (chrom100k) <U5 'chr1' 'chr1' 'chr1' ... 'chrY' 'chrM'\n",
       "    ...                   ...\n",
       "    chrom100k_bin_end    (chrom100k) int64 100000 200000 ... 91744698 16299\n",
       "  * geneslop2k           (geneslop2k) object 'ENSMUSG00000102693.1' ... 'ENSM...\n",
       "    geneslop2k_chrom     (geneslop2k) <U5 'chr1' 'chr1' 'chr1' ... 'chrM' 'chrM'\n",
       "    geneslop2k_start     (geneslop2k) int64 3071252 3100015 ... 13288 13355\n",
       "    geneslop2k_end       (geneslop2k) int64 3076321 3104124 ... 16299 16299\n",
       "    geneslop2k_cov_mean  (geneslop2k) float64 53.12 42.42 ... 129.3 127.5\n",
       "Data variables:\n",
       "    chrom100k_da         (cell, chrom100k, mc_type, count_type) int64 dask.array<chunksize=(1250, 27269, 2, 2), meta=np.ndarray>\n",
       "    geneslop2k_da        (cell, geneslop2k, mc_type, count_type) int64 dask.array<chunksize=(1250, 53533, 2, 2), meta=np.ndarray>\n",
       "Attributes:\n",
       "    obs_dim:  cell\n",
       "    var_dim:  geneslop2k"
      ]
     },
     "execution_count": 14,
     "metadata": {},
     "output_type": "execute_result"
    }
   ],
   "source": [
    "mcds.filter_feature_by_cov_mean(min_cov=min_cov)"
   ]
  },
  {
   "cell_type": "code",
   "execution_count": 15,
   "id": "7df5f991-7f7a-4daa-8764-31baf64a7f59",
   "metadata": {
    "execution": {
     "iopub.execute_input": "2024-05-22T06:29:20.867792Z",
     "iopub.status.busy": "2024-05-22T06:29:20.867276Z",
     "iopub.status.idle": "2024-05-22T06:29:21.006370Z",
     "shell.execute_reply": "2024-05-22T06:29:21.005750Z",
     "shell.execute_reply.started": "2024-05-22T06:29:20.867765Z"
    },
    "tags": []
   },
   "outputs": [],
   "source": [
    "use_features_1 = joblib.load('tmp_use_features')"
   ]
  },
  {
   "cell_type": "code",
   "execution_count": 16,
   "id": "638b19bd-0192-41d7-8368-c5894d12f1bc",
   "metadata": {
    "execution": {
     "iopub.execute_input": "2024-05-22T06:29:21.007699Z",
     "iopub.status.busy": "2024-05-22T06:29:21.007192Z",
     "iopub.status.idle": "2024-05-22T06:29:21.036688Z",
     "shell.execute_reply": "2024-05-22T06:29:21.036119Z",
     "shell.execute_reply.started": "2024-05-22T06:29:21.007675Z"
    },
    "tags": []
   },
   "outputs": [
    {
     "data": {
      "text/plain": [
       "53088"
      ]
     },
     "execution_count": 16,
     "metadata": {},
     "output_type": "execute_result"
    }
   ],
   "source": [
    "use_features = list(set(use_features_1) & set(use_features_2))\n",
    "len(use_features)"
   ]
  },
  {
   "cell_type": "code",
   "execution_count": 17,
   "id": "5c54ed66-30ab-49fb-8948-6da621fff512",
   "metadata": {
    "execution": {
     "iopub.execute_input": "2024-05-22T06:29:21.037929Z",
     "iopub.status.busy": "2024-05-22T06:29:21.037538Z",
     "iopub.status.idle": "2024-05-22T06:29:21.114698Z",
     "shell.execute_reply": "2024-05-22T06:29:21.114039Z",
     "shell.execute_reply.started": "2024-05-22T06:29:21.037906Z"
    },
    "tags": []
   },
   "outputs": [
    {
     "name": "stderr",
     "output_type": "stream",
     "text": [
      "/home/qz/miniconda3/envs/allcools/lib/python3.7/site-packages/xarray/core/indexing.py:1227: PerformanceWarning: Slicing is producing a large chunk. To accept the large\n",
      "chunk and silence this warning, set the option\n",
      "    >>> with dask.config.set(**{'array.slicing.split_large_chunks': False}):\n",
      "    ...     array[indexer]\n",
      "\n",
      "To avoid creating the large chunks, set the option\n",
      "    >>> with dask.config.set(**{'array.slicing.split_large_chunks': True}):\n",
      "    ...     array[indexer]\n",
      "  return self.array[key]\n"
     ]
    }
   ],
   "source": [
    "f_mcds = mcds.sel(geneslop2k = mcds.get_index(var_dim).isin(use_features))"
   ]
  },
  {
   "cell_type": "code",
   "execution_count": 18,
   "id": "913de632-6105-49b0-b1ea-cf893b0e9886",
   "metadata": {
    "execution": {
     "iopub.execute_input": "2024-05-22T06:29:21.115944Z",
     "iopub.status.busy": "2024-05-22T06:29:21.115539Z",
     "iopub.status.idle": "2024-05-22T06:29:21.290886Z",
     "shell.execute_reply": "2024-05-22T06:29:21.290247Z",
     "shell.execute_reply.started": "2024-05-22T06:29:21.115920Z"
    },
    "tags": []
   },
   "outputs": [],
   "source": [
    "f_mcds.add_mc_frac(normalize_per_cell=False, clip_norm_value=None)"
   ]
  },
  {
   "cell_type": "code",
   "execution_count": 19,
   "id": "fe89416d-6051-4b14-9822-bf1962dd9a38",
   "metadata": {
    "execution": {
     "iopub.execute_input": "2024-05-22T06:29:21.292201Z",
     "iopub.status.busy": "2024-05-22T06:29:21.291776Z",
     "iopub.status.idle": "2024-05-22T06:29:21.316302Z",
     "shell.execute_reply": "2024-05-22T06:29:21.315709Z",
     "shell.execute_reply.started": "2024-05-22T06:29:21.292176Z"
    },
    "tags": []
   },
   "outputs": [],
   "source": [
    "f_mcds = f_mcds[['geneslop2k_da_frac']]\n",
    "f_mcds['geneslop2k_da_frac'] = f_mcds['geneslop2k_da_frac'].astype('float32')"
   ]
  },
  {
   "cell_type": "code",
   "execution_count": 21,
   "id": "89719b0c-ed30-430d-a3a9-4a279dac9ab6",
   "metadata": {
    "execution": {
     "iopub.execute_input": "2024-05-22T06:29:36.473325Z",
     "iopub.status.busy": "2024-05-22T06:29:36.472783Z",
     "iopub.status.idle": "2024-05-22T06:57:21.409280Z",
     "shell.execute_reply": "2024-05-22T06:57:21.407808Z",
     "shell.execute_reply.started": "2024-05-22T06:29:36.473298Z"
    },
    "tags": []
   },
   "outputs": [
    {
     "name": "stdout",
     "output_type": "stream",
     "text": [
      "Saving geneslop2k\n",
      "Saving chunk 0: 0 - 10000\n"
     ]
    },
    {
     "name": "stderr",
     "output_type": "stream",
     "text": [
      "/home/qz/miniconda3/envs/allcools/lib/python3.7/site-packages/dask/core.py:119: RuntimeWarning: invalid value encountered in true_divide\n",
      "  return func(*(_execute_task(a, cache) for a in args))\n"
     ]
    },
    {
     "name": "stdout",
     "output_type": "stream",
     "text": [
      "Saving chunk 1: 10000 - 20000\n",
      "Saving chunk 2: 20000 - 30000\n",
      "Saving chunk 3: 30000 - 40000\n",
      "Saving chunk 4: 40000 - 50000\n",
      "Saving chunk 5: 50000 - 60000\n",
      "Saving chunk 6: 60000 - 70000\n",
      "Saving chunk 7: 70000 - 80000\n",
      "Saving chunk 8: 80000 - 90000\n",
      "Saving chunk 9: 90000 - 100000\n",
      "Saving chunk 10: 100000 - 110000\n",
      "Saving chunk 11: 110000 - 120000\n",
      "Saving chunk 12: 120000 - 130000\n",
      "Saving chunk 13: 130000 - 132551\n"
     ]
    }
   ],
   "source": [
    "f_mcds.write_dataset(f'Male.genes_frac.mcds', var_dims=['geneslop2k'])"
   ]
  },
  {
   "cell_type": "code",
   "execution_count": null,
   "id": "2c8648bf-9001-48f2-bff3-8cf50d67d01e",
   "metadata": {},
   "outputs": [],
   "source": [
    "# mcds = MCDS.open(mcds_path, \n",
    "#                  var_dim= use_features.isin(mcds.get_index(var_dim)),\n",
    "#                  use_obs=metadata.index).sel({var_dim: use_features})"
   ]
  },
  {
   "cell_type": "code",
   "execution_count": null,
   "id": "bb2016d3-945c-4447-9ce1-9a3be6b8d01a",
   "metadata": {},
   "outputs": [],
   "source": []
  },
  {
   "cell_type": "code",
   "execution_count": null,
   "id": "4fed1862-0f42-4b27-8bb4-37790546442e",
   "metadata": {},
   "outputs": [],
   "source": []
  },
  {
   "cell_type": "code",
   "execution_count": null,
   "id": "2ccd7fbb-1600-4620-97fd-16c6584cdf4d",
   "metadata": {},
   "outputs": [],
   "source": []
  },
  {
   "cell_type": "code",
   "execution_count": null,
   "id": "b3e5e4a6-a2bb-42da-885e-08b158f62d0d",
   "metadata": {},
   "outputs": [],
   "source": []
  },
  {
   "cell_type": "code",
   "execution_count": null,
   "id": "1d4afe9a-db70-4347-808a-cbd31fa4cc52",
   "metadata": {},
   "outputs": [],
   "source": []
  },
  {
   "cell_type": "code",
   "execution_count": null,
   "id": "13fd7445-aadc-4c0d-b8c5-e474b7c296cf",
   "metadata": {},
   "outputs": [],
   "source": []
  },
  {
   "cell_type": "code",
   "execution_count": null,
   "id": "e612d702-770d-43b7-a846-a49a85861a31",
   "metadata": {},
   "outputs": [],
   "source": []
  },
  {
   "cell_type": "code",
   "execution_count": null,
   "id": "89c0c09e-be5f-451b-bb8c-775e7d7e6b2a",
   "metadata": {},
   "outputs": [],
   "source": []
  },
  {
   "cell_type": "code",
   "execution_count": null,
   "id": "fa86372d-5454-4333-a40d-5c063052433b",
   "metadata": {},
   "outputs": [],
   "source": []
  },
  {
   "cell_type": "code",
   "execution_count": null,
   "id": "928ed5a6-b3c5-470b-874a-822521800ad4",
   "metadata": {},
   "outputs": [],
   "source": []
  },
  {
   "cell_type": "code",
   "execution_count": null,
   "id": "ea7d1837-2d93-4e20-a09a-a8af74684d2e",
   "metadata": {},
   "outputs": [],
   "source": []
  },
  {
   "cell_type": "code",
   "execution_count": null,
   "id": "7ef1f22c-5892-48d9-a94f-89f90741ef6f",
   "metadata": {},
   "outputs": [],
   "source": []
  },
  {
   "cell_type": "code",
   "execution_count": null,
   "id": "1f068662-ce6e-42b8-98a7-91f809d58486",
   "metadata": {},
   "outputs": [],
   "source": []
  }
 ],
 "metadata": {
  "kernelspec": {
   "display_name": "Python 3 (ipykernel)",
   "language": "python",
   "name": "python3"
  },
  "language_info": {
   "codemirror_mode": {
    "name": "ipython",
    "version": 3
   },
   "file_extension": ".py",
   "mimetype": "text/x-python",
   "name": "python",
   "nbconvert_exporter": "python",
   "pygments_lexer": "ipython3",
   "version": "3.7.12"
  }
 },
 "nbformat": 4,
 "nbformat_minor": 5
}
