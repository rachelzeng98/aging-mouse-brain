{
 "cells": [
  {
   "cell_type": "code",
   "execution_count": 1,
   "id": "57f42bc7-18e2-4d1b-83fa-ee784e016e20",
   "metadata": {},
   "outputs": [],
   "source": [
    "shared_cts = ['L6_IT_CTX_Glut',\n",
    " 'CA1-ProS_Glut',\n",
    " 'STR-PAL_Chst9_Gaba',\n",
    " 'Pvalb_Gaba',\n",
    " 'L23_IT_ENT_Glut',\n",
    " 'OPC_NN',\n",
    " 'L23_IT_CTX_Glut',\n",
    " 'L5_ET_CTX_Glut',\n",
    " 'L23_IT_PPP_Glut',\n",
    " 'Lamp5_Gaba',\n",
    " 'CA3_Glut',\n",
    " 'Sst_Gaba',\n",
    " 'LA-BLA-BMA-PA_Glut',\n",
    " 'SUB-ProS_Glut',\n",
    " 'Microglia_NN',\n",
    " 'Astro-NT_NN',\n",
    " 'Oligo_NN',\n",
    " 'L6_CT_CTX_Glut',\n",
    " 'L5_NP_CTX_Glut',\n",
    " 'Vip_Gaba',\n",
    " 'STR_D1_Sema5a_Gaba',\n",
    " 'Astro-TE_NN',\n",
    " 'DG_Glut',\n",
    " 'VLMC_NN',\n",
    " 'L6bCT_ENT_Glut',\n",
    " ] #'STR_D1_Gaba'"
   ]
  },
  {
   "cell_type": "code",
   "execution_count": 2,
   "id": "047c22f3-befd-468c-b4e8-b86037d14b05",
   "metadata": {},
   "outputs": [],
   "source": [
    "def get_luisa_deg(ct):\n",
    "    deg_dir = f'/data/female-amb/Diff.Result/DEG.stats/{ct}'\n",
    "    expr = pd.read_hdf(f'{deg_dir}/expr.hdf').T\n",
    "    use_genes = expr[expr.sum(axis = 1) > 0.1].index\n",
    "    stats = np.load(f\"{deg_dir}/{ct}.2mo-{ct}.18mo.npz\") #fc:(2mo/18mo)\n",
    "    \n",
    "    luisa_deg = pd.DataFrame({'fc': (expr[f'{ct}.18mo'] /expr[f'{ct}.2mo']).values,'fdr':stats['fdr']}, index = expr.index).loc[use_genes]\n",
    "    luisa_deg['log2(18mo/2mo)'] = np.log2(luisa_deg['fc']) \n",
    "    luisa_deg['-log10(padj)'] = -np.log10(luisa_deg['fdr'] + _min)\n",
    "    luisa_deg =luisa_deg[luisa_deg['fdr'] < 0.5]\n",
    "    return luisa_deg"
   ]
  },
  {
   "cell_type": "code",
   "execution_count": 3,
   "id": "ac2b58ca-c7da-4a20-9dae-60d853e11a76",
   "metadata": {},
   "outputs": [],
   "source": [
    "import pandas as pd\n",
    "import numpy as np\n",
    "import matplotlib.pyplot as plt\n",
    "import seaborn as sns"
   ]
  },
  {
   "cell_type": "code",
   "execution_count": 4,
   "id": "7e890e6d-3fa0-4fc9-9ea9-48c78327ee06",
   "metadata": {},
   "outputs": [],
   "source": [
    "pvalue_cutoff = 0.01\n",
    "fc_cutoff = 0.1\n",
    "_min = 1e-200\n",
    "res = 25000"
   ]
  },
  {
   "cell_type": "code",
   "execution_count": 5,
   "id": "679e6808-3690-4d08-926d-96aa5f701957",
   "metadata": {},
   "outputs": [],
   "source": [
    "all_diff_domain = pd.read_csv('ALL.Diff.Domain.csv', index_col = 0)\n",
    "all_diff_domain = all_diff_domain[all_diff_domain['celltype'].isin(shared_cts)]"
   ]
  },
  {
   "cell_type": "code",
   "execution_count": 6,
   "id": "4ec05c4b-0c88-4fcc-a956-cfd8d67816d6",
   "metadata": {},
   "outputs": [
    {
     "data": {
      "text/plain": [
       "Index(['DG_Glut', 'CA1-ProS_Glut', 'L23_IT_CTX_Glut', 'Astro-TE_NN',\n",
       "       'CA3_Glut', 'L6_CT_CTX_Glut'],\n",
       "      dtype='object', name='celltype')"
      ]
     },
     "execution_count": 6,
     "metadata": {},
     "output_type": "execute_result"
    }
   ],
   "source": [
    "example_cts = all_diff_domain['celltype'].value_counts().index[:6]\n",
    "#example_cts = ['DG_Glut', 'CA1-ProS_Glut', 'L23_IT_CTX_Glut', 'L6_CT_CTX_Glut']\n",
    "example_cts"
   ]
  },
  {
   "cell_type": "code",
   "execution_count": 7,
   "id": "54e43bd0-8ce7-4ca3-8566-1336cec75bfa",
   "metadata": {},
   "outputs": [],
   "source": [
    "#example_cts = ['DG_Glut', 'CA1-ProS_Glut', 'CA3_Glut','Astro-TE_NN', 'L23_IT_CTX_Glut', 'LA-BLA-BMA-PA_Glut'] #'L6bCT_ENT_Glut',"
   ]
  },
  {
   "cell_type": "code",
   "execution_count": 8,
   "id": "adea7d3e-3034-4785-bb19-cae1a3d4f1e6",
   "metadata": {},
   "outputs": [],
   "source": [
    "luisa_dir = '/data/female-amb/Diff.Result/luisa_deg'\n",
    "gene_meta_path = '/data/metadata/gencode.vM22.basic.annotation.gene.flat.tsv.gz'\n",
    "mouse_genes = pd.read_csv(gene_meta_path,sep=\"\\t\")[['chrom', 'start', 'end', 'gene_id','gene_name']]"
   ]
  },
  {
   "cell_type": "code",
   "execution_count": 14,
   "id": "b4c54a3f-bf9f-4ca4-b07c-e0f856db591d",
   "metadata": {},
   "outputs": [
    {
     "data": {
      "text/html": [
       "<div>\n",
       "<style scoped>\n",
       "    .dataframe tbody tr th:only-of-type {\n",
       "        vertical-align: middle;\n",
       "    }\n",
       "\n",
       "    .dataframe tbody tr th {\n",
       "        vertical-align: top;\n",
       "    }\n",
       "\n",
       "    .dataframe thead th {\n",
       "        text-align: right;\n",
       "    }\n",
       "</style>\n",
       "<table border=\"1\" class=\"dataframe\">\n",
       "  <thead>\n",
       "    <tr style=\"text-align: right;\">\n",
       "      <th></th>\n",
       "      <th>all_down_genes</th>\n",
       "      <th>all_up_genes</th>\n",
       "      <th>domain_down_genes</th>\n",
       "      <th>domain_up_genes</th>\n",
       "      <th>cell_type</th>\n",
       "      <th>all_ratio(down/all)</th>\n",
       "      <th>domain_ratio(down/all)</th>\n",
       "    </tr>\n",
       "  </thead>\n",
       "  <tbody>\n",
       "    <tr>\n",
       "      <th>DG_Glut</th>\n",
       "      <td>4676</td>\n",
       "      <td>724</td>\n",
       "      <td>674</td>\n",
       "      <td>93</td>\n",
       "      <td>DG_Glut</td>\n",
       "      <td>0.87</td>\n",
       "      <td>0.88</td>\n",
       "    </tr>\n",
       "    <tr>\n",
       "      <th>CA1-ProS_Glut</th>\n",
       "      <td>784</td>\n",
       "      <td>1259</td>\n",
       "      <td>51</td>\n",
       "      <td>84</td>\n",
       "      <td>CA1-ProS_Glut</td>\n",
       "      <td>0.38</td>\n",
       "      <td>0.38</td>\n",
       "    </tr>\n",
       "    <tr>\n",
       "      <th>L23_IT_CTX_Glut</th>\n",
       "      <td>1968</td>\n",
       "      <td>510</td>\n",
       "      <td>51</td>\n",
       "      <td>21</td>\n",
       "      <td>L23_IT_CTX_Glut</td>\n",
       "      <td>0.79</td>\n",
       "      <td>0.71</td>\n",
       "    </tr>\n",
       "    <tr>\n",
       "      <th>Astro-TE_NN</th>\n",
       "      <td>163</td>\n",
       "      <td>157</td>\n",
       "      <td>10</td>\n",
       "      <td>8</td>\n",
       "      <td>Astro-TE_NN</td>\n",
       "      <td>0.51</td>\n",
       "      <td>0.56</td>\n",
       "    </tr>\n",
       "    <tr>\n",
       "      <th>CA3_Glut</th>\n",
       "      <td>327</td>\n",
       "      <td>1059</td>\n",
       "      <td>5</td>\n",
       "      <td>19</td>\n",
       "      <td>CA3_Glut</td>\n",
       "      <td>0.24</td>\n",
       "      <td>0.21</td>\n",
       "    </tr>\n",
       "    <tr>\n",
       "      <th>L6_CT_CTX_Glut</th>\n",
       "      <td>2012</td>\n",
       "      <td>364</td>\n",
       "      <td>48</td>\n",
       "      <td>23</td>\n",
       "      <td>L6_CT_CTX_Glut</td>\n",
       "      <td>0.85</td>\n",
       "      <td>0.68</td>\n",
       "    </tr>\n",
       "  </tbody>\n",
       "</table>\n",
       "</div>"
      ],
      "text/plain": [
       "                 all_down_genes  all_up_genes  domain_down_genes  \\\n",
       "DG_Glut                    4676           724                674   \n",
       "CA1-ProS_Glut               784          1259                 51   \n",
       "L23_IT_CTX_Glut            1968           510                 51   \n",
       "Astro-TE_NN                 163           157                 10   \n",
       "CA3_Glut                    327          1059                  5   \n",
       "L6_CT_CTX_Glut             2012           364                 48   \n",
       "\n",
       "                 domain_up_genes        cell_type  all_ratio(down/all)  \\\n",
       "DG_Glut                       93          DG_Glut                 0.87   \n",
       "CA1-ProS_Glut                 84    CA1-ProS_Glut                 0.38   \n",
       "L23_IT_CTX_Glut               21  L23_IT_CTX_Glut                 0.79   \n",
       "Astro-TE_NN                    8      Astro-TE_NN                 0.51   \n",
       "CA3_Glut                      19         CA3_Glut                 0.24   \n",
       "L6_CT_CTX_Glut                23   L6_CT_CTX_Glut                 0.85   \n",
       "\n",
       "                 domain_ratio(down/all)  \n",
       "DG_Glut                            0.88  \n",
       "CA1-ProS_Glut                      0.38  \n",
       "L23_IT_CTX_Glut                    0.71  \n",
       "Astro-TE_NN                        0.56  \n",
       "CA3_Glut                           0.21  \n",
       "L6_CT_CTX_Glut                     0.68  "
      ]
     },
     "execution_count": 14,
     "metadata": {},
     "output_type": "execute_result"
    }
   ],
   "source": [
    "deg_number = {}\n",
    "for ct in example_cts:\n",
    "    all_overlap = pd.read_csv(f'New.Domain.Genes.Expression/{ct}/All.Overlap.Domain.Genes.csv', index_col ='gene_name')\n",
    "    all_overlap= all_overlap[all_overlap['18mo-8wk'] > 0]\n",
    "\n",
    "    all_deg = pd.read_csv(f\"{luisa_dir}/{ct}.csv\", index_col = 0)\n",
    "    all_deg['-log10(padj)'] = -np.log10(all_deg['p_val_adj']+ _min)\n",
    "    all_deg['log2(18mo/2mo)'] = -all_deg['avg_log2FC']\n",
    "    all_deg = all_deg[(abs(all_deg['log2(18mo/2mo)']) > fc_cutoff) & (all_deg['p_val_adj'] <  pvalue_cutoff)]\n",
    "    all_down_genes, all_up_genes = all_deg[all_deg['log2(18mo/2mo)'] < 0].shape[0], all_deg[all_deg['log2(18mo/2mo)']> 0].shape[0]\n",
    "    \n",
    "    shared_deg_df = all_deg[all_deg.index.isin(all_overlap.index)]\n",
    "    down_genes, up_genes = shared_deg_df[shared_deg_df['log2(18mo/2mo)'] < 0].shape[0], shared_deg_df[shared_deg_df['log2(18mo/2mo)']> 0].shape[0]\n",
    "    deg_number[ct] = (all_down_genes, all_up_genes, down_genes, up_genes)\n",
    "\n",
    "deg_number = pd.DataFrame(deg_number, index = ['all_down_genes','all_up_genes','domain_down_genes','domain_up_genes']).T\n",
    "deg_number['cell_type'] = deg_number.index\n",
    "\n",
    "deg_number['all_ratio(down/all)'] = round(deg_number['all_down_genes']/(deg_number['all_down_genes']+ deg_number['all_up_genes']),2)\n",
    "deg_number['domain_ratio(down/all)'] = round(deg_number['domain_down_genes']/(deg_number['domain_up_genes'] + deg_number['domain_down_genes']),2)\n",
    "deg_number"
   ]
  },
  {
   "cell_type": "code",
   "execution_count": 10,
   "id": "77c7be02-3424-4856-b8ba-def55cff20fa",
   "metadata": {},
   "outputs": [],
   "source": [
    "deg_number['domain_down_genes'] *= -1\n",
    "deg_number['all_down_genes'] *= -1"
   ]
  },
  {
   "cell_type": "code",
   "execution_count": 11,
   "id": "8d6182b8-5089-4cdf-8b93-d6a3410e2bb6",
   "metadata": {},
   "outputs": [
    {
     "data": {
      "text/plain": [
       "Text(0.5, 1.0, 'all DEGs')"
      ]
     },
     "execution_count": 11,
     "metadata": {},
     "output_type": "execute_result"
    },
    {
     "data": {
      "image/png": "[encoded data removed]",
      "text/plain": [
       "<Figure size 600x600 with 2 Axes>"
      ]
     },
     "metadata": {},
     "output_type": "display_data"
    }
   ],
   "source": [
    "# Plotting\n",
    "fig, axes = plt.subplots(figsize = (6,6), nrows = 2, dpi = 100, constrained_layout = True)\n",
    "\n",
    "ax = axes[0]\n",
    "ax.barh(deg_number['cell_type'], deg_number['domain_up_genes'],  color='#f06060',label='age up')\n",
    "ax.barh(deg_number['cell_type'], deg_number['domain_down_genes'], color='#60bbf0', label='age down')\n",
    "ax.set_xlabel('Number of Age DEGs')\n",
    "ax.legend(loc='center left', bbox_to_anchor=(1, 0.5))\n",
    "ax.set_xlim(-700, 200)\n",
    "ax.set_title('domain DEGs')\n",
    "\n",
    "ax = axes[1]\n",
    "ax.barh(deg_number['cell_type'], deg_number['all_up_genes'],  color='#f06060',label='age up')\n",
    "ax.barh(deg_number['cell_type'], deg_number['all_down_genes'], color='#60bbf0', label='age down')\n",
    "ax.set_xlabel('Number of Age DEGs')\n",
    "ax.legend(loc='center left', bbox_to_anchor=(1, 0.5))\n",
    "ax.set_xlim(-4600, 1300)\n",
    "ax.set_title('all DEGs')\n",
    "#fig.savefig(f\"cross_boundary.domain_genes.up_or_down.pdf\", bbox_inches = 'tight')"
   ]
  },
  {
   "cell_type": "code",
   "execution_count": 12,
   "id": "e00f8d52-ab8e-42af-b0e1-b05043e61c4c",
   "metadata": {},
   "outputs": [],
   "source": [
    "# ncols = 2\n",
    "# nrows = 2\n",
    "# cross_boundary = True\n",
    "# fig, axes = plt.subplots(figsize = (ncols*2,nrows*2), \n",
    "#                          ncols = ncols, nrows = nrows, \n",
    "#                          dpi = 200, constrained_layout = True)\n",
    "# for ct, ax in zip(example_cts,axes.ravel()):\n",
    "#     all_deg = pd.read_csv(f\"{luisa_dir}/{ct}.csv\", index_col = 0)\n",
    "#     all_deg['-log10(padj)'] = -np.log10(all_deg['p_val_adj']+ _min)\n",
    "#     all_deg['log2(18mo/2mo)'] = -all_deg['avg_log2FC']\n",
    "#     all_deg = all_deg[(abs(all_deg['log2(18mo/2mo)']) > fc_cutoff) & (all_deg['p_val_adj'] <  pvalue_cutoff)]\n",
    "    \n",
    "#     all_overlap = pd.read_csv(f'New.Domain.Genes.Expression/{ct}/All.Overlap.Domain.Genes.csv', index_col ='gene_name')\n",
    "#     all_overlap= all_overlap[all_overlap['18mo-8wk'] > 0]\n",
    "    \n",
    "#     all_overlap['start'] = all_overlap['start'] - res\n",
    "#     all_overlap['end'] = all_overlap['end'] - res\n",
    "\n",
    "    \n",
    "#     if cross_boundary == True:\n",
    "#         cross_boundary_genes_1 = all_overlap[(all_overlap['gene_start'] < all_overlap['start']) & (all_overlap['gene_end'] > all_overlap['start'])]\n",
    "#         cross_boundary_genes_2 = all_overlap[(all_overlap['gene_end'] > all_overlap['end']) & (all_overlap['gene_start'] < all_overlap['end'])]\n",
    "#         all_overlap = pd.concat([cross_boundary_genes_1, cross_boundary_genes_2])\n",
    "#     elif cross_boundary == False:\n",
    "#         cross_boundary_genes_1 = all_overlap[(all_overlap['gene_start'] < all_overlap['start']) & (all_overlap['gene_end'] > all_overlap['start'])]\n",
    "#         cross_boundary_genes_2 = all_overlap[(all_overlap['gene_end'] > all_overlap['end']) & (all_overlap['gene_start'] < all_overlap['end'])]\n",
    "#         tmp = pd.concat([cross_boundary_genes_1, cross_boundary_genes_2])\n",
    "#         all_overlap = all_overlap[~all_overlap.index.isin(tmp.index)]\n",
    "    \n",
    "#     shared_deg_df = all_deg[all_deg.index.isin(all_overlap.index)]    \n",
    "#     sns.scatterplot(data = all_deg,\n",
    "#                     linewidth = 0,\n",
    "#                     ax = ax,\n",
    "#                     color = 'lightgrey',\n",
    "#                     s = 3,\n",
    "#                     x = 'log2(18mo/2mo)',\n",
    "#                     y = '-log10(padj)')\n",
    "\n",
    "#     sns.scatterplot(data = shared_deg_df[shared_deg_df['log2(18mo/2mo)'] < 0],\n",
    "#                     linewidth = 0,\n",
    "#                     ax = ax,\n",
    "#                     color = 'blue',\n",
    "#                     s = 6,\n",
    "#                     x = 'log2(18mo/2mo)',\n",
    "#                     y = '-log10(padj)')\n",
    "\n",
    "#     sns.scatterplot(data = shared_deg_df[shared_deg_df['log2(18mo/2mo)'] > 0],\n",
    "#                     linewidth = 0,\n",
    "#                     ax = ax,\n",
    "#                     color = 'red',\n",
    "#                     s = 6,\n",
    "#                     x = 'log2(18mo/2mo)',\n",
    "#                     y = '-log10(padj)')\n",
    "#     ax.set_title(ct)\n",
    "#     ylim = shared_deg_df['-log10(padj)'].max() + 5\n",
    "#     if ylim > 200:\n",
    "#         ylim = 150\n",
    "#     ax.set(xlim = (-3,3), ylim = (0,ylim) ) #\n",
    "    \n",
    "#     top_genes = shared_deg_df[(shared_deg_df['log2(18mo/2mo)'] < -0.8)]\n",
    "#     top_genes = top_genes.sort_values('-log10(padj)',ascending = False).head(5)\n",
    "#     for _, row in top_genes.iterrows():\n",
    "#         ax.annotate(row.name, (row['log2(18mo/2mo)'], row['-log10(padj)']), \n",
    "#                     textcoords=\"offset points\", xytext=(0,2), ha='center', fontsize = 5)"
   ]
  },
  {
   "cell_type": "code",
   "execution_count": null,
   "id": "b5791342-2fb7-4aa7-86a5-2ee5f9ee3a31",
   "metadata": {},
   "outputs": [],
   "source": []
  },
  {
   "cell_type": "code",
   "execution_count": null,
   "id": "ee3d6200-87e5-459a-a229-a16485bbfefa",
   "metadata": {},
   "outputs": [],
   "source": []
  },
  {
   "cell_type": "code",
   "execution_count": null,
   "id": "cffdb0db-a493-4c89-8396-8f5644cc9c6b",
   "metadata": {},
   "outputs": [],
   "source": []
  },
  {
   "cell_type": "code",
   "execution_count": null,
   "id": "9a9c41da-02dd-40f9-9d8b-c055c36d89a4",
   "metadata": {},
   "outputs": [],
   "source": []
  },
  {
   "cell_type": "code",
   "execution_count": null,
   "id": "1ea0fbf5-6502-4371-9408-9233ed88a82c",
   "metadata": {},
   "outputs": [],
   "source": []
  }
 ],
 "metadata": {
  "kernelspec": {
   "display_name": "Python 3 (ipykernel)",
   "language": "python",
   "name": "python3"
  },
  "language_info": {
   "codemirror_mode": {
    "name": "ipython",
    "version": 3
   },
   "file_extension": ".py",
   "mimetype": "text/x-python",
   "name": "python",
   "nbconvert_exporter": "python",
   "pygments_lexer": "ipython3",
   "version": "3.10.12"
  }
 },
 "nbformat": 4,
 "nbformat_minor": 5
}
