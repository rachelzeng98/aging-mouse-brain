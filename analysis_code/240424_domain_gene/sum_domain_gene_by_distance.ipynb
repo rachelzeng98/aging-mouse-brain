{
 "cells": [
  {
   "cell_type": "code",
   "execution_count": 1,
   "id": "7b1dbc9d-e69f-4de6-80be-1dfcec39e09f",
   "metadata": {},
   "outputs": [],
   "source": [
    "import pandas as pd\n",
    "import numpy as np\n",
    "import matplotlib.pyplot as plt\n",
    "import seaborn as sns"
   ]
  },
  {
   "cell_type": "code",
   "execution_count": 35,
   "id": "6d5fb4ec-b826-4f54-87f2-a9b4671f071d",
   "metadata": {},
   "outputs": [],
   "source": [
    "def get_deg(ct):\n",
    "    deg_dir = f'/data/female-amb/Diff.Result/DEG.stats/{ct}'\n",
    "    expr = pd.read_hdf(f'{deg_dir}/expr.hdf').T\n",
    "    use_genes = expr[expr.sum(axis = 1) > 0.1].index\n",
    "    stats = np.load(f\"{deg_dir}/{ct}.2mo-{ct}.18mo.npz\") #fc:(2mo/18mo)\n",
    "    \n",
    "    deg = pd.DataFrame({'fc': (expr[f'{ct}.18mo'] /expr[f'{ct}.2mo']).values,'fdr':stats['fdr']}, index = expr.index).loc[use_genes]\n",
    "    deg['log2(18mo/2mo)'] = np.log2(deg['fc']) \n",
    "    deg['-log10(padj)'] = -np.log10(deg['fdr'] + 1e-200)\n",
    "    deg =deg[deg['fdr'] < 0.5]\n",
    "    return deg"
   ]
  },
  {
   "cell_type": "code",
   "execution_count": 5,
   "id": "39c228e4-dbd7-4aef-90d6-26319d64ffcb",
   "metadata": {},
   "outputs": [],
   "source": [
    "ct = 'DG_Glut'"
   ]
  },
  {
   "cell_type": "code",
   "execution_count": 8,
   "id": "6d8892a9-9947-4508-a971-464e4903718f",
   "metadata": {},
   "outputs": [
    {
     "data": {
      "text/html": [
       "<div>\n",
       "<style scoped>\n",
       "    .dataframe tbody tr th:only-of-type {\n",
       "        vertical-align: middle;\n",
       "    }\n",
       "\n",
       "    .dataframe tbody tr th {\n",
       "        vertical-align: top;\n",
       "    }\n",
       "\n",
       "    .dataframe thead th {\n",
       "        text-align: right;\n",
       "    }\n",
       "</style>\n",
       "<table border=\"1\" class=\"dataframe\">\n",
       "  <thead>\n",
       "    <tr style=\"text-align: right;\">\n",
       "      <th></th>\n",
       "      <th>8wk</th>\n",
       "      <th>9mo</th>\n",
       "      <th>18mo</th>\n",
       "      <th>18mo-8wk</th>\n",
       "      <th>celltype</th>\n",
       "    </tr>\n",
       "  </thead>\n",
       "  <tbody>\n",
       "    <tr>\n",
       "      <th>chr1_381</th>\n",
       "      <td>0.111111</td>\n",
       "      <td>0.125786</td>\n",
       "      <td>0.162823</td>\n",
       "      <td>0.051712</td>\n",
       "      <td>DG_Glut</td>\n",
       "    </tr>\n",
       "    <tr>\n",
       "      <th>chr1_686</th>\n",
       "      <td>0.153739</td>\n",
       "      <td>0.165618</td>\n",
       "      <td>0.241090</td>\n",
       "      <td>0.087352</td>\n",
       "      <td>DG_Glut</td>\n",
       "    </tr>\n",
       "    <tr>\n",
       "      <th>chr1_1020</th>\n",
       "      <td>0.092942</td>\n",
       "      <td>0.098532</td>\n",
       "      <td>0.144654</td>\n",
       "      <td>0.051712</td>\n",
       "      <td>DG_Glut</td>\n",
       "    </tr>\n",
       "    <tr>\n",
       "      <th>chr1_1034</th>\n",
       "      <td>0.120196</td>\n",
       "      <td>0.122292</td>\n",
       "      <td>0.197065</td>\n",
       "      <td>0.076869</td>\n",
       "      <td>DG_Glut</td>\n",
       "    </tr>\n",
       "    <tr>\n",
       "      <th>chr1_1346</th>\n",
       "      <td>0.145353</td>\n",
       "      <td>0.139064</td>\n",
       "      <td>0.201957</td>\n",
       "      <td>0.056604</td>\n",
       "      <td>DG_Glut</td>\n",
       "    </tr>\n",
       "  </tbody>\n",
       "</table>\n",
       "</div>"
      ],
      "text/plain": [
       "                8wk       9mo      18mo  18mo-8wk celltype\n",
       "chr1_381   0.111111  0.125786  0.162823  0.051712  DG_Glut\n",
       "chr1_686   0.153739  0.165618  0.241090  0.087352  DG_Glut\n",
       "chr1_1020  0.092942  0.098532  0.144654  0.051712  DG_Glut\n",
       "chr1_1034  0.120196  0.122292  0.197065  0.076869  DG_Glut\n",
       "chr1_1346  0.145353  0.139064  0.201957  0.056604  DG_Glut"
      ]
     },
     "execution_count": 8,
     "metadata": {},
     "output_type": "execute_result"
    }
   ],
   "source": [
    "all_diff_domain = pd.read_csv('ALL.Diff.Domain.csv', index_col = 0)\n",
    "all_diff_domain = all_diff_domain[all_diff_domain['celltype'] == ct]\n",
    "all_diff_domain.head()"
   ]
  },
  {
   "cell_type": "code",
   "execution_count": 29,
   "id": "5fe699bb-8807-4f57-bc0d-0186adbc39e3",
   "metadata": {},
   "outputs": [
    {
     "data": {
      "text/html": [
       "<div>\n",
       "<style scoped>\n",
       "    .dataframe tbody tr th:only-of-type {\n",
       "        vertical-align: middle;\n",
       "    }\n",
       "\n",
       "    .dataframe tbody tr th {\n",
       "        vertical-align: top;\n",
       "    }\n",
       "\n",
       "    .dataframe thead th {\n",
       "        text-align: right;\n",
       "    }\n",
       "</style>\n",
       "<table border=\"1\" class=\"dataframe\">\n",
       "  <thead>\n",
       "    <tr style=\"text-align: right;\">\n",
       "      <th></th>\n",
       "      <th>p_val</th>\n",
       "      <th>avg_log2FC</th>\n",
       "      <th>pct.1</th>\n",
       "      <th>pct.2</th>\n",
       "      <th>p_val_adj</th>\n",
       "      <th>-log10(padj)</th>\n",
       "    </tr>\n",
       "  </thead>\n",
       "  <tbody>\n",
       "    <tr>\n",
       "      <th>Nrg1</th>\n",
       "      <td>0.0</td>\n",
       "      <td>1.279634</td>\n",
       "      <td>0.512</td>\n",
       "      <td>0.836</td>\n",
       "      <td>0.0</td>\n",
       "      <td>200.0</td>\n",
       "    </tr>\n",
       "    <tr>\n",
       "      <th>Snhg11</th>\n",
       "      <td>0.0</td>\n",
       "      <td>1.234044</td>\n",
       "      <td>0.407</td>\n",
       "      <td>0.702</td>\n",
       "      <td>0.0</td>\n",
       "      <td>200.0</td>\n",
       "    </tr>\n",
       "    <tr>\n",
       "      <th>Gm48530</th>\n",
       "      <td>0.0</td>\n",
       "      <td>2.092791</td>\n",
       "      <td>0.112</td>\n",
       "      <td>0.401</td>\n",
       "      <td>0.0</td>\n",
       "      <td>200.0</td>\n",
       "    </tr>\n",
       "    <tr>\n",
       "      <th>Zfp804b</th>\n",
       "      <td>0.0</td>\n",
       "      <td>1.415103</td>\n",
       "      <td>0.266</td>\n",
       "      <td>0.536</td>\n",
       "      <td>0.0</td>\n",
       "      <td>200.0</td>\n",
       "    </tr>\n",
       "    <tr>\n",
       "      <th>Xist</th>\n",
       "      <td>0.0</td>\n",
       "      <td>0.855881</td>\n",
       "      <td>0.562</td>\n",
       "      <td>0.827</td>\n",
       "      <td>0.0</td>\n",
       "      <td>200.0</td>\n",
       "    </tr>\n",
       "  </tbody>\n",
       "</table>\n",
       "</div>"
      ],
      "text/plain": [
       "         p_val  avg_log2FC  pct.1  pct.2  p_val_adj  -log10(padj)\n",
       "Nrg1       0.0    1.279634  0.512  0.836        0.0         200.0\n",
       "Snhg11     0.0    1.234044  0.407  0.702        0.0         200.0\n",
       "Gm48530    0.0    2.092791  0.112  0.401        0.0         200.0\n",
       "Zfp804b    0.0    1.415103  0.266  0.536        0.0         200.0\n",
       "Xist       0.0    0.855881  0.562  0.827        0.0         200.0"
      ]
     },
     "execution_count": 29,
     "metadata": {},
     "output_type": "execute_result"
    }
   ],
   "source": [
    "luisa_dir = '/home/qzeng_salk_edu/project/2404017_check_rna/luisa_deg'\n",
    "luisa_df = pd.read_csv(f'{luisa_dir}/{ct}.csv', index_col = 0)\n",
    "luisa_df['-log10(padj)'] = -np.log10(luisa_df['p_val_adj'] + 1e-200)\n",
    "luisa_df['avg_log2FC'] = -luisa_df['avg_log2FC']\n",
    "luisa_df.head()"
   ]
  },
  {
   "cell_type": "code",
   "execution_count": 36,
   "id": "d93eaf90-6c3c-4952-be37-f32bd7bf5034",
   "metadata": {},
   "outputs": [
    {
     "data": {
      "text/html": [
       "<div>\n",
       "<style scoped>\n",
       "    .dataframe tbody tr th:only-of-type {\n",
       "        vertical-align: middle;\n",
       "    }\n",
       "\n",
       "    .dataframe tbody tr th {\n",
       "        vertical-align: top;\n",
       "    }\n",
       "\n",
       "    .dataframe thead th {\n",
       "        text-align: right;\n",
       "    }\n",
       "</style>\n",
       "<table border=\"1\" class=\"dataframe\">\n",
       "  <thead>\n",
       "    <tr style=\"text-align: right;\">\n",
       "      <th></th>\n",
       "      <th>fc</th>\n",
       "      <th>fdr</th>\n",
       "      <th>log2(18mo/2mo)</th>\n",
       "      <th>-log10(padj)</th>\n",
       "    </tr>\n",
       "    <tr>\n",
       "      <th>gene</th>\n",
       "      <th></th>\n",
       "      <th></th>\n",
       "      <th></th>\n",
       "      <th></th>\n",
       "    </tr>\n",
       "  </thead>\n",
       "  <tbody>\n",
       "    <tr>\n",
       "      <th>Xkr4</th>\n",
       "      <td>0.878425</td>\n",
       "      <td>3.235856e-49</td>\n",
       "      <td>-0.187009</td>\n",
       "      <td>48.490011</td>\n",
       "    </tr>\n",
       "    <tr>\n",
       "      <th>Tcea1</th>\n",
       "      <td>1.077127</td>\n",
       "      <td>1.992782e-02</td>\n",
       "      <td>0.107188</td>\n",
       "      <td>1.700540</td>\n",
       "    </tr>\n",
       "    <tr>\n",
       "      <th>Atp6v1h</th>\n",
       "      <td>0.904945</td>\n",
       "      <td>1.262231e-16</td>\n",
       "      <td>-0.144098</td>\n",
       "      <td>15.898861</td>\n",
       "    </tr>\n",
       "    <tr>\n",
       "      <th>Rb1cc1</th>\n",
       "      <td>1.014312</td>\n",
       "      <td>3.347916e-01</td>\n",
       "      <td>0.020501</td>\n",
       "      <td>0.475225</td>\n",
       "    </tr>\n",
       "    <tr>\n",
       "      <th>St18</th>\n",
       "      <td>0.891766</td>\n",
       "      <td>9.261004e-18</td>\n",
       "      <td>-0.165263</td>\n",
       "      <td>17.033342</td>\n",
       "    </tr>\n",
       "  </tbody>\n",
       "</table>\n",
       "</div>"
      ],
      "text/plain": [
       "               fc           fdr  log2(18mo/2mo)  -log10(padj)\n",
       "gene                                                         \n",
       "Xkr4     0.878425  3.235856e-49       -0.187009     48.490011\n",
       "Tcea1    1.077127  1.992782e-02        0.107188      1.700540\n",
       "Atp6v1h  0.904945  1.262231e-16       -0.144098     15.898861\n",
       "Rb1cc1   1.014312  3.347916e-01        0.020501      0.475225\n",
       "St18     0.891766  9.261004e-18       -0.165263     17.033342"
      ]
     },
     "execution_count": 36,
     "metadata": {},
     "output_type": "execute_result"
    }
   ],
   "source": [
    "deg_df = get_deg(ct)\n",
    "deg_df.head()"
   ]
  },
  {
   "cell_type": "code",
   "execution_count": 37,
   "id": "8dfc24a4-5456-46b5-bdcc-d3efbbf522c2",
   "metadata": {},
   "outputs": [],
   "source": [
    "toplot = pd.concat([deg_df['log2(18mo/2mo)'], luisa_df['avg_log2FC']], axis = 1).dropna()"
   ]
  },
  {
   "cell_type": "code",
   "execution_count": 41,
   "id": "bab82390-aee7-46d9-b74e-0e51190c140b",
   "metadata": {},
   "outputs": [
    {
     "data": {
      "text/plain": [
       "[(-3.0, 3.0), (-3.0, 3.0)]"
      ]
     },
     "execution_count": 41,
     "metadata": {},
     "output_type": "execute_result"
    },
    {
     "data": {
      "image/png": "[encoded data removed]",
      "text/plain": [
       "<Figure size 450x450 with 1 Axes>"
      ]
     },
     "metadata": {},
     "output_type": "display_data"
    }
   ],
   "source": [
    "fig, ax = plt.subplots(figsize= (3,3), dpi = 150)\n",
    "sns.scatterplot(data = toplot,\n",
    "                ax = ax, s = 1, linewidth = 0,\n",
    "               x = 'log2(18mo/2mo)', y = 'avg_log2FC')\n",
    "ax.set(xlim= (-3,3),ylim= (-3,3))"
   ]
  },
  {
   "cell_type": "code",
   "execution_count": null,
   "id": "5b8816c1-351f-41b8-8fef-c9e5659df26a",
   "metadata": {},
   "outputs": [],
   "source": []
  },
  {
   "cell_type": "code",
   "execution_count": null,
   "id": "44e7dc57-9d73-48da-9e56-7de37c7ad902",
   "metadata": {},
   "outputs": [],
   "source": []
  },
  {
   "cell_type": "code",
   "execution_count": null,
   "id": "4e6c213e-00c9-4607-9b4b-a18d346403eb",
   "metadata": {},
   "outputs": [],
   "source": []
  },
  {
   "cell_type": "code",
   "execution_count": null,
   "id": "7410fc0f-0272-400b-bb7b-7ea1f1781b67",
   "metadata": {},
   "outputs": [],
   "source": []
  },
  {
   "cell_type": "code",
   "execution_count": null,
   "id": "d99b0a12-568f-45ee-ab89-beea1c86617b",
   "metadata": {},
   "outputs": [],
   "source": []
  },
  {
   "cell_type": "code",
   "execution_count": null,
   "id": "4d7c1fba-7375-4b44-9de5-5716df2fed5e",
   "metadata": {},
   "outputs": [],
   "source": []
  },
  {
   "cell_type": "code",
   "execution_count": null,
   "id": "1520b31b-71bc-4d5b-8b9f-89235943a69e",
   "metadata": {},
   "outputs": [],
   "source": []
  },
  {
   "cell_type": "code",
   "execution_count": null,
   "id": "eb3ee42b-e625-49fd-a2e5-3d6b9c69abfc",
   "metadata": {},
   "outputs": [],
   "source": []
  },
  {
   "cell_type": "code",
   "execution_count": null,
   "id": "c91b31b4-a581-444c-85a7-da63eee04fb5",
   "metadata": {},
   "outputs": [],
   "source": []
  },
  {
   "cell_type": "code",
   "execution_count": null,
   "id": "f3f7306c-25df-41a1-b86d-b03a38b5ca45",
   "metadata": {},
   "outputs": [],
   "source": []
  },
  {
   "cell_type": "code",
   "execution_count": null,
   "id": "8eacb6c4-c1ac-4f81-925a-10b7a062ec0b",
   "metadata": {},
   "outputs": [],
   "source": []
  },
  {
   "cell_type": "code",
   "execution_count": null,
   "id": "104b007f-42c6-4a4f-83ab-7df57d9e6da2",
   "metadata": {},
   "outputs": [],
   "source": []
  },
  {
   "cell_type": "code",
   "execution_count": null,
   "id": "57bc61c1-5fe7-4d4f-9031-dc716f270223",
   "metadata": {},
   "outputs": [],
   "source": []
  },
  {
   "cell_type": "code",
   "execution_count": null,
   "id": "7deb6072-3293-4d09-ba6e-4deb00d2763e",
   "metadata": {},
   "outputs": [],
   "source": []
  },
  {
   "cell_type": "code",
   "execution_count": null,
   "id": "50f6a4de-6afd-4550-a616-59e8dcdae01b",
   "metadata": {},
   "outputs": [],
   "source": []
  },
  {
   "cell_type": "code",
   "execution_count": null,
   "id": "da654644-9338-4236-bda9-4de503222be2",
   "metadata": {},
   "outputs": [],
   "source": []
  }
 ],
 "metadata": {
  "kernelspec": {
   "display_name": "Python 3 (ipykernel)",
   "language": "python",
   "name": "python3"
  },
  "language_info": {
   "codemirror_mode": {
    "name": "ipython",
    "version": 3
   },
   "file_extension": ".py",
   "mimetype": "text/x-python",
   "name": "python",
   "nbconvert_exporter": "python",
   "pygments_lexer": "ipython3",
   "version": "3.10.12"
  }
 },
 "nbformat": 4,
 "nbformat_minor": 5
}
