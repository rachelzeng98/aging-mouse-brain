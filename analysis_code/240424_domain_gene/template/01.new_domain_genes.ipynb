{
 "cells": [
  {
   "cell_type": "code",
   "execution_count": 1,
   "id": "43fcd531-1f24-4d24-a7ff-0b776a8456fc",
   "metadata": {},
   "outputs": [],
   "source": [
    "import glob\n",
    "import pandas as pd\n",
    "import pybedtools\n",
    "import numpy as np\n",
    "import matplotlib.pyplot as plt\n",
    "import seaborn as sns\n",
    "import pybedtools"
   ]
  },
  {
   "cell_type": "code",
   "execution_count": 1,
   "id": "8dd92609-a447-40d8-9458-87543934bbfa",
   "metadata": {},
   "outputs": [],
   "source": [
    "#group_name = 'CA3_Glut'"
   ]
  },
  {
   "cell_type": "code",
   "execution_count": 3,
   "id": "75cbf43b-3ed3-46c8-addf-d62b7b962eee",
   "metadata": {},
   "outputs": [],
   "source": [
    "ct = group_name\n",
    "res = 25000\n",
    "ddir = f'/data/female-amb/Diff.Result/CellType.Age.Diff.Domain/{ct}'\n",
    "_dir = '/home/qzeng_salk_edu/project'\n",
    "_min = 2e-308"
   ]
  },
  {
   "cell_type": "code",
   "execution_count": 4,
   "id": "e7bbf0cd-c6ee-4967-a9c7-159c1e891225",
   "metadata": {},
   "outputs": [],
   "source": [
    "binall = pd.read_csv(f'{_dir}/binall.csv',  index_col =0)\n",
    "binall.columns = ['chrom', 'start','end']"
   ]
  },
  {
   "cell_type": "code",
   "execution_count": 5,
   "id": "43b108b1-69fa-4c9f-9b6d-45f70e45d653",
   "metadata": {},
   "outputs": [
    {
     "data": {
      "text/html": [
       "<div>\n",
       "<style scoped>\n",
       "    .dataframe tbody tr th:only-of-type {\n",
       "        vertical-align: middle;\n",
       "    }\n",
       "\n",
       "    .dataframe tbody tr th {\n",
       "        vertical-align: top;\n",
       "    }\n",
       "\n",
       "    .dataframe thead th {\n",
       "        text-align: right;\n",
       "    }\n",
       "</style>\n",
       "<table border=\"1\" class=\"dataframe\">\n",
       "  <thead>\n",
       "    <tr style=\"text-align: right;\">\n",
       "      <th></th>\n",
       "      <th>chrom</th>\n",
       "      <th>start</th>\n",
       "      <th>end</th>\n",
       "      <th>8wk</th>\n",
       "      <th>9mo</th>\n",
       "      <th>18mo</th>\n",
       "      <th>18mo-8wk</th>\n",
       "      <th>celltype</th>\n",
       "    </tr>\n",
       "  </thead>\n",
       "  <tbody>\n",
       "    <tr>\n",
       "      <th>chr1_2080</th>\n",
       "      <td>chr1</td>\n",
       "      <td>52000000</td>\n",
       "      <td>52025000</td>\n",
       "      <td>0.047970</td>\n",
       "      <td>0.051661</td>\n",
       "      <td>0.154982</td>\n",
       "      <td>0.107011</td>\n",
       "      <td>CA3_Glut</td>\n",
       "    </tr>\n",
       "    <tr>\n",
       "      <th>chr1_2644</th>\n",
       "      <td>chr1</td>\n",
       "      <td>66100000</td>\n",
       "      <td>66125000</td>\n",
       "      <td>0.147601</td>\n",
       "      <td>0.136531</td>\n",
       "      <td>0.287823</td>\n",
       "      <td>0.140221</td>\n",
       "      <td>CA3_Glut</td>\n",
       "    </tr>\n",
       "    <tr>\n",
       "      <th>chr1_2931</th>\n",
       "      <td>chr1</td>\n",
       "      <td>73275000</td>\n",
       "      <td>73300000</td>\n",
       "      <td>0.040590</td>\n",
       "      <td>0.066421</td>\n",
       "      <td>0.125461</td>\n",
       "      <td>0.084871</td>\n",
       "      <td>CA3_Glut</td>\n",
       "    </tr>\n",
       "    <tr>\n",
       "      <th>chr1_3482</th>\n",
       "      <td>chr1</td>\n",
       "      <td>87050000</td>\n",
       "      <td>87075000</td>\n",
       "      <td>0.059041</td>\n",
       "      <td>0.077491</td>\n",
       "      <td>0.151292</td>\n",
       "      <td>0.092251</td>\n",
       "      <td>CA3_Glut</td>\n",
       "    </tr>\n",
       "    <tr>\n",
       "      <th>chr1_3498</th>\n",
       "      <td>chr1</td>\n",
       "      <td>87450000</td>\n",
       "      <td>87475000</td>\n",
       "      <td>0.092251</td>\n",
       "      <td>0.162362</td>\n",
       "      <td>0.214022</td>\n",
       "      <td>0.121771</td>\n",
       "      <td>CA3_Glut</td>\n",
       "    </tr>\n",
       "  </tbody>\n",
       "</table>\n",
       "</div>"
      ],
      "text/plain": [
       "          chrom     start       end       8wk       9mo      18mo  18mo-8wk  \\\n",
       "chr1_2080  chr1  52000000  52025000  0.047970  0.051661  0.154982  0.107011   \n",
       "chr1_2644  chr1  66100000  66125000  0.147601  0.136531  0.287823  0.140221   \n",
       "chr1_2931  chr1  73275000  73300000  0.040590  0.066421  0.125461  0.084871   \n",
       "chr1_3482  chr1  87050000  87075000  0.059041  0.077491  0.151292  0.092251   \n",
       "chr1_3498  chr1  87450000  87475000  0.092251  0.162362  0.214022  0.121771   \n",
       "\n",
       "           celltype  \n",
       "chr1_2080  CA3_Glut  \n",
       "chr1_2644  CA3_Glut  \n",
       "chr1_2931  CA3_Glut  \n",
       "chr1_3482  CA3_Glut  \n",
       "chr1_3498  CA3_Glut  "
      ]
     },
     "execution_count": 5,
     "metadata": {},
     "output_type": "execute_result"
    }
   ],
   "source": [
    "all_diff_domain = pd.read_csv('/home/qzeng_salk_edu/project/240424_domain_gene/ALL.Diff.Domain.csv', index_col = 0)\n",
    "ct_diff_domain = all_diff_domain[all_diff_domain['celltype'] == ct]\n",
    "ct_diff_domain =  ct_diff_domain[(ct_diff_domain['18mo-8wk'] > 0.05)]\n",
    "ct_diff_domain = pd.concat([ct_diff_domain, binall], axis = 1).dropna()\n",
    "ct_diff_domain = ct_diff_domain[[ 'chrom', 'start', 'end','8wk', '9mo', '18mo', '18mo-8wk', 'celltype']]\n",
    "ct_diff_domain.head()"
   ]
  },
  {
   "cell_type": "code",
   "execution_count": 6,
   "id": "4aaa7729-365e-49b7-94f5-b59d87161d07",
   "metadata": {},
   "outputs": [
    {
     "name": "stdout",
     "output_type": "stream",
     "text": [
      "131 diff domain boundary\n"
     ]
    }
   ],
   "source": [
    "print(f\"{ct_diff_domain.shape[0]} diff domain boundary\")"
   ]
  },
  {
   "cell_type": "markdown",
   "id": "f3a637c4-36e8-4c4e-81df-55225645ad93",
   "metadata": {},
   "source": [
    "## get TAD range"
   ]
  },
  {
   "cell_type": "code",
   "execution_count": 7,
   "id": "6c884bf0-9d3f-4b56-9909-4260c9292a81",
   "metadata": {},
   "outputs": [],
   "source": [
    "leg = [f'{ct}.{age}' for age in ['8wk','9mo','18mo']]\n",
    "ddir = f'/data/female-amb/Diff.Result/hicluster_bulk_domain/'"
   ]
  },
  {
   "cell_type": "code",
   "execution_count": 8,
   "id": "977755f6-3b07-42e4-9a30-3cd048e5e92c",
   "metadata": {},
   "outputs": [],
   "source": [
    "# bound_count_ct = pd.read_hdf(f'{ddir}/{ct}_boundcount.hdf', key='data').loc[leg]\n",
    "# cell_count_ct = pd.read_csv(f'{ddir}/{ct}_cellcount.csv.gz', index_col=0, header=0).loc[leg]['count']\n",
    "# bound_prob_ct = bound_count_ct /np.array(cell_count_ct)[:, None]\n",
    "# bound_prob_ct= bound_prob_ct.T\n",
    "# bound_prob_ct.head()"
   ]
  },
  {
   "cell_type": "code",
   "execution_count": 9,
   "id": "1118b081-b341-45c0-8cd6-34e6f190dfe8",
   "metadata": {},
   "outputs": [],
   "source": [
    "def find_nearest_domain(reference_index, df):\n",
    "    cutoff= 0\n",
    "    pos = df.index.get_loc(diff_domain)\n",
    "    tmp = df[f\"{ct}.8wk\"]\n",
    "    before = tmp.iloc[:pos][tmp.iloc[:pos] > cutoff]\n",
    "    after = tmp.iloc[pos + 1:][tmp.iloc[pos + 1:] > cutoff]\n",
    "    \n",
    "    nearest_before = before.index[-1] if not before.empty else None\n",
    "    nearest_after = after.index[0] if not after.empty else None\n",
    "    return nearest_before, nearest_after"
   ]
  },
  {
   "cell_type": "code",
   "execution_count": 10,
   "id": "9c2a7d54-d122-4792-b9e9-d54e4a5b86b1",
   "metadata": {},
   "outputs": [],
   "source": [
    "import anndata\n",
    "adata = anndata.read_h5ad(f\"{ddir}/{ct}.boundary.h5ad\")\n",
    "adata.var_names = adata.var.chrom.astype(str) + '_' + (adata.var.start // res).astype(str)"
   ]
  },
  {
   "cell_type": "code",
   "execution_count": 11,
   "id": "54bd5079-77ee-452a-948e-80873c323d41",
   "metadata": {},
   "outputs": [],
   "source": [
    "df = pd.DataFrame(adata.X.toarray().T, index = adata.var_names, columns = adata.obs_names)"
   ]
  },
  {
   "cell_type": "code",
   "execution_count": 12,
   "id": "1d2c9c44-374e-4cb3-bbde-d74829a77b14",
   "metadata": {},
   "outputs": [],
   "source": [
    "all_tad_start = []\n",
    "all_tad_end = []\n",
    "\n",
    "for diff_domain in ct_diff_domain.index:\n",
    "    nearest_before, nearest_after = find_nearest_domain(diff_domain, df)\n",
    "    nerest_tad_start = int(nearest_before.split('_')[-1])* res\n",
    "    nerest_tad_end = int(nearest_after.split('_')[-1])* res + res\n",
    "\n",
    "    all_tad_start.append(nerest_tad_start)\n",
    "    all_tad_end.append(nerest_tad_end)"
   ]
  },
  {
   "cell_type": "code",
   "execution_count": 13,
   "id": "bc4cb00e-5e41-4c84-bc7b-d6f3e264b403",
   "metadata": {},
   "outputs": [],
   "source": [
    "#slop = 500000\n",
    "ct_diff_domain['tad_start'] = all_tad_start\n",
    "ct_diff_domain['tad_end'] = all_tad_end"
   ]
  },
  {
   "cell_type": "markdown",
   "id": "a562474f-5bf5-4779-b22c-3cf128f11bd2",
   "metadata": {},
   "source": [
    "## inersect with gene"
   ]
  },
  {
   "cell_type": "code",
   "execution_count": 14,
   "id": "1a0ee524-61bc-48d6-912f-f9d01d16e992",
   "metadata": {},
   "outputs": [],
   "source": [
    "ct_diff_domain = ct_diff_domain[['chrom', 'tad_start', 'tad_end', '8wk', '9mo', '18mo', '18mo-8wk', 'celltype', 'start', 'end',]]"
   ]
  },
  {
   "cell_type": "code",
   "execution_count": 15,
   "id": "6a643b41-1f2f-4481-b971-35299e5de67b",
   "metadata": {},
   "outputs": [
    {
     "data": {
      "text/html": [
       "<div>\n",
       "<style scoped>\n",
       "    .dataframe tbody tr th:only-of-type {\n",
       "        vertical-align: middle;\n",
       "    }\n",
       "\n",
       "    .dataframe tbody tr th {\n",
       "        vertical-align: top;\n",
       "    }\n",
       "\n",
       "    .dataframe thead th {\n",
       "        text-align: right;\n",
       "    }\n",
       "</style>\n",
       "<table border=\"1\" class=\"dataframe\">\n",
       "  <thead>\n",
       "    <tr style=\"text-align: right;\">\n",
       "      <th></th>\n",
       "      <th>gene_chr</th>\n",
       "      <th>gene_start</th>\n",
       "      <th>gene_end</th>\n",
       "      <th>gene_name</th>\n",
       "      <th>strand</th>\n",
       "      <th>gene_type</th>\n",
       "      <th>gene_length</th>\n",
       "    </tr>\n",
       "  </thead>\n",
       "  <tbody>\n",
       "    <tr>\n",
       "      <th>0</th>\n",
       "      <td>chr1</td>\n",
       "      <td>3073253</td>\n",
       "      <td>3074322</td>\n",
       "      <td>4933401J01Rik</td>\n",
       "      <td>+</td>\n",
       "      <td>TEC</td>\n",
       "      <td>1069</td>\n",
       "    </tr>\n",
       "    <tr>\n",
       "      <th>1</th>\n",
       "      <td>chr1</td>\n",
       "      <td>3102016</td>\n",
       "      <td>3102125</td>\n",
       "      <td>Gm26206</td>\n",
       "      <td>+</td>\n",
       "      <td>snRNA</td>\n",
       "      <td>109</td>\n",
       "    </tr>\n",
       "    <tr>\n",
       "      <th>2</th>\n",
       "      <td>chr1</td>\n",
       "      <td>3205901</td>\n",
       "      <td>3671498</td>\n",
       "      <td>Xkr4</td>\n",
       "      <td>-</td>\n",
       "      <td>protein_coding</td>\n",
       "      <td>465597</td>\n",
       "    </tr>\n",
       "    <tr>\n",
       "      <th>3</th>\n",
       "      <td>chr1</td>\n",
       "      <td>3252757</td>\n",
       "      <td>3253236</td>\n",
       "      <td>Gm18956</td>\n",
       "      <td>+</td>\n",
       "      <td>processed_pseudogene</td>\n",
       "      <td>479</td>\n",
       "    </tr>\n",
       "    <tr>\n",
       "      <th>4</th>\n",
       "      <td>chr1</td>\n",
       "      <td>3365731</td>\n",
       "      <td>3368549</td>\n",
       "      <td>Gm37180</td>\n",
       "      <td>-</td>\n",
       "      <td>TEC</td>\n",
       "      <td>2818</td>\n",
       "    </tr>\n",
       "  </tbody>\n",
       "</table>\n",
       "</div>"
      ],
      "text/plain": [
       "  gene_chr  gene_start  gene_end      gene_name strand             gene_type  \\\n",
       "0     chr1     3073253   3074322  4933401J01Rik      +                   TEC   \n",
       "1     chr1     3102016   3102125        Gm26206      +                 snRNA   \n",
       "2     chr1     3205901   3671498           Xkr4      -        protein_coding   \n",
       "3     chr1     3252757   3253236        Gm18956      +  processed_pseudogene   \n",
       "4     chr1     3365731   3368549        Gm37180      -                   TEC   \n",
       "\n",
       "   gene_length  \n",
       "0         1069  \n",
       "1          109  \n",
       "2       465597  \n",
       "3          479  \n",
       "4         2818  "
      ]
     },
     "execution_count": 15,
     "metadata": {},
     "output_type": "execute_result"
    }
   ],
   "source": [
    "genes = pd.read_csv('/home/qzeng_salk_edu/project/240424_domain_gene/mm10.gene.bed', sep = '\\t', header = None)\n",
    "genes.columns = ['gene_chr','gene_start','gene_end','gene_name','strand','gene_type', 'gene_length']\n",
    "genes.head()"
   ]
  },
  {
   "cell_type": "code",
   "execution_count": 16,
   "id": "72f3d36b-1535-4d90-b439-3fc32a3692d6",
   "metadata": {},
   "outputs": [
    {
     "data": {
      "text/html": [
       "<div>\n",
       "<style scoped>\n",
       "    .dataframe tbody tr th:only-of-type {\n",
       "        vertical-align: middle;\n",
       "    }\n",
       "\n",
       "    .dataframe tbody tr th {\n",
       "        vertical-align: top;\n",
       "    }\n",
       "\n",
       "    .dataframe thead th {\n",
       "        text-align: right;\n",
       "    }\n",
       "</style>\n",
       "<table border=\"1\" class=\"dataframe\">\n",
       "  <thead>\n",
       "    <tr style=\"text-align: right;\">\n",
       "      <th></th>\n",
       "      <th>gene_chr</th>\n",
       "      <th>gene_start</th>\n",
       "      <th>gene_end</th>\n",
       "      <th>gene_name</th>\n",
       "      <th>strand</th>\n",
       "      <th>gene_type</th>\n",
       "      <th>gene_length</th>\n",
       "      <th>chrom</th>\n",
       "      <th>tad_start</th>\n",
       "      <th>tad_end</th>\n",
       "      <th>8wk</th>\n",
       "      <th>9mo</th>\n",
       "      <th>18mo</th>\n",
       "      <th>18mo-8wk</th>\n",
       "      <th>celltype</th>\n",
       "      <th>start</th>\n",
       "      <th>end</th>\n",
       "    </tr>\n",
       "  </thead>\n",
       "  <tbody>\n",
       "    <tr>\n",
       "      <th>0</th>\n",
       "      <td>chr1</td>\n",
       "      <td>51696324</td>\n",
       "      <td>51746943</td>\n",
       "      <td>Gm28055</td>\n",
       "      <td>-</td>\n",
       "      <td>lncRNA</td>\n",
       "      <td>50619</td>\n",
       "      <td>chr1</td>\n",
       "      <td>51625000</td>\n",
       "      <td>52150000</td>\n",
       "      <td>0.04797</td>\n",
       "      <td>0.051661</td>\n",
       "      <td>0.154982</td>\n",
       "      <td>0.107011</td>\n",
       "      <td>CA3_Glut</td>\n",
       "      <td>52000000</td>\n",
       "      <td>52025000</td>\n",
       "    </tr>\n",
       "    <tr>\n",
       "      <th>1</th>\n",
       "      <td>chr1</td>\n",
       "      <td>51749765</td>\n",
       "      <td>51916071</td>\n",
       "      <td>Myo1b</td>\n",
       "      <td>-</td>\n",
       "      <td>protein_coding</td>\n",
       "      <td>166306</td>\n",
       "      <td>chr1</td>\n",
       "      <td>51625000</td>\n",
       "      <td>52150000</td>\n",
       "      <td>0.04797</td>\n",
       "      <td>0.051661</td>\n",
       "      <td>0.154982</td>\n",
       "      <td>0.107011</td>\n",
       "      <td>CA3_Glut</td>\n",
       "      <td>52000000</td>\n",
       "      <td>52025000</td>\n",
       "    </tr>\n",
       "    <tr>\n",
       "      <th>2</th>\n",
       "      <td>chr1</td>\n",
       "      <td>51847840</td>\n",
       "      <td>51849118</td>\n",
       "      <td>Gm29453</td>\n",
       "      <td>-</td>\n",
       "      <td>lncRNA</td>\n",
       "      <td>1278</td>\n",
       "      <td>chr1</td>\n",
       "      <td>51625000</td>\n",
       "      <td>52150000</td>\n",
       "      <td>0.04797</td>\n",
       "      <td>0.051661</td>\n",
       "      <td>0.154982</td>\n",
       "      <td>0.107011</td>\n",
       "      <td>CA3_Glut</td>\n",
       "      <td>52000000</td>\n",
       "      <td>52025000</td>\n",
       "    </tr>\n",
       "    <tr>\n",
       "      <th>3</th>\n",
       "      <td>chr1</td>\n",
       "      <td>51877110</td>\n",
       "      <td>51879608</td>\n",
       "      <td>Gm28323</td>\n",
       "      <td>-</td>\n",
       "      <td>lncRNA</td>\n",
       "      <td>2498</td>\n",
       "      <td>chr1</td>\n",
       "      <td>51625000</td>\n",
       "      <td>52150000</td>\n",
       "      <td>0.04797</td>\n",
       "      <td>0.051661</td>\n",
       "      <td>0.154982</td>\n",
       "      <td>0.107011</td>\n",
       "      <td>CA3_Glut</td>\n",
       "      <td>52000000</td>\n",
       "      <td>52025000</td>\n",
       "    </tr>\n",
       "    <tr>\n",
       "      <th>4</th>\n",
       "      <td>chr1</td>\n",
       "      <td>51938254</td>\n",
       "      <td>51938665</td>\n",
       "      <td>Gm8419</td>\n",
       "      <td>-</td>\n",
       "      <td>processed_pseudogene</td>\n",
       "      <td>411</td>\n",
       "      <td>chr1</td>\n",
       "      <td>51625000</td>\n",
       "      <td>52150000</td>\n",
       "      <td>0.04797</td>\n",
       "      <td>0.051661</td>\n",
       "      <td>0.154982</td>\n",
       "      <td>0.107011</td>\n",
       "      <td>CA3_Glut</td>\n",
       "      <td>52000000</td>\n",
       "      <td>52025000</td>\n",
       "    </tr>\n",
       "  </tbody>\n",
       "</table>\n",
       "</div>"
      ],
      "text/plain": [
       "  gene_chr  gene_start  gene_end gene_name strand             gene_type  \\\n",
       "0     chr1    51696324  51746943   Gm28055      -                lncRNA   \n",
       "1     chr1    51749765  51916071     Myo1b      -        protein_coding   \n",
       "2     chr1    51847840  51849118   Gm29453      -                lncRNA   \n",
       "3     chr1    51877110  51879608   Gm28323      -                lncRNA   \n",
       "4     chr1    51938254  51938665    Gm8419      -  processed_pseudogene   \n",
       "\n",
       "   gene_length chrom  tad_start   tad_end      8wk       9mo      18mo  \\\n",
       "0        50619  chr1   51625000  52150000  0.04797  0.051661  0.154982   \n",
       "1       166306  chr1   51625000  52150000  0.04797  0.051661  0.154982   \n",
       "2         1278  chr1   51625000  52150000  0.04797  0.051661  0.154982   \n",
       "3         2498  chr1   51625000  52150000  0.04797  0.051661  0.154982   \n",
       "4          411  chr1   51625000  52150000  0.04797  0.051661  0.154982   \n",
       "\n",
       "   18mo-8wk  celltype     start       end  \n",
       "0  0.107011  CA3_Glut  52000000  52025000  \n",
       "1  0.107011  CA3_Glut  52000000  52025000  \n",
       "2  0.107011  CA3_Glut  52000000  52025000  \n",
       "3  0.107011  CA3_Glut  52000000  52025000  \n",
       "4  0.107011  CA3_Glut  52000000  52025000  "
      ]
     },
     "execution_count": 16,
     "metadata": {},
     "output_type": "execute_result"
    }
   ],
   "source": [
    "genes_bed = pybedtools.BedTool.from_dataframe(genes)\n",
    "ct_diff_domain_bed = pybedtools.BedTool.from_dataframe(ct_diff_domain)\n",
    "# Find overlaps\n",
    "overlaps = genes_bed.intersect(ct_diff_domain_bed, wa=True, wb=True, f =0.9)\n",
    "overlaps_df = overlaps.to_dataframe(names = genes.columns.tolist() + ct_diff_domain.columns.tolist())\n",
    "overlaps_df.head()"
   ]
  },
  {
   "cell_type": "code",
   "execution_count": 17,
   "id": "d00ae08b-35f5-45a8-ba20-09756f65d9f3",
   "metadata": {},
   "outputs": [
    {
     "name": "stdout",
     "output_type": "stream",
     "text": [
      "2265 genes overlap with the TAD boundary\n"
     ]
    }
   ],
   "source": [
    "print(f\"{overlaps_df.shape[0]} genes overlap with the TAD boundary\")"
   ]
  },
  {
   "cell_type": "code",
   "execution_count": 18,
   "id": "f45a03e7-f71b-4e7d-9c35-616883baa2ed",
   "metadata": {},
   "outputs": [],
   "source": [
    "overlaps_df.to_csv('All.Overlap.Domain.Genes.csv')"
   ]
  },
  {
   "cell_type": "code",
   "execution_count": 19,
   "id": "6f5e41a0-e145-4d45-a57f-4863b4b65717",
   "metadata": {},
   "outputs": [],
   "source": [
    "deg_dir = f'/data/female-amb/Diff.Result/DEG.stats/{ct}'\n",
    "expr = pd.read_hdf(f'{deg_dir}/expr.hdf').T\n",
    "use_genes = expr[expr.sum(axis = 1) > 0.1].index\n",
    "stats = np.load(f\"{deg_dir}/{ct}.2mo-{ct}.18mo.npz\") #fc:(2mo/18mo)"
   ]
  },
  {
   "cell_type": "code",
   "execution_count": 20,
   "id": "fcf76ede-8161-44d9-a93d-8825afe69673",
   "metadata": {},
   "outputs": [],
   "source": [
    "all_gene_result = pd.DataFrame({'fc': (expr[f'{ct}.18mo'] /expr[f'{ct}.2mo']).values,'fdr':stats['fdr']}, index = expr.index).loc[use_genes]\n",
    "all_gene_result['log2(18mo/2mo)'] = np.log2(all_gene_result['fc']) \n",
    "all_gene_result['-log10(padj)'] = -np.log10(all_gene_result['fdr'] + _min)\n",
    "all_gene_result =all_gene_result[all_gene_result['fdr'] != 1]\n",
    "all_gene_result = all_gene_result[~all_gene_result.index.str.startswith('Gm')]\n",
    "deg_result = all_gene_result[(all_gene_result['fdr'] < 0.01) & (abs(all_gene_result['log2(18mo/2mo)']) > 0.1)]"
   ]
  },
  {
   "cell_type": "code",
   "execution_count": 21,
   "id": "60fdcfbc-8461-42fa-83bd-dccf59d7e732",
   "metadata": {},
   "outputs": [],
   "source": [
    "#all_gene_result = all_gene_result.loc[all_gene_result.index.isin(overlaps_df['gene_name'].values)]"
   ]
  },
  {
   "cell_type": "code",
   "execution_count": 22,
   "id": "35cfa533-a249-4160-b262-23224877ea27",
   "metadata": {},
   "outputs": [
    {
     "data": {
      "text/html": [
       "<div>\n",
       "<style scoped>\n",
       "    .dataframe tbody tr th:only-of-type {\n",
       "        vertical-align: middle;\n",
       "    }\n",
       "\n",
       "    .dataframe tbody tr th {\n",
       "        vertical-align: top;\n",
       "    }\n",
       "\n",
       "    .dataframe thead th {\n",
       "        text-align: right;\n",
       "    }\n",
       "</style>\n",
       "<table border=\"1\" class=\"dataframe\">\n",
       "  <thead>\n",
       "    <tr style=\"text-align: right;\">\n",
       "      <th></th>\n",
       "      <th>fc</th>\n",
       "      <th>fdr</th>\n",
       "      <th>log2(18mo/2mo)</th>\n",
       "      <th>-log10(padj)</th>\n",
       "      <th>gene_length</th>\n",
       "      <th>abs_log2(18mo/2mo)</th>\n",
       "    </tr>\n",
       "    <tr>\n",
       "      <th>gene</th>\n",
       "      <th></th>\n",
       "      <th></th>\n",
       "      <th></th>\n",
       "      <th></th>\n",
       "      <th></th>\n",
       "      <th></th>\n",
       "    </tr>\n",
       "  </thead>\n",
       "  <tbody>\n",
       "    <tr>\n",
       "      <th>Cox4i1</th>\n",
       "      <td>0.455806</td>\n",
       "      <td>5.118455e-24</td>\n",
       "      <td>-1.133510</td>\n",
       "      <td>23.290861</td>\n",
       "      <td>5985</td>\n",
       "      <td>1.133510</td>\n",
       "    </tr>\n",
       "    <tr>\n",
       "      <th>Itm2b</th>\n",
       "      <td>0.722183</td>\n",
       "      <td>4.974261e-23</td>\n",
       "      <td>-0.469564</td>\n",
       "      <td>22.303271</td>\n",
       "      <td>23063</td>\n",
       "      <td>0.469564</td>\n",
       "    </tr>\n",
       "    <tr>\n",
       "      <th>Foxg1</th>\n",
       "      <td>0.706159</td>\n",
       "      <td>4.116798e-17</td>\n",
       "      <td>-0.501936</td>\n",
       "      <td>16.385440</td>\n",
       "      <td>4201</td>\n",
       "      <td>0.501936</td>\n",
       "    </tr>\n",
       "    <tr>\n",
       "      <th>Neto2</th>\n",
       "      <td>0.784152</td>\n",
       "      <td>6.189642e-14</td>\n",
       "      <td>-0.350794</td>\n",
       "      <td>13.208334</td>\n",
       "      <td>64336</td>\n",
       "      <td>0.350794</td>\n",
       "    </tr>\n",
       "    <tr>\n",
       "      <th>Ociad1</th>\n",
       "      <td>0.766705</td>\n",
       "      <td>1.186639e-12</td>\n",
       "      <td>-0.383257</td>\n",
       "      <td>11.925681</td>\n",
       "      <td>21285</td>\n",
       "      <td>0.383257</td>\n",
       "    </tr>\n",
       "  </tbody>\n",
       "</table>\n",
       "</div>"
      ],
      "text/plain": [
       "              fc           fdr  log2(18mo/2mo)  -log10(padj)  gene_length  \\\n",
       "gene                                                                        \n",
       "Cox4i1  0.455806  5.118455e-24       -1.133510     23.290861         5985   \n",
       "Itm2b   0.722183  4.974261e-23       -0.469564     22.303271        23063   \n",
       "Foxg1   0.706159  4.116798e-17       -0.501936     16.385440         4201   \n",
       "Neto2   0.784152  6.189642e-14       -0.350794     13.208334        64336   \n",
       "Ociad1  0.766705  1.186639e-12       -0.383257     11.925681        21285   \n",
       "\n",
       "        abs_log2(18mo/2mo)  \n",
       "gene                        \n",
       "Cox4i1            1.133510  \n",
       "Itm2b             0.469564  \n",
       "Foxg1             0.501936  \n",
       "Neto2             0.350794  \n",
       "Ociad1            0.383257  "
      ]
     },
     "execution_count": 22,
     "metadata": {},
     "output_type": "execute_result"
    }
   ],
   "source": [
    "overlap_deg_result = deg_result.loc[deg_result.index.isin(overlaps_df['gene_name'].values)]\n",
    "overlap_deg_result['gene_length'] = overlap_deg_result.index.map(overlaps_df.set_index('gene_name')['gene_length'].to_dict())\n",
    "overlap_deg_result['abs_log2(18mo/2mo)'] = abs(overlap_deg_result['log2(18mo/2mo)'])\n",
    "overlap_deg_result.sort_values('fdr').head()"
   ]
  },
  {
   "cell_type": "code",
   "execution_count": 23,
   "id": "afa24f29-949f-4df4-be23-9fe153c4cee5",
   "metadata": {},
   "outputs": [
    {
     "data": {
      "text/plain": [
       "[(-3.0, 3.0)]"
      ]
     },
     "execution_count": 23,
     "metadata": {},
     "output_type": "execute_result"
    },
    {
     "data": {
      "image/png": "[encoded data removed]",
      "text/plain": [
       "<Figure size 600x600 with 1 Axes>"
      ]
     },
     "metadata": {},
     "output_type": "display_data"
    }
   ],
   "source": [
    "ncols = 1\n",
    "nrows = 1\n",
    "\n",
    "fig, ax = plt.subplots(figsize = (ncols*3,nrows*3), \n",
    "                         ncols = ncols, nrows = nrows, \n",
    "                         dpi = 200, constrained_layout = True)\n",
    "\n",
    "sns.scatterplot(data = deg_result,\n",
    "                    linewidth = 0,\n",
    "                    ax = ax,\n",
    "                    color = 'lightgrey',\n",
    "                    s = 3,\n",
    "                    x = 'log2(18mo/2mo)',\n",
    "                    y = '-log10(padj)')\n",
    "\n",
    "sns.scatterplot(data = overlap_deg_result[overlap_deg_result['log2(18mo/2mo)'] < 0],\n",
    "                    linewidth = 0,\n",
    "                    ax = ax,\n",
    "                    color = 'blue',\n",
    "                    s = 3,\n",
    "                    x = 'log2(18mo/2mo)',\n",
    "                    y = '-log10(padj)')\n",
    "\n",
    "sns.scatterplot(data = overlap_deg_result[overlap_deg_result['log2(18mo/2mo)'] > 0],\n",
    "                    linewidth = 0,\n",
    "                    ax = ax,\n",
    "                    color = 'red',\n",
    "                    s = 3,\n",
    "                    x = 'log2(18mo/2mo)',\n",
    "                    y = '-log10(padj)')\n",
    "ax.set_title(ct)\n",
    "ax.set(xlim = (-3,3))\n",
    "\n",
    "# top_genes = overlap_deg_result[(overlap_deg_result['abs_log2(18mo/2mo)'] > 0.5)]\n",
    "# top_genes = top_genes.sort_values('fdr').head(10)\n",
    "# for _, row in top_genes.iterrows():\n",
    "#     ax.annotate(row.name, (row['log2(18mo/2mo)'], row['-log10(padj)']), \n",
    "#                 textcoords=\"offset points\", xytext=(0,2), ha='center', fontsize = 5)\n"
   ]
  },
  {
   "cell_type": "code",
   "execution_count": 24,
   "id": "3c62291e-cd87-4ef6-a208-66d49db664a4",
   "metadata": {},
   "outputs": [],
   "source": [
    "overlap_deg_result.to_csv('DiffExpress.DomainGene.csv')"
   ]
  },
  {
   "cell_type": "code",
   "execution_count": null,
   "id": "35e7cab9-b033-4dc0-a59d-1d8f2fa401ed",
   "metadata": {},
   "outputs": [],
   "source": []
  },
  {
   "cell_type": "code",
   "execution_count": null,
   "id": "e60032a1-40a2-4967-b248-0cdccc82ba74",
   "metadata": {},
   "outputs": [],
   "source": []
  },
  {
   "cell_type": "code",
   "execution_count": null,
   "id": "1a469606-07d3-414f-b4f0-3dccbde7d414",
   "metadata": {},
   "outputs": [],
   "source": []
  },
  {
   "cell_type": "code",
   "execution_count": null,
   "id": "9947fceb-fec8-4baf-b973-9e0d3088975b",
   "metadata": {},
   "outputs": [],
   "source": []
  },
  {
   "cell_type": "code",
   "execution_count": null,
   "id": "49468c6d-c157-43dd-b25e-de5aa5837201",
   "metadata": {},
   "outputs": [],
   "source": []
  },
  {
   "cell_type": "code",
   "execution_count": null,
   "id": "175f8442-30c2-4b1b-a70c-46ef637d6e68",
   "metadata": {},
   "outputs": [],
   "source": []
  },
  {
   "cell_type": "code",
   "execution_count": null,
   "id": "fff31e52-c80f-4523-89bc-5bf225f16ccc",
   "metadata": {},
   "outputs": [],
   "source": []
  }
 ],
 "metadata": {
  "kernelspec": {
   "display_name": "Python 3 (ipykernel)",
   "language": "python",
   "name": "python3"
  },
  "language_info": {
   "codemirror_mode": {
    "name": "ipython",
    "version": 3
   },
   "file_extension": ".py",
   "mimetype": "text/x-python",
   "name": "python",
   "nbconvert_exporter": "python",
   "pygments_lexer": "ipython3",
   "version": "3.10.12"
  }
 },
 "nbformat": 4,
 "nbformat_minor": 5
}
