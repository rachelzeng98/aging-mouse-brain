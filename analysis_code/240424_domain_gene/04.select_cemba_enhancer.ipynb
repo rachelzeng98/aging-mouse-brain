{
 "cells": [
  {
   "cell_type": "code",
   "execution_count": 1,
   "id": "1ed8057f-b7a6-4c4b-8fff-f88bf1390085",
   "metadata": {},
   "outputs": [],
   "source": [
    "import pandas as pd\n",
    "import glob"
   ]
  },
  {
   "cell_type": "code",
   "execution_count": 2,
   "id": "8423fb90-e92b-41bc-906f-d7a32a6146b5",
   "metadata": {},
   "outputs": [],
   "source": [
    "ct = 'DG_Glut'\n",
    "degs = pd.read_csv(f\"New.Domain.Genes.Expression/{ct}/DiffExpress.DomainGene.csv\", index_col = 0)\n",
    "degs =degs[(degs['log2(18mo/2mo)'] <-0.2) & (degs['fdr'] < 1e-3)]"
   ]
  },
  {
   "cell_type": "code",
   "execution_count": 3,
   "id": "b12b444b-ad62-462b-ac31-643d9c0a72b1",
   "metadata": {},
   "outputs": [],
   "source": [
    "# degs = []\n",
    "# for file_path in glob.glob(f\"New.Domain.Genes.Expression/*/DiffExpress.DomainGene.csv\"):\n",
    "#     ct = file_path.split('/')[-2]\n",
    "#     tmpdf = pd.read_csv(file_path, index_col =0)\n",
    "#     tmpdf['celltype'] = ct\n",
    "#     DEGs.append(tmpdf)\n",
    "\n",
    "# degs = pd.concat(degs)\n",
    "# degs =degs[(degs['log2(18mo/2mo)'] <-0.2) & (degs['fdr'] < 1e-3)]"
   ]
  },
  {
   "cell_type": "code",
   "execution_count": 4,
   "id": "0a9fda6d-7489-4c53-8353-f1620f0a345d",
   "metadata": {},
   "outputs": [],
   "source": [
    "cemba_corr = pd.read_csv('/data/CembaData/TotalGeneDMRTF.NNZCorrRecords.All.Filtered.csv', index_col =0)"
   ]
  },
  {
   "cell_type": "code",
   "execution_count": 5,
   "id": "63630411-3dd9-4124-85ef-d017f7a501cd",
   "metadata": {},
   "outputs": [
    {
     "data": {
      "text/plain": [
       "129"
      ]
     },
     "execution_count": 5,
     "metadata": {},
     "output_type": "execute_result"
    }
   ],
   "source": [
    "shared_genes = degs.index.intersection(cemba_corr['gene_name'])\n",
    "len(shared_genes)"
   ]
  },
  {
   "cell_type": "code",
   "execution_count": 6,
   "id": "e5164124-9b1a-46bb-a42d-a41e2dea9ad7",
   "metadata": {},
   "outputs": [],
   "source": [
    "degs = degs.loc[shared_genes]\n",
    "deg_cember_corr = cemba_corr[cemba_corr['gene_name'].isin(shared_genes)]"
   ]
  },
  {
   "cell_type": "markdown",
   "id": "b40d0566-7c64-42a4-ba91-29bbc9ab3e79",
   "metadata": {},
   "source": [
    "## find examples"
   ]
  },
  {
   "cell_type": "code",
   "execution_count": 7,
   "id": "0e9aeddf-b8e5-4b65-834b-a32568fdf8f5",
   "metadata": {},
   "outputs": [],
   "source": [
    "# find regions outside the splitted domain\n",
    "domain_info = pd.read_csv(f'New.Domain.Genes.Expression/{ct}/All.Overlap.Domain.Genes.csv', index_col =0).set_index('gene_name')\n",
    "domain_info = domain_info[['chrom','gene_start','gene_end','tad_start','tad_end','start','end']]\n",
    "domain_info.columns = ['chrom','gene_start','gene_end','tad_start','tad_end','boundary_start','boundary_end']\n",
    "\n",
    "deg_domain_info = domain_info.loc[shared_genes].drop_duplicates(keep = 'first')"
   ]
  },
  {
   "cell_type": "code",
   "execution_count": 12,
   "id": "bbad7cf6-03de-48e5-bdfa-5beb0f9b7834",
   "metadata": {},
   "outputs": [],
   "source": [
    "# # genes with diff bounday not as boundary in young\n",
    "# all_diff = pd.read_csv('ALL.Diff.Domain.csv', index_col =0)\n",
    "# all_diff = all_diff[all_diff['celltype'] == ct]\n",
    "# all_diff = all_diff[(all_diff['8wk'] < 0.15) ] #& (all_diff['18mo-8wk'] > 0.05)\n",
    "\n",
    "# deg_domain_info['domain_id'] = deg_domain_info['chrom'] + '_' + (deg_domain_info['tad_start'] // 25000).astype(str)\n",
    "# deg_domain_info = deg_domain_info[deg_domain_info['domain_id'].isin(all_diff.index)]\n",
    "\n",
    "# deg_cember_corr = deg_cember_corr[deg_cember_corr['gene_name'].isin(deg_domain_info.index)]"
   ]
  },
  {
   "cell_type": "code",
   "execution_count": 8,
   "id": "16bf8ee3-ca9d-4960-aa6e-6ddcd8f85c9d",
   "metadata": {},
   "outputs": [],
   "source": [
    "gene_enhancer_region = {}\n",
    "\n",
    "for _,row in deg_domain_info.iterrows():\n",
    "    if row['gene_start'] < row['boundary_start']:\n",
    "        enhancer_region  = (row['tad_start'], row['boundary_end'])\n",
    "    elif row['gene_end'] > row['boundary_end']:\n",
    "        enhancer_region  = (row['boundary_start'], row['tad_end'])\n",
    "    gene_enhancer_region[row.name] = enhancer_region"
   ]
  },
  {
   "cell_type": "code",
   "execution_count": 9,
   "id": "51ab3ef7-322b-48ef-ba32-571220650757",
   "metadata": {},
   "outputs": [],
   "source": [
    "from collections import defaultdict\n",
    "gene_dmrs = defaultdict(set)\n",
    "\n",
    "for gene , tmpdf in deg_cember_corr.groupby('gene_name'):\n",
    "    enhancer_region = gene_enhancer_region[gene]\n",
    "    for _dmr in tmpdf['dmr']:\n",
    "        dmr_pos  = int(_dmr.split('-')[-1])\n",
    "        if dmr_pos < enhancer_region[0] or  dmr_pos > enhancer_region[1]:\n",
    "            gene_dmrs[gene].add(_dmr)"
   ]
  },
  {
   "cell_type": "code",
   "execution_count": 10,
   "id": "b2f60bac-a2f6-4f40-ac48-3fa01caab497",
   "metadata": {},
   "outputs": [],
   "source": [
    "tmp = deg_cember_corr[deg_cember_corr['gene_name'].isin(gene_dmrs.keys())]"
   ]
  },
  {
   "cell_type": "markdown",
   "id": "903a1fc5-a3e1-417f-a263-a40ad957b007",
   "metadata": {},
   "source": [
    "## find example"
   ]
  },
  {
   "cell_type": "code",
   "execution_count": 11,
   "id": "72cf87be-6685-4b3a-9159-0baac787ef83",
   "metadata": {},
   "outputs": [],
   "source": [
    "gene_name = 'Pigk'"
   ]
  },
  {
   "cell_type": "code",
   "execution_count": 12,
   "id": "a4db4d4a-dddc-4f2f-a92d-282198ba0d8e",
   "metadata": {
    "scrolled": true
   },
   "outputs": [
    {
     "data": {
      "text/html": [
       "<div>\n",
       "<style scoped>\n",
       "    .dataframe tbody tr th:only-of-type {\n",
       "        vertical-align: middle;\n",
       "    }\n",
       "\n",
       "    .dataframe tbody tr th {\n",
       "        vertical-align: top;\n",
       "    }\n",
       "\n",
       "    .dataframe thead th {\n",
       "        text-align: right;\n",
       "    }\n",
       "</style>\n",
       "<table border=\"1\" class=\"dataframe\">\n",
       "  <thead>\n",
       "    <tr style=\"text-align: right;\">\n",
       "      <th></th>\n",
       "      <th>0</th>\n",
       "      <th>1</th>\n",
       "      <th>2</th>\n",
       "      <th>3</th>\n",
       "      <th>4</th>\n",
       "      <th>5</th>\n",
       "      <th>6</th>\n",
       "    </tr>\n",
       "  </thead>\n",
       "  <tbody>\n",
       "    <tr>\n",
       "      <th>24609</th>\n",
       "      <td>chr3</td>\n",
       "      <td>152711599</td>\n",
       "      <td>152716600</td>\n",
       "      <td>ENSMUSG00000039047.13</td>\n",
       "      <td>+</td>\n",
       "      <td>Pigk</td>\n",
       "      <td>protein_coding</td>\n",
       "    </tr>\n",
       "  </tbody>\n",
       "</table>\n",
       "</div>"
      ],
      "text/plain": [
       "          0          1          2                      3  4     5  \\\n",
       "24609  chr3  152711599  152716600  ENSMUSG00000039047.13  +  Pigk   \n",
       "\n",
       "                    6  \n",
       "24609  protein_coding  "
      ]
     },
     "execution_count": 12,
     "metadata": {},
     "output_type": "execute_result"
    }
   ],
   "source": [
    "promoter = pd.read_csv('/data/ref/mouse/genome_anno/mm10_promoter.bed', sep = '\\t', header = None)\n",
    "promoter[promoter[5] == gene_name]"
   ]
  },
  {
   "cell_type": "code",
   "execution_count": 13,
   "id": "70956ed0-badb-4e4a-9f05-5db626fae6df",
   "metadata": {},
   "outputs": [
    {
     "data": {
      "text/html": [
       "<div>\n",
       "<style scoped>\n",
       "    .dataframe tbody tr th:only-of-type {\n",
       "        vertical-align: middle;\n",
       "    }\n",
       "\n",
       "    .dataframe tbody tr th {\n",
       "        vertical-align: top;\n",
       "    }\n",
       "\n",
       "    .dataframe thead th {\n",
       "        text-align: right;\n",
       "    }\n",
       "</style>\n",
       "<table border=\"1\" class=\"dataframe\">\n",
       "  <thead>\n",
       "    <tr style=\"text-align: right;\">\n",
       "      <th></th>\n",
       "      <th>dmr</th>\n",
       "      <th>tf</th>\n",
       "      <th>loop</th>\n",
       "      <th>tf-self-loop</th>\n",
       "      <th>gene-dmr-corr</th>\n",
       "      <th>gene-dot-corr</th>\n",
       "      <th>tf-dmr-corr</th>\n",
       "      <th>gene-tf-corr</th>\n",
       "      <th>final-corr</th>\n",
       "      <th>gene_name</th>\n",
       "      <th>tf_name</th>\n",
       "    </tr>\n",
       "    <tr>\n",
       "      <th>gene</th>\n",
       "      <th></th>\n",
       "      <th></th>\n",
       "      <th></th>\n",
       "      <th></th>\n",
       "      <th></th>\n",
       "      <th></th>\n",
       "      <th></th>\n",
       "      <th></th>\n",
       "      <th></th>\n",
       "      <th></th>\n",
       "      <th></th>\n",
       "    </tr>\n",
       "  </thead>\n",
       "  <tbody>\n",
       "    <tr>\n",
       "      <th>ENSMUSG00000039047</th>\n",
       "      <td>chr3-152978527</td>\n",
       "      <td>ENSMUSG00000042903</td>\n",
       "      <td>chr3-15280-15297</td>\n",
       "      <td>False</td>\n",
       "      <td>0.852051</td>\n",
       "      <td>0.505525</td>\n",
       "      <td>0.356201</td>\n",
       "      <td>0.3110</td>\n",
       "      <td>0.467375</td>\n",
       "      <td>Pigk</td>\n",
       "      <td>Foxo4</td>\n",
       "    </tr>\n",
       "    <tr>\n",
       "      <th>ENSMUSG00000039047</th>\n",
       "      <td>chr3-152974381</td>\n",
       "      <td>ENSMUSG00000033863</td>\n",
       "      <td>chr3-15280-15297</td>\n",
       "      <td>False</td>\n",
       "      <td>0.815918</td>\n",
       "      <td>0.505525</td>\n",
       "      <td>0.472412</td>\n",
       "      <td>0.3303</td>\n",
       "      <td>0.503722</td>\n",
       "      <td>Pigk</td>\n",
       "      <td>Klf9</td>\n",
       "    </tr>\n",
       "    <tr>\n",
       "      <th>ENSMUSG00000039047</th>\n",
       "      <td>chr3-152974381</td>\n",
       "      <td>ENSMUSG00000034041</td>\n",
       "      <td>chr3-15280-15297</td>\n",
       "      <td>False</td>\n",
       "      <td>0.815918</td>\n",
       "      <td>0.505525</td>\n",
       "      <td>0.408936</td>\n",
       "      <td>0.3335</td>\n",
       "      <td>0.487062</td>\n",
       "      <td>Pigk</td>\n",
       "      <td>Lyl1</td>\n",
       "    </tr>\n",
       "    <tr>\n",
       "      <th>ENSMUSG00000039047</th>\n",
       "      <td>chr3-152974381</td>\n",
       "      <td>ENSMUSG00000023034</td>\n",
       "      <td>chr3-15280-15297</td>\n",
       "      <td>False</td>\n",
       "      <td>0.815918</td>\n",
       "      <td>0.505525</td>\n",
       "      <td>0.513184</td>\n",
       "      <td>0.3594</td>\n",
       "      <td>0.525167</td>\n",
       "      <td>Pigk</td>\n",
       "      <td>Nr4a1</td>\n",
       "    </tr>\n",
       "    <tr>\n",
       "      <th>ENSMUSG00000039047</th>\n",
       "      <td>chr3-152974381</td>\n",
       "      <td>ENSMUSG00000009471</td>\n",
       "      <td>chr3-15280-15297</td>\n",
       "      <td>False</td>\n",
       "      <td>0.815918</td>\n",
       "      <td>0.505525</td>\n",
       "      <td>0.554199</td>\n",
       "      <td>0.3470</td>\n",
       "      <td>0.530675</td>\n",
       "      <td>Pigk</td>\n",
       "      <td>Myod1</td>\n",
       "    </tr>\n",
       "  </tbody>\n",
       "</table>\n",
       "</div>"
      ],
      "text/plain": [
       "                               dmr                  tf              loop  \\\n",
       "gene                                                                       \n",
       "ENSMUSG00000039047  chr3-152978527  ENSMUSG00000042903  chr3-15280-15297   \n",
       "ENSMUSG00000039047  chr3-152974381  ENSMUSG00000033863  chr3-15280-15297   \n",
       "ENSMUSG00000039047  chr3-152974381  ENSMUSG00000034041  chr3-15280-15297   \n",
       "ENSMUSG00000039047  chr3-152974381  ENSMUSG00000023034  chr3-15280-15297   \n",
       "ENSMUSG00000039047  chr3-152974381  ENSMUSG00000009471  chr3-15280-15297   \n",
       "\n",
       "                    tf-self-loop  gene-dmr-corr  gene-dot-corr  tf-dmr-corr  \\\n",
       "gene                                                                          \n",
       "ENSMUSG00000039047         False       0.852051       0.505525     0.356201   \n",
       "ENSMUSG00000039047         False       0.815918       0.505525     0.472412   \n",
       "ENSMUSG00000039047         False       0.815918       0.505525     0.408936   \n",
       "ENSMUSG00000039047         False       0.815918       0.505525     0.513184   \n",
       "ENSMUSG00000039047         False       0.815918       0.505525     0.554199   \n",
       "\n",
       "                    gene-tf-corr  final-corr gene_name tf_name  \n",
       "gene                                                            \n",
       "ENSMUSG00000039047        0.3110    0.467375      Pigk   Foxo4  \n",
       "ENSMUSG00000039047        0.3303    0.503722      Pigk    Klf9  \n",
       "ENSMUSG00000039047        0.3335    0.487062      Pigk    Lyl1  \n",
       "ENSMUSG00000039047        0.3594    0.525167      Pigk   Nr4a1  \n",
       "ENSMUSG00000039047        0.3470    0.530675      Pigk   Myod1  "
      ]
     },
     "execution_count": 13,
     "metadata": {},
     "output_type": "execute_result"
    }
   ],
   "source": [
    "tmp = deg_cember_corr[deg_cember_corr['gene_name'] == gene_name]\n",
    "tmp[tmp['dmr'].isin(gene_dmrs[gene_name])].sort_values('gene-dmr-corr', ascending = False).head(5)"
   ]
  },
  {
   "cell_type": "markdown",
   "id": "5951d53b-b416-4ee2-b231-ef2ffaa562a3",
   "metadata": {},
   "source": [
    "## test if less contact"
   ]
  },
  {
   "cell_type": "code",
   "execution_count": 20,
   "id": "5fc92edb-ab30-4abf-b2e7-3479a2e11b52",
   "metadata": {},
   "outputs": [],
   "source": [
    "import cooler"
   ]
  },
  {
   "cell_type": "code",
   "execution_count": 18,
   "id": "41b90bef-8d55-4b68-a39a-b435e6dbffd6",
   "metadata": {},
   "outputs": [],
   "source": [
    "leg = [f\"{ct}.{age}\" for age in ['8wk','9mo','18mo']]"
   ]
  },
  {
   "cell_type": "code",
   "execution_count": 14,
   "id": "6dd26507-64b3-4bbc-8f32-533012e5927b",
   "metadata": {},
   "outputs": [],
   "source": [
    "res = 10000\n",
    "promoter = 'chr3-152711599-152716600'"
   ]
  },
  {
   "cell_type": "code",
   "execution_count": 22,
   "id": "9187e45b-d8e4-4869-af0a-6a854c86edbc",
   "metadata": {},
   "outputs": [],
   "source": [
    "res = 10000 \n",
    "_loop = 'chr3-15280-15297'\n",
    "chrom, loop_start, loop_end = _loop.split('-')\n",
    "loop_start = int(loop_start) * res\n",
    "loop_end = int(loop_end) * res\n",
    "start = loop_start - res\n",
    "end = loop_end + res"
   ]
  },
  {
   "cell_type": "code",
   "execution_count": 26,
   "id": "116f3a05-a478-4034-ac76-68a7bdb6e434",
   "metadata": {},
   "outputs": [],
   "source": [
    "age_count = {}\n",
    "for group in leg:\n",
    "    ct_age_cool = cooler.Cooler(f\"/data/female-amb/loop/{group}/{group}/{group}.Q.cool\")\n",
    "    contacts = ct_age_cool.matrix(balance=False, as_pixels=True, join=True).fetch(f'{chrom}:{start}-{end}')\n",
    "    tmp = contacts[(contacts['start1'] <= loop_start) & (contacts['end1'] >= loop_start)]\n",
    "    tmp = tmp[(tmp['start2'] <= loop_end) & (tmp['end2'] >= loop_end)]\n",
    "    age_count[group] = tmp\n"
   ]
  },
  {
   "cell_type": "code",
   "execution_count": 28,
   "id": "23694e33-35ae-444c-a030-96982ffb071d",
   "metadata": {},
   "outputs": [
    {
     "data": {
      "text/html": [
       "<div>\n",
       "<style scoped>\n",
       "    .dataframe tbody tr th:only-of-type {\n",
       "        vertical-align: middle;\n",
       "    }\n",
       "\n",
       "    .dataframe tbody tr th {\n",
       "        vertical-align: top;\n",
       "    }\n",
       "\n",
       "    .dataframe thead th {\n",
       "        text-align: right;\n",
       "    }\n",
       "</style>\n",
       "<table border=\"1\" class=\"dataframe\">\n",
       "  <thead>\n",
       "    <tr style=\"text-align: right;\">\n",
       "      <th></th>\n",
       "      <th>chrom1</th>\n",
       "      <th>start1</th>\n",
       "      <th>end1</th>\n",
       "      <th>chrom2</th>\n",
       "      <th>start2</th>\n",
       "      <th>end2</th>\n",
       "      <th>count</th>\n",
       "    </tr>\n",
       "  </thead>\n",
       "  <tbody>\n",
       "    <tr>\n",
       "      <th>17</th>\n",
       "      <td>chr3</td>\n",
       "      <td>152790000</td>\n",
       "      <td>152800000</td>\n",
       "      <td>chr3</td>\n",
       "      <td>152960000</td>\n",
       "      <td>152970000</td>\n",
       "      <td>0.006117</td>\n",
       "    </tr>\n",
       "    <tr>\n",
       "      <th>18</th>\n",
       "      <td>chr3</td>\n",
       "      <td>152790000</td>\n",
       "      <td>152800000</td>\n",
       "      <td>chr3</td>\n",
       "      <td>152970000</td>\n",
       "      <td>152980000</td>\n",
       "      <td>0.005098</td>\n",
       "    </tr>\n",
       "    <tr>\n",
       "      <th>35</th>\n",
       "      <td>chr3</td>\n",
       "      <td>152800000</td>\n",
       "      <td>152810000</td>\n",
       "      <td>chr3</td>\n",
       "      <td>152960000</td>\n",
       "      <td>152970000</td>\n",
       "      <td>0.006032</td>\n",
       "    </tr>\n",
       "    <tr>\n",
       "      <th>36</th>\n",
       "      <td>chr3</td>\n",
       "      <td>152800000</td>\n",
       "      <td>152810000</td>\n",
       "      <td>chr3</td>\n",
       "      <td>152970000</td>\n",
       "      <td>152980000</td>\n",
       "      <td>0.005160</td>\n",
       "    </tr>\n",
       "  </tbody>\n",
       "</table>\n",
       "</div>"
      ],
      "text/plain": [
       "   chrom1     start1       end1 chrom2     start2       end2     count\n",
       "17   chr3  152790000  152800000   chr3  152960000  152970000  0.006117\n",
       "18   chr3  152790000  152800000   chr3  152970000  152980000  0.005098\n",
       "35   chr3  152800000  152810000   chr3  152960000  152970000  0.006032\n",
       "36   chr3  152800000  152810000   chr3  152970000  152980000  0.005160"
      ]
     },
     "execution_count": 28,
     "metadata": {},
     "output_type": "execute_result"
    }
   ],
   "source": [
    "age_count['DG_Glut.8wk']"
   ]
  },
  {
   "cell_type": "code",
   "execution_count": 29,
   "id": "3297bfc8-d723-4b85-a9f7-a8c7bbc4b000",
   "metadata": {},
   "outputs": [
    {
     "data": {
      "text/html": [
       "<div>\n",
       "<style scoped>\n",
       "    .dataframe tbody tr th:only-of-type {\n",
       "        vertical-align: middle;\n",
       "    }\n",
       "\n",
       "    .dataframe tbody tr th {\n",
       "        vertical-align: top;\n",
       "    }\n",
       "\n",
       "    .dataframe thead th {\n",
       "        text-align: right;\n",
       "    }\n",
       "</style>\n",
       "<table border=\"1\" class=\"dataframe\">\n",
       "  <thead>\n",
       "    <tr style=\"text-align: right;\">\n",
       "      <th></th>\n",
       "      <th>chrom1</th>\n",
       "      <th>start1</th>\n",
       "      <th>end1</th>\n",
       "      <th>chrom2</th>\n",
       "      <th>start2</th>\n",
       "      <th>end2</th>\n",
       "      <th>count</th>\n",
       "    </tr>\n",
       "  </thead>\n",
       "  <tbody>\n",
       "    <tr>\n",
       "      <th>17</th>\n",
       "      <td>chr3</td>\n",
       "      <td>152790000</td>\n",
       "      <td>152800000</td>\n",
       "      <td>chr3</td>\n",
       "      <td>152960000</td>\n",
       "      <td>152970000</td>\n",
       "      <td>0.006136</td>\n",
       "    </tr>\n",
       "    <tr>\n",
       "      <th>18</th>\n",
       "      <td>chr3</td>\n",
       "      <td>152790000</td>\n",
       "      <td>152800000</td>\n",
       "      <td>chr3</td>\n",
       "      <td>152970000</td>\n",
       "      <td>152980000</td>\n",
       "      <td>0.005837</td>\n",
       "    </tr>\n",
       "    <tr>\n",
       "      <th>35</th>\n",
       "      <td>chr3</td>\n",
       "      <td>152800000</td>\n",
       "      <td>152810000</td>\n",
       "      <td>chr3</td>\n",
       "      <td>152960000</td>\n",
       "      <td>152970000</td>\n",
       "      <td>0.005541</td>\n",
       "    </tr>\n",
       "    <tr>\n",
       "      <th>36</th>\n",
       "      <td>chr3</td>\n",
       "      <td>152800000</td>\n",
       "      <td>152810000</td>\n",
       "      <td>chr3</td>\n",
       "      <td>152970000</td>\n",
       "      <td>152980000</td>\n",
       "      <td>0.005285</td>\n",
       "    </tr>\n",
       "  </tbody>\n",
       "</table>\n",
       "</div>"
      ],
      "text/plain": [
       "   chrom1     start1       end1 chrom2     start2       end2     count\n",
       "17   chr3  152790000  152800000   chr3  152960000  152970000  0.006136\n",
       "18   chr3  152790000  152800000   chr3  152970000  152980000  0.005837\n",
       "35   chr3  152800000  152810000   chr3  152960000  152970000  0.005541\n",
       "36   chr3  152800000  152810000   chr3  152970000  152980000  0.005285"
      ]
     },
     "execution_count": 29,
     "metadata": {},
     "output_type": "execute_result"
    }
   ],
   "source": [
    "age_count['DG_Glut.18mo']"
   ]
  },
  {
   "cell_type": "code",
   "execution_count": null,
   "id": "1f2623a5-8c49-4f08-93f8-f2660c9465c9",
   "metadata": {},
   "outputs": [],
   "source": []
  },
  {
   "cell_type": "code",
   "execution_count": null,
   "id": "3ba185c1-b031-4a38-9001-e1131f79778c",
   "metadata": {},
   "outputs": [],
   "source": []
  }
 ],
 "metadata": {
  "kernelspec": {
   "display_name": "Python 3 (ipykernel)",
   "language": "python",
   "name": "python3"
  },
  "language_info": {
   "codemirror_mode": {
    "name": "ipython",
    "version": 3
   },
   "file_extension": ".py",
   "mimetype": "text/x-python",
   "name": "python",
   "nbconvert_exporter": "python",
   "pygments_lexer": "ipython3",
   "version": "3.10.12"
  }
 },
 "nbformat": 4,
 "nbformat_minor": 5
}
