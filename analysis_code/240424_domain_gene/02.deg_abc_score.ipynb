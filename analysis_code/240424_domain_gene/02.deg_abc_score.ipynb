{
 "cells": [
  {
   "cell_type": "code",
   "execution_count": 1,
   "id": "f3c9a59c-cd6b-4ef8-883e-5f1a8330895a",
   "metadata": {},
   "outputs": [],
   "source": [
    "import pandas as pd\n",
    "import re\n",
    "import seaborn as sns\n",
    "import numpy as np\n",
    "import matplotlib.pyplot as plt"
   ]
  },
  {
   "cell_type": "code",
   "execution_count": 2,
   "id": "a7c2340d-077e-46d9-b10f-43fb5fef586a",
   "metadata": {},
   "outputs": [],
   "source": [
    "ct = 'DG_Glut'\n",
    "leg = [f\"{ct}.{age}\" for age in ['8wk','18mo']]\n",
    "abc_dir = '/home/qzeng_salk_edu/project/240429_abc_atac/ABC.By.ATAC.RPM'"
   ]
  },
  {
   "cell_type": "code",
   "execution_count": 14,
   "id": "ecbc175c-ffaf-449a-9306-6f3c042ee682",
   "metadata": {},
   "outputs": [],
   "source": [
    "mouse_genes = pd.read_csv('gene_meta.csv', index_col =0)\n",
    "gene_name_to_id = mouse_genes.set_index('gene_name')['geneID.1'].to_dict()\n",
    "gene_id_to_name = mouse_genes.set_index('geneID.1')['gene_name'].to_dict()\n",
    "gene_meta = pd.read_csv('/home/qzeng_salk_edu/project/240321_abc_score/use.mouse_genes.csv', index_col = 0)"
   ]
  },
  {
   "cell_type": "code",
   "execution_count": 5,
   "id": "714e141f-355e-44cd-8cdc-8fe4955339ee",
   "metadata": {},
   "outputs": [
    {
     "data": {
      "text/html": [
       "<div>\n",
       "<style scoped>\n",
       "    .dataframe tbody tr th:only-of-type {\n",
       "        vertical-align: middle;\n",
       "    }\n",
       "\n",
       "    .dataframe tbody tr th {\n",
       "        vertical-align: top;\n",
       "    }\n",
       "\n",
       "    .dataframe thead th {\n",
       "        text-align: right;\n",
       "    }\n",
       "</style>\n",
       "<table border=\"1\" class=\"dataframe\">\n",
       "  <thead>\n",
       "    <tr style=\"text-align: right;\">\n",
       "      <th></th>\n",
       "      <th>fc</th>\n",
       "      <th>fdr</th>\n",
       "      <th>log2(18mo/2mo)</th>\n",
       "      <th>-log10(padj)</th>\n",
       "      <th>gene_length</th>\n",
       "      <th>abs_log2(18mo/2mo)</th>\n",
       "    </tr>\n",
       "    <tr>\n",
       "      <th>gene</th>\n",
       "      <th></th>\n",
       "      <th></th>\n",
       "      <th></th>\n",
       "      <th></th>\n",
       "      <th></th>\n",
       "      <th></th>\n",
       "    </tr>\n",
       "  </thead>\n",
       "  <tbody>\n",
       "    <tr>\n",
       "      <th>Ube2w</th>\n",
       "      <td>0.845443</td>\n",
       "      <td>4.154202e-31</td>\n",
       "      <td>-0.242221</td>\n",
       "      <td>30.381512</td>\n",
       "      <td>78699</td>\n",
       "      <td>0.242221</td>\n",
       "    </tr>\n",
       "    <tr>\n",
       "      <th>Jph1</th>\n",
       "      <td>0.825558</td>\n",
       "      <td>4.420055e-59</td>\n",
       "      <td>-0.276558</td>\n",
       "      <td>58.354572</td>\n",
       "      <td>133329</td>\n",
       "      <td>0.276558</td>\n",
       "    </tr>\n",
       "    <tr>\n",
       "      <th>Smap1</th>\n",
       "      <td>0.867411</td>\n",
       "      <td>6.713544e-21</td>\n",
       "      <td>-0.205212</td>\n",
       "      <td>20.173048</td>\n",
       "      <td>77471</td>\n",
       "      <td>0.205212</td>\n",
       "    </tr>\n",
       "    <tr>\n",
       "      <th>Kcnt2</th>\n",
       "      <td>0.819156</td>\n",
       "      <td>9.380503e-95</td>\n",
       "      <td>-0.287791</td>\n",
       "      <td>94.027774</td>\n",
       "      <td>365909</td>\n",
       "      <td>0.287791</td>\n",
       "    </tr>\n",
       "    <tr>\n",
       "      <th>B3galt2</th>\n",
       "      <td>0.751478</td>\n",
       "      <td>8.633750e-10</td>\n",
       "      <td>-0.412198</td>\n",
       "      <td>9.063801</td>\n",
       "      <td>13950</td>\n",
       "      <td>0.412198</td>\n",
       "    </tr>\n",
       "  </tbody>\n",
       "</table>\n",
       "</div>"
      ],
      "text/plain": [
       "               fc           fdr  log2(18mo/2mo)  -log10(padj)  gene_length  \\\n",
       "gene                                                                         \n",
       "Ube2w    0.845443  4.154202e-31       -0.242221     30.381512        78699   \n",
       "Jph1     0.825558  4.420055e-59       -0.276558     58.354572       133329   \n",
       "Smap1    0.867411  6.713544e-21       -0.205212     20.173048        77471   \n",
       "Kcnt2    0.819156  9.380503e-95       -0.287791     94.027774       365909   \n",
       "B3galt2  0.751478  8.633750e-10       -0.412198      9.063801        13950   \n",
       "\n",
       "         abs_log2(18mo/2mo)  \n",
       "gene                         \n",
       "Ube2w              0.242221  \n",
       "Jph1               0.276558  \n",
       "Smap1              0.205212  \n",
       "Kcnt2              0.287791  \n",
       "B3galt2            0.412198  "
      ]
     },
     "execution_count": 5,
     "metadata": {},
     "output_type": "execute_result"
    }
   ],
   "source": [
    "diff_deg = pd.read_csv(f'Domain.Genes.Expression/{ct}/DiffExpress.DomainGene.csv', index_col = 0)\n",
    "all_gene_ids = [gene_name_to_id[gene_name] for gene_name in diff_deg.index]\n",
    "diff_deg.head()"
   ]
  },
  {
   "cell_type": "markdown",
   "id": "3fa30ec3-cd37-4c2a-b531-bd5b86871944",
   "metadata": {},
   "source": [
    "## prepare input abd df"
   ]
  },
  {
   "cell_type": "code",
   "execution_count": 6,
   "id": "25aed904-6d89-4dac-b336-7ce1d5c10d20",
   "metadata": {},
   "outputs": [],
   "source": [
    "all_young_df = pd.read_csv(f\"{abc_dir}/{ct}/{leg[0]}.abc_score.csv\", index_col = 0)\n",
    "all_old_df = pd.read_csv(f\"{abc_dir}/{ct}/{leg[-1]}.abc_score.csv\", index_col = 0)"
   ]
  },
  {
   "cell_type": "code",
   "execution_count": 7,
   "id": "8f5765cc-56c3-4ce5-ab52-994b4f13d83a",
   "metadata": {},
   "outputs": [],
   "source": [
    "all_young_df['gene_id'] = all_young_df.index.map(lambda x: x.split('-')[-1])\n",
    "all_old_df['gene_id'] = all_old_df.index.map(lambda x: x.split('-')[-1])"
   ]
  },
  {
   "cell_type": "code",
   "execution_count": 8,
   "id": "a8c09f78-41c0-40f7-b4b9-d894719601bc",
   "metadata": {},
   "outputs": [
    {
     "data": {
      "text/plain": [
       "(8.0, 8.0)"
      ]
     },
     "execution_count": 8,
     "metadata": {},
     "output_type": "execute_result"
    }
   ],
   "source": [
    "young_cutoff = np.percentile(all_young_df['contact'], 90)\n",
    "old_cutoff = np.percentile(all_old_df['contact'], 90)\n",
    "young_cutoff, old_cutoff"
   ]
  },
  {
   "cell_type": "code",
   "execution_count": 9,
   "id": "2db8a146-7144-416f-bcf1-8b0b3cda6a23",
   "metadata": {},
   "outputs": [],
   "source": [
    "all_young_df = all_young_df[all_young_df['contact'] >= young_cutoff]\n",
    "all_old_df = all_old_df[all_old_df['contact'] >= old_cutoff]"
   ]
  },
  {
   "cell_type": "code",
   "execution_count": 10,
   "id": "df7f4b4b-6012-4c9c-b4f2-d100a6209044",
   "metadata": {},
   "outputs": [],
   "source": [
    "use_young_df = all_young_df[all_young_df['gene_id'].isin(all_gene_ids)]\n",
    "use_old_df = all_old_df[all_old_df['gene_id'].isin(all_gene_ids)]"
   ]
  },
  {
   "cell_type": "markdown",
   "id": "bce9d20f-4762-44f5-b3e1-e2554c06c849",
   "metadata": {},
   "source": [
    "## select enhancer outside tad domain"
   ]
  },
  {
   "cell_type": "code",
   "execution_count": 27,
   "id": "7a102939-0528-4e78-b9ec-faaf372f1ad5",
   "metadata": {},
   "outputs": [
    {
     "data": {
      "text/html": [
       "<div>\n",
       "<style scoped>\n",
       "    .dataframe tbody tr th:only-of-type {\n",
       "        vertical-align: middle;\n",
       "    }\n",
       "\n",
       "    .dataframe tbody tr th {\n",
       "        vertical-align: top;\n",
       "    }\n",
       "\n",
       "    .dataframe thead th {\n",
       "        text-align: right;\n",
       "    }\n",
       "</style>\n",
       "<table border=\"1\" class=\"dataframe\">\n",
       "  <thead>\n",
       "    <tr style=\"text-align: right;\">\n",
       "      <th></th>\n",
       "      <th>gene_chr</th>\n",
       "      <th>gene_start</th>\n",
       "      <th>gene_end</th>\n",
       "      <th>gene_name</th>\n",
       "      <th>strand</th>\n",
       "      <th>gene_type</th>\n",
       "      <th>gene_length</th>\n",
       "      <th>chrom</th>\n",
       "      <th>tad_start</th>\n",
       "      <th>tad_end</th>\n",
       "      <th>8wk</th>\n",
       "      <th>9mo</th>\n",
       "      <th>18mo</th>\n",
       "      <th>18mo-8wk</th>\n",
       "      <th>celltype</th>\n",
       "      <th>start</th>\n",
       "      <th>end</th>\n",
       "    </tr>\n",
       "    <tr>\n",
       "      <th>gene_id</th>\n",
       "      <th></th>\n",
       "      <th></th>\n",
       "      <th></th>\n",
       "      <th></th>\n",
       "      <th></th>\n",
       "      <th></th>\n",
       "      <th></th>\n",
       "      <th></th>\n",
       "      <th></th>\n",
       "      <th></th>\n",
       "      <th></th>\n",
       "      <th></th>\n",
       "      <th></th>\n",
       "      <th></th>\n",
       "      <th></th>\n",
       "      <th></th>\n",
       "      <th></th>\n",
       "    </tr>\n",
       "  </thead>\n",
       "  <tbody>\n",
       "    <tr>\n",
       "      <th>ENSMUSG00000102275</th>\n",
       "      <td>chr1</td>\n",
       "      <td>4778063</td>\n",
       "      <td>4779212</td>\n",
       "      <td>Gm37144</td>\n",
       "      <td>-</td>\n",
       "      <td>TEC</td>\n",
       "      <td>1149</td>\n",
       "      <td>chr1</td>\n",
       "      <td>4775000</td>\n",
       "      <td>9575000</td>\n",
       "      <td>0.111111</td>\n",
       "      <td>0.125786</td>\n",
       "      <td>0.162823</td>\n",
       "      <td>0.051712</td>\n",
       "      <td>DG_Glut</td>\n",
       "      <td>9525000</td>\n",
       "      <td>9550000</td>\n",
       "    </tr>\n",
       "    <tr>\n",
       "      <th>ENSMUSG00000025903</th>\n",
       "      <td>chr1</td>\n",
       "      <td>4807788</td>\n",
       "      <td>4848410</td>\n",
       "      <td>Lypla1</td>\n",
       "      <td>+</td>\n",
       "      <td>protein_coding</td>\n",
       "      <td>40622</td>\n",
       "      <td>chr1</td>\n",
       "      <td>4775000</td>\n",
       "      <td>9575000</td>\n",
       "      <td>0.111111</td>\n",
       "      <td>0.125786</td>\n",
       "      <td>0.162823</td>\n",
       "      <td>0.051712</td>\n",
       "      <td>DG_Glut</td>\n",
       "      <td>9525000</td>\n",
       "      <td>9550000</td>\n",
       "    </tr>\n",
       "    <tr>\n",
       "      <th>ENSMUSG00000104217</th>\n",
       "      <td>chr1</td>\n",
       "      <td>4807892</td>\n",
       "      <td>4886770</td>\n",
       "      <td>Gm37988</td>\n",
       "      <td>+</td>\n",
       "      <td>protein_coding</td>\n",
       "      <td>78878</td>\n",
       "      <td>chr1</td>\n",
       "      <td>4775000</td>\n",
       "      <td>9575000</td>\n",
       "      <td>0.111111</td>\n",
       "      <td>0.125786</td>\n",
       "      <td>0.162823</td>\n",
       "      <td>0.051712</td>\n",
       "      <td>DG_Glut</td>\n",
       "      <td>9525000</td>\n",
       "      <td>9550000</td>\n",
       "    </tr>\n",
       "    <tr>\n",
       "      <th>ENSMUSG00000033813</th>\n",
       "      <td>chr1</td>\n",
       "      <td>4857814</td>\n",
       "      <td>4897909</td>\n",
       "      <td>Tcea1</td>\n",
       "      <td>+</td>\n",
       "      <td>protein_coding</td>\n",
       "      <td>40095</td>\n",
       "      <td>chr1</td>\n",
       "      <td>4775000</td>\n",
       "      <td>9575000</td>\n",
       "      <td>0.111111</td>\n",
       "      <td>0.125786</td>\n",
       "      <td>0.162823</td>\n",
       "      <td>0.051712</td>\n",
       "      <td>DG_Glut</td>\n",
       "      <td>9525000</td>\n",
       "      <td>9550000</td>\n",
       "    </tr>\n",
       "    <tr>\n",
       "      <th>ENSMUSG00000062588</th>\n",
       "      <td>chr1</td>\n",
       "      <td>4880049</td>\n",
       "      <td>4880651</td>\n",
       "      <td>Gm6104</td>\n",
       "      <td>-</td>\n",
       "      <td>processed_pseudogene</td>\n",
       "      <td>602</td>\n",
       "      <td>chr1</td>\n",
       "      <td>4775000</td>\n",
       "      <td>9575000</td>\n",
       "      <td>0.111111</td>\n",
       "      <td>0.125786</td>\n",
       "      <td>0.162823</td>\n",
       "      <td>0.051712</td>\n",
       "      <td>DG_Glut</td>\n",
       "      <td>9525000</td>\n",
       "      <td>9550000</td>\n",
       "    </tr>\n",
       "  </tbody>\n",
       "</table>\n",
       "</div>"
      ],
      "text/plain": [
       "                   gene_chr  gene_start  gene_end gene_name strand  \\\n",
       "gene_id                                                              \n",
       "ENSMUSG00000102275     chr1     4778063   4779212   Gm37144      -   \n",
       "ENSMUSG00000025903     chr1     4807788   4848410    Lypla1      +   \n",
       "ENSMUSG00000104217     chr1     4807892   4886770   Gm37988      +   \n",
       "ENSMUSG00000033813     chr1     4857814   4897909     Tcea1      +   \n",
       "ENSMUSG00000062588     chr1     4880049   4880651    Gm6104      -   \n",
       "\n",
       "                               gene_type  gene_length chrom  tad_start  \\\n",
       "gene_id                                                                  \n",
       "ENSMUSG00000102275                   TEC         1149  chr1    4775000   \n",
       "ENSMUSG00000025903        protein_coding        40622  chr1    4775000   \n",
       "ENSMUSG00000104217        protein_coding        78878  chr1    4775000   \n",
       "ENSMUSG00000033813        protein_coding        40095  chr1    4775000   \n",
       "ENSMUSG00000062588  processed_pseudogene          602  chr1    4775000   \n",
       "\n",
       "                    tad_end       8wk       9mo      18mo  18mo-8wk celltype  \\\n",
       "gene_id                                                                        \n",
       "ENSMUSG00000102275  9575000  0.111111  0.125786  0.162823  0.051712  DG_Glut   \n",
       "ENSMUSG00000025903  9575000  0.111111  0.125786  0.162823  0.051712  DG_Glut   \n",
       "ENSMUSG00000104217  9575000  0.111111  0.125786  0.162823  0.051712  DG_Glut   \n",
       "ENSMUSG00000033813  9575000  0.111111  0.125786  0.162823  0.051712  DG_Glut   \n",
       "ENSMUSG00000062588  9575000  0.111111  0.125786  0.162823  0.051712  DG_Glut   \n",
       "\n",
       "                      start      end  \n",
       "gene_id                               \n",
       "ENSMUSG00000102275  9525000  9550000  \n",
       "ENSMUSG00000025903  9525000  9550000  \n",
       "ENSMUSG00000104217  9525000  9550000  \n",
       "ENSMUSG00000033813  9525000  9550000  \n",
       "ENSMUSG00000062588  9525000  9550000  "
      ]
     },
     "execution_count": 27,
     "metadata": {},
     "output_type": "execute_result"
    }
   ],
   "source": [
    "tad_info = pd.read_csv(f'Domain.Genes.Expression/{ct}/All.Overlap.Domain.Genes.csv', index_col = 0)\n",
    "tad_info['gene_id'] = tad_info['gene_name'].map(gene_name_to_id)\n",
    "tad_info = tad_info.set_index('gene_id')\n",
    "tad_info.head()"
   ]
  },
  {
   "cell_type": "code",
   "execution_count": 35,
   "id": "fa99694b-952d-452e-8023-02401724e51c",
   "metadata": {},
   "outputs": [],
   "source": [
    "def input_dist_info(df):\n",
    "    df['enhancer_start'] = df.index.map(lambda x: int(x.split(':')[-1].split('-')[0]))\n",
    "    df['gene_start'] = df['gene_id'].map(gene_meta['start'].to_dict())\n",
    "    df['gene_end'] = df['gene_id'].map(gene_meta['end'].to_dict())\n",
    "    \n",
    "    df['eg_dist'] = np.minimum((df['gene_id'].map(gene_meta['start']) - df['enhancer_start']).abs(),\n",
    "                                     (df['gene_id'].map(gene_meta['end']) - df['enhancer_start']).abs())\n",
    "    df['tad_start'] = df['gene_id'].map(tad_info['tad_start'].to_dict())\n",
    "    df['tad_end'] = df['gene_id'].map(tad_info['tad_end'].to_dict())\n",
    "    return df"
   ]
  },
  {
   "cell_type": "code",
   "execution_count": 68,
   "id": "143c999b-88e7-415a-bbd8-51b1788eff30",
   "metadata": {
    "scrolled": true
   },
   "outputs": [],
   "source": [
    "use_young_df = input_dist_info(use_young_df)\n",
    "use_old_df = input_dist_info(use_old_df)"
   ]
  },
  {
   "cell_type": "code",
   "execution_count": 69,
   "id": "1c1dc760-58f5-4f8f-b11f-a52c3a66f9fc",
   "metadata": {},
   "outputs": [],
   "source": [
    "all_df = []\n",
    "for gene_id, tmpdf in use_young_df.groupby('gene_id'):\n",
    "    tmpdf['norm_abc_score'] = tmpdf['abc_score'] / tmpdf['abc_score'].sum()\n",
    "    all_df.append(tmpdf)\n",
    "use_young_df= pd.concat(all_df)"
   ]
  },
  {
   "cell_type": "code",
   "execution_count": 70,
   "id": "e9b96b2e-6bf0-48db-a53f-350eacb96c61",
   "metadata": {},
   "outputs": [],
   "source": [
    "all_df = []\n",
    "for gene_id, tmpdf in use_old_df.groupby('gene_id'):\n",
    "    tmpdf['norm_abc_score'] = tmpdf['abc_score'] / tmpdf['abc_score'].sum()\n",
    "    all_df.append(tmpdf)\n",
    "use_old_df= pd.concat(all_df)"
   ]
  },
  {
   "cell_type": "code",
   "execution_count": 71,
   "id": "3fe2197a-493f-4a9c-8257-40dbf2873bc1",
   "metadata": {},
   "outputs": [],
   "source": [
    "# use_young_df = use_young_df[(use_young_df['enhancer_start'] < use_young_df['tad_end']) & (use_young_df['enhancer_start'] > use_young_df['tad_start'])]\n",
    "# use_old_df = use_old_df[(use_old_df['enhancer_start'] < use_old_df['tad_end']) & (use_old_df['enhancer_start'] > use_old_df['tad_start'])]"
   ]
  },
  {
   "cell_type": "code",
   "execution_count": 80,
   "id": "db507bb1-803f-4e45-94bb-47723ec91633",
   "metadata": {},
   "outputs": [],
   "source": [
    "young_gene_abc_mean = use_young_df.groupby('gene_id')['norm_abc_score'].mean()\n",
    "old_gene_abc_mean = use_old_df.groupby('gene_id')['norm_abc_score'].mean()"
   ]
  },
  {
   "cell_type": "code",
   "execution_count": 81,
   "id": "ba6cc59d-37f9-4478-b191-669f1f69ac7e",
   "metadata": {},
   "outputs": [],
   "source": [
    "result =pd.concat([young_gene_abc_mean, old_gene_abc_mean], axis = 1)\n",
    "result.columns = ['Young.ABC.Mean','Old.ABC.Mean']\n",
    "result.index = [gene_id_to_name[gene_id] for gene_id in result.index]"
   ]
  },
  {
   "cell_type": "code",
   "execution_count": 82,
   "id": "e85c79c2-1b52-4252-ba5e-073cc8dd494e",
   "metadata": {},
   "outputs": [
    {
     "data": {
      "text/html": [
       "<div>\n",
       "<style scoped>\n",
       "    .dataframe tbody tr th:only-of-type {\n",
       "        vertical-align: middle;\n",
       "    }\n",
       "\n",
       "    .dataframe tbody tr th {\n",
       "        vertical-align: top;\n",
       "    }\n",
       "\n",
       "    .dataframe thead th {\n",
       "        text-align: right;\n",
       "    }\n",
       "</style>\n",
       "<table border=\"1\" class=\"dataframe\">\n",
       "  <thead>\n",
       "    <tr style=\"text-align: right;\">\n",
       "      <th></th>\n",
       "      <th>fc</th>\n",
       "      <th>fdr</th>\n",
       "      <th>log2(18mo/2mo)</th>\n",
       "      <th>-log10(padj)</th>\n",
       "      <th>gene_length</th>\n",
       "      <th>abs_log2(18mo/2mo)</th>\n",
       "      <th>Young.ABC.Mean</th>\n",
       "      <th>Old.ABC.Mean</th>\n",
       "      <th>log2_abc_fc</th>\n",
       "    </tr>\n",
       "  </thead>\n",
       "  <tbody>\n",
       "    <tr>\n",
       "      <th>Ube2w</th>\n",
       "      <td>0.845443</td>\n",
       "      <td>4.154202e-31</td>\n",
       "      <td>-0.242221</td>\n",
       "      <td>30.381512</td>\n",
       "      <td>78699</td>\n",
       "      <td>0.242221</td>\n",
       "      <td>1.007092</td>\n",
       "      <td>0.992908</td>\n",
       "      <td>-0.020464</td>\n",
       "    </tr>\n",
       "    <tr>\n",
       "      <th>Jph1</th>\n",
       "      <td>0.825558</td>\n",
       "      <td>4.420055e-59</td>\n",
       "      <td>-0.276558</td>\n",
       "      <td>58.354572</td>\n",
       "      <td>133329</td>\n",
       "      <td>0.276558</td>\n",
       "      <td>1.079208</td>\n",
       "      <td>0.920792</td>\n",
       "      <td>-0.229026</td>\n",
       "    </tr>\n",
       "    <tr>\n",
       "      <th>Smap1</th>\n",
       "      <td>0.867411</td>\n",
       "      <td>6.713544e-21</td>\n",
       "      <td>-0.205212</td>\n",
       "      <td>20.173048</td>\n",
       "      <td>77471</td>\n",
       "      <td>0.205212</td>\n",
       "      <td>1.057851</td>\n",
       "      <td>0.942149</td>\n",
       "      <td>-0.167110</td>\n",
       "    </tr>\n",
       "    <tr>\n",
       "      <th>Kcnt2</th>\n",
       "      <td>0.819156</td>\n",
       "      <td>9.380503e-95</td>\n",
       "      <td>-0.287791</td>\n",
       "      <td>94.027774</td>\n",
       "      <td>365909</td>\n",
       "      <td>0.287791</td>\n",
       "      <td>0.965517</td>\n",
       "      <td>1.034483</td>\n",
       "      <td>0.099536</td>\n",
       "    </tr>\n",
       "    <tr>\n",
       "      <th>B3galt2</th>\n",
       "      <td>0.751478</td>\n",
       "      <td>8.633750e-10</td>\n",
       "      <td>-0.412198</td>\n",
       "      <td>9.063801</td>\n",
       "      <td>13950</td>\n",
       "      <td>0.412198</td>\n",
       "      <td>1.194444</td>\n",
       "      <td>0.805556</td>\n",
       "      <td>-0.568284</td>\n",
       "    </tr>\n",
       "  </tbody>\n",
       "</table>\n",
       "</div>"
      ],
      "text/plain": [
       "               fc           fdr  log2(18mo/2mo)  -log10(padj)  gene_length  \\\n",
       "Ube2w    0.845443  4.154202e-31       -0.242221     30.381512        78699   \n",
       "Jph1     0.825558  4.420055e-59       -0.276558     58.354572       133329   \n",
       "Smap1    0.867411  6.713544e-21       -0.205212     20.173048        77471   \n",
       "Kcnt2    0.819156  9.380503e-95       -0.287791     94.027774       365909   \n",
       "B3galt2  0.751478  8.633750e-10       -0.412198      9.063801        13950   \n",
       "\n",
       "         abs_log2(18mo/2mo)  Young.ABC.Mean  Old.ABC.Mean  log2_abc_fc  \n",
       "Ube2w              0.242221        1.007092      0.992908    -0.020464  \n",
       "Jph1               0.276558        1.079208      0.920792    -0.229026  \n",
       "Smap1              0.205212        1.057851      0.942149    -0.167110  \n",
       "Kcnt2              0.287791        0.965517      1.034483     0.099536  \n",
       "B3galt2            0.412198        1.194444      0.805556    -0.568284  "
      ]
     },
     "execution_count": 82,
     "metadata": {},
     "output_type": "execute_result"
    }
   ],
   "source": [
    "norm_result = result.div(result.mean(axis = 1), axis = 0)\n",
    "norm_result['log2_abc_fc'] = np.log2(norm_result['Old.ABC.Mean']/norm_result['Young.ABC.Mean'])\n",
    "norm_result= pd.concat([diff_deg, norm_result], axis = 1)\n",
    "norm_result.head()"
   ]
  },
  {
   "cell_type": "code",
   "execution_count": 83,
   "id": "fe2c5043-8319-47ea-8404-d9361b22db3b",
   "metadata": {},
   "outputs": [
    {
     "data": {
      "text/plain": [
       "<matplotlib.lines.Line2D at 0x7fb7dc2a80a0>"
      ]
     },
     "execution_count": 83,
     "metadata": {},
     "output_type": "execute_result"
    },
    {
     "data": {
      "image/png": "[encoded data removed]",
      "text/plain": [
       "<Figure size 450x450 with 1 Axes>"
      ]
     },
     "metadata": {},
     "output_type": "display_data"
    }
   ],
   "source": [
    "fig , ax = plt.subplots(figsize = (3,3), dpi = 150)\n",
    "sns.scatterplot(data = norm_result,\n",
    "                x = 'log2(18mo/2mo)',\n",
    "                y = 'log2_abc_fc',\n",
    "                ax = ax, \n",
    "                s = 5)\n",
    "ax.set(xlim = (-2, 2), ylim  = (-2,2))\n",
    "ax.axhline(y = 0, ls = '--', lw = 1, color=\"red\")\n",
    "ax.axvline(x = 0, ls = '--', lw = 1, color=\"red\")\n",
    "#ax.plot([-2, 2], [-2, 2], color=\"red\", ls = '--', lw = 1)"
   ]
  },
  {
   "cell_type": "code",
   "execution_count": null,
   "id": "9c2c5d6f-e639-46ec-92cd-4489a7046b54",
   "metadata": {},
   "outputs": [],
   "source": []
  },
  {
   "cell_type": "code",
   "execution_count": null,
   "id": "02988eb2-6acd-49dc-9556-b2250801d300",
   "metadata": {},
   "outputs": [],
   "source": []
  }
 ],
 "metadata": {
  "kernelspec": {
   "display_name": "Python 3 (ipykernel)",
   "language": "python",
   "name": "python3"
  },
  "language_info": {
   "codemirror_mode": {
    "name": "ipython",
    "version": 3
   },
   "file_extension": ".py",
   "mimetype": "text/x-python",
   "name": "python",
   "nbconvert_exporter": "python",
   "pygments_lexer": "ipython3",
   "version": "3.10.12"
  }
 },
 "nbformat": 4,
 "nbformat_minor": 5
}
