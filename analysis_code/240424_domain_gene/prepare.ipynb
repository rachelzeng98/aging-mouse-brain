{
 "cells": [
  {
   "cell_type": "code",
   "execution_count": 1,
   "id": "d0775285-05f6-42dd-a680-48c5fda09271",
   "metadata": {},
   "outputs": [],
   "source": [
    "import pandas as pd\n",
    "from gliderport.preset import notebook_snakemake"
   ]
  },
  {
   "cell_type": "code",
   "execution_count": 2,
   "id": "fa1f0ac6-ab18-479e-b07a-c09fd1b0c700",
   "metadata": {},
   "outputs": [],
   "source": [
    "all_diff_domain = pd.read_csv('ALL.Diff.Domain.csv', index_col = 0)"
   ]
  },
  {
   "cell_type": "code",
   "execution_count": 3,
   "id": "9d7ba790-4f64-41a7-a6dd-3484f725bdf2",
   "metadata": {},
   "outputs": [],
   "source": [
    "shared_cts = ['L6_IT_CTX_Glut',\n",
    " 'CA1-ProS_Glut',\n",
    " 'STR-PAL_Chst9_Gaba',\n",
    " 'Pvalb_Gaba',\n",
    " 'L23_IT_ENT_Glut',\n",
    " 'OPC_NN',\n",
    " 'L23_IT_CTX_Glut',\n",
    " 'L5_ET_CTX_Glut',\n",
    " 'L23_IT_PPP_Glut',\n",
    " 'Lamp5_Gaba',\n",
    " 'CA3_Glut',\n",
    " 'Sst_Gaba',\n",
    " 'LA-BLA-BMA-PA_Glut',\n",
    " 'SUB-ProS_Glut',\n",
    " 'Microglia_NN',\n",
    " 'Astro-NT_NN',\n",
    " 'Oligo_NN',\n",
    " 'L6_CT_CTX_Glut',\n",
    " 'L5_NP_CTX_Glut',\n",
    " 'Vip_Gaba',\n",
    " 'STR_D1_Sema5a_Gaba',\n",
    " 'Astro-TE_NN',\n",
    " 'DG_Glut',\n",
    " 'VLMC_NN',\n",
    " 'L6bCT_ENT_Glut',\n",
    " ] #'STR_D1_Gaba'"
   ]
  },
  {
   "cell_type": "code",
   "execution_count": 4,
   "id": "49164fb9-d8f8-4f8c-af36-386279920088",
   "metadata": {},
   "outputs": [
    {
     "data": {
      "text/plain": [
       "25"
      ]
     },
     "execution_count": 4,
     "metadata": {},
     "output_type": "execute_result"
    }
   ],
   "source": [
    "groups = shared_cts\n",
    "len(groups)"
   ]
  },
  {
   "cell_type": "code",
   "execution_count": 5,
   "id": "5ad6c428-252a-4a2e-af20-ba2c61b5e00a",
   "metadata": {},
   "outputs": [],
   "source": [
    "notebook_snakemake(\n",
    "    work_dir='New.Domain.Genes.Expression',\n",
    "    notebook_dir=\"template\",\n",
    "    groups=groups,\n",
    "    default_cpu=8,\n",
    "    default_mem_gb=10,\n",
    "    redo_prepare=True,\n",
    ")"
   ]
  },
  {
   "cell_type": "code",
   "execution_count": null,
   "id": "fa118bc9-d1cb-4df1-98c1-16ac6edf1595",
   "metadata": {},
   "outputs": [],
   "source": []
  },
  {
   "cell_type": "code",
   "execution_count": null,
   "id": "abf7a200-3f21-4440-be6e-0d22d538b3be",
   "metadata": {},
   "outputs": [],
   "source": []
  },
  {
   "cell_type": "code",
   "execution_count": null,
   "id": "054c70a4-96d3-4e1d-93f3-b3822ab04bac",
   "metadata": {},
   "outputs": [],
   "source": []
  },
  {
   "cell_type": "code",
   "execution_count": null,
   "id": "e8862aa2-195c-4691-866a-b291a5aadfa5",
   "metadata": {},
   "outputs": [],
   "source": []
  },
  {
   "cell_type": "code",
   "execution_count": null,
   "id": "eb1ec08c-1540-4b39-aff2-fde3b2ec7e8d",
   "metadata": {},
   "outputs": [],
   "source": []
  },
  {
   "cell_type": "code",
   "execution_count": null,
   "id": "980654cb-6c7b-4e86-8fde-de29c41e4140",
   "metadata": {},
   "outputs": [],
   "source": []
  }
 ],
 "metadata": {
  "kernelspec": {
   "display_name": "Python 3 (ipykernel)",
   "language": "python",
   "name": "python3"
  },
  "language_info": {
   "codemirror_mode": {
    "name": "ipython",
    "version": 3
   },
   "file_extension": ".py",
   "mimetype": "text/x-python",
   "name": "python",
   "nbconvert_exporter": "python",
   "pygments_lexer": "ipython3",
   "version": "3.10.12"
  }
 },
 "nbformat": 4,
 "nbformat_minor": 5
}
