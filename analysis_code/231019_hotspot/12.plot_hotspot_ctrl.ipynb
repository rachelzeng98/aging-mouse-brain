{
 "cells": [
  {
   "cell_type": "code",
   "execution_count": 1,
   "id": "9daaa5a8-2c87-4aeb-a547-566926805650",
   "metadata": {
    "execution": {
     "iopub.execute_input": "2024-07-17T17:49:09.061274Z",
     "iopub.status.busy": "2024-07-17T17:49:09.060949Z",
     "iopub.status.idle": "2024-07-17T17:49:11.544917Z",
     "shell.execute_reply": "2024-07-17T17:49:11.544147Z",
     "shell.execute_reply.started": "2024-07-17T17:49:09.061251Z"
    },
    "tags": []
   },
   "outputs": [],
   "source": [
    "import glob\n",
    "import seaborn as sns\n",
    "import pandas as pd\n",
    "import pybedtools\n",
    "from matplotlib import pyplot as plt\n",
    "import pyBigWig\n",
    "plt.rcParams['figure.dpi'] = 100\n",
    "plt.rcParams['savefig.dpi']=300\n",
    "plt.rcParams['pdf.fonttype']=42\n",
    "import PyComplexHeatmap as pch\n",
    "from PyComplexHeatmap import *"
   ]
  },
  {
   "cell_type": "code",
   "execution_count": 2,
   "id": "6612cc7a-834d-4ae7-832a-ca3622b7792c",
   "metadata": {
    "execution": {
     "iopub.execute_input": "2024-07-17T17:49:11.546183Z",
     "iopub.status.busy": "2024-07-17T17:49:11.545809Z",
     "iopub.status.idle": "2024-07-17T17:49:11.555134Z",
     "shell.execute_reply": "2024-07-17T17:49:11.554563Z",
     "shell.execute_reply.started": "2024-07-17T17:49:11.546160Z"
    },
    "tags": []
   },
   "outputs": [],
   "source": [
    "dmr_dir = '/home/qzeng/project/aging/230907-recall-dmr/Merge_DMR/mC_FILTER_DMR_BED'\n",
    "all_mc_cts = [path.split('/')[-1].split('.Hypo')[0] for path in glob.glob(f\"{dmr_dir}/*.Hypo.aDMR.bed\")]\n",
    "all_atac_cts = [path.split('/')[-1].split('_18mo')[0].split('Female_')[-1] for path in glob.glob(f\"/ceph/gale-1/qzeng/AmbData/Luisa/female_atac/Female_*_18mo_merge.bw\")]\n",
    "shared_cts = list(set(all_mc_cts) & set(all_atac_cts))"
   ]
  },
  {
   "cell_type": "code",
   "execution_count": 3,
   "id": "faa24a1c-19bb-4900-8e5e-9fa61c1dbb0d",
   "metadata": {
    "execution": {
     "iopub.execute_input": "2024-07-17T17:49:11.556556Z",
     "iopub.status.busy": "2024-07-17T17:49:11.556223Z",
     "iopub.status.idle": "2024-07-17T17:49:11.560441Z",
     "shell.execute_reply": "2024-07-17T17:49:11.559658Z",
     "shell.execute_reply.started": "2024-07-17T17:49:11.556533Z"
    },
    "tags": []
   },
   "outputs": [],
   "source": [
    "plot_celltypes = ['CA1-ProS_Glut','L23_IT_ENT_Glut', 'L23_IT_PPP_Glut','L5_IT_CTX_Glut', 'DG_Glut',\n",
    "                  'L6_IT_CTX_Glut', 'L5_ET_CTX_Glut', 'CA3_Glut', 'ENTmv-PA-COAp_Glut', 'L45_IT_CTX_Glut', 'LA-BLA-BMA-PA_Glut',\n",
    "                 'Astro-NT_NN','Astro-TE_NN', 'Microglia_NN','Vip_Gaba', 'Lamp5_Gaba','Sst_Gaba','Sst_Chodl_Gaba', 'CEA-BST_Gaba',\n",
    "                  'MB-MY_Tph2_Glut-Sero','STR_D1_Sema5a_Gaba','STR_D1_Gaba',  'NP_SUB_Glut','L5_NP_CTX_Glut','L2_IT_PPP-APr_Glut']"
   ]
  },
  {
   "cell_type": "code",
   "execution_count": 4,
   "id": "628585ba-50d1-49c2-9931-9e6346f2ef3b",
   "metadata": {
    "execution": {
     "iopub.execute_input": "2024-07-17T17:49:11.561372Z",
     "iopub.status.busy": "2024-07-17T17:49:11.561140Z",
     "iopub.status.idle": "2024-07-17T17:49:11.564602Z",
     "shell.execute_reply": "2024-07-17T17:49:11.563777Z",
     "shell.execute_reply.started": "2024-07-17T17:49:11.561350Z"
    },
    "tags": []
   },
   "outputs": [],
   "source": [
    "# plot_celltypes = ['CA1-ProS_Glut','L23_IT_ENT_Glut', 'L23_IT_PPP_Glut','L5_IT_CTX_Glut', 'DG_Glut',\n",
    "#                   'L6_IT_CTX_Glut', 'L5_ET_CTX_Glut', 'CA3_Glut', 'ENTmv-PA-COAp_Glut', 'L45_IT_CTX_Glut', 'LA-BLA-BMA-PA_Glut',\n",
    "#                  ]"
   ]
  },
  {
   "cell_type": "markdown",
   "id": "f989c2f1-3708-4220-80c5-3e4f7a2ccf2a",
   "metadata": {
    "tags": []
   },
   "source": [
    "## get overlap dmr region"
   ]
  },
  {
   "cell_type": "code",
   "execution_count": 5,
   "id": "f99e3c13-6874-49a7-b663-409a04e3fa1b",
   "metadata": {
    "execution": {
     "iopub.execute_input": "2024-07-17T17:49:11.565502Z",
     "iopub.status.busy": "2024-07-17T17:49:11.565285Z",
     "iopub.status.idle": "2024-07-17T17:49:11.572741Z",
     "shell.execute_reply": "2024-07-17T17:49:11.571981Z",
     "shell.execute_reply.started": "2024-07-17T17:49:11.565482Z"
    },
    "tags": []
   },
   "outputs": [
    {
     "data": {
      "text/plain": [
       "(68173500, 68174000)"
      ]
     },
     "execution_count": 5,
     "metadata": {},
     "output_type": "execute_result"
    }
   ],
   "source": [
    "exmaple_hotspolt = 'chr13-68173500-68174000'\n",
    "_chr, hotspot_start, hotspot_end = exmaple_hotspolt.split('-')\n",
    "hotspot_start, hotspot_end = int(hotspot_start), int(hotspot_end)\n",
    "hotspot_start, hotspot_end"
   ]
  },
  {
   "cell_type": "code",
   "execution_count": 6,
   "id": "562af5a7-cda2-4a86-81cf-0eea50b93e19",
   "metadata": {
    "execution": {
     "iopub.execute_input": "2024-07-17T17:49:11.573734Z",
     "iopub.status.busy": "2024-07-17T17:49:11.573523Z",
     "iopub.status.idle": "2024-07-17T17:49:12.153591Z",
     "shell.execute_reply": "2024-07-17T17:49:12.152643Z",
     "shell.execute_reply.started": "2024-07-17T17:49:11.573714Z"
    },
    "tags": []
   },
   "outputs": [
    {
     "data": {
      "text/html": [
       "<div>\n",
       "<style scoped>\n",
       "    .dataframe tbody tr th:only-of-type {\n",
       "        vertical-align: middle;\n",
       "    }\n",
       "\n",
       "    .dataframe tbody tr th {\n",
       "        vertical-align: top;\n",
       "    }\n",
       "\n",
       "    .dataframe thead th {\n",
       "        text-align: right;\n",
       "    }\n",
       "</style>\n",
       "<table border=\"1\" class=\"dataframe\">\n",
       "  <thead>\n",
       "    <tr style=\"text-align: right;\">\n",
       "      <th></th>\n",
       "      <th>8wk</th>\n",
       "      <th>9mo</th>\n",
       "      <th>18mo</th>\n",
       "      <th>celltype</th>\n",
       "    </tr>\n",
       "    <tr>\n",
       "      <th>dmr_id</th>\n",
       "      <th></th>\n",
       "      <th></th>\n",
       "      <th></th>\n",
       "      <th></th>\n",
       "    </tr>\n",
       "  </thead>\n",
       "  <tbody>\n",
       "    <tr>\n",
       "      <th>chr13-68173456-68173942</th>\n",
       "      <td>0.80</td>\n",
       "      <td>0.61</td>\n",
       "      <td>0.22</td>\n",
       "      <td>CA1-ProS_Glut</td>\n",
       "    </tr>\n",
       "    <tr>\n",
       "      <th>chr13-68173584-68174051</th>\n",
       "      <td>0.82</td>\n",
       "      <td>0.48</td>\n",
       "      <td>0.28</td>\n",
       "      <td>L23_IT_ENT_Glut</td>\n",
       "    </tr>\n",
       "    <tr>\n",
       "      <th>chr13-68173584-68173714</th>\n",
       "      <td>0.57</td>\n",
       "      <td>0.41</td>\n",
       "      <td>0.26</td>\n",
       "      <td>L23_IT_PPP_Glut</td>\n",
       "    </tr>\n",
       "    <tr>\n",
       "      <th>chr13-68173767-68173780</th>\n",
       "      <td>0.68</td>\n",
       "      <td>0.62</td>\n",
       "      <td>0.44</td>\n",
       "      <td>L23_IT_PPP_Glut</td>\n",
       "    </tr>\n",
       "    <tr>\n",
       "      <th>chr13-68173919-68173939</th>\n",
       "      <td>0.77</td>\n",
       "      <td>0.71</td>\n",
       "      <td>0.53</td>\n",
       "      <td>L23_IT_PPP_Glut</td>\n",
       "    </tr>\n",
       "  </tbody>\n",
       "</table>\n",
       "</div>"
      ],
      "text/plain": [
       "                          8wk   9mo  18mo         celltype\n",
       "dmr_id                                                    \n",
       "chr13-68173456-68173942  0.80  0.61  0.22    CA1-ProS_Glut\n",
       "chr13-68173584-68174051  0.82  0.48  0.28  L23_IT_ENT_Glut\n",
       "chr13-68173584-68173714  0.57  0.41  0.26  L23_IT_PPP_Glut\n",
       "chr13-68173767-68173780  0.68  0.62  0.44  L23_IT_PPP_Glut\n",
       "chr13-68173919-68173939  0.77  0.71  0.53  L23_IT_PPP_Glut"
      ]
     },
     "execution_count": 6,
     "metadata": {},
     "output_type": "execute_result"
    }
   ],
   "source": [
    "dmr_dir = '/home/qzeng/project/aging/230907-recall-dmr/Merge_DMR/mC_FILTER_DMR_BED'\n",
    "\n",
    "all_df = []\n",
    "hotspot = pybedtools.BedTool(f\"{_chr} {hotspot_start} {hotspot_end}\", from_string=True)\n",
    "for ct in plot_celltypes:\n",
    "    dmr_path = f\"{dmr_dir}/{ct}.Hypo.aDMR.bed\"\n",
    "    dmr_bed = pybedtools.BedTool(dmr_path)\n",
    "    intersected = dmr_bed.intersect(hotspot, wa=True)\n",
    "    tmpdf = intersected.to_dataframe(names=['dmr_id', '8wk', '9mo', '18mo']) \n",
    "    tmpdf['celltype'] = ct\n",
    "    all_df.append(tmpdf)\n",
    "\n",
    "all_df = pd.concat(all_df)\n",
    "all_df = all_df.set_index('dmr_id')\n",
    "all_df.head()"
   ]
  },
  {
   "cell_type": "markdown",
   "id": "54764028-524f-414a-b002-5833fe1ec6f4",
   "metadata": {
    "execution": {
     "iopub.execute_input": "2024-05-03T20:07:03.628599Z",
     "iopub.status.busy": "2024-05-03T20:07:03.628196Z",
     "iopub.status.idle": "2024-05-03T20:07:03.631487Z",
     "shell.execute_reply": "2024-05-03T20:07:03.631040Z",
     "shell.execute_reply.started": "2024-05-03T20:07:03.628568Z"
    },
    "tags": []
   },
   "source": [
    "## get mc info from bigwig"
   ]
  },
  {
   "cell_type": "code",
   "execution_count": 7,
   "id": "6f0a9afa-9503-49cf-83d7-33f0866e0ba1",
   "metadata": {
    "execution": {
     "iopub.execute_input": "2024-07-17T17:49:12.156029Z",
     "iopub.status.busy": "2024-07-17T17:49:12.155376Z",
     "iopub.status.idle": "2024-07-17T17:49:12.227279Z",
     "shell.execute_reply": "2024-07-17T17:49:12.226733Z",
     "shell.execute_reply.started": "2024-07-17T17:49:12.155998Z"
    },
    "tags": []
   },
   "outputs": [
    {
     "data": {
      "text/html": [
       "<div>\n",
       "<style scoped>\n",
       "    .dataframe tbody tr th:only-of-type {\n",
       "        vertical-align: middle;\n",
       "    }\n",
       "\n",
       "    .dataframe tbody tr th {\n",
       "        vertical-align: top;\n",
       "    }\n",
       "\n",
       "    .dataframe thead th {\n",
       "        text-align: right;\n",
       "    }\n",
       "</style>\n",
       "<table border=\"1\" class=\"dataframe\">\n",
       "  <thead>\n",
       "    <tr style=\"text-align: right;\">\n",
       "      <th></th>\n",
       "      <th>male.2mo</th>\n",
       "      <th>male.9mo</th>\n",
       "      <th>male.18mo</th>\n",
       "    </tr>\n",
       "  </thead>\n",
       "  <tbody>\n",
       "    <tr>\n",
       "      <th>CA1-ProS_Glut</th>\n",
       "      <td>0.803165</td>\n",
       "      <td>0.665307</td>\n",
       "      <td>0.295900</td>\n",
       "    </tr>\n",
       "    <tr>\n",
       "      <th>L23_IT_ENT_Glut</th>\n",
       "      <td>0.816773</td>\n",
       "      <td>0.516423</td>\n",
       "      <td>0.306860</td>\n",
       "    </tr>\n",
       "    <tr>\n",
       "      <th>L23_IT_PPP_Glut</th>\n",
       "      <td>0.660426</td>\n",
       "      <td>0.477904</td>\n",
       "      <td>0.415435</td>\n",
       "    </tr>\n",
       "    <tr>\n",
       "      <th>L5_IT_CTX_Glut</th>\n",
       "      <td>0.836029</td>\n",
       "      <td>0.273780</td>\n",
       "      <td>0.397662</td>\n",
       "    </tr>\n",
       "    <tr>\n",
       "      <th>DG_Glut</th>\n",
       "      <td>0.841183</td>\n",
       "      <td>0.588116</td>\n",
       "      <td>0.360984</td>\n",
       "    </tr>\n",
       "  </tbody>\n",
       "</table>\n",
       "</div>"
      ],
      "text/plain": [
       "                 male.2mo  male.9mo  male.18mo\n",
       "CA1-ProS_Glut    0.803165  0.665307   0.295900\n",
       "L23_IT_ENT_Glut  0.816773  0.516423   0.306860\n",
       "L23_IT_PPP_Glut  0.660426  0.477904   0.415435\n",
       "L5_IT_CTX_Glut   0.836029  0.273780   0.397662\n",
       "DG_Glut          0.841183  0.588116   0.360984"
      ]
     },
     "execution_count": 7,
     "metadata": {},
     "output_type": "execute_result"
    }
   ],
   "source": [
    "_gender = 'male'\n",
    "bigwig_dir = f'/ceph/gale-1/qzeng/AmbData/CellType_Allc/M.CellType.Age'\n",
    "mc_all_df = []\n",
    "\n",
    "for ct in plot_celltypes:\n",
    "    try:\n",
    "        dmr_id = all_df[all_df['celltype']== ct].index[0]\n",
    "    except IndexError:\n",
    "        dmr_id = exmaple_hotspolt\n",
    "    \n",
    "    _chr, start, end = dmr_id.split('-')\n",
    "    start, end = int(start), int(end)\n",
    "    \n",
    "    total_counts_df = {}\n",
    "    for age in ['8wk','9mo','18mo']:\n",
    "        bigwig_path = f\"{bigwig_dir}/{ct}.{age}/{ct}.{age}.CGN-both.frac.bw\"\n",
    "        bw = pyBigWig.open(bigwig_path)\n",
    "        total_counts = bw.stats(_chr, start, end, type=\"mean\")\n",
    "        total_counts_df[age] = total_counts\n",
    "    total_counts_df = pd.DataFrame(total_counts_df)\n",
    "    total_counts_df.index = [ct]\n",
    "    mc_all_df.append(total_counts_df)\n",
    "\n",
    "male_mc = pd.concat(mc_all_df)\n",
    "male_mc.columns = [f\"{_gender}.2mo\",f\"{_gender}.9mo\",f\"{_gender}.18mo\"]\n",
    "male_mc.head()"
   ]
  },
  {
   "cell_type": "code",
   "execution_count": 8,
   "id": "bda3a0bc-a1ea-496b-96de-dfc10c336f8c",
   "metadata": {
    "execution": {
     "iopub.execute_input": "2024-07-17T17:49:12.228789Z",
     "iopub.status.busy": "2024-07-17T17:49:12.228432Z",
     "iopub.status.idle": "2024-07-17T17:49:12.283872Z",
     "shell.execute_reply": "2024-07-17T17:49:12.283142Z",
     "shell.execute_reply.started": "2024-07-17T17:49:12.228766Z"
    },
    "tags": []
   },
   "outputs": [
    {
     "data": {
      "text/html": [
       "<div>\n",
       "<style scoped>\n",
       "    .dataframe tbody tr th:only-of-type {\n",
       "        vertical-align: middle;\n",
       "    }\n",
       "\n",
       "    .dataframe tbody tr th {\n",
       "        vertical-align: top;\n",
       "    }\n",
       "\n",
       "    .dataframe thead th {\n",
       "        text-align: right;\n",
       "    }\n",
       "</style>\n",
       "<table border=\"1\" class=\"dataframe\">\n",
       "  <thead>\n",
       "    <tr style=\"text-align: right;\">\n",
       "      <th></th>\n",
       "      <th>female.2mo</th>\n",
       "      <th>female.9mo</th>\n",
       "      <th>female.18mo</th>\n",
       "    </tr>\n",
       "  </thead>\n",
       "  <tbody>\n",
       "    <tr>\n",
       "      <th>CA1-ProS_Glut</th>\n",
       "      <td>0.780892</td>\n",
       "      <td>0.525568</td>\n",
       "      <td>0.121395</td>\n",
       "    </tr>\n",
       "    <tr>\n",
       "      <th>L23_IT_ENT_Glut</th>\n",
       "      <td>0.829085</td>\n",
       "      <td>0.463873</td>\n",
       "      <td>0.278972</td>\n",
       "    </tr>\n",
       "    <tr>\n",
       "      <th>L23_IT_PPP_Glut</th>\n",
       "      <td>0.562967</td>\n",
       "      <td>0.384804</td>\n",
       "      <td>0.113255</td>\n",
       "    </tr>\n",
       "    <tr>\n",
       "      <th>L5_IT_CTX_Glut</th>\n",
       "      <td>0.861681</td>\n",
       "      <td>0.273697</td>\n",
       "      <td>0.135269</td>\n",
       "    </tr>\n",
       "    <tr>\n",
       "      <th>DG_Glut</th>\n",
       "      <td>0.786408</td>\n",
       "      <td>0.436503</td>\n",
       "      <td>0.282031</td>\n",
       "    </tr>\n",
       "  </tbody>\n",
       "</table>\n",
       "</div>"
      ],
      "text/plain": [
       "                 female.2mo  female.9mo  female.18mo\n",
       "CA1-ProS_Glut      0.780892    0.525568     0.121395\n",
       "L23_IT_ENT_Glut    0.829085    0.463873     0.278972\n",
       "L23_IT_PPP_Glut    0.562967    0.384804     0.113255\n",
       "L5_IT_CTX_Glut     0.861681    0.273697     0.135269\n",
       "DG_Glut            0.786408    0.436503     0.282031"
      ]
     },
     "execution_count": 8,
     "metadata": {},
     "output_type": "execute_result"
    }
   ],
   "source": [
    "_gender = 'female'\n",
    "bigwig_dir = f'/ceph/gale-1/qzeng/AmbData/CellType_Allc/F.CellType.Age'\n",
    "mc_all_df = []\n",
    "\n",
    "for ct in plot_celltypes:\n",
    "    try:\n",
    "        dmr_id = all_df[all_df['celltype']== ct].index[0]\n",
    "    except IndexError:\n",
    "        dmr_id = exmaple_hotspolt\n",
    "    \n",
    "    _chr, start, end = dmr_id.split('-')\n",
    "    start, end = int(start), int(end)\n",
    "    \n",
    "    total_counts_df = {}\n",
    "    for age in ['8wk','9mo','18mo']:\n",
    "        bigwig_path = f\"{bigwig_dir}/{ct}.{age}/{ct}.{age}.CGN-both.frac.bw\"\n",
    "        bw = pyBigWig.open(bigwig_path)\n",
    "        total_counts = bw.stats(_chr, start, end, type=\"mean\")\n",
    "        total_counts_df[age] = total_counts\n",
    "    total_counts_df = pd.DataFrame(total_counts_df)\n",
    "    total_counts_df.index = [ct]\n",
    "    mc_all_df.append(total_counts_df)\n",
    "\n",
    "female_mc = pd.concat(mc_all_df)\n",
    "female_mc.columns = [f\"{_gender}.2mo\",f\"{_gender}.9mo\",f\"{_gender}.18mo\"]\n",
    "female_mc.head()"
   ]
  },
  {
   "cell_type": "code",
   "execution_count": 9,
   "id": "bd9427d5-5d37-486f-9a62-eba500982e21",
   "metadata": {
    "execution": {
     "iopub.execute_input": "2024-07-17T17:49:12.284881Z",
     "iopub.status.busy": "2024-07-17T17:49:12.284650Z",
     "iopub.status.idle": "2024-07-17T17:49:12.288610Z",
     "shell.execute_reply": "2024-07-17T17:49:12.288068Z",
     "shell.execute_reply.started": "2024-07-17T17:49:12.284859Z"
    },
    "tags": []
   },
   "outputs": [],
   "source": [
    "mc_all_to_plot = pd.concat([male_mc, female_mc], axis = 1)"
   ]
  },
  {
   "cell_type": "markdown",
   "id": "633be7eb-0158-4a2a-be89-4d55d749fb9f",
   "metadata": {
    "tags": []
   },
   "source": [
    "## check mch"
   ]
  },
  {
   "cell_type": "code",
   "execution_count": 10,
   "id": "cb207e99-f5cc-4a08-a266-433e4bfa2d8f",
   "metadata": {
    "execution": {
     "iopub.execute_input": "2024-07-17T17:49:12.289830Z",
     "iopub.status.busy": "2024-07-17T17:49:12.289629Z",
     "iopub.status.idle": "2024-07-17T17:49:12.346428Z",
     "shell.execute_reply": "2024-07-17T17:49:12.345884Z",
     "shell.execute_reply.started": "2024-07-17T17:49:12.289811Z"
    },
    "tags": []
   },
   "outputs": [
    {
     "data": {
      "text/html": [
       "<div>\n",
       "<style scoped>\n",
       "    .dataframe tbody tr th:only-of-type {\n",
       "        vertical-align: middle;\n",
       "    }\n",
       "\n",
       "    .dataframe tbody tr th {\n",
       "        vertical-align: top;\n",
       "    }\n",
       "\n",
       "    .dataframe thead th {\n",
       "        text-align: right;\n",
       "    }\n",
       "</style>\n",
       "<table border=\"1\" class=\"dataframe\">\n",
       "  <thead>\n",
       "    <tr style=\"text-align: right;\">\n",
       "      <th></th>\n",
       "      <th>male.2mo</th>\n",
       "      <th>male.9mo</th>\n",
       "      <th>male.18mo</th>\n",
       "    </tr>\n",
       "  </thead>\n",
       "  <tbody>\n",
       "    <tr>\n",
       "      <th>CA1-ProS_Glut</th>\n",
       "      <td>0.004658</td>\n",
       "      <td>0.011829</td>\n",
       "      <td>0.006471</td>\n",
       "    </tr>\n",
       "    <tr>\n",
       "      <th>L23_IT_ENT_Glut</th>\n",
       "      <td>0.006479</td>\n",
       "      <td>0.013527</td>\n",
       "      <td>0.006732</td>\n",
       "    </tr>\n",
       "    <tr>\n",
       "      <th>L23_IT_PPP_Glut</th>\n",
       "      <td>0.007384</td>\n",
       "      <td>0.009462</td>\n",
       "      <td>0.005425</td>\n",
       "    </tr>\n",
       "    <tr>\n",
       "      <th>L5_IT_CTX_Glut</th>\n",
       "      <td>0.007072</td>\n",
       "      <td>0.004876</td>\n",
       "      <td>0.009935</td>\n",
       "    </tr>\n",
       "    <tr>\n",
       "      <th>DG_Glut</th>\n",
       "      <td>0.005807</td>\n",
       "      <td>0.006901</td>\n",
       "      <td>0.005422</td>\n",
       "    </tr>\n",
       "  </tbody>\n",
       "</table>\n",
       "</div>"
      ],
      "text/plain": [
       "                 male.2mo  male.9mo  male.18mo\n",
       "CA1-ProS_Glut    0.004658  0.011829   0.006471\n",
       "L23_IT_ENT_Glut  0.006479  0.013527   0.006732\n",
       "L23_IT_PPP_Glut  0.007384  0.009462   0.005425\n",
       "L5_IT_CTX_Glut   0.007072  0.004876   0.009935\n",
       "DG_Glut          0.005807  0.006901   0.005422"
      ]
     },
     "execution_count": 10,
     "metadata": {},
     "output_type": "execute_result"
    }
   ],
   "source": [
    "_gender = 'male'\n",
    "bigwig_dir = f'/ceph/gale-1/qzeng/AmbData/CellType_Allc/M.CellType.Age'\n",
    "mc_all_df = []\n",
    "\n",
    "for ct in plot_celltypes:\n",
    "    try:\n",
    "        dmr_id = all_df[all_df['celltype']== ct].index[0]\n",
    "    except IndexError:\n",
    "        dmr_id = exmaple_hotspolt\n",
    "    \n",
    "    _chr, start, end = dmr_id.split('-')\n",
    "    start, end = int(start), int(end)\n",
    "    slop = 100\n",
    "    start, end = start + slop, end + slop\n",
    "    \n",
    "    total_counts_df = {}\n",
    "    for age in ['8wk','9mo','18mo']:\n",
    "        bigwig_path = f\"{bigwig_dir}/{ct}.{age}/{ct}.{age}.CHN-both.frac.bw\"\n",
    "        bw = pyBigWig.open(bigwig_path)\n",
    "        total_counts = bw.stats(_chr, start, end, type=\"mean\")\n",
    "        total_counts_df[age] = total_counts\n",
    "    total_counts_df = pd.DataFrame(total_counts_df)\n",
    "    total_counts_df.index = [ct]\n",
    "    mc_all_df.append(total_counts_df)\n",
    "\n",
    "male_mc = pd.concat(mc_all_df)\n",
    "male_mc.columns = [f\"{_gender}.2mo\",f\"{_gender}.9mo\",f\"{_gender}.18mo\"]\n",
    "#male_mc = male_mc.div(male_mc.sum(axis = 1), axis = 0)\n",
    "male_mc.head()"
   ]
  },
  {
   "cell_type": "code",
   "execution_count": 11,
   "id": "d8fc6033-e49b-46fa-a9cb-82f8e94a6c20",
   "metadata": {
    "execution": {
     "iopub.execute_input": "2024-07-17T17:49:12.347652Z",
     "iopub.status.busy": "2024-07-17T17:49:12.347360Z",
     "iopub.status.idle": "2024-07-17T17:49:12.400586Z",
     "shell.execute_reply": "2024-07-17T17:49:12.400071Z",
     "shell.execute_reply.started": "2024-07-17T17:49:12.347631Z"
    },
    "tags": []
   },
   "outputs": [
    {
     "data": {
      "text/html": [
       "<div>\n",
       "<style scoped>\n",
       "    .dataframe tbody tr th:only-of-type {\n",
       "        vertical-align: middle;\n",
       "    }\n",
       "\n",
       "    .dataframe tbody tr th {\n",
       "        vertical-align: top;\n",
       "    }\n",
       "\n",
       "    .dataframe thead th {\n",
       "        text-align: right;\n",
       "    }\n",
       "</style>\n",
       "<table border=\"1\" class=\"dataframe\">\n",
       "  <thead>\n",
       "    <tr style=\"text-align: right;\">\n",
       "      <th></th>\n",
       "      <th>female.2mo</th>\n",
       "      <th>female.9mo</th>\n",
       "      <th>female.18mo</th>\n",
       "    </tr>\n",
       "  </thead>\n",
       "  <tbody>\n",
       "    <tr>\n",
       "      <th>CA1-ProS_Glut</th>\n",
       "      <td>0.005828</td>\n",
       "      <td>0.006215</td>\n",
       "      <td>0.006079</td>\n",
       "    </tr>\n",
       "    <tr>\n",
       "      <th>L23_IT_ENT_Glut</th>\n",
       "      <td>0.007446</td>\n",
       "      <td>0.003794</td>\n",
       "      <td>0.005383</td>\n",
       "    </tr>\n",
       "    <tr>\n",
       "      <th>L23_IT_PPP_Glut</th>\n",
       "      <td>0.009614</td>\n",
       "      <td>0.013679</td>\n",
       "      <td>0.001732</td>\n",
       "    </tr>\n",
       "    <tr>\n",
       "      <th>L5_IT_CTX_Glut</th>\n",
       "      <td>0.004792</td>\n",
       "      <td>0.007361</td>\n",
       "      <td>0.010006</td>\n",
       "    </tr>\n",
       "    <tr>\n",
       "      <th>DG_Glut</th>\n",
       "      <td>0.006548</td>\n",
       "      <td>0.008054</td>\n",
       "      <td>0.005038</td>\n",
       "    </tr>\n",
       "  </tbody>\n",
       "</table>\n",
       "</div>"
      ],
      "text/plain": [
       "                 female.2mo  female.9mo  female.18mo\n",
       "CA1-ProS_Glut      0.005828    0.006215     0.006079\n",
       "L23_IT_ENT_Glut    0.007446    0.003794     0.005383\n",
       "L23_IT_PPP_Glut    0.009614    0.013679     0.001732\n",
       "L5_IT_CTX_Glut     0.004792    0.007361     0.010006\n",
       "DG_Glut            0.006548    0.008054     0.005038"
      ]
     },
     "execution_count": 11,
     "metadata": {},
     "output_type": "execute_result"
    }
   ],
   "source": [
    "_gender = 'female'\n",
    "bigwig_dir = f'/ceph/gale-1/qzeng/AmbData/CellType_Allc/F.CellType.Age'\n",
    "mc_all_df = []\n",
    "\n",
    "for ct in plot_celltypes:\n",
    "    try:\n",
    "        dmr_id = all_df[all_df['celltype']== ct].index[0]\n",
    "    except IndexError:\n",
    "        dmr_id = exmaple_hotspolt\n",
    "    \n",
    "    _chr, start, end = dmr_id.split('-')\n",
    "    start, end = int(start), int(end)\n",
    "    slop = 100\n",
    "    start, end = start + slop, end + slop\n",
    "    \n",
    "    total_counts_df = {}\n",
    "    for age in ['8wk','9mo','18mo']:\n",
    "        bigwig_path = f\"{bigwig_dir}/{ct}.{age}/{ct}.{age}.CHN-both.frac.bw\"\n",
    "        bw = pyBigWig.open(bigwig_path)\n",
    "        total_counts = bw.stats(_chr, start, end, type=\"mean\")\n",
    "        total_counts_df[age] = total_counts\n",
    "    total_counts_df = pd.DataFrame(total_counts_df)\n",
    "    total_counts_df.index = [ct]\n",
    "    mc_all_df.append(total_counts_df)\n",
    "\n",
    "female_mc = pd.concat(mc_all_df)\n",
    "female_mc.columns = [f\"{_gender}.2mo\",f\"{_gender}.9mo\",f\"{_gender}.18mo\"]\n",
    "#female_mc = female_mc.div(female_mc.sum(axis = 1), axis = 0)\n",
    "female_mc.head()"
   ]
  },
  {
   "cell_type": "code",
   "execution_count": 12,
   "id": "8bab3269-2237-4722-b20e-1ee7fbdcaa8a",
   "metadata": {
    "execution": {
     "iopub.execute_input": "2024-07-17T17:49:12.401532Z",
     "iopub.status.busy": "2024-07-17T17:49:12.401325Z",
     "iopub.status.idle": "2024-07-17T17:49:12.411621Z",
     "shell.execute_reply": "2024-07-17T17:49:12.411114Z",
     "shell.execute_reply.started": "2024-07-17T17:49:12.401512Z"
    },
    "tags": []
   },
   "outputs": [
    {
     "data": {
      "text/html": [
       "<div>\n",
       "<style scoped>\n",
       "    .dataframe tbody tr th:only-of-type {\n",
       "        vertical-align: middle;\n",
       "    }\n",
       "\n",
       "    .dataframe tbody tr th {\n",
       "        vertical-align: top;\n",
       "    }\n",
       "\n",
       "    .dataframe thead th {\n",
       "        text-align: right;\n",
       "    }\n",
       "</style>\n",
       "<table border=\"1\" class=\"dataframe\">\n",
       "  <thead>\n",
       "    <tr style=\"text-align: right;\">\n",
       "      <th></th>\n",
       "      <th>male.2mo</th>\n",
       "      <th>male.9mo</th>\n",
       "      <th>male.18mo</th>\n",
       "      <th>female.2mo</th>\n",
       "      <th>female.9mo</th>\n",
       "      <th>female.18mo</th>\n",
       "    </tr>\n",
       "  </thead>\n",
       "  <tbody>\n",
       "    <tr>\n",
       "      <th>CA1-ProS_Glut</th>\n",
       "      <td>0.004658</td>\n",
       "      <td>0.011829</td>\n",
       "      <td>0.006471</td>\n",
       "      <td>0.005828</td>\n",
       "      <td>0.006215</td>\n",
       "      <td>0.006079</td>\n",
       "    </tr>\n",
       "    <tr>\n",
       "      <th>L23_IT_ENT_Glut</th>\n",
       "      <td>0.006479</td>\n",
       "      <td>0.013527</td>\n",
       "      <td>0.006732</td>\n",
       "      <td>0.007446</td>\n",
       "      <td>0.003794</td>\n",
       "      <td>0.005383</td>\n",
       "    </tr>\n",
       "    <tr>\n",
       "      <th>L23_IT_PPP_Glut</th>\n",
       "      <td>0.007384</td>\n",
       "      <td>0.009462</td>\n",
       "      <td>0.005425</td>\n",
       "      <td>0.009614</td>\n",
       "      <td>0.013679</td>\n",
       "      <td>0.001732</td>\n",
       "    </tr>\n",
       "    <tr>\n",
       "      <th>L5_IT_CTX_Glut</th>\n",
       "      <td>0.007072</td>\n",
       "      <td>0.004876</td>\n",
       "      <td>0.009935</td>\n",
       "      <td>0.004792</td>\n",
       "      <td>0.007361</td>\n",
       "      <td>0.010006</td>\n",
       "    </tr>\n",
       "    <tr>\n",
       "      <th>DG_Glut</th>\n",
       "      <td>0.005807</td>\n",
       "      <td>0.006901</td>\n",
       "      <td>0.005422</td>\n",
       "      <td>0.006548</td>\n",
       "      <td>0.008054</td>\n",
       "      <td>0.005038</td>\n",
       "    </tr>\n",
       "  </tbody>\n",
       "</table>\n",
       "</div>"
      ],
      "text/plain": [
       "                 male.2mo  male.9mo  male.18mo  female.2mo  female.9mo  \\\n",
       "CA1-ProS_Glut    0.004658  0.011829   0.006471    0.005828    0.006215   \n",
       "L23_IT_ENT_Glut  0.006479  0.013527   0.006732    0.007446    0.003794   \n",
       "L23_IT_PPP_Glut  0.007384  0.009462   0.005425    0.009614    0.013679   \n",
       "L5_IT_CTX_Glut   0.007072  0.004876   0.009935    0.004792    0.007361   \n",
       "DG_Glut          0.005807  0.006901   0.005422    0.006548    0.008054   \n",
       "\n",
       "                 female.18mo  \n",
       "CA1-ProS_Glut       0.006079  \n",
       "L23_IT_ENT_Glut     0.005383  \n",
       "L23_IT_PPP_Glut     0.001732  \n",
       "L5_IT_CTX_Glut      0.010006  \n",
       "DG_Glut             0.005038  "
      ]
     },
     "execution_count": 12,
     "metadata": {},
     "output_type": "execute_result"
    }
   ],
   "source": [
    "mch_all_to_plot = pd.concat([male_mc, female_mc], axis = 1)\n",
    "mch_all_to_plot.head()"
   ]
  },
  {
   "cell_type": "markdown",
   "id": "f06edf1e-ef6f-4a7b-a254-844e2a550622",
   "metadata": {
    "tags": []
   },
   "source": [
    "## check atac"
   ]
  },
  {
   "cell_type": "code",
   "execution_count": 13,
   "id": "4df5a969-b468-447d-b8d1-c63b95e5bae0",
   "metadata": {
    "execution": {
     "iopub.execute_input": "2024-07-17T17:49:12.412518Z",
     "iopub.status.busy": "2024-07-17T17:49:12.412314Z",
     "iopub.status.idle": "2024-07-17T17:49:12.416926Z",
     "shell.execute_reply": "2024-07-17T17:49:12.416341Z",
     "shell.execute_reply.started": "2024-07-17T17:49:12.412498Z"
    },
    "tags": []
   },
   "outputs": [],
   "source": [
    "mc_to_atac = {'CA1-ProS_Glut': 'CA1-ProS_Glut',\n",
    "             'L5_IT_CTX_Glut': 'L5_IT_CTX_Glut',\n",
    "             'DG_Glut': 'DG_Glut',\n",
    "             'L6_IT_CTX_Glut': 'L6_IT_CTX_Glut',\n",
    "             'L5_ET_CTX_Glut': 'L5_ET_CTX_Glut',\n",
    "             'CA3_Glut': 'CA3_Glut',\n",
    "             'L23_IT_PPP_Glut':'L2_IT_PPP-APr_Glut',\n",
    "             'ENTmv-PA-COAp_Glut': 'ENTmv-PA-COAp_Glut',\n",
    "             'L45_IT_CTX_Glut':'L5_IT_CTX_Glut',\n",
    "             'LA-BLA-BMA-PA_Glut': 'LA-BLA-BMA-PA_Glut',\n",
    "             'L23_IT_ENT_Glut': 'L2_3_IT_ENT_Glut',\n",
    "             'L23_IT_PPP_Glut':'L2_3_IT_PPP_Glut',\n",
    "              'Astro-NT_NN':'Astro-NT',\n",
    "              'Astro-TE_NN':'Astro-TE',\n",
    "              'STR_D1_Gaba':'STR_D12_Gaba'\n",
    "             }"
   ]
  },
  {
   "cell_type": "code",
   "execution_count": 14,
   "id": "e9e68878-9777-49ab-a68e-63a24c826154",
   "metadata": {
    "execution": {
     "iopub.execute_input": "2024-07-17T17:49:12.418089Z",
     "iopub.status.busy": "2024-07-17T17:49:12.417820Z",
     "iopub.status.idle": "2024-07-17T17:49:13.304091Z",
     "shell.execute_reply": "2024-07-17T17:49:13.303141Z",
     "shell.execute_reply.started": "2024-07-17T17:49:12.418069Z"
    },
    "tags": []
   },
   "outputs": [
    {
     "data": {
      "text/html": [
       "<div>\n",
       "<style scoped>\n",
       "    .dataframe tbody tr th:only-of-type {\n",
       "        vertical-align: middle;\n",
       "    }\n",
       "\n",
       "    .dataframe tbody tr th {\n",
       "        vertical-align: top;\n",
       "    }\n",
       "\n",
       "    .dataframe thead th {\n",
       "        text-align: right;\n",
       "    }\n",
       "</style>\n",
       "<table border=\"1\" class=\"dataframe\">\n",
       "  <thead>\n",
       "    <tr style=\"text-align: right;\">\n",
       "      <th></th>\n",
       "      <th>male.2mo</th>\n",
       "      <th>male.9mo</th>\n",
       "      <th>male.18mo</th>\n",
       "    </tr>\n",
       "  </thead>\n",
       "  <tbody>\n",
       "    <tr>\n",
       "      <th>CA1-ProS_Glut</th>\n",
       "      <td>0.054659</td>\n",
       "      <td>0.205204</td>\n",
       "      <td>0.740136</td>\n",
       "    </tr>\n",
       "    <tr>\n",
       "      <th>L23_IT_ENT_Glut</th>\n",
       "      <td>0.049513</td>\n",
       "      <td>0.406007</td>\n",
       "      <td>0.544481</td>\n",
       "    </tr>\n",
       "    <tr>\n",
       "      <th>L23_IT_PPP_Glut</th>\n",
       "      <td>0.215396</td>\n",
       "      <td>0.247420</td>\n",
       "      <td>0.537183</td>\n",
       "    </tr>\n",
       "    <tr>\n",
       "      <th>L5_IT_CTX_Glut</th>\n",
       "      <td>0.048871</td>\n",
       "      <td>0.362198</td>\n",
       "      <td>0.588932</td>\n",
       "    </tr>\n",
       "    <tr>\n",
       "      <th>DG_Glut</th>\n",
       "      <td>0.023381</td>\n",
       "      <td>0.398898</td>\n",
       "      <td>0.577721</td>\n",
       "    </tr>\n",
       "  </tbody>\n",
       "</table>\n",
       "</div>"
      ],
      "text/plain": [
       "                 male.2mo  male.9mo  male.18mo\n",
       "CA1-ProS_Glut    0.054659  0.205204   0.740136\n",
       "L23_IT_ENT_Glut  0.049513  0.406007   0.544481\n",
       "L23_IT_PPP_Glut  0.215396  0.247420   0.537183\n",
       "L5_IT_CTX_Glut   0.048871  0.362198   0.588932\n",
       "DG_Glut          0.023381  0.398898   0.577721"
      ]
     },
     "execution_count": 14,
     "metadata": {},
     "output_type": "execute_result"
    }
   ],
   "source": [
    "_gender = 'male'\n",
    "bigwig_dir = f'/ceph/gale-1/qzeng/AmbData/Luisa/{_gender}_atac'\n",
    "atac_all_df = []\n",
    "\n",
    "for ct in plot_celltypes:\n",
    "    try:\n",
    "        atac_ct = mc_to_atac[ct]\n",
    "    except KeyError:\n",
    "        atac_ct =ct\n",
    "    \n",
    "    try:\n",
    "        dmr_id = all_df[all_df['celltype']== ct].index[0]\n",
    "    except IndexError:\n",
    "        dmr_id = exmaple_hotspolt\n",
    "    slop = 300\n",
    "    _chr, start, end = dmr_id.split('-')\n",
    "    start, end = int(start), int(end)\n",
    "    start, end = start + slop, end + slop\n",
    "    \n",
    "    total_counts_df = {}\n",
    "    for age in ['2mo','9mo','18mo']:\n",
    "        bigwig_path = f\"{bigwig_dir}/Male_{atac_ct}_{age}_merge.bw\"\n",
    "        bw = pyBigWig.open(bigwig_path)\n",
    "        total_counts = bw.stats(_chr, start, end, type=\"sum\")\n",
    "        total_counts_df[age] = total_counts\n",
    "    total_counts_df = pd.DataFrame(total_counts_df)\n",
    "    total_counts_df.index = [ct]\n",
    "    atac_all_df.append(total_counts_df)\n",
    "\n",
    "male_atac = pd.concat(atac_all_df)\n",
    "\n",
    "male_atac = male_atac.div(male_atac.sum(axis = 1), axis = 0) # normalized to 0-1\n",
    "male_atac.columns = [f\"{_gender}.2mo\",f\"{_gender}.9mo\",f\"{_gender}.18mo\"]\n",
    "male_atac.head()"
   ]
  },
  {
   "cell_type": "code",
   "execution_count": 15,
   "id": "0d0c32d3-3c5e-4fa3-9cef-935ac67bd959",
   "metadata": {
    "execution": {
     "iopub.execute_input": "2024-07-17T17:49:13.306093Z",
     "iopub.status.busy": "2024-07-17T17:49:13.305526Z",
     "iopub.status.idle": "2024-07-17T17:49:13.313234Z",
     "shell.execute_reply": "2024-07-17T17:49:13.312088Z",
     "shell.execute_reply.started": "2024-07-17T17:49:13.306049Z"
    },
    "tags": []
   },
   "outputs": [],
   "source": [
    "mc_to_atac = {'CA1-ProS_Glut': 'CA1-ProS_Glut',\n",
    "             'L5_IT_CTX_Glut': 'L5_IT_CTX_Glut',\n",
    "             'DG_Glut': 'DG_Glut',\n",
    "             'L6_IT_CTX_Glut': 'L6_IT_CTX_Glut',\n",
    "             'L5_ET_CTX_Glut': 'L5_ET_CTX_Glut',\n",
    "             'CA3_Glut': 'CA3_Glut',\n",
    "             'L23_IT_PPP_Glut':'L2_IT_PPP-APr_Glut',\n",
    "             'ENTmv-PA-COAp_Glut': 'ENTmv-PA-COAp_Glut',\n",
    "             'L45_IT_CTX_Glut':'L5_IT_CTX_Glut',\n",
    "             'LA-BLA-BMA-PA_Glut': 'LA-BLA-BMA-PA_Glut',\n",
    "             'L23_IT_ENT_Glut': 'L2_3_IT_ENT_Glut',\n",
    "             'L23_IT_PPP_Glut':'L2_3_IT_PPP_Glut',\n",
    "              'STR_D1_Gaba':'STR_D12_Gaba'\n",
    "              # 'Astro-NT_NN':'Astro-NT',\n",
    "              # 'Astro-TE_NN':'Astro-TE',\n",
    "             }"
   ]
  },
  {
   "cell_type": "code",
   "execution_count": 16,
   "id": "1a70140f-cfb9-451f-aff9-afad534f06d5",
   "metadata": {
    "execution": {
     "iopub.execute_input": "2024-07-17T17:49:13.315077Z",
     "iopub.status.busy": "2024-07-17T17:49:13.314564Z",
     "iopub.status.idle": "2024-07-17T17:49:14.106438Z",
     "shell.execute_reply": "2024-07-17T17:49:14.105448Z",
     "shell.execute_reply.started": "2024-07-17T17:49:13.315038Z"
    },
    "tags": []
   },
   "outputs": [
    {
     "data": {
      "text/html": [
       "<div>\n",
       "<style scoped>\n",
       "    .dataframe tbody tr th:only-of-type {\n",
       "        vertical-align: middle;\n",
       "    }\n",
       "\n",
       "    .dataframe tbody tr th {\n",
       "        vertical-align: top;\n",
       "    }\n",
       "\n",
       "    .dataframe thead th {\n",
       "        text-align: right;\n",
       "    }\n",
       "</style>\n",
       "<table border=\"1\" class=\"dataframe\">\n",
       "  <thead>\n",
       "    <tr style=\"text-align: right;\">\n",
       "      <th></th>\n",
       "      <th>female.2mo</th>\n",
       "      <th>female.9mo</th>\n",
       "      <th>female.18mo</th>\n",
       "    </tr>\n",
       "  </thead>\n",
       "  <tbody>\n",
       "    <tr>\n",
       "      <th>CA1-ProS_Glut</th>\n",
       "      <td>0.019937</td>\n",
       "      <td>0.298070</td>\n",
       "      <td>0.681994</td>\n",
       "    </tr>\n",
       "    <tr>\n",
       "      <th>L23_IT_ENT_Glut</th>\n",
       "      <td>0.025189</td>\n",
       "      <td>0.286324</td>\n",
       "      <td>0.688487</td>\n",
       "    </tr>\n",
       "    <tr>\n",
       "      <th>L23_IT_PPP_Glut</th>\n",
       "      <td>0.140373</td>\n",
       "      <td>0.248277</td>\n",
       "      <td>0.611350</td>\n",
       "    </tr>\n",
       "    <tr>\n",
       "      <th>L5_IT_CTX_Glut</th>\n",
       "      <td>0.042835</td>\n",
       "      <td>0.419707</td>\n",
       "      <td>0.537458</td>\n",
       "    </tr>\n",
       "    <tr>\n",
       "      <th>DG_Glut</th>\n",
       "      <td>0.036831</td>\n",
       "      <td>0.366718</td>\n",
       "      <td>0.596451</td>\n",
       "    </tr>\n",
       "  </tbody>\n",
       "</table>\n",
       "</div>"
      ],
      "text/plain": [
       "                 female.2mo  female.9mo  female.18mo\n",
       "CA1-ProS_Glut      0.019937    0.298070     0.681994\n",
       "L23_IT_ENT_Glut    0.025189    0.286324     0.688487\n",
       "L23_IT_PPP_Glut    0.140373    0.248277     0.611350\n",
       "L5_IT_CTX_Glut     0.042835    0.419707     0.537458\n",
       "DG_Glut            0.036831    0.366718     0.596451"
      ]
     },
     "execution_count": 16,
     "metadata": {},
     "output_type": "execute_result"
    }
   ],
   "source": [
    "_gender = 'female'\n",
    "bigwig_dir = f'/ceph/gale-1/qzeng/AmbData/Luisa/{_gender}_atac'\n",
    "atac_all_df = []\n",
    "\n",
    "for ct in plot_celltypes:\n",
    "    try:\n",
    "        atac_ct = mc_to_atac[ct]\n",
    "    except KeyError:\n",
    "        atac_ct =ct\n",
    "        \n",
    "    try:\n",
    "        dmr_id = all_df[all_df['celltype']== ct].index[0]\n",
    "    except IndexError:\n",
    "        dmr_id = exmaple_hotspolt\n",
    "    slop = 300\n",
    "    _chr, start, end = dmr_id.split('-')\n",
    "    start, end = int(start), int(end)\n",
    "    start, end = start + slop, end + slop\n",
    "    \n",
    "    total_counts_df = {}\n",
    "    for age in ['2mo','9mo','18mo']:\n",
    "        bigwig_path = f\"{bigwig_dir}/Female_{atac_ct}_{age}_merge.bw\"\n",
    "        bw = pyBigWig.open(bigwig_path)\n",
    "        total_counts = bw.stats(_chr, start, end, type=\"sum\")\n",
    "        total_counts_df[age] = total_counts\n",
    "    total_counts_df = pd.DataFrame(total_counts_df)\n",
    "    total_counts_df.index = [ct]\n",
    "    atac_all_df.append(total_counts_df)\n",
    "\n",
    "female_atac = pd.concat(atac_all_df)\n",
    "\n",
    "female_atac = female_atac.div(female_atac.sum(axis = 1), axis = 0) # normalized to 0-1\n",
    "female_atac.columns = [f\"{_gender}.2mo\",f\"{_gender}.9mo\",f\"{_gender}.18mo\"]\n",
    "female_atac.head()"
   ]
  },
  {
   "cell_type": "code",
   "execution_count": 17,
   "id": "b65cf6d2-cbc0-4cf6-8bcc-1a7aaa5475ed",
   "metadata": {
    "execution": {
     "iopub.execute_input": "2024-07-17T17:49:14.108463Z",
     "iopub.status.busy": "2024-07-17T17:49:14.107874Z",
     "iopub.status.idle": "2024-07-17T17:49:14.127143Z",
     "shell.execute_reply": "2024-07-17T17:49:14.126293Z",
     "shell.execute_reply.started": "2024-07-17T17:49:14.108418Z"
    },
    "tags": []
   },
   "outputs": [
    {
     "data": {
      "text/html": [
       "<div>\n",
       "<style scoped>\n",
       "    .dataframe tbody tr th:only-of-type {\n",
       "        vertical-align: middle;\n",
       "    }\n",
       "\n",
       "    .dataframe tbody tr th {\n",
       "        vertical-align: top;\n",
       "    }\n",
       "\n",
       "    .dataframe thead th {\n",
       "        text-align: right;\n",
       "    }\n",
       "</style>\n",
       "<table border=\"1\" class=\"dataframe\">\n",
       "  <thead>\n",
       "    <tr style=\"text-align: right;\">\n",
       "      <th></th>\n",
       "      <th>male.2mo</th>\n",
       "      <th>male.9mo</th>\n",
       "      <th>male.18mo</th>\n",
       "      <th>female.2mo</th>\n",
       "      <th>female.9mo</th>\n",
       "      <th>female.18mo</th>\n",
       "    </tr>\n",
       "  </thead>\n",
       "  <tbody>\n",
       "    <tr>\n",
       "      <th>CA1-ProS_Glut</th>\n",
       "      <td>0.054659</td>\n",
       "      <td>0.205204</td>\n",
       "      <td>0.740136</td>\n",
       "      <td>0.019937</td>\n",
       "      <td>0.298070</td>\n",
       "      <td>0.681994</td>\n",
       "    </tr>\n",
       "    <tr>\n",
       "      <th>L23_IT_ENT_Glut</th>\n",
       "      <td>0.049513</td>\n",
       "      <td>0.406007</td>\n",
       "      <td>0.544481</td>\n",
       "      <td>0.025189</td>\n",
       "      <td>0.286324</td>\n",
       "      <td>0.688487</td>\n",
       "    </tr>\n",
       "    <tr>\n",
       "      <th>L23_IT_PPP_Glut</th>\n",
       "      <td>0.215396</td>\n",
       "      <td>0.247420</td>\n",
       "      <td>0.537183</td>\n",
       "      <td>0.140373</td>\n",
       "      <td>0.248277</td>\n",
       "      <td>0.611350</td>\n",
       "    </tr>\n",
       "    <tr>\n",
       "      <th>L5_IT_CTX_Glut</th>\n",
       "      <td>0.048871</td>\n",
       "      <td>0.362198</td>\n",
       "      <td>0.588932</td>\n",
       "      <td>0.042835</td>\n",
       "      <td>0.419707</td>\n",
       "      <td>0.537458</td>\n",
       "    </tr>\n",
       "    <tr>\n",
       "      <th>DG_Glut</th>\n",
       "      <td>0.023381</td>\n",
       "      <td>0.398898</td>\n",
       "      <td>0.577721</td>\n",
       "      <td>0.036831</td>\n",
       "      <td>0.366718</td>\n",
       "      <td>0.596451</td>\n",
       "    </tr>\n",
       "  </tbody>\n",
       "</table>\n",
       "</div>"
      ],
      "text/plain": [
       "                 male.2mo  male.9mo  male.18mo  female.2mo  female.9mo  \\\n",
       "CA1-ProS_Glut    0.054659  0.205204   0.740136    0.019937    0.298070   \n",
       "L23_IT_ENT_Glut  0.049513  0.406007   0.544481    0.025189    0.286324   \n",
       "L23_IT_PPP_Glut  0.215396  0.247420   0.537183    0.140373    0.248277   \n",
       "L5_IT_CTX_Glut   0.048871  0.362198   0.588932    0.042835    0.419707   \n",
       "DG_Glut          0.023381  0.398898   0.577721    0.036831    0.366718   \n",
       "\n",
       "                 female.18mo  \n",
       "CA1-ProS_Glut       0.681994  \n",
       "L23_IT_ENT_Glut     0.688487  \n",
       "L23_IT_PPP_Glut     0.611350  \n",
       "L5_IT_CTX_Glut      0.537458  \n",
       "DG_Glut             0.596451  "
      ]
     },
     "execution_count": 17,
     "metadata": {},
     "output_type": "execute_result"
    }
   ],
   "source": [
    "atac_all_to_plot = pd.concat([male_atac, female_atac], axis = 1)\n",
    "atac_all_to_plot.head()"
   ]
  },
  {
   "cell_type": "markdown",
   "id": "9a52425e-2ad8-4a71-8a3a-7e81fe42c405",
   "metadata": {
    "jp-MarkdownHeadingCollapsed": true,
    "tags": []
   },
   "source": [
    "## RNA"
   ]
  },
  {
   "cell_type": "code",
   "execution_count": 18,
   "id": "29e53361-a13e-4e38-b7ea-dc2d9cdaabac",
   "metadata": {
    "execution": {
     "iopub.execute_input": "2024-07-17T17:49:14.128892Z",
     "iopub.status.busy": "2024-07-17T17:49:14.128388Z",
     "iopub.status.idle": "2024-07-17T17:49:14.135097Z",
     "shell.execute_reply": "2024-07-17T17:49:14.134052Z",
     "shell.execute_reply.started": "2024-07-17T17:49:14.128853Z"
    },
    "tags": []
   },
   "outputs": [],
   "source": [
    "mc_to_atac = {'CA1-ProS_Glut': 'CA1-ProS_Glut',\n",
    "             'L5_IT_CTX_Glut': 'L5_IT_CTX_Glut',\n",
    "             'DG_Glut': 'DG_Glut',\n",
    "             'L6_IT_CTX_Glut': 'L6_IT_CTX_Glut',\n",
    "             'L5_ET_CTX_Glut': 'L5_ET_CTX_Glut',\n",
    "             'CA3_Glut': 'CA3_Glut',\n",
    "             'L23_IT_PPP_Glut':'L2_IT_PPP-APr_Glut',\n",
    "             'ENTmv-PA-COAp_Glut': 'ENTmv-PA-COAp_Glut',\n",
    "             'L45_IT_CTX_Glut':'L5_IT_CTX_Glut',\n",
    "             'LA-BLA-BMA-PA_Glut': 'LA-BLA-BMA-PA_Glut',\n",
    "             'L23_IT_ENT_Glut': 'L2_IT_ENT-po_Glut',\n",
    "              'STR_D1_Gaba':'STR_D12_Gaba'\n",
    "             }"
   ]
  },
  {
   "cell_type": "code",
   "execution_count": 19,
   "id": "ab2e0d52-9ba8-45d2-8cf4-d8fc288b47df",
   "metadata": {
    "execution": {
     "iopub.execute_input": "2024-07-17T17:49:14.136776Z",
     "iopub.status.busy": "2024-07-17T17:49:14.136294Z",
     "iopub.status.idle": "2024-07-17T17:49:14.502587Z",
     "shell.execute_reply": "2024-07-17T17:49:14.501619Z",
     "shell.execute_reply.started": "2024-07-17T17:49:14.136740Z"
    },
    "tags": []
   },
   "outputs": [
    {
     "data": {
      "text/html": [
       "<div>\n",
       "<style scoped>\n",
       "    .dataframe tbody tr th:only-of-type {\n",
       "        vertical-align: middle;\n",
       "    }\n",
       "\n",
       "    .dataframe tbody tr th {\n",
       "        vertical-align: top;\n",
       "    }\n",
       "\n",
       "    .dataframe thead th {\n",
       "        text-align: right;\n",
       "    }\n",
       "</style>\n",
       "<table border=\"1\" class=\"dataframe\">\n",
       "  <thead>\n",
       "    <tr style=\"text-align: right;\">\n",
       "      <th></th>\n",
       "      <th>female.2mo</th>\n",
       "      <th>female.9mo</th>\n",
       "      <th>female.18mo</th>\n",
       "    </tr>\n",
       "  </thead>\n",
       "  <tbody>\n",
       "    <tr>\n",
       "      <th>CA1-ProS_Glut</th>\n",
       "      <td>0.044832</td>\n",
       "      <td>0.260470</td>\n",
       "      <td>0.694697</td>\n",
       "    </tr>\n",
       "    <tr>\n",
       "      <th>L23_IT_ENT_Glut</th>\n",
       "      <td>0.145220</td>\n",
       "      <td>0.367261</td>\n",
       "      <td>0.487519</td>\n",
       "    </tr>\n",
       "    <tr>\n",
       "      <th>L23_IT_PPP_Glut</th>\n",
       "      <td>NaN</td>\n",
       "      <td>NaN</td>\n",
       "      <td>NaN</td>\n",
       "    </tr>\n",
       "    <tr>\n",
       "      <th>L5_IT_CTX_Glut</th>\n",
       "      <td>0.024227</td>\n",
       "      <td>0.703893</td>\n",
       "      <td>0.271880</td>\n",
       "    </tr>\n",
       "    <tr>\n",
       "      <th>DG_Glut</th>\n",
       "      <td>0.015296</td>\n",
       "      <td>0.387238</td>\n",
       "      <td>0.597467</td>\n",
       "    </tr>\n",
       "  </tbody>\n",
       "</table>\n",
       "</div>"
      ],
      "text/plain": [
       "                 female.2mo  female.9mo  female.18mo\n",
       "CA1-ProS_Glut      0.044832    0.260470     0.694697\n",
       "L23_IT_ENT_Glut    0.145220    0.367261     0.487519\n",
       "L23_IT_PPP_Glut         NaN         NaN          NaN\n",
       "L5_IT_CTX_Glut     0.024227    0.703893     0.271880\n",
       "DG_Glut            0.015296    0.387238     0.597467"
      ]
     },
     "execution_count": 19,
     "metadata": {},
     "output_type": "execute_result"
    }
   ],
   "source": [
    "_gender = 'female'\n",
    "bigwig_dir = f'/ceph/gale-1/qzeng/AmbData/Luisa/{_gender}_rna'\n",
    "atac_all_df = []\n",
    "\n",
    "for ct in plot_celltypes:\n",
    "    try:\n",
    "        atac_ct = mc_to_atac[ct]\n",
    "    except KeyError:\n",
    "        atac_ct =ct\n",
    "        \n",
    "    try:\n",
    "        dmr_id = all_df[all_df['celltype']== ct].index[0]\n",
    "    except IndexError:\n",
    "        dmr_id = exmaple_hotspolt\n",
    "        \n",
    "    slop = 500\n",
    "    _chr, start, end = dmr_id.split('-')\n",
    "    start, end = int(start), int(end)\n",
    "    start, end = start-slop, end + slop\n",
    "    \n",
    "    total_counts_df = {}\n",
    "    for age in ['2mo','9mo','18mo']:\n",
    "        bigwig_path = f\"{bigwig_dir}/Female_RNA_{atac_ct}_{age}_merge.bw\"\n",
    "        bw = pyBigWig.open(bigwig_path)\n",
    "        total_counts = bw.stats(_chr, start, end, type=\"mean\")\n",
    "        total_counts_df[age] = total_counts\n",
    "    total_counts_df = pd.DataFrame(total_counts_df)\n",
    "    total_counts_df.index = [ct]\n",
    "    atac_all_df.append(total_counts_df)\n",
    "\n",
    "female_rna = pd.concat(atac_all_df)\n",
    "\n",
    "female_rna = female_rna.div(female_rna.sum(axis = 1), axis = 0) # normalized to 0-1\n",
    "female_rna.columns = [f\"{_gender}.2mo\",f\"{_gender}.9mo\",f\"{_gender}.18mo\"]\n",
    "female_rna.head()"
   ]
  },
  {
   "cell_type": "markdown",
   "id": "39c908a7-a4a6-49a3-a8cb-f2ea7d68e6f6",
   "metadata": {
    "tags": []
   },
   "source": [
    "## plot"
   ]
  },
  {
   "cell_type": "code",
   "execution_count": 26,
   "id": "fd5cfbcb-6ed2-4a92-b972-dc6518fc2aff",
   "metadata": {
    "execution": {
     "iopub.execute_input": "2024-07-17T17:51:50.186362Z",
     "iopub.status.busy": "2024-07-17T17:51:50.185770Z",
     "iopub.status.idle": "2024-07-17T17:51:50.195600Z",
     "shell.execute_reply": "2024-07-17T17:51:50.194083Z",
     "shell.execute_reply.started": "2024-07-17T17:51:50.186297Z"
    },
    "tags": []
   },
   "outputs": [],
   "source": [
    "ct_order = ['CA1-ProS_Glut', 'CA3_Glut', 'DG_Glut', 'L23_IT_ENT_Glut','L23_IT_PPP_Glut','ENTmv-PA-COAp_Glut',\n",
    "            'L45_IT_CTX_Glut', 'L5_ET_CTX_Glut','L5_IT_CTX_Glut', 'L6_IT_CTX_Glut', 'LA-BLA-BMA-PA_Glut',\n",
    "             'Astro-NT_NN','Astro-TE_NN', 'Microglia_NN','Vip_Gaba', 'Lamp5_Gaba','Sst_Gaba','Sst_Chodl_Gaba', 'CEA-BST_Gaba',\n",
    "                 'STR_D1_Sema5a_Gaba','STR_D1_Gaba',  'MB-MY_Tph2_Glut-Sero', 'NP_SUB_Glut','L5_NP_CTX_Glut','L2_IT_PPP-APr_Glut']\n",
    "\n",
    "# plot_celltypes = ['CA1-ProS_Glut','L23_IT_ENT_Glut', 'L23_IT_PPP_Glut','L5_IT_CTX_Glut', 'DG_Glut',\n",
    "#                   'L6_IT_CTX_Glut', 'L5_ET_CTX_Glut', 'CA3_Glut', 'ENTmv-PA-COAp_Glut', 'L45_IT_CTX_Glut', 'LA-BLA-BMA-PA_Glut',\n",
    "#                  'Astro-NT_NN','Astro-TE_NN', 'Microglia_NN','Vip_Gaba', 'Lamp5_Gaba','Sst_Gaba','Sst_Chodl_Gaba', 'CEA-BST_Gaba',\n",
    "#                   'MB-MY_Tph2_Glut-Sero','STR_D1_Sema5a_Gaba','STR_D1_Gaba',  'NP_SUB_Glut','L5_NP_CTX_Glut','L2_IT_PPP-APr_Glut']"
   ]
  },
  {
   "cell_type": "code",
   "execution_count": 27,
   "id": "36610a53-5a94-4e56-af6c-f65cee97b9da",
   "metadata": {
    "execution": {
     "iopub.execute_input": "2024-07-17T17:51:50.707552Z",
     "iopub.status.busy": "2024-07-17T17:51:50.706837Z",
     "iopub.status.idle": "2024-07-17T17:51:50.714463Z",
     "shell.execute_reply": "2024-07-17T17:51:50.712916Z",
     "shell.execute_reply.started": "2024-07-17T17:51:50.707496Z"
    },
    "tags": []
   },
   "outputs": [],
   "source": [
    "column_order = ['male.2mo','female.2mo',  'male.9mo', 'female.9mo','male.18mo', 'female.18mo']\n",
    "\n",
    "# ct_order = ['CA1-ProS_Glut', 'CA3_Glut', 'DG_Glut', \n",
    "#             'L23_IT_ENT_Glut','L23_IT_PPP_Glut','ENTmv-PA-COAp_Glut',\n",
    "#             'L45_IT_CTX_Glut', 'L5_ET_CTX_Glut',\n",
    "#             'L5_IT_CTX_Glut', 'L6_IT_CTX_Glut', \n",
    "#             'LA-BLA-BMA-PA_Glut',]"
   ]
  },
  {
   "cell_type": "code",
   "execution_count": 28,
   "id": "f4b6a282-5a3e-4a7b-b233-590c06f19b7b",
   "metadata": {
    "execution": {
     "iopub.execute_input": "2024-07-17T17:51:51.233071Z",
     "iopub.status.busy": "2024-07-17T17:51:51.232472Z",
     "iopub.status.idle": "2024-07-17T17:51:51.248863Z",
     "shell.execute_reply": "2024-07-17T17:51:51.247824Z",
     "shell.execute_reply.started": "2024-07-17T17:51:51.233016Z"
    },
    "tags": []
   },
   "outputs": [],
   "source": [
    "atac_all_to_plot = atac_all_to_plot[column_order].loc[ct_order]\n",
    "mc_all_to_plot = mc_all_to_plot[column_order].loc[ct_order]\n",
    "mch_all_to_plot = mch_all_to_plot[column_order].loc[ct_order]\n",
    "female_rna = female_rna.fillna(0).loc[ct_order]"
   ]
  },
  {
   "cell_type": "code",
   "execution_count": 30,
   "id": "c30ab6ad-ce06-4bfe-a187-90aa30a4e631",
   "metadata": {
    "execution": {
     "iopub.execute_input": "2024-07-17T17:52:52.629207Z",
     "iopub.status.busy": "2024-07-17T17:52:52.628577Z",
     "iopub.status.idle": "2024-07-17T17:52:57.107766Z",
     "shell.execute_reply": "2024-07-17T17:52:57.106978Z",
     "shell.execute_reply.started": "2024-07-17T17:52:52.629156Z"
    },
    "tags": []
   },
   "outputs": [
    {
     "data": {
      "image/png": "[encoded data removed]",
      "text/plain": [
       "<Figure size 2400x1200 with 8 Axes>"
      ]
     },
     "metadata": {
      "needs_background": "light"
     },
     "output_type": "display_data"
    }
   ],
   "source": [
    "fig, axes = plt.subplots(figsize = (12,6), ncols = 4, dpi = 200, \n",
    "                         constrained_layout = True, sharey = True,\n",
    "                         gridspec_kw={'width_ratios': [2, 2, 2, 1]})\n",
    "\n",
    "ax = axes[0]\n",
    "sns.heatmap(mc_all_to_plot, \n",
    "            xticklabels=True,\n",
    "            yticklabels=True,\n",
    "            ax=ax, rasterized = True,\n",
    "            cmap = 'Greens',\n",
    "            vmin = 0.1, vmax = 0.9)\n",
    "ax.set_title(\"mCG\")\n",
    "\n",
    "ax = axes[1]\n",
    "sns.heatmap(atac_all_to_plot, \n",
    "            xticklabels=True,\n",
    "            yticklabels=True,\n",
    "            ax=ax, rasterized = True,\n",
    "            cmap = 'Oranges',\n",
    "            vmin = 0, vmax = 0.8)\n",
    "ax.set_title(\"ATAC\")\n",
    "\n",
    "ax = axes[2]\n",
    "sns.heatmap(mch_all_to_plot, \n",
    "            xticklabels=True,\n",
    "            yticklabels=True,\n",
    "            ax=ax, rasterized = True,\n",
    "            vmin = 0, vmax = 0.015,\n",
    "            cmap = 'Blues',\n",
    "            )\n",
    "ax.set_title(\"mCH\")\n",
    "                                      \n",
    "ax = axes[3]\n",
    "sns.heatmap(female_rna, \n",
    "            xticklabels=True,\n",
    "            yticklabels=True,\n",
    "            ax=ax, rasterized = True,\n",
    "            cmap = 'Purples',\n",
    "            vmin = -0.05, vmax = 0.6\n",
    "            )\n",
    "ax.set_title(\"RNA\")                                     \n",
    "                            \n",
    "plt.suptitle(f\"LTR ERV1:{exmaple_hotspolt}\")\n",
    "fig.savefig(f\"figure/Supp.LTR.Heatmap.pdf\", bbox_inches  = 'tight')"
   ]
  },
  {
   "cell_type": "code",
   "execution_count": null,
   "id": "ecd8d125-349e-442f-9919-3ca9c5f25bc0",
   "metadata": {},
   "outputs": [],
   "source": []
  },
  {
   "cell_type": "code",
   "execution_count": null,
   "id": "1b4a87c9-7210-4e75-ab2a-d71149dbad7e",
   "metadata": {},
   "outputs": [],
   "source": []
  },
  {
   "cell_type": "code",
   "execution_count": null,
   "id": "e91275b2-1609-490a-9252-9e303b182e5f",
   "metadata": {},
   "outputs": [],
   "source": []
  },
  {
   "cell_type": "code",
   "execution_count": null,
   "id": "1c32f26e-1844-4d2d-bab4-3e8b2959ae7a",
   "metadata": {},
   "outputs": [],
   "source": []
  },
  {
   "cell_type": "code",
   "execution_count": null,
   "id": "60d81af5-e20b-4f40-b107-36c3399b8523",
   "metadata": {},
   "outputs": [],
   "source": []
  },
  {
   "cell_type": "code",
   "execution_count": null,
   "id": "bb6fdae2-2939-4497-9368-cb06f37551bf",
   "metadata": {},
   "outputs": [],
   "source": []
  },
  {
   "cell_type": "code",
   "execution_count": null,
   "id": "112b12e5-6303-44a8-8558-cc05dd5b9bf7",
   "metadata": {},
   "outputs": [],
   "source": []
  },
  {
   "cell_type": "code",
   "execution_count": null,
   "id": "f883003c-55cf-4d88-83a2-8b2641b958ea",
   "metadata": {},
   "outputs": [],
   "source": []
  },
  {
   "cell_type": "code",
   "execution_count": null,
   "id": "35496977-02fd-46ea-9ffd-0cefdc872d21",
   "metadata": {},
   "outputs": [],
   "source": []
  },
  {
   "cell_type": "code",
   "execution_count": null,
   "id": "f42a3d8e-4c6d-4ab5-a426-d1917cc82d2c",
   "metadata": {},
   "outputs": [],
   "source": []
  },
  {
   "cell_type": "code",
   "execution_count": null,
   "id": "f3ca30df-8e43-4a49-b5a9-cbebe4a49781",
   "metadata": {},
   "outputs": [],
   "source": []
  },
  {
   "cell_type": "code",
   "execution_count": null,
   "id": "ac8fb361-b9eb-49bf-a6fc-2a2c5abbb088",
   "metadata": {},
   "outputs": [],
   "source": []
  }
 ],
 "metadata": {
  "kernelspec": {
   "display_name": "Python 3 (ipykernel)",
   "language": "python",
   "name": "python3"
  },
  "language_info": {
   "codemirror_mode": {
    "name": "ipython",
    "version": 3
   },
   "file_extension": ".py",
   "mimetype": "text/x-python",
   "name": "python",
   "nbconvert_exporter": "python",
   "pygments_lexer": "ipython3",
   "version": "3.7.12"
  }
 },
 "nbformat": 4,
 "nbformat_minor": 5
}
