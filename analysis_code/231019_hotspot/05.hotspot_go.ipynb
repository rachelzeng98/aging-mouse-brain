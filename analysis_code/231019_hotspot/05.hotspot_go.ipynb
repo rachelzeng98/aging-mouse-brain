{
 "cells": [
  {
   "cell_type": "code",
   "execution_count": 1,
   "id": "3b6d194c-97c1-4445-8cda-184d68119e1c",
   "metadata": {
    "execution": {
     "iopub.execute_input": "2024-12-21T01:41:41.303965Z",
     "iopub.status.busy": "2024-12-21T01:41:41.303358Z",
     "iopub.status.idle": "2024-12-21T01:41:42.860770Z",
     "shell.execute_reply": "2024-12-21T01:41:42.859980Z",
     "shell.execute_reply.started": "2024-12-21T01:41:41.303920Z"
    },
    "tags": []
   },
   "outputs": [],
   "source": [
    "import pandas as pd\n",
    "import subprocess\n",
    "import gseapy as gp\n",
    "import matplotlib.pyplot as plt"
   ]
  },
  {
   "cell_type": "code",
   "execution_count": 2,
   "id": "51873b4c-d819-404b-95f6-3ebfbdb68cdf",
   "metadata": {
    "execution": {
     "iopub.execute_input": "2024-12-21T01:41:42.863272Z",
     "iopub.status.busy": "2024-12-21T01:41:42.862735Z",
     "iopub.status.idle": "2024-12-21T01:41:42.867609Z",
     "shell.execute_reply": "2024-12-21T01:41:42.866728Z",
     "shell.execute_reply.started": "2024-12-21T01:41:42.863248Z"
    },
    "tags": []
   },
   "outputs": [],
   "source": [
    "ct ='shared'"
   ]
  },
  {
   "cell_type": "code",
   "execution_count": 3,
   "id": "a0d2b597-7422-44a4-8cb1-8051919f1c45",
   "metadata": {
    "execution": {
     "iopub.execute_input": "2024-12-21T01:41:42.868563Z",
     "iopub.status.busy": "2024-12-21T01:41:42.868360Z",
     "iopub.status.idle": "2024-12-21T01:41:42.871846Z",
     "shell.execute_reply": "2024-12-21T01:41:42.871263Z",
     "shell.execute_reply.started": "2024-12-21T01:41:42.868544Z"
    },
    "tags": []
   },
   "outputs": [],
   "source": [
    "_type = 'Hyper'\n",
    "_dir = '500_result'"
   ]
  },
  {
   "cell_type": "code",
   "execution_count": 4,
   "id": "840ce794-b6d5-40f7-8b81-156ede4b5e7a",
   "metadata": {
    "execution": {
     "iopub.execute_input": "2024-12-21T01:41:42.872766Z",
     "iopub.status.busy": "2024-12-21T01:41:42.872573Z",
     "iopub.status.idle": "2024-12-21T01:41:42.876219Z",
     "shell.execute_reply": "2024-12-21T01:41:42.875635Z",
     "shell.execute_reply.started": "2024-12-21T01:41:42.872749Z"
    },
    "tags": []
   },
   "outputs": [],
   "source": [
    "output_file = f\"{_dir}/{_type}.{ct}.Hotspot.Overlap.Gene.bed\""
   ]
  },
  {
   "cell_type": "markdown",
   "id": "3156dfec-2332-42d9-b214-25d2d43675b7",
   "metadata": {
    "tags": []
   },
   "source": [
    "## get intersected genes"
   ]
  },
  {
   "cell_type": "code",
   "execution_count": 5,
   "id": "e59db93c-c262-4344-b4ff-3454a421be02",
   "metadata": {
    "execution": {
     "iopub.execute_input": "2024-12-21T01:41:42.877151Z",
     "iopub.status.busy": "2024-12-21T01:41:42.876947Z",
     "iopub.status.idle": "2024-12-21T01:41:42.880744Z",
     "shell.execute_reply": "2024-12-21T01:41:42.880105Z",
     "shell.execute_reply.started": "2024-12-21T01:41:42.877133Z"
    },
    "tags": []
   },
   "outputs": [],
   "source": [
    "# gene_bed_path = '/home/qzeng/hanliu/ref/mouse/gencode/vm22/gencode.vM22.annotation.gene.flat.tsv.gz'\n",
    "# gene_bed = pd.read_csv(gene_bed_path, sep = '\\t')"
   ]
  },
  {
   "cell_type": "code",
   "execution_count": 6,
   "id": "11925520-0b07-4399-b2a6-7e78fd4dd6aa",
   "metadata": {
    "execution": {
     "iopub.execute_input": "2024-12-21T01:41:42.881637Z",
     "iopub.status.busy": "2024-12-21T01:41:42.881443Z",
     "iopub.status.idle": "2024-12-21T01:41:42.885198Z",
     "shell.execute_reply": "2024-12-21T01:41:42.884337Z",
     "shell.execute_reply.started": "2024-12-21T01:41:42.881620Z"
    },
    "tags": []
   },
   "outputs": [],
   "source": [
    "# loop = 2000\n",
    "# gene_bed['start'] = gene_bed['start'] -loop\n",
    "# gene_bed['end'] = gene_bed['end'] + loop\n",
    "# gene_bed = gene_bed[['chrom','start','end','gene_id','gene_name']]"
   ]
  },
  {
   "cell_type": "code",
   "execution_count": 7,
   "id": "47a8df5d-4d65-4957-b4e3-0e289ed9bdd9",
   "metadata": {
    "execution": {
     "iopub.execute_input": "2024-12-21T01:41:42.887546Z",
     "iopub.status.busy": "2024-12-21T01:41:42.887207Z",
     "iopub.status.idle": "2024-12-21T01:41:42.890876Z",
     "shell.execute_reply": "2024-12-21T01:41:42.890070Z",
     "shell.execute_reply.started": "2024-12-21T01:41:42.887528Z"
    },
    "tags": []
   },
   "outputs": [],
   "source": [
    "# gene_bed.to_csv(f'{_dir}/vm22.GENElop2k.bed', sep = '\\t', index = None, header =  None)"
   ]
  },
  {
   "cell_type": "code",
   "execution_count": 8,
   "id": "9e464633-d332-476e-99dc-324fcf87a762",
   "metadata": {
    "execution": {
     "iopub.execute_input": "2024-12-21T01:41:42.891695Z",
     "iopub.status.busy": "2024-12-21T01:41:42.891510Z",
     "iopub.status.idle": "2024-12-21T01:41:42.894979Z",
     "shell.execute_reply": "2024-12-21T01:41:42.894412Z",
     "shell.execute_reply.started": "2024-12-21T01:41:42.891678Z"
    },
    "tags": []
   },
   "outputs": [],
   "source": [
    "# gene_bed = pd.read_csv('vm22.GENE.bed', sep = '\\t', header = None)\n",
    "# gene_bed.head()"
   ]
  },
  {
   "cell_type": "code",
   "execution_count": 9,
   "id": "efd2de72-4f2f-4a38-ae28-3fbffa550615",
   "metadata": {
    "execution": {
     "iopub.execute_input": "2024-12-21T01:41:42.895803Z",
     "iopub.status.busy": "2024-12-21T01:41:42.895618Z",
     "iopub.status.idle": "2024-12-21T01:41:42.911890Z",
     "shell.execute_reply": "2024-12-21T01:41:42.911381Z",
     "shell.execute_reply.started": "2024-12-21T01:41:42.895786Z"
    },
    "tags": []
   },
   "outputs": [
    {
     "data": {
      "text/html": [
       "<div>\n",
       "<style scoped>\n",
       "    .dataframe tbody tr th:only-of-type {\n",
       "        vertical-align: middle;\n",
       "    }\n",
       "\n",
       "    .dataframe tbody tr th {\n",
       "        vertical-align: top;\n",
       "    }\n",
       "\n",
       "    .dataframe thead th {\n",
       "        text-align: right;\n",
       "    }\n",
       "</style>\n",
       "<table border=\"1\" class=\"dataframe\">\n",
       "  <thead>\n",
       "    <tr style=\"text-align: right;\">\n",
       "      <th></th>\n",
       "      <th>0</th>\n",
       "      <th>1</th>\n",
       "      <th>2</th>\n",
       "    </tr>\n",
       "  </thead>\n",
       "  <tbody>\n",
       "    <tr>\n",
       "      <th>0</th>\n",
       "      <td>chr1</td>\n",
       "      <td>8410500</td>\n",
       "      <td>8411000</td>\n",
       "    </tr>\n",
       "    <tr>\n",
       "      <th>1</th>\n",
       "      <td>chr1</td>\n",
       "      <td>16503500</td>\n",
       "      <td>16504000</td>\n",
       "    </tr>\n",
       "    <tr>\n",
       "      <th>2</th>\n",
       "      <td>chr1</td>\n",
       "      <td>24453500</td>\n",
       "      <td>24454000</td>\n",
       "    </tr>\n",
       "    <tr>\n",
       "      <th>3</th>\n",
       "      <td>chr1</td>\n",
       "      <td>25994500</td>\n",
       "      <td>25995000</td>\n",
       "    </tr>\n",
       "    <tr>\n",
       "      <th>4</th>\n",
       "      <td>chr1</td>\n",
       "      <td>33610000</td>\n",
       "      <td>33610500</td>\n",
       "    </tr>\n",
       "  </tbody>\n",
       "</table>\n",
       "</div>"
      ],
      "text/plain": [
       "      0         1         2\n",
       "0  chr1   8410500   8411000\n",
       "1  chr1  16503500  16504000\n",
       "2  chr1  24453500  24454000\n",
       "3  chr1  25994500  25995000\n",
       "4  chr1  33610000  33610500"
      ]
     },
     "execution_count": 9,
     "metadata": {},
     "output_type": "execute_result"
    }
   ],
   "source": [
    "hotspot_bed = pd.read_csv(f'{_dir}/{_type}.hotspot.{ct}.bed', sep = '\\t', header = None)\n",
    "hotspot_bed.head()"
   ]
  },
  {
   "cell_type": "code",
   "execution_count": 10,
   "id": "49c1018e-03c6-4eb4-8c6b-af5f5ac832f9",
   "metadata": {
    "execution": {
     "iopub.execute_input": "2024-12-21T01:41:42.912694Z",
     "iopub.status.busy": "2024-12-21T01:41:42.912513Z",
     "iopub.status.idle": "2024-12-21T01:41:42.916152Z",
     "shell.execute_reply": "2024-12-21T01:41:42.915478Z",
     "shell.execute_reply.started": "2024-12-21T01:41:42.912678Z"
    },
    "tags": []
   },
   "outputs": [],
   "source": [
    "output_file = f\"{_dir}/{_type}.{ct}.Hotspot.Overlap.Gene.bed\""
   ]
  },
  {
   "cell_type": "code",
   "execution_count": 11,
   "id": "a6f45aab-9561-49ce-89fe-592ad253c312",
   "metadata": {
    "execution": {
     "iopub.execute_input": "2024-12-21T01:41:42.916989Z",
     "iopub.status.busy": "2024-12-21T01:41:42.916788Z",
     "iopub.status.idle": "2024-12-21T01:41:42.921447Z",
     "shell.execute_reply": "2024-12-21T01:41:42.920821Z",
     "shell.execute_reply.started": "2024-12-21T01:41:42.916972Z"
    },
    "tags": []
   },
   "outputs": [
    {
     "data": {
      "text/plain": [
       "'bedtools intersect -a 500_result/Hyper.hotspot.shared.bed -b vm22.GENE.bed -wa -wb > 500_result/Hyper.shared.Hotspot.Overlap.Gene.bed'"
      ]
     },
     "execution_count": 11,
     "metadata": {},
     "output_type": "execute_result"
    }
   ],
   "source": [
    "command = f\"bedtools intersect -a {_dir}/{_type}.hotspot.{ct}.bed -b vm22.GENE.bed -wa -wb > {output_file}\"\n",
    "command"
   ]
  },
  {
   "cell_type": "code",
   "execution_count": 12,
   "id": "f0119724-37af-47a1-b491-56c15afa7aaf",
   "metadata": {
    "execution": {
     "iopub.execute_input": "2024-12-21T01:41:42.922295Z",
     "iopub.status.busy": "2024-12-21T01:41:42.922099Z",
     "iopub.status.idle": "2024-12-21T01:41:43.036803Z",
     "shell.execute_reply": "2024-12-21T01:41:43.035320Z",
     "shell.execute_reply.started": "2024-12-21T01:41:42.922278Z"
    },
    "tags": []
   },
   "outputs": [
    {
     "data": {
      "text/plain": [
       "CompletedProcess(args='bedtools intersect -a 500_result/Hyper.hotspot.shared.bed -b vm22.GENE.bed -wa -wb > 500_result/Hyper.shared.Hotspot.Overlap.Gene.bed', returncode=0)"
      ]
     },
     "execution_count": 12,
     "metadata": {},
     "output_type": "execute_result"
    }
   ],
   "source": [
    "subprocess.run(command, shell=True)"
   ]
  },
  {
   "cell_type": "markdown",
   "id": "a47c1a84-5f7d-43d1-bec9-1ccd377636bd",
   "metadata": {
    "tags": []
   },
   "source": [
    "## perform GO"
   ]
  },
  {
   "cell_type": "code",
   "execution_count": 13,
   "id": "0201a073-e3f7-4fec-ad3b-f470f438d897",
   "metadata": {
    "execution": {
     "iopub.execute_input": "2024-12-21T01:41:43.039931Z",
     "iopub.status.busy": "2024-12-21T01:41:43.039326Z",
     "iopub.status.idle": "2024-12-21T01:41:43.055505Z",
     "shell.execute_reply": "2024-12-21T01:41:43.054503Z",
     "shell.execute_reply.started": "2024-12-21T01:41:43.039878Z"
    },
    "tags": []
   },
   "outputs": [],
   "source": [
    "overlap_df = pd.read_csv(output_file, sep = '\\t', header = None)"
   ]
  },
  {
   "cell_type": "code",
   "execution_count": 14,
   "id": "4e6d6161-eaee-49da-a58e-fe9e658b655e",
   "metadata": {
    "execution": {
     "iopub.execute_input": "2024-12-21T01:41:43.060740Z",
     "iopub.status.busy": "2024-12-21T01:41:43.060184Z",
     "iopub.status.idle": "2024-12-21T01:41:43.066770Z",
     "shell.execute_reply": "2024-12-21T01:41:43.065725Z",
     "shell.execute_reply.started": "2024-12-21T01:41:43.060696Z"
    },
    "tags": []
   },
   "outputs": [],
   "source": [
    "all_genes = overlap_df[7].unique().tolist()"
   ]
  },
  {
   "cell_type": "code",
   "execution_count": 15,
   "id": "ec63ae8d-508d-462d-996f-67b71df452ee",
   "metadata": {
    "execution": {
     "iopub.execute_input": "2024-12-21T01:41:43.068664Z",
     "iopub.status.busy": "2024-12-21T01:41:43.068122Z",
     "iopub.status.idle": "2024-12-21T01:41:43.074202Z",
     "shell.execute_reply": "2024-12-21T01:41:43.073093Z",
     "shell.execute_reply.started": "2024-12-21T01:41:43.068624Z"
    },
    "tags": []
   },
   "outputs": [],
   "source": [
    "all_genes = [gene for gene in all_genes if not gene.startswith('Gm')]"
   ]
  },
  {
   "cell_type": "code",
   "execution_count": 16,
   "id": "4895e237-1630-410e-8397-5f580e604a30",
   "metadata": {
    "execution": {
     "iopub.execute_input": "2024-12-21T01:41:43.075936Z",
     "iopub.status.busy": "2024-12-21T01:41:43.075442Z",
     "iopub.status.idle": "2024-12-21T01:41:43.080262Z",
     "shell.execute_reply": "2024-12-21T01:41:43.079366Z",
     "shell.execute_reply.started": "2024-12-21T01:41:43.075899Z"
    },
    "tags": []
   },
   "outputs": [],
   "source": [
    "# kegg_enrichment = gp.enrichr(gene_list=all_genes,\n",
    "#                              gene_sets='KEGG_2019_Mouse',  \n",
    "#                              organism='mouse', \n",
    "#                              #description='test_name',\n",
    "#                              outdir='test/kegg', \n",
    "#                              no_plot=False, \n",
    "#                              cutoff=0.05) "
   ]
  },
  {
   "cell_type": "code",
   "execution_count": 17,
   "id": "8fa0d44b-c2c6-4195-abd9-5055756f7a6f",
   "metadata": {
    "execution": {
     "iopub.execute_input": "2024-12-21T01:41:43.081941Z",
     "iopub.status.busy": "2024-12-21T01:41:43.081467Z",
     "iopub.status.idle": "2024-12-21T01:41:43.085566Z",
     "shell.execute_reply": "2024-12-21T01:41:43.084843Z",
     "shell.execute_reply.started": "2024-12-21T01:41:43.081904Z"
    },
    "tags": []
   },
   "outputs": [],
   "source": [
    "# kegg_enrichment.results.head()"
   ]
  },
  {
   "cell_type": "code",
   "execution_count": 18,
   "id": "65082eaf-cc39-4200-8d24-d618069e3ee1",
   "metadata": {
    "execution": {
     "iopub.execute_input": "2024-12-21T01:41:43.136737Z",
     "iopub.status.busy": "2024-12-21T01:41:43.136226Z",
     "iopub.status.idle": "2024-12-21T01:41:51.553129Z",
     "shell.execute_reply": "2024-12-21T01:41:51.551828Z",
     "shell.execute_reply.started": "2024-12-21T01:41:43.136701Z"
    },
    "tags": []
   },
   "outputs": [],
   "source": [
    "go_enrichment = gp.enrichr(gene_list=all_genes,\n",
    "                           gene_sets=['GO_Biological_Process_2018', \n",
    "                                      'GO_Molecular_Function_2018','KEGG_2019_Mouse'],\n",
    "                           organism='mouse', # don't forget to set organism\n",
    "                           #outdir='test/go', # set the output directory\n",
    "                           no_plot=False, # do not draw a plot\n",
    "                           cutoff=0.01) # set a significance cutoff\n"
   ]
  },
  {
   "cell_type": "markdown",
   "id": "5217a9e4-c7c9-43ae-a83b-376941365aff",
   "metadata": {},
   "source": [
    "## plot"
   ]
  },
  {
   "cell_type": "code",
   "execution_count": 19,
   "id": "7dbc0db3-6886-406c-993c-97b4c84bdb5b",
   "metadata": {
    "execution": {
     "iopub.execute_input": "2024-12-21T01:41:51.555948Z",
     "iopub.status.busy": "2024-12-21T01:41:51.555348Z",
     "iopub.status.idle": "2024-12-21T01:41:51.673014Z",
     "shell.execute_reply": "2024-12-21T01:41:51.672302Z",
     "shell.execute_reply.started": "2024-12-21T01:41:51.555901Z"
    },
    "tags": []
   },
   "outputs": [],
   "source": [
    "from gseapy import barplot, dotplot\n",
    "import seaborn as sns\n",
    "import matplotlib.pyplot as plt"
   ]
  },
  {
   "cell_type": "code",
   "execution_count": 20,
   "id": "5359ec7e-7555-4f21-9298-975db8554882",
   "metadata": {
    "execution": {
     "iopub.execute_input": "2024-12-21T01:41:51.674258Z",
     "iopub.status.busy": "2024-12-21T01:41:51.673988Z",
     "iopub.status.idle": "2024-12-21T01:41:51.681172Z",
     "shell.execute_reply": "2024-12-21T01:41:51.680011Z",
     "shell.execute_reply.started": "2024-12-21T01:41:51.674233Z"
    },
    "tags": []
   },
   "outputs": [],
   "source": [
    "result_df= go_enrichment.results\n",
    "result_df = result_df[result_df['Adjusted P-value']  < 0.01]"
   ]
  },
  {
   "cell_type": "code",
   "execution_count": 21,
   "id": "c174e09e-930e-4d24-ac2d-c01914639d43",
   "metadata": {
    "execution": {
     "iopub.execute_input": "2024-12-21T01:41:51.684404Z",
     "iopub.status.busy": "2024-12-21T01:41:51.683711Z",
     "iopub.status.idle": "2024-12-21T01:41:51.690982Z",
     "shell.execute_reply": "2024-12-21T01:41:51.689584Z",
     "shell.execute_reply.started": "2024-12-21T01:41:51.684351Z"
    },
    "tags": []
   },
   "outputs": [],
   "source": [
    "all_terms = result_df['Term'].unique()"
   ]
  },
  {
   "cell_type": "code",
   "execution_count": 22,
   "id": "1095720c-1eb4-4f24-b2e2-7771cfb9e5f9",
   "metadata": {
    "execution": {
     "iopub.execute_input": "2024-12-21T01:41:51.693148Z",
     "iopub.status.busy": "2024-12-21T01:41:51.692406Z",
     "iopub.status.idle": "2024-12-21T01:41:51.717928Z",
     "shell.execute_reply": "2024-12-21T01:41:51.717041Z",
     "shell.execute_reply.started": "2024-12-21T01:41:51.693103Z"
    },
    "tags": []
   },
   "outputs": [
    {
     "data": {
      "text/html": [
       "<div>\n",
       "<style scoped>\n",
       "    .dataframe tbody tr th:only-of-type {\n",
       "        vertical-align: middle;\n",
       "    }\n",
       "\n",
       "    .dataframe tbody tr th {\n",
       "        vertical-align: top;\n",
       "    }\n",
       "\n",
       "    .dataframe thead th {\n",
       "        text-align: right;\n",
       "    }\n",
       "</style>\n",
       "<table border=\"1\" class=\"dataframe\">\n",
       "  <thead>\n",
       "    <tr style=\"text-align: right;\">\n",
       "      <th></th>\n",
       "      <th>Gene_set</th>\n",
       "      <th>Term</th>\n",
       "      <th>Overlap</th>\n",
       "      <th>P-value</th>\n",
       "      <th>Adjusted P-value</th>\n",
       "      <th>Old P-value</th>\n",
       "      <th>Old Adjusted P-value</th>\n",
       "      <th>Odds Ratio</th>\n",
       "      <th>Combined Score</th>\n",
       "      <th>Genes</th>\n",
       "    </tr>\n",
       "  </thead>\n",
       "  <tbody>\n",
       "    <tr>\n",
       "      <th>0</th>\n",
       "      <td>GO_Biological_Process_2018</td>\n",
       "      <td>nervous system development (GO:0007399)</td>\n",
       "      <td>29/455</td>\n",
       "      <td>1.656979e-08</td>\n",
       "      <td>0.000016</td>\n",
       "      <td>0</td>\n",
       "      <td>0</td>\n",
       "      <td>3.701126</td>\n",
       "      <td>66.308216</td>\n",
       "      <td>PRKN;SEMA5A;TRIM71;INTU;STMN3;NRXN2;NR2E1;CYP4...</td>\n",
       "    </tr>\n",
       "    <tr>\n",
       "      <th>1</th>\n",
       "      <td>GO_Biological_Process_2018</td>\n",
       "      <td>positive regulation of transcription from RNA ...</td>\n",
       "      <td>42/848</td>\n",
       "      <td>1.732475e-08</td>\n",
       "      <td>0.000016</td>\n",
       "      <td>0</td>\n",
       "      <td>0</td>\n",
       "      <td>2.883170</td>\n",
       "      <td>51.525511</td>\n",
       "      <td>PRKN;NFIX;CTBP2;SCX;NPAS1;EGFR;NPAS2;DDN;RPS6K...</td>\n",
       "    </tr>\n",
       "    <tr>\n",
       "      <th>2</th>\n",
       "      <td>GO_Biological_Process_2018</td>\n",
       "      <td>positive regulation of transcription, DNA-temp...</td>\n",
       "      <td>47/1120</td>\n",
       "      <td>3.415047e-07</td>\n",
       "      <td>0.000212</td>\n",
       "      <td>0</td>\n",
       "      <td>0</td>\n",
       "      <td>2.424824</td>\n",
       "      <td>36.105393</td>\n",
       "      <td>PRKN;CASZ1;NFIX;CTBP2;SCX;NPAS1;EGFR;NPAS2;DDN...</td>\n",
       "    </tr>\n",
       "    <tr>\n",
       "      <th>3</th>\n",
       "      <td>GO_Biological_Process_2018</td>\n",
       "      <td>regulation of transcription from RNA polymeras...</td>\n",
       "      <td>56/1478</td>\n",
       "      <td>6.459013e-07</td>\n",
       "      <td>0.000301</td>\n",
       "      <td>0</td>\n",
       "      <td>0</td>\n",
       "      <td>2.198097</td>\n",
       "      <td>31.328633</td>\n",
       "      <td>SCX;FOXQ1;RPS6KA4;SHH;TBK1;MECOM;IKBKG;TEAD1;E...</td>\n",
       "    </tr>\n",
       "    <tr>\n",
       "      <th>4</th>\n",
       "      <td>GO_Biological_Process_2018</td>\n",
       "      <td>cellular response to metal ion (GO:0071248)</td>\n",
       "      <td>10/100</td>\n",
       "      <td>2.159571e-05</td>\n",
       "      <td>0.008038</td>\n",
       "      <td>0</td>\n",
       "      <td>0</td>\n",
       "      <td>5.832736</td>\n",
       "      <td>62.661174</td>\n",
       "      <td>TFAP2A;PRKN;CRHBP;TFR2;CPNE7;WNT5A;SCN5A;FOS;A...</td>\n",
       "    </tr>\n",
       "  </tbody>\n",
       "</table>\n",
       "</div>"
      ],
      "text/plain": [
       "                     Gene_set  \\\n",
       "0  GO_Biological_Process_2018   \n",
       "1  GO_Biological_Process_2018   \n",
       "2  GO_Biological_Process_2018   \n",
       "3  GO_Biological_Process_2018   \n",
       "4  GO_Biological_Process_2018   \n",
       "\n",
       "                                                Term  Overlap       P-value  \\\n",
       "0            nervous system development (GO:0007399)   29/455  1.656979e-08   \n",
       "1  positive regulation of transcription from RNA ...   42/848  1.732475e-08   \n",
       "2  positive regulation of transcription, DNA-temp...  47/1120  3.415047e-07   \n",
       "3  regulation of transcription from RNA polymeras...  56/1478  6.459013e-07   \n",
       "4        cellular response to metal ion (GO:0071248)   10/100  2.159571e-05   \n",
       "\n",
       "   Adjusted P-value  Old P-value  Old Adjusted P-value  Odds Ratio  \\\n",
       "0          0.000016            0                     0    3.701126   \n",
       "1          0.000016            0                     0    2.883170   \n",
       "2          0.000212            0                     0    2.424824   \n",
       "3          0.000301            0                     0    2.198097   \n",
       "4          0.008038            0                     0    5.832736   \n",
       "\n",
       "   Combined Score                                              Genes  \n",
       "0       66.308216  PRKN;SEMA5A;TRIM71;INTU;STMN3;NRXN2;NR2E1;CYP4...  \n",
       "1       51.525511  PRKN;NFIX;CTBP2;SCX;NPAS1;EGFR;NPAS2;DDN;RPS6K...  \n",
       "2       36.105393  PRKN;CASZ1;NFIX;CTBP2;SCX;NPAS1;EGFR;NPAS2;DDN...  \n",
       "3       31.328633  SCX;FOXQ1;RPS6KA4;SHH;TBK1;MECOM;IKBKG;TEAD1;E...  \n",
       "4       62.661174  TFAP2A;PRKN;CRHBP;TFR2;CPNE7;WNT5A;SCN5A;FOS;A...  "
      ]
     },
     "execution_count": 22,
     "metadata": {},
     "output_type": "execute_result"
    }
   ],
   "source": [
    "result_df.sort_values('Adjusted P-value').head()"
   ]
  },
  {
   "cell_type": "code",
   "execution_count": 23,
   "id": "aee6512c-efd0-4e44-9a7f-dacf4677e66d",
   "metadata": {
    "execution": {
     "iopub.execute_input": "2024-12-21T01:41:58.903951Z",
     "iopub.status.busy": "2024-12-21T01:41:58.903324Z",
     "iopub.status.idle": "2024-12-21T01:41:58.911971Z",
     "shell.execute_reply": "2024-12-21T01:41:58.910778Z",
     "shell.execute_reply.started": "2024-12-21T01:41:58.903895Z"
    },
    "tags": []
   },
   "outputs": [],
   "source": [
    "to_plot = result_df[result_df['Term'].isin(all_terms)]"
   ]
  },
  {
   "cell_type": "code",
   "execution_count": 24,
   "id": "b3416661-df2d-4b1c-858e-466dac0ead68",
   "metadata": {
    "execution": {
     "iopub.execute_input": "2024-12-21T01:41:59.289891Z",
     "iopub.status.busy": "2024-12-21T01:41:59.288911Z",
     "iopub.status.idle": "2024-12-21T01:41:59.296359Z",
     "shell.execute_reply": "2024-12-21T01:41:59.295199Z",
     "shell.execute_reply.started": "2024-12-21T01:41:59.289837Z"
    },
    "tags": []
   },
   "outputs": [],
   "source": [
    "plt.rcParams['figure.dpi'] = 100\n",
    "plt.rcParams['savefig.dpi']=300\n",
    "plt.rcParams['pdf.fonttype']=42"
   ]
  },
  {
   "cell_type": "code",
   "execution_count": 28,
   "id": "d1acea01-2823-4c84-b294-db1728f02872",
   "metadata": {
    "execution": {
     "iopub.execute_input": "2024-12-21T01:44:35.947238Z",
     "iopub.status.busy": "2024-12-21T01:44:35.946646Z",
     "iopub.status.idle": "2024-12-21T01:44:36.503772Z",
     "shell.execute_reply": "2024-12-21T01:44:36.502400Z",
     "shell.execute_reply.started": "2024-12-21T01:44:35.947181Z"
    },
    "tags": []
   },
   "outputs": [
    {
     "data": {
      "image/png": "[encoded data removed]",
      "text/plain": [
       "<Figure size 216x360 with 1 Axes>"
      ]
     },
     "metadata": {
      "needs_background": "light"
     },
     "output_type": "display_data"
    }
   ],
   "source": [
    "barplot(to_plot,\n",
    "          column=\"Adjusted P-value\",\n",
    "          title=f'GO {_type} Hotspot Genes',\n",
    "          cutoff=0.01,\n",
    "          group='_type',\n",
    "          size=10,\n",
    "          top_term=10,\n",
    "          figsize=(3,5),\n",
    "          color=[ 'cornflowerblue']) #lightcoral\n",
    "plt.savefig(f'figure/{ct}.{_type}.Hotspot.Gene.GO.pdf', bbox_inches='tight', dpi=300)\n",
    "plt.show()"
   ]
  },
  {
   "cell_type": "code",
   "execution_count": 23,
   "id": "bbf7b84d-ec76-4e6b-9eb6-fa68c91d51f9",
   "metadata": {
    "execution": {
     "iopub.execute_input": "2024-12-21T01:37:25.871347Z",
     "iopub.status.busy": "2024-12-21T01:37:25.870647Z",
     "iopub.status.idle": "2024-12-21T01:37:25.897833Z",
     "shell.execute_reply": "2024-12-21T01:37:25.896724Z",
     "shell.execute_reply.started": "2024-12-21T01:37:25.871276Z"
    },
    "tags": []
   },
   "outputs": [
    {
     "data": {
      "text/html": [
       "<div>\n",
       "<style scoped>\n",
       "    .dataframe tbody tr th:only-of-type {\n",
       "        vertical-align: middle;\n",
       "    }\n",
       "\n",
       "    .dataframe tbody tr th {\n",
       "        vertical-align: top;\n",
       "    }\n",
       "\n",
       "    .dataframe thead th {\n",
       "        text-align: right;\n",
       "    }\n",
       "</style>\n",
       "<table border=\"1\" class=\"dataframe\">\n",
       "  <thead>\n",
       "    <tr style=\"text-align: right;\">\n",
       "      <th></th>\n",
       "      <th>0</th>\n",
       "      <th>1</th>\n",
       "      <th>2</th>\n",
       "      <th>3</th>\n",
       "      <th>4</th>\n",
       "      <th>5</th>\n",
       "      <th>6</th>\n",
       "      <th>7</th>\n",
       "    </tr>\n",
       "  </thead>\n",
       "  <tbody>\n",
       "    <tr>\n",
       "      <th>1589</th>\n",
       "      <td>chr3</td>\n",
       "      <td>88619500</td>\n",
       "      <td>88620000</td>\n",
       "      <td>chr3</td>\n",
       "      <td>88605966</td>\n",
       "      <td>88648052</td>\n",
       "      <td>ENSMUSG00000028059.15</td>\n",
       "      <td>Arhgef2</td>\n",
       "    </tr>\n",
       "    <tr>\n",
       "      <th>1591</th>\n",
       "      <td>chr3</td>\n",
       "      <td>88624500</td>\n",
       "      <td>88625000</td>\n",
       "      <td>chr3</td>\n",
       "      <td>88605966</td>\n",
       "      <td>88648052</td>\n",
       "      <td>ENSMUSG00000028059.15</td>\n",
       "      <td>Arhgef2</td>\n",
       "    </tr>\n",
       "  </tbody>\n",
       "</table>\n",
       "</div>"
      ],
      "text/plain": [
       "         0         1         2     3         4         5  \\\n",
       "1589  chr3  88619500  88620000  chr3  88605966  88648052   \n",
       "1591  chr3  88624500  88625000  chr3  88605966  88648052   \n",
       "\n",
       "                          6        7  \n",
       "1589  ENSMUSG00000028059.15  Arhgef2  \n",
       "1591  ENSMUSG00000028059.15  Arhgef2  "
      ]
     },
     "execution_count": 23,
     "metadata": {},
     "output_type": "execute_result"
    }
   ],
   "source": [
    "overlap_df[overlap_df[7] == 'Arhgef2'] "
   ]
  },
  {
   "cell_type": "code",
   "execution_count": null,
   "id": "032f6662-42da-4da1-8fb0-6f64f24a4058",
   "metadata": {},
   "outputs": [],
   "source": []
  },
  {
   "cell_type": "code",
   "execution_count": null,
   "id": "08749dab-1239-4579-8893-ad24d2e464e4",
   "metadata": {},
   "outputs": [],
   "source": []
  },
  {
   "cell_type": "code",
   "execution_count": null,
   "id": "3a60c596-291a-464e-af18-ef7e8d45cd86",
   "metadata": {},
   "outputs": [],
   "source": []
  },
  {
   "cell_type": "code",
   "execution_count": 24,
   "id": "205dc42a-2953-4107-990b-1fd3e1aedfbc",
   "metadata": {
    "execution": {
     "iopub.execute_input": "2024-02-02T00:00:28.314089Z",
     "iopub.status.busy": "2024-02-02T00:00:28.313755Z",
     "iopub.status.idle": "2024-02-02T00:00:28.317402Z",
     "shell.execute_reply": "2024-02-02T00:00:28.316740Z",
     "shell.execute_reply.started": "2024-02-02T00:00:28.314065Z"
    },
    "tags": []
   },
   "outputs": [],
   "source": [
    "# barplot(hyper_df,\n",
    "#               column=\"Adjusted P-value\",\n",
    "#               group='_type',\n",
    "#               title='GO Hyper Hotspot Genes',\n",
    "#               size=10,\n",
    "#               cutoff=0.01,\n",
    "#               top_term=10,\n",
    "#               figsize=(3,5),\n",
    "#               color=[ 'lightcoral'] \n",
    "#              )\n",
    "# plt.savefig('figure/Hyper.Hotspot.Gene.GO.pdf', bbox_inches='tight', dpi=300)\n",
    "# plt.close()"
   ]
  },
  {
   "cell_type": "code",
   "execution_count": null,
   "id": "921a3800-1e05-48a9-b90b-15decfc0ecd6",
   "metadata": {},
   "outputs": [],
   "source": []
  },
  {
   "cell_type": "code",
   "execution_count": null,
   "id": "c67f3042-ec25-4232-94c9-84d26c9d3950",
   "metadata": {},
   "outputs": [],
   "source": []
  },
  {
   "cell_type": "code",
   "execution_count": null,
   "id": "742b21a8-62f3-449e-87a7-65b3b9c4c65b",
   "metadata": {},
   "outputs": [],
   "source": []
  },
  {
   "cell_type": "code",
   "execution_count": null,
   "id": "17013407-021e-4421-b501-6630e2a8d98e",
   "metadata": {},
   "outputs": [],
   "source": []
  },
  {
   "cell_type": "code",
   "execution_count": null,
   "id": "b493169d-17a6-45e8-9c45-5d558b261107",
   "metadata": {},
   "outputs": [],
   "source": []
  },
  {
   "cell_type": "code",
   "execution_count": null,
   "id": "a7603c57-23cc-4382-b27d-3fed7cbaaa80",
   "metadata": {},
   "outputs": [],
   "source": []
  },
  {
   "cell_type": "code",
   "execution_count": null,
   "id": "d81441ff-22f9-4b1d-a6a1-1148da046a37",
   "metadata": {},
   "outputs": [],
   "source": []
  }
 ],
 "metadata": {
  "kernelspec": {
   "display_name": "Python 3 (ipykernel)",
   "language": "python",
   "name": "python3"
  },
  "language_info": {
   "codemirror_mode": {
    "name": "ipython",
    "version": 3
   },
   "file_extension": ".py",
   "mimetype": "text/x-python",
   "name": "python",
   "nbconvert_exporter": "python",
   "pygments_lexer": "ipython3",
   "version": "3.7.12"
  }
 },
 "nbformat": 4,
 "nbformat_minor": 5
}
