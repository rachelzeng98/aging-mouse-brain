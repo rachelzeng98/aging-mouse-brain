{
 "cells": [
  {
   "cell_type": "code",
   "execution_count": 1,
   "id": "8a53dbf2-88e7-43b9-8732-58daacf6edbe",
   "metadata": {
    "execution": {
     "iopub.execute_input": "2024-06-27T22:54:44.627630Z",
     "iopub.status.busy": "2024-06-27T22:54:44.627361Z",
     "iopub.status.idle": "2024-06-27T22:54:48.134856Z",
     "shell.execute_reply": "2024-06-27T22:54:48.133603Z",
     "shell.execute_reply.started": "2024-06-27T22:54:44.627606Z"
    },
    "tags": []
   },
   "outputs": [],
   "source": [
    "import cooler\n",
    "import matplotlib.pyplot as plt\n",
    "import numpy as np\n",
    "import pandas as pd\n",
    "import pyBigWig\n",
    "import seaborn as sns\n",
    "from matplotlib.colors import hex2color\n",
    "from tqdm import tqdm\n",
    "from wmb import cemba\n",
    "from glob import glob \n",
    "import pathlib"
   ]
  },
  {
   "cell_type": "code",
   "execution_count": 2,
   "id": "bc39893a-6bfb-412c-ad75-0c14204595a8",
   "metadata": {
    "execution": {
     "iopub.execute_input": "2024-06-27T22:54:48.136341Z",
     "iopub.status.busy": "2024-06-27T22:54:48.136085Z",
     "iopub.status.idle": "2024-06-27T22:54:48.140869Z",
     "shell.execute_reply": "2024-06-27T22:54:48.140287Z",
     "shell.execute_reply.started": "2024-06-27T22:54:48.136305Z"
    }
   },
   "outputs": [],
   "source": [
    "plt.rcParams['figure.dpi'] = 100\n",
    "plt.rcParams['savefig.dpi']=300\n",
    "plt.rcParams['pdf.fonttype']=42"
   ]
  },
  {
   "cell_type": "code",
   "execution_count": 3,
   "id": "2ec3a005-286e-4731-bc8e-0928ee08288e",
   "metadata": {
    "execution": {
     "iopub.execute_input": "2024-06-27T22:54:48.142397Z",
     "iopub.status.busy": "2024-06-27T22:54:48.142081Z",
     "iopub.status.idle": "2024-06-27T22:54:48.145092Z",
     "shell.execute_reply": "2024-06-27T22:54:48.144621Z",
     "shell.execute_reply.started": "2024-06-27T22:54:48.142377Z"
    }
   },
   "outputs": [],
   "source": [
    "ct = 'CA1-ProS_Glut'"
   ]
  },
  {
   "cell_type": "code",
   "execution_count": 4,
   "id": "7a630314-a6b3-401b-9000-f66b430fa44e",
   "metadata": {
    "execution": {
     "iopub.execute_input": "2024-06-27T22:54:48.146078Z",
     "iopub.status.busy": "2024-06-27T22:54:48.145869Z",
     "iopub.status.idle": "2024-06-27T22:54:48.170428Z",
     "shell.execute_reply": "2024-06-27T22:54:48.169956Z",
     "shell.execute_reply.started": "2024-06-27T22:54:48.146059Z"
    },
    "tags": []
   },
   "outputs": [
    {
     "data": {
      "text/html": [
       "<div>\n",
       "<style scoped>\n",
       "    .dataframe tbody tr th:only-of-type {\n",
       "        vertical-align: middle;\n",
       "    }\n",
       "\n",
       "    .dataframe tbody tr th {\n",
       "        vertical-align: top;\n",
       "    }\n",
       "\n",
       "    .dataframe thead th {\n",
       "        text-align: right;\n",
       "    }\n",
       "</style>\n",
       "<table border=\"1\" class=\"dataframe\">\n",
       "  <thead>\n",
       "    <tr style=\"text-align: right;\">\n",
       "      <th></th>\n",
       "      <th>rna</th>\n",
       "      <th>atac</th>\n",
       "      <th>mcg</th>\n",
       "      <th>mch</th>\n",
       "    </tr>\n",
       "  </thead>\n",
       "  <tbody>\n",
       "    <tr>\n",
       "      <th>9mo</th>\n",
       "      <td>/ceph/gale-1/qzeng/AmbData/Luisa/female_rna/Fe...</td>\n",
       "      <td>/ceph/gale-1/qzeng/AmbData/Luisa/female_atac/F...</td>\n",
       "      <td>/ceph/gale-1/qzeng/AmbData/CellType_Allc/F.Cel...</td>\n",
       "      <td>/ceph/gale-1/qzeng/AmbData/CellType_Allc/M.Cel...</td>\n",
       "    </tr>\n",
       "    <tr>\n",
       "      <th>18mo</th>\n",
       "      <td>/ceph/gale-1/qzeng/AmbData/Luisa/female_rna/Fe...</td>\n",
       "      <td>/ceph/gale-1/qzeng/AmbData/Luisa/female_atac/F...</td>\n",
       "      <td>/ceph/gale-1/qzeng/AmbData/CellType_Allc/F.Cel...</td>\n",
       "      <td>/ceph/gale-1/qzeng/AmbData/CellType_Allc/M.Cel...</td>\n",
       "    </tr>\n",
       "    <tr>\n",
       "      <th>2mo</th>\n",
       "      <td>/ceph/gale-1/qzeng/AmbData/Luisa/female_rna/Fe...</td>\n",
       "      <td>/ceph/gale-1/qzeng/AmbData/Luisa/female_atac/F...</td>\n",
       "      <td>/ceph/gale-1/qzeng/AmbData/CellType_Allc/F.Cel...</td>\n",
       "      <td>/ceph/gale-1/qzeng/AmbData/CellType_Allc/M.Cel...</td>\n",
       "    </tr>\n",
       "  </tbody>\n",
       "</table>\n",
       "</div>"
      ],
      "text/plain": [
       "                                                    rna  \\\n",
       "9mo   /ceph/gale-1/qzeng/AmbData/Luisa/female_rna/Fe...   \n",
       "18mo  /ceph/gale-1/qzeng/AmbData/Luisa/female_rna/Fe...   \n",
       "2mo   /ceph/gale-1/qzeng/AmbData/Luisa/female_rna/Fe...   \n",
       "\n",
       "                                                   atac  \\\n",
       "9mo   /ceph/gale-1/qzeng/AmbData/Luisa/female_atac/F...   \n",
       "18mo  /ceph/gale-1/qzeng/AmbData/Luisa/female_atac/F...   \n",
       "2mo   /ceph/gale-1/qzeng/AmbData/Luisa/female_atac/F...   \n",
       "\n",
       "                                                    mcg  \\\n",
       "9mo   /ceph/gale-1/qzeng/AmbData/CellType_Allc/F.Cel...   \n",
       "18mo  /ceph/gale-1/qzeng/AmbData/CellType_Allc/F.Cel...   \n",
       "2mo   /ceph/gale-1/qzeng/AmbData/CellType_Allc/F.Cel...   \n",
       "\n",
       "                                                    mch  \n",
       "9mo   /ceph/gale-1/qzeng/AmbData/CellType_Allc/M.Cel...  \n",
       "18mo  /ceph/gale-1/qzeng/AmbData/CellType_Allc/M.Cel...  \n",
       "2mo   /ceph/gale-1/qzeng/AmbData/CellType_Allc/M.Cel...  "
      ]
     },
     "execution_count": 4,
     "metadata": {},
     "output_type": "execute_result"
    }
   ],
   "source": [
    "rna_files = glob(f'/ceph/gale-1/qzeng/AmbData/Luisa/female_rna/Female_RNA_{ct}_*_merge.bw')\n",
    "rna_df = pd.DataFrame({'rna':rna_files}, index = [pathlib.Path(path).name.split('_')[-2] for path in rna_files])\n",
    "\n",
    "atac_files = glob(f'/ceph/gale-1/qzeng/AmbData/Luisa/female_atac/Female_{ct}_*_merge.bw')\n",
    "atac_df = pd.DataFrame({'atac':atac_files}, index = [pathlib.Path(path).name.split('_')[-2] for path in atac_files])\n",
    "\n",
    "mc_files = glob(f'/ceph/gale-1/qzeng/AmbData/CellType_Allc/F.CellType.Age/{ct}.*/{ct}.*.CGN-both.frac.bw')\n",
    "mc_df = pd.DataFrame({'mcg':mc_files}, index = [pathlib.Path(path).name.split('.')[1] for path in mc_files])\n",
    "mc_df = mc_df.loc[['8wk','9mo','18mo']]\n",
    "mc_df.index = ['2mo','9mo','18mo']\n",
    "\n",
    "mch_files = glob(f'/ceph/gale-1/qzeng/AmbData/CellType_Allc/M.CellType.Age/{ct}.*/{ct}.*.CHN-both.frac.bw')\n",
    "mch_df = pd.DataFrame({'mch':mch_files}, index = [pathlib.Path(path).name.split('.')[1] for path in mch_files])\n",
    "mch_df = mch_df.loc[['8wk','9mo','18mo']]\n",
    "mch_df.index = ['2mo','9mo','18mo']\n",
    "\n",
    "track_table = pd.concat([rna_df, atac_df, mc_df,mch_df], axis = 1)\n",
    "track_table"
   ]
  },
  {
   "cell_type": "code",
   "execution_count": 5,
   "id": "dfdd2d67-3622-41c1-b495-68db471749e6",
   "metadata": {
    "execution": {
     "iopub.execute_input": "2024-06-27T22:54:48.171389Z",
     "iopub.status.busy": "2024-06-27T22:54:48.171180Z",
     "iopub.status.idle": "2024-06-27T22:54:48.175796Z",
     "shell.execute_reply": "2024-06-27T22:54:48.175319Z",
     "shell.execute_reply.started": "2024-06-27T22:54:48.171370Z"
    },
    "tags": []
   },
   "outputs": [],
   "source": [
    "from amb import *\n",
    "age_palette = get_age_palette()\n",
    "modality_palette = get_modality_palette()\n",
    "\n",
    "modality_palette['rna'] = '#7D4195'\n",
    "modality_palette['atac'] = '#EF7D1A'\n",
    "modality_palette['mcg'] = '#36AE37'\n",
    "modality_palette['mch'] = '#16499D'"
   ]
  },
  {
   "cell_type": "code",
   "execution_count": 6,
   "id": "82b3eefd-7b41-4a40-abba-aaaaf5027737",
   "metadata": {
    "execution": {
     "iopub.execute_input": "2024-06-27T22:54:48.178142Z",
     "iopub.status.busy": "2024-06-27T22:54:48.177840Z",
     "iopub.status.idle": "2024-06-27T22:54:48.181563Z",
     "shell.execute_reply": "2024-06-27T22:54:48.181097Z",
     "shell.execute_reply.started": "2024-06-27T22:54:48.178122Z"
    },
    "tags": []
   },
   "outputs": [],
   "source": [
    "#name = 'Il33'\n",
    "bw_chrom = \"chr13\"\n",
    "# slop = 3000\n",
    "# gene_start = 29923114\n",
    "# gene_end = 29962715\n",
    "\n",
    "bw_start = 68162000\n",
    "bw_end = 68186000\n",
    "bw_bins = 600\n",
    "rna_ylim = (0,18)\n",
    "mcg_ylim = (0, 1)\n",
    "mch_ylim = (0, 0.02)\n",
    "atac_ylim = (0, 1000)"
   ]
  },
  {
   "cell_type": "code",
   "execution_count": null,
   "id": "a6cc3a7a-57a2-4263-9ef1-d0d2f051dfb8",
   "metadata": {},
   "outputs": [],
   "source": []
  },
  {
   "cell_type": "code",
   "execution_count": 7,
   "id": "415ea48b-0963-4382-abfe-c94bdf0e5eae",
   "metadata": {
    "execution": {
     "iopub.execute_input": "2024-06-27T22:54:48.182721Z",
     "iopub.status.busy": "2024-06-27T22:54:48.182436Z",
     "iopub.status.idle": "2024-06-27T22:54:48.191554Z",
     "shell.execute_reply": "2024-06-27T22:54:48.191069Z",
     "shell.execute_reply.started": "2024-06-27T22:54:48.182701Z"
    },
    "tags": []
   },
   "outputs": [],
   "source": [
    "\n",
    "def _plot_bw(ax, data, fc, ylim):\n",
    "    ax.fill_between(\n",
    "        data[\"x\"], y1=data[\"y\"], fc=fc, linewidth=0, step=\"pre\", rasterized=True\n",
    "    )\n",
    "    ax.set(xticks=[], ylim=ylim, yticks=[])\n",
    "\n",
    "\n",
    "def plot_rna(ax, data, fc=\"tab:purple\", ylim=rna_ylim):\n",
    "    _plot_bw(ax, data, fc, ylim)\n",
    "    return\n",
    "\n",
    "\n",
    "def plot_mcg(ax, data, fc=\"tab:green\", ylim=mcg_ylim):\n",
    "    _plot_bw(ax, data, fc, ylim)\n",
    "    return\n",
    "\n",
    "def plot_mch(ax, data, fc=\"tab:blue\", ylim=mch_ylim):\n",
    "    _plot_bw(ax, data, fc, ylim)\n",
    "    return\n",
    "\n",
    "def plot_atac(ax, data, fc=\"tab:orange\", ylim=atac_ylim):\n",
    "    _plot_bw(ax, data, fc, ylim)\n",
    "    return\n",
    "\n",
    "\n",
    "def get_bw_data(\n",
    "    track_path,\n",
    "    bw_chrom=bw_chrom,\n",
    "    bw_start=bw_start,\n",
    "    bw_end=bw_end,\n",
    "    _type=\"mean\",\n",
    "    bins=bw_bins,\n",
    "    log = False\n",
    "):\n",
    "    with pyBigWig.open(track_path) as bw:\n",
    "        bw_data = pd.Series(\n",
    "            bw.stats(bw_chrom, bw_start, bw_end, type=_type, nBins=bins)\n",
    "        )\n",
    "        bw_data = bw_data.reset_index()\n",
    "        bw_data.columns = [\"x\", \"y\"]\n",
    "        if log == True:\n",
    "            bw_data['y'] = np.log(bw_data['y'])\n",
    "    return bw_data\n",
    "\n",
    "plot_func = {\"mcg\": plot_mcg,\"mch\": plot_mch, \"atac\": plot_atac, \"rna\": plot_rna}\n"
   ]
  },
  {
   "cell_type": "code",
   "execution_count": 8,
   "id": "7bbc71b3-e979-4593-9712-17ad1ac17e63",
   "metadata": {
    "execution": {
     "iopub.execute_input": "2024-06-27T22:54:48.192598Z",
     "iopub.status.busy": "2024-06-27T22:54:48.192396Z",
     "iopub.status.idle": "2024-06-27T22:54:48.197316Z",
     "shell.execute_reply": "2024-06-27T22:54:48.196838Z",
     "shell.execute_reply.started": "2024-06-27T22:54:48.192579Z"
    },
    "tags": []
   },
   "outputs": [
    {
     "name": "stdout",
     "output_type": "stream",
     "text": [
      "chr13:68162000-68186000\n"
     ]
    }
   ],
   "source": [
    "print(f\"{bw_chrom}:{bw_start}-{bw_end}\")"
   ]
  },
  {
   "cell_type": "code",
   "execution_count": 9,
   "id": "f306de11-872d-4a16-b9f0-f2a50e6de857",
   "metadata": {
    "execution": {
     "iopub.execute_input": "2024-06-27T22:54:48.198178Z",
     "iopub.status.busy": "2024-06-27T22:54:48.197979Z",
     "iopub.status.idle": "2024-06-27T22:54:48.201964Z",
     "shell.execute_reply": "2024-06-27T22:54:48.201510Z",
     "shell.execute_reply.started": "2024-06-27T22:54:48.198159Z"
    },
    "tags": []
   },
   "outputs": [],
   "source": [
    "age_list = [ \"2mo\", \"9mo\",\"18mo\"]\n",
    "bw_track_types = [\"rna\", \"mcg\", \"atac\",'mch']"
   ]
  },
  {
   "cell_type": "code",
   "execution_count": 10,
   "id": "b426c261-7409-4a5a-b060-64bb5f38b00c",
   "metadata": {
    "execution": {
     "iopub.execute_input": "2024-06-27T22:54:48.202978Z",
     "iopub.status.busy": "2024-06-27T22:54:48.202767Z",
     "iopub.status.idle": "2024-06-27T22:54:48.207224Z",
     "shell.execute_reply": "2024-06-27T22:54:48.206527Z",
     "shell.execute_reply.started": "2024-06-27T22:54:48.202959Z"
    },
    "tags": []
   },
   "outputs": [],
   "source": [
    "type_dict = {'mcg':'mean',\n",
    "            'rna':'mean',\n",
    "             'mch':'mean',\n",
    "            'atac':'sum'}\n",
    "\n",
    "log_dict = {'mcg':False,\n",
    "            'mch':False,\n",
    "            'rna':False,\n",
    "            'atac':False}"
   ]
  },
  {
   "cell_type": "code",
   "execution_count": 11,
   "id": "6719fdb8-dcef-4f34-aa34-d58f0f786d07",
   "metadata": {
    "execution": {
     "iopub.execute_input": "2024-06-27T22:54:48.208296Z",
     "iopub.status.busy": "2024-06-27T22:54:48.208014Z",
     "iopub.status.idle": "2024-06-27T22:54:48.210918Z",
     "shell.execute_reply": "2024-06-27T22:54:48.210448Z",
     "shell.execute_reply.started": "2024-06-27T22:54:48.208277Z"
    },
    "tags": []
   },
   "outputs": [],
   "source": [
    "#bed_path = '/home/qzeng/project/aging/230907-recall-dmr/Merge_DMR/mC_FILTER_DMR_BED/CA1-ProS_Glut.Hypo.aDMR.bed'"
   ]
  },
  {
   "cell_type": "code",
   "execution_count": 12,
   "id": "ee7dd58c-2c61-475a-bd80-df8f17ae6ae7",
   "metadata": {
    "execution": {
     "iopub.execute_input": "2024-06-27T22:54:48.212030Z",
     "iopub.status.busy": "2024-06-27T22:54:48.211745Z",
     "iopub.status.idle": "2024-06-27T22:54:51.006604Z",
     "shell.execute_reply": "2024-06-27T22:54:51.005868Z",
     "shell.execute_reply.started": "2024-06-27T22:54:48.212011Z"
    },
    "tags": []
   },
   "outputs": [
    {
     "data": {
      "image/png": "[encoded data removed]",
      "text/plain": [
       "<Figure size 1800x1080 with 24 Axes>"
      ]
     },
     "metadata": {},
     "output_type": "display_data"
    }
   ],
   "source": [
    "nrows = len(bw_track_types) * len(age_list)\n",
    "\n",
    "fig = plt.figure(figsize=(6, 0.3 * nrows), dpi=300)\n",
    "\n",
    "gs = fig.add_gridspec(nrows, 2, width_ratios=(0.3, 9), hspace=0.1, wspace=0)\n",
    "ct_axes = [fig.add_subplot(gs[i, 0]) for i in range(nrows)]\n",
    "track_axes = [fig.add_subplot(gs[i, 1]) for i in range(nrows)]\n",
    "\n",
    "axes = track_axes\n",
    "for i, track_type in enumerate(bw_track_types):\n",
    "    ax_idx_start = i * len(age_list)\n",
    "    _axes = axes[ax_idx_start : ax_idx_start + len(age_list)]\n",
    "    for ax, age in zip(_axes, age_list):\n",
    "        track_path = track_table.loc[age, track_type]   \n",
    "        bw_data = get_bw_data(track_path, _type=type_dict[track_type], log = log_dict[track_type])\n",
    "        plot_func[track_type](ax=ax, data=bw_data)\n",
    "        for spine in ax.spines.values():\n",
    "            spine.set(linewidth=0.5)\n",
    "\n",
    "axes = ct_axes\n",
    "use_annot = ['2mo', '9mo','18mo','2mo','9mo', '18mo','2mo', '9mo','18mo','2mo', '9mo','18mo']\n",
    "for ax, age in zip(axes, use_annot):\n",
    "    color = hex2color(age_palette[age])\n",
    "    ax.imshow(np.array(color)[None, None, :], aspect=\"auto\")\n",
    "    ax.set(xticks=[], yticks=[])\n",
    "    for spine in ax.spines.values():\n",
    "        spine.set(linewidth=0.5)\n",
    "    ax.set_ylabel(age, rotation=0, fontsize=6, ha=\"right\", va=\"center\")\n",
    "fig.suptitle(f\"mcg {mcg_ylim}\\natac {atac_ylim}\\nrna {rna_ylim}\\n mch {mch_ylim}\\n\", fontsize=6)\n",
    "fig.savefig(f'{ct}.LTR.{bw_chrom}_{bw_start}-{bw_end}.pdf', bbox_inches='tight')"
   ]
  },
  {
   "cell_type": "code",
   "execution_count": 14,
   "id": "23a4e1f4-7f89-4eab-9875-9ef4c9c44d57",
   "metadata": {
    "execution": {
     "iopub.execute_input": "2024-06-27T22:56:24.585330Z",
     "iopub.status.busy": "2024-06-27T22:56:24.585117Z",
     "iopub.status.idle": "2024-06-27T22:56:24.588756Z",
     "shell.execute_reply": "2024-06-27T22:56:24.588313Z",
     "shell.execute_reply.started": "2024-06-27T22:56:24.585301Z"
    }
   },
   "outputs": [
    {
     "name": "stdout",
     "output_type": "stream",
     "text": [
      "chr13:68162000-68186000\n"
     ]
    }
   ],
   "source": [
    "print(f\"{bw_chrom}:{bw_start}-{bw_end}\")"
   ]
  },
  {
   "cell_type": "code",
   "execution_count": 13,
   "id": "de430dd1-d865-4d66-af81-bb0efbc1c365",
   "metadata": {
    "execution": {
     "iopub.execute_input": "2024-06-27T22:54:51.008044Z",
     "iopub.status.busy": "2024-06-27T22:54:51.007810Z",
     "iopub.status.idle": "2024-06-27T22:54:51.011399Z",
     "shell.execute_reply": "2024-06-27T22:54:51.010920Z",
     "shell.execute_reply.started": "2024-06-27T22:54:51.008021Z"
    },
    "tags": []
   },
   "outputs": [],
   "source": [
    "# import pyGenomeTracks.tracks as tracks\n",
    "# from pyGenomeTracks.tracks.genes import GeneTrack"
   ]
  },
  {
   "cell_type": "code",
   "execution_count": null,
   "id": "96c0187b-ff2c-40e5-9d51-9e0523909635",
   "metadata": {},
   "outputs": [],
   "source": []
  },
  {
   "cell_type": "code",
   "execution_count": null,
   "id": "59d70642-2b29-4173-aeab-12ea111b1b9b",
   "metadata": {},
   "outputs": [],
   "source": []
  },
  {
   "cell_type": "code",
   "execution_count": null,
   "id": "451fdf03-c35f-415b-859b-16ace00ff39a",
   "metadata": {},
   "outputs": [],
   "source": []
  },
  {
   "cell_type": "code",
   "execution_count": null,
   "id": "0ac81ca8-0324-4d37-9cdf-91dd3b97e74b",
   "metadata": {},
   "outputs": [],
   "source": []
  },
  {
   "cell_type": "code",
   "execution_count": null,
   "id": "51ea17ff-007a-4386-a0ba-943250aba121",
   "metadata": {},
   "outputs": [],
   "source": []
  },
  {
   "cell_type": "code",
   "execution_count": null,
   "id": "8999d0b5-c5bc-431b-8363-30a8c1adac86",
   "metadata": {},
   "outputs": [],
   "source": []
  },
  {
   "cell_type": "code",
   "execution_count": null,
   "id": "fcdf9b48-6f2a-4191-943b-8d643d770044",
   "metadata": {},
   "outputs": [],
   "source": []
  },
  {
   "cell_type": "code",
   "execution_count": null,
   "id": "ed1689d4-dc75-46bf-a2f8-744b1136e3f4",
   "metadata": {},
   "outputs": [],
   "source": []
  },
  {
   "cell_type": "code",
   "execution_count": null,
   "id": "054f3e34-ae21-477a-9f55-6d07ba375224",
   "metadata": {},
   "outputs": [],
   "source": []
  },
  {
   "cell_type": "code",
   "execution_count": null,
   "id": "9ba87540-77cf-4010-8810-c329c13b3ede",
   "metadata": {},
   "outputs": [],
   "source": []
  },
  {
   "cell_type": "code",
   "execution_count": null,
   "id": "fc83946f-7d8a-4b25-bffa-48e3bbcc2e26",
   "metadata": {},
   "outputs": [],
   "source": []
  },
  {
   "cell_type": "code",
   "execution_count": null,
   "id": "adf48cb7-b128-46bc-a66a-fc66842cd77d",
   "metadata": {},
   "outputs": [],
   "source": []
  },
  {
   "cell_type": "code",
   "execution_count": null,
   "id": "e850a455-0d45-4411-aca5-270001b7ea28",
   "metadata": {},
   "outputs": [],
   "source": []
  },
  {
   "cell_type": "code",
   "execution_count": null,
   "id": "1dc48696-65a4-4549-b83d-8b30b6982320",
   "metadata": {},
   "outputs": [],
   "source": []
  },
  {
   "cell_type": "code",
   "execution_count": null,
   "id": "65c20e71-0088-4502-8db4-7ce9d6e89061",
   "metadata": {},
   "outputs": [],
   "source": []
  },
  {
   "cell_type": "code",
   "execution_count": null,
   "id": "92692e77-f0d9-4f7d-8c2a-ca137ef2d025",
   "metadata": {},
   "outputs": [],
   "source": []
  },
  {
   "cell_type": "code",
   "execution_count": null,
   "id": "294b4bfc-c8a4-4d66-a457-011521438685",
   "metadata": {},
   "outputs": [],
   "source": []
  },
  {
   "cell_type": "code",
   "execution_count": null,
   "id": "16c8dff4-c06e-4304-85a9-4205e5a31ac6",
   "metadata": {},
   "outputs": [],
   "source": []
  },
  {
   "cell_type": "code",
   "execution_count": null,
   "id": "3c5ea26e-7328-417f-9aab-035430dfcd91",
   "metadata": {},
   "outputs": [],
   "source": []
  },
  {
   "cell_type": "code",
   "execution_count": null,
   "id": "cb6be5eb-0c6c-4014-add1-d7d41d13fbf2",
   "metadata": {},
   "outputs": [],
   "source": []
  },
  {
   "cell_type": "code",
   "execution_count": null,
   "id": "4201975c-325e-4a1a-8722-607b36bd24ad",
   "metadata": {},
   "outputs": [],
   "source": []
  },
  {
   "cell_type": "code",
   "execution_count": null,
   "id": "27b8f5fc-c822-4a12-913c-05a7892e3816",
   "metadata": {},
   "outputs": [],
   "source": []
  },
  {
   "cell_type": "code",
   "execution_count": null,
   "id": "f8fcbf57-258b-4a34-b963-58707f76af1f",
   "metadata": {},
   "outputs": [],
   "source": []
  },
  {
   "cell_type": "code",
   "execution_count": null,
   "id": "c425176b-e203-4983-bcec-1f02e56b101b",
   "metadata": {},
   "outputs": [],
   "source": []
  },
  {
   "cell_type": "code",
   "execution_count": null,
   "id": "18fb1ac2-3267-4c4b-bd25-fe1f23355d57",
   "metadata": {},
   "outputs": [],
   "source": []
  },
  {
   "cell_type": "code",
   "execution_count": null,
   "id": "b2991c32-9a4f-4d35-a46e-c87d75cfb10f",
   "metadata": {},
   "outputs": [],
   "source": []
  },
  {
   "cell_type": "code",
   "execution_count": null,
   "id": "ebe90a5f-4ddd-41a1-ae96-cd70fafcdf51",
   "metadata": {},
   "outputs": [],
   "source": []
  },
  {
   "cell_type": "code",
   "execution_count": null,
   "id": "1cd661de-9fc8-45b3-9b3b-59b2349db216",
   "metadata": {},
   "outputs": [],
   "source": []
  },
  {
   "cell_type": "code",
   "execution_count": null,
   "id": "8184ab70-0381-46d4-8009-c911ed6ff5f7",
   "metadata": {},
   "outputs": [],
   "source": []
  },
  {
   "cell_type": "code",
   "execution_count": null,
   "id": "7bd51ddd-10b5-497a-a0db-f312a9671a42",
   "metadata": {},
   "outputs": [],
   "source": []
  },
  {
   "cell_type": "code",
   "execution_count": null,
   "id": "074ca278-eb50-4998-b124-f15e8bfb3804",
   "metadata": {},
   "outputs": [],
   "source": []
  }
 ],
 "metadata": {
  "kernelspec": {
   "display_name": "Python 3 (ipykernel)",
   "language": "python",
   "name": "python3"
  },
  "language_info": {
   "codemirror_mode": {
    "name": "ipython",
    "version": 3
   },
   "file_extension": ".py",
   "mimetype": "text/x-python",
   "name": "python",
   "nbconvert_exporter": "python",
   "pygments_lexer": "ipython3",
   "version": "3.7.12"
  }
 },
 "nbformat": 4,
 "nbformat_minor": 5
}
