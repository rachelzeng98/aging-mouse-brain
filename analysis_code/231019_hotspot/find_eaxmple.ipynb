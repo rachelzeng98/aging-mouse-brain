{
 "cells": [
  {
   "cell_type": "code",
   "execution_count": 1,
   "id": "08328a98-164d-4c44-83d5-9524072bd34e",
   "metadata": {
    "execution": {
     "iopub.execute_input": "2024-02-02T01:41:11.900763Z",
     "iopub.status.busy": "2024-02-02T01:41:11.899589Z",
     "iopub.status.idle": "2024-02-02T01:41:12.345712Z",
     "shell.execute_reply": "2024-02-02T01:41:12.344925Z",
     "shell.execute_reply.started": "2024-02-02T01:41:11.900723Z"
    },
    "tags": []
   },
   "outputs": [],
   "source": [
    "import pandas as pd"
   ]
  },
  {
   "cell_type": "code",
   "execution_count": 2,
   "id": "c4b3ecde-b1af-4ff8-a1bb-dbb2c0a0a284",
   "metadata": {
    "execution": {
     "iopub.execute_input": "2024-02-02T01:41:12.347632Z",
     "iopub.status.busy": "2024-02-02T01:41:12.347116Z",
     "iopub.status.idle": "2024-02-02T01:41:12.351142Z",
     "shell.execute_reply": "2024-02-02T01:41:12.350534Z",
     "shell.execute_reply.started": "2024-02-02T01:41:12.347606Z"
    },
    "tags": []
   },
   "outputs": [],
   "source": [
    "_dir = '500_result'\n",
    "_type = 'Hyper'\n",
    "ct = 'shared'"
   ]
  },
  {
   "cell_type": "code",
   "execution_count": 3,
   "id": "e31a80b3-8036-4423-857a-ce040b36a65c",
   "metadata": {
    "execution": {
     "iopub.execute_input": "2024-02-02T01:41:12.352427Z",
     "iopub.status.busy": "2024-02-02T01:41:12.351934Z",
     "iopub.status.idle": "2024-02-02T01:41:14.213248Z",
     "shell.execute_reply": "2024-02-02T01:41:14.212553Z",
     "shell.execute_reply.started": "2024-02-02T01:41:12.352405Z"
    },
    "tags": []
   },
   "outputs": [],
   "source": [
    "gene_df =pd.read_csv(f'{_dir}/{_type}.{ct}.Hotspot.Overlap.Gene.bed', sep = '\\t', header = None)\n",
    "dms_num_df = pd.read_csv(f'{_dir}/{_type}.DMS.concat.sum.bed',sep = '\\t', header = None)\n",
    "ct_df = pd.read_csv(f'{_dir}/{_type}.hotspot.ct.csv', index_col = 0)"
   ]
  },
  {
   "cell_type": "code",
   "execution_count": 4,
   "id": "6c026861-627b-4ab1-9245-33b6a27276f3",
   "metadata": {
    "execution": {
     "iopub.execute_input": "2024-02-02T01:41:14.214532Z",
     "iopub.status.busy": "2024-02-02T01:41:14.214195Z",
     "iopub.status.idle": "2024-02-02T01:41:23.138930Z",
     "shell.execute_reply": "2024-02-02T01:41:23.137656Z",
     "shell.execute_reply.started": "2024-02-02T01:41:14.214507Z"
    },
    "tags": []
   },
   "outputs": [],
   "source": [
    "gene_df['hotspot_id'] = gene_df[0] + '-' +gene_df[1].astype(str) + '-' +gene_df[2].astype(str)\n",
    "dms_num_df['hotspot_id'] = dms_num_df[0] + '-' +dms_num_df[1].astype(str) + '-' +dms_num_df[2].astype(str)"
   ]
  },
  {
   "cell_type": "code",
   "execution_count": 5,
   "id": "0bebf5cb-b302-45f3-8d7f-76df1539621e",
   "metadata": {
    "execution": {
     "iopub.execute_input": "2024-02-02T01:41:23.141570Z",
     "iopub.status.busy": "2024-02-02T01:41:23.141113Z",
     "iopub.status.idle": "2024-02-02T01:41:29.348956Z",
     "shell.execute_reply": "2024-02-02T01:41:29.347898Z",
     "shell.execute_reply.started": "2024-02-02T01:41:23.141544Z"
    },
    "tags": []
   },
   "outputs": [],
   "source": [
    "chunk_to_num_dict = dms_num_df.set_index('hotspot_id')[3].to_dict()"
   ]
  },
  {
   "cell_type": "code",
   "execution_count": 6,
   "id": "b0af15ed-1fd3-4725-b914-61d28598f722",
   "metadata": {
    "execution": {
     "iopub.execute_input": "2024-02-02T01:41:29.350649Z",
     "iopub.status.busy": "2024-02-02T01:41:29.350247Z",
     "iopub.status.idle": "2024-02-02T01:41:35.221966Z",
     "shell.execute_reply": "2024-02-02T01:41:35.221208Z",
     "shell.execute_reply.started": "2024-02-02T01:41:29.350622Z"
    },
    "tags": []
   },
   "outputs": [],
   "source": [
    "gene_df['dms_num'] = gene_df['hotspot_id'].map(chunk_to_num_dict)\n",
    "gene_df = gene_df.sort_values('dms_num', ascending = False)"
   ]
  },
  {
   "cell_type": "code",
   "execution_count": 7,
   "id": "77ab18f2-e709-450b-8853-203340e34bca",
   "metadata": {
    "execution": {
     "iopub.execute_input": "2024-02-02T01:41:35.223552Z",
     "iopub.status.busy": "2024-02-02T01:41:35.223040Z",
     "iopub.status.idle": "2024-02-02T01:41:35.227946Z",
     "shell.execute_reply": "2024-02-02T01:41:35.227178Z",
     "shell.execute_reply.started": "2024-02-02T01:41:35.223526Z"
    },
    "tags": []
   },
   "outputs": [],
   "source": [
    "all_genes = gene_df[7].unique().tolist()"
   ]
  },
  {
   "cell_type": "code",
   "execution_count": 10,
   "id": "3de3d7aa-800e-4122-82e9-6f752f2bb27f",
   "metadata": {
    "execution": {
     "iopub.execute_input": "2024-02-02T01:41:43.679927Z",
     "iopub.status.busy": "2024-02-02T01:41:43.679309Z",
     "iopub.status.idle": "2024-02-02T01:41:43.684554Z",
     "shell.execute_reply": "2024-02-02T01:41:43.683595Z",
     "shell.execute_reply.started": "2024-02-02T01:41:43.679881Z"
    },
    "tags": []
   },
   "outputs": [],
   "source": [
    "#interested_genes = [gene for gene in all_genes if gene.startswith('Pcdh')]\n",
    "interested_genes = ['Nrxn2']"
   ]
  },
  {
   "cell_type": "code",
   "execution_count": 11,
   "id": "04610430-4ed6-4433-883a-93f302f5d4cd",
   "metadata": {
    "execution": {
     "iopub.execute_input": "2024-02-02T01:41:45.989561Z",
     "iopub.status.busy": "2024-02-02T01:41:45.988852Z",
     "iopub.status.idle": "2024-02-02T01:41:45.997002Z",
     "shell.execute_reply": "2024-02-02T01:41:45.996108Z",
     "shell.execute_reply.started": "2024-02-02T01:41:45.989507Z"
    },
    "tags": []
   },
   "outputs": [],
   "source": [
    "tmpdf = gene_df[gene_df[7].isin(interested_genes)]"
   ]
  },
  {
   "cell_type": "code",
   "execution_count": 12,
   "id": "bf603314-8f18-4b3e-9046-5542f6ec6222",
   "metadata": {
    "execution": {
     "iopub.execute_input": "2024-02-02T01:41:46.422073Z",
     "iopub.status.busy": "2024-02-02T01:41:46.421521Z",
     "iopub.status.idle": "2024-02-02T01:41:46.426581Z",
     "shell.execute_reply": "2024-02-02T01:41:46.425879Z",
     "shell.execute_reply.started": "2024-02-02T01:41:46.422034Z"
    },
    "tags": []
   },
   "outputs": [],
   "source": [
    "all_chunks = tmpdf['hotspot_id'].unique().tolist()"
   ]
  },
  {
   "cell_type": "code",
   "execution_count": 13,
   "id": "799b3536-ad5c-40f1-91b5-3ab028db54a9",
   "metadata": {
    "execution": {
     "iopub.execute_input": "2024-02-02T01:41:47.322372Z",
     "iopub.status.busy": "2024-02-02T01:41:47.321814Z",
     "iopub.status.idle": "2024-02-02T01:41:47.327560Z",
     "shell.execute_reply": "2024-02-02T01:41:47.326869Z",
     "shell.execute_reply.started": "2024-02-02T01:41:47.322331Z"
    },
    "tags": []
   },
   "outputs": [
    {
     "data": {
      "text/plain": [
       "['chr19-6428000-6428500']"
      ]
     },
     "execution_count": 13,
     "metadata": {},
     "output_type": "execute_result"
    }
   ],
   "source": [
    "all_chunks"
   ]
  },
  {
   "cell_type": "code",
   "execution_count": 25,
   "id": "d7797674-e30d-44c8-902f-d0bdc2dd3f37",
   "metadata": {
    "execution": {
     "iopub.execute_input": "2024-02-02T01:26:14.099905Z",
     "iopub.status.busy": "2024-02-02T01:26:14.099488Z",
     "iopub.status.idle": "2024-02-02T01:26:14.103026Z",
     "shell.execute_reply": "2024-02-02T01:26:14.102341Z",
     "shell.execute_reply.started": "2024-02-02T01:26:14.099869Z"
    },
    "tags": []
   },
   "outputs": [],
   "source": [
    "# for _gene in interested_genes:\n",
    "#     print(_gene)"
   ]
  },
  {
   "cell_type": "code",
   "execution_count": 17,
   "id": "9b9116f6-6bbd-40d8-bcc0-c004a3fce717",
   "metadata": {
    "execution": {
     "iopub.execute_input": "2024-02-02T01:16:22.103006Z",
     "iopub.status.busy": "2024-02-02T01:16:22.102584Z",
     "iopub.status.idle": "2024-02-02T01:16:22.106227Z",
     "shell.execute_reply": "2024-02-02T01:16:22.105552Z",
     "shell.execute_reply.started": "2024-02-02T01:16:22.102979Z"
    },
    "tags": []
   },
   "outputs": [],
   "source": [
    "chunk_id = 'chr18-38198500-38199000'"
   ]
  },
  {
   "cell_type": "code",
   "execution_count": 14,
   "id": "88c388f9-41e6-464f-96a7-2cf8d9010db8",
   "metadata": {
    "execution": {
     "iopub.execute_input": "2024-02-02T01:41:52.534096Z",
     "iopub.status.busy": "2024-02-02T01:41:52.533429Z",
     "iopub.status.idle": "2024-02-02T01:41:52.544228Z",
     "shell.execute_reply": "2024-02-02T01:41:52.543564Z",
     "shell.execute_reply.started": "2024-02-02T01:41:52.534046Z"
    },
    "tags": []
   },
   "outputs": [
    {
     "data": {
      "text/plain": [
       "PAG-PPN_Pax5_Sox21_Gaba       0\n",
       "MEA-COA_Glut                  0\n",
       "PB_Evx2_Glut                  0\n",
       "Vip_Gaba                      0\n",
       "LDT-PCG-CS_Gata3_Lhx1_Gaba    4\n",
       "STR_D1_Sema5a_Gaba            0\n",
       "Astro-TE_NN                   0\n",
       "Astro-NT_NN                   5\n",
       "STR_Gaba                      0\n",
       "CA1-ProS_Glut                 0\n",
       "L5_NP_CTX_Glut                0\n",
       "L2_IT_PPP-APr_Glut            2\n",
       "L23_IT_ENT_Glut               0\n",
       "DG_Glut                       0\n",
       "CEA-BST_Gaba                  0\n",
       "L6_IT_CTX_Glut                0\n",
       "L5_ET_CTX_Glut                0\n",
       "Lamp5_Gaba                    0\n",
       "MB-MY_Tph2_Glut-Sero          0\n",
       "CA3_Glut                      0\n",
       "L6_CT_CTX_Glut                0\n",
       "L23_IT_PPP_Glut               0\n",
       "L6bCT_ENT_Glut                0\n",
       "NP_SUB_Glut                   0\n",
       "PAG_Glut                      0\n",
       "MEA-BST_Gaba                  0\n",
       "Oligo_NN                      0\n",
       "OPC_NN                        0\n",
       "ENTmv-PA-COAp_Glut            2\n",
       "L23_IT_CTX_Glut               0\n",
       "L45_IT_CTX_Glut               0\n",
       "LA-BLA-BMA-PA_Glut            0\n",
       "STR_D1_Gaba                   0\n",
       "Microglia_NN                  0\n",
       "STR-PAL_Chst9_Gaba            0\n",
       "NDB-SI-MA-STRv_Lhx8_Gaba      0\n",
       "Pvalb_Gaba                    2\n",
       "Sst_Gaba                      0\n",
       "SUB-ProS_Glut                 0\n",
       "Sst_Chodl_Gaba                0\n",
       "STR_D2_Gaba                   0\n",
       "L5_IT_CTX_Glut                0\n",
       "dtype: int64"
      ]
     },
     "execution_count": 14,
     "metadata": {},
     "output_type": "execute_result"
    }
   ],
   "source": [
    "ct_df.loc[all_chunks].sum()"
   ]
  },
  {
   "cell_type": "code",
   "execution_count": null,
   "id": "0ea74b37-d705-47b6-91db-f01849ce8aa5",
   "metadata": {},
   "outputs": [],
   "source": []
  },
  {
   "cell_type": "code",
   "execution_count": null,
   "id": "994b6457-b49d-4cba-91ca-eefcce1ebf2c",
   "metadata": {},
   "outputs": [],
   "source": []
  },
  {
   "cell_type": "code",
   "execution_count": null,
   "id": "ddffd2d1-5f71-42ae-a60b-efad0ecaed35",
   "metadata": {},
   "outputs": [],
   "source": []
  },
  {
   "cell_type": "code",
   "execution_count": null,
   "id": "60fa8658-9dfb-40e4-9638-ab4a35088141",
   "metadata": {},
   "outputs": [],
   "source": []
  },
  {
   "cell_type": "code",
   "execution_count": null,
   "id": "a1515f79-25aa-47cc-89b4-7a7adfb220bd",
   "metadata": {},
   "outputs": [],
   "source": []
  },
  {
   "cell_type": "code",
   "execution_count": null,
   "id": "3d0fa208-9540-46d2-9d7d-821a1b9d3e33",
   "metadata": {},
   "outputs": [],
   "source": []
  },
  {
   "cell_type": "code",
   "execution_count": null,
   "id": "93481ea4-85bb-4cfe-913d-591d8bcdd92e",
   "metadata": {},
   "outputs": [],
   "source": []
  },
  {
   "cell_type": "code",
   "execution_count": null,
   "id": "684fc71c-5a38-408b-a206-5fd4e72b4b8a",
   "metadata": {},
   "outputs": [],
   "source": []
  },
  {
   "cell_type": "code",
   "execution_count": null,
   "id": "5e8d362c-67a0-4225-9db0-9371976ab54f",
   "metadata": {},
   "outputs": [],
   "source": []
  },
  {
   "cell_type": "code",
   "execution_count": null,
   "id": "b5dd501f-8f09-491c-a8fb-c3e494d7c69f",
   "metadata": {},
   "outputs": [],
   "source": []
  },
  {
   "cell_type": "code",
   "execution_count": null,
   "id": "ec7d6aea-3bb9-4c91-83ce-a4a4cad49e38",
   "metadata": {},
   "outputs": [],
   "source": []
  }
 ],
 "metadata": {
  "kernelspec": {
   "display_name": "Python 3 (ipykernel)",
   "language": "python",
   "name": "python3"
  },
  "language_info": {
   "codemirror_mode": {
    "name": "ipython",
    "version": 3
   },
   "file_extension": ".py",
   "mimetype": "text/x-python",
   "name": "python",
   "nbconvert_exporter": "python",
   "pygments_lexer": "ipython3",
   "version": "3.7.12"
  }
 },
 "nbformat": 4,
 "nbformat_minor": 5
}
