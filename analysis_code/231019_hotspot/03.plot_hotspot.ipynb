{
 "cells": [
  {
   "cell_type": "code",
   "execution_count": 1,
   "id": "1fad09b0-2b22-4ed2-9411-df645ecc9302",
   "metadata": {
    "execution": {
     "iopub.execute_input": "2024-07-06T22:48:15.283335Z",
     "iopub.status.busy": "2024-07-06T22:48:15.282670Z",
     "iopub.status.idle": "2024-07-06T22:48:15.293169Z",
     "shell.execute_reply": "2024-07-06T22:48:15.290368Z",
     "shell.execute_reply.started": "2024-07-06T22:48:15.283263Z"
    },
    "tags": []
   },
   "outputs": [],
   "source": [
    "# chr10\t21995000\t22000000 is Sgk1 gene"
   ]
  },
  {
   "cell_type": "code",
   "execution_count": 13,
   "id": "73efc5ea-5a4e-4dae-89e9-b21f2f5cdf47",
   "metadata": {
    "execution": {
     "iopub.execute_input": "2024-12-30T22:05:38.155173Z",
     "iopub.status.busy": "2024-12-30T22:05:38.154526Z",
     "iopub.status.idle": "2024-12-30T22:05:38.166110Z",
     "shell.execute_reply": "2024-12-30T22:05:38.164653Z",
     "shell.execute_reply.started": "2024-12-30T22:05:38.155118Z"
    },
    "tags": []
   },
   "outputs": [],
   "source": [
    "import pandas as pd\n",
    "from matplotlib import pyplot as plt\n",
    "import seaborn as sns\n",
    "import subprocess\n",
    "from pandas import DataFrame\n",
    "from scipy.stats import uniform\n",
    "from scipy.stats import randint\n",
    "import numpy as np\n",
    "import matplotlib.pyplot as plt\n",
    "from collections import defaultdict\n",
    "import glob\n",
    "import pathlib\n",
    "\n",
    "plt.rcParams['figure.dpi'] = 100\n",
    "plt.rcParams['savefig.dpi']=300\n",
    "plt.rcParams['pdf.fonttype']=42"
   ]
  },
  {
   "cell_type": "code",
   "execution_count": 14,
   "id": "bd11b3c2-6586-4158-8b0d-34f26bdf4ce4",
   "metadata": {
    "execution": {
     "iopub.execute_input": "2024-12-30T22:05:38.389856Z",
     "iopub.status.busy": "2024-12-30T22:05:38.389285Z",
     "iopub.status.idle": "2024-12-30T22:05:38.395808Z",
     "shell.execute_reply": "2024-12-30T22:05:38.394640Z",
     "shell.execute_reply.started": "2024-12-30T22:05:38.389804Z"
    },
    "tags": []
   },
   "outputs": [],
   "source": [
    "_type = 'Hypo'"
   ]
  },
  {
   "cell_type": "code",
   "execution_count": 15,
   "id": "4356e476-2849-4688-ad3c-6fd614126fb6",
   "metadata": {
    "execution": {
     "iopub.execute_input": "2024-12-30T22:05:38.619268Z",
     "iopub.status.busy": "2024-12-30T22:05:38.618590Z",
     "iopub.status.idle": "2024-12-30T22:05:38.625153Z",
     "shell.execute_reply": "2024-12-30T22:05:38.623809Z",
     "shell.execute_reply.started": "2024-12-30T22:05:38.619215Z"
    },
    "tags": []
   },
   "outputs": [],
   "source": [
    "_dir = '500_result'"
   ]
  },
  {
   "cell_type": "markdown",
   "id": "79665a38-b10b-43cb-a21a-ea156558365f",
   "metadata": {
    "tags": []
   },
   "source": [
    "## load"
   ]
  },
  {
   "cell_type": "code",
   "execution_count": 16,
   "id": "ac29b749-f679-444b-bc2a-50f17d274bfc",
   "metadata": {
    "execution": {
     "iopub.execute_input": "2024-12-30T22:05:39.073664Z",
     "iopub.status.busy": "2024-12-30T22:05:39.072963Z",
     "iopub.status.idle": "2024-12-30T22:05:41.869984Z",
     "shell.execute_reply": "2024-12-30T22:05:41.869078Z",
     "shell.execute_reply.started": "2024-12-30T22:05:39.073611Z"
    },
    "tags": []
   },
   "outputs": [
    {
     "data": {
      "text/plain": [
       "array(['chr1', 'chr10', 'chr11', 'chr12', 'chr13', 'chr14', 'chr15',\n",
       "       'chr16', 'chr17', 'chr18', 'chr19', 'chr2', 'chr3', 'chr4', 'chr5',\n",
       "       'chr6', 'chr7', 'chr8', 'chr9', 'chrX'], dtype=object)"
      ]
     },
     "execution_count": 16,
     "metadata": {},
     "output_type": "execute_result"
    }
   ],
   "source": [
    "df = pd.read_csv(f'{_dir}/{_type}.DMS.concat.sum.bed', sep = '\\t', header= None)\n",
    "df.columns = ['chrom','start','end',f'Total Sig. {_type} DMS Number']\n",
    "df = df[df['chrom'] != 'chrY']\n",
    "df['chrom'].unique()"
   ]
  },
  {
   "cell_type": "code",
   "execution_count": 17,
   "id": "827b5672-22a5-469f-bb57-49f5160738bd",
   "metadata": {
    "execution": {
     "iopub.execute_input": "2024-12-30T22:05:41.871443Z",
     "iopub.status.busy": "2024-12-30T22:05:41.871194Z",
     "iopub.status.idle": "2024-12-30T22:05:41.882053Z",
     "shell.execute_reply": "2024-12-30T22:05:41.881445Z",
     "shell.execute_reply.started": "2024-12-30T22:05:41.871423Z"
    },
    "tags": []
   },
   "outputs": [
    {
     "data": {
      "text/html": [
       "<div>\n",
       "<style scoped>\n",
       "    .dataframe tbody tr th:only-of-type {\n",
       "        vertical-align: middle;\n",
       "    }\n",
       "\n",
       "    .dataframe tbody tr th {\n",
       "        vertical-align: top;\n",
       "    }\n",
       "\n",
       "    .dataframe thead th {\n",
       "        text-align: right;\n",
       "    }\n",
       "</style>\n",
       "<table border=\"1\" class=\"dataframe\">\n",
       "  <thead>\n",
       "    <tr style=\"text-align: right;\">\n",
       "      <th></th>\n",
       "      <th>chrom</th>\n",
       "      <th>start</th>\n",
       "      <th>end</th>\n",
       "      <th>Total Sig. Hypo DMS Number</th>\n",
       "    </tr>\n",
       "  </thead>\n",
       "  <tbody>\n",
       "    <tr>\n",
       "      <th>0</th>\n",
       "      <td>chr1</td>\n",
       "      <td>0</td>\n",
       "      <td>500</td>\n",
       "      <td>0</td>\n",
       "    </tr>\n",
       "    <tr>\n",
       "      <th>1</th>\n",
       "      <td>chr1</td>\n",
       "      <td>500</td>\n",
       "      <td>1000</td>\n",
       "      <td>0</td>\n",
       "    </tr>\n",
       "    <tr>\n",
       "      <th>2</th>\n",
       "      <td>chr1</td>\n",
       "      <td>1000</td>\n",
       "      <td>1500</td>\n",
       "      <td>0</td>\n",
       "    </tr>\n",
       "    <tr>\n",
       "      <th>3</th>\n",
       "      <td>chr1</td>\n",
       "      <td>1500</td>\n",
       "      <td>2000</td>\n",
       "      <td>0</td>\n",
       "    </tr>\n",
       "    <tr>\n",
       "      <th>4</th>\n",
       "      <td>chr1</td>\n",
       "      <td>2000</td>\n",
       "      <td>2500</td>\n",
       "      <td>0</td>\n",
       "    </tr>\n",
       "    <tr>\n",
       "      <th>...</th>\n",
       "      <td>...</td>\n",
       "      <td>...</td>\n",
       "      <td>...</td>\n",
       "      <td>...</td>\n",
       "    </tr>\n",
       "    <tr>\n",
       "      <th>5267560</th>\n",
       "      <td>chrX</td>\n",
       "      <td>171029000</td>\n",
       "      <td>171029500</td>\n",
       "      <td>0</td>\n",
       "    </tr>\n",
       "    <tr>\n",
       "      <th>5267561</th>\n",
       "      <td>chrX</td>\n",
       "      <td>171029500</td>\n",
       "      <td>171030000</td>\n",
       "      <td>0</td>\n",
       "    </tr>\n",
       "    <tr>\n",
       "      <th>5267562</th>\n",
       "      <td>chrX</td>\n",
       "      <td>171030000</td>\n",
       "      <td>171030500</td>\n",
       "      <td>0</td>\n",
       "    </tr>\n",
       "    <tr>\n",
       "      <th>5267563</th>\n",
       "      <td>chrX</td>\n",
       "      <td>171030500</td>\n",
       "      <td>171031000</td>\n",
       "      <td>0</td>\n",
       "    </tr>\n",
       "    <tr>\n",
       "      <th>5267564</th>\n",
       "      <td>chrX</td>\n",
       "      <td>171031000</td>\n",
       "      <td>171031299</td>\n",
       "      <td>0</td>\n",
       "    </tr>\n",
       "  </tbody>\n",
       "</table>\n",
       "<p>5267565 rows × 4 columns</p>\n",
       "</div>"
      ],
      "text/plain": [
       "        chrom      start        end  Total Sig. Hypo DMS Number\n",
       "0        chr1          0        500                           0\n",
       "1        chr1        500       1000                           0\n",
       "2        chr1       1000       1500                           0\n",
       "3        chr1       1500       2000                           0\n",
       "4        chr1       2000       2500                           0\n",
       "...       ...        ...        ...                         ...\n",
       "5267560  chrX  171029000  171029500                           0\n",
       "5267561  chrX  171029500  171030000                           0\n",
       "5267562  chrX  171030000  171030500                           0\n",
       "5267563  chrX  171030500  171031000                           0\n",
       "5267564  chrX  171031000  171031299                           0\n",
       "\n",
       "[5267565 rows x 4 columns]"
      ]
     },
     "execution_count": 17,
     "metadata": {},
     "output_type": "execute_result"
    }
   ],
   "source": [
    "df"
   ]
  },
  {
   "cell_type": "code",
   "execution_count": 18,
   "id": "b7bea7a6-6ead-46cb-a276-b80ef12e089a",
   "metadata": {
    "execution": {
     "iopub.execute_input": "2024-12-30T22:05:41.882812Z",
     "iopub.status.busy": "2024-12-30T22:05:41.882628Z",
     "iopub.status.idle": "2024-12-30T22:05:42.329187Z",
     "shell.execute_reply": "2024-12-30T22:05:42.328437Z",
     "shell.execute_reply.started": "2024-12-30T22:05:41.882794Z"
    },
    "tags": []
   },
   "outputs": [
    {
     "name": "stderr",
     "output_type": "stream",
     "text": [
      "/home/qz/miniconda3/envs/allcools/lib/python3.7/site-packages/seaborn/distributions.py:2619: FutureWarning: `distplot` is a deprecated function and will be removed in a future version. Please adapt your code to use either `displot` (a figure-level function with similar flexibility) or `histplot` (an axes-level function for histograms).\n",
      "  warnings.warn(msg, FutureWarning)\n",
      "/home/qz/miniconda3/envs/allcools/lib/python3.7/site-packages/seaborn/distributions.py:2681: UserWarning: Data has no positive values, and therefore cannot be log-scaled.\n",
      "  color=hist_color, **hist_kws)\n"
     ]
    },
    {
     "data": {
      "text/plain": [
       "<matplotlib.lines.Line2D at 0x7f2f28ffad90>"
      ]
     },
     "execution_count": 18,
     "metadata": {},
     "output_type": "execute_result"
    },
    {
     "data": {
      "image/png": "[encoded data removed]",
      "text/plain": [
       "<Figure size 400x300 with 1 Axes>"
      ]
     },
     "metadata": {
      "needs_background": "light"
     },
     "output_type": "display_data"
    }
   ],
   "source": [
    "fig, ax = plt.subplots(figsize = (4,3), dpi = 100)\n",
    "sns.distplot(df[f'Total Sig. {_type} DMS Number'], ax =ax, kde=False, hist_kws={\"log\": True})\n",
    "plt.ylabel(\"Count (log scale)\")\n",
    "plt.title(f\"Histogram of Total Sig. {_type} DMS Number\")\n",
    "ax.set_xticks([0, 10, 30,50, 70, 90])\n",
    "#ax.set_xticks([0, 10, 30,50, 70, 90])\n",
    "ax.axvline(x = 10, ls = '--', lw = 1.5, c = 'r')\n",
    "#fig.savefig(f'figure/{_type}.hotspot.distribution.pdf', bbox_tight = 'True')"
   ]
  },
  {
   "cell_type": "code",
   "execution_count": 19,
   "id": "c5ef3bbb-12a7-4795-ba40-267aecc64265",
   "metadata": {
    "execution": {
     "iopub.execute_input": "2024-12-30T22:05:42.330779Z",
     "iopub.status.busy": "2024-12-30T22:05:42.330554Z",
     "iopub.status.idle": "2024-12-30T22:05:42.335233Z",
     "shell.execute_reply": "2024-12-30T22:05:42.334322Z",
     "shell.execute_reply.started": "2024-12-30T22:05:42.330758Z"
    },
    "tags": []
   },
   "outputs": [],
   "source": [
    "chr_order = ['chr1', 'chr2', 'chr3', 'chr4', 'chr5','chr6', 'chr7', \n",
    "             'chr8', 'chr9','chr10', 'chr11', 'chr12', 'chr13', 'chr14', \n",
    "             'chr15','chr16', 'chr17', 'chr18', 'chr19',  'chrX', ]"
   ]
  },
  {
   "cell_type": "code",
   "execution_count": 20,
   "id": "c5b2cb60-241d-4c89-8dba-71356b272adc",
   "metadata": {
    "execution": {
     "iopub.execute_input": "2024-12-30T22:05:42.336090Z",
     "iopub.status.busy": "2024-12-30T22:05:42.335906Z",
     "iopub.status.idle": "2024-12-30T22:05:44.569565Z",
     "shell.execute_reply": "2024-12-30T22:05:44.568728Z",
     "shell.execute_reply.started": "2024-12-30T22:05:42.336072Z"
    },
    "tags": []
   },
   "outputs": [],
   "source": [
    "df['chrom'] = pd.Categorical(df['chrom'], categories=chr_order, ordered=True)\n",
    "df.sort_values(['chrom', 'start'], inplace=True)"
   ]
  },
  {
   "cell_type": "code",
   "execution_count": 21,
   "id": "688eef63-7394-4095-ba6a-188628a0c892",
   "metadata": {
    "execution": {
     "iopub.execute_input": "2024-12-30T22:05:44.570900Z",
     "iopub.status.busy": "2024-12-30T22:05:44.570660Z",
     "iopub.status.idle": "2024-12-30T22:05:53.735404Z",
     "shell.execute_reply": "2024-12-30T22:05:53.733202Z",
     "shell.execute_reply.started": "2024-12-30T22:05:44.570878Z"
    },
    "tags": []
   },
   "outputs": [],
   "source": [
    "df['chunk_id'] = df['chrom'].astype(str) + '_' +  df['start'].astype(str) + '_' + df['end'].astype(str) \n",
    "df['ind'] = range(len(df))"
   ]
  },
  {
   "cell_type": "code",
   "execution_count": 9,
   "id": "a79aa4fe-8eba-4015-b3d3-8158fca60e45",
   "metadata": {
    "execution": {
     "iopub.execute_input": "2024-07-31T22:38:04.971511Z",
     "iopub.status.busy": "2024-07-31T22:38:04.970603Z",
     "iopub.status.idle": "2024-07-31T22:38:04.976298Z",
     "shell.execute_reply": "2024-07-31T22:38:04.975134Z",
     "shell.execute_reply.started": "2024-07-31T22:38:04.971467Z"
    },
    "tags": []
   },
   "outputs": [],
   "source": [
    "#df[df['chrom'] == 'chr13'].sort_values('Total Sig. Hypo DMS Number', ascending = False).head(10)"
   ]
  },
  {
   "cell_type": "markdown",
   "id": "5baa16a8-1a1c-4439-a207-56408c7ecef7",
   "metadata": {
    "tags": []
   },
   "source": [
    "## mahattan plot"
   ]
  },
  {
   "cell_type": "code",
   "execution_count": 22,
   "id": "a8be1ad9-b564-4966-94ad-3d6745dac0ef",
   "metadata": {
    "execution": {
     "iopub.execute_input": "2024-12-30T22:05:53.739470Z",
     "iopub.status.busy": "2024-12-30T22:05:53.739141Z",
     "iopub.status.idle": "2024-12-30T22:05:54.447626Z",
     "shell.execute_reply": "2024-12-30T22:05:54.446734Z",
     "shell.execute_reply.started": "2024-12-30T22:05:53.739429Z"
    },
    "tags": []
   },
   "outputs": [],
   "source": [
    "hotspot_df = df[df[f'Total Sig. {_type} DMS Number'] >= 10]\n",
    "non_hotspot_df = df[df[f'Total Sig. {_type} DMS Number'] < 10]"
   ]
  },
  {
   "cell_type": "code",
   "execution_count": 23,
   "id": "5237be3b-7c95-4611-8719-337a0f1b784d",
   "metadata": {
    "execution": {
     "iopub.execute_input": "2024-12-30T22:05:54.448828Z",
     "iopub.status.busy": "2024-12-30T22:05:54.448584Z",
     "iopub.status.idle": "2024-12-30T22:05:54.454843Z",
     "shell.execute_reply": "2024-12-30T22:05:54.454281Z",
     "shell.execute_reply.started": "2024-12-30T22:05:54.448808Z"
    },
    "tags": []
   },
   "outputs": [
    {
     "data": {
      "text/plain": [
       "(3519, 6)"
      ]
     },
     "execution_count": 23,
     "metadata": {},
     "output_type": "execute_result"
    }
   ],
   "source": [
    "hotspot_df.shape"
   ]
  },
  {
   "cell_type": "code",
   "execution_count": 23,
   "id": "f7f304bb-2972-4376-bcc8-a9a4c379b131",
   "metadata": {
    "execution": {
     "iopub.execute_input": "2024-07-22T21:35:22.634096Z",
     "iopub.status.busy": "2024-07-22T21:35:22.633678Z",
     "iopub.status.idle": "2024-07-22T21:35:22.637903Z",
     "shell.execute_reply": "2024-07-22T21:35:22.637200Z",
     "shell.execute_reply.started": "2024-07-22T21:35:22.634064Z"
    },
    "tags": []
   },
   "outputs": [],
   "source": [
    "# hotspot_df['id'] = range(0, hotspot_df.shape[0])\n",
    "# hotspot_df['id'] = 'Hyper' + '.' + hotspot_df['id'].astype(str)\n",
    "# hotspot_df = hotspot_df[['chrom','start','end','id']]\n",
    "# hotspot_df.to_csv('GAT/Hyper.bed', sep = '\\t', header = None, index = None)"
   ]
  },
  {
   "cell_type": "code",
   "execution_count": 10,
   "id": "4916cc38-7724-4d25-ab53-1b316ce517b9",
   "metadata": {
    "execution": {
     "iopub.execute_input": "2024-07-06T23:00:52.165811Z",
     "iopub.status.busy": "2024-07-06T23:00:52.165587Z",
     "iopub.status.idle": "2024-07-06T23:00:52.169008Z",
     "shell.execute_reply": "2024-07-06T23:00:52.168478Z",
     "shell.execute_reply.started": "2024-07-06T23:00:52.165790Z"
    },
    "tags": []
   },
   "outputs": [],
   "source": [
    "#non_hotspot_df = non_hotspot_df.sample(1500000)"
   ]
  },
  {
   "cell_type": "code",
   "execution_count": 11,
   "id": "86d6358f-4d15-4e80-b003-247565872224",
   "metadata": {
    "execution": {
     "iopub.execute_input": "2024-07-06T23:00:52.169845Z",
     "iopub.status.busy": "2024-07-06T23:00:52.169651Z",
     "iopub.status.idle": "2024-07-06T23:00:52.175159Z",
     "shell.execute_reply": "2024-07-06T23:00:52.174623Z",
     "shell.execute_reply.started": "2024-07-06T23:00:52.169826Z"
    },
    "tags": []
   },
   "outputs": [],
   "source": [
    "hotspot_df_grouped = hotspot_df.groupby(('chrom'))\n",
    "non_hotspot_df_grouped = non_hotspot_df.groupby(('chrom'))"
   ]
  },
  {
   "cell_type": "code",
   "execution_count": 12,
   "id": "7b102453-31d6-4d7e-bb85-17455f85bc18",
   "metadata": {
    "execution": {
     "iopub.execute_input": "2024-07-06T23:00:52.177215Z",
     "iopub.status.busy": "2024-07-06T23:00:52.176906Z",
     "iopub.status.idle": "2024-07-06T23:00:52.180644Z",
     "shell.execute_reply": "2024-07-06T23:00:52.180131Z",
     "shell.execute_reply.started": "2024-07-06T23:00:52.177195Z"
    },
    "tags": []
   },
   "outputs": [],
   "source": [
    "#non_hotspot_df = non_hotspot_df[non_hotspot_df[f'Total Sig. {_type} DMS Number'] == 0]"
   ]
  },
  {
   "cell_type": "code",
   "execution_count": 13,
   "id": "0c026dc0-d4ce-4770-aa82-b890f4a6573f",
   "metadata": {
    "execution": {
     "iopub.execute_input": "2024-07-06T23:00:52.181437Z",
     "iopub.status.busy": "2024-07-06T23:00:52.181233Z",
     "iopub.status.idle": "2024-07-06T23:00:52.185455Z",
     "shell.execute_reply": "2024-07-06T23:00:52.184954Z",
     "shell.execute_reply.started": "2024-07-06T23:00:52.181418Z"
    },
    "tags": []
   },
   "outputs": [],
   "source": [
    "#non_hotspot_df_grouped = non_hotspot_df.sample(hotspot_df.shape[0])[['chrom','start','end']]"
   ]
  },
  {
   "cell_type": "code",
   "execution_count": 14,
   "id": "3261682f-1624-40e2-b05b-2583d2cd4e3e",
   "metadata": {
    "execution": {
     "iopub.execute_input": "2024-07-06T23:00:52.186221Z",
     "iopub.status.busy": "2024-07-06T23:00:52.186028Z",
     "iopub.status.idle": "2024-07-06T23:00:52.190328Z",
     "shell.execute_reply": "2024-07-06T23:00:52.189846Z",
     "shell.execute_reply.started": "2024-07-06T23:00:52.186203Z"
    },
    "tags": []
   },
   "outputs": [],
   "source": [
    "#non_hotspot_df.to_csv('500_result/non_hotspots.bed', sep = '\\t', index = None, header = None)"
   ]
  },
  {
   "cell_type": "code",
   "execution_count": 15,
   "id": "c409689e-ce93-4aff-bbf2-bfb9ee3931fa",
   "metadata": {
    "execution": {
     "iopub.execute_input": "2024-07-06T23:00:52.191109Z",
     "iopub.status.busy": "2024-07-06T23:00:52.190916Z",
     "iopub.status.idle": "2024-07-06T23:01:13.817057Z",
     "shell.execute_reply": "2024-07-06T23:01:13.816128Z",
     "shell.execute_reply.started": "2024-07-06T23:00:52.191091Z"
    },
    "tags": []
   },
   "outputs": [
    {
     "data": {
      "image/png": "[encoded data removed]",
      "text/plain": [
       "<Figure size 2400x900 with 1 Axes>"
      ]
     },
     "metadata": {
      "needs_background": "light"
     },
     "output_type": "display_data"
    }
   ],
   "source": [
    "fig = plt.figure(figsize=(8, 3), dpi=300, constrained_layout = True) # Set the figure size\n",
    "ax = fig.add_subplot(111)\n",
    "colors = [\"#D95638\", \"#3C82A6\", \"#DACB9A\", \"#76A76A\", \"#DAA9B2\",\n",
    "    \"#8B8691\", \"#DAA700\", \"#92D84A\", \"#D9887A\", \"#541E42\",\n",
    "    \"#7066A9\", \"#6CAED5\", \"#D41488\", \"#D9674A\", \"#1F8888\",\n",
    "    \"#7D44A2\", \"#00D867\", \"#1E70A6\",  \"#D94E00\" ,\"#A95AA4\",\n",
    "   ]\n",
    "\n",
    "x_labels = []\n",
    "x_labels_pos = []\n",
    "for num, (name, group) in enumerate(hotspot_df_grouped):\n",
    "    group.plot(kind='scatter', x='ind', y=f'Total Sig. {_type} DMS Number',s = 6,linewidth =0 ,\n",
    "               color=colors[num % len(colors)], ax=ax, rasterized=True)\n",
    "    x_labels.append(name)\n",
    "    x_labels_pos.append((group['ind'].iloc[-1] - (group['ind'].iloc[-1] - group['ind'].iloc[0])/2))\n",
    "    \n",
    "for num, (name, group) in enumerate(non_hotspot_df_grouped):\n",
    "    group.plot(kind='scatter', x='ind', y=f'Total Sig. {_type} DMS Number',s = 3,color='#D3D3D3', ax=ax, rasterized=True)\n",
    "    \n",
    "\n",
    "ax.set_xticks(x_labels_pos)\n",
    "ax.set_xticklabels(x_labels, rotation = 90)\n",
    "# ax.set_yticks([10,30,50,70, 90, 110, 130, 150])\n",
    "# ax.set_ylim([0, 150])\n",
    "ax.set_yticks([10,30,50,70, 90])\n",
    "ax.set_ylim([0, 90])\n",
    "ax.set_xlim([0, len(df)])\n",
    "ax.axhline(y = 10, ls = '--', lw = 1, c = 'black')\n",
    "ax.set_xlabel('Chromosome')\n",
    "\n",
    "fig.savefig(f'figure/{_type}.hotspot.mahattan.pdf', bbox_inches='tight')\n",
    "plt.show()"
   ]
  },
  {
   "cell_type": "markdown",
   "id": "498faf6b-fdfd-4a75-87e0-0ab724ab6552",
   "metadata": {
    "tags": []
   },
   "source": [
    "## heatmap"
   ]
  },
  {
   "cell_type": "code",
   "execution_count": 15,
   "id": "b9fe096b-86f2-4518-90b2-ee0deb065791",
   "metadata": {
    "execution": {
     "iopub.execute_input": "2024-01-26T00:25:50.182429Z",
     "iopub.status.busy": "2024-01-26T00:25:50.182028Z",
     "iopub.status.idle": "2024-01-26T00:25:50.185643Z",
     "shell.execute_reply": "2024-01-26T00:25:50.185111Z",
     "shell.execute_reply.started": "2024-01-26T00:25:50.182403Z"
    },
    "tags": []
   },
   "outputs": [],
   "source": [
    "cut_off = 10"
   ]
  },
  {
   "cell_type": "code",
   "execution_count": 16,
   "id": "2323176f-bd07-493b-8b49-cbe692f0cf41",
   "metadata": {
    "execution": {
     "iopub.execute_input": "2024-01-26T00:25:50.731376Z",
     "iopub.status.busy": "2024-01-26T00:25:50.731093Z",
     "iopub.status.idle": "2024-01-26T00:25:50.744565Z",
     "shell.execute_reply": "2024-01-26T00:25:50.744169Z",
     "shell.execute_reply.started": "2024-01-26T00:25:50.731356Z"
    },
    "tags": []
   },
   "outputs": [
    {
     "data": {
      "text/plain": [
       "969"
      ]
     },
     "execution_count": 16,
     "metadata": {},
     "output_type": "execute_result"
    }
   ],
   "source": [
    "hotspot_chunks =  df[df[f'Total Sig. {_type} DMS Number'] >= cut_off]['chunk_id'].tolist()\n",
    "len(hotspot_chunks)"
   ]
  },
  {
   "cell_type": "code",
   "execution_count": 17,
   "id": "2b5922e7-2dd9-431d-b66d-f801609ae71f",
   "metadata": {
    "execution": {
     "iopub.execute_input": "2024-01-26T00:25:51.221555Z",
     "iopub.status.busy": "2024-01-26T00:25:51.221282Z",
     "iopub.status.idle": "2024-01-26T00:25:51.228604Z",
     "shell.execute_reply": "2024-01-26T00:25:51.228175Z",
     "shell.execute_reply.started": "2024-01-26T00:25:51.221535Z"
    },
    "tags": []
   },
   "outputs": [],
   "source": [
    "hotspot_bed = df[df[f'Total Sig. {_type} DMS Number'] >= cut_off][['chrom','start','end']]"
   ]
  },
  {
   "cell_type": "code",
   "execution_count": 19,
   "id": "12fe8774-e7b8-460d-b364-dcf3c48737ac",
   "metadata": {
    "execution": {
     "iopub.execute_input": "2024-01-26T00:26:00.928936Z",
     "iopub.status.busy": "2024-01-26T00:26:00.928611Z",
     "iopub.status.idle": "2024-01-26T00:26:00.932316Z",
     "shell.execute_reply": "2024-01-26T00:26:00.931900Z",
     "shell.execute_reply.started": "2024-01-26T00:26:00.928914Z"
    },
    "tags": []
   },
   "outputs": [
    {
     "data": {
      "text/plain": [
       "(969, 3)"
      ]
     },
     "execution_count": 19,
     "metadata": {},
     "output_type": "execute_result"
    }
   ],
   "source": [
    "hotspot_bed.shape"
   ]
  },
  {
   "cell_type": "code",
   "execution_count": 18,
   "id": "a9ab8bfb-ba39-4088-a5d8-3151e09aa49f",
   "metadata": {
    "execution": {
     "iopub.execute_input": "2024-01-26T00:25:51.869609Z",
     "iopub.status.busy": "2024-01-26T00:25:51.869335Z",
     "iopub.status.idle": "2024-01-26T00:25:51.875327Z",
     "shell.execute_reply": "2024-01-26T00:25:51.874920Z",
     "shell.execute_reply.started": "2024-01-26T00:25:51.869589Z"
    },
    "tags": []
   },
   "outputs": [],
   "source": [
    "hotspot_bed.to_csv(f'{_dir}/{_type}.hotspot.bed', sep = '\\t', header = None, index = None)"
   ]
  },
  {
   "cell_type": "code",
   "execution_count": 24,
   "id": "4ca8bf0e-1b73-49e8-873f-155244811d3c",
   "metadata": {
    "execution": {
     "iopub.execute_input": "2024-01-24T23:57:10.941288Z",
     "iopub.status.busy": "2024-01-24T23:57:10.940783Z",
     "iopub.status.idle": "2024-01-25T00:05:41.102429Z",
     "shell.execute_reply": "2024-01-25T00:05:41.101448Z",
     "shell.execute_reply.started": "2024-01-24T23:57:10.941223Z"
    },
    "tags": []
   },
   "outputs": [],
   "source": [
    "all_ct_df = []\n",
    "for bed_path in glob.glob(f'500_dms_hotspot/*.{_type}.map.bed'):\n",
    "    ct = pathlib.Path(bed_path).name.split('.')[0]\n",
    "    tmpdf = pd.read_csv(bed_path, sep = '\\t', header = None)\n",
    "    tmpdf['chunk_id'] = tmpdf[0] + '-' + tmpdf[1].astype(str) + '-' + tmpdf[2].astype(str)\n",
    "    tmpdf = tmpdf[tmpdf['chunk_id'].isin(hotspot_chunks)]\n",
    "    tmpdf = tmpdf.set_index('chunk_id')[[5]]\n",
    "    tmpdf.columns = [ct]\n",
    "    all_ct_df.append(tmpdf)"
   ]
  },
  {
   "cell_type": "code",
   "execution_count": 25,
   "id": "8c23c75c-7d39-4ea0-b3df-e1ef8ea311d3",
   "metadata": {
    "execution": {
     "iopub.execute_input": "2024-01-25T00:05:41.104293Z",
     "iopub.status.busy": "2024-01-25T00:05:41.103969Z",
     "iopub.status.idle": "2024-01-25T00:05:41.134868Z",
     "shell.execute_reply": "2024-01-25T00:05:41.134426Z",
     "shell.execute_reply.started": "2024-01-25T00:05:41.104269Z"
    },
    "tags": []
   },
   "outputs": [],
   "source": [
    "to_plot = pd.concat(all_ct_df, axis = 1)\n",
    "to_plot.to_csv(f'{_dir}/{_type}.hotspot.ct.csv')"
   ]
  },
  {
   "cell_type": "markdown",
   "id": "a7162f55-d814-4379-bdba-56a3a60f91de",
   "metadata": {
    "tags": []
   },
   "source": [
    "## find example"
   ]
  },
  {
   "cell_type": "code",
   "execution_count": 62,
   "id": "a8ed13c7-7197-42a3-8ca5-a832adfd00c5",
   "metadata": {
    "execution": {
     "iopub.execute_input": "2024-01-26T02:17:38.747577Z",
     "iopub.status.busy": "2024-01-26T02:17:38.747199Z",
     "iopub.status.idle": "2024-01-26T02:17:38.762373Z",
     "shell.execute_reply": "2024-01-26T02:17:38.761900Z",
     "shell.execute_reply.started": "2024-01-26T02:17:38.747554Z"
    },
    "tags": []
   },
   "outputs": [],
   "source": [
    "_type = 'Hypo'\n",
    "to_plot = pd.read_csv(f'{_dir}/{_type}.hotspot.ct.csv', index_col = 0)"
   ]
  },
  {
   "cell_type": "code",
   "execution_count": 73,
   "id": "b07be6c8-4eb1-4f41-8bf0-2d8fe2ce5dc3",
   "metadata": {
    "execution": {
     "iopub.execute_input": "2024-01-26T02:18:03.154338Z",
     "iopub.status.busy": "2024-01-26T02:18:03.154065Z",
     "iopub.status.idle": "2024-01-26T02:18:03.858504Z",
     "shell.execute_reply": "2024-01-26T02:18:03.858046Z",
     "shell.execute_reply.started": "2024-01-26T02:18:03.154317Z"
    },
    "tags": []
   },
   "outputs": [
    {
     "data": {
      "text/html": [
       "<div>\n",
       "<style scoped>\n",
       "    .dataframe tbody tr th:only-of-type {\n",
       "        vertical-align: middle;\n",
       "    }\n",
       "\n",
       "    .dataframe tbody tr th {\n",
       "        vertical-align: top;\n",
       "    }\n",
       "\n",
       "    .dataframe thead th {\n",
       "        text-align: right;\n",
       "    }\n",
       "</style>\n",
       "<table border=\"1\" class=\"dataframe\">\n",
       "  <thead>\n",
       "    <tr style=\"text-align: right;\">\n",
       "      <th></th>\n",
       "      <th>chrom</th>\n",
       "      <th>start</th>\n",
       "      <th>end</th>\n",
       "      <th>Total Sig. Hypo DMS Number</th>\n",
       "      <th>chunk_id</th>\n",
       "      <th>ind</th>\n",
       "    </tr>\n",
       "  </thead>\n",
       "  <tbody>\n",
       "    <tr>\n",
       "      <th>1273106</th>\n",
       "      <td>chr13</td>\n",
       "      <td>68173500</td>\n",
       "      <td>68174000</td>\n",
       "      <td>135</td>\n",
       "      <td>chr13-68173500-68174000</td>\n",
       "      <td>3590922</td>\n",
       "    </tr>\n",
       "    <tr>\n",
       "      <th>1273275</th>\n",
       "      <td>chr13</td>\n",
       "      <td>68258000</td>\n",
       "      <td>68258500</td>\n",
       "      <td>68</td>\n",
       "      <td>chr13-68258000-68258500</td>\n",
       "      <td>3592266</td>\n",
       "    </tr>\n",
       "    <tr>\n",
       "      <th>4100784</th>\n",
       "      <td>chr6</td>\n",
       "      <td>136816500</td>\n",
       "      <td>136817000</td>\n",
       "      <td>63</td>\n",
       "      <td>chr6-136816500-136817000</td>\n",
       "      <td>1770624</td>\n",
       "    </tr>\n",
       "    <tr>\n",
       "      <th>2059005</th>\n",
       "      <td>chr17</td>\n",
       "      <td>13546500</td>\n",
       "      <td>13547000</td>\n",
       "      <td>60</td>\n",
       "      <td>chr17-13546500-13547000</td>\n",
       "      <td>4536756</td>\n",
       "    </tr>\n",
       "    <tr>\n",
       "      <th>1273662</th>\n",
       "      <td>chr13</td>\n",
       "      <td>68451500</td>\n",
       "      <td>68452000</td>\n",
       "      <td>60</td>\n",
       "      <td>chr13-68451500-68452000</td>\n",
       "      <td>3591771</td>\n",
       "    </tr>\n",
       "    <tr>\n",
       "      <th>...</th>\n",
       "      <td>...</td>\n",
       "      <td>...</td>\n",
       "      <td>...</td>\n",
       "      <td>...</td>\n",
       "      <td>...</td>\n",
       "      <td>...</td>\n",
       "    </tr>\n",
       "    <tr>\n",
       "      <th>4094147</th>\n",
       "      <td>chr6</td>\n",
       "      <td>133498000</td>\n",
       "      <td>133498500</td>\n",
       "      <td>0</td>\n",
       "      <td>chr6-133498000-133498500</td>\n",
       "      <td>1783860</td>\n",
       "    </tr>\n",
       "    <tr>\n",
       "      <th>4094145</th>\n",
       "      <td>chr6</td>\n",
       "      <td>133497000</td>\n",
       "      <td>133497500</td>\n",
       "      <td>0</td>\n",
       "      <td>chr6-133497000-133497500</td>\n",
       "      <td>1783859</td>\n",
       "    </tr>\n",
       "    <tr>\n",
       "      <th>4094129</th>\n",
       "      <td>chr6</td>\n",
       "      <td>133489000</td>\n",
       "      <td>133489500</td>\n",
       "      <td>0</td>\n",
       "      <td>chr6-133489000-133489500</td>\n",
       "      <td>1783858</td>\n",
       "    </tr>\n",
       "    <tr>\n",
       "      <th>4094136</th>\n",
       "      <td>chr6</td>\n",
       "      <td>133492500</td>\n",
       "      <td>133493000</td>\n",
       "      <td>0</td>\n",
       "      <td>chr6-133492500-133493000</td>\n",
       "      <td>1783857</td>\n",
       "    </tr>\n",
       "    <tr>\n",
       "      <th>5267564</th>\n",
       "      <td>chrX</td>\n",
       "      <td>171031000</td>\n",
       "      <td>171031299</td>\n",
       "      <td>0</td>\n",
       "      <td>chrX-171031000-171031299</td>\n",
       "      <td>5267564</td>\n",
       "    </tr>\n",
       "  </tbody>\n",
       "</table>\n",
       "<p>5267565 rows × 6 columns</p>\n",
       "</div>"
      ],
      "text/plain": [
       "         chrom      start        end  Total Sig. Hypo DMS Number  \\\n",
       "1273106  chr13   68173500   68174000                         135   \n",
       "1273275  chr13   68258000   68258500                          68   \n",
       "4100784   chr6  136816500  136817000                          63   \n",
       "2059005  chr17   13546500   13547000                          60   \n",
       "1273662  chr13   68451500   68452000                          60   \n",
       "...        ...        ...        ...                         ...   \n",
       "4094147   chr6  133498000  133498500                           0   \n",
       "4094145   chr6  133497000  133497500                           0   \n",
       "4094129   chr6  133489000  133489500                           0   \n",
       "4094136   chr6  133492500  133493000                           0   \n",
       "5267564   chrX  171031000  171031299                           0   \n",
       "\n",
       "                         chunk_id      ind  \n",
       "1273106   chr13-68173500-68174000  3590922  \n",
       "1273275   chr13-68258000-68258500  3592266  \n",
       "4100784  chr6-136816500-136817000  1770624  \n",
       "2059005   chr17-13546500-13547000  4536756  \n",
       "1273662   chr13-68451500-68452000  3591771  \n",
       "...                           ...      ...  \n",
       "4094147  chr6-133498000-133498500  1783860  \n",
       "4094145  chr6-133497000-133497500  1783859  \n",
       "4094129  chr6-133489000-133489500  1783858  \n",
       "4094136  chr6-133492500-133493000  1783857  \n",
       "5267564  chrX-171031000-171031299  5267564  \n",
       "\n",
       "[5267565 rows x 6 columns]"
      ]
     },
     "execution_count": 73,
     "metadata": {},
     "output_type": "execute_result"
    }
   ],
   "source": [
    "df.sort_values(by = 'Total Sig. Hypo DMS Number', ascending= False)"
   ]
  },
  {
   "cell_type": "code",
   "execution_count": 74,
   "id": "fc8def02-3351-4f49-9bd3-3fb1c7286cb8",
   "metadata": {
    "execution": {
     "iopub.execute_input": "2024-01-26T02:18:53.237935Z",
     "iopub.status.busy": "2024-01-26T02:18:53.237545Z",
     "iopub.status.idle": "2024-01-26T02:18:53.240743Z",
     "shell.execute_reply": "2024-01-26T02:18:53.240258Z",
     "shell.execute_reply.started": "2024-01-26T02:18:53.237909Z"
    },
    "tags": []
   },
   "outputs": [],
   "source": [
    "chunk_id = 'chr15-91709000-91709500'"
   ]
  },
  {
   "cell_type": "code",
   "execution_count": 75,
   "id": "5d1de102-7b0e-40a2-bf5b-488e05de73f1",
   "metadata": {
    "execution": {
     "iopub.execute_input": "2024-01-26T02:18:53.970433Z",
     "iopub.status.busy": "2024-01-26T02:18:53.970110Z",
     "iopub.status.idle": "2024-01-26T02:18:53.975634Z",
     "shell.execute_reply": "2024-01-26T02:18:53.975232Z",
     "shell.execute_reply.started": "2024-01-26T02:18:53.970412Z"
    },
    "tags": []
   },
   "outputs": [
    {
     "data": {
      "text/plain": [
       "STR_D1_Sema5a_Gaba            0\n",
       "Vip_Gaba                      0\n",
       "MEA-COA_Glut                  0\n",
       "LDT-PCG-CS_Gata3_Lhx1_Gaba    2\n",
       "PB_Evx2_Glut                  0\n",
       "PAG-PPN_Pax5_Sox21_Gaba       0\n",
       "Astro-NT_NN                   0\n",
       "Astro-TE_NN                   0\n",
       "Microglia_NN                  0\n",
       "CA1-ProS_Glut                 0\n",
       "L5_IT_CTX_Glut                0\n",
       "L5_NP_CTX_Glut                0\n",
       "L23_IT_ENT_Glut               0\n",
       "L2_IT_PPP-APr_Glut            0\n",
       "DG_Glut                       0\n",
       "CEA-BST_Gaba                  0\n",
       "L6_IT_CTX_Glut                0\n",
       "L5_ET_CTX_Glut                0\n",
       "Lamp5_Gaba                    0\n",
       "MB-MY_Tph2_Glut-Sero          0\n",
       "CA3_Glut                      0\n",
       "L6_CT_CTX_Glut                0\n",
       "L23_IT_PPP_Glut               0\n",
       "L6bCT_ENT_Glut                0\n",
       "NP_SUB_Glut                   0\n",
       "PAG_Glut                      0\n",
       "MEA-BST_Gaba                  0\n",
       "Oligo_NN                      0\n",
       "OPC_NN                        0\n",
       "ENTmv-PA-COAp_Glut            0\n",
       "L23_IT_CTX_Glut               0\n",
       "L45_IT_CTX_Glut               0\n",
       "LA-BLA-BMA-PA_Glut            0\n",
       "STR_D1_Gaba                   0\n",
       "STR_D2_Gaba                   0\n",
       "STR_Gaba                      0\n",
       "STR-PAL_Chst9_Gaba            0\n",
       "NDB-SI-MA-STRv_Lhx8_Gaba      0\n",
       "Pvalb_Gaba                    2\n",
       "Sst_Gaba                      0\n",
       "SUB-ProS_Glut                 0\n",
       "Sst_Chodl_Gaba                6\n",
       "Name: chr15-91709000-91709500, dtype: int64"
      ]
     },
     "execution_count": 75,
     "metadata": {},
     "output_type": "execute_result"
    }
   ],
   "source": [
    "to_plot.loc[chunk_id]"
   ]
  },
  {
   "cell_type": "code",
   "execution_count": 51,
   "id": "cf349e4a-2ace-4cdb-ae2d-51913731863e",
   "metadata": {
    "execution": {
     "iopub.execute_input": "2024-01-26T00:57:00.511446Z",
     "iopub.status.busy": "2024-01-26T00:57:00.511140Z",
     "iopub.status.idle": "2024-01-26T00:57:00.514697Z",
     "shell.execute_reply": "2024-01-26T00:57:00.514298Z",
     "shell.execute_reply.started": "2024-01-26T00:57:00.511427Z"
    },
    "tags": []
   },
   "outputs": [
    {
     "data": {
      "text/plain": [
       "(969, 42)"
      ]
     },
     "execution_count": 51,
     "metadata": {},
     "output_type": "execute_result"
    }
   ],
   "source": [
    "to_plot.shape"
   ]
  },
  {
   "cell_type": "code",
   "execution_count": 37,
   "id": "19866f78-8f5b-4e52-b3e4-05680d227f9d",
   "metadata": {
    "execution": {
     "iopub.execute_input": "2024-01-26T00:55:39.042781Z",
     "iopub.status.busy": "2024-01-26T00:55:39.042501Z",
     "iopub.status.idle": "2024-01-26T00:55:39.045610Z",
     "shell.execute_reply": "2024-01-26T00:55:39.045108Z",
     "shell.execute_reply.started": "2024-01-26T00:55:39.042761Z"
    },
    "tags": []
   },
   "outputs": [],
   "source": [
    "to_plot = to_plot == 0"
   ]
  },
  {
   "cell_type": "code",
   "execution_count": 7,
   "id": "821bd7c1-e74b-4e08-a806-9639602e1dea",
   "metadata": {
    "execution": {
     "iopub.execute_input": "2024-01-24T08:01:46.812308Z",
     "iopub.status.busy": "2024-01-24T08:01:46.812033Z",
     "iopub.status.idle": "2024-01-24T08:01:46.814712Z",
     "shell.execute_reply": "2024-01-24T08:01:46.814258Z",
     "shell.execute_reply.started": "2024-01-24T08:01:46.812286Z"
    },
    "tags": []
   },
   "outputs": [],
   "source": [
    "# row_sums = to_plot.sum(axis=1)  # Calculate row sums\n",
    "# to_plot_normalized = to_plot.div(row_sums, axis=0) "
   ]
  },
  {
   "cell_type": "code",
   "execution_count": 26,
   "id": "80827c55-011f-4c65-86bd-36a90d903256",
   "metadata": {
    "execution": {
     "iopub.execute_input": "2024-01-24T17:50:03.635962Z",
     "iopub.status.busy": "2024-01-24T17:50:03.635632Z",
     "iopub.status.idle": "2024-01-24T17:50:03.638628Z",
     "shell.execute_reply": "2024-01-24T17:50:03.638178Z",
     "shell.execute_reply.started": "2024-01-24T17:50:03.635936Z"
    },
    "tags": []
   },
   "outputs": [],
   "source": [
    "# fig,ax = plt.subplots(figsize. )\n",
    "\n",
    "# sns.heatmap(to_plot,\n",
    "#             vmin= 0,\n",
    "#             vmax = 1,\n",
    "#             xticklabels=False,\n",
    "#             yticklabels=False,\n",
    "#             cmap= 'coolwarm')"
   ]
  },
  {
   "cell_type": "code",
   "execution_count": 1,
   "id": "6f5644ae-cdf9-408a-9ef8-73db7132d750",
   "metadata": {
    "execution": {
     "iopub.execute_input": "2024-01-25T01:12:05.333515Z",
     "iopub.status.busy": "2024-01-25T01:12:05.332939Z",
     "iopub.status.idle": "2024-01-25T01:12:05.338877Z",
     "shell.execute_reply": "2024-01-25T01:12:05.337852Z",
     "shell.execute_reply.started": "2024-01-25T01:12:05.333471Z"
    },
    "tags": []
   },
   "outputs": [],
   "source": [
    "# sns.clustermap(to_plot,\n",
    "#                 vmin= 0,\n",
    "#                vmax = 1,\n",
    "#                xticklabels=True,\n",
    "#                yticklabels=False,\n",
    "#                cmap= 'coolwarm')"
   ]
  },
  {
   "cell_type": "code",
   "execution_count": null,
   "id": "b6d58910-021e-42d2-a65b-20255e4eb6d0",
   "metadata": {},
   "outputs": [],
   "source": []
  }
 ],
 "metadata": {
  "kernelspec": {
   "display_name": "Python 3 (ipykernel)",
   "language": "python",
   "name": "python3"
  },
  "language_info": {
   "codemirror_mode": {
    "name": "ipython",
    "version": 3
   },
   "file_extension": ".py",
   "mimetype": "text/x-python",
   "name": "python",
   "nbconvert_exporter": "python",
   "pygments_lexer": "ipython3",
   "version": "3.7.12"
  }
 },
 "nbformat": 4,
 "nbformat_minor": 5
}
