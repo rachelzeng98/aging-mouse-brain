{
 "cells": [
  {
   "cell_type": "code",
   "execution_count": 1,
   "id": "191d3159-a861-42e4-a9e8-3ce268e91389",
   "metadata": {
    "execution": {
     "iopub.execute_input": "2024-01-19T00:00:24.236496Z",
     "iopub.status.busy": "2024-01-19T00:00:24.236243Z",
     "iopub.status.idle": "2024-01-19T00:00:25.068034Z",
     "shell.execute_reply": "2024-01-19T00:00:25.067261Z",
     "shell.execute_reply.started": "2024-01-19T00:00:24.236472Z"
    },
    "tags": []
   },
   "outputs": [],
   "source": [
    "import glob\n",
    "import pandas as pd\n",
    "import subprocess\n",
    "import pathlib\n",
    "import ray\n",
    "import joblib"
   ]
  },
  {
   "cell_type": "markdown",
   "id": "9437874d-1699-4ef4-87e1-1fdc09dd41b9",
   "metadata": {
    "tags": []
   },
   "source": [
    "## prepare dms hotspot table"
   ]
  },
  {
   "cell_type": "code",
   "execution_count": 2,
   "id": "9a4aff8e-731c-47a2-b384-cc3a7c2b8789",
   "metadata": {
    "execution": {
     "iopub.execute_input": "2024-01-18T23:51:50.536386Z",
     "iopub.status.busy": "2024-01-18T23:51:50.535950Z",
     "iopub.status.idle": "2024-01-18T23:51:50.540513Z",
     "shell.execute_reply": "2024-01-18T23:51:50.539616Z",
     "shell.execute_reply.started": "2024-01-18T23:51:50.536358Z"
    },
    "tags": []
   },
   "outputs": [],
   "source": [
    "_dir_1 = '/home/qzeng/project/aging/230907-recall-dmr/Merge_DMR/BothGender.CellType.Age/DMLtest'\n",
    "_dir_2 = '/home/qzeng/project/aging/230907-recall-dmr/Merge_DMR/2-BothGender.CellType.Age/DMLtest'\n",
    "filtered_dmr_bed_dir = '/home/qzeng/project/aging/230907-recall-dmr/Merge_DMR/mC_FILTER_DMR_BED'"
   ]
  },
  {
   "cell_type": "code",
   "execution_count": 3,
   "id": "ea5d4179-c1c0-464d-bf6e-b4b0f7adfec6",
   "metadata": {
    "execution": {
     "iopub.execute_input": "2024-01-18T23:51:50.541937Z",
     "iopub.status.busy": "2024-01-18T23:51:50.541671Z",
     "iopub.status.idle": "2024-01-18T23:51:50.554719Z",
     "shell.execute_reply": "2024-01-18T23:51:50.553908Z",
     "shell.execute_reply.started": "2024-01-18T23:51:50.541913Z"
    },
    "tags": []
   },
   "outputs": [],
   "source": [
    "all_dml_files = list(glob.glob(f'{_dir_1}/*/*.DMLtest.bed')) + list(glob.glob(f'{_dir_2}/*/*.DMLtest.bed'))"
   ]
  },
  {
   "cell_type": "code",
   "execution_count": 4,
   "id": "7d96e1c3-4ef5-4968-89de-a38dc3d4afbf",
   "metadata": {
    "execution": {
     "iopub.execute_input": "2024-01-18T23:51:50.555903Z",
     "iopub.status.busy": "2024-01-18T23:51:50.555631Z",
     "iopub.status.idle": "2024-01-18T23:51:50.561407Z",
     "shell.execute_reply": "2024-01-18T23:51:50.560514Z",
     "shell.execute_reply.started": "2024-01-18T23:51:50.555879Z"
    },
    "tags": []
   },
   "outputs": [],
   "source": [
    "use_cts = joblib.load('/home/qzeng/project/aging/metadata/mc_use_cts')\n",
    "use_cts = [ct.replace(' ','_').replace('/','') for ct in use_cts]"
   ]
  },
  {
   "cell_type": "code",
   "execution_count": 5,
   "id": "50fe211e-674d-4bb4-9f54-1b4a74ace57c",
   "metadata": {
    "execution": {
     "iopub.execute_input": "2024-01-18T23:51:50.563403Z",
     "iopub.status.busy": "2024-01-18T23:51:50.563033Z",
     "iopub.status.idle": "2024-01-18T23:51:50.583954Z",
     "shell.execute_reply": "2024-01-18T23:51:50.583075Z",
     "shell.execute_reply.started": "2024-01-18T23:51:50.563377Z"
    },
    "tags": []
   },
   "outputs": [],
   "source": [
    "use_dml_files = []\n",
    "for path in all_dml_files:\n",
    "    ct = pathlib.Path(path).name.split('.')[0]\n",
    "    if ct in use_cts:\n",
    "        use_dml_files.append(path)"
   ]
  },
  {
   "cell_type": "code",
   "execution_count": 6,
   "id": "3db88234-be56-4b94-b5ef-1ad04d6da447",
   "metadata": {
    "execution": {
     "iopub.execute_input": "2024-01-18T23:51:50.585419Z",
     "iopub.status.busy": "2024-01-18T23:51:50.585015Z",
     "iopub.status.idle": "2024-01-18T23:52:21.089850Z",
     "shell.execute_reply": "2024-01-18T23:52:21.089107Z",
     "shell.execute_reply.started": "2024-01-18T23:51:50.585391Z"
    },
    "tags": []
   },
   "outputs": [
    {
     "name": "stderr",
     "output_type": "stream",
     "text": [
      "2024-01-18 15:51:53,058\tINFO services.py:1476 -- View the Ray dashboard at \u001b[1m\u001b[32mhttp://127.0.0.1:8265\u001b[39m\u001b[22m\n",
      "\u001b[2m\u001b[36m(process_ct_type pid=29690)\u001b[0m Error: line number 648015 of file pvalue_filtered_dms_bed/PB_Evx2_Glut.bed has 2 fields, but 3 were expected.\n"
     ]
    },
    {
     "data": {
      "text/plain": [
       "[None,\n",
       " None,\n",
       " None,\n",
       " None,\n",
       " None,\n",
       " None,\n",
       " None,\n",
       " None,\n",
       " None,\n",
       " None,\n",
       " None,\n",
       " None,\n",
       " None,\n",
       " None,\n",
       " None,\n",
       " None]"
      ]
     },
     "execution_count": 6,
     "metadata": {},
     "output_type": "execute_result"
    }
   ],
   "source": [
    "import ray\n",
    "ray.init(_temp_dir = \"/tmp/ray_qzeng\")\n",
    "\n",
    "@ray.remote\n",
    "def process_ct_type(path, _type):\n",
    "    # Read the CSV file and filter it in one step\n",
    "    ct = pathlib.Path(path).name.split('.')[0]\n",
    "    tmpdf = pd.read_csv(path, sep = '\\t')\n",
    "    #tmpdf = pd.read_csv(f\"{_dir}/{ct}/{ct}.DMLtest.bed\", sep='\\t')\n",
    "    tmpdf = tmpdf[tmpdf['pvals'] < 0.01][['chr', 'pos']]\n",
    "    tmpdf['end'] = tmpdf['pos']\n",
    "    tmpdf = tmpdf.dropna()\n",
    "\n",
    "    # Save the filtered data to a file\n",
    "    output_file = f'pvalue_filtered_dms_bed/{ct}.bed'\n",
    "    tmpdf.to_csv(output_file, sep='\\t', header=None, index=None)\n",
    "\n",
    "    # Run the bedtools intersect command\n",
    "    command = f\"bedtools intersect -b {filtered_dmr_bed_dir}/{ct}.{_type}.aDMR.bed -a {output_file} -wa > mC_FILTERED_DMS_BED/{ct}.{_type}.aDMS.bed\"\n",
    "    subprocess.run(command, shell=True)\n",
    "\n",
    "    # Add a 'length' column with a constant value\n",
    "    tmpdf = pd.read_csv(f'mC_FILTERED_DMS_BED/{ct}.{_type}.aDMS.bed', header=None, sep='\\t')\n",
    "    tmpdf['length'] = 1\n",
    "    tmpdf.to_csv(f'mC_FILTERED_DMS_BED/{ct}.{_type}.aDMS.bed', sep='\\t', header=None, index=None)\n",
    "\n",
    "#all_cts = [pathlib.Path(path).name.split('.')[0] for path in use_dml_files[:2]]\n",
    "all_types = ['Hypo', 'Hyper']\n",
    "\n",
    "futures = []\n",
    "for path in use_dml_files:\n",
    "    for _type in all_types:\n",
    "        futures.append(process_ct_type.remote(path, _type))\n",
    "\n",
    "ray.get(futures)\n"
   ]
  },
  {
   "cell_type": "code",
   "execution_count": 7,
   "id": "69f099f1-c710-4028-b208-63a4842e358a",
   "metadata": {
    "execution": {
     "iopub.execute_input": "2024-01-18T23:52:24.886949Z",
     "iopub.status.busy": "2024-01-18T23:52:24.886466Z",
     "iopub.status.idle": "2024-01-18T23:52:25.065423Z",
     "shell.execute_reply": "2024-01-18T23:52:25.064687Z",
     "shell.execute_reply.started": "2024-01-18T23:52:24.886917Z"
    },
    "tags": []
   },
   "outputs": [
    {
     "data": {
      "text/plain": [
       "CompletedProcess(args='rm pvalue_filtered_dms_bed -rf', returncode=0)"
      ]
     },
     "execution_count": 7,
     "metadata": {},
     "output_type": "execute_result"
    }
   ],
   "source": [
    "subprocess.run(\"rm pvalue_filtered_dms_bed -rf\", shell = True)"
   ]
  },
  {
   "cell_type": "markdown",
   "id": "7c8963bf-f2d5-4562-bad3-b643231bc4ee",
   "metadata": {},
   "source": [
    "## map bed"
   ]
  },
  {
   "cell_type": "code",
   "execution_count": 2,
   "id": "bbc9ea20-e303-406e-a70a-7cfb2425a89b",
   "metadata": {
    "execution": {
     "iopub.execute_input": "2024-01-19T00:00:25.070545Z",
     "iopub.status.busy": "2024-01-19T00:00:25.069609Z",
     "iopub.status.idle": "2024-01-19T00:00:25.074203Z",
     "shell.execute_reply": "2024-01-19T00:00:25.073451Z",
     "shell.execute_reply.started": "2024-01-19T00:00:25.070505Z"
    },
    "tags": []
   },
   "outputs": [],
   "source": [
    "dms_dir = \"mC_FILTERED_DMS_BED\""
   ]
  },
  {
   "cell_type": "code",
   "execution_count": 3,
   "id": "a1ba0cae-1bd3-4094-8c23-d8bae7de232b",
   "metadata": {
    "execution": {
     "iopub.execute_input": "2024-01-19T00:00:33.988820Z",
     "iopub.status.busy": "2024-01-19T00:00:33.988413Z",
     "iopub.status.idle": "2024-01-19T00:12:53.228034Z",
     "shell.execute_reply": "2024-01-19T00:12:53.226948Z",
     "shell.execute_reply.started": "2024-01-19T00:00:33.988794Z"
    },
    "tags": []
   },
   "outputs": [],
   "source": [
    "pathlib.Path('500_dms_hotspot').mkdir(exist_ok = True)\n",
    "for _type in ['Hypo','Hyper']:\n",
    "    all_paths = glob.glob(f\"{dms_dir}/*.{_type}.aDMS.bed\")\n",
    "    \n",
    "    for file in all_paths:\n",
    "        mt = pathlib.Path(file).name.split('.')[0]\n",
    "        sort_ = f\"sort -k1,1 -k2,2n -o {file} {file}\"\n",
    "        subprocess.run(sort_, shell =True)\n",
    "        command = f'bedtools map -a mm10_500.bed -b {file} -null 0 -c 4 > 500_dms_hotspot/{mt}.{_type}.map.bed'\n",
    "        subprocess.run(command , shell = True)"
   ]
  },
  {
   "cell_type": "markdown",
   "id": "a30731f8-1723-46aa-a5cb-26954c78df47",
   "metadata": {},
   "source": [
    "## group command"
   ]
  },
  {
   "cell_type": "code",
   "execution_count": 4,
   "id": "a2e3a42a-0052-4c96-ab35-1f14a8a8795c",
   "metadata": {
    "execution": {
     "iopub.execute_input": "2024-01-19T00:12:53.883616Z",
     "iopub.status.busy": "2024-01-19T00:12:53.883208Z",
     "iopub.status.idle": "2024-01-19T00:30:40.012248Z",
     "shell.execute_reply": "2024-01-19T00:30:40.011147Z",
     "shell.execute_reply.started": "2024-01-19T00:12:53.883590Z"
    },
    "tags": []
   },
   "outputs": [],
   "source": [
    "for _type in ['Hypo','Hyper']:\n",
    "    all_files = glob.glob(f'500_dms_hotspot/*.{_type}.map.bed')\n",
    "    command = f'cat {\" \".join(all_files)} > 500_result/{_type}.DMS.concat.bed'\n",
    "    subprocess.run(command, shell = True)\n",
    "    \n",
    "    subprocess.run(f\"sort -k1,1 -k2,2n -k3,3n -o 500_result/{_type}.DMS.concat.bed 500_result/{_type}.DMS.concat.bed\", shell = True)\n",
    "    \n",
    "    command = f\"bedtools groupby -i 500_result/{_type}.DMS.concat.bed -g 1,2,3 -c 6 -o sum > 500_result/{_type}.DMS.concat.sum.bed\"\n",
    "    subprocess.run(command, shell = True)\n",
    "    subprocess.run(f\"rm 500_result/{_type}.DMS.concat.bed\", shell = True)"
   ]
  },
  {
   "cell_type": "code",
   "execution_count": null,
   "id": "61b05ccc-aa11-46c5-ac25-fd659958225d",
   "metadata": {},
   "outputs": [],
   "source": []
  },
  {
   "cell_type": "code",
   "execution_count": null,
   "id": "c77e4b19-8cce-4200-94c0-faba65303605",
   "metadata": {},
   "outputs": [],
   "source": []
  },
  {
   "cell_type": "code",
   "execution_count": null,
   "id": "df4eb5e6-3f80-4480-93ff-fc93195e037f",
   "metadata": {},
   "outputs": [],
   "source": []
  },
  {
   "cell_type": "code",
   "execution_count": null,
   "id": "c5ccb840-4211-409c-8312-203dafd79446",
   "metadata": {},
   "outputs": [],
   "source": []
  },
  {
   "cell_type": "code",
   "execution_count": null,
   "id": "d9e81345-c821-46eb-bd1d-aba2e532b0af",
   "metadata": {},
   "outputs": [],
   "source": []
  },
  {
   "cell_type": "code",
   "execution_count": null,
   "id": "e866695b-c54a-48c3-b1cf-8fdef9026823",
   "metadata": {},
   "outputs": [],
   "source": []
  },
  {
   "cell_type": "code",
   "execution_count": null,
   "id": "5e8769af-3b73-414a-b831-d03d85bafd01",
   "metadata": {},
   "outputs": [],
   "source": []
  },
  {
   "cell_type": "code",
   "execution_count": null,
   "id": "1677e7b4-016a-4ad7-85b2-9242e487c48f",
   "metadata": {},
   "outputs": [],
   "source": []
  },
  {
   "cell_type": "code",
   "execution_count": null,
   "id": "4640e857-f95b-4c8f-bfc8-a17cceb196d2",
   "metadata": {},
   "outputs": [],
   "source": []
  },
  {
   "cell_type": "code",
   "execution_count": null,
   "id": "89ee6281-9c6f-4629-adc1-6e1e46a177ad",
   "metadata": {},
   "outputs": [],
   "source": []
  }
 ],
 "metadata": {
  "kernelspec": {
   "display_name": "Python 3 (ipykernel)",
   "language": "python",
   "name": "python3"
  },
  "language_info": {
   "codemirror_mode": {
    "name": "ipython",
    "version": 3
   },
   "file_extension": ".py",
   "mimetype": "text/x-python",
   "name": "python",
   "nbconvert_exporter": "python",
   "pygments_lexer": "ipython3",
   "version": "3.7.12"
  }
 },
 "nbformat": 4,
 "nbformat_minor": 5
}
