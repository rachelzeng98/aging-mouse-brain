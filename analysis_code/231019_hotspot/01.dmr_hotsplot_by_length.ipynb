{
 "cells": [
  {
   "cell_type": "code",
   "execution_count": 1,
   "id": "8b30bc7a-362f-4927-aac4-28e5649ff305",
   "metadata": {
    "execution": {
     "iopub.execute_input": "2023-10-21T00:09:20.784338Z",
     "iopub.status.busy": "2023-10-21T00:09:20.783976Z",
     "iopub.status.idle": "2023-10-21T00:09:21.527868Z",
     "shell.execute_reply": "2023-10-21T00:09:21.527024Z",
     "shell.execute_reply.started": "2023-10-21T00:09:20.784313Z"
    },
    "tags": []
   },
   "outputs": [],
   "source": [
    "import pandas as pd\n",
    "import glob\n",
    "import pybedtools\n",
    "from pybedtools import BedTool\n",
    "import pathlib\n",
    "import subprocess "
   ]
  },
  {
   "cell_type": "code",
   "execution_count": 6,
   "id": "adfa69a2-8aa9-4c27-b009-c701d8b1ada9",
   "metadata": {
    "execution": {
     "iopub.execute_input": "2023-10-20T22:12:01.853562Z",
     "iopub.status.busy": "2023-10-20T22:12:01.853085Z",
     "iopub.status.idle": "2023-10-20T22:12:03.721313Z",
     "shell.execute_reply": "2023-10-20T22:12:03.720468Z",
     "shell.execute_reply.started": "2023-10-20T22:12:01.853535Z"
    },
    "tags": []
   },
   "outputs": [],
   "source": [
    "! bedtools makewindows -g mm10.txt -w 5000 > mm10_5000.bed"
   ]
  },
  {
   "cell_type": "code",
   "execution_count": 8,
   "id": "9b3011bb-e035-4f20-9cc3-8358babb515c",
   "metadata": {
    "execution": {
     "iopub.execute_input": "2023-10-20T22:12:05.137022Z",
     "iopub.status.busy": "2023-10-20T22:12:05.136681Z",
     "iopub.status.idle": "2023-10-20T22:12:05.146197Z",
     "shell.execute_reply": "2023-10-20T22:12:05.145707Z",
     "shell.execute_reply.started": "2023-10-20T22:12:05.136997Z"
    },
    "tags": []
   },
   "outputs": [
    {
     "data": {
      "text/html": [
       "<div>\n",
       "<style scoped>\n",
       "    .dataframe tbody tr th:only-of-type {\n",
       "        vertical-align: middle;\n",
       "    }\n",
       "\n",
       "    .dataframe tbody tr th {\n",
       "        vertical-align: top;\n",
       "    }\n",
       "\n",
       "    .dataframe thead th {\n",
       "        text-align: right;\n",
       "    }\n",
       "</style>\n",
       "<table border=\"1\" class=\"dataframe\">\n",
       "  <thead>\n",
       "    <tr style=\"text-align: right;\">\n",
       "      <th></th>\n",
       "      <th>0</th>\n",
       "      <th>1</th>\n",
       "      <th>2</th>\n",
       "      <th>3</th>\n",
       "      <th>4</th>\n",
       "    </tr>\n",
       "  </thead>\n",
       "  <tbody>\n",
       "    <tr>\n",
       "      <th>0</th>\n",
       "      <td>chr1</td>\n",
       "      <td>0</td>\n",
       "      <td>5000</td>\n",
       "      <td>a0</td>\n",
       "      <td>0</td>\n",
       "    </tr>\n",
       "    <tr>\n",
       "      <th>1</th>\n",
       "      <td>chr1</td>\n",
       "      <td>5000</td>\n",
       "      <td>10000</td>\n",
       "      <td>a1</td>\n",
       "      <td>1</td>\n",
       "    </tr>\n",
       "    <tr>\n",
       "      <th>2</th>\n",
       "      <td>chr1</td>\n",
       "      <td>10000</td>\n",
       "      <td>15000</td>\n",
       "      <td>a2</td>\n",
       "      <td>2</td>\n",
       "    </tr>\n",
       "    <tr>\n",
       "      <th>3</th>\n",
       "      <td>chr1</td>\n",
       "      <td>15000</td>\n",
       "      <td>20000</td>\n",
       "      <td>a3</td>\n",
       "      <td>3</td>\n",
       "    </tr>\n",
       "    <tr>\n",
       "      <th>4</th>\n",
       "      <td>chr1</td>\n",
       "      <td>20000</td>\n",
       "      <td>25000</td>\n",
       "      <td>a4</td>\n",
       "      <td>4</td>\n",
       "    </tr>\n",
       "  </tbody>\n",
       "</table>\n",
       "</div>"
      ],
      "text/plain": [
       "      0      1      2   3  4\n",
       "0  chr1      0   5000  a0  0\n",
       "1  chr1   5000  10000  a1  1\n",
       "2  chr1  10000  15000  a2  2\n",
       "3  chr1  15000  20000  a3  3\n",
       "4  chr1  20000  25000  a4  4"
      ]
     },
     "execution_count": 8,
     "metadata": {},
     "output_type": "execute_result"
    }
   ],
   "source": [
    "mm10_window.head()"
   ]
  },
  {
   "cell_type": "markdown",
   "id": "263e0f02-dc0f-4fcb-a136-53f17b7718dd",
   "metadata": {
    "tags": []
   },
   "source": [
    "## gen map command"
   ]
  },
  {
   "cell_type": "code",
   "execution_count": 2,
   "id": "88ef5a49-a293-4806-b9aa-b48f562a6f0f",
   "metadata": {
    "execution": {
     "iopub.execute_input": "2023-10-20T22:31:40.929431Z",
     "iopub.status.busy": "2023-10-20T22:31:40.928924Z",
     "iopub.status.idle": "2023-10-20T22:31:40.933411Z",
     "shell.execute_reply": "2023-10-20T22:31:40.932874Z",
     "shell.execute_reply.started": "2023-10-20T22:31:40.929405Z"
    },
    "tags": []
   },
   "outputs": [],
   "source": [
    "dmr_dir = \"/home/qzeng/project/aging/230907-recall-dmr/Merge_DMR/mC_FILTER_DMR_BED\""
   ]
  },
  {
   "cell_type": "code",
   "execution_count": 14,
   "id": "75c05250-cc0e-45a2-a7a7-47016ea1d480",
   "metadata": {
    "execution": {
     "iopub.execute_input": "2023-10-20T22:50:05.261990Z",
     "iopub.status.busy": "2023-10-20T22:50:05.261567Z",
     "iopub.status.idle": "2023-10-20T22:50:06.687261Z",
     "shell.execute_reply": "2023-10-20T22:50:06.686675Z",
     "shell.execute_reply.started": "2023-10-20T22:50:05.261958Z"
    },
    "tags": []
   },
   "outputs": [],
   "source": [
    "for _type in ['Hypo','Hyper']:\n",
    "    all_paths = glob.glob(f\"{dmr_dir}/*.{_type}.aDMR.bed\")\n",
    "    for path in all_paths:\n",
    "        ct = path.split('/')[-1].split('.')[0]\n",
    "        tmpdf = pd.read_csv(path, sep = '\\t', header = None)\n",
    "        tmpdf['length'] = tmpdf[2] - tmpdf[1]\n",
    "        tmpdf = tmpdf[[0,1,2,'length']]\n",
    "        tmpdf.to_csv(f'DMR_BED/{ct}.{_type}.bed', sep = '\\t', index = None, header = None)"
   ]
  },
  {
   "cell_type": "code",
   "execution_count": 19,
   "id": "4ee21b02-c658-48ee-9387-2a0906f44dfa",
   "metadata": {
    "execution": {
     "iopub.execute_input": "2023-10-20T22:53:10.300668Z",
     "iopub.status.busy": "2023-10-20T22:53:10.300389Z",
     "iopub.status.idle": "2023-10-20T22:53:10.307697Z",
     "shell.execute_reply": "2023-10-20T22:53:10.307255Z",
     "shell.execute_reply.started": "2023-10-20T22:53:10.300645Z"
    },
    "tags": []
   },
   "outputs": [
    {
     "data": {
      "text/html": [
       "<div>\n",
       "<style scoped>\n",
       "    .dataframe tbody tr th:only-of-type {\n",
       "        vertical-align: middle;\n",
       "    }\n",
       "\n",
       "    .dataframe tbody tr th {\n",
       "        vertical-align: top;\n",
       "    }\n",
       "\n",
       "    .dataframe thead th {\n",
       "        text-align: right;\n",
       "    }\n",
       "</style>\n",
       "<table border=\"1\" class=\"dataframe\">\n",
       "  <thead>\n",
       "    <tr style=\"text-align: right;\">\n",
       "      <th></th>\n",
       "      <th>0</th>\n",
       "      <th>1</th>\n",
       "      <th>2</th>\n",
       "      <th>length</th>\n",
       "    </tr>\n",
       "  </thead>\n",
       "  <tbody>\n",
       "    <tr>\n",
       "      <th>0</th>\n",
       "      <td>chr1</td>\n",
       "      <td>6389498</td>\n",
       "      <td>6389512</td>\n",
       "      <td>14</td>\n",
       "    </tr>\n",
       "    <tr>\n",
       "      <th>1</th>\n",
       "      <td>chr1</td>\n",
       "      <td>9891886</td>\n",
       "      <td>9891900</td>\n",
       "      <td>14</td>\n",
       "    </tr>\n",
       "    <tr>\n",
       "      <th>2</th>\n",
       "      <td>chr1</td>\n",
       "      <td>14110488</td>\n",
       "      <td>14110536</td>\n",
       "      <td>48</td>\n",
       "    </tr>\n",
       "    <tr>\n",
       "      <th>3</th>\n",
       "      <td>chr1</td>\n",
       "      <td>14305202</td>\n",
       "      <td>14305205</td>\n",
       "      <td>3</td>\n",
       "    </tr>\n",
       "    <tr>\n",
       "      <th>4</th>\n",
       "      <td>chr1</td>\n",
       "      <td>14508392</td>\n",
       "      <td>14508419</td>\n",
       "      <td>27</td>\n",
       "    </tr>\n",
       "  </tbody>\n",
       "</table>\n",
       "</div>"
      ],
      "text/plain": [
       "      0         1         2  length\n",
       "0  chr1   6389498   6389512      14\n",
       "1  chr1   9891886   9891900      14\n",
       "2  chr1  14110488  14110536      48\n",
       "3  chr1  14305202  14305205       3\n",
       "4  chr1  14508392  14508419      27"
      ]
     },
     "execution_count": 19,
     "metadata": {},
     "output_type": "execute_result"
    }
   ],
   "source": [
    "tmpdf.head()"
   ]
  },
  {
   "cell_type": "code",
   "execution_count": 30,
   "id": "d27fd48a-a3b0-4d09-b481-df034da0261b",
   "metadata": {
    "execution": {
     "iopub.execute_input": "2023-10-20T23:32:46.659925Z",
     "iopub.status.busy": "2023-10-20T23:32:46.659558Z",
     "iopub.status.idle": "2023-10-20T23:34:08.951121Z",
     "shell.execute_reply": "2023-10-20T23:34:08.950045Z",
     "shell.execute_reply.started": "2023-10-20T23:32:46.659902Z"
    },
    "tags": []
   },
   "outputs": [],
   "source": [
    "pathlib.Path('5k_hotspot').mkdir(exist_ok = True)\n",
    "for _type in ['Hypo','Hyper']:\n",
    "    for file in glob.glob(f\"DMR_BED/*.{_type}.bed\"):\n",
    "        mt = file.split('/')[-1].split('.')[0]\n",
    "        command = f'bedtools map -a  mm10_5000.bed -b {file} -null 0 -c 4 > 5k_hotspot/{mt}.{_type}.map.bed'\n",
    "        subprocess.run(command, shell =True)"
   ]
  },
  {
   "cell_type": "markdown",
   "id": "5a84696b-9693-4472-9ecb-2445012698cf",
   "metadata": {},
   "source": [
    "## group command"
   ]
  },
  {
   "cell_type": "code",
   "execution_count": 2,
   "id": "6721e3c9-4b0d-4ee3-83bf-dc9cfb124736",
   "metadata": {
    "execution": {
     "iopub.execute_input": "2023-10-21T00:09:24.387927Z",
     "iopub.status.busy": "2023-10-21T00:09:24.387531Z",
     "iopub.status.idle": "2023-10-21T00:10:13.241860Z",
     "shell.execute_reply": "2023-10-21T00:10:13.240754Z",
     "shell.execute_reply.started": "2023-10-21T00:09:24.387901Z"
    },
    "tags": []
   },
   "outputs": [],
   "source": [
    "for _type in ['Hypo','Hyper']:\n",
    "    all_hypo_files = glob.glob(f'5k_hotspot/*.{_type}.map.bed')\n",
    "    command = f'cat {\" \".join(all_hypo_files)} > {_type}.concat.bed'\n",
    "    subprocess.run(command, shell = True)\n",
    "    subprocess.run(f\"sort -k1,1 -k2,2n -k3,3n -o {_type}.concat.bed {_type}.concat.bed\", shell = True)\n",
    "\n",
    "    command = f\"bedtools groupby -i {_type}.concat.bed -g 1,2,3 -c 6 -o sum > {_type}.concat.sum.bed\"\n",
    "    subprocess.run(command, shell = True)\n",
    "    subprocess.run(f\"rm {_type}.concat.bed\", shell = True)"
   ]
  },
  {
   "cell_type": "code",
   "execution_count": null,
   "id": "b41be85c-f6e3-411f-8262-2d234f8e078f",
   "metadata": {},
   "outputs": [],
   "source": []
  },
  {
   "cell_type": "code",
   "execution_count": null,
   "id": "dc40d39d-72ad-435d-9be1-c46c7d9050cb",
   "metadata": {},
   "outputs": [],
   "source": []
  },
  {
   "cell_type": "code",
   "execution_count": null,
   "id": "0d2ec30a-12aa-4ba4-ba7b-7ae6fec65f16",
   "metadata": {},
   "outputs": [],
   "source": []
  }
 ],
 "metadata": {
  "kernelspec": {
   "display_name": "Python 3 (ipykernel)",
   "language": "python",
   "name": "python3"
  },
  "language_info": {
   "codemirror_mode": {
    "name": "ipython",
    "version": 3
   },
   "file_extension": ".py",
   "mimetype": "text/x-python",
   "name": "python",
   "nbconvert_exporter": "python",
   "pygments_lexer": "ipython3",
   "version": "3.7.12"
  }
 },
 "nbformat": 4,
 "nbformat_minor": 5
}
