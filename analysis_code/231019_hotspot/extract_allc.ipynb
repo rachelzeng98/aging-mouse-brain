{
 "cells": [
  {
   "cell_type": "code",
   "execution_count": 1,
   "id": "3f3c7b28-f165-40bf-a91a-5efab5e52175",
   "metadata": {
    "execution": {
     "iopub.execute_input": "2023-10-24T21:07:40.575099Z",
     "iopub.status.busy": "2023-10-24T21:07:40.574671Z",
     "iopub.status.idle": "2023-10-24T21:07:41.013254Z",
     "shell.execute_reply": "2023-10-24T21:07:41.012560Z",
     "shell.execute_reply.started": "2023-10-24T21:07:40.575077Z"
    },
    "tags": []
   },
   "outputs": [],
   "source": [
    "import glob\n",
    "import pandas as pd\n",
    "import pysam"
   ]
  },
  {
   "cell_type": "code",
   "execution_count": 2,
   "id": "12c94357-8ca0-47ec-a304-273abe61190d",
   "metadata": {
    "execution": {
     "iopub.execute_input": "2023-10-24T21:07:41.018203Z",
     "iopub.status.busy": "2023-10-24T21:07:41.017908Z",
     "iopub.status.idle": "2023-10-24T21:07:41.020723Z",
     "shell.execute_reply": "2023-10-24T21:07:41.020239Z",
     "shell.execute_reply.started": "2023-10-24T21:07:41.018182Z"
    },
    "tags": []
   },
   "outputs": [],
   "source": [
    "_dir = '/home/qzeng/project/aging/230907-recall-dmr/Merge_DMR/Total.Balanced.Merged.Allc'"
   ]
  },
  {
   "cell_type": "code",
   "execution_count": 3,
   "id": "4334242a-1189-4855-9345-0706685e1ea1",
   "metadata": {
    "execution": {
     "iopub.execute_input": "2023-10-24T21:07:41.021614Z",
     "iopub.status.busy": "2023-10-24T21:07:41.021306Z",
     "iopub.status.idle": "2023-10-24T21:07:41.025128Z",
     "shell.execute_reply": "2023-10-24T21:07:41.024729Z",
     "shell.execute_reply.started": "2023-10-24T21:07:41.021594Z"
    },
    "tags": []
   },
   "outputs": [],
   "source": [
    "all_files = glob.glob(f'{_dir}/*.CGN-Merge.allc.tsv.gz')"
   ]
  },
  {
   "cell_type": "code",
   "execution_count": 4,
   "id": "8ae1b2a5-7142-4ae4-8939-be14b63bf489",
   "metadata": {
    "execution": {
     "iopub.execute_input": "2023-10-24T21:07:41.025930Z",
     "iopub.status.busy": "2023-10-24T21:07:41.025692Z",
     "iopub.status.idle": "2023-10-24T21:07:41.028219Z",
     "shell.execute_reply": "2023-10-24T21:07:41.027711Z",
     "shell.execute_reply.started": "2023-10-24T21:07:41.025913Z"
    },
    "tags": []
   },
   "outputs": [],
   "source": [
    "ct ='Oligo-NN'"
   ]
  },
  {
   "cell_type": "code",
   "execution_count": 5,
   "id": "2189ede1-89a4-4ccf-9446-25a398611322",
   "metadata": {
    "execution": {
     "iopub.execute_input": "2023-10-24T21:07:41.029056Z",
     "iopub.status.busy": "2023-10-24T21:07:41.028805Z",
     "iopub.status.idle": "2023-10-24T21:07:41.031379Z",
     "shell.execute_reply": "2023-10-24T21:07:41.030939Z",
     "shell.execute_reply.started": "2023-10-24T21:07:41.029037Z"
    },
    "tags": []
   },
   "outputs": [],
   "source": [
    "file_path = '/home/qzeng/project/aging/230907-recall-dmr/Merge_DMR/Total.Balanced.Merged.Allc/Oligo-NN.18mo.Both-Gender.CGN-Merge.allc.tsv.gz'"
   ]
  },
  {
   "cell_type": "code",
   "execution_count": 13,
   "id": "e0d25156-7bb9-4f7a-9536-b7c36e3634f9",
   "metadata": {
    "execution": {
     "iopub.execute_input": "2023-10-24T21:12:55.817278Z",
     "iopub.status.busy": "2023-10-24T21:12:55.816857Z",
     "iopub.status.idle": "2023-10-24T21:12:55.820022Z",
     "shell.execute_reply": "2023-10-24T21:12:55.819449Z",
     "shell.execute_reply.started": "2023-10-24T21:12:55.817254Z"
    },
    "tags": []
   },
   "outputs": [],
   "source": [
    "# allc_df = pd.read_csv(file_path, sep = '\\t', header = None)\n",
    "# allc_df.head()"
   ]
  },
  {
   "cell_type": "code",
   "execution_count": 11,
   "id": "1dc91145-df30-4929-b4d8-bec5ebb9f593",
   "metadata": {
    "execution": {
     "iopub.execute_input": "2023-10-24T21:10:34.408599Z",
     "iopub.status.busy": "2023-10-24T21:10:34.408196Z",
     "iopub.status.idle": "2023-10-24T21:10:34.453716Z",
     "shell.execute_reply": "2023-10-24T21:10:34.453167Z",
     "shell.execute_reply.started": "2023-10-24T21:10:34.408576Z"
    },
    "tags": []
   },
   "outputs": [],
   "source": [
    "# clock sites\n",
    "file_tabix = pysam.TabixFile(file_path)\n",
    "\n",
    "cytosine_id = 'chr1-3006782'\n",
    "chromosome, start_position = cytosine_id.split('-')\n",
    "start_position = int(start_position)\n",
    "\n",
    "for row in file_tabix.fetch(chromosome, start_position-1, start_position):\n",
    "    _chr, pos, line, cg_format, mc, cov, _  = row.split('\\t')\n",
    "    break"
   ]
  },
  {
   "cell_type": "code",
   "execution_count": null,
   "id": "9049b822-ae4f-425a-90b6-2e442a7981d0",
   "metadata": {},
   "outputs": [],
   "source": []
  },
  {
   "cell_type": "code",
   "execution_count": null,
   "id": "85ddf62d-8a9e-4838-b0c9-92f349ab9763",
   "metadata": {},
   "outputs": [],
   "source": []
  },
  {
   "cell_type": "code",
   "execution_count": null,
   "id": "6c71db46-c4dd-4260-9c6a-77d58fd95a7a",
   "metadata": {},
   "outputs": [],
   "source": []
  },
  {
   "cell_type": "code",
   "execution_count": null,
   "id": "3d3f7302-63fc-4cdd-9f73-da06dda19b3e",
   "metadata": {},
   "outputs": [],
   "source": []
  }
 ],
 "metadata": {
  "kernelspec": {
   "display_name": "Python 3 (ipykernel)",
   "language": "python",
   "name": "python3"
  },
  "language_info": {
   "codemirror_mode": {
    "name": "ipython",
    "version": 3
   },
   "file_extension": ".py",
   "mimetype": "text/x-python",
   "name": "python",
   "nbconvert_exporter": "python",
   "pygments_lexer": "ipython3",
   "version": "3.7.12"
  }
 },
 "nbformat": 4,
 "nbformat_minor": 5
}
