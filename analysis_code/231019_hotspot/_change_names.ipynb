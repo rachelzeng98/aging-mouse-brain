{
 "cells": [
  {
   "cell_type": "code",
   "execution_count": 2,
   "id": "2614f8ab-b62d-4d8f-b004-e30d1b596315",
   "metadata": {
    "execution": {
     "iopub.execute_input": "2024-01-18T23:55:47.399677Z",
     "iopub.status.busy": "2024-01-18T23:55:47.399249Z",
     "iopub.status.idle": "2024-01-18T23:55:47.403087Z",
     "shell.execute_reply": "2024-01-18T23:55:47.402595Z",
     "shell.execute_reply.started": "2024-01-18T23:55:47.399643Z"
    },
    "tags": []
   },
   "outputs": [],
   "source": [
    "import glob\n",
    "import subprocess"
   ]
  },
  {
   "cell_type": "code",
   "execution_count": 3,
   "id": "74966592-d00d-4d0c-a1aa-5a343b457cd7",
   "metadata": {
    "execution": {
     "iopub.execute_input": "2024-01-18T23:55:56.403751Z",
     "iopub.status.busy": "2024-01-18T23:55:56.403312Z",
     "iopub.status.idle": "2024-01-18T23:55:56.408733Z",
     "shell.execute_reply": "2024-01-18T23:55:56.408008Z",
     "shell.execute_reply.started": "2024-01-18T23:55:56.403720Z"
    },
    "tags": []
   },
   "outputs": [],
   "source": [
    "all_files = glob.glob('_mC_FILTERED_DMS_BED/*')"
   ]
  },
  {
   "cell_type": "code",
   "execution_count": 5,
   "id": "937e029b-dcc9-483c-a8cb-39336c90f189",
   "metadata": {
    "execution": {
     "iopub.execute_input": "2024-01-18T23:56:01.925060Z",
     "iopub.status.busy": "2024-01-18T23:56:01.924651Z",
     "iopub.status.idle": "2024-01-18T23:56:01.931862Z",
     "shell.execute_reply": "2024-01-18T23:56:01.931182Z",
     "shell.execute_reply.started": "2024-01-18T23:56:01.925033Z"
    },
    "tags": []
   },
   "outputs": [],
   "source": [
    "old_to_new = {'Endo-NN': 'Endo_NN',\n",
    " 'L6-IT-CTX-Glut': 'L6_IT_CTX_Glut',\n",
    " 'SUB-ProS-Glut': 'SUB-ProS_Glut',\n",
    " 'L23-IT-ENTl-PIR-Glut': 'L23_IT_ENTl-PIR_Glut',\n",
    " 'NDB-SI-MA-STRv-Lhx8-Gaba': 'NDB-SI-MA-STRv_Lhx8_Gaba',\n",
    " 'NP-SUB-Glut': 'NP_SUB_Glut',\n",
    " 'Oligo-NN': 'Oligo_NN',\n",
    " 'STR-PAL-Chst9-Gaba': 'STR-PAL_Chst9_Gaba',\n",
    " 'L6bCT-ENT-Glut': 'L6bCT_ENT_Glut',\n",
    " 'L2-IT-PPP-APr-Glut': 'L2_IT_PPP-APr_Glut',\n",
    " 'VLMC-NN': 'VLMC_NN',\n",
    " 'STR-D1-Gaba': 'STR_D1_Gaba',\n",
    " 'CA3-Glut': 'CA3_Glut',\n",
    " 'MEA-COAp-Glut': 'MEA-COAp_Glut',\n",
    " 'L23-IT-PPP-Glut': 'L23_IT_PPP_Glut',\n",
    " 'L23-IT-ENT-Glut': 'L23_IT_ENT_Glut',\n",
    " 'Sst-Chodl-Gaba': 'Sst_Chodl_Gaba',\n",
    " 'Lamp5-Gaba': 'Lamp5_Gaba',\n",
    " 'CA2-FC-IG-Glut': 'CA2-FC-IG_Glut',\n",
    " 'Astro-NN': 'Astro_NN',\n",
    " 'ENTmv-PA-COAp-Glut': 'ENTmv-PA-COAp_Glut',\n",
    " 'L45-IT-CTX-Glut': 'L45_IT_CTX_Glut',\n",
    " 'LA-BLA-BMA-PA-Glut': 'LA-BLA-BMA-PA_Glut',\n",
    " 'CHOR-NN': 'CHOR_NN',\n",
    " 'PAG-Glut': 'PAG_Glut',\n",
    " 'MB-MY-Glut-Sero': 'MB-MY_Tph2_Glut-Sero',\n",
    " 'CA1-ProS-Glut': 'CA1-ProS_Glut',\n",
    " 'PAG-PCG': 'PAG_PCG',\n",
    " 'Microglia-NN': 'Microglia_NN',\n",
    " 'STR-D2-Gaba': 'STR_D2_Gaba',\n",
    " 'L5-IT-CTX-Glut': 'L5_IT_CTX_Glut',\n",
    " 'PAG-MRN-Pou3f1-Glut': 'PAG-MRN_Pou3f1_Glut',\n",
    " 'OT-D3-Folh1-Gaba': 'OT_D3_Folh1_Gaba',\n",
    " 'DGNBL-Glut': 'DGNBL_Glut',\n",
    " 'L5-NP-CTX-Glut': 'L5_NP_CTX_Glut',\n",
    " 'L5-ET-CTX-Glut': 'L5_ET_CTX_Glut',\n",
    " 'Pvalb-Gaba': 'Pvalb_Gaba',\n",
    " 'L6-CT-CTX-Glut': 'L6_CT_CTX_Glut',\n",
    " 'CEA-Gaba': 'CEA-BST_Gaba',\n",
    " 'Sst-Gaba': 'Sst_Gaba',\n",
    " 'DG-Glut': 'DG_Glut',\n",
    " 'L23-IT-CTX-Glut': 'L23_IT_CTX_Glut',\n",
    " 'STR-Gaba': 'STR_Gaba',\n",
    " 'VipSncg-Gaba': 'VipSncg_Gaba',\n",
    " 'OPC-NN': 'OPC_NN',\n",
    " 'MEA-COA-Glut': 'MEA-COAp_Glut',\n",
    " 'MEA-Gaba': 'MEA-BST_Gaba'}"
   ]
  },
  {
   "cell_type": "code",
   "execution_count": 8,
   "id": "7dbce6cb-d78e-42df-8991-e6b2a1b38f09",
   "metadata": {
    "execution": {
     "iopub.execute_input": "2024-01-18T23:56:22.338810Z",
     "iopub.status.busy": "2024-01-18T23:56:22.338347Z",
     "iopub.status.idle": "2024-01-18T23:56:23.132489Z",
     "shell.execute_reply": "2024-01-18T23:56:23.131331Z",
     "shell.execute_reply.started": "2024-01-18T23:56:22.338780Z"
    },
    "tags": []
   },
   "outputs": [],
   "source": [
    "all_old_names = []\n",
    "for path in all_files:\n",
    "    old_name = path.split('/')[-1].split('.')[0]\n",
    "    if old_name in old_to_new.keys():\n",
    "        new_name = old_to_new[old_name]\n",
    "        new_path = path.replace(old_name,new_name)\n",
    "        command = f\"mv {path} {new_path}\"\n",
    "        subprocess.run(command, shell = True)\n",
    "    else:\n",
    "        print(old_name)\n",
    "       "
   ]
  },
  {
   "cell_type": "code",
   "execution_count": 13,
   "id": "7e4bcaae-1a6c-4cb5-8465-04b7e0ffd8b8",
   "metadata": {
    "execution": {
     "iopub.execute_input": "2024-01-18T23:57:27.446443Z",
     "iopub.status.busy": "2024-01-18T23:57:27.446038Z",
     "iopub.status.idle": "2024-01-18T23:57:27.972837Z",
     "shell.execute_reply": "2024-01-18T23:57:27.972198Z",
     "shell.execute_reply.started": "2024-01-18T23:57:27.446414Z"
    },
    "tags": []
   },
   "outputs": [],
   "source": [
    "import joblib\n",
    "use_cts = joblib.load('/home/qzeng/project/aging/metadata/mc_use_cts')\n",
    "use_cts = [ct.replace(' ','_').replace('/','') for ct in use_cts]"
   ]
  },
  {
   "cell_type": "code",
   "execution_count": 14,
   "id": "75ca4f6b-06e9-47f9-8124-15daa8e276c5",
   "metadata": {
    "execution": {
     "iopub.execute_input": "2024-01-18T23:57:28.424345Z",
     "iopub.status.busy": "2024-01-18T23:57:28.423793Z",
     "iopub.status.idle": "2024-01-18T23:57:28.427997Z",
     "shell.execute_reply": "2024-01-18T23:57:28.427365Z",
     "shell.execute_reply.started": "2024-01-18T23:57:28.424314Z"
    },
    "tags": []
   },
   "outputs": [],
   "source": [
    "all_files = glob.glob('_mC_FILTERED_DMS_BED/*')"
   ]
  },
  {
   "cell_type": "code",
   "execution_count": 18,
   "id": "cb496185-1cab-40a8-9e8b-8f84060f919e",
   "metadata": {
    "execution": {
     "iopub.execute_input": "2024-01-18T23:58:57.812769Z",
     "iopub.status.busy": "2024-01-18T23:58:57.812366Z",
     "iopub.status.idle": "2024-01-18T23:59:03.349814Z",
     "shell.execute_reply": "2024-01-18T23:59:03.348899Z",
     "shell.execute_reply.started": "2024-01-18T23:58:57.812741Z"
    },
    "tags": []
   },
   "outputs": [],
   "source": [
    "for path in all_files:\n",
    "    ct_name = path.split('/')[-1].split('.')[0]\n",
    "    new_path = path.replace('_mC_FILTERED_DMS_BED','mC_FILTERED_DMS_BED')\n",
    "    if ct_name in use_cts:\n",
    "        command = f\"cp {path} {new_path}\"\n",
    "        subprocess.run(command, shell = True)\n",
    "    "
   ]
  },
  {
   "cell_type": "code",
   "execution_count": null,
   "id": "f81e3ae2-b383-4a1c-a654-3f87a1bd578e",
   "metadata": {},
   "outputs": [],
   "source": []
  },
  {
   "cell_type": "code",
   "execution_count": null,
   "id": "8b0d1a12-a50b-4816-9a7d-ea43222bbc15",
   "metadata": {},
   "outputs": [],
   "source": []
  },
  {
   "cell_type": "code",
   "execution_count": null,
   "id": "cba42ca5-4379-4d05-ace3-c14bebd9263b",
   "metadata": {},
   "outputs": [],
   "source": []
  },
  {
   "cell_type": "code",
   "execution_count": null,
   "id": "f2b564c8-34c4-4620-beb5-9ef6c09c96ce",
   "metadata": {},
   "outputs": [],
   "source": []
  },
  {
   "cell_type": "code",
   "execution_count": null,
   "id": "3b6a017f-f223-4659-a8ee-ce3b6ac8a7e0",
   "metadata": {},
   "outputs": [],
   "source": []
  },
  {
   "cell_type": "code",
   "execution_count": null,
   "id": "62d8e836-ca4b-4e7a-8336-eead76f8fedd",
   "metadata": {},
   "outputs": [],
   "source": []
  },
  {
   "cell_type": "code",
   "execution_count": null,
   "id": "f91eedad-9ef6-4071-a196-bdae46aefdc9",
   "metadata": {},
   "outputs": [],
   "source": []
  },
  {
   "cell_type": "code",
   "execution_count": null,
   "id": "56943a1a-e4c4-4e2c-a5e3-7aed3a451672",
   "metadata": {},
   "outputs": [],
   "source": []
  },
  {
   "cell_type": "code",
   "execution_count": null,
   "id": "1ffd2e05-44db-4371-a825-35b77d6c99c9",
   "metadata": {},
   "outputs": [],
   "source": []
  },
  {
   "cell_type": "code",
   "execution_count": null,
   "id": "f817a381-1e4d-497f-90b0-688581a5eca8",
   "metadata": {},
   "outputs": [],
   "source": []
  },
  {
   "cell_type": "code",
   "execution_count": null,
   "id": "062f712b-da9b-4943-99a7-cbcab80d0275",
   "metadata": {},
   "outputs": [],
   "source": []
  },
  {
   "cell_type": "code",
   "execution_count": null,
   "id": "5b683b54-5580-4659-895a-fb199cbc6f7e",
   "metadata": {},
   "outputs": [],
   "source": []
  },
  {
   "cell_type": "code",
   "execution_count": null,
   "id": "dcb3ca5d-a040-47be-8624-2f483839b941",
   "metadata": {},
   "outputs": [],
   "source": []
  }
 ],
 "metadata": {
  "kernelspec": {
   "display_name": "Python 3 (ipykernel)",
   "language": "python",
   "name": "python3"
  },
  "language_info": {
   "codemirror_mode": {
    "name": "ipython",
    "version": 3
   },
   "file_extension": ".py",
   "mimetype": "text/x-python",
   "name": "python",
   "nbconvert_exporter": "python",
   "pygments_lexer": "ipython3",
   "version": "3.7.12"
  }
 },
 "nbformat": 4,
 "nbformat_minor": 5
}
