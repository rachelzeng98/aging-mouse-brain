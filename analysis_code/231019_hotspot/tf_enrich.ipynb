{
 "cells": [
  {
   "cell_type": "code",
   "execution_count": 1,
   "id": "b7763c77-6fc1-46c1-9249-1bd46faa748f",
   "metadata": {
    "execution": {
     "iopub.execute_input": "2024-02-02T00:45:57.674003Z",
     "iopub.status.busy": "2024-02-02T00:45:57.673513Z",
     "iopub.status.idle": "2024-02-02T00:45:58.140004Z",
     "shell.execute_reply": "2024-02-02T00:45:58.139228Z",
     "shell.execute_reply.started": "2024-02-02T00:45:57.673975Z"
    },
    "tags": []
   },
   "outputs": [],
   "source": [
    "import pandas as pd\n",
    "import joblib "
   ]
  },
  {
   "cell_type": "code",
   "execution_count": 2,
   "id": "0a8e30d4-3a3c-4358-9534-00bd62114df9",
   "metadata": {
    "execution": {
     "iopub.execute_input": "2024-02-02T00:45:58.141962Z",
     "iopub.status.busy": "2024-02-02T00:45:58.141411Z",
     "iopub.status.idle": "2024-02-02T00:45:58.145318Z",
     "shell.execute_reply": "2024-02-02T00:45:58.144732Z",
     "shell.execute_reply.started": "2024-02-02T00:45:58.141933Z"
    },
    "tags": []
   },
   "outputs": [],
   "source": [
    "_type = 'Hypo'\n",
    "_dir = '500_result'\n",
    "ct = 'shared'"
   ]
  },
  {
   "cell_type": "code",
   "execution_count": 3,
   "id": "5c83badd-b619-4e20-9e70-c26fe327c322",
   "metadata": {
    "execution": {
     "iopub.execute_input": "2024-02-02T00:45:58.146392Z",
     "iopub.status.busy": "2024-02-02T00:45:58.146095Z",
     "iopub.status.idle": "2024-02-02T00:45:58.155393Z",
     "shell.execute_reply": "2024-02-02T00:45:58.154759Z",
     "shell.execute_reply.started": "2024-02-02T00:45:58.146370Z"
    },
    "tags": []
   },
   "outputs": [],
   "source": [
    "tf_genes = pd.read_csv('allTFs_mm.gene_info.csv')['gene_name'].unique().tolist()"
   ]
  },
  {
   "cell_type": "code",
   "execution_count": 4,
   "id": "ed5178ab-3e5b-4512-829d-fec05cac46b6",
   "metadata": {
    "execution": {
     "iopub.execute_input": "2024-02-02T00:45:58.156632Z",
     "iopub.status.busy": "2024-02-02T00:45:58.156286Z",
     "iopub.status.idle": "2024-02-02T00:45:58.168824Z",
     "shell.execute_reply": "2024-02-02T00:45:58.168172Z",
     "shell.execute_reply.started": "2024-02-02T00:45:58.156609Z"
    },
    "tags": []
   },
   "outputs": [],
   "source": [
    "overlap_df = pd.read_csv(f\"{_dir}/{_type}.{ct}.Hotspot.Overlap.Gene.bed\", \n",
    "                         sep = '\\t', header = None)"
   ]
  },
  {
   "cell_type": "code",
   "execution_count": 5,
   "id": "ed7d4c4d-dd35-484a-a1d7-648667a4207a",
   "metadata": {
    "execution": {
     "iopub.execute_input": "2024-02-02T00:45:58.170511Z",
     "iopub.status.busy": "2024-02-02T00:45:58.170145Z",
     "iopub.status.idle": "2024-02-02T00:45:58.177937Z",
     "shell.execute_reply": "2024-02-02T00:45:58.177381Z",
     "shell.execute_reply.started": "2024-02-02T00:45:58.170488Z"
    },
    "tags": []
   },
   "outputs": [
    {
     "data": {
      "text/plain": [
       "1901"
      ]
     },
     "execution_count": 5,
     "metadata": {},
     "output_type": "execute_result"
    }
   ],
   "source": [
    "hotspot_genes = overlap_df[7].unique().tolist()\n",
    "len(hotspot_genes)"
   ]
  },
  {
   "cell_type": "code",
   "execution_count": 6,
   "id": "3d228b64-b98f-41d6-b559-9185c0ea48f1",
   "metadata": {
    "execution": {
     "iopub.execute_input": "2024-02-02T00:45:58.184558Z",
     "iopub.status.busy": "2024-02-02T00:45:58.184332Z",
     "iopub.status.idle": "2024-02-02T00:45:58.189685Z",
     "shell.execute_reply": "2024-02-02T00:45:58.189184Z",
     "shell.execute_reply.started": "2024-02-02T00:45:58.184535Z"
    },
    "tags": []
   },
   "outputs": [
    {
     "data": {
      "text/plain": [
       "138"
      ]
     },
     "execution_count": 6,
     "metadata": {},
     "output_type": "execute_result"
    }
   ],
   "source": [
    "shared_gens = list(set(tf_genes) & set(hotspot_genes))\n",
    "len(shared_gens)"
   ]
  },
  {
   "cell_type": "code",
   "execution_count": null,
   "id": "dc058211-9d32-41d7-8542-732f0141bf54",
   "metadata": {},
   "outputs": [],
   "source": []
  },
  {
   "cell_type": "code",
   "execution_count": null,
   "id": "e4879eb5-2ab4-49b9-b82e-12d5a697d64b",
   "metadata": {},
   "outputs": [],
   "source": []
  },
  {
   "cell_type": "code",
   "execution_count": null,
   "id": "c216a049-61e3-4d7a-ab7d-d896e082cb61",
   "metadata": {},
   "outputs": [],
   "source": []
  },
  {
   "cell_type": "code",
   "execution_count": null,
   "id": "620b8b2c-0420-4643-b2a8-8db9c67fce00",
   "metadata": {},
   "outputs": [],
   "source": []
  }
 ],
 "metadata": {
  "kernelspec": {
   "display_name": "Python 3 (ipykernel)",
   "language": "python",
   "name": "python3"
  },
  "language_info": {
   "codemirror_mode": {
    "name": "ipython",
    "version": 3
   },
   "file_extension": ".py",
   "mimetype": "text/x-python",
   "name": "python",
   "nbconvert_exporter": "python",
   "pygments_lexer": "ipython3",
   "version": "3.7.12"
  }
 },
 "nbformat": 4,
 "nbformat_minor": 5
}
