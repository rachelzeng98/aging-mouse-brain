{
 "cells": [
  {
   "cell_type": "code",
   "execution_count": 1,
   "id": "e912cf01-f195-43c5-9c9e-b9a050c0ed40",
   "metadata": {
    "execution": {
     "iopub.execute_input": "2024-11-23T00:18:10.350709Z",
     "iopub.status.busy": "2024-11-23T00:18:10.350112Z",
     "iopub.status.idle": "2024-11-23T00:18:10.781981Z",
     "shell.execute_reply": "2024-11-23T00:18:10.780959Z",
     "shell.execute_reply.started": "2024-11-23T00:18:10.350653Z"
    },
    "tags": []
   },
   "outputs": [],
   "source": [
    "import pandas as pd\n",
    "import pathlib"
   ]
  },
  {
   "cell_type": "code",
   "execution_count": 2,
   "id": "2c5458c5-0788-4063-880a-a7a8e94b4cc3",
   "metadata": {
    "execution": {
     "iopub.execute_input": "2024-11-23T00:18:10.783534Z",
     "iopub.status.busy": "2024-11-23T00:18:10.783251Z",
     "iopub.status.idle": "2024-11-23T00:18:10.787172Z",
     "shell.execute_reply": "2024-11-23T00:18:10.786561Z",
     "shell.execute_reply.started": "2024-11-23T00:18:10.783514Z"
    },
    "tags": []
   },
   "outputs": [],
   "source": [
    "_dir = '/gale/netapp/home/wtian/refs/mouse/mm10/repeatmasker'"
   ]
  },
  {
   "cell_type": "markdown",
   "id": "b01d9b64-67ae-4339-840f-69209a446fbc",
   "metadata": {},
   "source": [
    "## class bed"
   ]
  },
  {
   "cell_type": "code",
   "execution_count": 4,
   "id": "c09acf56-34e3-4de7-9704-0d9ccc5894ba",
   "metadata": {
    "execution": {
     "iopub.execute_input": "2024-11-23T00:21:46.733911Z",
     "iopub.status.busy": "2024-11-23T00:21:46.733097Z",
     "iopub.status.idle": "2024-11-23T00:21:46.742723Z",
     "shell.execute_reply": "2024-11-23T00:21:46.741336Z",
     "shell.execute_reply.started": "2024-11-23T00:21:46.733836Z"
    },
    "tags": []
   },
   "outputs": [],
   "source": [
    "pathlib.Path('te_class_bed').mkdir(exist_ok = True)"
   ]
  },
  {
   "cell_type": "code",
   "execution_count": 6,
   "id": "7bdbc7d3-e944-4f0b-bfb9-3fc26ffda83a",
   "metadata": {
    "execution": {
     "iopub.execute_input": "2024-11-23T00:24:02.042173Z",
     "iopub.status.busy": "2024-11-23T00:24:02.041594Z",
     "iopub.status.idle": "2024-11-23T00:24:02.048777Z",
     "shell.execute_reply": "2024-11-23T00:24:02.047562Z",
     "shell.execute_reply.started": "2024-11-23T00:24:02.042119Z"
    },
    "tags": []
   },
   "outputs": [],
   "source": [
    "all_te_classes = ['DNA','LINE','SINE','LTR']\n",
    "all_te_class_bed = [f'{_dir}/mm10.repeatmasker.repClass-{te_class}.bed' for te_class in all_te_classes]"
   ]
  },
  {
   "cell_type": "code",
   "execution_count": 8,
   "id": "be14473b-3bc6-4301-bbe7-b9145208bdc4",
   "metadata": {
    "execution": {
     "iopub.execute_input": "2024-11-23T00:24:10.322669Z",
     "iopub.status.busy": "2024-11-23T00:24:10.321874Z",
     "iopub.status.idle": "2024-11-23T00:24:10.329250Z",
     "shell.execute_reply": "2024-11-23T00:24:10.327894Z",
     "shell.execute_reply.started": "2024-11-23T00:24:10.322611Z"
    },
    "tags": []
   },
   "outputs": [],
   "source": []
  },
  {
   "cell_type": "code",
   "execution_count": null,
   "id": "c1733ca9-eaa6-48c7-aac8-a730f315eac2",
   "metadata": {},
   "outputs": [],
   "source": []
  },
  {
   "cell_type": "markdown",
   "id": "e2e759ad-50cb-453e-af75-e9a871ebc257",
   "metadata": {},
   "source": [
    "## te subfamily"
   ]
  },
  {
   "cell_type": "code",
   "execution_count": 3,
   "id": "264891c7-1128-419a-8b00-4a091e8550bc",
   "metadata": {
    "execution": {
     "iopub.execute_input": "2024-11-23T00:18:11.090105Z",
     "iopub.status.busy": "2024-11-23T00:18:11.089481Z",
     "iopub.status.idle": "2024-11-23T00:18:11.095556Z",
     "shell.execute_reply": "2024-11-23T00:18:11.094562Z",
     "shell.execute_reply.started": "2024-11-23T00:18:11.090059Z"
    },
    "tags": []
   },
   "outputs": [],
   "source": [
    "pathlib.Path('te_subfamily_bed').mkdir(exist_ok = True)"
   ]
  },
  {
   "cell_type": "code",
   "execution_count": 8,
   "id": "54e83428-688b-4a9b-9aa2-d228d642a44b",
   "metadata": {
    "execution": {
     "iopub.execute_input": "2024-07-31T04:45:50.170374Z",
     "iopub.status.busy": "2024-07-31T04:45:50.169559Z",
     "iopub.status.idle": "2024-07-31T04:46:01.504967Z",
     "shell.execute_reply": "2024-07-31T04:46:01.504097Z",
     "shell.execute_reply.started": "2024-07-31T04:45:50.170282Z"
    },
    "tags": []
   },
   "outputs": [
    {
     "name": "stdout",
     "output_type": "stream",
     "text": [
      "DNA done\n",
      "LINE done\n",
      "SINE done\n",
      "LTR done\n"
     ]
    }
   ],
   "source": [
    "all_te_classes = ['DNA','LINE','SINE','LTR']\n",
    "\n",
    "for te_class in all_te_classes:\n",
    "    df = pd.read_csv(f'{_dir}/mm10.repeatmasker.repClass-{te_class}.bed', sep = '\\t', header = None)\n",
    "    for te_subclass, tmpdf in df.groupby(4):\n",
    "        tmpdf.to_csv(f'te_subfamily_bed/{te_subclass}.bed', sep = '\\t', index = None, header = None)\n",
    "    print(f'{te_class} done')"
   ]
  },
  {
   "cell_type": "code",
   "execution_count": null,
   "id": "a4b8338e-012c-40f7-826d-86753c7123dd",
   "metadata": {},
   "outputs": [],
   "source": []
  },
  {
   "cell_type": "code",
   "execution_count": null,
   "id": "71a8cffc-0055-4fa7-a283-fd0f8f3510b0",
   "metadata": {},
   "outputs": [],
   "source": []
  },
  {
   "cell_type": "code",
   "execution_count": null,
   "id": "d4de12cf-4f7b-44ef-a3d2-563845d49757",
   "metadata": {},
   "outputs": [],
   "source": []
  },
  {
   "cell_type": "code",
   "execution_count": null,
   "id": "7a09b06b-7b0a-4847-9c20-4d0198f8addd",
   "metadata": {},
   "outputs": [],
   "source": []
  },
  {
   "cell_type": "code",
   "execution_count": null,
   "id": "6eb56106-2f46-43fd-9f8d-e27e730f92fd",
   "metadata": {},
   "outputs": [],
   "source": []
  },
  {
   "cell_type": "code",
   "execution_count": null,
   "id": "9ad241be-ae8d-464c-8491-08f188ae60c3",
   "metadata": {},
   "outputs": [],
   "source": []
  },
  {
   "cell_type": "code",
   "execution_count": null,
   "id": "91bc0f05-01f1-4285-8244-23a6f3c80edb",
   "metadata": {},
   "outputs": [],
   "source": []
  },
  {
   "cell_type": "code",
   "execution_count": null,
   "id": "eb7926a2-5c1e-4495-9209-f9227f02ece8",
   "metadata": {},
   "outputs": [],
   "source": []
  },
  {
   "cell_type": "code",
   "execution_count": null,
   "id": "fe60d914-d3fe-4c73-918c-51e2fe56977d",
   "metadata": {},
   "outputs": [],
   "source": []
  },
  {
   "cell_type": "code",
   "execution_count": null,
   "id": "ea01f193-cba0-4cea-8d28-15634f51309f",
   "metadata": {},
   "outputs": [],
   "source": []
  },
  {
   "cell_type": "code",
   "execution_count": null,
   "id": "6fd1e3e9-cfde-4893-860f-7a235de64461",
   "metadata": {},
   "outputs": [],
   "source": []
  },
  {
   "cell_type": "code",
   "execution_count": null,
   "id": "141718bd-d573-4f0d-bc84-2a57cb091b8f",
   "metadata": {},
   "outputs": [],
   "source": []
  },
  {
   "cell_type": "code",
   "execution_count": null,
   "id": "fd9870c3-2b80-4c41-bf8f-d7fc71454d9e",
   "metadata": {},
   "outputs": [],
   "source": []
  },
  {
   "cell_type": "code",
   "execution_count": null,
   "id": "524a5c0d-de66-488e-a2fd-63355412c263",
   "metadata": {},
   "outputs": [],
   "source": []
  },
  {
   "cell_type": "code",
   "execution_count": null,
   "id": "4f241e1e-9717-4005-a620-2e1ed438b397",
   "metadata": {},
   "outputs": [],
   "source": []
  }
 ],
 "metadata": {
  "kernelspec": {
   "display_name": "Python 3 (ipykernel)",
   "language": "python",
   "name": "python3"
  },
  "language_info": {
   "codemirror_mode": {
    "name": "ipython",
    "version": 3
   },
   "file_extension": ".py",
   "mimetype": "text/x-python",
   "name": "python",
   "nbconvert_exporter": "python",
   "pygments_lexer": "ipython3",
   "version": "3.7.12"
  }
 },
 "nbformat": 4,
 "nbformat_minor": 5
}
