{
 "cells": [
  {
   "cell_type": "code",
   "execution_count": 5,
   "id": "3fd36af3-8cd9-4c13-a3ea-d094e3b5e1ba",
   "metadata": {
    "execution": {
     "iopub.execute_input": "2024-07-31T22:25:47.294082Z",
     "iopub.status.busy": "2024-07-31T22:25:47.293336Z",
     "iopub.status.idle": "2024-07-31T22:25:47.301951Z",
     "shell.execute_reply": "2024-07-31T22:25:47.300760Z",
     "shell.execute_reply.started": "2024-07-31T22:25:47.294011Z"
    },
    "tags": []
   },
   "outputs": [],
   "source": [
    "import subprocess\n",
    "import pandas as pd\n",
    "import glob\n",
    "import pathlib\n",
    "import seaborn as sns\n",
    "import matplotlib.pyplot as plt\n",
    "\n",
    "plt.rcParams['figure.dpi'] = 100\n",
    "plt.rcParams['savefig.dpi']=300\n",
    "plt.rcParams['pdf.fonttype']=42"
   ]
  },
  {
   "cell_type": "markdown",
   "id": "b7dc3271-28ba-451c-928d-47de1a5c1845",
   "metadata": {
    "jp-MarkdownHeadingCollapsed": true,
    "tags": []
   },
   "source": [
    "## run gat"
   ]
  },
  {
   "cell_type": "code",
   "execution_count": 2,
   "id": "be17ee6e-a9d2-47f6-8409-f655932292a8",
   "metadata": {
    "execution": {
     "iopub.execute_input": "2024-07-31T21:41:21.676297Z",
     "iopub.status.busy": "2024-07-31T21:41:21.676094Z",
     "iopub.status.idle": "2024-07-31T21:41:21.687818Z",
     "shell.execute_reply": "2024-07-31T21:41:21.687266Z",
     "shell.execute_reply.started": "2024-07-31T21:41:21.676277Z"
    },
    "tags": []
   },
   "outputs": [
    {
     "data": {
      "text/plain": [
       "1072"
      ]
     },
     "execution_count": 2,
     "metadata": {},
     "output_type": "execute_result"
    }
   ],
   "source": [
    "all_te_files = glob.glob(f\"te_subfamily_bed/*\")\n",
    "len(all_te_files)"
   ]
  },
  {
   "cell_type": "code",
   "execution_count": 3,
   "id": "6055307f-67ef-44d2-91fd-2fd4f0660eb4",
   "metadata": {
    "execution": {
     "iopub.execute_input": "2024-07-31T21:41:21.688597Z",
     "iopub.status.busy": "2024-07-31T21:41:21.688402Z",
     "iopub.status.idle": "2024-07-31T21:41:21.691677Z",
     "shell.execute_reply": "2024-07-31T21:41:21.690963Z",
     "shell.execute_reply.started": "2024-07-31T21:41:21.688579Z"
    },
    "tags": []
   },
   "outputs": [],
   "source": [
    "_type = 'Hyper'\n",
    "out_dir = f'{_type}_te_subfamily_result'"
   ]
  },
  {
   "cell_type": "code",
   "execution_count": 4,
   "id": "71d9d43f-a2fc-4a75-8734-2f1c8be1c379",
   "metadata": {
    "execution": {
     "iopub.execute_input": "2024-07-31T21:41:21.694582Z",
     "iopub.status.busy": "2024-07-31T21:41:21.694386Z",
     "iopub.status.idle": "2024-07-31T21:41:21.706822Z",
     "shell.execute_reply": "2024-07-31T21:41:21.706256Z",
     "shell.execute_reply.started": "2024-07-31T21:41:21.694563Z"
    },
    "tags": []
   },
   "outputs": [],
   "source": [
    "import pathlib\n",
    "pathlib.Path(f'{out_dir}').mkdir(exist_ok = True)\n",
    "\n",
    "with open(f'{_type}_enrich_rep_subclass.sh', 'w') as f:\n",
    "    count = 0  # Initialize counter\n",
    "    for file in all_te_files:\n",
    "        _tmp_class = pathlib.Path(file).name.split('.')[0]\n",
    "        command = f\"gat-run.py --segments {_type}.bed \\\n",
    "--annotations {file} \\\n",
    "--workspace mm10.chrom.bed \\\n",
    "--ignore-segment-tracks \\\n",
    "--num-samples=10001 > {out_dir}/gat-{_tmp_class}-rep.rlt     &\"\n",
    "        f.write(command + '\\n')\n",
    "        count += 1  # Increment counter\n",
    "\n",
    "        # Check if count has reached 30\n",
    "        if count == 40:\n",
    "            f.write('wait\\n')  # Write wait command\n",
    "            count = 0  # Reset counter\n",
    "\n",
    "    # Ensure the final wait if the last batch has less than 30 files\n",
    "    if count != 0:\n",
    "        f.write('wait\\n')\n"
   ]
  },
  {
   "cell_type": "markdown",
   "id": "91d9e080-f614-4549-b53a-4a176fe852c6",
   "metadata": {},
   "source": [
    "## plot results"
   ]
  },
  {
   "cell_type": "code",
   "execution_count": 6,
   "id": "e4ee3795-9df4-4a12-b52a-42bcbd66922c",
   "metadata": {
    "execution": {
     "iopub.execute_input": "2024-07-31T22:25:48.448998Z",
     "iopub.status.busy": "2024-07-31T22:25:48.448303Z",
     "iopub.status.idle": "2024-07-31T22:25:55.089931Z",
     "shell.execute_reply": "2024-07-31T22:25:55.088686Z",
     "shell.execute_reply.started": "2024-07-31T22:25:48.448942Z"
    },
    "tags": []
   },
   "outputs": [],
   "source": [
    "all_results_files = glob.glob(f'Hypo_te_subfamily_result/*.rlt')\n",
    "\n",
    "results = []\n",
    "for file in all_results_files:\n",
    "    _class = pathlib.Path(file).name.split('-rep')[0].split('gat-')[-1]\n",
    "    try:\n",
    "        tmpdf = pd.read_csv(file, comment = '#', sep = '\\t')\n",
    "    except Exception as e:\n",
    "        continue\n",
    "    tmpdf['class'] = _class\n",
    "    results.append(tmpdf)\n",
    "results = pd.concat(results)"
   ]
  },
  {
   "cell_type": "code",
   "execution_count": 14,
   "id": "2ec7cd4f-4dd3-4c9e-b95f-88dd1cbff850",
   "metadata": {
    "execution": {
     "iopub.execute_input": "2024-07-31T22:26:44.607673Z",
     "iopub.status.busy": "2024-07-31T22:26:44.607212Z",
     "iopub.status.idle": "2024-07-31T22:26:44.637909Z",
     "shell.execute_reply": "2024-07-31T22:26:44.637003Z",
     "shell.execute_reply.started": "2024-07-31T22:26:44.607643Z"
    },
    "tags": []
   },
   "outputs": [
    {
     "data": {
      "text/html": [
       "<div>\n",
       "<style scoped>\n",
       "    .dataframe tbody tr th:only-of-type {\n",
       "        vertical-align: middle;\n",
       "    }\n",
       "\n",
       "    .dataframe tbody tr th {\n",
       "        vertical-align: top;\n",
       "    }\n",
       "\n",
       "    .dataframe thead th {\n",
       "        text-align: right;\n",
       "    }\n",
       "</style>\n",
       "<table border=\"1\" class=\"dataframe\">\n",
       "  <thead>\n",
       "    <tr style=\"text-align: right;\">\n",
       "      <th></th>\n",
       "      <th>observed</th>\n",
       "      <th>expected</th>\n",
       "      <th>pvalue</th>\n",
       "      <th>qvalue</th>\n",
       "      <th>fold</th>\n",
       "    </tr>\n",
       "    <tr>\n",
       "      <th>class</th>\n",
       "      <th></th>\n",
       "      <th></th>\n",
       "      <th></th>\n",
       "      <th></th>\n",
       "      <th></th>\n",
       "    </tr>\n",
       "  </thead>\n",
       "  <tbody>\n",
       "    <tr>\n",
       "      <th>MIRc</th>\n",
       "      <td>1783.0</td>\n",
       "      <td>855.52865</td>\n",
       "      <td>0.0045</td>\n",
       "      <td>0.004799</td>\n",
       "      <td>2.084200</td>\n",
       "    </tr>\n",
       "    <tr>\n",
       "      <th>L2b</th>\n",
       "      <td>1627.0</td>\n",
       "      <td>595.89130</td>\n",
       "      <td>0.0030</td>\n",
       "      <td>0.005999</td>\n",
       "      <td>2.730364</td>\n",
       "    </tr>\n",
       "    <tr>\n",
       "      <th>IAPLTR2_Mm</th>\n",
       "      <td>1428.0</td>\n",
       "      <td>202.89250</td>\n",
       "      <td>0.0009</td>\n",
       "      <td>0.001800</td>\n",
       "      <td>7.038210</td>\n",
       "    </tr>\n",
       "    <tr>\n",
       "      <th>MuRRS-int</th>\n",
       "      <td>2136.5</td>\n",
       "      <td>166.81660</td>\n",
       "      <td>0.0001</td>\n",
       "      <td>0.000100</td>\n",
       "      <td>12.726505</td>\n",
       "    </tr>\n",
       "    <tr>\n",
       "      <th>L1MA5A</th>\n",
       "      <td>1257.0</td>\n",
       "      <td>140.09800</td>\n",
       "      <td>0.0011</td>\n",
       "      <td>0.002200</td>\n",
       "      <td>8.972291</td>\n",
       "    </tr>\n",
       "  </tbody>\n",
       "</table>\n",
       "</div>"
      ],
      "text/plain": [
       "            observed   expected  pvalue    qvalue       fold\n",
       "class                                                       \n",
       "MIRc          1783.0  855.52865  0.0045  0.004799   2.084200\n",
       "L2b           1627.0  595.89130  0.0030  0.005999   2.730364\n",
       "IAPLTR2_Mm    1428.0  202.89250  0.0009  0.001800   7.038210\n",
       "MuRRS-int     2136.5  166.81660  0.0001  0.000100  12.726505\n",
       "L1MA5A        1257.0  140.09800  0.0011  0.002200   8.972291"
      ]
     },
     "execution_count": 14,
     "metadata": {},
     "output_type": "execute_result"
    }
   ],
   "source": [
    "toplot = results[['observed','expected', 'pvalue','qvalue','class']].copy() # 'annotation',\n",
    "toplot['fold'] = toplot['observed'] / toplot['expected']\n",
    "toplot = toplot[(toplot['qvalue'] < 1e-2) & (toplot['fold'] > 1)].sort_values('fold', ascending = False)\n",
    "toplot = toplot.groupby('class').mean()\n",
    "toplot = toplot.sort_values('expected', ascending = False)\n",
    "toplot.head()"
   ]
  },
  {
   "cell_type": "code",
   "execution_count": 15,
   "id": "0144c3ee-fc00-42f1-8374-226c6f3d78b9",
   "metadata": {
    "execution": {
     "iopub.execute_input": "2024-07-31T22:26:45.087333Z",
     "iopub.status.busy": "2024-07-31T22:26:45.086688Z",
     "iopub.status.idle": "2024-07-31T22:26:45.093596Z",
     "shell.execute_reply": "2024-07-31T22:26:45.092650Z",
     "shell.execute_reply.started": "2024-07-31T22:26:45.087271Z"
    },
    "tags": []
   },
   "outputs": [],
   "source": [
    "te_order = toplot.sort_values('expected', ascending = False)['expected'].index"
   ]
  },
  {
   "cell_type": "code",
   "execution_count": 16,
   "id": "4affde59-8112-412b-96b3-3d268236a5e9",
   "metadata": {
    "execution": {
     "iopub.execute_input": "2024-07-31T22:26:45.511086Z",
     "iopub.status.busy": "2024-07-31T22:26:45.510411Z",
     "iopub.status.idle": "2024-07-31T22:26:45.516691Z",
     "shell.execute_reply": "2024-07-31T22:26:45.515412Z",
     "shell.execute_reply.started": "2024-07-31T22:26:45.511035Z"
    },
    "tags": []
   },
   "outputs": [],
   "source": [
    "# all_te_files = glob.glob(f\"te_subfamily_bed/*\")\n",
    "# all_te_files[:2]\n",
    "\n",
    "# subfamily_info = {}\n",
    "# for file_path in all_te_files:\n",
    "#     tmpdf = pd.read_csv(file_path, sep = '\\t', header = None)\n",
    "#     tmpdf = tmpdf[tmpdf[4].isin(toplot.index)]\n",
    "#     tmpdf['unique_id'] = tmpdf[5] + '.' + tmpdf[4] #'.' + tmpdf[6] + \n",
    "#     if tmpdf.shape[0] != 0:\n",
    "#         new_id = tmpdf['unique_id'].unique()[0]\n",
    "#         subfamily_info[new_id.split('.')[-1]] = new_id"
   ]
  },
  {
   "cell_type": "code",
   "execution_count": 17,
   "id": "3175b047-6092-4fe9-8cbf-e865b482e60e",
   "metadata": {
    "execution": {
     "iopub.execute_input": "2024-07-31T22:26:45.954907Z",
     "iopub.status.busy": "2024-07-31T22:26:45.954305Z",
     "iopub.status.idle": "2024-07-31T22:26:45.962608Z",
     "shell.execute_reply": "2024-07-31T22:26:45.961667Z",
     "shell.execute_reply.started": "2024-07-31T22:26:45.954857Z"
    },
    "tags": []
   },
   "outputs": [],
   "source": [
    "#toplot.index = toplot.index.map(subfamily_info)\n",
    "stat_text_1 = toplot.apply(lambda x:f\"FC={x['fold']:.1f}\\np<{x['qvalue']:.0e}\", axis=1).tolist()"
   ]
  },
  {
   "cell_type": "code",
   "execution_count": 18,
   "id": "2f9e426e-860b-460b-8b81-d8476ba363fc",
   "metadata": {
    "execution": {
     "iopub.execute_input": "2024-07-31T22:26:46.223482Z",
     "iopub.status.busy": "2024-07-31T22:26:46.223021Z",
     "iopub.status.idle": "2024-07-31T22:26:46.236852Z",
     "shell.execute_reply": "2024-07-31T22:26:46.236215Z",
     "shell.execute_reply.started": "2024-07-31T22:26:46.223454Z"
    },
    "tags": []
   },
   "outputs": [
    {
     "data": {
      "text/html": [
       "<div>\n",
       "<style scoped>\n",
       "    .dataframe tbody tr th:only-of-type {\n",
       "        vertical-align: middle;\n",
       "    }\n",
       "\n",
       "    .dataframe tbody tr th {\n",
       "        vertical-align: top;\n",
       "    }\n",
       "\n",
       "    .dataframe thead th {\n",
       "        text-align: right;\n",
       "    }\n",
       "</style>\n",
       "<table border=\"1\" class=\"dataframe\">\n",
       "  <thead>\n",
       "    <tr style=\"text-align: right;\">\n",
       "      <th></th>\n",
       "      <th>TE_Info</th>\n",
       "      <th>Group</th>\n",
       "      <th>Count</th>\n",
       "    </tr>\n",
       "  </thead>\n",
       "  <tbody>\n",
       "    <tr>\n",
       "      <th>0</th>\n",
       "      <td>MIRc</td>\n",
       "      <td>observed</td>\n",
       "      <td>1783.0</td>\n",
       "    </tr>\n",
       "    <tr>\n",
       "      <th>1</th>\n",
       "      <td>L2b</td>\n",
       "      <td>observed</td>\n",
       "      <td>1627.0</td>\n",
       "    </tr>\n",
       "    <tr>\n",
       "      <th>2</th>\n",
       "      <td>IAPLTR2_Mm</td>\n",
       "      <td>observed</td>\n",
       "      <td>1428.0</td>\n",
       "    </tr>\n",
       "    <tr>\n",
       "      <th>3</th>\n",
       "      <td>MuRRS-int</td>\n",
       "      <td>observed</td>\n",
       "      <td>2136.5</td>\n",
       "    </tr>\n",
       "    <tr>\n",
       "      <th>4</th>\n",
       "      <td>L1MA5A</td>\n",
       "      <td>observed</td>\n",
       "      <td>1257.0</td>\n",
       "    </tr>\n",
       "  </tbody>\n",
       "</table>\n",
       "</div>"
      ],
      "text/plain": [
       "      TE_Info     Group   Count\n",
       "0        MIRc  observed  1783.0\n",
       "1         L2b  observed  1627.0\n",
       "2  IAPLTR2_Mm  observed  1428.0\n",
       "3   MuRRS-int  observed  2136.5\n",
       "4      L1MA5A  observed  1257.0"
      ]
     },
     "execution_count": 18,
     "metadata": {},
     "output_type": "execute_result"
    }
   ],
   "source": [
    "use_toplot = toplot.drop(columns = ['fold','qvalue','pvalue'])\n",
    "use_toplot['TE_Info'] = use_toplot.index\n",
    "\n",
    "use_toplot = use_toplot.melt(id_vars = 'TE_Info')\n",
    "use_toplot.columns = ['TE_Info', 'Group','Count']\n",
    "use_toplot.head()"
   ]
  },
  {
   "cell_type": "code",
   "execution_count": 19,
   "id": "b168210a-fc66-458e-8e20-c251bee5ca60",
   "metadata": {
    "execution": {
     "iopub.execute_input": "2024-07-31T22:26:46.739528Z",
     "iopub.status.busy": "2024-07-31T22:26:46.738851Z",
     "iopub.status.idle": "2024-07-31T22:26:46.746241Z",
     "shell.execute_reply": "2024-07-31T22:26:46.744967Z",
     "shell.execute_reply.started": "2024-07-31T22:26:46.739472Z"
    },
    "tags": []
   },
   "outputs": [],
   "source": [
    "palette = {'observed':'#6495ED','expected':'lightgrey'}"
   ]
  },
  {
   "cell_type": "code",
   "execution_count": null,
   "id": "44af6ff3-a35a-4002-8256-4eb678f86a88",
   "metadata": {
    "execution": {
     "iopub.execute_input": "2024-07-31T22:34:59.347563Z",
     "iopub.status.busy": "2024-07-31T22:34:59.346834Z"
    },
    "tags": []
   },
   "outputs": [
    {
     "data": {
      "text/plain": [
       "Text(0.5, 0.98, 'TE Enrichment in Aging-Hypo Hotspot')"
      ]
     },
     "execution_count": 24,
     "metadata": {},
     "output_type": "execute_result"
    }
   ],
   "source": [
    "x='TE_Info'\n",
    "y='Count'\n",
    "hue='Group'\n",
    "    \n",
    "fig, ax = plt.subplots(figsize = (6,3), dpi = 300)\n",
    "ax = sns.barplot(data =use_toplot, \n",
    "                 order = te_order,\n",
    "                 x=x, \n",
    "                 y=y, \n",
    "                 hue=hue, \n",
    "                 palette = palette)\n",
    "\n",
    "for x,(txt, y) in enumerate(zip(stat_text_1, use_toplot.groupby('TE_Info').mean()['Count']/1.2)):\n",
    "    plt.text(x, y, txt, fontsize=3,va = 'top',ha='center',weight='bold')\n",
    "\n",
    "plt.xticks(rotation=90)\n",
    "ax.set_yscale('log')\n",
    "ax.legend(loc='upper left', bbox_to_anchor=(1, 1))\n",
    "plt.suptitle('TE Enrichment in Aging-Hypo Hotspot')\n",
    "#plt.savefig(f\"hotspot.enrich.pdf\", bbox_inches='tight')\n",
    "#plt.show()"
   ]
  },
  {
   "cell_type": "code",
   "execution_count": null,
   "id": "8e8fd39a-4d06-4cd8-861b-e9cd7b5f3279",
   "metadata": {},
   "outputs": [],
   "source": []
  },
  {
   "cell_type": "code",
   "execution_count": null,
   "id": "0652c5e9-b1e9-4419-8502-25ff744bc45e",
   "metadata": {},
   "outputs": [],
   "source": []
  }
 ],
 "metadata": {
  "kernelspec": {
   "display_name": "Python 3 (ipykernel)",
   "language": "python",
   "name": "python3"
  },
  "language_info": {
   "codemirror_mode": {
    "name": "ipython",
    "version": 3
   },
   "file_extension": ".py",
   "mimetype": "text/x-python",
   "name": "python",
   "nbconvert_exporter": "python",
   "pygments_lexer": "ipython3",
   "version": "3.7.12"
  }
 },
 "nbformat": 4,
 "nbformat_minor": 5
}
