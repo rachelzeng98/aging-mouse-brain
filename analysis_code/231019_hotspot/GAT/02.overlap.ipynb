{
 "cells": [
  {
   "cell_type": "code",
   "execution_count": 34,
   "id": "5548f10b-2ad4-4a59-8252-6d5bb61d0bf9",
   "metadata": {
    "execution": {
     "iopub.execute_input": "2024-07-31T22:28:03.336275Z",
     "iopub.status.busy": "2024-07-31T22:28:03.335591Z",
     "iopub.status.idle": "2024-07-31T22:28:03.341816Z",
     "shell.execute_reply": "2024-07-31T22:28:03.340642Z",
     "shell.execute_reply.started": "2024-07-31T22:28:03.336207Z"
    },
    "tags": []
   },
   "outputs": [],
   "source": [
    "import subprocess"
   ]
  },
  {
   "cell_type": "code",
   "execution_count": 47,
   "id": "f9c5a8e0-eba1-48a2-9ad1-930b71a6909f",
   "metadata": {
    "execution": {
     "iopub.execute_input": "2024-07-31T22:35:54.150285Z",
     "iopub.status.busy": "2024-07-31T22:35:54.149505Z",
     "iopub.status.idle": "2024-07-31T22:35:54.156751Z",
     "shell.execute_reply": "2024-07-31T22:35:54.155387Z",
     "shell.execute_reply.started": "2024-07-31T22:35:54.150214Z"
    },
    "tags": []
   },
   "outputs": [],
   "source": [
    "te_subclass = 'LTR75B'\n",
    "_type = 'Hypo'"
   ]
  },
  {
   "cell_type": "code",
   "execution_count": 48,
   "id": "06388083-464d-40fb-a3fb-f00c0223e61d",
   "metadata": {
    "execution": {
     "iopub.execute_input": "2024-07-31T22:35:54.401911Z",
     "iopub.status.busy": "2024-07-31T22:35:54.400737Z",
     "iopub.status.idle": "2024-07-31T22:35:54.407168Z",
     "shell.execute_reply": "2024-07-31T22:35:54.406197Z",
     "shell.execute_reply.started": "2024-07-31T22:35:54.401848Z"
    },
    "tags": []
   },
   "outputs": [],
   "source": [
    "te_bed = f\"te_subfamily_bed/{te_subclass}.bed\"\n",
    "hotspot_bed = f\"{_type}.bed\""
   ]
  },
  {
   "cell_type": "code",
   "execution_count": 49,
   "id": "9202f562-e429-40b1-a0d7-a24b043f44c6",
   "metadata": {
    "execution": {
     "iopub.execute_input": "2024-07-31T22:35:54.651411Z",
     "iopub.status.busy": "2024-07-31T22:35:54.650726Z",
     "iopub.status.idle": "2024-07-31T22:35:54.657518Z",
     "shell.execute_reply": "2024-07-31T22:35:54.656335Z",
     "shell.execute_reply.started": "2024-07-31T22:35:54.651352Z"
    },
    "tags": []
   },
   "outputs": [],
   "source": [
    "command = f\"bedtools intersect -a {te_bed} -b {hotspot_bed} -wa -wb | head -n 10\""
   ]
  },
  {
   "cell_type": "code",
   "execution_count": 50,
   "id": "c9bc5b04-6134-450f-9dd8-2e73a7cc9d1e",
   "metadata": {
    "execution": {
     "iopub.execute_input": "2024-07-31T22:35:54.933519Z",
     "iopub.status.busy": "2024-07-31T22:35:54.933042Z",
     "iopub.status.idle": "2024-07-31T22:35:54.967985Z",
     "shell.execute_reply": "2024-07-31T22:35:54.966504Z",
     "shell.execute_reply.started": "2024-07-31T22:35:54.933486Z"
    },
    "tags": []
   },
   "outputs": [
    {
     "name": "stdout",
     "output_type": "stream",
     "text": [
      "chr3\t36211172\t36211550\t-\tLTR75B\tLTR\tERVL\tchr3\t36211000\t36211500\tHypo.542\n"
     ]
    },
    {
     "data": {
      "text/plain": [
       "CompletedProcess(args='bedtools intersect -a te_subfamily_bed/LTR75B.bed -b Hypo.bed -wa -wb | head -n 10', returncode=0)"
      ]
     },
     "execution_count": 50,
     "metadata": {},
     "output_type": "execute_result"
    }
   ],
   "source": [
    "subprocess.run(command, shell = True)"
   ]
  },
  {
   "cell_type": "code",
   "execution_count": null,
   "id": "c369baf0-4c20-41ba-a30b-1fd790d06415",
   "metadata": {},
   "outputs": [],
   "source": []
  },
  {
   "cell_type": "code",
   "execution_count": null,
   "id": "d5930c9e-fdc2-43ba-baaf-7e53ded6679f",
   "metadata": {},
   "outputs": [],
   "source": []
  },
  {
   "cell_type": "code",
   "execution_count": null,
   "id": "bec4b838-1d45-4003-ac97-94d526fe8186",
   "metadata": {},
   "outputs": [],
   "source": []
  },
  {
   "cell_type": "code",
   "execution_count": null,
   "id": "bac77785-aeaa-4bdd-9d71-259e36b0a11b",
   "metadata": {},
   "outputs": [],
   "source": []
  },
  {
   "cell_type": "code",
   "execution_count": null,
   "id": "3459d753-312d-4c1c-b026-e4ca103d53be",
   "metadata": {},
   "outputs": [],
   "source": []
  },
  {
   "cell_type": "code",
   "execution_count": null,
   "id": "0d71325a-745e-4460-a507-90b287d3ed36",
   "metadata": {},
   "outputs": [],
   "source": []
  },
  {
   "cell_type": "code",
   "execution_count": null,
   "id": "b46728be-06b3-4d2b-aa60-ab68fd9c402a",
   "metadata": {},
   "outputs": [],
   "source": []
  },
  {
   "cell_type": "code",
   "execution_count": null,
   "id": "5cbdcb85-5e31-4067-a528-5ab6765d4665",
   "metadata": {},
   "outputs": [],
   "source": []
  },
  {
   "cell_type": "code",
   "execution_count": null,
   "id": "3d47182d-8baa-423f-9854-06e31484de44",
   "metadata": {},
   "outputs": [],
   "source": []
  },
  {
   "cell_type": "code",
   "execution_count": null,
   "id": "fe5e43a3-2812-44e2-b525-12c5bef774c8",
   "metadata": {},
   "outputs": [],
   "source": []
  },
  {
   "cell_type": "code",
   "execution_count": null,
   "id": "8b828dac-1540-4d7b-8427-b38ed1012a30",
   "metadata": {},
   "outputs": [],
   "source": []
  }
 ],
 "metadata": {
  "kernelspec": {
   "display_name": "Python 3 (ipykernel)",
   "language": "python",
   "name": "python3"
  },
  "language_info": {
   "codemirror_mode": {
    "name": "ipython",
    "version": 3
   },
   "file_extension": ".py",
   "mimetype": "text/x-python",
   "name": "python",
   "nbconvert_exporter": "python",
   "pygments_lexer": "ipython3",
   "version": "3.7.12"
  }
 },
 "nbformat": 4,
 "nbformat_minor": 5
}
