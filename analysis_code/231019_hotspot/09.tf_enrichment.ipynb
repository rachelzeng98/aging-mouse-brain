{
 "cells": [
  {
   "cell_type": "code",
   "execution_count": 21,
   "id": "e26ad1a2-9ef0-4dee-b179-018a6ee4df62",
   "metadata": {
    "execution": {
     "iopub.execute_input": "2024-01-29T21:13:05.932844Z",
     "iopub.status.busy": "2024-01-29T21:13:05.932491Z",
     "iopub.status.idle": "2024-01-29T21:13:07.403609Z",
     "shell.execute_reply": "2024-01-29T21:13:07.403134Z",
     "shell.execute_reply.started": "2024-01-29T21:13:05.932822Z"
    },
    "tags": []
   },
   "outputs": [],
   "source": [
    "import re\n",
    "import os\n",
    "import glob\n",
    "import pandas as pd\n",
    "import numpy as np\n",
    "from collections import defaultdict\n",
    "import matplotlib.pyplot as plt\n",
    "import matplotlib\n",
    "matplotlib.rc('pdf', fonttype=42)\n",
    "import seaborn as sns\n",
    "from scipy import stats\n",
    "import seaborn as sns\n",
    "import matplotlib.pyplot as plt\n",
    "from collections import defaultdict\n",
    "from tqdm import tqdm\n",
    "from ALLCools.plot import *"
   ]
  },
  {
   "cell_type": "markdown",
   "id": "2403d9c2-4890-49c4-ae6e-e5536e40fed7",
   "metadata": {},
   "source": [
    "## perform motif enrichment"
   ]
  },
  {
   "cell_type": "code",
   "execution_count": 4,
   "id": "c42094ba-c7e7-4f6e-9f6c-6555e834edeb",
   "metadata": {
    "execution": {
     "iopub.execute_input": "2024-01-29T19:29:40.755317Z",
     "iopub.status.busy": "2024-01-29T19:29:40.754934Z",
     "iopub.status.idle": "2024-01-29T19:29:40.759287Z",
     "shell.execute_reply": "2024-01-29T19:29:40.758665Z",
     "shell.execute_reply.started": "2024-01-29T19:29:40.755292Z"
    },
    "tags": []
   },
   "outputs": [],
   "source": [
    "_dir = '500_result'\n",
    "ct_list = ['shared', 'OPC_NN']\n",
    "type_list = ['Hypo','Hyper']"
   ]
  },
  {
   "cell_type": "code",
   "execution_count": 5,
   "id": "1115ac77-faa4-4df3-af3d-d16c264d7fe7",
   "metadata": {
    "execution": {
     "iopub.execute_input": "2024-01-29T19:30:17.187264Z",
     "iopub.status.busy": "2024-01-29T19:30:17.186904Z",
     "iopub.status.idle": "2024-01-29T19:30:17.190785Z",
     "shell.execute_reply": "2024-01-29T19:30:17.190270Z",
     "shell.execute_reply.started": "2024-01-29T19:30:17.187241Z"
    },
    "tags": []
   },
   "outputs": [],
   "source": [
    "groups = [f'{_ct}.{_type}' for _ct in ct_list for _type in type_list]"
   ]
  },
  {
   "cell_type": "code",
   "execution_count": 6,
   "id": "ce1a47e2-3372-47e1-b26d-7a7795fd4040",
   "metadata": {
    "execution": {
     "iopub.execute_input": "2024-01-29T19:30:20.433228Z",
     "iopub.status.busy": "2024-01-29T19:30:20.432913Z",
     "iopub.status.idle": "2024-01-29T19:30:20.438978Z",
     "shell.execute_reply": "2024-01-29T19:30:20.438508Z",
     "shell.execute_reply.started": "2024-01-29T19:30:20.433207Z"
    },
    "tags": []
   },
   "outputs": [
    {
     "data": {
      "text/plain": [
       "['shared.Hypo', 'shared.Hyper', 'OPC_NN.Hypo', 'OPC_NN.Hyper']"
      ]
     },
     "execution_count": 6,
     "metadata": {},
     "output_type": "execute_result"
    }
   ],
   "source": [
    "groups"
   ]
  },
  {
   "cell_type": "code",
   "execution_count": 11,
   "id": "df37d247-d1c4-45b6-9256-8990c52ed9d7",
   "metadata": {
    "execution": {
     "iopub.execute_input": "2024-01-29T19:31:59.548360Z",
     "iopub.status.busy": "2024-01-29T19:31:59.547961Z",
     "iopub.status.idle": "2024-01-29T19:31:59.551759Z",
     "shell.execute_reply": "2024-01-29T19:31:59.551118Z",
     "shell.execute_reply.started": "2024-01-29T19:31:59.548333Z"
    },
    "tags": []
   },
   "outputs": [],
   "source": [
    "#! mkdir motif_result"
   ]
  },
  {
   "cell_type": "code",
   "execution_count": null,
   "id": "c08ebdd3-2ee6-4d24-94fa-fc02f7c8c599",
   "metadata": {},
   "outputs": [],
   "source": [
    "findMotifsGenome.pl {bedfile} mm10 {outdir}/motif_{prefix} -size 200 &\", file=motif_fh"
   ]
  },
  {
   "cell_type": "code",
   "execution_count": 20,
   "id": "71902440-c52b-48cc-95cf-451e4b3716c6",
   "metadata": {
    "execution": {
     "iopub.execute_input": "2024-01-29T19:43:53.806707Z",
     "iopub.status.busy": "2024-01-29T19:43:53.806334Z",
     "iopub.status.idle": "2024-01-29T19:43:53.811545Z",
     "shell.execute_reply": "2024-01-29T19:43:53.811040Z",
     "shell.execute_reply.started": "2024-01-29T19:43:53.806679Z"
    },
    "tags": []
   },
   "outputs": [],
   "source": [
    "with open(f'homer.sh', 'w') as file:\n",
    "    for group in groups:\n",
    "        _ct, _type = group.split('.')\n",
    "        command = f\"findMotifsGenome.pl {_dir}/{_type}.hotspot.{_ct}.bed mm10 motif_result/motif_{_type}.{_ct} -size 200 &\"\n",
    "        #command = f\"annotatePeaks.pl {_dir}/{_type}.hotspot.{_ct}.bed mm10 > motif_result/{_type}.{_ct}.annotated.txt\"\n",
    "        file.write(command)\n",
    "        file.write('\\n')"
   ]
  },
  {
   "cell_type": "markdown",
   "id": "f98d7cd6-0984-4e9e-9765-398890fb3110",
   "metadata": {},
   "source": [
    "## plot"
   ]
  },
  {
   "cell_type": "code",
   "execution_count": 17,
   "id": "4068453b-e732-4cc0-9a5e-c6750867e790",
   "metadata": {
    "execution": {
     "iopub.execute_input": "2024-01-29T19:36:45.340669Z",
     "iopub.status.busy": "2024-01-29T19:36:45.340284Z",
     "iopub.status.idle": "2024-01-29T19:36:45.343700Z",
     "shell.execute_reply": "2024-01-29T19:36:45.343121Z",
     "shell.execute_reply.started": "2024-01-29T19:36:45.340640Z"
    },
    "tags": []
   },
   "outputs": [],
   "source": [
    "_type = 'Hypo'\n",
    "_ct = 'shared'"
   ]
  },
  {
   "cell_type": "code",
   "execution_count": 19,
   "id": "d2ad5909-cfc5-4fea-9771-243241e5cd15",
   "metadata": {
    "execution": {
     "iopub.execute_input": "2024-01-29T19:41:09.258238Z",
     "iopub.status.busy": "2024-01-29T19:41:09.257853Z",
     "iopub.status.idle": "2024-01-29T19:41:09.261118Z",
     "shell.execute_reply": "2024-01-29T19:41:09.260561Z",
     "shell.execute_reply.started": "2024-01-29T19:41:09.258215Z"
    },
    "tags": []
   },
   "outputs": [],
   "source": [
    "# result_df = pd.read_csv(f'motif_result/{_type}.{_ct}.annotated.txt')"
   ]
  },
  {
   "cell_type": "code",
   "execution_count": 23,
   "id": "9cf0f7f8-7338-4ce7-a529-378e1d33fc1f",
   "metadata": {
    "execution": {
     "iopub.execute_input": "2024-01-29T21:14:09.782520Z",
     "iopub.status.busy": "2024-01-29T21:14:09.782245Z",
     "iopub.status.idle": "2024-01-29T21:14:09.785072Z",
     "shell.execute_reply": "2024-01-29T21:14:09.784648Z",
     "shell.execute_reply.started": "2024-01-29T21:14:09.782499Z"
    }
   },
   "outputs": [],
   "source": [
    "p_value_cutoff = 0.01\n",
    "min_fc = 1.2"
   ]
  },
  {
   "cell_type": "code",
   "execution_count": 22,
   "id": "c63e1a48-d788-4794-8336-995f3471a42c",
   "metadata": {
    "execution": {
     "iopub.execute_input": "2024-01-29T21:14:08.483353Z",
     "iopub.status.busy": "2024-01-29T21:14:08.482968Z",
     "iopub.status.idle": "2024-01-29T21:14:08.487722Z",
     "shell.execute_reply": "2024-01-29T21:14:08.487298Z",
     "shell.execute_reply.started": "2024-01-29T21:14:08.483330Z"
    }
   },
   "outputs": [
    {
     "data": {
      "text/plain": [
       "4"
      ]
     },
     "execution_count": 22,
     "metadata": {},
     "output_type": "execute_result"
    }
   ],
   "source": [
    "known_motifs = glob.glob(f\"motif_result/*/knownResults.txt\")\n",
    "len(known_motifs)"
   ]
  },
  {
   "cell_type": "code",
   "execution_count": 34,
   "id": "4ac37ff9-100c-4a83-900b-be6a9f179e48",
   "metadata": {
    "execution": {
     "iopub.execute_input": "2024-01-29T21:17:38.109648Z",
     "iopub.status.busy": "2024-01-29T21:17:38.109440Z",
     "iopub.status.idle": "2024-01-29T21:17:38.120993Z",
     "shell.execute_reply": "2024-01-29T21:17:38.120534Z",
     "shell.execute_reply.started": "2024-01-29T21:17:38.109627Z"
    },
    "tags": []
   },
   "outputs": [
    {
     "name": "stderr",
     "output_type": "stream",
     "text": [
      "  0%|                                                     | 0/4 [00:00<?, ?it/s]\n"
     ]
    }
   ],
   "source": [
    "all_to_plot_df = []\n",
    "\n",
    "for motif_result in tqdm(known_motifs):\n",
    "    result_df = pd.read_csv(motif_result, sep=\"\\t\", index_col=0)\n",
    "    result_df.index = [x.split(\"/\")[0] for x in result_df.index]\n",
    "    result_df['FC'] = result_df.iloc[:,4]/result_df.iloc[:,6]\n",
    "    break\n",
    "    result_df = result_df[(result_df['P-value'] < p_value_cutoff) & (result_df['FC'] > min_fc)]\n",
    "    group = motif_result.split('/')[-2].split('motif_')[1]\n",
    "    if result_df.shape[0] == 0:\n",
    "        print(group)\n",
    "    else:\n",
    "        result_df['CellType']= group\n",
    "        to_plot = result_df[['FC','Log P-value','CellType']].copy()\n",
    "        to_plot = to_plot.sort_values('FC', ascending = False)\n",
    "\n",
    "        all_to_plot_df.append(to_plot)"
   ]
  },
  {
   "cell_type": "code",
   "execution_count": null,
   "id": "716bca2a-0337-4390-bdb1-43abe2e756a3",
   "metadata": {},
   "outputs": [],
   "source": []
  },
  {
   "cell_type": "code",
   "execution_count": null,
   "id": "bd5bc170-4f94-46b6-b921-18764c8f0fb7",
   "metadata": {},
   "outputs": [],
   "source": []
  },
  {
   "cell_type": "code",
   "execution_count": null,
   "id": "124249c2-46c2-417e-883e-d40b4437546b",
   "metadata": {},
   "outputs": [],
   "source": []
  },
  {
   "cell_type": "code",
   "execution_count": null,
   "id": "a947520c-f85d-4bfc-9f89-655fa3d498ce",
   "metadata": {},
   "outputs": [],
   "source": []
  },
  {
   "cell_type": "code",
   "execution_count": null,
   "id": "c37a4382-6988-4257-b411-10a4688fda46",
   "metadata": {},
   "outputs": [],
   "source": []
  },
  {
   "cell_type": "code",
   "execution_count": null,
   "id": "b0c38a76-1b67-4042-94a2-c15c94a282bb",
   "metadata": {},
   "outputs": [],
   "source": []
  },
  {
   "cell_type": "code",
   "execution_count": null,
   "id": "238124f9-e0a0-4a66-bb13-41684126ca25",
   "metadata": {},
   "outputs": [],
   "source": []
  },
  {
   "cell_type": "code",
   "execution_count": null,
   "id": "6ac9fa16-0d53-42bf-a33c-71945ca237d3",
   "metadata": {},
   "outputs": [],
   "source": []
  },
  {
   "cell_type": "code",
   "execution_count": null,
   "id": "50cb00f2-d8f4-40da-b5cf-0b9f9f1a9f14",
   "metadata": {},
   "outputs": [],
   "source": []
  },
  {
   "cell_type": "code",
   "execution_count": null,
   "id": "6be186f2-d7e4-44ea-a29f-06ed0008f390",
   "metadata": {},
   "outputs": [],
   "source": []
  },
  {
   "cell_type": "code",
   "execution_count": null,
   "id": "2984af77-cdd6-4dcb-8745-e91702cc93b3",
   "metadata": {},
   "outputs": [],
   "source": []
  }
 ],
 "metadata": {
  "kernelspec": {
   "display_name": "Python 3 (ipykernel)",
   "language": "python",
   "name": "python3"
  },
  "language_info": {
   "codemirror_mode": {
    "name": "ipython",
    "version": 3
   },
   "file_extension": ".py",
   "mimetype": "text/x-python",
   "name": "python",
   "nbconvert_exporter": "python",
   "pygments_lexer": "ipython3",
   "version": "3.7.12"
  }
 },
 "nbformat": 4,
 "nbformat_minor": 5
}
