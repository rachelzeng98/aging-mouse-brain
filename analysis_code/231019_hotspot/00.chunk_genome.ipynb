{
 "cells": [
  {
   "cell_type": "code",
   "execution_count": 1,
   "id": "88777e88-8ea1-4552-acfc-09a23d14b135",
   "metadata": {
    "execution": {
     "iopub.execute_input": "2024-01-18T23:25:35.152716Z",
     "iopub.status.busy": "2024-01-18T23:25:35.152273Z",
     "iopub.status.idle": "2024-01-18T23:25:38.023581Z",
     "shell.execute_reply": "2024-01-18T23:25:38.022280Z",
     "shell.execute_reply.started": "2024-01-18T23:25:35.152682Z"
    },
    "tags": []
   },
   "outputs": [],
   "source": [
    "import pandas as pd\n",
    "import glob\n",
    "import pybedtools\n",
    "from pybedtools import BedTool\n",
    "import pathlib\n",
    "import subprocess "
   ]
  },
  {
   "cell_type": "code",
   "execution_count": 2,
   "id": "51737fea-6369-4be7-97a1-61817e13d37a",
   "metadata": {
    "execution": {
     "iopub.execute_input": "2024-01-18T23:25:42.011719Z",
     "iopub.status.busy": "2024-01-18T23:25:42.010809Z",
     "iopub.status.idle": "2024-01-18T23:26:03.638440Z",
     "shell.execute_reply": "2024-01-18T23:26:03.637327Z",
     "shell.execute_reply.started": "2024-01-18T23:25:42.011677Z"
    },
    "tags": []
   },
   "outputs": [],
   "source": [
    "! bedtools makewindows -g mm10.txt -w 500 > mm10_500.bed"
   ]
  },
  {
   "cell_type": "code",
   "execution_count": 3,
   "id": "128286f8-04bd-4006-843e-4c004bc41a47",
   "metadata": {
    "execution": {
     "iopub.execute_input": "2024-01-18T23:26:08.748765Z",
     "iopub.status.busy": "2024-01-18T23:26:08.747925Z",
     "iopub.status.idle": "2024-01-18T23:26:25.455583Z",
     "shell.execute_reply": "2024-01-18T23:26:25.452519Z",
     "shell.execute_reply.started": "2024-01-18T23:26:08.748694Z"
    },
    "tags": []
   },
   "outputs": [],
   "source": [
    "mm10_window = pd.read_csv('mm10_500.bed', sep = '\\t', header = None)\n",
    "mm10_window[3] = [f'a{str(i)}' for i in range(0, mm10_window.shape[0])]\n",
    "mm10_window[4] = mm10_window.index\n",
    "mm10_window.to_csv('mm10_500.bed',index = None, header = None, sep = '\\t')"
   ]
  },
  {
   "cell_type": "code",
   "execution_count": 4,
   "id": "3e953395-2ef2-4c77-83de-9e43db3ef243",
   "metadata": {
    "execution": {
     "iopub.execute_input": "2024-01-18T23:28:41.417889Z",
     "iopub.status.busy": "2024-01-18T23:28:41.417488Z",
     "iopub.status.idle": "2024-01-18T23:28:41.430265Z",
     "shell.execute_reply": "2024-01-18T23:28:41.429650Z",
     "shell.execute_reply.started": "2024-01-18T23:28:41.417862Z"
    }
   },
   "outputs": [
    {
     "data": {
      "text/html": [
       "<div>\n",
       "<style scoped>\n",
       "    .dataframe tbody tr th:only-of-type {\n",
       "        vertical-align: middle;\n",
       "    }\n",
       "\n",
       "    .dataframe tbody tr th {\n",
       "        vertical-align: top;\n",
       "    }\n",
       "\n",
       "    .dataframe thead th {\n",
       "        text-align: right;\n",
       "    }\n",
       "</style>\n",
       "<table border=\"1\" class=\"dataframe\">\n",
       "  <thead>\n",
       "    <tr style=\"text-align: right;\">\n",
       "      <th></th>\n",
       "      <th>0</th>\n",
       "      <th>1</th>\n",
       "      <th>2</th>\n",
       "      <th>3</th>\n",
       "      <th>4</th>\n",
       "    </tr>\n",
       "  </thead>\n",
       "  <tbody>\n",
       "    <tr>\n",
       "      <th>0</th>\n",
       "      <td>chr1</td>\n",
       "      <td>0</td>\n",
       "      <td>500</td>\n",
       "      <td>a0</td>\n",
       "      <td>0</td>\n",
       "    </tr>\n",
       "    <tr>\n",
       "      <th>1</th>\n",
       "      <td>chr1</td>\n",
       "      <td>500</td>\n",
       "      <td>1000</td>\n",
       "      <td>a1</td>\n",
       "      <td>1</td>\n",
       "    </tr>\n",
       "    <tr>\n",
       "      <th>2</th>\n",
       "      <td>chr1</td>\n",
       "      <td>1000</td>\n",
       "      <td>1500</td>\n",
       "      <td>a2</td>\n",
       "      <td>2</td>\n",
       "    </tr>\n",
       "    <tr>\n",
       "      <th>3</th>\n",
       "      <td>chr1</td>\n",
       "      <td>1500</td>\n",
       "      <td>2000</td>\n",
       "      <td>a3</td>\n",
       "      <td>3</td>\n",
       "    </tr>\n",
       "    <tr>\n",
       "      <th>4</th>\n",
       "      <td>chr1</td>\n",
       "      <td>2000</td>\n",
       "      <td>2500</td>\n",
       "      <td>a4</td>\n",
       "      <td>4</td>\n",
       "    </tr>\n",
       "  </tbody>\n",
       "</table>\n",
       "</div>"
      ],
      "text/plain": [
       "      0     1     2   3  4\n",
       "0  chr1     0   500  a0  0\n",
       "1  chr1   500  1000  a1  1\n",
       "2  chr1  1000  1500  a2  2\n",
       "3  chr1  1500  2000  a3  3\n",
       "4  chr1  2000  2500  a4  4"
      ]
     },
     "execution_count": 4,
     "metadata": {},
     "output_type": "execute_result"
    }
   ],
   "source": [
    "mm10_window.head()"
   ]
  },
  {
   "cell_type": "code",
   "execution_count": null,
   "id": "7110e488-8484-46ec-bbd3-5a7b43112b90",
   "metadata": {},
   "outputs": [],
   "source": []
  },
  {
   "cell_type": "code",
   "execution_count": null,
   "id": "542a592d-9223-4fd6-89dd-8e0cfaa58c29",
   "metadata": {},
   "outputs": [],
   "source": []
  },
  {
   "cell_type": "code",
   "execution_count": null,
   "id": "d9cbea1e-7f88-4c29-8a05-dcffcabf7039",
   "metadata": {},
   "outputs": [],
   "source": []
  },
  {
   "cell_type": "code",
   "execution_count": null,
   "id": "3a588db7-47e5-4216-8d61-0f463a504ad4",
   "metadata": {},
   "outputs": [],
   "source": []
  },
  {
   "cell_type": "code",
   "execution_count": null,
   "id": "02f12c15-661e-40c9-9c9e-7cd068e31f48",
   "metadata": {},
   "outputs": [],
   "source": []
  },
  {
   "cell_type": "code",
   "execution_count": null,
   "id": "1116c0e4-7109-4707-a169-0363ea3e839e",
   "metadata": {},
   "outputs": [],
   "source": []
  },
  {
   "cell_type": "code",
   "execution_count": null,
   "id": "022e23fa-e3e4-4496-85b8-0f906f3d3adb",
   "metadata": {},
   "outputs": [],
   "source": []
  },
  {
   "cell_type": "code",
   "execution_count": null,
   "id": "1b0e07cc-10b3-40c9-9e77-4eef6537e0ec",
   "metadata": {},
   "outputs": [],
   "source": []
  },
  {
   "cell_type": "code",
   "execution_count": null,
   "id": "e706650a-eb7b-4d93-9680-769b9c2ba60d",
   "metadata": {},
   "outputs": [],
   "source": []
  },
  {
   "cell_type": "code",
   "execution_count": null,
   "id": "e6253c67-9e08-4957-b7a2-3a2dff869e38",
   "metadata": {},
   "outputs": [],
   "source": []
  }
 ],
 "metadata": {
  "kernelspec": {
   "display_name": "Python 3 (ipykernel)",
   "language": "python",
   "name": "python3"
  },
  "language_info": {
   "codemirror_mode": {
    "name": "ipython",
    "version": 3
   },
   "file_extension": ".py",
   "mimetype": "text/x-python",
   "name": "python",
   "nbconvert_exporter": "python",
   "pygments_lexer": "ipython3",
   "version": "3.7.12"
  }
 },
 "nbformat": 4,
 "nbformat_minor": 5
}
