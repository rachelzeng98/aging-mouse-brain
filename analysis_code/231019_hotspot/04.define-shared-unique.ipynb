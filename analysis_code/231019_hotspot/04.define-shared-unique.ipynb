{
 "cells": [
  {
   "cell_type": "code",
   "execution_count": 1,
   "id": "e1157c61-067f-4252-8d71-8bdf910a4359",
   "metadata": {
    "execution": {
     "iopub.execute_input": "2024-04-24T00:29:25.862709Z",
     "iopub.status.busy": "2024-04-24T00:29:25.862341Z",
     "iopub.status.idle": "2024-04-24T00:29:27.393139Z",
     "shell.execute_reply": "2024-04-24T00:29:27.392551Z",
     "shell.execute_reply.started": "2024-04-24T00:29:25.862685Z"
    },
    "tags": []
   },
   "outputs": [],
   "source": [
    "import pandas as pd\n",
    "from matplotlib import pyplot as plt\n",
    "import seaborn as sns\n",
    "import subprocess\n",
    "from pandas import DataFrame\n",
    "from scipy.stats import uniform\n",
    "from scipy.stats import randint\n",
    "import numpy as np\n",
    "import matplotlib.pyplot as plt\n",
    "from collections import defaultdict\n",
    "import glob\n",
    "import pathlib\n",
    "import PyComplexHeatmap as pch\n",
    "\n",
    "plt.rcParams['pdf.fonttype']=42"
   ]
  },
  {
   "cell_type": "code",
   "execution_count": 2,
   "id": "99e82146-ab8e-4535-bc39-314882aa0b41",
   "metadata": {
    "execution": {
     "iopub.execute_input": "2024-04-24T00:29:27.394586Z",
     "iopub.status.busy": "2024-04-24T00:29:27.394183Z",
     "iopub.status.idle": "2024-04-24T00:29:27.424239Z",
     "shell.execute_reply": "2024-04-24T00:29:27.423741Z",
     "shell.execute_reply.started": "2024-04-24T00:29:27.394561Z"
    },
    "tags": []
   },
   "outputs": [],
   "source": [
    "_type = 'Hypo'\n",
    "_dir ='500_result'\n",
    "to_plot = pd.read_csv(f'{_dir}/{_type}.hotspot.ct.csv', index_col = 0)"
   ]
  },
  {
   "cell_type": "code",
   "execution_count": 3,
   "id": "676b9d4e-bac4-4561-ae1e-17106c51e543",
   "metadata": {
    "execution": {
     "iopub.execute_input": "2024-04-24T00:29:28.645189Z",
     "iopub.status.busy": "2024-04-24T00:29:28.644804Z",
     "iopub.status.idle": "2024-04-24T00:29:28.651240Z",
     "shell.execute_reply": "2024-04-24T00:29:28.650794Z",
     "shell.execute_reply.started": "2024-04-24T00:29:28.645163Z"
    },
    "tags": []
   },
   "outputs": [
    {
     "data": {
      "text/plain": [
       "(3519, 42)"
      ]
     },
     "execution_count": 3,
     "metadata": {},
     "output_type": "execute_result"
    }
   ],
   "source": [
    "to_plot.shape"
   ]
  },
  {
   "cell_type": "markdown",
   "id": "5a8b1635-bb04-4ab5-a292-8ce9a11ae4db",
   "metadata": {},
   "source": [
    "## seperate unique and shared"
   ]
  },
  {
   "cell_type": "code",
   "execution_count": 4,
   "id": "ebcd7097-0e3c-4d73-bc6c-23e8dbb269cc",
   "metadata": {
    "execution": {
     "iopub.execute_input": "2024-04-24T00:29:30.358573Z",
     "iopub.status.busy": "2024-04-24T00:29:30.358191Z",
     "iopub.status.idle": "2024-04-24T00:29:30.362431Z",
     "shell.execute_reply": "2024-04-24T00:29:30.361940Z",
     "shell.execute_reply.started": "2024-04-24T00:29:30.358549Z"
    },
    "tags": []
   },
   "outputs": [],
   "source": [
    "row_sums = to_plot.sum(axis=1)  # Calculate row sums"
   ]
  },
  {
   "cell_type": "code",
   "execution_count": 5,
   "id": "4ff7b4f7-ddf5-4170-a3ad-4e3311a2683e",
   "metadata": {
    "execution": {
     "iopub.execute_input": "2024-04-24T00:29:30.625747Z",
     "iopub.status.busy": "2024-04-24T00:29:30.625370Z",
     "iopub.status.idle": "2024-04-24T00:29:30.630070Z",
     "shell.execute_reply": "2024-04-24T00:29:30.629574Z",
     "shell.execute_reply.started": "2024-04-24T00:29:30.625724Z"
    },
    "tags": []
   },
   "outputs": [],
   "source": [
    "to_plot_normalized = to_plot.div(row_sums, axis=0) "
   ]
  },
  {
   "cell_type": "code",
   "execution_count": 6,
   "id": "0ed6168b-2ac7-479f-8484-355023a50886",
   "metadata": {
    "execution": {
     "iopub.execute_input": "2024-04-24T00:29:30.966486Z",
     "iopub.status.busy": "2024-04-24T00:29:30.966077Z",
     "iopub.status.idle": "2024-04-24T00:29:30.970134Z",
     "shell.execute_reply": "2024-04-24T00:29:30.969661Z",
     "shell.execute_reply.started": "2024-04-24T00:29:30.966460Z"
    },
    "tags": []
   },
   "outputs": [],
   "source": [
    "max_values = to_plot_normalized.max(axis = 1)"
   ]
  },
  {
   "cell_type": "code",
   "execution_count": 7,
   "id": "9a7d6d60-c21b-47a8-90c3-518f69721064",
   "metadata": {
    "execution": {
     "iopub.execute_input": "2024-04-24T00:29:31.336420Z",
     "iopub.status.busy": "2024-04-24T00:29:31.335875Z",
     "iopub.status.idle": "2024-04-24T00:29:31.511284Z",
     "shell.execute_reply": "2024-04-24T00:29:31.510658Z",
     "shell.execute_reply.started": "2024-04-24T00:29:31.336393Z"
    },
    "tags": []
   },
   "outputs": [
    {
     "data": {
      "text/plain": [
       "<AxesSubplot:ylabel='Count'>"
      ]
     },
     "execution_count": 7,
     "metadata": {},
     "output_type": "execute_result"
    },
    {
     "data": {
      "image/png": "[encoded data removed]",
      "text/plain": [
       "<Figure size 432x288 with 1 Axes>"
      ]
     },
     "metadata": {
      "needs_background": "light"
     },
     "output_type": "display_data"
    }
   ],
   "source": [
    "sns.histplot(max_values)"
   ]
  },
  {
   "cell_type": "code",
   "execution_count": 8,
   "id": "dfac7477-1959-45aa-b1bf-51ef354a87e4",
   "metadata": {
    "execution": {
     "iopub.execute_input": "2024-04-24T00:29:32.778960Z",
     "iopub.status.busy": "2024-04-24T00:29:32.778583Z",
     "iopub.status.idle": "2024-04-24T00:29:33.033661Z",
     "shell.execute_reply": "2024-04-24T00:29:33.033088Z",
     "shell.execute_reply.started": "2024-04-24T00:29:32.778936Z"
    },
    "tags": []
   },
   "outputs": [],
   "source": [
    "cut_off = 0.8\n",
    "unique_hotspot = defaultdict(list)\n",
    "shared_hotspot = []\n",
    "for _chunk , row in to_plot_normalized.iterrows():\n",
    "    max_ratio = row.max()\n",
    "    if max_ratio > cut_off:\n",
    "        max_ct = row.idxmax()\n",
    "        unique_hotspot[max_ct].append(_chunk)\n",
    "    else:\n",
    "        shared_hotspot.append(_chunk) "
   ]
  },
  {
   "cell_type": "code",
   "execution_count": 9,
   "id": "955bf959-99c7-4b94-b43a-8105f24c0c4c",
   "metadata": {
    "execution": {
     "iopub.execute_input": "2024-04-24T00:29:33.040172Z",
     "iopub.status.busy": "2024-04-24T00:29:33.039868Z",
     "iopub.status.idle": "2024-04-24T00:29:33.053699Z",
     "shell.execute_reply": "2024-04-24T00:29:33.053232Z",
     "shell.execute_reply.started": "2024-04-24T00:29:33.040142Z"
    },
    "tags": []
   },
   "outputs": [],
   "source": [
    "all_hotspot_bed = pd.read_csv(f'{_dir}/{_type}.hotspot.bed', sep = '\\t', header = None)\n",
    "all_hotspot_bed['DMR_ID'] = all_hotspot_bed[0] + '-' + all_hotspot_bed[1].astype(str) +'-' +all_hotspot_bed[2].astype(str)\n",
    "all_hotspot_bed = all_hotspot_bed.set_index('DMR_ID')"
   ]
  },
  {
   "cell_type": "markdown",
   "id": "ccc263c0-b887-4e18-bbc0-f751cf6a24d0",
   "metadata": {
    "tags": []
   },
   "source": [
    "## save bed"
   ]
  },
  {
   "cell_type": "code",
   "execution_count": 10,
   "id": "f3e6c391-af59-4601-8e73-47e60be2b28c",
   "metadata": {
    "execution": {
     "iopub.execute_input": "2024-04-24T00:29:35.271191Z",
     "iopub.status.busy": "2024-04-24T00:29:35.270805Z",
     "iopub.status.idle": "2024-04-24T00:29:35.276528Z",
     "shell.execute_reply": "2024-04-24T00:29:35.276028Z",
     "shell.execute_reply.started": "2024-04-24T00:29:35.271167Z"
    },
    "tags": []
   },
   "outputs": [],
   "source": [
    "tmpdf = all_hotspot_bed.loc[shared_hotspot]"
   ]
  },
  {
   "cell_type": "code",
   "execution_count": 11,
   "id": "c3908c25-8cd0-4191-847b-6c68b54e4323",
   "metadata": {
    "execution": {
     "iopub.execute_input": "2024-04-24T00:29:35.641860Z",
     "iopub.status.busy": "2024-04-24T00:29:35.641432Z",
     "iopub.status.idle": "2024-04-24T00:29:35.676973Z",
     "shell.execute_reply": "2024-04-24T00:29:35.676518Z",
     "shell.execute_reply.started": "2024-04-24T00:29:35.641838Z"
    },
    "tags": []
   },
   "outputs": [],
   "source": [
    "tmpdf.to_csv(f'{_dir}/{_type}.hotspot.shared.bed', sep = '\\t', index = None, header= None)"
   ]
  },
  {
   "cell_type": "code",
   "execution_count": 12,
   "id": "04e5792c-34b6-4c73-a2bb-464dde995b14",
   "metadata": {
    "execution": {
     "iopub.execute_input": "2024-04-24T00:29:36.777269Z",
     "iopub.status.busy": "2024-04-24T00:29:36.776897Z",
     "iopub.status.idle": "2024-04-24T00:29:36.783771Z",
     "shell.execute_reply": "2024-04-24T00:29:36.783315Z",
     "shell.execute_reply.started": "2024-04-24T00:29:36.777246Z"
    },
    "tags": []
   },
   "outputs": [
    {
     "name": "stdout",
     "output_type": "stream",
     "text": [
      "OPC_NN\n"
     ]
    }
   ],
   "source": [
    "for ct, chunks in unique_hotspot.items():\n",
    "    if len(chunks) > 100:\n",
    "        tmpdf = all_hotspot_bed.loc[chunks]\n",
    "        tmpdf.to_csv(f'{_dir}/{_type}.hotspot.{ct}.bed', sep = '\\t', index = None, header= None)\n",
    "        print(ct)"
   ]
  },
  {
   "cell_type": "code",
   "execution_count": 13,
   "id": "221fb08f-3c31-4507-bf0b-594b096818b9",
   "metadata": {
    "execution": {
     "iopub.execute_input": "2024-04-24T00:29:37.319442Z",
     "iopub.status.busy": "2024-04-24T00:29:37.319047Z",
     "iopub.status.idle": "2024-04-24T00:29:37.322047Z",
     "shell.execute_reply": "2024-04-24T00:29:37.321595Z",
     "shell.execute_reply.started": "2024-04-24T00:29:37.319417Z"
    },
    "tags": []
   },
   "outputs": [],
   "source": [
    "# for ct , chunks in unique_hotspot.items():\n",
    "#     chunk_num = len(chunks)\n",
    "#     print(f\"{ct} has {chunk_num} chunks\")"
   ]
  },
  {
   "cell_type": "code",
   "execution_count": 14,
   "id": "a91cf9a7-6bb6-42e2-afc2-b9c44abb3817",
   "metadata": {
    "execution": {
     "iopub.execute_input": "2024-04-24T00:29:37.573413Z",
     "iopub.status.busy": "2024-04-24T00:29:37.573013Z",
     "iopub.status.idle": "2024-04-24T00:29:37.576064Z",
     "shell.execute_reply": "2024-04-24T00:29:37.575608Z",
     "shell.execute_reply.started": "2024-04-24T00:29:37.573386Z"
    },
    "tags": []
   },
   "outputs": [],
   "source": [
    "# sns.clustermap(ascii,\n",
    "#                vmin= 0,\n",
    "#                vmax = 1,\n",
    "#                xticklabels=True,\n",
    "#                yticklabels=False,\n",
    "#                cmap= 'viridis')"
   ]
  },
  {
   "cell_type": "markdown",
   "id": "ca831bef-d85e-4362-8227-9175cfda8f69",
   "metadata": {},
   "source": [
    "## plot"
   ]
  },
  {
   "cell_type": "code",
   "execution_count": 15,
   "id": "7cadcc11-f194-460f-a7af-a1a307346a48",
   "metadata": {
    "execution": {
     "iopub.execute_input": "2024-04-24T00:29:39.058596Z",
     "iopub.status.busy": "2024-04-24T00:29:39.058213Z",
     "iopub.status.idle": "2024-04-24T00:29:39.065058Z",
     "shell.execute_reply": "2024-04-24T00:29:39.064559Z",
     "shell.execute_reply.started": "2024-04-24T00:29:39.058572Z"
    },
    "tags": []
   },
   "outputs": [],
   "source": [
    "shared_hotspot_df = all_hotspot_bed.loc[shared_hotspot]\n",
    "unique_hotspot_df = all_hotspot_bed[~all_hotspot_bed.index.isin(shared_hotspot) ]"
   ]
  },
  {
   "cell_type": "code",
   "execution_count": 16,
   "id": "cbcc1553-7fc4-49a1-8b83-0cdb07375c3e",
   "metadata": {
    "execution": {
     "iopub.execute_input": "2024-04-24T00:29:39.314656Z",
     "iopub.status.busy": "2024-04-24T00:29:39.314360Z",
     "iopub.status.idle": "2024-04-24T00:29:39.323955Z",
     "shell.execute_reply": "2024-04-24T00:29:39.323515Z",
     "shell.execute_reply.started": "2024-04-24T00:29:39.314634Z"
    },
    "tags": []
   },
   "outputs": [
    {
     "data": {
      "text/html": [
       "<div>\n",
       "<style scoped>\n",
       "    .dataframe tbody tr th:only-of-type {\n",
       "        vertical-align: middle;\n",
       "    }\n",
       "\n",
       "    .dataframe tbody tr th {\n",
       "        vertical-align: top;\n",
       "    }\n",
       "\n",
       "    .dataframe thead th {\n",
       "        text-align: right;\n",
       "    }\n",
       "</style>\n",
       "<table border=\"1\" class=\"dataframe\">\n",
       "  <thead>\n",
       "    <tr style=\"text-align: right;\">\n",
       "      <th></th>\n",
       "      <th>Hotspot_Type</th>\n",
       "    </tr>\n",
       "    <tr>\n",
       "      <th>DMR_ID</th>\n",
       "      <th></th>\n",
       "    </tr>\n",
       "  </thead>\n",
       "  <tbody>\n",
       "    <tr>\n",
       "      <th>chr1-14305000-14305500</th>\n",
       "      <td>Shared</td>\n",
       "    </tr>\n",
       "    <tr>\n",
       "      <th>chr1-19460000-19460500</th>\n",
       "      <td>Shared</td>\n",
       "    </tr>\n",
       "    <tr>\n",
       "      <th>chr1-33733000-33733500</th>\n",
       "      <td>Shared</td>\n",
       "    </tr>\n",
       "    <tr>\n",
       "      <th>chr1-34043500-34044000</th>\n",
       "      <td>Shared</td>\n",
       "    </tr>\n",
       "    <tr>\n",
       "      <th>chr1-34121500-34122000</th>\n",
       "      <td>Shared</td>\n",
       "    </tr>\n",
       "  </tbody>\n",
       "</table>\n",
       "</div>"
      ],
      "text/plain": [
       "                       Hotspot_Type\n",
       "DMR_ID                             \n",
       "chr1-14305000-14305500       Shared\n",
       "chr1-19460000-19460500       Shared\n",
       "chr1-33733000-33733500       Shared\n",
       "chr1-34043500-34044000       Shared\n",
       "chr1-34121500-34122000       Shared"
      ]
     },
     "execution_count": 16,
     "metadata": {},
     "output_type": "execute_result"
    }
   ],
   "source": [
    "row_annot = pd.DataFrame( ['Shared'] * int(shared_hotspot_df.shape[0])+ ['Unique'] * int(unique_hotspot_df.shape[0]), columns=['Hotspot_Type'])\n",
    "row_annot.index = pd.concat([shared_hotspot_df, unique_hotspot_df]).index\n",
    "row_annot.head()"
   ]
  },
  {
   "cell_type": "code",
   "execution_count": 17,
   "id": "662fc98f-e4cd-416f-a24c-0bae16e21344",
   "metadata": {
    "execution": {
     "iopub.execute_input": "2024-04-24T00:29:40.644651Z",
     "iopub.status.busy": "2024-04-24T00:29:40.644265Z",
     "iopub.status.idle": "2024-04-24T00:29:40.651837Z",
     "shell.execute_reply": "2024-04-24T00:29:40.651403Z",
     "shell.execute_reply.started": "2024-04-24T00:29:40.644626Z"
    },
    "tags": []
   },
   "outputs": [
    {
     "data": {
      "text/html": [
       "<div>\n",
       "<style scoped>\n",
       "    .dataframe tbody tr th:only-of-type {\n",
       "        vertical-align: middle;\n",
       "    }\n",
       "\n",
       "    .dataframe tbody tr th {\n",
       "        vertical-align: top;\n",
       "    }\n",
       "\n",
       "    .dataframe thead th {\n",
       "        text-align: right;\n",
       "    }\n",
       "</style>\n",
       "<table border=\"1\" class=\"dataframe\">\n",
       "  <thead>\n",
       "    <tr style=\"text-align: right;\">\n",
       "      <th></th>\n",
       "      <th>CellType</th>\n",
       "    </tr>\n",
       "  </thead>\n",
       "  <tbody>\n",
       "    <tr>\n",
       "      <th>STR_D1_Sema5a_Gaba</th>\n",
       "      <td>STR_D1_Sema5a_Gaba</td>\n",
       "    </tr>\n",
       "    <tr>\n",
       "      <th>Vip_Gaba</th>\n",
       "      <td>Vip_Gaba</td>\n",
       "    </tr>\n",
       "    <tr>\n",
       "      <th>MEA-COA_Glut</th>\n",
       "      <td>MEA-COA_Glut</td>\n",
       "    </tr>\n",
       "    <tr>\n",
       "      <th>LDT-PCG-CS_Gata3_Lhx1_Gaba</th>\n",
       "      <td>LDT-PCG-CS_Gata3_Lhx1_Gaba</td>\n",
       "    </tr>\n",
       "    <tr>\n",
       "      <th>PB_Evx2_Glut</th>\n",
       "      <td>PB_Evx2_Glut</td>\n",
       "    </tr>\n",
       "  </tbody>\n",
       "</table>\n",
       "</div>"
      ],
      "text/plain": [
       "                                              CellType\n",
       "STR_D1_Sema5a_Gaba                  STR_D1_Sema5a_Gaba\n",
       "Vip_Gaba                                      Vip_Gaba\n",
       "MEA-COA_Glut                              MEA-COA_Glut\n",
       "LDT-PCG-CS_Gata3_Lhx1_Gaba  LDT-PCG-CS_Gata3_Lhx1_Gaba\n",
       "PB_Evx2_Glut                              PB_Evx2_Glut"
      ]
     },
     "execution_count": 17,
     "metadata": {},
     "output_type": "execute_result"
    }
   ],
   "source": [
    "col_annot = pd.DataFrame(to_plot_normalized.columns, columns=['CellType'], index = to_plot_normalized.columns)\n",
    "col_annot.head()"
   ]
  },
  {
   "cell_type": "code",
   "execution_count": 18,
   "id": "a40418f8-7bb0-49d8-9436-6e712416d730",
   "metadata": {
    "execution": {
     "iopub.execute_input": "2024-04-24T00:29:41.517694Z",
     "iopub.status.busy": "2024-04-24T00:29:41.517174Z",
     "iopub.status.idle": "2024-04-24T00:29:41.539766Z",
     "shell.execute_reply": "2024-04-24T00:29:41.539246Z",
     "shell.execute_reply.started": "2024-04-24T00:29:41.517670Z"
    },
    "tags": []
   },
   "outputs": [],
   "source": [
    "order = list(shared_hotspot_df.index) + list(unique_hotspot_df.index)\n",
    "to_plot_normalized =to_plot_normalized.loc[order]"
   ]
  },
  {
   "cell_type": "code",
   "execution_count": 19,
   "id": "5094d7b6-0373-43e0-befd-96d366f47a16",
   "metadata": {
    "execution": {
     "iopub.execute_input": "2024-04-24T00:29:41.821775Z",
     "iopub.status.busy": "2024-04-24T00:29:41.821464Z",
     "iopub.status.idle": "2024-04-24T00:29:42.180007Z",
     "shell.execute_reply": "2024-04-24T00:29:42.179501Z",
     "shell.execute_reply.started": "2024-04-24T00:29:41.821752Z"
    },
    "tags": []
   },
   "outputs": [],
   "source": [
    "import joblib\n",
    "mt_pelatte = joblib.load('/home/qzeng/project/aging/231117_update_annot/AgingMajorType_Palette')"
   ]
  },
  {
   "cell_type": "code",
   "execution_count": 22,
   "id": "4842b373-26b3-4db5-b2b9-1283bc8aeadb",
   "metadata": {
    "execution": {
     "iopub.execute_input": "2024-04-24T00:30:43.260021Z",
     "iopub.status.busy": "2024-04-24T00:30:43.259666Z",
     "iopub.status.idle": "2024-04-24T00:30:43.265959Z",
     "shell.execute_reply": "2024-04-24T00:30:43.265464Z",
     "shell.execute_reply.started": "2024-04-24T00:30:43.259998Z"
    },
    "tags": []
   },
   "outputs": [
    {
     "data": {
      "text/plain": [
       "Index(['DG_Glut', 'CA3_Glut', 'L5_ET_CTX_Glut', 'CA1-ProS_Glut',\n",
       "       'L5_IT_CTX_Glut', 'L6_IT_CTX_Glut', 'L45_IT_CTX_Glut',\n",
       "       'LA-BLA-BMA-PA_Glut', 'L23_IT_ENT_Glut', 'ENTmv-PA-COAp_Glut',\n",
       "       'L23_IT_PPP_Glut', 'Oligo_NN', 'OPC_NN', 'L23_IT_CTX_Glut',\n",
       "       'STR_D1_Sema5a_Gaba', 'PAG_Glut', 'STR_D1_Gaba', 'STR_D2_Gaba',\n",
       "       'STR_Gaba', 'STR-PAL_Chst9_Gaba', 'NDB-SI-MA-STRv_Lhx8_Gaba',\n",
       "       'Pvalb_Gaba', 'Sst_Gaba', 'SUB-ProS_Glut', 'MEA-BST_Gaba',\n",
       "       'L6_CT_CTX_Glut', 'NP_SUB_Glut', 'L6bCT_ENT_Glut', 'Vip_Gaba',\n",
       "       'MB-MY_Tph2_Glut-Sero', 'Lamp5_Gaba', 'CEA-BST_Gaba',\n",
       "       'L2_IT_PPP-APr_Glut', 'L5_NP_CTX_Glut', 'Microglia_NN', 'Astro-TE_NN',\n",
       "       'Astro-NT_NN', 'PAG-PPN_Pax5_Sox21_Gaba', 'PB_Evx2_Glut',\n",
       "       'LDT-PCG-CS_Gata3_Lhx1_Gaba', 'MEA-COA_Glut', 'Sst_Chodl_Gaba'],\n",
       "      dtype='object')"
      ]
     },
     "execution_count": 22,
     "metadata": {},
     "output_type": "execute_result"
    }
   ],
   "source": [
    "to_plot_normalized.loc['chr13-68173500-68174000'].sort_values(ascending =False).index"
   ]
  },
  {
   "cell_type": "code",
   "execution_count": 25,
   "id": "978edaa4-3c3c-432c-a743-0b4e140024ca",
   "metadata": {
    "execution": {
     "iopub.execute_input": "2024-04-24T00:30:59.717297Z",
     "iopub.status.busy": "2024-04-24T00:30:59.716915Z",
     "iopub.status.idle": "2024-04-24T00:30:59.720706Z",
     "shell.execute_reply": "2024-04-24T00:30:59.720182Z",
     "shell.execute_reply.started": "2024-04-24T00:30:59.717274Z"
    },
    "tags": []
   },
   "outputs": [],
   "source": [
    "tmp = to_plot_normalized.loc['chr13-68173500-68174000']"
   ]
  },
  {
   "cell_type": "code",
   "execution_count": 27,
   "id": "53984364-4d6f-42cc-95b0-4fb4e6b8f9a0",
   "metadata": {
    "execution": {
     "iopub.execute_input": "2024-04-24T00:31:30.028885Z",
     "iopub.status.busy": "2024-04-24T00:31:30.028405Z",
     "iopub.status.idle": "2024-04-24T00:31:30.036114Z",
     "shell.execute_reply": "2024-04-24T00:31:30.035430Z",
     "shell.execute_reply.started": "2024-04-24T00:31:30.028843Z"
    },
    "tags": []
   },
   "outputs": [
    {
     "data": {
      "text/plain": [
       "Index(['CA1-ProS_Glut', 'L5_IT_CTX_Glut', 'L23_IT_ENT_Glut', 'DG_Glut',\n",
       "       'L6_IT_CTX_Glut', 'L5_ET_CTX_Glut', 'CA3_Glut', 'L23_IT_PPP_Glut',\n",
       "       'ENTmv-PA-COAp_Glut', 'L45_IT_CTX_Glut', 'LA-BLA-BMA-PA_Glut'],\n",
       "      dtype='object')"
      ]
     },
     "execution_count": 27,
     "metadata": {},
     "output_type": "execute_result"
    }
   ],
   "source": [
    "plot_celltypes = tmp[tmp != 0].index"
   ]
  },
  {
   "cell_type": "code",
   "execution_count": null,
   "id": "1c6a1cef-b767-4751-bcd5-5ab540bb35b8",
   "metadata": {},
   "outputs": [],
   "source": []
  },
  {
   "cell_type": "code",
   "execution_count": null,
   "id": "5425a686-abc0-4259-a643-edd3b9cec0dd",
   "metadata": {},
   "outputs": [],
   "source": []
  },
  {
   "cell_type": "code",
   "execution_count": 22,
   "id": "1604aa02-eb08-4b69-b115-585dab1cbc12",
   "metadata": {
    "execution": {
     "iopub.execute_input": "2024-03-07T06:04:51.801933Z",
     "iopub.status.busy": "2024-03-07T06:04:51.801529Z",
     "iopub.status.idle": "2024-03-07T06:04:51.804904Z",
     "shell.execute_reply": "2024-03-07T06:04:51.804397Z",
     "shell.execute_reply.started": "2024-03-07T06:04:51.801913Z"
    },
    "tags": []
   },
   "outputs": [],
   "source": [
    "new_mt_palette = {}\n",
    "for mt ,_color in mt_pelatte.items():\n",
    "    mt= mt.replace('/','').replace(' ','_')\n",
    "    new_mt_palette[mt] = _color\n",
    "   "
   ]
  },
  {
   "cell_type": "code",
   "execution_count": 23,
   "id": "70d8790f-c658-438b-ac33-db0ee322491a",
   "metadata": {
    "execution": {
     "iopub.execute_input": "2024-03-07T06:04:51.806078Z",
     "iopub.status.busy": "2024-03-07T06:04:51.805703Z",
     "iopub.status.idle": "2024-03-07T06:04:55.097140Z",
     "shell.execute_reply": "2024-03-07T06:04:55.096337Z",
     "shell.execute_reply.started": "2024-03-07T06:04:51.806057Z"
    },
    "tags": []
   },
   "outputs": [
    {
     "name": "stdout",
     "output_type": "stream",
     "text": [
      "Starting plotting HeatmapAnnotations\n",
      "Starting plotting HeatmapAnnotations\n",
      "Collecting annotation legends..\n",
      "Collecting annotation legends..\n"
     ]
    },
    {
     "data": {
      "image/png": "[encoded data removed]",
      "text/plain": [
       "<Figure size 1800x2400 with 14 Axes>"
      ]
     },
     "metadata": {
      "needs_background": "light"
     },
     "output_type": "display_data"
    }
   ],
   "source": [
    "col_ha = pch.HeatmapAnnotation(label=pch.anno_label(col_annot.CellType.apply(lambda x:x if x=='OPC_NN' else None), merge=True,rotation=0,),\n",
    "                            MajorType=pch.anno_simple(col_annot.CellType,add_text=False,legend=False, colors = new_mt_palette, height = 3), axis=1,\n",
    "                           legend=False,legend_gap=5,hgap=0.5, )\n",
    "\n",
    "row_ha = pch.HeatmapAnnotation(#label=pch.anno_label(row_annot.Hotspot_Type, merge=True,rotation=15, ),\n",
    "                            Hotspot_Type=pch.anno_simple(row_annot.Hotspot_Type,add_text=True,legend=False,height = 6), axis=0,\n",
    "                           legend=False,legend_gap=5,hgap=0.5, label_kws=dict(visible=False))\n",
    "\n",
    "plt.figure(figsize=(6, 8), dpi = 300)\n",
    "cm = pch.ClusterMapPlotter(data=to_plot_normalized,\n",
    "                       left_annotation=row_ha,top_annotation=col_ha,\n",
    "                       row_cluster=True,col_cluster = True,\n",
    "                       row_split=row_annot.Hotspot_Type,\n",
    "                       row_split_gap=0.5,\n",
    "                       label='Ratio',rasterized=True,\n",
    "                       show_rownames=False,show_colnames=False,\n",
    "                       tree_kws={'row_cmap': 'Set1'},verbose=0,legend_gap=5,\n",
    "                       cmap='viridis',xticklabels_kws={'labelrotation':-90,'labelcolor':'black'})\n",
    "\n",
    "plt.savefig(f\"figure/{_type}.shared_unique.heatmap.pdf\", bbox_inches='tight')\n",
    "plt.show()"
   ]
  },
  {
   "cell_type": "code",
   "execution_count": null,
   "id": "e136bcf0-bc4a-41de-a987-c92bab2d10f5",
   "metadata": {},
   "outputs": [],
   "source": []
  },
  {
   "cell_type": "code",
   "execution_count": null,
   "id": "29aa7e7c-970a-4692-acc6-deadea3b1806",
   "metadata": {},
   "outputs": [],
   "source": []
  },
  {
   "cell_type": "code",
   "execution_count": null,
   "id": "eb2e68e1-3e79-4766-a150-28eb532acc4c",
   "metadata": {},
   "outputs": [],
   "source": []
  },
  {
   "cell_type": "code",
   "execution_count": null,
   "id": "8d634783-fdce-4ac5-ab99-3c2392f392b9",
   "metadata": {},
   "outputs": [],
   "source": []
  },
  {
   "cell_type": "code",
   "execution_count": null,
   "id": "fd765ebf-38b5-420a-84de-f1ef9c56d69c",
   "metadata": {},
   "outputs": [],
   "source": []
  },
  {
   "cell_type": "code",
   "execution_count": null,
   "id": "4f4c2dd8-9614-4572-a2df-c48cd84a6eef",
   "metadata": {},
   "outputs": [],
   "source": []
  },
  {
   "cell_type": "code",
   "execution_count": null,
   "id": "86fa320a-e6b2-427e-b1cf-78e29dce9551",
   "metadata": {},
   "outputs": [],
   "source": []
  },
  {
   "cell_type": "code",
   "execution_count": null,
   "id": "96ca1f3d-1317-4961-8f0e-bd81475c7237",
   "metadata": {},
   "outputs": [],
   "source": []
  },
  {
   "cell_type": "code",
   "execution_count": null,
   "id": "4de1b3cc-d7a8-450a-b049-3d76fdc2c49a",
   "metadata": {},
   "outputs": [],
   "source": []
  },
  {
   "cell_type": "code",
   "execution_count": null,
   "id": "cb309782-92be-43ac-978f-b38bbfdc2cd8",
   "metadata": {},
   "outputs": [],
   "source": []
  },
  {
   "cell_type": "code",
   "execution_count": null,
   "id": "6e9bb024-e4f0-4369-90dd-6b42b18905d6",
   "metadata": {},
   "outputs": [],
   "source": []
  },
  {
   "cell_type": "code",
   "execution_count": null,
   "id": "441cfa70-1f76-409a-913f-8c72adf4e730",
   "metadata": {},
   "outputs": [],
   "source": []
  },
  {
   "cell_type": "code",
   "execution_count": null,
   "id": "5b682a0d-620a-4abf-9e74-bed10dbf8a3f",
   "metadata": {},
   "outputs": [],
   "source": []
  },
  {
   "cell_type": "code",
   "execution_count": null,
   "id": "dfbc1c18-1294-4791-b190-c7c22b3d908a",
   "metadata": {},
   "outputs": [],
   "source": []
  },
  {
   "cell_type": "code",
   "execution_count": null,
   "id": "919736d5-bc99-4f90-a98a-195ce98a0355",
   "metadata": {},
   "outputs": [],
   "source": []
  },
  {
   "cell_type": "code",
   "execution_count": null,
   "id": "eb97f4e5-e506-4040-bb9b-ea9083450330",
   "metadata": {},
   "outputs": [],
   "source": []
  }
 ],
 "metadata": {
  "kernelspec": {
   "display_name": "Python 3 (ipykernel)",
   "language": "python",
   "name": "python3"
  },
  "language_info": {
   "codemirror_mode": {
    "name": "ipython",
    "version": 3
   },
   "file_extension": ".py",
   "mimetype": "text/x-python",
   "name": "python",
   "nbconvert_exporter": "python",
   "pygments_lexer": "ipython3",
   "version": "3.7.12"
  }
 },
 "nbformat": 4,
 "nbformat_minor": 5
}
