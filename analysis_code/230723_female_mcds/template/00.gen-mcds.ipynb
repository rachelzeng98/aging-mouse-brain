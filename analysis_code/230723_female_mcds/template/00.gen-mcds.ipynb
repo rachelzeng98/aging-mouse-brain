{
 "cells": [
  {
   "cell_type": "code",
   "execution_count": 1,
   "id": "5005441d-7b4c-46e5-9509-b76bc450ce03",
   "metadata": {
    "execution": {
     "iopub.execute_input": "2023-07-23T18:21:13.621872Z",
     "iopub.status.busy": "2023-07-23T18:21:13.621291Z",
     "iopub.status.idle": "2023-07-23T18:21:13.624900Z",
     "shell.execute_reply": "2023-07-23T18:21:13.624284Z",
     "shell.execute_reply.started": "2023-07-23T18:21:13.621847Z"
    },
    "tags": []
   },
   "outputs": [],
   "source": [
    "#group_name = 'pool_amb46'"
   ]
  },
  {
   "cell_type": "code",
   "execution_count": 1,
   "id": "2b41ec05-f470-4b77-8c1a-90d4168195c3",
   "metadata": {
    "execution": {
     "iopub.execute_input": "2023-07-22T05:20:51.613707Z",
     "iopub.status.busy": "2023-07-22T05:20:51.613517Z",
     "iopub.status.idle": "2023-07-22T05:20:51.819201Z",
     "shell.execute_reply": "2023-07-22T05:20:51.818440Z",
     "shell.execute_reply.started": "2023-07-22T05:20:51.613689Z"
    },
    "tags": []
   },
   "outputs": [],
   "source": [
    "import pathlib\n",
    "import subprocess\n",
    "import pandas as pd"
   ]
  },
  {
   "cell_type": "code",
   "execution_count": 2,
   "id": "c77402dd-705f-46f4-83ca-5a0b4efa7ce1",
   "metadata": {
    "execution": {
     "iopub.execute_input": "2023-07-22T05:20:51.820214Z",
     "iopub.status.busy": "2023-07-22T05:20:51.819963Z",
     "iopub.status.idle": "2023-07-22T05:20:51.823553Z",
     "shell.execute_reply": "2023-07-22T05:20:51.822856Z",
     "shell.execute_reply.started": "2023-07-22T05:20:51.820195Z"
    },
    "tags": []
   },
   "outputs": [],
   "source": [
    "data_dir = '/data/tmp/pool_allc_table2'\n",
    "ref_dir= '/data/aging/ref/m3C'"
   ]
  },
  {
   "cell_type": "code",
   "execution_count": 4,
   "id": "eeb0fe09-8c21-4ac0-8a58-40d6a4118c9d",
   "metadata": {
    "execution": {
     "iopub.execute_input": "2023-07-22T05:20:51.830446Z",
     "iopub.status.busy": "2023-07-22T05:20:51.830256Z",
     "iopub.status.idle": "2023-07-22T05:20:51.834831Z",
     "shell.execute_reply": "2023-07-22T05:20:51.834272Z",
     "shell.execute_reply.started": "2023-07-22T05:20:51.830430Z"
    },
    "tags": []
   },
   "outputs": [],
   "source": [
    "allc_table = f'{data_dir}/{group_name}.tsv'\n",
    "output_path = f'{group_name}.mcds'\n",
    "chrom_size_path = f'{ref_dir}/mm10.main.nochrM.nochrY.chrom.sizes'\n",
    "gene_meta_path = f'{ref_dir}/gencode.vM22.annotation.gene.sorted.bed.gz'\n",
    "cpu = 96"
   ]
  },
  {
   "cell_type": "code",
   "execution_count": 5,
   "id": "c656adbf-09ba-412c-884f-66e9a907c7de",
   "metadata": {
    "execution": {
     "iopub.execute_input": "2023-07-22T05:20:51.835742Z",
     "iopub.status.busy": "2023-07-22T05:20:51.835563Z",
     "iopub.status.idle": "2023-07-22T05:20:51.932277Z",
     "shell.execute_reply": "2023-07-22T05:20:51.931525Z",
     "shell.execute_reply.started": "2023-07-22T05:20:51.835725Z"
    },
    "tags": []
   },
   "outputs": [
    {
     "name": "stdout",
     "output_type": "stream",
     "text": [
      "pool_amb46 has 3071 cells\n"
     ]
    }
   ],
   "source": [
    "all_table_df = pd.read_csv(allc_table, sep = '\\t', index_col = None, header = None)\n",
    "print(f'{group_name} has {all_table_df.shape[0]} cells')"
   ]
  },
  {
   "cell_type": "code",
   "execution_count": 6,
   "id": "58c10f56-0c3f-4172-9739-26903aa3ef7d",
   "metadata": {
    "execution": {
     "iopub.execute_input": "2023-07-22T05:20:51.969394Z",
     "iopub.status.busy": "2023-07-22T05:20:51.969211Z",
     "iopub.status.idle": "2023-07-22T05:20:51.972515Z",
     "shell.execute_reply": "2023-07-22T05:20:51.971921Z",
     "shell.execute_reply.started": "2023-07-22T05:20:51.969377Z"
    },
    "tags": []
   },
   "outputs": [],
   "source": [
    "command = f'allcools generate-dataset  \\\n",
    "--allc_table {allc_table} \\\n",
    "--output_path {output_path} \\\n",
    "--chrom_size_path {chrom_size_path} \\\n",
    "--obs_dim cell \\\n",
    "--cpu {cpu} \\\n",
    "--chunk_size 60 \\\n",
    "--regions chrom100k 100000 \\\n",
    "--regions chrom5k 5000 \\\n",
    "--regions gene {gene_meta_path} \\\n",
    "--quantifiers chrom100k count CGN,CHN \\\n",
    "--quantifiers gene count CGN,CHN \\\n",
    "--quantifiers chrom5k hypo-score CGN cutoff=0.9'\n"
   ]
  },
  {
   "cell_type": "code",
   "execution_count": 7,
   "id": "07a81d3f-41d9-48c9-ada4-fd6c028d058c",
   "metadata": {
    "execution": {
     "iopub.execute_input": "2023-07-22T05:20:53.442210Z",
     "iopub.status.busy": "2023-07-22T05:20:53.441928Z",
     "iopub.status.idle": "2023-07-22T05:20:53.446010Z",
     "shell.execute_reply": "2023-07-22T05:20:53.445381Z",
     "shell.execute_reply.started": "2023-07-22T05:20:53.442189Z"
    },
    "tags": []
   },
   "outputs": [],
   "source": [
    "tag_path = f'/data/aging/dataset/female-mcds/{group_name}.finish'\n",
    "tag_path = pathlib.Path(tag_path)"
   ]
  },
  {
   "cell_type": "code",
   "execution_count": 9,
   "id": "ec15a400-1251-4d43-8f13-4f418fa0966f",
   "metadata": {
    "execution": {
     "iopub.execute_input": "2023-07-22T05:22:38.040319Z",
     "iopub.status.busy": "2023-07-22T05:22:38.039855Z",
     "iopub.status.idle": "2023-07-22T05:22:38.190177Z",
     "shell.execute_reply": "2023-07-22T05:22:38.189423Z",
     "shell.execute_reply.started": "2023-07-22T05:22:38.040258Z"
    },
    "tags": []
   },
   "outputs": [
    {
     "name": "stdout",
     "output_type": "stream",
     "text": [
      "pool_amb46 done\n"
     ]
    }
   ],
   "source": [
    "if tag_path.exists() == False:\n",
    "    subprocess.run(f'{command}', shell = True)\n",
    "    subprocess.run(f'gsutil -m cp -r {group_name}.mcds gs://ecker-rachel-analysis/aging/dataset/female-mcds', \n",
    "                   shell = True, stdout = subprocess.DEVNULL, stderr = subprocess.DEVNULL)\n",
    "    subprocess.run(f'touch {group_name}.finish', shell = True)\n",
    "    subprocess.run(f'gsutil cp {group_name}.finish gs://ecker-rachel-analysis/aging/dataset/female-mcds', shell = True)\n",
    "else:\n",
    "    print(f'{group_name} done')"
   ]
  },
  {
   "cell_type": "code",
   "execution_count": null,
   "id": "afbe6bfc-6d46-48b9-a050-b0c4ec5e3435",
   "metadata": {},
   "outputs": [],
   "source": []
  },
  {
   "cell_type": "code",
   "execution_count": null,
   "id": "45ff34a7-5692-4a59-ab85-b89877a9a8ca",
   "metadata": {},
   "outputs": [],
   "source": []
  },
  {
   "cell_type": "code",
   "execution_count": null,
   "id": "fed87f26-122d-4515-8f43-23b6f35872e3",
   "metadata": {},
   "outputs": [],
   "source": []
  },
  {
   "cell_type": "code",
   "execution_count": null,
   "id": "33132394-7bb5-47d2-a8b2-49a986b8e22d",
   "metadata": {},
   "outputs": [],
   "source": []
  }
 ],
 "metadata": {
  "kernelspec": {
   "display_name": "Python 3 (ipykernel)",
   "language": "python",
   "name": "python3"
  },
  "language_info": {
   "codemirror_mode": {
    "name": "ipython",
    "version": 3
   },
   "file_extension": ".py",
   "mimetype": "text/x-python",
   "name": "python",
   "nbconvert_exporter": "python",
   "pygments_lexer": "ipython3",
   "version": "3.7.12"
  }
 },
 "nbformat": 4,
 "nbformat_minor": 5
}
