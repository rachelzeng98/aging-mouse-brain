{
 "cells": [
  {
   "cell_type": "code",
   "execution_count": 1,
   "id": "34017c26-dfc2-4d79-a45a-6d505a4eb669",
   "metadata": {
    "execution": {
     "iopub.execute_input": "2024-03-21T00:41:07.052870Z",
     "iopub.status.busy": "2024-03-21T00:41:07.052186Z",
     "iopub.status.idle": "2024-03-21T00:41:10.625743Z",
     "shell.execute_reply": "2024-03-21T00:41:10.625080Z",
     "shell.execute_reply.started": "2024-03-21T00:41:07.052821Z"
    },
    "tags": []
   },
   "outputs": [],
   "source": [
    "import pandas as pd\n",
    "from wmb import cemba\n",
    "from gliderport.preset.snakemake import prepare_snakemake\n",
    "import json\n",
    "import joblib"
   ]
  },
  {
   "cell_type": "markdown",
   "id": "133c0476-3375-4cc9-a6df-3a5a01817a02",
   "metadata": {},
   "source": [
    "## check unfinished "
   ]
  },
  {
   "cell_type": "code",
   "execution_count": 2,
   "id": "83a752b8-055d-44dc-89cf-b8e0fc94c1d4",
   "metadata": {
    "execution": {
     "iopub.execute_input": "2024-03-21T00:41:13.102139Z",
     "iopub.status.busy": "2024-03-21T00:41:13.101335Z",
     "iopub.status.idle": "2024-03-21T00:41:13.107607Z",
     "shell.execute_reply": "2024-03-21T00:41:13.107173Z",
     "shell.execute_reply.started": "2024-03-21T00:41:13.102105Z"
    },
    "tags": []
   },
   "outputs": [
    {
     "data": {
      "text/plain": [
       "122"
      ]
     },
     "execution_count": 2,
     "metadata": {},
     "output_type": "execute_result"
    }
   ],
   "source": [
    "groups = joblib.load('te_multi_all_groups')\n",
    "#groups.remove('pool_amb46')\n",
    "groups = sorted(groups)\n",
    "len(groups)"
   ]
  },
  {
   "cell_type": "code",
   "execution_count": 3,
   "id": "f2a9b6f8-c07d-495b-8b91-71b341602e7d",
   "metadata": {
    "execution": {
     "iopub.execute_input": "2024-03-21T00:41:53.502860Z",
     "iopub.status.busy": "2024-03-21T00:41:53.502428Z",
     "iopub.status.idle": "2024-03-21T00:41:56.562791Z",
     "shell.execute_reply": "2024-03-21T00:41:56.561769Z",
     "shell.execute_reply.started": "2024-03-21T00:41:53.502832Z"
    },
    "tags": []
   },
   "outputs": [],
   "source": [
    "#\n",
    "prepare_snakemake(\n",
    "    job_dir='multi-te-mcds',\n",
    "    template_dir='template-te/',\n",
    "    groups=groups,\n",
    "    output_bucket='ecker-rachel-amb-datasets',\n",
    "    output_prefix='female-amb/glider-multi-te',\n",
    "    sky_template='sky-jupyter.yaml',\n",
    "    total_jobs=None,\n",
    "    total_mem_gb=None,\n",
    "    default_cpu=95,\n",
    "    default_mem_gb=200,\n",
    "    batches= 5000  ##how many vm to open\n",
    ")"
   ]
  },
  {
   "cell_type": "code",
   "execution_count": null,
   "id": "a586bcfd-718c-44c7-ae41-381b8af20392",
   "metadata": {},
   "outputs": [],
   "source": [
    "glider port --local_job_dir multi-te-mcds --n_worker 32 --use_hash multi-te"
   ]
  },
  {
   "cell_type": "code",
   "execution_count": 5,
   "id": "197a7711-efbb-4ee1-9ea2-8a5d00c1e796",
   "metadata": {
    "execution": {
     "iopub.execute_input": "2023-08-10T06:53:11.493809Z",
     "iopub.status.busy": "2023-08-10T06:53:11.493048Z",
     "iopub.status.idle": "2023-08-10T06:53:11.630221Z",
     "shell.execute_reply": "2023-08-10T06:53:11.629559Z",
     "shell.execute_reply.started": "2023-08-10T06:53:11.493778Z"
    }
   },
   "outputs": [
    {
     "name": "stdout",
     "output_type": "stream",
     "text": [
      "/home/qzeng/project/aging/230723_female_mcds\n"
     ]
    }
   ],
   "source": [
    "! pwd"
   ]
  },
  {
   "cell_type": "code",
   "execution_count": null,
   "id": "92e5d3f3-c3f7-49a9-8dff-414f61e03bae",
   "metadata": {},
   "outputs": [],
   "source": []
  },
  {
   "cell_type": "code",
   "execution_count": null,
   "id": "74f02227-a48a-46ab-b582-ddb4557f8f6c",
   "metadata": {},
   "outputs": [],
   "source": []
  },
  {
   "cell_type": "code",
   "execution_count": null,
   "id": "94bdcd62-4b50-4ddd-95bb-755767ad7d28",
   "metadata": {},
   "outputs": [],
   "source": []
  },
  {
   "cell_type": "code",
   "execution_count": null,
   "id": "65b0e585-1868-4a30-acfd-f2df74fef68c",
   "metadata": {},
   "outputs": [],
   "source": []
  },
  {
   "cell_type": "code",
   "execution_count": null,
   "id": "e71bede8-8e7b-4894-af53-d0488958ac07",
   "metadata": {},
   "outputs": [],
   "source": []
  },
  {
   "cell_type": "code",
   "execution_count": null,
   "id": "f7fc35c8-6211-466f-9a0f-507ebd950bbb",
   "metadata": {},
   "outputs": [],
   "source": []
  }
 ],
 "metadata": {
  "kernelspec": {
   "display_name": "Python 3 (ipykernel)",
   "language": "python",
   "name": "python3"
  },
  "language_info": {
   "codemirror_mode": {
    "name": "ipython",
    "version": 3
   },
   "file_extension": ".py",
   "mimetype": "text/x-python",
   "name": "python",
   "nbconvert_exporter": "python",
   "pygments_lexer": "ipython3",
   "version": "3.7.12"
  }
 },
 "nbformat": 4,
 "nbformat_minor": 5
}
