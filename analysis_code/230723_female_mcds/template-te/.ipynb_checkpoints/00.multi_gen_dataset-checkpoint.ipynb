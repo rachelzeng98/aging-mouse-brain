{
 "cells": [
  {
   "cell_type": "code",
   "execution_count": 1,
   "id": "0e2fd291-e7cc-40bc-aa26-dee1eb64c4b7",
   "metadata": {},
   "outputs": [],
   "source": [
    "import pathlib\n",
    "import subprocess\n",
    "import pandas as pd\n",
    "import glob\n",
    "import os"
   ]
  },
  {
   "cell_type": "code",
   "execution_count": 1,
   "id": "badccd20-96a0-4019-a1f9-aa445be46a23",
   "metadata": {},
   "outputs": [],
   "source": [
    "#group_name = 'group_0'"
   ]
  },
  {
   "cell_type": "code",
   "execution_count": 6,
   "id": "229f247f-a0f2-4ec1-a154-14ee076dff8c",
   "metadata": {},
   "outputs": [],
   "source": [
    "allc_table_path = f'/data/tmp/Multi.TE.beds/{group_name}.tsv'\n",
    "output_path = f'{group_name}.mcds'\n",
    "chrom_size_path = f'/ref/m3C/mm10.main.nochrM.nochrY.chrom.sizes'\n",
    "cpu = 95"
   ]
  },
  {
   "cell_type": "code",
   "execution_count": 7,
   "id": "186ec2de-e3ac-4f29-a2b9-47d82611bbf9",
   "metadata": {
    "scrolled": true
   },
   "outputs": [],
   "source": [
    "pathlib.Path('tmpallc').mkdir(exist_ok = True)"
   ]
  },
  {
   "cell_type": "code",
   "execution_count": 8,
   "id": "9f24a18a-70f1-4b6d-ba5f-d1369309dd4b",
   "metadata": {},
   "outputs": [],
   "source": [
    "tag_path = f'{group_name}.copy.finish'\n",
    "tag_path = pathlib.Path(tag_path)\n",
    "\n",
    "if tag_path.exists() == False:\n",
    "    tmpdf = pd.read_csv(allc_table_path, sep = '\\t', header = None)\n",
    "    paths = tmpdf[1].tolist()\n",
    "    \n",
    "    with open('gcs_paths.txt', 'w') as f:\n",
    "        for path in paths:\n",
    "            # Replace the prefix and write the GCS path to the file\n",
    "            gcs_path = path.replace('/data', 'gs://ecker-rachel-amb-datasets')\n",
    "            gcs_tbi_path = f\"{gcs_path}.tbi\"\n",
    "            f.write(gcs_path + '\\n')\n",
    "            f.write(gcs_tbi_path + '\\n')\n",
    "    \n",
    "    command = \"gsutil -m cp -I tmpallc < gcs_paths.txt\"\n",
    "    subprocess.run(command, shell=True, stdout = subprocess.DEVNULL, stderr = subprocess.DEVNULL)\n",
    "    \n",
    "else:\n",
    "    print(f\"{group_name} already copied\")"
   ]
  },
  {
   "cell_type": "code",
   "execution_count": 9,
   "id": "5497a35b-9726-4912-83be-7e050fb6a59a",
   "metadata": {},
   "outputs": [
    {
     "data": {
      "text/plain": [
       "CompletedProcess(args='touch group_0.copy.finish', returncode=0)"
      ]
     },
     "execution_count": 9,
     "metadata": {},
     "output_type": "execute_result"
    }
   ],
   "source": [
    "subprocess.run(f'touch {group_name}.copy.finish', shell=True)"
   ]
  },
  {
   "cell_type": "code",
   "execution_count": 10,
   "id": "c0fe7db1-a1c8-444c-84ad-8f1a24c66307",
   "metadata": {},
   "outputs": [],
   "source": [
    "te_to_path = {}\n",
    "for path in glob.glob(f\"/ref/repeatmasker-with-id/*.bed\"):\n",
    "    te_name = pathlib.Path(path).name.split('.')[-2].split('-')[-1]\n",
    "    te_to_path[te_name] = path"
   ]
  },
  {
   "cell_type": "code",
   "execution_count": 11,
   "id": "37d292fb-cb4c-4839-9a2e-42f4d2af9741",
   "metadata": {},
   "outputs": [
    {
     "data": {
      "text/html": [
       "<div>\n",
       "<style scoped>\n",
       "    .dataframe tbody tr th:only-of-type {\n",
       "        vertical-align: middle;\n",
       "    }\n",
       "\n",
       "    .dataframe tbody tr th {\n",
       "        vertical-align: top;\n",
       "    }\n",
       "\n",
       "    .dataframe thead th {\n",
       "        text-align: right;\n",
       "    }\n",
       "</style>\n",
       "<table border=\"1\" class=\"dataframe\">\n",
       "  <thead>\n",
       "    <tr style=\"text-align: right;\">\n",
       "      <th></th>\n",
       "      <th>0</th>\n",
       "      <th>1</th>\n",
       "    </tr>\n",
       "  </thead>\n",
       "  <tbody>\n",
       "    <tr>\n",
       "      <th>0</th>\n",
       "      <td>AMB_220405_8wk_5E_6E_1_P1-1-K15-A1</td>\n",
       "      <td>/home/qzeng_salk_edu/project/240319_te/tmpallc...</td>\n",
       "    </tr>\n",
       "    <tr>\n",
       "      <th>1</th>\n",
       "      <td>AMB_220405_8wk_5E_6E_1_P1-1-K15-A13</td>\n",
       "      <td>/home/qzeng_salk_edu/project/240319_te/tmpallc...</td>\n",
       "    </tr>\n",
       "    <tr>\n",
       "      <th>2</th>\n",
       "      <td>AMB_220405_8wk_5E_6E_1_P1-1-K15-A14</td>\n",
       "      <td>/home/qzeng_salk_edu/project/240319_te/tmpallc...</td>\n",
       "    </tr>\n",
       "    <tr>\n",
       "      <th>3</th>\n",
       "      <td>AMB_220405_8wk_5E_6E_1_P1-1-K15-A2</td>\n",
       "      <td>/home/qzeng_salk_edu/project/240319_te/tmpallc...</td>\n",
       "    </tr>\n",
       "    <tr>\n",
       "      <th>4</th>\n",
       "      <td>AMB_220405_8wk_5E_6E_1_P1-1-K15-B1</td>\n",
       "      <td>/home/qzeng_salk_edu/project/240319_te/tmpallc...</td>\n",
       "    </tr>\n",
       "    <tr>\n",
       "      <th>...</th>\n",
       "      <td>...</td>\n",
       "      <td>...</td>\n",
       "    </tr>\n",
       "    <tr>\n",
       "      <th>595</th>\n",
       "      <td>AMB_220405_8wk_5E_6E_1_P5-4-C23-K7</td>\n",
       "      <td>/home/qzeng_salk_edu/project/240319_te/tmpallc...</td>\n",
       "    </tr>\n",
       "    <tr>\n",
       "      <th>596</th>\n",
       "      <td>AMB_220405_8wk_5E_6E_1_P5-4-C23-K8</td>\n",
       "      <td>/home/qzeng_salk_edu/project/240319_te/tmpallc...</td>\n",
       "    </tr>\n",
       "    <tr>\n",
       "      <th>597</th>\n",
       "      <td>AMB_220405_8wk_5E_6E_1_P5-4-C23-L19</td>\n",
       "      <td>/home/qzeng_salk_edu/project/240319_te/tmpallc...</td>\n",
       "    </tr>\n",
       "    <tr>\n",
       "      <th>598</th>\n",
       "      <td>AMB_220405_8wk_5E_6E_1_P5-4-C23-L20</td>\n",
       "      <td>/home/qzeng_salk_edu/project/240319_te/tmpallc...</td>\n",
       "    </tr>\n",
       "    <tr>\n",
       "      <th>599</th>\n",
       "      <td>AMB_220405_8wk_5E_6E_1_P5-4-C23-L7</td>\n",
       "      <td>/home/qzeng_salk_edu/project/240319_te/tmpallc...</td>\n",
       "    </tr>\n",
       "  </tbody>\n",
       "</table>\n",
       "<p>600 rows × 2 columns</p>\n",
       "</div>"
      ],
      "text/plain": [
       "                                       0  \\\n",
       "0     AMB_220405_8wk_5E_6E_1_P1-1-K15-A1   \n",
       "1    AMB_220405_8wk_5E_6E_1_P1-1-K15-A13   \n",
       "2    AMB_220405_8wk_5E_6E_1_P1-1-K15-A14   \n",
       "3     AMB_220405_8wk_5E_6E_1_P1-1-K15-A2   \n",
       "4     AMB_220405_8wk_5E_6E_1_P1-1-K15-B1   \n",
       "..                                   ...   \n",
       "595   AMB_220405_8wk_5E_6E_1_P5-4-C23-K7   \n",
       "596   AMB_220405_8wk_5E_6E_1_P5-4-C23-K8   \n",
       "597  AMB_220405_8wk_5E_6E_1_P5-4-C23-L19   \n",
       "598  AMB_220405_8wk_5E_6E_1_P5-4-C23-L20   \n",
       "599   AMB_220405_8wk_5E_6E_1_P5-4-C23-L7   \n",
       "\n",
       "                                                     1  \n",
       "0    /home/qzeng_salk_edu/project/240319_te/tmpallc...  \n",
       "1    /home/qzeng_salk_edu/project/240319_te/tmpallc...  \n",
       "2    /home/qzeng_salk_edu/project/240319_te/tmpallc...  \n",
       "3    /home/qzeng_salk_edu/project/240319_te/tmpallc...  \n",
       "4    /home/qzeng_salk_edu/project/240319_te/tmpallc...  \n",
       "..                                                 ...  \n",
       "595  /home/qzeng_salk_edu/project/240319_te/tmpallc...  \n",
       "596  /home/qzeng_salk_edu/project/240319_te/tmpallc...  \n",
       "597  /home/qzeng_salk_edu/project/240319_te/tmpallc...  \n",
       "598  /home/qzeng_salk_edu/project/240319_te/tmpallc...  \n",
       "599  /home/qzeng_salk_edu/project/240319_te/tmpallc...  \n",
       "\n",
       "[600 rows x 2 columns]"
      ]
     },
     "execution_count": 11,
     "metadata": {},
     "output_type": "execute_result"
    }
   ],
   "source": [
    "allc_table = pd.read_csv(allc_table_path, sep = '\\t', header = None)\n",
    "allc_table[1] = allc_table[1].apply(lambda x:pathlib.Path(x).name)\n",
    "curretn_allc_dir = f\"{ os.getcwd()}/tmpallc\"\n",
    "allc_table[1] = curretn_allc_dir + '/' + allc_table[1]\n",
    "allc_table"
   ]
  },
  {
   "cell_type": "code",
   "execution_count": 12,
   "id": "08686e62-cb8c-4086-aacb-dd5fe57a7cd1",
   "metadata": {},
   "outputs": [],
   "source": [
    "allc_table.to_csv('use_allc_table.csv', sep = '\\t', index = None, header = None)"
   ]
  },
  {
   "cell_type": "code",
   "execution_count": 13,
   "id": "1f607d7f-4182-42ee-9e84-6f772f921d93",
   "metadata": {},
   "outputs": [],
   "source": [
    "allc_table_path = 'use_allc_table.csv'"
   ]
  },
  {
   "cell_type": "code",
   "execution_count": 14,
   "id": "32003d82-f529-47f7-abed-7b55b9a4c5d3",
   "metadata": {},
   "outputs": [],
   "source": [
    "command = f\"allcools generate-dataset  \\\n",
    "--allc_table {allc_table_path} \\\n",
    "--output_path {output_path} \\\n",
    "--chrom_size_path {chrom_size_path} \\\n",
    "--obs_dim cell \\\n",
    "--cpu {cpu} \\\n",
    "--chunk_size 30 \\\n",
    "--regions DNA {te_to_path['DNA']} \\\n",
    "--quantifiers DNA count CGN,CHN \\\n",
    "--regions LINE {te_to_path['LINE']} \\\n",
    "--quantifiers LINE count CGN,CHN \\\n",
    "--regions LTR {te_to_path['LTR']} \\\n",
    "--quantifiers LTR count CGN,CHN \\\n",
    "--regions LowComplexity {te_to_path['LowComplexity']} \\\n",
    "--quantifiers LowComplexity count CGN,CHN \\\n",
    "--regions RC {te_to_path['RC']} \\\n",
    "--quantifiers RC count CGN,CHN \\\n",
    "--regions RNA {te_to_path['RNA']} \\\n",
    "--quantifiers RNA count CGN,CHN \\\n",
    "--regions SINE {te_to_path['SINE']} \\\n",
    "--quantifiers SINE count CGN,CHN \\\n",
    "--regions Satellite {te_to_path['Satellite']} \\\n",
    "--quantifiers Satellite count CGN,CHN \\\n",
    "--regions SimpleRepeat {te_to_path['SimpleRepeat']} \\\n",
    "--quantifiers SimpleRepeat count CGN,CHN \\\n",
    "--regions rRNA {te_to_path['rRNA']} \\\n",
    "--quantifiers rRNA count CGN,CHN \\\n",
    "--regions scRNA {te_to_path['scRNA']} \\\n",
    "--quantifiers scRNA count CGN,CHN \\\n",
    "--regions snRNA {te_to_path['snRNA']} \\\n",
    "--quantifiers snRNA count CGN,CHN \\\n",
    "--regions srpRNA {te_to_path['srpRNA']} \\\n",
    "--quantifiers srpRNA count CGN,CHN \\\n",
    "--regions tRNA {te_to_path['tRNA']} \\\n",
    "--quantifiers tRNA count CGN,CHN \""
   ]
  },
  {
   "cell_type": "code",
   "execution_count": 15,
   "id": "24b5dc80-2fd4-448c-a11e-c7af04a786ca",
   "metadata": {},
   "outputs": [],
   "source": [
    "tag_path = f'/data/female-amb/Famale.Multi.TE.zarr/{group_name}.finish'\n",
    "tag_path = pathlib.Path(tag_path)"
   ]
  },
  {
   "cell_type": "code",
   "execution_count": null,
   "id": "517e3f33-9baa-498d-b1ba-b09491f3d4e1",
   "metadata": {},
   "outputs": [
    {
     "name": "stdout",
     "output_type": "stream",
     "text": [
      "command\tgenerate-dataset\n",
      "allc_table\tuse_allc_table.csv\n",
      "output_path\tgroup_0.mcds\n",
      "chrom_size_path\t/ref/m3C/mm10.main.nochrM.nochrY.chrom.sizes\n",
      "obs_dim\tcell\n",
      "cpu\t95\n",
      "chunk_size\t30\n",
      "regions\t[['DNA', '/ref/repeatmasker-with-id/hg38.repeatmasker.repClass-DNA.bed'], ['LINE', '/ref/repeatmasker-with-id/hg38.repeatmasker.repClass-LINE.bed'], ['LTR', '/ref/repeatmasker-with-id/hg38.repeatmasker.repClass-LTR.bed'], ['LowComplexity', '/ref/repeatmasker-with-id/hg38.repeatmasker.repClass-LowComplexity.bed'], ['RC', '/ref/repeatmasker-with-id/hg38.repeatmasker.repClass-RC.bed'], ['RNA', '/ref/repeatmasker-with-id/hg38.repeatmasker.repClass-RNA.bed'], ['SINE', '/ref/repeatmasker-with-id/hg38.repeatmasker.repClass-SINE.bed'], ['Satellite', '/ref/repeatmasker-with-id/hg38.repeatmasker.repClass-Satellite.bed'], ['SimpleRepeat', '/ref/repeatmasker-with-id/hg38.repeatmasker.repClass-SimpleRepeat.bed'], ['rRNA', '/ref/repeatmasker-with-id/hg38.repeatmasker.repClass-rRNA.bed'], ['scRNA', '/ref/repeatmasker-with-id/hg38.repeatmasker.repClass-scRNA.bed'], ['snRNA', '/ref/repeatmasker-with-id/hg38.repeatmasker.repClass-snRNA.bed'], ['srpRNA', '/ref/repeatmasker-with-id/hg38.repeatmasker.repClass-srpRNA.bed'], ['tRNA', '/ref/repeatmasker-with-id/hg38.repeatmasker.repClass-tRNA.bed']]\n",
      "quantifiers\t[['DNA', 'count', 'CGN,CHN'], ['LINE', 'count', 'CGN,CHN'], ['LTR', 'count', 'CGN,CHN'], ['LowComplexity', 'count', 'CGN,CHN'], ['RC', 'count', 'CGN,CHN'], ['RNA', 'count', 'CGN,CHN'], ['SINE', 'count', 'CGN,CHN'], ['Satellite', 'count', 'CGN,CHN'], ['SimpleRepeat', 'count', 'CGN,CHN'], ['rRNA', 'count', 'CGN,CHN'], ['scRNA', 'count', 'CGN,CHN'], ['snRNA', 'count', 'CGN,CHN'], ['srpRNA', 'count', 'CGN,CHN'], ['tRNA', 'count', 'CGN,CHN']]\n",
      "Executing generate-dataset...\n"
     ]
    }
   ],
   "source": [
    "if tag_path.exists() == False:\n",
    "    subprocess.run(f'{command}', shell = True)\n",
    "    subprocess.run(f'gsutil -m cp -r {group_name}.mcds gs://ecker-rachel-amb-datasets/female-amb/Famale.Multi.TE.zarr', \n",
    "                   shell = True, stdout = subprocess.DEVNULL, stderr = subprocess.DEVNULL)  \n",
    "else:\n",
    "    print(f'{group_name} done')"
   ]
  },
  {
   "cell_type": "code",
   "execution_count": 14,
   "id": "7ef58814-0ec9-46ff-8787-f3384ca63fda",
   "metadata": {},
   "outputs": [
    {
     "name": "stderr",
     "output_type": "stream",
     "text": [
      "Copying file://test.finish [Content-Type=application/octet-stream]...\n",
      "/ [1 files][    0.0 B/    0.0 B]                                                \n",
      "Operation completed over 1 objects.                                              \n"
     ]
    },
    {
     "data": {
      "text/plain": [
       "CompletedProcess(args='gsutil cp test.finish gs://ecker-rachel-amb-datasets/female-amb/Famale.Multi.TE.zarr', returncode=0)"
      ]
     },
     "execution_count": 14,
     "metadata": {},
     "output_type": "execute_result"
    }
   ],
   "source": [
    "subprocess.run(f'touch {group_name}.finish', shell = True)\n",
    "subprocess.run(f'gsutil cp {group_name}.finish gs://ecker-rachel-amb-datasets/female-amb/Famale.Multi.TE.zarr', \n",
    "                   shell = True)"
   ]
  },
  {
   "cell_type": "code",
   "execution_count": 15,
   "id": "2914600a-5163-4ab7-b45a-c220c2379fa6",
   "metadata": {},
   "outputs": [
    {
     "data": {
      "text/plain": [
       "CompletedProcess(args='rm tmpallc -rf', returncode=0)"
      ]
     },
     "execution_count": 15,
     "metadata": {},
     "output_type": "execute_result"
    }
   ],
   "source": [
    "subprocess.run(f'rm {group_name}.copy.finish', shell = True)\n",
    "subprocess.run(f'rm tmpallc -rf', shell = True)"
   ]
  },
  {
   "cell_type": "code",
   "execution_count": 20,
   "id": "ac09657d-0e49-4e09-84ec-ec128975de54",
   "metadata": {},
   "outputs": [],
   "source": [
    "# command = f\"-allc_table {allc_table} \\\n",
    "# --output_prefix {group_name} \\\n",
    "# --dtype uint32 \\\n",
    "# --chrom_size_path  {chrom_size_path} \\\n",
    "# --mc_contexts CGN CHN \\\n",
    "# --cpu 45 \\\n",
    "# --region_bed_paths hg38.repeatmasker.repClass-DNA.bed hg38.repeatmasker.repClass-LINE.bed hg38.repeatmasker.repClass-SINE.bed hg38.repeatmasker.repClass-LTR.bed hg38.repeatmasker.repClass-RC.bed hg38.repeatmasker.repClass-Retroposon.bed hg38.repeatmasker.repClass-RNA.bed hg38.repeatmasker.repClass-rRNA.bed hg38.repeatmasker.repClass-Satellite.bed hg38.repeatmasker.repClass-scRNA.bed hg38.repeatmasker.repClass-snRNA.bed hg38.repeatmasker.repClass-srpRNA.bed hg38.repeatmasker.repClass-tRNA.bed hg38.repeatmasker.repClass-LowComplexity.bed hg38.repeatmasker.repClass-SimpleRepeat.bed \\ \n",
    "# --region_bed_names DNA LINE SINE LTR RC Retroposon RNA rRNA Satellite scRNA snRNA srpRNA tRNA LowComplexity SimpleRepeat \\\n",
    "# --engine netcdf \\\n",
    "# --max_per_mcds 400\""
   ]
  },
  {
   "cell_type": "code",
   "execution_count": null,
   "id": "8a86689d-aba3-49aa-a72a-e1dc4b8d2710",
   "metadata": {},
   "outputs": [],
   "source": []
  },
  {
   "cell_type": "code",
   "execution_count": null,
   "id": "1ad1bf14-f7af-49a0-a11d-85c8a698bfc1",
   "metadata": {},
   "outputs": [],
   "source": []
  },
  {
   "cell_type": "code",
   "execution_count": null,
   "id": "0c396a97-9658-4fcc-be00-f0f7f19c408a",
   "metadata": {},
   "outputs": [],
   "source": []
  },
  {
   "cell_type": "code",
   "execution_count": null,
   "id": "d8945cfc-9194-4796-92f6-a35b8fb047b3",
   "metadata": {},
   "outputs": [],
   "source": []
  }
 ],
 "metadata": {
  "kernelspec": {
   "display_name": "Python 3 (ipykernel)",
   "language": "python",
   "name": "python3"
  },
  "language_info": {
   "codemirror_mode": {
    "name": "ipython",
    "version": 3
   },
   "file_extension": ".py",
   "mimetype": "text/x-python",
   "name": "python",
   "nbconvert_exporter": "python",
   "pygments_lexer": "ipython3",
   "version": "3.7.12"
  }
 },
 "nbformat": 4,
 "nbformat_minor": 5
}
