{
 "cells": [
  {
   "cell_type": "markdown",
   "id": "74ee1dcc-53ee-4904-95a9-99247d54fb69",
   "metadata": {
    "tags": []
   },
   "source": [
    "# Map m3C L1 to mC Cell Types"
   ]
  },
  {
   "cell_type": "code",
   "execution_count": 1,
   "id": "43788ca1-0ef5-4c18-bbfd-e5b0cc494939",
   "metadata": {
    "tags": []
   },
   "outputs": [],
   "source": [
    "import joblib\n",
    "import pandas as pd\n",
    "from gliderport.preset import notebook_snakemake\n",
    "from wmb import cemba\n",
    "\n",
    "\n",
    "def save_index(path, index):\n",
    "    with open(path, \"w\") as f:\n",
    "        f.write(\"\\n\".join(index))"
   ]
  },
  {
   "cell_type": "code",
   "execution_count": 2,
   "id": "aaa85afe-9a75-450c-8fa2-c78ce362756b",
   "metadata": {
    "tags": []
   },
   "outputs": [],
   "source": [
    "mc_annot = pd.read_csv('mC_META_230814.csv', index_col = 0)\n",
    "m3c_annot = pd.read_csv('m3C_META_230814.csv', index_col = 0)\n",
    "m3c_annot['l1'] = m3c_annot['l1'].astype(str)"
   ]
  },
  {
   "cell_type": "code",
   "execution_count": 3,
   "id": "16f2a828-414a-4674-8a8c-05a8a14da656",
   "metadata": {
    "tags": []
   },
   "outputs": [],
   "source": [
    "integraion_group = joblib.load(\"Round1/m3C-L4Region.mc-L4Region.integration_groups.dict\")"
   ]
  },
  {
   "cell_type": "code",
   "execution_count": 4,
   "id": "190554b6-7cc5-45bc-abaa-cd26f319cb91",
   "metadata": {},
   "outputs": [
    {
     "data": {
      "text/plain": [
       "{-1: {'ref': ['c55', 'c65', 'c69', 'c71', 'c73', 'c78'],\n",
       "  'query': ['24', '37']},\n",
       " 0: {'ref': ['c19', 'c29', 'c3', 'c33', 'c35', 'c66'],\n",
       "  'query': ['29', '7', '13', '44']},\n",
       " 1: {'ref': ['c12', 'c20', 'c36', 'c38', 'c4'],\n",
       "  'query': ['35', '23', '15', '17']},\n",
       " 2: {'ref': ['c11', 'c16', 'c61', 'c64', 'c77'],\n",
       "  'query': ['20', '40', '8', '3']},\n",
       " 3: {'ref': ['c0', 'c23', 'c48', 'c68', 'c74', 'c75'], 'query': ['45', '1']},\n",
       " 4: {'ref': ['c17', 'c46'], 'query': ['12', '21', '5', '36']},\n",
       " 5: {'ref': ['c10', 'c45', 'c50', 'c63'], 'query': ['41', '19']},\n",
       " 6: {'ref': ['c2', 'c53', 'nan'], 'query': ['4', '0']},\n",
       " 7: {'ref': ['c34', 'c7', 'c8'], 'query': ['9', '16']},\n",
       " 8: {'ref': ['c21', 'c39', 'c9'], 'query': ['18', '38']},\n",
       " 9: {'ref': ['c15', 'c31', 'c52', 'c67'], 'query': ['6']},\n",
       " 10: {'ref': ['c1', 'c13', 'c5'], 'query': ['2']},\n",
       " 11: {'ref': ['c18', 'c47', 'c51'], 'query': ['25']},\n",
       " 12: {'ref': ['c14', 'c22'], 'query': ['11']},\n",
       " 13: {'ref': ['c24', 'c25'], 'query': ['10']},\n",
       " 14: {'ref': ['c26', 'c49'], 'query': ['22']},\n",
       " 15: {'ref': ['c27', 'c37'], 'query': ['27']},\n",
       " 16: {'ref': ['c30', 'c42'], 'query': ['26']},\n",
       " 17: {'ref': ['c40', 'c72'], 'query': ['30']},\n",
       " 18: {'ref': ['c43', 'c62'], 'query': ['34']},\n",
       " 19: {'ref': ['c57', 'c76'], 'query': ['42']},\n",
       " 20: {'ref': ['c28'], 'query': ['31']},\n",
       " 21: {'ref': ['c32'], 'query': ['28']},\n",
       " 22: {'ref': ['c41'], 'query': ['32']},\n",
       " 23: {'ref': ['c44'], 'query': ['33']},\n",
       " 24: {'ref': ['c58'], 'query': ['39']},\n",
       " 25: {'ref': ['c59'], 'query': ['43']},\n",
       " 26: {'ref': ['c6'], 'query': ['14']},\n",
       " 27: {'ref': ['c70'], 'query': ['46']}}"
      ]
     },
     "execution_count": 4,
     "metadata": {},
     "output_type": "execute_result"
    }
   ],
   "source": [
    "integraion_group"
   ]
  },
  {
   "cell_type": "code",
   "execution_count": 4,
   "id": "6c58ffa6-65cf-4beb-90ce-13105557059c",
   "metadata": {
    "execution": {
     "iopub.execute_input": "2023-08-14T22:16:16.318852Z",
     "iopub.status.busy": "2023-08-14T22:16:16.318650Z",
     "iopub.status.idle": "2023-08-14T22:16:16.324321Z",
     "shell.execute_reply": "2023-08-14T22:16:16.323666Z",
     "shell.execute_reply.started": "2023-08-14T22:16:16.318836Z"
    },
    "tags": []
   },
   "outputs": [],
   "source": [
    "inte_groups = list(integraion_group.keys())\n",
    "#inte_groups = [f'inte_{_group}' for _group in inte_groups]"
   ]
  },
  {
   "cell_type": "code",
   "execution_count": 5,
   "id": "f6a8fccd-ece9-4027-b586-fae5fb7dda7b",
   "metadata": {
    "execution": {
     "iopub.execute_input": "2023-08-14T22:16:16.325339Z",
     "iopub.status.busy": "2023-08-14T22:16:16.325148Z",
     "iopub.status.idle": "2023-08-14T22:16:16.442710Z",
     "shell.execute_reply": "2023-08-14T22:16:16.441858Z",
     "shell.execute_reply.started": "2023-08-14T22:16:16.325324Z"
    },
    "tags": []
   },
   "outputs": [],
   "source": [
    "notebook_snakemake(\n",
    "    work_dir=\"Round2/\",\n",
    "    notebook_dir=\"template/\",\n",
    "    groups=inte_groups,\n",
    "    default_cpu=8,\n",
    "    default_mem_gb=10,\n",
    "    redo_prepare=False,\n",
    ")"
   ]
  },
  {
   "cell_type": "markdown",
   "id": "14b376df-6383-4d44-9567-ec3036b03731",
   "metadata": {},
   "source": [
    "## Add Cell IDs"
   ]
  },
  {
   "cell_type": "code",
   "execution_count": 14,
   "id": "88d7c568-8468-4cd6-b7ac-20be44611a57",
   "metadata": {
    "execution": {
     "iopub.execute_input": "2023-08-14T22:17:35.690529Z",
     "iopub.status.busy": "2023-08-14T22:17:35.690262Z",
     "iopub.status.idle": "2023-08-14T22:17:35.694248Z",
     "shell.execute_reply": "2023-08-14T22:17:35.693711Z",
     "shell.execute_reply.started": "2023-08-14T22:17:35.690512Z"
    },
    "tags": []
   },
   "outputs": [],
   "source": [
    "n_min_cells = 50"
   ]
  },
  {
   "cell_type": "code",
   "execution_count": 15,
   "id": "d339b8da-b9c7-41f1-b6ba-011edfac756d",
   "metadata": {
    "execution": {
     "iopub.execute_input": "2023-08-14T22:17:35.950250Z",
     "iopub.status.busy": "2023-08-14T22:17:35.950070Z",
     "iopub.status.idle": "2023-08-14T22:17:36.196907Z",
     "shell.execute_reply": "2023-08-14T22:17:36.196245Z",
     "shell.execute_reply.started": "2023-08-14T22:17:35.950236Z"
    },
    "tags": []
   },
   "outputs": [],
   "source": [
    "for group_name in inte_groups:\n",
    "    _dict = integraion_group[group_name]\n",
    "    mc_l1s = _dict['ref']\n",
    "    m3c_l1s = _dict['query']\n",
    "    \n",
    "    mc_cells = mc_annot[mc_annot['l1'].isin(mc_l1s)].index\n",
    "    m3c_cells = m3c_annot[m3c_annot['l1'].isin(m3c_l1s)].index\n",
    "    if len(mc_cells) < n_min_cells or len(m3c_cells) < n_min_cells:\n",
    "        print(group_name)\n",
    "    else:\n",
    "        save_index(f\"Round2/{group_name}/mc_cells.txt\", mc_cells)\n",
    "        save_index(f\"Round2/{group_name}/m3c_cells.txt\", m3c_cells)\n"
   ]
  },
  {
   "cell_type": "raw",
   "id": "825a3907-0587-48e5-95bb-f82905b05b7e",
   "metadata": {},
   "source": []
  },
  {
   "cell_type": "code",
   "execution_count": null,
   "id": "5d715645-c109-42d3-ac4c-3e2de2f8f656",
   "metadata": {},
   "outputs": [],
   "source": []
  },
  {
   "cell_type": "code",
   "execution_count": null,
   "id": "6cca6640-50f5-41ce-9577-705a7c2a543d",
   "metadata": {},
   "outputs": [],
   "source": []
  },
  {
   "cell_type": "code",
   "execution_count": null,
   "id": "3504e67b-4dc4-4fec-89dc-de11b7ea5395",
   "metadata": {},
   "outputs": [],
   "source": []
  },
  {
   "cell_type": "code",
   "execution_count": null,
   "id": "ebd49f10-c8aa-4f7e-8202-3a1cee18ffd3",
   "metadata": {},
   "outputs": [],
   "source": []
  },
  {
   "cell_type": "code",
   "execution_count": null,
   "id": "907c8392-2378-40c3-a4e0-563b9fe5e1a1",
   "metadata": {},
   "outputs": [],
   "source": []
  }
 ],
 "metadata": {
  "kernelspec": {
   "display_name": "Python 3 (ipykernel)",
   "language": "python",
   "name": "python3"
  },
  "language_info": {
   "codemirror_mode": {
    "name": "ipython",
    "version": 3
   },
   "file_extension": ".py",
   "mimetype": "text/x-python",
   "name": "python",
   "nbconvert_exporter": "python",
   "pygments_lexer": "ipython3",
   "version": "3.10.12"
  }
 },
 "nbformat": 4,
 "nbformat_minor": 5
}
