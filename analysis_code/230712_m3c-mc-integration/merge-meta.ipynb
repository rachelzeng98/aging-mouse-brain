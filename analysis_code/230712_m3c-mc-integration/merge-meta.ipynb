{
 "cells": [
  {
   "cell_type": "code",
   "execution_count": 13,
   "id": "3688d1d9-0072-4713-bce9-d4fc955aa7f4",
   "metadata": {
    "execution": {
     "iopub.execute_input": "2023-08-14T23:17:44.830918Z",
     "iopub.status.busy": "2023-08-14T23:17:44.830611Z",
     "iopub.status.idle": "2023-08-14T23:17:44.835494Z",
     "shell.execute_reply": "2023-08-14T23:17:44.834718Z",
     "shell.execute_reply.started": "2023-08-14T23:17:44.830897Z"
    },
    "tags": []
   },
   "outputs": [],
   "source": [
    "import anndata\n",
    "import pandas as pd\n",
    "import glob\n",
    "import pathlib"
   ]
  },
  {
   "cell_type": "code",
   "execution_count": 26,
   "id": "51ae7b0f-01f2-49d3-95ec-ddc7ae23a3ea",
   "metadata": {
    "execution": {
     "iopub.execute_input": "2023-08-14T23:20:52.534611Z",
     "iopub.status.busy": "2023-08-14T23:20:52.534301Z",
     "iopub.status.idle": "2023-08-14T23:20:52.539878Z",
     "shell.execute_reply": "2023-08-14T23:20:52.539206Z",
     "shell.execute_reply.started": "2023-08-14T23:20:52.534589Z"
    },
    "tags": []
   },
   "outputs": [],
   "source": [
    "all_inte_files = glob.glob('Round2/*/mC-m3C-integration.csv')\n",
    "mapped = [path.split('/')[1] for path in all_inte_files]"
   ]
  },
  {
   "cell_type": "code",
   "execution_count": 27,
   "id": "03694baa-6244-4cdb-890f-b128fe2de18b",
   "metadata": {
    "execution": {
     "iopub.execute_input": "2023-08-14T23:20:52.993168Z",
     "iopub.status.busy": "2023-08-14T23:20:52.992983Z",
     "iopub.status.idle": "2023-08-14T23:20:52.997173Z",
     "shell.execute_reply": "2023-08-14T23:20:52.996604Z",
     "shell.execute_reply.started": "2023-08-14T23:20:52.993153Z"
    },
    "tags": []
   },
   "outputs": [],
   "source": [
    "all_groups= [pathlib.Path(path).name for path in glob.glob('Round2/*')]\n",
    "all_groups.remove('Snakefile')\n",
    "all_groups.remove('notebooks')"
   ]
  },
  {
   "cell_type": "code",
   "execution_count": 42,
   "id": "903e7b48-c9fe-4ae2-af08-a8a2649ef46c",
   "metadata": {
    "execution": {
     "iopub.execute_input": "2023-08-14T23:24:57.974689Z",
     "iopub.status.busy": "2023-08-14T23:24:57.974398Z",
     "iopub.status.idle": "2023-08-14T23:24:58.236515Z",
     "shell.execute_reply": "2023-08-14T23:24:58.235675Z",
     "shell.execute_reply.started": "2023-08-14T23:24:57.974664Z"
    },
    "tags": []
   },
   "outputs": [],
   "source": [
    "all_inte_l2_df = []\n",
    "for path in all_inte_files:\n",
    "    group = path.split('/')[1]\n",
    "    tmpdf = pd.read_csv(path, index_col = 0)\n",
    "    all_inte_l2_df.append(tmpdf)\n",
    "    tmpdf['mc_m3c-co_cluster_l2'] = group + '-' + tmpdf['leiden'].astype(str)"
   ]
  },
  {
   "cell_type": "code",
   "execution_count": 43,
   "id": "023edf63-19db-4a31-b8b7-a4e7b5a6e37f",
   "metadata": {
    "execution": {
     "iopub.execute_input": "2023-08-14T23:24:59.359169Z",
     "iopub.status.busy": "2023-08-14T23:24:59.358923Z",
     "iopub.status.idle": "2023-08-14T23:24:59.371487Z",
     "shell.execute_reply": "2023-08-14T23:24:59.370637Z",
     "shell.execute_reply.started": "2023-08-14T23:24:59.359151Z"
    },
    "tags": []
   },
   "outputs": [],
   "source": [
    "concat_df = pd.concat(all_inte_l2_df)"
   ]
  },
  {
   "cell_type": "code",
   "execution_count": 53,
   "id": "bfd49b0e-00fc-427a-b8d7-55b146b34df3",
   "metadata": {
    "execution": {
     "iopub.execute_input": "2023-08-14T23:29:42.202201Z",
     "iopub.status.busy": "2023-08-14T23:29:42.201879Z",
     "iopub.status.idle": "2023-08-14T23:29:42.952920Z",
     "shell.execute_reply": "2023-08-14T23:29:42.951450Z",
     "shell.execute_reply.started": "2023-08-14T23:29:42.202180Z"
    }
   },
   "outputs": [],
   "source": [
    "mc_meta = pd.read_csv('mC_META_230814.csv', index_col =0)\n",
    "m3c_meta = pd.read_csv('m3C_META_230814.csv', index_col =0)"
   ]
  },
  {
   "cell_type": "markdown",
   "id": "ee66d3b9-ad0b-429b-a44d-d3c39c1a5fbf",
   "metadata": {},
   "source": [
    "## annot m3C"
   ]
  },
  {
   "cell_type": "code",
   "execution_count": 149,
   "id": "ea83b8ca-34ff-4d6f-a2b6-f29df2e37eff",
   "metadata": {
    "execution": {
     "iopub.execute_input": "2023-08-15T00:13:48.048668Z",
     "iopub.status.busy": "2023-08-15T00:13:48.048326Z",
     "iopub.status.idle": "2023-08-15T00:13:48.084103Z",
     "shell.execute_reply": "2023-08-15T00:13:48.083452Z",
     "shell.execute_reply.started": "2023-08-15T00:13:48.048639Z"
    },
    "tags": []
   },
   "outputs": [],
   "source": [
    "mc_meta['mc_m3c-co_cluster_l2'] = concat_df['mc_m3c-co_cluster_l2']\n",
    "m3c_meta['mc_m3c-co_cluster_l2'] = concat_df['mc_m3c-co_cluster_l2']"
   ]
  },
  {
   "cell_type": "code",
   "execution_count": 76,
   "id": "eaf80296-e269-4be0-8041-4103d809072c",
   "metadata": {
    "execution": {
     "iopub.execute_input": "2023-08-14T23:33:52.551370Z",
     "iopub.status.busy": "2023-08-14T23:33:52.551092Z",
     "iopub.status.idle": "2023-08-14T23:33:52.781015Z",
     "shell.execute_reply": "2023-08-14T23:33:52.780188Z",
     "shell.execute_reply.started": "2023-08-14T23:33:52.551351Z"
    },
    "tags": []
   },
   "outputs": [],
   "source": [
    "co_cluster_to_annot ={}\n",
    "co_cluster_to_annot_ratio = {}\n",
    "for co_cluster, tmpdf in mc_meta.groupby('mc_m3c-co_cluster_l2'):\n",
    "    co_cluster_to_annot[co_cluster] = tmpdf['new_celltypes_0808'].value_counts().index[0]\n",
    "    ratio = tmpdf['new_celltypes_0808'].value_counts().iloc[0] / tmpdf.shape[0]\n",
    "    co_cluster_to_annot_ratio[co_cluster] = ratio"
   ]
  },
  {
   "cell_type": "code",
   "execution_count": 90,
   "id": "c4f9fb83-c3f7-4352-b615-f1b7299a6351",
   "metadata": {
    "execution": {
     "iopub.execute_input": "2023-08-14T23:37:26.461803Z",
     "iopub.status.busy": "2023-08-14T23:37:26.461479Z",
     "iopub.status.idle": "2023-08-14T23:37:26.473741Z",
     "shell.execute_reply": "2023-08-14T23:37:26.473031Z",
     "shell.execute_reply.started": "2023-08-14T23:37:26.461784Z"
    },
    "tags": []
   },
   "outputs": [],
   "source": [
    "m3c_meta['CellType'] = m3c_meta['mc_m3c-co_cluster_l2'].map(co_cluster_to_annot)"
   ]
  },
  {
   "cell_type": "code",
   "execution_count": 106,
   "id": "738c863d-07bf-407f-82fc-b66a9217bbb7",
   "metadata": {
    "execution": {
     "iopub.execute_input": "2023-08-14T23:46:02.813427Z",
     "iopub.status.busy": "2023-08-14T23:46:02.813021Z",
     "iopub.status.idle": "2023-08-14T23:46:02.833282Z",
     "shell.execute_reply": "2023-08-14T23:46:02.832274Z",
     "shell.execute_reply.started": "2023-08-14T23:46:02.813400Z"
    },
    "tags": []
   },
   "outputs": [],
   "source": [
    "un_mapped_clusters = m3c_meta[m3c_meta['CellType'].isna()]['mc_m3c-co_cluster_l1'].unique().tolist()"
   ]
  },
  {
   "cell_type": "code",
   "execution_count": 112,
   "id": "6db88ca1-3109-4dee-a7f4-da0ed6cc3b74",
   "metadata": {
    "execution": {
     "iopub.execute_input": "2023-08-14T23:49:42.016444Z",
     "iopub.status.busy": "2023-08-14T23:49:42.016145Z",
     "iopub.status.idle": "2023-08-14T23:49:42.029743Z",
     "shell.execute_reply": "2023-08-14T23:49:42.029092Z",
     "shell.execute_reply.started": "2023-08-14T23:49:42.016424Z"
    },
    "tags": []
   },
   "outputs": [],
   "source": [
    "co_cluster_to_annot_l1 = {}\n",
    "for _cluster in un_mapped_clusters:\n",
    "    celltype = mc_meta[mc_meta['mc_m3c-co_cluster_l1'] == _cluster]['new_celltypes_0808'].value_counts().index[0]\n",
    "    co_cluster_to_annot_l1[_cluster] =celltype \n"
   ]
  },
  {
   "cell_type": "code",
   "execution_count": 126,
   "id": "2c8cfd5e-619a-4feb-aa28-d7543754c066",
   "metadata": {
    "execution": {
     "iopub.execute_input": "2023-08-14T23:52:10.704052Z",
     "iopub.status.busy": "2023-08-14T23:52:10.703737Z",
     "iopub.status.idle": "2023-08-14T23:52:10.716572Z",
     "shell.execute_reply": "2023-08-14T23:52:10.715931Z",
     "shell.execute_reply.started": "2023-08-14T23:52:10.704021Z"
    },
    "tags": []
   },
   "outputs": [],
   "source": [
    "m3c_meta.loc[m3c_meta['CellType'].isna(),'CellType'] = m3c_meta['mc_m3c-co_cluster_l1'].map(co_cluster_to_annot_l1).dropna()"
   ]
  },
  {
   "cell_type": "code",
   "execution_count": null,
   "id": "15562a0f-c3d7-47a8-855f-c1800fa0c211",
   "metadata": {
    "execution": {
     "iopub.execute_input": "2023-08-14T23:52:18.266809Z",
     "iopub.status.busy": "2023-08-14T23:52:18.266488Z",
     "iopub.status.idle": "2023-08-14T23:52:18.280636Z",
     "shell.execute_reply": "2023-08-14T23:52:18.280005Z",
     "shell.execute_reply.started": "2023-08-14T23:52:18.266787Z"
    },
    "tags": []
   },
   "outputs": [
    {
     "data": {
      "text/plain": [
       "{'ABC NN',\n",
       " 'LDT-PCG Gata3 Irx5 Gaba',\n",
       " 'MOB-STR-CTX Inh IMN',\n",
       " 'SNc-VTA-RAmb Foxa1 Dopa'}"
      ]
     },
     "execution_count": 128,
     "metadata": {},
     "output_type": "execute_result"
    }
   ],
   "source": [
    "set(m3c_meta['CellType'].unique()) ^ set(mc_meta['new_celltypes_0808'].unique())"
   ]
  },
  {
   "cell_type": "code",
   "execution_count": 133,
   "id": "e5b62fe9-2639-4a0d-8ba2-274b755e6e5a",
   "metadata": {
    "execution": {
     "iopub.execute_input": "2023-08-14T23:55:27.724990Z",
     "iopub.status.busy": "2023-08-14T23:55:27.724494Z",
     "iopub.status.idle": "2023-08-14T23:55:29.128416Z",
     "shell.execute_reply": "2023-08-14T23:55:29.127372Z",
     "shell.execute_reply.started": "2023-08-14T23:55:27.724936Z"
    }
   },
   "outputs": [],
   "source": [
    "m3c_meta.to_csv('m3C_META_230814.csv')"
   ]
  },
  {
   "cell_type": "code",
   "execution_count": 151,
   "id": "ba77d6c7-facd-440b-b946-07479fb6e1b7",
   "metadata": {
    "execution": {
     "iopub.execute_input": "2023-08-15T00:13:59.517199Z",
     "iopub.status.busy": "2023-08-15T00:13:59.516909Z",
     "iopub.status.idle": "2023-08-15T00:14:01.362275Z",
     "shell.execute_reply": "2023-08-15T00:14:01.361552Z",
     "shell.execute_reply.started": "2023-08-15T00:13:59.517178Z"
    },
    "tags": []
   },
   "outputs": [],
   "source": [
    "mc_meta['CellType'] = mc_meta['new_celltypes_0808']\n",
    "mc_meta.to_csv('mC_META_230814.csv')"
   ]
  },
  {
   "cell_type": "code",
   "execution_count": null,
   "id": "ff8680cf-0c09-471e-9c6d-d635a12cb70d",
   "metadata": {},
   "outputs": [],
   "source": []
  },
  {
   "cell_type": "code",
   "execution_count": null,
   "id": "c33b20e5-3e24-4b90-b40d-bda4b60bd677",
   "metadata": {},
   "outputs": [],
   "source": []
  },
  {
   "cell_type": "code",
   "execution_count": null,
   "id": "abbc9dfd-f639-4e6b-a83d-ee3a074ebb32",
   "metadata": {},
   "outputs": [],
   "source": []
  },
  {
   "cell_type": "code",
   "execution_count": null,
   "id": "6d81a48a-9b86-49a8-98e6-4113d7fc862c",
   "metadata": {},
   "outputs": [],
   "source": []
  },
  {
   "cell_type": "code",
   "execution_count": null,
   "id": "e4651160-eeda-4ba0-b6cd-66dfbc36052e",
   "metadata": {},
   "outputs": [],
   "source": []
  }
 ],
 "metadata": {
  "kernelspec": {
   "display_name": "Python 3 (ipykernel)",
   "language": "python",
   "name": "python3"
  },
  "language_info": {
   "codemirror_mode": {
    "name": "ipython",
    "version": 3
   },
   "file_extension": ".py",
   "mimetype": "text/x-python",
   "name": "python",
   "nbconvert_exporter": "python",
   "pygments_lexer": "ipython3",
   "version": "3.7.12"
  }
 },
 "nbformat": 4,
 "nbformat_minor": 5
}
