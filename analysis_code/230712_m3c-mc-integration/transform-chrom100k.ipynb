{
 "cells": [
  {
   "cell_type": "code",
   "execution_count": 34,
   "id": "5e551492-0120-40cf-a460-c611d94d1329",
   "metadata": {
    "execution": {
     "iopub.execute_input": "2023-07-24T20:57:01.223315Z",
     "iopub.status.busy": "2023-07-24T20:57:01.222779Z",
     "iopub.status.idle": "2023-07-24T20:57:01.226172Z",
     "shell.execute_reply": "2023-07-24T20:57:01.225620Z",
     "shell.execute_reply.started": "2023-07-24T20:57:01.223294Z"
    },
    "tags": []
   },
   "outputs": [],
   "source": [
    "from ALLCools.mcds import MCDS\n",
    "import glob\n",
    "import pandas as pd"
   ]
  },
  {
   "cell_type": "code",
   "execution_count": 2,
   "id": "5c8d9e9f-549e-4a73-8bd1-7a520d004d9e",
   "metadata": {
    "execution": {
     "iopub.execute_input": "2023-07-24T20:48:39.169856Z",
     "iopub.status.busy": "2023-07-24T20:48:39.169709Z",
     "iopub.status.idle": "2023-07-24T20:48:39.172709Z",
     "shell.execute_reply": "2023-07-24T20:48:39.172135Z",
     "shell.execute_reply.started": "2023-07-24T20:48:39.169842Z"
    },
    "tags": []
   },
   "outputs": [],
   "source": [
    "var_dim = \"chrom100k\""
   ]
  },
  {
   "cell_type": "code",
   "execution_count": 3,
   "id": "050b8bd2-e5e0-4631-9ed1-579251c968a7",
   "metadata": {
    "execution": {
     "iopub.execute_input": "2023-07-24T20:48:39.174021Z",
     "iopub.status.busy": "2023-07-24T20:48:39.173859Z",
     "iopub.status.idle": "2023-07-24T20:48:39.237919Z",
     "shell.execute_reply": "2023-07-24T20:48:39.237225Z",
     "shell.execute_reply.started": "2023-07-24T20:48:39.174007Z"
    },
    "tags": []
   },
   "outputs": [],
   "source": [
    "mc_mcds_paths = glob.glob('mc_100kb_mcds/*.mcds')\n",
    "m3c_mcds_paths = glob.glob('m3c_mcds/*.mcds')"
   ]
  },
  {
   "cell_type": "code",
   "execution_count": 4,
   "id": "02723910-558b-4b1f-ad39-6a08607d8f87",
   "metadata": {
    "execution": {
     "iopub.execute_input": "2023-07-24T20:48:39.238655Z",
     "iopub.status.busy": "2023-07-24T20:48:39.238505Z",
     "iopub.status.idle": "2023-07-24T20:49:08.971233Z",
     "shell.execute_reply": "2023-07-24T20:49:08.970508Z",
     "shell.execute_reply.started": "2023-07-24T20:48:39.238640Z"
    },
    "tags": []
   },
   "outputs": [],
   "source": [
    "mc_mcds = MCDS.open(mc_mcds_paths, var_dim=var_dim)\n",
    "m3c_mcds = MCDS.open(m3c_mcds_paths, var_dim=var_dim)"
   ]
  },
  {
   "cell_type": "code",
   "execution_count": 5,
   "id": "01d8ab0e-23d9-4f5a-9bd1-e28ab9edd6d1",
   "metadata": {
    "execution": {
     "iopub.execute_input": "2023-07-24T20:49:08.972339Z",
     "iopub.status.busy": "2023-07-24T20:49:08.972115Z",
     "iopub.status.idle": "2023-07-24T20:49:09.019650Z",
     "shell.execute_reply": "2023-07-24T20:49:09.019035Z",
     "shell.execute_reply.started": "2023-07-24T20:49:08.972309Z"
    },
    "tags": []
   },
   "outputs": [
    {
     "data": {
      "text/html": [
       "<div>\n",
       "<style scoped>\n",
       "    .dataframe tbody tr th:only-of-type {\n",
       "        vertical-align: middle;\n",
       "    }\n",
       "\n",
       "    .dataframe tbody tr th {\n",
       "        vertical-align: top;\n",
       "    }\n",
       "\n",
       "    .dataframe thead th {\n",
       "        text-align: right;\n",
       "    }\n",
       "</style>\n",
       "<table border=\"1\" class=\"dataframe\">\n",
       "  <thead>\n",
       "    <tr style=\"text-align: right;\">\n",
       "      <th></th>\n",
       "      <th>strand_type</th>\n",
       "      <th>chrom100k_chrom</th>\n",
       "      <th>chrom100k_bin_start</th>\n",
       "      <th>chrom100k_bin_end</th>\n",
       "    </tr>\n",
       "    <tr>\n",
       "      <th>chrom100k</th>\n",
       "      <th></th>\n",
       "      <th></th>\n",
       "      <th></th>\n",
       "      <th></th>\n",
       "    </tr>\n",
       "  </thead>\n",
       "  <tbody>\n",
       "    <tr>\n",
       "      <th>0</th>\n",
       "      <td>both</td>\n",
       "      <td>chr1</td>\n",
       "      <td>0</td>\n",
       "      <td>100000</td>\n",
       "    </tr>\n",
       "    <tr>\n",
       "      <th>1</th>\n",
       "      <td>both</td>\n",
       "      <td>chr1</td>\n",
       "      <td>100000</td>\n",
       "      <td>200000</td>\n",
       "    </tr>\n",
       "    <tr>\n",
       "      <th>2</th>\n",
       "      <td>both</td>\n",
       "      <td>chr1</td>\n",
       "      <td>200000</td>\n",
       "      <td>300000</td>\n",
       "    </tr>\n",
       "    <tr>\n",
       "      <th>3</th>\n",
       "      <td>both</td>\n",
       "      <td>chr1</td>\n",
       "      <td>300000</td>\n",
       "      <td>400000</td>\n",
       "    </tr>\n",
       "    <tr>\n",
       "      <th>4</th>\n",
       "      <td>both</td>\n",
       "      <td>chr1</td>\n",
       "      <td>400000</td>\n",
       "      <td>500000</td>\n",
       "    </tr>\n",
       "  </tbody>\n",
       "</table>\n",
       "</div>"
      ],
      "text/plain": [
       "          strand_type chrom100k_chrom  chrom100k_bin_start  chrom100k_bin_end\n",
       "chrom100k                                                                    \n",
       "0                both            chr1                    0             100000\n",
       "1                both            chr1               100000             200000\n",
       "2                both            chr1               200000             300000\n",
       "3                both            chr1               300000             400000\n",
       "4                both            chr1               400000             500000"
      ]
     },
     "execution_count": 5,
     "metadata": {},
     "output_type": "execute_result"
    }
   ],
   "source": [
    "mc_chrom100k_df = mc_mcds[['chrom100k']].to_pandas()\n",
    "mc_chrom100k_df.head()"
   ]
  },
  {
   "cell_type": "code",
   "execution_count": 7,
   "id": "2b0ed092-0ba6-4d7c-b04d-944711bafe4c",
   "metadata": {
    "execution": {
     "iopub.execute_input": "2023-07-24T20:50:09.831648Z",
     "iopub.status.busy": "2023-07-24T20:50:09.831392Z",
     "iopub.status.idle": "2023-07-24T20:50:09.928216Z",
     "shell.execute_reply": "2023-07-24T20:50:09.927576Z",
     "shell.execute_reply.started": "2023-07-24T20:50:09.831630Z"
    },
    "tags": []
   },
   "outputs": [
    {
     "data": {
      "text/html": [
       "<div>\n",
       "<style scoped>\n",
       "    .dataframe tbody tr th:only-of-type {\n",
       "        vertical-align: middle;\n",
       "    }\n",
       "\n",
       "    .dataframe tbody tr th {\n",
       "        vertical-align: top;\n",
       "    }\n",
       "\n",
       "    .dataframe thead th {\n",
       "        text-align: right;\n",
       "    }\n",
       "</style>\n",
       "<table border=\"1\" class=\"dataframe\">\n",
       "  <thead>\n",
       "    <tr style=\"text-align: right;\">\n",
       "      <th></th>\n",
       "      <th>chrom100k_chrom</th>\n",
       "      <th>chrom100k_end</th>\n",
       "      <th>chrom100k_start</th>\n",
       "    </tr>\n",
       "    <tr>\n",
       "      <th>chrom100k</th>\n",
       "      <th></th>\n",
       "      <th></th>\n",
       "      <th></th>\n",
       "    </tr>\n",
       "  </thead>\n",
       "  <tbody>\n",
       "    <tr>\n",
       "      <th>chr1_0</th>\n",
       "      <td>chr1</td>\n",
       "      <td>100000</td>\n",
       "      <td>0</td>\n",
       "    </tr>\n",
       "    <tr>\n",
       "      <th>chr1_1</th>\n",
       "      <td>chr1</td>\n",
       "      <td>200000</td>\n",
       "      <td>100000</td>\n",
       "    </tr>\n",
       "    <tr>\n",
       "      <th>chr1_2</th>\n",
       "      <td>chr1</td>\n",
       "      <td>300000</td>\n",
       "      <td>200000</td>\n",
       "    </tr>\n",
       "    <tr>\n",
       "      <th>chr1_3</th>\n",
       "      <td>chr1</td>\n",
       "      <td>400000</td>\n",
       "      <td>300000</td>\n",
       "    </tr>\n",
       "    <tr>\n",
       "      <th>chr1_4</th>\n",
       "      <td>chr1</td>\n",
       "      <td>500000</td>\n",
       "      <td>400000</td>\n",
       "    </tr>\n",
       "  </tbody>\n",
       "</table>\n",
       "</div>"
      ],
      "text/plain": [
       "          chrom100k_chrom  chrom100k_end  chrom100k_start\n",
       "chrom100k                                                \n",
       "chr1_0               chr1         100000                0\n",
       "chr1_1               chr1         200000           100000\n",
       "chr1_2               chr1         300000           200000\n",
       "chr1_3               chr1         400000           300000\n",
       "chr1_4               chr1         500000           400000"
      ]
     },
     "execution_count": 7,
     "metadata": {},
     "output_type": "execute_result"
    }
   ],
   "source": [
    "m3c_chrom100k_df = m3c_mcds[['chrom100k']].to_pandas()\n",
    "m3c_chrom100k_df.head()"
   ]
  },
  {
   "cell_type": "code",
   "execution_count": 11,
   "id": "a8a702e1-fe8a-4180-afec-12369a1acefa",
   "metadata": {
    "execution": {
     "iopub.execute_input": "2023-07-24T20:52:08.417939Z",
     "iopub.status.busy": "2023-07-24T20:52:08.417676Z",
     "iopub.status.idle": "2023-07-24T20:52:08.479990Z",
     "shell.execute_reply": "2023-07-24T20:52:08.479356Z",
     "shell.execute_reply.started": "2023-07-24T20:52:08.417920Z"
    },
    "tags": []
   },
   "outputs": [],
   "source": [
    "mc_chrom100k_df['chr-start-end'] = mc_chrom100k_df['chrom100k_chrom']+ '-' +  mc_chrom100k_df['chrom100k_bin_start'].astype(str) + '-' + mc_chrom100k_df['chrom100k_bin_end'].astype(str)\n",
    "m3c_chrom100k_df['chr-start-end'] = m3c_chrom100k_df['chrom100k_chrom']+ '-' +  m3c_chrom100k_df['chrom100k_start'].astype(str) + '-' + m3c_chrom100k_df['chrom100k_end'].astype(str)"
   ]
  },
  {
   "cell_type": "code",
   "execution_count": 14,
   "id": "e7821426-08cb-421b-aa57-363f62f13fec",
   "metadata": {
    "execution": {
     "iopub.execute_input": "2023-07-24T20:53:29.823823Z",
     "iopub.status.busy": "2023-07-24T20:53:29.823428Z",
     "iopub.status.idle": "2023-07-24T20:53:29.837650Z",
     "shell.execute_reply": "2023-07-24T20:53:29.836868Z",
     "shell.execute_reply.started": "2023-07-24T20:53:29.823780Z"
    },
    "tags": []
   },
   "outputs": [],
   "source": [
    "shared_chrom100kb = list(set(mc_chrom100k_df['chr-start-end']) &  set(m3c_chrom100k_df['chr-start-end']))"
   ]
  },
  {
   "cell_type": "code",
   "execution_count": 19,
   "id": "c64c38c5-2004-4bfa-8f85-dc35eedac29a",
   "metadata": {
    "execution": {
     "iopub.execute_input": "2023-07-24T20:54:22.786775Z",
     "iopub.status.busy": "2023-07-24T20:54:22.786479Z",
     "iopub.status.idle": "2023-07-24T20:54:22.806547Z",
     "shell.execute_reply": "2023-07-24T20:54:22.805801Z",
     "shell.execute_reply.started": "2023-07-24T20:54:22.786754Z"
    },
    "tags": []
   },
   "outputs": [],
   "source": [
    "mc_chrom100k_df = mc_chrom100k_df[mc_chrom100k_df['chr-start-end'].isin(shared_chrom100kb)][['chr-start-end']]\n",
    "m3c_chrom100k_df = m3c_chrom100k_df[m3c_chrom100k_df['chr-start-end'].isin(shared_chrom100kb)][['chr-start-end']]"
   ]
  },
  {
   "cell_type": "code",
   "execution_count": 27,
   "id": "7c9485c7-f61f-4a69-9627-eb9bc6a1df0c",
   "metadata": {
    "execution": {
     "iopub.execute_input": "2023-07-24T20:56:04.159182Z",
     "iopub.status.busy": "2023-07-24T20:56:04.158911Z",
     "iopub.status.idle": "2023-07-24T20:56:04.163684Z",
     "shell.execute_reply": "2023-07-24T20:56:04.163158Z",
     "shell.execute_reply.started": "2023-07-24T20:56:04.159161Z"
    },
    "tags": []
   },
   "outputs": [],
   "source": [
    "mc_chrom100k_df['mc_id'] = mc_chrom100k_df.index\n",
    "m3c_chrom100k_df['m3c_id'] = m3c_chrom100k_df.index"
   ]
  },
  {
   "cell_type": "code",
   "execution_count": 31,
   "id": "ea47c453-b32b-4c45-a68c-f6193588bf68",
   "metadata": {
    "execution": {
     "iopub.execute_input": "2023-07-24T20:56:37.526299Z",
     "iopub.status.busy": "2023-07-24T20:56:37.526000Z",
     "iopub.status.idle": "2023-07-24T20:56:37.532028Z",
     "shell.execute_reply": "2023-07-24T20:56:37.531465Z",
     "shell.execute_reply.started": "2023-07-24T20:56:37.526280Z"
    },
    "tags": []
   },
   "outputs": [],
   "source": [
    "mc_chrom100k_df = mc_chrom100k_df.set_index('chr-start-end')\n",
    "m3c_chrom100k_df = m3c_chrom100k_df.set_index('chr-start-end')"
   ]
  },
  {
   "cell_type": "code",
   "execution_count": 39,
   "id": "ee741112-4dc5-44ae-9dbf-6d21b53be42a",
   "metadata": {
    "execution": {
     "iopub.execute_input": "2023-07-24T20:57:42.154299Z",
     "iopub.status.busy": "2023-07-24T20:57:42.154051Z",
     "iopub.status.idle": "2023-07-24T20:57:42.166185Z",
     "shell.execute_reply": "2023-07-24T20:57:42.165249Z",
     "shell.execute_reply.started": "2023-07-24T20:57:42.154279Z"
    },
    "tags": []
   },
   "outputs": [],
   "source": [
    "mc_m3c_chrom100k_id = pd.concat([mc_chrom100k_df, m3c_chrom100k_df], axis = 1)"
   ]
  },
  {
   "cell_type": "code",
   "execution_count": 40,
   "id": "c6a71c19-940f-4388-bd0b-43d991eb1bf6",
   "metadata": {
    "execution": {
     "iopub.execute_input": "2023-07-24T20:57:48.981025Z",
     "iopub.status.busy": "2023-07-24T20:57:48.980384Z",
     "iopub.status.idle": "2023-07-24T20:57:49.019448Z",
     "shell.execute_reply": "2023-07-24T20:57:49.018729Z",
     "shell.execute_reply.started": "2023-07-24T20:57:48.981004Z"
    },
    "tags": []
   },
   "outputs": [],
   "source": [
    "mc_m3c_chrom100k_id.to_csv('mc_m3c_chrom100k_id.csv')"
   ]
  },
  {
   "cell_type": "code",
   "execution_count": null,
   "id": "56c5e71d-9a07-438e-abe0-13581437eb64",
   "metadata": {},
   "outputs": [],
   "source": []
  },
  {
   "cell_type": "code",
   "execution_count": null,
   "id": "4d1ad4cf-8742-4fdc-ad6b-94186359624d",
   "metadata": {},
   "outputs": [],
   "source": []
  },
  {
   "cell_type": "code",
   "execution_count": null,
   "id": "7be605ac-d39d-4ab2-b57a-319ff04ba4c7",
   "metadata": {},
   "outputs": [],
   "source": []
  }
 ],
 "metadata": {
  "kernelspec": {
   "display_name": "Python 3 (ipykernel)",
   "language": "python",
   "name": "python3"
  },
  "language_info": {
   "codemirror_mode": {
    "name": "ipython",
    "version": 3
   },
   "file_extension": ".py",
   "mimetype": "text/x-python",
   "name": "python",
   "nbconvert_exporter": "python",
   "pygments_lexer": "ipython3",
   "version": "3.7.12"
  }
 },
 "nbformat": 4,
 "nbformat_minor": 5
}
