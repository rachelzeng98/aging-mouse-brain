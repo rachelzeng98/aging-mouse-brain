{
 "cells": [
  {
   "cell_type": "markdown",
   "id": "68434496",
   "metadata": {
    "papermill": {
     "duration": 0.010113,
     "end_time": "2022-10-23T02:44:31.988542",
     "exception": false,
     "start_time": "2022-10-23T02:44:31.978429",
     "status": "completed"
    },
    "tags": []
   },
   "source": [
    "## Import"
   ]
  },
  {
   "cell_type": "code",
   "execution_count": 1,
   "id": "4b3c1327",
   "metadata": {
    "ExecuteTime": {
     "end_time": "2022-06-25T18:29:09.603883Z",
     "start_time": "2022-06-25T18:28:49.913862Z"
    },
    "execution": {
     "iopub.execute_input": "2023-08-14T21:13:50.342623Z",
     "iopub.status.busy": "2023-08-14T21:13:50.342345Z",
     "iopub.status.idle": "2023-08-14T21:13:52.938851Z",
     "shell.execute_reply": "2023-08-14T21:13:52.938035Z",
     "shell.execute_reply.started": "2023-08-14T21:13:50.342599Z"
    },
    "papermill": {
     "duration": 2.872155,
     "end_time": "2022-10-23T02:44:34.869530",
     "exception": false,
     "start_time": "2022-10-23T02:44:31.997375",
     "status": "completed"
    },
    "tags": []
   },
   "outputs": [],
   "source": [
    "from wmb import cemba, mm10\n",
    "\n",
    "from ALLCools.clustering import *\n",
    "from ALLCools.mcds import MCDS\n",
    "\n",
    "import pandas as pd\n",
    "import glob"
   ]
  },
  {
   "cell_type": "code",
   "execution_count": null,
   "id": "e08b7ab3-7d4b-4a93-9799-35dc61d97ac6",
   "metadata": {},
   "outputs": [],
   "source": [
    "# Parameters\n",
    "cef_cluster_level = \"l1\"\n",
    "chrom_to_remove = [\"chrX\", \"chrY\", \"chrM\", \"chrL\"]\n",
    "cpu = 1\n",
    "downsample = 500\n",
    "global_cef = None\n",
    "mc_type = \"CHN\"\n",
    "mem_gb = 1\n",
    "var_dim = \"chrom100k\"\n"
   ]
  },
  {
   "cell_type": "markdown",
   "id": "e60ee638",
   "metadata": {
    "papermill": {
     "duration": 0.008958,
     "end_time": "2022-10-23T02:44:34.935452",
     "exception": false,
     "start_time": "2022-10-23T02:44:34.926494",
     "status": "completed"
    },
    "tags": []
   },
   "source": [
    "## Select cells"
   ]
  },
  {
   "cell_type": "code",
   "execution_count": 3,
   "id": "e5e3ec7f",
   "metadata": {
    "ExecuteTime": {
     "end_time": "2022-06-25T18:29:12.333727Z",
     "start_time": "2022-06-25T18:29:12.305321Z"
    },
    "execution": {
     "iopub.execute_input": "2023-08-14T21:13:58.737659Z",
     "iopub.status.busy": "2023-08-14T21:13:58.737355Z",
     "iopub.status.idle": "2023-08-14T21:13:58.748575Z",
     "shell.execute_reply": "2023-08-14T21:13:58.747781Z",
     "shell.execute_reply.started": "2023-08-14T21:13:58.737638Z"
    },
    "papermill": {
     "duration": 0.11526,
     "end_time": "2022-10-23T02:44:35.058708",
     "exception": false,
     "start_time": "2022-10-23T02:44:34.943448",
     "status": "completed"
    },
    "tags": []
   },
   "outputs": [
    {
     "data": {
      "text/plain": [
       "5543"
      ]
     },
     "execution_count": 3,
     "metadata": {},
     "output_type": "execute_result"
    }
   ],
   "source": [
    "cells = pd.read_csv('m3c_cells.txt', index_col=0, header=None).index\n",
    "cells.name = 'cell'\n",
    "cells.size"
   ]
  },
  {
   "cell_type": "markdown",
   "id": "09f4cf3b",
   "metadata": {
    "ExecuteTime": {
     "end_time": "2022-06-21T04:51:56.476879Z",
     "start_time": "2022-06-21T04:51:56.474668Z"
    },
    "papermill": {
     "duration": 0.008164,
     "end_time": "2022-10-23T02:44:35.075895",
     "exception": false,
     "start_time": "2022-10-23T02:44:35.067731",
     "status": "completed"
    },
    "tags": []
   },
   "source": [
    "## Downsample cells\n",
    "\n",
    "Downsample large cluster to balance the data and reduce computation time and memory when calculating CEF"
   ]
  },
  {
   "cell_type": "code",
   "execution_count": 6,
   "id": "15d4cc59-7070-4d1a-bb87-d3148baf8561",
   "metadata": {
    "execution": {
     "iopub.execute_input": "2023-08-14T21:14:38.974535Z",
     "iopub.status.busy": "2023-08-14T21:14:38.974249Z",
     "iopub.status.idle": "2023-08-14T21:14:39.295915Z",
     "shell.execute_reply": "2023-08-14T21:14:39.295124Z",
     "shell.execute_reply.started": "2023-08-14T21:14:38.974515Z"
    },
    "tags": []
   },
   "outputs": [],
   "source": [
    "meta = pd.read_csv('/home/qzeng_salk_edu/project/230712_m3c-mc-integration/m3C_META_230814.csv', index_col = 0)"
   ]
  },
  {
   "cell_type": "code",
   "execution_count": 7,
   "id": "2e93d1be-afb7-44e8-bdab-2b8b2e1f98cd",
   "metadata": {
    "execution": {
     "iopub.execute_input": "2023-08-14T21:14:39.297341Z",
     "iopub.status.busy": "2023-08-14T21:14:39.297155Z",
     "iopub.status.idle": "2023-08-14T21:14:39.306731Z",
     "shell.execute_reply": "2023-08-14T21:14:39.306115Z",
     "shell.execute_reply.started": "2023-08-14T21:14:39.297323Z"
    },
    "tags": []
   },
   "outputs": [],
   "source": [
    "clusters =meta[f'{cef_cluster_level}']\n",
    "clusters = clusters.loc[cells].copy()"
   ]
  },
  {
   "cell_type": "code",
   "execution_count": 8,
   "id": "75689412",
   "metadata": {
    "ExecuteTime": {
     "end_time": "2022-06-25T18:29:19.073206Z",
     "start_time": "2022-06-25T18:29:15.055053Z"
    },
    "execution": {
     "iopub.execute_input": "2023-08-14T21:14:41.819891Z",
     "iopub.status.busy": "2023-08-14T21:14:41.819628Z",
     "iopub.status.idle": "2023-08-14T21:14:41.829493Z",
     "shell.execute_reply": "2023-08-14T21:14:41.828895Z",
     "shell.execute_reply.started": "2023-08-14T21:14:41.819872Z"
    },
    "papermill": {
     "duration": 3.740603,
     "end_time": "2022-10-23T02:44:38.824342",
     "exception": false,
     "start_time": "2022-10-23T02:44:35.083739",
     "status": "completed"
    },
    "tags": []
   },
   "outputs": [
    {
     "data": {
      "text/plain": [
       "1660"
      ]
     },
     "execution_count": 8,
     "metadata": {},
     "output_type": "execute_result"
    }
   ],
   "source": [
    "if downsample is not None:\n",
    "    use_cells = []\n",
    "    for cluster, sub_series in clusters.groupby(clusters):\n",
    "        if sub_series.size > downsample:\n",
    "            _cells = sub_series.sample(downsample, random_state=0).index\n",
    "        else:\n",
    "            _cells = sub_series.index\n",
    "        use_cells += _cells.tolist()\n",
    "    use_cells = pd.Index(use_cells)\n",
    "else:\n",
    "    use_cells = cells\n",
    "    \n",
    "use_cells.size"
   ]
  },
  {
   "cell_type": "markdown",
   "id": "abc2eddd",
   "metadata": {
    "papermill": {
     "duration": 0.008474,
     "end_time": "2022-10-23T02:44:38.843633",
     "exception": false,
     "start_time": "2022-10-23T02:44:38.835159",
     "status": "completed"
    },
    "tags": []
   },
   "source": [
    "## Get adata"
   ]
  },
  {
   "cell_type": "code",
   "execution_count": 9,
   "id": "d34103de-b29e-4e51-818d-e5f22bca7c71",
   "metadata": {
    "execution": {
     "iopub.execute_input": "2023-08-14T21:15:00.993660Z",
     "iopub.status.busy": "2023-08-14T21:15:00.993380Z",
     "iopub.status.idle": "2023-08-14T21:15:12.410580Z",
     "shell.execute_reply": "2023-08-14T21:15:12.409971Z",
     "shell.execute_reply.started": "2023-08-14T21:15:00.993640Z"
    },
    "tags": []
   },
   "outputs": [
    {
     "data": {
      "text/html": [
       "<div><svg style=\"position: absolute; width: 0; height: 0; overflow: hidden\">\n",
       "<defs>\n",
       "<symbol id=\"icon-database\" viewBox=\"0 0 32 32\">\n",
       "<path d=\"M16 0c-8.837 0-16 2.239-16 5v4c0 2.761 7.163 5 16 5s16-2.239 16-5v-4c0-2.761-7.163-5-16-5z\"></path>\n",
       "<path d=\"M16 17c-8.837 0-16-2.239-16-5v6c0 2.761 7.163 5 16 5s16-2.239 16-5v-6c0 2.761-7.163 5-16 5z\"></path>\n",
       "<path d=\"M16 26c-8.837 0-16-2.239-16-5v6c0 2.761 7.163 5 16 5s16-2.239 16-5v-6c0 2.761-7.163 5-16 5z\"></path>\n",
       "</symbol>\n",
       "<symbol id=\"icon-file-text2\" viewBox=\"0 0 32 32\">\n",
       "<path d=\"M28.681 7.159c-0.694-0.947-1.662-2.053-2.724-3.116s-2.169-2.030-3.116-2.724c-1.612-1.182-2.393-1.319-2.841-1.319h-15.5c-1.378 0-2.5 1.121-2.5 2.5v27c0 1.378 1.122 2.5 2.5 2.5h23c1.378 0 2.5-1.122 2.5-2.5v-19.5c0-0.448-0.137-1.23-1.319-2.841zM24.543 5.457c0.959 0.959 1.712 1.825 2.268 2.543h-4.811v-4.811c0.718 0.556 1.584 1.309 2.543 2.268zM28 29.5c0 0.271-0.229 0.5-0.5 0.5h-23c-0.271 0-0.5-0.229-0.5-0.5v-27c0-0.271 0.229-0.5 0.5-0.5 0 0 15.499-0 15.5 0v7c0 0.552 0.448 1 1 1h7v19.5z\"></path>\n",
       "<path d=\"M23 26h-14c-0.552 0-1-0.448-1-1s0.448-1 1-1h14c0.552 0 1 0.448 1 1s-0.448 1-1 1z\"></path>\n",
       "<path d=\"M23 22h-14c-0.552 0-1-0.448-1-1s0.448-1 1-1h14c0.552 0 1 0.448 1 1s-0.448 1-1 1z\"></path>\n",
       "<path d=\"M23 18h-14c-0.552 0-1-0.448-1-1s0.448-1 1-1h14c0.552 0 1 0.448 1 1s-0.448 1-1 1z\"></path>\n",
       "</symbol>\n",
       "</defs>\n",
       "</svg>\n",
       "<style>/* CSS stylesheet for displaying xarray objects in jupyterlab.\n",
       " *\n",
       " */\n",
       "\n",
       ":root {\n",
       "  --xr-font-color0: var(--jp-content-font-color0, rgba(0, 0, 0, 1));\n",
       "  --xr-font-color2: var(--jp-content-font-color2, rgba(0, 0, 0, 0.54));\n",
       "  --xr-font-color3: var(--jp-content-font-color3, rgba(0, 0, 0, 0.38));\n",
       "  --xr-border-color: var(--jp-border-color2, #e0e0e0);\n",
       "  --xr-disabled-color: var(--jp-layout-color3, #bdbdbd);\n",
       "  --xr-background-color: var(--jp-layout-color0, white);\n",
       "  --xr-background-color-row-even: var(--jp-layout-color1, white);\n",
       "  --xr-background-color-row-odd: var(--jp-layout-color2, #eeeeee);\n",
       "}\n",
       "\n",
       "html[theme=dark],\n",
       "body.vscode-dark {\n",
       "  --xr-font-color0: rgba(255, 255, 255, 1);\n",
       "  --xr-font-color2: rgba(255, 255, 255, 0.54);\n",
       "  --xr-font-color3: rgba(255, 255, 255, 0.38);\n",
       "  --xr-border-color: #1F1F1F;\n",
       "  --xr-disabled-color: #515151;\n",
       "  --xr-background-color: #111111;\n",
       "  --xr-background-color-row-even: #111111;\n",
       "  --xr-background-color-row-odd: #313131;\n",
       "}\n",
       "\n",
       ".xr-wrap {\n",
       "  display: block !important;\n",
       "  min-width: 300px;\n",
       "  max-width: 700px;\n",
       "}\n",
       "\n",
       ".xr-text-repr-fallback {\n",
       "  /* fallback to plain text repr when CSS is not injected (untrusted notebook) */\n",
       "  display: none;\n",
       "}\n",
       "\n",
       ".xr-header {\n",
       "  padding-top: 6px;\n",
       "  padding-bottom: 6px;\n",
       "  margin-bottom: 4px;\n",
       "  border-bottom: solid 1px var(--xr-border-color);\n",
       "}\n",
       "\n",
       ".xr-header > div,\n",
       ".xr-header > ul {\n",
       "  display: inline;\n",
       "  margin-top: 0;\n",
       "  margin-bottom: 0;\n",
       "}\n",
       "\n",
       ".xr-obj-type,\n",
       ".xr-array-name {\n",
       "  margin-left: 2px;\n",
       "  margin-right: 10px;\n",
       "}\n",
       "\n",
       ".xr-obj-type {\n",
       "  color: var(--xr-font-color2);\n",
       "}\n",
       "\n",
       ".xr-sections {\n",
       "  padding-left: 0 !important;\n",
       "  display: grid;\n",
       "  grid-template-columns: 150px auto auto 1fr 20px 20px;\n",
       "}\n",
       "\n",
       ".xr-section-item {\n",
       "  display: contents;\n",
       "}\n",
       "\n",
       ".xr-section-item input {\n",
       "  display: none;\n",
       "}\n",
       "\n",
       ".xr-section-item input + label {\n",
       "  color: var(--xr-disabled-color);\n",
       "}\n",
       "\n",
       ".xr-section-item input:enabled + label {\n",
       "  cursor: pointer;\n",
       "  color: var(--xr-font-color2);\n",
       "}\n",
       "\n",
       ".xr-section-item input:enabled + label:hover {\n",
       "  color: var(--xr-font-color0);\n",
       "}\n",
       "\n",
       ".xr-section-summary {\n",
       "  grid-column: 1;\n",
       "  color: var(--xr-font-color2);\n",
       "  font-weight: 500;\n",
       "}\n",
       "\n",
       ".xr-section-summary > span {\n",
       "  display: inline-block;\n",
       "  padding-left: 0.5em;\n",
       "}\n",
       "\n",
       ".xr-section-summary-in:disabled + label {\n",
       "  color: var(--xr-font-color2);\n",
       "}\n",
       "\n",
       ".xr-section-summary-in + label:before {\n",
       "  display: inline-block;\n",
       "  content: '►';\n",
       "  font-size: 11px;\n",
       "  width: 15px;\n",
       "  text-align: center;\n",
       "}\n",
       "\n",
       ".xr-section-summary-in:disabled + label:before {\n",
       "  color: var(--xr-disabled-color);\n",
       "}\n",
       "\n",
       ".xr-section-summary-in:checked + label:before {\n",
       "  content: '▼';\n",
       "}\n",
       "\n",
       ".xr-section-summary-in:checked + label > span {\n",
       "  display: none;\n",
       "}\n",
       "\n",
       ".xr-section-summary,\n",
       ".xr-section-inline-details {\n",
       "  padding-top: 4px;\n",
       "  padding-bottom: 4px;\n",
       "}\n",
       "\n",
       ".xr-section-inline-details {\n",
       "  grid-column: 2 / -1;\n",
       "}\n",
       "\n",
       ".xr-section-details {\n",
       "  display: none;\n",
       "  grid-column: 1 / -1;\n",
       "  margin-bottom: 5px;\n",
       "}\n",
       "\n",
       ".xr-section-summary-in:checked ~ .xr-section-details {\n",
       "  display: contents;\n",
       "}\n",
       "\n",
       ".xr-array-wrap {\n",
       "  grid-column: 1 / -1;\n",
       "  display: grid;\n",
       "  grid-template-columns: 20px auto;\n",
       "}\n",
       "\n",
       ".xr-array-wrap > label {\n",
       "  grid-column: 1;\n",
       "  vertical-align: top;\n",
       "}\n",
       "\n",
       ".xr-preview {\n",
       "  color: var(--xr-font-color3);\n",
       "}\n",
       "\n",
       ".xr-array-preview,\n",
       ".xr-array-data {\n",
       "  padding: 0 5px !important;\n",
       "  grid-column: 2;\n",
       "}\n",
       "\n",
       ".xr-array-data,\n",
       ".xr-array-in:checked ~ .xr-array-preview {\n",
       "  display: none;\n",
       "}\n",
       "\n",
       ".xr-array-in:checked ~ .xr-array-data,\n",
       ".xr-array-preview {\n",
       "  display: inline-block;\n",
       "}\n",
       "\n",
       ".xr-dim-list {\n",
       "  display: inline-block !important;\n",
       "  list-style: none;\n",
       "  padding: 0 !important;\n",
       "  margin: 0;\n",
       "}\n",
       "\n",
       ".xr-dim-list li {\n",
       "  display: inline-block;\n",
       "  padding: 0;\n",
       "  margin: 0;\n",
       "}\n",
       "\n",
       ".xr-dim-list:before {\n",
       "  content: '(';\n",
       "}\n",
       "\n",
       ".xr-dim-list:after {\n",
       "  content: ')';\n",
       "}\n",
       "\n",
       ".xr-dim-list li:not(:last-child):after {\n",
       "  content: ',';\n",
       "  padding-right: 5px;\n",
       "}\n",
       "\n",
       ".xr-has-index {\n",
       "  font-weight: bold;\n",
       "}\n",
       "\n",
       ".xr-var-list,\n",
       ".xr-var-item {\n",
       "  display: contents;\n",
       "}\n",
       "\n",
       ".xr-var-item > div,\n",
       ".xr-var-item label,\n",
       ".xr-var-item > .xr-var-name span {\n",
       "  background-color: var(--xr-background-color-row-even);\n",
       "  margin-bottom: 0;\n",
       "}\n",
       "\n",
       ".xr-var-item > .xr-var-name:hover span {\n",
       "  padding-right: 5px;\n",
       "}\n",
       "\n",
       ".xr-var-list > li:nth-child(odd) > div,\n",
       ".xr-var-list > li:nth-child(odd) > label,\n",
       ".xr-var-list > li:nth-child(odd) > .xr-var-name span {\n",
       "  background-color: var(--xr-background-color-row-odd);\n",
       "}\n",
       "\n",
       ".xr-var-name {\n",
       "  grid-column: 1;\n",
       "}\n",
       "\n",
       ".xr-var-dims {\n",
       "  grid-column: 2;\n",
       "}\n",
       "\n",
       ".xr-var-dtype {\n",
       "  grid-column: 3;\n",
       "  text-align: right;\n",
       "  color: var(--xr-font-color2);\n",
       "}\n",
       "\n",
       ".xr-var-preview {\n",
       "  grid-column: 4;\n",
       "}\n",
       "\n",
       ".xr-var-name,\n",
       ".xr-var-dims,\n",
       ".xr-var-dtype,\n",
       ".xr-preview,\n",
       ".xr-attrs dt {\n",
       "  white-space: nowrap;\n",
       "  overflow: hidden;\n",
       "  text-overflow: ellipsis;\n",
       "  padding-right: 10px;\n",
       "}\n",
       "\n",
       ".xr-var-name:hover,\n",
       ".xr-var-dims:hover,\n",
       ".xr-var-dtype:hover,\n",
       ".xr-attrs dt:hover {\n",
       "  overflow: visible;\n",
       "  width: auto;\n",
       "  z-index: 1;\n",
       "}\n",
       "\n",
       ".xr-var-attrs,\n",
       ".xr-var-data {\n",
       "  display: none;\n",
       "  background-color: var(--xr-background-color) !important;\n",
       "  padding-bottom: 5px !important;\n",
       "}\n",
       "\n",
       ".xr-var-attrs-in:checked ~ .xr-var-attrs,\n",
       ".xr-var-data-in:checked ~ .xr-var-data {\n",
       "  display: block;\n",
       "}\n",
       "\n",
       ".xr-var-data > table {\n",
       "  float: right;\n",
       "}\n",
       "\n",
       ".xr-var-name span,\n",
       ".xr-var-data,\n",
       ".xr-attrs {\n",
       "  padding-left: 25px !important;\n",
       "}\n",
       "\n",
       ".xr-attrs,\n",
       ".xr-var-attrs,\n",
       ".xr-var-data {\n",
       "  grid-column: 1 / -1;\n",
       "}\n",
       "\n",
       "dl.xr-attrs {\n",
       "  padding: 0;\n",
       "  margin: 0;\n",
       "  display: grid;\n",
       "  grid-template-columns: 125px auto;\n",
       "}\n",
       "\n",
       ".xr-attrs dt,\n",
       ".xr-attrs dd {\n",
       "  padding: 0;\n",
       "  margin: 0;\n",
       "  float: left;\n",
       "  padding-right: 10px;\n",
       "  width: auto;\n",
       "}\n",
       "\n",
       ".xr-attrs dt {\n",
       "  font-weight: normal;\n",
       "  grid-column: 1;\n",
       "}\n",
       "\n",
       ".xr-attrs dt:hover span {\n",
       "  display: inline-block;\n",
       "  background: var(--xr-background-color);\n",
       "  padding-right: 10px;\n",
       "}\n",
       "\n",
       ".xr-attrs dd {\n",
       "  grid-column: 2;\n",
       "  white-space: pre-wrap;\n",
       "  word-break: break-all;\n",
       "}\n",
       "\n",
       ".xr-icon-database,\n",
       ".xr-icon-file-text2 {\n",
       "  display: inline-block;\n",
       "  vertical-align: middle;\n",
       "  width: 1em;\n",
       "  height: 1.5em !important;\n",
       "  stroke-width: 0;\n",
       "  stroke: currentColor;\n",
       "  fill: currentColor;\n",
       "}\n",
       "</style><pre class='xr-text-repr-fallback'>&lt;xarray.MCDS&gt;\n",
       "Dimensions:            (mc_type: 2, cell: 1660, chrom100k: 26350, count_type: 2)\n",
       "Coordinates:\n",
       "  * mc_type            (mc_type) &lt;U3 &#x27;CGN&#x27; &#x27;CHN&#x27;\n",
       "  * cell               (cell) &lt;U43 &#x27;AMB_220628_18mo_3F_4E_1_P1-1-I3-B1&#x27; ... &#x27;...\n",
       "  * chrom100k          (chrom100k) &lt;U10 &#x27;chr1_0&#x27; &#x27;chr1_1&#x27; ... &#x27;chrX_1710&#x27;\n",
       "    chrom100k_chrom    (chrom100k) &lt;U5 dask.array&lt;chunksize=(13175,), meta=np.ndarray&gt;\n",
       "    chrom100k_end      (chrom100k) int64 dask.array&lt;chunksize=(26350,), meta=np.ndarray&gt;\n",
       "    chrom100k_start    (chrom100k) int64 dask.array&lt;chunksize=(26350,), meta=np.ndarray&gt;\n",
       "  * count_type         (count_type) &lt;U3 &#x27;mc&#x27; &#x27;cov&#x27;\n",
       "Data variables:\n",
       "    chrom100k_da       (cell, chrom100k, mc_type, count_type) uint32 dask.array&lt;chunksize=(2, 13175, 1, 1), meta=np.ndarray&gt;\n",
       "    chrom100k_da_frac  (cell, chrom100k, mc_type) float64 dask.array&lt;chunksize=(2, 13175, 1), meta=np.ndarray&gt;\n",
       "Attributes:\n",
       "    obs_dim:  cell\n",
       "    var_dim:  chrom100k</pre><div class='xr-wrap' style='display:none'><div class='xr-header'><div class='xr-obj-type'>xarray.MCDS</div></div><ul class='xr-sections'><li class='xr-section-item'><input id='section-49893d4c-00eb-4eeb-83a8-b6d00225bfc3' class='xr-section-summary-in' type='checkbox' disabled ><label for='section-49893d4c-00eb-4eeb-83a8-b6d00225bfc3' class='xr-section-summary'  title='Expand/collapse section'>Dimensions:</label><div class='xr-section-inline-details'><ul class='xr-dim-list'><li><span class='xr-has-index'>mc_type</span>: 2</li><li><span class='xr-has-index'>cell</span>: 1660</li><li><span class='xr-has-index'>chrom100k</span>: 26350</li><li><span class='xr-has-index'>count_type</span>: 2</li></ul></div><div class='xr-section-details'></div></li><li class='xr-section-item'><input id='section-2a581c1c-6d51-4d1a-86c0-b17257718a5c' class='xr-section-summary-in' type='checkbox'  checked><label for='section-2a581c1c-6d51-4d1a-86c0-b17257718a5c' class='xr-section-summary' >Coordinates: <span>(7)</span></label><div class='xr-section-inline-details'></div><div class='xr-section-details'><ul class='xr-var-list'><li class='xr-var-item'><div class='xr-var-name'><span class='xr-has-index'>mc_type</span></div><div class='xr-var-dims'>(mc_type)</div><div class='xr-var-dtype'>&lt;U3</div><div class='xr-var-preview xr-preview'>&#x27;CGN&#x27; &#x27;CHN&#x27;</div><input id='attrs-41a1c1d4-737a-4e6f-91f6-eb82333ee6ee' class='xr-var-attrs-in' type='checkbox' disabled><label for='attrs-41a1c1d4-737a-4e6f-91f6-eb82333ee6ee' title='Show/Hide attributes'><svg class='icon xr-icon-file-text2'><use xlink:href='#icon-file-text2'></use></svg></label><input id='data-b5f75aa6-d2cc-46d5-9af9-0f0ca16ce16d' class='xr-var-data-in' type='checkbox'><label for='data-b5f75aa6-d2cc-46d5-9af9-0f0ca16ce16d' title='Show/Hide data repr'><svg class='icon xr-icon-database'><use xlink:href='#icon-database'></use></svg></label><div class='xr-var-attrs'><dl class='xr-attrs'></dl></div><div class='xr-var-data'><pre>array([&#x27;CGN&#x27;, &#x27;CHN&#x27;], dtype=&#x27;&lt;U3&#x27;)</pre></div></li><li class='xr-var-item'><div class='xr-var-name'><span class='xr-has-index'>cell</span></div><div class='xr-var-dims'>(cell)</div><div class='xr-var-dtype'>&lt;U43</div><div class='xr-var-preview xr-preview'>&#x27;AMB_220628_18mo_3F_4E_1_P1-1-I3...</div><input id='attrs-c33f9fdc-aa63-457d-91a4-a1f459dce54e' class='xr-var-attrs-in' type='checkbox' disabled><label for='attrs-c33f9fdc-aa63-457d-91a4-a1f459dce54e' title='Show/Hide attributes'><svg class='icon xr-icon-file-text2'><use xlink:href='#icon-file-text2'></use></svg></label><input id='data-baac1dcd-66e5-4f08-a1b0-84b8b06cd437' class='xr-var-data-in' type='checkbox'><label for='data-baac1dcd-66e5-4f08-a1b0-84b8b06cd437' title='Show/Hide data repr'><svg class='icon xr-icon-database'><use xlink:href='#icon-database'></use></svg></label><div class='xr-var-attrs'><dl class='xr-attrs'></dl></div><div class='xr-var-data'><pre>array([&#x27;AMB_220628_18mo_3F_4E_1_P1-1-I3-B1&#x27;,\n",
       "       &#x27;AMB_220628_18mo_3F_4E_1_P1-1-I3-C14&#x27;,\n",
       "       &#x27;AMB_220628_18mo_3F_4E_1_P1-1-I3-G2&#x27;, ...,\n",
       "       &#x27;AMB_220614_18mo_5E_6E_1_P4-6-J7-E11&#x27;,\n",
       "       &#x27;AMB_220614_18mo_5E_6E_1_P4-6-J7-F23&#x27;,\n",
       "       &#x27;AMB_220614_18mo_5E_6E_1_P4-6-J7-K23&#x27;], dtype=&#x27;&lt;U43&#x27;)</pre></div></li><li class='xr-var-item'><div class='xr-var-name'><span class='xr-has-index'>chrom100k</span></div><div class='xr-var-dims'>(chrom100k)</div><div class='xr-var-dtype'>&lt;U10</div><div class='xr-var-preview xr-preview'>&#x27;chr1_0&#x27; &#x27;chr1_1&#x27; ... &#x27;chrX_1710&#x27;</div><input id='attrs-99971364-2120-4972-81e4-b9f85839c246' class='xr-var-attrs-in' type='checkbox' disabled><label for='attrs-99971364-2120-4972-81e4-b9f85839c246' title='Show/Hide attributes'><svg class='icon xr-icon-file-text2'><use xlink:href='#icon-file-text2'></use></svg></label><input id='data-bc469077-18b8-4077-8e86-95e46f67fbfc' class='xr-var-data-in' type='checkbox'><label for='data-bc469077-18b8-4077-8e86-95e46f67fbfc' title='Show/Hide data repr'><svg class='icon xr-icon-database'><use xlink:href='#icon-database'></use></svg></label><div class='xr-var-attrs'><dl class='xr-attrs'></dl></div><div class='xr-var-data'><pre>array([&#x27;chr1_0&#x27;, &#x27;chr1_1&#x27;, &#x27;chr1_2&#x27;, ..., &#x27;chrX_1708&#x27;, &#x27;chrX_1709&#x27;,\n",
       "       &#x27;chrX_1710&#x27;], dtype=&#x27;&lt;U10&#x27;)</pre></div></li><li class='xr-var-item'><div class='xr-var-name'><span>chrom100k_chrom</span></div><div class='xr-var-dims'>(chrom100k)</div><div class='xr-var-dtype'>&lt;U5</div><div class='xr-var-preview xr-preview'>dask.array&lt;chunksize=(13175,), meta=np.ndarray&gt;</div><input id='attrs-fc4f9d8a-9efb-4f9b-bb3f-c985f6230756' class='xr-var-attrs-in' type='checkbox' disabled><label for='attrs-fc4f9d8a-9efb-4f9b-bb3f-c985f6230756' title='Show/Hide attributes'><svg class='icon xr-icon-file-text2'><use xlink:href='#icon-file-text2'></use></svg></label><input id='data-98fc988d-f853-483d-8f01-c17b29862aef' class='xr-var-data-in' type='checkbox'><label for='data-98fc988d-f853-483d-8f01-c17b29862aef' title='Show/Hide data repr'><svg class='icon xr-icon-database'><use xlink:href='#icon-database'></use></svg></label><div class='xr-var-attrs'><dl class='xr-attrs'></dl></div><div class='xr-var-data'><table>\n",
       "    <tr>\n",
       "        <td>\n",
       "            <table>\n",
       "                <thead>\n",
       "                    <tr>\n",
       "                        <td> </td>\n",
       "                        <th> Array </th>\n",
       "                        <th> Chunk </th>\n",
       "                    </tr>\n",
       "                </thead>\n",
       "                <tbody>\n",
       "                    \n",
       "                    <tr>\n",
       "                        <th> Bytes </th>\n",
       "                        <td> 514.65 kiB </td>\n",
       "                        <td> 257.32 kiB </td>\n",
       "                    </tr>\n",
       "                    \n",
       "                    <tr>\n",
       "                        <th> Shape </th>\n",
       "                        <td> (26350,) </td>\n",
       "                        <td> (13175,) </td>\n",
       "                    </tr>\n",
       "                    <tr>\n",
       "                        <th> Count </th>\n",
       "                        <td> 3 Tasks </td>\n",
       "                        <td> 2 Chunks </td>\n",
       "                    </tr>\n",
       "                    <tr>\n",
       "                    <th> Type </th>\n",
       "                    <td> <U5 </td>\n",
       "                    <td> numpy.ndarray </td>\n",
       "                    </tr>\n",
       "                </tbody>\n",
       "            </table>\n",
       "        </td>\n",
       "        <td>\n",
       "        <svg width=\"170\" height=\"75\" style=\"stroke:rgb(0,0,0);stroke-width:1\" >\n",
       "\n",
       "  <!-- Horizontal lines -->\n",
       "  <line x1=\"0\" y1=\"0\" x2=\"120\" y2=\"0\" style=\"stroke-width:2\" />\n",
       "  <line x1=\"0\" y1=\"25\" x2=\"120\" y2=\"25\" style=\"stroke-width:2\" />\n",
       "\n",
       "  <!-- Vertical lines -->\n",
       "  <line x1=\"0\" y1=\"0\" x2=\"0\" y2=\"25\" style=\"stroke-width:2\" />\n",
       "  <line x1=\"60\" y1=\"0\" x2=\"60\" y2=\"25\" />\n",
       "  <line x1=\"120\" y1=\"0\" x2=\"120\" y2=\"25\" style=\"stroke-width:2\" />\n",
       "\n",
       "  <!-- Colored Rectangle -->\n",
       "  <polygon points=\"0.0,0.0 120.0,0.0 120.0,25.412616514582485 0.0,25.412616514582485\" style=\"fill:#ECB172A0;stroke-width:0\"/>\n",
       "\n",
       "  <!-- Text -->\n",
       "  <text x=\"60.000000\" y=\"45.412617\" font-size=\"1.0rem\" font-weight=\"100\" text-anchor=\"middle\" >26350</text>\n",
       "  <text x=\"140.000000\" y=\"12.706308\" font-size=\"1.0rem\" font-weight=\"100\" text-anchor=\"middle\" transform=\"rotate(0,140.000000,12.706308)\">1</text>\n",
       "</svg>\n",
       "        </td>\n",
       "    </tr>\n",
       "</table></div></li><li class='xr-var-item'><div class='xr-var-name'><span>chrom100k_end</span></div><div class='xr-var-dims'>(chrom100k)</div><div class='xr-var-dtype'>int64</div><div class='xr-var-preview xr-preview'>dask.array&lt;chunksize=(26350,), meta=np.ndarray&gt;</div><input id='attrs-67ccac18-62d4-402e-ae9d-819991379e1f' class='xr-var-attrs-in' type='checkbox' disabled><label for='attrs-67ccac18-62d4-402e-ae9d-819991379e1f' title='Show/Hide attributes'><svg class='icon xr-icon-file-text2'><use xlink:href='#icon-file-text2'></use></svg></label><input id='data-d3df71f8-1900-45b7-9bab-a93875010f7a' class='xr-var-data-in' type='checkbox'><label for='data-d3df71f8-1900-45b7-9bab-a93875010f7a' title='Show/Hide data repr'><svg class='icon xr-icon-database'><use xlink:href='#icon-database'></use></svg></label><div class='xr-var-attrs'><dl class='xr-attrs'></dl></div><div class='xr-var-data'><table>\n",
       "    <tr>\n",
       "        <td>\n",
       "            <table>\n",
       "                <thead>\n",
       "                    <tr>\n",
       "                        <td> </td>\n",
       "                        <th> Array </th>\n",
       "                        <th> Chunk </th>\n",
       "                    </tr>\n",
       "                </thead>\n",
       "                <tbody>\n",
       "                    \n",
       "                    <tr>\n",
       "                        <th> Bytes </th>\n",
       "                        <td> 205.86 kiB </td>\n",
       "                        <td> 205.86 kiB </td>\n",
       "                    </tr>\n",
       "                    \n",
       "                    <tr>\n",
       "                        <th> Shape </th>\n",
       "                        <td> (26350,) </td>\n",
       "                        <td> (26350,) </td>\n",
       "                    </tr>\n",
       "                    <tr>\n",
       "                        <th> Count </th>\n",
       "                        <td> 2 Tasks </td>\n",
       "                        <td> 1 Chunks </td>\n",
       "                    </tr>\n",
       "                    <tr>\n",
       "                    <th> Type </th>\n",
       "                    <td> int64 </td>\n",
       "                    <td> numpy.ndarray </td>\n",
       "                    </tr>\n",
       "                </tbody>\n",
       "            </table>\n",
       "        </td>\n",
       "        <td>\n",
       "        <svg width=\"170\" height=\"75\" style=\"stroke:rgb(0,0,0);stroke-width:1\" >\n",
       "\n",
       "  <!-- Horizontal lines -->\n",
       "  <line x1=\"0\" y1=\"0\" x2=\"120\" y2=\"0\" style=\"stroke-width:2\" />\n",
       "  <line x1=\"0\" y1=\"25\" x2=\"120\" y2=\"25\" style=\"stroke-width:2\" />\n",
       "\n",
       "  <!-- Vertical lines -->\n",
       "  <line x1=\"0\" y1=\"0\" x2=\"0\" y2=\"25\" style=\"stroke-width:2\" />\n",
       "  <line x1=\"120\" y1=\"0\" x2=\"120\" y2=\"25\" style=\"stroke-width:2\" />\n",
       "\n",
       "  <!-- Colored Rectangle -->\n",
       "  <polygon points=\"0.0,0.0 120.0,0.0 120.0,25.412616514582485 0.0,25.412616514582485\" style=\"fill:#ECB172A0;stroke-width:0\"/>\n",
       "\n",
       "  <!-- Text -->\n",
       "  <text x=\"60.000000\" y=\"45.412617\" font-size=\"1.0rem\" font-weight=\"100\" text-anchor=\"middle\" >26350</text>\n",
       "  <text x=\"140.000000\" y=\"12.706308\" font-size=\"1.0rem\" font-weight=\"100\" text-anchor=\"middle\" transform=\"rotate(0,140.000000,12.706308)\">1</text>\n",
       "</svg>\n",
       "        </td>\n",
       "    </tr>\n",
       "</table></div></li><li class='xr-var-item'><div class='xr-var-name'><span>chrom100k_start</span></div><div class='xr-var-dims'>(chrom100k)</div><div class='xr-var-dtype'>int64</div><div class='xr-var-preview xr-preview'>dask.array&lt;chunksize=(26350,), meta=np.ndarray&gt;</div><input id='attrs-595888bc-1364-49ed-aead-d4e0ee296ea6' class='xr-var-attrs-in' type='checkbox' disabled><label for='attrs-595888bc-1364-49ed-aead-d4e0ee296ea6' title='Show/Hide attributes'><svg class='icon xr-icon-file-text2'><use xlink:href='#icon-file-text2'></use></svg></label><input id='data-0aa1d4fc-4872-4b1d-92de-7d1632a444e9' class='xr-var-data-in' type='checkbox'><label for='data-0aa1d4fc-4872-4b1d-92de-7d1632a444e9' title='Show/Hide data repr'><svg class='icon xr-icon-database'><use xlink:href='#icon-database'></use></svg></label><div class='xr-var-attrs'><dl class='xr-attrs'></dl></div><div class='xr-var-data'><table>\n",
       "    <tr>\n",
       "        <td>\n",
       "            <table>\n",
       "                <thead>\n",
       "                    <tr>\n",
       "                        <td> </td>\n",
       "                        <th> Array </th>\n",
       "                        <th> Chunk </th>\n",
       "                    </tr>\n",
       "                </thead>\n",
       "                <tbody>\n",
       "                    \n",
       "                    <tr>\n",
       "                        <th> Bytes </th>\n",
       "                        <td> 205.86 kiB </td>\n",
       "                        <td> 205.86 kiB </td>\n",
       "                    </tr>\n",
       "                    \n",
       "                    <tr>\n",
       "                        <th> Shape </th>\n",
       "                        <td> (26350,) </td>\n",
       "                        <td> (26350,) </td>\n",
       "                    </tr>\n",
       "                    <tr>\n",
       "                        <th> Count </th>\n",
       "                        <td> 2 Tasks </td>\n",
       "                        <td> 1 Chunks </td>\n",
       "                    </tr>\n",
       "                    <tr>\n",
       "                    <th> Type </th>\n",
       "                    <td> int64 </td>\n",
       "                    <td> numpy.ndarray </td>\n",
       "                    </tr>\n",
       "                </tbody>\n",
       "            </table>\n",
       "        </td>\n",
       "        <td>\n",
       "        <svg width=\"170\" height=\"75\" style=\"stroke:rgb(0,0,0);stroke-width:1\" >\n",
       "\n",
       "  <!-- Horizontal lines -->\n",
       "  <line x1=\"0\" y1=\"0\" x2=\"120\" y2=\"0\" style=\"stroke-width:2\" />\n",
       "  <line x1=\"0\" y1=\"25\" x2=\"120\" y2=\"25\" style=\"stroke-width:2\" />\n",
       "\n",
       "  <!-- Vertical lines -->\n",
       "  <line x1=\"0\" y1=\"0\" x2=\"0\" y2=\"25\" style=\"stroke-width:2\" />\n",
       "  <line x1=\"120\" y1=\"0\" x2=\"120\" y2=\"25\" style=\"stroke-width:2\" />\n",
       "\n",
       "  <!-- Colored Rectangle -->\n",
       "  <polygon points=\"0.0,0.0 120.0,0.0 120.0,25.412616514582485 0.0,25.412616514582485\" style=\"fill:#ECB172A0;stroke-width:0\"/>\n",
       "\n",
       "  <!-- Text -->\n",
       "  <text x=\"60.000000\" y=\"45.412617\" font-size=\"1.0rem\" font-weight=\"100\" text-anchor=\"middle\" >26350</text>\n",
       "  <text x=\"140.000000\" y=\"12.706308\" font-size=\"1.0rem\" font-weight=\"100\" text-anchor=\"middle\" transform=\"rotate(0,140.000000,12.706308)\">1</text>\n",
       "</svg>\n",
       "        </td>\n",
       "    </tr>\n",
       "</table></div></li><li class='xr-var-item'><div class='xr-var-name'><span class='xr-has-index'>count_type</span></div><div class='xr-var-dims'>(count_type)</div><div class='xr-var-dtype'>&lt;U3</div><div class='xr-var-preview xr-preview'>&#x27;mc&#x27; &#x27;cov&#x27;</div><input id='attrs-5d03634b-e502-4d77-811d-96e5ccfb4fee' class='xr-var-attrs-in' type='checkbox' disabled><label for='attrs-5d03634b-e502-4d77-811d-96e5ccfb4fee' title='Show/Hide attributes'><svg class='icon xr-icon-file-text2'><use xlink:href='#icon-file-text2'></use></svg></label><input id='data-cb690735-8a76-4008-ad58-9a2ed9c6b2c0' class='xr-var-data-in' type='checkbox'><label for='data-cb690735-8a76-4008-ad58-9a2ed9c6b2c0' title='Show/Hide data repr'><svg class='icon xr-icon-database'><use xlink:href='#icon-database'></use></svg></label><div class='xr-var-attrs'><dl class='xr-attrs'></dl></div><div class='xr-var-data'><pre>array([&#x27;mc&#x27;, &#x27;cov&#x27;], dtype=&#x27;&lt;U3&#x27;)</pre></div></li></ul></div></li><li class='xr-section-item'><input id='section-714cea1c-6749-4a9b-95a9-f37d53987bf6' class='xr-section-summary-in' type='checkbox'  checked><label for='section-714cea1c-6749-4a9b-95a9-f37d53987bf6' class='xr-section-summary' >Data variables: <span>(2)</span></label><div class='xr-section-inline-details'></div><div class='xr-section-details'><ul class='xr-var-list'><li class='xr-var-item'><div class='xr-var-name'><span>chrom100k_da</span></div><div class='xr-var-dims'>(cell, chrom100k, mc_type, count_type)</div><div class='xr-var-dtype'>uint32</div><div class='xr-var-preview xr-preview'>dask.array&lt;chunksize=(2, 13175, 1, 1), meta=np.ndarray&gt;</div><input id='attrs-e869ad20-9518-4306-9351-b7e0b2ca0aed' class='xr-var-attrs-in' type='checkbox' disabled><label for='attrs-e869ad20-9518-4306-9351-b7e0b2ca0aed' title='Show/Hide attributes'><svg class='icon xr-icon-file-text2'><use xlink:href='#icon-file-text2'></use></svg></label><input id='data-62006e5f-f3de-41b6-a4dd-6274fa0d93cd' class='xr-var-data-in' type='checkbox'><label for='data-62006e5f-f3de-41b6-a4dd-6274fa0d93cd' title='Show/Hide data repr'><svg class='icon xr-icon-database'><use xlink:href='#icon-database'></use></svg></label><div class='xr-var-attrs'><dl class='xr-attrs'></dl></div><div class='xr-var-data'><table>\n",
       "    <tr>\n",
       "        <td>\n",
       "            <table>\n",
       "                <thead>\n",
       "                    <tr>\n",
       "                        <td> </td>\n",
       "                        <th> Array </th>\n",
       "                        <th> Chunk </th>\n",
       "                    </tr>\n",
       "                </thead>\n",
       "                <tbody>\n",
       "                    \n",
       "                    <tr>\n",
       "                        <th> Bytes </th>\n",
       "                        <td> 667.43 MiB </td>\n",
       "                        <td> 308.79 kiB </td>\n",
       "                    </tr>\n",
       "                    \n",
       "                    <tr>\n",
       "                        <th> Shape </th>\n",
       "                        <td> (1660, 26350, 2, 2) </td>\n",
       "                        <td> (6, 13175, 1, 1) </td>\n",
       "                    </tr>\n",
       "                    <tr>\n",
       "                        <th> Count </th>\n",
       "                        <td> 115213 Tasks </td>\n",
       "                        <td> 8016 Chunks </td>\n",
       "                    </tr>\n",
       "                    <tr>\n",
       "                    <th> Type </th>\n",
       "                    <td> uint32 </td>\n",
       "                    <td> numpy.ndarray </td>\n",
       "                    </tr>\n",
       "                </tbody>\n",
       "            </table>\n",
       "        </td>\n",
       "        <td>\n",
       "        <svg width=\"356\" height=\"146\" style=\"stroke:rgb(0,0,0);stroke-width:1\" >\n",
       "\n",
       "  <!-- Horizontal lines -->\n",
       "  <line x1=\"0\" y1=\"0\" x2=\"35\" y2=\"0\" style=\"stroke-width:2\" />\n",
       "  <line x1=\"0\" y1=\"25\" x2=\"35\" y2=\"25\" style=\"stroke-width:2\" />\n",
       "\n",
       "  <!-- Vertical lines -->\n",
       "  <line x1=\"0\" y1=\"0\" x2=\"0\" y2=\"25\" style=\"stroke-width:2\" />\n",
       "  <line x1=\"1\" y1=\"0\" x2=\"1\" y2=\"25\" />\n",
       "  <line x1=\"2\" y1=\"0\" x2=\"2\" y2=\"25\" />\n",
       "  <line x1=\"3\" y1=\"0\" x2=\"3\" y2=\"25\" />\n",
       "  <line x1=\"4\" y1=\"0\" x2=\"4\" y2=\"25\" />\n",
       "  <line x1=\"6\" y1=\"0\" x2=\"6\" y2=\"25\" />\n",
       "  <line x1=\"7\" y1=\"0\" x2=\"7\" y2=\"25\" />\n",
       "  <line x1=\"8\" y1=\"0\" x2=\"8\" y2=\"25\" />\n",
       "  <line x1=\"9\" y1=\"0\" x2=\"9\" y2=\"25\" />\n",
       "  <line x1=\"10\" y1=\"0\" x2=\"10\" y2=\"25\" />\n",
       "  <line x1=\"11\" y1=\"0\" x2=\"11\" y2=\"25\" />\n",
       "  <line x1=\"12\" y1=\"0\" x2=\"12\" y2=\"25\" />\n",
       "  <line x1=\"13\" y1=\"0\" x2=\"13\" y2=\"25\" />\n",
       "  <line x1=\"14\" y1=\"0\" x2=\"14\" y2=\"25\" />\n",
       "  <line x1=\"16\" y1=\"0\" x2=\"16\" y2=\"25\" />\n",
       "  <line x1=\"17\" y1=\"0\" x2=\"17\" y2=\"25\" />\n",
       "  <line x1=\"18\" y1=\"0\" x2=\"18\" y2=\"25\" />\n",
       "  <line x1=\"19\" y1=\"0\" x2=\"19\" y2=\"25\" />\n",
       "  <line x1=\"20\" y1=\"0\" x2=\"20\" y2=\"25\" />\n",
       "  <line x1=\"22\" y1=\"0\" x2=\"22\" y2=\"25\" />\n",
       "  <line x1=\"23\" y1=\"0\" x2=\"23\" y2=\"25\" />\n",
       "  <line x1=\"24\" y1=\"0\" x2=\"24\" y2=\"25\" />\n",
       "  <line x1=\"25\" y1=\"0\" x2=\"25\" y2=\"25\" />\n",
       "  <line x1=\"26\" y1=\"0\" x2=\"26\" y2=\"25\" />\n",
       "  <line x1=\"27\" y1=\"0\" x2=\"27\" y2=\"25\" />\n",
       "  <line x1=\"28\" y1=\"0\" x2=\"28\" y2=\"25\" />\n",
       "  <line x1=\"29\" y1=\"0\" x2=\"29\" y2=\"25\" />\n",
       "  <line x1=\"30\" y1=\"0\" x2=\"30\" y2=\"25\" />\n",
       "  <line x1=\"31\" y1=\"0\" x2=\"31\" y2=\"25\" />\n",
       "  <line x1=\"32\" y1=\"0\" x2=\"32\" y2=\"25\" />\n",
       "  <line x1=\"33\" y1=\"0\" x2=\"33\" y2=\"25\" />\n",
       "  <line x1=\"34\" y1=\"0\" x2=\"34\" y2=\"25\" />\n",
       "  <line x1=\"35\" y1=\"0\" x2=\"35\" y2=\"25\" style=\"stroke-width:2\" />\n",
       "\n",
       "  <!-- Colored Rectangle -->\n",
       "  <polygon points=\"0.0,0.0 35.907451160864646,0.0 35.907451160864646,25.412616514582485 0.0,25.412616514582485\" style=\"fill:#8B4903A0;stroke-width:0\"/>\n",
       "\n",
       "  <!-- Text -->\n",
       "  <text x=\"17.953726\" y=\"45.412617\" font-size=\"1.0rem\" font-weight=\"100\" text-anchor=\"middle\" >1660</text>\n",
       "  <text x=\"55.907451\" y=\"12.706308\" font-size=\"1.0rem\" font-weight=\"100\" text-anchor=\"middle\" transform=\"rotate(0,55.907451,12.706308)\">1</text>\n",
       "\n",
       "\n",
       "  <!-- Horizontal lines -->\n",
       "  <line x1=\"105\" y1=\"0\" x2=\"175\" y2=\"70\" style=\"stroke-width:2\" />\n",
       "  <line x1=\"105\" y1=\"12\" x2=\"175\" y2=\"83\" />\n",
       "  <line x1=\"105\" y1=\"25\" x2=\"175\" y2=\"96\" style=\"stroke-width:2\" />\n",
       "\n",
       "  <!-- Vertical lines -->\n",
       "  <line x1=\"105\" y1=\"0\" x2=\"105\" y2=\"25\" style=\"stroke-width:2\" />\n",
       "  <line x1=\"140\" y1=\"35\" x2=\"140\" y2=\"60\" />\n",
       "  <line x1=\"175\" y1=\"70\" x2=\"175\" y2=\"96\" style=\"stroke-width:2\" />\n",
       "\n",
       "  <!-- Colored Rectangle -->\n",
       "  <polygon points=\"105.0,0.0 175.58823529411765,70.58823529411765 175.58823529411765,96.00085180870013 105.0,25.412616514582485\" style=\"fill:#ECB172A0;stroke-width:0\"/>\n",
       "\n",
       "  <!-- Horizontal lines -->\n",
       "  <line x1=\"105\" y1=\"0\" x2=\"130\" y2=\"0\" style=\"stroke-width:2\" />\n",
       "  <line x1=\"140\" y1=\"35\" x2=\"165\" y2=\"35\" />\n",
       "  <line x1=\"175\" y1=\"70\" x2=\"201\" y2=\"70\" style=\"stroke-width:2\" />\n",
       "\n",
       "  <!-- Vertical lines -->\n",
       "  <line x1=\"105\" y1=\"0\" x2=\"175\" y2=\"70\" style=\"stroke-width:2\" />\n",
       "  <line x1=\"117\" y1=\"0\" x2=\"188\" y2=\"70\" />\n",
       "  <line x1=\"130\" y1=\"0\" x2=\"201\" y2=\"70\" style=\"stroke-width:2\" />\n",
       "\n",
       "  <!-- Colored Rectangle -->\n",
       "  <polygon points=\"105.0,0.0 130.41261651458248,0.0 201.00085180870013,70.58823529411765 175.58823529411765,70.58823529411765\" style=\"fill:#ECB172A0;stroke-width:0\"/>\n",
       "\n",
       "  <!-- Horizontal lines -->\n",
       "  <line x1=\"175\" y1=\"70\" x2=\"201\" y2=\"70\" style=\"stroke-width:2\" />\n",
       "  <line x1=\"175\" y1=\"83\" x2=\"201\" y2=\"83\" />\n",
       "  <line x1=\"175\" y1=\"96\" x2=\"201\" y2=\"96\" style=\"stroke-width:2\" />\n",
       "\n",
       "  <!-- Vertical lines -->\n",
       "  <line x1=\"175\" y1=\"70\" x2=\"175\" y2=\"96\" style=\"stroke-width:2\" />\n",
       "  <line x1=\"188\" y1=\"70\" x2=\"188\" y2=\"96\" />\n",
       "  <line x1=\"201\" y1=\"70\" x2=\"201\" y2=\"96\" style=\"stroke-width:2\" />\n",
       "\n",
       "  <!-- Colored Rectangle -->\n",
       "  <polygon points=\"175.58823529411765,70.58823529411765 201.00085180870013,70.58823529411765 201.00085180870013,96.00085180870013 175.58823529411765,96.00085180870013\" style=\"fill:#ECB172A0;stroke-width:0\"/>\n",
       "\n",
       "  <!-- Text -->\n",
       "  <text x=\"188.294544\" y=\"116.000852\" font-size=\"1.0rem\" font-weight=\"100\" text-anchor=\"middle\" >2</text>\n",
       "  <text x=\"221.000852\" y=\"83.294544\" font-size=\"1.0rem\" font-weight=\"100\" text-anchor=\"middle\" transform=\"rotate(0,221.000852,83.294544)\">2</text>\n",
       "  <text x=\"130.294118\" y=\"80.706734\" font-size=\"1.0rem\" font-weight=\"100\" text-anchor=\"middle\" transform=\"rotate(45,130.294118,80.706734)\">26350</text>\n",
       "</svg>\n",
       "        </td>\n",
       "    </tr>\n",
       "</table></div></li><li class='xr-var-item'><div class='xr-var-name'><span>chrom100k_da_frac</span></div><div class='xr-var-dims'>(cell, chrom100k, mc_type)</div><div class='xr-var-dtype'>float64</div><div class='xr-var-preview xr-preview'>dask.array&lt;chunksize=(2, 13175, 1), meta=np.ndarray&gt;</div><input id='attrs-5cdda89b-93d8-4c20-966e-a9cc4695df42' class='xr-var-attrs-in' type='checkbox' disabled><label for='attrs-5cdda89b-93d8-4c20-966e-a9cc4695df42' title='Show/Hide attributes'><svg class='icon xr-icon-file-text2'><use xlink:href='#icon-file-text2'></use></svg></label><input id='data-193a7c48-88ac-4470-ba66-943fed95fc51' class='xr-var-data-in' type='checkbox'><label for='data-193a7c48-88ac-4470-ba66-943fed95fc51' title='Show/Hide data repr'><svg class='icon xr-icon-database'><use xlink:href='#icon-database'></use></svg></label><div class='xr-var-attrs'><dl class='xr-attrs'></dl></div><div class='xr-var-data'><table>\n",
       "    <tr>\n",
       "        <td>\n",
       "            <table>\n",
       "                <thead>\n",
       "                    <tr>\n",
       "                        <td> </td>\n",
       "                        <th> Array </th>\n",
       "                        <th> Chunk </th>\n",
       "                    </tr>\n",
       "                </thead>\n",
       "                <tbody>\n",
       "                    \n",
       "                    <tr>\n",
       "                        <th> Bytes </th>\n",
       "                        <td> 667.43 MiB </td>\n",
       "                        <td> 617.58 kiB </td>\n",
       "                    </tr>\n",
       "                    \n",
       "                    <tr>\n",
       "                        <th> Shape </th>\n",
       "                        <td> (1660, 26350, 2) </td>\n",
       "                        <td> (6, 13175, 1) </td>\n",
       "                    </tr>\n",
       "                    <tr>\n",
       "                        <th> Count </th>\n",
       "                        <td> 199381 Tasks </td>\n",
       "                        <td> 4008 Chunks </td>\n",
       "                    </tr>\n",
       "                    <tr>\n",
       "                    <th> Type </th>\n",
       "                    <td> float64 </td>\n",
       "                    <td> numpy.ndarray </td>\n",
       "                    </tr>\n",
       "                </tbody>\n",
       "            </table>\n",
       "        </td>\n",
       "        <td>\n",
       "        <svg width=\"106\" height=\"191\" style=\"stroke:rgb(0,0,0);stroke-width:1\" >\n",
       "\n",
       "  <!-- Horizontal lines -->\n",
       "  <line x1=\"10\" y1=\"0\" x2=\"31\" y2=\"21\" style=\"stroke-width:2\" />\n",
       "  <line x1=\"10\" y1=\"60\" x2=\"31\" y2=\"81\" />\n",
       "  <line x1=\"10\" y1=\"120\" x2=\"31\" y2=\"141\" style=\"stroke-width:2\" />\n",
       "\n",
       "  <!-- Vertical lines -->\n",
       "  <line x1=\"10\" y1=\"0\" x2=\"10\" y2=\"120\" style=\"stroke-width:2\" />\n",
       "  <line x1=\"11\" y1=\"1\" x2=\"11\" y2=\"121\" />\n",
       "  <line x1=\"12\" y1=\"2\" x2=\"12\" y2=\"122\" />\n",
       "  <line x1=\"13\" y1=\"3\" x2=\"13\" y2=\"123\" />\n",
       "  <line x1=\"14\" y1=\"4\" x2=\"14\" y2=\"124\" />\n",
       "  <line x1=\"15\" y1=\"5\" x2=\"15\" y2=\"125\" />\n",
       "  <line x1=\"16\" y1=\"6\" x2=\"16\" y2=\"126\" />\n",
       "  <line x1=\"18\" y1=\"8\" x2=\"18\" y2=\"128\" />\n",
       "  <line x1=\"19\" y1=\"9\" x2=\"19\" y2=\"129\" />\n",
       "  <line x1=\"20\" y1=\"10\" x2=\"20\" y2=\"130\" />\n",
       "  <line x1=\"21\" y1=\"11\" x2=\"21\" y2=\"131\" />\n",
       "  <line x1=\"22\" y1=\"12\" x2=\"22\" y2=\"132\" />\n",
       "  <line x1=\"23\" y1=\"13\" x2=\"23\" y2=\"133\" />\n",
       "  <line x1=\"24\" y1=\"14\" x2=\"24\" y2=\"134\" />\n",
       "  <line x1=\"25\" y1=\"15\" x2=\"25\" y2=\"135\" />\n",
       "  <line x1=\"26\" y1=\"16\" x2=\"26\" y2=\"136\" />\n",
       "  <line x1=\"28\" y1=\"18\" x2=\"28\" y2=\"138\" />\n",
       "  <line x1=\"29\" y1=\"19\" x2=\"29\" y2=\"139\" />\n",
       "  <line x1=\"30\" y1=\"20\" x2=\"30\" y2=\"140\" />\n",
       "  <line x1=\"31\" y1=\"21\" x2=\"31\" y2=\"141\" style=\"stroke-width:2\" />\n",
       "\n",
       "  <!-- Colored Rectangle -->\n",
       "  <polygon points=\"10.0,0.0 31.122030094626265,21.122030094626265 31.122030094626265,141.12203009462627 10.0,120.0\" style=\"fill:#8B4903A0;stroke-width:0\"/>\n",
       "\n",
       "  <!-- Horizontal lines -->\n",
       "  <line x1=\"10\" y1=\"0\" x2=\"35\" y2=\"0\" style=\"stroke-width:2\" />\n",
       "  <line x1=\"11\" y1=\"1\" x2=\"36\" y2=\"1\" />\n",
       "  <line x1=\"12\" y1=\"2\" x2=\"37\" y2=\"2\" />\n",
       "  <line x1=\"13\" y1=\"3\" x2=\"39\" y2=\"3\" />\n",
       "  <line x1=\"14\" y1=\"4\" x2=\"40\" y2=\"4\" />\n",
       "  <line x1=\"15\" y1=\"5\" x2=\"41\" y2=\"5\" />\n",
       "  <line x1=\"16\" y1=\"6\" x2=\"42\" y2=\"6\" />\n",
       "  <line x1=\"18\" y1=\"8\" x2=\"43\" y2=\"8\" />\n",
       "  <line x1=\"19\" y1=\"9\" x2=\"44\" y2=\"9\" />\n",
       "  <line x1=\"20\" y1=\"10\" x2=\"45\" y2=\"10\" />\n",
       "  <line x1=\"21\" y1=\"11\" x2=\"46\" y2=\"11\" />\n",
       "  <line x1=\"22\" y1=\"12\" x2=\"48\" y2=\"12\" />\n",
       "  <line x1=\"23\" y1=\"13\" x2=\"49\" y2=\"13\" />\n",
       "  <line x1=\"24\" y1=\"14\" x2=\"50\" y2=\"14\" />\n",
       "  <line x1=\"25\" y1=\"15\" x2=\"51\" y2=\"15\" />\n",
       "  <line x1=\"26\" y1=\"16\" x2=\"52\" y2=\"16\" />\n",
       "  <line x1=\"28\" y1=\"18\" x2=\"53\" y2=\"18\" />\n",
       "  <line x1=\"29\" y1=\"19\" x2=\"54\" y2=\"19\" />\n",
       "  <line x1=\"30\" y1=\"20\" x2=\"55\" y2=\"20\" />\n",
       "  <line x1=\"31\" y1=\"21\" x2=\"56\" y2=\"21\" style=\"stroke-width:2\" />\n",
       "\n",
       "  <!-- Vertical lines -->\n",
       "  <line x1=\"10\" y1=\"0\" x2=\"31\" y2=\"21\" style=\"stroke-width:2\" />\n",
       "  <line x1=\"22\" y1=\"0\" x2=\"43\" y2=\"21\" />\n",
       "  <line x1=\"35\" y1=\"0\" x2=\"56\" y2=\"21\" style=\"stroke-width:2\" />\n",
       "\n",
       "  <!-- Colored Rectangle -->\n",
       "  <polygon points=\"10.0,0.0 35.41261651458248,0.0 56.53464660920875,21.122030094626265 31.122030094626265,21.122030094626265\" style=\"fill:#8B4903A0;stroke-width:0\"/>\n",
       "\n",
       "  <!-- Horizontal lines -->\n",
       "  <line x1=\"31\" y1=\"21\" x2=\"56\" y2=\"21\" style=\"stroke-width:2\" />\n",
       "  <line x1=\"31\" y1=\"81\" x2=\"56\" y2=\"81\" />\n",
       "  <line x1=\"31\" y1=\"141\" x2=\"56\" y2=\"141\" style=\"stroke-width:2\" />\n",
       "\n",
       "  <!-- Vertical lines -->\n",
       "  <line x1=\"31\" y1=\"21\" x2=\"31\" y2=\"141\" style=\"stroke-width:2\" />\n",
       "  <line x1=\"43\" y1=\"21\" x2=\"43\" y2=\"141\" />\n",
       "  <line x1=\"56\" y1=\"21\" x2=\"56\" y2=\"141\" style=\"stroke-width:2\" />\n",
       "\n",
       "  <!-- Colored Rectangle -->\n",
       "  <polygon points=\"31.122030094626265,21.122030094626265 56.53464660920875,21.122030094626265 56.53464660920875,141.12203009462627 31.122030094626265,141.12203009462627\" style=\"fill:#ECB172A0;stroke-width:0\"/>\n",
       "\n",
       "  <!-- Text -->\n",
       "  <text x=\"43.828338\" y=\"161.122030\" font-size=\"1.0rem\" font-weight=\"100\" text-anchor=\"middle\" >2</text>\n",
       "  <text x=\"76.534647\" y=\"81.122030\" font-size=\"1.0rem\" font-weight=\"100\" text-anchor=\"middle\" transform=\"rotate(-90,76.534647,81.122030)\">26350</text>\n",
       "  <text x=\"10.561015\" y=\"150.561015\" font-size=\"1.0rem\" font-weight=\"100\" text-anchor=\"middle\" transform=\"rotate(45,10.561015,150.561015)\">1660</text>\n",
       "</svg>\n",
       "        </td>\n",
       "    </tr>\n",
       "</table></div></li></ul></div></li><li class='xr-section-item'><input id='section-c835d0db-05d0-43df-900c-073ba0d3c88c' class='xr-section-summary-in' type='checkbox'  checked><label for='section-c835d0db-05d0-43df-900c-073ba0d3c88c' class='xr-section-summary' >Attributes: <span>(2)</span></label><div class='xr-section-inline-details'></div><div class='xr-section-details'><dl class='xr-attrs'><dt><span>obs_dim :</span></dt><dd>cell</dd><dt><span>var_dim :</span></dt><dd>chrom100k</dd></dl></div></li></ul></div></div>"
      ],
      "text/plain": [
       "<xarray.MCDS>\n",
       "Dimensions:            (mc_type: 2, cell: 1660, chrom100k: 26350, count_type: 2)\n",
       "Coordinates:\n",
       "  * mc_type            (mc_type) <U3 'CGN' 'CHN'\n",
       "  * cell               (cell) <U43 'AMB_220628_18mo_3F_4E_1_P1-1-I3-B1' ... '...\n",
       "  * chrom100k          (chrom100k) <U10 'chr1_0' 'chr1_1' ... 'chrX_1710'\n",
       "    chrom100k_chrom    (chrom100k) <U5 dask.array<chunksize=(13175,), meta=np.ndarray>\n",
       "    chrom100k_end      (chrom100k) int64 dask.array<chunksize=(26350,), meta=np.ndarray>\n",
       "    chrom100k_start    (chrom100k) int64 dask.array<chunksize=(26350,), meta=np.ndarray>\n",
       "  * count_type         (count_type) <U3 'mc' 'cov'\n",
       "Data variables:\n",
       "    chrom100k_da       (cell, chrom100k, mc_type, count_type) uint32 dask.array<chunksize=(2, 13175, 1, 1), meta=np.ndarray>\n",
       "    chrom100k_da_frac  (cell, chrom100k, mc_type) float64 dask.array<chunksize=(2, 13175, 1), meta=np.ndarray>\n",
       "Attributes:\n",
       "    obs_dim:  cell\n",
       "    var_dim:  chrom100k"
      ]
     },
     "execution_count": 9,
     "metadata": {},
     "output_type": "execute_result"
    }
   ],
   "source": [
    "mcds_paths = glob.glob('/home/qzeng_salk_edu/project/230712_m3c-mc-integration/female-mcds/pool_amb*.mcds')\n",
    "mcds = MCDS.open(mcds_paths, var_dim=var_dim, use_obs=use_cells)\n",
    "mcds.add_mc_frac(\n",
    "normalize_per_cell=True,  # after calculating mC frac, per cell normalize the matrix\n",
    "    clip_norm_value=10  # clip outlier values above 10 to 10\n",
    ")\n",
    "mcds"
   ]
  },
  {
   "cell_type": "code",
   "execution_count": 10,
   "id": "be4f80f5",
   "metadata": {
    "ExecuteTime": {
     "end_time": "2022-06-25T18:39:20.211422Z",
     "start_time": "2022-06-25T18:29:28.677571Z"
    },
    "execution": {
     "iopub.execute_input": "2023-08-14T21:15:19.146717Z",
     "iopub.status.busy": "2023-08-14T21:15:19.146404Z",
     "iopub.status.idle": "2023-08-14T21:15:36.788582Z",
     "shell.execute_reply": "2023-08-14T21:15:36.787794Z",
     "shell.execute_reply.started": "2023-08-14T21:15:19.146694Z"
    },
    "papermill": {
     "duration": 89.579897,
     "end_time": "2022-10-23T02:46:09.347817",
     "exception": false,
     "start_time": "2022-10-23T02:44:39.767920",
     "status": "completed"
    },
    "tags": []
   },
   "outputs": [],
   "source": [
    "adata = mcds.get_adata(mc_type=mc_type,\n",
    "                       select_hvf=False,\n",
    "                       split_large_chunks=False)"
   ]
  },
  {
   "cell_type": "code",
   "execution_count": 11,
   "id": "b1702756",
   "metadata": {
    "ExecuteTime": {
     "end_time": "2022-06-25T18:39:20.233409Z",
     "start_time": "2022-06-25T18:39:20.213570Z"
    },
    "execution": {
     "iopub.execute_input": "2023-08-14T21:15:36.805641Z",
     "iopub.status.busy": "2023-08-14T21:15:36.805476Z",
     "iopub.status.idle": "2023-08-14T21:15:36.810108Z",
     "shell.execute_reply": "2023-08-14T21:15:36.809545Z",
     "shell.execute_reply.started": "2023-08-14T21:15:36.805626Z"
    },
    "papermill": {
     "duration": 0.150253,
     "end_time": "2022-10-23T02:46:09.540958",
     "exception": false,
     "start_time": "2022-10-23T02:46:09.390705",
     "status": "completed"
    },
    "tags": []
   },
   "outputs": [],
   "source": [
    "adata.obs[cef_cluster_level] = meta[cef_cluster_level]"
   ]
  },
  {
   "cell_type": "code",
   "execution_count": 12,
   "id": "8125c537-74f7-4c48-85ff-92ad6fe2a019",
   "metadata": {
    "execution": {
     "iopub.execute_input": "2023-08-14T21:15:36.811619Z",
     "iopub.status.busy": "2023-08-14T21:15:36.811443Z",
     "iopub.status.idle": "2023-08-14T21:15:36.817403Z",
     "shell.execute_reply": "2023-08-14T21:15:36.816833Z",
     "shell.execute_reply.started": "2023-08-14T21:15:36.811604Z"
    },
    "tags": []
   },
   "outputs": [
    {
     "data": {
      "text/plain": [
       "AnnData object with n_obs × n_vars = 1660 × 26350\n",
       "    obs: 'l1'\n",
       "    var: 'chrom', 'end', 'start'"
      ]
     },
     "execution_count": 12,
     "metadata": {},
     "output_type": "execute_result"
    }
   ],
   "source": [
    "adata"
   ]
  },
  {
   "cell_type": "markdown",
   "id": "dc9549b3",
   "metadata": {
    "ExecuteTime": {
     "end_time": "2022-06-04T04:56:12.906887Z",
     "start_time": "2022-06-04T04:56:12.373611Z"
    },
    "papermill": {
     "duration": 0.025948,
     "end_time": "2022-10-23T02:46:09.579400",
     "exception": false,
     "start_time": "2022-10-23T02:46:09.553452",
     "status": "completed"
    },
    "tags": []
   },
   "source": [
    "## Basic Feature Filtering"
   ]
  },
  {
   "cell_type": "code",
   "execution_count": 13,
   "id": "32e7c994",
   "metadata": {
    "ExecuteTime": {
     "end_time": "2022-06-25T18:39:25.144975Z",
     "start_time": "2022-06-25T18:39:20.234891Z"
    },
    "execution": {
     "iopub.execute_input": "2023-08-14T21:15:36.818225Z",
     "iopub.status.busy": "2023-08-14T21:15:36.818066Z",
     "iopub.status.idle": "2023-08-14T21:15:36.951779Z",
     "shell.execute_reply": "2023-08-14T21:15:36.950923Z",
     "shell.execute_reply.started": "2023-08-14T21:15:36.818210Z"
    },
    "papermill": {
     "duration": 11.717801,
     "end_time": "2022-10-23T02:46:21.313088",
     "exception": false,
     "start_time": "2022-10-23T02:46:09.595287",
     "status": "completed"
    },
    "tags": []
   },
   "outputs": [
    {
     "name": "stdout",
     "output_type": "stream",
     "text": [
      "24639 regions remained.\n"
     ]
    }
   ],
   "source": [
    "remove_chromosomes(adata, exclude_chromosomes=chrom_to_remove)"
   ]
  },
  {
   "cell_type": "code",
   "execution_count": 14,
   "id": "28d4d626",
   "metadata": {
    "ExecuteTime": {
     "end_time": "2022-06-25T18:39:30.446377Z",
     "start_time": "2022-06-25T18:39:25.146189Z"
    },
    "execution": {
     "iopub.execute_input": "2023-08-14T21:15:36.952769Z",
     "iopub.status.busy": "2023-08-14T21:15:36.952583Z",
     "iopub.status.idle": "2023-08-14T21:15:37.229441Z",
     "shell.execute_reply": "2023-08-14T21:15:37.228494Z",
     "shell.execute_reply.started": "2023-08-14T21:15:36.952751Z"
    },
    "papermill": {
     "duration": 10.886421,
     "end_time": "2022-10-23T02:46:32.212075",
     "exception": false,
     "start_time": "2022-10-23T02:46:21.325654",
     "status": "completed"
    },
    "tags": []
   },
   "outputs": [
    {
     "name": "stdout",
     "output_type": "stream",
     "text": [
      "1822 regions removed due to overlapping (bedtools intersect -f 0.2) with black list regions.\n"
     ]
    }
   ],
   "source": [
    "remove_black_list_region(adata, black_list_path=mm10.ENCODE_BLACKLIST_PATH)"
   ]
  },
  {
   "cell_type": "code",
   "execution_count": 15,
   "id": "d183d14b",
   "metadata": {
    "ExecuteTime": {
     "end_time": "2022-06-25T18:39:36.004354Z",
     "start_time": "2022-06-25T18:39:30.447816Z"
    },
    "execution": {
     "iopub.execute_input": "2023-08-14T21:15:37.230745Z",
     "iopub.status.busy": "2023-08-14T21:15:37.230533Z",
     "iopub.status.idle": "2023-08-14T21:15:37.394318Z",
     "shell.execute_reply": "2023-08-14T21:15:37.393469Z",
     "shell.execute_reply.started": "2023-08-14T21:15:37.230724Z"
    },
    "papermill": {
     "duration": 12.43229,
     "end_time": "2022-10-23T02:46:44.655380",
     "exception": false,
     "start_time": "2022-10-23T02:46:32.223090",
     "status": "completed"
    },
    "tags": []
   },
   "outputs": [],
   "source": [
    "# remove low std features\n",
    "pass_std_filter = adata.X.std(axis=0) > 0.05\n",
    "adata._inplace_subset_var(pass_std_filter)"
   ]
  },
  {
   "cell_type": "markdown",
   "id": "9a262ff4-5d89-4fe1-9a95-97be04b69714",
   "metadata": {
    "jupyter": {
     "outputs_hidden": false
    },
    "papermill": {
     "duration": 0.010211,
     "end_time": "2022-10-23T02:46:44.677600",
     "exception": false,
     "start_time": "2022-10-23T02:46:44.667389",
     "status": "completed"
    },
    "tags": []
   },
   "source": [
    "## CEF Feature Filtering\n",
    "\n",
    "Cluster enriched feature selection. Use per-cell normalized mC fraction as input, no log transform."
   ]
  },
  {
   "cell_type": "code",
   "execution_count": 16,
   "id": "545ba3d9",
   "metadata": {
    "ExecuteTime": {
     "end_time": "2022-06-25T18:39:52.010498Z",
     "start_time": "2022-06-25T18:39:36.005698Z"
    },
    "execution": {
     "iopub.execute_input": "2023-08-14T21:15:37.395364Z",
     "iopub.status.busy": "2023-08-14T21:15:37.395182Z",
     "iopub.status.idle": "2023-08-14T21:15:39.033738Z",
     "shell.execute_reply": "2023-08-14T21:15:39.033039Z",
     "shell.execute_reply.started": "2023-08-14T21:15:37.395347Z"
    },
    "papermill": {
     "duration": 32.676413,
     "end_time": "2022-10-23T02:47:17.363836",
     "exception": false,
     "start_time": "2022-10-23T02:46:44.687423",
     "status": "completed"
    },
    "tags": []
   },
   "outputs": [
    {
     "name": "stdout",
     "output_type": "stream",
     "text": [
      "Found 4 clusters to compute feature enrichment score\n",
      "Computing enrichment score\n",
      "Computing enrichment score FDR-corrected P values\n",
      "Selected 781 unique features\n"
     ]
    },
    {
     "data": {
      "image/png": "[encoded data removed]",
      "text/plain": [
       "<Figure size 1080x360 with 3 Axes>"
      ]
     },
     "metadata": {
      "needs_background": "light"
     },
     "output_type": "display_data"
    }
   ],
   "source": [
    "# CEF function take the original mC fraction as input\n",
    "cluster_enriched_features(adata,\n",
    "                          cluster_col=cef_cluster_level,\n",
    "                          top_n=200,\n",
    "                          alpha=0.05,\n",
    "                          stat_plot=True,\n",
    "                          method='mc')"
   ]
  },
  {
   "cell_type": "code",
   "execution_count": 17,
   "id": "a556c1fc",
   "metadata": {
    "ExecuteTime": {
     "end_time": "2022-06-25T18:39:52.047713Z",
     "start_time": "2022-06-25T18:39:52.012472Z"
    },
    "execution": {
     "iopub.execute_input": "2023-08-14T21:15:39.034862Z",
     "iopub.status.busy": "2023-08-14T21:15:39.034671Z",
     "iopub.status.idle": "2023-08-14T21:15:39.049708Z",
     "shell.execute_reply": "2023-08-14T21:15:39.049025Z",
     "shell.execute_reply.started": "2023-08-14T21:15:39.034844Z"
    },
    "papermill": {
     "duration": 0.03532,
     "end_time": "2022-10-23T02:47:17.411085",
     "exception": false,
     "start_time": "2022-10-23T02:47:17.375765",
     "status": "completed"
    },
    "tags": []
   },
   "outputs": [],
   "source": [
    "# select CEF only\n",
    "cef = adata.var[f'{cef_cluster_level}_enriched_features'].copy()\n",
    "\n",
    "# add some global CEF to list\n",
    "if global_cef is not None:\n",
    "    global_cef = pd.read_csv(global_cef, header=None, index_col=0).index\n",
    "    cef.loc[cef.index.isin(global_cef)] = True\n",
    "\n",
    "cef.to_csv('m3C.CEF.csv', header=None)"
   ]
  },
  {
   "cell_type": "code",
   "execution_count": 18,
   "id": "64056988",
   "metadata": {
    "execution": {
     "iopub.execute_input": "2023-08-14T21:15:39.051786Z",
     "iopub.status.busy": "2023-08-14T21:15:39.051583Z",
     "iopub.status.idle": "2023-08-14T21:15:39.057126Z",
     "shell.execute_reply": "2023-08-14T21:15:39.056546Z",
     "shell.execute_reply.started": "2023-08-14T21:15:39.051768Z"
    },
    "papermill": {
     "duration": 0.010245,
     "end_time": "2022-10-23T02:47:17.452125",
     "exception": false,
     "start_time": "2022-10-23T02:47:17.441880",
     "status": "completed"
    },
    "tags": []
   },
   "outputs": [
    {
     "data": {
      "text/plain": [
       "chrom100k\n",
       "chr1_30      False\n",
       "chr1_31      False\n",
       "chr1_32      False\n",
       "chr1_33      False\n",
       "chr1_34      False\n",
       "             ...  \n",
       "chr9_1236    False\n",
       "chr9_1237    False\n",
       "chr9_1240    False\n",
       "chr9_1243    False\n",
       "chr9_1244    False\n",
       "Name: l1_enriched_features, Length: 22706, dtype: bool"
      ]
     },
     "execution_count": 18,
     "metadata": {},
     "output_type": "execute_result"
    }
   ],
   "source": [
    "cef"
   ]
  },
  {
   "cell_type": "code",
   "execution_count": null,
   "id": "25fe1295",
   "metadata": {
    "papermill": {
     "duration": 0.010143,
     "end_time": "2022-10-23T02:47:17.472863",
     "exception": false,
     "start_time": "2022-10-23T02:47:17.462720",
     "status": "completed"
    },
    "tags": []
   },
   "outputs": [],
   "source": []
  },
  {
   "cell_type": "code",
   "execution_count": null,
   "id": "cee0000b",
   "metadata": {
    "papermill": {
     "duration": 0.010268,
     "end_time": "2022-10-23T02:47:17.494002",
     "exception": false,
     "start_time": "2022-10-23T02:47:17.483734",
     "status": "completed"
    },
    "tags": []
   },
   "outputs": [],
   "source": []
  }
 ],
 "metadata": {
  "celltoolbar": "Tags",
  "hide_input": false,
  "kernelspec": {
   "display_name": "Python 3 (ipykernel)",
   "language": "python",
   "name": "python3"
  },
  "language_info": {
   "codemirror_mode": {
    "name": "ipython",
    "version": 3
   },
   "file_extension": ".py",
   "mimetype": "text/x-python",
   "name": "python",
   "nbconvert_exporter": "python",
   "pygments_lexer": "ipython3",
   "version": "3.7.12"
  },
  "papermill": {
   "default_parameters": {},
   "duration": 167.930202,
   "end_time": "2022-10-23T02:47:18.524467",
   "environment_variables": {},
   "exception": null,
   "input_path": "/mnt/filestore/221022-cemba-mc-cemba-m3c-integration/template/01b.select_m3c_cef.ipynb",
   "output_path": "/mnt/filestore/221022-cemba-mc-cemba-m3c-integration/Round0/ALL/01b.select_m3c_cef.ipynb",
   "parameters": {
    "cef_cluster_level": "L2",
    "chrom_to_remove": [
     "chrX",
     "chrY",
     "chrM",
     "chrL"
    ],
    "cpu": 1,
    "downsample": 500,
    "global_cef": null,
    "group_name": "ALL",
    "mc_type": "CHN",
    "mem_gb": 1,
    "var_dim": "chrom100k"
   },
   "start_time": "2022-10-23T02:44:30.594265",
   "version": "2.3.3"
  },
  "toc": {
   "base_numbering": 1,
   "nav_menu": {},
   "number_sections": true,
   "sideBar": true,
   "skip_h1_title": true,
   "title_cell": "Table of Contents",
   "title_sidebar": "Contents",
   "toc_cell": false,
   "toc_position": {},
   "toc_section_display": true,
   "toc_window_display": true
  }
 },
 "nbformat": 4,
 "nbformat_minor": 5
}
