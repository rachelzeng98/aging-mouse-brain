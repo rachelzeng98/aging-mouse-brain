{
 "cells": [
  {
   "cell_type": "markdown",
   "id": "68434496",
   "metadata": {
    "papermill": {
     "duration": 0.010857,
     "end_time": "2022-10-23T02:44:31.866395",
     "exception": false,
     "start_time": "2022-10-23T02:44:31.855538",
     "status": "completed"
    },
    "tags": []
   },
   "source": [
    "## Import"
   ]
  },
  {
   "cell_type": "code",
   "execution_count": 4,
   "id": "4b3c1327",
   "metadata": {
    "ExecuteTime": {
     "end_time": "2022-06-25T18:29:09.603883Z",
     "start_time": "2022-06-25T18:28:49.913862Z"
    },
    "execution": {
     "iopub.execute_input": "2023-08-14T21:11:56.438307Z",
     "iopub.status.busy": "2023-08-14T21:11:56.437996Z",
     "iopub.status.idle": "2023-08-14T21:11:59.186442Z",
     "shell.execute_reply": "2023-08-14T21:11:59.185402Z",
     "shell.execute_reply.started": "2023-08-14T21:11:56.438287Z"
    },
    "papermill": {
     "duration": 2.781334,
     "end_time": "2022-10-23T02:44:34.656964",
     "exception": false,
     "start_time": "2022-10-23T02:44:31.875630",
     "status": "completed"
    },
    "tags": []
   },
   "outputs": [],
   "source": [
    "from wmb import cemba, mm10\n",
    "from ALLCools.clustering import *\n",
    "from ALLCools.mcds import MCDS\n",
    "\n",
    "import pandas as pd\n",
    "import glob"
   ]
  },
  {
   "cell_type": "code",
   "execution_count": null,
   "id": "4d74471b-628d-44f3-950d-3e08746f3986",
   "metadata": {},
   "outputs": [],
   "source": [
    "cef_cluster_level = \"l1\"\n",
    "chrom_to_remove = [\"chrX\", \"chrY\", \"chrM\", \"chrL\"]\n",
    "cpu = 1\n",
    "downsample = 500\n",
    "global_cef = None\n",
    "group_name = \"ALL\"\n",
    "mc_type = \"CHN\"\n",
    "mem_gb = 1\n",
    "var_dim = \"chrom100k\""
   ]
  },
  {
   "cell_type": "markdown",
   "id": "e60ee638",
   "metadata": {
    "papermill": {
     "duration": 0.011083,
     "end_time": "2022-10-23T02:44:34.772497",
     "exception": false,
     "start_time": "2022-10-23T02:44:34.761414",
     "status": "completed"
    },
    "tags": []
   },
   "source": [
    "## Select features"
   ]
  },
  {
   "cell_type": "code",
   "execution_count": 5,
   "id": "ec0b8e66-f60b-4d4f-9c98-b5e19e85b489",
   "metadata": {
    "execution": {
     "iopub.execute_input": "2023-08-14T21:11:59.194922Z",
     "iopub.status.busy": "2023-08-14T21:11:59.194733Z",
     "iopub.status.idle": "2023-08-14T21:11:59.684786Z",
     "shell.execute_reply": "2023-08-14T21:11:59.683939Z",
     "shell.execute_reply.started": "2023-08-14T21:11:59.194904Z"
    },
    "tags": []
   },
   "outputs": [],
   "source": [
    "meta = pd.read_csv('/home/qzeng_salk_edu/project/230712_m3c-mc-integration/mC_META_230814.csv', index_col = 0)"
   ]
  },
  {
   "cell_type": "code",
   "execution_count": 6,
   "id": "89700ec8-b11a-448f-81c4-9309b35f1b1f",
   "metadata": {
    "execution": {
     "iopub.execute_input": "2023-08-14T21:11:59.686448Z",
     "iopub.status.busy": "2023-08-14T21:11:59.686222Z",
     "iopub.status.idle": "2023-08-14T21:11:59.711116Z",
     "shell.execute_reply": "2023-08-14T21:11:59.710535Z",
     "shell.execute_reply.started": "2023-08-14T21:11:59.686431Z"
    },
    "tags": []
   },
   "outputs": [],
   "source": [
    "fetures_df = pd.read_csv('/home/qzeng_salk_edu/project/230712_m3c-mc-integration/mc_m3c_chrom100k_id.csv', index_col = 0)"
   ]
  },
  {
   "cell_type": "code",
   "execution_count": 7,
   "id": "594259f9-ef4e-4db0-af78-4b9a19eeed22",
   "metadata": {
    "execution": {
     "iopub.execute_input": "2023-08-14T21:11:59.711993Z",
     "iopub.status.busy": "2023-08-14T21:11:59.711824Z",
     "iopub.status.idle": "2023-08-14T21:11:59.715931Z",
     "shell.execute_reply": "2023-08-14T21:11:59.715349Z",
     "shell.execute_reply.started": "2023-08-14T21:11:59.711977Z"
    },
    "tags": []
   },
   "outputs": [],
   "source": [
    "use_mc_features = fetures_df['mc_id'].tolist()"
   ]
  },
  {
   "cell_type": "code",
   "execution_count": 10,
   "id": "c5ae3319-e375-4851-8ca2-deee9f4bc85d",
   "metadata": {
    "execution": {
     "iopub.execute_input": "2023-08-14T21:13:16.192003Z",
     "iopub.status.busy": "2023-08-14T21:13:16.191711Z",
     "iopub.status.idle": "2023-08-14T21:13:16.204732Z",
     "shell.execute_reply": "2023-08-14T21:13:16.204073Z",
     "shell.execute_reply.started": "2023-08-14T21:13:16.191983Z"
    }
   },
   "outputs": [
    {
     "data": {
      "text/plain": [
       "12501"
      ]
     },
     "execution_count": 10,
     "metadata": {},
     "output_type": "execute_result"
    }
   ],
   "source": [
    "cells = pd.read_csv('mc_cells.txt', index_col=0, header=None).index\n",
    "cells.name = 'cell'\n",
    "cells.size"
   ]
  },
  {
   "cell_type": "markdown",
   "id": "09f4cf3b",
   "metadata": {
    "ExecuteTime": {
     "end_time": "2022-06-21T04:51:56.476879Z",
     "start_time": "2022-06-21T04:51:56.474668Z"
    },
    "papermill": {
     "duration": 0.008703,
     "end_time": "2022-10-23T02:44:34.939463",
     "exception": false,
     "start_time": "2022-10-23T02:44:34.930760",
     "status": "completed"
    },
    "tags": []
   },
   "source": [
    "## Downsample cells\n",
    "\n",
    "Downsample large cluster to balance the data and reduce computation time and memory when calculating CEF"
   ]
  },
  {
   "cell_type": "code",
   "execution_count": 11,
   "id": "26a0af34-ce27-4634-b7f2-bdcab42d20c2",
   "metadata": {
    "execution": {
     "iopub.execute_input": "2023-08-14T21:13:17.335887Z",
     "iopub.status.busy": "2023-08-14T21:13:17.335614Z",
     "iopub.status.idle": "2023-08-14T21:13:17.345713Z",
     "shell.execute_reply": "2023-08-14T21:13:17.345007Z",
     "shell.execute_reply.started": "2023-08-14T21:13:17.335870Z"
    },
    "tags": []
   },
   "outputs": [],
   "source": [
    "clusters =meta[cef_cluster_level]\n",
    "clusters = clusters.loc[cells].copy()"
   ]
  },
  {
   "cell_type": "code",
   "execution_count": 12,
   "id": "75689412",
   "metadata": {
    "ExecuteTime": {
     "end_time": "2022-06-25T18:29:19.073206Z",
     "start_time": "2022-06-25T18:29:15.055053Z"
    },
    "execution": {
     "iopub.execute_input": "2023-08-14T21:13:18.006044Z",
     "iopub.status.busy": "2023-08-14T21:13:18.005812Z",
     "iopub.status.idle": "2023-08-14T21:13:18.017271Z",
     "shell.execute_reply": "2023-08-14T21:13:18.016716Z",
     "shell.execute_reply.started": "2023-08-14T21:13:18.006024Z"
    },
    "papermill": {
     "duration": 5.57053,
     "end_time": "2022-10-23T02:44:40.518434",
     "exception": false,
     "start_time": "2022-10-23T02:44:34.947904",
     "status": "completed"
    },
    "tags": []
   },
   "outputs": [
    {
     "data": {
      "text/plain": [
       "2745"
      ]
     },
     "execution_count": 12,
     "metadata": {},
     "output_type": "execute_result"
    }
   ],
   "source": [
    "if downsample is not None:\n",
    "    use_cells = []\n",
    "    for cluster, sub_series in clusters.groupby(clusters):\n",
    "        if sub_series.size > downsample:\n",
    "            _cells = sub_series.sample(downsample, random_state=0).index\n",
    "        else:\n",
    "            _cells = sub_series.index\n",
    "        use_cells += _cells.tolist()\n",
    "    use_cells = pd.Index(use_cells)\n",
    "else:\n",
    "    use_cells = cells\n",
    "    \n",
    "use_cells.size"
   ]
  },
  {
   "cell_type": "markdown",
   "id": "abc2eddd",
   "metadata": {
    "papermill": {
     "duration": 0.008501,
     "end_time": "2022-10-23T02:44:40.537853",
     "exception": false,
     "start_time": "2022-10-23T02:44:40.529352",
     "status": "completed"
    },
    "tags": []
   },
   "source": [
    "## Get adata"
   ]
  },
  {
   "cell_type": "code",
   "execution_count": 13,
   "id": "d8553219-dd5e-4934-a52c-18cc8dfe0228",
   "metadata": {
    "execution": {
     "iopub.execute_input": "2023-08-14T21:13:20.008779Z",
     "iopub.status.busy": "2023-08-14T21:13:20.008464Z",
     "iopub.status.idle": "2023-08-14T21:13:20.014362Z",
     "shell.execute_reply": "2023-08-14T21:13:20.013770Z",
     "shell.execute_reply.started": "2023-08-14T21:13:20.008760Z"
    },
    "tags": []
   },
   "outputs": [
    {
     "data": {
      "text/plain": [
       "75"
      ]
     },
     "execution_count": 13,
     "metadata": {},
     "output_type": "execute_result"
    }
   ],
   "source": [
    "mcds_paths = glob.glob('/home/qzeng_salk_edu/project/230712_m3c-mc-integration/mcds_100kb/*/mcds/*.mcds')\n",
    "len(mcds_paths)"
   ]
  },
  {
   "cell_type": "code",
   "execution_count": 14,
   "id": "a6636dd5",
   "metadata": {
    "ExecuteTime": {
     "end_time": "2022-06-25T18:29:28.675481Z",
     "start_time": "2022-06-25T18:29:20.888505Z"
    },
    "execution": {
     "iopub.execute_input": "2023-08-14T21:13:21.590117Z",
     "iopub.status.busy": "2023-08-14T21:13:21.589862Z",
     "iopub.status.idle": "2023-08-14T21:13:29.143071Z",
     "shell.execute_reply": "2023-08-14T21:13:29.142318Z",
     "shell.execute_reply.started": "2023-08-14T21:13:21.590098Z"
    },
    "papermill": {
     "duration": 1.132036,
     "end_time": "2022-10-23T02:44:41.678581",
     "exception": false,
     "start_time": "2022-10-23T02:44:40.546545",
     "status": "completed"
    },
    "tags": []
   },
   "outputs": [
    {
     "data": {
      "text/html": [
       "<div><svg style=\"position: absolute; width: 0; height: 0; overflow: hidden\">\n",
       "<defs>\n",
       "<symbol id=\"icon-database\" viewBox=\"0 0 32 32\">\n",
       "<path d=\"M16 0c-8.837 0-16 2.239-16 5v4c0 2.761 7.163 5 16 5s16-2.239 16-5v-4c0-2.761-7.163-5-16-5z\"></path>\n",
       "<path d=\"M16 17c-8.837 0-16-2.239-16-5v6c0 2.761 7.163 5 16 5s16-2.239 16-5v-6c0 2.761-7.163 5-16 5z\"></path>\n",
       "<path d=\"M16 26c-8.837 0-16-2.239-16-5v6c0 2.761 7.163 5 16 5s16-2.239 16-5v-6c0 2.761-7.163 5-16 5z\"></path>\n",
       "</symbol>\n",
       "<symbol id=\"icon-file-text2\" viewBox=\"0 0 32 32\">\n",
       "<path d=\"M28.681 7.159c-0.694-0.947-1.662-2.053-2.724-3.116s-2.169-2.030-3.116-2.724c-1.612-1.182-2.393-1.319-2.841-1.319h-15.5c-1.378 0-2.5 1.121-2.5 2.5v27c0 1.378 1.122 2.5 2.5 2.5h23c1.378 0 2.5-1.122 2.5-2.5v-19.5c0-0.448-0.137-1.23-1.319-2.841zM24.543 5.457c0.959 0.959 1.712 1.825 2.268 2.543h-4.811v-4.811c0.718 0.556 1.584 1.309 2.543 2.268zM28 29.5c0 0.271-0.229 0.5-0.5 0.5h-23c-0.271 0-0.5-0.229-0.5-0.5v-27c0-0.271 0.229-0.5 0.5-0.5 0 0 15.499-0 15.5 0v7c0 0.552 0.448 1 1 1h7v19.5z\"></path>\n",
       "<path d=\"M23 26h-14c-0.552 0-1-0.448-1-1s0.448-1 1-1h14c0.552 0 1 0.448 1 1s-0.448 1-1 1z\"></path>\n",
       "<path d=\"M23 22h-14c-0.552 0-1-0.448-1-1s0.448-1 1-1h14c0.552 0 1 0.448 1 1s-0.448 1-1 1z\"></path>\n",
       "<path d=\"M23 18h-14c-0.552 0-1-0.448-1-1s0.448-1 1-1h14c0.552 0 1 0.448 1 1s-0.448 1-1 1z\"></path>\n",
       "</symbol>\n",
       "</defs>\n",
       "</svg>\n",
       "<style>/* CSS stylesheet for displaying xarray objects in jupyterlab.\n",
       " *\n",
       " */\n",
       "\n",
       ":root {\n",
       "  --xr-font-color0: var(--jp-content-font-color0, rgba(0, 0, 0, 1));\n",
       "  --xr-font-color2: var(--jp-content-font-color2, rgba(0, 0, 0, 0.54));\n",
       "  --xr-font-color3: var(--jp-content-font-color3, rgba(0, 0, 0, 0.38));\n",
       "  --xr-border-color: var(--jp-border-color2, #e0e0e0);\n",
       "  --xr-disabled-color: var(--jp-layout-color3, #bdbdbd);\n",
       "  --xr-background-color: var(--jp-layout-color0, white);\n",
       "  --xr-background-color-row-even: var(--jp-layout-color1, white);\n",
       "  --xr-background-color-row-odd: var(--jp-layout-color2, #eeeeee);\n",
       "}\n",
       "\n",
       "html[theme=dark],\n",
       "body.vscode-dark {\n",
       "  --xr-font-color0: rgba(255, 255, 255, 1);\n",
       "  --xr-font-color2: rgba(255, 255, 255, 0.54);\n",
       "  --xr-font-color3: rgba(255, 255, 255, 0.38);\n",
       "  --xr-border-color: #1F1F1F;\n",
       "  --xr-disabled-color: #515151;\n",
       "  --xr-background-color: #111111;\n",
       "  --xr-background-color-row-even: #111111;\n",
       "  --xr-background-color-row-odd: #313131;\n",
       "}\n",
       "\n",
       ".xr-wrap {\n",
       "  display: block !important;\n",
       "  min-width: 300px;\n",
       "  max-width: 700px;\n",
       "}\n",
       "\n",
       ".xr-text-repr-fallback {\n",
       "  /* fallback to plain text repr when CSS is not injected (untrusted notebook) */\n",
       "  display: none;\n",
       "}\n",
       "\n",
       ".xr-header {\n",
       "  padding-top: 6px;\n",
       "  padding-bottom: 6px;\n",
       "  margin-bottom: 4px;\n",
       "  border-bottom: solid 1px var(--xr-border-color);\n",
       "}\n",
       "\n",
       ".xr-header > div,\n",
       ".xr-header > ul {\n",
       "  display: inline;\n",
       "  margin-top: 0;\n",
       "  margin-bottom: 0;\n",
       "}\n",
       "\n",
       ".xr-obj-type,\n",
       ".xr-array-name {\n",
       "  margin-left: 2px;\n",
       "  margin-right: 10px;\n",
       "}\n",
       "\n",
       ".xr-obj-type {\n",
       "  color: var(--xr-font-color2);\n",
       "}\n",
       "\n",
       ".xr-sections {\n",
       "  padding-left: 0 !important;\n",
       "  display: grid;\n",
       "  grid-template-columns: 150px auto auto 1fr 20px 20px;\n",
       "}\n",
       "\n",
       ".xr-section-item {\n",
       "  display: contents;\n",
       "}\n",
       "\n",
       ".xr-section-item input {\n",
       "  display: none;\n",
       "}\n",
       "\n",
       ".xr-section-item input + label {\n",
       "  color: var(--xr-disabled-color);\n",
       "}\n",
       "\n",
       ".xr-section-item input:enabled + label {\n",
       "  cursor: pointer;\n",
       "  color: var(--xr-font-color2);\n",
       "}\n",
       "\n",
       ".xr-section-item input:enabled + label:hover {\n",
       "  color: var(--xr-font-color0);\n",
       "}\n",
       "\n",
       ".xr-section-summary {\n",
       "  grid-column: 1;\n",
       "  color: var(--xr-font-color2);\n",
       "  font-weight: 500;\n",
       "}\n",
       "\n",
       ".xr-section-summary > span {\n",
       "  display: inline-block;\n",
       "  padding-left: 0.5em;\n",
       "}\n",
       "\n",
       ".xr-section-summary-in:disabled + label {\n",
       "  color: var(--xr-font-color2);\n",
       "}\n",
       "\n",
       ".xr-section-summary-in + label:before {\n",
       "  display: inline-block;\n",
       "  content: '►';\n",
       "  font-size: 11px;\n",
       "  width: 15px;\n",
       "  text-align: center;\n",
       "}\n",
       "\n",
       ".xr-section-summary-in:disabled + label:before {\n",
       "  color: var(--xr-disabled-color);\n",
       "}\n",
       "\n",
       ".xr-section-summary-in:checked + label:before {\n",
       "  content: '▼';\n",
       "}\n",
       "\n",
       ".xr-section-summary-in:checked + label > span {\n",
       "  display: none;\n",
       "}\n",
       "\n",
       ".xr-section-summary,\n",
       ".xr-section-inline-details {\n",
       "  padding-top: 4px;\n",
       "  padding-bottom: 4px;\n",
       "}\n",
       "\n",
       ".xr-section-inline-details {\n",
       "  grid-column: 2 / -1;\n",
       "}\n",
       "\n",
       ".xr-section-details {\n",
       "  display: none;\n",
       "  grid-column: 1 / -1;\n",
       "  margin-bottom: 5px;\n",
       "}\n",
       "\n",
       ".xr-section-summary-in:checked ~ .xr-section-details {\n",
       "  display: contents;\n",
       "}\n",
       "\n",
       ".xr-array-wrap {\n",
       "  grid-column: 1 / -1;\n",
       "  display: grid;\n",
       "  grid-template-columns: 20px auto;\n",
       "}\n",
       "\n",
       ".xr-array-wrap > label {\n",
       "  grid-column: 1;\n",
       "  vertical-align: top;\n",
       "}\n",
       "\n",
       ".xr-preview {\n",
       "  color: var(--xr-font-color3);\n",
       "}\n",
       "\n",
       ".xr-array-preview,\n",
       ".xr-array-data {\n",
       "  padding: 0 5px !important;\n",
       "  grid-column: 2;\n",
       "}\n",
       "\n",
       ".xr-array-data,\n",
       ".xr-array-in:checked ~ .xr-array-preview {\n",
       "  display: none;\n",
       "}\n",
       "\n",
       ".xr-array-in:checked ~ .xr-array-data,\n",
       ".xr-array-preview {\n",
       "  display: inline-block;\n",
       "}\n",
       "\n",
       ".xr-dim-list {\n",
       "  display: inline-block !important;\n",
       "  list-style: none;\n",
       "  padding: 0 !important;\n",
       "  margin: 0;\n",
       "}\n",
       "\n",
       ".xr-dim-list li {\n",
       "  display: inline-block;\n",
       "  padding: 0;\n",
       "  margin: 0;\n",
       "}\n",
       "\n",
       ".xr-dim-list:before {\n",
       "  content: '(';\n",
       "}\n",
       "\n",
       ".xr-dim-list:after {\n",
       "  content: ')';\n",
       "}\n",
       "\n",
       ".xr-dim-list li:not(:last-child):after {\n",
       "  content: ',';\n",
       "  padding-right: 5px;\n",
       "}\n",
       "\n",
       ".xr-has-index {\n",
       "  font-weight: bold;\n",
       "}\n",
       "\n",
       ".xr-var-list,\n",
       ".xr-var-item {\n",
       "  display: contents;\n",
       "}\n",
       "\n",
       ".xr-var-item > div,\n",
       ".xr-var-item label,\n",
       ".xr-var-item > .xr-var-name span {\n",
       "  background-color: var(--xr-background-color-row-even);\n",
       "  margin-bottom: 0;\n",
       "}\n",
       "\n",
       ".xr-var-item > .xr-var-name:hover span {\n",
       "  padding-right: 5px;\n",
       "}\n",
       "\n",
       ".xr-var-list > li:nth-child(odd) > div,\n",
       ".xr-var-list > li:nth-child(odd) > label,\n",
       ".xr-var-list > li:nth-child(odd) > .xr-var-name span {\n",
       "  background-color: var(--xr-background-color-row-odd);\n",
       "}\n",
       "\n",
       ".xr-var-name {\n",
       "  grid-column: 1;\n",
       "}\n",
       "\n",
       ".xr-var-dims {\n",
       "  grid-column: 2;\n",
       "}\n",
       "\n",
       ".xr-var-dtype {\n",
       "  grid-column: 3;\n",
       "  text-align: right;\n",
       "  color: var(--xr-font-color2);\n",
       "}\n",
       "\n",
       ".xr-var-preview {\n",
       "  grid-column: 4;\n",
       "}\n",
       "\n",
       ".xr-var-name,\n",
       ".xr-var-dims,\n",
       ".xr-var-dtype,\n",
       ".xr-preview,\n",
       ".xr-attrs dt {\n",
       "  white-space: nowrap;\n",
       "  overflow: hidden;\n",
       "  text-overflow: ellipsis;\n",
       "  padding-right: 10px;\n",
       "}\n",
       "\n",
       ".xr-var-name:hover,\n",
       ".xr-var-dims:hover,\n",
       ".xr-var-dtype:hover,\n",
       ".xr-attrs dt:hover {\n",
       "  overflow: visible;\n",
       "  width: auto;\n",
       "  z-index: 1;\n",
       "}\n",
       "\n",
       ".xr-var-attrs,\n",
       ".xr-var-data {\n",
       "  display: none;\n",
       "  background-color: var(--xr-background-color) !important;\n",
       "  padding-bottom: 5px !important;\n",
       "}\n",
       "\n",
       ".xr-var-attrs-in:checked ~ .xr-var-attrs,\n",
       ".xr-var-data-in:checked ~ .xr-var-data {\n",
       "  display: block;\n",
       "}\n",
       "\n",
       ".xr-var-data > table {\n",
       "  float: right;\n",
       "}\n",
       "\n",
       ".xr-var-name span,\n",
       ".xr-var-data,\n",
       ".xr-attrs {\n",
       "  padding-left: 25px !important;\n",
       "}\n",
       "\n",
       ".xr-attrs,\n",
       ".xr-var-attrs,\n",
       ".xr-var-data {\n",
       "  grid-column: 1 / -1;\n",
       "}\n",
       "\n",
       "dl.xr-attrs {\n",
       "  padding: 0;\n",
       "  margin: 0;\n",
       "  display: grid;\n",
       "  grid-template-columns: 125px auto;\n",
       "}\n",
       "\n",
       ".xr-attrs dt,\n",
       ".xr-attrs dd {\n",
       "  padding: 0;\n",
       "  margin: 0;\n",
       "  float: left;\n",
       "  padding-right: 10px;\n",
       "  width: auto;\n",
       "}\n",
       "\n",
       ".xr-attrs dt {\n",
       "  font-weight: normal;\n",
       "  grid-column: 1;\n",
       "}\n",
       "\n",
       ".xr-attrs dt:hover span {\n",
       "  display: inline-block;\n",
       "  background: var(--xr-background-color);\n",
       "  padding-right: 10px;\n",
       "}\n",
       "\n",
       ".xr-attrs dd {\n",
       "  grid-column: 2;\n",
       "  white-space: pre-wrap;\n",
       "  word-break: break-all;\n",
       "}\n",
       "\n",
       ".xr-icon-database,\n",
       ".xr-icon-file-text2 {\n",
       "  display: inline-block;\n",
       "  vertical-align: middle;\n",
       "  width: 1em;\n",
       "  height: 1.5em !important;\n",
       "  stroke-width: 0;\n",
       "  stroke: currentColor;\n",
       "  fill: currentColor;\n",
       "}\n",
       "</style><pre class='xr-text-repr-fallback'>&lt;xarray.MCDS&gt;\n",
       "Dimensions:              (mc_type: 2, cell: 2745, geneslop2k: 55487, count_type: 2, chrom100k: 26350)\n",
       "Coordinates:\n",
       "  * mc_type              (mc_type) &lt;U3 &#x27;CGN&#x27; &#x27;CHN&#x27;\n",
       "  * cell                 (cell) &lt;U39 &#x27;3F_M_1006&#x27; ... &#x27;AMB_200604_18mo_3F_4E_2...\n",
       "  * geneslop2k           (geneslop2k) &lt;U21 &#x27;ENSMUSG00000102693.1&#x27; ... &#x27;ENSMUS...\n",
       "    strand_type          &lt;U4 &#x27;both&#x27;\n",
       "  * count_type           (count_type) &lt;U3 &#x27;mc&#x27; &#x27;cov&#x27;\n",
       "    geneslop2k_chrom     (geneslop2k) &lt;U5 &#x27;chr1&#x27; &#x27;chr1&#x27; &#x27;chr1&#x27; ... &#x27;chrM&#x27; &#x27;chrM&#x27;\n",
       "    geneslop2k_start     (geneslop2k) int64 3071252 3100015 ... 13288 13355\n",
       "    geneslop2k_end       (geneslop2k) int64 3076321 3104124 ... 16299 16299\n",
       "  * chrom100k            (chrom100k) int64 0 1 2 3 4 ... 26346 26347 26348 26349\n",
       "    chrom100k_chrom      (chrom100k) &lt;U5 &#x27;chr1&#x27; &#x27;chr1&#x27; &#x27;chr1&#x27; ... &#x27;chrX&#x27; &#x27;chrX&#x27;\n",
       "    chrom100k_bin_start  (chrom100k) int64 0 100000 ... 170900000 171000000\n",
       "    chrom100k_bin_end    (chrom100k) int64 100000 200000 ... 171000000 171031299\n",
       "Data variables:\n",
       "    geneslop2k_da        (cell, geneslop2k, mc_type, count_type) int64 dask.array&lt;chunksize=(71, 55487, 2, 2), meta=np.ndarray&gt;\n",
       "    chrom100k_da         (cell, chrom100k, mc_type, count_type) int64 dask.array&lt;chunksize=(71, 26350, 2, 2), meta=np.ndarray&gt;\n",
       "Attributes:\n",
       "    obs_dim:  cell\n",
       "    var_dim:  chrom100k</pre><div class='xr-wrap' style='display:none'><div class='xr-header'><div class='xr-obj-type'>xarray.MCDS</div></div><ul class='xr-sections'><li class='xr-section-item'><input id='section-ba29eea5-54f1-477d-9fd7-eb2b8dfccd5d' class='xr-section-summary-in' type='checkbox' disabled ><label for='section-ba29eea5-54f1-477d-9fd7-eb2b8dfccd5d' class='xr-section-summary'  title='Expand/collapse section'>Dimensions:</label><div class='xr-section-inline-details'><ul class='xr-dim-list'><li><span class='xr-has-index'>mc_type</span>: 2</li><li><span class='xr-has-index'>cell</span>: 2745</li><li><span class='xr-has-index'>geneslop2k</span>: 55487</li><li><span class='xr-has-index'>count_type</span>: 2</li><li><span class='xr-has-index'>chrom100k</span>: 26350</li></ul></div><div class='xr-section-details'></div></li><li class='xr-section-item'><input id='section-e3b1a0be-4d2f-44e3-be96-f0f7c6cdfa8d' class='xr-section-summary-in' type='checkbox'  checked><label for='section-e3b1a0be-4d2f-44e3-be96-f0f7c6cdfa8d' class='xr-section-summary' >Coordinates: <span>(12)</span></label><div class='xr-section-inline-details'></div><div class='xr-section-details'><ul class='xr-var-list'><li class='xr-var-item'><div class='xr-var-name'><span class='xr-has-index'>mc_type</span></div><div class='xr-var-dims'>(mc_type)</div><div class='xr-var-dtype'>&lt;U3</div><div class='xr-var-preview xr-preview'>&#x27;CGN&#x27; &#x27;CHN&#x27;</div><input id='attrs-ae70b40f-7067-4939-928a-811cb18ad041' class='xr-var-attrs-in' type='checkbox' disabled><label for='attrs-ae70b40f-7067-4939-928a-811cb18ad041' title='Show/Hide attributes'><svg class='icon xr-icon-file-text2'><use xlink:href='#icon-file-text2'></use></svg></label><input id='data-bc994cc0-dfea-48d3-98f2-5ae3c7fecc77' class='xr-var-data-in' type='checkbox'><label for='data-bc994cc0-dfea-48d3-98f2-5ae3c7fecc77' title='Show/Hide data repr'><svg class='icon xr-icon-database'><use xlink:href='#icon-database'></use></svg></label><div class='xr-var-attrs'><dl class='xr-attrs'></dl></div><div class='xr-var-data'><pre>array([&#x27;CGN&#x27;, &#x27;CHN&#x27;], dtype=&#x27;&lt;U3&#x27;)</pre></div></li><li class='xr-var-item'><div class='xr-var-name'><span class='xr-has-index'>cell</span></div><div class='xr-var-dims'>(cell)</div><div class='xr-var-dtype'>&lt;U39</div><div class='xr-var-preview xr-preview'>&#x27;3F_M_1006&#x27; ... &#x27;AMB_200604_18mo...</div><input id='attrs-7419b398-1cd0-47f9-b055-8bb32fafb29a' class='xr-var-attrs-in' type='checkbox' disabled><label for='attrs-7419b398-1cd0-47f9-b055-8bb32fafb29a' title='Show/Hide attributes'><svg class='icon xr-icon-file-text2'><use xlink:href='#icon-file-text2'></use></svg></label><input id='data-778ffea5-349f-42fe-a13d-351f362a1333' class='xr-var-data-in' type='checkbox'><label for='data-778ffea5-349f-42fe-a13d-351f362a1333' title='Show/Hide data repr'><svg class='icon xr-icon-database'><use xlink:href='#icon-database'></use></svg></label><div class='xr-var-attrs'><dl class='xr-attrs'></dl></div><div class='xr-var-data'><pre>array([&#x27;3F_M_1006&#x27;, &#x27;3F_M_1015&#x27;, &#x27;3F_M_1034&#x27;, ...,\n",
       "       &#x27;AMB_200604_18mo_3F_4E_2_P7-2-M10-A15&#x27;,\n",
       "       &#x27;AMB_200604_18mo_3F_4E_2_P7-2-M10-I4&#x27;,\n",
       "       &#x27;AMB_200604_18mo_3F_4E_2_P7-2-M10-P4&#x27;], dtype=&#x27;&lt;U39&#x27;)</pre></div></li><li class='xr-var-item'><div class='xr-var-name'><span class='xr-has-index'>geneslop2k</span></div><div class='xr-var-dims'>(geneslop2k)</div><div class='xr-var-dtype'>&lt;U21</div><div class='xr-var-preview xr-preview'>&#x27;ENSMUSG00000102693.1&#x27; ... &#x27;ENSM...</div><input id='attrs-a59de5d9-ce95-4c60-9f5e-a78364b2a0da' class='xr-var-attrs-in' type='checkbox' disabled><label for='attrs-a59de5d9-ce95-4c60-9f5e-a78364b2a0da' title='Show/Hide attributes'><svg class='icon xr-icon-file-text2'><use xlink:href='#icon-file-text2'></use></svg></label><input id='data-20351c1e-43ac-4278-b45a-5105c45bde9b' class='xr-var-data-in' type='checkbox'><label for='data-20351c1e-43ac-4278-b45a-5105c45bde9b' title='Show/Hide data repr'><svg class='icon xr-icon-database'><use xlink:href='#icon-database'></use></svg></label><div class='xr-var-attrs'><dl class='xr-attrs'></dl></div><div class='xr-var-data'><pre>array([&#x27;ENSMUSG00000102693.1&#x27;, &#x27;ENSMUSG00000064842.1&#x27;, &#x27;ENSMUSG00000051951.5&#x27;,\n",
       "       ..., &#x27;ENSMUSG00000064370.1&#x27;, &#x27;ENSMUSG00000064371.1&#x27;,\n",
       "       &#x27;ENSMUSG00000064372.1&#x27;], dtype=&#x27;&lt;U21&#x27;)</pre></div></li><li class='xr-var-item'><div class='xr-var-name'><span>strand_type</span></div><div class='xr-var-dims'>()</div><div class='xr-var-dtype'>&lt;U4</div><div class='xr-var-preview xr-preview'>&#x27;both&#x27;</div><input id='attrs-a1b3fdbd-41be-44b4-aa1e-293baaa05b28' class='xr-var-attrs-in' type='checkbox' disabled><label for='attrs-a1b3fdbd-41be-44b4-aa1e-293baaa05b28' title='Show/Hide attributes'><svg class='icon xr-icon-file-text2'><use xlink:href='#icon-file-text2'></use></svg></label><input id='data-df5f454e-2a28-44ab-a37d-82b2c4a887cd' class='xr-var-data-in' type='checkbox'><label for='data-df5f454e-2a28-44ab-a37d-82b2c4a887cd' title='Show/Hide data repr'><svg class='icon xr-icon-database'><use xlink:href='#icon-database'></use></svg></label><div class='xr-var-attrs'><dl class='xr-attrs'></dl></div><div class='xr-var-data'><pre>array(&#x27;both&#x27;, dtype=&#x27;&lt;U4&#x27;)</pre></div></li><li class='xr-var-item'><div class='xr-var-name'><span class='xr-has-index'>count_type</span></div><div class='xr-var-dims'>(count_type)</div><div class='xr-var-dtype'>&lt;U3</div><div class='xr-var-preview xr-preview'>&#x27;mc&#x27; &#x27;cov&#x27;</div><input id='attrs-e9b16ec7-b2a0-4929-a40e-0b0780e488ab' class='xr-var-attrs-in' type='checkbox' disabled><label for='attrs-e9b16ec7-b2a0-4929-a40e-0b0780e488ab' title='Show/Hide attributes'><svg class='icon xr-icon-file-text2'><use xlink:href='#icon-file-text2'></use></svg></label><input id='data-e7fca487-2796-4d90-93f6-163773cfbeb0' class='xr-var-data-in' type='checkbox'><label for='data-e7fca487-2796-4d90-93f6-163773cfbeb0' title='Show/Hide data repr'><svg class='icon xr-icon-database'><use xlink:href='#icon-database'></use></svg></label><div class='xr-var-attrs'><dl class='xr-attrs'></dl></div><div class='xr-var-data'><pre>array([&#x27;mc&#x27;, &#x27;cov&#x27;], dtype=&#x27;&lt;U3&#x27;)</pre></div></li><li class='xr-var-item'><div class='xr-var-name'><span>geneslop2k_chrom</span></div><div class='xr-var-dims'>(geneslop2k)</div><div class='xr-var-dtype'>&lt;U5</div><div class='xr-var-preview xr-preview'>&#x27;chr1&#x27; &#x27;chr1&#x27; ... &#x27;chrM&#x27; &#x27;chrM&#x27;</div><input id='attrs-3531ecc4-7415-420a-9f55-fe6359437c46' class='xr-var-attrs-in' type='checkbox' disabled><label for='attrs-3531ecc4-7415-420a-9f55-fe6359437c46' title='Show/Hide attributes'><svg class='icon xr-icon-file-text2'><use xlink:href='#icon-file-text2'></use></svg></label><input id='data-ea98fc98-ebfb-4d15-b8b5-b55cb83e56c6' class='xr-var-data-in' type='checkbox'><label for='data-ea98fc98-ebfb-4d15-b8b5-b55cb83e56c6' title='Show/Hide data repr'><svg class='icon xr-icon-database'><use xlink:href='#icon-database'></use></svg></label><div class='xr-var-attrs'><dl class='xr-attrs'></dl></div><div class='xr-var-data'><pre>array([&#x27;chr1&#x27;, &#x27;chr1&#x27;, &#x27;chr1&#x27;, ..., &#x27;chrM&#x27;, &#x27;chrM&#x27;, &#x27;chrM&#x27;], dtype=&#x27;&lt;U5&#x27;)</pre></div></li><li class='xr-var-item'><div class='xr-var-name'><span>geneslop2k_start</span></div><div class='xr-var-dims'>(geneslop2k)</div><div class='xr-var-dtype'>int64</div><div class='xr-var-preview xr-preview'>3071252 3100015 ... 13288 13355</div><input id='attrs-e85ffed0-cb09-4938-9780-ffdbb35e8cea' class='xr-var-attrs-in' type='checkbox' disabled><label for='attrs-e85ffed0-cb09-4938-9780-ffdbb35e8cea' title='Show/Hide attributes'><svg class='icon xr-icon-file-text2'><use xlink:href='#icon-file-text2'></use></svg></label><input id='data-9f6ec500-6d1f-4ae1-8ab7-2e54d2ed5a90' class='xr-var-data-in' type='checkbox'><label for='data-9f6ec500-6d1f-4ae1-8ab7-2e54d2ed5a90' title='Show/Hide data repr'><svg class='icon xr-icon-database'><use xlink:href='#icon-database'></use></svg></label><div class='xr-var-attrs'><dl class='xr-attrs'></dl></div><div class='xr-var-data'><pre>array([3071252, 3100015, 3203900, ...,   12144,   13288,   13355])</pre></div></li><li class='xr-var-item'><div class='xr-var-name'><span>geneslop2k_end</span></div><div class='xr-var-dims'>(geneslop2k)</div><div class='xr-var-dtype'>int64</div><div class='xr-var-preview xr-preview'>3076321 3104124 ... 16299 16299</div><input id='attrs-14d2b037-861c-4b88-9faa-6fc7a245b54c' class='xr-var-attrs-in' type='checkbox' disabled><label for='attrs-14d2b037-861c-4b88-9faa-6fc7a245b54c' title='Show/Hide attributes'><svg class='icon xr-icon-file-text2'><use xlink:href='#icon-file-text2'></use></svg></label><input id='data-32bb3786-ba93-48d2-9720-b5dc8ad34fab' class='xr-var-data-in' type='checkbox'><label for='data-32bb3786-ba93-48d2-9720-b5dc8ad34fab' title='Show/Hide data repr'><svg class='icon xr-icon-database'><use xlink:href='#icon-database'></use></svg></label><div class='xr-var-attrs'><dl class='xr-attrs'></dl></div><div class='xr-var-data'><pre>array([3076321, 3104124, 3673497, ...,   16299,   16299,   16299])</pre></div></li><li class='xr-var-item'><div class='xr-var-name'><span class='xr-has-index'>chrom100k</span></div><div class='xr-var-dims'>(chrom100k)</div><div class='xr-var-dtype'>int64</div><div class='xr-var-preview xr-preview'>0 1 2 3 ... 26346 26347 26348 26349</div><input id='attrs-375a1d40-45b4-4c89-8b9b-a524aa8982ac' class='xr-var-attrs-in' type='checkbox' disabled><label for='attrs-375a1d40-45b4-4c89-8b9b-a524aa8982ac' title='Show/Hide attributes'><svg class='icon xr-icon-file-text2'><use xlink:href='#icon-file-text2'></use></svg></label><input id='data-5fcbbb59-0858-4693-ab3e-e1d11dbdd742' class='xr-var-data-in' type='checkbox'><label for='data-5fcbbb59-0858-4693-ab3e-e1d11dbdd742' title='Show/Hide data repr'><svg class='icon xr-icon-database'><use xlink:href='#icon-database'></use></svg></label><div class='xr-var-attrs'><dl class='xr-attrs'></dl></div><div class='xr-var-data'><pre>array([    0,     1,     2, ..., 26347, 26348, 26349])</pre></div></li><li class='xr-var-item'><div class='xr-var-name'><span>chrom100k_chrom</span></div><div class='xr-var-dims'>(chrom100k)</div><div class='xr-var-dtype'>&lt;U5</div><div class='xr-var-preview xr-preview'>&#x27;chr1&#x27; &#x27;chr1&#x27; ... &#x27;chrX&#x27; &#x27;chrX&#x27;</div><input id='attrs-4e8dee97-f3a6-4624-9bd5-3b6b9f02759c' class='xr-var-attrs-in' type='checkbox' disabled><label for='attrs-4e8dee97-f3a6-4624-9bd5-3b6b9f02759c' title='Show/Hide attributes'><svg class='icon xr-icon-file-text2'><use xlink:href='#icon-file-text2'></use></svg></label><input id='data-d946d4f8-b7d9-4531-a4d6-14069e725e9f' class='xr-var-data-in' type='checkbox'><label for='data-d946d4f8-b7d9-4531-a4d6-14069e725e9f' title='Show/Hide data repr'><svg class='icon xr-icon-database'><use xlink:href='#icon-database'></use></svg></label><div class='xr-var-attrs'><dl class='xr-attrs'></dl></div><div class='xr-var-data'><pre>array([&#x27;chr1&#x27;, &#x27;chr1&#x27;, &#x27;chr1&#x27;, ..., &#x27;chrX&#x27;, &#x27;chrX&#x27;, &#x27;chrX&#x27;], dtype=&#x27;&lt;U5&#x27;)</pre></div></li><li class='xr-var-item'><div class='xr-var-name'><span>chrom100k_bin_start</span></div><div class='xr-var-dims'>(chrom100k)</div><div class='xr-var-dtype'>int64</div><div class='xr-var-preview xr-preview'>0 100000 ... 170900000 171000000</div><input id='attrs-33ee8983-47ba-44c1-8a72-33d986077979' class='xr-var-attrs-in' type='checkbox' disabled><label for='attrs-33ee8983-47ba-44c1-8a72-33d986077979' title='Show/Hide attributes'><svg class='icon xr-icon-file-text2'><use xlink:href='#icon-file-text2'></use></svg></label><input id='data-46604510-bd55-4f1f-b6a0-f6582b5217e4' class='xr-var-data-in' type='checkbox'><label for='data-46604510-bd55-4f1f-b6a0-f6582b5217e4' title='Show/Hide data repr'><svg class='icon xr-icon-database'><use xlink:href='#icon-database'></use></svg></label><div class='xr-var-attrs'><dl class='xr-attrs'></dl></div><div class='xr-var-data'><pre>array([        0,    100000,    200000, ..., 170800000, 170900000,\n",
       "       171000000])</pre></div></li><li class='xr-var-item'><div class='xr-var-name'><span>chrom100k_bin_end</span></div><div class='xr-var-dims'>(chrom100k)</div><div class='xr-var-dtype'>int64</div><div class='xr-var-preview xr-preview'>100000 200000 ... 171031299</div><input id='attrs-94865141-2468-4700-895b-d12a4c61d6f3' class='xr-var-attrs-in' type='checkbox' disabled><label for='attrs-94865141-2468-4700-895b-d12a4c61d6f3' title='Show/Hide attributes'><svg class='icon xr-icon-file-text2'><use xlink:href='#icon-file-text2'></use></svg></label><input id='data-b59042c5-9418-4e43-b5cd-5f8732597996' class='xr-var-data-in' type='checkbox'><label for='data-b59042c5-9418-4e43-b5cd-5f8732597996' title='Show/Hide data repr'><svg class='icon xr-icon-database'><use xlink:href='#icon-database'></use></svg></label><div class='xr-var-attrs'><dl class='xr-attrs'></dl></div><div class='xr-var-data'><pre>array([   100000,    200000,    300000, ..., 170900000, 171000000,\n",
       "       171031299])</pre></div></li></ul></div></li><li class='xr-section-item'><input id='section-9269437d-c457-4be2-8188-5a027202dc0b' class='xr-section-summary-in' type='checkbox'  checked><label for='section-9269437d-c457-4be2-8188-5a027202dc0b' class='xr-section-summary' >Data variables: <span>(2)</span></label><div class='xr-section-inline-details'></div><div class='xr-section-details'><ul class='xr-var-list'><li class='xr-var-item'><div class='xr-var-name'><span>geneslop2k_da</span></div><div class='xr-var-dims'>(cell, geneslop2k, mc_type, count_type)</div><div class='xr-var-dtype'>int64</div><div class='xr-var-preview xr-preview'>dask.array&lt;chunksize=(71, 55487, 2, 2), meta=np.ndarray&gt;</div><input id='attrs-d4b6aee3-cdc2-4b96-8d96-8b2c98077993' class='xr-var-attrs-in' type='checkbox' disabled><label for='attrs-d4b6aee3-cdc2-4b96-8d96-8b2c98077993' title='Show/Hide attributes'><svg class='icon xr-icon-file-text2'><use xlink:href='#icon-file-text2'></use></svg></label><input id='data-4427279f-496f-41d2-86b3-a263669ced35' class='xr-var-data-in' type='checkbox'><label for='data-4427279f-496f-41d2-86b3-a263669ced35' title='Show/Hide data repr'><svg class='icon xr-icon-database'><use xlink:href='#icon-database'></use></svg></label><div class='xr-var-attrs'><dl class='xr-attrs'></dl></div><div class='xr-var-data'><table>\n",
       "    <tr>\n",
       "        <td>\n",
       "            <table>\n",
       "                <thead>\n",
       "                    <tr>\n",
       "                        <td> </td>\n",
       "                        <th> Array </th>\n",
       "                        <th> Chunk </th>\n",
       "                    </tr>\n",
       "                </thead>\n",
       "                <tbody>\n",
       "                    \n",
       "                    <tr>\n",
       "                        <th> Bytes </th>\n",
       "                        <td> 4.54 GiB </td>\n",
       "                        <td> 430.11 MiB </td>\n",
       "                    </tr>\n",
       "                    \n",
       "                    <tr>\n",
       "                        <th> Shape </th>\n",
       "                        <td> (2745, 55487, 2, 2) </td>\n",
       "                        <td> (254, 55487, 2, 2) </td>\n",
       "                    </tr>\n",
       "                    <tr>\n",
       "                        <th> Count </th>\n",
       "                        <td> 396 Tasks </td>\n",
       "                        <td> 28 Chunks </td>\n",
       "                    </tr>\n",
       "                    <tr>\n",
       "                    <th> Type </th>\n",
       "                    <td> int64 </td>\n",
       "                    <td> numpy.ndarray </td>\n",
       "                    </tr>\n",
       "                </tbody>\n",
       "            </table>\n",
       "        </td>\n",
       "        <td>\n",
       "        <svg width=\"354\" height=\"146\" style=\"stroke:rgb(0,0,0);stroke-width:1\" >\n",
       "\n",
       "  <!-- Horizontal lines -->\n",
       "  <line x1=\"0\" y1=\"0\" x2=\"34\" y2=\"0\" style=\"stroke-width:2\" />\n",
       "  <line x1=\"0\" y1=\"25\" x2=\"34\" y2=\"25\" style=\"stroke-width:2\" />\n",
       "\n",
       "  <!-- Vertical lines -->\n",
       "  <line x1=\"0\" y1=\"0\" x2=\"0\" y2=\"25\" style=\"stroke-width:2\" />\n",
       "  <line x1=\"0\" y1=\"0\" x2=\"0\" y2=\"25\" />\n",
       "  <line x1=\"3\" y1=\"0\" x2=\"3\" y2=\"25\" />\n",
       "  <line x1=\"4\" y1=\"0\" x2=\"4\" y2=\"25\" />\n",
       "  <line x1=\"5\" y1=\"0\" x2=\"5\" y2=\"25\" />\n",
       "  <line x1=\"5\" y1=\"0\" x2=\"5\" y2=\"25\" />\n",
       "  <line x1=\"6\" y1=\"0\" x2=\"6\" y2=\"25\" />\n",
       "  <line x1=\"6\" y1=\"0\" x2=\"6\" y2=\"25\" />\n",
       "  <line x1=\"7\" y1=\"0\" x2=\"7\" y2=\"25\" />\n",
       "  <line x1=\"8\" y1=\"0\" x2=\"8\" y2=\"25\" />\n",
       "  <line x1=\"9\" y1=\"0\" x2=\"9\" y2=\"25\" />\n",
       "  <line x1=\"9\" y1=\"0\" x2=\"9\" y2=\"25\" />\n",
       "  <line x1=\"10\" y1=\"0\" x2=\"10\" y2=\"25\" />\n",
       "  <line x1=\"10\" y1=\"0\" x2=\"10\" y2=\"25\" />\n",
       "  <line x1=\"11\" y1=\"0\" x2=\"11\" y2=\"25\" />\n",
       "  <line x1=\"12\" y1=\"0\" x2=\"12\" y2=\"25\" />\n",
       "  <line x1=\"15\" y1=\"0\" x2=\"15\" y2=\"25\" />\n",
       "  <line x1=\"16\" y1=\"0\" x2=\"16\" y2=\"25\" />\n",
       "  <line x1=\"19\" y1=\"0\" x2=\"19\" y2=\"25\" />\n",
       "  <line x1=\"19\" y1=\"0\" x2=\"19\" y2=\"25\" />\n",
       "  <line x1=\"21\" y1=\"0\" x2=\"21\" y2=\"25\" />\n",
       "  <line x1=\"23\" y1=\"0\" x2=\"23\" y2=\"25\" />\n",
       "  <line x1=\"25\" y1=\"0\" x2=\"25\" y2=\"25\" />\n",
       "  <line x1=\"25\" y1=\"0\" x2=\"25\" y2=\"25\" />\n",
       "  <line x1=\"26\" y1=\"0\" x2=\"26\" y2=\"25\" />\n",
       "  <line x1=\"29\" y1=\"0\" x2=\"29\" y2=\"25\" />\n",
       "  <line x1=\"31\" y1=\"0\" x2=\"31\" y2=\"25\" />\n",
       "  <line x1=\"32\" y1=\"0\" x2=\"32\" y2=\"25\" />\n",
       "  <line x1=\"34\" y1=\"0\" x2=\"34\" y2=\"25\" style=\"stroke-width:2\" />\n",
       "\n",
       "  <!-- Colored Rectangle -->\n",
       "  <polygon points=\"0.0,0.0 34.43588582953529,0.0 34.43588582953529,25.412616514582485 0.0,25.412616514582485\" style=\"fill:#ECB172A0;stroke-width:0\"/>\n",
       "\n",
       "  <!-- Text -->\n",
       "  <text x=\"17.217943\" y=\"45.412617\" font-size=\"1.0rem\" font-weight=\"100\" text-anchor=\"middle\" >2745</text>\n",
       "  <text x=\"54.435886\" y=\"12.706308\" font-size=\"1.0rem\" font-weight=\"100\" text-anchor=\"middle\" transform=\"rotate(0,54.435886,12.706308)\">1</text>\n",
       "\n",
       "\n",
       "  <!-- Horizontal lines -->\n",
       "  <line x1=\"104\" y1=\"0\" x2=\"174\" y2=\"70\" style=\"stroke-width:2\" />\n",
       "  <line x1=\"104\" y1=\"25\" x2=\"174\" y2=\"96\" style=\"stroke-width:2\" />\n",
       "\n",
       "  <!-- Vertical lines -->\n",
       "  <line x1=\"104\" y1=\"0\" x2=\"104\" y2=\"25\" style=\"stroke-width:2\" />\n",
       "  <line x1=\"174\" y1=\"70\" x2=\"174\" y2=\"96\" style=\"stroke-width:2\" />\n",
       "\n",
       "  <!-- Colored Rectangle -->\n",
       "  <polygon points=\"104.0,0.0 174.58823529411765,70.58823529411765 174.58823529411765,96.00085180870013 104.0,25.412616514582485\" style=\"fill:#ECB172A0;stroke-width:0\"/>\n",
       "\n",
       "  <!-- Horizontal lines -->\n",
       "  <line x1=\"104\" y1=\"0\" x2=\"129\" y2=\"0\" style=\"stroke-width:2\" />\n",
       "  <line x1=\"174\" y1=\"70\" x2=\"200\" y2=\"70\" style=\"stroke-width:2\" />\n",
       "\n",
       "  <!-- Vertical lines -->\n",
       "  <line x1=\"104\" y1=\"0\" x2=\"174\" y2=\"70\" style=\"stroke-width:2\" />\n",
       "  <line x1=\"129\" y1=\"0\" x2=\"200\" y2=\"70\" style=\"stroke-width:2\" />\n",
       "\n",
       "  <!-- Colored Rectangle -->\n",
       "  <polygon points=\"104.0,0.0 129.41261651458248,0.0 200.00085180870013,70.58823529411765 174.58823529411765,70.58823529411765\" style=\"fill:#ECB172A0;stroke-width:0\"/>\n",
       "\n",
       "  <!-- Horizontal lines -->\n",
       "  <line x1=\"174\" y1=\"70\" x2=\"200\" y2=\"70\" style=\"stroke-width:2\" />\n",
       "  <line x1=\"174\" y1=\"96\" x2=\"200\" y2=\"96\" style=\"stroke-width:2\" />\n",
       "\n",
       "  <!-- Vertical lines -->\n",
       "  <line x1=\"174\" y1=\"70\" x2=\"174\" y2=\"96\" style=\"stroke-width:2\" />\n",
       "  <line x1=\"200\" y1=\"70\" x2=\"200\" y2=\"96\" style=\"stroke-width:2\" />\n",
       "\n",
       "  <!-- Colored Rectangle -->\n",
       "  <polygon points=\"174.58823529411765,70.58823529411765 200.00085180870013,70.58823529411765 200.00085180870013,96.00085180870013 174.58823529411765,96.00085180870013\" style=\"fill:#ECB172A0;stroke-width:0\"/>\n",
       "\n",
       "  <!-- Text -->\n",
       "  <text x=\"187.294544\" y=\"116.000852\" font-size=\"1.0rem\" font-weight=\"100\" text-anchor=\"middle\" >2</text>\n",
       "  <text x=\"220.000852\" y=\"83.294544\" font-size=\"1.0rem\" font-weight=\"100\" text-anchor=\"middle\" transform=\"rotate(0,220.000852,83.294544)\">2</text>\n",
       "  <text x=\"129.294118\" y=\"80.706734\" font-size=\"1.0rem\" font-weight=\"100\" text-anchor=\"middle\" transform=\"rotate(45,129.294118,80.706734)\">55487</text>\n",
       "</svg>\n",
       "        </td>\n",
       "    </tr>\n",
       "</table></div></li><li class='xr-var-item'><div class='xr-var-name'><span>chrom100k_da</span></div><div class='xr-var-dims'>(cell, chrom100k, mc_type, count_type)</div><div class='xr-var-dtype'>int64</div><div class='xr-var-preview xr-preview'>dask.array&lt;chunksize=(71, 26350, 2, 2), meta=np.ndarray&gt;</div><input id='attrs-e5050f44-8d6f-4124-b250-56152fef538b' class='xr-var-attrs-in' type='checkbox' disabled><label for='attrs-e5050f44-8d6f-4124-b250-56152fef538b' title='Show/Hide attributes'><svg class='icon xr-icon-file-text2'><use xlink:href='#icon-file-text2'></use></svg></label><input id='data-cbf3347f-876f-49fd-a696-9c86b2b24070' class='xr-var-data-in' type='checkbox'><label for='data-cbf3347f-876f-49fd-a696-9c86b2b24070' title='Show/Hide data repr'><svg class='icon xr-icon-database'><use xlink:href='#icon-database'></use></svg></label><div class='xr-var-attrs'><dl class='xr-attrs'></dl></div><div class='xr-var-data'><table>\n",
       "    <tr>\n",
       "        <td>\n",
       "            <table>\n",
       "                <thead>\n",
       "                    <tr>\n",
       "                        <td> </td>\n",
       "                        <th> Array </th>\n",
       "                        <th> Chunk </th>\n",
       "                    </tr>\n",
       "                </thead>\n",
       "                <tbody>\n",
       "                    \n",
       "                    <tr>\n",
       "                        <th> Bytes </th>\n",
       "                        <td> 2.16 GiB </td>\n",
       "                        <td> 204.25 MiB </td>\n",
       "                    </tr>\n",
       "                    \n",
       "                    <tr>\n",
       "                        <th> Shape </th>\n",
       "                        <td> (2745, 26350, 2, 2) </td>\n",
       "                        <td> (254, 26350, 2, 2) </td>\n",
       "                    </tr>\n",
       "                    <tr>\n",
       "                        <th> Count </th>\n",
       "                        <td> 424 Tasks </td>\n",
       "                        <td> 28 Chunks </td>\n",
       "                    </tr>\n",
       "                    <tr>\n",
       "                    <th> Type </th>\n",
       "                    <td> int64 </td>\n",
       "                    <td> numpy.ndarray </td>\n",
       "                    </tr>\n",
       "                </tbody>\n",
       "            </table>\n",
       "        </td>\n",
       "        <td>\n",
       "        <svg width=\"362\" height=\"146\" style=\"stroke:rgb(0,0,0);stroke-width:1\" >\n",
       "\n",
       "  <!-- Horizontal lines -->\n",
       "  <line x1=\"0\" y1=\"0\" x2=\"38\" y2=\"0\" style=\"stroke-width:2\" />\n",
       "  <line x1=\"0\" y1=\"25\" x2=\"38\" y2=\"25\" style=\"stroke-width:2\" />\n",
       "\n",
       "  <!-- Vertical lines -->\n",
       "  <line x1=\"0\" y1=\"0\" x2=\"0\" y2=\"25\" style=\"stroke-width:2\" />\n",
       "  <line x1=\"1\" y1=\"0\" x2=\"1\" y2=\"25\" />\n",
       "  <line x1=\"3\" y1=\"0\" x2=\"3\" y2=\"25\" />\n",
       "  <line x1=\"4\" y1=\"0\" x2=\"4\" y2=\"25\" />\n",
       "  <line x1=\"6\" y1=\"0\" x2=\"6\" y2=\"25\" />\n",
       "  <line x1=\"6\" y1=\"0\" x2=\"6\" y2=\"25\" />\n",
       "  <line x1=\"7\" y1=\"0\" x2=\"7\" y2=\"25\" />\n",
       "  <line x1=\"7\" y1=\"0\" x2=\"7\" y2=\"25\" />\n",
       "  <line x1=\"8\" y1=\"0\" x2=\"8\" y2=\"25\" />\n",
       "  <line x1=\"9\" y1=\"0\" x2=\"9\" y2=\"25\" />\n",
       "  <line x1=\"11\" y1=\"0\" x2=\"11\" y2=\"25\" />\n",
       "  <line x1=\"11\" y1=\"0\" x2=\"11\" y2=\"25\" />\n",
       "  <line x1=\"11\" y1=\"0\" x2=\"11\" y2=\"25\" />\n",
       "  <line x1=\"12\" y1=\"0\" x2=\"12\" y2=\"25\" />\n",
       "  <line x1=\"13\" y1=\"0\" x2=\"13\" y2=\"25\" />\n",
       "  <line x1=\"14\" y1=\"0\" x2=\"14\" y2=\"25\" />\n",
       "  <line x1=\"17\" y1=\"0\" x2=\"17\" y2=\"25\" />\n",
       "  <line x1=\"18\" y1=\"0\" x2=\"18\" y2=\"25\" />\n",
       "  <line x1=\"22\" y1=\"0\" x2=\"22\" y2=\"25\" />\n",
       "  <line x1=\"22\" y1=\"0\" x2=\"22\" y2=\"25\" />\n",
       "  <line x1=\"24\" y1=\"0\" x2=\"24\" y2=\"25\" />\n",
       "  <line x1=\"26\" y1=\"0\" x2=\"26\" y2=\"25\" />\n",
       "  <line x1=\"29\" y1=\"0\" x2=\"29\" y2=\"25\" />\n",
       "  <line x1=\"29\" y1=\"0\" x2=\"29\" y2=\"25\" />\n",
       "  <line x1=\"30\" y1=\"0\" x2=\"30\" y2=\"25\" />\n",
       "  <line x1=\"33\" y1=\"0\" x2=\"33\" y2=\"25\" />\n",
       "  <line x1=\"35\" y1=\"0\" x2=\"35\" y2=\"25\" />\n",
       "  <line x1=\"36\" y1=\"0\" x2=\"36\" y2=\"25\" />\n",
       "  <line x1=\"38\" y1=\"0\" x2=\"38\" y2=\"25\" style=\"stroke-width:2\" />\n",
       "\n",
       "  <!-- Colored Rectangle -->\n",
       "  <polygon points=\"0.0,0.0 38.82227033453416,0.0 38.82227033453416,25.412616514582485 0.0,25.412616514582485\" style=\"fill:#ECB172A0;stroke-width:0\"/>\n",
       "\n",
       "  <!-- Text -->\n",
       "  <text x=\"19.411135\" y=\"45.412617\" font-size=\"1.0rem\" font-weight=\"100\" text-anchor=\"middle\" >2745</text>\n",
       "  <text x=\"58.822270\" y=\"12.706308\" font-size=\"1.0rem\" font-weight=\"100\" text-anchor=\"middle\" transform=\"rotate(0,58.822270,12.706308)\">1</text>\n",
       "\n",
       "\n",
       "  <!-- Horizontal lines -->\n",
       "  <line x1=\"108\" y1=\"0\" x2=\"178\" y2=\"70\" style=\"stroke-width:2\" />\n",
       "  <line x1=\"108\" y1=\"25\" x2=\"178\" y2=\"96\" style=\"stroke-width:2\" />\n",
       "\n",
       "  <!-- Vertical lines -->\n",
       "  <line x1=\"108\" y1=\"0\" x2=\"108\" y2=\"25\" style=\"stroke-width:2\" />\n",
       "  <line x1=\"178\" y1=\"70\" x2=\"178\" y2=\"96\" style=\"stroke-width:2\" />\n",
       "\n",
       "  <!-- Colored Rectangle -->\n",
       "  <polygon points=\"108.0,0.0 178.58823529411765,70.58823529411765 178.58823529411765,96.00085180870013 108.0,25.412616514582485\" style=\"fill:#ECB172A0;stroke-width:0\"/>\n",
       "\n",
       "  <!-- Horizontal lines -->\n",
       "  <line x1=\"108\" y1=\"0\" x2=\"133\" y2=\"0\" style=\"stroke-width:2\" />\n",
       "  <line x1=\"178\" y1=\"70\" x2=\"204\" y2=\"70\" style=\"stroke-width:2\" />\n",
       "\n",
       "  <!-- Vertical lines -->\n",
       "  <line x1=\"108\" y1=\"0\" x2=\"178\" y2=\"70\" style=\"stroke-width:2\" />\n",
       "  <line x1=\"133\" y1=\"0\" x2=\"204\" y2=\"70\" style=\"stroke-width:2\" />\n",
       "\n",
       "  <!-- Colored Rectangle -->\n",
       "  <polygon points=\"108.0,0.0 133.41261651458248,0.0 204.00085180870013,70.58823529411765 178.58823529411765,70.58823529411765\" style=\"fill:#ECB172A0;stroke-width:0\"/>\n",
       "\n",
       "  <!-- Horizontal lines -->\n",
       "  <line x1=\"178\" y1=\"70\" x2=\"204\" y2=\"70\" style=\"stroke-width:2\" />\n",
       "  <line x1=\"178\" y1=\"96\" x2=\"204\" y2=\"96\" style=\"stroke-width:2\" />\n",
       "\n",
       "  <!-- Vertical lines -->\n",
       "  <line x1=\"178\" y1=\"70\" x2=\"178\" y2=\"96\" style=\"stroke-width:2\" />\n",
       "  <line x1=\"204\" y1=\"70\" x2=\"204\" y2=\"96\" style=\"stroke-width:2\" />\n",
       "\n",
       "  <!-- Colored Rectangle -->\n",
       "  <polygon points=\"178.58823529411765,70.58823529411765 204.00085180870013,70.58823529411765 204.00085180870013,96.00085180870013 178.58823529411765,96.00085180870013\" style=\"fill:#ECB172A0;stroke-width:0\"/>\n",
       "\n",
       "  <!-- Text -->\n",
       "  <text x=\"191.294544\" y=\"116.000852\" font-size=\"1.0rem\" font-weight=\"100\" text-anchor=\"middle\" >2</text>\n",
       "  <text x=\"224.000852\" y=\"83.294544\" font-size=\"1.0rem\" font-weight=\"100\" text-anchor=\"middle\" transform=\"rotate(0,224.000852,83.294544)\">2</text>\n",
       "  <text x=\"133.294118\" y=\"80.706734\" font-size=\"1.0rem\" font-weight=\"100\" text-anchor=\"middle\" transform=\"rotate(45,133.294118,80.706734)\">26350</text>\n",
       "</svg>\n",
       "        </td>\n",
       "    </tr>\n",
       "</table></div></li></ul></div></li><li class='xr-section-item'><input id='section-58b00e14-8e79-4db7-8c22-aa2e87470fae' class='xr-section-summary-in' type='checkbox'  checked><label for='section-58b00e14-8e79-4db7-8c22-aa2e87470fae' class='xr-section-summary' >Attributes: <span>(2)</span></label><div class='xr-section-inline-details'></div><div class='xr-section-details'><dl class='xr-attrs'><dt><span>obs_dim :</span></dt><dd>cell</dd><dt><span>var_dim :</span></dt><dd>chrom100k</dd></dl></div></li></ul></div></div>"
      ],
      "text/plain": [
       "<xarray.MCDS>\n",
       "Dimensions:              (mc_type: 2, cell: 2745, geneslop2k: 55487, count_type: 2, chrom100k: 26350)\n",
       "Coordinates:\n",
       "  * mc_type              (mc_type) <U3 'CGN' 'CHN'\n",
       "  * cell                 (cell) <U39 '3F_M_1006' ... 'AMB_200604_18mo_3F_4E_2...\n",
       "  * geneslop2k           (geneslop2k) <U21 'ENSMUSG00000102693.1' ... 'ENSMUS...\n",
       "    strand_type          <U4 'both'\n",
       "  * count_type           (count_type) <U3 'mc' 'cov'\n",
       "    geneslop2k_chrom     (geneslop2k) <U5 'chr1' 'chr1' 'chr1' ... 'chrM' 'chrM'\n",
       "    geneslop2k_start     (geneslop2k) int64 3071252 3100015 ... 13288 13355\n",
       "    geneslop2k_end       (geneslop2k) int64 3076321 3104124 ... 16299 16299\n",
       "  * chrom100k            (chrom100k) int64 0 1 2 3 4 ... 26346 26347 26348 26349\n",
       "    chrom100k_chrom      (chrom100k) <U5 'chr1' 'chr1' 'chr1' ... 'chrX' 'chrX'\n",
       "    chrom100k_bin_start  (chrom100k) int64 0 100000 ... 170900000 171000000\n",
       "    chrom100k_bin_end    (chrom100k) int64 100000 200000 ... 171000000 171031299\n",
       "Data variables:\n",
       "    geneslop2k_da        (cell, geneslop2k, mc_type, count_type) int64 dask.array<chunksize=(71, 55487, 2, 2), meta=np.ndarray>\n",
       "    chrom100k_da         (cell, chrom100k, mc_type, count_type) int64 dask.array<chunksize=(71, 26350, 2, 2), meta=np.ndarray>\n",
       "Attributes:\n",
       "    obs_dim:  cell\n",
       "    var_dim:  chrom100k"
      ]
     },
     "execution_count": 14,
     "metadata": {},
     "output_type": "execute_result"
    }
   ],
   "source": [
    "mcds = MCDS.open(mcds_paths, var_dim=var_dim, use_obs=use_cells).sel(chrom100k = use_mc_features)\n",
    "mcds"
   ]
  },
  {
   "cell_type": "code",
   "execution_count": 15,
   "id": "4fcfcfbb-7df7-45ed-9fdb-4792f07bee3a",
   "metadata": {
    "execution": {
     "iopub.execute_input": "2023-08-14T21:13:29.162211Z",
     "iopub.status.busy": "2023-08-14T21:13:29.162028Z",
     "iopub.status.idle": "2023-08-14T21:13:29.204149Z",
     "shell.execute_reply": "2023-08-14T21:13:29.203507Z",
     "shell.execute_reply.started": "2023-08-14T21:13:29.162195Z"
    },
    "tags": []
   },
   "outputs": [],
   "source": [
    "mcds.add_mc_frac(\n",
    "normalize_per_cell=True,  # after calculating mC frac, per cell normalize the matrix\n",
    "    clip_norm_value=10  # clip outlier values above 10 to 10\n",
    ")"
   ]
  },
  {
   "cell_type": "code",
   "execution_count": 16,
   "id": "be4f80f5",
   "metadata": {
    "ExecuteTime": {
     "end_time": "2022-06-25T18:39:20.211422Z",
     "start_time": "2022-06-25T18:29:28.677571Z"
    },
    "execution": {
     "iopub.execute_input": "2023-08-14T21:13:29.205659Z",
     "iopub.status.busy": "2023-08-14T21:13:29.205443Z",
     "iopub.status.idle": "2023-08-14T21:17:08.855996Z",
     "shell.execute_reply": "2023-08-14T21:17:08.854922Z",
     "shell.execute_reply.started": "2023-08-14T21:13:29.205641Z"
    },
    "papermill": {
     "duration": 92.984474,
     "end_time": "2022-10-23T02:46:14.673940",
     "exception": false,
     "start_time": "2022-10-23T02:44:41.689466",
     "status": "completed"
    },
    "tags": []
   },
   "outputs": [],
   "source": [
    "adata = mcds.get_adata(mc_type=mc_type,\n",
    "                       select_hvf=False,\n",
    "                       split_large_chunks=False)"
   ]
  },
  {
   "cell_type": "code",
   "execution_count": 17,
   "id": "b1702756",
   "metadata": {
    "ExecuteTime": {
     "end_time": "2022-06-25T18:39:20.233409Z",
     "start_time": "2022-06-25T18:39:20.213570Z"
    },
    "execution": {
     "iopub.execute_input": "2023-08-14T21:17:08.857285Z",
     "iopub.status.busy": "2023-08-14T21:17:08.857081Z",
     "iopub.status.idle": "2023-08-14T21:17:08.864839Z",
     "shell.execute_reply": "2023-08-14T21:17:08.864188Z",
     "shell.execute_reply.started": "2023-08-14T21:17:08.857266Z"
    },
    "papermill": {
     "duration": 0.071035,
     "end_time": "2022-10-23T02:46:14.755475",
     "exception": false,
     "start_time": "2022-10-23T02:46:14.684440",
     "status": "completed"
    },
    "tags": []
   },
   "outputs": [],
   "source": [
    "adata.obs[cef_cluster_level] = meta[cef_cluster_level]"
   ]
  },
  {
   "cell_type": "code",
   "execution_count": 18,
   "id": "137f97c4-c22a-441f-a42b-cef1983b9ad9",
   "metadata": {
    "execution": {
     "iopub.execute_input": "2023-08-14T21:17:08.865935Z",
     "iopub.status.busy": "2023-08-14T21:17:08.865750Z",
     "iopub.status.idle": "2023-08-14T21:17:08.872789Z",
     "shell.execute_reply": "2023-08-14T21:17:08.872205Z",
     "shell.execute_reply.started": "2023-08-14T21:17:08.865919Z"
    },
    "tags": []
   },
   "outputs": [],
   "source": [
    "adata.var.columns = ['chrom','start','end']"
   ]
  },
  {
   "cell_type": "code",
   "execution_count": 19,
   "id": "933f3dcd-5a50-46ca-8365-5eee05d4e85b",
   "metadata": {
    "execution": {
     "iopub.execute_input": "2023-08-14T21:17:08.873951Z",
     "iopub.status.busy": "2023-08-14T21:17:08.873784Z",
     "iopub.status.idle": "2023-08-14T21:17:08.879235Z",
     "shell.execute_reply": "2023-08-14T21:17:08.878685Z",
     "shell.execute_reply.started": "2023-08-14T21:17:08.873935Z"
    },
    "tags": []
   },
   "outputs": [
    {
     "data": {
      "text/plain": [
       "AnnData object with n_obs × n_vars = 2745 × 26350\n",
       "    obs: 'l1'\n",
       "    var: 'chrom', 'start', 'end'"
      ]
     },
     "execution_count": 19,
     "metadata": {},
     "output_type": "execute_result"
    }
   ],
   "source": [
    "adata"
   ]
  },
  {
   "cell_type": "markdown",
   "id": "dc9549b3",
   "metadata": {
    "ExecuteTime": {
     "end_time": "2022-06-04T04:56:12.906887Z",
     "start_time": "2022-06-04T04:56:12.373611Z"
    },
    "papermill": {
     "duration": 0.00924,
     "end_time": "2022-10-23T02:46:14.774901",
     "exception": false,
     "start_time": "2022-10-23T02:46:14.765661",
     "status": "completed"
    },
    "tags": []
   },
   "source": [
    "## Basic Feature Filtering"
   ]
  },
  {
   "cell_type": "code",
   "execution_count": 20,
   "id": "32e7c994",
   "metadata": {
    "ExecuteTime": {
     "end_time": "2022-06-25T18:39:25.144975Z",
     "start_time": "2022-06-25T18:39:20.234891Z"
    },
    "execution": {
     "iopub.execute_input": "2023-08-14T21:17:08.933503Z",
     "iopub.status.busy": "2023-08-14T21:17:08.933324Z",
     "iopub.status.idle": "2023-08-14T21:17:09.180790Z",
     "shell.execute_reply": "2023-08-14T21:17:09.179807Z",
     "shell.execute_reply.started": "2023-08-14T21:17:08.933486Z"
    },
    "papermill": {
     "duration": 19.324958,
     "end_time": "2022-10-23T02:46:34.109496",
     "exception": false,
     "start_time": "2022-10-23T02:46:14.784538",
     "status": "completed"
    },
    "tags": []
   },
   "outputs": [
    {
     "name": "stdout",
     "output_type": "stream",
     "text": [
      "24639 regions remained.\n"
     ]
    }
   ],
   "source": [
    "remove_chromosomes(adata, exclude_chromosomes=chrom_to_remove)"
   ]
  },
  {
   "cell_type": "code",
   "execution_count": 21,
   "id": "28d4d626",
   "metadata": {
    "ExecuteTime": {
     "end_time": "2022-06-25T18:39:30.446377Z",
     "start_time": "2022-06-25T18:39:25.146189Z"
    },
    "execution": {
     "iopub.execute_input": "2023-08-14T21:17:09.182287Z",
     "iopub.status.busy": "2023-08-14T21:17:09.182102Z",
     "iopub.status.idle": "2023-08-14T21:17:09.533015Z",
     "shell.execute_reply": "2023-08-14T21:17:09.532165Z",
     "shell.execute_reply.started": "2023-08-14T21:17:09.182269Z"
    },
    "papermill": {
     "duration": 17.789611,
     "end_time": "2022-10-23T02:46:51.910036",
     "exception": false,
     "start_time": "2022-10-23T02:46:34.120425",
     "status": "completed"
    },
    "tags": []
   },
   "outputs": [
    {
     "name": "stdout",
     "output_type": "stream",
     "text": [
      "1822 regions removed due to overlapping (bedtools intersect -f 0.2) with black list regions.\n"
     ]
    }
   ],
   "source": [
    "remove_black_list_region(adata, black_list_path=mm10.ENCODE_BLACKLIST_PATH)"
   ]
  },
  {
   "cell_type": "code",
   "execution_count": 22,
   "id": "d183d14b",
   "metadata": {
    "ExecuteTime": {
     "end_time": "2022-06-25T18:39:36.004354Z",
     "start_time": "2022-06-25T18:39:30.447816Z"
    },
    "execution": {
     "iopub.execute_input": "2023-08-14T21:17:09.534206Z",
     "iopub.status.busy": "2023-08-14T21:17:09.534019Z",
     "iopub.status.idle": "2023-08-14T21:17:09.827426Z",
     "shell.execute_reply": "2023-08-14T21:17:09.826602Z",
     "shell.execute_reply.started": "2023-08-14T21:17:09.534188Z"
    },
    "papermill": {
     "duration": 20.798717,
     "end_time": "2022-10-23T02:47:12.722194",
     "exception": false,
     "start_time": "2022-10-23T02:46:51.923477",
     "status": "completed"
    },
    "tags": []
   },
   "outputs": [],
   "source": [
    "# remove low std features\n",
    "pass_std_filter = adata.X.std(axis=0) > 0.05\n",
    "adata._inplace_subset_var(pass_std_filter)"
   ]
  },
  {
   "cell_type": "markdown",
   "id": "9a262ff4-5d89-4fe1-9a95-97be04b69714",
   "metadata": {
    "jupyter": {
     "outputs_hidden": false
    },
    "papermill": {
     "duration": 0.009875,
     "end_time": "2022-10-23T02:47:12.743276",
     "exception": false,
     "start_time": "2022-10-23T02:47:12.733401",
     "status": "completed"
    },
    "tags": []
   },
   "source": [
    "## CEF Feature Filtering\n",
    "\n",
    "Cluster enriched feature selection. Use per-cell normalized mC fraction as input, no log transform."
   ]
  },
  {
   "cell_type": "code",
   "execution_count": 23,
   "id": "545ba3d9",
   "metadata": {
    "ExecuteTime": {
     "end_time": "2022-06-25T18:39:52.010498Z",
     "start_time": "2022-06-25T18:39:36.005698Z"
    },
    "execution": {
     "iopub.execute_input": "2023-08-14T21:17:09.828472Z",
     "iopub.status.busy": "2023-08-14T21:17:09.828291Z",
     "iopub.status.idle": "2023-08-14T21:17:11.926283Z",
     "shell.execute_reply": "2023-08-14T21:17:11.925482Z",
     "shell.execute_reply.started": "2023-08-14T21:17:09.828455Z"
    },
    "papermill": {
     "duration": 46.074086,
     "end_time": "2022-10-23T02:47:58.826610",
     "exception": false,
     "start_time": "2022-10-23T02:47:12.752524",
     "status": "completed"
    },
    "tags": []
   },
   "outputs": [
    {
     "name": "stdout",
     "output_type": "stream",
     "text": [
      "Found 6 clusters to compute feature enrichment score\n",
      "Computing enrichment score\n",
      "Computing enrichment score FDR-corrected P values\n",
      "Selected 1102 unique features\n"
     ]
    },
    {
     "data": {
      "image/png": "[encoded data removed]",
      "text/plain": [
       "<Figure size 1080x360 with 3 Axes>"
      ]
     },
     "metadata": {
      "needs_background": "light"
     },
     "output_type": "display_data"
    }
   ],
   "source": [
    "# CEF function take the original mC fraction as input\n",
    "cluster_enriched_features(adata,\n",
    "                          cluster_col=cef_cluster_level,\n",
    "                          top_n=200,\n",
    "                          alpha=0.05,\n",
    "                          stat_plot=True,\n",
    "                          method='mc')"
   ]
  },
  {
   "cell_type": "code",
   "execution_count": 24,
   "id": "a556c1fc",
   "metadata": {
    "ExecuteTime": {
     "end_time": "2022-06-25T18:39:52.047713Z",
     "start_time": "2022-06-25T18:39:52.012472Z"
    },
    "execution": {
     "iopub.execute_input": "2023-08-14T21:17:11.927375Z",
     "iopub.status.busy": "2023-08-14T21:17:11.927158Z",
     "iopub.status.idle": "2023-08-14T21:17:11.967854Z",
     "shell.execute_reply": "2023-08-14T21:17:11.967094Z",
     "shell.execute_reply.started": "2023-08-14T21:17:11.927357Z"
    },
    "papermill": {
     "duration": 0.033286,
     "end_time": "2022-10-23T02:47:58.871007",
     "exception": false,
     "start_time": "2022-10-23T02:47:58.837721",
     "status": "completed"
    },
    "tags": []
   },
   "outputs": [],
   "source": [
    "# select CEF only\n",
    "cef = adata.var[f'{cef_cluster_level}_enriched_features'].copy()\n",
    "\n",
    "# add some global CEF to list\n",
    "if global_cef is not None:\n",
    "    global_cef = pd.read_csv(global_cef, header=None, index_col=0).index\n",
    "    cef.loc[cef.index.isin(global_cef)] = True\n",
    "\n",
    "fetures_df['mc_id'] = fetures_df['mc_id'].astype(str)\n",
    "mc_to_m3c = fetures_df.set_index('mc_id')['m3c_id'].to_dict()\n",
    "\n",
    "cef.index = cef.index.map(mc_to_m3c)"
   ]
  },
  {
   "cell_type": "code",
   "execution_count": 25,
   "id": "64056988",
   "metadata": {
    "execution": {
     "iopub.execute_input": "2023-08-14T21:17:11.968911Z",
     "iopub.status.busy": "2023-08-14T21:17:11.968722Z",
     "iopub.status.idle": "2023-08-14T21:17:11.982078Z",
     "shell.execute_reply": "2023-08-14T21:17:11.981430Z",
     "shell.execute_reply.started": "2023-08-14T21:17:11.968893Z"
    },
    "papermill": {
     "duration": 0.009661,
     "end_time": "2022-10-23T02:47:58.909946",
     "exception": false,
     "start_time": "2022-10-23T02:47:58.900285",
     "status": "completed"
    },
    "tags": []
   },
   "outputs": [],
   "source": [
    "cef.to_csv('mC.CEF.csv', header=None)"
   ]
  },
  {
   "cell_type": "code",
   "execution_count": null,
   "id": "25fe1295",
   "metadata": {
    "papermill": {
     "duration": 0.009947,
     "end_time": "2022-10-23T02:47:58.929317",
     "exception": false,
     "start_time": "2022-10-23T02:47:58.919370",
     "status": "completed"
    },
    "tags": []
   },
   "outputs": [],
   "source": []
  },
  {
   "cell_type": "code",
   "execution_count": null,
   "id": "cee0000b",
   "metadata": {
    "papermill": {
     "duration": 0.010027,
     "end_time": "2022-10-23T02:47:58.949910",
     "exception": false,
     "start_time": "2022-10-23T02:47:58.939883",
     "status": "completed"
    },
    "tags": []
   },
   "outputs": [],
   "source": []
  }
 ],
 "metadata": {
  "celltoolbar": "Tags",
  "hide_input": false,
  "kernelspec": {
   "display_name": "Python 3 (ipykernel)",
   "language": "python",
   "name": "python3"
  },
  "language_info": {
   "codemirror_mode": {
    "name": "ipython",
    "version": 3
   },
   "file_extension": ".py",
   "mimetype": "text/x-python",
   "name": "python",
   "nbconvert_exporter": "python",
   "pygments_lexer": "ipython3",
   "version": "3.7.12"
  },
  "papermill": {
   "default_parameters": {},
   "duration": 209.294807,
   "end_time": "2022-10-23T02:47:59.878407",
   "environment_variables": {},
   "exception": null,
   "input_path": "/mnt/filestore/221022-cemba-mc-cemba-m3c-integration/template/01a.select_mc_cef.ipynb",
   "output_path": "/mnt/filestore/221022-cemba-mc-cemba-m3c-integration/Round0/ALL/01a.select_mc_cef.ipynb",
   "parameters": {
    "cef_cluster_level": "L2",
    "chrom_to_remove": [
     "chrX",
     "chrY",
     "chrM",
     "chrL"
    ],
    "cpu": 1,
    "downsample": 500,
    "global_cef": null,
    "group_name": "ALL",
    "mc_type": "CHN",
    "mem_gb": 1,
    "var_dim": "chrom100k"
   },
   "start_time": "2022-10-23T02:44:30.583600",
   "version": "2.3.3"
  },
  "toc": {
   "base_numbering": 1,
   "nav_menu": {},
   "number_sections": true,
   "sideBar": true,
   "skip_h1_title": true,
   "title_cell": "Table of Contents",
   "title_sidebar": "Contents",
   "toc_cell": false,
   "toc_position": {},
   "toc_section_display": true,
   "toc_window_display": true
  }
 },
 "nbformat": 4,
 "nbformat_minor": 5
}
