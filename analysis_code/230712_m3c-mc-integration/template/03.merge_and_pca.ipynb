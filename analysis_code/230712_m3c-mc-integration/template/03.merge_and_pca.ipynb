{
 "cells": [
  {
   "cell_type": "code",
   "execution_count": 1,
   "id": "fc8a8b6d",
   "metadata": {
    "ExecuteTime": {
     "end_time": "2022-06-26T05:59:00.522304Z",
     "start_time": "2022-06-26T05:58:57.945965Z"
    },
    "execution": {
     "iopub.execute_input": "2023-08-14T21:21:44.378147Z",
     "iopub.status.busy": "2023-08-14T21:21:44.377957Z",
     "iopub.status.idle": "2023-08-14T21:21:46.446975Z",
     "shell.execute_reply": "2023-08-14T21:21:46.446058Z",
     "shell.execute_reply.started": "2023-08-14T21:21:44.378130Z"
    },
    "papermill": {
     "duration": 2.005457,
     "end_time": "2022-10-23T02:52:53.785787",
     "exception": false,
     "start_time": "2022-10-23T02:52:51.780330",
     "status": "completed"
    },
    "tags": []
   },
   "outputs": [],
   "source": [
    "import anndata\n",
    "import numpy as np\n",
    "from ALLCools.clustering import *\n",
    "from sklearn.decomposition import PCA, TruncatedSVD\n",
    "\n",
    "import matplotlib.pyplot as plt"
   ]
  },
  {
   "cell_type": "code",
   "execution_count": null,
   "id": "46cbe910-0028-42d8-a81b-1a764c9ade5e",
   "metadata": {},
   "outputs": [],
   "source": [
    "# Parameters\n",
    "cpu = 1\n",
    "mem_gb = 1\n",
    "n_train_cell = 100000\n"
   ]
  },
  {
   "cell_type": "markdown",
   "id": "bd6dd2a1",
   "metadata": {
    "papermill": {
     "duration": 0.009017,
     "end_time": "2022-10-23T02:52:53.846926",
     "exception": false,
     "start_time": "2022-10-23T02:52:53.837909",
     "status": "completed"
    },
    "tags": []
   },
   "source": [
    "## Merge Adata"
   ]
  },
  {
   "cell_type": "code",
   "execution_count": 3,
   "id": "faf92a2f",
   "metadata": {
    "ExecuteTime": {
     "end_time": "2022-06-26T05:59:00.713265Z",
     "start_time": "2022-06-26T05:59:00.530609Z"
    },
    "execution": {
     "iopub.execute_input": "2023-08-14T21:21:46.457677Z",
     "iopub.status.busy": "2023-08-14T21:21:46.457493Z",
     "iopub.status.idle": "2023-08-14T21:21:46.515598Z",
     "shell.execute_reply": "2023-08-14T21:21:46.514812Z",
     "shell.execute_reply.started": "2023-08-14T21:21:46.457661Z"
    },
    "papermill": {
     "duration": 11.567522,
     "end_time": "2022-10-23T02:53:05.422129",
     "exception": false,
     "start_time": "2022-10-23T02:52:53.854607",
     "status": "completed"
    },
    "tags": []
   },
   "outputs": [],
   "source": [
    "ref_adata = anndata.read_h5ad(\"mc_input.h5ad\")\n",
    "query_adata = anndata.read_h5ad(\"m3c_input.h5ad\")\n",
    "batch_categories=[\"mC\", \"m3C\"]"
   ]
  },
  {
   "cell_type": "code",
   "execution_count": 4,
   "id": "4f97dad6",
   "metadata": {
    "ExecuteTime": {
     "end_time": "2022-06-26T05:59:01.488767Z",
     "start_time": "2022-06-26T05:59:00.715514Z"
    },
    "execution": {
     "iopub.execute_input": "2023-08-14T21:21:46.534052Z",
     "iopub.status.busy": "2023-08-14T21:21:46.533888Z",
     "iopub.status.idle": "2023-08-14T21:21:46.624263Z",
     "shell.execute_reply": "2023-08-14T21:21:46.623451Z",
     "shell.execute_reply.started": "2023-08-14T21:21:46.534037Z"
    },
    "papermill": {
     "duration": 23.821943,
     "end_time": "2022-10-23T02:53:29.251919",
     "exception": false,
     "start_time": "2022-10-23T02:53:05.429976",
     "status": "completed"
    },
    "tags": []
   },
   "outputs": [],
   "source": [
    "# the _inplace_subset_var consumes peak memory, 220G for 3.6M cell * 3318 features\n",
    "use_var = ref_adata.var_names.intersection(query_adata.var_names)\n",
    "ref_adata._inplace_subset_var(use_var)\n",
    "query_adata._inplace_subset_var(use_var)"
   ]
  },
  {
   "cell_type": "code",
   "execution_count": 5,
   "id": "16181217",
   "metadata": {
    "ExecuteTime": {
     "end_time": "2022-06-26T05:59:01.645324Z",
     "start_time": "2022-06-26T05:59:01.492107Z"
    },
    "execution": {
     "iopub.execute_input": "2023-08-14T21:21:46.940127Z",
     "iopub.status.busy": "2023-08-14T21:21:46.939908Z",
     "iopub.status.idle": "2023-08-14T21:21:46.970860Z",
     "shell.execute_reply": "2023-08-14T21:21:46.970233Z",
     "shell.execute_reply.started": "2023-08-14T21:21:46.940108Z"
    },
    "papermill": {
     "duration": 1.970486,
     "end_time": "2022-10-23T02:53:31.304576",
     "exception": false,
     "start_time": "2022-10-23T02:53:29.334090",
     "status": "completed"
    },
    "tags": []
   },
   "outputs": [
    {
     "data": {
      "text/plain": [
       "AnnData object with n_obs × n_vars = 18044 × 1328\n",
       "    obs: 'Modality'\n",
       "    var: 'chrom', 'cef', 'end-m3C', 'start-m3C', 'bin_start-mC', 'bin_end-mC'"
      ]
     },
     "execution_count": 5,
     "metadata": {},
     "output_type": "execute_result"
    }
   ],
   "source": [
    "adata_merge = ref_adata.concatenate(\n",
    "    query_adata, batch_categories=batch_categories, batch_key=\"Modality\", index_unique=None\n",
    ")\n",
    "adata_merge"
   ]
  },
  {
   "cell_type": "code",
   "execution_count": 6,
   "id": "864649e1",
   "metadata": {
    "ExecuteTime": {
     "end_time": "2022-06-26T05:59:01.650859Z",
     "start_time": "2022-06-26T05:59:01.647252Z"
    },
    "execution": {
     "iopub.execute_input": "2023-08-14T21:21:48.591987Z",
     "iopub.status.busy": "2023-08-14T21:21:48.591696Z",
     "iopub.status.idle": "2023-08-14T21:21:48.596834Z",
     "shell.execute_reply": "2023-08-14T21:21:48.596216Z",
     "shell.execute_reply.started": "2023-08-14T21:21:48.591965Z"
    },
    "papermill": {
     "duration": 0.029728,
     "end_time": "2022-10-23T02:53:31.355071",
     "exception": false,
     "start_time": "2022-10-23T02:53:31.325343",
     "status": "completed"
    },
    "tags": []
   },
   "outputs": [],
   "source": [
    "np.random.seed(0)\n",
    "\n",
    "# select mC cells to fit the model\n",
    "train_cell = np.zeros(ref_adata.shape[0], dtype=bool)\n",
    "if ref_adata.shape[0] > n_train_cell:\n",
    "    train_cell[\n",
    "        np.random.choice(np.arange(ref_adata.shape[0]), n_train_cell, False)\n",
    "    ] = True\n",
    "else:\n",
    "    train_cell[:] = True\n",
    "\n",
    "ref_adata.obs[\"Train\"] = train_cell.copy()"
   ]
  },
  {
   "cell_type": "markdown",
   "id": "9de25aba",
   "metadata": {
    "papermill": {
     "duration": 0.009092,
     "end_time": "2022-10-23T02:53:31.372059",
     "exception": false,
     "start_time": "2022-10-23T02:53:31.362967",
     "status": "completed"
    },
    "tags": []
   },
   "source": [
    "## Run PCA on Merged Adata"
   ]
  },
  {
   "cell_type": "code",
   "execution_count": 7,
   "id": "2a642423",
   "metadata": {
    "ExecuteTime": {
     "end_time": "2022-06-26T05:59:03.349887Z",
     "start_time": "2022-06-26T05:59:01.652688Z"
    },
    "execution": {
     "iopub.execute_input": "2023-08-14T21:21:49.613572Z",
     "iopub.status.busy": "2023-08-14T21:21:49.613246Z",
     "iopub.status.idle": "2023-08-14T21:21:50.569164Z",
     "shell.execute_reply": "2023-08-14T21:21:50.568321Z",
     "shell.execute_reply.started": "2023-08-14T21:21:49.613544Z"
    },
    "papermill": {
     "duration": 30.665021,
     "end_time": "2022-10-23T02:54:02.044600",
     "exception": false,
     "start_time": "2022-10-23T02:53:31.379579",
     "status": "completed"
    },
    "tags": []
   },
   "outputs": [
    {
     "name": "stdout",
     "output_type": "stream",
     "text": [
      "100 non-zero singular values\n"
     ]
    }
   ],
   "source": [
    "n_feature = ref_adata.shape[1]\n",
    "if n_feature >= 100:\n",
    "    model = TruncatedSVD(n_components=100, random_state=0, algorithm='randomized')\n",
    "else:\n",
    "    model = TruncatedSVD(n_components=n_feature - 1, random_state=0, algorithm='randomized')\n",
    "\n",
    "# use selected mC cells to fit\n",
    "model.fit(ref_adata.X[ref_adata.obs[\"Train\"].values])\n",
    "sel_dim = model.singular_values_ != 0\n",
    "print(sel_dim.sum(), 'non-zero singular values')"
   ]
  },
  {
   "cell_type": "code",
   "execution_count": 8,
   "id": "70ea23ad-6556-4f26-9c60-8afe14edf6a1",
   "metadata": {
    "execution": {
     "iopub.execute_input": "2023-08-14T21:21:50.583918Z",
     "iopub.status.busy": "2023-08-14T21:21:50.583743Z",
     "iopub.status.idle": "2023-08-14T21:21:50.669603Z",
     "shell.execute_reply": "2023-08-14T21:21:50.669044Z",
     "shell.execute_reply.started": "2023-08-14T21:21:50.583901Z"
    },
    "papermill": {
     "duration": 0.166349,
     "end_time": "2022-10-23T02:54:02.221475",
     "exception": false,
     "start_time": "2022-10-23T02:54:02.055126",
     "status": "completed"
    },
    "tags": []
   },
   "outputs": [
    {
     "data": {
      "text/plain": [
       "[<matplotlib.lines.Line2D at 0x7f392e185c10>]"
      ]
     },
     "execution_count": 8,
     "metadata": {},
     "output_type": "execute_result"
    },
    {
     "data": {
      "image/png": "[encoded data removed]",
      "text/plain": [
       "<Figure size 432x288 with 1 Axes>"
      ]
     },
     "metadata": {
      "needs_background": "light"
     },
     "output_type": "display_data"
    }
   ],
   "source": [
    "fig, ax = plt.subplots()\n",
    "ax.plot(model.explained_variance_ratio_)"
   ]
  },
  {
   "cell_type": "code",
   "execution_count": 9,
   "id": "af589004",
   "metadata": {
    "ExecuteTime": {
     "end_time": "2022-06-26T05:59:03.641424Z",
     "start_time": "2022-06-26T05:59:03.353577Z"
    },
    "execution": {
     "iopub.execute_input": "2023-08-14T21:21:50.888848Z",
     "iopub.status.busy": "2023-08-14T21:21:50.888663Z",
     "iopub.status.idle": "2023-08-14T21:21:51.193502Z",
     "shell.execute_reply": "2023-08-14T21:21:51.192723Z",
     "shell.execute_reply.started": "2023-08-14T21:21:50.888832Z"
    },
    "papermill": {
     "duration": 15.060667,
     "end_time": "2022-10-23T02:54:17.293867",
     "exception": false,
     "start_time": "2022-10-23T02:54:02.233200",
     "status": "completed"
    },
    "tags": []
   },
   "outputs": [
    {
     "name": "stdout",
     "output_type": "stream",
     "text": [
      "17 components passed P cutoff of 0.05.\n",
      "Changing adata.obsm['X_pca'] from shape (18044, 100) to (18044, 17)\n"
     ]
    }
   ],
   "source": [
    "# transform all other data\n",
    "chunk_size = 50000\n",
    "chunks = []\n",
    "for chunk_start in range(0, adata_merge.shape[0], chunk_size):\n",
    "    chunks.append(\n",
    "        model.transform(adata_merge.X[chunk_start : (chunk_start + chunk_size)])\n",
    "    )\n",
    "\n",
    "# add NNZ PCs to adata\n",
    "adata_merge.obsm[\"X_pca\"] = np.concatenate(chunks, axis=0)[:, sel_dim]\n",
    "\n",
    "# remove low variance PCs\n",
    "n_pcs = significant_pc_test(adata_merge, p_cutoff=0.05, obsm=\"X_pca\")\n",
    "\n",
    "# scale PC by singular values\n",
    "adata_merge.obsm[\"X_pca\"] /= model.singular_values_[sel_dim][:n_pcs]"
   ]
  },
  {
   "cell_type": "code",
   "execution_count": 10,
   "id": "e9cc32a9",
   "metadata": {
    "ExecuteTime": {
     "end_time": "2022-06-26T05:59:04.203528Z",
     "start_time": "2022-06-26T05:59:03.813404Z"
    },
    "execution": {
     "iopub.execute_input": "2023-08-14T21:21:51.730259Z",
     "iopub.status.busy": "2023-08-14T21:21:51.730013Z",
     "iopub.status.idle": "2023-08-14T21:21:51.923113Z",
     "shell.execute_reply": "2023-08-14T21:21:51.922313Z",
     "shell.execute_reply.started": "2023-08-14T21:21:51.730241Z"
    },
    "papermill": {
     "duration": 123.936057,
     "end_time": "2022-10-23T02:56:21.255463",
     "exception": false,
     "start_time": "2022-10-23T02:54:17.319406",
     "status": "completed"
    },
    "tags": []
   },
   "outputs": [],
   "source": [
    "for m in [\"mC\", \"m3C\"]:\n",
    "    adata = adata_merge[adata_merge.obs[\"Modality\"] == m]\n",
    "    adata.write_h5ad(f\"{m.lower()}_pca.h5ad\")"
   ]
  },
  {
   "cell_type": "code",
   "execution_count": 11,
   "id": "51ca7335",
   "metadata": {
    "ExecuteTime": {
     "end_time": "2022-06-26T05:59:04.208803Z",
     "start_time": "2022-06-26T05:59:04.205685Z"
    },
    "execution": {
     "iopub.execute_input": "2023-08-14T21:21:52.134515Z",
     "iopub.status.busy": "2023-08-14T21:21:52.134344Z",
     "iopub.status.idle": "2023-08-14T21:21:52.138734Z",
     "shell.execute_reply": "2023-08-14T21:21:52.138188Z",
     "shell.execute_reply.started": "2023-08-14T21:21:52.134499Z"
    },
    "papermill": {
     "duration": 0.014931,
     "end_time": "2022-10-23T02:56:21.310664",
     "exception": false,
     "start_time": "2022-10-23T02:56:21.295733",
     "status": "completed"
    },
    "tags": []
   },
   "outputs": [
    {
     "data": {
      "text/plain": [
       "AnnData object with n_obs × n_vars = 18044 × 1328\n",
       "    obs: 'Modality'\n",
       "    var: 'chrom', 'cef', 'end-m3C', 'start-m3C', 'bin_start-mC', 'bin_end-mC'\n",
       "    obsm: 'X_pca'"
      ]
     },
     "execution_count": 11,
     "metadata": {},
     "output_type": "execute_result"
    }
   ],
   "source": [
    "adata_merge"
   ]
  },
  {
   "cell_type": "code",
   "execution_count": 12,
   "id": "263724af",
   "metadata": {
    "execution": {
     "iopub.execute_input": "2023-08-14T21:21:54.830689Z",
     "iopub.status.busy": "2023-08-14T21:21:54.830435Z",
     "iopub.status.idle": "2023-08-14T21:21:54.850587Z",
     "shell.execute_reply": "2023-08-14T21:21:54.849888Z",
     "shell.execute_reply.started": "2023-08-14T21:21:54.830662Z"
    },
    "papermill": {
     "duration": 2.554843,
     "end_time": "2022-10-23T02:56:23.873829",
     "exception": false,
     "start_time": "2022-10-23T02:56:21.318986",
     "status": "completed"
    },
    "tags": []
   },
   "outputs": [
    {
     "data": {
      "text/plain": [
       "CompletedProcess(args=['rm', '-f', 'mc_input.h5ad', 'm3c_input.h5ad'], returncode=0)"
      ]
     },
     "execution_count": 12,
     "metadata": {},
     "output_type": "execute_result"
    }
   ],
   "source": [
    "import subprocess\n",
    "subprocess.run(['rm', '-f', 'mc_input.h5ad', 'm3c_input.h5ad'])"
   ]
  },
  {
   "cell_type": "code",
   "execution_count": null,
   "id": "18fb140e-82d6-4c43-9418-a4fee40c3791",
   "metadata": {
    "papermill": {
     "duration": 0.008818,
     "end_time": "2022-10-23T02:56:23.892999",
     "exception": false,
     "start_time": "2022-10-23T02:56:23.884181",
     "status": "completed"
    },
    "tags": []
   },
   "outputs": [],
   "source": []
  },
  {
   "cell_type": "code",
   "execution_count": null,
   "id": "682cc912-4a49-478b-96b9-2ffd404a662d",
   "metadata": {
    "papermill": {
     "duration": 0.008863,
     "end_time": "2022-10-23T02:56:23.911068",
     "exception": false,
     "start_time": "2022-10-23T02:56:23.902205",
     "status": "completed"
    },
    "tags": []
   },
   "outputs": [],
   "source": []
  },
  {
   "cell_type": "code",
   "execution_count": null,
   "id": "9763a00d-178e-47f0-9048-7754da67eba8",
   "metadata": {
    "papermill": {
     "duration": 0.008223,
     "end_time": "2022-10-23T02:56:23.928213",
     "exception": false,
     "start_time": "2022-10-23T02:56:23.919990",
     "status": "completed"
    },
    "tags": []
   },
   "outputs": [],
   "source": []
  },
  {
   "cell_type": "code",
   "execution_count": null,
   "id": "fc3d7f27-881d-4f38-96f9-df7890227b20",
   "metadata": {
    "papermill": {
     "duration": 0.007967,
     "end_time": "2022-10-23T02:56:23.944120",
     "exception": false,
     "start_time": "2022-10-23T02:56:23.936153",
     "status": "completed"
    },
    "tags": []
   },
   "outputs": [],
   "source": []
  },
  {
   "cell_type": "code",
   "execution_count": null,
   "id": "e7d77f37-7919-4752-a2cc-f8895dd607fe",
   "metadata": {
    "papermill": {
     "duration": 0.008455,
     "end_time": "2022-10-23T02:56:23.960649",
     "exception": false,
     "start_time": "2022-10-23T02:56:23.952194",
     "status": "completed"
    },
    "tags": []
   },
   "outputs": [],
   "source": []
  }
 ],
 "metadata": {
  "celltoolbar": "Tags",
  "hide_input": false,
  "kernelspec": {
   "display_name": "Python 3 (ipykernel)",
   "language": "python",
   "name": "python3"
  },
  "language_info": {
   "codemirror_mode": {
    "name": "ipython",
    "version": 3
   },
   "file_extension": ".py",
   "mimetype": "text/x-python",
   "name": "python",
   "nbconvert_exporter": "python",
   "pygments_lexer": "ipython3",
   "version": "3.7.12"
  },
  "papermill": {
   "default_parameters": {},
   "duration": 213.936037,
   "end_time": "2022-10-23T02:56:24.587273",
   "environment_variables": {},
   "exception": null,
   "input_path": "/mnt/filestore/221022-cemba-mc-cemba-m3c-integration/template/03.merge_and_pca.ipynb",
   "output_path": "/mnt/filestore/221022-cemba-mc-cemba-m3c-integration/Round0/ALL/03.merge_and_pca.ipynb",
   "parameters": {
    "cpu": 1,
    "group_name": "ALL",
    "mem_gb": 1,
    "n_train_cell": 100000
   },
   "start_time": "2022-10-23T02:52:50.651236",
   "version": "2.3.3"
  },
  "toc": {
   "base_numbering": 1,
   "nav_menu": {},
   "number_sections": true,
   "sideBar": true,
   "skip_h1_title": true,
   "title_cell": "Table of Contents",
   "title_sidebar": "Contents",
   "toc_cell": false,
   "toc_position": {},
   "toc_section_display": true,
   "toc_window_display": true
  }
 },
 "nbformat": 4,
 "nbformat_minor": 5
}
