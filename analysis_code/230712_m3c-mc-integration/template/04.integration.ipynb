{
 "cells": [
  {
   "cell_type": "code",
   "execution_count": 1,
   "id": "1b082f0a",
   "metadata": {
    "ExecuteTime": {
     "end_time": "2022-06-28T03:45:54.589891Z",
     "start_time": "2022-06-28T03:45:47.264494Z"
    },
    "execution": {
     "iopub.execute_input": "2023-08-14T21:22:07.150135Z",
     "iopub.status.busy": "2023-08-14T21:22:07.149868Z",
     "iopub.status.idle": "2023-08-14T21:22:12.085368Z",
     "shell.execute_reply": "2023-08-14T21:22:12.084404Z",
     "shell.execute_reply.started": "2023-08-14T21:22:07.150117Z"
    },
    "papermill": {
     "duration": 4.917291,
     "end_time": "2022-10-23T02:56:31.830304",
     "exception": false,
     "start_time": "2022-10-23T02:56:26.913013",
     "status": "completed"
    },
    "tags": []
   },
   "outputs": [],
   "source": [
    "import anndata\n",
    "import matplotlib.pyplot as plt\n",
    "import numpy as np\n",
    "import pandas as pd\n",
    "from ALLCools.clustering import *\n",
    "from ALLCools.integration.seurat_class import SeuratIntegration\n",
    "from ALLCools.plot import *\n",
    "from wmb import aibs, brain, cemba"
   ]
  },
  {
   "cell_type": "code",
   "execution_count": null,
   "id": "4a244305-4fcd-40f9-8689-050c3412e2c8",
   "metadata": {},
   "outputs": [],
   "source": [
    "# Parameters\n",
    "categorical_key = ['new_celltypes_0808']\n",
    "cpu = 3\n",
    "mem_gb = 1\n",
    "ref_dataset = \"mc\"\n"
   ]
  },
  {
   "cell_type": "markdown",
   "id": "cb21fd77",
   "metadata": {
    "papermill": {
     "duration": 0.008413,
     "end_time": "2022-10-23T02:56:31.894035",
     "exception": false,
     "start_time": "2022-10-23T02:56:31.885622",
     "status": "completed"
    },
    "tags": []
   },
   "source": [
    "## Input LSI before integration"
   ]
  },
  {
   "cell_type": "code",
   "execution_count": 4,
   "id": "1a23191e",
   "metadata": {
    "ExecuteTime": {
     "end_time": "2022-06-28T03:45:55.726143Z",
     "start_time": "2022-06-28T03:45:55.444985Z"
    },
    "execution": {
     "iopub.execute_input": "2023-08-14T21:22:30.019491Z",
     "iopub.status.busy": "2023-08-14T21:22:30.019255Z",
     "iopub.status.idle": "2023-08-14T21:22:30.076105Z",
     "shell.execute_reply": "2023-08-14T21:22:30.075308Z",
     "shell.execute_reply.started": "2023-08-14T21:22:30.019475Z"
    },
    "papermill": {
     "duration": 96.769651,
     "end_time": "2022-10-23T02:58:08.672479",
     "exception": false,
     "start_time": "2022-10-23T02:56:31.902828",
     "status": "completed"
    },
    "tags": []
   },
   "outputs": [],
   "source": [
    "ref_adata = anndata.read_h5ad(\"mc_pca.h5ad\")\n",
    "query_adata = anndata.read_h5ad(\"m3c_pca.h5ad\")"
   ]
  },
  {
   "cell_type": "code",
   "execution_count": 6,
   "id": "e4824c10",
   "metadata": {
    "ExecuteTime": {
     "end_time": "2022-06-28T03:45:55.944589Z",
     "start_time": "2022-06-28T03:45:55.941371Z"
    },
    "execution": {
     "iopub.execute_input": "2023-08-14T21:22:34.452751Z",
     "iopub.status.busy": "2023-08-14T21:22:34.452468Z",
     "iopub.status.idle": "2023-08-14T21:22:34.456361Z",
     "shell.execute_reply": "2023-08-14T21:22:34.455706Z",
     "shell.execute_reply.started": "2023-08-14T21:22:34.452733Z"
    },
    "papermill": {
     "duration": 0.02675,
     "end_time": "2022-10-23T02:58:08.735320",
     "exception": false,
     "start_time": "2022-10-23T02:58:08.708570",
     "status": "completed"
    },
    "tags": []
   },
   "outputs": [],
   "source": [
    "adata_list = [ref_adata, query_adata]"
   ]
  },
  {
   "cell_type": "markdown",
   "id": "f5323f5a",
   "metadata": {
    "papermill": {
     "duration": 0.124387,
     "end_time": "2022-10-23T02:58:08.872038",
     "exception": false,
     "start_time": "2022-10-23T02:58:08.747651",
     "status": "completed"
    },
    "tags": []
   },
   "source": [
    "### Init empty adata_merge"
   ]
  },
  {
   "cell_type": "code",
   "execution_count": 7,
   "id": "2932b576",
   "metadata": {
    "ExecuteTime": {
     "end_time": "2022-06-28T03:45:56.464228Z",
     "start_time": "2022-06-28T03:45:56.456509Z"
    },
    "execution": {
     "iopub.execute_input": "2023-08-14T21:22:36.545289Z",
     "iopub.status.busy": "2023-08-14T21:22:36.545025Z",
     "iopub.status.idle": "2023-08-14T21:22:36.552263Z",
     "shell.execute_reply": "2023-08-14T21:22:36.551635Z",
     "shell.execute_reply.started": "2023-08-14T21:22:36.545270Z"
    },
    "papermill": {
     "duration": 0.149443,
     "end_time": "2022-10-23T02:58:09.032001",
     "exception": false,
     "start_time": "2022-10-23T02:58:08.882558",
     "status": "completed"
    },
    "tags": []
   },
   "outputs": [],
   "source": [
    "from scipy.sparse import csr_matrix\n",
    "\n",
    "cells = sum([a.shape[0] for a in adata_list])\n",
    "features = adata_list[0].shape[1]\n",
    "\n",
    "adata_merge = anndata.AnnData(\n",
    "    X=csr_matrix((cells, features), dtype=np.float32),\n",
    "    obs=pd.concat([a.obs for a in adata_list]),\n",
    "    var=adata_list[0].var,\n",
    ")"
   ]
  },
  {
   "cell_type": "code",
   "execution_count": 8,
   "id": "9c040449-926a-4afc-9584-f29443d14b69",
   "metadata": {
    "execution": {
     "iopub.execute_input": "2023-08-14T21:23:22.744214Z",
     "iopub.status.busy": "2023-08-14T21:23:22.743479Z",
     "iopub.status.idle": "2023-08-14T21:23:23.498730Z",
     "shell.execute_reply": "2023-08-14T21:23:23.497935Z",
     "shell.execute_reply.started": "2023-08-14T21:23:22.744193Z"
    },
    "tags": []
   },
   "outputs": [],
   "source": [
    "_dir = '/home/qzeng_salk_edu/project/230712_m3c-mc-integration/'\n",
    "mc_annot = pd.read_csv(f'{_dir}/mC_META_230814.csv', index_col = 0 )\n",
    "m3c_annot = pd.read_csv(f'{_dir}/m3C_META_230814.csv', index_col = 0 )"
   ]
  },
  {
   "cell_type": "code",
   "execution_count": 11,
   "id": "edae403f-f74e-48bf-a780-cd192a66ddcc",
   "metadata": {
    "execution": {
     "iopub.execute_input": "2023-08-14T21:23:50.176079Z",
     "iopub.status.busy": "2023-08-14T21:23:50.175805Z",
     "iopub.status.idle": "2023-08-14T21:23:50.180398Z",
     "shell.execute_reply": "2023-08-14T21:23:50.179800Z",
     "shell.execute_reply.started": "2023-08-14T21:23:50.176059Z"
    },
    "tags": []
   },
   "outputs": [],
   "source": [
    "mc_annot['new_celltypes_0808'] = mc_annot['new_celltypes_0808']"
   ]
  },
  {
   "cell_type": "code",
   "execution_count": 12,
   "id": "22a1a98e-bc0b-4335-a423-d931081bf09e",
   "metadata": {
    "execution": {
     "iopub.execute_input": "2023-08-14T21:23:58.759770Z",
     "iopub.status.busy": "2023-08-14T21:23:58.758938Z",
     "iopub.status.idle": "2023-08-14T21:23:58.763295Z",
     "shell.execute_reply": "2023-08-14T21:23:58.762722Z",
     "shell.execute_reply.started": "2023-08-14T21:23:58.759748Z"
    },
    "tags": []
   },
   "outputs": [],
   "source": [
    "import numpy as np\n",
    "m3c_annot['new_celltypes_0808'] = np.nan"
   ]
  },
  {
   "cell_type": "code",
   "execution_count": 13,
   "id": "6da6193a",
   "metadata": {
    "ExecuteTime": {
     "end_time": "2022-06-28T03:46:38.088971Z",
     "start_time": "2022-06-28T03:46:32.677992Z"
    },
    "execution": {
     "iopub.execute_input": "2023-08-14T21:24:00.189625Z",
     "iopub.status.busy": "2023-08-14T21:24:00.189420Z",
     "iopub.status.idle": "2023-08-14T21:24:00.227955Z",
     "shell.execute_reply": "2023-08-14T21:24:00.227150Z",
     "shell.execute_reply.started": "2023-08-14T21:24:00.189609Z"
    },
    "papermill": {
     "duration": 11.744892,
     "end_time": "2022-10-23T02:58:20.788500",
     "exception": false,
     "start_time": "2022-10-23T02:58:09.043608",
     "status": "completed"
    },
    "tags": []
   },
   "outputs": [],
   "source": [
    "# order doesn't matter, index will be matched\n",
    "for key in categorical_key:\n",
    "    adata_merge.obs[key] = pd.concat(\n",
    "        [mc_annot[key], m3c_annot[key]]).astype(str)"
   ]
  },
  {
   "cell_type": "code",
   "execution_count": 14,
   "id": "de7fa0fd",
   "metadata": {
    "ExecuteTime": {
     "end_time": "2022-06-28T03:46:40.487914Z",
     "start_time": "2022-06-28T03:46:40.482217Z"
    },
    "execution": {
     "iopub.execute_input": "2023-08-14T21:24:01.899839Z",
     "iopub.status.busy": "2023-08-14T21:24:01.899508Z",
     "iopub.status.idle": "2023-08-14T21:24:01.905349Z",
     "shell.execute_reply": "2023-08-14T21:24:01.904387Z",
     "shell.execute_reply.started": "2023-08-14T21:24:01.899815Z"
    },
    "papermill": {
     "duration": 0.027264,
     "end_time": "2022-10-23T02:58:20.830300",
     "exception": false,
     "start_time": "2022-10-23T02:58:20.803036",
     "status": "completed"
    },
    "tags": []
   },
   "outputs": [
    {
     "data": {
      "text/plain": [
       "[AnnData object with n_obs × n_vars = 12501 × 1328\n",
       "     obs: 'Modality'\n",
       "     var: 'chrom', 'cef', 'end-m3C', 'start-m3C', 'bin_start-mC', 'bin_end-mC'\n",
       "     obsm: 'X_pca',\n",
       " AnnData object with n_obs × n_vars = 5543 × 1328\n",
       "     obs: 'Modality'\n",
       "     var: 'chrom', 'cef', 'end-m3C', 'start-m3C', 'bin_start-mC', 'bin_end-mC'\n",
       "     obsm: 'X_pca']"
      ]
     },
     "execution_count": 14,
     "metadata": {},
     "output_type": "execute_result"
    }
   ],
   "source": [
    "adata_list"
   ]
  },
  {
   "cell_type": "code",
   "execution_count": 17,
   "id": "bb980f27-995d-42ab-9be2-44e470185ac7",
   "metadata": {
    "execution": {
     "iopub.execute_input": "2023-08-14T21:24:20.153333Z",
     "iopub.status.busy": "2023-08-14T21:24:20.152949Z",
     "iopub.status.idle": "2023-08-14T21:24:20.158279Z",
     "shell.execute_reply": "2023-08-14T21:24:20.157821Z",
     "shell.execute_reply.started": "2023-08-14T21:24:20.153305Z"
    },
    "papermill": {
     "duration": 0.020489,
     "end_time": "2022-10-23T02:58:20.891792",
     "exception": false,
     "start_time": "2022-10-23T02:58:20.871303",
     "status": "completed"
    },
    "tags": []
   },
   "outputs": [
    {
     "data": {
      "text/plain": [
       "10"
      ]
     },
     "execution_count": 17,
     "metadata": {},
     "output_type": "execute_result"
    }
   ],
   "source": [
    "n_pc = adata_list[0].obsm[\"X_pca\"].shape[1]\n",
    "if n_pc < 10:\n",
    "    n_cca_components = n_pc\n",
    "else:\n",
    "    n_cca_components = max(n_pc - 10, 10)\n",
    "\n",
    "n_cca_components"
   ]
  },
  {
   "cell_type": "code",
   "execution_count": 18,
   "id": "090b8f87-f19a-4cb6-952e-bd1f5d928beb",
   "metadata": {
    "execution": {
     "iopub.execute_input": "2023-08-14T21:24:20.405940Z",
     "iopub.status.busy": "2023-08-14T21:24:20.405744Z",
     "iopub.status.idle": "2023-08-14T21:24:20.410033Z",
     "shell.execute_reply": "2023-08-14T21:24:20.409547Z",
     "shell.execute_reply.started": "2023-08-14T21:24:20.405924Z"
    },
    "papermill": {
     "duration": 0.036265,
     "end_time": "2022-10-23T02:58:20.940029",
     "exception": false,
     "start_time": "2022-10-23T02:58:20.903764",
     "status": "completed"
    },
    "tags": []
   },
   "outputs": [],
   "source": [
    "min_sample = adata_merge.obs[\"Modality\"].value_counts().min()"
   ]
  },
  {
   "cell_type": "markdown",
   "id": "fe3a3a9d",
   "metadata": {
    "papermill": {
     "duration": 0.010481,
     "end_time": "2022-10-23T02:58:20.962261",
     "exception": false,
     "start_time": "2022-10-23T02:58:20.951780",
     "status": "completed"
    },
    "tags": []
   },
   "source": [
    "## Integration and transform"
   ]
  },
  {
   "cell_type": "code",
   "execution_count": 19,
   "id": "ebdcaeac",
   "metadata": {
    "ExecuteTime": {
     "end_time": "2022-06-26T06:08:13.548054Z",
     "start_time": "2022-06-26T06:08:13.546257Z"
    },
    "execution": {
     "iopub.execute_input": "2023-08-14T21:24:21.793604Z",
     "iopub.status.busy": "2023-08-14T21:24:21.793368Z",
     "iopub.status.idle": "2023-08-14T21:24:21.797052Z",
     "shell.execute_reply": "2023-08-14T21:24:21.796381Z",
     "shell.execute_reply.started": "2023-08-14T21:24:21.793586Z"
    },
    "papermill": {
     "duration": 0.019314,
     "end_time": "2022-10-23T02:58:20.991286",
     "exception": false,
     "start_time": "2022-10-23T02:58:20.971972",
     "status": "completed"
    },
    "tags": []
   },
   "outputs": [],
   "source": [
    "integrator = SeuratIntegration()"
   ]
  },
  {
   "cell_type": "code",
   "execution_count": 20,
   "id": "8a45a35b",
   "metadata": {
    "ExecuteTime": {
     "end_time": "2022-06-26T06:08:45.314671Z",
     "start_time": "2022-06-26T06:08:13.549744Z"
    },
    "execution": {
     "iopub.execute_input": "2023-08-14T21:24:22.026143Z",
     "iopub.status.busy": "2023-08-14T21:24:22.025881Z",
     "iopub.status.idle": "2023-08-14T21:26:53.873250Z",
     "shell.execute_reply": "2023-08-14T21:26:53.872590Z",
     "shell.execute_reply.started": "2023-08-14T21:24:22.026120Z"
    },
    "papermill": {
     "duration": 1686.696896,
     "end_time": "2022-10-23T03:26:27.698557",
     "exception": false,
     "start_time": "2022-10-23T02:58:21.001661",
     "status": "completed"
    },
    "tags": []
   },
   "outputs": [
    {
     "name": "stdout",
     "output_type": "stream",
     "text": [
      "Find anchors across datasets.\n",
      "Run CCA\n",
      "non zero dims 10\n",
      "Find Anchors using k=30\n",
      "Anchor selected with high CC feature graph: 12630 / 19169\n",
      "Score Anchors\n",
      "Identified 12630 anchors between datasets 0 and 1.\n"
     ]
    }
   ],
   "source": [
    "# take ~2.5-3h for 300K mC + 4M 10X RNA\n",
    "anchor = integrator.find_anchor(\n",
    "    adata_list,\n",
    "    k_local=None,\n",
    "    key_local=\"X_pca\",\n",
    "    k_anchor=5,\n",
    "    key_anchor=\"X\",\n",
    "    dim_red=\"cca\",\n",
    "    max_cc_cells=100000,\n",
    "    k_score=30,\n",
    "    k_filter=min(200, min_sample),\n",
    "    scale1=True,\n",
    "    scale2=True,\n",
    "    n_components=n_cca_components,\n",
    "    n_features=200,\n",
    "    alignments=[[[0], [1]]],\n",
    ")"
   ]
  },
  {
   "cell_type": "code",
   "execution_count": 21,
   "id": "9f56e4e0",
   "metadata": {
    "ExecuteTime": {
     "end_time": "2022-06-26T06:08:53.260292Z",
     "start_time": "2022-06-26T06:08:45.316850Z"
    },
    "execution": {
     "iopub.execute_input": "2023-08-14T21:26:53.891105Z",
     "iopub.status.busy": "2023-08-14T21:26:53.890953Z",
     "iopub.status.idle": "2023-08-14T21:27:02.886254Z",
     "shell.execute_reply": "2023-08-14T21:27:02.884924Z",
     "shell.execute_reply.started": "2023-08-14T21:26:53.891090Z"
    },
    "papermill": {
     "duration": 307.466202,
     "end_time": "2022-10-23T03:31:35.176578",
     "exception": false,
     "start_time": "2022-10-23T03:26:27.710376",
     "status": "completed"
    },
    "tags": []
   },
   "outputs": [
    {
     "name": "stdout",
     "output_type": "stream",
     "text": [
      "Merge datasets\n",
      "[[0], [1]]\n",
      "Initialize\n",
      "Find nearest anchors. k_weight:  100\n",
      "Normalize graph\n",
      "Transform data\n"
     ]
    }
   ],
   "source": [
    "corrected = integrator.integrate(\n",
    "    key_correct=\"X_pca\",\n",
    "    row_normalize=True,\n",
    "    k_weight=100,\n",
    "    sd=1,\n",
    "    alignments=[[[0], [1]]],\n",
    ")\n",
    "\n",
    "adata_merge.obsm[\"X_pca_integrate\"] = np.concatenate(corrected)"
   ]
  },
  {
   "cell_type": "markdown",
   "id": "1b0ab55c",
   "metadata": {
    "papermill": {
     "duration": 0.009715,
     "end_time": "2022-10-23T03:31:35.196911",
     "exception": false,
     "start_time": "2022-10-23T03:31:35.187196",
     "status": "completed"
    },
    "tags": []
   },
   "source": [
    "## Label transfer"
   ]
  },
  {
   "cell_type": "code",
   "execution_count": 18,
   "id": "7eb06547",
   "metadata": {
    "ExecuteTime": {
     "end_time": "2022-06-26T06:09:06.134216Z",
     "start_time": "2022-06-26T06:08:53.268361Z"
    },
    "execution": {
     "iopub.execute_input": "2023-08-14T17:57:55.994999Z",
     "iopub.status.busy": "2023-08-14T17:57:55.994743Z",
     "iopub.status.idle": "2023-08-14T17:57:55.998573Z",
     "shell.execute_reply": "2023-08-14T17:57:55.997829Z",
     "shell.execute_reply.started": "2023-08-14T17:57:55.994976Z"
    },
    "papermill": {
     "duration": 0.014917,
     "end_time": "2022-10-23T03:31:35.220738",
     "exception": false,
     "start_time": "2022-10-23T03:31:35.205821",
     "status": "completed"
    },
    "tags": []
   },
   "outputs": [],
   "source": [
    "# transfer_results = integrator.label_transfer(\n",
    "#     ref=[0],\n",
    "#     qry=[1],\n",
    "#     categorical_key=categorical_key,\n",
    "#     key_dist='X_pca'\n",
    "# )\n",
    "# for k, v in transfer_results.items():\n",
    "#     v.to_hdf(f'{k}_transfer.hdf', key='data')\n",
    "# integrator.save_transfer_results_to_adata(adata_merge, transfer_results)"
   ]
  },
  {
   "cell_type": "markdown",
   "id": "504cb48a",
   "metadata": {
    "papermill": {
     "duration": 0.009202,
     "end_time": "2022-10-23T03:31:35.239265",
     "exception": false,
     "start_time": "2022-10-23T03:31:35.230063",
     "status": "completed"
    },
    "tags": []
   },
   "source": [
    "## Save"
   ]
  },
  {
   "cell_type": "code",
   "execution_count": 22,
   "id": "74e9b2d6-054e-4f1e-ae32-01eff31737df",
   "metadata": {
    "execution": {
     "iopub.execute_input": "2023-08-14T21:27:02.888315Z",
     "iopub.status.busy": "2023-08-14T21:27:02.888081Z",
     "iopub.status.idle": "2023-08-14T21:27:02.940056Z",
     "shell.execute_reply": "2023-08-14T21:27:02.939068Z",
     "shell.execute_reply.started": "2023-08-14T21:27:02.888295Z"
    },
    "papermill": {
     "duration": 3.364146,
     "end_time": "2022-10-23T03:31:38.612565",
     "exception": false,
     "start_time": "2022-10-23T03:31:35.248419",
     "status": "completed"
    },
    "tags": []
   },
   "outputs": [],
   "source": [
    "adata_merge.write_h5ad(\"final.h5ad\")"
   ]
  },
  {
   "cell_type": "code",
   "execution_count": 23,
   "id": "8dee4091-aeaa-4a53-97db-d3dbda46a087",
   "metadata": {
    "execution": {
     "iopub.execute_input": "2023-08-14T21:27:02.941259Z",
     "iopub.status.busy": "2023-08-14T21:27:02.941054Z",
     "iopub.status.idle": "2023-08-14T21:27:02.947053Z",
     "shell.execute_reply": "2023-08-14T21:27:02.946155Z",
     "shell.execute_reply.started": "2023-08-14T21:27:02.941240Z"
    },
    "papermill": {
     "duration": 0.015768,
     "end_time": "2022-10-23T03:31:38.639172",
     "exception": false,
     "start_time": "2022-10-23T03:31:38.623404",
     "status": "completed"
    },
    "tags": []
   },
   "outputs": [
    {
     "data": {
      "text/plain": [
       "AnnData object with n_obs × n_vars = 18044 × 1328\n",
       "    obs: 'Modality', 'new_celltypes_0808'\n",
       "    var: 'chrom', 'cef', 'end-m3C', 'start-m3C', 'bin_start-mC', 'bin_end-mC'\n",
       "    obsm: 'X_pca_integrate'"
      ]
     },
     "execution_count": 23,
     "metadata": {},
     "output_type": "execute_result"
    }
   ],
   "source": [
    "adata_merge"
   ]
  },
  {
   "cell_type": "code",
   "execution_count": 26,
   "id": "900cde6e",
   "metadata": {
    "ExecuteTime": {
     "end_time": "2022-06-26T06:09:06.747764Z",
     "start_time": "2022-06-26T06:09:06.332437Z"
    },
    "execution": {
     "iopub.execute_input": "2023-08-14T21:27:03.144947Z",
     "iopub.status.busy": "2023-08-14T21:27:03.142400Z",
     "iopub.status.idle": "2023-08-14T21:27:03.148516Z",
     "shell.execute_reply": "2023-08-14T21:27:03.147721Z",
     "shell.execute_reply.started": "2023-08-14T21:27:03.144914Z"
    },
    "papermill": {
     "duration": 0.046059,
     "end_time": "2022-10-23T03:31:38.694463",
     "exception": false,
     "start_time": "2022-10-23T03:31:38.648404",
     "status": "completed"
    },
    "tags": []
   },
   "outputs": [],
   "source": [
    "#integrator.save(\"integration\")"
   ]
  },
  {
   "cell_type": "code",
   "execution_count": 27,
   "id": "a6b82e5c",
   "metadata": {
    "execution": {
     "iopub.execute_input": "2023-08-14T21:27:24.133051Z",
     "iopub.status.busy": "2023-08-14T21:27:24.132418Z",
     "iopub.status.idle": "2023-08-14T21:27:24.187316Z",
     "shell.execute_reply": "2023-08-14T21:27:24.186574Z",
     "shell.execute_reply.started": "2023-08-14T21:27:24.133030Z"
    },
    "papermill": {
     "duration": 2.625584,
     "end_time": "2022-10-23T03:31:41.329130",
     "exception": false,
     "start_time": "2022-10-23T03:31:38.703546",
     "status": "completed"
    },
    "tags": []
   },
   "outputs": [
    {
     "data": {
      "text/plain": [
       "CompletedProcess(args=['rm', '-f', 'mc_pca.h5ad', 'm3c_pca.h5ad'], returncode=0)"
      ]
     },
     "execution_count": 27,
     "metadata": {},
     "output_type": "execute_result"
    }
   ],
   "source": [
    "import subprocess\n",
    "subprocess.run(['rm', '-f', 'mc_pca.h5ad', 'm3c_pca.h5ad'])"
   ]
  },
  {
   "cell_type": "code",
   "execution_count": null,
   "id": "edcfb8b6",
   "metadata": {
    "papermill": {
     "duration": 0.008876,
     "end_time": "2022-10-23T03:31:41.348923",
     "exception": false,
     "start_time": "2022-10-23T03:31:41.340047",
     "status": "completed"
    },
    "tags": []
   },
   "outputs": [],
   "source": []
  },
  {
   "cell_type": "code",
   "execution_count": null,
   "id": "5bddc7f3-ad95-49bf-8c26-27c6ef534f41",
   "metadata": {
    "papermill": {
     "duration": 0.009089,
     "end_time": "2022-10-23T03:31:41.367217",
     "exception": false,
     "start_time": "2022-10-23T03:31:41.358128",
     "status": "completed"
    },
    "tags": []
   },
   "outputs": [],
   "source": []
  },
  {
   "cell_type": "code",
   "execution_count": null,
   "id": "98d99750-74c2-445d-bbf4-c92ac4507590",
   "metadata": {
    "papermill": {
     "duration": 0.010048,
     "end_time": "2022-10-23T03:31:41.386348",
     "exception": false,
     "start_time": "2022-10-23T03:31:41.376300",
     "status": "completed"
    },
    "tags": []
   },
   "outputs": [],
   "source": []
  },
  {
   "cell_type": "code",
   "execution_count": null,
   "id": "5942c0be-22e4-4894-91a8-f730fe9bec5d",
   "metadata": {
    "papermill": {
     "duration": 0.008617,
     "end_time": "2022-10-23T03:31:41.404854",
     "exception": false,
     "start_time": "2022-10-23T03:31:41.396237",
     "status": "completed"
    },
    "tags": []
   },
   "outputs": [],
   "source": []
  }
 ],
 "metadata": {
  "celltoolbar": "无",
  "hide_input": false,
  "kernelspec": {
   "display_name": "Python 3 (ipykernel)",
   "language": "python",
   "name": "python3"
  },
  "language_info": {
   "codemirror_mode": {
    "name": "ipython",
    "version": 3
   },
   "file_extension": ".py",
   "mimetype": "text/x-python",
   "name": "python",
   "nbconvert_exporter": "python",
   "pygments_lexer": "ipython3",
   "version": "3.7.12"
  },
  "papermill": {
   "default_parameters": {},
   "duration": 2117.175318,
   "end_time": "2022-10-23T03:31:43.039679",
   "environment_variables": {},
   "exception": null,
   "input_path": "/mnt/filestore/221022-cemba-mc-cemba-m3c-integration/template/04.integration.ipynb",
   "output_path": "/mnt/filestore/221022-cemba-mc-cemba-m3c-integration/Round0/ALL/04.integration.ipynb",
   "parameters": {
    "categorical_key": [
     "L2",
     "DissectionRegion"
    ],
    "cpu": 3,
    "group_name": "ALL",
    "mem_gb": 1,
    "ref_dataset": "mc"
   },
   "start_time": "2022-10-23T02:56:25.864361",
   "version": "2.3.3"
  },
  "toc": {
   "base_numbering": 1,
   "nav_menu": {},
   "number_sections": true,
   "sideBar": true,
   "skip_h1_title": true,
   "title_cell": "Table of Contents",
   "title_sidebar": "Contents",
   "toc_cell": false,
   "toc_position": {},
   "toc_section_display": true,
   "toc_window_display": true
  }
 },
 "nbformat": 4,
 "nbformat_minor": 5
}
