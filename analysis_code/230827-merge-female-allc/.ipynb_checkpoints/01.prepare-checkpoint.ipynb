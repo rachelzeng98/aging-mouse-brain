{
 "cells": [
  {
   "cell_type": "code",
   "execution_count": 1,
   "id": "34017c26-dfc2-4d79-a45a-6d505a4eb669",
   "metadata": {
    "execution": {
     "iopub.execute_input": "2023-09-01T06:50:55.259799Z",
     "iopub.status.busy": "2023-09-01T06:50:55.259604Z",
     "iopub.status.idle": "2023-09-01T06:51:01.992841Z",
     "shell.execute_reply": "2023-09-01T06:51:01.992193Z",
     "shell.execute_reply.started": "2023-09-01T06:50:55.259778Z"
    },
    "tags": []
   },
   "outputs": [],
   "source": [
    "import pandas as pd\n",
    "#from wmb import cemba\n",
    "from gliderport.preset.snakemake import prepare_snakemake\n",
    "import json\n",
    "import joblib"
   ]
  },
  {
   "cell_type": "markdown",
   "id": "133c0476-3375-4cc9-a6df-3a5a01817a02",
   "metadata": {},
   "source": [
    "## check unfinished "
   ]
  },
  {
   "cell_type": "code",
   "execution_count": 2,
   "id": "83a752b8-055d-44dc-89cf-b8e0fc94c1d4",
   "metadata": {
    "execution": {
     "iopub.execute_input": "2023-09-01T06:51:08.149598Z",
     "iopub.status.busy": "2023-09-01T06:51:08.149222Z",
     "iopub.status.idle": "2023-09-01T06:51:08.156049Z",
     "shell.execute_reply": "2023-09-01T06:51:08.155562Z",
     "shell.execute_reply.started": "2023-09-01T06:51:08.149572Z"
    },
    "tags": []
   },
   "outputs": [
    {
     "data": {
      "text/plain": [
       "8"
      ]
     },
     "execution_count": 2,
     "metadata": {},
     "output_type": "execute_result"
    }
   ],
   "source": [
    "groups = ['group0', 'group1', 'group2', 'group3', 'group4', 'group5', 'group6', 'group7']\n",
    "len(groups)"
   ]
  },
  {
   "cell_type": "code",
   "execution_count": 3,
   "id": "f2a9b6f8-c07d-495b-8b91-71b341602e7d",
   "metadata": {
    "execution": {
     "iopub.execute_input": "2023-09-01T06:52:04.886181Z",
     "iopub.status.busy": "2023-09-01T06:52:04.885652Z",
     "iopub.status.idle": "2023-09-01T06:52:05.402850Z",
     "shell.execute_reply": "2023-09-01T06:52:05.401981Z",
     "shell.execute_reply.started": "2023-09-01T06:52:04.886149Z"
    },
    "tags": []
   },
   "outputs": [],
   "source": [
    "#\n",
    "prepare_snakemake(\n",
    "    job_dir='merge-female-allc',\n",
    "    template_dir='template/',\n",
    "    groups=groups,\n",
    "    output_bucket='ecker-rachel-amb-datasets',\n",
    "    output_prefix='female-amb/merge-allc/glider_merge_allc',\n",
    "    sky_template='sky-jupyter.yaml',\n",
    "    total_jobs=None,\n",
    "    total_mem_gb=None,\n",
    "    default_cpu=32,\n",
    "    default_mem_gb=10,\n",
    "    batches= 5000  ##how many vm to open\n",
    ")"
   ]
  },
  {
   "cell_type": "code",
   "execution_count": null,
   "id": "a586bcfd-718c-44c7-ae41-381b8af20392",
   "metadata": {},
   "outputs": [],
   "source": [
    "glider port --local_job_dir merge-female-allc --n_worker 8 --use_hash 230831-f-merge"
   ]
  },
  {
   "cell_type": "code",
   "execution_count": null,
   "id": "94bdcd62-4b50-4ddd-95bb-755767ad7d28",
   "metadata": {},
   "outputs": [],
   "source": []
  },
  {
   "cell_type": "code",
   "execution_count": null,
   "id": "65b0e585-1868-4a30-acfd-f2df74fef68c",
   "metadata": {},
   "outputs": [],
   "source": []
  },
  {
   "cell_type": "code",
   "execution_count": null,
   "id": "e71bede8-8e7b-4894-af53-d0488958ac07",
   "metadata": {},
   "outputs": [],
   "source": []
  },
  {
   "cell_type": "code",
   "execution_count": null,
   "id": "f7fc35c8-6211-466f-9a0f-507ebd950bbb",
   "metadata": {},
   "outputs": [],
   "source": []
  }
 ],
 "metadata": {
  "kernelspec": {
   "display_name": "Python 3 (ipykernel)",
   "language": "python",
   "name": "python3"
  },
  "language_info": {
   "codemirror_mode": {
    "name": "ipython",
    "version": 3
   },
   "file_extension": ".py",
   "mimetype": "text/x-python",
   "name": "python",
   "nbconvert_exporter": "python",
   "pygments_lexer": "ipython3",
   "version": "3.7.12"
  }
 },
 "nbformat": 4,
 "nbformat_minor": 5
}
