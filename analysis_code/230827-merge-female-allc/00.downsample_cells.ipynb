{
 "cells": [
  {
   "cell_type": "code",
   "execution_count": 2,
   "id": "02670d68-ca12-4f4b-9fb0-26d7769bb261",
   "metadata": {
    "execution": {
     "iopub.execute_input": "2023-09-01T06:37:26.781607Z",
     "iopub.status.busy": "2023-09-01T06:37:26.781353Z",
     "iopub.status.idle": "2023-09-01T06:37:27.080749Z",
     "shell.execute_reply": "2023-09-01T06:37:27.080234Z",
     "shell.execute_reply.started": "2023-09-01T06:37:26.781585Z"
    },
    "tags": []
   },
   "outputs": [],
   "source": [
    "import pandas as pd\n",
    "from collections import defaultdict\n",
    "import random\n",
    "import glob"
   ]
  },
  {
   "cell_type": "code",
   "execution_count": 3,
   "id": "ff4cbecf-83d1-47eb-ab15-c5fa2496dce5",
   "metadata": {
    "execution": {
     "iopub.execute_input": "2023-09-01T06:37:27.082000Z",
     "iopub.status.busy": "2023-09-01T06:37:27.081635Z",
     "iopub.status.idle": "2023-09-01T06:37:27.209671Z",
     "shell.execute_reply": "2023-09-01T06:37:27.208994Z",
     "shell.execute_reply.started": "2023-09-01T06:37:27.081977Z"
    },
    "tags": []
   },
   "outputs": [],
   "source": [
    "allc_table = pd.read_csv('FULL.ALLC-TABLE.tsv', sep = '\\t', header = None)"
   ]
  },
  {
   "cell_type": "markdown",
   "id": "2a7a7671-75b1-4509-9a33-60d7423dde3d",
   "metadata": {},
   "source": [
    "## select use_sample by cell number\n",
    "## by three ages has it"
   ]
  },
  {
   "cell_type": "code",
   "execution_count": 4,
   "id": "e13795c4-f20b-4259-ac6c-64f8a10ae95d",
   "metadata": {
    "execution": {
     "iopub.execute_input": "2023-09-01T06:37:27.883513Z",
     "iopub.status.busy": "2023-09-01T06:37:27.882814Z",
     "iopub.status.idle": "2023-09-01T06:37:27.894577Z",
     "shell.execute_reply": "2023-09-01T06:37:27.894073Z",
     "shell.execute_reply.started": "2023-09-01T06:37:27.883454Z"
    },
    "tags": []
   },
   "outputs": [],
   "source": [
    "sample_cell_numder = allc_table[1].value_counts()\n",
    "min_cells = 50\n",
    "sample_cell_numder = sample_cell_numder[sample_cell_numder>min_cells]\n",
    "\n",
    "all_samlpes = sample_cell_numder.index.tolist()\n",
    "df = pd.DataFrame({'sample':all_samlpes})\n",
    "df['celltype'] = df['sample'].apply(lambda x:x.split('.')[0])\n",
    "celltypes_counts  = df['celltype'].value_counts()\n",
    "use_celltypes = celltypes_counts[celltypes_counts == 3].index.tolist()\n",
    "use_celltypes.remove('L5-IT-CTX-Glut')\n",
    "use_celltypes.remove('MB-MY-Glut-Sero')"
   ]
  },
  {
   "cell_type": "code",
   "execution_count": 6,
   "id": "3c664768-39a4-44f0-83f3-0db8e751d9bd",
   "metadata": {
    "execution": {
     "iopub.execute_input": "2023-09-01T06:37:35.051765Z",
     "iopub.status.busy": "2023-09-01T06:37:35.051304Z",
     "iopub.status.idle": "2023-09-01T06:37:35.058886Z",
     "shell.execute_reply": "2023-09-01T06:37:35.058461Z",
     "shell.execute_reply.started": "2023-09-01T06:37:35.051741Z"
    },
    "tags": []
   },
   "outputs": [
    {
     "data": {
      "text/plain": [
       "120"
      ]
     },
     "execution_count": 6,
     "metadata": {},
     "output_type": "execute_result"
    }
   ],
   "source": [
    "use_samples = df[df['celltype'].isin(use_celltypes)]['sample'].to_list()\n",
    "len(use_samples)"
   ]
  },
  {
   "cell_type": "code",
   "execution_count": 8,
   "id": "a3ab0eb3-67aa-4e49-b0c9-a925b926e053",
   "metadata": {
    "execution": {
     "iopub.execute_input": "2023-09-01T06:37:50.389429Z",
     "iopub.status.busy": "2023-09-01T06:37:50.388890Z",
     "iopub.status.idle": "2023-09-01T06:37:50.399051Z",
     "shell.execute_reply": "2023-09-01T06:37:50.398619Z",
     "shell.execute_reply.started": "2023-09-01T06:37:50.389405Z"
    },
    "tags": []
   },
   "outputs": [
    {
     "data": {
      "text/plain": [
       "111"
      ]
     },
     "execution_count": 8,
     "metadata": {},
     "output_type": "execute_result"
    }
   ],
   "source": [
    "allc_paths_dir = '/ceph/gale-1/qzeng/amb_datasets'\n",
    "kind = 'CellType.Age'\n",
    "ready_samples = []\n",
    "for path in glob.glob(f'{allc_paths_dir}/{kind}/*/*.CGN-Merge.allc.tsv.gz'):\n",
    "    sample = path.split('/')[-2]\n",
    "    ready_samples.append(sample)\n",
    "len(ready_samples)"
   ]
  },
  {
   "cell_type": "code",
   "execution_count": 25,
   "id": "e98dbf67-999e-4ca8-b874-5d86dbaf2dcd",
   "metadata": {
    "execution": {
     "iopub.execute_input": "2023-09-01T06:44:00.135333Z",
     "iopub.status.busy": "2023-09-01T06:44:00.134817Z",
     "iopub.status.idle": "2023-09-01T06:44:00.138598Z",
     "shell.execute_reply": "2023-09-01T06:44:00.138119Z",
     "shell.execute_reply.started": "2023-09-01T06:44:00.135309Z"
    },
    "tags": []
   },
   "outputs": [],
   "source": [
    "remerge_samples = []\n",
    "for sample in use_samples:\n",
    "    if sample not in ready_samples:\n",
    "        remerge_samples.append(sample)"
   ]
  },
  {
   "cell_type": "code",
   "execution_count": 38,
   "id": "3eec7729-94db-465e-a284-1430ab129082",
   "metadata": {
    "execution": {
     "iopub.execute_input": "2023-09-01T17:41:52.526431Z",
     "iopub.status.busy": "2023-09-01T17:41:52.526089Z",
     "iopub.status.idle": "2023-09-01T17:41:52.530555Z",
     "shell.execute_reply": "2023-09-01T17:41:52.530127Z",
     "shell.execute_reply.started": "2023-09-01T17:41:52.526408Z"
    },
    "tags": []
   },
   "outputs": [
    {
     "data": {
      "text/plain": [
       "['Astro-NN.8wk',\n",
       " 'STR-D1-Gaba.18mo',\n",
       " 'DG-Glut.9mo',\n",
       " 'Microglia-NN.8wk',\n",
       " 'STR-D2-Gaba.9mo',\n",
       " 'L6-CT-CTX-Glut.8wk',\n",
       " 'OPC-NN.8wk',\n",
       " 'L23-IT-CTX-Glut.8wk',\n",
       " 'STR-PAL-Chst9-Gaba.9mo',\n",
       " 'L6-CT-CTX-Glut.9mo',\n",
       " 'OPC-NN.18mo',\n",
       " 'CA1-ProS-Glut.18mo',\n",
       " 'MEA-Gaba.8wk',\n",
       " 'Sst-Gaba.8wk',\n",
       " 'CEA-Gaba.18mo',\n",
       " 'Pvalb-Gaba.9mo',\n",
       " 'Sst-Gaba.18mo',\n",
       " 'PAG-Glut.9mo',\n",
       " 'LA-BLA-BMA-PA-Glut.18mo',\n",
       " 'LA-BLA-BMA-PA-Glut.9mo',\n",
       " 'Lamp5-Gaba.9mo',\n",
       " 'MEA-COAp-Glut.8wk',\n",
       " 'Endo-NN.18mo',\n",
       " 'SUB-ProS-Glut.18mo']"
      ]
     },
     "execution_count": 38,
     "metadata": {},
     "output_type": "execute_result"
    }
   ],
   "source": [
    "remerge_samples"
   ]
  },
  {
   "cell_type": "markdown",
   "id": "013facc8-94b9-449d-befd-6387b4c308b8",
   "metadata": {
    "execution": {
     "iopub.execute_input": "2023-08-30T18:39:21.562493Z",
     "iopub.status.busy": "2023-08-30T18:39:21.562189Z",
     "iopub.status.idle": "2023-08-30T18:39:21.565106Z",
     "shell.execute_reply": "2023-08-30T18:39:21.564650Z",
     "shell.execute_reply.started": "2023-08-30T18:39:21.562471Z"
    },
    "tags": []
   },
   "source": [
    "## donwsample"
   ]
  },
  {
   "cell_type": "code",
   "execution_count": 27,
   "id": "28c7554e-c222-4fa8-ac63-0b311343c6bb",
   "metadata": {
    "execution": {
     "iopub.execute_input": "2023-09-01T06:44:27.855796Z",
     "iopub.status.busy": "2023-09-01T06:44:27.855282Z",
     "iopub.status.idle": "2023-09-01T06:44:27.869962Z",
     "shell.execute_reply": "2023-09-01T06:44:27.869482Z",
     "shell.execute_reply.started": "2023-09-01T06:44:27.855773Z"
    },
    "tags": []
   },
   "outputs": [],
   "source": [
    "allc_table = allc_table[allc_table[1].isin(remerge_samples)]\n",
    "allc_table.columns= ['allc_paths','samples']\n",
    "category_counts = allc_table['samples'].value_counts()\n",
    "categories_to_downsample = category_counts[category_counts > 1000].index"
   ]
  },
  {
   "cell_type": "code",
   "execution_count": 28,
   "id": "c9ce6b5d-cbda-4d7e-b990-f796e04c665b",
   "metadata": {
    "execution": {
     "iopub.execute_input": "2023-09-01T06:44:29.406368Z",
     "iopub.status.busy": "2023-09-01T06:44:29.406045Z",
     "iopub.status.idle": "2023-09-01T06:44:29.429607Z",
     "shell.execute_reply": "2023-09-01T06:44:29.428816Z",
     "shell.execute_reply.started": "2023-09-01T06:44:29.406345Z"
    },
    "tags": []
   },
   "outputs": [],
   "source": [
    "downsampled_rows = []\n",
    "\n",
    "for category in categories_to_downsample:\n",
    "    category_rows = allc_table[allc_table['samples'] == category]\n",
    "    sampled_rows = category_rows.sample(n=1000, random_state=42)  \n",
    "    downsampled_rows.append(sampled_rows)\n",
    "\n",
    "downsampled_df = pd.concat(downsampled_rows)"
   ]
  },
  {
   "cell_type": "code",
   "execution_count": 29,
   "id": "1c9f4646-f636-4553-a6ad-08ce622c423f",
   "metadata": {
    "execution": {
     "iopub.execute_input": "2023-09-01T06:44:30.485591Z",
     "iopub.status.busy": "2023-09-01T06:44:30.485234Z",
     "iopub.status.idle": "2023-09-01T06:44:30.490203Z",
     "shell.execute_reply": "2023-09-01T06:44:30.489726Z",
     "shell.execute_reply.started": "2023-09-01T06:44:30.485569Z"
    },
    "tags": []
   },
   "outputs": [],
   "source": [
    "un_downsampled_df = allc_table[~allc_table['samples'].isin(categories_to_downsample)]"
   ]
  },
  {
   "cell_type": "code",
   "execution_count": 30,
   "id": "4945c048-624b-48c8-aa6b-c988b32cecd2",
   "metadata": {
    "execution": {
     "iopub.execute_input": "2023-09-01T06:44:31.833545Z",
     "iopub.status.busy": "2023-09-01T06:44:31.833256Z",
     "iopub.status.idle": "2023-09-01T06:44:31.837696Z",
     "shell.execute_reply": "2023-09-01T06:44:31.837243Z",
     "shell.execute_reply.started": "2023-09-01T06:44:31.833524Z"
    },
    "tags": []
   },
   "outputs": [],
   "source": [
    "use_allc_table = pd.concat([un_downsampled_df, downsampled_df])"
   ]
  },
  {
   "cell_type": "code",
   "execution_count": 31,
   "id": "25296dfe-0b51-43de-be0f-a0c201b96c34",
   "metadata": {
    "execution": {
     "iopub.execute_input": "2023-09-01T06:44:32.184975Z",
     "iopub.status.busy": "2023-09-01T06:44:32.184586Z",
     "iopub.status.idle": "2023-09-01T06:44:32.188841Z",
     "shell.execute_reply": "2023-09-01T06:44:32.188420Z",
     "shell.execute_reply.started": "2023-09-01T06:44:32.184955Z"
    },
    "tags": []
   },
   "outputs": [],
   "source": [
    "check_sample_counts = use_allc_table['samples'].value_counts().sort_values(ascending=False) "
   ]
  },
  {
   "cell_type": "code",
   "execution_count": 32,
   "id": "f7f3edad-7bec-4191-8a79-3e16e12d5e1b",
   "metadata": {
    "execution": {
     "iopub.execute_input": "2023-09-01T06:44:35.795774Z",
     "iopub.status.busy": "2023-09-01T06:44:35.795335Z",
     "iopub.status.idle": "2023-09-01T06:44:35.798508Z",
     "shell.execute_reply": "2023-09-01T06:44:35.798049Z",
     "shell.execute_reply.started": "2023-09-01T06:44:35.795752Z"
    },
    "tags": []
   },
   "outputs": [],
   "source": [
    "all_samles = check_sample_counts.index.tolist()"
   ]
  },
  {
   "cell_type": "code",
   "execution_count": 33,
   "id": "873fefbb-c1d6-4b76-ab19-b1ef1548c5dc",
   "metadata": {
    "execution": {
     "iopub.execute_input": "2023-09-01T06:44:43.978003Z",
     "iopub.status.busy": "2023-09-01T06:44:43.977650Z",
     "iopub.status.idle": "2023-09-01T06:44:44.037111Z",
     "shell.execute_reply": "2023-09-01T06:44:44.036643Z",
     "shell.execute_reply.started": "2023-09-01T06:44:43.977978Z"
    },
    "tags": []
   },
   "outputs": [],
   "source": [
    "random.shuffle(all_samles)\n",
    "group_size = 3\n",
    "\n",
    "group_num = {}\n",
    "\n",
    "for i in range(0, len(all_samles), group_size):\n",
    "    group_name = f'group{i//3}'\n",
    "    group = all_samles[i:i+group_size]\n",
    "    group_num[group_name] = check_sample_counts.loc[group].sum()\n",
    "    tmpdf=use_allc_table[use_allc_table['samples'].isin(group)]\n",
    "    tmpdf.to_csv(f'ALLC_TABLE/{group_name}.tsv', sep = '\\t', header = None, index = None)\n",
    "    "
   ]
  },
  {
   "cell_type": "code",
   "execution_count": 34,
   "id": "09a7cd1c-b51d-4051-ab50-ff3c1e53eeaa",
   "metadata": {
    "execution": {
     "iopub.execute_input": "2023-09-01T06:44:45.068132Z",
     "iopub.status.busy": "2023-09-01T06:44:45.067739Z",
     "iopub.status.idle": "2023-09-01T06:44:45.071698Z",
     "shell.execute_reply": "2023-09-01T06:44:45.071281Z",
     "shell.execute_reply.started": "2023-09-01T06:44:45.068110Z"
    },
    "tags": []
   },
   "outputs": [
    {
     "data": {
      "text/plain": [
       "dict_keys(['group0', 'group1', 'group2', 'group3', 'group4', 'group5', 'group6', 'group7'])"
      ]
     },
     "execution_count": 34,
     "metadata": {},
     "output_type": "execute_result"
    }
   ],
   "source": [
    "group_num.keys()"
   ]
  },
  {
   "cell_type": "code",
   "execution_count": 35,
   "id": "b926efab-d3f3-4efb-b2e8-914c1fb22a32",
   "metadata": {
    "execution": {
     "iopub.execute_input": "2023-09-01T06:44:45.744270Z",
     "iopub.status.busy": "2023-09-01T06:44:45.743983Z",
     "iopub.status.idle": "2023-09-01T06:44:45.748278Z",
     "shell.execute_reply": "2023-09-01T06:44:45.747876Z",
     "shell.execute_reply.started": "2023-09-01T06:44:45.744249Z"
    },
    "tags": []
   },
   "outputs": [
    {
     "data": {
      "text/plain": [
       "{'group0': 2044,\n",
       " 'group1': 1984,\n",
       " 'group2': 1042,\n",
       " 'group3': 1169,\n",
       " 'group4': 954,\n",
       " 'group5': 1613,\n",
       " 'group6': 2243,\n",
       " 'group7': 1748}"
      ]
     },
     "execution_count": 35,
     "metadata": {},
     "output_type": "execute_result"
    }
   ],
   "source": [
    "group_num"
   ]
  },
  {
   "cell_type": "code",
   "execution_count": 37,
   "id": "9fa30eb8-21fc-459c-9bad-6b4611fcb79e",
   "metadata": {
    "execution": {
     "iopub.execute_input": "2023-09-01T06:50:33.236967Z",
     "iopub.status.busy": "2023-09-01T06:50:33.236618Z",
     "iopub.status.idle": "2023-09-01T06:50:35.359014Z",
     "shell.execute_reply": "2023-09-01T06:50:35.358334Z",
     "shell.execute_reply.started": "2023-09-01T06:50:33.236945Z"
    }
   },
   "outputs": [
    {
     "name": "stdout",
     "output_type": "stream",
     "text": [
      "Copying file://ALLC_TABLE/group0.tsv [Content-Type=text/tab-separated-values]...\n",
      "Copying file://ALLC_TABLE/group1.tsv [Content-Type=text/tab-separated-values]...\n",
      "Copying file://ALLC_TABLE/group2.tsv [Content-Type=text/tab-separated-values]...\n",
      "Copying file://ALLC_TABLE/group3.tsv [Content-Type=text/tab-separated-values]...\n",
      "Copying file://ALLC_TABLE/group4.tsv [Content-Type=text/tab-separated-values]...\n",
      "Copying file://ALLC_TABLE/group5.tsv [Content-Type=text/tab-separated-values]...\n",
      "Copying file://ALLC_TABLE/group6.tsv [Content-Type=text/tab-separated-values]...\n",
      "Copying file://ALLC_TABLE/group7.tsv [Content-Type=text/tab-separated-values]...\n",
      "/ [8/8 files][  1.7 MiB/  1.7 MiB] 100% Done                                    \n",
      "Operation completed over 8 objects/1.7 MiB.                                      \n"
     ]
    }
   ],
   "source": [
    "! gsutil -m cp -r ALLC_TABLE gs://ecker-rachel-amb-datasets/tmp"
   ]
  },
  {
   "cell_type": "code",
   "execution_count": null,
   "id": "754037d1-db51-4cbc-9ac4-1975912859c3",
   "metadata": {},
   "outputs": [],
   "source": []
  }
 ],
 "metadata": {
  "kernelspec": {
   "display_name": "Python 3 (ipykernel)",
   "language": "python",
   "name": "python3"
  },
  "language_info": {
   "codemirror_mode": {
    "name": "ipython",
    "version": 3
   },
   "file_extension": ".py",
   "mimetype": "text/x-python",
   "name": "python",
   "nbconvert_exporter": "python",
   "pygments_lexer": "ipython3",
   "version": "3.7.12"
  }
 },
 "nbformat": 4,
 "nbformat_minor": 5
}
