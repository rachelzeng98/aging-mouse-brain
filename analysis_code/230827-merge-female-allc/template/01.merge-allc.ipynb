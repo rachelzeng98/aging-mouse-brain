{
 "cells": [
  {
   "cell_type": "code",
   "execution_count": 1,
   "id": "b7e74663-d7b6-4ece-b373-1341397e6346",
   "metadata": {
    "execution": {
     "iopub.execute_input": "2023-09-01T06:45:18.582516Z",
     "iopub.status.busy": "2023-09-01T06:45:18.582008Z",
     "iopub.status.idle": "2023-09-01T06:45:19.891282Z",
     "shell.execute_reply": "2023-09-01T06:45:19.890434Z",
     "shell.execute_reply.started": "2023-09-01T06:45:18.582492Z"
    },
    "tags": []
   },
   "outputs": [],
   "source": [
    "from cemba_data.bulk import prepare_mc_bulk\n",
    "import subprocess\n",
    "import os\n",
    "import pandas as pd\n",
    "import pathlib"
   ]
  },
  {
   "cell_type": "code",
   "execution_count": 2,
   "id": "0b21563c-e4aa-458f-b278-25003445c3a9",
   "metadata": {
    "execution": {
     "iopub.execute_input": "2023-08-30T19:05:44.584355Z",
     "iopub.status.busy": "2023-08-30T19:05:44.583932Z",
     "iopub.status.idle": "2023-08-30T19:05:44.587525Z",
     "shell.execute_reply": "2023-08-30T19:05:44.587025Z",
     "shell.execute_reply.started": "2023-08-30T19:05:44.584332Z"
    },
    "tags": []
   },
   "outputs": [],
   "source": [
    "# import os\n",
    "# import sys\n",
    "\n",
    "# # Check if CONDA_PREFIX environment variable is set\n",
    "# if 'CONDA_PREFIX' in os.environ:\n",
    "#     conda_prefix = os.environ['CONDA_PREFIX']\n",
    "#     # Extract the environment name from the directory path\n",
    "#     env_name = os.path.basename(conda_prefix)\n",
    "#     print(f\"Active Conda environment name: {env_name}\")\n",
    "# else:\n",
    "#     print(\"No Conda environment is currently activated.\")"
   ]
  },
  {
   "cell_type": "code",
   "execution_count": 3,
   "id": "6514f005-2e31-45a9-b244-6765a49771dd",
   "metadata": {
    "execution": {
     "iopub.execute_input": "2023-08-30T19:05:44.588565Z",
     "iopub.status.busy": "2023-08-30T19:05:44.588200Z",
     "iopub.status.idle": "2023-08-30T19:05:44.591004Z",
     "shell.execute_reply": "2023-08-30T19:05:44.590542Z",
     "shell.execute_reply.started": "2023-08-30T19:05:44.588544Z"
    },
    "tags": []
   },
   "outputs": [],
   "source": [
    "#group_name = 'group10'"
   ]
  },
  {
   "cell_type": "code",
   "execution_count": 4,
   "id": "4dea3318-a4c0-4814-beaf-b19628f347bd",
   "metadata": {
    "execution": {
     "iopub.execute_input": "2023-08-30T19:05:44.591938Z",
     "iopub.status.busy": "2023-08-30T19:05:44.591677Z",
     "iopub.status.idle": "2023-08-30T19:05:44.693345Z",
     "shell.execute_reply": "2023-08-30T19:05:44.692336Z",
     "shell.execute_reply.started": "2023-08-30T19:05:44.591919Z"
    },
    "tags": []
   },
   "outputs": [
    {
     "ename": "NameError",
     "evalue": "name 'group_name' is not defined",
     "output_type": "error",
     "traceback": [
      "\u001b[0;31m---------------------------------------------------------------------------\u001b[0m",
      "\u001b[0;31mNameError\u001b[0m                                 Traceback (most recent call last)",
      "\u001b[0;32m/tmp/ipykernel_456990/3527955877.py\u001b[0m in \u001b[0;36m<module>\u001b[0;34m\u001b[0m\n\u001b[1;32m      3\u001b[0m \u001b[0mchrom_size_path\u001b[0m \u001b[0;34m=\u001b[0m \u001b[0;34m'/ref/m3C/mm10.main.nochrM.nochrY.chrom.sizes'\u001b[0m\u001b[0;34m\u001b[0m\u001b[0;34m\u001b[0m\u001b[0m\n\u001b[1;32m      4\u001b[0m \u001b[0moutdir\u001b[0m \u001b[0;34m=\u001b[0m \u001b[0;34mf'{cwd_dir}/Celltype.Age'\u001b[0m\u001b[0;34m\u001b[0m\u001b[0;34m\u001b[0m\u001b[0m\n\u001b[0;32m----> 5\u001b[0;31m \u001b[0mallc_table\u001b[0m \u001b[0;34m=\u001b[0m \u001b[0;34mf'{_dir}/{group_name}.tsv'\u001b[0m\u001b[0;34m\u001b[0m\u001b[0;34m\u001b[0m\u001b[0m\n\u001b[0m",
      "\u001b[0;31mNameError\u001b[0m: name 'group_name' is not defined"
     ]
    }
   ],
   "source": [
    "cwd_dir = os.getcwd()\n",
    "_dir = '/data/tmp/ALLC_TABLE/'\n",
    "chrom_size_path = '/ref/m3C/mm10.main.nochrM.nochrY.chrom.sizes'\n",
    "outdir = f'{cwd_dir}/Celltype.Age'\n",
    "allc_table = f'{_dir}/{group_name}.tsv'"
   ]
  },
  {
   "cell_type": "code",
   "execution_count": null,
   "id": "7e9edec0-6d10-47fc-b312-25e14e517610",
   "metadata": {
    "execution": {
     "iopub.status.busy": "2023-08-30T19:05:44.694032Z",
     "iopub.status.idle": "2023-08-30T19:05:44.694307Z",
     "shell.execute_reply": "2023-08-30T19:05:44.694188Z",
     "shell.execute_reply.started": "2023-08-30T19:05:44.694175Z"
    },
    "tags": []
   },
   "outputs": [],
   "source": [
    "pathlib.Path('ALLC_FILES').mkdir(exist_ok=True)"
   ]
  },
  {
   "cell_type": "markdown",
   "id": "94787ac4-e740-400d-b122-caf054a36ec2",
   "metadata": {},
   "source": [
    "## cp files"
   ]
  },
  {
   "cell_type": "code",
   "execution_count": null,
   "id": "089c1177-3f0d-4d40-a872-dcc208e80246",
   "metadata": {
    "execution": {
     "iopub.status.busy": "2023-08-30T19:05:44.695544Z",
     "iopub.status.idle": "2023-08-30T19:05:44.695805Z",
     "shell.execute_reply": "2023-08-30T19:05:44.695687Z",
     "shell.execute_reply.started": "2023-08-30T19:05:44.695675Z"
    },
    "tags": []
   },
   "outputs": [],
   "source": [
    "allc_table = pd.read_csv(allc_table, header = None, sep = '\\t')\n",
    "allc_table[0] = allc_table[0].apply(lambda x: x.replace('/data','gs://ecker-rachel-amb-datasets'))"
   ]
  },
  {
   "cell_type": "code",
   "execution_count": null,
   "id": "6d93f4b8-0ffc-4efd-823f-0ce7a919e1a9",
   "metadata": {
    "execution": {
     "iopub.status.busy": "2023-08-30T19:05:44.696499Z",
     "iopub.status.idle": "2023-08-30T19:05:44.696753Z",
     "shell.execute_reply": "2023-08-30T19:05:44.696639Z",
     "shell.execute_reply.started": "2023-08-30T19:05:44.696626Z"
    },
    "tags": []
   },
   "outputs": [],
   "source": [
    "all_allc_paths = allc_table[0].tolist()\n",
    "allc_path_tbi = [f'{path}.tbi' for path in all_allc_paths]\n",
    "with open(f'{group_name}.allc_paths.txt', 'w') as f:\n",
    "    f.writelines(line + '\\n' for line in all_allc_paths)\n",
    "\n",
    "with open(f'{group_name}.allc_paths_tbi.txt', 'w') as f:\n",
    "    f.writelines(line + '\\n' for line in allc_path_tbi)"
   ]
  },
  {
   "cell_type": "code",
   "execution_count": null,
   "id": "f2f3bd8e-a673-4e47-8240-a490e8953f3e",
   "metadata": {
    "execution": {
     "iopub.status.busy": "2023-08-30T19:05:44.699083Z",
     "iopub.status.idle": "2023-08-30T19:05:44.699548Z",
     "shell.execute_reply": "2023-08-30T19:05:44.699423Z",
     "shell.execute_reply.started": "2023-08-30T19:05:44.699409Z"
    },
    "tags": []
   },
   "outputs": [],
   "source": [
    "if pathlib.Path('copy.finished').exists() == False:\n",
    "    subprocess.run(f'gsutil -m cp -I < {group_name}.allc_paths.txt {cwd_dir}/ALLC_FILES', \n",
    "                    shell= True, stdout = subprocess.DEVNULL, stderr = subprocess.DEVNULL)\n",
    "    subprocess.run(f'gsutil -m cp -I < {group_name}.allc_paths_tbi.txt {cwd_dir}/ALLC_FILES', \n",
    "                shell= True, stdout = subprocess.DEVNULL, stderr = subprocess.DEVNULL)"
   ]
  },
  {
   "cell_type": "code",
   "execution_count": 5,
   "id": "1b844534-e8c9-47c6-b5e9-bc7c6b45c9c2",
   "metadata": {
    "execution": {
     "iopub.execute_input": "2023-08-30T19:05:44.821955Z",
     "iopub.status.busy": "2023-08-30T19:05:44.821754Z",
     "iopub.status.idle": "2023-08-30T19:05:44.836063Z",
     "shell.execute_reply": "2023-08-30T19:05:44.835482Z",
     "shell.execute_reply.started": "2023-08-30T19:05:44.821936Z"
    },
    "tags": []
   },
   "outputs": [
    {
     "data": {
      "text/plain": [
       "CompletedProcess(args='touch copy.finished', returncode=0)"
      ]
     },
     "execution_count": 5,
     "metadata": {},
     "output_type": "execute_result"
    }
   ],
   "source": [
    "subprocess.run(f'touch copy.finished', shell= True, stdout = subprocess.DEVNULL, stderr = subprocess.DEVNULL)"
   ]
  },
  {
   "cell_type": "markdown",
   "id": "da316e69-ead7-40a1-8d41-2e50070cfa76",
   "metadata": {},
   "source": [
    "## generate new_allc table"
   ]
  },
  {
   "cell_type": "code",
   "execution_count": 13,
   "id": "8b45bc81-e760-4e63-95f5-e2d70ad18ce9",
   "metadata": {},
   "outputs": [
    {
     "data": {
      "text/html": [
       "<div>\n",
       "<style scoped>\n",
       "    .dataframe tbody tr th:only-of-type {\n",
       "        vertical-align: middle;\n",
       "    }\n",
       "\n",
       "    .dataframe tbody tr th {\n",
       "        vertical-align: top;\n",
       "    }\n",
       "\n",
       "    .dataframe thead th {\n",
       "        text-align: right;\n",
       "    }\n",
       "</style>\n",
       "<table border=\"1\" class=\"dataframe\">\n",
       "  <thead>\n",
       "    <tr style=\"text-align: right;\">\n",
       "      <th></th>\n",
       "      <th>0</th>\n",
       "      <th>1</th>\n",
       "    </tr>\n",
       "  </thead>\n",
       "  <tbody>\n",
       "    <tr>\n",
       "      <th>0</th>\n",
       "      <td>/home/qzeng_salk_edu/project/230825-merge-allc...</td>\n",
       "      <td>CA2-FC-IG-Glut.8wk</td>\n",
       "    </tr>\n",
       "    <tr>\n",
       "      <th>1</th>\n",
       "      <td>/home/qzeng_salk_edu/project/230825-merge-allc...</td>\n",
       "      <td>CA2-FC-IG-Glut.8wk</td>\n",
       "    </tr>\n",
       "    <tr>\n",
       "      <th>2</th>\n",
       "      <td>/home/qzeng_salk_edu/project/230825-merge-allc...</td>\n",
       "      <td>CA2-FC-IG-Glut.8wk</td>\n",
       "    </tr>\n",
       "    <tr>\n",
       "      <th>3</th>\n",
       "      <td>/home/qzeng_salk_edu/project/230825-merge-allc...</td>\n",
       "      <td>CA2-FC-IG-Glut.8wk</td>\n",
       "    </tr>\n",
       "    <tr>\n",
       "      <th>4</th>\n",
       "      <td>/home/qzeng_salk_edu/project/230825-merge-allc...</td>\n",
       "      <td>CA2-FC-IG-Glut.8wk</td>\n",
       "    </tr>\n",
       "  </tbody>\n",
       "</table>\n",
       "</div>"
      ],
      "text/plain": [
       "                                                   0                   1\n",
       "0  /home/qzeng_salk_edu/project/230825-merge-allc...  CA2-FC-IG-Glut.8wk\n",
       "1  /home/qzeng_salk_edu/project/230825-merge-allc...  CA2-FC-IG-Glut.8wk\n",
       "2  /home/qzeng_salk_edu/project/230825-merge-allc...  CA2-FC-IG-Glut.8wk\n",
       "3  /home/qzeng_salk_edu/project/230825-merge-allc...  CA2-FC-IG-Glut.8wk\n",
       "4  /home/qzeng_salk_edu/project/230825-merge-allc...  CA2-FC-IG-Glut.8wk"
      ]
     },
     "execution_count": 13,
     "metadata": {},
     "output_type": "execute_result"
    }
   ],
   "source": [
    "allc_table[0] = allc_table[0].apply(lambda x: f'{cwd_dir}/' + 'ALLC_FILES/' + x.split('/')[-1])\n",
    "allc_table.head()"
   ]
  },
  {
   "cell_type": "code",
   "execution_count": 14,
   "id": "30d37dbf-8ab8-4062-84bf-ddeadbf2aa37",
   "metadata": {},
   "outputs": [],
   "source": [
    "allc_table.to_csv(f'{cwd_dir}/{group_name}.tsv', header = None, sep = '\\t', index = None)"
   ]
  },
  {
   "cell_type": "markdown",
   "id": "7ec30726-b86e-4baa-86a4-6eca2af10d1c",
   "metadata": {},
   "source": [
    "## pre snakemake"
   ]
  },
  {
   "cell_type": "code",
   "execution_count": 15,
   "id": "4078ce84-bec2-45a7-ae74-5a8e4c2ad64d",
   "metadata": {},
   "outputs": [
    {
     "data": {
      "text/plain": [
       "'/home/qzeng_salk_edu/project/230825-merge-allc/group10.tsv'"
      ]
     },
     "execution_count": 15,
     "metadata": {},
     "output_type": "execute_result"
    }
   ],
   "source": [
    "allc_table_path = f'{cwd_dir}/{group_name}.tsv'\n",
    "allc_table_path"
   ]
  },
  {
   "cell_type": "code",
   "execution_count": 2,
   "id": "ba3700c9-a627-46b5-8037-4c72cf196f6e",
   "metadata": {
    "execution": {
     "iopub.execute_input": "2023-09-01T06:45:22.835643Z",
     "iopub.status.busy": "2023-09-01T06:45:22.835133Z",
     "iopub.status.idle": "2023-09-01T06:45:22.936373Z",
     "shell.execute_reply": "2023-09-01T06:45:22.935660Z",
     "shell.execute_reply.started": "2023-09-01T06:45:22.835614Z"
    },
    "tags": []
   },
   "outputs": [
    {
     "ename": "NameError",
     "evalue": "name 'allc_table_path' is not defined",
     "output_type": "error",
     "traceback": [
      "\u001b[0;31m---------------------------------------------------------------------------\u001b[0m",
      "\u001b[0;31mNameError\u001b[0m                                 Traceback (most recent call last)",
      "\u001b[0;32m/tmp/ipykernel_415203/880626025.py\u001b[0m in \u001b[0;36m<module>\u001b[0;34m\u001b[0m\n\u001b[0;32m----> 1\u001b[0;31m prepare_mc_bulk(allc_table_path,\n\u001b[0m\u001b[1;32m      2\u001b[0m                 \u001b[0moutdir\u001b[0m\u001b[0;34m,\u001b[0m\u001b[0;34m\u001b[0m\u001b[0;34m\u001b[0m\u001b[0m\n\u001b[1;32m      3\u001b[0m                 \u001b[0mchrom_size_path\u001b[0m\u001b[0;34m,\u001b[0m\u001b[0;34m\u001b[0m\u001b[0;34m\u001b[0m\u001b[0m\n\u001b[1;32m      4\u001b[0m                 \u001b[0mmch_context\u001b[0m\u001b[0;34m=\u001b[0m\u001b[0;34m'CHN'\u001b[0m\u001b[0;34m,\u001b[0m\u001b[0;34m\u001b[0m\u001b[0;34m\u001b[0m\u001b[0m\n\u001b[1;32m      5\u001b[0m                 \u001b[0mmcg_context\u001b[0m\u001b[0;34m=\u001b[0m\u001b[0;34m'CGN'\u001b[0m\u001b[0;34m,\u001b[0m\u001b[0;34m\u001b[0m\u001b[0;34m\u001b[0m\u001b[0m\n",
      "\u001b[0;31mNameError\u001b[0m: name 'allc_table_path' is not defined"
     ]
    }
   ],
   "source": [
    "prepare_mc_bulk(allc_table_path,\n",
    "                outdir, \n",
    "                chrom_size_path,\n",
    "                mch_context='CHN',\n",
    "                mcg_context='CGN',\n",
    "                bigwig_mch_bin_size=30,\n",
    "                bigwig_mcg_bin_size=1,\n",
    "                cpu_per_job=10,\n",
    "                total_cpu=32)\n",
    "             "
   ]
  },
  {
   "cell_type": "markdown",
   "id": "f04f0c94-96d1-401d-a720-139f63da1d9c",
   "metadata": {},
   "source": [
    "## parelle"
   ]
  },
  {
   "cell_type": "code",
   "execution_count": 17,
   "id": "caf8a6e7-5424-4e24-a1bc-48d2899f4dc2",
   "metadata": {},
   "outputs": [],
   "source": [
    "command_path = f'{outdir}/qsub/snakemake_cmds.txt'\n",
    "file_list = pd.read_csv(command_path, header = None)[0].tolist()"
   ]
  },
  {
   "cell_type": "code",
   "execution_count": 18,
   "id": "51e2594a-a1a7-4080-9f81-285ab69c6b05",
   "metadata": {},
   "outputs": [],
   "source": [
    "with open(f'{outdir}/qsub/snakemake_cmds_new.txt', \"w\") as file:\n",
    "    for i, element in enumerate(file_list):\n",
    "        file.write(element + \"&\" + '\\n')\n",
    "    file.write('wait')"
   ]
  },
  {
   "cell_type": "code",
   "execution_count": 19,
   "id": "7b23f281-cb31-4539-a94b-3872e8520244",
   "metadata": {},
   "outputs": [
    {
     "data": {
      "text/plain": [
       "CompletedProcess(args='bash /home/qzeng_salk_edu/project/230825-merge-allc/Celltype.Age/qsub/snakemake_cmds_new.txt', returncode=0)"
      ]
     },
     "execution_count": 19,
     "metadata": {},
     "output_type": "execute_result"
    }
   ],
   "source": [
    "subprocess.run(f'bash {outdir}/qsub/snakemake_cmds_new.txt', shell = True, stdout = subprocess.DEVNULL, stderr = subprocess.DEVNULL)"
   ]
  },
  {
   "cell_type": "code",
   "execution_count": 20,
   "id": "62fd4c2b-1078-48fe-a6f1-71205bae0f77",
   "metadata": {},
   "outputs": [
    {
     "data": {
      "text/plain": [
       "CompletedProcess(args='gsutil -m cp -r /home/qzeng_salk_edu/project/230825-merge-allc/Celltype.Age/* gs://ecker-rachel-amb-datasets/female-amb/merge-allc/CellType.Age', returncode=0)"
      ]
     },
     "execution_count": 20,
     "metadata": {},
     "output_type": "execute_result"
    }
   ],
   "source": [
    "subprocess.run(f'gsutil -m cp -r {outdir}/* gs://ecker-rachel-amb-datasets/female-amb/merge-allc/CellType.Age', \n",
    "               shell = True, stdout = subprocess.DEVNULL, stderr = subprocess.DEVNULL)"
   ]
  },
  {
   "cell_type": "code",
   "execution_count": 21,
   "id": "e15a071c-2d87-4b4b-b5f6-2948b1448648",
   "metadata": {},
   "outputs": [
    {
     "data": {
      "text/plain": [
       "CompletedProcess(args='rm /home/qzeng_salk_edu/project/230825-merge-allc/ALLC_FILES -rf', returncode=0)"
      ]
     },
     "execution_count": 21,
     "metadata": {},
     "output_type": "execute_result"
    }
   ],
   "source": [
    "subprocess.run(f'rm {cwd_dir}/ALLC_FILES -rf', shell = True, stdout = subprocess.DEVNULL, stderr = subprocess.DEVNULL)"
   ]
  },
  {
   "cell_type": "code",
   "execution_count": null,
   "id": "75f99152-bd78-4494-b89f-fe12a16f0e3f",
   "metadata": {},
   "outputs": [],
   "source": []
  },
  {
   "cell_type": "code",
   "execution_count": null,
   "id": "827b67d7-2845-47e8-815e-9dcc2ddae98d",
   "metadata": {},
   "outputs": [],
   "source": []
  },
  {
   "cell_type": "code",
   "execution_count": null,
   "id": "f24d13d3-1ba0-4f35-95d9-0892a493df38",
   "metadata": {},
   "outputs": [],
   "source": []
  }
 ],
 "metadata": {
  "kernelspec": {
   "display_name": "Python 3 (ipykernel)",
   "language": "python",
   "name": "python3"
  },
  "language_info": {
   "codemirror_mode": {
    "name": "ipython",
    "version": 3
   },
   "file_extension": ".py",
   "mimetype": "text/x-python",
   "name": "python",
   "nbconvert_exporter": "python",
   "pygments_lexer": "ipython3",
   "version": "3.7.12"
  }
 },
 "nbformat": 4,
 "nbformat_minor": 5
}
