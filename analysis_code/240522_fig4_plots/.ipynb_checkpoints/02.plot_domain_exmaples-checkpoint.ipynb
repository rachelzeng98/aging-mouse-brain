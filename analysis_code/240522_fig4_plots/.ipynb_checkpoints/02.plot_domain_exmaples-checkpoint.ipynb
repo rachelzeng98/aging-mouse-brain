{
 "cells": [
  {
   "cell_type": "code",
   "execution_count": 2,
   "id": "f25628da-3dc3-4699-b46d-376e14cd7aa4",
   "metadata": {},
   "outputs": [],
   "source": [
    "import os\n",
    "import cooler\n",
    "import numpy as np\n",
    "import pandas as pd\n",
    "from scipy.stats import norm, zscore\n",
    "\n",
    "import matplotlib as mpl\n",
    "import matplotlib.pyplot as plt\n",
    "from matplotlib.patches import Polygon\n",
    "from matplotlib import cm as cm\n",
    "import seaborn as sns\n",
    "from matplotlib.colors import LogNorm\n",
    "\n",
    "from itertools import cycle, islice\n",
    "import xarray as xr\n",
    "from glob import glob\n",
    "from scipy import ndimage as nd\n",
    "import matplotlib.pyplot as plt\n",
    "from matplotlib.backends.backend_pdf import PdfPages\n",
    "from scipy import ndimage as nd\n",
    "from tqdm import tqdm\n",
    "\n",
    "\n",
    "mpl.style.use('default')\n",
    "mpl.rcParams['pdf.fonttype'] = 42\n",
    "mpl.rcParams['ps.fonttype'] = 42\n",
    "#mpl.rcParams['font.family'] = 'sans-serif'\n",
    "#mpl.rcParams['font.sans-serif'] = 'Helvetica'"
   ]
  },
  {
   "cell_type": "code",
   "execution_count": 3,
   "id": "a73f3b9b-130e-48ae-9251-60bd1e8e7dce",
   "metadata": {},
   "outputs": [],
   "source": [
    "ct = 'DG_Glut'"
   ]
  },
  {
   "cell_type": "code",
   "execution_count": 4,
   "id": "fb8e5fa3-836d-43f9-a3ff-d33b8b4a90ee",
   "metadata": {},
   "outputs": [],
   "source": [
    "chrom_size_path = '/ref/m3C/mm10.main.nochrM.nochrY.chrom.sizes'\n",
    "chrom_sizes = cooler.read_chromsizes(chrom_size_path, all_names=True)\n",
    "chrom_sizes = chrom_sizes.iloc[:-1]"
   ]
  },
  {
   "cell_type": "code",
   "execution_count": 5,
   "id": "8bdc6959-3002-4fc3-9a56-dd07115f545a",
   "metadata": {},
   "outputs": [
    {
     "data": {
      "text/plain": [
       "['DG_Glut.8wk', 'DG_Glut.9mo', 'DG_Glut.18mo']"
      ]
     },
     "execution_count": 5,
     "metadata": {},
     "output_type": "execute_result"
    }
   ],
   "source": [
    "leg = [f'{ct}.{age}' for age in ['8wk','9mo','18mo']]\n",
    "leg"
   ]
  },
  {
   "cell_type": "code",
   "execution_count": 6,
   "id": "dbb37229-129a-428f-be65-0d902ca9e936",
   "metadata": {},
   "outputs": [],
   "source": [
    "indir = '/data/female-amb/loop/'\n",
    "ddir = f'/home/qzeng_salk_edu/project/240205-domain/CellType.Age.Diff.Domain/{ct}'\n",
    "ldir = f'/data/female-amb/Diff.Result/loop_ct_age/diff/{ct}'\n",
    "cdir = f'/home/qzeng_salk_edu/project/240204-redo-compartment/Call.DiffComp.CellType.Age/{ct}'"
   ]
  },
  {
   "cell_type": "code",
   "execution_count": 7,
   "id": "b38300ad-26b6-41b5-96bf-67169a9e0a35",
   "metadata": {},
   "outputs": [],
   "source": [
    "chrom_size_path = f'/ref/m3C/mm10.main.nochrM.nochrY.chrom.sizes'\n",
    "chrom_sizes = cooler.read_chromsizes(chrom_size_path, all_names=True)"
   ]
  },
  {
   "cell_type": "code",
   "execution_count": 8,
   "id": "6787d3c2-a2fd-4749-b968-2bfa38aa9e8a",
   "metadata": {},
   "outputs": [
    {
     "data": {
      "text/html": [
       "<div>\n",
       "<style scoped>\n",
       "    .dataframe tbody tr th:only-of-type {\n",
       "        vertical-align: middle;\n",
       "    }\n",
       "\n",
       "    .dataframe tbody tr th {\n",
       "        vertical-align: top;\n",
       "    }\n",
       "\n",
       "    .dataframe thead th {\n",
       "        text-align: right;\n",
       "    }\n",
       "</style>\n",
       "<table border=\"1\" class=\"dataframe\">\n",
       "  <thead>\n",
       "    <tr style=\"text-align: right;\">\n",
       "      <th></th>\n",
       "      <th>chrom</th>\n",
       "      <th>source</th>\n",
       "      <th>feature</th>\n",
       "      <th>start</th>\n",
       "      <th>end</th>\n",
       "      <th>score</th>\n",
       "      <th>strand</th>\n",
       "      <th>phase</th>\n",
       "      <th>gene_id</th>\n",
       "      <th>transcript_id</th>\n",
       "      <th>...</th>\n",
       "      <th>gene_status</th>\n",
       "      <th>transcript_type</th>\n",
       "      <th>transcript_status</th>\n",
       "      <th>transcript_name</th>\n",
       "      <th>exon_number</th>\n",
       "      <th>exon_id</th>\n",
       "      <th>level</th>\n",
       "      <th>mgi_id</th>\n",
       "      <th>havana_gene</th>\n",
       "      <th>tag</th>\n",
       "    </tr>\n",
       "    <tr>\n",
       "      <th>gene_name</th>\n",
       "      <th></th>\n",
       "      <th></th>\n",
       "      <th></th>\n",
       "      <th></th>\n",
       "      <th></th>\n",
       "      <th></th>\n",
       "      <th></th>\n",
       "      <th></th>\n",
       "      <th></th>\n",
       "      <th></th>\n",
       "      <th></th>\n",
       "      <th></th>\n",
       "      <th></th>\n",
       "      <th></th>\n",
       "      <th></th>\n",
       "      <th></th>\n",
       "      <th></th>\n",
       "      <th></th>\n",
       "      <th></th>\n",
       "      <th></th>\n",
       "      <th></th>\n",
       "    </tr>\n",
       "  </thead>\n",
       "  <tbody>\n",
       "    <tr>\n",
       "      <th>4933401J01Rik</th>\n",
       "      <td>chr1</td>\n",
       "      <td>HAVANA</td>\n",
       "      <td>gene</td>\n",
       "      <td>3073253</td>\n",
       "      <td>3074322</td>\n",
       "      <td>.</td>\n",
       "      <td>+</td>\n",
       "      <td>.</td>\n",
       "      <td>ENSMUSG00000102693.1</td>\n",
       "      <td>NaN</td>\n",
       "      <td>...</td>\n",
       "      <td>NaN</td>\n",
       "      <td>NaN</td>\n",
       "      <td>NaN</td>\n",
       "      <td>NaN</td>\n",
       "      <td>NaN</td>\n",
       "      <td>NaN</td>\n",
       "      <td>2</td>\n",
       "      <td>MGI:1918292</td>\n",
       "      <td>OTTMUSG00000049935.1</td>\n",
       "      <td>NaN</td>\n",
       "    </tr>\n",
       "    <tr>\n",
       "      <th>Gm26206</th>\n",
       "      <td>chr1</td>\n",
       "      <td>ENSEMBL</td>\n",
       "      <td>gene</td>\n",
       "      <td>3102016</td>\n",
       "      <td>3102125</td>\n",
       "      <td>.</td>\n",
       "      <td>+</td>\n",
       "      <td>.</td>\n",
       "      <td>ENSMUSG00000064842.1</td>\n",
       "      <td>NaN</td>\n",
       "      <td>...</td>\n",
       "      <td>NaN</td>\n",
       "      <td>NaN</td>\n",
       "      <td>NaN</td>\n",
       "      <td>NaN</td>\n",
       "      <td>NaN</td>\n",
       "      <td>NaN</td>\n",
       "      <td>3</td>\n",
       "      <td>MGI:5455983</td>\n",
       "      <td>NaN</td>\n",
       "      <td>NaN</td>\n",
       "    </tr>\n",
       "    <tr>\n",
       "      <th>Xkr4</th>\n",
       "      <td>chr1</td>\n",
       "      <td>HAVANA</td>\n",
       "      <td>gene</td>\n",
       "      <td>3205901</td>\n",
       "      <td>3671498</td>\n",
       "      <td>.</td>\n",
       "      <td>-</td>\n",
       "      <td>.</td>\n",
       "      <td>ENSMUSG00000051951.5</td>\n",
       "      <td>NaN</td>\n",
       "      <td>...</td>\n",
       "      <td>NaN</td>\n",
       "      <td>NaN</td>\n",
       "      <td>NaN</td>\n",
       "      <td>NaN</td>\n",
       "      <td>NaN</td>\n",
       "      <td>NaN</td>\n",
       "      <td>2</td>\n",
       "      <td>MGI:3528744</td>\n",
       "      <td>OTTMUSG00000026353.2</td>\n",
       "      <td>NaN</td>\n",
       "    </tr>\n",
       "    <tr>\n",
       "      <th>Gm18956</th>\n",
       "      <td>chr1</td>\n",
       "      <td>HAVANA</td>\n",
       "      <td>gene</td>\n",
       "      <td>3252757</td>\n",
       "      <td>3253236</td>\n",
       "      <td>.</td>\n",
       "      <td>+</td>\n",
       "      <td>.</td>\n",
       "      <td>ENSMUSG00000102851.1</td>\n",
       "      <td>NaN</td>\n",
       "      <td>...</td>\n",
       "      <td>NaN</td>\n",
       "      <td>NaN</td>\n",
       "      <td>NaN</td>\n",
       "      <td>NaN</td>\n",
       "      <td>NaN</td>\n",
       "      <td>NaN</td>\n",
       "      <td>1</td>\n",
       "      <td>MGI:5011141</td>\n",
       "      <td>OTTMUSG00000049958.1</td>\n",
       "      <td>pseudo_consens</td>\n",
       "    </tr>\n",
       "    <tr>\n",
       "      <th>Gm37180</th>\n",
       "      <td>chr1</td>\n",
       "      <td>HAVANA</td>\n",
       "      <td>gene</td>\n",
       "      <td>3365731</td>\n",
       "      <td>3368549</td>\n",
       "      <td>.</td>\n",
       "      <td>-</td>\n",
       "      <td>.</td>\n",
       "      <td>ENSMUSG00000103377.1</td>\n",
       "      <td>NaN</td>\n",
       "      <td>...</td>\n",
       "      <td>NaN</td>\n",
       "      <td>NaN</td>\n",
       "      <td>NaN</td>\n",
       "      <td>NaN</td>\n",
       "      <td>NaN</td>\n",
       "      <td>NaN</td>\n",
       "      <td>2</td>\n",
       "      <td>MGI:5610408</td>\n",
       "      <td>OTTMUSG00000049960.1</td>\n",
       "      <td>NaN</td>\n",
       "    </tr>\n",
       "  </tbody>\n",
       "</table>\n",
       "<p>5 rows × 21 columns</p>\n",
       "</div>"
      ],
      "text/plain": [
       "              chrom   source feature    start      end score strand phase  \\\n",
       "gene_name                                                                   \n",
       "4933401J01Rik  chr1   HAVANA    gene  3073253  3074322     .      +     .   \n",
       "Gm26206        chr1  ENSEMBL    gene  3102016  3102125     .      +     .   \n",
       "Xkr4           chr1   HAVANA    gene  3205901  3671498     .      -     .   \n",
       "Gm18956        chr1   HAVANA    gene  3252757  3253236     .      +     .   \n",
       "Gm37180        chr1   HAVANA    gene  3365731  3368549     .      -     .   \n",
       "\n",
       "                            gene_id  transcript_id  ... gene_status  \\\n",
       "gene_name                                           ...               \n",
       "4933401J01Rik  ENSMUSG00000102693.1            NaN  ...         NaN   \n",
       "Gm26206        ENSMUSG00000064842.1            NaN  ...         NaN   \n",
       "Xkr4           ENSMUSG00000051951.5            NaN  ...         NaN   \n",
       "Gm18956        ENSMUSG00000102851.1            NaN  ...         NaN   \n",
       "Gm37180        ENSMUSG00000103377.1            NaN  ...         NaN   \n",
       "\n",
       "               transcript_type  transcript_status  transcript_name  \\\n",
       "gene_name                                                            \n",
       "4933401J01Rik              NaN                NaN              NaN   \n",
       "Gm26206                    NaN                NaN              NaN   \n",
       "Xkr4                       NaN                NaN              NaN   \n",
       "Gm18956                    NaN                NaN              NaN   \n",
       "Gm37180                    NaN                NaN              NaN   \n",
       "\n",
       "               exon_number  exon_id  level       mgi_id           havana_gene  \\\n",
       "gene_name                                                                       \n",
       "4933401J01Rik          NaN      NaN      2  MGI:1918292  OTTMUSG00000049935.1   \n",
       "Gm26206                NaN      NaN      3  MGI:5455983                   NaN   \n",
       "Xkr4                   NaN      NaN      2  MGI:3528744  OTTMUSG00000026353.2   \n",
       "Gm18956                NaN      NaN      1  MGI:5011141  OTTMUSG00000049958.1   \n",
       "Gm37180                NaN      NaN      2  MGI:5610408  OTTMUSG00000049960.1   \n",
       "\n",
       "                          tag  \n",
       "gene_name                      \n",
       "4933401J01Rik             NaN  \n",
       "Gm26206                   NaN  \n",
       "Xkr4                      NaN  \n",
       "Gm18956        pseudo_consens  \n",
       "Gm37180                   NaN  \n",
       "\n",
       "[5 rows x 21 columns]"
      ]
     },
     "execution_count": 8,
     "metadata": {},
     "output_type": "execute_result"
    }
   ],
   "source": [
    "genemeta = pd.read_csv('/data/metadata/gencode.vM22.basic.annotation.gene.flat.tsv.gz', sep = '\\t', index_col = 'gene_name')\n",
    "genemeta = genemeta[~genemeta.index.duplicated(keep='first')]\n",
    "genemeta.head()"
   ]
  },
  {
   "cell_type": "code",
   "execution_count": 9,
   "id": "76c16eee-c465-4429-979a-2d5abd16d6ee",
   "metadata": {},
   "outputs": [
    {
     "data": {
      "text/html": [
       "<div>\n",
       "<style scoped>\n",
       "    .dataframe tbody tr th:only-of-type {\n",
       "        vertical-align: middle;\n",
       "    }\n",
       "\n",
       "    .dataframe tbody tr th {\n",
       "        vertical-align: top;\n",
       "    }\n",
       "\n",
       "    .dataframe thead th {\n",
       "        text-align: right;\n",
       "    }\n",
       "</style>\n",
       "<table border=\"1\" class=\"dataframe\">\n",
       "  <thead>\n",
       "    <tr style=\"text-align: right;\">\n",
       "      <th></th>\n",
       "      <th>chr1_0</th>\n",
       "      <th>chr1_1</th>\n",
       "      <th>chr1_2</th>\n",
       "      <th>chr1_3</th>\n",
       "      <th>chr1_4</th>\n",
       "      <th>chr1_5</th>\n",
       "      <th>chr1_6</th>\n",
       "      <th>chr1_7</th>\n",
       "      <th>chr1_8</th>\n",
       "      <th>chr1_9</th>\n",
       "      <th>...</th>\n",
       "      <th>chr19_2448</th>\n",
       "      <th>chr19_2449</th>\n",
       "      <th>chr19_2450</th>\n",
       "      <th>chr19_2451</th>\n",
       "      <th>chr19_2452</th>\n",
       "      <th>chr19_2453</th>\n",
       "      <th>chr19_2454</th>\n",
       "      <th>chr19_2455</th>\n",
       "      <th>chr19_2456</th>\n",
       "      <th>chr19_2457</th>\n",
       "    </tr>\n",
       "  </thead>\n",
       "  <tbody>\n",
       "    <tr>\n",
       "      <th>DG_Glut.8wk</th>\n",
       "      <td>1.000000</td>\n",
       "      <td>0.0</td>\n",
       "      <td>0.0</td>\n",
       "      <td>0.0</td>\n",
       "      <td>0.0</td>\n",
       "      <td>0.0</td>\n",
       "      <td>0.0</td>\n",
       "      <td>0.0</td>\n",
       "      <td>0.0</td>\n",
       "      <td>0.0</td>\n",
       "      <td>...</td>\n",
       "      <td>0.006289</td>\n",
       "      <td>0.076869</td>\n",
       "      <td>0.009783</td>\n",
       "      <td>0.003494</td>\n",
       "      <td>0.004892</td>\n",
       "      <td>0.002795</td>\n",
       "      <td>0.0</td>\n",
       "      <td>0.0</td>\n",
       "      <td>0.0</td>\n",
       "      <td>1.000000</td>\n",
       "    </tr>\n",
       "    <tr>\n",
       "      <th>DG_Glut.9mo</th>\n",
       "      <td>1.000000</td>\n",
       "      <td>0.0</td>\n",
       "      <td>0.0</td>\n",
       "      <td>0.0</td>\n",
       "      <td>0.0</td>\n",
       "      <td>0.0</td>\n",
       "      <td>0.0</td>\n",
       "      <td>0.0</td>\n",
       "      <td>0.0</td>\n",
       "      <td>0.0</td>\n",
       "      <td>...</td>\n",
       "      <td>0.005590</td>\n",
       "      <td>0.057303</td>\n",
       "      <td>0.008386</td>\n",
       "      <td>0.000000</td>\n",
       "      <td>0.005590</td>\n",
       "      <td>0.006988</td>\n",
       "      <td>0.0</td>\n",
       "      <td>0.0</td>\n",
       "      <td>0.0</td>\n",
       "      <td>0.999301</td>\n",
       "    </tr>\n",
       "    <tr>\n",
       "      <th>DG_Glut.18mo</th>\n",
       "      <td>0.999301</td>\n",
       "      <td>0.0</td>\n",
       "      <td>0.0</td>\n",
       "      <td>0.0</td>\n",
       "      <td>0.0</td>\n",
       "      <td>0.0</td>\n",
       "      <td>0.0</td>\n",
       "      <td>0.0</td>\n",
       "      <td>0.0</td>\n",
       "      <td>0.0</td>\n",
       "      <td>...</td>\n",
       "      <td>0.009085</td>\n",
       "      <td>0.078267</td>\n",
       "      <td>0.013277</td>\n",
       "      <td>0.004193</td>\n",
       "      <td>0.002795</td>\n",
       "      <td>0.003494</td>\n",
       "      <td>0.0</td>\n",
       "      <td>0.0</td>\n",
       "      <td>0.0</td>\n",
       "      <td>1.000000</td>\n",
       "    </tr>\n",
       "  </tbody>\n",
       "</table>\n",
       "<p>3 rows × 98520 columns</p>\n",
       "</div>"
      ],
      "text/plain": [
       "                chr1_0  chr1_1  chr1_2  chr1_3  chr1_4  chr1_5  chr1_6  \\\n",
       "DG_Glut.8wk   1.000000     0.0     0.0     0.0     0.0     0.0     0.0   \n",
       "DG_Glut.9mo   1.000000     0.0     0.0     0.0     0.0     0.0     0.0   \n",
       "DG_Glut.18mo  0.999301     0.0     0.0     0.0     0.0     0.0     0.0   \n",
       "\n",
       "              chr1_7  chr1_8  chr1_9  ...  chr19_2448  chr19_2449  chr19_2450  \\\n",
       "DG_Glut.8wk      0.0     0.0     0.0  ...    0.006289    0.076869    0.009783   \n",
       "DG_Glut.9mo      0.0     0.0     0.0  ...    0.005590    0.057303    0.008386   \n",
       "DG_Glut.18mo     0.0     0.0     0.0  ...    0.009085    0.078267    0.013277   \n",
       "\n",
       "              chr19_2451  chr19_2452  chr19_2453  chr19_2454  chr19_2455  \\\n",
       "DG_Glut.8wk     0.003494    0.004892    0.002795         0.0         0.0   \n",
       "DG_Glut.9mo     0.000000    0.005590    0.006988         0.0         0.0   \n",
       "DG_Glut.18mo    0.004193    0.002795    0.003494         0.0         0.0   \n",
       "\n",
       "              chr19_2456  chr19_2457  \n",
       "DG_Glut.8wk          0.0    1.000000  \n",
       "DG_Glut.9mo          0.0    0.999301  \n",
       "DG_Glut.18mo         0.0    1.000000  \n",
       "\n",
       "[3 rows x 98520 columns]"
      ]
     },
     "execution_count": 9,
     "metadata": {},
     "output_type": "execute_result"
    }
   ],
   "source": [
    "## Load boundary probability\n",
    "bound_count_ct = pd.read_hdf(f'{ddir}/{ct}_boundcount.hdf', key='data').loc[leg]\n",
    "cell_count_ct = pd.read_csv(f'{ddir}/{ct}_cellcount.csv.gz', index_col=0, header=0).loc[leg]['count']\n",
    "bound_prob_ct = bound_count_ct /np.array(cell_count_ct)[:, None]\n",
    "bound_prob_ct"
   ]
  },
  {
   "cell_type": "code",
   "execution_count": 10,
   "id": "79994ab7-28d2-4d66-9580-2bf3cd8295e7",
   "metadata": {},
   "outputs": [],
   "source": [
    "## Load insulation score\n",
    "ins_count = xr.open_dataset(f'/home/qzeng_salk_edu/project/240205-domain/hicluster_bulk_domain/{ct}.insulation.nc')\n",
    "ins_count = ins_count.sel({'bin': (ins_count['bin_chrom']!='chrX')})\n",
    "ins_count['ratio'] = (ins_count.sel({'type':'inter'})['__xarray_dataarray_variable__'] / ins_count.sel({'type':'intra'}))['__xarray_dataarray_variable__']\n",
    "ins = ins_count['ratio'].to_pandas().loc[leg]"
   ]
  },
  {
   "cell_type": "code",
   "execution_count": 11,
   "id": "791b86a8-1047-4fe8-a16b-85b77d8376f4",
   "metadata": {},
   "outputs": [
    {
     "data": {
      "text/plain": [
       "777"
      ]
     },
     "execution_count": 11,
     "metadata": {},
     "output_type": "execute_result"
    }
   ],
   "source": [
    "##select all age diff domain\n",
    "binall = pd.read_hdf(f'/home/qzeng_salk_edu/project/240205-domain/CellType.Age.Diff.Domain/{ct}/{ct}_bin_stats.hdf', key='data')\n",
    "selb = (binall['chi2filter'] & binall['ins_lm'] & (binall['probdiff']>0.05) & binall['diff_sc'])\n",
    "selected_bins = selb[selb].index\n",
    "len(selected_bins)"
   ]
  },
  {
   "cell_type": "code",
   "execution_count": 12,
   "id": "b70afb1a-7cfb-4818-af93-ea1e29954973",
   "metadata": {},
   "outputs": [],
   "source": [
    "ins.columns = binall.index"
   ]
  },
  {
   "cell_type": "markdown",
   "id": "9153f8ed-0386-4d72-a0dc-98163551c67f",
   "metadata": {},
   "source": [
    "## plot"
   ]
  },
  {
   "cell_type": "code",
   "execution_count": 13,
   "id": "b6083e21-aed0-4887-aee7-48b4ab773b14",
   "metadata": {},
   "outputs": [],
   "source": [
    "_bin = 'chr13_3966'\n",
    "info_df = binall.loc[_bin] \n",
    "chrom, diff_domain_l, diff_domain_r = info_df['chrom'],info_df['start'], info_df['end']"
   ]
  },
  {
   "cell_type": "code",
   "execution_count": 14,
   "id": "f14802d8-089a-4907-94f6-c15ee6649e80",
   "metadata": {},
   "outputs": [
    {
     "name": "stdout",
     "output_type": "stream",
     "text": [
      "chr13:99150000-99175000\n"
     ]
    }
   ],
   "source": [
    "lslop, rslop = 2000000, 2000000\n",
    "ll, rr = (diff_domain_r - lslop), (diff_domain_l + rslop)\n",
    "print(f\"{chrom}:{diff_domain_l}-{diff_domain_r}\")"
   ]
  },
  {
   "cell_type": "code",
   "execution_count": 15,
   "id": "6d411baf-d035-4f93-8166-77dd6b272e65",
   "metadata": {},
   "outputs": [
    {
     "name": "stdout",
     "output_type": "stream",
     "text": [
      "chr13:97175000-101150000\n"
     ]
    }
   ],
   "source": [
    "print(f\"{chrom}:{ll}-{rr}\")"
   ]
  },
  {
   "cell_type": "code",
   "execution_count": 16,
   "id": "f31a7929-624c-4cc0-ab0a-df83fbbca8ad",
   "metadata": {},
   "outputs": [
    {
     "name": "stdout",
     "output_type": "stream",
     "text": [
      "9717 10115\n"
     ]
    }
   ],
   "source": [
    "resl = 10000\n",
    "loopl, loopr = (ll//resl), (rr//resl)\n",
    "print(loopl, loopr)"
   ]
  },
  {
   "cell_type": "code",
   "execution_count": 17,
   "id": "c36cd725-3b25-4243-8769-b92ddee5fcdc",
   "metadata": {},
   "outputs": [
    {
     "name": "stdout",
     "output_type": "stream",
     "text": [
      "138\n"
     ]
    }
   ],
   "source": [
    "## select differential loop\n",
    "loopall = pd.read_hdf(f'{ldir}/merged_loop.hdf', key='data')\n",
    "sell = ((loopall[0]==chrom) & \n",
    "        (zscore(np.log(loopall['Qanova']))>norm.isf(0.15)) & \n",
    "        (zscore(np.log(loopall['Tanova']))>norm.isf(0.15)) & \n",
    "        (loopall[1]>ll) & (loopall[5]<rr))\n",
    "print(sell.sum())"
   ]
  },
  {
   "cell_type": "code",
   "execution_count": 18,
   "id": "a2d13aba-059b-46b0-9a8c-4fd2e593cd61",
   "metadata": {},
   "outputs": [
    {
     "name": "stdout",
     "output_type": "stream",
     "text": [
      "2\n"
     ]
    }
   ],
   "source": [
    "## select differential boundary\n",
    "binall = pd.read_hdf(f'{ddir}/{ct}_bin_stats.hdf', key='data')\n",
    "selb = (binall['chrom']==chrom) & (binall['start']>=ll) & (binall['start']<rr) & binall['chi2filter'] & binall['ins_lm'] & (binall['probdiff']>0.05) & binall['diff_sc'] #& binall['bklfilter']\n",
    "print(selb.sum())"
   ]
  },
  {
   "cell_type": "code",
   "execution_count": 19,
   "id": "d28c1e0b-6082-4cbc-aefa-276275358fff",
   "metadata": {},
   "outputs": [
    {
     "name": "stdout",
     "output_type": "stream",
     "text": [
      "0\n"
     ]
    }
   ],
   "source": [
    "## select differential compartment\n",
    "\n",
    "resc = 100000\n",
    "comp = pd.read_csv(f'{cdir}/DifferentialResult/fdr_result/differential.intra_sample_combined.pcQnm.bedGraph', sep='\\t', header=0, index_col=None)\n",
    "comp.index = comp['chr'] + '_' + (comp['start'] // resc).astype(str)\n",
    "bincomp = comp[['chr', 'start', 'end', 'sample_maha', 'pval', 'padj']]\n",
    "comp = comp.iloc[:,3:6]\n",
    "comp.columns = leg\n",
    "#selc = (bincomp['chr']==chrom) & (bincomp['start']>=ll) & (bincomp['start']<rr) & (zscore(bincomp['sample_maha'])>norm.isf(0.025))\n",
    "diff_selc = (bincomp['chr']==chrom) & (bincomp['start']>=ll) & (bincomp['start']<rr) & (bincomp['padj'] < 0.05)\n",
    "print(diff_selc.sum())"
   ]
  },
  {
   "cell_type": "code",
   "execution_count": null,
   "id": "97e8092c-3b59-4e95-b419-4a2b02b755d6",
   "metadata": {},
   "outputs": [],
   "source": [
    "dstall = []\n",
    "for group in leg:\n",
    "    cool = cooler.Cooler(f'/data/female-amb/loop/{group}/{group}/{group}.Q.cool')\n",
    "    Q = cool.matrix(balance=False, sparse=True).fetch(chrom).tocsr()\n",
    "    tmp = Q[loopl:loopr, loopl:loopr].toarray()\n",
    "    dst = nd.rotate(tmp, 45, order=0, reshape=True, prefilter=False, cval=0)\n",
    "    dstall.append(dst)"
   ]
  },
  {
   "cell_type": "code",
   "execution_count": null,
   "id": "c1cbc6fc-eb2d-4fd9-b832-95f5e98aad28",
   "metadata": {},
   "outputs": [],
   "source": [
    "#np.percentile(change, 1), np.percentile(change, 9)"
   ]
  },
  {
   "cell_type": "code",
   "execution_count": null,
   "id": "fb8a5129-c369-4b78-bbf2-89c1124b9657",
   "metadata": {},
   "outputs": [],
   "source": [
    "required_repetitions = len(leg)\n",
    "height_ratios = [3.5]+[1] + np.tile([3.5, 1,1], required_repetitions).tolist()\n",
    "nrows = len(leg) * 3 + 2\n",
    "\n",
    "fig, axes = plt.subplots(nrows, 1, figsize=(10,10), \n",
    "                         gridspec_kw={'height_ratios': height_ratios}, dpi=300, sharex='all', constrained_layout = True)\n",
    "legname = leg\n",
    "tmpd = binall.loc[selb, 'start'] // resl - loopl\n",
    "tmpl = loopall.loc[sell, [1,4]].values // resl - loopl\n",
    "tmpc = bincomp.loc[diff_selc, 'start'] // resl - loopl\n",
    "\n",
    "ax = axes[0]\n",
    "change = np.log((dstall[2] + 1e-10) /(dstall[0] + 1e-10))\n",
    "vmax  = 1\n",
    "h = len(change)\n",
    "ax.set_title('log(18mo/8wk)', fontsize=10)\n",
    "ax.spines['right'].set_visible(False)\n",
    "ax.spines['top'].set_visible(False)\n",
    "ax.spines['bottom'].set_visible(False)\n",
    "ax.spines['left'].set_visible(False)\n",
    "img = ax.imshow(change, cmap='bwr',vmin=-vmax, vmax=vmax) \n",
    "ax.set_ylim([0.5*h, 0.4*h])\n",
    "\n",
    "ax = axes[1] \n",
    "sel = (binall['chrom']==chrom) & (binall['start']>=ll) & (binall['start']<rr)\n",
    "xpos = (binall.loc[sel, 'start'] // resl - loopl) * np.sqrt(2)\n",
    "ax.plot(xpos, binall.loc[sel, 'chi2_sc'].values, \n",
    "        c='C0', alpha=0.7)\n",
    "\n",
    "ax.set_title('Chi-Square', fontsize=10)\n",
    "ax.set_xlim([0, (loopr-loopl-1)*np.sqrt(2)])\n",
    "\n",
    "for i in range(len(leg)):\n",
    "    \n",
    "    vmax  = 0.018\n",
    "    ax = axes[i*3+2]\n",
    "    ax.set_title(legname[i], fontsize=10)\n",
    "    ax.spines['right'].set_visible(False)\n",
    "    ax.spines['top'].set_visible(False)\n",
    "    ax.spines['bottom'].set_visible(False)\n",
    "    ax.spines['left'].set_visible(False)\n",
    "    img = ax.imshow(dstall[i], cmap='afmhot_r',vmin=0, vmax=vmax) #, \n",
    "    h = len(dstall[i])\n",
    "    ax.set_ylim([0.5*h, 0.4*h])\n",
    "    ax.set_xlim([0, h])\n",
    "    ax.set_yticks([])\n",
    "    ax.set_yticklabels([])\n",
    "    ax.scatter((tmpl[:, 0]+tmpl[:, 1])/np.sqrt(2), 0.5*h-(tmpl[:, 1]-tmpl[:, 0])/np.sqrt(2), \n",
    "           alpha=0.4, s=4, marker='D', edgecolors='c', color='none')\n",
    "    \n",
    "    ax = axes[i*3+3]\n",
    "    ax.plot(xpos, bound_prob_ct.loc[leg[i], sel].values, c='C0', alpha=0.7)\n",
    "    ax.scatter(tmpd * np.sqrt(2), np.zeros(len(tmpd))+0.05, color='r', s=4)\n",
    "    ax.set_ylim([0, 0.3])\n",
    "    ax2 = ax.twinx()\n",
    "    x = ( binall.loc[sel, 'start'] // resl - loopl ) * np.sqrt(2)\n",
    "    ## plot insulation score, use 10k coordinate\n",
    "    ax2.plot(x, \n",
    "             ins.loc[leg[i], sel].values, \n",
    "             c='C1', alpha=0.7)\n",
    "   \n",
    "\n",
    "    ax = axes[i*3+4]\n",
    "    sns.despine(bottom=True, ax=ax)\n",
    "    ## plot compartment, use 10k coordinate\n",
    "    selc = (bincomp['chr']==chrom) & (bincomp['start']>=ll) & (bincomp['start']<rr)\n",
    "    x = ( bincomp.loc[selc, 'start'] // resl - loopl ) * np.sqrt(2)\n",
    "    y = comp.loc[selc, leg[i]].values\n",
    "    ax.fill_between(x, y, 0, where=y >= 0, facecolor='C3', interpolate=True)\n",
    "    ax.fill_between(x, y, 0, where=y <= 0, facecolor='C0', interpolate=True)\n",
    "    ax.scatter(tmpc  * np.sqrt(2), np.zeros(len(tmpc)), color='r', s=4)\n",
    "    \n",
    "ax.set_xlim([0, (loopr-loopl-1)*np.sqrt(2)])\n",
    "ax.set_xticks(np.sqrt(2)*np.array(np.arange(0, loopr-loopl+1, 100).tolist() + [diff_domain_l//resl-loopl, diff_domain_r//resl-loopl]))\n",
    "ax.set_xticklabels([])\n",
    "ax.set_xticklabels([f'{(xx+loopl)/100}M' for xx in np.arange(0, loopr-loopl+1, 100)]+['L','R'])\n",
    "fig.suptitle(f\"{ct} {_bin} {chrom}:{ll}-{rr}\", fontsize=16)\n",
    "fig.savefig(f'figure/{ct}_{_bin}.pdf', bbox_inches = 'tight')"
   ]
  },
  {
   "cell_type": "code",
   "execution_count": null,
   "id": "3118f8a6-2213-4961-b62e-c27e5d3a5352",
   "metadata": {},
   "outputs": [],
   "source": []
  },
  {
   "cell_type": "code",
   "execution_count": null,
   "id": "af80acd8-5dab-4d6c-bcaf-04944dd21296",
   "metadata": {},
   "outputs": [],
   "source": []
  },
  {
   "cell_type": "code",
   "execution_count": null,
   "id": "3190f709-6b01-4dbe-aa4f-3725315c1dcc",
   "metadata": {},
   "outputs": [],
   "source": []
  },
  {
   "cell_type": "code",
   "execution_count": null,
   "id": "98e530e6-6917-4002-a58c-7aefd70d1ec1",
   "metadata": {},
   "outputs": [],
   "source": []
  },
  {
   "cell_type": "code",
   "execution_count": null,
   "id": "0c7f8086-63b7-4d26-8e87-4d3b52c2762c",
   "metadata": {},
   "outputs": [],
   "source": []
  },
  {
   "cell_type": "code",
   "execution_count": null,
   "id": "fe0ff793-3619-457c-bb1b-2a75fc372b50",
   "metadata": {},
   "outputs": [],
   "source": []
  }
 ],
 "metadata": {
  "kernelspec": {
   "display_name": "Python 3 (ipykernel)",
   "language": "python",
   "name": "python3"
  },
  "language_info": {
   "codemirror_mode": {
    "name": "ipython",
    "version": 3
   },
   "file_extension": ".py",
   "mimetype": "text/x-python",
   "name": "python",
   "nbconvert_exporter": "python",
   "pygments_lexer": "ipython3",
   "version": "3.10.12"
  }
 },
 "nbformat": 4,
 "nbformat_minor": 5
}
