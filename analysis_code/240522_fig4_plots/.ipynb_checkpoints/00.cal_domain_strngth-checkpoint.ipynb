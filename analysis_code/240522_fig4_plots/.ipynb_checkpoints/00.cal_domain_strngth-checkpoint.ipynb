{
 "cells": [
  {
   "cell_type": "code",
   "execution_count": 18,
   "id": "f16c9b85-1e24-4326-a3f5-ebff3d3e2382",
   "metadata": {},
   "outputs": [],
   "source": [
    "import glob\n",
    "import pandas as pd\n",
    "import pathlib\n",
    "import cooler\n",
    "import numpy as np\n",
    "import subprocess\n",
    "from cooltools import insulation\n",
    "import seaborn as sns\n",
    "from matplotlib import pyplot as plt\n",
    "\n",
    "plt.rcParams['figure.dpi'] = 100\n",
    "plt.rcParams['savefig.dpi']=300\n",
    "plt.rcParams['pdf.fonttype']=42"
   ]
  },
  {
   "cell_type": "code",
   "execution_count": 3,
   "id": "659337f8-9e56-438e-8b66-3db65274b57e",
   "metadata": {},
   "outputs": [],
   "source": [
    "output_dir = 'domain_boundary_strength'\n",
    "p = pathlib.Path(output_dir)\n",
    "p.mkdir(parents=True, exist_ok=True)"
   ]
  },
  {
   "cell_type": "code",
   "execution_count": 4,
   "id": "7fe38160-a39e-4967-a952-c7d081dcaf47",
   "metadata": {},
   "outputs": [],
   "source": [
    "res = 25000\n",
    "ct = 'DG_Glut'"
   ]
  },
  {
   "cell_type": "code",
   "execution_count": 5,
   "id": "ccb91735-292a-490f-ad85-b490bac08a8a",
   "metadata": {},
   "outputs": [],
   "source": [
    "data_dir = '/data/female-amb/AMB.CoolFiles/CellType.Age.Raw.5kb.mcool' \n",
    "#data_dir = '/data/female-amb/impute/merged-25k'"
   ]
  },
  {
   "cell_type": "code",
   "execution_count": 6,
   "id": "94731270-3e68-4a78-9cf4-216982d5a49c",
   "metadata": {},
   "outputs": [],
   "source": [
    "leg = [f\"{ct}.{age}\" for age in ['8wk','18mo']]"
   ]
  },
  {
   "cell_type": "code",
   "execution_count": 7,
   "id": "0dc65699-b3e2-45b3-bafc-dca3de136f00",
   "metadata": {},
   "outputs": [],
   "source": [
    "import cooltools"
   ]
  },
  {
   "cell_type": "code",
   "execution_count": 8,
   "id": "5d912e69-64dc-4f45-a3f1-ebc379d6bc2a",
   "metadata": {},
   "outputs": [],
   "source": [
    "# for group in leg:\n",
    "#     cell_table_path = f'{data_dir}/{group}.raw.mcool'\n",
    "#     clr = cooler.Cooler(f'{cell_table_path}::resolutions/{res}')\n",
    "#     cell_table_path = f'{data_dir}/{group}.raw.mcool'\n",
    "#     clr = cooler.Cooler(f'{cell_table_path}::resolutions/{res}')\n",
    "    \n",
    "#     # Perform ICE normalization\n",
    "#     try:\n",
    "#         # Normalize and store weights directly in the cooler file\n",
    "#         cooler.balance_cooler(clr, mad_max=5, ignore_diags=2, tol=1e-5, min_nnz=10, min_count=10)\n",
    "#         print(f\"Weights computed and added for {group} at resolution {res}\")\n",
    "#     except Exception as e:\n",
    "#         print(f\"An error occurred while normalizing {group} at resolution {res}: {e}\")\n",
    "    \n",
    "    \n",
    "#     # Add the weights to the Cooler file\n",
    "#     bins = clr.bins()[:]\n",
    "#     bins['weight'] = weights\n",
    "#     break"
   ]
  },
  {
   "cell_type": "code",
   "execution_count": 13,
   "id": "53d7788f-9046-4d56-bf87-8069fcd7a2cd",
   "metadata": {
    "scrolled": true
   },
   "outputs": [
    {
     "name": "stderr",
     "output_type": "stream",
     "text": [
      "INFO:root:fallback to serial implementation.\n",
      "INFO:root:Processing region chr1\n",
      "INFO:root:Processing region chr2\n",
      "INFO:root:Processing region chr3\n",
      "INFO:root:Processing region chr4\n",
      "INFO:root:Processing region chr5\n",
      "INFO:root:Processing region chr6\n",
      "INFO:root:Processing region chr7\n",
      "INFO:root:Processing region chr8\n",
      "INFO:root:Processing region chr9\n",
      "INFO:root:Processing region chr10\n",
      "INFO:root:Processing region chr11\n",
      "INFO:root:Processing region chr12\n",
      "INFO:root:Processing region chr13\n",
      "INFO:root:Processing region chr14\n",
      "INFO:root:Processing region chr15\n",
      "INFO:root:Processing region chr16\n",
      "INFO:root:Processing region chr17\n",
      "INFO:root:Processing region chr18\n",
      "INFO:root:Processing region chr19\n",
      "INFO:root:Processing region chrX\n",
      "INFO:root:fallback to serial implementation.\n",
      "INFO:root:Processing region chr1\n",
      "INFO:root:Processing region chr2\n",
      "INFO:root:Processing region chr3\n",
      "INFO:root:Processing region chr4\n",
      "INFO:root:Processing region chr5\n",
      "INFO:root:Processing region chr6\n",
      "INFO:root:Processing region chr7\n",
      "INFO:root:Processing region chr8\n",
      "INFO:root:Processing region chr9\n",
      "INFO:root:Processing region chr10\n",
      "INFO:root:Processing region chr11\n",
      "INFO:root:Processing region chr12\n",
      "INFO:root:Processing region chr13\n",
      "INFO:root:Processing region chr14\n",
      "INFO:root:Processing region chr15\n",
      "INFO:root:Processing region chr16\n",
      "INFO:root:Processing region chr17\n",
      "INFO:root:Processing region chr18\n",
      "INFO:root:Processing region chr19\n",
      "INFO:root:Processing region chrX\n"
     ]
    }
   ],
   "source": [
    "result = []\n",
    "for group in leg:\n",
    "    cell_table_path = f'{data_dir}/{group}.raw.mcool'\n",
    "    clr = cooler.Cooler(f'{cell_table_path}::resolutions/{res}')\n",
    "    # cell_table_path = f'{data_dir}/{group}.Q.cool'\n",
    "    # clr = cooler.Cooler(f'{cell_table_path}')\n",
    "    windows = [1*res]\n",
    "    insulation_table = insulation(clr, \n",
    "                              windows, \n",
    "                              clr_weight_name=None,\n",
    "                              verbose=True, ignore_diags =0\n",
    "                              )\n",
    "    insulation_table.index = insulation_table['chrom'].astype(str) + '_' + (insulation_table['start']//res).astype(str)\n",
    "    \n",
    "    tmp = insulation_table[['log2_insulation_score_25000','boundary_strength_25000']]\n",
    "    tmp.columns = [f\"{group}.ins_score\",f\"{group}.strength\"]\n",
    "    result.append(tmp)\n",
    "\n",
    "result = pd.concat(result, axis = 1)"
   ]
  },
  {
   "cell_type": "code",
   "execution_count": 14,
   "id": "ce5fac46-6459-4885-b53d-d8cc37d5618a",
   "metadata": {},
   "outputs": [
    {
     "data": {
      "text/plain": [
       "777"
      ]
     },
     "execution_count": 14,
     "metadata": {},
     "output_type": "execute_result"
    }
   ],
   "source": [
    "##select all age diff domain\n",
    "binall = pd.read_hdf(f'/home/qzeng_salk_edu/project/240205-domain/CellType.Age.Diff.Domain/{ct}/{ct}_bin_stats.hdf', key='data')\n",
    "selb = (binall['chi2filter'] & binall['ins_lm'] & (binall['probdiff']>0.05) & binall['diff_sc'])\n",
    "selected_bins = selb[selb].index\n",
    "len(selected_bins)"
   ]
  },
  {
   "cell_type": "code",
   "execution_count": 15,
   "id": "47a7ea59-af29-4884-912c-470953ccdb68",
   "metadata": {},
   "outputs": [],
   "source": [
    "strength = result[result.index.isin(selected_bins)]"
   ]
  },
  {
   "cell_type": "code",
   "execution_count": 16,
   "id": "38bfeb0f-2bf2-4e6d-8e46-4f2474691c27",
   "metadata": {},
   "outputs": [
    {
     "data": {
      "text/html": [
       "<div>\n",
       "<style scoped>\n",
       "    .dataframe tbody tr th:only-of-type {\n",
       "        vertical-align: middle;\n",
       "    }\n",
       "\n",
       "    .dataframe tbody tr th {\n",
       "        vertical-align: top;\n",
       "    }\n",
       "\n",
       "    .dataframe thead th {\n",
       "        text-align: right;\n",
       "    }\n",
       "</style>\n",
       "<table border=\"1\" class=\"dataframe\">\n",
       "  <thead>\n",
       "    <tr style=\"text-align: right;\">\n",
       "      <th></th>\n",
       "      <th>chr1_0</th>\n",
       "      <th>chr1_1</th>\n",
       "      <th>chr1_2</th>\n",
       "      <th>chr1_3</th>\n",
       "      <th>chr1_4</th>\n",
       "      <th>chr1_5</th>\n",
       "      <th>chr1_6</th>\n",
       "      <th>chr1_7</th>\n",
       "      <th>chr1_8</th>\n",
       "      <th>chr1_9</th>\n",
       "      <th>...</th>\n",
       "      <th>chr19_2448</th>\n",
       "      <th>chr19_2449</th>\n",
       "      <th>chr19_2450</th>\n",
       "      <th>chr19_2451</th>\n",
       "      <th>chr19_2452</th>\n",
       "      <th>chr19_2453</th>\n",
       "      <th>chr19_2454</th>\n",
       "      <th>chr19_2455</th>\n",
       "      <th>chr19_2456</th>\n",
       "      <th>chr19_2457</th>\n",
       "    </tr>\n",
       "  </thead>\n",
       "  <tbody>\n",
       "    <tr>\n",
       "      <th>DG_Glut.8wk</th>\n",
       "      <td>1.000000</td>\n",
       "      <td>0.0</td>\n",
       "      <td>0.0</td>\n",
       "      <td>0.0</td>\n",
       "      <td>0.0</td>\n",
       "      <td>0.0</td>\n",
       "      <td>0.0</td>\n",
       "      <td>0.0</td>\n",
       "      <td>0.0</td>\n",
       "      <td>0.0</td>\n",
       "      <td>...</td>\n",
       "      <td>0.006289</td>\n",
       "      <td>0.076869</td>\n",
       "      <td>0.009783</td>\n",
       "      <td>0.003494</td>\n",
       "      <td>0.004892</td>\n",
       "      <td>0.002795</td>\n",
       "      <td>0.0</td>\n",
       "      <td>0.0</td>\n",
       "      <td>0.0</td>\n",
       "      <td>1.0</td>\n",
       "    </tr>\n",
       "    <tr>\n",
       "      <th>DG_Glut.18mo</th>\n",
       "      <td>0.999301</td>\n",
       "      <td>0.0</td>\n",
       "      <td>0.0</td>\n",
       "      <td>0.0</td>\n",
       "      <td>0.0</td>\n",
       "      <td>0.0</td>\n",
       "      <td>0.0</td>\n",
       "      <td>0.0</td>\n",
       "      <td>0.0</td>\n",
       "      <td>0.0</td>\n",
       "      <td>...</td>\n",
       "      <td>0.009085</td>\n",
       "      <td>0.078267</td>\n",
       "      <td>0.013277</td>\n",
       "      <td>0.004193</td>\n",
       "      <td>0.002795</td>\n",
       "      <td>0.003494</td>\n",
       "      <td>0.0</td>\n",
       "      <td>0.0</td>\n",
       "      <td>0.0</td>\n",
       "      <td>1.0</td>\n",
       "    </tr>\n",
       "  </tbody>\n",
       "</table>\n",
       "<p>2 rows × 98520 columns</p>\n",
       "</div>"
      ],
      "text/plain": [
       "                chr1_0  chr1_1  chr1_2  chr1_3  chr1_4  chr1_5  chr1_6  \\\n",
       "DG_Glut.8wk   1.000000     0.0     0.0     0.0     0.0     0.0     0.0   \n",
       "DG_Glut.18mo  0.999301     0.0     0.0     0.0     0.0     0.0     0.0   \n",
       "\n",
       "              chr1_7  chr1_8  chr1_9  ...  chr19_2448  chr19_2449  chr19_2450  \\\n",
       "DG_Glut.8wk      0.0     0.0     0.0  ...    0.006289    0.076869    0.009783   \n",
       "DG_Glut.18mo     0.0     0.0     0.0  ...    0.009085    0.078267    0.013277   \n",
       "\n",
       "              chr19_2451  chr19_2452  chr19_2453  chr19_2454  chr19_2455  \\\n",
       "DG_Glut.8wk     0.003494    0.004892    0.002795         0.0         0.0   \n",
       "DG_Glut.18mo    0.004193    0.002795    0.003494         0.0         0.0   \n",
       "\n",
       "              chr19_2456  chr19_2457  \n",
       "DG_Glut.8wk          0.0         1.0  \n",
       "DG_Glut.18mo         0.0         1.0  \n",
       "\n",
       "[2 rows x 98520 columns]"
      ]
     },
     "execution_count": 16,
     "metadata": {},
     "output_type": "execute_result"
    }
   ],
   "source": [
    "## Load boundary probability\n",
    "ddir = f'/home/qzeng_salk_edu/project/240205-domain/CellType.Age.Diff.Domain/{ct}'\n",
    "bound_count_ct = pd.read_hdf(f'{ddir}/{ct}_boundcount.hdf', key='data').loc[leg]\n",
    "cell_count_ct = pd.read_csv(f'{ddir}/{ct}_cellcount.csv.gz', index_col=0, header=0).loc[leg]['count']\n",
    "bound_prob_ct = bound_count_ct /np.array(cell_count_ct)[:, None]\n",
    "bound_prob_ct"
   ]
  },
  {
   "cell_type": "code",
   "execution_count": 19,
   "id": "47047668-03be-4b08-97af-16966240dec0",
   "metadata": {},
   "outputs": [],
   "source": [
    "use_prop = bound_prob_ct.T.loc[selected_bins]\n",
    "use_prop['prob_change'] = use_prop[f\"{ct}.18mo\"] - use_prop[f\"{ct}.8wk\"]"
   ]
  },
  {
   "cell_type": "code",
   "execution_count": 20,
   "id": "5e76c999-86d1-4db0-8850-ed2c407ff6d7",
   "metadata": {},
   "outputs": [],
   "source": [
    "strength['strength_change'] = strength[f\"{ct}.18mo.ins_score\"] - strength[f\"{ct}.8wk.ins_score\"]"
   ]
  },
  {
   "cell_type": "code",
   "execution_count": 21,
   "id": "cbbd5d9d-cdc9-43ee-925b-16b661567438",
   "metadata": {},
   "outputs": [],
   "source": [
    "toplot = pd.concat([use_prop['prob_change'],strength['strength_change'] ], axis = 1)"
   ]
  },
  {
   "cell_type": "code",
   "execution_count": 22,
   "id": "22e7372b-ecce-4792-89ce-99a2c2aa448d",
   "metadata": {},
   "outputs": [
    {
     "data": {
      "text/plain": [
       "[(-0.1, 0.1), (-2.0, 2.0)]"
      ]
     },
     "execution_count": 22,
     "metadata": {},
     "output_type": "execute_result"
    },
    {
     "data": {
      "image/png": "[encoded data removed]",
      "text/plain": [
       "<Figure size 300x300 with 1 Axes>"
      ]
     },
     "metadata": {},
     "output_type": "display_data"
    }
   ],
   "source": [
    "fig, ax  = plt.subplots(figsize = (3,3), dpi = 100)\n",
    "sns.scatterplot(data = toplot,ax = ax,s =3, linewidth = 0,\n",
    "               x = 'prob_change',y = 'strength_change')\n",
    "ax.set(xlim = (-0.1, 0.1), ylim= (-2, 2))"
   ]
  },
  {
   "cell_type": "code",
   "execution_count": null,
   "id": "5f55ea9c-047a-40d1-836c-10dbfb2183e9",
   "metadata": {},
   "outputs": [],
   "source": []
  },
  {
   "cell_type": "code",
   "execution_count": null,
   "id": "8362aa08-7efb-450a-a737-f6562e244fac",
   "metadata": {},
   "outputs": [],
   "source": []
  },
  {
   "cell_type": "code",
   "execution_count": null,
   "id": "2560409c-8877-479d-baea-5421cc9a1a49",
   "metadata": {},
   "outputs": [],
   "source": []
  },
  {
   "cell_type": "code",
   "execution_count": null,
   "id": "6c66f36d-6e8d-45ad-b3a4-e2e7130decd5",
   "metadata": {},
   "outputs": [],
   "source": []
  },
  {
   "cell_type": "code",
   "execution_count": null,
   "id": "6c096c9e-266f-4614-bcf8-3c05e695f099",
   "metadata": {},
   "outputs": [],
   "source": []
  },
  {
   "cell_type": "code",
   "execution_count": null,
   "id": "dcfe5082-e889-436c-80ef-f20f04c6ed53",
   "metadata": {},
   "outputs": [],
   "source": []
  },
  {
   "cell_type": "code",
   "execution_count": null,
   "id": "5924994e-71ee-4690-8e1f-c021331694e3",
   "metadata": {},
   "outputs": [],
   "source": []
  }
 ],
 "metadata": {
  "kernelspec": {
   "display_name": "Python 3 (ipykernel)",
   "language": "python",
   "name": "python3"
  },
  "language_info": {
   "codemirror_mode": {
    "name": "ipython",
    "version": 3
   },
   "file_extension": ".py",
   "mimetype": "text/x-python",
   "name": "python",
   "nbconvert_exporter": "python",
   "pygments_lexer": "ipython3",
   "version": "3.10.12"
  }
 },
 "nbformat": 4,
 "nbformat_minor": 5
}
