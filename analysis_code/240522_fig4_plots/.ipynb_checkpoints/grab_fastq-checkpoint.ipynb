{
 "cells": [
  {
   "cell_type": "code",
   "execution_count": null,
   "id": "04332e53-2ce0-415f-a6aa-d456b08ab895",
   "metadata": {},
   "outputs": [],
   "source": []
  },
  {
   "cell_type": "code",
   "execution_count": 2,
   "id": "f92eed54-b8dc-462d-80ba-253a8597705f",
   "metadata": {},
   "outputs": [],
   "source": [
    "import glob\n",
    "import pandas as pd"
   ]
  },
  {
   "cell_type": "code",
   "execution_count": 3,
   "id": "988a097e-f7e4-4cd7-b04f-063b02fbd227",
   "metadata": {},
   "outputs": [],
   "source": [
    "meta = pd.read_csv('/data/metadata/240104_m3C_META.csv', index_col =0)"
   ]
  },
  {
   "cell_type": "code",
   "execution_count": 5,
   "id": "c125defa-87da-4094-9128-0a4437e34f04",
   "metadata": {},
   "outputs": [],
   "source": [
    "sc_allc = glob.glob(f\"/data/female-amb/AMB-F-mapping/*/*/*/allc-CGN/*.CGN-Merge.allc.tsv.gz\")"
   ]
  },
  {
   "cell_type": "code",
   "execution_count": 6,
   "id": "3d21e9c6-e999-448b-9d2d-cb4da6cf76a9",
   "metadata": {},
   "outputs": [
    {
     "data": {
      "text/plain": [
       "'/data/female-amb/AMB-F-mapping/pool_amb38/mapping_000000/mapping_000000/allc-CGN/AMB_220405_8wk_5E_6E_1_P1-1-K15-A14.CGN-Merge.allc.tsv.gz'"
      ]
     },
     "execution_count": 6,
     "metadata": {},
     "output_type": "execute_result"
    }
   ],
   "source": [
    "sc_allc[2]"
   ]
  },
  {
   "cell_type": "code",
   "execution_count": 7,
   "id": "ad8903eb-4cfe-414a-9d04-b9d9be39dd3e",
   "metadata": {},
   "outputs": [],
   "source": [
    "sc_cell_id = [path.split('/')[-1].split('.')[0] for path in sc_allc]"
   ]
  },
  {
   "cell_type": "code",
   "execution_count": 19,
   "id": "e740c61f-4e87-4254-b6ac-481f0ac4348c",
   "metadata": {},
   "outputs": [],
   "source": [
    "allc_paths = pd.DataFrame({'allc_path':sc_allc}, index = sc_cell_id)"
   ]
  },
  {
   "cell_type": "code",
   "execution_count": 20,
   "id": "516c0b0f-e664-4ee6-8d80-b8cced21a181",
   "metadata": {},
   "outputs": [],
   "source": [
    "allc_paths['celltype'] = meta['AgingMajorType']"
   ]
  },
  {
   "cell_type": "code",
   "execution_count": 14,
   "id": "f5cbec97-659b-4a42-8d0d-b781e4facae9",
   "metadata": {},
   "outputs": [],
   "source": [
    "allc_paths.to_csv('gcp_female_allc.csv')"
   ]
  },
  {
   "cell_type": "code",
   "execution_count": 29,
   "id": "e632d793-3d79-42e7-8910-14b99d231c15",
   "metadata": {},
   "outputs": [],
   "source": [
    "# Define the replacement function\n",
    "def replace_chars(celltype):\n",
    "    if isinstance(celltype, str):  # Ensure the value is a string\n",
    "        return celltype.replace(' ', '_').replace('/', '')\n",
    "    return celltype\n",
    "\n",
    "# Apply the function to the 'celltype' column\n",
    "allc_paths['celltype'] = allc_paths['celltype'].apply(replace_chars)\n"
   ]
  },
  {
   "cell_type": "code",
   "execution_count": 32,
   "id": "9a7c1910-c557-48ed-84a3-368756758874",
   "metadata": {},
   "outputs": [],
   "source": [
    "all_cts = allc_paths['celltype'].unique()"
   ]
  },
  {
   "cell_type": "code",
   "execution_count": 40,
   "id": "4c1e30fe-b70d-4655-9e7d-57087f5cde51",
   "metadata": {},
   "outputs": [
    {
     "data": {
      "text/plain": [
       "True"
      ]
     },
     "execution_count": 40,
     "metadata": {},
     "output_type": "execute_result"
    }
   ],
   "source": [
    "'L5_NP_CTX_Glut' in all_cts"
   ]
  },
  {
   "cell_type": "code",
   "execution_count": null,
   "id": "4285fbc8-494b-4197-95a7-bcab78efd2bf",
   "metadata": {},
   "outputs": [],
   "source": []
  },
  {
   "cell_type": "code",
   "execution_count": null,
   "id": "4ac8d2bc-8589-45a5-bcf9-81e9b470df4d",
   "metadata": {},
   "outputs": [],
   "source": []
  },
  {
   "cell_type": "code",
   "execution_count": null,
   "id": "a9d95bb0-fce4-4fea-b6e5-57e75c762939",
   "metadata": {},
   "outputs": [],
   "source": []
  }
 ],
 "metadata": {
  "kernelspec": {
   "display_name": "Python 3 (ipykernel)",
   "language": "python",
   "name": "python3"
  },
  "language_info": {
   "codemirror_mode": {
    "name": "ipython",
    "version": 3
   },
   "file_extension": ".py",
   "mimetype": "text/x-python",
   "name": "python",
   "nbconvert_exporter": "python",
   "pygments_lexer": "ipython3",
   "version": "3.10.12"
  }
 },
 "nbformat": 4,
 "nbformat_minor": 5
}
