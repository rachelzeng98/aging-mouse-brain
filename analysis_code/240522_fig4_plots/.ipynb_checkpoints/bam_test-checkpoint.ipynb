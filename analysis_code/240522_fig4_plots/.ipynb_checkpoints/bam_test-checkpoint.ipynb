{
 "cells": [
  {
   "cell_type": "code",
   "execution_count": null,
   "id": "0740804d-c45c-4bb9-a085-bccde3662ab1",
   "metadata": {},
   "outputs": [],
   "source": []
  },
  {
   "cell_type": "code",
   "execution_count": 5,
   "id": "ce553d76-90be-4fd2-9333-380c3416a8c1",
   "metadata": {},
   "outputs": [],
   "source": [
    "input = 'AMB_220712_18mo_7H_8H_9G_2_P1-3-I3-P6.hisat3n_dna.all_reads.name_sort.bam'"
   ]
  },
  {
   "cell_type": "code",
   "execution_count": 19,
   "id": "ea9233f4-5541-4168-b8f3-67f2f13fa1d3",
   "metadata": {},
   "outputs": [],
   "source": [
    "region = 'chr13:68173500-68274000'"
   ]
  },
  {
   "cell_type": "code",
   "execution_count": 10,
   "id": "f35b86fa-6fe7-4228-b858-4d710b28be57",
   "metadata": {},
   "outputs": [
    {
     "data": {
      "text/plain": [
       "'samtools sort -o sorted_input.bam AMB_220712_18mo_7H_8H_9G_2_P1-3-I3-P6.hisat3n_dna.all_reads.name_sort.bam'"
      ]
     },
     "execution_count": 10,
     "metadata": {},
     "output_type": "execute_result"
    }
   ],
   "source": [
    "command = f\"samtools sort -o sorted_input.bam {input}\"\n",
    "command "
   ]
  },
  {
   "cell_type": "code",
   "execution_count": 12,
   "id": "02594ff3-10b8-45d6-966a-73d345a4b8ec",
   "metadata": {},
   "outputs": [
    {
     "data": {
      "text/plain": [
       "'samtools index sorted_input.bam'"
      ]
     },
     "execution_count": 12,
     "metadata": {},
     "output_type": "execute_result"
    }
   ],
   "source": [
    "input = 'sorted_input.bam'\n",
    "command = f\"samtools index {input}\"\n",
    "command"
   ]
  },
  {
   "cell_type": "code",
   "execution_count": 17,
   "id": "1200f9b3-6bfe-456a-9971-9e2d9f8bc418",
   "metadata": {},
   "outputs": [
    {
     "data": {
      "text/plain": [
       "'samtools view -b sorted_input.bam chr13:68173500-68174000 > region.bam'"
      ]
     },
     "execution_count": 17,
     "metadata": {},
     "output_type": "execute_result"
    }
   ],
   "source": [
    "command = f\"samtools view -b {input} {region} > region.bam\"\n",
    "command"
   ]
  },
  {
   "cell_type": "code",
   "execution_count": 20,
   "id": "1a84c53f-ab57-4c5f-8f55-2047317618de",
   "metadata": {},
   "outputs": [
    {
     "data": {
      "text/plain": [
       "'bedtools bamtobed -i region.bam > chimeric_reads.bed'"
      ]
     },
     "execution_count": 20,
     "metadata": {},
     "output_type": "execute_result"
    }
   ],
   "source": [
    "command = f\"bedtools bamtobed -i region.bam > chimeric_reads.bed\"\n",
    "command"
   ]
  },
  {
   "cell_type": "code",
   "execution_count": null,
   "id": "c1f76db7-9165-4e68-aa61-5cf827d3cf48",
   "metadata": {},
   "outputs": [],
   "source": []
  },
  {
   "cell_type": "code",
   "execution_count": null,
   "id": "6bff8480-e228-4206-b062-da70729fc77b",
   "metadata": {},
   "outputs": [],
   "source": []
  },
  {
   "cell_type": "code",
   "execution_count": null,
   "id": "787f1920-0331-4793-bb68-af96602f54b0",
   "metadata": {},
   "outputs": [],
   "source": []
  },
  {
   "cell_type": "code",
   "execution_count": null,
   "id": "cc9d539e-7226-46c4-b2d0-b12efd0d6275",
   "metadata": {},
   "outputs": [],
   "source": []
  },
  {
   "cell_type": "code",
   "execution_count": null,
   "id": "8b4557e8-d52b-47e7-ba78-bb1eaabf513a",
   "metadata": {},
   "outputs": [],
   "source": []
  },
  {
   "cell_type": "code",
   "execution_count": null,
   "id": "b941010b-9fdc-40dc-8c08-a74c8cdc558b",
   "metadata": {},
   "outputs": [],
   "source": []
  },
  {
   "cell_type": "code",
   "execution_count": null,
   "id": "e2830795-6243-45e9-a2b0-bae9d9e07e2a",
   "metadata": {},
   "outputs": [],
   "source": []
  }
 ],
 "metadata": {
  "kernelspec": {
   "display_name": "Python 3 (ipykernel)",
   "language": "python",
   "name": "python3"
  },
  "language_info": {
   "codemirror_mode": {
    "name": "ipython",
    "version": 3
   },
   "file_extension": ".py",
   "mimetype": "text/x-python",
   "name": "python",
   "nbconvert_exporter": "python",
   "pygments_lexer": "ipython3",
   "version": "3.10.12"
  }
 },
 "nbformat": 4,
 "nbformat_minor": 5
}
