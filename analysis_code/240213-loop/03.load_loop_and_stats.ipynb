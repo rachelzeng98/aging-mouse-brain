{
 "cells": [
  {
   "cell_type": "code",
   "execution_count": 1,
   "id": "6ea8532e-bcef-4700-8142-23789caa8fd3",
   "metadata": {},
   "outputs": [],
   "source": [
    "import cooler\n",
    "import numpy as np\n",
    "import pandas as pd\n",
    "from scipy.sparse import triu\n",
    "from scipy.stats import pearsonr, zscore, norm\n",
    "from multiprocessing import Pool\n",
    "from concurrent.futures import ProcessPoolExecutor, as_completed\n",
    "import matplotlib as mpl\n",
    "import matplotlib.pyplot as plt\n",
    "from matplotlib.colors import LogNorm\n",
    "from matplotlib import cm as cm\n",
    "import seaborn as sns"
   ]
  },
  {
   "cell_type": "code",
   "execution_count": 2,
   "id": "78e9a01e-e86c-480e-b4d1-f918e0f6d8c6",
   "metadata": {},
   "outputs": [
    {
     "data": {
      "text/plain": [
       "['Oligo_NN.8wk', 'Oligo_NN.9mo', 'Oligo_NN.18mo']"
      ]
     },
     "execution_count": 2,
     "metadata": {},
     "output_type": "execute_result"
    }
   ],
   "source": [
    "ct = 'Oligo_NN'\n",
    "ages = ['8wk','9mo','18mo']\n",
    "leg = [f\"{ct}.{age}\" for age in ages]\n",
    "leg"
   ]
  },
  {
   "cell_type": "code",
   "execution_count": 3,
   "id": "5433df98-3caa-4478-a36d-b4e30a90187e",
   "metadata": {},
   "outputs": [
    {
     "data": {
      "text/plain": [
       "[['Oligo_NN.8wk'], ['Oligo_NN.9mo'], ['Oligo_NN.18mo']]"
      ]
     },
     "execution_count": 3,
     "metadata": {},
     "output_type": "execute_result"
    }
   ],
   "source": [
    "ctgroup = [[_leg] for _leg in leg]\n",
    "ctgroup"
   ]
  },
  {
   "cell_type": "code",
   "execution_count": 4,
   "id": "3fb77d01-8a4d-46f1-8a30-e0e2a80fb177",
   "metadata": {},
   "outputs": [],
   "source": [
    "indir = '/data/female-amb/loop/'\n",
    "outdir = f'loop_ct_age/diff/{ct}'\n",
    "res = 10000\n",
    "group = ct"
   ]
  },
  {
   "cell_type": "code",
   "execution_count": 5,
   "id": "183fa7a9-12eb-411d-8fae-cb4d47eab8d6",
   "metadata": {},
   "outputs": [],
   "source": [
    "chrom_size_path = f'/ref/m3C/mm10.main.nochrM.nochrY.chrom.sizes'\n",
    "chrom_sizes = cooler.read_chromsizes(chrom_size_path, all_names=True)"
   ]
  },
  {
   "cell_type": "markdown",
   "id": "2886f25e-a4c5-4a9c-9005-df85194c180b",
   "metadata": {},
   "source": [
    "## load loop position and anova"
   ]
  },
  {
   "cell_type": "code",
   "execution_count": 6,
   "id": "c5ed25c1-f95c-40a7-9d8f-99f6e23d30b2",
   "metadata": {},
   "outputs": [
    {
     "data": {
      "text/html": [
       "<div>\n",
       "<style scoped>\n",
       "    .dataframe tbody tr th:only-of-type {\n",
       "        vertical-align: middle;\n",
       "    }\n",
       "\n",
       "    .dataframe tbody tr th {\n",
       "        vertical-align: top;\n",
       "    }\n",
       "\n",
       "    .dataframe thead th {\n",
       "        text-align: right;\n",
       "    }\n",
       "</style>\n",
       "<table border=\"1\" class=\"dataframe\">\n",
       "  <thead>\n",
       "    <tr style=\"text-align: right;\">\n",
       "      <th></th>\n",
       "      <th>0</th>\n",
       "      <th>1</th>\n",
       "      <th>2</th>\n",
       "      <th>3</th>\n",
       "      <th>4</th>\n",
       "      <th>5</th>\n",
       "    </tr>\n",
       "  </thead>\n",
       "  <tbody>\n",
       "    <tr>\n",
       "      <th>0</th>\n",
       "      <td>chr1</td>\n",
       "      <td>3110000</td>\n",
       "      <td>3120000</td>\n",
       "      <td>chr1</td>\n",
       "      <td>3650000</td>\n",
       "      <td>3660000</td>\n",
       "    </tr>\n",
       "    <tr>\n",
       "      <th>1</th>\n",
       "      <td>chr1</td>\n",
       "      <td>3190000</td>\n",
       "      <td>3200000</td>\n",
       "      <td>chr1</td>\n",
       "      <td>3440000</td>\n",
       "      <td>3450000</td>\n",
       "    </tr>\n",
       "    <tr>\n",
       "      <th>2</th>\n",
       "      <td>chr1</td>\n",
       "      <td>3190000</td>\n",
       "      <td>3200000</td>\n",
       "      <td>chr1</td>\n",
       "      <td>3450000</td>\n",
       "      <td>3460000</td>\n",
       "    </tr>\n",
       "    <tr>\n",
       "      <th>3</th>\n",
       "      <td>chr1</td>\n",
       "      <td>3200000</td>\n",
       "      <td>3210000</td>\n",
       "      <td>chr1</td>\n",
       "      <td>3360000</td>\n",
       "      <td>3370000</td>\n",
       "    </tr>\n",
       "    <tr>\n",
       "      <th>4</th>\n",
       "      <td>chr1</td>\n",
       "      <td>3200000</td>\n",
       "      <td>3210000</td>\n",
       "      <td>chr1</td>\n",
       "      <td>3370000</td>\n",
       "      <td>3380000</td>\n",
       "    </tr>\n",
       "    <tr>\n",
       "      <th>...</th>\n",
       "      <td>...</td>\n",
       "      <td>...</td>\n",
       "      <td>...</td>\n",
       "      <td>...</td>\n",
       "      <td>...</td>\n",
       "      <td>...</td>\n",
       "    </tr>\n",
       "    <tr>\n",
       "      <th>328123</th>\n",
       "      <td>chr19</td>\n",
       "      <td>59460000</td>\n",
       "      <td>59470000</td>\n",
       "      <td>chr19</td>\n",
       "      <td>60310000</td>\n",
       "      <td>60320000</td>\n",
       "    </tr>\n",
       "    <tr>\n",
       "      <th>328124</th>\n",
       "      <td>chr19</td>\n",
       "      <td>59460000</td>\n",
       "      <td>59470000</td>\n",
       "      <td>chr19</td>\n",
       "      <td>60320000</td>\n",
       "      <td>60330000</td>\n",
       "    </tr>\n",
       "    <tr>\n",
       "      <th>328125</th>\n",
       "      <td>chr19</td>\n",
       "      <td>59460000</td>\n",
       "      <td>59470000</td>\n",
       "      <td>chr19</td>\n",
       "      <td>60330000</td>\n",
       "      <td>60340000</td>\n",
       "    </tr>\n",
       "    <tr>\n",
       "      <th>328126</th>\n",
       "      <td>chr19</td>\n",
       "      <td>59460000</td>\n",
       "      <td>59470000</td>\n",
       "      <td>chr19</td>\n",
       "      <td>60380000</td>\n",
       "      <td>60390000</td>\n",
       "    </tr>\n",
       "    <tr>\n",
       "      <th>328127</th>\n",
       "      <td>chr19</td>\n",
       "      <td>59480000</td>\n",
       "      <td>59490000</td>\n",
       "      <td>chr19</td>\n",
       "      <td>60380000</td>\n",
       "      <td>60390000</td>\n",
       "    </tr>\n",
       "  </tbody>\n",
       "</table>\n",
       "<p>328128 rows × 6 columns</p>\n",
       "</div>"
      ],
      "text/plain": [
       "            0         1         2      3         4         5\n",
       "0        chr1   3110000   3120000   chr1   3650000   3660000\n",
       "1        chr1   3190000   3200000   chr1   3440000   3450000\n",
       "2        chr1   3190000   3200000   chr1   3450000   3460000\n",
       "3        chr1   3200000   3210000   chr1   3360000   3370000\n",
       "4        chr1   3200000   3210000   chr1   3370000   3380000\n",
       "...       ...       ...       ...    ...       ...       ...\n",
       "328123  chr19  59460000  59470000  chr19  60310000  60320000\n",
       "328124  chr19  59460000  59470000  chr19  60320000  60330000\n",
       "328125  chr19  59460000  59470000  chr19  60330000  60340000\n",
       "328126  chr19  59460000  59470000  chr19  60380000  60390000\n",
       "328127  chr19  59480000  59490000  chr19  60380000  60390000\n",
       "\n",
       "[328128 rows x 6 columns]"
      ]
     },
     "execution_count": 6,
     "metadata": {},
     "output_type": "execute_result"
    }
   ],
   "source": [
    "loopall = [pd.read_csv(f'{indir}/{ct_age}/{ct_age}/{ct_age}.loop.bedpe', sep='\\t', index_col=None, header=None) for ct_age in leg]\n",
    "loopall = pd.concat(loopall, axis=0)\n",
    "loopall = loopall.drop([6], axis=1).drop_duplicates(subset=[0,1,4]).sort_values([0,1,4])\n",
    "loopall = pd.concat([loopall[(loopall[0]==c).values] for c in chrom_sizes.index[:-1]])\n",
    "loopall.index = np.arange(loopall.shape[0])\n",
    "loopall"
   ]
  },
  {
   "cell_type": "code",
   "execution_count": 7,
   "id": "0989764d-967b-4692-bcdd-b61bb2bd69bb",
   "metadata": {},
   "outputs": [],
   "source": [
    "import pathlib\n",
    "p = pathlib.Path(f\"{outdir}\")\n",
    "p.mkdir(exist_ok = True)"
   ]
  },
  {
   "cell_type": "code",
   "execution_count": 8,
   "id": "4e6eb26c-a8fa-4c8f-a068-0b53281b0a1f",
   "metadata": {},
   "outputs": [],
   "source": [
    "loopall.to_csv(f'{outdir}/merged_loop.bedpe', sep='\\t', index=False, header=False)\n",
    "loopall.to_hdf(f'{outdir}/merged_loop.hdf', key='data')"
   ]
  },
  {
   "cell_type": "code",
   "execution_count": 9,
   "id": "77de60ca-3349-4c23-9787-fd590f08c338",
   "metadata": {},
   "outputs": [],
   "source": [
    "for c in chrom_sizes.index[:-1]:\n",
    "    loopfilter = (loopall[0]==c)\n",
    "    looptmp = loopall.loc[loopfilter, [1,4]].values // res\n",
    "    for matrix in ['Q', 'E', 'T']:\n",
    "        cool = cooler.Cooler(f'{outdir}/{matrix}pv.cool')\n",
    "        pv = triu(cool.matrix(balance=False, sparse=True).fetch(c)).tocsr()\n",
    "        loopall.loc[loopfilter, f'{matrix}anova'] = pv[(looptmp[:,0], looptmp[:,1])].A1"
   ]
  },
  {
   "cell_type": "code",
   "execution_count": 10,
   "id": "3512f29f-07e1-4abd-adbe-97b1346a8e66",
   "metadata": {},
   "outputs": [],
   "source": [
    "loopall.to_hdf(f'{outdir}/merged_loop.hdf', key='data')"
   ]
  },
  {
   "cell_type": "markdown",
   "id": "2e828084-9321-47d2-9200-232e91e84d4c",
   "metadata": {},
   "source": [
    "## load loop Q"
   ]
  },
  {
   "cell_type": "code",
   "execution_count": 11,
   "id": "97a2821e-7c52-40ea-95df-05921ea1afdb",
   "metadata": {},
   "outputs": [
    {
     "data": {
      "text/html": [
       "<div>\n",
       "<style scoped>\n",
       "    .dataframe tbody tr th:only-of-type {\n",
       "        vertical-align: middle;\n",
       "    }\n",
       "\n",
       "    .dataframe tbody tr th {\n",
       "        vertical-align: top;\n",
       "    }\n",
       "\n",
       "    .dataframe thead th {\n",
       "        text-align: right;\n",
       "    }\n",
       "</style>\n",
       "<table border=\"1\" class=\"dataframe\">\n",
       "  <thead>\n",
       "    <tr style=\"text-align: right;\">\n",
       "      <th></th>\n",
       "      <th>0</th>\n",
       "      <th>1</th>\n",
       "      <th>2</th>\n",
       "      <th>3</th>\n",
       "      <th>4</th>\n",
       "      <th>5</th>\n",
       "      <th>Qanova</th>\n",
       "      <th>Eanova</th>\n",
       "      <th>Tanova</th>\n",
       "    </tr>\n",
       "  </thead>\n",
       "  <tbody>\n",
       "    <tr>\n",
       "      <th>0</th>\n",
       "      <td>chr1</td>\n",
       "      <td>3110000</td>\n",
       "      <td>3120000</td>\n",
       "      <td>chr1</td>\n",
       "      <td>3650000</td>\n",
       "      <td>3660000</td>\n",
       "      <td>4.277250</td>\n",
       "      <td>7.140894</td>\n",
       "      <td>0.364377</td>\n",
       "    </tr>\n",
       "    <tr>\n",
       "      <th>1</th>\n",
       "      <td>chr1</td>\n",
       "      <td>3190000</td>\n",
       "      <td>3200000</td>\n",
       "      <td>chr1</td>\n",
       "      <td>3440000</td>\n",
       "      <td>3450000</td>\n",
       "      <td>0.089684</td>\n",
       "      <td>4.566628</td>\n",
       "      <td>0.401627</td>\n",
       "    </tr>\n",
       "    <tr>\n",
       "      <th>2</th>\n",
       "      <td>chr1</td>\n",
       "      <td>3190000</td>\n",
       "      <td>3200000</td>\n",
       "      <td>chr1</td>\n",
       "      <td>3450000</td>\n",
       "      <td>3460000</td>\n",
       "      <td>1.310871</td>\n",
       "      <td>7.336428</td>\n",
       "      <td>0.280264</td>\n",
       "    </tr>\n",
       "    <tr>\n",
       "      <th>3</th>\n",
       "      <td>chr1</td>\n",
       "      <td>3200000</td>\n",
       "      <td>3210000</td>\n",
       "      <td>chr1</td>\n",
       "      <td>3360000</td>\n",
       "      <td>3370000</td>\n",
       "      <td>3.286088</td>\n",
       "      <td>6.090084</td>\n",
       "      <td>1.342627</td>\n",
       "    </tr>\n",
       "    <tr>\n",
       "      <th>4</th>\n",
       "      <td>chr1</td>\n",
       "      <td>3200000</td>\n",
       "      <td>3210000</td>\n",
       "      <td>chr1</td>\n",
       "      <td>3370000</td>\n",
       "      <td>3380000</td>\n",
       "      <td>3.805864</td>\n",
       "      <td>8.528182</td>\n",
       "      <td>2.405510</td>\n",
       "    </tr>\n",
       "    <tr>\n",
       "      <th>...</th>\n",
       "      <td>...</td>\n",
       "      <td>...</td>\n",
       "      <td>...</td>\n",
       "      <td>...</td>\n",
       "      <td>...</td>\n",
       "      <td>...</td>\n",
       "      <td>...</td>\n",
       "      <td>...</td>\n",
       "      <td>...</td>\n",
       "    </tr>\n",
       "    <tr>\n",
       "      <th>328123</th>\n",
       "      <td>chr19</td>\n",
       "      <td>59460000</td>\n",
       "      <td>59470000</td>\n",
       "      <td>chr19</td>\n",
       "      <td>60310000</td>\n",
       "      <td>60320000</td>\n",
       "      <td>1.108318</td>\n",
       "      <td>0.187264</td>\n",
       "      <td>2.239202</td>\n",
       "    </tr>\n",
       "    <tr>\n",
       "      <th>328124</th>\n",
       "      <td>chr19</td>\n",
       "      <td>59460000</td>\n",
       "      <td>59470000</td>\n",
       "      <td>chr19</td>\n",
       "      <td>60320000</td>\n",
       "      <td>60330000</td>\n",
       "      <td>0.372183</td>\n",
       "      <td>0.766853</td>\n",
       "      <td>1.249559</td>\n",
       "    </tr>\n",
       "    <tr>\n",
       "      <th>328125</th>\n",
       "      <td>chr19</td>\n",
       "      <td>59460000</td>\n",
       "      <td>59470000</td>\n",
       "      <td>chr19</td>\n",
       "      <td>60330000</td>\n",
       "      <td>60340000</td>\n",
       "      <td>0.137374</td>\n",
       "      <td>0.505292</td>\n",
       "      <td>0.868124</td>\n",
       "    </tr>\n",
       "    <tr>\n",
       "      <th>328126</th>\n",
       "      <td>chr19</td>\n",
       "      <td>59460000</td>\n",
       "      <td>59470000</td>\n",
       "      <td>chr19</td>\n",
       "      <td>60380000</td>\n",
       "      <td>60390000</td>\n",
       "      <td>0.807607</td>\n",
       "      <td>10.110734</td>\n",
       "      <td>6.911905</td>\n",
       "    </tr>\n",
       "    <tr>\n",
       "      <th>328127</th>\n",
       "      <td>chr19</td>\n",
       "      <td>59480000</td>\n",
       "      <td>59490000</td>\n",
       "      <td>chr19</td>\n",
       "      <td>60380000</td>\n",
       "      <td>60390000</td>\n",
       "      <td>0.127040</td>\n",
       "      <td>8.882035</td>\n",
       "      <td>5.681733</td>\n",
       "    </tr>\n",
       "  </tbody>\n",
       "</table>\n",
       "<p>328128 rows × 9 columns</p>\n",
       "</div>"
      ],
      "text/plain": [
       "            0         1         2      3         4         5    Qanova  \\\n",
       "0        chr1   3110000   3120000   chr1   3650000   3660000  4.277250   \n",
       "1        chr1   3190000   3200000   chr1   3440000   3450000  0.089684   \n",
       "2        chr1   3190000   3200000   chr1   3450000   3460000  1.310871   \n",
       "3        chr1   3200000   3210000   chr1   3360000   3370000  3.286088   \n",
       "4        chr1   3200000   3210000   chr1   3370000   3380000  3.805864   \n",
       "...       ...       ...       ...    ...       ...       ...       ...   \n",
       "328123  chr19  59460000  59470000  chr19  60310000  60320000  1.108318   \n",
       "328124  chr19  59460000  59470000  chr19  60320000  60330000  0.372183   \n",
       "328125  chr19  59460000  59470000  chr19  60330000  60340000  0.137374   \n",
       "328126  chr19  59460000  59470000  chr19  60380000  60390000  0.807607   \n",
       "328127  chr19  59480000  59490000  chr19  60380000  60390000  0.127040   \n",
       "\n",
       "           Eanova    Tanova  \n",
       "0        7.140894  0.364377  \n",
       "1        4.566628  0.401627  \n",
       "2        7.336428  0.280264  \n",
       "3        6.090084  1.342627  \n",
       "4        8.528182  2.405510  \n",
       "...           ...       ...  \n",
       "328123   0.187264  2.239202  \n",
       "328124   0.766853  1.249559  \n",
       "328125   0.505292  0.868124  \n",
       "328126  10.110734  6.911905  \n",
       "328127   8.882035  5.681733  \n",
       "\n",
       "[328128 rows x 9 columns]"
      ]
     },
     "execution_count": 11,
     "metadata": {},
     "output_type": "execute_result"
    }
   ],
   "source": [
    "loopall = pd.read_hdf(f'{outdir}/merged_loop.hdf', key='data')\n",
    "loopall"
   ]
  },
  {
   "cell_type": "code",
   "execution_count": 12,
   "id": "4d33ff3d-4045-43a9-98bc-8ce83befc760",
   "metadata": {},
   "outputs": [],
   "source": [
    "def load_Q(ct_age, m):\n",
    "    tmp = []\n",
    "    cool_file = cooler.Cooler(f'{indir}/{ct_age}/{ct_age}/{ct_age}.{m}.cool').matrix(balance=False, sparse=True)\n",
    "    for c in chrom_sizes.index[:-1]:\n",
    "        mat = cool_file.fetch(c).tocsr()\n",
    "        tmp.append(mat[(loopall.loc[loopall[0]==c, 1].values // res, loopall.loc[loopall[0]==c, 4].values // res)].A1)\n",
    "        # print(ct, c)\n",
    "    return [ct_age, np.concatenate(tmp)]"
   ]
  },
  {
   "cell_type": "code",
   "execution_count": 13,
   "id": "b4c8401e-21bf-4f92-b3c6-cb2c4f48431f",
   "metadata": {},
   "outputs": [
    {
     "name": "stdout",
     "output_type": "stream",
     "text": [
      "Oligo_NN.8wk finished\n",
      "Oligo_NN.9mo finished\n",
      "Oligo_NN.18mo finished\n"
     ]
    }
   ],
   "source": [
    "cpu = 20\n",
    "with ProcessPoolExecutor(cpu) as executor:\n",
    "    futures = []\n",
    "    for xx in leg:\n",
    "        future = executor.submit(\n",
    "            load_Q,\n",
    "            ct_age=xx,\n",
    "            m='Q'\n",
    "        )\n",
    "        futures.append(future)\n",
    "\n",
    "    loopq = []\n",
    "    for future in as_completed(futures):\n",
    "        tmp = future.result()\n",
    "        loopq.append(pd.DataFrame(tmp[1], columns=[tmp[0]]))\n",
    "        print(f'{tmp[0]} finished')"
   ]
  },
  {
   "cell_type": "code",
   "execution_count": 14,
   "id": "f093d3f2-fbd3-489c-89f1-23fdd81dd8ab",
   "metadata": {},
   "outputs": [],
   "source": [
    "loopq = pd.concat(loopq, axis=1)\n",
    "loopq = loopq[leg]"
   ]
  },
  {
   "cell_type": "code",
   "execution_count": 15,
   "id": "f7afb518-1006-460c-93e0-36c0c92e0532",
   "metadata": {},
   "outputs": [],
   "source": [
    "loopq.to_hdf(f'{outdir}/loop_Q.hdf', key='data')"
   ]
  },
  {
   "cell_type": "code",
   "execution_count": 16,
   "id": "2c20ceef-d537-4f26-a58c-bffc70d8f247",
   "metadata": {},
   "outputs": [
    {
     "name": "stdout",
     "output_type": "stream",
     "text": [
      "Oligo_NN.9mo finished\n",
      "Oligo_NN.8wk finished\n",
      "Oligo_NN.18mo finished\n"
     ]
    }
   ],
   "source": [
    "cpu = 20\n",
    "with ProcessPoolExecutor(cpu) as executor:\n",
    "    futures = []\n",
    "    for xx in leg:\n",
    "        future = executor.submit(\n",
    "            load_Q,\n",
    "            ct_age=xx,\n",
    "            m='T'\n",
    "        )\n",
    "        futures.append(future)\n",
    "\n",
    "    loopt = []\n",
    "    for future in as_completed(futures):\n",
    "        tmp = future.result()\n",
    "        loopt.append(pd.DataFrame(tmp[1], columns=[tmp[0]]))\n",
    "        print(f'{tmp[0]} finished')\n",
    "        "
   ]
  },
  {
   "cell_type": "code",
   "execution_count": 17,
   "id": "8e86e255-006a-4d31-b025-f731487d0c56",
   "metadata": {},
   "outputs": [],
   "source": [
    "loopt = pd.concat(loopt, axis=1)\n",
    "loopt = loopt[leg]"
   ]
  },
  {
   "cell_type": "code",
   "execution_count": 18,
   "id": "93828981-0a6a-40dd-9563-2a2aa55ff5e0",
   "metadata": {},
   "outputs": [],
   "source": [
    "loopt.to_hdf(f'{outdir}/loop_T.hdf', key='data')"
   ]
  },
  {
   "cell_type": "code",
   "execution_count": 19,
   "id": "caf5dc74-ed82-48f9-91ae-8559639ff9e5",
   "metadata": {},
   "outputs": [],
   "source": [
    "loopq = pd.read_hdf(f'{outdir}/loop_Q.hdf', key='data')\n",
    "loopt = pd.read_hdf(f'{outdir}/loop_T.hdf', key='data')"
   ]
  },
  {
   "cell_type": "code",
   "execution_count": 20,
   "id": "b8179ba0-23e3-4d07-9400-aa353e2e03c5",
   "metadata": {},
   "outputs": [
    {
     "data": {
      "image/png": "[encoded data removed]",
      "text/plain": [
       "<Figure size 1200x600 with 2 Axes>"
      ]
     },
     "metadata": {},
     "output_type": "display_data"
    }
   ],
   "source": [
    "fig, axes = plt.subplots(1, 2, figsize=(4, 2), dpi=300)\n",
    "ax = axes[0]\n",
    "sns.histplot(zscore(np.log10(loopall['Tanova'])), bins=100, ax=ax)\n",
    "ax = axes[1]\n",
    "sns.histplot(zscore(loopall['Tanova']), bins=100, ax=ax)\n",
    "plt.tight_layout()"
   ]
  },
  {
   "cell_type": "code",
   "execution_count": 21,
   "id": "e490b5f5-2515-416d-8e6d-0748c4cf7e4c",
   "metadata": {},
   "outputs": [
    {
     "data": {
      "image/png": "[encoded data removed]",
      "text/plain": [
       "<Figure size 1200x600 with 2 Axes>"
      ]
     },
     "metadata": {},
     "output_type": "display_data"
    }
   ],
   "source": [
    "fig, axes = plt.subplots(1, 2, figsize=(4, 2), dpi=300)\n",
    "ax = axes[0]\n",
    "sns.histplot(zscore(np.log10(loopall['Qanova'])), bins=100, binrange=(-3,4), ax=ax)\n",
    "ax = axes[1]\n",
    "sns.histplot(zscore(loopall['Qanova']), bins=100, binrange=(-1,4), ax=ax)\n",
    "plt.tight_layout()"
   ]
  },
  {
   "cell_type": "code",
   "execution_count": 22,
   "id": "9c502445-d6d3-4ca6-b379-3a1b0881dceb",
   "metadata": {},
   "outputs": [
    {
     "name": "stdout",
     "output_type": "stream",
     "text": [
      "1.9599639845400545 1.0364333894937898\n"
     ]
    }
   ],
   "source": [
    "thres1 = norm.isf(0.025)\n",
    "thres2 = norm.isf(0.15)\n",
    "print(thres1, thres2)"
   ]
  },
  {
   "cell_type": "code",
   "execution_count": 23,
   "id": "91142af0-da6e-4ea3-8e5a-6bb89d45a713",
   "metadata": {},
   "outputs": [],
   "source": [
    "selb = ((zscore(loopall['Qanova'])>thres2) & (zscore(loopall['Tanova'])>thres2))"
   ]
  },
  {
   "cell_type": "code",
   "execution_count": 24,
   "id": "a1c0ff56-35ea-42b6-af77-d62791e0102e",
   "metadata": {},
   "outputs": [],
   "source": [
    "tmpq = loopq.loc[selb].values\n",
    "tmpq = zscore(tmpq, axis=1)"
   ]
  },
  {
   "cell_type": "code",
   "execution_count": 25,
   "id": "940fbf93-f018-43dd-ae08-b92c84c24da7",
   "metadata": {},
   "outputs": [],
   "source": [
    "tmpt = loopt.loc[selb].values\n",
    "tmpt = zscore(tmpt, axis=1)"
   ]
  },
  {
   "cell_type": "code",
   "execution_count": 26,
   "id": "541019dc-dcc7-4621-98ae-e873775c6e67",
   "metadata": {},
   "outputs": [],
   "source": [
    "np.random.seed(0)\n",
    "sel = np.random.choice(np.arange(len(tmpq)), 2000, False)"
   ]
  },
  {
   "cell_type": "code",
   "execution_count": 27,
   "id": "d622c2b0-02c4-4755-a581-58e026b63ea3",
   "metadata": {},
   "outputs": [
    {
     "data": {
      "image/png": "[encoded data removed]",
      "text/plain": [
       "<Figure size 600x600 with 4 Axes>"
      ]
     },
     "metadata": {},
     "output_type": "display_data"
    }
   ],
   "source": [
    "cg = sns.clustermap(tmpq[sel], cmap='bwr', vmin=-3, vmax=3, metric='cosine', \n",
    "                    col_cluster=False,xticklabels=leg, yticklabels=[], figsize=(6,6))"
   ]
  },
  {
   "cell_type": "code",
   "execution_count": 28,
   "id": "8d8acca5-dc1a-412f-abab-4ea0d22196a8",
   "metadata": {},
   "outputs": [],
   "source": [
    "rorder = cg.dendrogram_row.reordered_ind.copy()\n",
    "#corder = cg.dendrogram_col.reordered_ind.copy()"
   ]
  },
  {
   "cell_type": "code",
   "execution_count": 29,
   "id": "0269dfed-e108-43df-bddd-92000098bc6b",
   "metadata": {},
   "outputs": [
    {
     "ename": "NameError",
     "evalue": "name 'corder' is not defined",
     "output_type": "error",
     "traceback": [
      "\u001b[0;31m---------------------------------------------------------------------------\u001b[0m",
      "\u001b[0;31mNameError\u001b[0m                                 Traceback (most recent call last)",
      "Cell \u001b[0;32mIn[29], line 4\u001b[0m\n\u001b[1;32m      1\u001b[0m fig, axes \u001b[38;5;241m=\u001b[39m plt\u001b[38;5;241m.\u001b[39msubplots(\u001b[38;5;241m1\u001b[39m, \u001b[38;5;241m2\u001b[39m, sharey\u001b[38;5;241m=\u001b[39m\u001b[38;5;124m'\u001b[39m\u001b[38;5;124mall\u001b[39m\u001b[38;5;124m'\u001b[39m, figsize\u001b[38;5;241m=\u001b[39m(\u001b[38;5;241m6\u001b[39m, \u001b[38;5;241m5\u001b[39m), dpi\u001b[38;5;241m=\u001b[39m\u001b[38;5;241m300\u001b[39m)\n\u001b[1;32m      3\u001b[0m ax \u001b[38;5;241m=\u001b[39m axes[\u001b[38;5;241m0\u001b[39m]\n\u001b[0;32m----> 4\u001b[0m ax\u001b[38;5;241m.\u001b[39mimshow(tmpq[np\u001b[38;5;241m.\u001b[39mix_(sel[rorder], \u001b[43mcorder\u001b[49m)], cmap\u001b[38;5;241m=\u001b[39m\u001b[38;5;124m'\u001b[39m\u001b[38;5;124mbwr\u001b[39m\u001b[38;5;124m'\u001b[39m, aspect\u001b[38;5;241m=\u001b[39m\u001b[38;5;124m'\u001b[39m\u001b[38;5;124mauto\u001b[39m\u001b[38;5;124m'\u001b[39m, vmin\u001b[38;5;241m=\u001b[39m\u001b[38;5;241m-\u001b[39m\u001b[38;5;241m3\u001b[39m, vmax\u001b[38;5;241m=\u001b[39m\u001b[38;5;241m3\u001b[39m, interpolation\u001b[38;5;241m=\u001b[39m\u001b[38;5;124m'\u001b[39m\u001b[38;5;124mnone\u001b[39m\u001b[38;5;124m'\u001b[39m)\n\u001b[1;32m      5\u001b[0m ax\u001b[38;5;241m.\u001b[39mset_title(\u001b[38;5;124m'\u001b[39m\u001b[38;5;124mQ\u001b[39m\u001b[38;5;124m'\u001b[39m, fontsize\u001b[38;5;241m=\u001b[39m\u001b[38;5;241m10\u001b[39m)\n\u001b[1;32m      6\u001b[0m \u001b[38;5;66;03m# sns.despine(ax=ax, left=True, bottom=True)\u001b[39;00m\n",
      "\u001b[0;31mNameError\u001b[0m: name 'corder' is not defined"
     ]
    },
    {
     "data": {
      "image/png": "[encoded data removed]",
      "text/plain": [
       "<Figure size 1800x1500 with 2 Axes>"
      ]
     },
     "metadata": {},
     "output_type": "display_data"
    }
   ],
   "source": [
    "fig, axes = plt.subplots(1, 2, sharey='all', figsize=(6, 5), dpi=300)\n",
    "\n",
    "ax = axes[0]\n",
    "ax.imshow(tmpq[np.ix_(sel[rorder], corder)], cmap='bwr', aspect='auto', vmin=-3, vmax=3, interpolation='none')\n",
    "ax.set_title('Q', fontsize=10)\n",
    "# sns.despine(ax=ax, left=True, bottom=True)\n",
    "ax.set_xticks(np.arange(len(leg)))\n",
    "ax.set_xticklabels(labels = leg, rotation=90)\n",
    "ax.set_yticks([])\n",
    "ax.set_ylabel(f'{tmpq.shape[0]} Diff Loop')\n",
    "\n",
    "ax = axes[1]\n",
    "ax.imshow(tmpt[np.ix_(sel[rorder], corder)], cmap='bwr', aspect='auto', vmin=-3, vmax=3, interpolation='none')\n",
    "ax.set_title('T', fontsize=10)\n",
    "# sns.despine(ax=ax, left=True, bottom=True)\n",
    "ax.set_xticks(np.arange(len(leg)))\n",
    "ax.set_xticklabels(labels = leg,rotation=90)\n",
    "\n",
    "plt.tight_layout()"
   ]
  },
  {
   "cell_type": "code",
   "execution_count": null,
   "id": "d687cc1c-a51d-4faf-81d8-41a0f602db97",
   "metadata": {},
   "outputs": [],
   "source": []
  }
 ],
 "metadata": {
  "kernelspec": {
   "display_name": "Python 3 (ipykernel)",
   "language": "python",
   "name": "python3"
  },
  "language_info": {
   "codemirror_mode": {
    "name": "ipython",
    "version": 3
   },
   "file_extension": ".py",
   "mimetype": "text/x-python",
   "name": "python",
   "nbconvert_exporter": "python",
   "pygments_lexer": "ipython3",
   "version": "3.10.12"
  }
 },
 "nbformat": 4,
 "nbformat_minor": 5
}
