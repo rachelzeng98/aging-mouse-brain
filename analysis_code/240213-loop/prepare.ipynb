{
 "cells": [
  {
   "cell_type": "code",
   "execution_count": 1,
   "id": "ccca96cd-722b-402c-b3dc-170e5aac7313",
   "metadata": {
    "editable": true,
    "slideshow": {
     "slide_type": ""
    },
    "tags": []
   },
   "outputs": [],
   "source": [
    "import glob\n",
    "import pandas as pd\n",
    "import gliderport\n",
    "import joblib"
   ]
  },
  {
   "cell_type": "markdown",
   "id": "e5d6ce5f-922c-4b85-82a4-c8916ba2f258",
   "metadata": {
    "jp-MarkdownHeadingCollapsed": true
   },
   "source": [
    "## all paths"
   ]
  },
  {
   "cell_type": "code",
   "execution_count": 3,
   "id": "845ffdf6-8a8d-46ae-8a41-a7a7967fc806",
   "metadata": {
    "editable": true,
    "slideshow": {
     "slide_type": ""
    },
    "tags": []
   },
   "outputs": [],
   "source": [
    "all_paths = glob.glob('/data/female-amb/impute/10K/*.cool')"
   ]
  },
  {
   "cell_type": "code",
   "execution_count": 4,
   "id": "e1e27670-be33-47b6-bed7-1d24eb954a8e",
   "metadata": {},
   "outputs": [],
   "source": [
    "all_cells = [path.split('/')[-1].split('.')[0] for path in all_paths]"
   ]
  },
  {
   "cell_type": "code",
   "execution_count": 5,
   "id": "45664621-998f-46fb-b5b4-679d8b8bdc39",
   "metadata": {},
   "outputs": [],
   "source": [
    "cell_table = pd.DataFrame({'cell_paths':all_paths}, index = all_cells)"
   ]
  },
  {
   "cell_type": "code",
   "execution_count": 7,
   "id": "3ecf86fb-21ad-45f9-b16a-a0c272a4ba6a",
   "metadata": {
    "editable": true,
    "slideshow": {
     "slide_type": ""
    },
    "tags": []
   },
   "outputs": [],
   "source": [
    "use_cts = joblib.load('/data/metadata/m3c_use_cts')\n",
    "use_cts = [ct.replace(' ','_').replace('/','') for ct in use_cts]"
   ]
  },
  {
   "cell_type": "code",
   "execution_count": 8,
   "id": "a93cce31-55fa-4888-8d4e-4ba9545022d4",
   "metadata": {
    "editable": true,
    "slideshow": {
     "slide_type": ""
    },
    "tags": []
   },
   "outputs": [],
   "source": [
    "meta = pd.read_csv('/data/metadata/240104_m3C_META.csv', index_col = 0)\n",
    "meta['AgingMajorType'] = meta['AgingMajorType'].apply(lambda x: x.replace(' ','_').replace('/',''))\n",
    "meta = meta[meta['AgingMajorType'].isin(use_cts)]\n",
    "meta['AgingMajorType.Age'] = meta['AgingMajorType'] + '.' + meta['Age']"
   ]
  },
  {
   "cell_type": "code",
   "execution_count": 10,
   "id": "06075eca-0b5f-458c-8e51-05b0179a20a8",
   "metadata": {},
   "outputs": [],
   "source": [
    "cell_table['AgingMajorType.Age'] = meta['AgingMajorType.Age']"
   ]
  },
  {
   "cell_type": "code",
   "execution_count": 12,
   "id": "69c9beeb-1d6a-442c-9393-7bb3ae2a8850",
   "metadata": {},
   "outputs": [],
   "source": [
    "cell_table.to_csv('Imputed.10K.Table.csv')"
   ]
  },
  {
   "cell_type": "markdown",
   "id": "555fdc03-5202-4fae-9096-a7fdfd0f5bfd",
   "metadata": {
    "jp-MarkdownHeadingCollapsed": true
   },
   "source": [
    "## make table"
   ]
  },
  {
   "cell_type": "code",
   "execution_count": 41,
   "id": "c347695c-bc78-409a-b179-535b0d9a0be0",
   "metadata": {},
   "outputs": [
    {
     "data": {
      "text/html": [
       "<div>\n",
       "<style scoped>\n",
       "    .dataframe tbody tr th:only-of-type {\n",
       "        vertical-align: middle;\n",
       "    }\n",
       "\n",
       "    .dataframe tbody tr th {\n",
       "        vertical-align: top;\n",
       "    }\n",
       "\n",
       "    .dataframe thead th {\n",
       "        text-align: right;\n",
       "    }\n",
       "</style>\n",
       "<table border=\"1\" class=\"dataframe\">\n",
       "  <thead>\n",
       "    <tr style=\"text-align: right;\">\n",
       "      <th></th>\n",
       "      <th>cell_paths</th>\n",
       "      <th>AgingMajorType.Age</th>\n",
       "    </tr>\n",
       "  </thead>\n",
       "  <tbody>\n",
       "    <tr>\n",
       "      <th>AMB_220405_8wk_11E_11F_12E_1_P1-1-B11-A1</th>\n",
       "      <td>/data/female-amb/impute/10K/AMB_220405_8wk_11E...</td>\n",
       "      <td>VLMC_NN.8wk</td>\n",
       "    </tr>\n",
       "    <tr>\n",
       "      <th>AMB_220405_8wk_11E_11F_12E_1_P1-1-B11-A13</th>\n",
       "      <td>/data/female-amb/impute/10K/AMB_220405_8wk_11E...</td>\n",
       "      <td>OPC_NN.8wk</td>\n",
       "    </tr>\n",
       "    <tr>\n",
       "      <th>AMB_220405_8wk_11E_11F_12E_1_P1-1-B11-A14</th>\n",
       "      <td>/data/female-amb/impute/10K/AMB_220405_8wk_11E...</td>\n",
       "      <td>DG_Glut.8wk</td>\n",
       "    </tr>\n",
       "    <tr>\n",
       "      <th>AMB_220405_8wk_11E_11F_12E_1_P1-1-B11-A2</th>\n",
       "      <td>/data/female-amb/impute/10K/AMB_220405_8wk_11E...</td>\n",
       "      <td>DG_Glut.8wk</td>\n",
       "    </tr>\n",
       "    <tr>\n",
       "      <th>AMB_220405_8wk_11E_11F_12E_1_P1-1-B11-B1</th>\n",
       "      <td>/data/female-amb/impute/10K/AMB_220405_8wk_11E...</td>\n",
       "      <td>L23_IT_PPP_Glut.8wk</td>\n",
       "    </tr>\n",
       "  </tbody>\n",
       "</table>\n",
       "</div>"
      ],
      "text/plain": [
       "                                                                                  cell_paths  \\\n",
       "AMB_220405_8wk_11E_11F_12E_1_P1-1-B11-A1   /data/female-amb/impute/10K/AMB_220405_8wk_11E...   \n",
       "AMB_220405_8wk_11E_11F_12E_1_P1-1-B11-A13  /data/female-amb/impute/10K/AMB_220405_8wk_11E...   \n",
       "AMB_220405_8wk_11E_11F_12E_1_P1-1-B11-A14  /data/female-amb/impute/10K/AMB_220405_8wk_11E...   \n",
       "AMB_220405_8wk_11E_11F_12E_1_P1-1-B11-A2   /data/female-amb/impute/10K/AMB_220405_8wk_11E...   \n",
       "AMB_220405_8wk_11E_11F_12E_1_P1-1-B11-B1   /data/female-amb/impute/10K/AMB_220405_8wk_11E...   \n",
       "\n",
       "                                            AgingMajorType.Age  \n",
       "AMB_220405_8wk_11E_11F_12E_1_P1-1-B11-A1           VLMC_NN.8wk  \n",
       "AMB_220405_8wk_11E_11F_12E_1_P1-1-B11-A13           OPC_NN.8wk  \n",
       "AMB_220405_8wk_11E_11F_12E_1_P1-1-B11-A14          DG_Glut.8wk  \n",
       "AMB_220405_8wk_11E_11F_12E_1_P1-1-B11-A2           DG_Glut.8wk  \n",
       "AMB_220405_8wk_11E_11F_12E_1_P1-1-B11-B1   L23_IT_PPP_Glut.8wk  "
      ]
     },
     "execution_count": 41,
     "metadata": {},
     "output_type": "execute_result"
    }
   ],
   "source": [
    "all_table = pd.read_csv('Imputed.10K.Table.csv', index_col = 0)\n",
    "all_table.head()"
   ]
  },
  {
   "cell_type": "code",
   "execution_count": 49,
   "id": "02f99f5e-4ed1-451f-825b-14f2c12978e1",
   "metadata": {},
   "outputs": [
    {
     "data": {
      "text/plain": [
       "120"
      ]
     },
     "execution_count": 49,
     "metadata": {},
     "output_type": "execute_result"
    }
   ],
   "source": [
    "all_groups = [path.split('/')[-1].split('.tsv')[0] for path in glob.glob('/data/tmp/cool_tables/*.tsv')]\n",
    "len(all_groups)"
   ]
  },
  {
   "cell_type": "code",
   "execution_count": 50,
   "id": "148757f5-4151-4843-bd42-c0f520a3aaa6",
   "metadata": {},
   "outputs": [
    {
     "name": "stdout",
     "output_type": "stream",
     "text": [
      "Astro-NT_NN.18mo 309\n",
      "Astro-NT_NN.8wk 309\n",
      "Astro-NT_NN.9mo 309\n",
      "Astro-TE_NN.18mo 1412\n",
      "Astro-TE_NN.8wk 1412\n",
      "Astro-TE_NN.9mo 1412\n",
      "CA1-ProS_Glut.18mo 501\n",
      "CA1-ProS_Glut.8wk 501\n",
      "CA1-ProS_Glut.9mo 501\n",
      "CA3_Glut.18mo 271\n",
      "CA3_Glut.8wk 271\n",
      "CA3_Glut.9mo 271\n",
      "CEA-BST_Gaba.18mo 414\n",
      "CEA-BST_Gaba.8wk 414\n",
      "CEA-BST_Gaba.9mo 414\n",
      "CS-PRNr-DR_En1_Sox2_Gaba.18mo 133\n",
      "CS-PRNr-DR_En1_Sox2_Gaba.8wk 133\n",
      "CS-PRNr-DR_En1_Sox2_Gaba.9mo 133\n",
      "DG-PIR_Ex_IMN.18mo 340\n",
      "DG-PIR_Ex_IMN.8wk 340\n",
      "DG-PIR_Ex_IMN.9mo 340\n",
      "DG_Glut.18mo 1431\n",
      "DG_Glut.8wk 1431\n",
      "DG_Glut.9mo 1431\n",
      "L23_IT_CTX_Glut.18mo 450\n",
      "L23_IT_CTX_Glut.8wk 450\n",
      "L23_IT_CTX_Glut.9mo 450\n",
      "L23_IT_ENT_Glut.18mo 155\n",
      "L23_IT_ENT_Glut.8wk 155\n",
      "L23_IT_ENT_Glut.9mo 155\n",
      "L23_IT_PPP_Glut.18mo 263\n",
      "L23_IT_PPP_Glut.8wk 263\n",
      "L23_IT_PPP_Glut.9mo 263\n",
      "L45_IT_CTX_Glut.18mo 286\n",
      "L45_IT_CTX_Glut.8wk 286\n",
      "L45_IT_CTX_Glut.9mo 286\n",
      "L5_ET_CTX_Glut.18mo 220\n",
      "L5_ET_CTX_Glut.8wk 220\n",
      "L5_ET_CTX_Glut.9mo 220\n",
      "L5_IT_CTX_Glut.18mo 166\n",
      "L5_IT_CTX_Glut.8wk 166\n",
      "L5_IT_CTX_Glut.9mo 166\n",
      "L5_NP_CTX_Glut.18mo 122\n",
      "L5_NP_CTX_Glut.8wk 122\n",
      "L5_NP_CTX_Glut.9mo 122\n",
      "L6_CT_CTX_Glut.18mo 499\n",
      "L6_CT_CTX_Glut.8wk 499\n",
      "L6_CT_CTX_Glut.9mo 499\n",
      "L6_IT_CTX_Glut.18mo 304\n",
      "L6_IT_CTX_Glut.8wk 304\n",
      "L6_IT_CTX_Glut.9mo 304\n",
      "L6bCT_ENT_Glut.18mo 275\n",
      "L6bCT_ENT_Glut.8wk 275\n",
      "L6bCT_ENT_Glut.9mo 275\n",
      "LA-BLA-BMA-PA_Glut.18mo 267\n",
      "LA-BLA-BMA-PA_Glut.8wk 267\n",
      "LA-BLA-BMA-PA_Glut.9mo 267\n",
      "LDT-PCG-CS_Gata3_Lhx1_Gaba.18mo 107\n",
      "LDT-PCG-CS_Gata3_Lhx1_Gaba.8wk 107\n",
      "LDT-PCG-CS_Gata3_Lhx1_Gaba.9mo 107\n",
      "Lamp5_Gaba.18mo 113\n",
      "Lamp5_Gaba.8wk 113\n",
      "Lamp5_Gaba.9mo 113\n",
      "MEA-BST_Gaba.18mo 268\n",
      "MEA-BST_Gaba.8wk 268\n",
      "MEA-BST_Gaba.9mo 268\n",
      "MEA-COA_Glut.18mo 386\n",
      "MEA-COA_Glut.8wk 386\n",
      "MEA-COA_Glut.9mo 386\n",
      "MRN-VTN-PPN_Pax5_Cdh23_Gaba.18mo 128\n",
      "MRN-VTN-PPN_Pax5_Cdh23_Gaba.8wk 128\n",
      "MRN-VTN-PPN_Pax5_Cdh23_Gaba.9mo 128\n",
      "Microglia_NN.18mo 720\n",
      "Microglia_NN.8wk 720\n",
      "Microglia_NN.9mo 720\n",
      "OPC_NN.18mo 511\n",
      "OPC_NN.8wk 511\n",
      "OPC_NN.9mo 511\n",
      "Oligo_NN.18mo 2338\n",
      "Oligo_NN.8wk 2338\n",
      "Oligo_NN.9mo 2338\n",
      "PAG-PPN_Pax5_Sox21_Gaba.18mo 135\n",
      "PAG-PPN_Pax5_Sox21_Gaba.8wk 135\n",
      "PAG-PPN_Pax5_Sox21_Gaba.9mo 135\n",
      "PAG_Glut.18mo 258\n",
      "PAG_Glut.8wk 258\n",
      "PAG_Glut.9mo 258\n",
      "PB_Evx2_Glut.18mo 211\n",
      "PB_Evx2_Glut.8wk 211\n",
      "PB_Evx2_Glut.9mo 211\n",
      "Pvalb_Gaba.18mo 342\n",
      "Pvalb_Gaba.8wk 342\n",
      "Pvalb_Gaba.9mo 342\n",
      "STR-PAL_Chst9_Gaba.18mo 279\n",
      "STR-PAL_Chst9_Gaba.8wk 279\n",
      "STR-PAL_Chst9_Gaba.9mo 279\n",
      "STR_D1_Gaba.18mo 1285\n",
      "STR_D1_Gaba.8wk 1285\n",
      "STR_D1_Gaba.9mo 1285\n",
      "STR_D1_Sema5a_Gaba.18mo 140\n",
      "STR_D1_Sema5a_Gaba.8wk 140\n",
      "STR_D1_Sema5a_Gaba.9mo 140\n",
      "STR_D2_Gaba.18mo 962\n",
      "STR_D2_Gaba.8wk 962\n",
      "STR_D2_Gaba.9mo 962\n",
      "STR_Gaba.18mo 102\n",
      "STR_Gaba.8wk 102\n",
      "STR_Gaba.9mo 102\n",
      "SUB-ProS_Glut.18mo 101\n",
      "SUB-ProS_Glut.8wk 101\n",
      "SUB-ProS_Glut.9mo 101\n",
      "Sst_Gaba.18mo 296\n",
      "Sst_Gaba.8wk 296\n",
      "Sst_Gaba.9mo 296\n",
      "VLMC_NN.18mo 615\n",
      "VLMC_NN.8wk 615\n",
      "VLMC_NN.9mo 615\n",
      "Vip_Gaba.18mo 155\n",
      "Vip_Gaba.8wk 155\n",
      "Vip_Gaba.9mo 155\n"
     ]
    }
   ],
   "source": [
    "for group in all_groups:\n",
    "    use_cells = pd.read_csv(f\"/data/tmp/cool_tables/{group}.tsv\", sep = '\\t', header = None)[0].tolist()\n",
    "    tmpdf = all_table.loc[use_cells]\n",
    "    #tmpdf.to_csv(f'loop_tables/{group}.csv', header = None)\n",
    "    print(f\"{group} {len(use_cells)}\")"
   ]
  },
  {
   "cell_type": "code",
   "execution_count": 47,
   "id": "07f5ccfe-56a4-4b85-8988-67554309b3d4",
   "metadata": {},
   "outputs": [],
   "source": [
    "#! gsutil -m cp -r loop_tables/ gs://ecker-rachel-amb-datasets/tmp"
   ]
  },
  {
   "cell_type": "markdown",
   "id": "0d4df785-0b2a-49db-ade8-635eaa22ee8c",
   "metadata": {},
   "source": [
    "## call diff loop"
   ]
  },
  {
   "cell_type": "code",
   "execution_count": 2,
   "id": "365a0f94-43ff-4538-a38a-a6a4c20e7a27",
   "metadata": {},
   "outputs": [],
   "source": [
    "from gliderport.preset import notebook_snakemake"
   ]
  },
  {
   "cell_type": "code",
   "execution_count": 3,
   "id": "7196c1f4-3855-4293-9aed-6e64f338ad82",
   "metadata": {},
   "outputs": [],
   "source": [
    "use_cts = joblib.load('/data/metadata/m3c_use_cts')\n",
    "use_cts = [ct.replace(' ','_').replace('/','') for ct in use_cts]\n",
    "\n",
    "use_cts.remove('CA3_Glut')\n",
    "use_cts.remove('Oligo_NN')\n",
    "use_cts.remove('OPC_NN')"
   ]
  },
  {
   "cell_type": "code",
   "execution_count": 4,
   "id": "ff0833bc-c9e5-49e9-a292-a636015432c2",
   "metadata": {},
   "outputs": [
    {
     "data": {
      "text/plain": [
       "37"
      ]
     },
     "execution_count": 4,
     "metadata": {},
     "output_type": "execute_result"
    }
   ],
   "source": [
    "len(use_cts)"
   ]
  },
  {
   "cell_type": "code",
   "execution_count": 5,
   "id": "100e6200-2066-4dcc-b6cf-2e6b24466df2",
   "metadata": {},
   "outputs": [],
   "source": [
    "work_dir = 'Call.DiffLoop.CellType.Age'"
   ]
  },
  {
   "cell_type": "code",
   "execution_count": 6,
   "id": "c8a0a915-6788-4a49-a9a8-16a10058c3fa",
   "metadata": {},
   "outputs": [],
   "source": [
    "notebook_snakemake(\n",
    "    work_dir=work_dir,\n",
    "    notebook_dir=\"template\",\n",
    "    groups=use_cts,\n",
    "    default_cpu=10,\n",
    "    default_mem_gb=30,\n",
    "    redo_prepare=True,\n",
    ")"
   ]
  },
  {
   "cell_type": "code",
   "execution_count": 7,
   "id": "cae99f25-e1d5-43e1-8fdd-8913e40396f2",
   "metadata": {},
   "outputs": [
    {
     "name": "stdout",
     "output_type": "stream",
     "text": [
      "/home/qzeng_salk_edu/project/240213-loop\n"
     ]
    }
   ],
   "source": [
    "! pwd"
   ]
  },
  {
   "cell_type": "code",
   "execution_count": null,
   "id": "42b482f7-6d85-401b-ba71-a0248565dc0f",
   "metadata": {},
   "outputs": [],
   "source": []
  },
  {
   "cell_type": "code",
   "execution_count": null,
   "id": "1b698f9e-1c0b-4eb5-a2f1-f10ff725571a",
   "metadata": {},
   "outputs": [],
   "source": []
  },
  {
   "cell_type": "code",
   "execution_count": null,
   "id": "c11af3bf-228b-41d8-83e5-7ad43cab07ca",
   "metadata": {},
   "outputs": [],
   "source": []
  },
  {
   "cell_type": "code",
   "execution_count": null,
   "id": "1189e436-4474-4cc9-baa0-6d678002e0ef",
   "metadata": {},
   "outputs": [],
   "source": []
  },
  {
   "cell_type": "code",
   "execution_count": null,
   "id": "e25c6f76-744f-477a-bdff-48524d248e4b",
   "metadata": {},
   "outputs": [],
   "source": []
  },
  {
   "cell_type": "code",
   "execution_count": null,
   "id": "64abaa9e-64e5-4c43-8e49-39c2cbaaed95",
   "metadata": {},
   "outputs": [],
   "source": []
  },
  {
   "cell_type": "code",
   "execution_count": null,
   "id": "85dd813b-b463-4c0d-a21e-aecc98618185",
   "metadata": {},
   "outputs": [],
   "source": []
  }
 ],
 "metadata": {
  "kernelspec": {
   "display_name": "Python 3 (ipykernel)",
   "language": "python",
   "name": "python3"
  },
  "language_info": {
   "codemirror_mode": {
    "name": "ipython",
    "version": 3
   },
   "file_extension": ".py",
   "mimetype": "text/x-python",
   "name": "python",
   "nbconvert_exporter": "python",
   "pygments_lexer": "ipython3",
   "version": "3.10.12"
  }
 },
 "nbformat": 4,
 "nbformat_minor": 5
}
