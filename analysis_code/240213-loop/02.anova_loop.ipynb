{
 "cells": [
  {
   "cell_type": "code",
   "execution_count": 7,
   "id": "d5b6cd71-7a49-44f7-8069-3493fdbe3cfb",
   "metadata": {},
   "outputs": [],
   "source": [
    "import os\n",
    "import cooler\n",
    "import pathlib\n",
    "import numpy as np\n",
    "import pandas as pd\n",
    "from scipy.sparse import load_npz, save_npz, vstack, csr_matrix, triu\n",
    "from scipy.stats import f, zscore, ranksums\n",
    "from schicluster.cool.utilities import get_chrom_offsets\n",
    "from multiprocessing import Pool\n",
    "from concurrent.futures import ProcessPoolExecutor, as_completed\n",
    "import pathlib\n",
    "import joblib"
   ]
  },
  {
   "cell_type": "code",
   "execution_count": 9,
   "id": "c420a8ca",
   "metadata": {},
   "outputs": [
    {
     "ename": "FileNotFoundError",
     "evalue": "[Errno 2] No such file or directory: 'all_groups_list'",
     "output_type": "error",
     "traceback": [
      "\u001b[0;31m---------------------------------------------------------------------------\u001b[0m",
      "\u001b[0;31mFileNotFoundError\u001b[0m                         Traceback (most recent call last)",
      "Cell \u001b[0;32mIn[9], line 1\u001b[0m\n\u001b[0;32m----> 1\u001b[0m all_groups \u001b[38;5;241m=\u001b[39m \u001b[43mjoblib\u001b[49m\u001b[38;5;241;43m.\u001b[39;49m\u001b[43mload\u001b[49m\u001b[43m(\u001b[49m\u001b[38;5;124;43m'\u001b[39;49m\u001b[38;5;124;43mall_groups_list\u001b[39;49m\u001b[38;5;124;43m'\u001b[39;49m\u001b[43m)\u001b[49m\n",
      "File \u001b[0;32m/opt/conda/lib/python3.10/site-packages/joblib/numpy_pickle.py:650\u001b[0m, in \u001b[0;36mload\u001b[0;34m(filename, mmap_mode)\u001b[0m\n\u001b[1;32m    648\u001b[0m         obj \u001b[38;5;241m=\u001b[39m _unpickle(fobj)\n\u001b[1;32m    649\u001b[0m \u001b[38;5;28;01melse\u001b[39;00m:\n\u001b[0;32m--> 650\u001b[0m     \u001b[38;5;28;01mwith\u001b[39;00m \u001b[38;5;28;43mopen\u001b[39;49m\u001b[43m(\u001b[49m\u001b[43mfilename\u001b[49m\u001b[43m,\u001b[49m\u001b[43m \u001b[49m\u001b[38;5;124;43m'\u001b[39;49m\u001b[38;5;124;43mrb\u001b[39;49m\u001b[38;5;124;43m'\u001b[39;49m\u001b[43m)\u001b[49m \u001b[38;5;28;01mas\u001b[39;00m f:\n\u001b[1;32m    651\u001b[0m         \u001b[38;5;28;01mwith\u001b[39;00m _read_fileobject(f, filename, mmap_mode) \u001b[38;5;28;01mas\u001b[39;00m fobj:\n\u001b[1;32m    652\u001b[0m             \u001b[38;5;28;01mif\u001b[39;00m \u001b[38;5;28misinstance\u001b[39m(fobj, \u001b[38;5;28mstr\u001b[39m):\n\u001b[1;32m    653\u001b[0m                 \u001b[38;5;66;03m# if the returned file object is a string, this means we\u001b[39;00m\n\u001b[1;32m    654\u001b[0m                 \u001b[38;5;66;03m# try to load a pickle file generated with an version of\u001b[39;00m\n\u001b[1;32m    655\u001b[0m                 \u001b[38;5;66;03m# Joblib so we load it with joblib compatibility function.\u001b[39;00m\n",
      "\u001b[0;31mFileNotFoundError\u001b[0m: [Errno 2] No such file or directory: 'all_groups_list'"
     ]
    }
   ],
   "source": [
    "all_groups = joblib.load('all_groups_list')"
   ]
  },
  {
   "cell_type": "code",
   "execution_count": 3,
   "id": "58d07ab2-4b8a-40af-be28-f2c5b5f047f9",
   "metadata": {},
   "outputs": [
    {
     "data": {
      "text/plain": [
       "['DG_Glut.8wk', 'DG_Glut.9mo', 'DG_Glut.18mo']"
      ]
     },
     "execution_count": 3,
     "metadata": {},
     "output_type": "execute_result"
    }
   ],
   "source": [
    "ct = 'DG_Glut'\n",
    "ages = ['8wk','9mo','18mo']\n",
    "regions = []\n",
    "leg = [f\"{ct}.{age}\" for age in ages]\n",
    "leg"
   ]
  },
  {
   "cell_type": "code",
   "execution_count": 4,
   "id": "c7dc6b2d-f5b0-4590-9f6d-5a1ace90ba1c",
   "metadata": {},
   "outputs": [
    {
     "data": {
      "text/plain": [
       "[['DG_Glut.8wk'], ['DG_Glut.9mo'], ['DG_Glut.18mo']]"
      ]
     },
     "execution_count": 4,
     "metadata": {},
     "output_type": "execute_result"
    }
   ],
   "source": [
    "ctgroup = [[_leg] for _leg in leg]\n",
    "ctgroup"
   ]
  },
  {
   "cell_type": "code",
   "execution_count": 5,
   "id": "cf541dbf-adac-472d-b3c4-57ff5ef5a8e6",
   "metadata": {},
   "outputs": [],
   "source": [
    "indir = '/data/female-amb/region-loop'\n",
    "outdir = 'loop_ct_region_age/diff/'\n",
    "res = 10000\n",
    "group = ct"
   ]
  },
  {
   "cell_type": "code",
   "execution_count": 5,
   "id": "3c71e73d-9fc3-4077-9a74-b32c79224739",
   "metadata": {},
   "outputs": [],
   "source": [
    "p = pathlib.Path(outdir)\n",
    "p.mkdir(exist_ok = True)"
   ]
  },
  {
   "cell_type": "code",
   "execution_count": 6,
   "id": "de089226-54a5-4adf-abbb-5c0dc5ef4a6e",
   "metadata": {},
   "outputs": [],
   "source": [
    "chrom_size_path = f'/ref/m3C/mm10.main.nochrM.nochrY.chrom.sizes'\n",
    "chrom_sizes = cooler.read_chromsizes(chrom_size_path, all_names=True)\n",
    "bins_df = cooler.binnify(chrom_sizes, res)\n",
    "chrom_offset = get_chrom_offsets(bins_df)"
   ]
  },
  {
   "cell_type": "code",
   "execution_count": 7,
   "id": "529282f6-554f-48e0-874d-8941e33bd268",
   "metadata": {},
   "outputs": [],
   "source": [
    "bkl = pd.read_csv('/data/ref/m3C/mm10_bismark_loop_blacklist.bed', sep='\\t', header=None, index_col=None)"
   ]
  },
  {
   "cell_type": "code",
   "execution_count": 8,
   "id": "c418971f-e158-483c-a436-81d4130fee7e",
   "metadata": {},
   "outputs": [],
   "source": [
    "def compute_anova(c, matrix):\n",
    "    # c, matrix = args\n",
    "    ngene = int(chrom_sizes.loc[c] // res) + 1\n",
    "    bkl_tmp = bkl.loc[(bkl[0]==c), [1,2]].values // res\n",
    "    cov = np.zeros(ngene)\n",
    "    for xx,yy in bkl_tmp:\n",
    "        cov[xx-7:yy+7] = 1\n",
    "    tot, last = 0, 0\n",
    "    Esum, E2sum, Elast, E2last, ss_intra = [csr_matrix((ngene, ngene)) for i in range(5)]\n",
    "    for ctlist in ctgroup:\n",
    "        for ct_age in ctlist:\n",
    "            cool_e = cooler.Cooler(f'{indir}/{ct_age}/{ct_age}/{ct_age}.{matrix}.cool')\n",
    "            E = triu(cool_e.matrix(balance=False, sparse=True).fetch(c))\n",
    "            cool_e2 = cooler.Cooler(f'{indir}/{ct_age}/{ct_age}/{ct_age}.{matrix}2.cool')\n",
    "            E2 = triu(cool_e2.matrix(balance=False, sparse=True).fetch(c))\n",
    "            n = cool_e.info['group_n_cells']\n",
    "            Esum += E * n\n",
    "            E2sum += E2 * n\n",
    "            tot += n\n",
    "            # print(c, ct)\n",
    "        Egroup = Esum - Elast\n",
    "        E2group = E2sum - E2last\n",
    "        Egroup.data = Egroup.data ** 2 / (tot - last)\n",
    "        ss_intra += (E2group - Egroup)\n",
    "        Elast = Esum.copy()\n",
    "        E2last = E2sum.copy()\n",
    "        last = tot\n",
    "    Esum.data = Esum.data ** 2 / tot\n",
    "    ss_total = E2sum - Esum\n",
    "    ss_intra.data = 1 / ss_intra.data\n",
    "    ss_total = ss_total.multiply(ss_intra)\n",
    "    # print(c, ss_total.data.min(), ss_intra.data.min())\n",
    "\n",
    "    ss_total.data = (ss_total.data - 1) * (tot - len(ctgroup)) / (len(ctgroup) - 1)\n",
    "    ss_total = ss_total.tocoo()\n",
    "    bklfilter = np.logical_and(cov[ss_total.row]==0, cov[ss_total.col]==0)\n",
    "    distfilter = np.logical_and((ss_total.col-ss_total.row)>5, (ss_total.col-ss_total.row)<500)\n",
    "    idxfilter = np.logical_and(bklfilter, distfilter)\n",
    "    # print(idxfilter.sum(), len(idxfilter))\n",
    "    ss_total = csr_matrix((ss_total.data[idxfilter], (ss_total.row[idxfilter], ss_total.col[idxfilter])), (ngene, ngene))\n",
    "    \n",
    "    p = pathlib.Path(f\"{outdir}/{ct}\")\n",
    "    p.mkdir(exist_ok = True)\n",
    "    save_npz(f'{outdir}/{ct}/{matrix}pv_{c}.npz', ss_total)\n",
    "\n",
    "    return [c, matrix, tot]"
   ]
  },
  {
   "cell_type": "code",
   "execution_count": 9,
   "id": "560b3792-e768-4429-89e4-992efb87907e",
   "metadata": {},
   "outputs": [
    {
     "name": "stdout",
     "output_type": "stream",
     "text": [
      "chr9 Q finished\n",
      "chr9 E finished\n",
      "chr10 E finished\n",
      "chr12 Q finished\n",
      "chr11 Q finished\n",
      "chr12 E finished\n",
      "chr6 Q finished\n",
      "chr6 T finished\n",
      "chr13 Q finished\n",
      "chr10 Q finished\n",
      "chr13 E finished\n",
      "chr9 T finished\n",
      "chr8 Q finished\n",
      "chr7 T finished\n",
      "chr14 Q finished\n",
      "chr3 E finished\n",
      "chr10 T finished\n",
      "chr11 E finished\n",
      "chr7 E finished\n",
      "chr12 T finished\n",
      "chr8 E finished\n",
      "chr5 T finished\n",
      "chr11 T finished\n",
      "chr4 Q finished\n",
      "chr13 T finished\n",
      "chr6 E finished\n",
      "chr5 Q finished\n",
      "chr7 Q finished\n",
      "chr8 T finished\n",
      "chr3 T finished\n",
      "chr3 Q finished\n",
      "chr2 E finished\n",
      "chr2 Q finished\n",
      "chr19 E finished\n",
      "chr5 E finished\n",
      "chr16 Q finished\n",
      "chr4 E finished\n",
      "chr19 Q finished\n",
      "chr2 T finished\n",
      "chr15 E finished\n",
      "chr16 T finished\n",
      "chr19 T finished\n",
      "chr15 Q finished\n",
      "chr15 T finished\n",
      "chr16 E finished\n",
      "chr4 T finished\n",
      "chr14 E finished\n",
      "chr18 Q finished\n",
      "chr1 T finished\n",
      "chr18 E finished\n",
      "chr17 Q finished\n",
      "chr18 T finished\n",
      "chr17 T finished\n",
      "chr14 T finished\n",
      "chr17 E finished\n",
      "chr1 Q finished\n",
      "chr1 E finished\n",
      "chrX Q finished\n",
      "chrX E finished\n",
      "chrX T finished\n"
     ]
    }
   ],
   "source": [
    "cpu = 40\n",
    "with ProcessPoolExecutor(cpu) as executor:\n",
    "    futures = []\n",
    "    for x in chrom_sizes.index:\n",
    "        for y in ['Q', 'E', 'T']:\n",
    "            future = executor.submit(\n",
    "                compute_anova,\n",
    "                c=x,\n",
    "                matrix=y,\n",
    "            )\n",
    "            futures.append(future)\n",
    "\n",
    "    # result = []\n",
    "    for future in as_completed(futures):\n",
    "        # result.append(future.result())\n",
    "        # c1, c2 = result[-1][0], result[-1][1]\n",
    "        tmp = future.result()\n",
    "        print(f'{tmp[0]} {tmp[1]} finished')\n",
    "        "
   ]
  },
  {
   "cell_type": "code",
   "execution_count": 10,
   "id": "a4b86cdb-1496-4916-9242-f973d0f4477f",
   "metadata": {},
   "outputs": [],
   "source": [
    "def chrom_iterator(input_dir, chrom_order, chrom_offset):\n",
    "    for chrom in chrom_order:\n",
    "        output_path = f'{input_dir}_{chrom}.npz'\n",
    "        if not pathlib.Path(output_path).exists():\n",
    "            continue\n",
    "        chunk_size = 5000000\n",
    "        data = load_npz(output_path).tocoo()\n",
    "        df = pd.DataFrame({'bin1_id': data.row, 'bin2_id': data.col, 'count': data.data})\n",
    "        df = df[df['bin1_id'] <= df['bin2_id']]\n",
    "        for i, chunk_start in enumerate(range(0, df.shape[0], chunk_size)):\n",
    "            chunk = df.iloc[chunk_start:chunk_start + chunk_size]\n",
    "            chunk.iloc[:, :2] += chrom_offset[chrom]\n",
    "            yield chunk"
   ]
  },
  {
   "cell_type": "code",
   "execution_count": 12,
   "id": "c670aa86-1fda-4962-bc58-08a834181f12",
   "metadata": {},
   "outputs": [],
   "source": [
    "for matrix in ['Q', 'E', 'T']:\n",
    "    output_path = f'{outdir}/{ct}/{matrix}pv'\n",
    "    cooler.create_cooler(cool_uri=f'{output_path}.cool',\n",
    "                         bins=bins_df,\n",
    "                         pixels=chrom_iterator(input_dir=output_path,\n",
    "                                               chrom_order=chrom_sizes.index,\n",
    "                                               chrom_offset=chrom_offset\n",
    "                                              ),\n",
    "                         ordered=True,\n",
    "                         dtypes={'count': np.float32})"
   ]
  },
  {
   "cell_type": "code",
   "execution_count": 13,
   "id": "ae6585dd-7e18-4244-8e28-1df7b07be302",
   "metadata": {},
   "outputs": [
    {
     "data": {
      "text/plain": [
       "CompletedProcess(args='rm loop_ct_age/diff//Oligo_NN/*pv_c*.npz', returncode=0)"
      ]
     },
     "execution_count": 13,
     "metadata": {},
     "output_type": "execute_result"
    }
   ],
   "source": [
    "import subprocess\n",
    "subprocess.run(f'rm {outdir}/{ct}/*pv_c*.npz', shell = True)"
   ]
  },
  {
   "cell_type": "code",
   "execution_count": null,
   "id": "cafd0d33-2317-43a1-93df-99ea8f4c7326",
   "metadata": {},
   "outputs": [],
   "source": []
  },
  {
   "cell_type": "code",
   "execution_count": null,
   "id": "1e919f2e-6cac-463e-83ab-c9966cdcb23c",
   "metadata": {},
   "outputs": [],
   "source": []
  },
  {
   "cell_type": "code",
   "execution_count": null,
   "id": "cb14f032-8223-4f9d-bf67-d20c93a6ea66",
   "metadata": {},
   "outputs": [],
   "source": []
  },
  {
   "cell_type": "code",
   "execution_count": null,
   "id": "570a5c0d-53d7-44f3-9ea2-043d309f211c",
   "metadata": {},
   "outputs": [],
   "source": []
  },
  {
   "cell_type": "code",
   "execution_count": null,
   "id": "3cc8a718-f4a4-4dd3-a31e-90a10204a244",
   "metadata": {},
   "outputs": [],
   "source": []
  },
  {
   "cell_type": "code",
   "execution_count": null,
   "id": "1d89b54e-4955-4882-b837-ed238df16079",
   "metadata": {},
   "outputs": [],
   "source": []
  },
  {
   "cell_type": "code",
   "execution_count": null,
   "id": "fca51e41-5fc0-4279-a5c9-d0ef482533ba",
   "metadata": {},
   "outputs": [],
   "source": []
  },
  {
   "cell_type": "code",
   "execution_count": null,
   "id": "b40d47e3-7e7c-41d1-af8e-6b59e843b050",
   "metadata": {},
   "outputs": [],
   "source": []
  },
  {
   "cell_type": "code",
   "execution_count": null,
   "id": "981802ee-4212-49fd-ba97-793fce7a8525",
   "metadata": {},
   "outputs": [],
   "source": []
  }
 ],
 "metadata": {
  "kernelspec": {
   "display_name": "Python 3 (ipykernel)",
   "language": "python",
   "name": "python3"
  },
  "language_info": {
   "codemirror_mode": {
    "name": "ipython",
    "version": 3
   },
   "file_extension": ".py",
   "mimetype": "text/x-python",
   "name": "python",
   "nbconvert_exporter": "python",
   "pygments_lexer": "ipython3",
   "version": "3.10.12"
  }
 },
 "nbformat": 4,
 "nbformat_minor": 5
}
