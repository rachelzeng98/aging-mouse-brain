{
 "cells": [
  {
   "cell_type": "code",
   "execution_count": 1,
   "id": "1fd0ad70-f944-4e59-873b-8bbafdc51f9e",
   "metadata": {
    "execution": {
     "iopub.execute_input": "2024-10-31T22:23:30.518398Z",
     "iopub.status.busy": "2024-10-31T22:23:30.517782Z",
     "iopub.status.idle": "2024-10-31T22:24:06.048353Z",
     "shell.execute_reply": "2024-10-31T22:24:06.046568Z",
     "shell.execute_reply.started": "2024-10-31T22:23:30.518349Z"
    },
    "tags": []
   },
   "outputs": [],
   "source": [
    "import pathlib\n",
    "import joblib\n",
    "import anndata\n",
    "import matplotlib.pyplot as plt\n",
    "import numpy as np\n",
    "import pandas as pd\n",
    "import seaborn as sns\n",
    "from ALLCools.integration import calculate_overlap_score, confusion_matrix_clustering\n",
    "#from ALLCools.plot import *\n",
    "\n",
    "plt.rcParams['figure.dpi'] = 100\n",
    "plt.rcParams['savefig.dpi']=300\n",
    "plt.rcParams['pdf.fonttype']=42"
   ]
  },
  {
   "cell_type": "code",
   "execution_count": 2,
   "id": "3f127897-316c-4003-b8d6-f95f92784811",
   "metadata": {
    "execution": {
     "iopub.execute_input": "2024-10-31T22:24:06.051053Z",
     "iopub.status.busy": "2024-10-31T22:24:06.050517Z",
     "iopub.status.idle": "2024-10-31T22:24:06.057658Z",
     "shell.execute_reply": "2024-10-31T22:24:06.056354Z",
     "shell.execute_reply.started": "2024-10-31T22:24:06.050999Z"
    },
    "tags": []
   },
   "outputs": [],
   "source": [
    "mc_cat_key = \"AgingMajorType\"\n",
    "atac_cat_key = \"celltype_final\""
   ]
  },
  {
   "cell_type": "markdown",
   "id": "6e22abdd-6d09-4111-b53f-c572f84b5117",
   "metadata": {
    "tags": []
   },
   "source": [
    "## count"
   ]
  },
  {
   "cell_type": "code",
   "execution_count": 3,
   "id": "c5e9ba25-159e-40f3-8c83-ab98c3ab1fa5",
   "metadata": {
    "execution": {
     "iopub.execute_input": "2024-10-31T22:24:06.060613Z",
     "iopub.status.busy": "2024-10-31T22:24:06.060029Z",
     "iopub.status.idle": "2024-10-31T22:24:08.666676Z",
     "shell.execute_reply": "2024-10-31T22:24:08.665646Z",
     "shell.execute_reply.started": "2024-10-31T22:24:06.060565Z"
    },
    "tags": []
   },
   "outputs": [
    {
     "name": "stderr",
     "output_type": "stream",
     "text": [
      "/home/qz/miniconda3/envs/allcools/lib/python3.7/site-packages/IPython/core/interactiveshell.py:3552: DtypeWarning: Columns (22) have mixed types.Specify dtype option on import or set low_memory=False.\n",
      "  exec(code_obj, self.user_global_ns, self.user_ns)\n"
     ]
    }
   ],
   "source": [
    "mc_annot= pd.read_csv('/home/qzeng/project/aging/metadata/240104_mC_META.csv', index_col = 0)\n",
    "atac_annot = pd.read_csv('/home/qzeng/project/aging/metadata/Luisa.ATAC.Multiome.Meta.csv', index_col = 'cell_id')"
   ]
  },
  {
   "cell_type": "code",
   "execution_count": 4,
   "id": "fdf22d54-bd56-4eba-8490-42fa4f6e44de",
   "metadata": {
    "execution": {
     "iopub.execute_input": "2024-10-31T22:24:08.667997Z",
     "iopub.status.busy": "2024-10-31T22:24:08.667759Z",
     "iopub.status.idle": "2024-10-31T22:24:12.399936Z",
     "shell.execute_reply": "2024-10-31T22:24:12.399190Z",
     "shell.execute_reply.started": "2024-10-31T22:24:08.667975Z"
    },
    "tags": []
   },
   "outputs": [
    {
     "data": {
      "text/plain": [
       "AnnData object with n_obs × n_vars = 826988 × 272436\n",
       "    obs: 'Modalities', 'leiden'\n",
       "    uns: 'leiden', 'neighbors'\n",
       "    obsm: 'X_pca', 'X_tsne'\n",
       "    obsp: 'connectivities', 'distances'"
      ]
     },
     "execution_count": 4,
     "metadata": {},
     "output_type": "execute_result"
    }
   ],
   "source": [
    "adata_merge = anndata.read_h5ad(\"final_with_coords.atac_correct.h5ad\")\n",
    "adata_merge"
   ]
  },
  {
   "cell_type": "code",
   "execution_count": 5,
   "id": "29c5e17b-01bb-4b53-95ab-eecb3fc6a7fc",
   "metadata": {
    "execution": {
     "iopub.execute_input": "2024-10-31T22:24:12.401201Z",
     "iopub.status.busy": "2024-10-31T22:24:12.400968Z",
     "iopub.status.idle": "2024-10-31T22:24:12.465930Z",
     "shell.execute_reply": "2024-10-31T22:24:12.464990Z",
     "shell.execute_reply.started": "2024-10-31T22:24:12.401179Z"
    },
    "tags": []
   },
   "outputs": [
    {
     "data": {
      "text/plain": [
       "['snmC', 'snm3C', 'ATAC', 'Multiome']\n",
       "Categories (4, object): ['ATAC', 'Multiome', 'snm3C', 'snmC']"
      ]
     },
     "execution_count": 5,
     "metadata": {},
     "output_type": "execute_result"
    }
   ],
   "source": [
    "adata_merge.obs['Modalities'].unique()"
   ]
  },
  {
   "cell_type": "code",
   "execution_count": 6,
   "id": "2fef72f8-6354-4308-9356-cdcfdc3f546e",
   "metadata": {
    "execution": {
     "iopub.execute_input": "2024-10-31T22:24:12.467800Z",
     "iopub.status.busy": "2024-10-31T22:24:12.467286Z",
     "iopub.status.idle": "2024-10-31T22:24:12.505690Z",
     "shell.execute_reply": "2024-10-31T22:24:12.504667Z",
     "shell.execute_reply.started": "2024-10-31T22:24:12.467762Z"
    },
    "tags": []
   },
   "outputs": [],
   "source": [
    "mc_meta = adata_merge.obs[adata_merge.obs[\"Modalities\"] == \"snmC\"].copy()\n",
    "atac_meta = adata_merge.obs[adata_merge.obs[\"Modalities\"] == \"ATAC\"].copy()"
   ]
  },
  {
   "cell_type": "code",
   "execution_count": 7,
   "id": "caa6a7fa-e91f-4f9b-ac5b-b06131d51b06",
   "metadata": {
    "execution": {
     "iopub.execute_input": "2024-10-31T22:24:12.507465Z",
     "iopub.status.busy": "2024-10-31T22:24:12.507002Z",
     "iopub.status.idle": "2024-10-31T22:24:12.585437Z",
     "shell.execute_reply": "2024-10-31T22:24:12.584718Z",
     "shell.execute_reply.started": "2024-10-31T22:24:12.507432Z"
    },
    "tags": []
   },
   "outputs": [
    {
     "data": {
      "text/html": [
       "<div>\n",
       "<style scoped>\n",
       "    .dataframe tbody tr th:only-of-type {\n",
       "        vertical-align: middle;\n",
       "    }\n",
       "\n",
       "    .dataframe tbody tr th {\n",
       "        vertical-align: top;\n",
       "    }\n",
       "\n",
       "    .dataframe thead th {\n",
       "        text-align: right;\n",
       "    }\n",
       "</style>\n",
       "<table border=\"1\" class=\"dataframe\">\n",
       "  <thead>\n",
       "    <tr style=\"text-align: right;\">\n",
       "      <th></th>\n",
       "      <th>Modalities</th>\n",
       "      <th>leiden</th>\n",
       "      <th>AgingMajorType</th>\n",
       "    </tr>\n",
       "  </thead>\n",
       "  <tbody>\n",
       "    <tr>\n",
       "      <th>AMB_200205_9mo_2A_3A_1_P1-1-F3-A1</th>\n",
       "      <td>snmC</td>\n",
       "      <td>9</td>\n",
       "      <td>L6 CT CTX Glut</td>\n",
       "    </tr>\n",
       "    <tr>\n",
       "      <th>AMB_200205_9mo_2A_3A_1_P1-1-F3-A13</th>\n",
       "      <td>snmC</td>\n",
       "      <td>4</td>\n",
       "      <td>L2/3 IT CTX Glut</td>\n",
       "    </tr>\n",
       "    <tr>\n",
       "      <th>AMB_200205_9mo_2A_3A_1_P1-1-F3-A14</th>\n",
       "      <td>snmC</td>\n",
       "      <td>4</td>\n",
       "      <td>L2/3 IT CTX Glut</td>\n",
       "    </tr>\n",
       "    <tr>\n",
       "      <th>AMB_200205_9mo_2A_3A_1_P1-1-F3-A2</th>\n",
       "      <td>snmC</td>\n",
       "      <td>16</td>\n",
       "      <td>Pvalb Gaba</td>\n",
       "    </tr>\n",
       "    <tr>\n",
       "      <th>AMB_200205_9mo_2A_3A_1_P1-1-F3-B1</th>\n",
       "      <td>snmC</td>\n",
       "      <td>14</td>\n",
       "      <td>L4/5 IT CTX Glut</td>\n",
       "    </tr>\n",
       "  </tbody>\n",
       "</table>\n",
       "</div>"
      ],
      "text/plain": [
       "                                   Modalities leiden    AgingMajorType\n",
       "AMB_200205_9mo_2A_3A_1_P1-1-F3-A1        snmC      9    L6 CT CTX Glut\n",
       "AMB_200205_9mo_2A_3A_1_P1-1-F3-A13       snmC      4  L2/3 IT CTX Glut\n",
       "AMB_200205_9mo_2A_3A_1_P1-1-F3-A14       snmC      4  L2/3 IT CTX Glut\n",
       "AMB_200205_9mo_2A_3A_1_P1-1-F3-A2        snmC     16        Pvalb Gaba\n",
       "AMB_200205_9mo_2A_3A_1_P1-1-F3-B1        snmC     14  L4/5 IT CTX Glut"
      ]
     },
     "execution_count": 7,
     "metadata": {},
     "output_type": "execute_result"
    }
   ],
   "source": [
    "mc_meta[mc_cat_key] = mc_annot[mc_cat_key]\n",
    "mc_meta.head()"
   ]
  },
  {
   "cell_type": "code",
   "execution_count": 8,
   "id": "3fd441f4-f0a5-4db7-8509-dd2a276fb18b",
   "metadata": {
    "execution": {
     "iopub.execute_input": "2024-10-31T22:24:12.588218Z",
     "iopub.status.busy": "2024-10-31T22:24:12.587923Z",
     "iopub.status.idle": "2024-10-31T22:24:12.859752Z",
     "shell.execute_reply": "2024-10-31T22:24:12.859095Z",
     "shell.execute_reply.started": "2024-10-31T22:24:12.588191Z"
    },
    "tags": []
   },
   "outputs": [
    {
     "data": {
      "text/html": [
       "<div>\n",
       "<style scoped>\n",
       "    .dataframe tbody tr th:only-of-type {\n",
       "        vertical-align: middle;\n",
       "    }\n",
       "\n",
       "    .dataframe tbody tr th {\n",
       "        vertical-align: top;\n",
       "    }\n",
       "\n",
       "    .dataframe thead th {\n",
       "        text-align: right;\n",
       "    }\n",
       "</style>\n",
       "<table border=\"1\" class=\"dataframe\">\n",
       "  <thead>\n",
       "    <tr style=\"text-align: right;\">\n",
       "      <th></th>\n",
       "      <th>Modalities</th>\n",
       "      <th>leiden</th>\n",
       "      <th>celltype_final</th>\n",
       "    </tr>\n",
       "  </thead>\n",
       "  <tbody>\n",
       "    <tr>\n",
       "      <th>Male:8wk_8E_rep2:AAACGCAAGCAAAGGAACAGAC</th>\n",
       "      <td>ATAC</td>\n",
       "      <td>53</td>\n",
       "      <td>CA2-FC-IG Glut</td>\n",
       "    </tr>\n",
       "    <tr>\n",
       "      <th>Male:8wk_8E_rep2:AAACGCAAGCACCTCACTCGAA</th>\n",
       "      <td>ATAC</td>\n",
       "      <td>13</td>\n",
       "      <td>Sst Gaba</td>\n",
       "    </tr>\n",
       "    <tr>\n",
       "      <th>Male:8wk_8E_rep2:AAACGCAAGCAGATTGGACAAG</th>\n",
       "      <td>ATAC</td>\n",
       "      <td>53</td>\n",
       "      <td>CA2-FC-IG Glut</td>\n",
       "    </tr>\n",
       "    <tr>\n",
       "      <th>Male:8wk_8E_rep2:AAACGCAAGCAGCGAATAACCC</th>\n",
       "      <td>ATAC</td>\n",
       "      <td>53</td>\n",
       "      <td>CA2-FC-IG Glut</td>\n",
       "    </tr>\n",
       "    <tr>\n",
       "      <th>Male:8wk_8E_rep2:AAACGCAAGCAGGCTGCGTCTA</th>\n",
       "      <td>ATAC</td>\n",
       "      <td>7</td>\n",
       "      <td>CA1-ProS Glut</td>\n",
       "    </tr>\n",
       "  </tbody>\n",
       "</table>\n",
       "</div>"
      ],
      "text/plain": [
       "                                        Modalities leiden  celltype_final\n",
       "Male:8wk_8E_rep2:AAACGCAAGCAAAGGAACAGAC       ATAC     53  CA2-FC-IG Glut\n",
       "Male:8wk_8E_rep2:AAACGCAAGCACCTCACTCGAA       ATAC     13        Sst Gaba\n",
       "Male:8wk_8E_rep2:AAACGCAAGCAGATTGGACAAG       ATAC     53  CA2-FC-IG Glut\n",
       "Male:8wk_8E_rep2:AAACGCAAGCAGCGAATAACCC       ATAC     53  CA2-FC-IG Glut\n",
       "Male:8wk_8E_rep2:AAACGCAAGCAGGCTGCGTCTA       ATAC      7   CA1-ProS Glut"
      ]
     },
     "execution_count": 8,
     "metadata": {},
     "output_type": "execute_result"
    }
   ],
   "source": [
    "atac_meta[atac_cat_key] = atac_annot[atac_cat_key]\n",
    "atac_meta.head()"
   ]
  },
  {
   "cell_type": "code",
   "execution_count": 9,
   "id": "85697cd2-327c-46cb-9784-2a91d5a863e9",
   "metadata": {
    "execution": {
     "iopub.execute_input": "2024-10-31T22:24:12.860760Z",
     "iopub.status.busy": "2024-10-31T22:24:12.860542Z",
     "iopub.status.idle": "2024-10-31T22:24:12.947250Z",
     "shell.execute_reply": "2024-10-31T22:24:12.946333Z",
     "shell.execute_reply.started": "2024-10-31T22:24:12.860740Z"
    },
    "tags": []
   },
   "outputs": [
    {
     "data": {
      "text/plain": [
       "22"
      ]
     },
     "execution_count": 9,
     "metadata": {},
     "output_type": "execute_result"
    }
   ],
   "source": [
    "use_mc_cts = joblib.load('/home/qzeng/project/aging/metadata/shared_use_cts')\n",
    "luisa_annot = atac_meta['celltype_final'].unique()\n",
    "\n",
    "\n",
    "shared_cts = list(set(use_mc_cts) & set(luisa_annot))\n",
    "shared_cts = [ct for ct in shared_cts if ct.endswith('NN') == False]\n",
    "len(shared_cts)"
   ]
  },
  {
   "cell_type": "code",
   "execution_count": 10,
   "id": "1e7d8121-73f8-470b-8e9b-6a18cc180b8d",
   "metadata": {
    "execution": {
     "iopub.execute_input": "2024-10-31T22:24:12.948887Z",
     "iopub.status.busy": "2024-10-31T22:24:12.948449Z",
     "iopub.status.idle": "2024-10-31T22:24:12.953037Z",
     "shell.execute_reply": "2024-10-31T22:24:12.951943Z",
     "shell.execute_reply.started": "2024-10-31T22:24:12.948852Z"
    },
    "tags": []
   },
   "outputs": [],
   "source": [
    "# for ct in use_mc_cts:\n",
    "#     if ct not in luisa_annot and ct.endswith('NN') == False:\n",
    "#         print(ct)"
   ]
  },
  {
   "cell_type": "code",
   "execution_count": 11,
   "id": "05c5719b-c1f5-4ee0-829b-ed099ccc908a",
   "metadata": {
    "execution": {
     "iopub.execute_input": "2024-10-31T22:24:12.954613Z",
     "iopub.status.busy": "2024-10-31T22:24:12.954174Z",
     "iopub.status.idle": "2024-10-31T22:24:12.958348Z",
     "shell.execute_reply": "2024-10-31T22:24:12.957562Z",
     "shell.execute_reply.started": "2024-10-31T22:24:12.954580Z"
    },
    "tags": []
   },
   "outputs": [],
   "source": [
    "# for ct in luisa_annot:\n",
    "#     if ct not in use_mc_cts and ct.endswith('NN') == False:\n",
    "#         print(ct)"
   ]
  },
  {
   "cell_type": "code",
   "execution_count": 12,
   "id": "59273a8d-a912-46e4-983d-071562cce190",
   "metadata": {
    "execution": {
     "iopub.execute_input": "2024-10-31T22:24:12.959664Z",
     "iopub.status.busy": "2024-10-31T22:24:12.959337Z",
     "iopub.status.idle": "2024-10-31T22:24:12.964468Z",
     "shell.execute_reply": "2024-10-31T22:24:12.963630Z",
     "shell.execute_reply.started": "2024-10-31T22:24:12.959633Z"
    },
    "tags": []
   },
   "outputs": [],
   "source": [
    "use_mc_cts = shared_cts + ['STR D1 Gaba','STR D2 Gaba','MEA-COA Glut','L4/5 IT CTX Glut','STR Gaba']\n",
    "use_atac_cts = shared_cts + ['STR D12 Gaba','COA Glut','STR Prox1 Lhx6 Gaba'] #'CA2-FC-IG Glut',"
   ]
  },
  {
   "cell_type": "code",
   "execution_count": 13,
   "id": "60580ecd-08e3-40ea-a049-67f4c68e1e9e",
   "metadata": {
    "execution": {
     "iopub.execute_input": "2024-10-31T22:24:12.965740Z",
     "iopub.status.busy": "2024-10-31T22:24:12.965429Z",
     "iopub.status.idle": "2024-10-31T22:24:13.081329Z",
     "shell.execute_reply": "2024-10-31T22:24:13.080507Z",
     "shell.execute_reply.started": "2024-10-31T22:24:12.965711Z"
    },
    "tags": []
   },
   "outputs": [],
   "source": [
    "mc_meta = mc_meta[mc_meta[mc_cat_key].isin(use_mc_cts)]\n",
    "atac_meta = atac_meta[atac_meta[atac_cat_key].isin(use_atac_cts)]"
   ]
  },
  {
   "cell_type": "code",
   "execution_count": 14,
   "id": "85bef6aa-2e37-4967-a9e0-d244e13ad596",
   "metadata": {
    "execution": {
     "iopub.execute_input": "2024-10-31T22:24:13.082530Z",
     "iopub.status.busy": "2024-10-31T22:24:13.082262Z",
     "iopub.status.idle": "2024-10-31T22:24:13.422668Z",
     "shell.execute_reply": "2024-10-31T22:24:13.421422Z",
     "shell.execute_reply.started": "2024-10-31T22:24:13.082506Z"
    },
    "tags": []
   },
   "outputs": [],
   "source": [
    "os_mat = calculate_overlap_score(\n",
    "    atac_meta[[atac_cat_key, \"leiden\"]], mc_meta[[mc_cat_key, \"leiden\"]]\n",
    ")"
   ]
  },
  {
   "cell_type": "code",
   "execution_count": 15,
   "id": "90b6ac2c-28ce-4288-abfd-6383f2409d69",
   "metadata": {
    "execution": {
     "iopub.execute_input": "2024-10-31T22:24:13.424190Z",
     "iopub.status.busy": "2024-10-31T22:24:13.423854Z",
     "iopub.status.idle": "2024-10-31T22:24:13.476774Z",
     "shell.execute_reply": "2024-10-31T22:24:13.475676Z",
     "shell.execute_reply.started": "2024-10-31T22:24:13.424158Z"
    },
    "tags": []
   },
   "outputs": [],
   "source": [
    "os_mat.to_hdf(f\"ATAC-{atac_cat_key}.mC-{mc_cat_key}.overlap_score.hdf\", key=\"data\")"
   ]
  },
  {
   "cell_type": "markdown",
   "id": "d236a307-f9f6-4734-88b1-453846ea992d",
   "metadata": {},
   "source": [
    "## plot"
   ]
  },
  {
   "cell_type": "code",
   "execution_count": 16,
   "id": "87f2d16a-2b40-406d-9707-e4f977183a12",
   "metadata": {
    "execution": {
     "iopub.execute_input": "2024-10-31T22:24:13.478448Z",
     "iopub.status.busy": "2024-10-31T22:24:13.478100Z",
     "iopub.status.idle": "2024-10-31T22:24:13.526130Z",
     "shell.execute_reply": "2024-10-31T22:24:13.525330Z",
     "shell.execute_reply.started": "2024-10-31T22:24:13.478415Z"
    },
    "tags": []
   },
   "outputs": [
    {
     "data": {
      "text/html": [
       "<div>\n",
       "<style scoped>\n",
       "    .dataframe tbody tr th:only-of-type {\n",
       "        vertical-align: middle;\n",
       "    }\n",
       "\n",
       "    .dataframe tbody tr th {\n",
       "        vertical-align: top;\n",
       "    }\n",
       "\n",
       "    .dataframe thead th {\n",
       "        text-align: right;\n",
       "    }\n",
       "</style>\n",
       "<table border=\"1\" class=\"dataframe\">\n",
       "  <thead>\n",
       "    <tr style=\"text-align: right;\">\n",
       "      <th>AgingMajorType</th>\n",
       "      <th>CA1-ProS Glut</th>\n",
       "      <th>CA3 Glut</th>\n",
       "      <th>CEA-BST Gaba</th>\n",
       "      <th>DG Glut</th>\n",
       "      <th>L2/3 IT CTX Glut</th>\n",
       "      <th>L2/3 IT ENT Glut</th>\n",
       "      <th>L2/3 IT PPP Glut</th>\n",
       "      <th>L4/5 IT CTX Glut</th>\n",
       "      <th>L5 ET CTX Glut</th>\n",
       "      <th>L5 IT CTX Glut</th>\n",
       "      <th>...</th>\n",
       "      <th>MEA-COA Glut</th>\n",
       "      <th>Pvalb Gaba</th>\n",
       "      <th>STR D1 Gaba</th>\n",
       "      <th>STR D1 Sema5a Gaba</th>\n",
       "      <th>STR D2 Gaba</th>\n",
       "      <th>STR Gaba</th>\n",
       "      <th>STR-PAL Chst9 Gaba</th>\n",
       "      <th>SUB-ProS Glut</th>\n",
       "      <th>Sst Gaba</th>\n",
       "      <th>Vip Gaba</th>\n",
       "    </tr>\n",
       "    <tr>\n",
       "      <th>celltype_final</th>\n",
       "      <th></th>\n",
       "      <th></th>\n",
       "      <th></th>\n",
       "      <th></th>\n",
       "      <th></th>\n",
       "      <th></th>\n",
       "      <th></th>\n",
       "      <th></th>\n",
       "      <th></th>\n",
       "      <th></th>\n",
       "      <th></th>\n",
       "      <th></th>\n",
       "      <th></th>\n",
       "      <th></th>\n",
       "      <th></th>\n",
       "      <th></th>\n",
       "      <th></th>\n",
       "      <th></th>\n",
       "      <th></th>\n",
       "      <th></th>\n",
       "      <th></th>\n",
       "    </tr>\n",
       "  </thead>\n",
       "  <tbody>\n",
       "    <tr>\n",
       "      <th>CA1-ProS Glut</th>\n",
       "      <td>0.925782</td>\n",
       "      <td>0.006825</td>\n",
       "      <td>0.001300</td>\n",
       "      <td>0.002875</td>\n",
       "      <td>0.001104</td>\n",
       "      <td>0.003806</td>\n",
       "      <td>0.013079</td>\n",
       "      <td>0.013831</td>\n",
       "      <td>0.001184</td>\n",
       "      <td>0.004612</td>\n",
       "      <td>...</td>\n",
       "      <td>0.001091</td>\n",
       "      <td>0.006595</td>\n",
       "      <td>0.000300</td>\n",
       "      <td>0.000057</td>\n",
       "      <td>0.010264</td>\n",
       "      <td>0.001199</td>\n",
       "      <td>0.000459</td>\n",
       "      <td>0.012614</td>\n",
       "      <td>0.009978</td>\n",
       "      <td>0.002287</td>\n",
       "    </tr>\n",
       "    <tr>\n",
       "      <th>CA3 Glut</th>\n",
       "      <td>0.009800</td>\n",
       "      <td>0.850495</td>\n",
       "      <td>0.001543</td>\n",
       "      <td>0.001329</td>\n",
       "      <td>0.000748</td>\n",
       "      <td>0.002995</td>\n",
       "      <td>0.005897</td>\n",
       "      <td>0.004197</td>\n",
       "      <td>0.000553</td>\n",
       "      <td>0.001226</td>\n",
       "      <td>...</td>\n",
       "      <td>0.003613</td>\n",
       "      <td>0.005528</td>\n",
       "      <td>0.000390</td>\n",
       "      <td>0.000000</td>\n",
       "      <td>0.002248</td>\n",
       "      <td>0.000511</td>\n",
       "      <td>0.000613</td>\n",
       "      <td>0.001431</td>\n",
       "      <td>0.002146</td>\n",
       "      <td>0.002460</td>\n",
       "    </tr>\n",
       "    <tr>\n",
       "      <th>CEA-BST Gaba</th>\n",
       "      <td>0.003740</td>\n",
       "      <td>0.000886</td>\n",
       "      <td>0.786296</td>\n",
       "      <td>0.000742</td>\n",
       "      <td>0.001133</td>\n",
       "      <td>0.002664</td>\n",
       "      <td>0.002524</td>\n",
       "      <td>0.004179</td>\n",
       "      <td>0.000220</td>\n",
       "      <td>0.000440</td>\n",
       "      <td>...</td>\n",
       "      <td>0.026929</td>\n",
       "      <td>0.004179</td>\n",
       "      <td>0.017958</td>\n",
       "      <td>0.026620</td>\n",
       "      <td>0.011524</td>\n",
       "      <td>0.003269</td>\n",
       "      <td>0.040480</td>\n",
       "      <td>0.000000</td>\n",
       "      <td>0.006159</td>\n",
       "      <td>0.002785</td>\n",
       "    </tr>\n",
       "    <tr>\n",
       "      <th>COA Glut</th>\n",
       "      <td>0.003099</td>\n",
       "      <td>0.001440</td>\n",
       "      <td>0.016227</td>\n",
       "      <td>0.000973</td>\n",
       "      <td>0.000593</td>\n",
       "      <td>0.002529</td>\n",
       "      <td>0.002787</td>\n",
       "      <td>0.004049</td>\n",
       "      <td>0.000000</td>\n",
       "      <td>0.000178</td>\n",
       "      <td>...</td>\n",
       "      <td>0.806900</td>\n",
       "      <td>0.003925</td>\n",
       "      <td>0.000913</td>\n",
       "      <td>0.000535</td>\n",
       "      <td>0.001882</td>\n",
       "      <td>0.001976</td>\n",
       "      <td>0.004508</td>\n",
       "      <td>0.000000</td>\n",
       "      <td>0.003386</td>\n",
       "      <td>0.003120</td>\n",
       "    </tr>\n",
       "    <tr>\n",
       "      <th>DG Glut</th>\n",
       "      <td>0.008728</td>\n",
       "      <td>0.002086</td>\n",
       "      <td>0.001446</td>\n",
       "      <td>0.932383</td>\n",
       "      <td>0.000924</td>\n",
       "      <td>0.002492</td>\n",
       "      <td>0.003342</td>\n",
       "      <td>0.009710</td>\n",
       "      <td>0.000161</td>\n",
       "      <td>0.001128</td>\n",
       "      <td>...</td>\n",
       "      <td>0.001236</td>\n",
       "      <td>0.003030</td>\n",
       "      <td>0.000382</td>\n",
       "      <td>0.000036</td>\n",
       "      <td>0.008769</td>\n",
       "      <td>0.001192</td>\n",
       "      <td>0.000506</td>\n",
       "      <td>0.000286</td>\n",
       "      <td>0.008584</td>\n",
       "      <td>0.001705</td>\n",
       "    </tr>\n",
       "  </tbody>\n",
       "</table>\n",
       "<p>5 rows × 27 columns</p>\n",
       "</div>"
      ],
      "text/plain": [
       "AgingMajorType  CA1-ProS Glut  CA3 Glut  CEA-BST Gaba   DG Glut  \\\n",
       "celltype_final                                                    \n",
       "CA1-ProS Glut        0.925782  0.006825      0.001300  0.002875   \n",
       "CA3 Glut             0.009800  0.850495      0.001543  0.001329   \n",
       "CEA-BST Gaba         0.003740  0.000886      0.786296  0.000742   \n",
       "COA Glut             0.003099  0.001440      0.016227  0.000973   \n",
       "DG Glut              0.008728  0.002086      0.001446  0.932383   \n",
       "\n",
       "AgingMajorType  L2/3 IT CTX Glut  L2/3 IT ENT Glut  L2/3 IT PPP Glut  \\\n",
       "celltype_final                                                         \n",
       "CA1-ProS Glut           0.001104          0.003806          0.013079   \n",
       "CA3 Glut                0.000748          0.002995          0.005897   \n",
       "CEA-BST Gaba            0.001133          0.002664          0.002524   \n",
       "COA Glut                0.000593          0.002529          0.002787   \n",
       "DG Glut                 0.000924          0.002492          0.003342   \n",
       "\n",
       "AgingMajorType  L4/5 IT CTX Glut  L5 ET CTX Glut  L5 IT CTX Glut  ...  \\\n",
       "celltype_final                                                    ...   \n",
       "CA1-ProS Glut           0.013831        0.001184        0.004612  ...   \n",
       "CA3 Glut                0.004197        0.000553        0.001226  ...   \n",
       "CEA-BST Gaba            0.004179        0.000220        0.000440  ...   \n",
       "COA Glut                0.004049        0.000000        0.000178  ...   \n",
       "DG Glut                 0.009710        0.000161        0.001128  ...   \n",
       "\n",
       "AgingMajorType  MEA-COA Glut  Pvalb Gaba  STR D1 Gaba  STR D1 Sema5a Gaba  \\\n",
       "celltype_final                                                              \n",
       "CA1-ProS Glut       0.001091    0.006595     0.000300            0.000057   \n",
       "CA3 Glut            0.003613    0.005528     0.000390            0.000000   \n",
       "CEA-BST Gaba        0.026929    0.004179     0.017958            0.026620   \n",
       "COA Glut            0.806900    0.003925     0.000913            0.000535   \n",
       "DG Glut             0.001236    0.003030     0.000382            0.000036   \n",
       "\n",
       "AgingMajorType  STR D2 Gaba  STR Gaba  STR-PAL Chst9 Gaba  SUB-ProS Glut  \\\n",
       "celltype_final                                                             \n",
       "CA1-ProS Glut      0.010264  0.001199            0.000459       0.012614   \n",
       "CA3 Glut           0.002248  0.000511            0.000613       0.001431   \n",
       "CEA-BST Gaba       0.011524  0.003269            0.040480       0.000000   \n",
       "COA Glut           0.001882  0.001976            0.004508       0.000000   \n",
       "DG Glut            0.008769  0.001192            0.000506       0.000286   \n",
       "\n",
       "AgingMajorType  Sst Gaba  Vip Gaba  \n",
       "celltype_final                      \n",
       "CA1-ProS Glut   0.009978  0.002287  \n",
       "CA3 Glut        0.002146  0.002460  \n",
       "CEA-BST Gaba    0.006159  0.002785  \n",
       "COA Glut        0.003386  0.003120  \n",
       "DG Glut         0.008584  0.001705  \n",
       "\n",
       "[5 rows x 27 columns]"
      ]
     },
     "execution_count": 16,
     "metadata": {},
     "output_type": "execute_result"
    }
   ],
   "source": [
    "os_mat = pd.read_hdf(f\"ATAC-{atac_cat_key}.mC-{mc_cat_key}.overlap_score.hdf\", key=\"data\")\n",
    "os_mat.head()"
   ]
  },
  {
   "cell_type": "code",
   "execution_count": 17,
   "id": "de128b27-3d5f-4994-b28a-ad845d6ea58a",
   "metadata": {
    "execution": {
     "iopub.execute_input": "2024-10-31T22:24:13.527451Z",
     "iopub.status.busy": "2024-10-31T22:24:13.527143Z",
     "iopub.status.idle": "2024-10-31T22:24:13.550736Z",
     "shell.execute_reply": "2024-10-31T22:24:13.549828Z",
     "shell.execute_reply.started": "2024-10-31T22:24:13.527422Z"
    },
    "tags": []
   },
   "outputs": [
    {
     "name": "stdout",
     "output_type": "stream",
     "text": [
      "Modularity: 0.926\n"
     ]
    }
   ],
   "source": [
    "(\n",
    "    query_group,\n",
    "    ref_group,\n",
    "    confusion_matrix,\n",
    "    g,\n",
    "    modularity_score,\n",
    ") = confusion_matrix_clustering(\n",
    "    confusion_matrix=os_mat,\n",
    "    min_value=0.1,\n",
    "    max_value=0.9,\n",
    "    partition_type=None,\n",
    "    resolution=1,\n",
    "    seed=0,\n",
    ")\n",
    "print(f\"Modularity: {modularity_score:.3f}\")"
   ]
  },
  {
   "cell_type": "code",
   "execution_count": 18,
   "id": "f0153031-4aba-4d1a-bc10-2595142692ba",
   "metadata": {
    "execution": {
     "iopub.execute_input": "2024-10-31T22:24:13.551922Z",
     "iopub.status.busy": "2024-10-31T22:24:13.551639Z",
     "iopub.status.idle": "2024-10-31T22:24:13.559097Z",
     "shell.execute_reply": "2024-10-31T22:24:13.558305Z",
     "shell.execute_reply.started": "2024-10-31T22:24:13.551895Z"
    },
    "tags": []
   },
   "outputs": [
    {
     "data": {
      "text/plain": [
       "25"
      ]
     },
     "execution_count": 18,
     "metadata": {},
     "output_type": "execute_result"
    }
   ],
   "source": [
    "atac_order = ['CEA-BST Gaba', 'MEA-BST Gaba','Pvalb Gaba', 'Sst Gaba','STR-PAL Chst9 Gaba', \n",
    "              'STR D1 Sema5a Gaba', 'STR D12 Gaba','STR Prox1 Lhx6 Gaba','Vip Gaba','Lamp5 Gaba',\n",
    "               'CA1-ProS Glut', 'CA3 Glut', 'DG Glut',  'SUB-ProS Glut',  'COA Glut','LA-BLA-BMA-PA Glut',\n",
    "              'L5 NP CTX Glut','L5 ET CTX Glut', 'L6 CT CTX Glut','L6b/CT ENT Glut','L2/3 IT ENT Glut', 'L2/3 IT PPP Glut',\n",
    "              'L2/3 IT CTX Glut',  'L5 IT CTX Glut', 'L6 IT CTX Glut']\n",
    "len(atac_order)"
   ]
  },
  {
   "cell_type": "code",
   "execution_count": 19,
   "id": "dbdb4637-07e6-4240-9e3f-b7dc29ac94f8",
   "metadata": {
    "execution": {
     "iopub.execute_input": "2024-10-31T22:24:13.560231Z",
     "iopub.status.busy": "2024-10-31T22:24:13.559949Z",
     "iopub.status.idle": "2024-10-31T22:24:13.567340Z",
     "shell.execute_reply": "2024-10-31T22:24:13.566592Z",
     "shell.execute_reply.started": "2024-10-31T22:24:13.560205Z"
    },
    "tags": []
   },
   "outputs": [
    {
     "data": {
      "text/plain": [
       "27"
      ]
     },
     "execution_count": 19,
     "metadata": {},
     "output_type": "execute_result"
    }
   ],
   "source": [
    "mc_order = ['CEA-BST Gaba','MEA-BST Gaba','Pvalb Gaba','Sst Gaba', 'STR-PAL Chst9 Gaba', \n",
    "            'STR D1 Sema5a Gaba', 'STR D2 Gaba', 'STR D1 Gaba','STR Gaba', 'Vip Gaba','Lamp5 Gaba',\n",
    "            'CA1-ProS Glut', 'CA3 Glut', 'DG Glut','SUB-ProS Glut','MEA-COA Glut','LA-BLA-BMA-PA Glut',\n",
    "            'L5 NP CTX Glut', 'L5 ET CTX Glut', 'L6 CT CTX Glut','L6b/CT ENT Glut','L2/3 IT ENT Glut','L2/3 IT PPP Glut', \n",
    "            'L2/3 IT CTX Glut', 'L4/5 IT CTX Glut', 'L5 IT CTX Glut','L6 IT CTX Glut']\n",
    "len(mc_order)"
   ]
  },
  {
   "cell_type": "code",
   "execution_count": 20,
   "id": "e32d2624-2e1f-43b6-9292-51a8f9937e7a",
   "metadata": {
    "execution": {
     "iopub.execute_input": "2024-10-31T22:24:13.568652Z",
     "iopub.status.busy": "2024-10-31T22:24:13.568275Z",
     "iopub.status.idle": "2024-10-31T22:24:13.573921Z",
     "shell.execute_reply": "2024-10-31T22:24:13.572962Z",
     "shell.execute_reply.started": "2024-10-31T22:24:13.568626Z"
    },
    "tags": []
   },
   "outputs": [],
   "source": [
    "confusion_matrix = confusion_matrix.loc[atac_order, mc_order]"
   ]
  },
  {
   "cell_type": "code",
   "execution_count": 21,
   "id": "03856be7-c33e-48f9-b52f-df619e259ddd",
   "metadata": {
    "execution": {
     "iopub.execute_input": "2024-10-31T22:24:13.575241Z",
     "iopub.status.busy": "2024-10-31T22:24:13.574897Z",
     "iopub.status.idle": "2024-10-31T22:24:16.589196Z",
     "shell.execute_reply": "2024-10-31T22:24:16.588474Z",
     "shell.execute_reply.started": "2024-10-31T22:24:13.575216Z"
    },
    "tags": []
   },
   "outputs": [
    {
     "data": {
      "image/png": "[encoded data removed]",
      "text/plain": [
       "<Figure size 1200x1200 with 1 Axes>"
      ]
     },
     "metadata": {
      "needs_background": "light"
     },
     "output_type": "display_data"
    }
   ],
   "source": [
    "fig, ax = plt.subplots(figsize=(6, 6), dpi=200, constrained_layout = True)\n",
    "sns.heatmap(confusion_matrix, cbar=False,\n",
    "            xticklabels=True,yticklabels=True,rasterized = True,\n",
    "            ax=ax, vmin=0.1, vmax=0.9)\n",
    "fig.savefig('mc_atac.confusion.matrix.pdf', bbox_inches = 'tight')"
   ]
  },
  {
   "cell_type": "code",
   "execution_count": 22,
   "id": "09fa1764-f1f6-4dac-b899-4205a85158af",
   "metadata": {
    "execution": {
     "iopub.execute_input": "2024-10-31T22:24:16.590279Z",
     "iopub.status.busy": "2024-10-31T22:24:16.590060Z",
     "iopub.status.idle": "2024-10-31T22:24:16.595545Z",
     "shell.execute_reply": "2024-10-31T22:24:16.594479Z",
     "shell.execute_reply.started": "2024-10-31T22:24:16.590260Z"
    }
   },
   "outputs": [
    {
     "ename": "SyntaxError",
     "evalue": "can't assign to keyword (3145750680.py, line 1)",
     "output_type": "error",
     "traceback": [
      "\u001b[0;36m  File \u001b[0;32m\"/tmp/ipykernel_82043/3145750680.py\"\u001b[0;36m, line \u001b[0;32m1\u001b[0m\n\u001b[0;31m    False, cmap=plt.cm.gray\u001b[0m\n\u001b[0m                           ^\u001b[0m\n\u001b[0;31mSyntaxError\u001b[0m\u001b[0;31m:\u001b[0m can't assign to keyword\n"
     ]
    }
   ],
   "source": [
    "False, cmap=plt.cm.gray"
   ]
  },
  {
   "cell_type": "code",
   "execution_count": null,
   "id": "9475e36d-aca7-4903-97be-d83fbb8a9c72",
   "metadata": {},
   "outputs": [],
   "source": []
  },
  {
   "cell_type": "code",
   "execution_count": null,
   "id": "e7c47522-5afe-4a3e-a327-2fd5ab7f54b2",
   "metadata": {},
   "outputs": [],
   "source": []
  },
  {
   "cell_type": "code",
   "execution_count": null,
   "id": "7f449e41-6082-446f-92b2-6ebb74df06b0",
   "metadata": {},
   "outputs": [],
   "source": []
  },
  {
   "cell_type": "code",
   "execution_count": null,
   "id": "e3ec37d0-d126-4bfd-80f2-5125c77a84ee",
   "metadata": {},
   "outputs": [],
   "source": []
  },
  {
   "cell_type": "code",
   "execution_count": null,
   "id": "2c241e37-032b-4d86-8887-ee59518c3c13",
   "metadata": {},
   "outputs": [],
   "source": []
  }
 ],
 "metadata": {
  "kernelspec": {
   "display_name": "Python 3 (ipykernel)",
   "language": "python",
   "name": "python3"
  },
  "language_info": {
   "codemirror_mode": {
    "name": "ipython",
    "version": 3
   },
   "file_extension": ".py",
   "mimetype": "text/x-python",
   "name": "python",
   "nbconvert_exporter": "python",
   "pygments_lexer": "ipython3",
   "version": "3.7.12"
  }
 },
 "nbformat": 4,
 "nbformat_minor": 5
}
