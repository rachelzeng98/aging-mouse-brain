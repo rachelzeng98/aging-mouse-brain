{
 "cells": [
  {
   "cell_type": "code",
   "execution_count": 2,
   "id": "725eaa97-a817-469b-9760-dc504336a179",
   "metadata": {
    "execution": {
     "iopub.execute_input": "2024-05-01T22:00:16.712777Z",
     "iopub.status.busy": "2024-05-01T22:00:16.712323Z",
     "iopub.status.idle": "2024-05-01T22:00:17.190783Z",
     "shell.execute_reply": "2024-05-01T22:00:17.190165Z",
     "shell.execute_reply.started": "2024-05-01T22:00:16.712741Z"
    },
    "tags": []
   },
   "outputs": [],
   "source": [
    "from amb import *\n",
    "import pandas as pd"
   ]
  },
  {
   "cell_type": "code",
   "execution_count": 3,
   "id": "d7951824-c363-47d0-88c9-db7321428474",
   "metadata": {
    "execution": {
     "iopub.execute_input": "2024-05-01T22:00:17.192239Z",
     "iopub.status.busy": "2024-05-01T22:00:17.191839Z",
     "iopub.status.idle": "2024-05-01T22:00:17.205517Z",
     "shell.execute_reply": "2024-05-01T22:00:17.205021Z",
     "shell.execute_reply.started": "2024-05-01T22:00:17.192213Z"
    },
    "tags": []
   },
   "outputs": [
    {
     "data": {
      "text/html": [
       "<div>\n",
       "<style scoped>\n",
       "    .dataframe tbody tr th:only-of-type {\n",
       "        vertical-align: middle;\n",
       "    }\n",
       "\n",
       "    .dataframe tbody tr th {\n",
       "        vertical-align: top;\n",
       "    }\n",
       "\n",
       "    .dataframe thead th {\n",
       "        text-align: right;\n",
       "    }\n",
       "</style>\n",
       "<table border=\"1\" class=\"dataframe\">\n",
       "  <thead>\n",
       "    <tr style=\"text-align: right;\">\n",
       "      <th></th>\n",
       "      <th>Color</th>\n",
       "    </tr>\n",
       "    <tr>\n",
       "      <th>Region</th>\n",
       "      <th></th>\n",
       "    </tr>\n",
       "  </thead>\n",
       "  <tbody>\n",
       "    <tr>\n",
       "      <th>Frontal_Cortex</th>\n",
       "      <td>#cea97e</td>\n",
       "    </tr>\n",
       "    <tr>\n",
       "      <th>Anterior_Hippocampus</th>\n",
       "      <td>#e8a57d</td>\n",
       "    </tr>\n",
       "    <tr>\n",
       "      <th>Posterior_Hippocampus</th>\n",
       "      <td>#6f2632</td>\n",
       "    </tr>\n",
       "    <tr>\n",
       "      <th>Entorhinal_Cortex</th>\n",
       "      <td>#d878b2</td>\n",
       "    </tr>\n",
       "    <tr>\n",
       "      <th>Nucleus_accumbens</th>\n",
       "      <td>#F3C8E8</td>\n",
       "    </tr>\n",
       "  </tbody>\n",
       "</table>\n",
       "</div>"
      ],
      "text/plain": [
       "                         Color\n",
       "Region                        \n",
       "Frontal_Cortex         #cea97e\n",
       "Anterior_Hippocampus   #e8a57d\n",
       "Posterior_Hippocampus  #6f2632\n",
       "Entorhinal_Cortex      #d878b2\n",
       "Nucleus_accumbens      #F3C8E8"
      ]
     },
     "execution_count": 3,
     "metadata": {},
     "output_type": "execute_result"
    }
   ],
   "source": [
    "region = get_major_region_palette()\n",
    "df = pd.DataFrame(list(region.items()), columns=['Region', 'Color']).set_index('Region')\n",
    "df.to_csv(f'palette/MajorRegion.csv')\n",
    "df.head()"
   ]
  },
  {
   "cell_type": "code",
   "execution_count": 12,
   "id": "adfb2173-ec08-41cc-a9e3-0cd118036a1a",
   "metadata": {
    "execution": {
     "iopub.execute_input": "2024-05-01T22:02:25.205236Z",
     "iopub.status.busy": "2024-05-01T22:02:25.204793Z",
     "iopub.status.idle": "2024-05-01T22:02:25.217119Z",
     "shell.execute_reply": "2024-05-01T22:02:25.216601Z",
     "shell.execute_reply.started": "2024-05-01T22:02:25.205204Z"
    },
    "tags": []
   },
   "outputs": [
    {
     "data": {
      "text/html": [
       "<div>\n",
       "<style scoped>\n",
       "    .dataframe tbody tr th:only-of-type {\n",
       "        vertical-align: middle;\n",
       "    }\n",
       "\n",
       "    .dataframe tbody tr th {\n",
       "        vertical-align: top;\n",
       "    }\n",
       "\n",
       "    .dataframe thead th {\n",
       "        text-align: right;\n",
       "    }\n",
       "</style>\n",
       "<table border=\"1\" class=\"dataframe\">\n",
       "  <thead>\n",
       "    <tr style=\"text-align: right;\">\n",
       "      <th></th>\n",
       "      <th>Color</th>\n",
       "    </tr>\n",
       "    <tr>\n",
       "      <th>DissectionRegion</th>\n",
       "      <th></th>\n",
       "    </tr>\n",
       "  </thead>\n",
       "  <tbody>\n",
       "    <tr>\n",
       "      <th>ACB-1</th>\n",
       "      <td>#DDD2F4</td>\n",
       "    </tr>\n",
       "    <tr>\n",
       "      <th>ACB-1+ACB-2</th>\n",
       "      <td>#E8C8F5</td>\n",
       "    </tr>\n",
       "    <tr>\n",
       "      <th>ACB-2</th>\n",
       "      <td>#FFD2FC</td>\n",
       "    </tr>\n",
       "    <tr>\n",
       "      <th>AMY-1</th>\n",
       "      <td>#508eda</td>\n",
       "    </tr>\n",
       "    <tr>\n",
       "      <th>AMY-1+AMY-2+AMY-3</th>\n",
       "      <td>#32A0C7</td>\n",
       "    </tr>\n",
       "  </tbody>\n",
       "</table>\n",
       "</div>"
      ],
      "text/plain": [
       "                     Color\n",
       "DissectionRegion          \n",
       "ACB-1              #DDD2F4\n",
       "ACB-1+ACB-2        #E8C8F5\n",
       "ACB-2              #FFD2FC\n",
       "AMY-1              #508eda\n",
       "AMY-1+AMY-2+AMY-3  #32A0C7"
      ]
     },
     "execution_count": 12,
     "metadata": {},
     "output_type": "execute_result"
    }
   ],
   "source": [
    "region = get_dissection_region_palette()\n",
    "df = pd.DataFrame(list(region.items()), columns=['DissectionRegion', 'Color']).set_index('DissectionRegion')\n",
    "df.to_csv(f'palette/DissectionRegion.csv')\n",
    "df.head()"
   ]
  },
  {
   "cell_type": "code",
   "execution_count": 6,
   "id": "76148899-a9e4-4f90-a82a-7236916d2553",
   "metadata": {
    "execution": {
     "iopub.execute_input": "2024-05-01T22:00:46.552084Z",
     "iopub.status.busy": "2024-05-01T22:00:46.551709Z",
     "iopub.status.idle": "2024-05-01T22:00:46.561751Z",
     "shell.execute_reply": "2024-05-01T22:00:46.561252Z",
     "shell.execute_reply.started": "2024-05-01T22:00:46.552060Z"
    },
    "tags": []
   },
   "outputs": [
    {
     "data": {
      "text/html": [
       "<div>\n",
       "<style scoped>\n",
       "    .dataframe tbody tr th:only-of-type {\n",
       "        vertical-align: middle;\n",
       "    }\n",
       "\n",
       "    .dataframe tbody tr th {\n",
       "        vertical-align: top;\n",
       "    }\n",
       "\n",
       "    .dataframe thead th {\n",
       "        text-align: right;\n",
       "    }\n",
       "</style>\n",
       "<table border=\"1\" class=\"dataframe\">\n",
       "  <thead>\n",
       "    <tr style=\"text-align: right;\">\n",
       "      <th></th>\n",
       "      <th>Color</th>\n",
       "    </tr>\n",
       "    <tr>\n",
       "      <th>Age</th>\n",
       "      <th></th>\n",
       "    </tr>\n",
       "  </thead>\n",
       "  <tbody>\n",
       "    <tr>\n",
       "      <th>2mo</th>\n",
       "      <td>#480080</td>\n",
       "    </tr>\n",
       "    <tr>\n",
       "      <th>9mo</th>\n",
       "      <td>#e23c5d</td>\n",
       "    </tr>\n",
       "    <tr>\n",
       "      <th>18mo</th>\n",
       "      <td>#ffb42c</td>\n",
       "    </tr>\n",
       "  </tbody>\n",
       "</table>\n",
       "</div>"
      ],
      "text/plain": [
       "        Color\n",
       "Age          \n",
       "2mo   #480080\n",
       "9mo   #e23c5d\n",
       "18mo  #ffb42c"
      ]
     },
     "execution_count": 6,
     "metadata": {},
     "output_type": "execute_result"
    }
   ],
   "source": [
    "age = get_age_palette()\n",
    "df = pd.DataFrame(list(age.items()), columns=['Age', 'Color']).set_index('Age')\n",
    "df.to_csv(f'palette/Age.csv')\n",
    "df.head()"
   ]
  },
  {
   "cell_type": "code",
   "execution_count": 8,
   "id": "0cbd7b31-88fd-40f2-92cf-55fda819d462",
   "metadata": {
    "execution": {
     "iopub.execute_input": "2024-05-01T22:01:12.874764Z",
     "iopub.status.busy": "2024-05-01T22:01:12.874332Z",
     "iopub.status.idle": "2024-05-01T22:01:12.883821Z",
     "shell.execute_reply": "2024-05-01T22:01:12.883324Z",
     "shell.execute_reply.started": "2024-05-01T22:01:12.874739Z"
    },
    "tags": []
   },
   "outputs": [
    {
     "data": {
      "text/html": [
       "<div>\n",
       "<style scoped>\n",
       "    .dataframe tbody tr th:only-of-type {\n",
       "        vertical-align: middle;\n",
       "    }\n",
       "\n",
       "    .dataframe tbody tr th {\n",
       "        vertical-align: top;\n",
       "    }\n",
       "\n",
       "    .dataframe thead th {\n",
       "        text-align: right;\n",
       "    }\n",
       "</style>\n",
       "<table border=\"1\" class=\"dataframe\">\n",
       "  <thead>\n",
       "    <tr style=\"text-align: right;\">\n",
       "      <th></th>\n",
       "      <th>Color</th>\n",
       "    </tr>\n",
       "    <tr>\n",
       "      <th>CellClass</th>\n",
       "      <th></th>\n",
       "    </tr>\n",
       "  </thead>\n",
       "  <tbody>\n",
       "    <tr>\n",
       "      <th>Gaba</th>\n",
       "      <td>#0000FF</td>\n",
       "    </tr>\n",
       "    <tr>\n",
       "      <th>Glut</th>\n",
       "      <td>#FFA500</td>\n",
       "    </tr>\n",
       "    <tr>\n",
       "      <th>NN</th>\n",
       "      <td>#006400</td>\n",
       "    </tr>\n",
       "    <tr>\n",
       "      <th>Glut-Sero</th>\n",
       "      <td>#FF0000</td>\n",
       "    </tr>\n",
       "    <tr>\n",
       "      <th>PAG-PCG</th>\n",
       "      <td>#00FFFF</td>\n",
       "    </tr>\n",
       "  </tbody>\n",
       "</table>\n",
       "</div>"
      ],
      "text/plain": [
       "             Color\n",
       "CellClass         \n",
       "Gaba       #0000FF\n",
       "Glut       #FFA500\n",
       "NN         #006400\n",
       "Glut-Sero  #FF0000\n",
       "PAG-PCG    #00FFFF"
      ]
     },
     "execution_count": 8,
     "metadata": {},
     "output_type": "execute_result"
    }
   ],
   "source": [
    "cell_class =get_cell_class_palette()\n",
    "df = pd.DataFrame(list(cell_class.items()), columns=['CellClass', 'Color']).set_index('CellClass')\n",
    "df.to_csv(f'palette/CellClass.csv')\n",
    "df.head()"
   ]
  },
  {
   "cell_type": "code",
   "execution_count": 9,
   "id": "cb17e0e0-09f5-481d-a712-2a6cc427ca94",
   "metadata": {
    "execution": {
     "iopub.execute_input": "2024-05-01T22:01:38.331334Z",
     "iopub.status.busy": "2024-05-01T22:01:38.331012Z",
     "iopub.status.idle": "2024-05-01T22:01:38.341720Z",
     "shell.execute_reply": "2024-05-01T22:01:38.341110Z",
     "shell.execute_reply.started": "2024-05-01T22:01:38.331307Z"
    },
    "tags": []
   },
   "outputs": [
    {
     "data": {
      "text/html": [
       "<div>\n",
       "<style scoped>\n",
       "    .dataframe tbody tr th:only-of-type {\n",
       "        vertical-align: middle;\n",
       "    }\n",
       "\n",
       "    .dataframe tbody tr th {\n",
       "        vertical-align: top;\n",
       "    }\n",
       "\n",
       "    .dataframe thead th {\n",
       "        text-align: right;\n",
       "    }\n",
       "</style>\n",
       "<table border=\"1\" class=\"dataframe\">\n",
       "  <thead>\n",
       "    <tr style=\"text-align: right;\">\n",
       "      <th></th>\n",
       "      <th>Color</th>\n",
       "    </tr>\n",
       "    <tr>\n",
       "      <th>CellType</th>\n",
       "      <th></th>\n",
       "    </tr>\n",
       "  </thead>\n",
       "  <tbody>\n",
       "    <tr>\n",
       "      <th>HPF CR Glut</th>\n",
       "      <td>#6580d2</td>\n",
       "    </tr>\n",
       "    <tr>\n",
       "      <th>CEA-AAA-BST Ebf1 Gaba</th>\n",
       "      <td>#693724</td>\n",
       "    </tr>\n",
       "    <tr>\n",
       "      <th>CLA-EPd-CTX Car3 Glut</th>\n",
       "      <td>#53a9c1</td>\n",
       "    </tr>\n",
       "    <tr>\n",
       "      <th>L6b/CT ENT Glut</th>\n",
       "      <td>#789cd8</td>\n",
       "    </tr>\n",
       "    <tr>\n",
       "      <th>CA2-FC-IG Glut</th>\n",
       "      <td>#63bf9f</td>\n",
       "    </tr>\n",
       "  </tbody>\n",
       "</table>\n",
       "</div>"
      ],
      "text/plain": [
       "                         Color\n",
       "CellType                      \n",
       "HPF CR Glut            #6580d2\n",
       "CEA-AAA-BST Ebf1 Gaba  #693724\n",
       "CLA-EPd-CTX Car3 Glut  #53a9c1\n",
       "L6b/CT ENT Glut        #789cd8\n",
       "CA2-FC-IG Glut         #63bf9f"
      ]
     },
     "execution_count": 9,
     "metadata": {},
     "output_type": "execute_result"
    }
   ],
   "source": [
    "celltype = get_cell_type_palette()\n",
    "df = pd.DataFrame(list(celltype.items()), columns=['CellType', 'Color']).set_index('CellType')\n",
    "df.to_csv(f'palette/CellType.csv')\n",
    "df.head()"
   ]
  },
  {
   "cell_type": "code",
   "execution_count": 10,
   "id": "1685adc4-85d4-42e6-9146-e76906e80ba1",
   "metadata": {
    "execution": {
     "iopub.execute_input": "2024-05-01T22:01:53.979267Z",
     "iopub.status.busy": "2024-05-01T22:01:53.978938Z",
     "iopub.status.idle": "2024-05-01T22:01:53.989353Z",
     "shell.execute_reply": "2024-05-01T22:01:53.988685Z",
     "shell.execute_reply.started": "2024-05-01T22:01:53.979243Z"
    },
    "tags": []
   },
   "outputs": [
    {
     "data": {
      "text/html": [
       "<div>\n",
       "<style scoped>\n",
       "    .dataframe tbody tr th:only-of-type {\n",
       "        vertical-align: middle;\n",
       "    }\n",
       "\n",
       "    .dataframe tbody tr th {\n",
       "        vertical-align: top;\n",
       "    }\n",
       "\n",
       "    .dataframe thead th {\n",
       "        text-align: right;\n",
       "    }\n",
       "</style>\n",
       "<table border=\"1\" class=\"dataframe\">\n",
       "  <thead>\n",
       "    <tr style=\"text-align: right;\">\n",
       "      <th></th>\n",
       "      <th>Color</th>\n",
       "    </tr>\n",
       "    <tr>\n",
       "      <th>Modality</th>\n",
       "      <th></th>\n",
       "    </tr>\n",
       "  </thead>\n",
       "  <tbody>\n",
       "    <tr>\n",
       "      <th>mCH</th>\n",
       "      <td>#16499D</td>\n",
       "    </tr>\n",
       "    <tr>\n",
       "      <th>mCG</th>\n",
       "      <td>#36AE37</td>\n",
       "    </tr>\n",
       "    <tr>\n",
       "      <th>m3C</th>\n",
       "      <td>#E71F19</td>\n",
       "    </tr>\n",
       "    <tr>\n",
       "      <th>RNA</th>\n",
       "      <td>#7D4195</td>\n",
       "    </tr>\n",
       "    <tr>\n",
       "      <th>ATAC</th>\n",
       "      <td>#EF7D1A</td>\n",
       "    </tr>\n",
       "  </tbody>\n",
       "</table>\n",
       "</div>"
      ],
      "text/plain": [
       "            Color\n",
       "Modality         \n",
       "mCH       #16499D\n",
       "mCG       #36AE37\n",
       "m3C       #E71F19\n",
       "RNA       #7D4195\n",
       "ATAC      #EF7D1A"
      ]
     },
     "execution_count": 10,
     "metadata": {},
     "output_type": "execute_result"
    }
   ],
   "source": [
    "modality = get_modality_palette()\n",
    "df = pd.DataFrame(list(modality.items()), columns=['Modality', 'Color']).set_index('Modality')\n",
    "df.to_csv(f'palette/Modality.csv')\n",
    "df.head()"
   ]
  },
  {
   "cell_type": "code",
   "execution_count": null,
   "id": "02cf68a5-83a1-40d4-90da-36339c6c83ee",
   "metadata": {},
   "outputs": [],
   "source": []
  },
  {
   "cell_type": "code",
   "execution_count": null,
   "id": "0c220aa2-f738-4312-82a0-643012131146",
   "metadata": {},
   "outputs": [],
   "source": []
  },
  {
   "cell_type": "code",
   "execution_count": null,
   "id": "6119a6be-6884-4366-b9d0-36289b05029b",
   "metadata": {},
   "outputs": [],
   "source": []
  },
  {
   "cell_type": "code",
   "execution_count": null,
   "id": "e696ecdb-3e6c-450d-96e9-8ad496bb9552",
   "metadata": {},
   "outputs": [],
   "source": []
  },
  {
   "cell_type": "code",
   "execution_count": null,
   "id": "7a228b5d-1831-4c31-988e-d9ea3b497574",
   "metadata": {},
   "outputs": [],
   "source": []
  },
  {
   "cell_type": "code",
   "execution_count": null,
   "id": "66c60404-307f-49f9-a8d9-f165d58c0e5a",
   "metadata": {},
   "outputs": [],
   "source": []
  },
  {
   "cell_type": "code",
   "execution_count": null,
   "id": "266cd7f4-7b48-4c58-a5fa-0db815d0dcb3",
   "metadata": {},
   "outputs": [],
   "source": []
  },
  {
   "cell_type": "code",
   "execution_count": null,
   "id": "0651998d-ce85-4c8d-8c49-27b01e6e06df",
   "metadata": {},
   "outputs": [],
   "source": []
  },
  {
   "cell_type": "code",
   "execution_count": null,
   "id": "5b9a93ae-fd84-4a55-bb19-2316ffacc8dd",
   "metadata": {},
   "outputs": [],
   "source": []
  },
  {
   "cell_type": "code",
   "execution_count": null,
   "id": "cd23676c-e180-4153-ba2b-f02e0d5643d4",
   "metadata": {},
   "outputs": [],
   "source": []
  },
  {
   "cell_type": "code",
   "execution_count": null,
   "id": "8961e5c6-936e-44e7-94b1-0eed893bf1a4",
   "metadata": {},
   "outputs": [],
   "source": []
  },
  {
   "cell_type": "code",
   "execution_count": null,
   "id": "737b6903-8208-4fa4-8826-e4e15136736c",
   "metadata": {},
   "outputs": [],
   "source": []
  },
  {
   "cell_type": "code",
   "execution_count": null,
   "id": "8dbe484c-6b2f-4765-af0c-782db015d1ba",
   "metadata": {},
   "outputs": [],
   "source": []
  },
  {
   "cell_type": "code",
   "execution_count": null,
   "id": "ee44e494-81ab-4d29-93ca-eef48232c081",
   "metadata": {},
   "outputs": [],
   "source": []
  }
 ],
 "metadata": {
  "kernelspec": {
   "display_name": "Python 3 (ipykernel)",
   "language": "python",
   "name": "python3"
  },
  "language_info": {
   "codemirror_mode": {
    "name": "ipython",
    "version": 3
   },
   "file_extension": ".py",
   "mimetype": "text/x-python",
   "name": "python",
   "nbconvert_exporter": "python",
   "pygments_lexer": "ipython3",
   "version": "3.7.12"
  }
 },
 "nbformat": 4,
 "nbformat_minor": 5
}
