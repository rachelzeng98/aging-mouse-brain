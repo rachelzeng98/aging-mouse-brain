{
 "cells": [
  {
   "cell_type": "code",
   "execution_count": 1,
   "id": "b63021cc-6d70-409a-8364-15f399af61f8",
   "metadata": {
    "execution": {
     "iopub.execute_input": "2024-02-15T23:45:09.723332Z",
     "iopub.status.busy": "2024-02-15T23:45:09.722920Z",
     "iopub.status.idle": "2024-02-15T23:45:10.208796Z",
     "shell.execute_reply": "2024-02-15T23:45:10.208101Z",
     "shell.execute_reply.started": "2024-02-15T23:45:09.723301Z"
    },
    "tags": []
   },
   "outputs": [],
   "source": [
    "import pandas as pd"
   ]
  },
  {
   "cell_type": "code",
   "execution_count": 2,
   "id": "60f8ad9e-5076-4b4c-a455-5197dbb1efc5",
   "metadata": {
    "execution": {
     "iopub.execute_input": "2023-11-29T05:52:22.956022Z",
     "iopub.status.busy": "2023-11-29T05:52:22.955670Z",
     "iopub.status.idle": "2023-11-29T05:52:24.825276Z",
     "shell.execute_reply": "2023-11-29T05:52:24.824720Z",
     "shell.execute_reply.started": "2023-11-29T05:52:22.955999Z"
    },
    "tags": []
   },
   "outputs": [
    {
     "name": "stderr",
     "output_type": "stream",
     "text": [
      "/home/qz/miniconda3/envs/allcools/lib/python3.7/site-packages/IPython/core/interactiveshell.py:3552: DtypeWarning: Columns (22) have mixed types.Specify dtype option on import or set low_memory=False.\n",
      "  exec(code_obj, self.user_global_ns, self.user_ns)\n"
     ]
    }
   ],
   "source": [
    "mc_meta = pd.read_csv('fixed_mc_meta.csv', index_col = 0)\n",
    "m3c_meta = pd.read_csv('fixed_m3c_meta.csv', index_col = 0)"
   ]
  },
  {
   "cell_type": "markdown",
   "id": "76f1290b-f654-4503-afd6-37ccac3d919c",
   "metadata": {
    "tags": []
   },
   "source": [
    "## fix by dissection region"
   ]
  },
  {
   "cell_type": "code",
   "execution_count": 3,
   "id": "095b004e-00cd-4f2d-92e4-8086144d2db3",
   "metadata": {
    "execution": {
     "iopub.execute_input": "2023-11-29T05:52:24.826497Z",
     "iopub.status.busy": "2023-11-29T05:52:24.826212Z",
     "iopub.status.idle": "2023-11-29T05:52:28.708019Z",
     "shell.execute_reply": "2023-11-29T05:52:28.707415Z",
     "shell.execute_reply.started": "2023-11-29T05:52:24.826475Z"
    }
   },
   "outputs": [],
   "source": [
    "atac_meta = pd.read_csv('fixed_atac_meta.csv', index_col = 0)\n",
    "multiome_meta = pd.read_csv('fixed_multiome_meta.csv', index_col = 0)"
   ]
  },
  {
   "cell_type": "code",
   "execution_count": 4,
   "id": "411a4847-49ea-4725-a646-e9b609ef95f0",
   "metadata": {
    "execution": {
     "iopub.execute_input": "2023-11-29T05:52:58.946172Z",
     "iopub.status.busy": "2023-11-29T05:52:58.945915Z",
     "iopub.status.idle": "2023-11-29T05:52:58.950579Z",
     "shell.execute_reply": "2023-11-29T05:52:58.950182Z",
     "shell.execute_reply.started": "2023-11-29T05:52:58.946144Z"
    },
    "tags": []
   },
   "outputs": [
    {
     "data": {
      "text/plain": [
       "((793432, 23), (340261, 23))"
      ]
     },
     "execution_count": 4,
     "metadata": {},
     "output_type": "execute_result"
    }
   ],
   "source": [
    "atac_meta.shape, multiome_meta.shape"
   ]
  },
  {
   "cell_type": "code",
   "execution_count": 3,
   "id": "37d2b0e2-8699-42c5-a0ae-6d4dd64eba22",
   "metadata": {
    "execution": {
     "iopub.execute_input": "2023-11-27T22:09:28.206468Z",
     "iopub.status.busy": "2023-11-27T22:09:28.206224Z",
     "iopub.status.idle": "2023-11-27T22:09:28.350474Z",
     "shell.execute_reply": "2023-11-27T22:09:28.350023Z",
     "shell.execute_reply.started": "2023-11-27T22:09:28.206448Z"
    },
    "tags": []
   },
   "outputs": [],
   "source": [
    "cemba_to_dissect_dict = mc_meta.set_index('CEMBARegion')['DissectionRegion'].to_dict()"
   ]
  },
  {
   "cell_type": "code",
   "execution_count": 4,
   "id": "57f4bf0f-fd8d-4f30-97ad-5dadd023a55b",
   "metadata": {
    "execution": {
     "iopub.execute_input": "2023-11-27T22:09:28.351361Z",
     "iopub.status.busy": "2023-11-27T22:09:28.351152Z",
     "iopub.status.idle": "2023-11-27T22:09:28.871810Z",
     "shell.execute_reply": "2023-11-27T22:09:28.871327Z",
     "shell.execute_reply.started": "2023-11-27T22:09:28.351342Z"
    },
    "tags": []
   },
   "outputs": [
    {
     "data": {
      "text/html": [
       "<div>\n",
       "<style scoped>\n",
       "    .dataframe tbody tr th:only-of-type {\n",
       "        vertical-align: middle;\n",
       "    }\n",
       "\n",
       "    .dataframe tbody tr th {\n",
       "        vertical-align: top;\n",
       "    }\n",
       "\n",
       "    .dataframe thead th {\n",
       "        text-align: right;\n",
       "    }\n",
       "</style>\n",
       "<table border=\"1\" class=\"dataframe\">\n",
       "  <thead>\n",
       "    <tr style=\"text-align: right;\">\n",
       "      <th></th>\n",
       "      <th>X</th>\n",
       "      <th>sample</th>\n",
       "      <th>doublet_probability</th>\n",
       "      <th>n_fragment</th>\n",
       "      <th>tsse</th>\n",
       "      <th>frac_dup</th>\n",
       "      <th>frac_mito</th>\n",
       "      <th>doublet_score</th>\n",
       "      <th>male_ct</th>\n",
       "      <th>batch</th>\n",
       "      <th>...</th>\n",
       "      <th>age</th>\n",
       "      <th>region</th>\n",
       "      <th>sample_name</th>\n",
       "      <th>replicate</th>\n",
       "      <th>Gender</th>\n",
       "      <th>Modality</th>\n",
       "      <th>Class</th>\n",
       "      <th>CellType</th>\n",
       "      <th>CEMBARegion</th>\n",
       "      <th>DissectionRegion</th>\n",
       "    </tr>\n",
       "    <tr>\n",
       "      <th>cell_id</th>\n",
       "      <th></th>\n",
       "      <th></th>\n",
       "      <th></th>\n",
       "      <th></th>\n",
       "      <th></th>\n",
       "      <th></th>\n",
       "      <th></th>\n",
       "      <th></th>\n",
       "      <th></th>\n",
       "      <th></th>\n",
       "      <th></th>\n",
       "      <th></th>\n",
       "      <th></th>\n",
       "      <th></th>\n",
       "      <th></th>\n",
       "      <th></th>\n",
       "      <th></th>\n",
       "      <th></th>\n",
       "      <th></th>\n",
       "      <th></th>\n",
       "      <th></th>\n",
       "    </tr>\n",
       "  </thead>\n",
       "  <tbody>\n",
       "    <tr>\n",
       "      <th>Male:18mo_3F-4E_2:AAACGCAAGCAAACCTAAGTGG</th>\n",
       "      <td>0</td>\n",
       "      <td>Male:18mo_3F-4E_2</td>\n",
       "      <td>0.053197</td>\n",
       "      <td>5919</td>\n",
       "      <td>18.929016</td>\n",
       "      <td>-0.006758</td>\n",
       "      <td>0.006713</td>\n",
       "      <td>0.022472</td>\n",
       "      <td>D12MSN</td>\n",
       "      <td>Male</td>\n",
       "      <td>...</td>\n",
       "      <td>18mo</td>\n",
       "      <td>NAC</td>\n",
       "      <td>18mo_3F-4E_2</td>\n",
       "      <td>2</td>\n",
       "      <td>Male</td>\n",
       "      <td>ATAC</td>\n",
       "      <td>Neu</td>\n",
       "      <td>AMYGAGL</td>\n",
       "      <td>3F+4E</td>\n",
       "      <td>ACB-1+ACB-2</td>\n",
       "    </tr>\n",
       "    <tr>\n",
       "      <th>Male:18mo_3F-4E_2:AAACGCAAGCAAAGGAACAGAC</th>\n",
       "      <td>1</td>\n",
       "      <td>Male:18mo_3F-4E_2</td>\n",
       "      <td>0.051238</td>\n",
       "      <td>6317</td>\n",
       "      <td>19.444444</td>\n",
       "      <td>-0.007124</td>\n",
       "      <td>0.007073</td>\n",
       "      <td>0.028000</td>\n",
       "      <td>STRPALGA</td>\n",
       "      <td>Male</td>\n",
       "      <td>...</td>\n",
       "      <td>18mo</td>\n",
       "      <td>NAC</td>\n",
       "      <td>18mo_3F-4E_2</td>\n",
       "      <td>2</td>\n",
       "      <td>Male</td>\n",
       "      <td>ATAC</td>\n",
       "      <td>Neu</td>\n",
       "      <td>D12MSN</td>\n",
       "      <td>3F+4E</td>\n",
       "      <td>ACB-1+ACB-2</td>\n",
       "    </tr>\n",
       "    <tr>\n",
       "      <th>Male:18mo_3F-4E_2:AAACGCAAGCAACCATGCATGA</th>\n",
       "      <td>2</td>\n",
       "      <td>Male:18mo_3F-4E_2</td>\n",
       "      <td>0.068167</td>\n",
       "      <td>1933</td>\n",
       "      <td>22.652757</td>\n",
       "      <td>0.000000</td>\n",
       "      <td>0.000000</td>\n",
       "      <td>0.001034</td>\n",
       "      <td>NaN</td>\n",
       "      <td>Male</td>\n",
       "      <td>...</td>\n",
       "      <td>18mo</td>\n",
       "      <td>NAC</td>\n",
       "      <td>18mo_3F-4E_2</td>\n",
       "      <td>2</td>\n",
       "      <td>Male</td>\n",
       "      <td>ATAC</td>\n",
       "      <td>NonN</td>\n",
       "      <td>OGC1</td>\n",
       "      <td>3F+4E</td>\n",
       "      <td>ACB-1+ACB-2</td>\n",
       "    </tr>\n",
       "    <tr>\n",
       "      <th>Male:18mo_3F-4E_2:AAACGCAAGCAACGAGCTGTGA</th>\n",
       "      <td>3</td>\n",
       "      <td>Male:18mo_3F-4E_2</td>\n",
       "      <td>0.063122</td>\n",
       "      <td>3824</td>\n",
       "      <td>31.256384</td>\n",
       "      <td>-0.002615</td>\n",
       "      <td>0.002608</td>\n",
       "      <td>0.006384</td>\n",
       "      <td>OPC</td>\n",
       "      <td>Male</td>\n",
       "      <td>...</td>\n",
       "      <td>18mo</td>\n",
       "      <td>NAC</td>\n",
       "      <td>18mo_3F-4E_2</td>\n",
       "      <td>2</td>\n",
       "      <td>Male</td>\n",
       "      <td>ATAC</td>\n",
       "      <td>NonN</td>\n",
       "      <td>IOL</td>\n",
       "      <td>3F+4E</td>\n",
       "      <td>ACB-1+ACB-2</td>\n",
       "    </tr>\n",
       "    <tr>\n",
       "      <th>Male:18mo_3F-4E_2:AAACGCAAGCAACTAACGTCGA</th>\n",
       "      <td>4</td>\n",
       "      <td>Male:18mo_3F-4E_2</td>\n",
       "      <td>0.067073</td>\n",
       "      <td>1892</td>\n",
       "      <td>25.513196</td>\n",
       "      <td>-0.003171</td>\n",
       "      <td>0.003161</td>\n",
       "      <td>0.002105</td>\n",
       "      <td>OGC2</td>\n",
       "      <td>Male</td>\n",
       "      <td>...</td>\n",
       "      <td>18mo</td>\n",
       "      <td>NAC</td>\n",
       "      <td>18mo_3F-4E_2</td>\n",
       "      <td>2</td>\n",
       "      <td>Male</td>\n",
       "      <td>ATAC</td>\n",
       "      <td>NonN</td>\n",
       "      <td>OGC1</td>\n",
       "      <td>3F+4E</td>\n",
       "      <td>ACB-1+ACB-2</td>\n",
       "    </tr>\n",
       "  </tbody>\n",
       "</table>\n",
       "<p>5 rows × 25 columns</p>\n",
       "</div>"
      ],
      "text/plain": [
       "                                          X             sample  \\\n",
       "cell_id                                                          \n",
       "Male:18mo_3F-4E_2:AAACGCAAGCAAACCTAAGTGG  0  Male:18mo_3F-4E_2   \n",
       "Male:18mo_3F-4E_2:AAACGCAAGCAAAGGAACAGAC  1  Male:18mo_3F-4E_2   \n",
       "Male:18mo_3F-4E_2:AAACGCAAGCAACCATGCATGA  2  Male:18mo_3F-4E_2   \n",
       "Male:18mo_3F-4E_2:AAACGCAAGCAACGAGCTGTGA  3  Male:18mo_3F-4E_2   \n",
       "Male:18mo_3F-4E_2:AAACGCAAGCAACTAACGTCGA  4  Male:18mo_3F-4E_2   \n",
       "\n",
       "                                          doublet_probability  n_fragment  \\\n",
       "cell_id                                                                     \n",
       "Male:18mo_3F-4E_2:AAACGCAAGCAAACCTAAGTGG             0.053197        5919   \n",
       "Male:18mo_3F-4E_2:AAACGCAAGCAAAGGAACAGAC             0.051238        6317   \n",
       "Male:18mo_3F-4E_2:AAACGCAAGCAACCATGCATGA             0.068167        1933   \n",
       "Male:18mo_3F-4E_2:AAACGCAAGCAACGAGCTGTGA             0.063122        3824   \n",
       "Male:18mo_3F-4E_2:AAACGCAAGCAACTAACGTCGA             0.067073        1892   \n",
       "\n",
       "                                               tsse  frac_dup  frac_mito  \\\n",
       "cell_id                                                                    \n",
       "Male:18mo_3F-4E_2:AAACGCAAGCAAACCTAAGTGG  18.929016 -0.006758   0.006713   \n",
       "Male:18mo_3F-4E_2:AAACGCAAGCAAAGGAACAGAC  19.444444 -0.007124   0.007073   \n",
       "Male:18mo_3F-4E_2:AAACGCAAGCAACCATGCATGA  22.652757  0.000000   0.000000   \n",
       "Male:18mo_3F-4E_2:AAACGCAAGCAACGAGCTGTGA  31.256384 -0.002615   0.002608   \n",
       "Male:18mo_3F-4E_2:AAACGCAAGCAACTAACGTCGA  25.513196 -0.003171   0.003161   \n",
       "\n",
       "                                          doublet_score   male_ct batch  ...  \\\n",
       "cell_id                                                                  ...   \n",
       "Male:18mo_3F-4E_2:AAACGCAAGCAAACCTAAGTGG       0.022472    D12MSN  Male  ...   \n",
       "Male:18mo_3F-4E_2:AAACGCAAGCAAAGGAACAGAC       0.028000  STRPALGA  Male  ...   \n",
       "Male:18mo_3F-4E_2:AAACGCAAGCAACCATGCATGA       0.001034       NaN  Male  ...   \n",
       "Male:18mo_3F-4E_2:AAACGCAAGCAACGAGCTGTGA       0.006384       OPC  Male  ...   \n",
       "Male:18mo_3F-4E_2:AAACGCAAGCAACTAACGTCGA       0.002105      OGC2  Male  ...   \n",
       "\n",
       "                                           age  region   sample_name  \\\n",
       "cell_id                                                                \n",
       "Male:18mo_3F-4E_2:AAACGCAAGCAAACCTAAGTGG  18mo     NAC  18mo_3F-4E_2   \n",
       "Male:18mo_3F-4E_2:AAACGCAAGCAAAGGAACAGAC  18mo     NAC  18mo_3F-4E_2   \n",
       "Male:18mo_3F-4E_2:AAACGCAAGCAACCATGCATGA  18mo     NAC  18mo_3F-4E_2   \n",
       "Male:18mo_3F-4E_2:AAACGCAAGCAACGAGCTGTGA  18mo     NAC  18mo_3F-4E_2   \n",
       "Male:18mo_3F-4E_2:AAACGCAAGCAACTAACGTCGA  18mo     NAC  18mo_3F-4E_2   \n",
       "\n",
       "                                          replicate  Gender Modality Class  \\\n",
       "cell_id                                                                      \n",
       "Male:18mo_3F-4E_2:AAACGCAAGCAAACCTAAGTGG          2    Male     ATAC   Neu   \n",
       "Male:18mo_3F-4E_2:AAACGCAAGCAAAGGAACAGAC          2    Male     ATAC   Neu   \n",
       "Male:18mo_3F-4E_2:AAACGCAAGCAACCATGCATGA          2    Male     ATAC  NonN   \n",
       "Male:18mo_3F-4E_2:AAACGCAAGCAACGAGCTGTGA          2    Male     ATAC  NonN   \n",
       "Male:18mo_3F-4E_2:AAACGCAAGCAACTAACGTCGA          2    Male     ATAC  NonN   \n",
       "\n",
       "                                         CellType  CEMBARegion  \\\n",
       "cell_id                                                          \n",
       "Male:18mo_3F-4E_2:AAACGCAAGCAAACCTAAGTGG  AMYGAGL        3F+4E   \n",
       "Male:18mo_3F-4E_2:AAACGCAAGCAAAGGAACAGAC   D12MSN        3F+4E   \n",
       "Male:18mo_3F-4E_2:AAACGCAAGCAACCATGCATGA     OGC1        3F+4E   \n",
       "Male:18mo_3F-4E_2:AAACGCAAGCAACGAGCTGTGA      IOL        3F+4E   \n",
       "Male:18mo_3F-4E_2:AAACGCAAGCAACTAACGTCGA     OGC1        3F+4E   \n",
       "\n",
       "                                         DissectionRegion  \n",
       "cell_id                                                    \n",
       "Male:18mo_3F-4E_2:AAACGCAAGCAAACCTAAGTGG      ACB-1+ACB-2  \n",
       "Male:18mo_3F-4E_2:AAACGCAAGCAAAGGAACAGAC      ACB-1+ACB-2  \n",
       "Male:18mo_3F-4E_2:AAACGCAAGCAACCATGCATGA      ACB-1+ACB-2  \n",
       "Male:18mo_3F-4E_2:AAACGCAAGCAACGAGCTGTGA      ACB-1+ACB-2  \n",
       "Male:18mo_3F-4E_2:AAACGCAAGCAACTAACGTCGA      ACB-1+ACB-2  \n",
       "\n",
       "[5 rows x 25 columns]"
      ]
     },
     "execution_count": 4,
     "metadata": {},
     "output_type": "execute_result"
    }
   ],
   "source": [
    "atac_meta['CEMBARegion'] = atac_meta['sample'].apply(lambda x: x.split('_')[1]) \n",
    "atac_meta['CEMBARegion'] = atac_meta['CEMBARegion'].apply(lambda x: x.replace('-', '+'))   \n",
    "\n",
    "atac_meta['DissectionRegion'] = atac_meta['CEMBARegion'].map(cemba_to_dissect_dict)\n",
    "atac_meta.head()"
   ]
  },
  {
   "cell_type": "code",
   "execution_count": 5,
   "id": "c95ff466-4606-401f-8705-5b001bf81d47",
   "metadata": {
    "execution": {
     "iopub.execute_input": "2023-11-27T22:09:28.872851Z",
     "iopub.status.busy": "2023-11-27T22:09:28.872542Z",
     "iopub.status.idle": "2023-11-27T22:09:28.953059Z",
     "shell.execute_reply": "2023-11-27T22:09:28.952246Z",
     "shell.execute_reply.started": "2023-11-27T22:09:28.872829Z"
    },
    "tags": []
   },
   "outputs": [
    {
     "data": {
      "text/html": [
       "<div>\n",
       "<style scoped>\n",
       "    .dataframe tbody tr th:only-of-type {\n",
       "        vertical-align: middle;\n",
       "    }\n",
       "\n",
       "    .dataframe tbody tr th {\n",
       "        vertical-align: top;\n",
       "    }\n",
       "\n",
       "    .dataframe thead th {\n",
       "        text-align: right;\n",
       "    }\n",
       "</style>\n",
       "<table border=\"1\" class=\"dataframe\">\n",
       "  <thead>\n",
       "    <tr style=\"text-align: right;\">\n",
       "      <th></th>\n",
       "      <th>X</th>\n",
       "      <th>sample</th>\n",
       "      <th>doublet_probability</th>\n",
       "      <th>n_fragment</th>\n",
       "      <th>tsse</th>\n",
       "      <th>frac_dup</th>\n",
       "      <th>frac_mito</th>\n",
       "      <th>doublet_score</th>\n",
       "      <th>male_ct</th>\n",
       "      <th>batch</th>\n",
       "      <th>...</th>\n",
       "      <th>age</th>\n",
       "      <th>region</th>\n",
       "      <th>sample_name</th>\n",
       "      <th>replicate</th>\n",
       "      <th>Gender</th>\n",
       "      <th>Modality</th>\n",
       "      <th>Class</th>\n",
       "      <th>CellType</th>\n",
       "      <th>CEMBARegion</th>\n",
       "      <th>DissectionRegion</th>\n",
       "    </tr>\n",
       "    <tr>\n",
       "      <th>cell_id</th>\n",
       "      <th></th>\n",
       "      <th></th>\n",
       "      <th></th>\n",
       "      <th></th>\n",
       "      <th></th>\n",
       "      <th></th>\n",
       "      <th></th>\n",
       "      <th></th>\n",
       "      <th></th>\n",
       "      <th></th>\n",
       "      <th></th>\n",
       "      <th></th>\n",
       "      <th></th>\n",
       "      <th></th>\n",
       "      <th></th>\n",
       "      <th></th>\n",
       "      <th></th>\n",
       "      <th></th>\n",
       "      <th></th>\n",
       "      <th></th>\n",
       "      <th></th>\n",
       "    </tr>\n",
       "  </thead>\n",
       "  <tbody>\n",
       "    <tr>\n",
       "      <th>Female:HCP_18mo_2:AAACAGCCACTGGCCA-1</th>\n",
       "      <td>22168</td>\n",
       "      <td>Female:HCP_18mo_2</td>\n",
       "      <td>0.076216</td>\n",
       "      <td>12504</td>\n",
       "      <td>7.792208</td>\n",
       "      <td>0.197947</td>\n",
       "      <td>0.0</td>\n",
       "      <td>0.019455</td>\n",
       "      <td>NaN</td>\n",
       "      <td>Female</td>\n",
       "      <td>...</td>\n",
       "      <td>18mo</td>\n",
       "      <td>HCP</td>\n",
       "      <td>HCP_18mo_2</td>\n",
       "      <td>2</td>\n",
       "      <td>Female</td>\n",
       "      <td>Multiome</td>\n",
       "      <td>NonN</td>\n",
       "      <td>MBGL</td>\n",
       "      <td>11E+11F+12E</td>\n",
       "      <td>CA-iv+DG-4+RHP-4</td>\n",
       "    </tr>\n",
       "    <tr>\n",
       "      <th>Female:HCP_18mo_2:AAACATGCACAAAGGT-1</th>\n",
       "      <td>22169</td>\n",
       "      <td>Female:HCP_18mo_2</td>\n",
       "      <td>0.063919</td>\n",
       "      <td>57698</td>\n",
       "      <td>6.072239</td>\n",
       "      <td>0.198639</td>\n",
       "      <td>0.0</td>\n",
       "      <td>0.038835</td>\n",
       "      <td>NaN</td>\n",
       "      <td>Female</td>\n",
       "      <td>...</td>\n",
       "      <td>18mo</td>\n",
       "      <td>HCP</td>\n",
       "      <td>HCP_18mo_2</td>\n",
       "      <td>2</td>\n",
       "      <td>Female</td>\n",
       "      <td>Multiome</td>\n",
       "      <td>Neu</td>\n",
       "      <td>DGNBL</td>\n",
       "      <td>11E+11F+12E</td>\n",
       "      <td>CA-iv+DG-4+RHP-4</td>\n",
       "    </tr>\n",
       "    <tr>\n",
       "      <th>Female:HCP_18mo_2:AAACATGCACCTAAGC-1</th>\n",
       "      <td>22170</td>\n",
       "      <td>Female:HCP_18mo_2</td>\n",
       "      <td>0.067698</td>\n",
       "      <td>61985</td>\n",
       "      <td>5.844156</td>\n",
       "      <td>0.192977</td>\n",
       "      <td>0.0</td>\n",
       "      <td>0.030035</td>\n",
       "      <td>NaN</td>\n",
       "      <td>Female</td>\n",
       "      <td>...</td>\n",
       "      <td>18mo</td>\n",
       "      <td>HCP</td>\n",
       "      <td>HCP_18mo_2</td>\n",
       "      <td>2</td>\n",
       "      <td>Female</td>\n",
       "      <td>Multiome</td>\n",
       "      <td>Neu</td>\n",
       "      <td>CA3GL</td>\n",
       "      <td>11E+11F+12E</td>\n",
       "      <td>CA-iv+DG-4+RHP-4</td>\n",
       "    </tr>\n",
       "    <tr>\n",
       "      <th>Female:HCP_18mo_2:AAACATGCAGCAAGTG-1</th>\n",
       "      <td>22171</td>\n",
       "      <td>Female:HCP_18mo_2</td>\n",
       "      <td>0.104214</td>\n",
       "      <td>5032</td>\n",
       "      <td>10.958904</td>\n",
       "      <td>0.191776</td>\n",
       "      <td>0.0</td>\n",
       "      <td>0.001808</td>\n",
       "      <td>NaN</td>\n",
       "      <td>Female</td>\n",
       "      <td>...</td>\n",
       "      <td>18mo</td>\n",
       "      <td>HCP</td>\n",
       "      <td>HCP_18mo_2</td>\n",
       "      <td>2</td>\n",
       "      <td>Female</td>\n",
       "      <td>Multiome</td>\n",
       "      <td>NonN</td>\n",
       "      <td>OGC1</td>\n",
       "      <td>11E+11F+12E</td>\n",
       "      <td>CA-iv+DG-4+RHP-4</td>\n",
       "    </tr>\n",
       "    <tr>\n",
       "      <th>Female:HCP_18mo_2:AAACCAACACAATGCC-1</th>\n",
       "      <td>22172</td>\n",
       "      <td>Female:HCP_18mo_2</td>\n",
       "      <td>0.101432</td>\n",
       "      <td>5110</td>\n",
       "      <td>14.393939</td>\n",
       "      <td>0.202061</td>\n",
       "      <td>0.0</td>\n",
       "      <td>0.003077</td>\n",
       "      <td>NaN</td>\n",
       "      <td>Female</td>\n",
       "      <td>...</td>\n",
       "      <td>18mo</td>\n",
       "      <td>HCP</td>\n",
       "      <td>HCP_18mo_2</td>\n",
       "      <td>2</td>\n",
       "      <td>Female</td>\n",
       "      <td>Multiome</td>\n",
       "      <td>Neu</td>\n",
       "      <td>CA3GL</td>\n",
       "      <td>11E+11F+12E</td>\n",
       "      <td>CA-iv+DG-4+RHP-4</td>\n",
       "    </tr>\n",
       "  </tbody>\n",
       "</table>\n",
       "<p>5 rows × 25 columns</p>\n",
       "</div>"
      ],
      "text/plain": [
       "                                          X             sample  \\\n",
       "cell_id                                                          \n",
       "Female:HCP_18mo_2:AAACAGCCACTGGCCA-1  22168  Female:HCP_18mo_2   \n",
       "Female:HCP_18mo_2:AAACATGCACAAAGGT-1  22169  Female:HCP_18mo_2   \n",
       "Female:HCP_18mo_2:AAACATGCACCTAAGC-1  22170  Female:HCP_18mo_2   \n",
       "Female:HCP_18mo_2:AAACATGCAGCAAGTG-1  22171  Female:HCP_18mo_2   \n",
       "Female:HCP_18mo_2:AAACCAACACAATGCC-1  22172  Female:HCP_18mo_2   \n",
       "\n",
       "                                      doublet_probability  n_fragment  \\\n",
       "cell_id                                                                 \n",
       "Female:HCP_18mo_2:AAACAGCCACTGGCCA-1             0.076216       12504   \n",
       "Female:HCP_18mo_2:AAACATGCACAAAGGT-1             0.063919       57698   \n",
       "Female:HCP_18mo_2:AAACATGCACCTAAGC-1             0.067698       61985   \n",
       "Female:HCP_18mo_2:AAACATGCAGCAAGTG-1             0.104214        5032   \n",
       "Female:HCP_18mo_2:AAACCAACACAATGCC-1             0.101432        5110   \n",
       "\n",
       "                                           tsse  frac_dup  frac_mito  \\\n",
       "cell_id                                                                \n",
       "Female:HCP_18mo_2:AAACAGCCACTGGCCA-1   7.792208  0.197947        0.0   \n",
       "Female:HCP_18mo_2:AAACATGCACAAAGGT-1   6.072239  0.198639        0.0   \n",
       "Female:HCP_18mo_2:AAACATGCACCTAAGC-1   5.844156  0.192977        0.0   \n",
       "Female:HCP_18mo_2:AAACATGCAGCAAGTG-1  10.958904  0.191776        0.0   \n",
       "Female:HCP_18mo_2:AAACCAACACAATGCC-1  14.393939  0.202061        0.0   \n",
       "\n",
       "                                      doublet_score  male_ct   batch  ...  \\\n",
       "cell_id                                                               ...   \n",
       "Female:HCP_18mo_2:AAACAGCCACTGGCCA-1       0.019455      NaN  Female  ...   \n",
       "Female:HCP_18mo_2:AAACATGCACAAAGGT-1       0.038835      NaN  Female  ...   \n",
       "Female:HCP_18mo_2:AAACATGCACCTAAGC-1       0.030035      NaN  Female  ...   \n",
       "Female:HCP_18mo_2:AAACATGCAGCAAGTG-1       0.001808      NaN  Female  ...   \n",
       "Female:HCP_18mo_2:AAACCAACACAATGCC-1       0.003077      NaN  Female  ...   \n",
       "\n",
       "                                       age  region  sample_name  replicate  \\\n",
       "cell_id                                                                      \n",
       "Female:HCP_18mo_2:AAACAGCCACTGGCCA-1  18mo     HCP   HCP_18mo_2          2   \n",
       "Female:HCP_18mo_2:AAACATGCACAAAGGT-1  18mo     HCP   HCP_18mo_2          2   \n",
       "Female:HCP_18mo_2:AAACATGCACCTAAGC-1  18mo     HCP   HCP_18mo_2          2   \n",
       "Female:HCP_18mo_2:AAACATGCAGCAAGTG-1  18mo     HCP   HCP_18mo_2          2   \n",
       "Female:HCP_18mo_2:AAACCAACACAATGCC-1  18mo     HCP   HCP_18mo_2          2   \n",
       "\n",
       "                                      Gender  Modality Class CellType  \\\n",
       "cell_id                                                                 \n",
       "Female:HCP_18mo_2:AAACAGCCACTGGCCA-1  Female  Multiome  NonN     MBGL   \n",
       "Female:HCP_18mo_2:AAACATGCACAAAGGT-1  Female  Multiome   Neu    DGNBL   \n",
       "Female:HCP_18mo_2:AAACATGCACCTAAGC-1  Female  Multiome   Neu    CA3GL   \n",
       "Female:HCP_18mo_2:AAACATGCAGCAAGTG-1  Female  Multiome  NonN     OGC1   \n",
       "Female:HCP_18mo_2:AAACCAACACAATGCC-1  Female  Multiome   Neu    CA3GL   \n",
       "\n",
       "                                      CEMBARegion  DissectionRegion  \n",
       "cell_id                                                              \n",
       "Female:HCP_18mo_2:AAACAGCCACTGGCCA-1  11E+11F+12E  CA-iv+DG-4+RHP-4  \n",
       "Female:HCP_18mo_2:AAACATGCACAAAGGT-1  11E+11F+12E  CA-iv+DG-4+RHP-4  \n",
       "Female:HCP_18mo_2:AAACATGCACCTAAGC-1  11E+11F+12E  CA-iv+DG-4+RHP-4  \n",
       "Female:HCP_18mo_2:AAACATGCAGCAAGTG-1  11E+11F+12E  CA-iv+DG-4+RHP-4  \n",
       "Female:HCP_18mo_2:AAACCAACACAATGCC-1  11E+11F+12E  CA-iv+DG-4+RHP-4  \n",
       "\n",
       "[5 rows x 25 columns]"
      ]
     },
     "execution_count": 5,
     "metadata": {},
     "output_type": "execute_result"
    }
   ],
   "source": [
    "atac_regiont_to_cemba_region = {\n",
    "'FC':'2A+3A',\n",
    "'HCA':'8E+9H+8J+9J',\n",
    "'HCP':'11E+11F+12E',\n",
    "'ENT':'12D+13B',\n",
    "'NAC':'3F+4E',\n",
    "'CP':'5E+6E',\n",
    "'AMY':'7H+8H+9G',\n",
    "'RLP':'13D+14C'\n",
    "}\n",
    "\n",
    "multiome_meta['CEMBARegion'] = multiome_meta['region'].map(atac_regiont_to_cemba_region)\n",
    "multiome_meta['DissectionRegion'] = multiome_meta['CEMBARegion'].map(cemba_to_dissect_dict)\n",
    "multiome_meta.head()"
   ]
  },
  {
   "cell_type": "code",
   "execution_count": 7,
   "id": "c26f9397-b8dd-49b5-8881-c0fa4287af52",
   "metadata": {
    "execution": {
     "iopub.execute_input": "2023-11-27T22:09:29.063057Z",
     "iopub.status.busy": "2023-11-27T22:09:29.062753Z",
     "iopub.status.idle": "2023-11-27T22:09:29.079786Z",
     "shell.execute_reply": "2023-11-27T22:09:29.079287Z",
     "shell.execute_reply.started": "2023-11-27T22:09:29.063035Z"
    },
    "tags": []
   },
   "outputs": [],
   "source": [
    "assert multiome_meta['DissectionRegion'].isna().sum() == 0"
   ]
  },
  {
   "cell_type": "code",
   "execution_count": 8,
   "id": "f62ca085-1124-44a7-859c-d10474aadb58",
   "metadata": {
    "execution": {
     "iopub.execute_input": "2023-11-27T22:09:29.080853Z",
     "iopub.status.busy": "2023-11-27T22:09:29.080646Z",
     "iopub.status.idle": "2023-11-27T22:09:29.112740Z",
     "shell.execute_reply": "2023-11-27T22:09:29.112266Z",
     "shell.execute_reply.started": "2023-11-27T22:09:29.080833Z"
    },
    "tags": []
   },
   "outputs": [],
   "source": [
    "assert atac_meta['DissectionRegion'].isna().sum() == 0"
   ]
  },
  {
   "cell_type": "code",
   "execution_count": null,
   "id": "4176c105-7174-4f66-affb-295a676f7ca6",
   "metadata": {},
   "outputs": [],
   "source": [
    "multiome_meta.to_csv('region_added.fixed_multiome_meta.csv')\n",
    "atac_meta.to_csv('region_added.fixed_atac_meta.csv')"
   ]
  },
  {
   "cell_type": "markdown",
   "id": "360a859f-e9a1-4d0b-8a85-d6f9803f85b9",
   "metadata": {
    "execution": {
     "iopub.execute_input": "2023-11-27T22:10:01.645321Z",
     "iopub.status.busy": "2023-11-27T22:10:01.645069Z",
     "iopub.status.idle": "2023-11-27T22:10:12.799876Z",
     "shell.execute_reply": "2023-11-27T22:10:12.799310Z",
     "shell.execute_reply.started": "2023-11-27T22:10:01.645301Z"
    },
    "tags": []
   },
   "source": [
    "## fix majorregion"
   ]
  },
  {
   "cell_type": "code",
   "execution_count": 3,
   "id": "4eb4f05a-0ce1-4f78-9c17-4a21fee1a74f",
   "metadata": {
    "execution": {
     "iopub.execute_input": "2023-11-27T22:19:33.499689Z",
     "iopub.status.busy": "2023-11-27T22:19:33.499363Z",
     "iopub.status.idle": "2023-11-27T22:19:37.685411Z",
     "shell.execute_reply": "2023-11-27T22:19:37.683545Z",
     "shell.execute_reply.started": "2023-11-27T22:19:33.499669Z"
    },
    "tags": []
   },
   "outputs": [],
   "source": [
    "atac_meta = pd.read_csv('region_added.fixed_atac_meta.csv', index_col = 0)\n",
    "multiome_meta = pd.read_csv('region_added.fixed_multiome_meta.csv', index_col = 0)"
   ]
  },
  {
   "cell_type": "code",
   "execution_count": 4,
   "id": "2592ea0a-f6b2-4bfb-95de-d59f23ac31c4",
   "metadata": {
    "execution": {
     "iopub.execute_input": "2023-11-27T22:19:37.696580Z",
     "iopub.status.busy": "2023-11-27T22:19:37.696346Z",
     "iopub.status.idle": "2023-11-27T22:19:37.752564Z",
     "shell.execute_reply": "2023-11-27T22:19:37.751720Z",
     "shell.execute_reply.started": "2023-11-27T22:19:37.696545Z"
    }
   },
   "outputs": [
    {
     "data": {
      "text/plain": [
       "array(['NAC', 'AMY', 'HCP', 'CP', 'HCA', 'FC', 'ENT', 'RLP'], dtype=object)"
      ]
     },
     "execution_count": 4,
     "metadata": {},
     "output_type": "execute_result"
    }
   ],
   "source": [
    "atac_meta['region'].unique()"
   ]
  },
  {
   "cell_type": "code",
   "execution_count": 6,
   "id": "99d9be40-dfbd-4f86-80cc-7c9c06869eb2",
   "metadata": {
    "execution": {
     "iopub.execute_input": "2023-11-27T22:19:43.376217Z",
     "iopub.status.busy": "2023-11-27T22:19:43.375851Z",
     "iopub.status.idle": "2023-11-27T22:19:43.387693Z",
     "shell.execute_reply": "2023-11-27T22:19:43.387177Z",
     "shell.execute_reply.started": "2023-11-27T22:19:43.376193Z"
    }
   },
   "outputs": [
    {
     "data": {
      "text/plain": [
       "array(['Frontal_Cortex', 'Anterior_Hippocampus', 'Posterior_Hippocampus',\n",
       "       'Nucleus_accumbens', 'Caudate_Putamen', 'Amygdala', 'PAG-PCG',\n",
       "       'Entorhinal_Cortex'], dtype=object)"
      ]
     },
     "execution_count": 6,
     "metadata": {},
     "output_type": "execute_result"
    }
   ],
   "source": [
    "mc_meta['Region'].unique()"
   ]
  },
  {
   "cell_type": "code",
   "execution_count": 8,
   "id": "09d3f8f2-6aac-42ed-a11d-dd49ba608e09",
   "metadata": {
    "execution": {
     "iopub.execute_input": "2023-11-27T22:21:10.620177Z",
     "iopub.status.busy": "2023-11-27T22:21:10.619807Z",
     "iopub.status.idle": "2023-11-27T22:21:10.623552Z",
     "shell.execute_reply": "2023-11-27T22:21:10.623024Z",
     "shell.execute_reply.started": "2023-11-27T22:21:10.620146Z"
    },
    "tags": []
   },
   "outputs": [],
   "source": [
    "atac_region_to_mc = {'NAC':'Nucleus_accumbens', \n",
    "                     'AMY':'Amygdala', \n",
    "                     'HCP':'Posterior_Hippocampus', \n",
    "                     'CP':'Caudate_Putamen', \n",
    "                     'HCA':'Anterior_Hippocampus', \n",
    "                     'FC':'Frontal_Cortex', \n",
    "                     'ENT':'Entorhinal_Cortex', \n",
    "                     'RLP':'PAG-PCG'}"
   ]
  },
  {
   "cell_type": "code",
   "execution_count": 9,
   "id": "657785a1-826b-4399-b816-76c3f3241729",
   "metadata": {
    "execution": {
     "iopub.execute_input": "2023-11-27T22:21:50.366799Z",
     "iopub.status.busy": "2023-11-27T22:21:50.366553Z",
     "iopub.status.idle": "2023-11-27T22:21:50.444457Z",
     "shell.execute_reply": "2023-11-27T22:21:50.443930Z",
     "shell.execute_reply.started": "2023-11-27T22:21:50.366779Z"
    }
   },
   "outputs": [],
   "source": [
    "atac_meta['Region'] = atac_meta['region'].map(atac_region_to_mc)\n",
    "multiome_meta['Region'] = multiome_meta['region'].map(atac_region_to_mc)"
   ]
  },
  {
   "cell_type": "code",
   "execution_count": 10,
   "id": "f1a059e3-eba4-4091-9e65-29a4e0ed2ba7",
   "metadata": {
    "execution": {
     "iopub.execute_input": "2023-11-27T22:21:50.461944Z",
     "iopub.status.busy": "2023-11-27T22:21:50.461633Z",
     "iopub.status.idle": "2023-11-27T22:22:02.092042Z",
     "shell.execute_reply": "2023-11-27T22:22:02.090445Z",
     "shell.execute_reply.started": "2023-11-27T22:21:50.461923Z"
    }
   },
   "outputs": [],
   "source": [
    "multiome_meta.to_csv('region_added.fixed_multiome_meta.csv')\n",
    "atac_meta.to_csv('region_added.fixed_atac_meta.csv')"
   ]
  },
  {
   "cell_type": "code",
   "execution_count": 2,
   "id": "0b98a117-1481-4517-861e-a339febd8541",
   "metadata": {
    "execution": {
     "iopub.execute_input": "2024-02-15T23:45:23.268580Z",
     "iopub.status.busy": "2024-02-15T23:45:23.267943Z",
     "iopub.status.idle": "2024-02-15T23:45:28.421805Z",
     "shell.execute_reply": "2024-02-15T23:45:28.420768Z",
     "shell.execute_reply.started": "2024-02-15T23:45:23.268546Z"
    }
   },
   "outputs": [],
   "source": [
    "atac_meta = pd.read_csv('region_added.fixed_atac_meta.csv', index_col = 0)"
   ]
  },
  {
   "cell_type": "code",
   "execution_count": null,
   "id": "77602c15-9426-435e-bffb-c9d13e85ebc0",
   "metadata": {},
   "outputs": [],
   "source": []
  }
 ],
 "metadata": {
  "kernelspec": {
   "display_name": "Python 3 (ipykernel)",
   "language": "python",
   "name": "python3"
  },
  "language_info": {
   "codemirror_mode": {
    "name": "ipython",
    "version": 3
   },
   "file_extension": ".py",
   "mimetype": "text/x-python",
   "name": "python",
   "nbconvert_exporter": "python",
   "pygments_lexer": "ipython3",
   "version": "3.7.12"
  }
 },
 "nbformat": 4,
 "nbformat_minor": 5
}
