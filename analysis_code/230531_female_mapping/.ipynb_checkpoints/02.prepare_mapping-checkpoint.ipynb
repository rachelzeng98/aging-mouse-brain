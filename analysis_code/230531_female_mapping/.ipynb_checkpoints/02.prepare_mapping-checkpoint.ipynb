{
 "cells": [
  {
   "cell_type": "code",
   "execution_count": 1,
   "id": "52dab709-120f-40df-96be-d4b54f7e608a",
   "metadata": {
    "execution": {
     "iopub.execute_input": "2023-08-09T17:13:26.619266Z",
     "iopub.status.busy": "2023-08-09T17:13:26.618772Z",
     "iopub.status.idle": "2023-08-09T17:13:30.483404Z",
     "shell.execute_reply": "2023-08-09T17:13:30.482480Z",
     "shell.execute_reply.started": "2023-08-09T17:13:26.619234Z"
    },
    "tags": []
   },
   "outputs": [],
   "source": [
    "from gliderport.preset.mapping import prepare_mapping"
   ]
  },
  {
   "cell_type": "code",
   "execution_count": 2,
   "id": "dae5a61e-c03d-4c29-b43e-c151cecbf572",
   "metadata": {
    "execution": {
     "iopub.execute_input": "2023-08-09T17:13:30.485384Z",
     "iopub.status.busy": "2023-08-09T17:13:30.484849Z",
     "iopub.status.idle": "2023-08-09T17:13:30.489561Z",
     "shell.execute_reply": "2023-08-09T17:13:30.488766Z",
     "shell.execute_reply.started": "2023-08-09T17:13:30.485357Z"
    },
    "tags": []
   },
   "outputs": [],
   "source": [
    "#snakemake_path = 'gs://ecker-rachel-analysis/hisat3n/m3c.smk'\n",
    "snakemake_path = 'gs://ecker-rachel-analysis/mapping/mm10-m3C/m3c-multi.smk'\n",
    "\n",
    "job_dir = 'pool_amb40'\n",
    "_dir = '/ceph/gale-1/qzeng'\n",
    "#library_dir = f'{_dir}/Pool_AMB61'"
   ]
  },
  {
   "cell_type": "code",
   "execution_count": 3,
   "id": "de336592-e19c-4797-b4cf-b5ce8b8c1732",
   "metadata": {
    "execution": {
     "iopub.execute_input": "2023-08-09T17:13:30.490798Z",
     "iopub.status.busy": "2023-08-09T17:13:30.490562Z",
     "iopub.status.idle": "2023-08-09T17:13:30.652728Z",
     "shell.execute_reply": "2023-08-09T17:13:30.651666Z",
     "shell.execute_reply.started": "2023-08-09T17:13:30.490776Z"
    },
    "tags": []
   },
   "outputs": [],
   "source": [
    "prepare_mapping(\n",
    "    snakefile_cloud_path=snakemake_path,\n",
    "    job_dir=job_dir,\n",
    "    output_bucket='ecker-rachel-analysis',\n",
    "    output_prefix=f'AMB-F-mapping/{job_dir}',\n",
    "    image_id='projects/prod-635e/global/images/mapping-mm10-hisat-3n-dna-sort-repeat-030723',\n",
    "    disk_size=384,\n",
    "    fastq_dirs=None,\n",
    "    fastq_table=f'{job_dir}_fastq_table.csv',\n",
    "    auto_group_size=48, \n",
    "    instance=\"n2d-standard-96\", # \n",
    "    region='us-west1',\n",
    "    mapping_yaml_path='../mapping.yaml')"
   ]
  },
  {
   "cell_type": "code",
   "execution_count": null,
   "id": "0413f32a-cbb4-4925-9103-ec025601932f",
   "metadata": {},
   "outputs": [],
   "source": [
    "glider port --local_job_dir ./pool_amb40 --use_hash 230809-amb40 --n_worker 32"
   ]
  },
  {
   "cell_type": "code",
   "execution_count": 5,
   "id": "56ec0fc7-03ea-4608-bbad-6f607c189b84",
   "metadata": {
    "execution": {
     "iopub.execute_input": "2023-07-10T23:38:11.423491Z",
     "iopub.status.busy": "2023-07-10T23:38:11.423101Z",
     "iopub.status.idle": "2023-07-10T23:38:11.560496Z",
     "shell.execute_reply": "2023-07-10T23:38:11.559825Z",
     "shell.execute_reply.started": "2023-07-10T23:38:11.423466Z"
    }
   },
   "outputs": [
    {
     "name": "stdout",
     "output_type": "stream",
     "text": [
      "/home/qzeng/project/aging/230531_female_mapping\n"
     ]
    }
   ],
   "source": [
    "! pwd"
   ]
  },
  {
   "cell_type": "code",
   "execution_count": null,
   "id": "12e33bfe-9296-43df-93d8-fe0cb545458a",
   "metadata": {},
   "outputs": [],
   "source": []
  },
  {
   "cell_type": "code",
   "execution_count": null,
   "id": "787b9bea-d4f0-4a9c-a509-d0c0355050c9",
   "metadata": {},
   "outputs": [],
   "source": []
  },
  {
   "cell_type": "code",
   "execution_count": null,
   "id": "a99caf0d-5b21-4aeb-9a3c-6d732687fbd6",
   "metadata": {},
   "outputs": [],
   "source": []
  }
 ],
 "metadata": {
  "kernelspec": {
   "display_name": "Python 3 (ipykernel)",
   "language": "python",
   "name": "python3"
  },
  "language_info": {
   "codemirror_mode": {
    "name": "ipython",
    "version": 3
   },
   "file_extension": ".py",
   "mimetype": "text/x-python",
   "name": "python",
   "nbconvert_exporter": "python",
   "pygments_lexer": "ipython3",
   "version": "3.7.12"
  }
 },
 "nbformat": 4,
 "nbformat_minor": 5
}
