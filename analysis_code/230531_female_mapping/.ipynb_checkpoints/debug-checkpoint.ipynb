{
 "cells": [
  {
   "cell_type": "code",
   "execution_count": 1,
   "id": "5d8f83d6-0f55-463b-a5fa-6de8a4337202",
   "metadata": {
    "execution": {
     "iopub.execute_input": "2023-06-27T00:14:48.024463Z",
     "iopub.status.busy": "2023-06-27T00:14:48.024244Z",
     "iopub.status.idle": "2023-06-27T00:14:49.345616Z",
     "shell.execute_reply": "2023-06-27T00:14:49.345069Z",
     "shell.execute_reply.started": "2023-06-27T00:14:48.024442Z"
    },
    "tags": []
   },
   "outputs": [],
   "source": [
    "import pandas as pd\n",
    "import pathlib\n",
    "from cemba_data.demultiplex.fastq_dataframe import make_fastq_dataframe, _parse_v2_fastq_path\n",
    "import glob\n",
    "import logging"
   ]
  },
  {
   "cell_type": "code",
   "execution_count": 9,
   "id": "e9a2278d-80d9-4f98-bc4b-b6b0fcbac002",
   "metadata": {
    "execution": {
     "iopub.execute_input": "2023-06-27T00:15:30.879210Z",
     "iopub.status.busy": "2023-06-27T00:15:30.878937Z",
     "iopub.status.idle": "2023-06-27T00:15:30.882953Z",
     "shell.execute_reply": "2023-06-27T00:15:30.882423Z",
     "shell.execute_reply.started": "2023-06-27T00:15:30.879187Z"
    },
    "tags": []
   },
   "outputs": [],
   "source": [
    "fastq_dir = '/gale/netapp/seq2/illumina_runs/retr/220801_A00280_0573_BH2GMHDSX5_220805161810924158809/Pool_AMB58'\n",
    "#fastq_dir = '/gale/raidix/rdx-3/illumina_runs/220914_A00280_0595_BHF2GFDSX5_220916161955690566631/Pool_AMB56_mm'\n",
    "output_dir = '/home/qzeng/project/aging/230531_female_mapping/test'\n",
    "\n",
    "fastq_pattern=f'{fastq_dir}/*.gz'\n",
    "output_dir= f'{output_dir}/{pathlib.Path(fastq_dir).name}' \n",
    "config_path='mm10.hisat-3n.mapping_config.ini' \n",
    "cpu=15 \n",
    "aligner='hisat-3n'\n",
    "barcode_version = 'V2'\n",
    "log = logging.getLogger()"
   ]
  },
  {
   "cell_type": "code",
   "execution_count": 3,
   "id": "b6d09108-1916-4816-9e1b-2fee4bcf100a",
   "metadata": {
    "execution": {
     "iopub.execute_input": "2023-06-27T00:14:49.351861Z",
     "iopub.status.busy": "2023-06-27T00:14:49.351604Z",
     "iopub.status.idle": "2023-06-27T00:14:49.356193Z",
     "shell.execute_reply": "2023-06-27T00:14:49.355771Z",
     "shell.execute_reply.started": "2023-06-27T00:14:49.351838Z"
    },
    "tags": []
   },
   "outputs": [
    {
     "data": {
      "text/plain": [
       "PosixPath('/home/qzeng/project/aging/230531_female_mapping/test/Pool_AMB56_mm')"
      ]
     },
     "execution_count": 3,
     "metadata": {},
     "output_type": "execute_result"
    }
   ],
   "source": [
    "output_dir = pathlib.Path(output_dir).absolute()\n",
    "output_dir"
   ]
  },
  {
   "cell_type": "code",
   "execution_count": 4,
   "id": "1af7a8bc-dd82-4ab5-af50-2d5d436444b2",
   "metadata": {
    "execution": {
     "iopub.execute_input": "2023-06-27T00:14:49.357093Z",
     "iopub.status.busy": "2023-06-27T00:14:49.356826Z",
     "iopub.status.idle": "2023-06-27T00:14:49.359379Z",
     "shell.execute_reply": "2023-06-27T00:14:49.358881Z",
     "shell.execute_reply.started": "2023-06-27T00:14:49.357072Z"
    },
    "tags": []
   },
   "outputs": [],
   "source": [
    "# fastq_df = make_fastq_dataframe(fastq_pattern,\n",
    "#                                 barcode_version=barcode_version,\n",
    "#                                 output_path=f'{output_dir}/stats/fastq_dataframe.csv')"
   ]
  },
  {
   "cell_type": "code",
   "execution_count": 5,
   "id": "ecd33ec0-e46c-49bc-a6e0-aabf829d32b6",
   "metadata": {
    "execution": {
     "iopub.execute_input": "2023-06-27T00:14:49.360354Z",
     "iopub.status.busy": "2023-06-27T00:14:49.360019Z",
     "iopub.status.idle": "2023-06-27T00:14:49.363430Z",
     "shell.execute_reply": "2023-06-27T00:14:49.363018Z",
     "shell.execute_reply.started": "2023-06-27T00:14:49.360333Z"
    },
    "tags": []
   },
   "outputs": [
    {
     "data": {
      "text/plain": [
       "'/gale/raidix/rdx-3/illumina_runs/220914_A00280_0595_BHF2GFDSX5_220916161955690566631/Pool_AMB56_mm/*.gz'"
      ]
     },
     "execution_count": 5,
     "metadata": {},
     "output_type": "execute_result"
    }
   ],
   "source": [
    "file_path = fastq_pattern\n",
    "file_path"
   ]
  },
  {
   "cell_type": "code",
   "execution_count": 6,
   "id": "800caf52-3e11-437b-9d45-b64bb1afa516",
   "metadata": {
    "execution": {
     "iopub.execute_input": "2023-06-27T00:14:49.366349Z",
     "iopub.status.busy": "2023-06-27T00:14:49.365973Z",
     "iopub.status.idle": "2023-06-27T00:14:49.369235Z",
     "shell.execute_reply": "2023-06-27T00:14:49.368734Z",
     "shell.execute_reply.started": "2023-06-27T00:14:49.366327Z"
    },
    "tags": []
   },
   "outputs": [],
   "source": [
    "barcode_version = barcode_version.upper()\n",
    "if barcode_version == 'V1':\n",
    "        parser = _parse_v1_fastq_path\n",
    "elif barcode_version == 'V2':\n",
    "    parser = _parse_v2_fastq_path\n",
    "else:\n",
    "    raise ValueError(f'Primer Version can only be V1 or V2, got {barcode_version}.')"
   ]
  },
  {
   "cell_type": "code",
   "execution_count": 7,
   "id": "f5794df8-4ba8-44c2-8856-8fda57dac61d",
   "metadata": {
    "execution": {
     "iopub.execute_input": "2023-06-27T00:14:49.370117Z",
     "iopub.status.busy": "2023-06-27T00:14:49.369856Z",
     "iopub.status.idle": "2023-06-27T00:14:49.372527Z",
     "shell.execute_reply": "2023-06-27T00:14:49.372047Z",
     "shell.execute_reply.started": "2023-06-27T00:14:49.370096Z"
    },
    "tags": []
   },
   "outputs": [],
   "source": [
    "# if isinstance(file_path, str) and ('*' in file_path):\n",
    "#     print(1)\n",
    "#     file_path = [str(pathlib.Path(p).absolute()) for p in glob.glob(file_path)]\n",
    "# elif isinstance(file_path, list):\n",
    "#     print(2)\n",
    "#     pass\n",
    "# else:\n",
    "#     with open(file_path) as f:\n",
    "#         print(3)\n",
    "#         file_path = [line.strip() for line in f]\n",
    "# log.info(f'{len(file_path)} FASTQ file paths in input')"
   ]
  },
  {
   "cell_type": "code",
   "execution_count": 8,
   "id": "bc04db8e-221a-415d-890a-bfd07c2c1e08",
   "metadata": {
    "execution": {
     "iopub.execute_input": "2023-06-27T00:14:49.535788Z",
     "iopub.status.busy": "2023-06-27T00:14:49.535500Z",
     "iopub.status.idle": "2023-06-27T00:14:49.544457Z",
     "shell.execute_reply": "2023-06-27T00:14:49.544009Z",
     "shell.execute_reply.started": "2023-06-27T00:14:49.535769Z"
    },
    "tags": []
   },
   "outputs": [
    {
     "name": "stdout",
     "output_type": "stream",
     "text": [
      "/gale/raidix/rdx-3/illumina_runs/220914_A00280_0595_BHF2GFDSX5_220916161955690566631/Pool_AMB56_mm/220613-AMB-mm-na-snm3C_seq-NovaSeq-pe-150-WT-AMB_220602_9mo_3F_4E_2_P1-1-B11_S9_L001_R1_001.fastq.gz\n"
     ]
    }
   ],
   "source": [
    "for p in glob.glob(file_path):\n",
    "    print(p)\n",
    "    break"
   ]
  },
  {
   "cell_type": "code",
   "execution_count": 21,
   "id": "f5b22038-0b41-4513-86e9-3ea2fe9d140a",
   "metadata": {
    "execution": {
     "iopub.execute_input": "2023-06-27T00:13:11.253280Z",
     "iopub.status.busy": "2023-06-27T00:13:11.253008Z",
     "iopub.status.idle": "2023-06-27T00:13:11.261760Z",
     "shell.execute_reply": "2023-06-27T00:13:11.261242Z",
     "shell.execute_reply.started": "2023-06-27T00:13:11.253260Z"
    },
    "tags": []
   },
   "outputs": [
    {
     "ename": "NameError",
     "evalue": "name 'p' is not defined",
     "output_type": "error",
     "traceback": [
      "\u001b[0;31m---------------------------------------------------------------------------\u001b[0m",
      "\u001b[0;31mNameError\u001b[0m                                 Traceback (most recent call last)",
      "\u001b[0;32m/tmp/ipykernel_323317/626125819.py\u001b[0m in \u001b[0;36m<module>\u001b[0;34m\u001b[0m\n\u001b[0;32m----> 1\u001b[0;31m \u001b[0mp\u001b[0m\u001b[0;34m\u001b[0m\u001b[0;34m\u001b[0m\u001b[0m\n\u001b[0m",
      "\u001b[0;31mNameError\u001b[0m: name 'p' is not defined"
     ]
    }
   ],
   "source": [
    "p"
   ]
  },
  {
   "cell_type": "code",
   "execution_count": null,
   "id": "f23c9f7d-1165-4884-b034-486fa675ffab",
   "metadata": {},
   "outputs": [],
   "source": []
  },
  {
   "cell_type": "code",
   "execution_count": 17,
   "id": "fdf338ed-09a8-4cc3-b943-672680cadcd5",
   "metadata": {
    "execution": {
     "iopub.execute_input": "2023-06-27T00:12:36.366879Z",
     "iopub.status.busy": "2023-06-27T00:12:36.366528Z",
     "iopub.status.idle": "2023-06-27T00:12:36.370675Z",
     "shell.execute_reply": "2023-06-27T00:12:36.370247Z",
     "shell.execute_reply.started": "2023-06-27T00:12:36.366857Z"
    },
    "tags": []
   },
   "outputs": [
    {
     "data": {
      "text/plain": [
       "[]"
      ]
     },
     "execution_count": 17,
     "metadata": {},
     "output_type": "execute_result"
    }
   ],
   "source": [
    "file_path[:5]"
   ]
  },
  {
   "cell_type": "code",
   "execution_count": 10,
   "id": "116314f6-5f2f-44d4-ab93-d682ef78c3c7",
   "metadata": {
    "execution": {
     "iopub.execute_input": "2023-06-27T00:12:16.037211Z",
     "iopub.status.busy": "2023-06-27T00:12:16.036914Z",
     "iopub.status.idle": "2023-06-27T00:12:16.040895Z",
     "shell.execute_reply": "2023-06-27T00:12:16.040482Z",
     "shell.execute_reply.started": "2023-06-27T00:12:16.037189Z"
    },
    "tags": []
   },
   "outputs": [
    {
     "data": {
      "text/plain": [
       "['/gale/raidix/rdx-3/illumina_runs/220914_A00280_0595_BHF2GFDSX5_220916161955690566631/Pool_AMB56_mm/220613-AMB-mm-na-snm3C_seq-NovaSeq-pe-150-WT-AMB_220602_9mo_3F_4E_2_P1-1-B11_S9_L001_R1_001.fastq.gz',\n",
       " '/gale/raidix/rdx-3/illumina_runs/220914_A00280_0595_BHF2GFDSX5_220916161955690566631/Pool_AMB56_mm/220613-AMB-mm-na-snm3C_seq-NovaSeq-pe-150-WT-AMB_220602_9mo_3F_4E_2_P1-1-B11_S9_L001_R2_001.fastq.gz',\n",
       " '/gale/raidix/rdx-3/illumina_runs/220914_A00280_0595_BHF2GFDSX5_220916161955690566631/Pool_AMB56_mm/220613-AMB-mm-na-snm3C_seq-NovaSeq-pe-150-WT-AMB_220602_9mo_3F_4E_2_P2-1-J11_S10_L001_R1_001.fastq.gz',\n",
       " '/gale/raidix/rdx-3/illumina_runs/220914_A00280_0595_BHF2GFDSX5_220916161955690566631/Pool_AMB56_mm/220613-AMB-mm-na-snm3C_seq-NovaSeq-pe-150-WT-AMB_220602_9mo_3F_4E_2_P2-1-J11_S10_L001_R2_001.fastq.gz',\n",
       " '/gale/raidix/rdx-3/illumina_runs/220914_A00280_0595_BHF2GFDSX5_220916161955690566631/Pool_AMB56_mm/220613-AMB-mm-na-snm3C_seq-NovaSeq-pe-150-WT-AMB_220602_9mo_3F_4E_2_P3-1-J2_S11_L001_R1_001.fastq.gz']"
      ]
     },
     "execution_count": 10,
     "metadata": {},
     "output_type": "execute_result"
    }
   ],
   "source": [
    "file_path[:5]"
   ]
  },
  {
   "cell_type": "code",
   "execution_count": 26,
   "id": "fcc232a0-170d-4e83-9fdf-10c203727885",
   "metadata": {
    "execution": {
     "iopub.execute_input": "2023-06-27T00:01:18.008124Z",
     "iopub.status.busy": "2023-06-27T00:01:18.007832Z",
     "iopub.status.idle": "2023-06-27T00:01:18.028765Z",
     "shell.execute_reply": "2023-06-27T00:01:18.028178Z",
     "shell.execute_reply.started": "2023-06-27T00:01:18.008103Z"
    },
    "tags": []
   },
   "outputs": [],
   "source": [
    "fastq_data = []\n",
    "for path in file_path:\n",
    "    name_series = parser(path)\n",
    "    fastq_data.append(name_series)\n",
    "\n",
    "fastq_df = pd.DataFrame(fastq_data)\n",
    "log.info(f'{fastq_df.shape[0]} valid fastq names.')\n",
    "\n",
    "# if fastq_df.shape[0] == 0:\n",
    "#     log.info('No fastq name remained, check if the name pattern is correct.')\n",
    "#     return None"
   ]
  },
  {
   "cell_type": "code",
   "execution_count": 27,
   "id": "6a78eeb7-ff63-4d85-a939-5d615e36eae9",
   "metadata": {
    "execution": {
     "iopub.execute_input": "2023-06-27T00:01:22.431195Z",
     "iopub.status.busy": "2023-06-27T00:01:22.430912Z",
     "iopub.status.idle": "2023-06-27T00:01:22.434839Z",
     "shell.execute_reply": "2023-06-27T00:01:22.434373Z",
     "shell.execute_reply.started": "2023-06-27T00:01:22.431174Z"
    },
    "tags": []
   },
   "outputs": [
    {
     "data": {
      "text/plain": [
       "'/gale/raidix/rdx-3/illumina_runs/220914_A00280_0595_BHF2GFDSX5_220916161955690566631/Pool_AMB56_mm/*.gz'"
      ]
     },
     "execution_count": 27,
     "metadata": {},
     "output_type": "execute_result"
    }
   ],
   "source": [
    "fastq_pattern"
   ]
  },
  {
   "cell_type": "code",
   "execution_count": 30,
   "id": "8a86c467-8d8c-48fd-ae43-2750d755be7b",
   "metadata": {
    "execution": {
     "iopub.execute_input": "2023-06-27T00:01:57.012325Z",
     "iopub.status.busy": "2023-06-27T00:01:57.011922Z",
     "iopub.status.idle": "2023-06-27T00:01:57.015947Z",
     "shell.execute_reply": "2023-06-27T00:01:57.015513Z",
     "shell.execute_reply.started": "2023-06-27T00:01:57.012302Z"
    },
    "tags": []
   },
   "outputs": [
    {
     "data": {
      "text/plain": [
       "['/gale/raidix/rdx-3/illumina_runs/220914_A00280_0595_BHF2GFDSX5_220916161955690566631/Pool_AMB56_mm/220613-AMB-mm-na-snm3C_seq-NovaSeq-pe-150-WT-AMB_220602_9mo_3F_4E_2_P1-1-B11_S9_L001_R1_001.fastq.gz',\n",
       " '/gale/raidix/rdx-3/illumina_runs/220914_A00280_0595_BHF2GFDSX5_220916161955690566631/Pool_AMB56_mm/220613-AMB-mm-na-snm3C_seq-NovaSeq-pe-150-WT-AMB_220602_9mo_3F_4E_2_P1-1-B11_S9_L001_R2_001.fastq.gz',\n",
       " '/gale/raidix/rdx-3/illumina_runs/220914_A00280_0595_BHF2GFDSX5_220916161955690566631/Pool_AMB56_mm/220613-AMB-mm-na-snm3C_seq-NovaSeq-pe-150-WT-AMB_220602_9mo_3F_4E_2_P2-1-J11_S10_L001_R1_001.fastq.gz',\n",
       " '/gale/raidix/rdx-3/illumina_runs/220914_A00280_0595_BHF2GFDSX5_220916161955690566631/Pool_AMB56_mm/220613-AMB-mm-na-snm3C_seq-NovaSeq-pe-150-WT-AMB_220602_9mo_3F_4E_2_P2-1-J11_S10_L001_R2_001.fastq.gz',\n",
       " '/gale/raidix/rdx-3/illumina_runs/220914_A00280_0595_BHF2GFDSX5_220916161955690566631/Pool_AMB56_mm/220613-AMB-mm-na-snm3C_seq-NovaSeq-pe-150-WT-AMB_220602_9mo_3F_4E_2_P3-1-J2_S11_L001_R1_001.fastq.gz']"
      ]
     },
     "execution_count": 30,
     "metadata": {},
     "output_type": "execute_result"
    }
   ],
   "source": [
    "file_path[:5]"
   ]
  },
  {
   "cell_type": "code",
   "execution_count": 28,
   "id": "93ecaf81-2a23-47e6-b0ad-254af316e0b8",
   "metadata": {
    "execution": {
     "iopub.execute_input": "2023-06-27T00:01:29.154891Z",
     "iopub.status.busy": "2023-06-27T00:01:29.154561Z",
     "iopub.status.idle": "2023-06-27T00:01:29.166363Z",
     "shell.execute_reply": "2023-06-27T00:01:29.165858Z",
     "shell.execute_reply.started": "2023-06-27T00:01:29.154870Z"
    },
    "tags": []
   },
   "outputs": [
    {
     "data": {
      "text/html": [
       "<div>\n",
       "<style scoped>\n",
       "    .dataframe tbody tr th:only-of-type {\n",
       "        vertical-align: middle;\n",
       "    }\n",
       "\n",
       "    .dataframe tbody tr th {\n",
       "        vertical-align: top;\n",
       "    }\n",
       "\n",
       "    .dataframe thead th {\n",
       "        text-align: right;\n",
       "    }\n",
       "</style>\n",
       "<table border=\"1\" class=\"dataframe\">\n",
       "  <thead>\n",
       "    <tr style=\"text-align: right;\">\n",
       "      <th></th>\n",
       "      <th>plate</th>\n",
       "      <th>multiplex_group</th>\n",
       "      <th>primer_name</th>\n",
       "      <th>lane</th>\n",
       "      <th>read_type</th>\n",
       "      <th>fastq_path</th>\n",
       "      <th>uid</th>\n",
       "    </tr>\n",
       "  </thead>\n",
       "  <tbody>\n",
       "    <tr>\n",
       "      <th>0</th>\n",
       "      <td>AMB_220602_9mo_3F_4E_2_P1</td>\n",
       "      <td>1</td>\n",
       "      <td>B11</td>\n",
       "      <td>L001</td>\n",
       "      <td>R1</td>\n",
       "      <td>/gale/raidix/rdx-3/illumina_runs/220914_A00280...</td>\n",
       "      <td>AMB_220602_9mo_3F_4E_2_P1-1-B11</td>\n",
       "    </tr>\n",
       "    <tr>\n",
       "      <th>1</th>\n",
       "      <td>AMB_220602_9mo_3F_4E_2_P1</td>\n",
       "      <td>1</td>\n",
       "      <td>B11</td>\n",
       "      <td>L001</td>\n",
       "      <td>R2</td>\n",
       "      <td>/gale/raidix/rdx-3/illumina_runs/220914_A00280...</td>\n",
       "      <td>AMB_220602_9mo_3F_4E_2_P1-1-B11</td>\n",
       "    </tr>\n",
       "    <tr>\n",
       "      <th>2</th>\n",
       "      <td>AMB_220602_9mo_3F_4E_2_P2</td>\n",
       "      <td>1</td>\n",
       "      <td>J11</td>\n",
       "      <td>L001</td>\n",
       "      <td>R1</td>\n",
       "      <td>/gale/raidix/rdx-3/illumina_runs/220914_A00280...</td>\n",
       "      <td>AMB_220602_9mo_3F_4E_2_P2-1-J11</td>\n",
       "    </tr>\n",
       "    <tr>\n",
       "      <th>3</th>\n",
       "      <td>AMB_220602_9mo_3F_4E_2_P2</td>\n",
       "      <td>1</td>\n",
       "      <td>J11</td>\n",
       "      <td>L001</td>\n",
       "      <td>R2</td>\n",
       "      <td>/gale/raidix/rdx-3/illumina_runs/220914_A00280...</td>\n",
       "      <td>AMB_220602_9mo_3F_4E_2_P2-1-J11</td>\n",
       "    </tr>\n",
       "    <tr>\n",
       "      <th>4</th>\n",
       "      <td>AMB_220602_9mo_3F_4E_2_P3</td>\n",
       "      <td>1</td>\n",
       "      <td>J2</td>\n",
       "      <td>L001</td>\n",
       "      <td>R1</td>\n",
       "      <td>/gale/raidix/rdx-3/illumina_runs/220914_A00280...</td>\n",
       "      <td>AMB_220602_9mo_3F_4E_2_P3-1-J2</td>\n",
       "    </tr>\n",
       "    <tr>\n",
       "      <th>...</th>\n",
       "      <td>...</td>\n",
       "      <td>...</td>\n",
       "      <td>...</td>\n",
       "      <td>...</td>\n",
       "      <td>...</td>\n",
       "      <td>...</td>\n",
       "      <td>...</td>\n",
       "    </tr>\n",
       "    <tr>\n",
       "      <th>59</th>\n",
       "      <td>AMB_220602_9mo_11E_11F_12E_2_P2</td>\n",
       "      <td>1</td>\n",
       "      <td>F6</td>\n",
       "      <td>L004</td>\n",
       "      <td>R2</td>\n",
       "      <td>/gale/raidix/rdx-3/illumina_runs/220914_A00280...</td>\n",
       "      <td>AMB_220602_9mo_11E_11F_12E_2_P2-1-F6</td>\n",
       "    </tr>\n",
       "    <tr>\n",
       "      <th>60</th>\n",
       "      <td>AMB_220602_9mo_11E_11F_12E_2_P3</td>\n",
       "      <td>1</td>\n",
       "      <td>H6</td>\n",
       "      <td>L004</td>\n",
       "      <td>R1</td>\n",
       "      <td>/gale/raidix/rdx-3/illumina_runs/220914_A00280...</td>\n",
       "      <td>AMB_220602_9mo_11E_11F_12E_2_P3-1-H6</td>\n",
       "    </tr>\n",
       "    <tr>\n",
       "      <th>61</th>\n",
       "      <td>AMB_220602_9mo_11E_11F_12E_2_P3</td>\n",
       "      <td>1</td>\n",
       "      <td>H6</td>\n",
       "      <td>L004</td>\n",
       "      <td>R2</td>\n",
       "      <td>/gale/raidix/rdx-3/illumina_runs/220914_A00280...</td>\n",
       "      <td>AMB_220602_9mo_11E_11F_12E_2_P3-1-H6</td>\n",
       "    </tr>\n",
       "    <tr>\n",
       "      <th>62</th>\n",
       "      <td>AMB_220602_9mo_11E_11F_12E_2_P4</td>\n",
       "      <td>1</td>\n",
       "      <td>D8</td>\n",
       "      <td>L004</td>\n",
       "      <td>R1</td>\n",
       "      <td>/gale/raidix/rdx-3/illumina_runs/220914_A00280...</td>\n",
       "      <td>AMB_220602_9mo_11E_11F_12E_2_P4-1-D8</td>\n",
       "    </tr>\n",
       "    <tr>\n",
       "      <th>63</th>\n",
       "      <td>AMB_220602_9mo_11E_11F_12E_2_P4</td>\n",
       "      <td>1</td>\n",
       "      <td>D8</td>\n",
       "      <td>L004</td>\n",
       "      <td>R2</td>\n",
       "      <td>/gale/raidix/rdx-3/illumina_runs/220914_A00280...</td>\n",
       "      <td>AMB_220602_9mo_11E_11F_12E_2_P4-1-D8</td>\n",
       "    </tr>\n",
       "  </tbody>\n",
       "</table>\n",
       "<p>64 rows × 7 columns</p>\n",
       "</div>"
      ],
      "text/plain": [
       "                              plate multiplex_group primer_name  lane  \\\n",
       "0         AMB_220602_9mo_3F_4E_2_P1               1         B11  L001   \n",
       "1         AMB_220602_9mo_3F_4E_2_P1               1         B11  L001   \n",
       "2         AMB_220602_9mo_3F_4E_2_P2               1         J11  L001   \n",
       "3         AMB_220602_9mo_3F_4E_2_P2               1         J11  L001   \n",
       "4         AMB_220602_9mo_3F_4E_2_P3               1          J2  L001   \n",
       "..                              ...             ...         ...   ...   \n",
       "59  AMB_220602_9mo_11E_11F_12E_2_P2               1          F6  L004   \n",
       "60  AMB_220602_9mo_11E_11F_12E_2_P3               1          H6  L004   \n",
       "61  AMB_220602_9mo_11E_11F_12E_2_P3               1          H6  L004   \n",
       "62  AMB_220602_9mo_11E_11F_12E_2_P4               1          D8  L004   \n",
       "63  AMB_220602_9mo_11E_11F_12E_2_P4               1          D8  L004   \n",
       "\n",
       "   read_type                                         fastq_path  \\\n",
       "0         R1  /gale/raidix/rdx-3/illumina_runs/220914_A00280...   \n",
       "1         R2  /gale/raidix/rdx-3/illumina_runs/220914_A00280...   \n",
       "2         R1  /gale/raidix/rdx-3/illumina_runs/220914_A00280...   \n",
       "3         R2  /gale/raidix/rdx-3/illumina_runs/220914_A00280...   \n",
       "4         R1  /gale/raidix/rdx-3/illumina_runs/220914_A00280...   \n",
       "..       ...                                                ...   \n",
       "59        R2  /gale/raidix/rdx-3/illumina_runs/220914_A00280...   \n",
       "60        R1  /gale/raidix/rdx-3/illumina_runs/220914_A00280...   \n",
       "61        R2  /gale/raidix/rdx-3/illumina_runs/220914_A00280...   \n",
       "62        R1  /gale/raidix/rdx-3/illumina_runs/220914_A00280...   \n",
       "63        R2  /gale/raidix/rdx-3/illumina_runs/220914_A00280...   \n",
       "\n",
       "                                     uid  \n",
       "0        AMB_220602_9mo_3F_4E_2_P1-1-B11  \n",
       "1        AMB_220602_9mo_3F_4E_2_P1-1-B11  \n",
       "2        AMB_220602_9mo_3F_4E_2_P2-1-J11  \n",
       "3        AMB_220602_9mo_3F_4E_2_P2-1-J11  \n",
       "4         AMB_220602_9mo_3F_4E_2_P3-1-J2  \n",
       "..                                   ...  \n",
       "59  AMB_220602_9mo_11E_11F_12E_2_P2-1-F6  \n",
       "60  AMB_220602_9mo_11E_11F_12E_2_P3-1-H6  \n",
       "61  AMB_220602_9mo_11E_11F_12E_2_P3-1-H6  \n",
       "62  AMB_220602_9mo_11E_11F_12E_2_P4-1-D8  \n",
       "63  AMB_220602_9mo_11E_11F_12E_2_P4-1-D8  \n",
       "\n",
       "[64 rows x 7 columns]"
      ]
     },
     "execution_count": 28,
     "metadata": {},
     "output_type": "execute_result"
    }
   ],
   "source": [
    "fastq_df"
   ]
  },
  {
   "cell_type": "code",
   "execution_count": null,
   "id": "6df75455-b55d-48f4-bc36-b1a93cfeabc9",
   "metadata": {},
   "outputs": [],
   "source": []
  },
  {
   "cell_type": "code",
   "execution_count": null,
   "id": "131a6dec-6d5d-4292-9211-bab324ba1b72",
   "metadata": {},
   "outputs": [],
   "source": []
  },
  {
   "cell_type": "code",
   "execution_count": 18,
   "id": "f61e4bcf-b4fd-4ec8-a88e-bbeeec2a3fcb",
   "metadata": {
    "execution": {
     "iopub.execute_input": "2023-06-27T00:00:40.113229Z",
     "iopub.status.busy": "2023-06-27T00:00:40.112718Z",
     "iopub.status.idle": "2023-06-27T00:00:40.116526Z",
     "shell.execute_reply": "2023-06-27T00:00:40.116117Z",
     "shell.execute_reply.started": "2023-06-27T00:00:40.113206Z"
    },
    "tags": []
   },
   "outputs": [
    {
     "data": {
      "text/plain": [
       "'/gale/netapp/seq2/illumina_runs/retr/220801_A00280_0573_BH2GMHDSX5_220805161810924158809/Pool_AMB58/*.gz'"
      ]
     },
     "execution_count": 18,
     "metadata": {},
     "output_type": "execute_result"
    }
   ],
   "source": [
    "fastq_pattern"
   ]
  },
  {
   "cell_type": "code",
   "execution_count": 19,
   "id": "2ffc71e8-252b-4acb-aa16-d720698f4177",
   "metadata": {
    "execution": {
     "iopub.execute_input": "2023-06-27T00:00:55.692793Z",
     "iopub.status.busy": "2023-06-27T00:00:55.692496Z",
     "iopub.status.idle": "2023-06-27T00:00:55.698856Z",
     "shell.execute_reply": "2023-06-27T00:00:55.698453Z",
     "shell.execute_reply.started": "2023-06-27T00:00:55.692771Z"
    },
    "tags": []
   },
   "outputs": [
    {
     "data": {
      "text/html": [
       "<div>\n",
       "<style scoped>\n",
       "    .dataframe tbody tr th:only-of-type {\n",
       "        vertical-align: middle;\n",
       "    }\n",
       "\n",
       "    .dataframe tbody tr th {\n",
       "        vertical-align: top;\n",
       "    }\n",
       "\n",
       "    .dataframe thead th {\n",
       "        text-align: right;\n",
       "    }\n",
       "</style>\n",
       "<table border=\"1\" class=\"dataframe\">\n",
       "  <thead>\n",
       "    <tr style=\"text-align: right;\">\n",
       "      <th></th>\n",
       "    </tr>\n",
       "  </thead>\n",
       "  <tbody>\n",
       "  </tbody>\n",
       "</table>\n",
       "</div>"
      ],
      "text/plain": [
       "Empty DataFrame\n",
       "Columns: []\n",
       "Index: []"
      ]
     },
     "execution_count": 19,
     "metadata": {},
     "output_type": "execute_result"
    }
   ],
   "source": [
    "fastq_df"
   ]
  },
  {
   "cell_type": "code",
   "execution_count": null,
   "id": "0851aaa6-b609-4aa3-b706-3a825812501d",
   "metadata": {},
   "outputs": [],
   "source": []
  },
  {
   "cell_type": "code",
   "execution_count": null,
   "id": "68a00ad8-0b9a-4ce4-94fb-849937e07772",
   "metadata": {},
   "outputs": [],
   "source": []
  },
  {
   "cell_type": "code",
   "execution_count": null,
   "id": "19fcedae-ae0e-46b7-8ae2-f023dd93849e",
   "metadata": {},
   "outputs": [],
   "source": []
  },
  {
   "cell_type": "code",
   "execution_count": null,
   "id": "77b1d3f0-9e13-4dc7-9aae-a77b52c002c9",
   "metadata": {},
   "outputs": [],
   "source": []
  },
  {
   "cell_type": "code",
   "execution_count": null,
   "id": "dcfec01a-01cf-4cec-9a9f-414c9a2fd366",
   "metadata": {},
   "outputs": [],
   "source": [
    "def make_fastq_dataframe(file_path, barcode_version, output_path=None):\n",
    "    \"\"\"\n",
    "    Generate fastq_dataframe for pipeline input.\n",
    "\n",
    "    Parameters\n",
    "    ----------\n",
    "    file_path\n",
    "        Accept 1. path pattern contain wildcard, 2. path list, 3. path of one file contain all the paths.\n",
    "    barcode_version\n",
    "        Only accept two options: 1) V1 for 8 random index; 2) V2 for 384 random index.\n",
    "    output_path\n",
    "        output path of the fastq dataframe\n",
    "    Returns\n",
    "    -------\n",
    "        fastq_dataframe for pipeline input.\n",
    "    \"\"\"\n",
    "    barcode_version = barcode_version.upper()\n",
    "    if barcode_version == 'V1':\n",
    "        parser = _parse_v1_fastq_path\n",
    "    elif barcode_version == 'V2':\n",
    "        parser = _parse_v2_fastq_path\n",
    "    else:\n",
    "        raise ValueError(f'Primer Version can only be V1 or V2, got {barcode_version}.')\n",
    "\n",
    "    if isinstance(file_path, str) and ('*' in file_path):\n",
    "        file_path = [str(pathlib.Path(p).absolute()) for p in glob.glob(file_path)]\n",
    "    elif isinstance(file_path, list):\n",
    "        pass\n",
    "    else:\n",
    "        with open(file_path) as f:\n",
    "            file_path = [line.strip() for line in f]\n",
    "    log.info(f'{len(file_path)} FASTQ file paths in input')\n",
    "\n",
    "    fastq_data = []\n",
    "    for path in file_path:\n",
    "        name_series = parser(path)\n",
    "        fastq_data.append(name_series)\n",
    "    fastq_df = pd.DataFrame(fastq_data)\n",
    "    log.info(f'{fastq_df.shape[0]} valid fastq names.')\n",
    "    if fastq_df.shape[0] == 0:\n",
    "        log.info('No fastq name remained, check if the name pattern is correct.')\n",
    "        return None\n",
    "\n",
    "    # make sure UID is unique\n",
    "    for _, df in fastq_df.groupby(['lane', 'read_type']):\n",
    "        if df['uid'].unique().size != df['uid'].size:\n",
    "            raise ValueError(f'UID column is not unique.')\n",
    "    if output_path is not None:\n",
    "        fastq_df.to_csv(output_path, index=False)\n",
    "    return fastq_df"
   ]
  },
  {
   "cell_type": "code",
   "execution_count": null,
   "id": "a2d55490-ad8d-4b98-8c31-73f1191ef6a0",
   "metadata": {},
   "outputs": [],
   "source": []
  },
  {
   "cell_type": "code",
   "execution_count": null,
   "id": "945f8d61-54f8-43bd-aea8-2b32fd4bd32f",
   "metadata": {},
   "outputs": [],
   "source": []
  },
  {
   "cell_type": "code",
   "execution_count": null,
   "id": "dbeda21b-72a4-491f-8f2a-575c42459bc3",
   "metadata": {},
   "outputs": [],
   "source": []
  },
  {
   "cell_type": "code",
   "execution_count": null,
   "id": "a244cff2-c2f6-45f4-be2f-f33acf6333eb",
   "metadata": {},
   "outputs": [],
   "source": []
  },
  {
   "cell_type": "code",
   "execution_count": null,
   "id": "e825c16b-c37d-446b-9069-44cb09d085d2",
   "metadata": {},
   "outputs": [],
   "source": []
  },
  {
   "cell_type": "code",
   "execution_count": null,
   "id": "63bba83b-9f16-4110-a080-6115092a69dc",
   "metadata": {},
   "outputs": [],
   "source": []
  },
  {
   "cell_type": "code",
   "execution_count": null,
   "id": "9a816391-b581-4e3d-bd86-1e2878204f0f",
   "metadata": {},
   "outputs": [],
   "source": []
  },
  {
   "cell_type": "code",
   "execution_count": null,
   "id": "0a78e089-90ec-4cb5-bb2b-5c2684595bdb",
   "metadata": {},
   "outputs": [],
   "source": []
  },
  {
   "cell_type": "code",
   "execution_count": null,
   "id": "e85aa612-90ed-4b24-8449-f9cc7542286d",
   "metadata": {},
   "outputs": [],
   "source": []
  }
 ],
 "metadata": {
  "kernelspec": {
   "display_name": "Python 3 (ipykernel)",
   "language": "python",
   "name": "python3"
  },
  "language_info": {
   "codemirror_mode": {
    "name": "ipython",
    "version": 3
   },
   "file_extension": ".py",
   "mimetype": "text/x-python",
   "name": "python",
   "nbconvert_exporter": "python",
   "pygments_lexer": "ipython3",
   "version": "3.7.12"
  }
 },
 "nbformat": 4,
 "nbformat_minor": 5
}
