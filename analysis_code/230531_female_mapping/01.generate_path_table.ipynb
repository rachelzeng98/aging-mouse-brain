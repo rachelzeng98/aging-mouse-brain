{
 "cells": [
  {
   "cell_type": "code",
   "execution_count": 1,
   "id": "b657fbdc-e835-4791-80b8-2fa74a566edb",
   "metadata": {
    "execution": {
     "iopub.execute_input": "2023-08-09T17:13:18.491225Z",
     "iopub.status.busy": "2023-08-09T17:13:18.490829Z",
     "iopub.status.idle": "2023-08-09T17:13:19.100821Z",
     "shell.execute_reply": "2023-08-09T17:13:19.100166Z",
     "shell.execute_reply.started": "2023-08-09T17:13:18.491185Z"
    },
    "tags": []
   },
   "outputs": [],
   "source": [
    "import pandas as pd\n",
    "import pathlib\n",
    "import subprocess\n",
    "from google.cloud import storage\n",
    "import os"
   ]
  },
  {
   "cell_type": "code",
   "execution_count": 2,
   "id": "df2454be-8e73-4314-a577-6a961ed64f9b",
   "metadata": {
    "execution": {
     "iopub.execute_input": "2023-08-09T17:13:19.102790Z",
     "iopub.status.busy": "2023-08-09T17:13:19.102275Z",
     "iopub.status.idle": "2023-08-09T17:13:19.106353Z",
     "shell.execute_reply": "2023-08-09T17:13:19.105776Z",
     "shell.execute_reply.started": "2023-08-09T17:13:19.102762Z"
    },
    "tags": []
   },
   "outputs": [],
   "source": [
    "job_dir = 'pool_amb40'\n",
    "#_dir = os.getcwd()\n",
    "_dir = '/ceph/gale-1/qzeng'\n",
    "library_dir = f'{_dir}/Pool_AMB40_mm'"
   ]
  },
  {
   "cell_type": "code",
   "execution_count": 3,
   "id": "fbef047a-fad3-4724-be05-41b7950707de",
   "metadata": {
    "execution": {
     "iopub.execute_input": "2023-08-09T17:13:19.107613Z",
     "iopub.status.busy": "2023-08-09T17:13:19.107286Z",
     "iopub.status.idle": "2023-08-09T17:13:19.171227Z",
     "shell.execute_reply": "2023-08-09T17:13:19.170633Z",
     "shell.execute_reply.started": "2023-08-09T17:13:19.107590Z"
    },
    "tags": []
   },
   "outputs": [
    {
     "data": {
      "text/plain": [
       "1532"
      ]
     },
     "execution_count": 3,
     "metadata": {},
     "output_type": "execute_result"
    }
   ],
   "source": [
    "# this will get all the path, fastq_file names and cell names\n",
    "all_FC_R1 = []\n",
    "all_FC_R2 = []\n",
    "for path in pathlib.Path(f'{library_dir}').glob('AMB_*/fastq/*-R1.fq.gz'):\n",
    "    all_FC_R1.append(str(path))\n",
    "    \n",
    "for path in pathlib.Path(f'{library_dir}').glob('AMB_*/fastq/*-R2.fq.gz'):\n",
    "    all_FC_R2.append(str(path))\n",
    "    \n",
    "all_FC_R1 = sorted(all_FC_R1)\n",
    "all_FC_R2 = sorted(all_FC_R2) \n",
    "assert len(all_FC_R2) == len(all_FC_R1)\n",
    "\n",
    "all_FC_cells = [file.split('/')[-1].split('-R1.fq.gz')[0] for file in all_FC_R1]\n",
    "len(all_FC_cells)"
   ]
  },
  {
   "cell_type": "code",
   "execution_count": 4,
   "id": "1870a7df-9fcc-4b4c-9fee-6c3483e4a64d",
   "metadata": {
    "execution": {
     "iopub.execute_input": "2023-08-09T17:13:19.172555Z",
     "iopub.status.busy": "2023-08-09T17:13:19.172165Z",
     "iopub.status.idle": "2023-08-09T17:13:19.185762Z",
     "shell.execute_reply": "2023-08-09T17:13:19.185133Z",
     "shell.execute_reply.started": "2023-08-09T17:13:19.172531Z"
    },
    "tags": []
   },
   "outputs": [],
   "source": [
    "# generate csv for gliderport\n",
    "df = pd.DataFrame({'R1_path':all_FC_R1, 'R2_path':all_FC_R2})\n",
    "df.to_csv(f'{job_dir}_fastq_table.csv', index = None, header = None)"
   ]
  },
  {
   "cell_type": "code",
   "execution_count": 5,
   "id": "594b7bc8-1067-4486-b2d9-05a06702f4ac",
   "metadata": {
    "execution": {
     "iopub.execute_input": "2023-08-09T17:13:19.187006Z",
     "iopub.status.busy": "2023-08-09T17:13:19.186735Z",
     "iopub.status.idle": "2023-08-09T17:13:19.226116Z",
     "shell.execute_reply": "2023-08-09T17:13:19.225290Z",
     "shell.execute_reply.started": "2023-08-09T17:13:19.186983Z"
    },
    "tags": []
   },
   "outputs": [
    {
     "data": {
      "text/html": [
       "<div>\n",
       "<style scoped>\n",
       "    .dataframe tbody tr th:only-of-type {\n",
       "        vertical-align: middle;\n",
       "    }\n",
       "\n",
       "    .dataframe tbody tr th {\n",
       "        vertical-align: top;\n",
       "    }\n",
       "\n",
       "    .dataframe thead th {\n",
       "        text-align: right;\n",
       "    }\n",
       "</style>\n",
       "<table border=\"1\" class=\"dataframe\">\n",
       "  <thead>\n",
       "    <tr style=\"text-align: right;\">\n",
       "      <th></th>\n",
       "      <th>/ceph/gale-1/qzeng/Pool_AMB40_mm/AMB_220407_8wk_3F_4E_1_P1-1-I3/fastq/AMB_220407_8wk_3F_4E_1_P1-1-I3-A1-R1.fq.gz</th>\n",
       "      <th>/ceph/gale-1/qzeng/Pool_AMB40_mm/AMB_220407_8wk_3F_4E_1_P1-1-I3/fastq/AMB_220407_8wk_3F_4E_1_P1-1-I3-A1-R2.fq.gz</th>\n",
       "    </tr>\n",
       "  </thead>\n",
       "  <tbody>\n",
       "    <tr>\n",
       "      <th>0</th>\n",
       "      <td>/ceph/gale-1/qzeng/Pool_AMB40_mm/AMB_220407_8w...</td>\n",
       "      <td>/ceph/gale-1/qzeng/Pool_AMB40_mm/AMB_220407_8w...</td>\n",
       "    </tr>\n",
       "    <tr>\n",
       "      <th>1</th>\n",
       "      <td>/ceph/gale-1/qzeng/Pool_AMB40_mm/AMB_220407_8w...</td>\n",
       "      <td>/ceph/gale-1/qzeng/Pool_AMB40_mm/AMB_220407_8w...</td>\n",
       "    </tr>\n",
       "    <tr>\n",
       "      <th>2</th>\n",
       "      <td>/ceph/gale-1/qzeng/Pool_AMB40_mm/AMB_220407_8w...</td>\n",
       "      <td>/ceph/gale-1/qzeng/Pool_AMB40_mm/AMB_220407_8w...</td>\n",
       "    </tr>\n",
       "    <tr>\n",
       "      <th>3</th>\n",
       "      <td>/ceph/gale-1/qzeng/Pool_AMB40_mm/AMB_220407_8w...</td>\n",
       "      <td>/ceph/gale-1/qzeng/Pool_AMB40_mm/AMB_220407_8w...</td>\n",
       "    </tr>\n",
       "    <tr>\n",
       "      <th>4</th>\n",
       "      <td>/ceph/gale-1/qzeng/Pool_AMB40_mm/AMB_220407_8w...</td>\n",
       "      <td>/ceph/gale-1/qzeng/Pool_AMB40_mm/AMB_220407_8w...</td>\n",
       "    </tr>\n",
       "    <tr>\n",
       "      <th>...</th>\n",
       "      <td>...</td>\n",
       "      <td>...</td>\n",
       "    </tr>\n",
       "    <tr>\n",
       "      <th>1526</th>\n",
       "      <td>/ceph/gale-1/qzeng/Pool_AMB40_mm/AMB_220407_8w...</td>\n",
       "      <td>/ceph/gale-1/qzeng/Pool_AMB40_mm/AMB_220407_8w...</td>\n",
       "    </tr>\n",
       "    <tr>\n",
       "      <th>1527</th>\n",
       "      <td>/ceph/gale-1/qzeng/Pool_AMB40_mm/AMB_220407_8w...</td>\n",
       "      <td>/ceph/gale-1/qzeng/Pool_AMB40_mm/AMB_220407_8w...</td>\n",
       "    </tr>\n",
       "    <tr>\n",
       "      <th>1528</th>\n",
       "      <td>/ceph/gale-1/qzeng/Pool_AMB40_mm/AMB_220407_8w...</td>\n",
       "      <td>/ceph/gale-1/qzeng/Pool_AMB40_mm/AMB_220407_8w...</td>\n",
       "    </tr>\n",
       "    <tr>\n",
       "      <th>1529</th>\n",
       "      <td>/ceph/gale-1/qzeng/Pool_AMB40_mm/AMB_220407_8w...</td>\n",
       "      <td>/ceph/gale-1/qzeng/Pool_AMB40_mm/AMB_220407_8w...</td>\n",
       "    </tr>\n",
       "    <tr>\n",
       "      <th>1530</th>\n",
       "      <td>/ceph/gale-1/qzeng/Pool_AMB40_mm/AMB_220407_8w...</td>\n",
       "      <td>/ceph/gale-1/qzeng/Pool_AMB40_mm/AMB_220407_8w...</td>\n",
       "    </tr>\n",
       "  </tbody>\n",
       "</table>\n",
       "<p>1531 rows × 2 columns</p>\n",
       "</div>"
      ],
      "text/plain": [
       "     /ceph/gale-1/qzeng/Pool_AMB40_mm/AMB_220407_8wk_3F_4E_1_P1-1-I3/fastq/AMB_220407_8wk_3F_4E_1_P1-1-I3-A1-R1.fq.gz  \\\n",
       "0     /ceph/gale-1/qzeng/Pool_AMB40_mm/AMB_220407_8w...                                                                 \n",
       "1     /ceph/gale-1/qzeng/Pool_AMB40_mm/AMB_220407_8w...                                                                 \n",
       "2     /ceph/gale-1/qzeng/Pool_AMB40_mm/AMB_220407_8w...                                                                 \n",
       "3     /ceph/gale-1/qzeng/Pool_AMB40_mm/AMB_220407_8w...                                                                 \n",
       "4     /ceph/gale-1/qzeng/Pool_AMB40_mm/AMB_220407_8w...                                                                 \n",
       "...                                                 ...                                                                 \n",
       "1526  /ceph/gale-1/qzeng/Pool_AMB40_mm/AMB_220407_8w...                                                                 \n",
       "1527  /ceph/gale-1/qzeng/Pool_AMB40_mm/AMB_220407_8w...                                                                 \n",
       "1528  /ceph/gale-1/qzeng/Pool_AMB40_mm/AMB_220407_8w...                                                                 \n",
       "1529  /ceph/gale-1/qzeng/Pool_AMB40_mm/AMB_220407_8w...                                                                 \n",
       "1530  /ceph/gale-1/qzeng/Pool_AMB40_mm/AMB_220407_8w...                                                                 \n",
       "\n",
       "     /ceph/gale-1/qzeng/Pool_AMB40_mm/AMB_220407_8wk_3F_4E_1_P1-1-I3/fastq/AMB_220407_8wk_3F_4E_1_P1-1-I3-A1-R2.fq.gz  \n",
       "0     /ceph/gale-1/qzeng/Pool_AMB40_mm/AMB_220407_8w...                                                                \n",
       "1     /ceph/gale-1/qzeng/Pool_AMB40_mm/AMB_220407_8w...                                                                \n",
       "2     /ceph/gale-1/qzeng/Pool_AMB40_mm/AMB_220407_8w...                                                                \n",
       "3     /ceph/gale-1/qzeng/Pool_AMB40_mm/AMB_220407_8w...                                                                \n",
       "4     /ceph/gale-1/qzeng/Pool_AMB40_mm/AMB_220407_8w...                                                                \n",
       "...                                                 ...                                                                \n",
       "1526  /ceph/gale-1/qzeng/Pool_AMB40_mm/AMB_220407_8w...                                                                \n",
       "1527  /ceph/gale-1/qzeng/Pool_AMB40_mm/AMB_220407_8w...                                                                \n",
       "1528  /ceph/gale-1/qzeng/Pool_AMB40_mm/AMB_220407_8w...                                                                \n",
       "1529  /ceph/gale-1/qzeng/Pool_AMB40_mm/AMB_220407_8w...                                                                \n",
       "1530  /ceph/gale-1/qzeng/Pool_AMB40_mm/AMB_220407_8w...                                                                \n",
       "\n",
       "[1531 rows x 2 columns]"
      ]
     },
     "execution_count": 5,
     "metadata": {},
     "output_type": "execute_result"
    }
   ],
   "source": [
    "df = pd.read_csv(f'{job_dir}_fastq_table.csv')\n",
    "df"
   ]
  },
  {
   "cell_type": "code",
   "execution_count": null,
   "id": "ee93501e-e4d3-41e4-ba9a-804d51cef466",
   "metadata": {},
   "outputs": [],
   "source": []
  },
  {
   "cell_type": "code",
   "execution_count": null,
   "id": "3e432808-0687-4269-ae13-4b691764d8b0",
   "metadata": {},
   "outputs": [],
   "source": []
  },
  {
   "cell_type": "code",
   "execution_count": null,
   "id": "a6cc5cf3-88d2-4ac6-b44f-85372d23e127",
   "metadata": {},
   "outputs": [],
   "source": []
  },
  {
   "cell_type": "code",
   "execution_count": null,
   "id": "b0d0c507-7efa-4228-b2b2-4030d420b18b",
   "metadata": {},
   "outputs": [],
   "source": []
  },
  {
   "cell_type": "code",
   "execution_count": null,
   "id": "37a0cf88-957b-4ac1-8017-6ab73a500d54",
   "metadata": {},
   "outputs": [],
   "source": []
  },
  {
   "cell_type": "code",
   "execution_count": null,
   "id": "92648028-e048-49f0-9ab4-c8dadf444124",
   "metadata": {},
   "outputs": [],
   "source": []
  }
 ],
 "metadata": {
  "kernelspec": {
   "display_name": "Python 3 (ipykernel)",
   "language": "python",
   "name": "python3"
  },
  "language_info": {
   "codemirror_mode": {
    "name": "ipython",
    "version": 3
   },
   "file_extension": ".py",
   "mimetype": "text/x-python",
   "name": "python",
   "nbconvert_exporter": "python",
   "pygments_lexer": "ipython3",
   "version": "3.7.12"
  }
 },
 "nbformat": 4,
 "nbformat_minor": 5
}
