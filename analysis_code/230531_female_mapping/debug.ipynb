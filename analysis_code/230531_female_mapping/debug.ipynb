{
 "cells": [
  {
   "cell_type": "code",
   "execution_count": 1,
   "id": "5d8f83d6-0f55-463b-a5fa-6de8a4337202",
   "metadata": {
    "execution": {
     "iopub.execute_input": "2023-06-27T00:14:48.024463Z",
     "iopub.status.busy": "2023-06-27T00:14:48.024244Z",
     "iopub.status.idle": "2023-06-27T00:14:49.345616Z",
     "shell.execute_reply": "2023-06-27T00:14:49.345069Z",
     "shell.execute_reply.started": "2023-06-27T00:14:48.024442Z"
    },
    "tags": []
   },
   "outputs": [],
   "source": [
    "import pandas as pd\n",
    "import pathlib\n",
    "from cemba_data.demultiplex.fastq_dataframe import make_fastq_dataframe, _parse_v2_fastq_path\n",
    "import glob\n",
    "import logging"
   ]
  },
  {
   "cell_type": "code",
   "execution_count": 9,
   "id": "e9a2278d-80d9-4f98-bc4b-b6b0fcbac002",
   "metadata": {
    "execution": {
     "iopub.execute_input": "2023-06-27T00:15:30.879210Z",
     "iopub.status.busy": "2023-06-27T00:15:30.878937Z",
     "iopub.status.idle": "2023-06-27T00:15:30.882953Z",
     "shell.execute_reply": "2023-06-27T00:15:30.882423Z",
     "shell.execute_reply.started": "2023-06-27T00:15:30.879187Z"
    },
    "tags": []
   },
   "outputs": [],
   "source": [
    "fastq_dir = '/gale/netapp/seq2/illumina_runs/retr/220801_A00280_0573_BH2GMHDSX5_220805161810924158809/Pool_AMB58'\n",
    "fastq_dir = '/gale/raidix/rdx-3/illumina_runs/220914_A00280_0595_BHF2GFDSX5_220916161955690566631/Pool_AMB56_mm'\n",
    "output_dir = '/home/qzeng/project/aging/230531_female_mapping/test'\n",
    "\n",
    "fastq_pattern=f'{fastq_dir}/*.gz'\n",
    "output_dir= f'{output_dir}/{pathlib.Path(fastq_dir).name}' \n",
    "config_path='mm10.hisat-3n.mapping_config.ini' \n",
    "cpu=15 \n",
    "aligner='hisat-3n'\n",
    "barcode_version = 'V2'\n",
    "log = logging.getLogger()"
   ]
  },
  {
   "cell_type": "code",
   "execution_count": 3,
   "id": "b6d09108-1916-4816-9e1b-2fee4bcf100a",
   "metadata": {
    "execution": {
     "iopub.execute_input": "2023-06-27T00:14:49.351861Z",
     "iopub.status.busy": "2023-06-27T00:14:49.351604Z",
     "iopub.status.idle": "2023-06-27T00:14:49.356193Z",
     "shell.execute_reply": "2023-06-27T00:14:49.355771Z",
     "shell.execute_reply.started": "2023-06-27T00:14:49.351838Z"
    },
    "tags": []
   },
   "outputs": [
    {
     "data": {
      "text/plain": [
       "PosixPath('/home/qzeng/project/aging/230531_female_mapping/test/Pool_AMB56_mm')"
      ]
     },
     "execution_count": 3,
     "metadata": {},
     "output_type": "execute_result"
    }
   ],
   "source": [
    "output_dir = pathlib.Path(output_dir).absolute()\n",
    "output_dir"
   ]
  },
  {
   "cell_type": "code",
   "execution_count": 4,
   "id": "1af7a8bc-dd82-4ab5-af50-2d5d436444b2",
   "metadata": {
    "execution": {
     "iopub.execute_input": "2023-06-27T00:14:49.357093Z",
     "iopub.status.busy": "2023-06-27T00:14:49.356826Z",
     "iopub.status.idle": "2023-06-27T00:14:49.359379Z",
     "shell.execute_reply": "2023-06-27T00:14:49.358881Z",
     "shell.execute_reply.started": "2023-06-27T00:14:49.357072Z"
    },
    "tags": []
   },
   "outputs": [],
   "source": [
    "# fastq_df = make_fastq_dataframe(fastq_pattern,\n",
    "#                                 barcode_version=barcode_version,\n",
    "#                                 output_path=f'{output_dir}/stats/fastq_dataframe.csv')"
   ]
  },
  {
   "cell_type": "code",
   "execution_count": 5,
   "id": "ecd33ec0-e46c-49bc-a6e0-aabf829d32b6",
   "metadata": {
    "execution": {
     "iopub.execute_input": "2023-06-27T00:14:49.360354Z",
     "iopub.status.busy": "2023-06-27T00:14:49.360019Z",
     "iopub.status.idle": "2023-06-27T00:14:49.363430Z",
     "shell.execute_reply": "2023-06-27T00:14:49.363018Z",
     "shell.execute_reply.started": "2023-06-27T00:14:49.360333Z"
    },
    "tags": []
   },
   "outputs": [
    {
     "data": {
      "text/plain": [
       "'/gale/raidix/rdx-3/illumina_runs/220914_A00280_0595_BHF2GFDSX5_220916161955690566631/Pool_AMB56_mm/*.gz'"
      ]
     },
     "execution_count": 5,
     "metadata": {},
     "output_type": "execute_result"
    }
   ],
   "source": [
    "file_path = fastq_pattern\n",
    "file_path"
   ]
  },
  {
   "cell_type": "code",
   "execution_count": 6,
   "id": "800caf52-3e11-437b-9d45-b64bb1afa516",
   "metadata": {
    "execution": {
     "iopub.execute_input": "2023-06-27T00:14:49.366349Z",
     "iopub.status.busy": "2023-06-27T00:14:49.365973Z",
     "iopub.status.idle": "2023-06-27T00:14:49.369235Z",
     "shell.execute_reply": "2023-06-27T00:14:49.368734Z",
     "shell.execute_reply.started": "2023-06-27T00:14:49.366327Z"
    },
    "tags": []
   },
   "outputs": [],
   "source": [
    "barcode_version = barcode_version.upper()\n",
    "if barcode_version == 'V1':\n",
    "        parser = _parse_v1_fastq_path\n",
    "elif barcode_version == 'V2':\n",
    "    parser = _parse_v2_fastq_path\n",
    "else:\n",
    "    raise ValueError(f'Primer Version can only be V1 or V2, got {barcode_version}.')"
   ]
  },
  {
   "cell_type": "code",
   "execution_count": 7,
   "id": "f5794df8-4ba8-44c2-8856-8fda57dac61d",
   "metadata": {
    "execution": {
     "iopub.execute_input": "2023-06-27T00:14:49.370117Z",
     "iopub.status.busy": "2023-06-27T00:14:49.369856Z",
     "iopub.status.idle": "2023-06-27T00:14:49.372527Z",
     "shell.execute_reply": "2023-06-27T00:14:49.372047Z",
     "shell.execute_reply.started": "2023-06-27T00:14:49.370096Z"
    },
    "tags": []
   },
   "outputs": [],
   "source": [
    "# if isinstance(file_path, str) and ('*' in file_path):\n",
    "#     print(1)\n",
    "#     file_path = [str(pathlib.Path(p).absolute()) for p in glob.glob(file_path)]\n",
    "# elif isinstance(file_path, list):\n",
    "#     print(2)\n",
    "#     pass\n",
    "# else:\n",
    "#     with open(file_path) as f:\n",
    "#         print(3)\n",
    "#         file_path = [line.strip() for line in f]\n",
    "# log.info(f'{len(file_path)} FASTQ file paths in input')"
   ]
  },
  {
   "cell_type": "code",
   "execution_count": 8,
   "id": "bc04db8e-221a-415d-890a-bfd07c2c1e08",
   "metadata": {
    "execution": {
     "iopub.execute_input": "2023-06-27T00:14:49.535788Z",
     "iopub.status.busy": "2023-06-27T00:14:49.535500Z",
     "iopub.status.idle": "2023-06-27T00:14:49.544457Z",
     "shell.execute_reply": "2023-06-27T00:14:49.544009Z",
     "shell.execute_reply.started": "2023-06-27T00:14:49.535769Z"
    },
    "tags": []
   },
   "outputs": [
    {
     "name": "stdout",
     "output_type": "stream",
     "text": [
      "/gale/raidix/rdx-3/illumina_runs/220914_A00280_0595_BHF2GFDSX5_220916161955690566631/Pool_AMB56_mm/220613-AMB-mm-na-snm3C_seq-NovaSeq-pe-150-WT-AMB_220602_9mo_3F_4E_2_P1-1-B11_S9_L001_R1_001.fastq.gz\n"
     ]
    }
   ],
   "source": [
    "for p in glob.glob(file_path):\n",
    "    print(p)\n",
    "    break"
   ]
  },
  {
   "cell_type": "code",
   "execution_count": 26,
   "id": "fcc232a0-170d-4e83-9fdf-10c203727885",
   "metadata": {
    "execution": {
     "iopub.execute_input": "2023-06-27T00:01:18.008124Z",
     "iopub.status.busy": "2023-06-27T00:01:18.007832Z",
     "iopub.status.idle": "2023-06-27T00:01:18.028765Z",
     "shell.execute_reply": "2023-06-27T00:01:18.028178Z",
     "shell.execute_reply.started": "2023-06-27T00:01:18.008103Z"
    },
    "tags": []
   },
   "outputs": [],
   "source": [
    "fastq_data = []\n",
    "for path in file_path:\n",
    "    name_series = parser(path)\n",
    "    fastq_data.append(name_series)\n",
    "\n",
    "fastq_df = pd.DataFrame(fastq_data)\n",
    "log.info(f'{fastq_df.shape[0]} valid fastq names.')\n",
    "\n",
    "# if fastq_df.shape[0] == 0:\n",
    "#     log.info('No fastq name remained, check if the name pattern is correct.')\n",
    "#     return None"
   ]
  },
  {
   "cell_type": "code",
   "execution_count": 27,
   "id": "6a78eeb7-ff63-4d85-a939-5d615e36eae9",
   "metadata": {
    "execution": {
     "iopub.execute_input": "2023-06-27T00:01:22.431195Z",
     "iopub.status.busy": "2023-06-27T00:01:22.430912Z",
     "iopub.status.idle": "2023-06-27T00:01:22.434839Z",
     "shell.execute_reply": "2023-06-27T00:01:22.434373Z",
     "shell.execute_reply.started": "2023-06-27T00:01:22.431174Z"
    },
    "tags": []
   },
   "outputs": [
    {
     "data": {
      "text/plain": [
       "'/gale/raidix/rdx-3/illumina_runs/220914_A00280_0595_BHF2GFDSX5_220916161955690566631/Pool_AMB56_mm/*.gz'"
      ]
     },
     "execution_count": 27,
     "metadata": {},
     "output_type": "execute_result"
    }
   ],
   "source": [
    "fastq_pattern"
   ]
  },
  {
   "cell_type": "code",
   "execution_count": 30,
   "id": "8a86c467-8d8c-48fd-ae43-2750d755be7b",
   "metadata": {
    "execution": {
     "iopub.execute_input": "2023-06-27T00:01:57.012325Z",
     "iopub.status.busy": "2023-06-27T00:01:57.011922Z",
     "iopub.status.idle": "2023-06-27T00:01:57.015947Z",
     "shell.execute_reply": "2023-06-27T00:01:57.015513Z",
     "shell.execute_reply.started": "2023-06-27T00:01:57.012302Z"
    },
    "tags": []
   },
   "outputs": [
    {
     "data": {
      "text/plain": [
       "['/gale/raidix/rdx-3/illumina_runs/220914_A00280_0595_BHF2GFDSX5_220916161955690566631/Pool_AMB56_mm/220613-AMB-mm-na-snm3C_seq-NovaSeq-pe-150-WT-AMB_220602_9mo_3F_4E_2_P1-1-B11_S9_L001_R1_001.fastq.gz',\n",
       " '/gale/raidix/rdx-3/illumina_runs/220914_A00280_0595_BHF2GFDSX5_220916161955690566631/Pool_AMB56_mm/220613-AMB-mm-na-snm3C_seq-NovaSeq-pe-150-WT-AMB_220602_9mo_3F_4E_2_P1-1-B11_S9_L001_R2_001.fastq.gz',\n",
       " '/gale/raidix/rdx-3/illumina_runs/220914_A00280_0595_BHF2GFDSX5_220916161955690566631/Pool_AMB56_mm/220613-AMB-mm-na-snm3C_seq-NovaSeq-pe-150-WT-AMB_220602_9mo_3F_4E_2_P2-1-J11_S10_L001_R1_001.fastq.gz',\n",
       " '/gale/raidix/rdx-3/illumina_runs/220914_A00280_0595_BHF2GFDSX5_220916161955690566631/Pool_AMB56_mm/220613-AMB-mm-na-snm3C_seq-NovaSeq-pe-150-WT-AMB_220602_9mo_3F_4E_2_P2-1-J11_S10_L001_R2_001.fastq.gz',\n",
       " '/gale/raidix/rdx-3/illumina_runs/220914_A00280_0595_BHF2GFDSX5_220916161955690566631/Pool_AMB56_mm/220613-AMB-mm-na-snm3C_seq-NovaSeq-pe-150-WT-AMB_220602_9mo_3F_4E_2_P3-1-J2_S11_L001_R1_001.fastq.gz']"
      ]
     },
     "execution_count": 30,
     "metadata": {},
     "output_type": "execute_result"
    }
   ],
   "source": [
    "file_path[:5]"
   ]
  },
  {
   "cell_type": "code",
   "execution_count": 1,
   "id": "e825c16b-c37d-446b-9069-44cb09d085d2",
   "metadata": {
    "execution": {
     "iopub.execute_input": "2023-08-01T18:27:38.571067Z",
     "iopub.status.busy": "2023-08-01T18:27:38.570283Z",
     "iopub.status.idle": "2023-08-01T18:27:38.797373Z",
     "shell.execute_reply": "2023-08-01T18:27:38.796243Z",
     "shell.execute_reply.started": "2023-08-01T18:27:38.571000Z"
    }
   },
   "outputs": [],
   "source": [
    "! cp /ceph/gale-1/qzeng/Pool_AMB38_mm/AMB_220405_8wk_5E_6E_1_P6-1-I2/lanes/Snakefile ."
   ]
  },
  {
   "cell_type": "code",
   "execution_count": 2,
   "id": "63bba83b-9f16-4110-a080-6115092a69dc",
   "metadata": {
    "execution": {
     "iopub.execute_input": "2023-08-01T18:29:01.814811Z",
     "iopub.status.busy": "2023-08-01T18:29:01.814336Z",
     "iopub.status.idle": "2023-08-01T18:29:02.019733Z",
     "shell.execute_reply": "2023-08-01T18:29:02.018850Z",
     "shell.execute_reply.started": "2023-08-01T18:29:01.814773Z"
    }
   },
   "outputs": [],
   "source": [
    "! cp /ceph/gale-1/qzeng/Pool_AMB38_mm/Snakefile_demultiplex ."
   ]
  },
  {
   "cell_type": "code",
   "execution_count": null,
   "id": "9a816391-b581-4e3d-bd86-1e2878204f0f",
   "metadata": {},
   "outputs": [],
   "source": []
  },
  {
   "cell_type": "code",
   "execution_count": null,
   "id": "0a78e089-90ec-4cb5-bb2b-5c2684595bdb",
   "metadata": {},
   "outputs": [],
   "source": []
  },
  {
   "cell_type": "code",
   "execution_count": null,
   "id": "e85aa612-90ed-4b24-8449-f9cc7542286d",
   "metadata": {},
   "outputs": [],
   "source": []
  }
 ],
 "metadata": {
  "kernelspec": {
   "display_name": "Python 3 (ipykernel)",
   "language": "python",
   "name": "python3"
  },
  "language_info": {
   "codemirror_mode": {
    "name": "ipython",
    "version": 3
   },
   "file_extension": ".py",
   "mimetype": "text/x-python",
   "name": "python",
   "nbconvert_exporter": "python",
   "pygments_lexer": "ipython3",
   "version": "3.7.12"
  }
 },
 "nbformat": 4,
 "nbformat_minor": 5
}
