{
 "cells": [
  {
   "cell_type": "code",
   "execution_count": 1,
   "id": "db84aedc-80fd-4e83-b989-72ec18d94cab",
   "metadata": {
    "execution": {
     "iopub.execute_input": "2024-09-21T23:06:48.037217Z",
     "iopub.status.busy": "2024-09-21T23:06:48.036934Z",
     "iopub.status.idle": "2024-09-21T23:06:49.892213Z",
     "shell.execute_reply": "2024-09-21T23:06:49.891517Z",
     "shell.execute_reply.started": "2024-09-21T23:06:48.037195Z"
    },
    "tags": []
   },
   "outputs": [],
   "source": [
    "import re\n",
    "import os\n",
    "import glob\n",
    "import pandas as pd\n",
    "import numpy as np\n",
    "from collections import defaultdict\n",
    "import matplotlib.pyplot as plt\n",
    "import matplotlib\n",
    "import seaborn as sns\n",
    "from scipy import stats\n",
    "import seaborn as sns\n",
    "from tqdm import tqdm\n",
    "import PyComplexHeatmap as pch\n",
    "from PyComplexHeatmap import *\n",
    "plt.rcParams['figure.dpi'] = 100\n",
    "plt.rcParams['savefig.dpi']=300\n",
    "plt.rcParams['pdf.fonttype']=42"
   ]
  },
  {
   "cell_type": "code",
   "execution_count": 2,
   "id": "146d0ef7-1567-4727-86ae-a711f7077441",
   "metadata": {
    "execution": {
     "iopub.execute_input": "2024-09-21T23:06:49.894051Z",
     "iopub.status.busy": "2024-09-21T23:06:49.893640Z",
     "iopub.status.idle": "2024-09-21T23:06:49.916571Z",
     "shell.execute_reply": "2024-09-21T23:06:49.915981Z",
     "shell.execute_reply.started": "2024-09-21T23:06:49.894028Z"
    },
    "tags": []
   },
   "outputs": [],
   "source": [
    "import joblib\n",
    "mt_pelatte = joblib.load('/home/qzeng/project/aging/231117_update_annot/AgingMajorType_Palette')\n",
    "\n",
    "new_mt_palette = {}\n",
    "for mt ,_color in mt_pelatte.items():\n",
    "    mt= mt.replace('/','').replace(' ','_')\n",
    "    new_mt_palette[mt] = _color\n",
    "   "
   ]
  },
  {
   "cell_type": "code",
   "execution_count": 3,
   "id": "bf6b83eb-a1f3-4c44-9489-ee748bf96df3",
   "metadata": {
    "execution": {
     "iopub.execute_input": "2024-09-21T23:06:49.917823Z",
     "iopub.status.busy": "2024-09-21T23:06:49.917590Z",
     "iopub.status.idle": "2024-09-21T23:06:49.921359Z",
     "shell.execute_reply": "2024-09-21T23:06:49.920780Z",
     "shell.execute_reply.started": "2024-09-21T23:06:49.917803Z"
    },
    "tags": []
   },
   "outputs": [],
   "source": [
    "use_stat = 'P-value'\n"
   ]
  },
  {
   "cell_type": "code",
   "execution_count": 4,
   "id": "ad62ee9e-81d5-4f23-a6f7-2cd5cc273631",
   "metadata": {
    "execution": {
     "iopub.execute_input": "2024-09-21T23:06:49.922352Z",
     "iopub.status.busy": "2024-09-21T23:06:49.922117Z",
     "iopub.status.idle": "2024-09-21T23:06:49.931475Z",
     "shell.execute_reply": "2024-09-21T23:06:49.930918Z",
     "shell.execute_reply.started": "2024-09-21T23:06:49.922331Z"
    },
    "tags": []
   },
   "outputs": [
    {
     "data": {
      "text/plain": [
       "36"
      ]
     },
     "execution_count": 4,
     "metadata": {},
     "output_type": "execute_result"
    }
   ],
   "source": [
    "#_ct = 'OPC_NN'\n",
    "_type = 'Hyper'\n",
    "known_motifs = glob.glob(f\"re_condition_dmr/*/motif_*.{_type}//knownResults.txt\")\n",
    "len(known_motifs)"
   ]
  },
  {
   "cell_type": "code",
   "execution_count": 5,
   "id": "295b2b85-a8f9-47e1-9811-1c9e5b621941",
   "metadata": {
    "execution": {
     "iopub.execute_input": "2024-09-21T23:06:49.932879Z",
     "iopub.status.busy": "2024-09-21T23:06:49.932559Z",
     "iopub.status.idle": "2024-09-21T23:06:49.937247Z",
     "shell.execute_reply": "2024-09-21T23:06:49.936535Z",
     "shell.execute_reply.started": "2024-09-21T23:06:49.932857Z"
    },
    "tags": []
   },
   "outputs": [],
   "source": [
    "if _type == 'Hyper':\n",
    "    p_value_cutoff = 1e-10\n",
    "    min_fc = 1.1\n",
    "    min_cts = 1\n",
    "    use_motifs =3\n",
    "    figsize = (4,6)\n",
    "elif _type == 'Hypo':\n",
    "    p_value_cutoff = 1e-30\n",
    "    min_fc = 1.1\n",
    "    min_cts = 3\n",
    "    use_motifs =3\n",
    "    figsize = (6,8)"
   ]
  },
  {
   "cell_type": "code",
   "execution_count": 6,
   "id": "9d060248-35e5-487b-9d69-be537393b3a8",
   "metadata": {
    "execution": {
     "iopub.execute_input": "2024-09-21T23:06:49.939634Z",
     "iopub.status.busy": "2024-09-21T23:06:49.939259Z",
     "iopub.status.idle": "2024-09-21T23:06:50.666181Z",
     "shell.execute_reply": "2024-09-21T23:06:50.665566Z",
     "shell.execute_reply.started": "2024-09-21T23:06:49.939611Z"
    },
    "tags": []
   },
   "outputs": [],
   "source": [
    "motif_pvalue = defaultdict(dict)\n",
    "motif_fc = defaultdict(dict)\n",
    "\n",
    "for motif_result in known_motifs:\n",
    "    result_df = pd.read_csv(motif_result, sep=\"\\t\", index_col=0)\n",
    "    result_df.index = [x.split(\"/\")[0] for x in result_df.index]\n",
    "\n",
    "    cell_type =  motif_result.split('/')[-3]\n",
    "    hyp = motif_result.split(\"/\")[-2].split(\"_\")[-1]\n",
    "    \n",
    "    for motif, row in result_df.iterrows():\n",
    "        if row[use_stat] < p_value_cutoff:\n",
    "            #fc = row.iloc[4]/row.iloc[6]\n",
    "            fc = float(row.iloc[5].split('%')[0])/float(row.iloc[7].split('%')[0])\n",
    "            motif_pvalue[motif][f'{cell_type}'] = row[use_stat]\n",
    "            motif_fc[motif][f'{cell_type}'] = fc "
   ]
  },
  {
   "cell_type": "code",
   "execution_count": 7,
   "id": "3032b462-b886-46e0-ad10-dfef24977037",
   "metadata": {
    "execution": {
     "iopub.execute_input": "2024-09-21T23:06:50.667114Z",
     "iopub.status.busy": "2024-09-21T23:06:50.666901Z",
     "iopub.status.idle": "2024-09-21T23:06:50.673863Z",
     "shell.execute_reply": "2024-09-21T23:06:50.673062Z",
     "shell.execute_reply.started": "2024-09-21T23:06:50.667094Z"
    },
    "tags": []
   },
   "outputs": [],
   "source": [
    "motif_pvalue_df = pd.DataFrame.from_dict(motif_pvalue, orient='index')\n",
    "motif_fc_df = pd.DataFrame.from_dict(motif_fc, orient='index')\n",
    "motif_pvalue_df.replace(0, 1.000000e-100, inplace=True)"
   ]
  },
  {
   "cell_type": "code",
   "execution_count": 8,
   "id": "91b774cc-bd6b-4379-905a-a57fb4db5727",
   "metadata": {
    "execution": {
     "iopub.execute_input": "2024-09-21T23:06:50.674890Z",
     "iopub.status.busy": "2024-09-21T23:06:50.674680Z",
     "iopub.status.idle": "2024-09-21T23:06:50.680904Z",
     "shell.execute_reply": "2024-09-21T23:06:50.680327Z",
     "shell.execute_reply.started": "2024-09-21T23:06:50.674872Z"
    },
    "tags": []
   },
   "outputs": [],
   "source": [
    "## select use motifs and celltypes\n",
    "select_cts = motif_pvalue_df < p_value_cutoff\n",
    "select_cts = select_cts.sum(axis = 0) \n",
    "select_cts = select_cts[select_cts >= min_cts].index\n",
    "\n",
    "select_motifs = motif_pvalue_df < p_value_cutoff\n",
    "select_motifs = select_motifs.sum(axis = 1) \n",
    "select_motifs = select_motifs[select_motifs >= use_motifs].index"
   ]
  },
  {
   "cell_type": "code",
   "execution_count": 9,
   "id": "861c3bae-49b6-43ff-a9bf-21dcf15d7c6f",
   "metadata": {
    "execution": {
     "iopub.execute_input": "2024-09-21T23:06:50.681992Z",
     "iopub.status.busy": "2024-09-21T23:06:50.681786Z",
     "iopub.status.idle": "2024-09-21T23:06:50.689634Z",
     "shell.execute_reply": "2024-09-21T23:06:50.688803Z",
     "shell.execute_reply.started": "2024-09-21T23:06:50.681973Z"
    },
    "tags": []
   },
   "outputs": [],
   "source": [
    "motif_pvalue_df = motif_pvalue_df.loc[select_motifs, select_cts]\n",
    "motif_pvalue_df = -np.log10(motif_pvalue_df.sort_index(axis=1).sort_index()).fillna(0)\n",
    "motif_pvalue_df.replace([np.inf, -np.inf], 0, inplace=True)\n",
    "motif_pvalue_df  =motif_pvalue_df.fillna(0)\n",
    "\n",
    "motif_fc_df = motif_fc_df.fillna(0)\n",
    "motif_fc_df = motif_fc_df.loc[select_motifs, select_cts]\n",
    "\n",
    "# if _type == 'Hypo':\n",
    "#     motif_fc_df.drop(columns = ['Microglia_NN'], inplace = True)\n",
    "#     motif_pvalue_df.drop(columns = ['Microglia_NN'], inplace = True)\n",
    "# elif _type == 'Hyper':\n",
    "#     motif_fc_df.drop(columns = ['Pvalb_Gaba'], inplace = True)\n",
    "#     motif_pvalue_df.drop(columns = ['Pvalb_Gaba'], inplace = True)"
   ]
  },
  {
   "cell_type": "code",
   "execution_count": 10,
   "id": "430b3445-946b-467a-a62a-5b9efc12fd83",
   "metadata": {
    "execution": {
     "iopub.execute_input": "2024-09-21T23:06:50.690611Z",
     "iopub.status.busy": "2024-09-21T23:06:50.690384Z",
     "iopub.status.idle": "2024-09-21T23:06:50.695385Z",
     "shell.execute_reply": "2024-09-21T23:06:50.694618Z",
     "shell.execute_reply.started": "2024-09-21T23:06:50.690591Z"
    },
    "tags": []
   },
   "outputs": [],
   "source": [
    "motif_fc_df.index = [_index.split('(')[0] for _index in motif_fc_df.index]\n",
    "#motif_fc_df.columns = [' '.join(_column.split('_')[:-1]) for _column in motif_fc_df.columns]\n",
    "\n",
    "motif_pvalue_df.index = [_index.split('(')[0] for _index in motif_pvalue_df.index]\n",
    "#motif_pvalue_df.columns = [' '.join(_column.split('_')[:-1]) for _column in motif_pvalue_df.columns]"
   ]
  },
  {
   "cell_type": "code",
   "execution_count": 11,
   "id": "ef62c024-33f4-4299-8775-a5f2de84e50a",
   "metadata": {
    "execution": {
     "iopub.execute_input": "2024-09-21T23:06:50.696256Z",
     "iopub.status.busy": "2024-09-21T23:06:50.696049Z",
     "iopub.status.idle": "2024-09-21T23:06:50.705156Z",
     "shell.execute_reply": "2024-09-21T23:06:50.704678Z",
     "shell.execute_reply.started": "2024-09-21T23:06:50.696238Z"
    },
    "tags": []
   },
   "outputs": [
    {
     "data": {
      "text/html": [
       "<div>\n",
       "<style scoped>\n",
       "    .dataframe tbody tr th:only-of-type {\n",
       "        vertical-align: middle;\n",
       "    }\n",
       "\n",
       "    .dataframe tbody tr th {\n",
       "        vertical-align: top;\n",
       "    }\n",
       "\n",
       "    .dataframe thead th {\n",
       "        text-align: right;\n",
       "    }\n",
       "</style>\n",
       "<table border=\"1\" class=\"dataframe\">\n",
       "  <thead>\n",
       "    <tr style=\"text-align: right;\">\n",
       "      <th></th>\n",
       "      <th>CellType</th>\n",
       "    </tr>\n",
       "  </thead>\n",
       "  <tbody>\n",
       "    <tr>\n",
       "      <th>OPC_NN</th>\n",
       "      <td>OPC_NN</td>\n",
       "    </tr>\n",
       "    <tr>\n",
       "      <th>Astro-NT_NN</th>\n",
       "      <td>Astro-NT_NN</td>\n",
       "    </tr>\n",
       "    <tr>\n",
       "      <th>Oligo_NN</th>\n",
       "      <td>Oligo_NN</td>\n",
       "    </tr>\n",
       "    <tr>\n",
       "      <th>Astro-TE_NN</th>\n",
       "      <td>Astro-TE_NN</td>\n",
       "    </tr>\n",
       "    <tr>\n",
       "      <th>Pvalb_Gaba</th>\n",
       "      <td>Pvalb_Gaba</td>\n",
       "    </tr>\n",
       "  </tbody>\n",
       "</table>\n",
       "</div>"
      ],
      "text/plain": [
       "                CellType\n",
       "OPC_NN            OPC_NN\n",
       "Astro-NT_NN  Astro-NT_NN\n",
       "Oligo_NN        Oligo_NN\n",
       "Astro-TE_NN  Astro-TE_NN\n",
       "Pvalb_Gaba    Pvalb_Gaba"
      ]
     },
     "execution_count": 11,
     "metadata": {},
     "output_type": "execute_result"
    }
   ],
   "source": [
    "col_annot = pd.DataFrame(motif_fc_df.columns, columns=['CellType'], index = motif_fc_df.columns)\n",
    "col_annot.head()"
   ]
  },
  {
   "cell_type": "code",
   "execution_count": 12,
   "id": "ff0e4553-e688-4eb3-bf45-0cb7a3412667",
   "metadata": {
    "execution": {
     "iopub.execute_input": "2024-09-21T23:06:50.706039Z",
     "iopub.status.busy": "2024-09-21T23:06:50.705834Z",
     "iopub.status.idle": "2024-09-21T23:06:50.712341Z",
     "shell.execute_reply": "2024-09-21T23:06:50.711865Z",
     "shell.execute_reply.started": "2024-09-21T23:06:50.706020Z"
    },
    "tags": []
   },
   "outputs": [
    {
     "data": {
      "text/html": [
       "<div>\n",
       "<style scoped>\n",
       "    .dataframe tbody tr th:only-of-type {\n",
       "        vertical-align: middle;\n",
       "    }\n",
       "\n",
       "    .dataframe tbody tr th {\n",
       "        vertical-align: top;\n",
       "    }\n",
       "\n",
       "    .dataframe thead th {\n",
       "        text-align: right;\n",
       "    }\n",
       "</style>\n",
       "<table border=\"1\" class=\"dataframe\">\n",
       "  <thead>\n",
       "    <tr style=\"text-align: right;\">\n",
       "      <th></th>\n",
       "      <th>Motif</th>\n",
       "    </tr>\n",
       "  </thead>\n",
       "  <tbody>\n",
       "    <tr>\n",
       "      <th>Lhx2</th>\n",
       "      <td>Lhx2</td>\n",
       "    </tr>\n",
       "    <tr>\n",
       "      <th>Lhx1</th>\n",
       "      <td>Lhx1</td>\n",
       "    </tr>\n",
       "    <tr>\n",
       "      <th>LHX9</th>\n",
       "      <td>LHX9</td>\n",
       "    </tr>\n",
       "    <tr>\n",
       "      <th>En1</th>\n",
       "      <td>En1</td>\n",
       "    </tr>\n",
       "    <tr>\n",
       "      <th>DLX2</th>\n",
       "      <td>DLX2</td>\n",
       "    </tr>\n",
       "  </tbody>\n",
       "</table>\n",
       "</div>"
      ],
      "text/plain": [
       "     Motif\n",
       "Lhx2  Lhx2\n",
       "Lhx1  Lhx1\n",
       "LHX9  LHX9\n",
       "En1    En1\n",
       "DLX2  DLX2"
      ]
     },
     "execution_count": 12,
     "metadata": {},
     "output_type": "execute_result"
    }
   ],
   "source": [
    "row_annot = pd.DataFrame(motif_fc_df.index, columns=['Motif'], index = motif_fc_df.index)\n",
    "row_annot.head()"
   ]
  },
  {
   "cell_type": "code",
   "execution_count": 13,
   "id": "4dd534cf-ad92-4cd8-a282-6c790d1103ad",
   "metadata": {
    "execution": {
     "iopub.execute_input": "2024-09-21T23:06:50.713519Z",
     "iopub.status.busy": "2024-09-21T23:06:50.713235Z",
     "iopub.status.idle": "2024-09-21T23:06:50.720796Z",
     "shell.execute_reply": "2024-09-21T23:06:50.719951Z",
     "shell.execute_reply.started": "2024-09-21T23:06:50.713500Z"
    },
    "tags": []
   },
   "outputs": [],
   "source": [
    "def apply_custom_function(x):\n",
    "    log_1e_100 = -np.log10(1e-100)\n",
    "    log_1e_30 = -np.log10(1e-30)\n",
    "    log_1e_5 = -np.log10(1e-5)\n",
    "    \n",
    "    if x >= log_1e_100:\n",
    "        return '***'\n",
    "    elif log_1e_100 > x >= log_1e_30:\n",
    "        return '**'\n",
    "    elif log_1e_30 > x >= log_1e_5:\n",
    "        return '*'\n",
    "    else:\n",
    "        return ''\n",
    "\n",
    "annot = motif_pvalue_df.applymap(apply_custom_function)"
   ]
  },
  {
   "cell_type": "code",
   "execution_count": 14,
   "id": "af6c583c-c914-4714-8978-70165caa5139",
   "metadata": {
    "execution": {
     "iopub.execute_input": "2024-09-21T23:06:50.721806Z",
     "iopub.status.busy": "2024-09-21T23:06:50.721601Z",
     "iopub.status.idle": "2024-09-21T23:06:50.724508Z",
     "shell.execute_reply": "2024-09-21T23:06:50.723943Z",
     "shell.execute_reply.started": "2024-09-21T23:06:50.721788Z"
    },
    "tags": []
   },
   "outputs": [],
   "source": [
    "#z_scores_motif_fc_df = stats.zscore(motif_fc_df, axis = 0)\n",
    "\n",
    "#log_df.fillna(0, inplace=True)\n",
    "#log_df[log_df < 0] = 0"
   ]
  },
  {
   "cell_type": "code",
   "execution_count": 15,
   "id": "0d839fa3-840c-4dd8-a71a-3d7adf98926d",
   "metadata": {
    "execution": {
     "iopub.execute_input": "2024-09-21T23:06:50.725458Z",
     "iopub.status.busy": "2024-09-21T23:06:50.725247Z",
     "iopub.status.idle": "2024-09-21T23:06:50.728925Z",
     "shell.execute_reply": "2024-09-21T23:06:50.728355Z",
     "shell.execute_reply.started": "2024-09-21T23:06:50.725440Z"
    },
    "tags": []
   },
   "outputs": [],
   "source": [
    "log_df = np.log2(motif_fc_df + 1e-5)"
   ]
  },
  {
   "cell_type": "code",
   "execution_count": 16,
   "id": "df756f76-5aa2-4296-993c-814d9705abc4",
   "metadata": {
    "execution": {
     "iopub.execute_input": "2024-09-21T23:06:50.729772Z",
     "iopub.status.busy": "2024-09-21T23:06:50.729570Z",
     "iopub.status.idle": "2024-09-21T23:06:50.737145Z",
     "shell.execute_reply": "2024-09-21T23:06:50.736469Z",
     "shell.execute_reply.started": "2024-09-21T23:06:50.729753Z"
    },
    "tags": []
   },
   "outputs": [],
   "source": [
    "col_ha = pch.HeatmapAnnotation(label=pch.anno_label(col_annot.CellType, colors = 'black'),\n",
    "                            MajorType=pch.anno_simple(col_annot.CellType,add_text=False,legend=False, colors = new_mt_palette, height = 3), axis=1,\n",
    "                            legend=False,legend_gap=5,hgap=0.5, )\n",
    "\n",
    "row_ha = pch.HeatmapAnnotation(label=pch.anno_label(row_annot.Motif, merge=True,rotation=0, colors = 'black' ),\n",
    "                            #Motif=pch.anno_simple(row_annot.Motif,add_text=False,legend=False,height = 6), \n",
    "                               axis=0,\n",
    "                           legend=False,legend_gap=5,hgap=0.5, label_kws=dict(visible=False))"
   ]
  },
  {
   "cell_type": "code",
   "execution_count": 19,
   "id": "e0521bcc-301d-4404-a45b-d58811726bae",
   "metadata": {
    "execution": {
     "iopub.execute_input": "2024-09-21T23:07:04.077007Z",
     "iopub.status.busy": "2024-09-21T23:07:04.076172Z",
     "iopub.status.idle": "2024-09-21T23:07:06.662926Z",
     "shell.execute_reply": "2024-09-21T23:07:06.662150Z",
     "shell.execute_reply.started": "2024-09-21T23:07:04.076948Z"
    },
    "tags": []
   },
   "outputs": [
    {
     "name": "stdout",
     "output_type": "stream",
     "text": [
      "Starting plotting HeatmapAnnotations\n",
      "Starting plotting HeatmapAnnotations\n",
      "Collecting annotation legends..\n",
      "Collecting annotation legends..\n"
     ]
    },
    {
     "data": {
      "image/png": "[encoded data removed]",
      "text/plain": [
       "<Figure size 288x432 with 12 Axes>"
      ]
     },
     "metadata": {
      "needs_background": "light"
     },
     "output_type": "display_data"
    }
   ],
   "source": [
    "figsize = figsize\n",
    "plt.figure(figsize=figsize)\n",
    "top_annotation=col_ha,\n",
    "cm = ClusterMapPlotter(\n",
    "        data=log_df, \n",
    "        fmt=None,\n",
    "        top_annotation=col_ha,\n",
    "        left_annotation=row_ha,\n",
    "        #show_rownames=True,\n",
    "        annot=annot,annot_kws={'color':'black', 'size':6},\n",
    "        #vmin = 0, vmax = 1.5,\n",
    "        vmin = 0, vmax = 1,\n",
    "        col_cluster=True,row_cluster=True,\n",
    "        label = 'Log2FoldChange',z_score = None,\n",
    "        tree_kws={'col_cmap': 'Set1'},verbose=0,legend_gap=7,\n",
    "        linewidths=0.05,linecolor='white',cmap='RdYlBu_r',rasterized=True,\n",
    "        xticklabels_kws={'labelrotation':0,'labelcolor':'blue'})\n",
    "plt.savefig(f\"figure/morecomplex.{_type}.logfc.PycomplexClustertmap.pdf\", bbox_inches='tight')\n",
    "plt.show()"
   ]
  },
  {
   "cell_type": "code",
   "execution_count": 18,
   "id": "32bc7a1e-0e27-4fb5-b29b-c17b286c0c69",
   "metadata": {
    "execution": {
     "iopub.execute_input": "2024-09-21T23:06:53.256279Z",
     "iopub.status.busy": "2024-09-21T23:06:53.256058Z",
     "iopub.status.idle": "2024-09-21T23:06:53.259221Z",
     "shell.execute_reply": "2024-09-21T23:06:53.258658Z",
     "shell.execute_reply.started": "2024-09-21T23:06:53.256259Z"
    },
    "tags": []
   },
   "outputs": [],
   "source": [
    "# import PyComplexHeatmap as pch\n",
    "# print(pch.__version__)"
   ]
  },
  {
   "cell_type": "code",
   "execution_count": null,
   "id": "e93a804e-98ab-4969-bb85-62f2f486e230",
   "metadata": {},
   "outputs": [],
   "source": []
  },
  {
   "cell_type": "code",
   "execution_count": null,
   "id": "8e35ce67-83fa-4754-9d4a-e2db8f4b0352",
   "metadata": {},
   "outputs": [],
   "source": []
  },
  {
   "cell_type": "code",
   "execution_count": null,
   "id": "fdc2282f-a663-4672-8f3d-8704831974d8",
   "metadata": {},
   "outputs": [],
   "source": []
  },
  {
   "cell_type": "code",
   "execution_count": null,
   "id": "3fa1b482-2d30-4612-aff2-6a80b10de07a",
   "metadata": {},
   "outputs": [],
   "source": []
  },
  {
   "cell_type": "code",
   "execution_count": null,
   "id": "cff31a20-f027-4308-8be9-ccb9c31d34a5",
   "metadata": {},
   "outputs": [],
   "source": []
  },
  {
   "cell_type": "code",
   "execution_count": null,
   "id": "1f4159a0-108e-4b08-a830-3bb5351838c4",
   "metadata": {},
   "outputs": [],
   "source": []
  },
  {
   "cell_type": "code",
   "execution_count": null,
   "id": "47eba3cc-47a0-4de4-bb8d-8a9b6cc81150",
   "metadata": {},
   "outputs": [],
   "source": []
  },
  {
   "cell_type": "code",
   "execution_count": null,
   "id": "1fd556ca-432c-497f-9170-70121750c4ee",
   "metadata": {},
   "outputs": [],
   "source": []
  },
  {
   "cell_type": "code",
   "execution_count": null,
   "id": "ac546e76-5422-43cd-87c6-7dd364bbe488",
   "metadata": {},
   "outputs": [],
   "source": []
  },
  {
   "cell_type": "code",
   "execution_count": null,
   "id": "99556b38-8f61-4179-aadb-683745ae88e1",
   "metadata": {},
   "outputs": [],
   "source": []
  },
  {
   "cell_type": "code",
   "execution_count": null,
   "id": "5f429260-3ece-4555-a49c-98f1499c75fb",
   "metadata": {},
   "outputs": [],
   "source": []
  },
  {
   "cell_type": "code",
   "execution_count": null,
   "id": "06b3bf21-56f9-430e-802d-938a9655ba63",
   "metadata": {},
   "outputs": [],
   "source": []
  },
  {
   "cell_type": "code",
   "execution_count": null,
   "id": "69714309-c137-4c2e-bbee-3debe910bc27",
   "metadata": {},
   "outputs": [],
   "source": []
  },
  {
   "cell_type": "code",
   "execution_count": null,
   "id": "58169406-d793-4657-be10-8cfad62a414c",
   "metadata": {},
   "outputs": [],
   "source": []
  },
  {
   "cell_type": "code",
   "execution_count": null,
   "id": "7375a2a0-ba40-42d9-bc46-21cd7d63a46c",
   "metadata": {},
   "outputs": [],
   "source": []
  },
  {
   "cell_type": "code",
   "execution_count": null,
   "id": "1bbed2bf-f14a-48ec-a4f8-1d08e6c4191e",
   "metadata": {},
   "outputs": [],
   "source": []
  }
 ],
 "metadata": {
  "kernelspec": {
   "display_name": "Python 3 (ipykernel)",
   "language": "python",
   "name": "python3"
  },
  "language_info": {
   "codemirror_mode": {
    "name": "ipython",
    "version": 3
   },
   "file_extension": ".py",
   "mimetype": "text/x-python",
   "name": "python",
   "nbconvert_exporter": "python",
   "pygments_lexer": "ipython3",
   "version": "3.7.12"
  }
 },
 "nbformat": 4,
 "nbformat_minor": 5
}
