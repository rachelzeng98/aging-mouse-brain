{
 "cells": [
  {
   "cell_type": "code",
   "execution_count": 1,
   "id": "7d7f985f-c97d-42b4-bad8-fca264616ef9",
   "metadata": {
    "execution": {
     "iopub.execute_input": "2025-02-06T21:30:31.866702Z",
     "iopub.status.busy": "2025-02-06T21:30:31.866092Z",
     "iopub.status.idle": "2025-02-06T21:30:33.228322Z",
     "shell.execute_reply": "2025-02-06T21:30:33.227607Z",
     "shell.execute_reply.started": "2025-02-06T21:30:31.866642Z"
    },
    "tags": []
   },
   "outputs": [],
   "source": [
    "import pandas as pd\n",
    "import matplotlib.pyplot as plt\n",
    "import seaborn as sns\n",
    "import joblib\n",
    "import numpy as np\n",
    "from scipy import stats\n",
    "\n",
    "plt.rcParams['figure.dpi'] = 100\n",
    "plt.rcParams['savefig.dpi']=300\n",
    "plt.rcParams['pdf.fonttype']=42"
   ]
  },
  {
   "cell_type": "code",
   "execution_count": 2,
   "id": "ac18fda0-428a-458f-9ce8-5e4f3a4198e7",
   "metadata": {
    "execution": {
     "iopub.execute_input": "2025-02-06T21:30:33.229993Z",
     "iopub.status.busy": "2025-02-06T21:30:33.229666Z",
     "iopub.status.idle": "2025-02-06T21:30:33.233862Z",
     "shell.execute_reply": "2025-02-06T21:30:33.233330Z",
     "shell.execute_reply.started": "2025-02-06T21:30:33.229969Z"
    },
    "tags": []
   },
   "outputs": [],
   "source": [
    "ct = 'OPC_NN'\n",
    "_dir = '/home/qzeng/project/aging/240518_redo_aDMG'"
   ]
  },
  {
   "cell_type": "code",
   "execution_count": 3,
   "id": "688f4db8-eb6f-498f-b6dc-6eb7be927ea7",
   "metadata": {
    "execution": {
     "iopub.execute_input": "2025-02-06T21:30:33.234772Z",
     "iopub.status.busy": "2025-02-06T21:30:33.234569Z",
     "iopub.status.idle": "2025-02-06T21:30:33.262145Z",
     "shell.execute_reply": "2025-02-06T21:30:33.261618Z",
     "shell.execute_reply.started": "2025-02-06T21:30:33.234752Z"
    },
    "tags": []
   },
   "outputs": [
    {
     "data": {
      "text/html": [
       "<div>\n",
       "<style scoped>\n",
       "    .dataframe tbody tr th:only-of-type {\n",
       "        vertical-align: middle;\n",
       "    }\n",
       "\n",
       "    .dataframe tbody tr th {\n",
       "        vertical-align: top;\n",
       "    }\n",
       "\n",
       "    .dataframe thead th {\n",
       "        text-align: right;\n",
       "    }\n",
       "</style>\n",
       "<table border=\"1\" class=\"dataframe\">\n",
       "  <thead>\n",
       "    <tr style=\"text-align: right;\">\n",
       "      <th></th>\n",
       "      <th>p_val</th>\n",
       "      <th>avg_log2FC</th>\n",
       "      <th>pct.1</th>\n",
       "      <th>pct.2</th>\n",
       "      <th>p_val_adj</th>\n",
       "      <th>log2(Aged/Young)</th>\n",
       "    </tr>\n",
       "  </thead>\n",
       "  <tbody>\n",
       "    <tr>\n",
       "      <th>Nr6a1</th>\n",
       "      <td>5.488689e-155</td>\n",
       "      <td>-1.752197</td>\n",
       "      <td>0.129</td>\n",
       "      <td>0.391</td>\n",
       "      <td>1.425632e-150</td>\n",
       "      <td>1.752197</td>\n",
       "    </tr>\n",
       "    <tr>\n",
       "      <th>Ralyl</th>\n",
       "      <td>8.777789e-87</td>\n",
       "      <td>-0.515447</td>\n",
       "      <td>0.923</td>\n",
       "      <td>0.968</td>\n",
       "      <td>2.279943e-82</td>\n",
       "      <td>0.515447</td>\n",
       "    </tr>\n",
       "    <tr>\n",
       "      <th>C130073E24Rik</th>\n",
       "      <td>5.398731e-63</td>\n",
       "      <td>-1.099691</td>\n",
       "      <td>0.160</td>\n",
       "      <td>0.327</td>\n",
       "      <td>1.402267e-58</td>\n",
       "      <td>1.099691</td>\n",
       "    </tr>\n",
       "    <tr>\n",
       "      <th>Gpc5</th>\n",
       "      <td>7.883704e-60</td>\n",
       "      <td>-0.368078</td>\n",
       "      <td>0.944</td>\n",
       "      <td>0.977</td>\n",
       "      <td>2.047713e-55</td>\n",
       "      <td>0.368078</td>\n",
       "    </tr>\n",
       "    <tr>\n",
       "      <th>Skap2</th>\n",
       "      <td>7.243625e-50</td>\n",
       "      <td>-2.407051</td>\n",
       "      <td>0.017</td>\n",
       "      <td>0.089</td>\n",
       "      <td>1.881459e-45</td>\n",
       "      <td>2.407051</td>\n",
       "    </tr>\n",
       "  </tbody>\n",
       "</table>\n",
       "</div>"
      ],
      "text/plain": [
       "                       p_val  avg_log2FC  pct.1  pct.2      p_val_adj  \\\n",
       "Nr6a1          5.488689e-155   -1.752197  0.129  0.391  1.425632e-150   \n",
       "Ralyl           8.777789e-87   -0.515447  0.923  0.968   2.279943e-82   \n",
       "C130073E24Rik   5.398731e-63   -1.099691  0.160  0.327   1.402267e-58   \n",
       "Gpc5            7.883704e-60   -0.368078  0.944  0.977   2.047713e-55   \n",
       "Skap2           7.243625e-50   -2.407051  0.017  0.089   1.881459e-45   \n",
       "\n",
       "               log2(Aged/Young)  \n",
       "Nr6a1                  1.752197  \n",
       "Ralyl                  0.515447  \n",
       "C130073E24Rik          1.099691  \n",
       "Gpc5                   0.368078  \n",
       "Skap2                  2.407051  "
      ]
     },
     "execution_count": 3,
     "metadata": {},
     "output_type": "execute_result"
    }
   ],
   "source": [
    "rna_df = pd.read_csv(f\"{_dir}/DEGs/{ct}.csv\", index_col = 0)\n",
    "rna_df['log2(Aged/Young)'] = -rna_df['avg_log2FC']\n",
    "rna_df.head()"
   ]
  },
  {
   "cell_type": "code",
   "execution_count": 4,
   "id": "54f5d1b2-cd43-4343-9e60-9d6e5d49238f",
   "metadata": {
    "execution": {
     "iopub.execute_input": "2025-02-06T21:30:33.263113Z",
     "iopub.status.busy": "2025-02-06T21:30:33.262882Z",
     "iopub.status.idle": "2025-02-06T21:30:33.269369Z",
     "shell.execute_reply": "2025-02-06T21:30:33.268888Z",
     "shell.execute_reply.started": "2025-02-06T21:30:33.263090Z"
    },
    "tags": []
   },
   "outputs": [
    {
     "data": {
      "text/plain": [
       "['Sox5', 'Sox2ot', 'Sox11', 'Sox8', 'Sox2', 'Sox10', 'Sox4']"
      ]
     },
     "execution_count": 4,
     "metadata": {},
     "output_type": "execute_result"
    }
   ],
   "source": [
    "sox_genes = []\n",
    "for _gene in rna_df.index:\n",
    "    if _gene.startswith('Sox'):\n",
    "        sox_genes.append(_gene)\n",
    "sox_genes"
   ]
  },
  {
   "cell_type": "code",
   "execution_count": 5,
   "id": "37b4bc3e-aaa6-43c3-8d6a-745d355b38e2",
   "metadata": {
    "execution": {
     "iopub.execute_input": "2025-02-06T21:30:33.270857Z",
     "iopub.status.busy": "2025-02-06T21:30:33.270652Z",
     "iopub.status.idle": "2025-02-06T21:30:33.282847Z",
     "shell.execute_reply": "2025-02-06T21:30:33.282290Z",
     "shell.execute_reply.started": "2025-02-06T21:30:33.270836Z"
    },
    "tags": []
   },
   "outputs": [
    {
     "data": {
      "text/html": [
       "<div>\n",
       "<style scoped>\n",
       "    .dataframe tbody tr th:only-of-type {\n",
       "        vertical-align: middle;\n",
       "    }\n",
       "\n",
       "    .dataframe tbody tr th {\n",
       "        vertical-align: top;\n",
       "    }\n",
       "\n",
       "    .dataframe thead th {\n",
       "        text-align: right;\n",
       "    }\n",
       "</style>\n",
       "<table border=\"1\" class=\"dataframe\">\n",
       "  <thead>\n",
       "    <tr style=\"text-align: right;\">\n",
       "      <th></th>\n",
       "      <th>p_val</th>\n",
       "      <th>avg_log2FC</th>\n",
       "      <th>pct.1</th>\n",
       "      <th>pct.2</th>\n",
       "      <th>p_val_adj</th>\n",
       "      <th>log2(Aged/Young)</th>\n",
       "    </tr>\n",
       "  </thead>\n",
       "  <tbody>\n",
       "    <tr>\n",
       "      <th>Sox5</th>\n",
       "      <td>2.377277e-09</td>\n",
       "      <td>-0.155753</td>\n",
       "      <td>0.782</td>\n",
       "      <td>0.822</td>\n",
       "      <td>0.000062</td>\n",
       "      <td>0.155753</td>\n",
       "    </tr>\n",
       "    <tr>\n",
       "      <th>Sox2ot</th>\n",
       "      <td>5.124044e-09</td>\n",
       "      <td>-0.117685</td>\n",
       "      <td>0.903</td>\n",
       "      <td>0.933</td>\n",
       "      <td>0.000133</td>\n",
       "      <td>0.117685</td>\n",
       "    </tr>\n",
       "    <tr>\n",
       "      <th>Sox11</th>\n",
       "      <td>4.832284e-03</td>\n",
       "      <td>0.513095</td>\n",
       "      <td>0.060</td>\n",
       "      <td>0.044</td>\n",
       "      <td>1.000000</td>\n",
       "      <td>-0.513095</td>\n",
       "    </tr>\n",
       "    <tr>\n",
       "      <th>Sox8</th>\n",
       "      <td>5.810267e-03</td>\n",
       "      <td>0.252876</td>\n",
       "      <td>0.171</td>\n",
       "      <td>0.152</td>\n",
       "      <td>1.000000</td>\n",
       "      <td>-0.252876</td>\n",
       "    </tr>\n",
       "    <tr>\n",
       "      <th>Sox2</th>\n",
       "      <td>2.103639e-02</td>\n",
       "      <td>-0.234075</td>\n",
       "      <td>0.091</td>\n",
       "      <td>0.110</td>\n",
       "      <td>1.000000</td>\n",
       "      <td>0.234075</td>\n",
       "    </tr>\n",
       "    <tr>\n",
       "      <th>Sox10</th>\n",
       "      <td>3.832149e-02</td>\n",
       "      <td>0.107628</td>\n",
       "      <td>0.342</td>\n",
       "      <td>0.320</td>\n",
       "      <td>1.000000</td>\n",
       "      <td>-0.107628</td>\n",
       "    </tr>\n",
       "    <tr>\n",
       "      <th>Sox4</th>\n",
       "      <td>5.613311e-01</td>\n",
       "      <td>0.119700</td>\n",
       "      <td>0.091</td>\n",
       "      <td>0.083</td>\n",
       "      <td>1.000000</td>\n",
       "      <td>-0.119700</td>\n",
       "    </tr>\n",
       "  </tbody>\n",
       "</table>\n",
       "</div>"
      ],
      "text/plain": [
       "               p_val  avg_log2FC  pct.1  pct.2  p_val_adj  log2(Aged/Young)\n",
       "Sox5    2.377277e-09   -0.155753  0.782  0.822   0.000062          0.155753\n",
       "Sox2ot  5.124044e-09   -0.117685  0.903  0.933   0.000133          0.117685\n",
       "Sox11   4.832284e-03    0.513095  0.060  0.044   1.000000         -0.513095\n",
       "Sox8    5.810267e-03    0.252876  0.171  0.152   1.000000         -0.252876\n",
       "Sox2    2.103639e-02   -0.234075  0.091  0.110   1.000000          0.234075\n",
       "Sox10   3.832149e-02    0.107628  0.342  0.320   1.000000         -0.107628\n",
       "Sox4    5.613311e-01    0.119700  0.091  0.083   1.000000         -0.119700"
      ]
     },
     "execution_count": 5,
     "metadata": {},
     "output_type": "execute_result"
    }
   ],
   "source": [
    "rna_df.loc[sox_genes]"
   ]
  },
  {
   "cell_type": "code",
   "execution_count": null,
   "id": "bfb6014f-4b96-4139-acab-197080cd62b9",
   "metadata": {},
   "outputs": [],
   "source": []
  },
  {
   "cell_type": "code",
   "execution_count": null,
   "id": "44049793-8bb6-4141-a37b-20fd9a5e2737",
   "metadata": {},
   "outputs": [],
   "source": []
  },
  {
   "cell_type": "code",
   "execution_count": null,
   "id": "fb04c388-e702-4e48-88ff-846e52379aa7",
   "metadata": {},
   "outputs": [],
   "source": []
  },
  {
   "cell_type": "code",
   "execution_count": null,
   "id": "bf73e0ff-ecc0-4d64-bf2a-b1efdfc2c1d7",
   "metadata": {},
   "outputs": [],
   "source": []
  },
  {
   "cell_type": "code",
   "execution_count": null,
   "id": "991d0ec8-ade6-4945-9db4-2af4f830910e",
   "metadata": {},
   "outputs": [],
   "source": []
  },
  {
   "cell_type": "code",
   "execution_count": null,
   "id": "e8b6c6e1-fbab-4ee6-b552-c8decf7f46d9",
   "metadata": {},
   "outputs": [],
   "source": []
  },
  {
   "cell_type": "code",
   "execution_count": null,
   "id": "f5668060-d9d2-46fd-a7b4-4be1834c8a8e",
   "metadata": {},
   "outputs": [],
   "source": []
  },
  {
   "cell_type": "code",
   "execution_count": null,
   "id": "315be60d-8e95-4fb0-a6e8-7e295e22b695",
   "metadata": {},
   "outputs": [],
   "source": []
  },
  {
   "cell_type": "code",
   "execution_count": null,
   "id": "8efd12c4-2a66-4e70-ac14-2a0f79f22b64",
   "metadata": {},
   "outputs": [],
   "source": []
  },
  {
   "cell_type": "code",
   "execution_count": null,
   "id": "2db6ce9f-d205-4e86-971b-adc69476a346",
   "metadata": {},
   "outputs": [],
   "source": []
  },
  {
   "cell_type": "code",
   "execution_count": null,
   "id": "becc15b8-fd2c-466d-b2b8-1a9390418763",
   "metadata": {},
   "outputs": [],
   "source": []
  }
 ],
 "metadata": {
  "kernelspec": {
   "display_name": "Python 3 (ipykernel)",
   "language": "python",
   "name": "python3"
  },
  "language_info": {
   "codemirror_mode": {
    "name": "ipython",
    "version": 3
   },
   "file_extension": ".py",
   "mimetype": "text/x-python",
   "name": "python",
   "nbconvert_exporter": "python",
   "pygments_lexer": "ipython3",
   "version": "3.7.12"
  }
 },
 "nbformat": 4,
 "nbformat_minor": 5
}
