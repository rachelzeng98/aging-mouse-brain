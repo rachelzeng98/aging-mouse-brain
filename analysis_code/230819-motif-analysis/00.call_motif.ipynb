{
 "cells": [
  {
   "cell_type": "code",
   "execution_count": 1,
   "id": "67e89c49-7839-42cf-a713-0b0fb4fe3bdc",
   "metadata": {
    "execution": {
     "iopub.execute_input": "2024-01-29T23:24:28.122830Z",
     "iopub.status.busy": "2024-01-29T23:24:28.122400Z",
     "iopub.status.idle": "2024-01-29T23:24:29.839871Z",
     "shell.execute_reply": "2024-01-29T23:24:29.839350Z",
     "shell.execute_reply.started": "2024-01-29T23:24:28.122810Z"
    },
    "tags": []
   },
   "outputs": [],
   "source": [
    "import joblib\n",
    "import pathlib\n",
    "import os\n",
    "import re"
   ]
  },
  {
   "cell_type": "code",
   "execution_count": 2,
   "id": "e9ea7a5e-1b19-412b-bc36-1960e9bcd841",
   "metadata": {
    "execution": {
     "iopub.execute_input": "2024-01-29T23:24:29.840938Z",
     "iopub.status.busy": "2024-01-29T23:24:29.840588Z",
     "iopub.status.idle": "2024-01-29T23:24:29.843702Z",
     "shell.execute_reply": "2024-01-29T23:24:29.843269Z",
     "shell.execute_reply.started": "2024-01-29T23:24:29.840917Z"
    },
    "tags": []
   },
   "outputs": [],
   "source": [
    "meta_dir = '/home/qzeng/project/aging/metadata'\n",
    "dmr_dir = '/home/qzeng/project/aging/230907-recall-dmr/Merge_DMR/mC_FILTER_DMR_BED'"
   ]
  },
  {
   "cell_type": "code",
   "execution_count": 3,
   "id": "bfa033d7-4a89-4930-b7f4-eb0215b2ba5e",
   "metadata": {
    "execution": {
     "iopub.execute_input": "2024-01-29T23:24:29.844712Z",
     "iopub.status.busy": "2024-01-29T23:24:29.844345Z",
     "iopub.status.idle": "2024-01-29T23:24:33.232531Z",
     "shell.execute_reply": "2024-01-29T23:24:33.232078Z",
     "shell.execute_reply.started": "2024-01-29T23:24:29.844692Z"
    },
    "tags": []
   },
   "outputs": [
    {
     "data": {
      "text/plain": [
       "36"
      ]
     },
     "execution_count": 3,
     "metadata": {},
     "output_type": "execute_result"
    }
   ],
   "source": [
    "use_mc_cts = joblib.load(f'{meta_dir}/mc_use_cts')\n",
    "use_m3c_cts = joblib.load(f'{meta_dir}/m3c_use_cts')\n",
    "shared_cts = list(set(use_mc_cts) & set(use_m3c_cts)) \n",
    "len(shared_cts)"
   ]
  },
  {
   "cell_type": "code",
   "execution_count": 4,
   "id": "276c0427-df89-45df-a371-a1170968bc26",
   "metadata": {
    "execution": {
     "iopub.execute_input": "2024-01-29T23:24:33.233911Z",
     "iopub.status.busy": "2024-01-29T23:24:33.233236Z",
     "iopub.status.idle": "2024-01-29T23:24:33.236930Z",
     "shell.execute_reply": "2024-01-29T23:24:33.236400Z",
     "shell.execute_reply.started": "2024-01-29T23:24:33.233888Z"
    },
    "tags": []
   },
   "outputs": [],
   "source": [
    "shared_cts = [_ct.replace('/','').replace(' ','_') for _ct in shared_cts]"
   ]
  },
  {
   "cell_type": "code",
   "execution_count": 5,
   "id": "f4090410-576f-4ced-82e2-29c9af35925d",
   "metadata": {
    "execution": {
     "iopub.execute_input": "2024-01-29T23:24:33.237963Z",
     "iopub.status.busy": "2024-01-29T23:24:33.237546Z",
     "iopub.status.idle": "2024-01-29T23:24:33.244790Z",
     "shell.execute_reply": "2024-01-29T23:24:33.244370Z",
     "shell.execute_reply.started": "2024-01-29T23:24:33.237943Z"
    },
    "tags": []
   },
   "outputs": [],
   "source": [
    "for ct in shared_cts:\n",
    "    p = pathlib.Path(f\"re_condition_dmr/{ct}\")\n",
    "    p.mkdir(parents=True, exist_ok=True)"
   ]
  },
  {
   "cell_type": "code",
   "execution_count": 6,
   "id": "e3afe75f-6527-4af4-b768-47c6c4661791",
   "metadata": {
    "execution": {
     "iopub.execute_input": "2024-01-29T23:24:33.248526Z",
     "iopub.status.busy": "2024-01-29T23:24:33.248333Z",
     "iopub.status.idle": "2024-01-29T23:24:33.250903Z",
     "shell.execute_reply": "2024-01-29T23:24:33.250400Z",
     "shell.execute_reply.started": "2024-01-29T23:24:33.248508Z"
    },
    "tags": []
   },
   "outputs": [],
   "source": [
    "# shared_cts = shared_cts[:1]\n",
    "# shared_cts"
   ]
  },
  {
   "cell_type": "code",
   "execution_count": 7,
   "id": "8c68641a-90b8-48d0-bae7-990561b50f10",
   "metadata": {
    "execution": {
     "iopub.execute_input": "2024-01-29T23:24:33.253352Z",
     "iopub.status.busy": "2024-01-29T23:24:33.252939Z",
     "iopub.status.idle": "2024-01-29T23:24:33.257393Z",
     "shell.execute_reply": "2024-01-29T23:24:33.256871Z",
     "shell.execute_reply.started": "2024-01-29T23:24:33.253334Z"
    },
    "tags": []
   },
   "outputs": [],
   "source": [
    "# admr_paths\n",
    "with open('homer.sh', 'w') as file:\n",
    "    for ct in shared_cts:\n",
    "        for _type in ['Hypo','Hyper']:\n",
    "            bedfile = f\"{dmr_dir}/{ct}.{_type}.aDMR.bed\"\n",
    "            outdir = f\"re_condition_dmr/{ct}\"\n",
    "            prefix = re.sub(\".aDMR.bed\", \"\", os.path.basename(bedfile))\n",
    "            command = f\"findMotifsGenome.pl {bedfile} mm10 {outdir}/motif_{prefix} -size 200 &\"\n",
    "            file.write(command)\n",
    "            file.write('\\n')\n",
    "    "
   ]
  },
  {
   "cell_type": "code",
   "execution_count": null,
   "id": "aee214e7-a90e-4076-a16c-993902a870ec",
   "metadata": {},
   "outputs": [],
   "source": []
  },
  {
   "cell_type": "code",
   "execution_count": 10,
   "id": "635a01d9-7d0a-42d3-aaf5-4aedd5fbedac",
   "metadata": {
    "execution": {
     "iopub.execute_input": "2024-01-29T22:35:22.234658Z",
     "iopub.status.busy": "2024-01-29T22:35:22.234383Z",
     "iopub.status.idle": "2024-01-29T22:35:22.237277Z",
     "shell.execute_reply": "2024-01-29T22:35:22.236719Z",
     "shell.execute_reply.started": "2024-01-29T22:35:22.234636Z"
    },
    "tags": []
   },
   "outputs": [],
   "source": [
    "# findMotifsGenome.pl condition_dmr/Oligo_NN/Aging_Hypo.DMR.bed mm10 condition_dmr/Oligo_NN/motif_Aging_Hypo.DMR -size 200 &\n",
    "# findMotifsGenome.pl condition_dmr/Oligo_NN/Aging_Hyper.DMR.bed mm10 condition_dmr/Oligo_NN/motif_Aging_Hyper.DMR -size 200 &"
   ]
  },
  {
   "cell_type": "code",
   "execution_count": null,
   "id": "dffe5ad0-ba41-4d55-8778-eb9f63c24074",
   "metadata": {},
   "outputs": [],
   "source": []
  },
  {
   "cell_type": "code",
   "execution_count": null,
   "id": "4395d9ee-376e-4b6c-9fe8-f2d08ec2329b",
   "metadata": {},
   "outputs": [],
   "source": []
  },
  {
   "cell_type": "code",
   "execution_count": null,
   "id": "defaa407-4c7e-46bb-8260-3a44a1823c5b",
   "metadata": {},
   "outputs": [],
   "source": []
  },
  {
   "cell_type": "code",
   "execution_count": null,
   "id": "3a2199b1-d8f4-4506-a67c-f0f705a4f326",
   "metadata": {},
   "outputs": [],
   "source": []
  },
  {
   "cell_type": "code",
   "execution_count": null,
   "id": "1dde96c1-020b-427e-8bc1-4e48885cf93d",
   "metadata": {},
   "outputs": [],
   "source": []
  },
  {
   "cell_type": "code",
   "execution_count": null,
   "id": "1bcf5c72-5ffe-4de0-9663-b3b1e5adfa67",
   "metadata": {},
   "outputs": [],
   "source": []
  },
  {
   "cell_type": "code",
   "execution_count": null,
   "id": "9b1cd7aa-9236-4adb-87c9-7fa0f33ddf09",
   "metadata": {},
   "outputs": [],
   "source": []
  },
  {
   "cell_type": "code",
   "execution_count": null,
   "id": "57c443c1-2022-454d-9431-07adde436b5b",
   "metadata": {},
   "outputs": [],
   "source": []
  },
  {
   "cell_type": "code",
   "execution_count": null,
   "id": "e9aa374a-883c-4a93-ac26-48093cb4f711",
   "metadata": {},
   "outputs": [],
   "source": []
  }
 ],
 "metadata": {
  "kernelspec": {
   "display_name": "Python 3 (ipykernel)",
   "language": "python",
   "name": "python3"
  },
  "language_info": {
   "codemirror_mode": {
    "name": "ipython",
    "version": 3
   },
   "file_extension": ".py",
   "mimetype": "text/x-python",
   "name": "python",
   "nbconvert_exporter": "python",
   "pygments_lexer": "ipython3",
   "version": "3.7.12"
  }
 },
 "nbformat": 4,
 "nbformat_minor": 5
}
