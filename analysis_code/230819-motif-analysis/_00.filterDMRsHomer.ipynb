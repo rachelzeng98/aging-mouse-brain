{
 "cells": [
  {
   "cell_type": "code",
   "execution_count": 1,
   "id": "882f7f57",
   "metadata": {
    "execution": {
     "iopub.execute_input": "2023-08-29T22:46:17.518419Z",
     "iopub.status.busy": "2023-08-29T22:46:17.517940Z",
     "iopub.status.idle": "2023-08-29T22:46:18.340608Z",
     "shell.execute_reply": "2023-08-29T22:46:18.339848Z",
     "shell.execute_reply.started": "2023-08-29T22:46:17.518393Z"
    },
    "tags": []
   },
   "outputs": [],
   "source": [
    "import re\n",
    "import os\n",
    "import glob\n",
    "import pandas as pd\n",
    "import matplotlib.pyplot as plt\n",
    "import seaborn as sns\n",
    "from collections import defaultdict\n",
    "import pathlib"
   ]
  },
  {
   "cell_type": "code",
   "execution_count": 2,
   "id": "bb230c08-898c-4dfd-a7d5-170d5dbc6a03",
   "metadata": {
    "execution": {
     "iopub.execute_input": "2023-08-29T22:46:18.342383Z",
     "iopub.status.busy": "2023-08-29T22:46:18.341799Z",
     "iopub.status.idle": "2023-08-29T22:46:18.347218Z",
     "shell.execute_reply": "2023-08-29T22:46:18.346514Z",
     "shell.execute_reply.started": "2023-08-29T22:46:18.342348Z"
    },
    "tags": []
   },
   "outputs": [],
   "source": [
    "def define_trend(row):\n",
    "    if row[4] >= row[5] and row[5] >= row[6]:\n",
    "        trend = 'Aging_Hypo'\n",
    "    elif row[4] <= row[5] and row[5] <= row[6]:\n",
    "        trend = 'Aging_Hyper'\n",
    "    else:trend = 'Differ_in_Aging'\n",
    "    return trend"
   ]
  },
  {
   "cell_type": "code",
   "execution_count": 3,
   "id": "db4df5c4-366a-4fc6-92cf-0c4e4efe0710",
   "metadata": {
    "execution": {
     "iopub.execute_input": "2023-08-29T22:46:18.447587Z",
     "iopub.status.busy": "2023-08-29T22:46:18.447382Z",
     "iopub.status.idle": "2023-08-29T22:46:18.450577Z",
     "shell.execute_reply": "2023-08-29T22:46:18.449923Z",
     "shell.execute_reply.started": "2023-08-29T22:46:18.447568Z"
    },
    "tags": []
   },
   "outputs": [],
   "source": [
    "#test_celltype = 'Oligo_NN'\n",
    "_dir = '/home/qzeng/project/aging/230807_call_dmr/dss'"
   ]
  },
  {
   "cell_type": "code",
   "execution_count": 4,
   "id": "c60e6f13",
   "metadata": {
    "execution": {
     "iopub.execute_input": "2023-08-29T22:46:19.796592Z",
     "iopub.status.busy": "2023-08-29T22:46:19.796383Z",
     "iopub.status.idle": "2023-08-29T22:46:19.799764Z",
     "shell.execute_reply": "2023-08-29T22:46:19.799112Z",
     "shell.execute_reply.started": "2023-08-29T22:46:19.796572Z"
    },
    "tags": []
   },
   "outputs": [],
   "source": [
    "conditions = ['Aging_Hypo','Aging_Hyper','Differ_in_Aging']"
   ]
  },
  {
   "cell_type": "markdown",
   "id": "e607522f",
   "metadata": {},
   "source": [
    "# generate Hypo Hyper Bed files"
   ]
  },
  {
   "cell_type": "code",
   "execution_count": 5,
   "id": "5409772a-2196-4e32-8626-2cb42a1eab11",
   "metadata": {
    "execution": {
     "iopub.execute_input": "2023-08-29T22:46:21.315039Z",
     "iopub.status.busy": "2023-08-29T22:46:21.314482Z",
     "iopub.status.idle": "2023-08-29T22:46:21.318829Z",
     "shell.execute_reply": "2023-08-29T22:46:21.318180Z",
     "shell.execute_reply.started": "2023-08-29T22:46:21.315017Z"
    },
    "tags": []
   },
   "outputs": [],
   "source": [
    "dmr_paths = glob.glob(f'{_dir}/mC_FILTER_DMR_BED/*.DMR.bed')"
   ]
  },
  {
   "cell_type": "code",
   "execution_count": 6,
   "id": "1f5e3fe4-3ad7-4893-8ce7-1d1c8f9a5655",
   "metadata": {
    "execution": {
     "iopub.execute_input": "2023-08-29T22:47:06.573624Z",
     "iopub.status.busy": "2023-08-29T22:47:06.573230Z",
     "iopub.status.idle": "2023-08-29T22:47:14.266261Z",
     "shell.execute_reply": "2023-08-29T22:47:14.265260Z",
     "shell.execute_reply.started": "2023-08-29T22:47:06.573601Z"
    },
    "tags": []
   },
   "outputs": [],
   "source": [
    "for path in dmr_paths:\n",
    "    df = pd.read_csv(path, on_bad_lines='skip', sep = '\\t', header = None,index_col = 3)\n",
    "    mt = pathlib.Path(path).name.split('.')[0]\n",
    "    if mt not in ['Oligo_NN','SNc-VTA-RAmb_Foxa1_Dopa','STR-PAL_Chst9_Gaba','SUB-ProS_Glut']:\n",
    "        df[4] = round(df[4],1)\n",
    "        df[5] = round(df[5],1)\n",
    "        df[6] = round(df[6],1)\n",
    "\n",
    "        df['trend'] = df.apply(define_trend, axis = 1)\n",
    "\n",
    "        p = pathlib.Path(f\"condition_dmr/{mt}\")\n",
    "        p.mkdir(parents=True, exist_ok=True)\n",
    "\n",
    "        for condition in conditions:\n",
    "            tmpdf = df[df['trend'] == condition].copy()[[0,1,2]]\n",
    "            tmpdf.to_csv(f\"condition_dmr/{mt}/{condition}.DMR.bed\", \n",
    "                         sep = '\\t',header = None, index = None)      \n",
    "    "
   ]
  },
  {
   "cell_type": "markdown",
   "id": "3e27ecea",
   "metadata": {},
   "source": [
    "# Homer"
   ]
  },
  {
   "cell_type": "code",
   "execution_count": 7,
   "id": "2e4403ab",
   "metadata": {
    "execution": {
     "iopub.execute_input": "2023-08-29T22:47:21.593119Z",
     "iopub.status.busy": "2023-08-29T22:47:21.592602Z",
     "iopub.status.idle": "2023-08-29T22:47:21.599308Z",
     "shell.execute_reply": "2023-08-29T22:47:21.598781Z",
     "shell.execute_reply.started": "2023-08-29T22:47:21.593090Z"
    },
    "tags": []
   },
   "outputs": [],
   "source": [
    "wkdir = os.getcwd()\n",
    "bedfiles = glob.glob(f\"condition_dmr/*/*.bed\")"
   ]
  },
  {
   "cell_type": "code",
   "execution_count": 8,
   "id": "2a004972",
   "metadata": {
    "execution": {
     "iopub.execute_input": "2023-08-29T22:48:01.239733Z",
     "iopub.status.busy": "2023-08-29T22:48:01.239315Z",
     "iopub.status.idle": "2023-08-29T22:48:01.245468Z",
     "shell.execute_reply": "2023-08-29T22:48:01.244905Z",
     "shell.execute_reply.started": "2023-08-29T22:48:01.239709Z"
    },
    "tags": []
   },
   "outputs": [],
   "source": [
    "motif_fh = open(\"runHomerMotif.sh\", 'w')\n",
    "for bedfile in bedfiles:\n",
    "    cell_type = bedfile.split(\"/\")[-2]\n",
    "    prefix = re.sub(\".bed\", \"\", os.path.basename(bedfile))\n",
    "    outdir = os.path.dirname(bedfile)\n",
    "    \n",
    "    print(f\"findMotifsGenome.pl {bedfile} mm10 {outdir}/motif_{prefix} -size 200 &\", file=motif_fh)\n",
    "motif_fh.close()"
   ]
  },
  {
   "cell_type": "code",
   "execution_count": 16,
   "id": "65f13609",
   "metadata": {
    "execution": {
     "iopub.execute_input": "2023-08-23T00:11:49.038079Z",
     "iopub.status.busy": "2023-08-23T00:11:49.037649Z",
     "iopub.status.idle": "2023-08-23T00:11:49.171559Z",
     "shell.execute_reply": "2023-08-23T00:11:49.170809Z",
     "shell.execute_reply.started": "2023-08-23T00:11:49.038055Z"
    }
   },
   "outputs": [
    {
     "name": "stdout",
     "output_type": "stream",
     "text": [
      "/home/qzeng/project/aging/230819-motif-analysis\n"
     ]
    }
   ],
   "source": [
    "!pwd"
   ]
  },
  {
   "cell_type": "code",
   "execution_count": null,
   "id": "ff2f993c-07c6-4ce4-aa61-fd5d7a29279c",
   "metadata": {},
   "outputs": [],
   "source": []
  }
 ],
 "metadata": {
  "kernelspec": {
   "display_name": "Python 3 (ipykernel)",
   "language": "python",
   "name": "python3"
  },
  "language_info": {
   "codemirror_mode": {
    "name": "ipython",
    "version": 3
   },
   "file_extension": ".py",
   "mimetype": "text/x-python",
   "name": "python",
   "nbconvert_exporter": "python",
   "pygments_lexer": "ipython3",
   "version": "3.7.12"
  }
 },
 "nbformat": 4,
 "nbformat_minor": 5
}
