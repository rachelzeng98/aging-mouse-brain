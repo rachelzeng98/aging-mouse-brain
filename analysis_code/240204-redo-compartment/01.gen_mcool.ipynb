{
 "cells": [
  {
   "cell_type": "code",
   "execution_count": 1,
   "id": "01c739df-3280-4ed3-980f-823fca42916c",
   "metadata": {},
   "outputs": [],
   "source": [
    "import numpy as np\n",
    "import pandas as pd\n",
    "import seaborn as sns\n",
    "import matplotlib as mpl\n",
    "import matplotlib.pyplot as plt\n",
    "import anndata\n",
    "import scanpy as sc\n",
    "from glob import glob\n",
    "import time\n",
    "import cooler\n",
    "from itertools import cycle, islice\n",
    "from sklearn.decomposition import PCA\n",
    "from scipy.stats import pearsonr\n",
    "from concurrent.futures import ProcessPoolExecutor, as_completed\n",
    "import subprocess\n",
    "import glob\n",
    "import pathlib\n",
    "from tqdm import tqdm\n",
    "from collections import defaultdict"
   ]
  },
  {
   "cell_type": "code",
   "execution_count": 2,
   "id": "315db4ee-bedf-49fd-b00e-fa8c6aab04e4",
   "metadata": {},
   "outputs": [],
   "source": [
    "# # this step is merging celltype.age.rep merged cool\n",
    "# res = 5000\n",
    "# indir = '/data/female-amb/AMB.CoolFiles/CellType.Age.Rep.Raw.5kb'\n",
    "# outdir = 'CellType.Age.Rep.Raw.5kb.mcool'\n",
    "# pathlib.Path(outdir).mkdir(parents=True, exist_ok=True)\n",
    "\n",
    "# all_files = glob.glob(f'{indir}/*')\n",
    "# with open(\"gen_sample_mcool.sh\",'w') as file:\n",
    "#     for idx, cool_path in enumerate(all_files, start=1):\n",
    "#         sample = pathlib.Path(cool_path).name\n",
    "#         ct = sample.split('.')[0]\n",
    "#         command = f\"cooler zoomify {cool_path} -r {res}N -o {outdir}/{sample}.raw.mcool\"\n",
    "#         file.write(command + '&')\n",
    "#         file.write('\\n')\n",
    "#         if idx % 30 == 0:\n",
    "#             file.write('wait\\n')\n",
    "#     file.write('wait')"
   ]
  },
  {
   "cell_type": "code",
   "execution_count": 3,
   "id": "43d499d9-2ac9-43e9-a9f1-9653d2b7afb1",
   "metadata": {},
   "outputs": [],
   "source": [
    "# # this step is merging celltype.age merged cool\n",
    "# res = 5000\n",
    "# indir = '/data/female-amb/AMB.CoolFiles/CellType.Age.Raw.5kb/'\n",
    "# outdir = 'CellType.Age.Raw.5kb.mcool'\n",
    "# pathlib.Path(outdir).mkdir(parents=True, exist_ok=True)\n",
    "\n",
    "# all_files = glob.glob(f'{indir}/*')\n",
    "# with open(\"gen_ct_age_mcool.sh\",'w') as file:\n",
    "#     for idx, cool_path in enumerate(all_files, start=1):\n",
    "#         sample = pathlib.Path(cool_path).name\n",
    "#         ct_age = sample.split('.merged.cool')[0]\n",
    "#         command = f\"cooler zoomify {cool_path} -r {res}N -o {outdir}/{ct_age}.raw.mcool\"\n",
    "#         file.write(command + '&')\n",
    "#         file.write('\\n')\n",
    "#         if idx % 40 == 0:\n",
    "#             file.write('wait\\n')\n",
    "#     file.write('wait')"
   ]
  },
  {
   "cell_type": "code",
   "execution_count": 7,
   "id": "14f9da29-4188-40af-81dc-e783cae1b1d1",
   "metadata": {},
   "outputs": [],
   "source": [
    "# this step is merging celltype merged cool\n",
    "res = 5000\n",
    "indir = '/data/female-amb/AMB.CoolFiles/CellType.Raw.5kb/'\n",
    "outdir = 'CellType.Raw.5kb.mcool'\n",
    "pathlib.Path(outdir).mkdir(parents=True, exist_ok=True)\n",
    "\n",
    "all_files = glob.glob(f'{indir}/*')\n",
    "\n",
    "with open(\"gen_celltype_mcool.sh\", 'w') as file:\n",
    "    for idx, cool_path in enumerate(all_files, start=1):\n",
    "        ct = pathlib.Path(cool_path).name.split('.')[0]\n",
    "        command = f\"cooler zoomify {cool_path} -r {res}N -o {outdir}/{ct}.raw.mcool\"\n",
    "        file.write(command + '&')\n",
    "        file.write('\\n')\n",
    "        \n",
    "        # Check if the current line number is a multiple of 30 and add a \"wait\" command\n",
    "        if idx % 40 == 0:\n",
    "            file.write('wait\\n')\n",
    "    file.write('wait')"
   ]
  },
  {
   "cell_type": "code",
   "execution_count": 13,
   "id": "6978259a-af13-4842-b9d8-d55e34abf261",
   "metadata": {},
   "outputs": [
    {
     "data": {
      "text/plain": [
       "40"
      ]
     },
     "execution_count": 13,
     "metadata": {},
     "output_type": "execute_result"
    }
   ],
   "source": [
    "len(all_files)"
   ]
  },
  {
   "cell_type": "code",
   "execution_count": 15,
   "id": "116f2250-41c3-46a9-a1cf-a9031d12f493",
   "metadata": {},
   "outputs": [
    {
     "name": "stdout",
     "output_type": "stream",
     "text": [
      "/home/qzeng_salk_edu/project/240204-redo-compartment\n"
     ]
    }
   ],
   "source": [
    "! pwd"
   ]
  },
  {
   "cell_type": "code",
   "execution_count": null,
   "id": "7b90b560-8c90-4288-9d30-b693eaceb712",
   "metadata": {},
   "outputs": [],
   "source": []
  },
  {
   "cell_type": "code",
   "execution_count": null,
   "id": "10baad6c-060c-4dd1-ad45-d226f7d621e3",
   "metadata": {},
   "outputs": [],
   "source": []
  },
  {
   "cell_type": "code",
   "execution_count": null,
   "id": "4677c24b-01cb-4591-bef4-7f36f2d4428b",
   "metadata": {},
   "outputs": [],
   "source": []
  },
  {
   "cell_type": "code",
   "execution_count": null,
   "id": "b654a293-39c3-42eb-998b-09b5a250205b",
   "metadata": {},
   "outputs": [],
   "source": []
  },
  {
   "cell_type": "code",
   "execution_count": null,
   "id": "3e7df4f2-5c44-4da5-906a-2d8b08dada4f",
   "metadata": {},
   "outputs": [],
   "source": []
  },
  {
   "cell_type": "code",
   "execution_count": null,
   "id": "0ae18980-47e7-4588-8e57-9a185f569276",
   "metadata": {},
   "outputs": [],
   "source": []
  },
  {
   "cell_type": "code",
   "execution_count": null,
   "id": "1e82e6a3-e1d2-4d98-89b1-ac32d78e0797",
   "metadata": {},
   "outputs": [],
   "source": []
  },
  {
   "cell_type": "code",
   "execution_count": null,
   "id": "018ed5b9-e23e-4042-9d7d-1dac975cc127",
   "metadata": {},
   "outputs": [],
   "source": []
  },
  {
   "cell_type": "code",
   "execution_count": null,
   "id": "0c8ea487-fb0e-4b9d-a802-b704910ee97a",
   "metadata": {},
   "outputs": [],
   "source": []
  },
  {
   "cell_type": "code",
   "execution_count": null,
   "id": "af16c368-7cd8-4896-9dda-3ec59e5ccb51",
   "metadata": {},
   "outputs": [],
   "source": []
  },
  {
   "cell_type": "code",
   "execution_count": null,
   "id": "98718424-2e08-4fc9-b45e-4ed206677f48",
   "metadata": {},
   "outputs": [],
   "source": []
  },
  {
   "cell_type": "code",
   "execution_count": null,
   "id": "d5c4bafe-bb3b-49f6-9c46-e561affc3dee",
   "metadata": {},
   "outputs": [],
   "source": []
  },
  {
   "cell_type": "code",
   "execution_count": null,
   "id": "82f4acde-2ad9-4006-8043-adace673d986",
   "metadata": {},
   "outputs": [],
   "source": []
  }
 ],
 "metadata": {
  "kernelspec": {
   "display_name": "Python 3 (ipykernel)",
   "language": "python",
   "name": "python3"
  },
  "language_info": {
   "codemirror_mode": {
    "name": "ipython",
    "version": 3
   },
   "file_extension": ".py",
   "mimetype": "text/x-python",
   "name": "python",
   "nbconvert_exporter": "python",
   "pygments_lexer": "ipython3",
   "version": "3.10.12"
  }
 },
 "nbformat": 4,
 "nbformat_minor": 5
}
