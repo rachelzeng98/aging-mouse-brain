{
 "cells": [
  {
   "cell_type": "code",
   "execution_count": 1,
   "id": "70219d19-7270-4742-8a83-1c6b38ab60dd",
   "metadata": {},
   "outputs": [],
   "source": [
    "import glob\n",
    "import pathlib\n",
    "import pandas as pd\n",
    "import subprocess\n",
    "import joblib\n",
    "import numpy as np"
   ]
  },
  {
   "cell_type": "code",
   "execution_count": 2,
   "id": "083d27f4-bb59-4422-b297-7c49ce98af0a",
   "metadata": {},
   "outputs": [],
   "source": [
    "ref_dir= '/ref/m3C'\n",
    "data_dir = '/data/female-amb/female-m3c-rmbkl'\n",
    "meta_file = '/data/metadata/240104_m3C_META.csv'"
   ]
  },
  {
   "cell_type": "markdown",
   "id": "53ff50e6-4f23-48e7-a2ff-228e723ecb79",
   "metadata": {},
   "source": [
    "## get AgingMajorType.Rep use_cells"
   ]
  },
  {
   "cell_type": "code",
   "execution_count": 3,
   "id": "8d7aca60-19d2-4f10-b4b7-a6775a4fc58e",
   "metadata": {},
   "outputs": [],
   "source": [
    "use_cts = joblib.load('/data/metadata/m3c_use_cts')\n",
    "use_cts = [ct.replace(' ','_').replace('/','') for ct in use_cts]"
   ]
  },
  {
   "cell_type": "code",
   "execution_count": 4,
   "id": "11e56713-d5b9-423e-b4df-ee70b6de3ae2",
   "metadata": {},
   "outputs": [],
   "source": [
    "use_cts = ['Oligo_NN']"
   ]
  },
  {
   "cell_type": "code",
   "execution_count": 5,
   "id": "9576ea5a-9faa-4170-9822-2e74d9d6646e",
   "metadata": {},
   "outputs": [],
   "source": [
    "# load metadata\n",
    "meta = pd.read_csv(meta_file, index_col = 0)\n",
    "meta['AgingMajorType'] = meta['AgingMajorType'].apply(lambda x: x.replace(' ','_').replace('/',''))\n",
    "meta = meta[meta['AgingMajorType'].isin(use_cts)]\n",
    "meta['AgingMajorType.Age.Rep'] = meta['AgingMajorType'] + '.' + meta['Age'] + '.' + meta['Replicate']\n",
    "meta['Age.Rep'] = meta['Age'] + '.' + meta['Replicate']"
   ]
  },
  {
   "cell_type": "code",
   "execution_count": 6,
   "id": "7874c380-d752-4e50-9282-803ff0bae91a",
   "metadata": {},
   "outputs": [],
   "source": [
    "all_use_cell_index = []\n",
    "rep_use_cts = []\n",
    "for ct, tmpdf in meta.groupby('AgingMajorType'):\n",
    "    cell_counts = tmpdf['Age.Rep'].value_counts()\n",
    "    target_number = np.sqrt(cell_counts) * 20\n",
    "    target_number = (pd.DataFrame([cell_counts, target_number]).T.min(axis =1)-1).astype(int)\n",
    "\n",
    "    check = target_number > 100\n",
    "    check = check.sum()\n",
    "    if check == 6:\n",
    "        rep_use_cts.append(ct)\n",
    "    \n",
    "    selected_cells = []\n",
    "    for cluster, cell in tmpdf.groupby('Age.Rep'):\n",
    "        cells = cell.sample(target_number[cluster], random_state = 3).index.tolist()\n",
    "        selected_cells += cells\n",
    "    \n",
    "    all_use_cell_index += selected_cells   "
   ]
  },
  {
   "cell_type": "code",
   "execution_count": 7,
   "id": "5ce7cb70-d43f-4eea-849c-e990e569cba5",
   "metadata": {},
   "outputs": [
    {
     "data": {
      "text/plain": [
       "Age.Rep\n",
       "9mo.rep2     881\n",
       "18mo.rep2    872\n",
       "18mo.rep1    852\n",
       "9mo.rep1     840\n",
       "8wk.rep1     769\n",
       "8wk.rep2     583\n",
       "dtype: int64"
      ]
     },
     "execution_count": 7,
     "metadata": {},
     "output_type": "execute_result"
    }
   ],
   "source": [
    "target_number"
   ]
  },
  {
   "cell_type": "markdown",
   "id": "5bd1949f-6994-49e9-af40-d6e70826d336",
   "metadata": {},
   "source": [
    "## get all_rmbkl paths"
   ]
  },
  {
   "cell_type": "code",
   "execution_count": 8,
   "id": "ab009880-595f-4af0-9f02-7d151dfdafd3",
   "metadata": {},
   "outputs": [],
   "source": [
    "all_paths = glob.glob(f\"{data_dir}/*/*.tsv.gz\")"
   ]
  },
  {
   "cell_type": "code",
   "execution_count": 9,
   "id": "fbc92d0c-5464-4a4f-ade5-844c55d6f8b6",
   "metadata": {},
   "outputs": [],
   "source": [
    "cell_ids = [pathlib.Path(path).name.split('.')[0] for path in all_paths]"
   ]
  },
  {
   "cell_type": "code",
   "execution_count": 10,
   "id": "f61942c4-7bf3-480b-a424-4113cceb6fa4",
   "metadata": {},
   "outputs": [],
   "source": [
    "cell_table = pd.DataFrame({'cell_id':cell_ids,'paths':all_paths})"
   ]
  },
  {
   "cell_type": "code",
   "execution_count": 11,
   "id": "0c85da61-f4f9-4676-9ab5-f22f74205eb5",
   "metadata": {},
   "outputs": [],
   "source": [
    "cell_table.index = cell_table['cell_id']"
   ]
  },
  {
   "cell_type": "code",
   "execution_count": 12,
   "id": "a5f4b1fa-e7fa-47cb-a01e-9aeffc557cbc",
   "metadata": {},
   "outputs": [],
   "source": [
    "cell_table = cell_table.loc[all_use_cell_index]"
   ]
  },
  {
   "cell_type": "markdown",
   "id": "54cc6039-31b9-4d6b-8beb-6e781f81ec22",
   "metadata": {},
   "source": [
    "## seperate by group"
   ]
  },
  {
   "cell_type": "code",
   "execution_count": 13,
   "id": "ab013d42-d6e8-45f9-8ea3-4a1bb35b201a",
   "metadata": {},
   "outputs": [],
   "source": [
    "cell_table['AgingMajorType.Age.Rep'] = meta['AgingMajorType.Age.Rep']"
   ]
  },
  {
   "cell_type": "code",
   "execution_count": 13,
   "id": "dae8211d-d011-4108-a707-26da2b29e2a3",
   "metadata": {},
   "outputs": [],
   "source": [
    "for group, tmpdf in cell_table.groupby('AgingMajorType.Age.Rep'):\n",
    "    tmpdf= tmpdf[['cell_id','paths']].copy()\n",
    "    tmpdf.to_csv(f'cell_table/{group}.tsv', sep = '\\t', header = None, index = None)"
   ]
  },
  {
   "cell_type": "markdown",
   "id": "3b7a77f7-c2d2-426e-b357-a0535b9bfedb",
   "metadata": {},
   "source": [
    "## merge"
   ]
  },
  {
   "cell_type": "code",
   "execution_count": 16,
   "id": "a2e0cb9e-6c68-4a53-b2da-bcfe02ad1e32",
   "metadata": {},
   "outputs": [],
   "source": [
    "group = 'test'\n",
    "chrom_size_path = f'{ref_dir}/mm10.main.nochrM.nochrY.chrom.sizes'\n",
    "cell_table = 'test.tsv'\n",
    "resolution = 5000\n",
    "CHROM1 = 1\n",
    "POS1 = 2\n",
    "CHROM2 =5\n",
    "POS2 = 6\n",
    "MIN_POS_DIST = 2500\n",
    "output_dir = 'CellType.Age.Rep.Raw.5kb'\n",
    "\n",
    "command = f'hicluster merge-cell-raw \\\n",
    "--cell_table {cell_table} \\\n",
    "--chrom_size_path {chrom_size_path} \\\n",
    "--output_file {output_dir}/{group}.cool \\\n",
    "--resolution {resolution} \\\n",
    "--chr1 {CHROM1} \\\n",
    "--pos1 {POS1} \\\n",
    "--chr2 {CHROM2} \\\n",
    "--pos2 {POS2} \\\n",
    "--min_pos_dist {MIN_POS_DIST}'"
   ]
  },
  {
   "cell_type": "code",
   "execution_count": 28,
   "id": "3fa5d7b2-fade-45c9-b65a-5f40d771431e",
   "metadata": {},
   "outputs": [],
   "source": [
    "#subprocess.run(command, shell = True)"
   ]
  },
  {
   "cell_type": "code",
   "execution_count": 17,
   "id": "b9782eec-a15c-4343-a319-5833c664b8e3",
   "metadata": {},
   "outputs": [],
   "source": [
    "pathlib.Path(f\"{output_dir}/\").mkdir(parents=True, exist_ok=True)"
   ]
  },
  {
   "cell_type": "code",
   "execution_count": 18,
   "id": "319744f1-70a5-4be7-825a-e8d821daaf52",
   "metadata": {},
   "outputs": [
    {
     "data": {
      "text/plain": [
       "['L23_IT_ENT_Glut.18mo.rep2', 'PB_Evx2_Glut.8wk.rep1', 'Microglia_NN.9mo.rep1']"
      ]
     },
     "execution_count": 18,
     "metadata": {},
     "output_type": "execute_result"
    }
   ],
   "source": [
    "all_groups = [pathlib.Path(path).name.split('.tsv')[0] \n",
    "              for path in glob.glob(f'cell_table/*.tsv')]\n",
    "all_groups[:3]"
   ]
  },
  {
   "cell_type": "code",
   "execution_count": 23,
   "id": "a50b87eb-4652-4687-9a64-27b58b03926b",
   "metadata": {},
   "outputs": [],
   "source": [
    "with open('merge_5kb_raw.sh', 'w') as file:\n",
    "    for index, group in enumerate(all_groups):  # Use enumerate to keep track of the index\n",
    "        cell_table = f'cell_table/{group}.tsv'\n",
    "        command = f'hicluster merge-cell-raw \\\n",
    "--cell_table {cell_table} \\\n",
    "--chrom_size_path {chrom_size_path} \\\n",
    "--output_file {output_dir}/{group}.cool \\\n",
    "--resolution {resolution} \\\n",
    "--chr1 {CHROM1} \\\n",
    "--pos1 {POS1} \\\n",
    "--chr2 {CHROM2} \\\n",
    "--pos2 {POS2} \\\n",
    "--min_pos_dist {MIN_POS_DIST}'\n",
    "        file.write(f\"{command} &\")\n",
    "        file.write('\\n')\n",
    "        \n",
    "        if (index + 1) % 40 == 0:\n",
    "            file.write('wait\\n')\n",
    "    \n",
    "    file.write('wait\\n')\n"
   ]
  },
  {
   "cell_type": "code",
   "execution_count": 24,
   "id": "7b537ef0-74f6-442f-a756-b42604131254",
   "metadata": {},
   "outputs": [
    {
     "data": {
      "text/plain": [
       "'hicluster merge-cell-raw --cell_table cell_table/STR_Gaba.18mo.rep1.tsv --chrom_size_path /ref/m3C/mm10.main.nochrM.nochrY.chrom.sizes --output_file CellType.Age.Rep.Raw.5kb/STR_Gaba.18mo.rep1.cool --resolution 5000 --chr1 1 --pos1 2 --chr2 5 --pos2 6 --min_pos_dist 2500'"
      ]
     },
     "execution_count": 24,
     "metadata": {},
     "output_type": "execute_result"
    }
   ],
   "source": [
    "command"
   ]
  },
  {
   "cell_type": "code",
   "execution_count": null,
   "id": "13b060c1-780c-44bc-838a-30f82737e8a1",
   "metadata": {},
   "outputs": [],
   "source": []
  },
  {
   "cell_type": "code",
   "execution_count": null,
   "id": "4c7ca5d4-2856-417d-8a9b-01bc345fbdf7",
   "metadata": {},
   "outputs": [],
   "source": []
  },
  {
   "cell_type": "code",
   "execution_count": null,
   "id": "eb349254-27a6-49a6-886f-50bcb46d233f",
   "metadata": {},
   "outputs": [],
   "source": []
  }
 ],
 "metadata": {
  "kernelspec": {
   "display_name": "Python 3 (ipykernel)",
   "language": "python",
   "name": "python3"
  },
  "language_info": {
   "codemirror_mode": {
    "name": "ipython",
    "version": 3
   },
   "file_extension": ".py",
   "mimetype": "text/x-python",
   "name": "python",
   "nbconvert_exporter": "python",
   "pygments_lexer": "ipython3",
   "version": "3.10.12"
  }
 },
 "nbformat": 4,
 "nbformat_minor": 5
}
