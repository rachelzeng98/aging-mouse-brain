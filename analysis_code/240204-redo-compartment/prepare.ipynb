{
 "cells": [
  {
   "cell_type": "code",
   "execution_count": 1,
   "id": "1ea87cf7-9117-4e3f-887c-e50ce079e862",
   "metadata": {},
   "outputs": [],
   "source": [
    "import glob\n",
    "from gliderport.preset import notebook_snakemake\n",
    "import pathlib\n",
    "import joblib"
   ]
  },
  {
   "cell_type": "code",
   "execution_count": 2,
   "id": "e190827e-3d20-4655-aef7-39b0b5802694",
   "metadata": {
    "scrolled": true
   },
   "outputs": [
    {
     "data": {
      "text/plain": [
       "40"
      ]
     },
     "execution_count": 2,
     "metadata": {},
     "output_type": "execute_result"
    }
   ],
   "source": [
    "groups = [pathlib.Path(path).name for path in glob.glob(f'Old.Call.DiffComp.CellType.Age/*')]\n",
    "len(groups)"
   ]
  },
  {
   "cell_type": "code",
   "execution_count": 3,
   "id": "0bc115c9-2864-42ec-980d-9bc97cc630ce",
   "metadata": {},
   "outputs": [
    {
     "data": {
      "text/plain": [
       "23"
      ]
     },
     "execution_count": 3,
     "metadata": {},
     "output_type": "execute_result"
    }
   ],
   "source": [
    "rep_use_cts = joblib.load('rep_use_cts')\n",
    "len(rep_use_cts)"
   ]
  },
  {
   "cell_type": "code",
   "execution_count": 4,
   "id": "ca55d10f-ccad-4750-8adc-970df84e2183",
   "metadata": {},
   "outputs": [],
   "source": [
    "work_dir = 'Call.DiffComp.CellType.Rep.Age'"
   ]
  },
  {
   "cell_type": "code",
   "execution_count": 5,
   "id": "0143174c-ae26-4e88-91ad-7d5a86aea114",
   "metadata": {},
   "outputs": [],
   "source": [
    "notebook_snakemake(\n",
    "    work_dir=work_dir,\n",
    "    notebook_dir=\"template-ct-age-rep\",\n",
    "    groups=groups,\n",
    "    default_cpu=8,\n",
    "    default_mem_gb=10,\n",
    "    redo_prepare=True,\n",
    ")"
   ]
  },
  {
   "cell_type": "code",
   "execution_count": 5,
   "id": "752fac34-9e3e-4272-84d6-f1809599f0d6",
   "metadata": {},
   "outputs": [
    {
     "name": "stdout",
     "output_type": "stream",
     "text": [
      "/home/qzeng_salk_edu/project/230907-call_diff-compartment\n"
     ]
    }
   ],
   "source": [
    "! pwd"
   ]
  },
  {
   "cell_type": "code",
   "execution_count": null,
   "id": "56747b66-1ee8-4500-96ab-94a04e4a2368",
   "metadata": {},
   "outputs": [],
   "source": []
  },
  {
   "cell_type": "code",
   "execution_count": null,
   "id": "9ece59f4-b91f-4a28-91d3-e5e50e850736",
   "metadata": {},
   "outputs": [],
   "source": []
  },
  {
   "cell_type": "code",
   "execution_count": null,
   "id": "7e2cf1d2-3b99-453e-b6b6-4a28259922ad",
   "metadata": {},
   "outputs": [],
   "source": []
  },
  {
   "cell_type": "code",
   "execution_count": null,
   "id": "683aad2b-3497-4df2-a5f0-d6e0cae8e4e6",
   "metadata": {},
   "outputs": [],
   "source": []
  },
  {
   "cell_type": "code",
   "execution_count": null,
   "id": "bacd6738-26c0-47cb-930e-5a62f4f7fc3a",
   "metadata": {},
   "outputs": [],
   "source": []
  },
  {
   "cell_type": "code",
   "execution_count": null,
   "id": "168ee175-bb8c-4eff-85f8-f3e686bbd178",
   "metadata": {},
   "outputs": [],
   "source": []
  },
  {
   "cell_type": "code",
   "execution_count": null,
   "id": "002bb839-6d5e-4fa5-9498-19f2add3e263",
   "metadata": {},
   "outputs": [],
   "source": []
  },
  {
   "cell_type": "code",
   "execution_count": null,
   "id": "d314d571-834d-4a39-b06d-bd2f3111561f",
   "metadata": {},
   "outputs": [],
   "source": []
  },
  {
   "cell_type": "code",
   "execution_count": null,
   "id": "8209b2fb-284d-4477-be23-6e850b7cb5ab",
   "metadata": {},
   "outputs": [],
   "source": []
  },
  {
   "cell_type": "code",
   "execution_count": null,
   "id": "25c53c7f-5256-4ef5-ae0b-ff2a01427c5b",
   "metadata": {},
   "outputs": [],
   "source": []
  }
 ],
 "metadata": {
  "kernelspec": {
   "display_name": "Python 3 (ipykernel)",
   "language": "python",
   "name": "python3"
  },
  "language_info": {
   "codemirror_mode": {
    "name": "ipython",
    "version": 3
   },
   "file_extension": ".py",
   "mimetype": "text/x-python",
   "name": "python",
   "nbconvert_exporter": "python",
   "pygments_lexer": "ipython3",
   "version": "3.10.12"
  }
 },
 "nbformat": 4,
 "nbformat_minor": 5
}
