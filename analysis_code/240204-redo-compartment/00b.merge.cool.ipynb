{
 "cells": [
  {
   "cell_type": "code",
   "execution_count": 1,
   "id": "36f3d5eb-3551-4eca-b807-f5d017e28690",
   "metadata": {},
   "outputs": [],
   "source": [
    "import numpy as np\n",
    "import pandas as pd\n",
    "import seaborn as sns\n",
    "import matplotlib as mpl\n",
    "import matplotlib.pyplot as plt\n",
    "import anndata\n",
    "import scanpy as sc\n",
    "from glob import glob\n",
    "import time\n",
    "import cooler\n",
    "import subprocess\n",
    "import glob\n",
    "import pathlib\n",
    "from tqdm import tqdm\n",
    "from collections import defaultdict"
   ]
  },
  {
   "cell_type": "code",
   "execution_count": 2,
   "id": "c5a0adb6-cf21-4589-9b5d-1fd8a3a95d53",
   "metadata": {},
   "outputs": [],
   "source": [
    "indir = 'CellType.Age.Rep.Raw.5kb'"
   ]
  },
  {
   "cell_type": "markdown",
   "id": "40dd6e20-62cc-4819-b5cc-aea5a27a0db2",
   "metadata": {
    "jp-MarkdownHeadingCollapsed": true
   },
   "source": [
    "## merge by celltype"
   ]
  },
  {
   "cell_type": "code",
   "execution_count": 3,
   "id": "1a04a59e-39d0-4e62-8469-138c67a44d79",
   "metadata": {},
   "outputs": [],
   "source": [
    "outdir = 'CellType.Raw.5kb'\n",
    "pathlib.Path(outdir).mkdir(parents=True, exist_ok=True)"
   ]
  },
  {
   "cell_type": "code",
   "execution_count": 4,
   "id": "5a08d5d5-aa35-4728-a7c4-2b6e6f45117a",
   "metadata": {},
   "outputs": [],
   "source": [
    "cool_files =  glob.glob(f'{indir}/*.cool')"
   ]
  },
  {
   "cell_type": "code",
   "execution_count": 5,
   "id": "8b9daba6-269d-4e3c-b968-50e4bc7ee967",
   "metadata": {},
   "outputs": [],
   "source": [
    "celltype_cool_files = defaultdict(list)\n",
    "for path in cool_files:\n",
    "    ct, age, rep,cool = pathlib.Path(path).name.split('.')\n",
    "    celltype_cool_files[ct].append(path)"
   ]
  },
  {
   "cell_type": "code",
   "execution_count": 6,
   "id": "d4077a03-744e-4439-9ff9-12a0f423ff91",
   "metadata": {},
   "outputs": [],
   "source": [
    "with open(\"merge_cool_by_ct.sh\",'w') as file:\n",
    "    for ct, cool_file_list in celltype_cool_files.items():\n",
    "        command = f\"cooler merge {outdir}/{ct}.merged.cool {cool_file_list[0]} {cool_file_list[1]} {cool_file_list[2]} {cool_file_list[3]} {cool_file_list[4]} {cool_file_list[5]}\"\n",
    "        file.write(command + '&')\n",
    "        file.write(\"\\n\")"
   ]
  },
  {
   "cell_type": "markdown",
   "id": "1a1d4147-0f4f-46da-b09d-42168340d756",
   "metadata": {},
   "source": [
    "## merge by celltype.age"
   ]
  },
  {
   "cell_type": "code",
   "execution_count": 3,
   "id": "f4a69d7a-53fb-43e6-aa7f-6288a6477142",
   "metadata": {},
   "outputs": [],
   "source": [
    "outdir = 'CellType.Age.Raw.5kb'\n",
    "pathlib.Path(outdir).mkdir(parents=True, exist_ok=True)"
   ]
  },
  {
   "cell_type": "code",
   "execution_count": 4,
   "id": "0520eba8-36be-48e2-bdba-1ce229c8b0cd",
   "metadata": {},
   "outputs": [
    {
     "data": {
      "text/plain": [
       "240"
      ]
     },
     "execution_count": 4,
     "metadata": {},
     "output_type": "execute_result"
    }
   ],
   "source": [
    "cool_files =  glob.glob(f'{indir}/*')\n",
    "len(cool_files)"
   ]
  },
  {
   "cell_type": "code",
   "execution_count": 5,
   "id": "f85898ac-8e4d-4b9f-b4b2-9c052afdcf84",
   "metadata": {},
   "outputs": [],
   "source": [
    "celltype_age_cool_files = defaultdict(list)\n",
    "for path in cool_files:\n",
    "    ct, age, rep, _ = pathlib.Path(path).name.split('.')\n",
    "    sample = f'{ct}.{age}'\n",
    "    celltype_age_cool_files[sample].append(path)"
   ]
  },
  {
   "cell_type": "code",
   "execution_count": 10,
   "id": "82362c89-c5d4-4204-a771-9afd152afa76",
   "metadata": {},
   "outputs": [],
   "source": [
    "with open(\"merge_cool_by_ct_age.sh\", 'w') as file:\n",
    "    counter = 0  # Initialize counter\n",
    "    wait_time = 5  # Specify the time to wait\n",
    "\n",
    "    for ct_age, cool_file_list in celltype_age_cool_files.items():\n",
    "        command = f\"cooler merge {outdir}/{ct_age}.merged.cool {cool_file_list[0]} {cool_file_list[1]}\"\n",
    "        \n",
    "        file.write(command + '&')\n",
    "        file.write(\"\\n\")\n",
    "        \n",
    "        counter += 1  # Increment the counter\n",
    "        if counter % 40 == 0:\n",
    "            file.write(f\"wait; sleep {wait_time}\\n\")  # Add wait and sleep command"
   ]
  },
  {
   "cell_type": "code",
   "execution_count": 8,
   "id": "f9f5e819-524b-4127-87e6-523e42f47f98",
   "metadata": {},
   "outputs": [],
   "source": [
    "# with open(\"merge_cool_by_ct_age.sh\",'w') as file:\n",
    "#     for ct_age, cool_file_list in celltype_age_cool_files.items():\n",
    "#         command = f\"cooler merge {outdir}/{ct_age}.merged.cool {cool_file_list[0]} {cool_file_list[1]}\"\n",
    "#         file.write(command + '&')\n",
    "#         file.write(\"\\n\")"
   ]
  },
  {
   "cell_type": "code",
   "execution_count": null,
   "id": "071d628a-fd2e-4526-bd9e-dd268fe027d1",
   "metadata": {},
   "outputs": [],
   "source": []
  },
  {
   "cell_type": "code",
   "execution_count": null,
   "id": "843b16de-97e3-4b9a-a137-835434a337e1",
   "metadata": {},
   "outputs": [],
   "source": []
  },
  {
   "cell_type": "code",
   "execution_count": null,
   "id": "14e023a6-b23f-4c2f-9376-a94cd4a5ce71",
   "metadata": {},
   "outputs": [],
   "source": []
  },
  {
   "cell_type": "code",
   "execution_count": null,
   "id": "ae590ebc-eaaa-467c-a53d-9bfbb9810947",
   "metadata": {},
   "outputs": [],
   "source": []
  },
  {
   "cell_type": "code",
   "execution_count": null,
   "id": "29ecc3af-3e69-4a47-ab79-883084ed5038",
   "metadata": {},
   "outputs": [],
   "source": []
  },
  {
   "cell_type": "code",
   "execution_count": null,
   "id": "470816c3-da97-49fc-897c-76007e070595",
   "metadata": {},
   "outputs": [],
   "source": []
  },
  {
   "cell_type": "code",
   "execution_count": null,
   "id": "1acd6a90-030b-48cb-95e9-d896fc35faaa",
   "metadata": {},
   "outputs": [],
   "source": []
  },
  {
   "cell_type": "code",
   "execution_count": null,
   "id": "fda1f472-37d5-455f-87bc-e646adce71e7",
   "metadata": {},
   "outputs": [],
   "source": []
  },
  {
   "cell_type": "code",
   "execution_count": null,
   "id": "1e67f4db-8874-4e78-b5dd-75b3fc2bc8fe",
   "metadata": {},
   "outputs": [],
   "source": []
  },
  {
   "cell_type": "code",
   "execution_count": null,
   "id": "57b192ba-12a3-461d-bc47-a61bcf81529f",
   "metadata": {},
   "outputs": [],
   "source": []
  },
  {
   "cell_type": "code",
   "execution_count": null,
   "id": "c5163dfd-9437-49dd-b6e5-edb7616e9db0",
   "metadata": {},
   "outputs": [],
   "source": []
  },
  {
   "cell_type": "code",
   "execution_count": null,
   "id": "29c56e6e-be5f-4785-9fdc-2342ba11337c",
   "metadata": {},
   "outputs": [],
   "source": []
  }
 ],
 "metadata": {
  "kernelspec": {
   "display_name": "Python 3 (ipykernel)",
   "language": "python",
   "name": "python3"
  },
  "language_info": {
   "codemirror_mode": {
    "name": "ipython",
    "version": 3
   },
   "file_extension": ".py",
   "mimetype": "text/x-python",
   "name": "python",
   "nbconvert_exporter": "python",
   "pygments_lexer": "ipython3",
   "version": "3.10.12"
  }
 },
 "nbformat": 4,
 "nbformat_minor": 5
}
