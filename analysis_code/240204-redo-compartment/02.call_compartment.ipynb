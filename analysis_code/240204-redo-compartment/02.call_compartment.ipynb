{
 "cells": [
  {
   "cell_type": "code",
   "execution_count": 1,
   "id": "0cd03307-bb82-4175-a34d-b5d355cbc52b",
   "metadata": {},
   "outputs": [],
   "source": [
    "import numpy as np\n",
    "import pandas as pd\n",
    "import seaborn as sns\n",
    "import matplotlib as mpl\n",
    "import matplotlib.pyplot as plt\n",
    "import anndata\n",
    "import scanpy as sc\n",
    "from glob import glob\n",
    "import time\n",
    "import cooler\n",
    "from itertools import cycle, islice\n",
    "from sklearn.decomposition import PCA\n",
    "from scipy.stats import pearsonr, spearmanr, ttest_ind\n",
    "from concurrent.futures import ProcessPoolExecutor, as_completed\n",
    "import os\n",
    "import glob\n",
    "import pathlib\n",
    "# mpl.style.use('default')\n",
    "# mpl.rcParams['pdf.fonttype'] = 42\n",
    "# mpl.rcParams['ps.fonttype'] = 42\n",
    "# mpl.rcParams['font.family'] = 'sans-serif'\n",
    "# mpl.rcParams['font.sans-serif'] = 'Helvetica'\n"
   ]
  },
  {
   "cell_type": "code",
   "execution_count": 2,
   "id": "e993f82d-186c-4b06-b86f-5d0225b2165f",
   "metadata": {},
   "outputs": [],
   "source": [
    "group_name = 'Oligo_NN'\n",
    "ct = group_name"
   ]
  },
  {
   "cell_type": "code",
   "execution_count": 3,
   "id": "6fee833a-0a46-4ad8-96ee-ef34820ceb4f",
   "metadata": {},
   "outputs": [],
   "source": [
    "res = 100000\n",
    "chrom_size_path = '/ref/m3C/mm10.main.nochrM.nochrY.chrom.sizes'\n",
    "chrom_sizes = cooler.read_chromsizes(chrom_size_path, all_names=True)"
   ]
  },
  {
   "cell_type": "code",
   "execution_count": 4,
   "id": "b6716884-85c0-4cfe-8acd-804f5b997f53",
   "metadata": {},
   "outputs": [
    {
     "data": {
      "text/html": [
       "<div>\n",
       "<style scoped>\n",
       "    .dataframe tbody tr th:only-of-type {\n",
       "        vertical-align: middle;\n",
       "    }\n",
       "\n",
       "    .dataframe tbody tr th {\n",
       "        vertical-align: top;\n",
       "    }\n",
       "\n",
       "    .dataframe thead th {\n",
       "        text-align: right;\n",
       "    }\n",
       "</style>\n",
       "<table border=\"1\" class=\"dataframe\">\n",
       "  <thead>\n",
       "    <tr style=\"text-align: right;\">\n",
       "      <th></th>\n",
       "      <th>chrom</th>\n",
       "      <th>start</th>\n",
       "      <th>end</th>\n",
       "    </tr>\n",
       "  </thead>\n",
       "  <tbody>\n",
       "    <tr>\n",
       "      <th>chr1-0</th>\n",
       "      <td>chr1</td>\n",
       "      <td>0</td>\n",
       "      <td>100000</td>\n",
       "    </tr>\n",
       "    <tr>\n",
       "      <th>chr1-1</th>\n",
       "      <td>chr1</td>\n",
       "      <td>100000</td>\n",
       "      <td>200000</td>\n",
       "    </tr>\n",
       "    <tr>\n",
       "      <th>chr1-2</th>\n",
       "      <td>chr1</td>\n",
       "      <td>200000</td>\n",
       "      <td>300000</td>\n",
       "    </tr>\n",
       "    <tr>\n",
       "      <th>chr1-3</th>\n",
       "      <td>chr1</td>\n",
       "      <td>300000</td>\n",
       "      <td>400000</td>\n",
       "    </tr>\n",
       "    <tr>\n",
       "      <th>chr1-4</th>\n",
       "      <td>chr1</td>\n",
       "      <td>400000</td>\n",
       "      <td>500000</td>\n",
       "    </tr>\n",
       "  </tbody>\n",
       "</table>\n",
       "</div>"
      ],
      "text/plain": [
       "       chrom   start     end\n",
       "chr1-0  chr1       0  100000\n",
       "chr1-1  chr1  100000  200000\n",
       "chr1-2  chr1  200000  300000\n",
       "chr1-3  chr1  300000  400000\n",
       "chr1-4  chr1  400000  500000"
      ]
     },
     "execution_count": 4,
     "metadata": {},
     "output_type": "execute_result"
    }
   ],
   "source": [
    "bins_df = cooler.binnify(chrom_sizes, res)\n",
    "bins_df.index = bins_df['chrom'].astype(str) + '-' + (bins_df['start'] // res).astype(str)\n",
    "bins_df.head()"
   ]
  },
  {
   "cell_type": "code",
   "execution_count": 5,
   "id": "82d59a12-e62c-497d-885e-c41ca9ace2d6",
   "metadata": {},
   "outputs": [
    {
     "data": {
      "text/html": [
       "<div>\n",
       "<style scoped>\n",
       "    .dataframe tbody tr th:only-of-type {\n",
       "        vertical-align: middle;\n",
       "    }\n",
       "\n",
       "    .dataframe tbody tr th {\n",
       "        vertical-align: top;\n",
       "    }\n",
       "\n",
       "    .dataframe thead th {\n",
       "        text-align: right;\n",
       "    }\n",
       "</style>\n",
       "<table border=\"1\" class=\"dataframe\">\n",
       "  <thead>\n",
       "    <tr style=\"text-align: right;\">\n",
       "      <th></th>\n",
       "      <th>chrom</th>\n",
       "      <th>start</th>\n",
       "      <th>end</th>\n",
       "      <th>cpg_ratio</th>\n",
       "    </tr>\n",
       "  </thead>\n",
       "  <tbody>\n",
       "    <tr>\n",
       "      <th>0</th>\n",
       "      <td>chr1</td>\n",
       "      <td>0</td>\n",
       "      <td>100000</td>\n",
       "      <td>0.0</td>\n",
       "    </tr>\n",
       "    <tr>\n",
       "      <th>1</th>\n",
       "      <td>chr1</td>\n",
       "      <td>100000</td>\n",
       "      <td>200000</td>\n",
       "      <td>0.0</td>\n",
       "    </tr>\n",
       "    <tr>\n",
       "      <th>2</th>\n",
       "      <td>chr1</td>\n",
       "      <td>200000</td>\n",
       "      <td>300000</td>\n",
       "      <td>0.0</td>\n",
       "    </tr>\n",
       "    <tr>\n",
       "      <th>3</th>\n",
       "      <td>chr1</td>\n",
       "      <td>300000</td>\n",
       "      <td>400000</td>\n",
       "      <td>0.0</td>\n",
       "    </tr>\n",
       "    <tr>\n",
       "      <th>4</th>\n",
       "      <td>chr1</td>\n",
       "      <td>400000</td>\n",
       "      <td>500000</td>\n",
       "      <td>0.0</td>\n",
       "    </tr>\n",
       "  </tbody>\n",
       "</table>\n",
       "</div>"
      ],
      "text/plain": [
       "  chrom   start     end  cpg_ratio\n",
       "0  chr1       0  100000        0.0\n",
       "1  chr1  100000  200000        0.0\n",
       "2  chr1  200000  300000        0.0\n",
       "3  chr1  300000  400000        0.0\n",
       "4  chr1  400000  500000        0.0"
      ]
     },
     "execution_count": 5,
     "metadata": {},
     "output_type": "execute_result"
    }
   ],
   "source": [
    "cpg = pd.read_hdf('cpg_ratio_100k.hdf')\n",
    "cpg.head()"
   ]
  },
  {
   "cell_type": "markdown",
   "id": "df25e4ad-a4f2-4810-b137-add31bc497fe",
   "metadata": {},
   "source": [
    "## Select PC with celltype raw matrices"
   ]
  },
  {
   "cell_type": "code",
   "execution_count": 6,
   "id": "cdd4f1ce-913c-4d89-afa0-60e196a7978b",
   "metadata": {},
   "outputs": [],
   "source": [
    "Qall = []\n",
    "binall = []\n",
    "#cwd = os.getcwd()\n",
    "indir = f'{cwd}/CellType.Merged.Mcool'"
   ]
  },
  {
   "cell_type": "code",
   "execution_count": 7,
   "id": "605bb9ab-b8bb-4ba1-924a-5bbc359aa0dc",
   "metadata": {},
   "outputs": [
    {
     "ename": "FileNotFoundError",
     "evalue": "[Errno 2] Unable to synchronously open file (unable to open file: name = '/home/qzeng_salk_edu/project/240204-redo-compartment/CellType.Merged.Mcool/Oligo_NN.raw.mcool', errno = 2, error message = 'No such file or directory', flags = 0, o_flags = 0)",
     "output_type": "error",
     "traceback": [
      "\u001b[0;31m---------------------------------------------------------------------------\u001b[0m",
      "\u001b[0;31mFileNotFoundError\u001b[0m                         Traceback (most recent call last)",
      "Cell \u001b[0;32mIn[7], line 1\u001b[0m\n\u001b[0;32m----> 1\u001b[0m cool \u001b[38;5;241m=\u001b[39m \u001b[43mcooler\u001b[49m\u001b[38;5;241;43m.\u001b[39;49m\u001b[43mCooler\u001b[49m\u001b[43m(\u001b[49m\u001b[38;5;124;43mf\u001b[39;49m\u001b[38;5;124;43m'\u001b[39;49m\u001b[38;5;132;43;01m{\u001b[39;49;00m\u001b[43mindir\u001b[49m\u001b[38;5;132;43;01m}\u001b[39;49;00m\u001b[38;5;124;43m/\u001b[39;49m\u001b[38;5;132;43;01m{\u001b[39;49;00m\u001b[43mct\u001b[49m\u001b[38;5;132;43;01m}\u001b[39;49;00m\u001b[38;5;124;43m.raw.mcool::resolutions/100000\u001b[39;49m\u001b[38;5;124;43m'\u001b[39;49m\u001b[43m)\u001b[49m\n\u001b[1;32m      2\u001b[0m fig, axes \u001b[38;5;241m=\u001b[39m plt\u001b[38;5;241m.\u001b[39msubplots(\u001b[38;5;241m5\u001b[39m, \u001b[38;5;241m4\u001b[39m, figsize\u001b[38;5;241m=\u001b[39m(\u001b[38;5;241m15\u001b[39m,\u001b[38;5;241m15\u001b[39m))\n\u001b[1;32m      3\u001b[0m \u001b[38;5;28;01mfor\u001b[39;00m i,c \u001b[38;5;129;01min\u001b[39;00m \u001b[38;5;28menumerate\u001b[39m(chrom_sizes\u001b[38;5;241m.\u001b[39mindex):\n",
      "File \u001b[0;32m/opt/conda/lib/python3.10/site-packages/cooler/api.py:85\u001b[0m, in \u001b[0;36mCooler.__init__\u001b[0;34m(self, store, root, **kwargs)\u001b[0m\n\u001b[1;32m     83\u001b[0m     \u001b[38;5;28mself\u001b[39m\u001b[38;5;241m.\u001b[39mstore \u001b[38;5;241m=\u001b[39m store\u001b[38;5;241m.\u001b[39mfile\n\u001b[1;32m     84\u001b[0m     \u001b[38;5;28mself\u001b[39m\u001b[38;5;241m.\u001b[39mopen_kws \u001b[38;5;241m=\u001b[39m {}\n\u001b[0;32m---> 85\u001b[0m \u001b[38;5;28;43mself\u001b[39;49m\u001b[38;5;241;43m.\u001b[39;49m\u001b[43m_refresh\u001b[49m\u001b[43m(\u001b[49m\u001b[43m)\u001b[49m\n",
      "File \u001b[0;32m/opt/conda/lib/python3.10/site-packages/cooler/api.py:89\u001b[0m, in \u001b[0;36mCooler._refresh\u001b[0;34m(self)\u001b[0m\n\u001b[1;32m     87\u001b[0m \u001b[38;5;28;01mdef\u001b[39;00m \u001b[38;5;21m_refresh\u001b[39m(\u001b[38;5;28mself\u001b[39m):\n\u001b[1;32m     88\u001b[0m     \u001b[38;5;28;01mtry\u001b[39;00m:\n\u001b[0;32m---> 89\u001b[0m         \u001b[38;5;28;01mwith\u001b[39;00m open_hdf5(\u001b[38;5;28mself\u001b[39m\u001b[38;5;241m.\u001b[39mstore, \u001b[38;5;241m*\u001b[39m\u001b[38;5;241m*\u001b[39m\u001b[38;5;28mself\u001b[39m\u001b[38;5;241m.\u001b[39mopen_kws) \u001b[38;5;28;01mas\u001b[39;00m h5:\n\u001b[1;32m     90\u001b[0m             grp \u001b[38;5;241m=\u001b[39m h5[\u001b[38;5;28mself\u001b[39m\u001b[38;5;241m.\u001b[39mroot]\n\u001b[1;32m     91\u001b[0m             _ct \u001b[38;5;241m=\u001b[39m chroms(grp)\n",
      "File \u001b[0;32m/opt/conda/lib/python3.10/contextlib.py:135\u001b[0m, in \u001b[0;36m_GeneratorContextManager.__enter__\u001b[0;34m(self)\u001b[0m\n\u001b[1;32m    133\u001b[0m \u001b[38;5;28;01mdel\u001b[39;00m \u001b[38;5;28mself\u001b[39m\u001b[38;5;241m.\u001b[39margs, \u001b[38;5;28mself\u001b[39m\u001b[38;5;241m.\u001b[39mkwds, \u001b[38;5;28mself\u001b[39m\u001b[38;5;241m.\u001b[39mfunc\n\u001b[1;32m    134\u001b[0m \u001b[38;5;28;01mtry\u001b[39;00m:\n\u001b[0;32m--> 135\u001b[0m     \u001b[38;5;28;01mreturn\u001b[39;00m \u001b[38;5;28;43mnext\u001b[39;49m\u001b[43m(\u001b[49m\u001b[38;5;28;43mself\u001b[39;49m\u001b[38;5;241;43m.\u001b[39;49m\u001b[43mgen\u001b[49m\u001b[43m)\u001b[49m\n\u001b[1;32m    136\u001b[0m \u001b[38;5;28;01mexcept\u001b[39;00m \u001b[38;5;167;01mStopIteration\u001b[39;00m:\n\u001b[1;32m    137\u001b[0m     \u001b[38;5;28;01mraise\u001b[39;00m \u001b[38;5;167;01mRuntimeError\u001b[39;00m(\u001b[38;5;124m\"\u001b[39m\u001b[38;5;124mgenerator didn\u001b[39m\u001b[38;5;124m'\u001b[39m\u001b[38;5;124mt yield\u001b[39m\u001b[38;5;124m\"\u001b[39m) \u001b[38;5;28;01mfrom\u001b[39;00m \u001b[38;5;28;01mNone\u001b[39;00m\n",
      "File \u001b[0;32m/opt/conda/lib/python3.10/site-packages/cooler/util.py:527\u001b[0m, in \u001b[0;36mopen_hdf5\u001b[0;34m(fp, mode, *args, **kwargs)\u001b[0m\n\u001b[1;32m    525\u001b[0m \u001b[38;5;28;01mif\u001b[39;00m \u001b[38;5;28misinstance\u001b[39m(fp, \u001b[38;5;28mstr\u001b[39m):\n\u001b[1;32m    526\u001b[0m     own_fh \u001b[38;5;241m=\u001b[39m \u001b[38;5;28;01mTrue\u001b[39;00m\n\u001b[0;32m--> 527\u001b[0m     fh \u001b[38;5;241m=\u001b[39m \u001b[43mh5py\u001b[49m\u001b[38;5;241;43m.\u001b[39;49m\u001b[43mFile\u001b[49m\u001b[43m(\u001b[49m\u001b[43mfp\u001b[49m\u001b[43m,\u001b[49m\u001b[43m \u001b[49m\u001b[43mmode\u001b[49m\u001b[43m,\u001b[49m\u001b[43m \u001b[49m\u001b[38;5;241;43m*\u001b[39;49m\u001b[43margs\u001b[49m\u001b[43m,\u001b[49m\u001b[43m \u001b[49m\u001b[38;5;241;43m*\u001b[39;49m\u001b[38;5;241;43m*\u001b[39;49m\u001b[43mkwargs\u001b[49m\u001b[43m)\u001b[49m\n\u001b[1;32m    528\u001b[0m \u001b[38;5;28;01melse\u001b[39;00m:\n\u001b[1;32m    529\u001b[0m     own_fh \u001b[38;5;241m=\u001b[39m \u001b[38;5;28;01mFalse\u001b[39;00m\n",
      "File \u001b[0;32m/opt/conda/lib/python3.10/site-packages/h5py/_hl/files.py:567\u001b[0m, in \u001b[0;36mFile.__init__\u001b[0;34m(self, name, mode, driver, libver, userblock_size, swmr, rdcc_nslots, rdcc_nbytes, rdcc_w0, track_order, fs_strategy, fs_persist, fs_threshold, fs_page_size, page_buf_size, min_meta_keep, min_raw_keep, locking, alignment_threshold, alignment_interval, meta_block_size, **kwds)\u001b[0m\n\u001b[1;32m    558\u001b[0m     fapl \u001b[38;5;241m=\u001b[39m make_fapl(driver, libver, rdcc_nslots, rdcc_nbytes, rdcc_w0,\n\u001b[1;32m    559\u001b[0m                      locking, page_buf_size, min_meta_keep, min_raw_keep,\n\u001b[1;32m    560\u001b[0m                      alignment_threshold\u001b[38;5;241m=\u001b[39malignment_threshold,\n\u001b[1;32m    561\u001b[0m                      alignment_interval\u001b[38;5;241m=\u001b[39malignment_interval,\n\u001b[1;32m    562\u001b[0m                      meta_block_size\u001b[38;5;241m=\u001b[39mmeta_block_size,\n\u001b[1;32m    563\u001b[0m                      \u001b[38;5;241m*\u001b[39m\u001b[38;5;241m*\u001b[39mkwds)\n\u001b[1;32m    564\u001b[0m     fcpl \u001b[38;5;241m=\u001b[39m make_fcpl(track_order\u001b[38;5;241m=\u001b[39mtrack_order, fs_strategy\u001b[38;5;241m=\u001b[39mfs_strategy,\n\u001b[1;32m    565\u001b[0m                      fs_persist\u001b[38;5;241m=\u001b[39mfs_persist, fs_threshold\u001b[38;5;241m=\u001b[39mfs_threshold,\n\u001b[1;32m    566\u001b[0m                      fs_page_size\u001b[38;5;241m=\u001b[39mfs_page_size)\n\u001b[0;32m--> 567\u001b[0m     fid \u001b[38;5;241m=\u001b[39m \u001b[43mmake_fid\u001b[49m\u001b[43m(\u001b[49m\u001b[43mname\u001b[49m\u001b[43m,\u001b[49m\u001b[43m \u001b[49m\u001b[43mmode\u001b[49m\u001b[43m,\u001b[49m\u001b[43m \u001b[49m\u001b[43muserblock_size\u001b[49m\u001b[43m,\u001b[49m\u001b[43m \u001b[49m\u001b[43mfapl\u001b[49m\u001b[43m,\u001b[49m\u001b[43m \u001b[49m\u001b[43mfcpl\u001b[49m\u001b[43m,\u001b[49m\u001b[43m \u001b[49m\u001b[43mswmr\u001b[49m\u001b[38;5;241;43m=\u001b[39;49m\u001b[43mswmr\u001b[49m\u001b[43m)\u001b[49m\n\u001b[1;32m    569\u001b[0m \u001b[38;5;28;01mif\u001b[39;00m \u001b[38;5;28misinstance\u001b[39m(libver, \u001b[38;5;28mtuple\u001b[39m):\n\u001b[1;32m    570\u001b[0m     \u001b[38;5;28mself\u001b[39m\u001b[38;5;241m.\u001b[39m_libver \u001b[38;5;241m=\u001b[39m libver\n",
      "File \u001b[0;32m/opt/conda/lib/python3.10/site-packages/h5py/_hl/files.py:231\u001b[0m, in \u001b[0;36mmake_fid\u001b[0;34m(name, mode, userblock_size, fapl, fcpl, swmr)\u001b[0m\n\u001b[1;32m    229\u001b[0m     \u001b[38;5;28;01mif\u001b[39;00m swmr \u001b[38;5;129;01mand\u001b[39;00m swmr_support:\n\u001b[1;32m    230\u001b[0m         flags \u001b[38;5;241m|\u001b[39m\u001b[38;5;241m=\u001b[39m h5f\u001b[38;5;241m.\u001b[39mACC_SWMR_READ\n\u001b[0;32m--> 231\u001b[0m     fid \u001b[38;5;241m=\u001b[39m \u001b[43mh5f\u001b[49m\u001b[38;5;241;43m.\u001b[39;49m\u001b[43mopen\u001b[49m\u001b[43m(\u001b[49m\u001b[43mname\u001b[49m\u001b[43m,\u001b[49m\u001b[43m \u001b[49m\u001b[43mflags\u001b[49m\u001b[43m,\u001b[49m\u001b[43m \u001b[49m\u001b[43mfapl\u001b[49m\u001b[38;5;241;43m=\u001b[39;49m\u001b[43mfapl\u001b[49m\u001b[43m)\u001b[49m\n\u001b[1;32m    232\u001b[0m \u001b[38;5;28;01melif\u001b[39;00m mode \u001b[38;5;241m==\u001b[39m \u001b[38;5;124m'\u001b[39m\u001b[38;5;124mr+\u001b[39m\u001b[38;5;124m'\u001b[39m:\n\u001b[1;32m    233\u001b[0m     fid \u001b[38;5;241m=\u001b[39m h5f\u001b[38;5;241m.\u001b[39mopen(name, h5f\u001b[38;5;241m.\u001b[39mACC_RDWR, fapl\u001b[38;5;241m=\u001b[39mfapl)\n",
      "File \u001b[0;32mh5py/_objects.pyx:54\u001b[0m, in \u001b[0;36mh5py._objects.with_phil.wrapper\u001b[0;34m()\u001b[0m\n",
      "File \u001b[0;32mh5py/_objects.pyx:55\u001b[0m, in \u001b[0;36mh5py._objects.with_phil.wrapper\u001b[0;34m()\u001b[0m\n",
      "File \u001b[0;32mh5py/h5f.pyx:106\u001b[0m, in \u001b[0;36mh5py.h5f.open\u001b[0;34m()\u001b[0m\n",
      "\u001b[0;31mFileNotFoundError\u001b[0m: [Errno 2] Unable to synchronously open file (unable to open file: name = '/home/qzeng_salk_edu/project/240204-redo-compartment/CellType.Merged.Mcool/Oligo_NN.raw.mcool', errno = 2, error message = 'No such file or directory', flags = 0, o_flags = 0)"
     ]
    }
   ],
   "source": [
    "cool = cooler.Cooler(f'{indir}/{ct}.raw.mcool::resolutions/100000')\n",
    "fig, axes = plt.subplots(5, 4, figsize=(15,15))\n",
    "for i,c in enumerate(chrom_sizes.index):\n",
    "    Q = cool.matrix(balance=False, sparse=True).fetch(c).toarray()\n",
    "    Q = Q - np.diag(np.diag(Q))\n",
    "    rowsum = Q.sum(axis=0)\n",
    "    thres = [np.percentile(rowsum[rowsum>0], 50), np.percentile(rowsum[rowsum>0], 99)]\n",
    "    thres.append(thres[0]*2-thres[1])\n",
    "    ax = axes.flatten()[i]\n",
    "    sns.histplot(rowsum, bins=100, ax=ax)\n",
    "    for t in thres:\n",
    "        ax.plot([t, t], [0, ax.get_ylim()[1]*0.5], c='r')\n",
    "    ax.set_title(c)\n",
    "    binfilter = (rowsum>thres[-1])\n",
    "    binall.append(binfilter)\n",
    "    Q = Q[binfilter][:, binfilter]\n",
    "    Qall.append(Q)\n",
    "    #print(c)\n",
    "\n",
    "for i in range(chrom_sizes.shape[0], axes.flatten().shape[0]):\n",
    "    axes.flatten()[i].axis('off')\n",
    "\n",
    "fig, axes = plt.subplots(5, 4, figsize=(15,15))\n",
    "for i,c in enumerate(chrom_sizes.index):\n",
    "    ax = axes.flatten()[i]\n",
    "    n_bins = int(chrom_sizes[c] // 100000) + 1\n",
    "    tmp = np.zeros((n_bins, n_bins))\n",
    "    tmp[np.ix_(binall[i], binall[i])] = Qall[i]\n",
    "    ax.imshow(tmp, cmap='bwr', vmin=-np.percentile(Qall[i], 95), vmax=np.percentile(Qall[i], 95))\n",
    "    ax.set_xticks([])\n",
    "    ax.set_yticks([])\n",
    "    ax.set_title(c, fontsize=15)\n",
    "\n",
    "for i in range(chrom_sizes.shape[0], axes.flatten().shape[0]):\n",
    "    axes.flatten()[i].axis('off')\n",
    "    \n",
    "plt.tight_layout()\n",
    "# plt.savefig(f'{indir}/plot/celltype_A_decay.pdf', transparent=True)\n"
   ]
  },
  {
   "cell_type": "code",
   "execution_count": null,
   "id": "620d7da5-4a72-48f5-83fa-99a6c4779c6e",
   "metadata": {},
   "outputs": [],
   "source": [
    "selpc = {}\n",
    "indir = f'{cwd}/CellType.Merged.Mcool'\n",
    "cool = cooler.Cooler(f'{indir}/{ct}.raw.mcool::resolutions/100000')\n",
    "\n",
    "pcall, Call, binall, selall = [], [], [], []\n",
    "for k,chrom in enumerate(chrom_sizes.index):\n",
    "    ## Load matrix\n",
    "    Q = cool.matrix(balance=False, sparse=True).fetch(chrom).toarray()\n",
    "    Q = Q - np.diag(np.diag(Q))\n",
    "\n",
    "    ## Filter bins by coverage\n",
    "    rowsum = Q.sum(axis=0)\n",
    "    thres = [np.percentile(rowsum[rowsum>0], 50), np.percentile(rowsum[rowsum>0], 99)]\n",
    "    thres.append(thres[0]*2-thres[1])\n",
    "    binfilter = (rowsum>thres[-1])\n",
    "    binall.append(binfilter)\n",
    "    Q = Q[binfilter][:, binfilter]\n",
    "\n",
    "    ## Dist norm and corr\n",
    "    decay = np.array([np.mean(np.diag(Q, i)) for i in range(Q.shape[0])])\n",
    "    E = np.zeros(Q.shape)\n",
    "    row, col = np.diag_indices(E.shape[0])\n",
    "    E[row, col] = 1\n",
    "    for i in range(1, E.shape[0]):\n",
    "        E[row[:-i], col[i:]] = (Q[row[:-i], col[i:]] + 1e-5) / (decay[i] + 1e-5)\n",
    "    E = E + E.T\n",
    "    C = np.corrcoef(np.log2(E + 0.001))\n",
    "    Call.append(C)\n",
    "    pca = PCA(n_components=2)\n",
    "    pc = pca.fit_transform(C)\n",
    "    cpgtmp = cpg.loc[cpg['chrom']==chrom, 'cpg_ratio'].values[binfilter]\n",
    "\n",
    "    ## Correct direction of PC\n",
    "    for i in range(2):\n",
    "        if pearsonr(cpgtmp, pc[:,i])[0]>0:\n",
    "            pc[:,i] = pc[:,i]\n",
    "        else:\n",
    "            pc[:,i] = -pc[:,i]\n",
    "    pcall.append(pc)\n",
    "\n",
    "    ## Select PC by pearsonr\n",
    "    if np.abs(pearsonr(cpgtmp, pc[:,0])[0])>np.abs(pearsonr(cpgtmp, pc[:,1])[0]):\n",
    "        i1 = 0\n",
    "    else:\n",
    "        i1 = 1\n",
    "\n",
    "    ## Select PC by spearmanr\n",
    "    if np.abs(spearmanr(cpgtmp, pc[:,0])[0])>np.abs(pearsonr(cpgtmp, pc[:,1])[0]):\n",
    "        i2 = 0\n",
    "    else:\n",
    "        i2 = 1\n",
    "    \n",
    "    ## Select PC by comp strength\n",
    "    r = []\n",
    "    for i in range(2):\n",
    "        labels, groups = pd.qcut(pc[:,i], 50, labels=False, retbins=True)\n",
    "        sad = np.array([[E[np.ix_(labels==i, labels==j)].sum() for i in range(50)] for j in range(50)])\n",
    "        count = np.array([[(labels==i).sum()*(labels==j).sum() for i in range(50)] for j in range(50)])\n",
    "        sad = sad / count\n",
    "        r.append((sad[:10, :10].sum() + sad[-10:, -10:].sum()) / (sad[:10, -10:].sum() + sad[-10:, :10].sum()))\n",
    "    if r[0]>r[1]:\n",
    "        i3 = 0\n",
    "    else:\n",
    "        i3 = 1\n",
    "    \n",
    "    selall.append([i1, i2, i3])\n",
    "    print(chrom, i1, i2, i3)\n",
    "\n",
    "selpc[ct] = selall\n",
    "\n",
    "## Plot Corr and 2 PCs\n",
    "fig, axes = plt.subplots(3, 22, figsize=(66,4), gridspec_kw={'height_ratios':[5, 0.4, 0.4]}, sharex='col')\n",
    "for i,c in enumerate(chrom_sizes.index):\n",
    "    ax = axes[0,i]\n",
    "    n_bins = int(chrom_sizes[c] // 100000) + 1\n",
    "    tmp = np.zeros((n_bins, n_bins))\n",
    "    tmp[np.ix_(binall[i], binall[i])] = Call[i]\n",
    "    ax.imshow(tmp, cmap='bwr', vmin=np.percentile(Call[i], 5), vmax=np.percentile(Call[i], 95))\n",
    "    ax.set_xticks([])\n",
    "    ax.set_yticks([])\n",
    "    ax.set_title(c, fontsize=15)\n",
    "\n",
    "    for j in range(2):\n",
    "        ax = axes[j+1,i]\n",
    "        # ax.set_title('PC1', fontsize=10)\n",
    "        sns.despine(bottom=True, left=True, ax=ax)\n",
    "        tmp = np.zeros(n_bins)\n",
    "        tmp[binall[i]] = pcall[i][:, j]# / np.std(pcall[i])\n",
    "        x, y = np.arange(n_bins), tmp\n",
    "        # x, y = np.arange(pcall[i].shape[0]), pcall[i]\n",
    "        ax.fill_between(x, y, 0, where=y >= 0, facecolor='C3', interpolate=True)\n",
    "        ax.fill_between(x, y, 0, where=y <= 0, facecolor='C0', interpolate=True)\n",
    "        ax.set_yticks([])\n",
    "        ax.set_ylim([np.percentile(y, 1), np.percentile(y, 99)])\n",
    "\n",
    "plt.tight_layout()\n"
   ]
  },
  {
   "cell_type": "code",
   "execution_count": null,
   "id": "da8a5d31-5bf0-47a0-a4fd-638c3c1758fa",
   "metadata": {
    "scrolled": true
   },
   "outputs": [],
   "source": [
    "selpc_2 = [[selpc[ct][i][0] for i in range(chrom_sizes.shape[0])]]"
   ]
  },
  {
   "cell_type": "code",
   "execution_count": null,
   "id": "42527312-ec62-4232-9e80-b34ca1bfd69e",
   "metadata": {
    "scrolled": true
   },
   "outputs": [],
   "source": [
    "selpc = pd.DataFrame({ct:selpc_2[0]}, index=chrom_sizes.index).T\n",
    "selpc"
   ]
  },
  {
   "cell_type": "code",
   "execution_count": 8,
   "id": "1f71eeb1-11d6-4ee8-9453-02fe170085cb",
   "metadata": {},
   "outputs": [
    {
     "ename": "NameError",
     "evalue": "name 'selpc' is not defined",
     "output_type": "error",
     "traceback": [
      "\u001b[0;31m---------------------------------------------------------------------------\u001b[0m",
      "\u001b[0;31mNameError\u001b[0m                                 Traceback (most recent call last)",
      "Cell \u001b[0;32mIn[8], line 1\u001b[0m\n\u001b[0;32m----> 1\u001b[0m \u001b[43mselpc\u001b[49m\u001b[38;5;241m.\u001b[39mto_hdf(\u001b[38;5;124mf\u001b[39m\u001b[38;5;124m'\u001b[39m\u001b[38;5;132;01m{\u001b[39;00mct\u001b[38;5;132;01m}\u001b[39;00m\u001b[38;5;124m_celltype_selpc_raw.hdf\u001b[39m\u001b[38;5;124m'\u001b[39m, key\u001b[38;5;241m=\u001b[39m\u001b[38;5;124m'\u001b[39m\u001b[38;5;124mdata\u001b[39m\u001b[38;5;124m'\u001b[39m)\n",
      "\u001b[0;31mNameError\u001b[0m: name 'selpc' is not defined"
     ]
    }
   ],
   "source": [
    "selpc.to_hdf(f'{ct}_celltype_selpc_raw.hdf', key='data')"
   ]
  },
  {
   "cell_type": "markdown",
   "id": "0da98e03-20ad-4048-b406-4e47ad5dc91b",
   "metadata": {},
   "source": [
    "## Transform sample_nameidual raw matrices"
   ]
  },
  {
   "cell_type": "code",
   "execution_count": 42,
   "id": "bbbac588-736e-4d6e-8ad1-26346fb98ee7",
   "metadata": {},
   "outputs": [],
   "source": [
    "selpc = pd.read_hdf(f'{ct}_celltype_selpc_raw.hdf', key='data')"
   ]
  },
  {
   "cell_type": "code",
   "execution_count": 43,
   "id": "8d498641-1fa2-4cd3-aa7f-4558d9e5d475",
   "metadata": {},
   "outputs": [],
   "source": [
    "def compsaddle(cool):\n",
    "    global chrom_sizes, binall, modelall\n",
    "    sad = np.zeros((50, 50))\n",
    "    count = np.zeros((50, 50))\n",
    "    comptmp = []\n",
    "    for k,chrom in enumerate(chrom_sizes.index):\n",
    "        Q = cool.matrix(balance=False, sparse=True).fetch(chrom).toarray()\n",
    "        Q = Q - np.diag(np.diag(Q))\n",
    "        pc = np.zeros(Q.shape[0])\n",
    "        binfilter = binall[k]\n",
    "        Q = Q[binfilter][:, binfilter]\n",
    "        decay = np.array([np.mean(np.diag(Q, i)) for i in range(Q.shape[0])])\n",
    "        E = np.zeros(Q.shape)\n",
    "        row, col = np.diag_indices(E.shape[0])\n",
    "        E[row, col] = 1\n",
    "        for i in range(1, E.shape[0]):\n",
    "            E[row[:-i], col[i:]] = (Q[row[:-i], col[i:]] + 1e-5) / (decay[i] + 1e-5)\n",
    "        E = E + E.T\n",
    "        C = np.corrcoef(np.log2(E + 0.001))\n",
    "        pc = (C-np.mean(C, axis=0)).dot(modelall[k])\n",
    "        comptmp.append(pc)\n",
    "        labels, groups = pd.qcut(pc, 50, labels=False, retbins=True)\n",
    "        sad += np.array([[E[np.ix_(labels==i, labels==j)].sum() for i in range(50)] for j in range(50)])\n",
    "        count += np.array([[(labels==i).sum()*(labels==j).sum() for i in range(50)] for j in range(50)])\n",
    "    return np.concatenate(comptmp), sad, count\n"
   ]
  },
  {
   "cell_type": "code",
   "execution_count": 44,
   "id": "9f639856-6ce2-4474-8409-2dde360119ee",
   "metadata": {},
   "outputs": [],
   "source": [
    "cpu = 10\n",
    "mode = 'raw'\n",
    "ws = 10"
   ]
  },
  {
   "cell_type": "code",
   "execution_count": 45,
   "id": "fbaa98f3-00bf-4dbc-8d04-1f7d79eeefd2",
   "metadata": {},
   "outputs": [
    {
     "data": {
      "text/plain": [
       "['Oligo_NN.18mo.rep1.cool',\n",
       " 'Oligo_NN.18mo.rep2.cool',\n",
       " 'Oligo_NN.8wk.rep1.cool',\n",
       " 'Oligo_NN.8wk.rep2.cool',\n",
       " 'Oligo_NN.9mo.rep1.cool',\n",
       " 'Oligo_NN.9mo.rep2.cool']"
      ]
     },
     "execution_count": 45,
     "metadata": {},
     "output_type": "execute_result"
    }
   ],
   "source": [
    "indir = '/data/female-amb/AMB.CoolFiles/CellType.Age.Rep.Raw.5kb.mcool'\n",
    "leg = [ ]\n",
    "for path in glob.glob(f'{indir}/*.raw.mcool'):\n",
    "    sample = pathlib.Path(path).name.split('.raw')[0]\n",
    "    tmpct = sample.split('.')[0]\n",
    "    if tmpct == ct:\n",
    "        leg.append(sample)\n",
    "leg= sorted(leg)\n",
    "leg"
   ]
  },
  {
   "cell_type": "code",
   "execution_count": 46,
   "id": "92dfb9b9-45f7-4c98-80e0-d1bc365ff9dc",
   "metadata": {},
   "outputs": [
    {
     "name": "stdout",
     "output_type": "stream",
     "text": [
      "chr1 0\n",
      "chr2 0\n",
      "chr3 0\n",
      "chr4 0\n",
      "chr5 0\n",
      "chr6 0\n",
      "chr7 0\n",
      "chr8 0\n",
      "chr9 0\n",
      "chr10 0\n",
      "chr11 0\n",
      "chr12 0\n",
      "chr13 0\n",
      "chr14 0\n",
      "chr15 0\n",
      "chr16 0\n",
      "chr17 0\n",
      "chr18 0\n",
      "chr19 0\n",
      "chrX 0\n"
     ]
    }
   ],
   "source": [
    "binall, modelall, pcall = [], [], []\n",
    "indir = f'{cwd}/CellType.Merged.Mcool'\n",
    "cool = cooler.Cooler(f'{indir}/{ct}.raw.mcool::resolutions/100000')\n",
    "\n",
    "for k,chrom in enumerate(chrom_sizes.index):\n",
    "    ## Load matrix\n",
    "    Q = cool.matrix(balance=False, sparse=True).fetch(chrom).toarray()\n",
    "    Q = Q - np.diag(np.diag(Q))\n",
    "    \n",
    "    ## Filter bins by coverage\n",
    "    rowsum = Q.sum(axis=0)\n",
    "    thres = [np.percentile(rowsum[rowsum>0], 50), np.percentile(rowsum[rowsum>0], 99)]\n",
    "    thres.append(thres[0]*2-thres[1])\n",
    "    binfilter = (rowsum>thres[-1])\n",
    "    binall.append(binfilter)\n",
    "    Q = Q[binfilter][:, binfilter]\n",
    "    \n",
    "    ## Fit PC with celltype Corr\n",
    "    decay = np.array([np.mean(np.diag(Q, i)) for i in range(Q.shape[0])])\n",
    "    E = np.zeros(Q.shape)\n",
    "    row, col = np.diag_indices(E.shape[0])\n",
    "    E[row, col] = 1\n",
    "    for i in range(1, E.shape[0]):\n",
    "        E[row[:-i], col[i:]] = (Q[row[:-i], col[i:]] + 1e-5) / (decay[i] + 1e-5)\n",
    "    E = E + E.T\n",
    "    C = np.corrcoef(np.log2(E + 0.001))\n",
    "    pca = PCA(n_components=2)\n",
    "    pc = pca.fit_transform(C)\n",
    "    cpgtmp = cpg.loc[cpg['chrom']==chrom, 'cpg_ratio'].values[binfilter]\n",
    "    i = selpc.loc[ct, chrom]\n",
    "    if pearsonr(cpgtmp, pc[:,i])[0]>0:\n",
    "        modelall.append(pca.components_[i])\n",
    "        pcall.append(pc[:,i])\n",
    "    else:\n",
    "        modelall.append(-pca.components_[i])\n",
    "        pcall.append(-pc[:,i])\n",
    "    print(chrom, i)"
   ]
  },
  {
   "cell_type": "code",
   "execution_count": 48,
   "id": "368b9d4b-633d-4c32-9728-daa275b5a662",
   "metadata": {},
   "outputs": [
    {
     "data": {
      "text/plain": [
       "['Oligo_NN.18mo.rep1.cool',\n",
       " 'Oligo_NN.18mo.rep2.cool',\n",
       " 'Oligo_NN.8wk.rep1.cool',\n",
       " 'Oligo_NN.8wk.rep2.cool',\n",
       " 'Oligo_NN.9mo.rep1.cool',\n",
       " 'Oligo_NN.9mo.rep2.cool']"
      ]
     },
     "execution_count": 48,
     "metadata": {},
     "output_type": "execute_result"
    }
   ],
   "source": [
    "indir = '/data/female-amb/AMB.CoolFiles/CellType.Age.Rep.Raw.5kb.mcool'\n",
    "leg = [ ]\n",
    "for path in glob.glob(f'{indir}/*.raw.mcool'):\n",
    "    sample = pathlib.Path(path).name.split('.raw')[0]\n",
    "    tmpct = sample.split('.')[0]\n",
    "    if tmpct == ct:\n",
    "        leg.append(sample)\n",
    "leg= sorted(leg)\n",
    "leg"
   ]
  },
  {
   "cell_type": "code",
   "execution_count": 49,
   "id": "c80a73f0-fc5b-49db-be2f-0de820ae454d",
   "metadata": {},
   "outputs": [
    {
     "name": "stdout",
     "output_type": "stream",
     "text": [
      "Oligo_NN.8wk.rep2.cool finished\n",
      "Oligo_NN.18mo.rep1.cool finished\n",
      "Oligo_NN.18mo.rep2.cool finished\n",
      "Oligo_NN.8wk.rep1.cool finished\n",
      "Oligo_NN.9mo.rep1.cool finished\n",
      "Oligo_NN.9mo.rep2.cool finished\n"
     ]
    }
   ],
   "source": [
    "## Transform PC with sample_nameidual Corr\n",
    "comp = []\n",
    "sad, count = {}, {}\n",
    "with ProcessPoolExecutor(cpu) as executor:\n",
    "    futures = {}\n",
    "    for sample_name in leg:\n",
    "        if mode=='impute':\n",
    "            cool = cooler.Cooler(f'{indir}{ct}-{sample_name}/{ct}-{sample_name}.Q.cool')\n",
    "        elif mode=='raw':\n",
    "            cool = cooler.Cooler(f'{indir}/{sample_name}.raw.mcool::resolutions/100000')\n",
    "        future = executor.submit(\n",
    "            compsaddle,\n",
    "            cool=cool,\n",
    "        )\n",
    "        futures[future] = sample_name\n",
    "\n",
    "    for future in as_completed(futures):\n",
    "        sample_name = futures[future]\n",
    "        xx, yy, zz = future.result()\n",
    "        comp.append(pd.Series(xx, name=sample_name))\n",
    "        sad[sample_name] = yy\n",
    "        count[sample_name] = zz\n",
    "        print(f'{sample_name} finished')\n",
    "        \n",
    "## Save compscore and comp strength\n",
    "compidx = np.concatenate([bins_df.index[bins_df['chrom']==c][binall[i]] for i,c in enumerate(chrom_sizes.index)])\n",
    "comp = pd.concat(comp, axis=1)\n",
    "comp.index = compidx.copy()\n",
    "comp.to_hdf(f'{indir}sample_namecomp_{mode}_{sample_name}_celltyperawpca.hdf', key='data')\n",
    "\n",
    "compstr = []\n",
    "for xx in leg:\n",
    "    tmp = sad[xx] / count[xx]\n",
    "    compstr.append([tmp[:ws, :ws].mean(), tmp[-ws:, -ws:].mean(), tmp[:ws, -ws:].mean(), tmp[-ws:, :ws].mean(), \n",
    "                     (tmp[:ws, :ws].sum() + tmp[-ws:, -ws:].sum()) / (tmp[:ws, -ws:].sum() + tmp[-ws:, :ws].sum())])\n",
    "\n",
    "compstr = pd.DataFrame(compstr, index=leg, columns=['BB', 'AA', 'BA', 'AB', 'strength'])\n",
    "compstr.to_hdf(f'stats_{mode}_{ct}.hdf', key='data')"
   ]
  },
  {
   "cell_type": "code",
   "execution_count": 53,
   "id": "dcab219e-aea4-40a3-8b47-819639caf369",
   "metadata": {},
   "outputs": [
    {
     "data": {
      "text/html": [
       "<div>\n",
       "<style scoped>\n",
       "    .dataframe tbody tr th:only-of-type {\n",
       "        vertical-align: middle;\n",
       "    }\n",
       "\n",
       "    .dataframe tbody tr th {\n",
       "        vertical-align: top;\n",
       "    }\n",
       "\n",
       "    .dataframe thead th {\n",
       "        text-align: right;\n",
       "    }\n",
       "</style>\n",
       "<table border=\"1\" class=\"dataframe\">\n",
       "  <thead>\n",
       "    <tr style=\"text-align: right;\">\n",
       "      <th></th>\n",
       "      <th>BB</th>\n",
       "      <th>AA</th>\n",
       "      <th>BA</th>\n",
       "      <th>AB</th>\n",
       "      <th>strength</th>\n",
       "      <th>Celltype</th>\n",
       "    </tr>\n",
       "  </thead>\n",
       "  <tbody>\n",
       "    <tr>\n",
       "      <th>Oligo_NN.18mo.rep1.cool</th>\n",
       "      <td>1.831352</td>\n",
       "      <td>1.799398</td>\n",
       "      <td>0.234728</td>\n",
       "      <td>0.234728</td>\n",
       "      <td>7.733937</td>\n",
       "      <td>Oligo_NN</td>\n",
       "    </tr>\n",
       "    <tr>\n",
       "      <th>Oligo_NN.18mo.rep2.cool</th>\n",
       "      <td>1.881098</td>\n",
       "      <td>1.783091</td>\n",
       "      <td>0.229006</td>\n",
       "      <td>0.229006</td>\n",
       "      <td>8.000205</td>\n",
       "      <td>Oligo_NN</td>\n",
       "    </tr>\n",
       "    <tr>\n",
       "      <th>Oligo_NN.8wk.rep1.cool</th>\n",
       "      <td>1.889879</td>\n",
       "      <td>1.689785</td>\n",
       "      <td>0.267713</td>\n",
       "      <td>0.267713</td>\n",
       "      <td>6.685638</td>\n",
       "      <td>Oligo_NN</td>\n",
       "    </tr>\n",
       "    <tr>\n",
       "      <th>Oligo_NN.8wk.rep2.cool</th>\n",
       "      <td>1.784468</td>\n",
       "      <td>1.705698</td>\n",
       "      <td>0.288986</td>\n",
       "      <td>0.288986</td>\n",
       "      <td>6.038633</td>\n",
       "      <td>Oligo_NN</td>\n",
       "    </tr>\n",
       "    <tr>\n",
       "      <th>Oligo_NN.9mo.rep1.cool</th>\n",
       "      <td>1.811342</td>\n",
       "      <td>1.749227</td>\n",
       "      <td>0.277857</td>\n",
       "      <td>0.277857</td>\n",
       "      <td>6.407203</td>\n",
       "      <td>Oligo_NN</td>\n",
       "    </tr>\n",
       "    <tr>\n",
       "      <th>Oligo_NN.9mo.rep2.cool</th>\n",
       "      <td>1.877102</td>\n",
       "      <td>1.755328</td>\n",
       "      <td>0.255819</td>\n",
       "      <td>0.255819</td>\n",
       "      <td>7.099605</td>\n",
       "      <td>Oligo_NN</td>\n",
       "    </tr>\n",
       "  </tbody>\n",
       "</table>\n",
       "</div>"
      ],
      "text/plain": [
       "                               BB        AA        BA        AB  strength  \\\n",
       "Oligo_NN.18mo.rep1.cool  1.831352  1.799398  0.234728  0.234728  7.733937   \n",
       "Oligo_NN.18mo.rep2.cool  1.881098  1.783091  0.229006  0.229006  8.000205   \n",
       "Oligo_NN.8wk.rep1.cool   1.889879  1.689785  0.267713  0.267713  6.685638   \n",
       "Oligo_NN.8wk.rep2.cool   1.784468  1.705698  0.288986  0.288986  6.038633   \n",
       "Oligo_NN.9mo.rep1.cool   1.811342  1.749227  0.277857  0.277857  6.407203   \n",
       "Oligo_NN.9mo.rep2.cool   1.877102  1.755328  0.255819  0.255819  7.099605   \n",
       "\n",
       "                         Celltype  \n",
       "Oligo_NN.18mo.rep1.cool  Oligo_NN  \n",
       "Oligo_NN.18mo.rep2.cool  Oligo_NN  \n",
       "Oligo_NN.8wk.rep1.cool   Oligo_NN  \n",
       "Oligo_NN.8wk.rep2.cool   Oligo_NN  \n",
       "Oligo_NN.9mo.rep1.cool   Oligo_NN  \n",
       "Oligo_NN.9mo.rep2.cool   Oligo_NN  "
      ]
     },
     "execution_count": 53,
     "metadata": {},
     "output_type": "execute_result"
    }
   ],
   "source": [
    "compstr"
   ]
  },
  {
   "cell_type": "code",
   "execution_count": 50,
   "id": "9451f17e-ea8d-4db6-b108-8333b1f4eefa",
   "metadata": {},
   "outputs": [],
   "source": [
    "stats = []\n",
    "ct = group_name\n",
    "compstr = pd.read_hdf(f'stats_{mode}_{ct}.hdf', key='data')\n",
    "compstr['Celltype'] = ct\n",
    "stats.append(compstr)\n",
    "\n",
    "stats = pd.concat(stats)\n",
    "stats['Group'] = stats.index.str.split('-').str[-1]"
   ]
  },
  {
   "cell_type": "code",
   "execution_count": 51,
   "id": "6e04748e-c1ec-4db8-bc78-0f3d9cceb930",
   "metadata": {
    "scrolled": true
   },
   "outputs": [],
   "source": [
    "stats['Age'] = stats['Group'].apply(lambda x: x.split('.')[1])"
   ]
  },
  {
   "cell_type": "code",
   "execution_count": 52,
   "id": "c5c20cdc-b046-4203-b771-0243923ddc43",
   "metadata": {},
   "outputs": [
    {
     "data": {
      "image/png": "[encoded data removed]",
      "text/plain": [
       "<Figure size 1000x200 with 5 Axes>"
      ]
     },
     "metadata": {},
     "output_type": "display_data"
    }
   ],
   "source": [
    "fig, axes = plt.subplots(figsize= (10,2), ncols = 5, sharex='all', constrained_layout = True)\n",
    "for category, ax in zip(['AA', 'BB', 'AB','BA', 'strength'],axes.ravel()):\n",
    "    sns.stripplot(data=stats, \n",
    "                  x=\"Age\", y=category, \n",
    "                  hue=\"Age\", legend=False,\n",
    "                  hue_order = ['8wk','9mo','18mo'],\n",
    "                  ax = ax)\n",
    "    ax.set_title(f'{category}')\n",
    "    "
   ]
  },
  {
   "cell_type": "code",
   "execution_count": null,
   "id": "400587f7-1e3d-44af-8a9a-8d571f52279e",
   "metadata": {},
   "outputs": [],
   "source": []
  },
  {
   "cell_type": "code",
   "execution_count": null,
   "id": "be859109-d3e0-4160-a86d-5b212e51cef3",
   "metadata": {},
   "outputs": [],
   "source": []
  },
  {
   "cell_type": "code",
   "execution_count": null,
   "id": "367aebbe-aaf0-4903-a686-05e4cea86f4e",
   "metadata": {},
   "outputs": [],
   "source": []
  },
  {
   "cell_type": "code",
   "execution_count": null,
   "id": "fa779f2f-d6a8-41cf-8c7b-e8f25ef01ed1",
   "metadata": {},
   "outputs": [],
   "source": []
  },
  {
   "cell_type": "code",
   "execution_count": null,
   "id": "73ea9368-eaa7-4f36-9f76-b785c87a113b",
   "metadata": {},
   "outputs": [],
   "source": []
  },
  {
   "cell_type": "code",
   "execution_count": null,
   "id": "446f0c35-ed5a-446a-bc7a-2c102d3b3e36",
   "metadata": {},
   "outputs": [],
   "source": []
  },
  {
   "cell_type": "code",
   "execution_count": null,
   "id": "ee65b2af-d5c9-4b11-a831-da34e259cbfb",
   "metadata": {},
   "outputs": [],
   "source": []
  }
 ],
 "metadata": {
  "kernelspec": {
   "display_name": "Python 3 (ipykernel)",
   "language": "python",
   "name": "python3"
  },
  "language_info": {
   "codemirror_mode": {
    "name": "ipython",
    "version": 3
   },
   "file_extension": ".py",
   "mimetype": "text/x-python",
   "name": "python",
   "nbconvert_exporter": "python",
   "pygments_lexer": "ipython3",
   "version": "3.10.12"
  }
 },
 "nbformat": 4,
 "nbformat_minor": 5
}
