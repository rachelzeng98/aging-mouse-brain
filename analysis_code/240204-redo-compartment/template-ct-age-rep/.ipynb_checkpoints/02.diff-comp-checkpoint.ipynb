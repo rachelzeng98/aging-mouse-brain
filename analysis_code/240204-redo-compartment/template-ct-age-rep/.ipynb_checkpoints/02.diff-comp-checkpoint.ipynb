{
 "cells": [
  {
   "cell_type": "code",
   "execution_count": 1,
   "id": "8b5c77f4-c9c3-43a1-91e5-75bfdcca6186",
   "metadata": {
    "papermill": {
     "duration": 0.982275,
     "end_time": "2024-02-06T01:41:23.948362",
     "exception": false,
     "start_time": "2024-02-06T01:41:22.966087",
     "status": "completed"
    },
    "tags": []
   },
   "outputs": [],
   "source": [
    "import os\n",
    "import cooler\n",
    "import numpy as np\n",
    "import pandas as pd\n",
    "import matplotlib as mpl\n",
    "import matplotlib.pyplot as plt\n",
    "from matplotlib.colors import LogNorm\n",
    "from matplotlib import cm as cm\n",
    "import seaborn as sns\n",
    "import subprocess"
   ]
  },
  {
   "cell_type": "code",
   "execution_count": null,
   "id": "39c95685-d31c-4054-a75c-fc47d70eadc4",
   "metadata": {
    "papermill": {
     "duration": 0.011963,
     "end_time": "2024-02-06T01:41:23.964189",
     "exception": false,
     "start_time": "2024-02-06T01:41:23.952226",
     "status": "completed"
    },
    "tags": []
   },
   "outputs": [],
   "source": [
    "#group_name = 'Oligo_NN'"
   ]
  },
  {
   "cell_type": "code",
   "execution_count": 3,
   "id": "c65a8606-dcf8-4dfa-90ce-44c8fb70ea4c",
   "metadata": {
    "papermill": {
     "duration": 0.011977,
     "end_time": "2024-02-06T01:41:23.979575",
     "exception": false,
     "start_time": "2024-02-06T01:41:23.967598",
     "status": "completed"
    },
    "tags": []
   },
   "outputs": [],
   "source": [
    "ct = group_name\n",
    "mode= 'raw'"
   ]
  },
  {
   "cell_type": "code",
   "execution_count": 10,
   "id": "aea2f7a9-213a-4468-a462-6097ba040c0f",
   "metadata": {
    "papermill": {
     "duration": 0.059727,
     "end_time": "2024-02-06T01:41:24.041800",
     "exception": false,
     "start_time": "2024-02-06T01:41:23.982073",
     "status": "completed"
    },
    "tags": []
   },
   "outputs": [
    {
     "data": {
      "text/html": [
       "<div>\n",
       "<style scoped>\n",
       "    .dataframe tbody tr th:only-of-type {\n",
       "        vertical-align: middle;\n",
       "    }\n",
       "\n",
       "    .dataframe tbody tr th {\n",
       "        vertical-align: top;\n",
       "    }\n",
       "\n",
       "    .dataframe thead th {\n",
       "        text-align: right;\n",
       "    }\n",
       "</style>\n",
       "<table border=\"1\" class=\"dataframe\">\n",
       "  <thead>\n",
       "    <tr style=\"text-align: right;\">\n",
       "      <th></th>\n",
       "      <th>Oligo_NN_8wk_rep1_cool</th>\n",
       "      <th>Oligo_NN_8wk_rep2_cool</th>\n",
       "      <th>Oligo_NN_9mo_rep1_cool</th>\n",
       "      <th>Oligo_NN_9mo_rep2_cool</th>\n",
       "      <th>Oligo_NN_18mo_rep1_cool</th>\n",
       "      <th>Oligo_NN_18mo_rep2_cool</th>\n",
       "    </tr>\n",
       "  </thead>\n",
       "  <tbody>\n",
       "    <tr>\n",
       "      <th>chr1-33</th>\n",
       "      <td>0.664081</td>\n",
       "      <td>0.882307</td>\n",
       "      <td>1.374050</td>\n",
       "      <td>0.188573</td>\n",
       "      <td>1.475508</td>\n",
       "      <td>1.684983</td>\n",
       "    </tr>\n",
       "    <tr>\n",
       "      <th>chr1-34</th>\n",
       "      <td>1.176673</td>\n",
       "      <td>0.563204</td>\n",
       "      <td>0.731011</td>\n",
       "      <td>-0.862875</td>\n",
       "      <td>1.581987</td>\n",
       "      <td>1.674599</td>\n",
       "    </tr>\n",
       "    <tr>\n",
       "      <th>chr1-35</th>\n",
       "      <td>0.335689</td>\n",
       "      <td>0.446215</td>\n",
       "      <td>-0.108977</td>\n",
       "      <td>-1.098165</td>\n",
       "      <td>0.117888</td>\n",
       "      <td>0.249437</td>\n",
       "    </tr>\n",
       "    <tr>\n",
       "      <th>chr1-36</th>\n",
       "      <td>-0.048736</td>\n",
       "      <td>0.042604</td>\n",
       "      <td>0.116684</td>\n",
       "      <td>-0.917448</td>\n",
       "      <td>-0.415474</td>\n",
       "      <td>-0.758961</td>\n",
       "    </tr>\n",
       "    <tr>\n",
       "      <th>chr1-39</th>\n",
       "      <td>-4.091049</td>\n",
       "      <td>-3.248887</td>\n",
       "      <td>-5.815361</td>\n",
       "      <td>-6.526796</td>\n",
       "      <td>-6.562894</td>\n",
       "      <td>-7.325637</td>\n",
       "    </tr>\n",
       "  </tbody>\n",
       "</table>\n",
       "</div>"
      ],
      "text/plain": [
       "         Oligo_NN_8wk_rep1_cool  Oligo_NN_8wk_rep2_cool  \\\n",
       "chr1-33                0.664081                0.882307   \n",
       "chr1-34                1.176673                0.563204   \n",
       "chr1-35                0.335689                0.446215   \n",
       "chr1-36               -0.048736                0.042604   \n",
       "chr1-39               -4.091049               -3.248887   \n",
       "\n",
       "         Oligo_NN_9mo_rep1_cool  Oligo_NN_9mo_rep2_cool  \\\n",
       "chr1-33                1.374050                0.188573   \n",
       "chr1-34                0.731011               -0.862875   \n",
       "chr1-35               -0.108977               -1.098165   \n",
       "chr1-36                0.116684               -0.917448   \n",
       "chr1-39               -5.815361               -6.526796   \n",
       "\n",
       "         Oligo_NN_18mo_rep1_cool  Oligo_NN_18mo_rep2_cool  \n",
       "chr1-33                 1.475508                 1.684983  \n",
       "chr1-34                 1.581987                 1.674599  \n",
       "chr1-35                 0.117888                 0.249437  \n",
       "chr1-36                -0.415474                -0.758961  \n",
       "chr1-39                -6.562894                -7.325637  "
      ]
     },
     "execution_count": 10,
     "metadata": {},
     "output_type": "execute_result"
    }
   ],
   "source": [
    "comp = pd.read_hdf(f'{mode}_{ct}_celltyperawpca.hdf')\n",
    "\n",
    "leg = pd.Index([f'{ct}.8wk.rep1.cool',f'{ct}.8wk.rep2.cool',\n",
    "       f'{ct}.9mo.rep1.cool',f'{ct}.9mo.rep2.cool',\n",
    "       f'{ct}.18mo.rep1.cool',f'{ct}.18mo.rep2.cool'])\n",
    "\n",
    "comp = comp[leg]\n",
    "comp.columns = [group.replace('.','_').replace('-','_') for group in leg] \n",
    "leg= comp.columns\n",
    "comp.head()"
   ]
  },
  {
   "cell_type": "code",
   "execution_count": 11,
   "id": "a57a2a53-1c19-476f-a165-172c5e1f8edb",
   "metadata": {
    "papermill": {
     "duration": 0.036737,
     "end_time": "2024-02-06T01:41:24.094711",
     "exception": false,
     "start_time": "2024-02-06T01:41:24.057974",
     "status": "completed"
    },
    "tags": []
   },
   "outputs": [
    {
     "data": {
      "text/html": [
       "<div>\n",
       "<style scoped>\n",
       "    .dataframe tbody tr th:only-of-type {\n",
       "        vertical-align: middle;\n",
       "    }\n",
       "\n",
       "    .dataframe tbody tr th {\n",
       "        vertical-align: top;\n",
       "    }\n",
       "\n",
       "    .dataframe thead th {\n",
       "        text-align: right;\n",
       "    }\n",
       "</style>\n",
       "<table border=\"1\" class=\"dataframe\">\n",
       "  <thead>\n",
       "    <tr style=\"text-align: right;\">\n",
       "      <th></th>\n",
       "      <th>chrom</th>\n",
       "      <th>start</th>\n",
       "      <th>end</th>\n",
       "    </tr>\n",
       "  </thead>\n",
       "  <tbody>\n",
       "    <tr>\n",
       "      <th>chr1-33</th>\n",
       "      <td>chr1</td>\n",
       "      <td>3300000</td>\n",
       "      <td>3400000</td>\n",
       "    </tr>\n",
       "    <tr>\n",
       "      <th>chr1-34</th>\n",
       "      <td>chr1</td>\n",
       "      <td>3400000</td>\n",
       "      <td>3500000</td>\n",
       "    </tr>\n",
       "    <tr>\n",
       "      <th>chr1-35</th>\n",
       "      <td>chr1</td>\n",
       "      <td>3500000</td>\n",
       "      <td>3600000</td>\n",
       "    </tr>\n",
       "    <tr>\n",
       "      <th>chr1-36</th>\n",
       "      <td>chr1</td>\n",
       "      <td>3600000</td>\n",
       "      <td>3700000</td>\n",
       "    </tr>\n",
       "    <tr>\n",
       "      <th>chr1-39</th>\n",
       "      <td>chr1</td>\n",
       "      <td>3900000</td>\n",
       "      <td>4000000</td>\n",
       "    </tr>\n",
       "    <tr>\n",
       "      <th>...</th>\n",
       "      <td>...</td>\n",
       "      <td>...</td>\n",
       "      <td>...</td>\n",
       "    </tr>\n",
       "    <tr>\n",
       "      <th>chrX-1694</th>\n",
       "      <td>chrX</td>\n",
       "      <td>169400000</td>\n",
       "      <td>169500000</td>\n",
       "    </tr>\n",
       "    <tr>\n",
       "      <th>chrX-1695</th>\n",
       "      <td>chrX</td>\n",
       "      <td>169500000</td>\n",
       "      <td>169600000</td>\n",
       "    </tr>\n",
       "    <tr>\n",
       "      <th>chrX-1696</th>\n",
       "      <td>chrX</td>\n",
       "      <td>169600000</td>\n",
       "      <td>169700000</td>\n",
       "    </tr>\n",
       "    <tr>\n",
       "      <th>chrX-1697</th>\n",
       "      <td>chrX</td>\n",
       "      <td>169700000</td>\n",
       "      <td>169800000</td>\n",
       "    </tr>\n",
       "    <tr>\n",
       "      <th>chrX-1698</th>\n",
       "      <td>chrX</td>\n",
       "      <td>169800000</td>\n",
       "      <td>169900000</td>\n",
       "    </tr>\n",
       "  </tbody>\n",
       "</table>\n",
       "<p>23588 rows × 3 columns</p>\n",
       "</div>"
      ],
      "text/plain": [
       "          chrom      start        end\n",
       "chr1-33    chr1    3300000    3400000\n",
       "chr1-34    chr1    3400000    3500000\n",
       "chr1-35    chr1    3500000    3600000\n",
       "chr1-36    chr1    3600000    3700000\n",
       "chr1-39    chr1    3900000    4000000\n",
       "...         ...        ...        ...\n",
       "chrX-1694  chrX  169400000  169500000\n",
       "chrX-1695  chrX  169500000  169600000\n",
       "chrX-1696  chrX  169600000  169700000\n",
       "chrX-1697  chrX  169700000  169800000\n",
       "chrX-1698  chrX  169800000  169900000\n",
       "\n",
       "[23588 rows x 3 columns]"
      ]
     },
     "execution_count": 11,
     "metadata": {},
     "output_type": "execute_result"
    }
   ],
   "source": [
    "binall = pd.read_csv('binall.csv', index_col = 0)\n",
    "binall"
   ]
  },
  {
   "cell_type": "code",
   "execution_count": 12,
   "id": "f7db2ad8-feac-4600-a4c4-3ed21dc9449d",
   "metadata": {
    "papermill": {
     "duration": 0.010185,
     "end_time": "2024-02-06T01:41:24.107270",
     "exception": false,
     "start_time": "2024-02-06T01:41:24.097085",
     "status": "completed"
    },
    "tags": []
   },
   "outputs": [],
   "source": [
    "res = 100000\n",
    "chrom_size_path = '/ref/m3C/mm10.main.nochrM.nochrY.chrom.sizes'\n",
    "chrom_sizes = cooler.read_chromsizes(chrom_size_path, all_names=True)"
   ]
  },
  {
   "cell_type": "code",
   "execution_count": 13,
   "id": "4f2bc9d2-208d-4e2e-8328-41f0a49519c7",
   "metadata": {
    "papermill": {
     "duration": 0.00898,
     "end_time": "2024-02-06T01:41:24.118609",
     "exception": false,
     "start_time": "2024-02-06T01:41:24.109629",
     "status": "completed"
    },
    "tags": []
   },
   "outputs": [
    {
     "data": {
      "text/plain": [
       "'/home/qzeng_salk_edu/project/240204-redo-compartment/template-ct-age-rep'"
      ]
     },
     "execution_count": 13,
     "metadata": {},
     "output_type": "execute_result"
    }
   ],
   "source": [
    "outdir = os.getcwd()\n",
    "outdir"
   ]
  },
  {
   "cell_type": "code",
   "execution_count": 14,
   "id": "c70950dd-7169-42d6-a675-19f76d643aae",
   "metadata": {
    "papermill": {
     "duration": 0.225721,
     "end_time": "2024-02-06T01:41:24.347516",
     "exception": false,
     "start_time": "2024-02-06T01:41:24.121795",
     "status": "completed"
    },
    "tags": []
   },
   "outputs": [],
   "source": [
    "for xx in leg:\n",
    "    os.makedirs(f'{outdir}/{xx}_100Kb_pca/intra_pca/{xx}_100Kb_mat/', exist_ok=True)\n",
    "    tmp = binall.copy()\n",
    "    tmp['pc'] = comp[xx]\n",
    "    for c in chrom_sizes.index:\n",
    "        tmp.loc[tmp['chrom']==c].to_csv(f'{outdir}/{xx}_100Kb_pca/intra_pca/{xx}_100Kb_mat/{c}.pc.bedGraph', sep='\\t', header=False, index=False)"
   ]
  },
  {
   "cell_type": "code",
   "execution_count": 15,
   "id": "4ea6876d-b0df-4cd8-8982-fbcc10111175",
   "metadata": {
    "papermill": {
     "duration": 0.016204,
     "end_time": "2024-02-06T01:41:24.366494",
     "exception": false,
     "start_time": "2024-02-06T01:41:24.350290",
     "status": "completed"
    },
    "tags": []
   },
   "outputs": [
    {
     "data": {
      "text/html": [
       "<div>\n",
       "<style scoped>\n",
       "    .dataframe tbody tr th:only-of-type {\n",
       "        vertical-align: middle;\n",
       "    }\n",
       "\n",
       "    .dataframe tbody tr th {\n",
       "        vertical-align: top;\n",
       "    }\n",
       "\n",
       "    .dataframe thead th {\n",
       "        text-align: right;\n",
       "    }\n",
       "</style>\n",
       "<table border=\"1\" class=\"dataframe\">\n",
       "  <thead>\n",
       "    <tr style=\"text-align: right;\">\n",
       "      <th></th>\n",
       "      <th>matrix_path</th>\n",
       "      <th>bed_path</th>\n",
       "      <th>sample</th>\n",
       "      <th>group</th>\n",
       "    </tr>\n",
       "  </thead>\n",
       "  <tbody>\n",
       "    <tr>\n",
       "      <th>Oligo_NN_8wk_rep1_cool</th>\n",
       "      <td>.</td>\n",
       "      <td>.</td>\n",
       "      <td>Oligo_NN_8wk_rep1_cool_100Kb</td>\n",
       "      <td>Oligo_NN_8wk_rep1_cool</td>\n",
       "    </tr>\n",
       "    <tr>\n",
       "      <th>Oligo_NN_8wk_rep2_cool</th>\n",
       "      <td>.</td>\n",
       "      <td>.</td>\n",
       "      <td>Oligo_NN_8wk_rep2_cool_100Kb</td>\n",
       "      <td>Oligo_NN_8wk_rep2_cool</td>\n",
       "    </tr>\n",
       "    <tr>\n",
       "      <th>Oligo_NN_9mo_rep1_cool</th>\n",
       "      <td>.</td>\n",
       "      <td>.</td>\n",
       "      <td>Oligo_NN_9mo_rep1_cool_100Kb</td>\n",
       "      <td>Oligo_NN_9mo_rep1_cool</td>\n",
       "    </tr>\n",
       "    <tr>\n",
       "      <th>Oligo_NN_9mo_rep2_cool</th>\n",
       "      <td>.</td>\n",
       "      <td>.</td>\n",
       "      <td>Oligo_NN_9mo_rep2_cool_100Kb</td>\n",
       "      <td>Oligo_NN_9mo_rep2_cool</td>\n",
       "    </tr>\n",
       "    <tr>\n",
       "      <th>Oligo_NN_18mo_rep1_cool</th>\n",
       "      <td>.</td>\n",
       "      <td>.</td>\n",
       "      <td>Oligo_NN_18mo_rep1_cool_100Kb</td>\n",
       "      <td>Oligo_NN_18mo_rep1_cool</td>\n",
       "    </tr>\n",
       "    <tr>\n",
       "      <th>Oligo_NN_18mo_rep2_cool</th>\n",
       "      <td>.</td>\n",
       "      <td>.</td>\n",
       "      <td>Oligo_NN_18mo_rep2_cool_100Kb</td>\n",
       "      <td>Oligo_NN_18mo_rep2_cool</td>\n",
       "    </tr>\n",
       "  </tbody>\n",
       "</table>\n",
       "</div>"
      ],
      "text/plain": [
       "                        matrix_path bed_path                         sample  \\\n",
       "Oligo_NN_8wk_rep1_cool            .        .   Oligo_NN_8wk_rep1_cool_100Kb   \n",
       "Oligo_NN_8wk_rep2_cool            .        .   Oligo_NN_8wk_rep2_cool_100Kb   \n",
       "Oligo_NN_9mo_rep1_cool            .        .   Oligo_NN_9mo_rep1_cool_100Kb   \n",
       "Oligo_NN_9mo_rep2_cool            .        .   Oligo_NN_9mo_rep2_cool_100Kb   \n",
       "Oligo_NN_18mo_rep1_cool           .        .  Oligo_NN_18mo_rep1_cool_100Kb   \n",
       "Oligo_NN_18mo_rep2_cool           .        .  Oligo_NN_18mo_rep2_cool_100Kb   \n",
       "\n",
       "                                           group  \n",
       "Oligo_NN_8wk_rep1_cool    Oligo_NN_8wk_rep1_cool  \n",
       "Oligo_NN_8wk_rep2_cool    Oligo_NN_8wk_rep2_cool  \n",
       "Oligo_NN_9mo_rep1_cool    Oligo_NN_9mo_rep1_cool  \n",
       "Oligo_NN_9mo_rep2_cool    Oligo_NN_9mo_rep2_cool  \n",
       "Oligo_NN_18mo_rep1_cool  Oligo_NN_18mo_rep1_cool  \n",
       "Oligo_NN_18mo_rep2_cool  Oligo_NN_18mo_rep2_cool  "
      ]
     },
     "execution_count": 15,
     "metadata": {},
     "output_type": "execute_result"
    }
   ],
   "source": [
    "tmp = pd.DataFrame(index=leg)\n",
    "tmp['matrix_path'] = '.'\n",
    "tmp['bed_path'] = '.'\n",
    "tmp['sample'] = tmp.index + '_100Kb'\n",
    "tmp['group'] = tmp.index.map(lambda x: x.split('.rep')[0])\n",
    "tmp.to_csv(f'{outdir}/input.txt', sep='\\t', header=False, index=False)\n",
    "tmp"
   ]
  },
  {
   "cell_type": "code",
   "execution_count": 16,
   "id": "4370da5c-af94-4139-bafd-81f786a17920",
   "metadata": {
    "papermill": {
     "duration": 0.00843,
     "end_time": "2024-02-06T01:41:24.377593",
     "exception": false,
     "start_time": "2024-02-06T01:41:24.369163",
     "status": "completed"
    },
    "tags": []
   },
   "outputs": [],
   "source": [
    "rscript_path = '/home/qzeng_salk_edu/project/240204-redo-compartment/dchicf.r'"
   ]
  },
  {
   "cell_type": "code",
   "execution_count": 17,
   "id": "71ba7860-f504-40bb-8ca9-f723051083ce",
   "metadata": {
    "papermill": {
     "duration": 7.152553,
     "end_time": "2024-02-06T01:41:31.532756",
     "exception": false,
     "start_time": "2024-02-06T01:41:24.380203",
     "status": "completed"
    },
    "scrolled": true,
    "tags": []
   },
   "outputs": [
    {
     "name": "stdout",
     "output_type": "stream",
     "text": [
      "Running intra sample differential calls for  Oligo_NN_8wk_rep1_cool Oligo_NN_8wk_rep2_cool Oligo_NN_9mo_rep1_cool Oligo_NN_9mo_rep2_cool Oligo_NN_18mo_rep1_cool Oligo_NN_18mo_rep2_cool  samples\n",
      "Wrote  DifferentialResult/./Oligo_NN_8wk_rep1_cool_data/intra_chr1_combined.pcOri.bedGraph and pcQnm.bedGraph files\n",
      "Wrote  DifferentialResult/./Oligo_NN_8wk_rep1_cool_data/intra_chr10_combined.pcOri.bedGraph and pcQnm.bedGraph files\n",
      "Wrote  DifferentialResult/./Oligo_NN_8wk_rep1_cool_data/intra_chr11_combined.pcOri.bedGraph and pcQnm.bedGraph files\n",
      "Wrote  DifferentialResult/./Oligo_NN_8wk_rep1_cool_data/intra_chr12_combined.pcOri.bedGraph and pcQnm.bedGraph files\n",
      "Wrote  DifferentialResult/./Oligo_NN_8wk_rep1_cool_data/intra_chr13_combined.pcOri.bedGraph and pcQnm.bedGraph files\n",
      "Wrote  DifferentialResult/./Oligo_NN_8wk_rep1_cool_data/intra_chr14_combined.pcOri.bedGraph and pcQnm.bedGraph files\n",
      "Wrote  DifferentialResult/./Oligo_NN_8wk_rep1_cool_data/intra_chr15_combined.pcOri.bedGraph and pcQnm.bedGraph files\n",
      "Wrote  DifferentialResult/./Oligo_NN_8wk_rep1_cool_data/intra_chr16_combined.pcOri.bedGraph and pcQnm.bedGraph files\n",
      "Wrote  DifferentialResult/./Oligo_NN_8wk_rep1_cool_data/intra_chr17_combined.pcOri.bedGraph and pcQnm.bedGraph files\n",
      "Wrote  DifferentialResult/./Oligo_NN_8wk_rep1_cool_data/intra_chr18_combined.pcOri.bedGraph and pcQnm.bedGraph files\n",
      "Wrote  DifferentialResult/./Oligo_NN_8wk_rep1_cool_data/intra_chr19_combined.pcOri.bedGraph and pcQnm.bedGraph files\n",
      "Wrote  DifferentialResult/./Oligo_NN_8wk_rep1_cool_data/intra_chr2_combined.pcOri.bedGraph and pcQnm.bedGraph files\n",
      "Wrote  DifferentialResult/./Oligo_NN_8wk_rep1_cool_data/intra_chr3_combined.pcOri.bedGraph and pcQnm.bedGraph files\n",
      "Wrote  DifferentialResult/./Oligo_NN_8wk_rep1_cool_data/intra_chr4_combined.pcOri.bedGraph and pcQnm.bedGraph files\n",
      "Wrote  DifferentialResult/./Oligo_NN_8wk_rep1_cool_data/intra_chr5_combined.pcOri.bedGraph and pcQnm.bedGraph files\n",
      "Wrote  DifferentialResult/./Oligo_NN_8wk_rep1_cool_data/intra_chr6_combined.pcOri.bedGraph and pcQnm.bedGraph files\n",
      "Wrote  DifferentialResult/./Oligo_NN_8wk_rep1_cool_data/intra_chr7_combined.pcOri.bedGraph and pcQnm.bedGraph files\n",
      "Wrote  DifferentialResult/./Oligo_NN_8wk_rep1_cool_data/intra_chr8_combined.pcOri.bedGraph and pcQnm.bedGraph files\n",
      "Wrote  DifferentialResult/./Oligo_NN_8wk_rep1_cool_data/intra_chr9_combined.pcOri.bedGraph and pcQnm.bedGraph files\n",
      "Wrote  DifferentialResult/./Oligo_NN_8wk_rep1_cool_data/intra_chrX_combined.pcOri.bedGraph and pcQnm.bedGraph files\n",
      "Wrote  DifferentialResult/./Oligo_NN_8wk_rep2_cool_data/intra_chr1_combined.pcOri.bedGraph and pcQnm.bedGraph files\n",
      "Wrote  DifferentialResult/./Oligo_NN_8wk_rep2_cool_data/intra_chr10_combined.pcOri.bedGraph and pcQnm.bedGraph files\n",
      "Wrote  DifferentialResult/./Oligo_NN_8wk_rep2_cool_data/intra_chr11_combined.pcOri.bedGraph and pcQnm.bedGraph files\n",
      "Wrote  DifferentialResult/./Oligo_NN_8wk_rep2_cool_data/intra_chr12_combined.pcOri.bedGraph and pcQnm.bedGraph files\n",
      "Wrote  DifferentialResult/./Oligo_NN_8wk_rep2_cool_data/intra_chr13_combined.pcOri.bedGraph and pcQnm.bedGraph files\n",
      "Wrote  DifferentialResult/./Oligo_NN_8wk_rep2_cool_data/intra_chr14_combined.pcOri.bedGraph and pcQnm.bedGraph files\n",
      "Wrote  DifferentialResult/./Oligo_NN_8wk_rep2_cool_data/intra_chr15_combined.pcOri.bedGraph and pcQnm.bedGraph files\n",
      "Wrote  DifferentialResult/./Oligo_NN_8wk_rep2_cool_data/intra_chr16_combined.pcOri.bedGraph and pcQnm.bedGraph files\n",
      "Wrote  DifferentialResult/./Oligo_NN_8wk_rep2_cool_data/intra_chr17_combined.pcOri.bedGraph and pcQnm.bedGraph files\n",
      "Wrote  DifferentialResult/./Oligo_NN_8wk_rep2_cool_data/intra_chr18_combined.pcOri.bedGraph and pcQnm.bedGraph files\n",
      "Wrote  DifferentialResult/./Oligo_NN_8wk_rep2_cool_data/intra_chr19_combined.pcOri.bedGraph and pcQnm.bedGraph files\n",
      "Wrote  DifferentialResult/./Oligo_NN_8wk_rep2_cool_data/intra_chr2_combined.pcOri.bedGraph and pcQnm.bedGraph files\n",
      "Wrote  DifferentialResult/./Oligo_NN_8wk_rep2_cool_data/intra_chr3_combined.pcOri.bedGraph and pcQnm.bedGraph files\n",
      "Wrote  DifferentialResult/./Oligo_NN_8wk_rep2_cool_data/intra_chr4_combined.pcOri.bedGraph and pcQnm.bedGraph files\n",
      "Wrote  DifferentialResult/./Oligo_NN_8wk_rep2_cool_data/intra_chr5_combined.pcOri.bedGraph and pcQnm.bedGraph files\n",
      "Wrote  DifferentialResult/./Oligo_NN_8wk_rep2_cool_data/intra_chr6_combined.pcOri.bedGraph and pcQnm.bedGraph files\n",
      "Wrote  DifferentialResult/./Oligo_NN_8wk_rep2_cool_data/intra_chr7_combined.pcOri.bedGraph and pcQnm.bedGraph files\n",
      "Wrote  DifferentialResult/./Oligo_NN_8wk_rep2_cool_data/intra_chr8_combined.pcOri.bedGraph and pcQnm.bedGraph files\n",
      "Wrote  DifferentialResult/./Oligo_NN_8wk_rep2_cool_data/intra_chr9_combined.pcOri.bedGraph and pcQnm.bedGraph files\n",
      "Wrote  DifferentialResult/./Oligo_NN_8wk_rep2_cool_data/intra_chrX_combined.pcOri.bedGraph and pcQnm.bedGraph files\n",
      "Wrote  DifferentialResult/./Oligo_NN_9mo_rep1_cool_data/intra_chr1_combined.pcOri.bedGraph and pcQnm.bedGraph files\n",
      "Wrote  DifferentialResult/./Oligo_NN_9mo_rep1_cool_data/intra_chr10_combined.pcOri.bedGraph and pcQnm.bedGraph files\n",
      "Wrote  DifferentialResult/./Oligo_NN_9mo_rep1_cool_data/intra_chr11_combined.pcOri.bedGraph and pcQnm.bedGraph files\n",
      "Wrote  DifferentialResult/./Oligo_NN_9mo_rep1_cool_data/intra_chr12_combined.pcOri.bedGraph and pcQnm.bedGraph files\n",
      "Wrote  DifferentialResult/./Oligo_NN_9mo_rep1_cool_data/intra_chr13_combined.pcOri.bedGraph and pcQnm.bedGraph files\n",
      "Wrote  DifferentialResult/./Oligo_NN_9mo_rep1_cool_data/intra_chr14_combined.pcOri.bedGraph and pcQnm.bedGraph files\n",
      "Wrote  DifferentialResult/./Oligo_NN_9mo_rep1_cool_data/intra_chr15_combined.pcOri.bedGraph and pcQnm.bedGraph files\n",
      "Wrote  DifferentialResult/./Oligo_NN_9mo_rep1_cool_data/intra_chr16_combined.pcOri.bedGraph and pcQnm.bedGraph files\n",
      "Wrote  DifferentialResult/./Oligo_NN_9mo_rep1_cool_data/intra_chr17_combined.pcOri.bedGraph and pcQnm.bedGraph files\n",
      "Wrote  DifferentialResult/./Oligo_NN_9mo_rep1_cool_data/intra_chr18_combined.pcOri.bedGraph and pcQnm.bedGraph files\n",
      "Wrote  DifferentialResult/./Oligo_NN_9mo_rep1_cool_data/intra_chr19_combined.pcOri.bedGraph and pcQnm.bedGraph files\n",
      "Wrote  DifferentialResult/./Oligo_NN_9mo_rep1_cool_data/intra_chr2_combined.pcOri.bedGraph and pcQnm.bedGraph files\n",
      "Wrote  DifferentialResult/./Oligo_NN_9mo_rep1_cool_data/intra_chr3_combined.pcOri.bedGraph and pcQnm.bedGraph files\n",
      "Wrote  DifferentialResult/./Oligo_NN_9mo_rep1_cool_data/intra_chr4_combined.pcOri.bedGraph and pcQnm.bedGraph files\n",
      "Wrote  DifferentialResult/./Oligo_NN_9mo_rep1_cool_data/intra_chr5_combined.pcOri.bedGraph and pcQnm.bedGraph files\n",
      "Wrote  DifferentialResult/./Oligo_NN_9mo_rep1_cool_data/intra_chr6_combined.pcOri.bedGraph and pcQnm.bedGraph files\n",
      "Wrote  DifferentialResult/./Oligo_NN_9mo_rep1_cool_data/intra_chr7_combined.pcOri.bedGraph and pcQnm.bedGraph files\n",
      "Wrote  DifferentialResult/./Oligo_NN_9mo_rep1_cool_data/intra_chr8_combined.pcOri.bedGraph and pcQnm.bedGraph files\n",
      "Wrote  DifferentialResult/./Oligo_NN_9mo_rep1_cool_data/intra_chr9_combined.pcOri.bedGraph and pcQnm.bedGraph files\n",
      "Wrote  DifferentialResult/./Oligo_NN_9mo_rep1_cool_data/intra_chrX_combined.pcOri.bedGraph and pcQnm.bedGraph files\n",
      "Wrote  DifferentialResult/./Oligo_NN_9mo_rep2_cool_data/intra_chr1_combined.pcOri.bedGraph and pcQnm.bedGraph files\n",
      "Wrote  DifferentialResult/./Oligo_NN_9mo_rep2_cool_data/intra_chr10_combined.pcOri.bedGraph and pcQnm.bedGraph files\n",
      "Wrote  DifferentialResult/./Oligo_NN_9mo_rep2_cool_data/intra_chr11_combined.pcOri.bedGraph and pcQnm.bedGraph files\n",
      "Wrote  DifferentialResult/./Oligo_NN_9mo_rep2_cool_data/intra_chr12_combined.pcOri.bedGraph and pcQnm.bedGraph files\n",
      "Wrote  DifferentialResult/./Oligo_NN_9mo_rep2_cool_data/intra_chr13_combined.pcOri.bedGraph and pcQnm.bedGraph files\n",
      "Wrote  DifferentialResult/./Oligo_NN_9mo_rep2_cool_data/intra_chr14_combined.pcOri.bedGraph and pcQnm.bedGraph files\n",
      "Wrote  DifferentialResult/./Oligo_NN_9mo_rep2_cool_data/intra_chr15_combined.pcOri.bedGraph and pcQnm.bedGraph files\n",
      "Wrote  DifferentialResult/./Oligo_NN_9mo_rep2_cool_data/intra_chr16_combined.pcOri.bedGraph and pcQnm.bedGraph files\n",
      "Wrote  DifferentialResult/./Oligo_NN_9mo_rep2_cool_data/intra_chr17_combined.pcOri.bedGraph and pcQnm.bedGraph files\n",
      "Wrote  DifferentialResult/./Oligo_NN_9mo_rep2_cool_data/intra_chr18_combined.pcOri.bedGraph and pcQnm.bedGraph files\n",
      "Wrote  DifferentialResult/./Oligo_NN_9mo_rep2_cool_data/intra_chr19_combined.pcOri.bedGraph and pcQnm.bedGraph files\n",
      "Wrote  DifferentialResult/./Oligo_NN_9mo_rep2_cool_data/intra_chr2_combined.pcOri.bedGraph and pcQnm.bedGraph files\n",
      "Wrote  DifferentialResult/./Oligo_NN_9mo_rep2_cool_data/intra_chr3_combined.pcOri.bedGraph and pcQnm.bedGraph files\n",
      "Wrote  DifferentialResult/./Oligo_NN_9mo_rep2_cool_data/intra_chr4_combined.pcOri.bedGraph and pcQnm.bedGraph files\n",
      "Wrote  DifferentialResult/./Oligo_NN_9mo_rep2_cool_data/intra_chr5_combined.pcOri.bedGraph and pcQnm.bedGraph files\n",
      "Wrote  DifferentialResult/./Oligo_NN_9mo_rep2_cool_data/intra_chr6_combined.pcOri.bedGraph and pcQnm.bedGraph files\n",
      "Wrote  DifferentialResult/./Oligo_NN_9mo_rep2_cool_data/intra_chr7_combined.pcOri.bedGraph and pcQnm.bedGraph files\n",
      "Wrote  DifferentialResult/./Oligo_NN_9mo_rep2_cool_data/intra_chr8_combined.pcOri.bedGraph and pcQnm.bedGraph files\n",
      "Wrote  DifferentialResult/./Oligo_NN_9mo_rep2_cool_data/intra_chr9_combined.pcOri.bedGraph and pcQnm.bedGraph files\n",
      "Wrote  DifferentialResult/./Oligo_NN_9mo_rep2_cool_data/intra_chrX_combined.pcOri.bedGraph and pcQnm.bedGraph files\n",
      "Wrote  DifferentialResult/./Oligo_NN_18mo_rep1_cool_data/intra_chr1_combined.pcOri.bedGraph and pcQnm.bedGraph files\n",
      "Wrote  DifferentialResult/./Oligo_NN_18mo_rep1_cool_data/intra_chr10_combined.pcOri.bedGraph and pcQnm.bedGraph files\n",
      "Wrote  DifferentialResult/./Oligo_NN_18mo_rep1_cool_data/intra_chr11_combined.pcOri.bedGraph and pcQnm.bedGraph files\n",
      "Wrote  DifferentialResult/./Oligo_NN_18mo_rep1_cool_data/intra_chr12_combined.pcOri.bedGraph and pcQnm.bedGraph files\n",
      "Wrote  DifferentialResult/./Oligo_NN_18mo_rep1_cool_data/intra_chr13_combined.pcOri.bedGraph and pcQnm.bedGraph files\n",
      "Wrote  DifferentialResult/./Oligo_NN_18mo_rep1_cool_data/intra_chr14_combined.pcOri.bedGraph and pcQnm.bedGraph files\n",
      "Wrote  DifferentialResult/./Oligo_NN_18mo_rep1_cool_data/intra_chr15_combined.pcOri.bedGraph and pcQnm.bedGraph files\n",
      "Wrote  DifferentialResult/./Oligo_NN_18mo_rep1_cool_data/intra_chr16_combined.pcOri.bedGraph and pcQnm.bedGraph files\n",
      "Wrote  DifferentialResult/./Oligo_NN_18mo_rep1_cool_data/intra_chr17_combined.pcOri.bedGraph and pcQnm.bedGraph files\n",
      "Wrote  DifferentialResult/./Oligo_NN_18mo_rep1_cool_data/intra_chr18_combined.pcOri.bedGraph and pcQnm.bedGraph files\n",
      "Wrote  DifferentialResult/./Oligo_NN_18mo_rep1_cool_data/intra_chr19_combined.pcOri.bedGraph and pcQnm.bedGraph files\n",
      "Wrote  DifferentialResult/./Oligo_NN_18mo_rep1_cool_data/intra_chr2_combined.pcOri.bedGraph and pcQnm.bedGraph files\n",
      "Wrote  DifferentialResult/./Oligo_NN_18mo_rep1_cool_data/intra_chr3_combined.pcOri.bedGraph and pcQnm.bedGraph files\n",
      "Wrote  DifferentialResult/./Oligo_NN_18mo_rep1_cool_data/intra_chr4_combined.pcOri.bedGraph and pcQnm.bedGraph files\n",
      "Wrote  DifferentialResult/./Oligo_NN_18mo_rep1_cool_data/intra_chr5_combined.pcOri.bedGraph and pcQnm.bedGraph files\n",
      "Wrote  DifferentialResult/./Oligo_NN_18mo_rep1_cool_data/intra_chr6_combined.pcOri.bedGraph and pcQnm.bedGraph files\n",
      "Wrote  DifferentialResult/./Oligo_NN_18mo_rep1_cool_data/intra_chr7_combined.pcOri.bedGraph and pcQnm.bedGraph files\n",
      "Wrote  DifferentialResult/./Oligo_NN_18mo_rep1_cool_data/intra_chr8_combined.pcOri.bedGraph and pcQnm.bedGraph files\n",
      "Wrote  DifferentialResult/./Oligo_NN_18mo_rep1_cool_data/intra_chr9_combined.pcOri.bedGraph and pcQnm.bedGraph files\n",
      "Wrote  DifferentialResult/./Oligo_NN_18mo_rep1_cool_data/intra_chrX_combined.pcOri.bedGraph and pcQnm.bedGraph files\n",
      "Wrote  DifferentialResult/./Oligo_NN_18mo_rep2_cool_data/intra_chr1_combined.pcOri.bedGraph and pcQnm.bedGraph files\n",
      "Wrote  DifferentialResult/./Oligo_NN_18mo_rep2_cool_data/intra_chr10_combined.pcOri.bedGraph and pcQnm.bedGraph files\n",
      "Wrote  DifferentialResult/./Oligo_NN_18mo_rep2_cool_data/intra_chr11_combined.pcOri.bedGraph and pcQnm.bedGraph files\n",
      "Wrote  DifferentialResult/./Oligo_NN_18mo_rep2_cool_data/intra_chr12_combined.pcOri.bedGraph and pcQnm.bedGraph files\n",
      "Wrote  DifferentialResult/./Oligo_NN_18mo_rep2_cool_data/intra_chr13_combined.pcOri.bedGraph and pcQnm.bedGraph files\n",
      "Wrote  DifferentialResult/./Oligo_NN_18mo_rep2_cool_data/intra_chr14_combined.pcOri.bedGraph and pcQnm.bedGraph files\n",
      "Wrote  DifferentialResult/./Oligo_NN_18mo_rep2_cool_data/intra_chr15_combined.pcOri.bedGraph and pcQnm.bedGraph files\n",
      "Wrote  DifferentialResult/./Oligo_NN_18mo_rep2_cool_data/intra_chr16_combined.pcOri.bedGraph and pcQnm.bedGraph files\n",
      "Wrote  DifferentialResult/./Oligo_NN_18mo_rep2_cool_data/intra_chr17_combined.pcOri.bedGraph and pcQnm.bedGraph files\n",
      "Wrote  DifferentialResult/./Oligo_NN_18mo_rep2_cool_data/intra_chr18_combined.pcOri.bedGraph and pcQnm.bedGraph files\n",
      "Wrote  DifferentialResult/./Oligo_NN_18mo_rep2_cool_data/intra_chr19_combined.pcOri.bedGraph and pcQnm.bedGraph files\n",
      "Wrote  DifferentialResult/./Oligo_NN_18mo_rep2_cool_data/intra_chr2_combined.pcOri.bedGraph and pcQnm.bedGraph files\n",
      "Wrote  DifferentialResult/./Oligo_NN_18mo_rep2_cool_data/intra_chr3_combined.pcOri.bedGraph and pcQnm.bedGraph files\n",
      "Wrote  DifferentialResult/./Oligo_NN_18mo_rep2_cool_data/intra_chr4_combined.pcOri.bedGraph and pcQnm.bedGraph files\n",
      "Wrote  DifferentialResult/./Oligo_NN_18mo_rep2_cool_data/intra_chr5_combined.pcOri.bedGraph and pcQnm.bedGraph files\n",
      "Wrote  DifferentialResult/./Oligo_NN_18mo_rep2_cool_data/intra_chr6_combined.pcOri.bedGraph and pcQnm.bedGraph files\n",
      "Wrote  DifferentialResult/./Oligo_NN_18mo_rep2_cool_data/intra_chr7_combined.pcOri.bedGraph and pcQnm.bedGraph files\n",
      "Wrote  DifferentialResult/./Oligo_NN_18mo_rep2_cool_data/intra_chr8_combined.pcOri.bedGraph and pcQnm.bedGraph files\n",
      "Wrote  DifferentialResult/./Oligo_NN_18mo_rep2_cool_data/intra_chr9_combined.pcOri.bedGraph and pcQnm.bedGraph files\n",
      "Wrote  DifferentialResult/./Oligo_NN_18mo_rep2_cool_data/intra_chrX_combined.pcOri.bedGraph and pcQnm.bedGraph files\n",
      "Wrote intra_sample_chr1_combined.pcOri.bedGraph & _combined.pcQnm.bedGraph files under DifferentialResult/./pcOri & DifferentialResult/./pcQnm folders \n",
      "Wrote intra_sample_chr10_combined.pcOri.bedGraph & _combined.pcQnm.bedGraph files under DifferentialResult/./pcOri & DifferentialResult/./pcQnm folders \n",
      "Wrote intra_sample_chr11_combined.pcOri.bedGraph & _combined.pcQnm.bedGraph files under DifferentialResult/./pcOri & DifferentialResult/./pcQnm folders \n",
      "Wrote intra_sample_chr12_combined.pcOri.bedGraph & _combined.pcQnm.bedGraph files under DifferentialResult/./pcOri & DifferentialResult/./pcQnm folders \n",
      "Wrote intra_sample_chr13_combined.pcOri.bedGraph & _combined.pcQnm.bedGraph files under DifferentialResult/./pcOri & DifferentialResult/./pcQnm folders \n",
      "Wrote intra_sample_chr14_combined.pcOri.bedGraph & _combined.pcQnm.bedGraph files under DifferentialResult/./pcOri & DifferentialResult/./pcQnm folders \n",
      "Wrote intra_sample_chr15_combined.pcOri.bedGraph & _combined.pcQnm.bedGraph files under DifferentialResult/./pcOri & DifferentialResult/./pcQnm folders \n",
      "Wrote intra_sample_chr16_combined.pcOri.bedGraph & _combined.pcQnm.bedGraph files under DifferentialResult/./pcOri & DifferentialResult/./pcQnm folders \n",
      "Wrote intra_sample_chr17_combined.pcOri.bedGraph & _combined.pcQnm.bedGraph files under DifferentialResult/./pcOri & DifferentialResult/./pcQnm folders \n",
      "Wrote intra_sample_chr18_combined.pcOri.bedGraph & _combined.pcQnm.bedGraph files under DifferentialResult/./pcOri & DifferentialResult/./pcQnm folders \n",
      "Wrote intra_sample_chr19_combined.pcOri.bedGraph & _combined.pcQnm.bedGraph files under DifferentialResult/./pcOri & DifferentialResult/./pcQnm folders \n",
      "Wrote intra_sample_chr2_combined.pcOri.bedGraph & _combined.pcQnm.bedGraph files under DifferentialResult/./pcOri & DifferentialResult/./pcQnm folders \n",
      "Wrote intra_sample_chr3_combined.pcOri.bedGraph & _combined.pcQnm.bedGraph files under DifferentialResult/./pcOri & DifferentialResult/./pcQnm folders \n",
      "Wrote intra_sample_chr4_combined.pcOri.bedGraph & _combined.pcQnm.bedGraph files under DifferentialResult/./pcOri & DifferentialResult/./pcQnm folders \n",
      "Wrote intra_sample_chr5_combined.pcOri.bedGraph & _combined.pcQnm.bedGraph files under DifferentialResult/./pcOri & DifferentialResult/./pcQnm folders \n",
      "Wrote intra_sample_chr6_combined.pcOri.bedGraph & _combined.pcQnm.bedGraph files under DifferentialResult/./pcOri & DifferentialResult/./pcQnm folders \n",
      "Wrote intra_sample_chr7_combined.pcOri.bedGraph & _combined.pcQnm.bedGraph files under DifferentialResult/./pcOri & DifferentialResult/./pcQnm folders \n",
      "Wrote intra_sample_chr8_combined.pcOri.bedGraph & _combined.pcQnm.bedGraph files under DifferentialResult/./pcOri & DifferentialResult/./pcQnm folders \n",
      "Wrote intra_sample_chr9_combined.pcOri.bedGraph & _combined.pcQnm.bedGraph files under DifferentialResult/./pcOri & DifferentialResult/./pcQnm folders \n",
      "Wrote intra_sample_chrX_combined.pcOri.bedGraph & _combined.pcQnm.bedGraph files under DifferentialResult/./pcOri & DifferentialResult/./pcQnm folders \n",
      "Wrote  DifferentialResult/./fdr_result/differential.intra_sample_chr1_combined.pcQnm.bedGraph  file\n",
      "Wrote  DifferentialResult/./fdr_result/differential.intra_sample_chr10_combined.pcQnm.bedGraph  file\n",
      "Wrote  DifferentialResult/./fdr_result/differential.intra_sample_chr11_combined.pcQnm.bedGraph  file\n",
      "Wrote  DifferentialResult/./fdr_result/differential.intra_sample_chr12_combined.pcQnm.bedGraph  file\n",
      "Wrote  DifferentialResult/./fdr_result/differential.intra_sample_chr13_combined.pcQnm.bedGraph  file\n",
      "Wrote  DifferentialResult/./fdr_result/differential.intra_sample_chr14_combined.pcQnm.bedGraph  file\n",
      "Wrote  DifferentialResult/./fdr_result/differential.intra_sample_chr15_combined.pcQnm.bedGraph  file\n",
      "Wrote  DifferentialResult/./fdr_result/differential.intra_sample_chr16_combined.pcQnm.bedGraph  file\n",
      "Wrote  DifferentialResult/./fdr_result/differential.intra_sample_chr17_combined.pcQnm.bedGraph  file\n",
      "Wrote  DifferentialResult/./fdr_result/differential.intra_sample_chr18_combined.pcQnm.bedGraph  file\n",
      "Wrote  DifferentialResult/./fdr_result/differential.intra_sample_chr19_combined.pcQnm.bedGraph  file\n",
      "Wrote  DifferentialResult/./fdr_result/differential.intra_sample_chr2_combined.pcQnm.bedGraph  file\n",
      "Wrote  DifferentialResult/./fdr_result/differential.intra_sample_chr3_combined.pcQnm.bedGraph  file\n",
      "Wrote  DifferentialResult/./fdr_result/differential.intra_sample_chr4_combined.pcQnm.bedGraph  file\n",
      "Wrote  DifferentialResult/./fdr_result/differential.intra_sample_chr5_combined.pcQnm.bedGraph  file\n",
      "Wrote  DifferentialResult/./fdr_result/differential.intra_sample_chr6_combined.pcQnm.bedGraph  file\n",
      "Wrote  DifferentialResult/./fdr_result/differential.intra_sample_chr7_combined.pcQnm.bedGraph  file\n",
      "Wrote  DifferentialResult/./fdr_result/differential.intra_sample_chr8_combined.pcQnm.bedGraph  file\n",
      "Wrote  DifferentialResult/./fdr_result/differential.intra_sample_chr9_combined.pcQnm.bedGraph  file\n",
      "Wrote  DifferentialResult/./fdr_result/differential.intra_sample_chrX_combined.pcQnm.bedGraph  file\n",
      "Wrote  DifferentialResult/./fdr_result/differential.intra_sample_combined.pcQnm.bedGraph  file\n",
      "Wrote  DifferentialResult/./fdr_result/differential.intra_sample_group.pcQnm.bedGraph  file\n",
      "Wrote  DifferentialResult/./fdr_result/differential.intra_sample_group.pcOri.bedGraph  file\n"
     ]
    },
    {
     "data": {
      "text/plain": [
       "CompletedProcess(args='Rscript /home/qzeng_salk_edu/project/240204-redo-compartment/dchicf.r --file input.txt --pcatype analyze --dirovwt T --diffdir .', returncode=0)"
      ]
     },
     "execution_count": 17,
     "metadata": {},
     "output_type": "execute_result"
    }
   ],
   "source": [
    "subprocess.run(f\"Rscript {rscript_path} --file input.txt --pcatype analyze --dirovwt T --diffdir .\", shell = True)"
   ]
  },
  {
   "cell_type": "code",
   "execution_count": null,
   "id": "ebd7bcfa-1a48-4752-9d17-51be7cff71ed",
   "metadata": {
    "papermill": {
     "duration": 0.009733,
     "end_time": "2024-02-06T01:41:31.546132",
     "exception": false,
     "start_time": "2024-02-06T01:41:31.536399",
     "status": "completed"
    },
    "tags": []
   },
   "outputs": [],
   "source": [
    "# Rscript  /home/qzeng_salk_edu/project/230907-call_diff-compartment/dchicf.r --file input.txt --pcatype analyze --dirovwt T --diffdir ."
   ]
  },
  {
   "cell_type": "code",
   "execution_count": null,
   "id": "524b7ae5-d199-435a-a9a2-eb6db682160b",
   "metadata": {
    "papermill": {
     "duration": 0.00393,
     "end_time": "2024-02-06T01:41:31.573094",
     "exception": false,
     "start_time": "2024-02-06T01:41:31.569164",
     "status": "completed"
    },
    "tags": []
   },
   "outputs": [],
   "source": []
  },
  {
   "cell_type": "code",
   "execution_count": null,
   "id": "56bb79d8-e48c-4507-ad07-f7355511ec81",
   "metadata": {
    "papermill": {
     "duration": 0.003039,
     "end_time": "2024-02-06T01:41:31.579270",
     "exception": false,
     "start_time": "2024-02-06T01:41:31.576231",
     "status": "completed"
    },
    "tags": []
   },
   "outputs": [],
   "source": []
  }
 ],
 "metadata": {
  "kernelspec": {
   "display_name": "Python 3 (ipykernel)",
   "language": "python",
   "name": "python3"
  },
  "language_info": {
   "codemirror_mode": {
    "name": "ipython",
    "version": 3
   },
   "file_extension": ".py",
   "mimetype": "text/x-python",
   "name": "python",
   "nbconvert_exporter": "python",
   "pygments_lexer": "ipython3",
   "version": "3.10.12"
  },
  "papermill": {
   "default_parameters": {},
   "duration": 10.240333,
   "end_time": "2024-02-06T01:41:32.000500",
   "environment_variables": {},
   "exception": null,
   "input_path": "/home/qzeng_salk_edu/project/240204-redo-compartment/Call.DiffComp.CellType.Age/notebooks/02.diff-comp.ipynb",
   "output_path": "Astro-NT_NN/02.diff-comp.ipynb",
   "parameters": {
    "cpu": 8,
    "group_name": "Astro-NT_NN",
    "mem_gb": 10
   },
   "start_time": "2024-02-06T01:41:21.760167",
   "version": "2.4.0"
  }
 },
 "nbformat": 4,
 "nbformat_minor": 5
}
