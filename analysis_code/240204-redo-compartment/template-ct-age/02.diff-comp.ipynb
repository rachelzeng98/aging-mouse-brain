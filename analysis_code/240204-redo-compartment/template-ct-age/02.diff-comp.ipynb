{
 "cells": [
  {
   "cell_type": "code",
   "execution_count": 1,
   "id": "8b5c77f4-c9c3-43a1-91e5-75bfdcca6186",
   "metadata": {},
   "outputs": [],
   "source": [
    "import os\n",
    "import cooler\n",
    "import numpy as np\n",
    "import pandas as pd\n",
    "import matplotlib as mpl\n",
    "import matplotlib.pyplot as plt\n",
    "from matplotlib.colors import LogNorm\n",
    "from matplotlib import cm as cm\n",
    "import seaborn as sns\n",
    "import subprocess"
   ]
  },
  {
   "cell_type": "code",
   "execution_count": 3,
   "id": "39c95685-d31c-4054-a75c-fc47d70eadc4",
   "metadata": {},
   "outputs": [],
   "source": [
    "#group_name = 'Oligo_NN'"
   ]
  },
  {
   "cell_type": "code",
   "execution_count": 4,
   "id": "c65a8606-dcf8-4dfa-90ce-44c8fb70ea4c",
   "metadata": {},
   "outputs": [],
   "source": [
    "ct = group_name\n",
    "mode= 'raw'"
   ]
  },
  {
   "cell_type": "code",
   "execution_count": 5,
   "id": "aea2f7a9-213a-4468-a462-6097ba040c0f",
   "metadata": {},
   "outputs": [
    {
     "data": {
      "text/html": [
       "<div>\n",
       "<style scoped>\n",
       "    .dataframe tbody tr th:only-of-type {\n",
       "        vertical-align: middle;\n",
       "    }\n",
       "\n",
       "    .dataframe tbody tr th {\n",
       "        vertical-align: top;\n",
       "    }\n",
       "\n",
       "    .dataframe thead th {\n",
       "        text-align: right;\n",
       "    }\n",
       "</style>\n",
       "<table border=\"1\" class=\"dataframe\">\n",
       "  <thead>\n",
       "    <tr style=\"text-align: right;\">\n",
       "      <th></th>\n",
       "      <th>Oligo_NN_8wk</th>\n",
       "      <th>Oligo_NN_18mo</th>\n",
       "      <th>Oligo_NN_9mo</th>\n",
       "    </tr>\n",
       "  </thead>\n",
       "  <tbody>\n",
       "    <tr>\n",
       "      <th>chr1-33</th>\n",
       "      <td>0.741294</td>\n",
       "      <td>2.191247</td>\n",
       "      <td>1.384147</td>\n",
       "    </tr>\n",
       "    <tr>\n",
       "      <th>chr1-34</th>\n",
       "      <td>1.014298</td>\n",
       "      <td>2.452876</td>\n",
       "      <td>0.075068</td>\n",
       "    </tr>\n",
       "    <tr>\n",
       "      <th>chr1-35</th>\n",
       "      <td>0.085219</td>\n",
       "      <td>0.387921</td>\n",
       "      <td>-0.358632</td>\n",
       "    </tr>\n",
       "    <tr>\n",
       "      <th>chr1-36</th>\n",
       "      <td>0.032600</td>\n",
       "      <td>-0.646450</td>\n",
       "      <td>-0.231420</td>\n",
       "    </tr>\n",
       "    <tr>\n",
       "      <th>chr1-39</th>\n",
       "      <td>-4.581002</td>\n",
       "      <td>-8.904725</td>\n",
       "      <td>-8.073639</td>\n",
       "    </tr>\n",
       "  </tbody>\n",
       "</table>\n",
       "</div>"
      ],
      "text/plain": [
       "         Oligo_NN_8wk  Oligo_NN_18mo  Oligo_NN_9mo\n",
       "chr1-33      0.741294       2.191247      1.384147\n",
       "chr1-34      1.014298       2.452876      0.075068\n",
       "chr1-35      0.085219       0.387921     -0.358632\n",
       "chr1-36      0.032600      -0.646450     -0.231420\n",
       "chr1-39     -4.581002      -8.904725     -8.073639"
      ]
     },
     "execution_count": 5,
     "metadata": {},
     "output_type": "execute_result"
    }
   ],
   "source": [
    "comp = pd.read_hdf(f'{mode}_{ct}_celltyperawpca.hdf')\n",
    "comp.columns = [_column.replace('.','_').replace('-','_') for _column in comp.columns]\n",
    "comp.head()"
   ]
  },
  {
   "cell_type": "code",
   "execution_count": 6,
   "id": "6a987398-11f6-41c8-af95-a0dfcdd44737",
   "metadata": {},
   "outputs": [
    {
     "data": {
      "text/plain": [
       "Index(['Oligo_NN_8wk', 'Oligo_NN_9mo', 'Oligo_NN_18mo'], dtype='object')"
      ]
     },
     "execution_count": 6,
     "metadata": {},
     "output_type": "execute_result"
    }
   ],
   "source": [
    "leg = [f'{ct}.8wk',f'{ct}.9mo',f'{ct}.18mo']\n",
    "leg = [_leg.replace('.','_').replace('-','_') for _leg in leg]\n",
    "leg = pd.Index(leg)\n",
    "leg"
   ]
  },
  {
   "cell_type": "code",
   "execution_count": 7,
   "id": "a57a2a53-1c19-476f-a165-172c5e1f8edb",
   "metadata": {},
   "outputs": [
    {
     "data": {
      "text/html": [
       "<div>\n",
       "<style scoped>\n",
       "    .dataframe tbody tr th:only-of-type {\n",
       "        vertical-align: middle;\n",
       "    }\n",
       "\n",
       "    .dataframe tbody tr th {\n",
       "        vertical-align: top;\n",
       "    }\n",
       "\n",
       "    .dataframe thead th {\n",
       "        text-align: right;\n",
       "    }\n",
       "</style>\n",
       "<table border=\"1\" class=\"dataframe\">\n",
       "  <thead>\n",
       "    <tr style=\"text-align: right;\">\n",
       "      <th></th>\n",
       "      <th>chrom</th>\n",
       "      <th>start</th>\n",
       "      <th>end</th>\n",
       "    </tr>\n",
       "  </thead>\n",
       "  <tbody>\n",
       "    <tr>\n",
       "      <th>chr1-33</th>\n",
       "      <td>chr1</td>\n",
       "      <td>3300000</td>\n",
       "      <td>3400000</td>\n",
       "    </tr>\n",
       "    <tr>\n",
       "      <th>chr1-34</th>\n",
       "      <td>chr1</td>\n",
       "      <td>3400000</td>\n",
       "      <td>3500000</td>\n",
       "    </tr>\n",
       "    <tr>\n",
       "      <th>chr1-35</th>\n",
       "      <td>chr1</td>\n",
       "      <td>3500000</td>\n",
       "      <td>3600000</td>\n",
       "    </tr>\n",
       "    <tr>\n",
       "      <th>chr1-36</th>\n",
       "      <td>chr1</td>\n",
       "      <td>3600000</td>\n",
       "      <td>3700000</td>\n",
       "    </tr>\n",
       "    <tr>\n",
       "      <th>chr1-39</th>\n",
       "      <td>chr1</td>\n",
       "      <td>3900000</td>\n",
       "      <td>4000000</td>\n",
       "    </tr>\n",
       "    <tr>\n",
       "      <th>...</th>\n",
       "      <td>...</td>\n",
       "      <td>...</td>\n",
       "      <td>...</td>\n",
       "    </tr>\n",
       "    <tr>\n",
       "      <th>chrX-1694</th>\n",
       "      <td>chrX</td>\n",
       "      <td>169400000</td>\n",
       "      <td>169500000</td>\n",
       "    </tr>\n",
       "    <tr>\n",
       "      <th>chrX-1695</th>\n",
       "      <td>chrX</td>\n",
       "      <td>169500000</td>\n",
       "      <td>169600000</td>\n",
       "    </tr>\n",
       "    <tr>\n",
       "      <th>chrX-1696</th>\n",
       "      <td>chrX</td>\n",
       "      <td>169600000</td>\n",
       "      <td>169700000</td>\n",
       "    </tr>\n",
       "    <tr>\n",
       "      <th>chrX-1697</th>\n",
       "      <td>chrX</td>\n",
       "      <td>169700000</td>\n",
       "      <td>169800000</td>\n",
       "    </tr>\n",
       "    <tr>\n",
       "      <th>chrX-1698</th>\n",
       "      <td>chrX</td>\n",
       "      <td>169800000</td>\n",
       "      <td>169900000</td>\n",
       "    </tr>\n",
       "  </tbody>\n",
       "</table>\n",
       "<p>23588 rows × 3 columns</p>\n",
       "</div>"
      ],
      "text/plain": [
       "          chrom      start        end\n",
       "chr1-33    chr1    3300000    3400000\n",
       "chr1-34    chr1    3400000    3500000\n",
       "chr1-35    chr1    3500000    3600000\n",
       "chr1-36    chr1    3600000    3700000\n",
       "chr1-39    chr1    3900000    4000000\n",
       "...         ...        ...        ...\n",
       "chrX-1694  chrX  169400000  169500000\n",
       "chrX-1695  chrX  169500000  169600000\n",
       "chrX-1696  chrX  169600000  169700000\n",
       "chrX-1697  chrX  169700000  169800000\n",
       "chrX-1698  chrX  169800000  169900000\n",
       "\n",
       "[23588 rows x 3 columns]"
      ]
     },
     "execution_count": 7,
     "metadata": {},
     "output_type": "execute_result"
    }
   ],
   "source": [
    "binall = pd.read_csv('binall.csv', index_col = 0)\n",
    "binall"
   ]
  },
  {
   "cell_type": "code",
   "execution_count": 8,
   "id": "f7db2ad8-feac-4600-a4c4-3ed21dc9449d",
   "metadata": {},
   "outputs": [],
   "source": [
    "res = 100000\n",
    "chrom_size_path = '/ref/m3C/mm10.main.nochrM.nochrY.chrom.sizes'\n",
    "chrom_sizes = cooler.read_chromsizes(chrom_size_path, all_names=True)"
   ]
  },
  {
   "cell_type": "code",
   "execution_count": 9,
   "id": "4f2bc9d2-208d-4e2e-8328-41f0a49519c7",
   "metadata": {},
   "outputs": [
    {
     "data": {
      "text/plain": [
       "'/home/qzeng_salk_edu/project/240204-redo-compartment/template-ct-age'"
      ]
     },
     "execution_count": 9,
     "metadata": {},
     "output_type": "execute_result"
    }
   ],
   "source": [
    "outdir = os.getcwd()\n",
    "outdir"
   ]
  },
  {
   "cell_type": "code",
   "execution_count": 10,
   "id": "c70950dd-7169-42d6-a675-19f76d643aae",
   "metadata": {},
   "outputs": [],
   "source": [
    "for xx in leg:\n",
    "    os.makedirs(f'{outdir}/{xx}_100Kb_pca/intra_pca/{xx}_100Kb_mat/', exist_ok=True)\n",
    "    tmp = binall.copy()\n",
    "    tmp['pc'] = comp[xx]\n",
    "    for c in chrom_sizes.index:\n",
    "        tmp.loc[tmp['chrom']==c].to_csv(f'{outdir}/{xx}_100Kb_pca/intra_pca/{xx}_100Kb_mat/{c}.pc.bedGraph', sep='\\t', header=False, index=False)"
   ]
  },
  {
   "cell_type": "code",
   "execution_count": 11,
   "id": "4ea6876d-b0df-4cd8-8982-fbcc10111175",
   "metadata": {},
   "outputs": [
    {
     "data": {
      "text/html": [
       "<div>\n",
       "<style scoped>\n",
       "    .dataframe tbody tr th:only-of-type {\n",
       "        vertical-align: middle;\n",
       "    }\n",
       "\n",
       "    .dataframe tbody tr th {\n",
       "        vertical-align: top;\n",
       "    }\n",
       "\n",
       "    .dataframe thead th {\n",
       "        text-align: right;\n",
       "    }\n",
       "</style>\n",
       "<table border=\"1\" class=\"dataframe\">\n",
       "  <thead>\n",
       "    <tr style=\"text-align: right;\">\n",
       "      <th></th>\n",
       "      <th>matrix_path</th>\n",
       "      <th>bed_path</th>\n",
       "      <th>sample</th>\n",
       "      <th>group</th>\n",
       "    </tr>\n",
       "  </thead>\n",
       "  <tbody>\n",
       "    <tr>\n",
       "      <th>Oligo_NN_8wk</th>\n",
       "      <td>.</td>\n",
       "      <td>.</td>\n",
       "      <td>Oligo_NN_8wk_100Kb</td>\n",
       "      <td>Oligo_NN_8wk</td>\n",
       "    </tr>\n",
       "    <tr>\n",
       "      <th>Oligo_NN_9mo</th>\n",
       "      <td>.</td>\n",
       "      <td>.</td>\n",
       "      <td>Oligo_NN_9mo_100Kb</td>\n",
       "      <td>Oligo_NN_9mo</td>\n",
       "    </tr>\n",
       "    <tr>\n",
       "      <th>Oligo_NN_18mo</th>\n",
       "      <td>.</td>\n",
       "      <td>.</td>\n",
       "      <td>Oligo_NN_18mo_100Kb</td>\n",
       "      <td>Oligo_NN_18mo</td>\n",
       "    </tr>\n",
       "  </tbody>\n",
       "</table>\n",
       "</div>"
      ],
      "text/plain": [
       "              matrix_path bed_path               sample          group\n",
       "Oligo_NN_8wk            .        .   Oligo_NN_8wk_100Kb   Oligo_NN_8wk\n",
       "Oligo_NN_9mo            .        .   Oligo_NN_9mo_100Kb   Oligo_NN_9mo\n",
       "Oligo_NN_18mo           .        .  Oligo_NN_18mo_100Kb  Oligo_NN_18mo"
      ]
     },
     "execution_count": 11,
     "metadata": {},
     "output_type": "execute_result"
    }
   ],
   "source": [
    "tmp = pd.DataFrame(index=leg)\n",
    "tmp['matrix_path'] = '.'\n",
    "tmp['bed_path'] = '.'\n",
    "tmp['sample'] = tmp.index + '_100Kb'\n",
    "tmp['group'] = tmp.index\n",
    "tmp.to_csv(f'{outdir}/input.txt', sep='\\t', header=False, index=False)\n",
    "tmp"
   ]
  },
  {
   "cell_type": "code",
   "execution_count": 12,
   "id": "4370da5c-af94-4139-bafd-81f786a17920",
   "metadata": {},
   "outputs": [],
   "source": [
    "rscript_path = '/home/qzeng_salk_edu/project/240204-redo-compartment/dchicf.r'"
   ]
  },
  {
   "cell_type": "code",
   "execution_count": 15,
   "id": "71ba7860-f504-40bb-8ca9-f723051083ce",
   "metadata": {
    "scrolled": true
   },
   "outputs": [
    {
     "name": "stdout",
     "output_type": "stream",
     "text": [
      "Running intra sample differential calls for  Oligo_NN.8wk Oligo_NN.9mo Oligo_NN.18mo  samples\n",
      "Wrote  DifferentialResult/./Oligo_NN.8wk_data/intra_chr1_combined.pcOri.bedGraph and pcQnm.bedGraph files\n",
      "Wrote  DifferentialResult/./Oligo_NN.8wk_data/intra_chr10_combined.pcOri.bedGraph and pcQnm.bedGraph files\n",
      "Wrote  DifferentialResult/./Oligo_NN.8wk_data/intra_chr11_combined.pcOri.bedGraph and pcQnm.bedGraph files\n",
      "Wrote  DifferentialResult/./Oligo_NN.8wk_data/intra_chr12_combined.pcOri.bedGraph and pcQnm.bedGraph files\n",
      "Wrote  DifferentialResult/./Oligo_NN.8wk_data/intra_chr13_combined.pcOri.bedGraph and pcQnm.bedGraph files\n",
      "Wrote  DifferentialResult/./Oligo_NN.8wk_data/intra_chr14_combined.pcOri.bedGraph and pcQnm.bedGraph files\n",
      "Wrote  DifferentialResult/./Oligo_NN.8wk_data/intra_chr15_combined.pcOri.bedGraph and pcQnm.bedGraph files\n",
      "Wrote  DifferentialResult/./Oligo_NN.8wk_data/intra_chr16_combined.pcOri.bedGraph and pcQnm.bedGraph files\n",
      "Wrote  DifferentialResult/./Oligo_NN.8wk_data/intra_chr17_combined.pcOri.bedGraph and pcQnm.bedGraph files\n",
      "Wrote  DifferentialResult/./Oligo_NN.8wk_data/intra_chr18_combined.pcOri.bedGraph and pcQnm.bedGraph files\n",
      "Wrote  DifferentialResult/./Oligo_NN.8wk_data/intra_chr19_combined.pcOri.bedGraph and pcQnm.bedGraph files\n",
      "Wrote  DifferentialResult/./Oligo_NN.8wk_data/intra_chr2_combined.pcOri.bedGraph and pcQnm.bedGraph files\n",
      "Wrote  DifferentialResult/./Oligo_NN.8wk_data/intra_chr3_combined.pcOri.bedGraph and pcQnm.bedGraph files\n",
      "Wrote  DifferentialResult/./Oligo_NN.8wk_data/intra_chr4_combined.pcOri.bedGraph and pcQnm.bedGraph files\n",
      "Wrote  DifferentialResult/./Oligo_NN.8wk_data/intra_chr5_combined.pcOri.bedGraph and pcQnm.bedGraph files\n",
      "Wrote  DifferentialResult/./Oligo_NN.8wk_data/intra_chr6_combined.pcOri.bedGraph and pcQnm.bedGraph files\n",
      "Wrote  DifferentialResult/./Oligo_NN.8wk_data/intra_chr7_combined.pcOri.bedGraph and pcQnm.bedGraph files\n",
      "Wrote  DifferentialResult/./Oligo_NN.8wk_data/intra_chr8_combined.pcOri.bedGraph and pcQnm.bedGraph files\n",
      "Wrote  DifferentialResult/./Oligo_NN.8wk_data/intra_chr9_combined.pcOri.bedGraph and pcQnm.bedGraph files\n",
      "Wrote  DifferentialResult/./Oligo_NN.8wk_data/intra_chrX_combined.pcOri.bedGraph and pcQnm.bedGraph files\n",
      "Wrote  DifferentialResult/./Oligo_NN.9mo_data/intra_chr1_combined.pcOri.bedGraph and pcQnm.bedGraph files\n",
      "Wrote  DifferentialResult/./Oligo_NN.9mo_data/intra_chr10_combined.pcOri.bedGraph and pcQnm.bedGraph files\n",
      "Wrote  DifferentialResult/./Oligo_NN.9mo_data/intra_chr11_combined.pcOri.bedGraph and pcQnm.bedGraph files\n",
      "Wrote  DifferentialResult/./Oligo_NN.9mo_data/intra_chr12_combined.pcOri.bedGraph and pcQnm.bedGraph files\n",
      "Wrote  DifferentialResult/./Oligo_NN.9mo_data/intra_chr13_combined.pcOri.bedGraph and pcQnm.bedGraph files\n",
      "Wrote  DifferentialResult/./Oligo_NN.9mo_data/intra_chr14_combined.pcOri.bedGraph and pcQnm.bedGraph files\n",
      "Wrote  DifferentialResult/./Oligo_NN.9mo_data/intra_chr15_combined.pcOri.bedGraph and pcQnm.bedGraph files\n",
      "Wrote  DifferentialResult/./Oligo_NN.9mo_data/intra_chr16_combined.pcOri.bedGraph and pcQnm.bedGraph files\n",
      "Wrote  DifferentialResult/./Oligo_NN.9mo_data/intra_chr17_combined.pcOri.bedGraph and pcQnm.bedGraph files\n",
      "Wrote  DifferentialResult/./Oligo_NN.9mo_data/intra_chr18_combined.pcOri.bedGraph and pcQnm.bedGraph files\n",
      "Wrote  DifferentialResult/./Oligo_NN.9mo_data/intra_chr19_combined.pcOri.bedGraph and pcQnm.bedGraph files\n",
      "Wrote  DifferentialResult/./Oligo_NN.9mo_data/intra_chr2_combined.pcOri.bedGraph and pcQnm.bedGraph files\n",
      "Wrote  DifferentialResult/./Oligo_NN.9mo_data/intra_chr3_combined.pcOri.bedGraph and pcQnm.bedGraph files\n",
      "Wrote  DifferentialResult/./Oligo_NN.9mo_data/intra_chr4_combined.pcOri.bedGraph and pcQnm.bedGraph files\n",
      "Wrote  DifferentialResult/./Oligo_NN.9mo_data/intra_chr5_combined.pcOri.bedGraph and pcQnm.bedGraph files\n",
      "Wrote  DifferentialResult/./Oligo_NN.9mo_data/intra_chr6_combined.pcOri.bedGraph and pcQnm.bedGraph files\n",
      "Wrote  DifferentialResult/./Oligo_NN.9mo_data/intra_chr7_combined.pcOri.bedGraph and pcQnm.bedGraph files\n",
      "Wrote  DifferentialResult/./Oligo_NN.9mo_data/intra_chr8_combined.pcOri.bedGraph and pcQnm.bedGraph files\n",
      "Wrote  DifferentialResult/./Oligo_NN.9mo_data/intra_chr9_combined.pcOri.bedGraph and pcQnm.bedGraph files\n",
      "Wrote  DifferentialResult/./Oligo_NN.9mo_data/intra_chrX_combined.pcOri.bedGraph and pcQnm.bedGraph files\n",
      "Wrote  DifferentialResult/./Oligo_NN.18mo_data/intra_chr1_combined.pcOri.bedGraph and pcQnm.bedGraph files\n",
      "Wrote  DifferentialResult/./Oligo_NN.18mo_data/intra_chr10_combined.pcOri.bedGraph and pcQnm.bedGraph files\n",
      "Wrote  DifferentialResult/./Oligo_NN.18mo_data/intra_chr11_combined.pcOri.bedGraph and pcQnm.bedGraph files\n",
      "Wrote  DifferentialResult/./Oligo_NN.18mo_data/intra_chr12_combined.pcOri.bedGraph and pcQnm.bedGraph files\n",
      "Wrote  DifferentialResult/./Oligo_NN.18mo_data/intra_chr13_combined.pcOri.bedGraph and pcQnm.bedGraph files\n",
      "Wrote  DifferentialResult/./Oligo_NN.18mo_data/intra_chr14_combined.pcOri.bedGraph and pcQnm.bedGraph files\n",
      "Wrote  DifferentialResult/./Oligo_NN.18mo_data/intra_chr15_combined.pcOri.bedGraph and pcQnm.bedGraph files\n",
      "Wrote  DifferentialResult/./Oligo_NN.18mo_data/intra_chr16_combined.pcOri.bedGraph and pcQnm.bedGraph files\n",
      "Wrote  DifferentialResult/./Oligo_NN.18mo_data/intra_chr17_combined.pcOri.bedGraph and pcQnm.bedGraph files\n",
      "Wrote  DifferentialResult/./Oligo_NN.18mo_data/intra_chr18_combined.pcOri.bedGraph and pcQnm.bedGraph files\n",
      "Wrote  DifferentialResult/./Oligo_NN.18mo_data/intra_chr19_combined.pcOri.bedGraph and pcQnm.bedGraph files\n",
      "Wrote  DifferentialResult/./Oligo_NN.18mo_data/intra_chr2_combined.pcOri.bedGraph and pcQnm.bedGraph files\n",
      "Wrote  DifferentialResult/./Oligo_NN.18mo_data/intra_chr3_combined.pcOri.bedGraph and pcQnm.bedGraph files\n",
      "Wrote  DifferentialResult/./Oligo_NN.18mo_data/intra_chr4_combined.pcOri.bedGraph and pcQnm.bedGraph files\n",
      "Wrote  DifferentialResult/./Oligo_NN.18mo_data/intra_chr5_combined.pcOri.bedGraph and pcQnm.bedGraph files\n",
      "Wrote  DifferentialResult/./Oligo_NN.18mo_data/intra_chr6_combined.pcOri.bedGraph and pcQnm.bedGraph files\n",
      "Wrote  DifferentialResult/./Oligo_NN.18mo_data/intra_chr7_combined.pcOri.bedGraph and pcQnm.bedGraph files\n",
      "Wrote  DifferentialResult/./Oligo_NN.18mo_data/intra_chr8_combined.pcOri.bedGraph and pcQnm.bedGraph files\n",
      "Wrote  DifferentialResult/./Oligo_NN.18mo_data/intra_chr9_combined.pcOri.bedGraph and pcQnm.bedGraph files\n",
      "Wrote  DifferentialResult/./Oligo_NN.18mo_data/intra_chrX_combined.pcOri.bedGraph and pcQnm.bedGraph files\n",
      "Wrote intra_sample_chr1_combined.pcOri.bedGraph & _combined.pcQnm.bedGraph files under DifferentialResult/./pcOri & DifferentialResult/./pcQnm folders \n",
      "Wrote intra_sample_chr10_combined.pcOri.bedGraph & _combined.pcQnm.bedGraph files under DifferentialResult/./pcOri & DifferentialResult/./pcQnm folders \n",
      "Wrote intra_sample_chr11_combined.pcOri.bedGraph & _combined.pcQnm.bedGraph files under DifferentialResult/./pcOri & DifferentialResult/./pcQnm folders \n",
      "Wrote intra_sample_chr12_combined.pcOri.bedGraph & _combined.pcQnm.bedGraph files under DifferentialResult/./pcOri & DifferentialResult/./pcQnm folders \n",
      "Wrote intra_sample_chr13_combined.pcOri.bedGraph & _combined.pcQnm.bedGraph files under DifferentialResult/./pcOri & DifferentialResult/./pcQnm folders \n",
      "Wrote intra_sample_chr14_combined.pcOri.bedGraph & _combined.pcQnm.bedGraph files under DifferentialResult/./pcOri & DifferentialResult/./pcQnm folders \n",
      "Wrote intra_sample_chr15_combined.pcOri.bedGraph & _combined.pcQnm.bedGraph files under DifferentialResult/./pcOri & DifferentialResult/./pcQnm folders \n",
      "Wrote intra_sample_chr16_combined.pcOri.bedGraph & _combined.pcQnm.bedGraph files under DifferentialResult/./pcOri & DifferentialResult/./pcQnm folders \n",
      "Wrote intra_sample_chr17_combined.pcOri.bedGraph & _combined.pcQnm.bedGraph files under DifferentialResult/./pcOri & DifferentialResult/./pcQnm folders \n",
      "Wrote intra_sample_chr18_combined.pcOri.bedGraph & _combined.pcQnm.bedGraph files under DifferentialResult/./pcOri & DifferentialResult/./pcQnm folders \n",
      "Wrote intra_sample_chr19_combined.pcOri.bedGraph & _combined.pcQnm.bedGraph files under DifferentialResult/./pcOri & DifferentialResult/./pcQnm folders \n",
      "Wrote intra_sample_chr2_combined.pcOri.bedGraph & _combined.pcQnm.bedGraph files under DifferentialResult/./pcOri & DifferentialResult/./pcQnm folders \n",
      "Wrote intra_sample_chr3_combined.pcOri.bedGraph & _combined.pcQnm.bedGraph files under DifferentialResult/./pcOri & DifferentialResult/./pcQnm folders \n",
      "Wrote intra_sample_chr4_combined.pcOri.bedGraph & _combined.pcQnm.bedGraph files under DifferentialResult/./pcOri & DifferentialResult/./pcQnm folders \n",
      "Wrote intra_sample_chr5_combined.pcOri.bedGraph & _combined.pcQnm.bedGraph files under DifferentialResult/./pcOri & DifferentialResult/./pcQnm folders \n",
      "Wrote intra_sample_chr6_combined.pcOri.bedGraph & _combined.pcQnm.bedGraph files under DifferentialResult/./pcOri & DifferentialResult/./pcQnm folders \n",
      "Wrote intra_sample_chr7_combined.pcOri.bedGraph & _combined.pcQnm.bedGraph files under DifferentialResult/./pcOri & DifferentialResult/./pcQnm folders \n",
      "Wrote intra_sample_chr8_combined.pcOri.bedGraph & _combined.pcQnm.bedGraph files under DifferentialResult/./pcOri & DifferentialResult/./pcQnm folders \n",
      "Wrote intra_sample_chr9_combined.pcOri.bedGraph & _combined.pcQnm.bedGraph files under DifferentialResult/./pcOri & DifferentialResult/./pcQnm folders \n",
      "Wrote intra_sample_chrX_combined.pcOri.bedGraph & _combined.pcQnm.bedGraph files under DifferentialResult/./pcOri & DifferentialResult/./pcQnm folders \n",
      "Wrote  DifferentialResult/./fdr_result/differential.intra_sample_chr1_combined.pcQnm.bedGraph  file\n",
      "Wrote  DifferentialResult/./fdr_result/differential.intra_sample_chr10_combined.pcQnm.bedGraph  file\n",
      "Wrote  DifferentialResult/./fdr_result/differential.intra_sample_chr11_combined.pcQnm.bedGraph  file\n",
      "Wrote  DifferentialResult/./fdr_result/differential.intra_sample_chr12_combined.pcQnm.bedGraph  file\n",
      "Wrote  DifferentialResult/./fdr_result/differential.intra_sample_chr13_combined.pcQnm.bedGraph  file\n",
      "Wrote  DifferentialResult/./fdr_result/differential.intra_sample_chr14_combined.pcQnm.bedGraph  file\n",
      "Wrote  DifferentialResult/./fdr_result/differential.intra_sample_chr15_combined.pcQnm.bedGraph  file\n",
      "Wrote  DifferentialResult/./fdr_result/differential.intra_sample_chr16_combined.pcQnm.bedGraph  file\n",
      "Wrote  DifferentialResult/./fdr_result/differential.intra_sample_chr17_combined.pcQnm.bedGraph  file\n",
      "Wrote  DifferentialResult/./fdr_result/differential.intra_sample_chr18_combined.pcQnm.bedGraph  file\n",
      "Wrote  DifferentialResult/./fdr_result/differential.intra_sample_chr19_combined.pcQnm.bedGraph  file\n",
      "Wrote  DifferentialResult/./fdr_result/differential.intra_sample_chr2_combined.pcQnm.bedGraph  file\n",
      "Wrote  DifferentialResult/./fdr_result/differential.intra_sample_chr3_combined.pcQnm.bedGraph  file\n",
      "Wrote  DifferentialResult/./fdr_result/differential.intra_sample_chr4_combined.pcQnm.bedGraph  file\n",
      "Wrote  DifferentialResult/./fdr_result/differential.intra_sample_chr5_combined.pcQnm.bedGraph  file\n",
      "Wrote  DifferentialResult/./fdr_result/differential.intra_sample_chr6_combined.pcQnm.bedGraph  file\n",
      "Wrote  DifferentialResult/./fdr_result/differential.intra_sample_chr7_combined.pcQnm.bedGraph  file\n",
      "Wrote  DifferentialResult/./fdr_result/differential.intra_sample_chr8_combined.pcQnm.bedGraph  file\n",
      "Wrote  DifferentialResult/./fdr_result/differential.intra_sample_chr9_combined.pcQnm.bedGraph  file\n",
      "Wrote  DifferentialResult/./fdr_result/differential.intra_sample_chrX_combined.pcQnm.bedGraph  file\n",
      "Wrote  DifferentialResult/./fdr_result/differential.intra_sample_combined.pcQnm.bedGraph  file\n",
      "Wrote  DifferentialResult/./fdr_result/differential.intra_sample_group.pcQnm.bedGraph  file\n",
      "Wrote  DifferentialResult/./fdr_result/differential.intra_sample_group.pcOri.bedGraph  file\n"
     ]
    },
    {
     "data": {
      "text/plain": [
       "CompletedProcess(args='Rscript /home/qzeng_salk_edu/project/240204-redo-compartment/dchicf.r --file input.txt --pcatype analyze --dirovwt T --diffdir .', returncode=0)"
      ]
     },
     "execution_count": 15,
     "metadata": {},
     "output_type": "execute_result"
    }
   ],
   "source": [
    "subprocess.run(f\"Rscript {rscript_path} --file input.txt --pcatype analyze --dirovwt T --diffdir .\", shell = True)"
   ]
  },
  {
   "cell_type": "code",
   "execution_count": 2,
   "id": "ebd7bcfa-1a48-4752-9d17-51be7cff71ed",
   "metadata": {},
   "outputs": [],
   "source": [
    "# Rscript  /home/qzeng_salk_edu/project/230907-call_diff-compartment/dchicf.r --file input.txt --pcatype analyze --dirovwt T --diffdir ."
   ]
  },
  {
   "cell_type": "code",
   "execution_count": null,
   "id": "75a07a32-9c14-43ba-954b-e6f6e16ad622",
   "metadata": {},
   "outputs": [],
   "source": []
  },
  {
   "cell_type": "code",
   "execution_count": null,
   "id": "adf3fb9f-bf40-4838-973d-8dc767a3ee58",
   "metadata": {},
   "outputs": [],
   "source": []
  },
  {
   "cell_type": "code",
   "execution_count": null,
   "id": "524b7ae5-d199-435a-a9a2-eb6db682160b",
   "metadata": {},
   "outputs": [],
   "source": []
  },
  {
   "cell_type": "code",
   "execution_count": null,
   "id": "56bb79d8-e48c-4507-ad07-f7355511ec81",
   "metadata": {},
   "outputs": [],
   "source": []
  }
 ],
 "metadata": {
  "kernelspec": {
   "display_name": "Python 3 (ipykernel)",
   "language": "python",
   "name": "python3"
  },
  "language_info": {
   "codemirror_mode": {
    "name": "ipython",
    "version": 3
   },
   "file_extension": ".py",
   "mimetype": "text/x-python",
   "name": "python",
   "nbconvert_exporter": "python",
   "pygments_lexer": "ipython3",
   "version": "3.10.12"
  }
 },
 "nbformat": 4,
 "nbformat_minor": 5
}
