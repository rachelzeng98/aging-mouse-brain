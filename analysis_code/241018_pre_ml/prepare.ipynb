{
 "cells": [
  {
   "cell_type": "code",
   "execution_count": 1,
   "metadata": {},
   "outputs": [
    {
     "name": "stderr",
     "output_type": "stream",
     "text": [
      "INFO:numexpr.utils:Note: NumExpr detected 48 cores but \"NUMEXPR_MAX_THREADS\" not set, so enforcing safe limit of 8.\n",
      "INFO:numexpr.utils:NumExpr defaulting to 8 threads.\n"
     ]
    }
   ],
   "source": [
    "from gliderport.preset import notebook_snakemake\n",
    "import glob"
   ]
  },
  {
   "cell_type": "code",
   "execution_count": 2,
   "metadata": {},
   "outputs": [],
   "source": [
    "# all_cts = ['Oligo_NN', 'STR_D1_Gaba', 'Astro-TE_NN', 'STR_D2_Gaba',\n",
    "#           'L6_CT_CTX_Glut', 'VLMC_NN', 'OPC_NN',\n",
    "#           'L23_IT_CTX_Glut', 'CA1-ProS_Glut', 'CEA-BST_Gaba', 'MEA-COA_Glut',\n",
    "#           'Pvalb_Gaba', 'L45_IT_CTX_Glut', 'L6bCT_ENT_Glut',\n",
    "#           'STR-PAL_Chst9_Gaba', 'L23_IT_PPP_Glut', 'Astro-NT_NN',\n",
    "#           'L6_IT_CTX_Glut', 'CA3_Glut', 'Sst_Gaba', 'MEA-BST_Gaba']\n",
    "# len(all_cts)"
   ]
  },
  {
   "cell_type": "code",
   "execution_count": 3,
   "metadata": {},
   "outputs": [],
   "source": [
    "use_cts = [ 'DG_Glut','CA1-ProS_Glut','CA3_Glut','L23_IT_CTX_Glut', 'Oligo_NN','L6_IT_CTX_Glut', 'L6_CT_CTX_Glut','L5_ET_CTX_Glut','Astro-TE_NN','OPC_NN','Pvalb_Gaba']"
   ]
  },
  {
   "cell_type": "code",
   "execution_count": 4,
   "metadata": {},
   "outputs": [],
   "source": [
    "notebook_snakemake(\n",
    "    work_dir=\"gen_ml_input/\",\n",
    "    notebook_dir=\"template_add_enhancer/\",\n",
    "    groups=use_cts,\n",
    "    default_cpu=8,\n",
    "    default_mem_gb=10,\n",
    "    redo_prepare=False,\n",
    ")"
   ]
  },
  {
   "cell_type": "code",
   "execution_count": null,
   "metadata": {},
   "outputs": [],
   "source": []
  },
  {
   "cell_type": "code",
   "execution_count": null,
   "metadata": {},
   "outputs": [],
   "source": []
  },
  {
   "cell_type": "code",
   "execution_count": null,
   "metadata": {},
   "outputs": [],
   "source": []
  },
  {
   "cell_type": "code",
   "execution_count": null,
   "metadata": {},
   "outputs": [],
   "source": []
  }
 ],
 "metadata": {
  "kernelspec": {
   "display_name": "base",
   "language": "python",
   "name": "python3"
  },
  "language_info": {
   "codemirror_mode": {
    "name": "ipython",
    "version": 3
   },
   "file_extension": ".py",
   "mimetype": "text/x-python",
   "name": "python",
   "nbconvert_exporter": "python",
   "pygments_lexer": "ipython3",
   "version": "3.10.12"
  }
 },
 "nbformat": 4,
 "nbformat_minor": 2
}
