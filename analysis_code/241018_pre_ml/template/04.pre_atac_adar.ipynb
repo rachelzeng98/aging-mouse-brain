{
 "cells": [
  {
   "cell_type": "code",
   "execution_count": 1,
   "id": "dfa780bd",
   "metadata": {
    "execution": {
     "iopub.execute_input": "2024-12-08T03:35:24.160046Z",
     "iopub.status.busy": "2024-12-08T03:35:24.159238Z",
     "iopub.status.idle": "2024-12-08T03:35:24.165213Z",
     "shell.execute_reply": "2024-12-08T03:35:24.164665Z"
    },
    "papermill": {
     "duration": 0.011411,
     "end_time": "2024-12-08T03:35:24.166312",
     "exception": false,
     "start_time": "2024-12-08T03:35:24.154901",
     "status": "completed"
    },
    "tags": [
     "injected-parameters"
    ]
   },
   "outputs": [],
   "source": [
    "# Parameters\n",
    "cpu = 8\n",
    "group_name = \"Astro-TE_NN\"\n",
    "mem_gb = 10\n"
   ]
  },
  {
   "cell_type": "code",
   "execution_count": 2,
   "id": "125740ac",
   "metadata": {
    "execution": {
     "iopub.execute_input": "2024-12-08T03:35:24.172542Z",
     "iopub.status.busy": "2024-12-08T03:35:24.172345Z",
     "iopub.status.idle": "2024-12-08T03:35:24.956849Z",
     "shell.execute_reply": "2024-12-08T03:35:24.955832Z"
    },
    "papermill": {
     "duration": 0.789465,
     "end_time": "2024-12-08T03:35:24.958544",
     "exception": false,
     "start_time": "2024-12-08T03:35:24.169079",
     "status": "completed"
    },
    "tags": []
   },
   "outputs": [],
   "source": [
    "import pandas as pd\n",
    "import subprocess\n",
    "import numpy as np\n",
    "import pyBigWig\n",
    "from tqdm import tqdm\n",
    "import seaborn as sns\n",
    "import matplotlib.pyplot as plt"
   ]
  },
  {
   "cell_type": "code",
   "execution_count": 3,
   "id": "0e81b439",
   "metadata": {
    "execution": {
     "iopub.execute_input": "2024-12-08T03:35:24.965724Z",
     "iopub.status.busy": "2024-12-08T03:35:24.965081Z",
     "iopub.status.idle": "2024-12-08T03:35:24.968317Z",
     "shell.execute_reply": "2024-12-08T03:35:24.967730Z"
    },
    "papermill": {
     "duration": 0.007845,
     "end_time": "2024-12-08T03:35:24.969388",
     "exception": false,
     "start_time": "2024-12-08T03:35:24.961543",
     "status": "completed"
    },
    "tags": []
   },
   "outputs": [],
   "source": [
    "#group_name = 'DG_Glut'"
   ]
  },
  {
   "cell_type": "code",
   "execution_count": 4,
   "id": "30a60dfb",
   "metadata": {
    "execution": {
     "iopub.execute_input": "2024-12-08T03:35:24.975850Z",
     "iopub.status.busy": "2024-12-08T03:35:24.975412Z",
     "iopub.status.idle": "2024-12-08T03:35:24.978907Z",
     "shell.execute_reply": "2024-12-08T03:35:24.978232Z"
    },
    "papermill": {
     "duration": 0.007887,
     "end_time": "2024-12-08T03:35:24.979937",
     "exception": false,
     "start_time": "2024-12-08T03:35:24.972050",
     "status": "completed"
    },
    "tags": []
   },
   "outputs": [],
   "source": [
    "home_dir = '/home/qzeng_salk_edu/project/241018_pre_ml'\n",
    "ct = group_name\n",
    "dar_dir = '/data/combined_DARs_redo'\n",
    "abc_dir = '/data/celltype_age_RPM_files'\n",
    "_type = 'up_peaks'"
   ]
  },
  {
   "cell_type": "code",
   "execution_count": 5,
   "id": "7c2f7d3d",
   "metadata": {
    "execution": {
     "iopub.execute_input": "2024-12-08T03:35:24.986504Z",
     "iopub.status.busy": "2024-12-08T03:35:24.985874Z",
     "iopub.status.idle": "2024-12-08T03:35:24.989488Z",
     "shell.execute_reply": "2024-12-08T03:35:24.988919Z"
    },
    "papermill": {
     "duration": 0.008411,
     "end_time": "2024-12-08T03:35:24.990903",
     "exception": false,
     "start_time": "2024-12-08T03:35:24.982492",
     "status": "completed"
    },
    "tags": []
   },
   "outputs": [],
   "source": [
    "dar_ct_dict = {'L23_IT_CTX_Glut':'L2-3_IT_CTX_Glut'}\n",
    "bw_ct_dict = {'L23_IT_CTX_Glut':'L2_3_IT_CTX_Glut'}\n",
    "if ct in bw_ct_dict.keys():\n",
    "    dar_ct = dar_ct_dict[ct]\n",
    "    bw_ct = bw_ct_dict[ct]\n",
    "else:\n",
    "    dar_ct = ct\n",
    "    bw_ct = ct"
   ]
  },
  {
   "cell_type": "code",
   "execution_count": 6,
   "id": "c2d1a291",
   "metadata": {
    "execution": {
     "iopub.execute_input": "2024-12-08T03:35:24.997875Z",
     "iopub.status.busy": "2024-12-08T03:35:24.997320Z",
     "iopub.status.idle": "2024-12-08T03:35:25.121464Z",
     "shell.execute_reply": "2024-12-08T03:35:25.120856Z"
    },
    "papermill": {
     "duration": 0.1293,
     "end_time": "2024-12-08T03:35:25.123165",
     "exception": false,
     "start_time": "2024-12-08T03:35:24.993865",
     "status": "completed"
    },
    "tags": []
   },
   "outputs": [],
   "source": [
    "atac_df  = pd.read_csv(f'{dar_dir}/diff_peaks_{dar_ct}_2vs18.csv', sep=',', index_col=0)"
   ]
  },
  {
   "cell_type": "code",
   "execution_count": 7,
   "id": "71dc6ba1",
   "metadata": {
    "execution": {
     "iopub.execute_input": "2024-12-08T03:35:25.130394Z",
     "iopub.status.busy": "2024-12-08T03:35:25.129794Z",
     "iopub.status.idle": "2024-12-08T03:35:25.224870Z",
     "shell.execute_reply": "2024-12-08T03:35:25.224292Z"
    },
    "papermill": {
     "duration": 0.099953,
     "end_time": "2024-12-08T03:35:25.225992",
     "exception": false,
     "start_time": "2024-12-08T03:35:25.126039",
     "status": "completed"
    },
    "tags": []
   },
   "outputs": [
    {
     "data": {
      "text/html": [
       "<div>\n",
       "<style scoped>\n",
       "    .dataframe tbody tr th:only-of-type {\n",
       "        vertical-align: middle;\n",
       "    }\n",
       "\n",
       "    .dataframe tbody tr th {\n",
       "        vertical-align: top;\n",
       "    }\n",
       "\n",
       "    .dataframe thead th {\n",
       "        text-align: right;\n",
       "    }\n",
       "</style>\n",
       "<table border=\"1\" class=\"dataframe\">\n",
       "  <thead>\n",
       "    <tr style=\"text-align: right;\">\n",
       "      <th></th>\n",
       "      <th>log2(fold_change)</th>\n",
       "      <th>p-value</th>\n",
       "      <th>adjusted p-value</th>\n",
       "      <th>chrom</th>\n",
       "      <th>start</th>\n",
       "      <th>end</th>\n",
       "    </tr>\n",
       "    <tr>\n",
       "      <th>feature name</th>\n",
       "      <th></th>\n",
       "      <th></th>\n",
       "      <th></th>\n",
       "      <th></th>\n",
       "      <th></th>\n",
       "      <th></th>\n",
       "    </tr>\n",
       "  </thead>\n",
       "  <tbody>\n",
       "    <tr>\n",
       "      <th>chr5:109558426-109558927</th>\n",
       "      <td>1.701923</td>\n",
       "      <td>0.000000e+00</td>\n",
       "      <td>0.000000e+00</td>\n",
       "      <td>chr5</td>\n",
       "      <td>109558426</td>\n",
       "      <td>109558927</td>\n",
       "    </tr>\n",
       "    <tr>\n",
       "      <th>chr7:26783186-26783687</th>\n",
       "      <td>3.733156</td>\n",
       "      <td>0.000000e+00</td>\n",
       "      <td>0.000000e+00</td>\n",
       "      <td>chr7</td>\n",
       "      <td>26783186</td>\n",
       "      <td>26783687</td>\n",
       "    </tr>\n",
       "    <tr>\n",
       "      <th>chr5:109557248-109557749</th>\n",
       "      <td>1.024222</td>\n",
       "      <td>1.253381e-251</td>\n",
       "      <td>3.117159e-248</td>\n",
       "      <td>chr5</td>\n",
       "      <td>109557248</td>\n",
       "      <td>109557749</td>\n",
       "    </tr>\n",
       "    <tr>\n",
       "      <th>chr7:47651736-47652237</th>\n",
       "      <td>4.687733</td>\n",
       "      <td>1.614651e-204</td>\n",
       "      <td>3.011729e-201</td>\n",
       "      <td>chr7</td>\n",
       "      <td>47651736</td>\n",
       "      <td>47652237</td>\n",
       "    </tr>\n",
       "    <tr>\n",
       "      <th>chr5:109556731-109557232</th>\n",
       "      <td>1.251654</td>\n",
       "      <td>3.179016e-200</td>\n",
       "      <td>4.743727e-197</td>\n",
       "      <td>chr5</td>\n",
       "      <td>109556731</td>\n",
       "      <td>109557232</td>\n",
       "    </tr>\n",
       "    <tr>\n",
       "      <th>...</th>\n",
       "      <td>...</td>\n",
       "      <td>...</td>\n",
       "      <td>...</td>\n",
       "      <td>...</td>\n",
       "      <td>...</td>\n",
       "      <td>...</td>\n",
       "    </tr>\n",
       "    <tr>\n",
       "      <th>chr17:6961171-6961672</th>\n",
       "      <td>0.252943</td>\n",
       "      <td>7.581730e-01</td>\n",
       "      <td>7.585797e-01</td>\n",
       "      <td>chr17</td>\n",
       "      <td>6961171</td>\n",
       "      <td>6961672</td>\n",
       "    </tr>\n",
       "    <tr>\n",
       "      <th>chr10:79716949-79717450</th>\n",
       "      <td>0.265331</td>\n",
       "      <td>7.663166e-01</td>\n",
       "      <td>7.666249e-01</td>\n",
       "      <td>chr10</td>\n",
       "      <td>79716949</td>\n",
       "      <td>79717450</td>\n",
       "    </tr>\n",
       "    <tr>\n",
       "      <th>chr13:52047390-52047891</th>\n",
       "      <td>0.269548</td>\n",
       "      <td>7.710420e-01</td>\n",
       "      <td>7.712487e-01</td>\n",
       "      <td>chr13</td>\n",
       "      <td>52047390</td>\n",
       "      <td>52047891</td>\n",
       "    </tr>\n",
       "    <tr>\n",
       "      <th>chr5:135393837-135394338</th>\n",
       "      <td>0.256367</td>\n",
       "      <td>8.954036e-01</td>\n",
       "      <td>8.955236e-01</td>\n",
       "      <td>chr5</td>\n",
       "      <td>135393837</td>\n",
       "      <td>135394338</td>\n",
       "    </tr>\n",
       "    <tr>\n",
       "      <th>chr17:25774006-25774507</th>\n",
       "      <td>0.267768</td>\n",
       "      <td>8.999899e-01</td>\n",
       "      <td>8.999899e-01</td>\n",
       "      <td>chr17</td>\n",
       "      <td>25774006</td>\n",
       "      <td>25774507</td>\n",
       "    </tr>\n",
       "  </tbody>\n",
       "</table>\n",
       "<p>7461 rows × 6 columns</p>\n",
       "</div>"
      ],
      "text/plain": [
       "                          log2(fold_change)        p-value  adjusted p-value  \\\n",
       "feature name                                                                   \n",
       "chr5:109558426-109558927           1.701923   0.000000e+00      0.000000e+00   \n",
       "chr7:26783186-26783687             3.733156   0.000000e+00      0.000000e+00   \n",
       "chr5:109557248-109557749           1.024222  1.253381e-251     3.117159e-248   \n",
       "chr7:47651736-47652237             4.687733  1.614651e-204     3.011729e-201   \n",
       "chr5:109556731-109557232           1.251654  3.179016e-200     4.743727e-197   \n",
       "...                                     ...            ...               ...   \n",
       "chr17:6961171-6961672              0.252943   7.581730e-01      7.585797e-01   \n",
       "chr10:79716949-79717450            0.265331   7.663166e-01      7.666249e-01   \n",
       "chr13:52047390-52047891            0.269548   7.710420e-01      7.712487e-01   \n",
       "chr5:135393837-135394338           0.256367   8.954036e-01      8.955236e-01   \n",
       "chr17:25774006-25774507            0.267768   8.999899e-01      8.999899e-01   \n",
       "\n",
       "                          chrom      start        end  \n",
       "feature name                                           \n",
       "chr5:109558426-109558927   chr5  109558426  109558927  \n",
       "chr7:26783186-26783687     chr7   26783186   26783687  \n",
       "chr5:109557248-109557749   chr5  109557248  109557749  \n",
       "chr7:47651736-47652237     chr7   47651736   47652237  \n",
       "chr5:109556731-109557232   chr5  109556731  109557232  \n",
       "...                         ...        ...        ...  \n",
       "chr17:6961171-6961672     chr17    6961171    6961672  \n",
       "chr10:79716949-79717450   chr10   79716949   79717450  \n",
       "chr13:52047390-52047891   chr13   52047390   52047891  \n",
       "chr5:135393837-135394338   chr5  135393837  135394338  \n",
       "chr17:25774006-25774507   chr17   25774006   25774507  \n",
       "\n",
       "[7461 rows x 6 columns]"
      ]
     },
     "execution_count": 7,
     "metadata": {},
     "output_type": "execute_result"
    }
   ],
   "source": [
    "# add a chrom, start, end based on the index \n",
    "atac_df['chrom'] = atac_df.index.str.split(':').str[0]\n",
    "atac_df['start'] = atac_df.index.str.split(':').str[1].str.split('-').str[0].astype(int)\n",
    "atac_df['end'] = atac_df.index.str.split(':').str[1].str.split('-').str[1].astype(int)\n",
    "atac_df"
   ]
  },
  {
   "cell_type": "code",
   "execution_count": 8,
   "id": "8c2dc582",
   "metadata": {
    "execution": {
     "iopub.execute_input": "2024-12-08T03:35:25.232587Z",
     "iopub.status.busy": "2024-12-08T03:35:25.232379Z",
     "iopub.status.idle": "2024-12-08T03:35:25.349446Z",
     "shell.execute_reply": "2024-12-08T03:35:25.348969Z"
    },
    "papermill": {
     "duration": 0.121694,
     "end_time": "2024-12-08T03:35:25.350598",
     "exception": false,
     "start_time": "2024-12-08T03:35:25.228904",
     "status": "completed"
    },
    "tags": []
   },
   "outputs": [
    {
     "data": {
      "text/html": [
       "<div>\n",
       "<style scoped>\n",
       "    .dataframe tbody tr th:only-of-type {\n",
       "        vertical-align: middle;\n",
       "    }\n",
       "\n",
       "    .dataframe tbody tr th {\n",
       "        vertical-align: top;\n",
       "    }\n",
       "\n",
       "    .dataframe thead th {\n",
       "        text-align: right;\n",
       "    }\n",
       "</style>\n",
       "<table border=\"1\" class=\"dataframe\">\n",
       "  <thead>\n",
       "    <tr style=\"text-align: right;\">\n",
       "      <th></th>\n",
       "      <th>0</th>\n",
       "      <th>1</th>\n",
       "      <th>2</th>\n",
       "      <th>log2FoldChange</th>\n",
       "    </tr>\n",
       "  </thead>\n",
       "  <tbody>\n",
       "    <tr>\n",
       "      <th>chr5:109558426-109558927</th>\n",
       "      <td>chr5</td>\n",
       "      <td>109558426</td>\n",
       "      <td>109558927</td>\n",
       "      <td>1.701923</td>\n",
       "    </tr>\n",
       "    <tr>\n",
       "      <th>chr7:26783186-26783687</th>\n",
       "      <td>chr7</td>\n",
       "      <td>26783186</td>\n",
       "      <td>26783687</td>\n",
       "      <td>3.733156</td>\n",
       "    </tr>\n",
       "    <tr>\n",
       "      <th>chr5:109557248-109557749</th>\n",
       "      <td>chr5</td>\n",
       "      <td>109557248</td>\n",
       "      <td>109557749</td>\n",
       "      <td>1.024222</td>\n",
       "    </tr>\n",
       "    <tr>\n",
       "      <th>chr7:47651736-47652237</th>\n",
       "      <td>chr7</td>\n",
       "      <td>47651736</td>\n",
       "      <td>47652237</td>\n",
       "      <td>4.687733</td>\n",
       "    </tr>\n",
       "    <tr>\n",
       "      <th>chr5:109556731-109557232</th>\n",
       "      <td>chr5</td>\n",
       "      <td>109556731</td>\n",
       "      <td>109557232</td>\n",
       "      <td>1.251654</td>\n",
       "    </tr>\n",
       "  </tbody>\n",
       "</table>\n",
       "</div>"
      ],
      "text/plain": [
       "                             0          1          2  log2FoldChange\n",
       "chr5:109558426-109558927  chr5  109558426  109558927        1.701923\n",
       "chr7:26783186-26783687    chr7   26783186   26783687        3.733156\n",
       "chr5:109557248-109557749  chr5  109557248  109557749        1.024222\n",
       "chr7:47651736-47652237    chr7   47651736   47652237        4.687733\n",
       "chr5:109556731-109557232  chr5  109556731  109557232        1.251654"
      ]
     },
     "execution_count": 8,
     "metadata": {},
     "output_type": "execute_result"
    }
   ],
   "source": [
    "up_atac_df = pd.read_csv(f'{dar_dir}/up_peaks_{dar_ct}.bed', sep='\\t', header = None)\n",
    "#add index like in the atac_df\n",
    "up_atac_df.index = up_atac_df[0] + ':' + up_atac_df[1].astype(str) + '-' + up_atac_df[2].astype(str)\n",
    "# add the log(fold_change) baes on the info in atac_df\n",
    "up_atac_df['log2FoldChange'] = atac_df['log2(fold_change)']\n",
    "up_atac_df.head()"
   ]
  },
  {
   "cell_type": "code",
   "execution_count": 9,
   "id": "7ff6ea82",
   "metadata": {
    "execution": {
     "iopub.execute_input": "2024-12-08T03:35:25.357893Z",
     "iopub.status.busy": "2024-12-08T03:35:25.357548Z",
     "iopub.status.idle": "2024-12-08T03:35:25.447745Z",
     "shell.execute_reply": "2024-12-08T03:35:25.447287Z"
    },
    "papermill": {
     "duration": 0.094916,
     "end_time": "2024-12-08T03:35:25.448774",
     "exception": false,
     "start_time": "2024-12-08T03:35:25.353858",
     "status": "completed"
    },
    "tags": []
   },
   "outputs": [
    {
     "data": {
      "text/html": [
       "<div>\n",
       "<style scoped>\n",
       "    .dataframe tbody tr th:only-of-type {\n",
       "        vertical-align: middle;\n",
       "    }\n",
       "\n",
       "    .dataframe tbody tr th {\n",
       "        vertical-align: top;\n",
       "    }\n",
       "\n",
       "    .dataframe thead th {\n",
       "        text-align: right;\n",
       "    }\n",
       "</style>\n",
       "<table border=\"1\" class=\"dataframe\">\n",
       "  <thead>\n",
       "    <tr style=\"text-align: right;\">\n",
       "      <th></th>\n",
       "      <th>0</th>\n",
       "      <th>1</th>\n",
       "      <th>2</th>\n",
       "      <th>log2FoldChange</th>\n",
       "    </tr>\n",
       "  </thead>\n",
       "  <tbody>\n",
       "    <tr>\n",
       "      <th>chr13:23571010-23571511</th>\n",
       "      <td>chr13</td>\n",
       "      <td>23571010</td>\n",
       "      <td>23571511</td>\n",
       "      <td>-1.714639</td>\n",
       "    </tr>\n",
       "    <tr>\n",
       "      <th>chr13:23562214-23562715</th>\n",
       "      <td>chr13</td>\n",
       "      <td>23562214</td>\n",
       "      <td>23562715</td>\n",
       "      <td>-1.787490</td>\n",
       "    </tr>\n",
       "    <tr>\n",
       "      <th>chr13:23574072-23574573</th>\n",
       "      <td>chr13</td>\n",
       "      <td>23574072</td>\n",
       "      <td>23574573</td>\n",
       "      <td>-1.909879</td>\n",
       "    </tr>\n",
       "    <tr>\n",
       "      <th>chr7:44590526-44591027</th>\n",
       "      <td>chr7</td>\n",
       "      <td>44590526</td>\n",
       "      <td>44591027</td>\n",
       "      <td>-1.240907</td>\n",
       "    </tr>\n",
       "    <tr>\n",
       "      <th>chr13:23555969-23556470</th>\n",
       "      <td>chr13</td>\n",
       "      <td>23555969</td>\n",
       "      <td>23556470</td>\n",
       "      <td>-1.999283</td>\n",
       "    </tr>\n",
       "  </tbody>\n",
       "</table>\n",
       "</div>"
      ],
      "text/plain": [
       "                             0         1         2  log2FoldChange\n",
       "chr13:23571010-23571511  chr13  23571010  23571511       -1.714639\n",
       "chr13:23562214-23562715  chr13  23562214  23562715       -1.787490\n",
       "chr13:23574072-23574573  chr13  23574072  23574573       -1.909879\n",
       "chr7:44590526-44591027    chr7  44590526  44591027       -1.240907\n",
       "chr13:23555969-23556470  chr13  23555969  23556470       -1.999283"
      ]
     },
     "execution_count": 9,
     "metadata": {},
     "output_type": "execute_result"
    }
   ],
   "source": [
    "# write the same for down_peaks\n",
    "down_atac_df = pd.read_csv(f'{dar_dir}/down_peaks_{dar_ct}.bed', sep='\\t', header = None)\n",
    "down_atac_df.index = down_atac_df[0] + ':' + down_atac_df[1].astype(str) + '-' + down_atac_df[2].astype(str)\n",
    "down_atac_df['log2FoldChange'] = atac_df['log2(fold_change)']\n",
    "down_atac_df.head()"
   ]
  },
  {
   "cell_type": "code",
   "execution_count": 10,
   "id": "a18bb401",
   "metadata": {
    "execution": {
     "iopub.execute_input": "2024-12-08T03:35:25.456361Z",
     "iopub.status.busy": "2024-12-08T03:35:25.456187Z",
     "iopub.status.idle": "2024-12-08T03:35:25.473384Z",
     "shell.execute_reply": "2024-12-08T03:35:25.472931Z"
    },
    "papermill": {
     "duration": 0.022683,
     "end_time": "2024-12-08T03:35:25.474615",
     "exception": false,
     "start_time": "2024-12-08T03:35:25.451932",
     "status": "completed"
    },
    "tags": []
   },
   "outputs": [],
   "source": [
    "# combina the down and up\n",
    "atac_df = pd.concat([up_atac_df, down_atac_df])\n",
    "# save atac_df to bed\n",
    "atac_df.to_csv(f'{ct}.aDAR.bed', sep='\\t', header=False, index=False)"
   ]
  },
  {
   "cell_type": "code",
   "execution_count": 11,
   "id": "849f0fa1",
   "metadata": {
    "execution": {
     "iopub.execute_input": "2024-12-08T03:35:25.481906Z",
     "iopub.status.busy": "2024-12-08T03:35:25.481496Z",
     "iopub.status.idle": "2024-12-08T03:35:25.535874Z",
     "shell.execute_reply": "2024-12-08T03:35:25.535307Z"
    },
    "papermill": {
     "duration": 0.059186,
     "end_time": "2024-12-08T03:35:25.536979",
     "exception": false,
     "start_time": "2024-12-08T03:35:25.477793",
     "status": "completed"
    },
    "tags": []
   },
   "outputs": [
    {
     "data": {
      "text/plain": [
       "CompletedProcess(args='bedtools intersect -a Astro-TE_NN.aDAR.bed -b /home/qzeng_salk_edu/project/241018_pre_ml/mm10_gene_2kb.bed -wa -wb > Astro-TE_NN.aDAR_gene.bed', returncode=0)"
      ]
     },
     "execution_count": 11,
     "metadata": {},
     "output_type": "execute_result"
    }
   ],
   "source": [
    "# use bedtools intersect to find the genes that overlap with the DMRs\n",
    "command = f\"bedtools intersect -a {ct}.aDAR.bed -b {home_dir}/mm10_gene_2kb.bed -wa -wb > {ct}.aDAR_gene.bed\"\n",
    "subprocess.run(command, shell=True)"
   ]
  },
  {
   "cell_type": "code",
   "execution_count": 12,
   "id": "c0cf399a",
   "metadata": {
    "execution": {
     "iopub.execute_input": "2024-12-08T03:35:25.544132Z",
     "iopub.status.busy": "2024-12-08T03:35:25.543967Z",
     "iopub.status.idle": "2024-12-08T03:35:25.548431Z",
     "shell.execute_reply": "2024-12-08T03:35:25.547980Z"
    },
    "papermill": {
     "duration": 0.009293,
     "end_time": "2024-12-08T03:35:25.549518",
     "exception": false,
     "start_time": "2024-12-08T03:35:25.540225",
     "status": "completed"
    },
    "tags": []
   },
   "outputs": [
    {
     "data": {
      "text/plain": [
       "CompletedProcess(args='rm Astro-TE_NN.aDAR.bed', returncode=0)"
      ]
     },
     "execution_count": 12,
     "metadata": {},
     "output_type": "execute_result"
    }
   ],
   "source": [
    "subprocess.run(f\"rm {ct}.aDAR.bed\", shell=True)"
   ]
  },
  {
   "cell_type": "code",
   "execution_count": 13,
   "id": "45966956",
   "metadata": {
    "execution": {
     "iopub.execute_input": "2024-12-08T03:35:25.556657Z",
     "iopub.status.busy": "2024-12-08T03:35:25.556492Z",
     "iopub.status.idle": "2024-12-08T03:35:25.572239Z",
     "shell.execute_reply": "2024-12-08T03:35:25.571751Z"
    },
    "papermill": {
     "duration": 0.020699,
     "end_time": "2024-12-08T03:35:25.573418",
     "exception": false,
     "start_time": "2024-12-08T03:35:25.552719",
     "status": "completed"
    },
    "tags": []
   },
   "outputs": [
    {
     "data": {
      "text/html": [
       "<div>\n",
       "<style scoped>\n",
       "    .dataframe tbody tr th:only-of-type {\n",
       "        vertical-align: middle;\n",
       "    }\n",
       "\n",
       "    .dataframe tbody tr th {\n",
       "        vertical-align: top;\n",
       "    }\n",
       "\n",
       "    .dataframe thead th {\n",
       "        text-align: right;\n",
       "    }\n",
       "</style>\n",
       "<table border=\"1\" class=\"dataframe\">\n",
       "  <thead>\n",
       "    <tr style=\"text-align: right;\">\n",
       "      <th></th>\n",
       "      <th>chr</th>\n",
       "      <th>start</th>\n",
       "      <th>end</th>\n",
       "      <th>log2(old/young)</th>\n",
       "      <th>gene_chr</th>\n",
       "      <th>gene_start</th>\n",
       "      <th>gene_end</th>\n",
       "      <th>gene_id</th>\n",
       "      <th>gene_strand</th>\n",
       "      <th>gene_name</th>\n",
       "      <th>gene_type</th>\n",
       "    </tr>\n",
       "  </thead>\n",
       "  <tbody>\n",
       "    <tr>\n",
       "      <th>0</th>\n",
       "      <td>chr5</td>\n",
       "      <td>109558426</td>\n",
       "      <td>109558927</td>\n",
       "      <td>1.701923</td>\n",
       "      <td>chr5</td>\n",
       "      <td>109552711</td>\n",
       "      <td>109560993</td>\n",
       "      <td>ENSMUSG00000033467.8</td>\n",
       "      <td>-</td>\n",
       "      <td>Crlf2</td>\n",
       "      <td>protein_coding</td>\n",
       "    </tr>\n",
       "    <tr>\n",
       "      <th>1</th>\n",
       "      <td>chr5</td>\n",
       "      <td>109557248</td>\n",
       "      <td>109557749</td>\n",
       "      <td>1.024222</td>\n",
       "      <td>chr5</td>\n",
       "      <td>109552711</td>\n",
       "      <td>109560993</td>\n",
       "      <td>ENSMUSG00000033467.8</td>\n",
       "      <td>-</td>\n",
       "      <td>Crlf2</td>\n",
       "      <td>protein_coding</td>\n",
       "    </tr>\n",
       "    <tr>\n",
       "      <th>2</th>\n",
       "      <td>chr5</td>\n",
       "      <td>109556731</td>\n",
       "      <td>109557232</td>\n",
       "      <td>1.251654</td>\n",
       "      <td>chr5</td>\n",
       "      <td>109552711</td>\n",
       "      <td>109560993</td>\n",
       "      <td>ENSMUSG00000033467.8</td>\n",
       "      <td>-</td>\n",
       "      <td>Crlf2</td>\n",
       "      <td>protein_coding</td>\n",
       "    </tr>\n",
       "    <tr>\n",
       "      <th>3</th>\n",
       "      <td>chr5</td>\n",
       "      <td>109557903</td>\n",
       "      <td>109558404</td>\n",
       "      <td>1.598321</td>\n",
       "      <td>chr5</td>\n",
       "      <td>109552711</td>\n",
       "      <td>109560993</td>\n",
       "      <td>ENSMUSG00000033467.8</td>\n",
       "      <td>-</td>\n",
       "      <td>Crlf2</td>\n",
       "      <td>protein_coding</td>\n",
       "    </tr>\n",
       "    <tr>\n",
       "      <th>4</th>\n",
       "      <td>chr5</td>\n",
       "      <td>109167108</td>\n",
       "      <td>109167609</td>\n",
       "      <td>5.082705</td>\n",
       "      <td>chr5</td>\n",
       "      <td>109154068</td>\n",
       "      <td>109194107</td>\n",
       "      <td>ENSMUSG00000091635.1</td>\n",
       "      <td>-</td>\n",
       "      <td>Vmn2r13</td>\n",
       "      <td>protein_coding</td>\n",
       "    </tr>\n",
       "  </tbody>\n",
       "</table>\n",
       "</div>"
      ],
      "text/plain": [
       "    chr      start        end  log2(old/young) gene_chr  gene_start  \\\n",
       "0  chr5  109558426  109558927         1.701923     chr5   109552711   \n",
       "1  chr5  109557248  109557749         1.024222     chr5   109552711   \n",
       "2  chr5  109556731  109557232         1.251654     chr5   109552711   \n",
       "3  chr5  109557903  109558404         1.598321     chr5   109552711   \n",
       "4  chr5  109167108  109167609         5.082705     chr5   109154068   \n",
       "\n",
       "    gene_end               gene_id gene_strand gene_name       gene_type  \n",
       "0  109560993  ENSMUSG00000033467.8           -     Crlf2  protein_coding  \n",
       "1  109560993  ENSMUSG00000033467.8           -     Crlf2  protein_coding  \n",
       "2  109560993  ENSMUSG00000033467.8           -     Crlf2  protein_coding  \n",
       "3  109560993  ENSMUSG00000033467.8           -     Crlf2  protein_coding  \n",
       "4  109194107  ENSMUSG00000091635.1           -   Vmn2r13  protein_coding  "
      ]
     },
     "execution_count": 13,
     "metadata": {},
     "output_type": "execute_result"
    }
   ],
   "source": [
    "dar_gene_df = pd.read_csv(f'{ct}.aDAR_gene.bed', sep='\\t', header=None)\n",
    "dar_gene_df.columns = ['chr','start','end','log2(old/young)','gene_chr','gene_start','gene_end','gene_id','gene_strand','gene_name','gene_type']\n",
    "dar_gene_df.head()"
   ]
  },
  {
   "cell_type": "code",
   "execution_count": 14,
   "id": "3a04590e",
   "metadata": {
    "execution": {
     "iopub.execute_input": "2024-12-08T03:35:25.581126Z",
     "iopub.status.busy": "2024-12-08T03:35:25.580963Z",
     "iopub.status.idle": "2024-12-08T03:35:26.648901Z",
     "shell.execute_reply": "2024-12-08T03:35:26.648116Z"
    },
    "papermill": {
     "duration": 1.073287,
     "end_time": "2024-12-08T03:35:26.650182",
     "exception": false,
     "start_time": "2024-12-08T03:35:25.576895",
     "status": "completed"
    },
    "tags": []
   },
   "outputs": [
    {
     "data": {
      "text/html": [
       "<div>\n",
       "<style scoped>\n",
       "    .dataframe tbody tr th:only-of-type {\n",
       "        vertical-align: middle;\n",
       "    }\n",
       "\n",
       "    .dataframe tbody tr th {\n",
       "        vertical-align: top;\n",
       "    }\n",
       "\n",
       "    .dataframe thead th {\n",
       "        text-align: right;\n",
       "    }\n",
       "</style>\n",
       "<table border=\"1\" class=\"dataframe\">\n",
       "  <thead>\n",
       "    <tr style=\"text-align: right;\">\n",
       "      <th></th>\n",
       "      <th>Astro-TE NN:2mo</th>\n",
       "      <th>Astro-TE NN:9mo</th>\n",
       "      <th>Astro-TE NN:18mo</th>\n",
       "      <th>chr</th>\n",
       "      <th>start</th>\n",
       "      <th>end</th>\n",
       "    </tr>\n",
       "  </thead>\n",
       "  <tbody>\n",
       "    <tr>\n",
       "      <th>chr1:3399698-3400199</th>\n",
       "      <td>1.935104</td>\n",
       "      <td>1.425978</td>\n",
       "      <td>1.328092</td>\n",
       "      <td>chr1</td>\n",
       "      <td>3399698</td>\n",
       "      <td>3400199</td>\n",
       "    </tr>\n",
       "    <tr>\n",
       "      <th>chr1:3400380-3400881</th>\n",
       "      <td>0.408325</td>\n",
       "      <td>0.206821</td>\n",
       "      <td>0.426887</td>\n",
       "      <td>chr1</td>\n",
       "      <td>3400380</td>\n",
       "      <td>3400881</td>\n",
       "    </tr>\n",
       "    <tr>\n",
       "      <th>chr1:3671537-3672038</th>\n",
       "      <td>6.811330</td>\n",
       "      <td>7.347597</td>\n",
       "      <td>8.632596</td>\n",
       "      <td>chr1</td>\n",
       "      <td>3671537</td>\n",
       "      <td>3672038</td>\n",
       "    </tr>\n",
       "    <tr>\n",
       "      <th>chr1:3670856-3671357</th>\n",
       "      <td>2.272416</td>\n",
       "      <td>2.481855</td>\n",
       "      <td>2.739189</td>\n",
       "      <td>chr1</td>\n",
       "      <td>3670856</td>\n",
       "      <td>3671357</td>\n",
       "    </tr>\n",
       "    <tr>\n",
       "      <th>chr1:3672169-3672670</th>\n",
       "      <td>0.822567</td>\n",
       "      <td>1.055877</td>\n",
       "      <td>1.102790</td>\n",
       "      <td>chr1</td>\n",
       "      <td>3672169</td>\n",
       "      <td>3672670</td>\n",
       "    </tr>\n",
       "    <tr>\n",
       "      <th>...</th>\n",
       "      <td>...</td>\n",
       "      <td>...</td>\n",
       "      <td>...</td>\n",
       "      <td>...</td>\n",
       "      <td>...</td>\n",
       "      <td>...</td>\n",
       "    </tr>\n",
       "    <tr>\n",
       "      <th>chrY:90804895-90805396</th>\n",
       "      <td>2.799096</td>\n",
       "      <td>5.029022</td>\n",
       "      <td>3.960559</td>\n",
       "      <td>chrY</td>\n",
       "      <td>90804895</td>\n",
       "      <td>90805396</td>\n",
       "    </tr>\n",
       "    <tr>\n",
       "      <th>chrY:90807492-90807993</th>\n",
       "      <td>7.610226</td>\n",
       "      <td>9.840337</td>\n",
       "      <td>7.861829</td>\n",
       "      <td>chrY</td>\n",
       "      <td>90807492</td>\n",
       "      <td>90807993</td>\n",
       "    </tr>\n",
       "    <tr>\n",
       "      <th>chrY:90806986-90807487</th>\n",
       "      <td>1.751654</td>\n",
       "      <td>2.547167</td>\n",
       "      <td>1.529677</td>\n",
       "      <td>chrY</td>\n",
       "      <td>90806986</td>\n",
       "      <td>90807487</td>\n",
       "    </tr>\n",
       "    <tr>\n",
       "      <th>chrY:90808570-90809071</th>\n",
       "      <td>6.260979</td>\n",
       "      <td>9.862108</td>\n",
       "      <td>8.846040</td>\n",
       "      <td>chrY</td>\n",
       "      <td>90808570</td>\n",
       "      <td>90809071</td>\n",
       "    </tr>\n",
       "    <tr>\n",
       "      <th>chrY:90810721-90811222</th>\n",
       "      <td>2.485455</td>\n",
       "      <td>3.548617</td>\n",
       "      <td>2.917059</td>\n",
       "      <td>chrY</td>\n",
       "      <td>90810721</td>\n",
       "      <td>90811222</td>\n",
       "    </tr>\n",
       "  </tbody>\n",
       "</table>\n",
       "<p>126036 rows × 6 columns</p>\n",
       "</div>"
      ],
      "text/plain": [
       "                        Astro-TE NN:2mo  Astro-TE NN:9mo  Astro-TE NN:18mo  \\\n",
       "chr1:3399698-3400199           1.935104         1.425978          1.328092   \n",
       "chr1:3400380-3400881           0.408325         0.206821          0.426887   \n",
       "chr1:3671537-3672038           6.811330         7.347597          8.632596   \n",
       "chr1:3670856-3671357           2.272416         2.481855          2.739189   \n",
       "chr1:3672169-3672670           0.822567         1.055877          1.102790   \n",
       "...                                 ...              ...               ...   \n",
       "chrY:90804895-90805396         2.799096         5.029022          3.960559   \n",
       "chrY:90807492-90807993         7.610226         9.840337          7.861829   \n",
       "chrY:90806986-90807487         1.751654         2.547167          1.529677   \n",
       "chrY:90808570-90809071         6.260979         9.862108          8.846040   \n",
       "chrY:90810721-90811222         2.485455         3.548617          2.917059   \n",
       "\n",
       "                         chr     start       end  \n",
       "chr1:3399698-3400199    chr1   3399698   3400199  \n",
       "chr1:3400380-3400881    chr1   3400380   3400881  \n",
       "chr1:3671537-3672038    chr1   3671537   3672038  \n",
       "chr1:3670856-3671357    chr1   3670856   3671357  \n",
       "chr1:3672169-3672670    chr1   3672169   3672670  \n",
       "...                      ...       ...       ...  \n",
       "chrY:90804895-90805396  chrY  90804895  90805396  \n",
       "chrY:90807492-90807993  chrY  90807492  90807993  \n",
       "chrY:90806986-90807487  chrY  90806986  90807487  \n",
       "chrY:90808570-90809071  chrY  90808570  90809071  \n",
       "chrY:90810721-90811222  chrY  90810721  90811222  \n",
       "\n",
       "[126036 rows x 6 columns]"
      ]
     },
     "execution_count": 14,
     "metadata": {},
     "output_type": "execute_result"
    }
   ],
   "source": [
    "atac_rmp = pd.read_csv(f\"{abc_dir}/{ct}_RPM.txt\", sep = '\\t')\n",
    "# add three coolumns chr, start and end based on ethe index \n",
    "atac_rmp['chr'] = atac_rmp.index.str.split(':').str[0]\n",
    "atac_rmp['start'] = atac_rmp.index.str.split(':').str[1].str.split('-').str[0].astype(int)\n",
    "atac_rmp['end'] = atac_rmp.index.str.split(':').str[1].str.split('-').str[1].astype(int)\n",
    "atac_rmp"
   ]
  },
  {
   "cell_type": "code",
   "execution_count": 15,
   "id": "8ad13d00",
   "metadata": {
    "execution": {
     "iopub.execute_input": "2024-12-08T03:35:26.658937Z",
     "iopub.status.busy": "2024-12-08T03:35:26.658754Z",
     "iopub.status.idle": "2024-12-08T03:35:26.665712Z",
     "shell.execute_reply": "2024-12-08T03:35:26.665154Z"
    },
    "papermill": {
     "duration": 0.012692,
     "end_time": "2024-12-08T03:35:26.666940",
     "exception": false,
     "start_time": "2024-12-08T03:35:26.654248",
     "status": "completed"
    },
    "tags": []
   },
   "outputs": [],
   "source": [
    "dar_gene_df.index = dar_gene_df['chr'] + ':' + dar_gene_df['start'].astype(str) + '-' + dar_gene_df['end'].astype(str)"
   ]
  },
  {
   "cell_type": "code",
   "execution_count": 16,
   "id": "8c7ff5da",
   "metadata": {
    "execution": {
     "iopub.execute_input": "2024-12-08T03:35:26.675060Z",
     "iopub.status.busy": "2024-12-08T03:35:26.674888Z",
     "iopub.status.idle": "2024-12-08T03:35:26.694540Z",
     "shell.execute_reply": "2024-12-08T03:35:26.693961Z"
    },
    "papermill": {
     "duration": 0.02504,
     "end_time": "2024-12-08T03:35:26.695655",
     "exception": false,
     "start_time": "2024-12-08T03:35:26.670615",
     "status": "completed"
    },
    "tags": []
   },
   "outputs": [
    {
     "data": {
      "text/plain": [
       "4229"
      ]
     },
     "execution_count": 16,
     "metadata": {},
     "output_type": "execute_result"
    }
   ],
   "source": [
    "shared_index = dar_gene_df.index.intersection(atac_rmp.index)\n",
    "len(shared_index)"
   ]
  },
  {
   "cell_type": "code",
   "execution_count": 17,
   "id": "a8c16cb7",
   "metadata": {
    "execution": {
     "iopub.execute_input": "2024-12-08T03:35:26.703851Z",
     "iopub.status.busy": "2024-12-08T03:35:26.703674Z",
     "iopub.status.idle": "2024-12-08T03:35:26.845523Z",
     "shell.execute_reply": "2024-12-08T03:35:26.844803Z"
    },
    "papermill": {
     "duration": 0.147761,
     "end_time": "2024-12-08T03:35:26.847103",
     "exception": false,
     "start_time": "2024-12-08T03:35:26.699342",
     "status": "completed"
    },
    "tags": []
   },
   "outputs": [],
   "source": [
    "dar_gene_df['2mo'] = atac_rmp.iloc[:,0].to_dict()\n",
    "dar_gene_df['9mo'] = atac_rmp.iloc[:,1].to_dict()\n",
    "dar_gene_df['18mo'] = atac_rmp.iloc[:,2].to_dict()"
   ]
  },
  {
   "cell_type": "code",
   "execution_count": 18,
   "id": "fa8fb6cd",
   "metadata": {
    "execution": {
     "iopub.execute_input": "2024-12-08T03:35:26.856230Z",
     "iopub.status.busy": "2024-12-08T03:35:26.855991Z",
     "iopub.status.idle": "2024-12-08T03:35:26.866093Z",
     "shell.execute_reply": "2024-12-08T03:35:26.865474Z"
    },
    "papermill": {
     "duration": 0.016201,
     "end_time": "2024-12-08T03:35:26.867463",
     "exception": false,
     "start_time": "2024-12-08T03:35:26.851262",
     "status": "completed"
    },
    "tags": []
   },
   "outputs": [],
   "source": [
    "non_na_dar_gene_df = dar_gene_df[~dar_gene_df.isna().any(axis=1)]\n",
    "with_na_dar_gene_df =  dar_gene_df[dar_gene_df.isna().any(axis=1)]"
   ]
  },
  {
   "cell_type": "code",
   "execution_count": 19,
   "id": "6fbb69a0",
   "metadata": {
    "execution": {
     "iopub.execute_input": "2024-12-08T03:35:26.875976Z",
     "iopub.status.busy": "2024-12-08T03:35:26.875767Z",
     "iopub.status.idle": "2024-12-08T03:35:59.700628Z",
     "shell.execute_reply": "2024-12-08T03:35:59.699990Z"
    },
    "papermill": {
     "duration": 32.830595,
     "end_time": "2024-12-08T03:35:59.701876",
     "exception": false,
     "start_time": "2024-12-08T03:35:26.871281",
     "status": "completed"
    },
    "tags": []
   },
   "outputs": [
    {
     "name": "stderr",
     "output_type": "stream",
     "text": [
      "\r",
      "  0%|          | 0/337 [00:00<?, ?it/s]"
     ]
    },
    {
     "name": "stderr",
     "output_type": "stream",
     "text": [
      "\r",
      "  0%|          | 1/337 [00:00<00:38,  8.62it/s]"
     ]
    },
    {
     "name": "stderr",
     "output_type": "stream",
     "text": [
      "\r",
      "  1%|          | 2/337 [00:00<00:36,  9.12it/s]"
     ]
    },
    {
     "name": "stderr",
     "output_type": "stream",
     "text": [
      "\r",
      "  1%|          | 3/337 [00:00<00:39,  8.56it/s]"
     ]
    },
    {
     "name": "stderr",
     "output_type": "stream",
     "text": [
      "\r",
      "  1%|          | 4/337 [00:00<00:39,  8.34it/s]"
     ]
    },
    {
     "name": "stderr",
     "output_type": "stream",
     "text": [
      "\r",
      "  2%|▏         | 6/337 [00:00<00:37,  8.72it/s]"
     ]
    },
    {
     "name": "stderr",
     "output_type": "stream",
     "text": [
      "\r",
      "  2%|▏         | 8/337 [00:00<00:32, 10.20it/s]"
     ]
    },
    {
     "name": "stderr",
     "output_type": "stream",
     "text": [
      "\r",
      "  3%|▎         | 10/337 [00:01<00:31, 10.52it/s]"
     ]
    },
    {
     "name": "stderr",
     "output_type": "stream",
     "text": [
      "\r",
      "  4%|▎         | 12/337 [00:01<00:33,  9.70it/s]"
     ]
    },
    {
     "name": "stderr",
     "output_type": "stream",
     "text": [
      "\r",
      "  4%|▍         | 13/337 [00:01<00:34,  9.31it/s]"
     ]
    },
    {
     "name": "stderr",
     "output_type": "stream",
     "text": [
      "\r",
      "  4%|▍         | 14/337 [00:01<00:46,  6.92it/s]"
     ]
    },
    {
     "name": "stderr",
     "output_type": "stream",
     "text": [
      "\r",
      "  5%|▍         | 16/337 [00:01<00:34,  9.19it/s]"
     ]
    },
    {
     "name": "stderr",
     "output_type": "stream",
     "text": [
      "\r",
      "  5%|▌         | 18/337 [00:01<00:30, 10.51it/s]"
     ]
    },
    {
     "name": "stderr",
     "output_type": "stream",
     "text": [
      "\r",
      "  6%|▌         | 20/337 [00:02<00:31,  9.93it/s]"
     ]
    },
    {
     "name": "stderr",
     "output_type": "stream",
     "text": [
      "\r",
      "  7%|▋         | 22/337 [00:02<00:29, 10.72it/s]"
     ]
    },
    {
     "name": "stderr",
     "output_type": "stream",
     "text": [
      "\r",
      "  7%|▋         | 24/337 [00:02<00:25, 12.11it/s]"
     ]
    },
    {
     "name": "stderr",
     "output_type": "stream",
     "text": [
      "\r",
      "  8%|▊         | 27/337 [00:02<00:23, 13.16it/s]"
     ]
    },
    {
     "name": "stderr",
     "output_type": "stream",
     "text": [
      "\r",
      "  9%|▊         | 29/337 [00:02<00:24, 12.74it/s]"
     ]
    },
    {
     "name": "stderr",
     "output_type": "stream",
     "text": [
      "\r",
      "  9%|▉         | 31/337 [00:02<00:21, 13.98it/s]"
     ]
    },
    {
     "name": "stderr",
     "output_type": "stream",
     "text": [
      "\r",
      " 10%|█         | 34/337 [00:03<00:18, 16.51it/s]"
     ]
    },
    {
     "name": "stderr",
     "output_type": "stream",
     "text": [
      "\r",
      " 11%|█         | 37/337 [00:03<00:16, 18.14it/s]"
     ]
    },
    {
     "name": "stderr",
     "output_type": "stream",
     "text": [
      "\r",
      " 12%|█▏        | 39/337 [00:03<00:16, 18.17it/s]"
     ]
    },
    {
     "name": "stderr",
     "output_type": "stream",
     "text": [
      "\r",
      " 12%|█▏        | 41/337 [00:03<00:20, 14.27it/s]"
     ]
    },
    {
     "name": "stderr",
     "output_type": "stream",
     "text": [
      "\r",
      " 13%|█▎        | 44/337 [00:03<00:17, 17.06it/s]"
     ]
    },
    {
     "name": "stderr",
     "output_type": "stream",
     "text": [
      "\r",
      " 14%|█▍        | 48/337 [00:03<00:14, 19.51it/s]"
     ]
    },
    {
     "name": "stderr",
     "output_type": "stream",
     "text": [
      "\r",
      " 15%|█▌        | 51/337 [00:03<00:16, 17.27it/s]"
     ]
    },
    {
     "name": "stderr",
     "output_type": "stream",
     "text": [
      "\r",
      " 16%|█▌        | 53/337 [00:04<00:19, 14.80it/s]"
     ]
    },
    {
     "name": "stderr",
     "output_type": "stream",
     "text": [
      "\r",
      " 17%|█▋        | 57/337 [00:04<00:14, 19.07it/s]"
     ]
    },
    {
     "name": "stderr",
     "output_type": "stream",
     "text": [
      "\r",
      " 18%|█▊        | 60/337 [00:04<00:13, 20.73it/s]"
     ]
    },
    {
     "name": "stderr",
     "output_type": "stream",
     "text": [
      "\r",
      " 19%|█▊        | 63/337 [00:04<00:12, 21.16it/s]"
     ]
    },
    {
     "name": "stderr",
     "output_type": "stream",
     "text": [
      "\r",
      " 20%|█▉        | 66/337 [00:04<00:13, 19.66it/s]"
     ]
    },
    {
     "name": "stderr",
     "output_type": "stream",
     "text": [
      "\r",
      " 20%|██        | 69/337 [00:04<00:13, 20.11it/s]"
     ]
    },
    {
     "name": "stderr",
     "output_type": "stream",
     "text": [
      "\r",
      " 21%|██▏       | 72/337 [00:04<00:12, 21.95it/s]"
     ]
    },
    {
     "name": "stderr",
     "output_type": "stream",
     "text": [
      "\r",
      " 23%|██▎       | 79/337 [00:05<00:07, 33.39it/s]"
     ]
    },
    {
     "name": "stderr",
     "output_type": "stream",
     "text": [
      "\r",
      " 25%|██▍       | 83/337 [00:05<00:09, 26.97it/s]"
     ]
    },
    {
     "name": "stderr",
     "output_type": "stream",
     "text": [
      "\r",
      " 26%|██▌       | 87/337 [00:05<00:08, 29.23it/s]"
     ]
    },
    {
     "name": "stderr",
     "output_type": "stream",
     "text": [
      "\r",
      " 27%|██▋       | 91/337 [00:05<00:09, 26.83it/s]"
     ]
    },
    {
     "name": "stderr",
     "output_type": "stream",
     "text": [
      "\r",
      " 29%|██▉       | 98/337 [00:05<00:07, 30.81it/s]"
     ]
    },
    {
     "name": "stderr",
     "output_type": "stream",
     "text": [
      "\r",
      " 31%|███▏      | 106/337 [00:05<00:05, 40.10it/s]"
     ]
    },
    {
     "name": "stderr",
     "output_type": "stream",
     "text": [
      "\r",
      " 33%|███▎      | 111/337 [00:06<00:06, 37.30it/s]"
     ]
    },
    {
     "name": "stderr",
     "output_type": "stream",
     "text": [
      "\r",
      " 41%|████      | 137/337 [00:06<00:02, 82.34it/s]"
     ]
    },
    {
     "name": "stderr",
     "output_type": "stream",
     "text": [
      "\r",
      " 44%|████▎     | 147/337 [00:06<00:03, 55.85it/s]"
     ]
    },
    {
     "name": "stderr",
     "output_type": "stream",
     "text": [
      "\r",
      " 46%|████▌     | 155/337 [00:06<00:03, 46.14it/s]"
     ]
    },
    {
     "name": "stderr",
     "output_type": "stream",
     "text": [
      "\r",
      " 48%|████▊     | 161/337 [00:07<00:05, 34.44it/s]"
     ]
    },
    {
     "name": "stderr",
     "output_type": "stream",
     "text": [
      "\r",
      " 49%|████▉     | 166/337 [00:07<00:04, 34.58it/s]"
     ]
    },
    {
     "name": "stderr",
     "output_type": "stream",
     "text": [
      "\r",
      " 51%|█████     | 171/337 [00:07<00:04, 34.37it/s]"
     ]
    },
    {
     "name": "stderr",
     "output_type": "stream",
     "text": [
      "\r",
      " 52%|█████▏    | 176/337 [00:07<00:04, 36.03it/s]"
     ]
    },
    {
     "name": "stderr",
     "output_type": "stream",
     "text": [
      "\r",
      " 54%|█████▎    | 181/337 [00:07<00:04, 34.70it/s]"
     ]
    },
    {
     "name": "stderr",
     "output_type": "stream",
     "text": [
      "\r",
      " 55%|█████▌    | 186/337 [00:07<00:04, 36.14it/s]"
     ]
    },
    {
     "name": "stderr",
     "output_type": "stream",
     "text": [
      "\r",
      " 56%|█████▋    | 190/337 [00:07<00:04, 31.60it/s]"
     ]
    },
    {
     "name": "stderr",
     "output_type": "stream",
     "text": [
      "\r",
      " 58%|█████▊    | 194/337 [00:08<00:04, 30.62it/s]"
     ]
    },
    {
     "name": "stderr",
     "output_type": "stream",
     "text": [
      "\r",
      " 60%|█████▉    | 202/337 [00:08<00:03, 40.91it/s]"
     ]
    },
    {
     "name": "stderr",
     "output_type": "stream",
     "text": [
      "\r",
      " 61%|██████▏   | 207/337 [00:08<00:03, 39.38it/s]"
     ]
    },
    {
     "name": "stderr",
     "output_type": "stream",
     "text": [
      "\r",
      " 63%|██████▎   | 212/337 [00:08<00:03, 32.55it/s]"
     ]
    },
    {
     "name": "stderr",
     "output_type": "stream",
     "text": [
      "\r",
      " 65%|██████▍   | 218/337 [00:08<00:03, 35.51it/s]"
     ]
    },
    {
     "name": "stderr",
     "output_type": "stream",
     "text": [
      "\r",
      " 66%|██████▌   | 223/337 [00:08<00:03, 36.49it/s]"
     ]
    },
    {
     "name": "stderr",
     "output_type": "stream",
     "text": [
      "\r",
      " 67%|██████▋   | 227/337 [00:08<00:03, 34.68it/s]"
     ]
    },
    {
     "name": "stderr",
     "output_type": "stream",
     "text": [
      "\r",
      " 71%|███████   | 238/337 [00:09<00:01, 51.66it/s]"
     ]
    },
    {
     "name": "stderr",
     "output_type": "stream",
     "text": [
      "\r",
      " 72%|███████▏  | 244/337 [00:09<00:01, 51.64it/s]"
     ]
    },
    {
     "name": "stderr",
     "output_type": "stream",
     "text": [
      "\r",
      " 75%|███████▌  | 254/337 [00:09<00:01, 58.87it/s]"
     ]
    },
    {
     "name": "stderr",
     "output_type": "stream",
     "text": [
      "\r",
      " 77%|███████▋  | 261/337 [00:09<00:01, 46.52it/s]"
     ]
    },
    {
     "name": "stderr",
     "output_type": "stream",
     "text": [
      "\r",
      " 79%|███████▉  | 267/337 [00:09<00:01, 47.78it/s]"
     ]
    },
    {
     "name": "stderr",
     "output_type": "stream",
     "text": [
      "\r",
      " 82%|████████▏ | 277/337 [00:09<00:01, 56.18it/s]"
     ]
    },
    {
     "name": "stderr",
     "output_type": "stream",
     "text": [
      "\r",
      " 84%|████████▍ | 284/337 [00:09<00:00, 58.42it/s]"
     ]
    },
    {
     "name": "stderr",
     "output_type": "stream",
     "text": [
      "\r",
      " 86%|████████▋ | 291/337 [00:10<00:00, 61.18it/s]"
     ]
    },
    {
     "name": "stderr",
     "output_type": "stream",
     "text": [
      "\r",
      " 88%|████████▊ | 298/337 [00:10<00:00, 61.52it/s]"
     ]
    },
    {
     "name": "stderr",
     "output_type": "stream",
     "text": [
      "\r",
      " 91%|█████████ | 305/337 [00:10<00:00, 55.31it/s]"
     ]
    },
    {
     "name": "stderr",
     "output_type": "stream",
     "text": [
      "\r",
      " 92%|█████████▏| 311/337 [00:10<00:00, 43.46it/s]"
     ]
    },
    {
     "name": "stderr",
     "output_type": "stream",
     "text": [
      "\r",
      " 94%|█████████▍| 316/337 [00:10<00:00, 37.61it/s]"
     ]
    },
    {
     "name": "stderr",
     "output_type": "stream",
     "text": [
      "\r",
      " 95%|█████████▌| 321/337 [00:10<00:00, 34.41it/s]"
     ]
    },
    {
     "name": "stderr",
     "output_type": "stream",
     "text": [
      "\r",
      " 99%|█████████▊| 332/337 [00:10<00:00, 49.51it/s]"
     ]
    },
    {
     "name": "stderr",
     "output_type": "stream",
     "text": [
      "\r",
      "100%|██████████| 337/337 [00:11<00:00, 30.36it/s]"
     ]
    },
    {
     "name": "stderr",
     "output_type": "stream",
     "text": [
      "\n"
     ]
    },
    {
     "name": "stderr",
     "output_type": "stream",
     "text": [
      "\r",
      "  0%|          | 0/337 [00:00<?, ?it/s]"
     ]
    },
    {
     "name": "stderr",
     "output_type": "stream",
     "text": [
      "\r",
      "  0%|          | 1/337 [00:00<00:42,  7.83it/s]"
     ]
    },
    {
     "name": "stderr",
     "output_type": "stream",
     "text": [
      "\r",
      "  1%|          | 2/337 [00:00<00:45,  7.29it/s]"
     ]
    },
    {
     "name": "stderr",
     "output_type": "stream",
     "text": [
      "\r",
      "  1%|          | 3/337 [00:00<00:48,  6.87it/s]"
     ]
    },
    {
     "name": "stderr",
     "output_type": "stream",
     "text": [
      "\r",
      "  1%|          | 4/337 [00:00<00:57,  5.76it/s]"
     ]
    },
    {
     "name": "stderr",
     "output_type": "stream",
     "text": [
      "\r",
      "  2%|▏         | 6/337 [00:00<00:43,  7.62it/s]"
     ]
    },
    {
     "name": "stderr",
     "output_type": "stream",
     "text": [
      "\r",
      "  2%|▏         | 8/337 [00:00<00:33,  9.85it/s]"
     ]
    },
    {
     "name": "stderr",
     "output_type": "stream",
     "text": [
      "\r",
      "  3%|▎         | 10/337 [00:01<00:33,  9.86it/s]"
     ]
    },
    {
     "name": "stderr",
     "output_type": "stream",
     "text": [
      "\r",
      "  4%|▎         | 12/337 [00:01<00:32,  9.86it/s]"
     ]
    },
    {
     "name": "stderr",
     "output_type": "stream",
     "text": [
      "\r",
      "  4%|▍         | 14/337 [00:01<00:37,  8.62it/s]"
     ]
    },
    {
     "name": "stderr",
     "output_type": "stream",
     "text": [
      "\r",
      "  5%|▍         | 16/337 [00:01<00:31, 10.12it/s]"
     ]
    },
    {
     "name": "stderr",
     "output_type": "stream",
     "text": [
      "\r",
      "  5%|▌         | 18/337 [00:02<00:32,  9.71it/s]"
     ]
    },
    {
     "name": "stderr",
     "output_type": "stream",
     "text": [
      "\r",
      "  6%|▌         | 20/337 [00:02<00:29, 10.74it/s]"
     ]
    },
    {
     "name": "stderr",
     "output_type": "stream",
     "text": [
      "\r",
      "  7%|▋         | 22/337 [00:02<00:27, 11.36it/s]"
     ]
    },
    {
     "name": "stderr",
     "output_type": "stream",
     "text": [
      "\r",
      "  7%|▋         | 24/337 [00:02<00:24, 12.86it/s]"
     ]
    },
    {
     "name": "stderr",
     "output_type": "stream",
     "text": [
      "\r",
      "  8%|▊         | 27/337 [00:02<00:20, 15.33it/s]"
     ]
    },
    {
     "name": "stderr",
     "output_type": "stream",
     "text": [
      "\r",
      "  9%|▊         | 29/337 [00:02<00:22, 13.83it/s]"
     ]
    },
    {
     "name": "stderr",
     "output_type": "stream",
     "text": [
      "\r",
      " 10%|█         | 34/337 [00:02<00:14, 20.69it/s]"
     ]
    },
    {
     "name": "stderr",
     "output_type": "stream",
     "text": [
      "\r",
      " 11%|█         | 37/337 [00:02<00:14, 20.28it/s]"
     ]
    },
    {
     "name": "stderr",
     "output_type": "stream",
     "text": [
      "\r",
      " 12%|█▏        | 41/337 [00:03<00:12, 23.54it/s]"
     ]
    },
    {
     "name": "stderr",
     "output_type": "stream",
     "text": [
      "\r",
      " 14%|█▎        | 46/337 [00:03<00:10, 27.14it/s]"
     ]
    },
    {
     "name": "stderr",
     "output_type": "stream",
     "text": [
      "\r",
      " 15%|█▍        | 49/337 [00:03<00:12, 22.78it/s]"
     ]
    },
    {
     "name": "stderr",
     "output_type": "stream",
     "text": [
      "\r",
      " 15%|█▌        | 52/337 [00:03<00:15, 18.48it/s]"
     ]
    },
    {
     "name": "stderr",
     "output_type": "stream",
     "text": [
      "\r",
      " 16%|█▋        | 55/337 [00:03<00:14, 19.34it/s]"
     ]
    },
    {
     "name": "stderr",
     "output_type": "stream",
     "text": [
      "\r",
      " 17%|█▋        | 58/337 [00:03<00:13, 21.32it/s]"
     ]
    },
    {
     "name": "stderr",
     "output_type": "stream",
     "text": [
      "\r",
      " 18%|█▊        | 62/337 [00:04<00:12, 21.48it/s]"
     ]
    },
    {
     "name": "stderr",
     "output_type": "stream",
     "text": [
      "\r",
      " 20%|█▉        | 66/337 [00:04<00:12, 21.38it/s]"
     ]
    },
    {
     "name": "stderr",
     "output_type": "stream",
     "text": [
      "\r",
      " 20%|██        | 69/337 [00:04<00:13, 20.19it/s]"
     ]
    },
    {
     "name": "stderr",
     "output_type": "stream",
     "text": [
      "\r",
      " 22%|██▏       | 73/337 [00:04<00:11, 23.01it/s]"
     ]
    },
    {
     "name": "stderr",
     "output_type": "stream",
     "text": [
      "\r",
      " 24%|██▎       | 80/337 [00:04<00:08, 31.28it/s]"
     ]
    },
    {
     "name": "stderr",
     "output_type": "stream",
     "text": [
      "\r",
      " 25%|██▍       | 84/337 [00:04<00:08, 29.33it/s]"
     ]
    },
    {
     "name": "stderr",
     "output_type": "stream",
     "text": [
      "\r",
      " 26%|██▋       | 89/337 [00:05<00:07, 31.55it/s]"
     ]
    },
    {
     "name": "stderr",
     "output_type": "stream",
     "text": [
      "\r",
      " 28%|██▊       | 93/337 [00:05<00:07, 31.46it/s]"
     ]
    },
    {
     "name": "stderr",
     "output_type": "stream",
     "text": [
      "\r",
      " 29%|██▉       | 98/337 [00:05<00:06, 34.98it/s]"
     ]
    },
    {
     "name": "stderr",
     "output_type": "stream",
     "text": [
      "\r",
      " 31%|███       | 103/337 [00:05<00:06, 35.10it/s]"
     ]
    },
    {
     "name": "stderr",
     "output_type": "stream",
     "text": [
      "\r",
      " 32%|███▏      | 109/337 [00:05<00:06, 35.53it/s]"
     ]
    },
    {
     "name": "stderr",
     "output_type": "stream",
     "text": [
      "\r",
      " 41%|████      | 137/337 [00:05<00:02, 85.28it/s]"
     ]
    },
    {
     "name": "stderr",
     "output_type": "stream",
     "text": [
      "\r",
      " 43%|████▎     | 146/337 [00:06<00:03, 55.45it/s]"
     ]
    },
    {
     "name": "stderr",
     "output_type": "stream",
     "text": [
      "\r",
      " 45%|████▌     | 153/337 [00:06<00:04, 40.57it/s]"
     ]
    },
    {
     "name": "stderr",
     "output_type": "stream",
     "text": [
      "\r",
      " 47%|████▋     | 159/337 [00:06<00:05, 32.25it/s]"
     ]
    },
    {
     "name": "stderr",
     "output_type": "stream",
     "text": [
      "\r",
      " 49%|████▊     | 164/337 [00:07<00:06, 25.51it/s]"
     ]
    },
    {
     "name": "stderr",
     "output_type": "stream",
     "text": [
      "\r",
      " 50%|████▉     | 168/337 [00:07<00:06, 25.66it/s]"
     ]
    },
    {
     "name": "stderr",
     "output_type": "stream",
     "text": [
      "\r",
      " 52%|█████▏    | 174/337 [00:07<00:05, 27.23it/s]"
     ]
    },
    {
     "name": "stderr",
     "output_type": "stream",
     "text": [
      "\r",
      " 53%|█████▎    | 178/337 [00:07<00:05, 28.66it/s]"
     ]
    },
    {
     "name": "stderr",
     "output_type": "stream",
     "text": [
      "\r",
      " 54%|█████▍    | 182/337 [00:07<00:05, 29.05it/s]"
     ]
    },
    {
     "name": "stderr",
     "output_type": "stream",
     "text": [
      "\r",
      " 56%|█████▌    | 188/337 [00:07<00:04, 33.17it/s]"
     ]
    },
    {
     "name": "stderr",
     "output_type": "stream",
     "text": [
      "\r",
      " 57%|█████▋    | 192/337 [00:08<00:05, 26.39it/s]"
     ]
    },
    {
     "name": "stderr",
     "output_type": "stream",
     "text": [
      "\r",
      " 60%|█████▉    | 202/337 [00:08<00:03, 39.59it/s]"
     ]
    },
    {
     "name": "stderr",
     "output_type": "stream",
     "text": [
      "\r",
      " 61%|██████▏   | 207/337 [00:08<00:03, 34.73it/s]"
     ]
    },
    {
     "name": "stderr",
     "output_type": "stream",
     "text": [
      "\r",
      " 63%|██████▎   | 213/337 [00:08<00:03, 37.66it/s]"
     ]
    },
    {
     "name": "stderr",
     "output_type": "stream",
     "text": [
      "\r",
      " 65%|██████▍   | 218/337 [00:08<00:03, 36.75it/s]"
     ]
    },
    {
     "name": "stderr",
     "output_type": "stream",
     "text": [
      "\r",
      " 67%|██████▋   | 225/337 [00:08<00:02, 42.03it/s]"
     ]
    },
    {
     "name": "stderr",
     "output_type": "stream",
     "text": [
      "\r",
      " 68%|██████▊   | 230/337 [00:08<00:02, 40.75it/s]"
     ]
    },
    {
     "name": "stderr",
     "output_type": "stream",
     "text": [
      "\r",
      " 72%|███████▏  | 242/337 [00:09<00:01, 52.50it/s]"
     ]
    },
    {
     "name": "stderr",
     "output_type": "stream",
     "text": [
      "\r",
      " 75%|███████▌  | 253/337 [00:09<00:01, 62.09it/s]"
     ]
    },
    {
     "name": "stderr",
     "output_type": "stream",
     "text": [
      "\r",
      " 77%|███████▋  | 260/337 [00:09<00:01, 49.12it/s]"
     ]
    },
    {
     "name": "stderr",
     "output_type": "stream",
     "text": [
      "\r",
      " 79%|███████▉  | 266/337 [00:09<00:01, 47.60it/s]"
     ]
    },
    {
     "name": "stderr",
     "output_type": "stream",
     "text": [
      "\r",
      " 81%|████████  | 273/337 [00:09<00:01, 50.60it/s]"
     ]
    },
    {
     "name": "stderr",
     "output_type": "stream",
     "text": [
      "\r",
      " 83%|████████▎ | 279/337 [00:09<00:01, 47.37it/s]"
     ]
    },
    {
     "name": "stderr",
     "output_type": "stream",
     "text": [
      "\r",
      " 85%|████████▍ | 285/337 [00:09<00:01, 45.36it/s]"
     ]
    },
    {
     "name": "stderr",
     "output_type": "stream",
     "text": [
      "\r",
      " 86%|████████▋ | 291/337 [00:10<00:00, 48.36it/s]"
     ]
    },
    {
     "name": "stderr",
     "output_type": "stream",
     "text": [
      "\r",
      " 88%|████████▊ | 298/337 [00:10<00:00, 50.79it/s]"
     ]
    },
    {
     "name": "stderr",
     "output_type": "stream",
     "text": [
      "\r",
      " 90%|█████████ | 304/337 [00:10<00:00, 52.69it/s]"
     ]
    },
    {
     "name": "stderr",
     "output_type": "stream",
     "text": [
      "\r",
      " 92%|█████████▏| 310/337 [00:10<00:00, 35.31it/s]"
     ]
    },
    {
     "name": "stderr",
     "output_type": "stream",
     "text": [
      "\r",
      " 93%|█████████▎| 315/337 [00:10<00:00, 32.91it/s]"
     ]
    },
    {
     "name": "stderr",
     "output_type": "stream",
     "text": [
      "\r",
      " 95%|█████████▍| 319/337 [00:10<00:00, 33.81it/s]"
     ]
    },
    {
     "name": "stderr",
     "output_type": "stream",
     "text": [
      "\r",
      " 98%|█████████▊| 329/337 [00:10<00:00, 45.15it/s]"
     ]
    },
    {
     "name": "stderr",
     "output_type": "stream",
     "text": [
      "\r",
      "100%|██████████| 337/337 [00:11<00:00, 50.00it/s]"
     ]
    },
    {
     "name": "stderr",
     "output_type": "stream",
     "text": [
      "\r",
      "100%|██████████| 337/337 [00:11<00:00, 30.30it/s]"
     ]
    },
    {
     "name": "stderr",
     "output_type": "stream",
     "text": [
      "\n"
     ]
    },
    {
     "name": "stderr",
     "output_type": "stream",
     "text": [
      "\r",
      "  0%|          | 0/337 [00:00<?, ?it/s]"
     ]
    },
    {
     "name": "stderr",
     "output_type": "stream",
     "text": [
      "\r",
      "  0%|          | 1/337 [00:00<00:53,  6.26it/s]"
     ]
    },
    {
     "name": "stderr",
     "output_type": "stream",
     "text": [
      "\r",
      "  1%|          | 2/337 [00:00<00:43,  7.74it/s]"
     ]
    },
    {
     "name": "stderr",
     "output_type": "stream",
     "text": [
      "\r",
      "  1%|          | 3/337 [00:00<00:46,  7.12it/s]"
     ]
    },
    {
     "name": "stderr",
     "output_type": "stream",
     "text": [
      "\r",
      "  1%|          | 4/337 [00:00<00:52,  6.31it/s]"
     ]
    },
    {
     "name": "stderr",
     "output_type": "stream",
     "text": [
      "\r",
      "  2%|▏         | 6/337 [00:00<00:45,  7.20it/s]"
     ]
    },
    {
     "name": "stderr",
     "output_type": "stream",
     "text": [
      "\r",
      "  2%|▏         | 8/337 [00:01<00:37,  8.70it/s]"
     ]
    },
    {
     "name": "stderr",
     "output_type": "stream",
     "text": [
      "\r",
      "  3%|▎         | 9/337 [00:01<00:40,  8.09it/s]"
     ]
    },
    {
     "name": "stderr",
     "output_type": "stream",
     "text": [
      "\r",
      "  3%|▎         | 11/337 [00:01<00:34,  9.53it/s]"
     ]
    },
    {
     "name": "stderr",
     "output_type": "stream",
     "text": [
      "\r",
      "  4%|▍         | 13/337 [00:01<00:32, 10.01it/s]"
     ]
    },
    {
     "name": "stderr",
     "output_type": "stream",
     "text": [
      "\r",
      "  4%|▍         | 15/337 [00:01<00:27, 11.78it/s]"
     ]
    },
    {
     "name": "stderr",
     "output_type": "stream",
     "text": [
      "\r",
      "  5%|▌         | 17/337 [00:01<00:32,  9.82it/s]"
     ]
    },
    {
     "name": "stderr",
     "output_type": "stream",
     "text": [
      "\r",
      "  6%|▌         | 20/337 [00:02<00:25, 12.62it/s]"
     ]
    },
    {
     "name": "stderr",
     "output_type": "stream",
     "text": [
      "\r",
      "  7%|▋         | 22/337 [00:02<00:25, 12.34it/s]"
     ]
    },
    {
     "name": "stderr",
     "output_type": "stream",
     "text": [
      "\r",
      "  7%|▋         | 24/337 [00:02<00:23, 13.38it/s]"
     ]
    },
    {
     "name": "stderr",
     "output_type": "stream",
     "text": [
      "\r",
      "  8%|▊         | 27/337 [00:02<00:21, 14.40it/s]"
     ]
    },
    {
     "name": "stderr",
     "output_type": "stream",
     "text": [
      "\r",
      "  9%|▊         | 29/337 [00:02<00:21, 14.14it/s]"
     ]
    },
    {
     "name": "stderr",
     "output_type": "stream",
     "text": [
      "\r",
      " 10%|█         | 34/337 [00:02<00:15, 19.20it/s]"
     ]
    },
    {
     "name": "stderr",
     "output_type": "stream",
     "text": [
      "\r",
      " 11%|█         | 36/337 [00:02<00:17, 17.03it/s]"
     ]
    },
    {
     "name": "stderr",
     "output_type": "stream",
     "text": [
      "\r",
      " 12%|█▏        | 40/337 [00:03<00:13, 21.76it/s]"
     ]
    },
    {
     "name": "stderr",
     "output_type": "stream",
     "text": [
      "\r",
      " 13%|█▎        | 44/337 [00:03<00:14, 20.49it/s]"
     ]
    },
    {
     "name": "stderr",
     "output_type": "stream",
     "text": [
      "\r",
      " 14%|█▍        | 48/337 [00:03<00:12, 23.85it/s]"
     ]
    },
    {
     "name": "stderr",
     "output_type": "stream",
     "text": [
      "\r",
      " 15%|█▌        | 51/337 [00:03<00:15, 18.58it/s]"
     ]
    },
    {
     "name": "stderr",
     "output_type": "stream",
     "text": [
      "\r",
      " 16%|█▌        | 54/337 [00:03<00:14, 19.76it/s]"
     ]
    },
    {
     "name": "stderr",
     "output_type": "stream",
     "text": [
      "\r",
      " 17%|█▋        | 58/337 [00:03<00:12, 22.76it/s]"
     ]
    },
    {
     "name": "stderr",
     "output_type": "stream",
     "text": [
      "\r",
      " 19%|█▉        | 64/337 [00:04<00:09, 29.82it/s]"
     ]
    },
    {
     "name": "stderr",
     "output_type": "stream",
     "text": [
      "\r",
      " 20%|██        | 68/337 [00:04<00:10, 26.62it/s]"
     ]
    },
    {
     "name": "stderr",
     "output_type": "stream",
     "text": [
      "\r",
      " 21%|██        | 71/337 [00:04<00:12, 22.04it/s]"
     ]
    },
    {
     "name": "stderr",
     "output_type": "stream",
     "text": [
      "\r",
      " 23%|██▎       | 78/337 [00:04<00:08, 29.49it/s]"
     ]
    },
    {
     "name": "stderr",
     "output_type": "stream",
     "text": [
      "\r",
      " 25%|██▍       | 84/337 [00:04<00:07, 33.64it/s]"
     ]
    },
    {
     "name": "stderr",
     "output_type": "stream",
     "text": [
      "\r",
      " 27%|██▋       | 90/337 [00:04<00:06, 38.23it/s]"
     ]
    },
    {
     "name": "stderr",
     "output_type": "stream",
     "text": [
      "\r",
      " 28%|██▊       | 96/337 [00:04<00:05, 42.43it/s]"
     ]
    },
    {
     "name": "stderr",
     "output_type": "stream",
     "text": [
      "\r",
      " 30%|██▉       | 101/337 [00:05<00:06, 37.40it/s]"
     ]
    },
    {
     "name": "stderr",
     "output_type": "stream",
     "text": [
      "\r",
      " 32%|███▏      | 109/337 [00:05<00:05, 42.52it/s]"
     ]
    },
    {
     "name": "stderr",
     "output_type": "stream",
     "text": [
      "\r",
      " 41%|████      | 137/337 [00:05<00:02, 93.96it/s]"
     ]
    },
    {
     "name": "stderr",
     "output_type": "stream",
     "text": [
      "\r",
      " 44%|████▍     | 148/337 [00:05<00:02, 65.83it/s]"
     ]
    },
    {
     "name": "stderr",
     "output_type": "stream",
     "text": [
      "\r",
      " 47%|████▋     | 157/337 [00:05<00:03, 50.72it/s]"
     ]
    },
    {
     "name": "stderr",
     "output_type": "stream",
     "text": [
      "\r",
      " 49%|████▊     | 164/337 [00:06<00:03, 43.72it/s]"
     ]
    },
    {
     "name": "stderr",
     "output_type": "stream",
     "text": [
      "\r",
      " 50%|█████     | 170/337 [00:06<00:03, 42.31it/s]"
     ]
    },
    {
     "name": "stderr",
     "output_type": "stream",
     "text": [
      "\r",
      " 52%|█████▏    | 176/337 [00:06<00:03, 42.78it/s]"
     ]
    },
    {
     "name": "stderr",
     "output_type": "stream",
     "text": [
      "\r",
      " 54%|█████▎    | 181/337 [00:06<00:03, 41.60it/s]"
     ]
    },
    {
     "name": "stderr",
     "output_type": "stream",
     "text": [
      "\r",
      " 55%|█████▌    | 186/337 [00:06<00:03, 43.01it/s]"
     ]
    },
    {
     "name": "stderr",
     "output_type": "stream",
     "text": [
      "\r",
      " 57%|█████▋    | 191/337 [00:06<00:04, 36.31it/s]"
     ]
    },
    {
     "name": "stderr",
     "output_type": "stream",
     "text": [
      "\r",
      " 60%|█████▉    | 202/337 [00:07<00:02, 49.33it/s]"
     ]
    },
    {
     "name": "stderr",
     "output_type": "stream",
     "text": [
      "\r",
      " 62%|██████▏   | 208/337 [00:07<00:02, 45.52it/s]"
     ]
    },
    {
     "name": "stderr",
     "output_type": "stream",
     "text": [
      "\r",
      " 64%|██████▎   | 214/337 [00:07<00:02, 45.03it/s]"
     ]
    },
    {
     "name": "stderr",
     "output_type": "stream",
     "text": [
      "\r",
      " 65%|██████▍   | 219/337 [00:07<00:02, 43.51it/s]"
     ]
    },
    {
     "name": "stderr",
     "output_type": "stream",
     "text": [
      "\r",
      " 67%|██████▋   | 226/337 [00:07<00:02, 49.50it/s]"
     ]
    },
    {
     "name": "stderr",
     "output_type": "stream",
     "text": [
      "\r",
      " 69%|██████▉   | 232/337 [00:07<00:02, 51.54it/s]"
     ]
    },
    {
     "name": "stderr",
     "output_type": "stream",
     "text": [
      "\r",
      " 72%|███████▏  | 242/337 [00:07<00:01, 62.75it/s]"
     ]
    },
    {
     "name": "stderr",
     "output_type": "stream",
     "text": [
      "\r",
      " 75%|███████▌  | 254/337 [00:07<00:01, 73.91it/s]"
     ]
    },
    {
     "name": "stderr",
     "output_type": "stream",
     "text": [
      "\r",
      " 78%|███████▊  | 262/337 [00:08<00:01, 54.35it/s]"
     ]
    },
    {
     "name": "stderr",
     "output_type": "stream",
     "text": [
      "\r",
      " 80%|███████▉  | 269/337 [00:08<00:01, 53.65it/s]"
     ]
    },
    {
     "name": "stderr",
     "output_type": "stream",
     "text": [
      "\r",
      " 82%|████████▏ | 277/337 [00:08<00:01, 56.77it/s]"
     ]
    },
    {
     "name": "stderr",
     "output_type": "stream",
     "text": [
      "\r",
      " 84%|████████▍ | 284/337 [00:08<00:00, 59.42it/s]"
     ]
    },
    {
     "name": "stderr",
     "output_type": "stream",
     "text": [
      "\r",
      " 87%|████████▋ | 293/337 [00:08<00:00, 63.08it/s]"
     ]
    },
    {
     "name": "stderr",
     "output_type": "stream",
     "text": [
      "\r",
      " 89%|████████▉ | 300/337 [00:08<00:00, 63.86it/s]"
     ]
    },
    {
     "name": "stderr",
     "output_type": "stream",
     "text": [
      "\r",
      " 91%|█████████ | 307/337 [00:08<00:00, 50.26it/s]"
     ]
    },
    {
     "name": "stderr",
     "output_type": "stream",
     "text": [
      "\r",
      " 93%|█████████▎| 313/337 [00:09<00:00, 45.33it/s]"
     ]
    },
    {
     "name": "stderr",
     "output_type": "stream",
     "text": [
      "\r",
      " 94%|█████████▍| 318/337 [00:09<00:00, 43.22it/s]"
     ]
    },
    {
     "name": "stderr",
     "output_type": "stream",
     "text": [
      "\r",
      " 96%|█████████▌| 323/337 [00:09<00:00, 35.56it/s]"
     ]
    },
    {
     "name": "stderr",
     "output_type": "stream",
     "text": [
      "\r",
      " 99%|█████████▉| 334/337 [00:09<00:00, 48.70it/s]"
     ]
    },
    {
     "name": "stderr",
     "output_type": "stream",
     "text": [
      "\r",
      "100%|██████████| 337/337 [00:09<00:00, 34.79it/s]"
     ]
    },
    {
     "name": "stderr",
     "output_type": "stream",
     "text": [
      "\n"
     ]
    }
   ],
   "source": [
    "# use PyBigwig to get the atac information for the bw files\n",
    "bw_dir = \"/data/from_luisa/female_atac\"\n",
    "age_list = ['2mo', '9mo', '18mo']\n",
    "total_counts_df = {}\n",
    "for age in age_list:\n",
    "    bw = pyBigWig.open(f\"{bw_dir}/Female_{bw_ct}_{age}_merge.bw\")\n",
    "    total_counts = []\n",
    "    for dmr_id in tqdm(with_na_dar_gene_df.index):\n",
    "        _chr, start, end = dmr_id.split(':')[0], dmr_id.split(':')[1].split('-')[0], dmr_id.split(':')[1].split('-')[1]\n",
    "        start, end = int(start), int(end)\n",
    "        _count = bw.stats(_chr, start, end, type=\"mean\")\n",
    "        total_counts.append(_count[0])\n",
    "        \n",
    "    total_counts_df[age] = total_counts\n",
    "total_counts_df = pd.DataFrame(total_counts_df)\n",
    "    "
   ]
  },
  {
   "cell_type": "code",
   "execution_count": 20,
   "id": "c30578e3",
   "metadata": {
    "execution": {
     "iopub.execute_input": "2024-12-08T03:35:59.724293Z",
     "iopub.status.busy": "2024-12-08T03:35:59.724109Z",
     "iopub.status.idle": "2024-12-08T03:35:59.727836Z",
     "shell.execute_reply": "2024-12-08T03:35:59.727294Z"
    },
    "papermill": {
     "duration": 0.015992,
     "end_time": "2024-12-08T03:35:59.728843",
     "exception": false,
     "start_time": "2024-12-08T03:35:59.712851",
     "status": "completed"
    },
    "tags": []
   },
   "outputs": [
    {
     "name": "stderr",
     "output_type": "stream",
     "text": [
      "/var/tmp/ipykernel_77240/436241227.py:2: SettingWithCopyWarning: \n",
      "A value is trying to be set on a copy of a slice from a DataFrame.\n",
      "Try using .loc[row_indexer,col_indexer] = value instead\n",
      "\n",
      "See the caveats in the documentation: https://pandas.pydata.org/pandas-docs/stable/user_guide/indexing.html#returning-a-view-versus-a-copy\n",
      "  with_na_dar_gene_df[age] = total_counts_df[age].values\n"
     ]
    }
   ],
   "source": [
    "for age in age_list:\n",
    "    with_na_dar_gene_df[age] = total_counts_df[age].values"
   ]
  },
  {
   "cell_type": "code",
   "execution_count": 21,
   "id": "77803fef",
   "metadata": {
    "execution": {
     "iopub.execute_input": "2024-12-08T03:35:59.754490Z",
     "iopub.status.busy": "2024-12-08T03:35:59.754222Z",
     "iopub.status.idle": "2024-12-08T03:35:59.758428Z",
     "shell.execute_reply": "2024-12-08T03:35:59.757955Z"
    },
    "papermill": {
     "duration": 0.018028,
     "end_time": "2024-12-08T03:35:59.759496",
     "exception": false,
     "start_time": "2024-12-08T03:35:59.741468",
     "status": "completed"
    },
    "tags": []
   },
   "outputs": [
    {
     "name": "stderr",
     "output_type": "stream",
     "text": [
      "/var/tmp/ipykernel_77240/2204217185.py:1: SettingWithCopyWarning: \n",
      "A value is trying to be set on a copy of a slice from a DataFrame.\n",
      "Try using .loc[row_indexer,col_indexer] = value instead\n",
      "\n",
      "See the caveats in the documentation: https://pandas.pydata.org/pandas-docs/stable/user_guide/indexing.html#returning-a-view-versus-a-copy\n",
      "  with_na_dar_gene_df['log2(18mo/2mo)'] = np.log2(with_na_dar_gene_df['18mo']/with_na_dar_gene_df['2mo'])\n"
     ]
    }
   ],
   "source": [
    "with_na_dar_gene_df['log2(18mo/2mo)'] = np.log2(with_na_dar_gene_df['18mo']/with_na_dar_gene_df['2mo'])"
   ]
  },
  {
   "cell_type": "code",
   "execution_count": 22,
   "id": "bf8990a7",
   "metadata": {
    "execution": {
     "iopub.execute_input": "2024-12-08T03:35:59.781847Z",
     "iopub.status.busy": "2024-12-08T03:35:59.781576Z",
     "iopub.status.idle": "2024-12-08T03:35:59.789590Z",
     "shell.execute_reply": "2024-12-08T03:35:59.789124Z"
    },
    "papermill": {
     "duration": 0.020259,
     "end_time": "2024-12-08T03:35:59.790661",
     "exception": false,
     "start_time": "2024-12-08T03:35:59.770402",
     "status": "completed"
    },
    "tags": []
   },
   "outputs": [],
   "source": [
    "# map rows in dar_gene_df that is in with_na_dar_gene_df.index, give 2mo column values based on with_na_dar_gene_df['2mo'].to_dict()\n",
    "dar_gene_df.loc[with_na_dar_gene_df.index, '2mo'] = with_na_dar_gene_df['2mo'].to_dict()\n",
    "dar_gene_df.loc[with_na_dar_gene_df.index, '9mo'] = with_na_dar_gene_df['9mo'].to_dict()\n",
    "dar_gene_df.loc[with_na_dar_gene_df.index, '18mo'] = with_na_dar_gene_df['18mo'].to_dict()"
   ]
  },
  {
   "cell_type": "code",
   "execution_count": 23,
   "id": "91586f30",
   "metadata": {
    "execution": {
     "iopub.execute_input": "2024-12-08T03:35:59.812326Z",
     "iopub.status.busy": "2024-12-08T03:35:59.812139Z",
     "iopub.status.idle": "2024-12-08T03:35:59.848635Z",
     "shell.execute_reply": "2024-12-08T03:35:59.848117Z"
    },
    "papermill": {
     "duration": 0.048691,
     "end_time": "2024-12-08T03:35:59.849840",
     "exception": false,
     "start_time": "2024-12-08T03:35:59.801149",
     "status": "completed"
    },
    "tags": []
   },
   "outputs": [],
   "source": [
    "dar_gene_df.to_csv(f'{home_dir}/ml_input/{ct}/{ct}.aDAR_gene.csv',  index=False)"
   ]
  },
  {
   "cell_type": "code",
   "execution_count": 24,
   "id": "90335aa2",
   "metadata": {
    "execution": {
     "iopub.execute_input": "2024-12-08T03:35:59.871880Z",
     "iopub.status.busy": "2024-12-08T03:35:59.871688Z",
     "iopub.status.idle": "2024-12-08T03:35:59.876496Z",
     "shell.execute_reply": "2024-12-08T03:35:59.876073Z"
    },
    "papermill": {
     "duration": 0.01704,
     "end_time": "2024-12-08T03:35:59.877566",
     "exception": false,
     "start_time": "2024-12-08T03:35:59.860526",
     "status": "completed"
    },
    "tags": []
   },
   "outputs": [
    {
     "data": {
      "text/plain": [
       "CompletedProcess(args='rm Astro-TE_NN.aDAR_gene.bed', returncode=0)"
      ]
     },
     "execution_count": 24,
     "metadata": {},
     "output_type": "execute_result"
    }
   ],
   "source": [
    "subprocess.run(f\"rm {ct}.aDAR_gene.bed\", shell=True)"
   ]
  },
  {
   "cell_type": "code",
   "execution_count": null,
   "id": "26df2f89",
   "metadata": {
    "papermill": {
     "duration": 0.010436,
     "end_time": "2024-12-08T03:35:59.898588",
     "exception": false,
     "start_time": "2024-12-08T03:35:59.888152",
     "status": "completed"
    },
    "tags": []
   },
   "outputs": [],
   "source": []
  }
 ],
 "metadata": {
  "kernelspec": {
   "display_name": "base",
   "language": "python",
   "name": "python3"
  },
  "language_info": {
   "codemirror_mode": {
    "name": "ipython",
    "version": 3
   },
   "file_extension": ".py",
   "mimetype": "text/x-python",
   "name": "python",
   "nbconvert_exporter": "python",
   "pygments_lexer": "ipython3",
   "version": "3.10.12"
  },
  "papermill": {
   "default_parameters": {},
   "duration": 37.345198,
   "end_time": "2024-12-08T03:36:00.324432",
   "environment_variables": {},
   "exception": null,
   "input_path": "/home/qzeng_salk_edu/project/241018_pre_ml/gen_ml_input/notebooks/04.pre_atac_adar.ipynb",
   "output_path": "Astro-TE_NN/04.pre_atac_adar.ipynb",
   "parameters": {
    "cpu": 8,
    "group_name": "Astro-TE_NN",
    "mem_gb": 10
   },
   "start_time": "2024-12-08T03:35:22.979234",
   "version": "2.4.0"
  }
 },
 "nbformat": 4,
 "nbformat_minor": 5
}