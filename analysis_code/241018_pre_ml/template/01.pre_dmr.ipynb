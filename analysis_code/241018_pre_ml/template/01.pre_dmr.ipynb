{
 "cells": [
  {
   "cell_type": "code",
   "execution_count": 1,
   "id": "0ca74e03",
   "metadata": {
    "execution": {
     "iopub.execute_input": "2024-12-08T03:33:57.008998Z",
     "iopub.status.busy": "2024-12-08T03:33:57.008755Z",
     "iopub.status.idle": "2024-12-08T03:33:57.014355Z",
     "shell.execute_reply": "2024-12-08T03:33:57.013863Z"
    },
    "papermill": {
     "duration": 0.010867,
     "end_time": "2024-12-08T03:33:57.015705",
     "exception": false,
     "start_time": "2024-12-08T03:33:57.004838",
     "status": "completed"
    },
    "tags": [
     "injected-parameters"
    ]
   },
   "outputs": [],
   "source": [
    "# Parameters\n",
    "cpu = 8\n",
    "group_name = \"Astro-TE_NN\"\n",
    "mem_gb = 10\n"
   ]
  },
  {
   "cell_type": "code",
   "execution_count": 2,
   "id": "63c417e1",
   "metadata": {
    "execution": {
     "iopub.execute_input": "2024-12-08T03:33:57.021185Z",
     "iopub.status.busy": "2024-12-08T03:33:57.020983Z",
     "iopub.status.idle": "2024-12-08T03:33:57.279948Z",
     "shell.execute_reply": "2024-12-08T03:33:57.279192Z"
    },
    "papermill": {
     "duration": 0.263394,
     "end_time": "2024-12-08T03:33:57.281565",
     "exception": false,
     "start_time": "2024-12-08T03:33:57.018171",
     "status": "completed"
    },
    "tags": []
   },
   "outputs": [],
   "source": [
    "import pandas as pd\n",
    "import subprocess\n",
    "import numpy as np"
   ]
  },
  {
   "cell_type": "code",
   "execution_count": 3,
   "id": "7542ae4d",
   "metadata": {
    "execution": {
     "iopub.execute_input": "2024-12-08T03:33:57.287486Z",
     "iopub.status.busy": "2024-12-08T03:33:57.287229Z",
     "iopub.status.idle": "2024-12-08T03:33:57.290431Z",
     "shell.execute_reply": "2024-12-08T03:33:57.289646Z"
    },
    "papermill": {
     "duration": 0.007654,
     "end_time": "2024-12-08T03:33:57.291882",
     "exception": false,
     "start_time": "2024-12-08T03:33:57.284228",
     "status": "completed"
    },
    "tags": []
   },
   "outputs": [],
   "source": [
    "#group_name = 'DG_Glut'"
   ]
  },
  {
   "cell_type": "code",
   "execution_count": 4,
   "id": "c27f91ef",
   "metadata": {
    "execution": {
     "iopub.execute_input": "2024-12-08T03:33:57.297435Z",
     "iopub.status.busy": "2024-12-08T03:33:57.297176Z",
     "iopub.status.idle": "2024-12-08T03:33:57.300393Z",
     "shell.execute_reply": "2024-12-08T03:33:57.299803Z"
    },
    "papermill": {
     "duration": 0.007258,
     "end_time": "2024-12-08T03:33:57.301497",
     "exception": false,
     "start_time": "2024-12-08T03:33:57.294239",
     "status": "completed"
    },
    "tags": []
   },
   "outputs": [],
   "source": [
    "home_dir = '/home/qzeng_salk_edu/project/241018_pre_ml'\n",
    "ct = group_name\n",
    "\n",
    "dmr_dir = '/data/mC_FILTER_DMR_BED'\n",
    "_type = 'Total'"
   ]
  },
  {
   "cell_type": "code",
   "execution_count": 5,
   "id": "d6fcc7c7",
   "metadata": {
    "execution": {
     "iopub.execute_input": "2024-12-08T03:33:57.306911Z",
     "iopub.status.busy": "2024-12-08T03:33:57.306637Z",
     "iopub.status.idle": "2024-12-08T03:33:57.502864Z",
     "shell.execute_reply": "2024-12-08T03:33:57.502111Z"
    },
    "papermill": {
     "duration": 0.200265,
     "end_time": "2024-12-08T03:33:57.504003",
     "exception": false,
     "start_time": "2024-12-08T03:33:57.303738",
     "status": "completed"
    },
    "tags": []
   },
   "outputs": [
    {
     "data": {
      "text/html": [
       "<div>\n",
       "<style scoped>\n",
       "    .dataframe tbody tr th:only-of-type {\n",
       "        vertical-align: middle;\n",
       "    }\n",
       "\n",
       "    .dataframe tbody tr th {\n",
       "        vertical-align: top;\n",
       "    }\n",
       "\n",
       "    .dataframe thead th {\n",
       "        text-align: right;\n",
       "    }\n",
       "</style>\n",
       "<table border=\"1\" class=\"dataframe\">\n",
       "  <thead>\n",
       "    <tr style=\"text-align: right;\">\n",
       "      <th></th>\n",
       "      <th>0</th>\n",
       "      <th>1</th>\n",
       "      <th>2</th>\n",
       "      <th>3</th>\n",
       "      <th>4</th>\n",
       "      <th>5</th>\n",
       "      <th>6</th>\n",
       "    </tr>\n",
       "  </thead>\n",
       "  <tbody>\n",
       "    <tr>\n",
       "      <th>0</th>\n",
       "      <td>chr1</td>\n",
       "      <td>3805471</td>\n",
       "      <td>3805536</td>\n",
       "      <td>chr1-3805471-3805536</td>\n",
       "      <td>0.80</td>\n",
       "      <td>0.90</td>\n",
       "      <td>0.62</td>\n",
       "    </tr>\n",
       "    <tr>\n",
       "      <th>1</th>\n",
       "      <td>chr1</td>\n",
       "      <td>4253018</td>\n",
       "      <td>4253156</td>\n",
       "      <td>chr1-4253018-4253156</td>\n",
       "      <td>0.65</td>\n",
       "      <td>0.85</td>\n",
       "      <td>0.75</td>\n",
       "    </tr>\n",
       "    <tr>\n",
       "      <th>2</th>\n",
       "      <td>chr1</td>\n",
       "      <td>4491370</td>\n",
       "      <td>4491376</td>\n",
       "      <td>chr1-4491370-4491376</td>\n",
       "      <td>0.38</td>\n",
       "      <td>0.28</td>\n",
       "      <td>0.49</td>\n",
       "    </tr>\n",
       "    <tr>\n",
       "      <th>3</th>\n",
       "      <td>chr1</td>\n",
       "      <td>4537659</td>\n",
       "      <td>4538001</td>\n",
       "      <td>chr1-4537659-4538001</td>\n",
       "      <td>0.78</td>\n",
       "      <td>0.68</td>\n",
       "      <td>0.89</td>\n",
       "    </tr>\n",
       "    <tr>\n",
       "      <th>4</th>\n",
       "      <td>chr1</td>\n",
       "      <td>5283176</td>\n",
       "      <td>5283324</td>\n",
       "      <td>chr1-5283176-5283324</td>\n",
       "      <td>0.71</td>\n",
       "      <td>0.53</td>\n",
       "      <td>0.74</td>\n",
       "    </tr>\n",
       "  </tbody>\n",
       "</table>\n",
       "</div>"
      ],
      "text/plain": [
       "      0        1        2                     3     4     5     6\n",
       "0  chr1  3805471  3805536  chr1-3805471-3805536  0.80  0.90  0.62\n",
       "1  chr1  4253018  4253156  chr1-4253018-4253156  0.65  0.85  0.75\n",
       "2  chr1  4491370  4491376  chr1-4491370-4491376  0.38  0.28  0.49\n",
       "3  chr1  4537659  4538001  chr1-4537659-4538001  0.78  0.68  0.89\n",
       "4  chr1  5283176  5283324  chr1-5283176-5283324  0.71  0.53  0.74"
      ]
     },
     "execution_count": 5,
     "metadata": {},
     "output_type": "execute_result"
    }
   ],
   "source": [
    "dmr_bf = pd.read_csv(f'{dmr_dir}/{ct}.{_type}.aDMR.bed', sep='\\t', header=None)\n",
    "dmr_bf.head()"
   ]
  },
  {
   "cell_type": "code",
   "execution_count": 6,
   "id": "551bdf6d",
   "metadata": {
    "execution": {
     "iopub.execute_input": "2024-12-08T03:33:57.510262Z",
     "iopub.status.busy": "2024-12-08T03:33:57.509790Z",
     "iopub.status.idle": "2024-12-08T03:33:57.512637Z",
     "shell.execute_reply": "2024-12-08T03:33:57.512079Z"
    },
    "papermill": {
     "duration": 0.007073,
     "end_time": "2024-12-08T03:33:57.513691",
     "exception": false,
     "start_time": "2024-12-08T03:33:57.506618",
     "status": "completed"
    },
    "tags": []
   },
   "outputs": [],
   "source": [
    "# gene_df=  pd.read_csv('/data/ref/mouse/genome_anno/mm10_gene.bed', sep='\\t', header=None)\n",
    "# # extend 1 and 2 2000kb\n",
    "# gene_df[1] = gene_df[1] - 2000\n",
    "# gene_df[2] = gene_df[2] + 2000\n",
    "# #gene_df.to_csv('mm10_gene_2kb.bed', sep='\\t', header=None, index=None) \n",
    "# gene_df.head()"
   ]
  },
  {
   "cell_type": "code",
   "execution_count": 7,
   "id": "056246f0",
   "metadata": {
    "execution": {
     "iopub.execute_input": "2024-12-08T03:33:57.519342Z",
     "iopub.status.busy": "2024-12-08T03:33:57.519138Z",
     "iopub.status.idle": "2024-12-08T03:33:57.570444Z",
     "shell.execute_reply": "2024-12-08T03:33:57.570012Z"
    },
    "papermill": {
     "duration": 0.055377,
     "end_time": "2024-12-08T03:33:57.571520",
     "exception": false,
     "start_time": "2024-12-08T03:33:57.516143",
     "status": "completed"
    },
    "tags": []
   },
   "outputs": [
    {
     "data": {
      "text/plain": [
       "CompletedProcess(args='bedtools intersect -a /data/mC_FILTER_DMR_BED/Astro-TE_NN.Total.aDMR.bed -b /home/qzeng_salk_edu/project/241018_pre_ml/mm10_gene_2kb.bed -wa -wb > Astro-TE_NN.aDMR_gene.bed', returncode=0)"
      ]
     },
     "execution_count": 7,
     "metadata": {},
     "output_type": "execute_result"
    }
   ],
   "source": [
    "# use bedtools intersect to find the genes that overlap with the DMRs\n",
    "command = f\"bedtools intersect -a {dmr_dir}/{ct}.{_type}.aDMR.bed -b {home_dir}/mm10_gene_2kb.bed -wa -wb > {ct}.aDMR_gene.bed\"\n",
    "subprocess.run(command, shell=True)"
   ]
  },
  {
   "cell_type": "code",
   "execution_count": 8,
   "id": "3fc2ca7a",
   "metadata": {
    "execution": {
     "iopub.execute_input": "2024-12-08T03:33:57.577719Z",
     "iopub.status.busy": "2024-12-08T03:33:57.577186Z",
     "iopub.status.idle": "2024-12-08T03:33:57.598822Z",
     "shell.execute_reply": "2024-12-08T03:33:57.598342Z"
    },
    "papermill": {
     "duration": 0.025903,
     "end_time": "2024-12-08T03:33:57.599859",
     "exception": false,
     "start_time": "2024-12-08T03:33:57.573956",
     "status": "completed"
    },
    "tags": []
   },
   "outputs": [
    {
     "data": {
      "text/html": [
       "<div>\n",
       "<style scoped>\n",
       "    .dataframe tbody tr th:only-of-type {\n",
       "        vertical-align: middle;\n",
       "    }\n",
       "\n",
       "    .dataframe tbody tr th {\n",
       "        vertical-align: top;\n",
       "    }\n",
       "\n",
       "    .dataframe thead th {\n",
       "        text-align: right;\n",
       "    }\n",
       "</style>\n",
       "<table border=\"1\" class=\"dataframe\">\n",
       "  <thead>\n",
       "    <tr style=\"text-align: right;\">\n",
       "      <th></th>\n",
       "      <th>chr</th>\n",
       "      <th>start</th>\n",
       "      <th>end</th>\n",
       "      <th>dmr_id</th>\n",
       "      <th>2mo</th>\n",
       "      <th>9mo</th>\n",
       "      <th>18mo</th>\n",
       "      <th>gene_chr</th>\n",
       "      <th>gene_start</th>\n",
       "      <th>gene_end</th>\n",
       "      <th>gene_id</th>\n",
       "      <th>gene_strand</th>\n",
       "      <th>gene_name</th>\n",
       "      <th>gene_type</th>\n",
       "      <th>old-young</th>\n",
       "    </tr>\n",
       "  </thead>\n",
       "  <tbody>\n",
       "    <tr>\n",
       "      <th>0</th>\n",
       "      <td>chr1</td>\n",
       "      <td>4491370</td>\n",
       "      <td>4491376</td>\n",
       "      <td>chr1-4491370-4491376</td>\n",
       "      <td>0.38</td>\n",
       "      <td>0.28</td>\n",
       "      <td>0.49</td>\n",
       "      <td>chr1</td>\n",
       "      <td>4488931</td>\n",
       "      <td>4499354</td>\n",
       "      <td>ENSMUSG00000025902.9</td>\n",
       "      <td>-</td>\n",
       "      <td>Sox17</td>\n",
       "      <td>protein_coding</td>\n",
       "      <td>0.11</td>\n",
       "    </tr>\n",
       "    <tr>\n",
       "      <th>1</th>\n",
       "      <td>chr1</td>\n",
       "      <td>8411126</td>\n",
       "      <td>8411131</td>\n",
       "      <td>chr1-8411126-8411131</td>\n",
       "      <td>0.59</td>\n",
       "      <td>0.49</td>\n",
       "      <td>0.69</td>\n",
       "      <td>chr1</td>\n",
       "      <td>8359475</td>\n",
       "      <td>9301878</td>\n",
       "      <td>ENSMUSG00000025909.12</td>\n",
       "      <td>-</td>\n",
       "      <td>Sntg1</td>\n",
       "      <td>protein_coding</td>\n",
       "      <td>0.10</td>\n",
       "    </tr>\n",
       "    <tr>\n",
       "      <th>2</th>\n",
       "      <td>chr1</td>\n",
       "      <td>8565509</td>\n",
       "      <td>8565551</td>\n",
       "      <td>chr1-8565509-8565551</td>\n",
       "      <td>0.45</td>\n",
       "      <td>0.66</td>\n",
       "      <td>0.54</td>\n",
       "      <td>chr1</td>\n",
       "      <td>8359475</td>\n",
       "      <td>9301878</td>\n",
       "      <td>ENSMUSG00000025909.12</td>\n",
       "      <td>-</td>\n",
       "      <td>Sntg1</td>\n",
       "      <td>protein_coding</td>\n",
       "      <td>0.09</td>\n",
       "    </tr>\n",
       "    <tr>\n",
       "      <th>3</th>\n",
       "      <td>chr1</td>\n",
       "      <td>8778571</td>\n",
       "      <td>8779531</td>\n",
       "      <td>chr1-8778571-8779531</td>\n",
       "      <td>0.60</td>\n",
       "      <td>0.74</td>\n",
       "      <td>0.80</td>\n",
       "      <td>chr1</td>\n",
       "      <td>8359475</td>\n",
       "      <td>9301878</td>\n",
       "      <td>ENSMUSG00000025909.12</td>\n",
       "      <td>-</td>\n",
       "      <td>Sntg1</td>\n",
       "      <td>protein_coding</td>\n",
       "      <td>0.20</td>\n",
       "    </tr>\n",
       "    <tr>\n",
       "      <th>4</th>\n",
       "      <td>chr1</td>\n",
       "      <td>8939181</td>\n",
       "      <td>8939279</td>\n",
       "      <td>chr1-8939181-8939279</td>\n",
       "      <td>0.24</td>\n",
       "      <td>0.25</td>\n",
       "      <td>0.45</td>\n",
       "      <td>chr1</td>\n",
       "      <td>8359475</td>\n",
       "      <td>9301878</td>\n",
       "      <td>ENSMUSG00000025909.12</td>\n",
       "      <td>-</td>\n",
       "      <td>Sntg1</td>\n",
       "      <td>protein_coding</td>\n",
       "      <td>0.21</td>\n",
       "    </tr>\n",
       "  </tbody>\n",
       "</table>\n",
       "</div>"
      ],
      "text/plain": [
       "    chr    start      end                dmr_id   2mo   9mo  18mo gene_chr  \\\n",
       "0  chr1  4491370  4491376  chr1-4491370-4491376  0.38  0.28  0.49     chr1   \n",
       "1  chr1  8411126  8411131  chr1-8411126-8411131  0.59  0.49  0.69     chr1   \n",
       "2  chr1  8565509  8565551  chr1-8565509-8565551  0.45  0.66  0.54     chr1   \n",
       "3  chr1  8778571  8779531  chr1-8778571-8779531  0.60  0.74  0.80     chr1   \n",
       "4  chr1  8939181  8939279  chr1-8939181-8939279  0.24  0.25  0.45     chr1   \n",
       "\n",
       "   gene_start  gene_end                gene_id gene_strand gene_name  \\\n",
       "0     4488931   4499354   ENSMUSG00000025902.9           -     Sox17   \n",
       "1     8359475   9301878  ENSMUSG00000025909.12           -     Sntg1   \n",
       "2     8359475   9301878  ENSMUSG00000025909.12           -     Sntg1   \n",
       "3     8359475   9301878  ENSMUSG00000025909.12           -     Sntg1   \n",
       "4     8359475   9301878  ENSMUSG00000025909.12           -     Sntg1   \n",
       "\n",
       "        gene_type  old-young  \n",
       "0  protein_coding       0.11  \n",
       "1  protein_coding       0.10  \n",
       "2  protein_coding       0.09  \n",
       "3  protein_coding       0.20  \n",
       "4  protein_coding       0.21  "
      ]
     },
     "execution_count": 8,
     "metadata": {},
     "output_type": "execute_result"
    }
   ],
   "source": [
    "dmr_gene_df = pd.read_csv(f'{ct}.aDMR_gene.bed', sep='\\t', header=None)\n",
    "# add a columns that is np.log2([6] - [4])\n",
    "dmr_gene_df.columns = ['chr','start','end','dmr_id','2mo','9mo','18mo', \n",
    "                        'gene_chr','gene_start','gene_end','gene_id','gene_strand','gene_name','gene_type']\n",
    "dmr_gene_df['old-young'] = dmr_gene_df['18mo'] -dmr_gene_df['2mo']\n",
    "dmr_gene_df.head()"
   ]
  },
  {
   "cell_type": "code",
   "execution_count": 9,
   "id": "01aac259",
   "metadata": {
    "execution": {
     "iopub.execute_input": "2024-12-08T03:33:57.606243Z",
     "iopub.status.busy": "2024-12-08T03:33:57.605755Z",
     "iopub.status.idle": "2024-12-08T03:33:57.610490Z",
     "shell.execute_reply": "2024-12-08T03:33:57.610055Z"
    },
    "papermill": {
     "duration": 0.00897,
     "end_time": "2024-12-08T03:33:57.611578",
     "exception": false,
     "start_time": "2024-12-08T03:33:57.602608",
     "status": "completed"
    },
    "tags": []
   },
   "outputs": [
    {
     "data": {
      "text/plain": [
       "CompletedProcess(args='rm Astro-TE_NN.aDMR_gene.bed', returncode=0)"
      ]
     },
     "execution_count": 9,
     "metadata": {},
     "output_type": "execute_result"
    }
   ],
   "source": [
    "\n",
    "subprocess.run(f\"rm {ct}.aDMR_gene.bed\", shell=True)"
   ]
  },
  {
   "cell_type": "code",
   "execution_count": 10,
   "id": "178ab0eb",
   "metadata": {
    "execution": {
     "iopub.execute_input": "2024-12-08T03:33:57.618044Z",
     "iopub.status.busy": "2024-12-08T03:33:57.617633Z",
     "iopub.status.idle": "2024-12-08T03:33:57.627608Z",
     "shell.execute_reply": "2024-12-08T03:33:57.627030Z"
    },
    "papermill": {
     "duration": 0.014507,
     "end_time": "2024-12-08T03:33:57.628837",
     "exception": false,
     "start_time": "2024-12-08T03:33:57.614330",
     "status": "completed"
    },
    "tags": []
   },
   "outputs": [
    {
     "data": {
      "text/html": [
       "<div>\n",
       "<style scoped>\n",
       "    .dataframe tbody tr th:only-of-type {\n",
       "        vertical-align: middle;\n",
       "    }\n",
       "\n",
       "    .dataframe tbody tr th {\n",
       "        vertical-align: top;\n",
       "    }\n",
       "\n",
       "    .dataframe thead th {\n",
       "        text-align: right;\n",
       "    }\n",
       "</style>\n",
       "<table border=\"1\" class=\"dataframe\">\n",
       "  <thead>\n",
       "    <tr style=\"text-align: right;\">\n",
       "      <th></th>\n",
       "      <th>start</th>\n",
       "      <th>end</th>\n",
       "      <th>2mo</th>\n",
       "      <th>9mo</th>\n",
       "      <th>18mo</th>\n",
       "      <th>gene_start</th>\n",
       "      <th>gene_end</th>\n",
       "      <th>gene_name</th>\n",
       "      <th>distance</th>\n",
       "    </tr>\n",
       "  </thead>\n",
       "  <tbody>\n",
       "    <tr>\n",
       "      <th>0</th>\n",
       "      <td>4491370</td>\n",
       "      <td>4491376</td>\n",
       "      <td>0.38</td>\n",
       "      <td>0.28</td>\n",
       "      <td>0.49</td>\n",
       "      <td>4488931</td>\n",
       "      <td>4499354</td>\n",
       "      <td>Sox17</td>\n",
       "      <td>2439</td>\n",
       "    </tr>\n",
       "    <tr>\n",
       "      <th>1</th>\n",
       "      <td>8411126</td>\n",
       "      <td>8411131</td>\n",
       "      <td>0.59</td>\n",
       "      <td>0.49</td>\n",
       "      <td>0.69</td>\n",
       "      <td>8359475</td>\n",
       "      <td>9301878</td>\n",
       "      <td>Sntg1</td>\n",
       "      <td>51651</td>\n",
       "    </tr>\n",
       "    <tr>\n",
       "      <th>2</th>\n",
       "      <td>8565509</td>\n",
       "      <td>8565551</td>\n",
       "      <td>0.45</td>\n",
       "      <td>0.66</td>\n",
       "      <td>0.54</td>\n",
       "      <td>8359475</td>\n",
       "      <td>9301878</td>\n",
       "      <td>Sntg1</td>\n",
       "      <td>206034</td>\n",
       "    </tr>\n",
       "    <tr>\n",
       "      <th>3</th>\n",
       "      <td>8778571</td>\n",
       "      <td>8779531</td>\n",
       "      <td>0.60</td>\n",
       "      <td>0.74</td>\n",
       "      <td>0.80</td>\n",
       "      <td>8359475</td>\n",
       "      <td>9301878</td>\n",
       "      <td>Sntg1</td>\n",
       "      <td>419096</td>\n",
       "    </tr>\n",
       "    <tr>\n",
       "      <th>4</th>\n",
       "      <td>8939181</td>\n",
       "      <td>8939279</td>\n",
       "      <td>0.24</td>\n",
       "      <td>0.25</td>\n",
       "      <td>0.45</td>\n",
       "      <td>8359475</td>\n",
       "      <td>9301878</td>\n",
       "      <td>Sntg1</td>\n",
       "      <td>362697</td>\n",
       "    </tr>\n",
       "  </tbody>\n",
       "</table>\n",
       "</div>"
      ],
      "text/plain": [
       "     start      end   2mo   9mo  18mo  gene_start  gene_end gene_name  \\\n",
       "0  4491370  4491376  0.38  0.28  0.49     4488931   4499354     Sox17   \n",
       "1  8411126  8411131  0.59  0.49  0.69     8359475   9301878     Sntg1   \n",
       "2  8565509  8565551  0.45  0.66  0.54     8359475   9301878     Sntg1   \n",
       "3  8778571  8779531  0.60  0.74  0.80     8359475   9301878     Sntg1   \n",
       "4  8939181  8939279  0.24  0.25  0.45     8359475   9301878     Sntg1   \n",
       "\n",
       "   distance  \n",
       "0      2439  \n",
       "1     51651  \n",
       "2    206034  \n",
       "3    419096  \n",
       "4    362697  "
      ]
     },
     "execution_count": 10,
     "metadata": {},
     "output_type": "execute_result"
    }
   ],
   "source": [
    "# drop dmr_id, gen_id, gene_strand, old-young\n",
    "dmr_gene_df['distance'] = np.minimum(abs(dmr_gene_df['start'] - dmr_gene_df['gene_start']), abs(dmr_gene_df['start'] - dmr_gene_df['gene_end']))\n",
    "dmr_gene_df = dmr_gene_df.drop(columns=['chr','gene_chr','dmr_id','gene_id','gene_strand','old-young','gene_type'])\n",
    "dmr_gene_df.head()"
   ]
  },
  {
   "cell_type": "code",
   "execution_count": 11,
   "id": "fce63937",
   "metadata": {
    "execution": {
     "iopub.execute_input": "2024-12-08T03:33:57.635435Z",
     "iopub.status.busy": "2024-12-08T03:33:57.635235Z",
     "iopub.status.idle": "2024-12-08T03:33:57.656423Z",
     "shell.execute_reply": "2024-12-08T03:33:57.655901Z"
    },
    "papermill": {
     "duration": 0.026174,
     "end_time": "2024-12-08T03:33:57.657904",
     "exception": false,
     "start_time": "2024-12-08T03:33:57.631730",
     "status": "completed"
    },
    "tags": []
   },
   "outputs": [],
   "source": [
    "dmr_gene_df.to_csv(f'{home_dir}/ml_input/{ct}/{ct}.aDMR_gene.csv', index=None)"
   ]
  },
  {
   "cell_type": "markdown",
   "id": "b3d5b5ac",
   "metadata": {
    "papermill": {
     "duration": 0.00281,
     "end_time": "2024-12-08T03:33:57.664845",
     "exception": false,
     "start_time": "2024-12-08T03:33:57.662035",
     "status": "completed"
    },
    "tags": []
   },
   "source": [
    "## load enhancer"
   ]
  },
  {
   "cell_type": "code",
   "execution_count": 12,
   "id": "9f7c6f84",
   "metadata": {
    "execution": {
     "iopub.execute_input": "2024-12-08T03:33:57.671472Z",
     "iopub.status.busy": "2024-12-08T03:33:57.671111Z",
     "iopub.status.idle": "2024-12-08T03:33:57.673586Z",
     "shell.execute_reply": "2024-12-08T03:33:57.673153Z"
    },
    "papermill": {
     "duration": 0.006979,
     "end_time": "2024-12-08T03:33:57.674621",
     "exception": false,
     "start_time": "2024-12-08T03:33:57.667642",
     "status": "completed"
    },
    "tags": []
   },
   "outputs": [],
   "source": [
    "mc_abc_dir = '/data/female-amb/ABC.Enhancer/Re.ABC.By.Methylation'"
   ]
  },
  {
   "cell_type": "code",
   "execution_count": 13,
   "id": "7302a55a",
   "metadata": {
    "execution": {
     "iopub.execute_input": "2024-12-08T03:33:57.681087Z",
     "iopub.status.busy": "2024-12-08T03:33:57.680913Z",
     "iopub.status.idle": "2024-12-08T03:33:57.747097Z",
     "shell.execute_reply": "2024-12-08T03:33:57.746514Z"
    },
    "papermill": {
     "duration": 0.071296,
     "end_time": "2024-12-08T03:33:57.748790",
     "exception": false,
     "start_time": "2024-12-08T03:33:57.677494",
     "status": "completed"
    },
    "tags": []
   },
   "outputs": [],
   "source": [
    "mouse_genes = pd.read_csv(f\"/home/qzeng_salk_edu/project/240321_abc_score/use.mouse_genes.csv\", index_col =0)"
   ]
  },
  {
   "cell_type": "code",
   "execution_count": 14,
   "id": "fb97e270",
   "metadata": {
    "execution": {
     "iopub.execute_input": "2024-12-08T03:33:57.756039Z",
     "iopub.status.busy": "2024-12-08T03:33:57.755841Z",
     "iopub.status.idle": "2024-12-08T03:33:57.759103Z",
     "shell.execute_reply": "2024-12-08T03:33:57.758620Z"
    },
    "papermill": {
     "duration": 0.008144,
     "end_time": "2024-12-08T03:33:57.760179",
     "exception": false,
     "start_time": "2024-12-08T03:33:57.752035",
     "status": "completed"
    },
    "tags": []
   },
   "outputs": [],
   "source": [
    "def load_abc_df(ct, age):\n",
    "    df = pd.read_csv(f'{mc_abc_dir}/{ct}/filtered.{ct}.{age}.abc_score.csv', index_col =0)\n",
    "    if age == '8wk':\n",
    "        age = '2mo'\n",
    "    df.columns =  [f'{age}.activity',f'{age}.contact',f'{age}.abc_score']\n",
    "    return df"
   ]
  },
  {
   "cell_type": "code",
   "execution_count": 15,
   "id": "d174e8e9",
   "metadata": {
    "execution": {
     "iopub.execute_input": "2024-12-08T03:33:57.766944Z",
     "iopub.status.busy": "2024-12-08T03:33:57.766784Z",
     "iopub.status.idle": "2024-12-08T03:33:58.723697Z",
     "shell.execute_reply": "2024-12-08T03:33:58.723059Z"
    },
    "papermill": {
     "duration": 0.962151,
     "end_time": "2024-12-08T03:33:58.725337",
     "exception": false,
     "start_time": "2024-12-08T03:33:57.763186",
     "status": "completed"
    },
    "tags": []
   },
   "outputs": [],
   "source": [
    "young_abc_df = load_abc_df(ct, '8wk')\n",
    "middle_abc_df = load_abc_df(ct, '9mo')\n",
    "old_abc_df = load_abc_df(ct, '18mo')"
   ]
  },
  {
   "cell_type": "code",
   "execution_count": 16,
   "id": "cff6e40d",
   "metadata": {
    "execution": {
     "iopub.execute_input": "2024-12-08T03:33:58.732785Z",
     "iopub.status.busy": "2024-12-08T03:33:58.732567Z",
     "iopub.status.idle": "2024-12-08T03:33:58.865391Z",
     "shell.execute_reply": "2024-12-08T03:33:58.864739Z"
    },
    "papermill": {
     "duration": 0.138312,
     "end_time": "2024-12-08T03:33:58.866880",
     "exception": false,
     "start_time": "2024-12-08T03:33:58.728568",
     "status": "completed"
    },
    "tags": []
   },
   "outputs": [],
   "source": [
    "# concat the three age groups\n",
    "abc_df = pd.concat([young_abc_df, middle_abc_df, old_abc_df], axis=1)\n",
    "#abc_df = abc_df.dropna()#\n",
    "#abc_df = abc_df.fillna(0)"
   ]
  },
  {
   "cell_type": "code",
   "execution_count": 17,
   "id": "c621d132",
   "metadata": {
    "execution": {
     "iopub.execute_input": "2024-12-08T03:33:58.874302Z",
     "iopub.status.busy": "2024-12-08T03:33:58.874061Z",
     "iopub.status.idle": "2024-12-08T03:34:01.904104Z",
     "shell.execute_reply": "2024-12-08T03:34:01.903526Z"
    },
    "papermill": {
     "duration": 3.035113,
     "end_time": "2024-12-08T03:34:01.905316",
     "exception": false,
     "start_time": "2024-12-08T03:33:58.870203",
     "status": "completed"
    },
    "tags": []
   },
   "outputs": [
    {
     "data": {
      "text/html": [
       "<div>\n",
       "<style scoped>\n",
       "    .dataframe tbody tr th:only-of-type {\n",
       "        vertical-align: middle;\n",
       "    }\n",
       "\n",
       "    .dataframe tbody tr th {\n",
       "        vertical-align: top;\n",
       "    }\n",
       "\n",
       "    .dataframe thead th {\n",
       "        text-align: right;\n",
       "    }\n",
       "</style>\n",
       "<table border=\"1\" class=\"dataframe\">\n",
       "  <thead>\n",
       "    <tr style=\"text-align: right;\">\n",
       "      <th></th>\n",
       "      <th>2mo.activity</th>\n",
       "      <th>2mo.contact</th>\n",
       "      <th>2mo.abc_score</th>\n",
       "      <th>9mo.activity</th>\n",
       "      <th>9mo.contact</th>\n",
       "      <th>9mo.abc_score</th>\n",
       "      <th>18mo.activity</th>\n",
       "      <th>18mo.contact</th>\n",
       "      <th>18mo.abc_score</th>\n",
       "      <th>chr</th>\n",
       "      <th>start</th>\n",
       "      <th>end</th>\n",
       "      <th>gene_id</th>\n",
       "      <th>gene_name</th>\n",
       "      <th>gene_start</th>\n",
       "      <th>gene_end</th>\n",
       "    </tr>\n",
       "  </thead>\n",
       "  <tbody>\n",
       "    <tr>\n",
       "      <th>chr1-3377606-3377776-ENSMUSG00000051951</th>\n",
       "      <td>0.851065</td>\n",
       "      <td>14.0</td>\n",
       "      <td>0.026126</td>\n",
       "      <td>NaN</td>\n",
       "      <td>NaN</td>\n",
       "      <td>NaN</td>\n",
       "      <td>NaN</td>\n",
       "      <td>NaN</td>\n",
       "      <td>NaN</td>\n",
       "      <td>chr1</td>\n",
       "      <td>3377606</td>\n",
       "      <td>3377776</td>\n",
       "      <td>ENSMUSG00000051951</td>\n",
       "      <td>Xkr4</td>\n",
       "      <td>3205901</td>\n",
       "      <td>3671498</td>\n",
       "    </tr>\n",
       "    <tr>\n",
       "      <th>chr1-3427968-3428158-ENSMUSG00000051951</th>\n",
       "      <td>0.633718</td>\n",
       "      <td>19.0</td>\n",
       "      <td>0.026402</td>\n",
       "      <td>NaN</td>\n",
       "      <td>NaN</td>\n",
       "      <td>NaN</td>\n",
       "      <td>0.536358</td>\n",
       "      <td>27.0</td>\n",
       "      <td>0.027353</td>\n",
       "      <td>chr1</td>\n",
       "      <td>3427968</td>\n",
       "      <td>3428158</td>\n",
       "      <td>ENSMUSG00000051951</td>\n",
       "      <td>Xkr4</td>\n",
       "      <td>3205901</td>\n",
       "      <td>3671498</td>\n",
       "    </tr>\n",
       "    <tr>\n",
       "      <th>chr1-3466656-3466687-ENSMUSG00000051951</th>\n",
       "      <td>0.982034</td>\n",
       "      <td>10.0</td>\n",
       "      <td>0.021533</td>\n",
       "      <td>0.977607</td>\n",
       "      <td>14.0</td>\n",
       "      <td>0.028763</td>\n",
       "      <td>0.974313</td>\n",
       "      <td>13.0</td>\n",
       "      <td>0.023924</td>\n",
       "      <td>chr1</td>\n",
       "      <td>3466656</td>\n",
       "      <td>3466687</td>\n",
       "      <td>ENSMUSG00000051951</td>\n",
       "      <td>Xkr4</td>\n",
       "      <td>3205901</td>\n",
       "      <td>3671498</td>\n",
       "    </tr>\n",
       "    <tr>\n",
       "      <th>chr1-3515028-3515522-ENSMUSG00000051951</th>\n",
       "      <td>0.672663</td>\n",
       "      <td>21.0</td>\n",
       "      <td>0.030974</td>\n",
       "      <td>0.672572</td>\n",
       "      <td>16.0</td>\n",
       "      <td>0.022615</td>\n",
       "      <td>NaN</td>\n",
       "      <td>NaN</td>\n",
       "      <td>NaN</td>\n",
       "      <td>chr1</td>\n",
       "      <td>3515028</td>\n",
       "      <td>3515522</td>\n",
       "      <td>ENSMUSG00000051951</td>\n",
       "      <td>Xkr4</td>\n",
       "      <td>3205901</td>\n",
       "      <td>3671498</td>\n",
       "    </tr>\n",
       "    <tr>\n",
       "      <th>chr1-3540806-3540973-ENSMUSG00000051951</th>\n",
       "      <td>0.767304</td>\n",
       "      <td>12.0</td>\n",
       "      <td>0.020190</td>\n",
       "      <td>0.799047</td>\n",
       "      <td>13.0</td>\n",
       "      <td>0.021830</td>\n",
       "      <td>0.747663</td>\n",
       "      <td>25.0</td>\n",
       "      <td>0.035305</td>\n",
       "      <td>chr1</td>\n",
       "      <td>3540806</td>\n",
       "      <td>3540973</td>\n",
       "      <td>ENSMUSG00000051951</td>\n",
       "      <td>Xkr4</td>\n",
       "      <td>3205901</td>\n",
       "      <td>3671498</td>\n",
       "    </tr>\n",
       "    <tr>\n",
       "      <th>...</th>\n",
       "      <td>...</td>\n",
       "      <td>...</td>\n",
       "      <td>...</td>\n",
       "      <td>...</td>\n",
       "      <td>...</td>\n",
       "      <td>...</td>\n",
       "      <td>...</td>\n",
       "      <td>...</td>\n",
       "      <td>...</td>\n",
       "      <td>...</td>\n",
       "      <td>...</td>\n",
       "      <td>...</td>\n",
       "      <td>...</td>\n",
       "      <td>...</td>\n",
       "      <td>...</td>\n",
       "      <td>...</td>\n",
       "    </tr>\n",
       "    <tr>\n",
       "      <th>chr8-26975709-26976159-ENSMUSG00000109621</th>\n",
       "      <td>NaN</td>\n",
       "      <td>NaN</td>\n",
       "      <td>NaN</td>\n",
       "      <td>NaN</td>\n",
       "      <td>NaN</td>\n",
       "      <td>NaN</td>\n",
       "      <td>0.747725</td>\n",
       "      <td>42.0</td>\n",
       "      <td>0.025272</td>\n",
       "      <td>chr8</td>\n",
       "      <td>26975709</td>\n",
       "      <td>26976159</td>\n",
       "      <td>ENSMUSG00000109621</td>\n",
       "      <td>Gm45370</td>\n",
       "      <td>26996250</td>\n",
       "      <td>26998954</td>\n",
       "    </tr>\n",
       "    <tr>\n",
       "      <th>chr14-51885849-51886248-ENSMUSG00000115698</th>\n",
       "      <td>NaN</td>\n",
       "      <td>NaN</td>\n",
       "      <td>NaN</td>\n",
       "      <td>NaN</td>\n",
       "      <td>NaN</td>\n",
       "      <td>NaN</td>\n",
       "      <td>0.544710</td>\n",
       "      <td>98.0</td>\n",
       "      <td>0.021291</td>\n",
       "      <td>chr14</td>\n",
       "      <td>51885849</td>\n",
       "      <td>51886248</td>\n",
       "      <td>ENSMUSG00000115698</td>\n",
       "      <td>Gm49076</td>\n",
       "      <td>51926264</td>\n",
       "      <td>51929660</td>\n",
       "    </tr>\n",
       "    <tr>\n",
       "      <th>chr14-51927529-51928209-ENSMUSG00000115698</th>\n",
       "      <td>NaN</td>\n",
       "      <td>NaN</td>\n",
       "      <td>NaN</td>\n",
       "      <td>NaN</td>\n",
       "      <td>NaN</td>\n",
       "      <td>NaN</td>\n",
       "      <td>0.606250</td>\n",
       "      <td>104.0</td>\n",
       "      <td>0.025147</td>\n",
       "      <td>chr14</td>\n",
       "      <td>51927529</td>\n",
       "      <td>51928209</td>\n",
       "      <td>ENSMUSG00000115698</td>\n",
       "      <td>Gm49076</td>\n",
       "      <td>51926264</td>\n",
       "      <td>51929660</td>\n",
       "    </tr>\n",
       "    <tr>\n",
       "      <th>chr17-91747274-91747477-ENSMUSG00000117417</th>\n",
       "      <td>NaN</td>\n",
       "      <td>NaN</td>\n",
       "      <td>NaN</td>\n",
       "      <td>NaN</td>\n",
       "      <td>NaN</td>\n",
       "      <td>NaN</td>\n",
       "      <td>0.543962</td>\n",
       "      <td>17.0</td>\n",
       "      <td>0.023660</td>\n",
       "      <td>chr17</td>\n",
       "      <td>91747274</td>\n",
       "      <td>91747477</td>\n",
       "      <td>ENSMUSG00000117417</td>\n",
       "      <td>Gm49991</td>\n",
       "      <td>91566104</td>\n",
       "      <td>91628471</td>\n",
       "    </tr>\n",
       "    <tr>\n",
       "      <th>chr17-91563406-91563743-ENSMUSG00000117417</th>\n",
       "      <td>NaN</td>\n",
       "      <td>NaN</td>\n",
       "      <td>NaN</td>\n",
       "      <td>NaN</td>\n",
       "      <td>NaN</td>\n",
       "      <td>NaN</td>\n",
       "      <td>0.499683</td>\n",
       "      <td>19.0</td>\n",
       "      <td>0.024291</td>\n",
       "      <td>chr17</td>\n",
       "      <td>91563406</td>\n",
       "      <td>91563743</td>\n",
       "      <td>ENSMUSG00000117417</td>\n",
       "      <td>Gm49991</td>\n",
       "      <td>91566104</td>\n",
       "      <td>91628471</td>\n",
       "    </tr>\n",
       "  </tbody>\n",
       "</table>\n",
       "<p>139267 rows × 16 columns</p>\n",
       "</div>"
      ],
      "text/plain": [
       "                                            2mo.activity  2mo.contact  \\\n",
       "chr1-3377606-3377776-ENSMUSG00000051951         0.851065         14.0   \n",
       "chr1-3427968-3428158-ENSMUSG00000051951         0.633718         19.0   \n",
       "chr1-3466656-3466687-ENSMUSG00000051951         0.982034         10.0   \n",
       "chr1-3515028-3515522-ENSMUSG00000051951         0.672663         21.0   \n",
       "chr1-3540806-3540973-ENSMUSG00000051951         0.767304         12.0   \n",
       "...                                                  ...          ...   \n",
       "chr8-26975709-26976159-ENSMUSG00000109621            NaN          NaN   \n",
       "chr14-51885849-51886248-ENSMUSG00000115698           NaN          NaN   \n",
       "chr14-51927529-51928209-ENSMUSG00000115698           NaN          NaN   \n",
       "chr17-91747274-91747477-ENSMUSG00000117417           NaN          NaN   \n",
       "chr17-91563406-91563743-ENSMUSG00000117417           NaN          NaN   \n",
       "\n",
       "                                            2mo.abc_score  9mo.activity  \\\n",
       "chr1-3377606-3377776-ENSMUSG00000051951          0.026126           NaN   \n",
       "chr1-3427968-3428158-ENSMUSG00000051951          0.026402           NaN   \n",
       "chr1-3466656-3466687-ENSMUSG00000051951          0.021533      0.977607   \n",
       "chr1-3515028-3515522-ENSMUSG00000051951          0.030974      0.672572   \n",
       "chr1-3540806-3540973-ENSMUSG00000051951          0.020190      0.799047   \n",
       "...                                                   ...           ...   \n",
       "chr8-26975709-26976159-ENSMUSG00000109621             NaN           NaN   \n",
       "chr14-51885849-51886248-ENSMUSG00000115698            NaN           NaN   \n",
       "chr14-51927529-51928209-ENSMUSG00000115698            NaN           NaN   \n",
       "chr17-91747274-91747477-ENSMUSG00000117417            NaN           NaN   \n",
       "chr17-91563406-91563743-ENSMUSG00000117417            NaN           NaN   \n",
       "\n",
       "                                            9mo.contact  9mo.abc_score  \\\n",
       "chr1-3377606-3377776-ENSMUSG00000051951             NaN            NaN   \n",
       "chr1-3427968-3428158-ENSMUSG00000051951             NaN            NaN   \n",
       "chr1-3466656-3466687-ENSMUSG00000051951            14.0       0.028763   \n",
       "chr1-3515028-3515522-ENSMUSG00000051951            16.0       0.022615   \n",
       "chr1-3540806-3540973-ENSMUSG00000051951            13.0       0.021830   \n",
       "...                                                 ...            ...   \n",
       "chr8-26975709-26976159-ENSMUSG00000109621           NaN            NaN   \n",
       "chr14-51885849-51886248-ENSMUSG00000115698          NaN            NaN   \n",
       "chr14-51927529-51928209-ENSMUSG00000115698          NaN            NaN   \n",
       "chr17-91747274-91747477-ENSMUSG00000117417          NaN            NaN   \n",
       "chr17-91563406-91563743-ENSMUSG00000117417          NaN            NaN   \n",
       "\n",
       "                                            18mo.activity  18mo.contact  \\\n",
       "chr1-3377606-3377776-ENSMUSG00000051951               NaN           NaN   \n",
       "chr1-3427968-3428158-ENSMUSG00000051951          0.536358          27.0   \n",
       "chr1-3466656-3466687-ENSMUSG00000051951          0.974313          13.0   \n",
       "chr1-3515028-3515522-ENSMUSG00000051951               NaN           NaN   \n",
       "chr1-3540806-3540973-ENSMUSG00000051951          0.747663          25.0   \n",
       "...                                                   ...           ...   \n",
       "chr8-26975709-26976159-ENSMUSG00000109621        0.747725          42.0   \n",
       "chr14-51885849-51886248-ENSMUSG00000115698       0.544710          98.0   \n",
       "chr14-51927529-51928209-ENSMUSG00000115698       0.606250         104.0   \n",
       "chr17-91747274-91747477-ENSMUSG00000117417       0.543962          17.0   \n",
       "chr17-91563406-91563743-ENSMUSG00000117417       0.499683          19.0   \n",
       "\n",
       "                                            18mo.abc_score    chr     start  \\\n",
       "chr1-3377606-3377776-ENSMUSG00000051951                NaN   chr1   3377606   \n",
       "chr1-3427968-3428158-ENSMUSG00000051951           0.027353   chr1   3427968   \n",
       "chr1-3466656-3466687-ENSMUSG00000051951           0.023924   chr1   3466656   \n",
       "chr1-3515028-3515522-ENSMUSG00000051951                NaN   chr1   3515028   \n",
       "chr1-3540806-3540973-ENSMUSG00000051951           0.035305   chr1   3540806   \n",
       "...                                                    ...    ...       ...   \n",
       "chr8-26975709-26976159-ENSMUSG00000109621         0.025272   chr8  26975709   \n",
       "chr14-51885849-51886248-ENSMUSG00000115698        0.021291  chr14  51885849   \n",
       "chr14-51927529-51928209-ENSMUSG00000115698        0.025147  chr14  51927529   \n",
       "chr17-91747274-91747477-ENSMUSG00000117417        0.023660  chr17  91747274   \n",
       "chr17-91563406-91563743-ENSMUSG00000117417        0.024291  chr17  91563406   \n",
       "\n",
       "                                                 end             gene_id  \\\n",
       "chr1-3377606-3377776-ENSMUSG00000051951      3377776  ENSMUSG00000051951   \n",
       "chr1-3427968-3428158-ENSMUSG00000051951      3428158  ENSMUSG00000051951   \n",
       "chr1-3466656-3466687-ENSMUSG00000051951      3466687  ENSMUSG00000051951   \n",
       "chr1-3515028-3515522-ENSMUSG00000051951      3515522  ENSMUSG00000051951   \n",
       "chr1-3540806-3540973-ENSMUSG00000051951      3540973  ENSMUSG00000051951   \n",
       "...                                              ...                 ...   \n",
       "chr8-26975709-26976159-ENSMUSG00000109621   26976159  ENSMUSG00000109621   \n",
       "chr14-51885849-51886248-ENSMUSG00000115698  51886248  ENSMUSG00000115698   \n",
       "chr14-51927529-51928209-ENSMUSG00000115698  51928209  ENSMUSG00000115698   \n",
       "chr17-91747274-91747477-ENSMUSG00000117417  91747477  ENSMUSG00000117417   \n",
       "chr17-91563406-91563743-ENSMUSG00000117417  91563743  ENSMUSG00000117417   \n",
       "\n",
       "                                           gene_name  gene_start  gene_end  \n",
       "chr1-3377606-3377776-ENSMUSG00000051951         Xkr4     3205901   3671498  \n",
       "chr1-3427968-3428158-ENSMUSG00000051951         Xkr4     3205901   3671498  \n",
       "chr1-3466656-3466687-ENSMUSG00000051951         Xkr4     3205901   3671498  \n",
       "chr1-3515028-3515522-ENSMUSG00000051951         Xkr4     3205901   3671498  \n",
       "chr1-3540806-3540973-ENSMUSG00000051951         Xkr4     3205901   3671498  \n",
       "...                                              ...         ...       ...  \n",
       "chr8-26975709-26976159-ENSMUSG00000109621    Gm45370    26996250  26998954  \n",
       "chr14-51885849-51886248-ENSMUSG00000115698   Gm49076    51926264  51929660  \n",
       "chr14-51927529-51928209-ENSMUSG00000115698   Gm49076    51926264  51929660  \n",
       "chr17-91747274-91747477-ENSMUSG00000117417   Gm49991    91566104  91628471  \n",
       "chr17-91563406-91563743-ENSMUSG00000117417   Gm49991    91566104  91628471  \n",
       "\n",
       "[139267 rows x 16 columns]"
      ]
     },
     "execution_count": 17,
     "metadata": {},
     "output_type": "execute_result"
    }
   ],
   "source": [
    "abc_df['chr'] = abc_df.index.map(lambda x: x.split('-')[0])\n",
    "abc_df['start'] = abc_df.index.map(lambda x: int(x.split('-')[1]))\n",
    "abc_df['end'] = abc_df.index.map(lambda x: int(x.split('-')[2]))\n",
    "abc_df['gene_id'] = abc_df.index.map(lambda x: x.split('-')[3])\n",
    "abc_df['gene_name'] = abc_df['gene_id'].map(lambda x: mouse_genes.loc[x,'gene_name'])\n",
    "\n",
    "abc_df['gene_start'] = abc_df['gene_id'].map(lambda x: mouse_genes.loc[x,'start'])\n",
    "abc_df['gene_end'] = abc_df['gene_id'].map(lambda x: mouse_genes.loc[x,'end'])\n",
    "#abc_df['gene_length'] = abc_df['gene_end'] - abc_df['gene_start']\n",
    "#abc_df['contact_distance'] = abs(abc_df['end'] - abc_df['start'])\n",
    "# add eg_distance, based on the start is more close to gene_start ot gene_end; use the smaller absolute value\n",
    "#abc_df['eg_distance'] = np.minimum(abs(abc_df['start'] - abc_df['gene_start']), abs(abc_df['start'] - abc_df['gene_end']))\n",
    "#abc_df drop chr, start, end, gene_start, gene_end\n",
    "#abc_df = abc_df.drop(columns=['chr','start','end','gene_start','gene_end'])\n",
    "abc_df\n"
   ]
  },
  {
   "cell_type": "code",
   "execution_count": 18,
   "id": "a3742076",
   "metadata": {
    "execution": {
     "iopub.execute_input": "2024-12-08T03:34:01.913567Z",
     "iopub.status.busy": "2024-12-08T03:34:01.913337Z",
     "iopub.status.idle": "2024-12-08T03:34:02.929354Z",
     "shell.execute_reply": "2024-12-08T03:34:02.928536Z"
    },
    "papermill": {
     "duration": 1.021831,
     "end_time": "2024-12-08T03:34:02.930934",
     "exception": false,
     "start_time": "2024-12-08T03:34:01.909103",
     "status": "completed"
    },
    "tags": []
   },
   "outputs": [],
   "source": [
    "abc_df.to_csv(f'{home_dir}/ml_input/{ct}/{ct}.abc_enhancer.DMR_gene.csv', index=None)"
   ]
  },
  {
   "cell_type": "code",
   "execution_count": null,
   "id": "7a967827",
   "metadata": {
    "papermill": {
     "duration": 0.003328,
     "end_time": "2024-12-08T03:34:02.938039",
     "exception": false,
     "start_time": "2024-12-08T03:34:02.934711",
     "status": "completed"
    },
    "tags": []
   },
   "outputs": [],
   "source": []
  },
  {
   "cell_type": "code",
   "execution_count": null,
   "id": "576121ec",
   "metadata": {
    "papermill": {
     "duration": 0.003308,
     "end_time": "2024-12-08T03:34:02.944639",
     "exception": false,
     "start_time": "2024-12-08T03:34:02.941331",
     "status": "completed"
    },
    "tags": []
   },
   "outputs": [],
   "source": []
  }
 ],
 "metadata": {
  "kernelspec": {
   "display_name": "base",
   "language": "python",
   "name": "python3"
  },
  "language_info": {
   "codemirror_mode": {
    "name": "ipython",
    "version": 3
   },
   "file_extension": ".py",
   "mimetype": "text/x-python",
   "name": "python",
   "nbconvert_exporter": "python",
   "pygments_lexer": "ipython3",
   "version": "3.10.12"
  },
  "papermill": {
   "default_parameters": {},
   "duration": 7.440717,
   "end_time": "2024-12-08T03:34:03.163815",
   "environment_variables": {},
   "exception": null,
   "input_path": "/home/qzeng_salk_edu/project/241018_pre_ml/gen_ml_input/notebooks/01.pre_dmr.ipynb",
   "output_path": "Astro-TE_NN/01.pre_dmr.ipynb",
   "parameters": {
    "cpu": 8,
    "group_name": "Astro-TE_NN",
    "mem_gb": 10
   },
   "start_time": "2024-12-08T03:33:55.723098",
   "version": "2.4.0"
  }
 },
 "nbformat": 4,
 "nbformat_minor": 5
}