{
 "cells": [
  {
   "cell_type": "code",
   "execution_count": 1,
   "id": "49c83b16",
   "metadata": {
    "execution": {
     "iopub.execute_input": "2024-12-08T03:36:14.494932Z",
     "iopub.status.busy": "2024-12-08T03:36:14.494475Z",
     "iopub.status.idle": "2024-12-08T03:36:14.499850Z",
     "shell.execute_reply": "2024-12-08T03:36:14.499432Z"
    },
    "papermill": {
     "duration": 0.010276,
     "end_time": "2024-12-08T03:36:14.500864",
     "exception": false,
     "start_time": "2024-12-08T03:36:14.490588",
     "status": "completed"
    },
    "tags": [
     "injected-parameters"
    ]
   },
   "outputs": [],
   "source": [
    "# Parameters\n",
    "cpu = 8\n",
    "group_name = \"Astro-TE_NN\"\n",
    "mem_gb = 10\n"
   ]
  },
  {
   "cell_type": "code",
   "execution_count": 2,
   "id": "ab8a22b8",
   "metadata": {
    "execution": {
     "iopub.execute_input": "2024-12-08T03:36:14.506547Z",
     "iopub.status.busy": "2024-12-08T03:36:14.506195Z",
     "iopub.status.idle": "2024-12-08T03:36:15.295433Z",
     "shell.execute_reply": "2024-12-08T03:36:15.294785Z"
    },
    "papermill": {
     "duration": 0.79381,
     "end_time": "2024-12-08T03:36:15.297158",
     "exception": false,
     "start_time": "2024-12-08T03:36:14.503348",
     "status": "completed"
    },
    "tags": []
   },
   "outputs": [],
   "source": [
    "import pandas as pd\n",
    "from scipy.stats import norm, zscore\n",
    "import numpy as np\n",
    "import seaborn as sns\n",
    "import subprocess\n",
    "import matplotlib.pyplot as plt "
   ]
  },
  {
   "cell_type": "code",
   "execution_count": 3,
   "id": "cb4f25ce",
   "metadata": {
    "execution": {
     "iopub.execute_input": "2024-12-08T03:36:15.303079Z",
     "iopub.status.busy": "2024-12-08T03:36:15.302841Z",
     "iopub.status.idle": "2024-12-08T03:36:15.305590Z",
     "shell.execute_reply": "2024-12-08T03:36:15.305079Z"
    },
    "papermill": {
     "duration": 0.006758,
     "end_time": "2024-12-08T03:36:15.306603",
     "exception": false,
     "start_time": "2024-12-08T03:36:15.299845",
     "status": "completed"
    },
    "tags": []
   },
   "outputs": [],
   "source": [
    "#group_name = 'DG_Glut'"
   ]
  },
  {
   "cell_type": "code",
   "execution_count": 4,
   "id": "9ead9042",
   "metadata": {
    "execution": {
     "iopub.execute_input": "2024-12-08T03:36:15.311941Z",
     "iopub.status.busy": "2024-12-08T03:36:15.311776Z",
     "iopub.status.idle": "2024-12-08T03:36:15.314306Z",
     "shell.execute_reply": "2024-12-08T03:36:15.313797Z"
    },
    "papermill": {
     "duration": 0.006442,
     "end_time": "2024-12-08T03:36:15.315333",
     "exception": false,
     "start_time": "2024-12-08T03:36:15.308891",
     "status": "completed"
    },
    "tags": []
   },
   "outputs": [],
   "source": [
    "home_dir = '/home/qzeng_salk_edu/project/241018_pre_ml'\n",
    "ct = group_name"
   ]
  },
  {
   "cell_type": "code",
   "execution_count": 5,
   "id": "9f8291f6",
   "metadata": {
    "execution": {
     "iopub.execute_input": "2024-12-08T03:36:15.320568Z",
     "iopub.status.busy": "2024-12-08T03:36:15.320405Z",
     "iopub.status.idle": "2024-12-08T03:36:15.322904Z",
     "shell.execute_reply": "2024-12-08T03:36:15.322370Z"
    },
    "papermill": {
     "duration": 0.006326,
     "end_time": "2024-12-08T03:36:15.323945",
     "exception": false,
     "start_time": "2024-12-08T03:36:15.317619",
     "status": "completed"
    },
    "tags": []
   },
   "outputs": [],
   "source": [
    "loop_dir = '/data/female-amb/Diff.Result/loop_ct_age/diff'"
   ]
  },
  {
   "cell_type": "code",
   "execution_count": 6,
   "id": "7da8032f",
   "metadata": {
    "execution": {
     "iopub.execute_input": "2024-12-08T03:36:15.329195Z",
     "iopub.status.busy": "2024-12-08T03:36:15.329007Z",
     "iopub.status.idle": "2024-12-08T03:36:16.072205Z",
     "shell.execute_reply": "2024-12-08T03:36:16.071620Z"
    },
    "papermill": {
     "duration": 0.747623,
     "end_time": "2024-12-08T03:36:16.073822",
     "exception": false,
     "start_time": "2024-12-08T03:36:15.326199",
     "status": "completed"
    },
    "tags": []
   },
   "outputs": [],
   "source": [
    "loopq = pd.read_hdf(f'{loop_dir}/{ct}/loop_Q.hdf', key='data')\n",
    "loopt = pd.read_hdf(f'{loop_dir}/{ct}/loop_T.hdf', key='data')\n",
    "\n",
    "loopq.columns = [f\"{ct}.2mo.Q\", f\"{ct}.9mo.Q\", f\"{ct}.18mo.Q\"]\n",
    "loopt.columns = [f\"{ct}.2mo.T\", f\"{ct}.9mo.T\", f\"{ct}.18mo.T\"]"
   ]
  },
  {
   "cell_type": "code",
   "execution_count": 7,
   "id": "5341ceec",
   "metadata": {
    "execution": {
     "iopub.execute_input": "2024-12-08T03:36:16.079938Z",
     "iopub.status.busy": "2024-12-08T03:36:16.079736Z",
     "iopub.status.idle": "2024-12-08T03:36:17.758852Z",
     "shell.execute_reply": "2024-12-08T03:36:17.758151Z"
    },
    "papermill": {
     "duration": 1.683477,
     "end_time": "2024-12-08T03:36:17.760068",
     "exception": false,
     "start_time": "2024-12-08T03:36:16.076591",
     "status": "completed"
    },
    "tags": []
   },
   "outputs": [
    {
     "data": {
      "text/html": [
       "<div>\n",
       "<style scoped>\n",
       "    .dataframe tbody tr th:only-of-type {\n",
       "        vertical-align: middle;\n",
       "    }\n",
       "\n",
       "    .dataframe tbody tr th {\n",
       "        vertical-align: top;\n",
       "    }\n",
       "\n",
       "    .dataframe thead th {\n",
       "        text-align: right;\n",
       "    }\n",
       "</style>\n",
       "<table border=\"1\" class=\"dataframe\">\n",
       "  <thead>\n",
       "    <tr style=\"text-align: right;\">\n",
       "      <th></th>\n",
       "      <th>0</th>\n",
       "      <th>1</th>\n",
       "      <th>2</th>\n",
       "      <th>3</th>\n",
       "      <th>4</th>\n",
       "      <th>5</th>\n",
       "      <th>Qanova</th>\n",
       "      <th>Eanova</th>\n",
       "      <th>Tanova</th>\n",
       "      <th>Astro-TE_NN.2mo.Q</th>\n",
       "      <th>Astro-TE_NN.9mo.Q</th>\n",
       "      <th>Astro-TE_NN.18mo.Q</th>\n",
       "      <th>Astro-TE_NN.2mo.T</th>\n",
       "      <th>Astro-TE_NN.9mo.T</th>\n",
       "      <th>Astro-TE_NN.18mo.T</th>\n",
       "    </tr>\n",
       "  </thead>\n",
       "  <tbody>\n",
       "    <tr>\n",
       "      <th>0</th>\n",
       "      <td>chr1</td>\n",
       "      <td>4480000</td>\n",
       "      <td>4490000</td>\n",
       "      <td>chr1</td>\n",
       "      <td>4750000</td>\n",
       "      <td>4760000</td>\n",
       "      <td>0.183779</td>\n",
       "      <td>1.465435</td>\n",
       "      <td>1.146258</td>\n",
       "      <td>0.004058</td>\n",
       "      <td>0.003762</td>\n",
       "      <td>0.003847</td>\n",
       "      <td>0.274210</td>\n",
       "      <td>0.218420</td>\n",
       "      <td>0.228002</td>\n",
       "    </tr>\n",
       "    <tr>\n",
       "      <th>1</th>\n",
       "      <td>chr1</td>\n",
       "      <td>4480000</td>\n",
       "      <td>4490000</td>\n",
       "      <td>chr1</td>\n",
       "      <td>4760000</td>\n",
       "      <td>4770000</td>\n",
       "      <td>0.799520</td>\n",
       "      <td>0.909355</td>\n",
       "      <td>0.632955</td>\n",
       "      <td>0.004602</td>\n",
       "      <td>0.003975</td>\n",
       "      <td>0.004071</td>\n",
       "      <td>0.294052</td>\n",
       "      <td>0.248998</td>\n",
       "      <td>0.269647</td>\n",
       "    </tr>\n",
       "    <tr>\n",
       "      <th>2</th>\n",
       "      <td>chr1</td>\n",
       "      <td>4490000</td>\n",
       "      <td>4500000</td>\n",
       "      <td>chr1</td>\n",
       "      <td>4750000</td>\n",
       "      <td>4760000</td>\n",
       "      <td>0.082422</td>\n",
       "      <td>1.363373</td>\n",
       "      <td>0.463700</td>\n",
       "      <td>0.004666</td>\n",
       "      <td>0.004642</td>\n",
       "      <td>0.004455</td>\n",
       "      <td>0.300205</td>\n",
       "      <td>0.262034</td>\n",
       "      <td>0.274437</td>\n",
       "    </tr>\n",
       "    <tr>\n",
       "      <th>3</th>\n",
       "      <td>chr1</td>\n",
       "      <td>4490000</td>\n",
       "      <td>4500000</td>\n",
       "      <td>chr1</td>\n",
       "      <td>4760000</td>\n",
       "      <td>4770000</td>\n",
       "      <td>0.054755</td>\n",
       "      <td>0.984268</td>\n",
       "      <td>0.228385</td>\n",
       "      <td>0.004900</td>\n",
       "      <td>0.005079</td>\n",
       "      <td>0.004913</td>\n",
       "      <td>0.315871</td>\n",
       "      <td>0.295557</td>\n",
       "      <td>0.322144</td>\n",
       "    </tr>\n",
       "    <tr>\n",
       "      <th>4</th>\n",
       "      <td>chr1</td>\n",
       "      <td>4500000</td>\n",
       "      <td>4510000</td>\n",
       "      <td>chr1</td>\n",
       "      <td>4740000</td>\n",
       "      <td>4750000</td>\n",
       "      <td>0.082489</td>\n",
       "      <td>1.435242</td>\n",
       "      <td>0.298939</td>\n",
       "      <td>0.004068</td>\n",
       "      <td>0.003965</td>\n",
       "      <td>0.004174</td>\n",
       "      <td>0.226451</td>\n",
       "      <td>0.208471</td>\n",
       "      <td>0.239040</td>\n",
       "    </tr>\n",
       "  </tbody>\n",
       "</table>\n",
       "</div>"
      ],
      "text/plain": [
       "      0        1        2     3        4        5    Qanova    Eanova  \\\n",
       "0  chr1  4480000  4490000  chr1  4750000  4760000  0.183779  1.465435   \n",
       "1  chr1  4480000  4490000  chr1  4760000  4770000  0.799520  0.909355   \n",
       "2  chr1  4490000  4500000  chr1  4750000  4760000  0.082422  1.363373   \n",
       "3  chr1  4490000  4500000  chr1  4760000  4770000  0.054755  0.984268   \n",
       "4  chr1  4500000  4510000  chr1  4740000  4750000  0.082489  1.435242   \n",
       "\n",
       "     Tanova  Astro-TE_NN.2mo.Q  Astro-TE_NN.9mo.Q  Astro-TE_NN.18mo.Q  \\\n",
       "0  1.146258           0.004058           0.003762            0.003847   \n",
       "1  0.632955           0.004602           0.003975            0.004071   \n",
       "2  0.463700           0.004666           0.004642            0.004455   \n",
       "3  0.228385           0.004900           0.005079            0.004913   \n",
       "4  0.298939           0.004068           0.003965            0.004174   \n",
       "\n",
       "   Astro-TE_NN.2mo.T  Astro-TE_NN.9mo.T  Astro-TE_NN.18mo.T  \n",
       "0           0.274210           0.218420            0.228002  \n",
       "1           0.294052           0.248998            0.269647  \n",
       "2           0.300205           0.262034            0.274437  \n",
       "3           0.315871           0.295557            0.322144  \n",
       "4           0.226451           0.208471            0.239040  "
      ]
     },
     "execution_count": 7,
     "metadata": {},
     "output_type": "execute_result"
    }
   ],
   "source": [
    "loopall = pd.read_hdf(f\"{loop_dir}/{ct}/merged_loop.hdf\")\n",
    "loopall = pd.concat([loopall, loopq, loopt], axis = 1)\n",
    "loopall.head()"
   ]
  },
  {
   "cell_type": "code",
   "execution_count": 8,
   "id": "ff78e1e6",
   "metadata": {
    "execution": {
     "iopub.execute_input": "2024-12-08T03:36:17.766981Z",
     "iopub.status.busy": "2024-12-08T03:36:17.766377Z",
     "iopub.status.idle": "2024-12-08T03:36:17.780130Z",
     "shell.execute_reply": "2024-12-08T03:36:17.779548Z"
    },
    "papermill": {
     "duration": 0.018239,
     "end_time": "2024-12-08T03:36:17.781147",
     "exception": false,
     "start_time": "2024-12-08T03:36:17.762908",
     "status": "completed"
    },
    "tags": []
   },
   "outputs": [
    {
     "data": {
      "text/plain": [
       "29515"
      ]
     },
     "execution_count": 8,
     "metadata": {},
     "output_type": "execute_result"
    }
   ],
   "source": [
    "sell = ((zscore(np.log(loopall['Qanova']))>norm.isf(0.2)) & \n",
    "        (zscore(np.log(loopall['Tanova']))>norm.isf(0.2)) )\n",
    "sell.sum()"
   ]
  },
  {
   "cell_type": "code",
   "execution_count": 9,
   "id": "4a5ce854",
   "metadata": {
    "execution": {
     "iopub.execute_input": "2024-12-08T03:36:17.787676Z",
     "iopub.status.busy": "2024-12-08T03:36:17.787204Z",
     "iopub.status.idle": "2024-12-08T03:36:20.562580Z",
     "shell.execute_reply": "2024-12-08T03:36:20.562030Z"
    },
    "papermill": {
     "duration": 2.780678,
     "end_time": "2024-12-08T03:36:20.564441",
     "exception": false,
     "start_time": "2024-12-08T03:36:17.783763",
     "status": "completed"
    },
    "tags": []
   },
   "outputs": [],
   "source": [
    "loopall['Diff_Loop'] = 0\n",
    "loopall.loc[sell, 'Diff_Loop'] = 1\n",
    "loopall.to_csv(f\"{ct}.anchor1_loop.bed\", sep = '\\t', header = False, index = False)"
   ]
  },
  {
   "cell_type": "code",
   "execution_count": 10,
   "id": "baee6628",
   "metadata": {
    "execution": {
     "iopub.execute_input": "2024-12-08T03:36:20.575266Z",
     "iopub.status.busy": "2024-12-08T03:36:20.574459Z",
     "iopub.status.idle": "2024-12-08T03:36:23.295534Z",
     "shell.execute_reply": "2024-12-08T03:36:23.295014Z"
    },
    "papermill": {
     "duration": 2.728069,
     "end_time": "2024-12-08T03:36:23.297154",
     "exception": false,
     "start_time": "2024-12-08T03:36:20.569085",
     "status": "completed"
    },
    "tags": []
   },
   "outputs": [],
   "source": [
    "# move columns 3 4 5 in to the first three\n",
    "cols = loopall.columns.tolist()\n",
    "cols = cols[3:6] + cols[:3] + cols[6:] \n",
    "loopall = loopall[cols]\n",
    "loopall.to_csv(f\"{ct}.anchor2_loop.bed\", sep = '\\t', header = False, index = False)"
   ]
  },
  {
   "cell_type": "code",
   "execution_count": 11,
   "id": "2543425c",
   "metadata": {
    "execution": {
     "iopub.execute_input": "2024-12-08T03:36:23.304355Z",
     "iopub.status.busy": "2024-12-08T03:36:23.304177Z",
     "iopub.status.idle": "2024-12-08T03:36:24.773549Z",
     "shell.execute_reply": "2024-12-08T03:36:24.772944Z"
    },
    "papermill": {
     "duration": 1.474676,
     "end_time": "2024-12-08T03:36:24.774786",
     "exception": false,
     "start_time": "2024-12-08T03:36:23.300110",
     "status": "completed"
    },
    "tags": []
   },
   "outputs": [
    {
     "data": {
      "text/plain": [
       "CompletedProcess(args='bedtools intersect -a Astro-TE_NN.anchor2_loop.bed -b /home/qzeng_salk_edu/project/241018_pre_ml/mm10_gene_2kb.bed -wa -wb > Astro-TE_NN.anchor2_loop_gene.bed', returncode=0)"
      ]
     },
     "execution_count": 11,
     "metadata": {},
     "output_type": "execute_result"
    }
   ],
   "source": [
    "# so diff loop as two anchors, so two chro:start-end region, i want to get the intersection with another bed file as long as it intersect with eithe ranhocr\n",
    "command = f\"bedtools intersect -a {ct}.anchor1_loop.bed -b {home_dir}/mm10_gene_2kb.bed -wa -wb > {ct}.anchor1_loop_gene.bed\"\n",
    "subprocess.run(command, shell=True)\n",
    "\n",
    "command = f\"bedtools intersect -a {ct}.anchor2_loop.bed -b {home_dir}/mm10_gene_2kb.bed -wa -wb > {ct}.anchor2_loop_gene.bed\"\n",
    "subprocess.run(command, shell=True)"
   ]
  },
  {
   "cell_type": "code",
   "execution_count": 12,
   "id": "be700e51",
   "metadata": {
    "execution": {
     "iopub.execute_input": "2024-12-08T03:36:24.781560Z",
     "iopub.status.busy": "2024-12-08T03:36:24.781365Z",
     "iopub.status.idle": "2024-12-08T03:36:24.797783Z",
     "shell.execute_reply": "2024-12-08T03:36:24.797268Z"
    },
    "papermill": {
     "duration": 0.021052,
     "end_time": "2024-12-08T03:36:24.798884",
     "exception": false,
     "start_time": "2024-12-08T03:36:24.777832",
     "status": "completed"
    },
    "tags": []
   },
   "outputs": [
    {
     "data": {
      "text/plain": [
       "CompletedProcess(args='rm Astro-TE_NN.anchor2_loop.bed', returncode=0)"
      ]
     },
     "execution_count": 12,
     "metadata": {},
     "output_type": "execute_result"
    }
   ],
   "source": [
    "subprocess.run(f\"rm {ct}.anchor1_loop.bed\", shell=True)\n",
    "subprocess.run(f\"rm {ct}.anchor2_loop.bed\", shell=True)"
   ]
  },
  {
   "cell_type": "code",
   "execution_count": 13,
   "id": "422f9f14",
   "metadata": {
    "execution": {
     "iopub.execute_input": "2024-12-08T03:36:24.805873Z",
     "iopub.status.busy": "2024-12-08T03:36:24.805699Z",
     "iopub.status.idle": "2024-12-08T03:36:25.819104Z",
     "shell.execute_reply": "2024-12-08T03:36:25.818426Z"
    },
    "papermill": {
     "duration": 1.018847,
     "end_time": "2024-12-08T03:36:25.820584",
     "exception": false,
     "start_time": "2024-12-08T03:36:24.801737",
     "status": "completed"
    },
    "tags": []
   },
   "outputs": [],
   "source": [
    "# load the output files and concat\n",
    "anchor1 = pd.read_csv(f\"{ct}.anchor1_loop_gene.bed\", sep = '\\t', header = None)\n",
    "anchor2 = pd.read_csv(f\"{ct}.anchor2_loop_gene.bed\", sep = '\\t', header = None)\n",
    "# concat\n",
    "anchor = pd.concat([anchor1, anchor2], axis = 0)"
   ]
  },
  {
   "cell_type": "code",
   "execution_count": 14,
   "id": "d6d39dcc",
   "metadata": {
    "execution": {
     "iopub.execute_input": "2024-12-08T03:36:25.827740Z",
     "iopub.status.busy": "2024-12-08T03:36:25.827537Z",
     "iopub.status.idle": "2024-12-08T03:36:26.086847Z",
     "shell.execute_reply": "2024-12-08T03:36:26.086123Z"
    },
    "papermill": {
     "duration": 0.264238,
     "end_time": "2024-12-08T03:36:26.088069",
     "exception": false,
     "start_time": "2024-12-08T03:36:25.823831",
     "status": "completed"
    },
    "tags": []
   },
   "outputs": [
    {
     "data": {
      "text/html": [
       "<div>\n",
       "<style scoped>\n",
       "    .dataframe tbody tr th:only-of-type {\n",
       "        vertical-align: middle;\n",
       "    }\n",
       "\n",
       "    .dataframe tbody tr th {\n",
       "        vertical-align: top;\n",
       "    }\n",
       "\n",
       "    .dataframe thead th {\n",
       "        text-align: right;\n",
       "    }\n",
       "</style>\n",
       "<table border=\"1\" class=\"dataframe\">\n",
       "  <thead>\n",
       "    <tr style=\"text-align: right;\">\n",
       "      <th></th>\n",
       "      <th>chrom</th>\n",
       "      <th>anchor1_start</th>\n",
       "      <th>anchor1_end</th>\n",
       "      <th>chrom</th>\n",
       "      <th>anchor2_start</th>\n",
       "      <th>anchor2_end</th>\n",
       "      <th>Qanova</th>\n",
       "      <th>Eanova</th>\n",
       "      <th>Tanova</th>\n",
       "      <th>2mo.Q</th>\n",
       "      <th>...</th>\n",
       "      <th>9mo.T</th>\n",
       "      <th>18mo.T</th>\n",
       "      <th>Diff_Loop</th>\n",
       "      <th>gene_chrom</th>\n",
       "      <th>gene_start</th>\n",
       "      <th>gene_end</th>\n",
       "      <th>gene_id</th>\n",
       "      <th>strand</th>\n",
       "      <th>gene_name</th>\n",
       "      <th>gene_type</th>\n",
       "    </tr>\n",
       "  </thead>\n",
       "  <tbody>\n",
       "    <tr>\n",
       "      <th>0</th>\n",
       "      <td>chr1</td>\n",
       "      <td>4480000</td>\n",
       "      <td>4490000</td>\n",
       "      <td>chr1</td>\n",
       "      <td>4750000</td>\n",
       "      <td>4760000</td>\n",
       "      <td>0.183779</td>\n",
       "      <td>1.465435</td>\n",
       "      <td>1.146259</td>\n",
       "      <td>0.004058</td>\n",
       "      <td>...</td>\n",
       "      <td>0.218420</td>\n",
       "      <td>0.228002</td>\n",
       "      <td>0</td>\n",
       "      <td>chr1</td>\n",
       "      <td>4488931</td>\n",
       "      <td>4499354</td>\n",
       "      <td>ENSMUSG00000025902.9</td>\n",
       "      <td>-</td>\n",
       "      <td>Sox17</td>\n",
       "      <td>protein_coding</td>\n",
       "    </tr>\n",
       "    <tr>\n",
       "      <th>1</th>\n",
       "      <td>chr1</td>\n",
       "      <td>4480000</td>\n",
       "      <td>4490000</td>\n",
       "      <td>chr1</td>\n",
       "      <td>4760000</td>\n",
       "      <td>4770000</td>\n",
       "      <td>0.799520</td>\n",
       "      <td>0.909355</td>\n",
       "      <td>0.632955</td>\n",
       "      <td>0.004602</td>\n",
       "      <td>...</td>\n",
       "      <td>0.248998</td>\n",
       "      <td>0.269647</td>\n",
       "      <td>0</td>\n",
       "      <td>chr1</td>\n",
       "      <td>4488931</td>\n",
       "      <td>4499354</td>\n",
       "      <td>ENSMUSG00000025902.9</td>\n",
       "      <td>-</td>\n",
       "      <td>Sox17</td>\n",
       "      <td>protein_coding</td>\n",
       "    </tr>\n",
       "    <tr>\n",
       "      <th>2</th>\n",
       "      <td>chr1</td>\n",
       "      <td>4490000</td>\n",
       "      <td>4500000</td>\n",
       "      <td>chr1</td>\n",
       "      <td>4750000</td>\n",
       "      <td>4760000</td>\n",
       "      <td>0.082422</td>\n",
       "      <td>1.363373</td>\n",
       "      <td>0.463700</td>\n",
       "      <td>0.004666</td>\n",
       "      <td>...</td>\n",
       "      <td>0.262034</td>\n",
       "      <td>0.274437</td>\n",
       "      <td>0</td>\n",
       "      <td>chr1</td>\n",
       "      <td>4494551</td>\n",
       "      <td>4501558</td>\n",
       "      <td>ENSMUSG00000104238.1</td>\n",
       "      <td>+</td>\n",
       "      <td>RP23-285G23.2</td>\n",
       "      <td>processed_transcript</td>\n",
       "    </tr>\n",
       "    <tr>\n",
       "      <th>3</th>\n",
       "      <td>chr1</td>\n",
       "      <td>4490000</td>\n",
       "      <td>4500000</td>\n",
       "      <td>chr1</td>\n",
       "      <td>4750000</td>\n",
       "      <td>4760000</td>\n",
       "      <td>0.082422</td>\n",
       "      <td>1.363373</td>\n",
       "      <td>0.463700</td>\n",
       "      <td>0.004666</td>\n",
       "      <td>...</td>\n",
       "      <td>0.262034</td>\n",
       "      <td>0.274437</td>\n",
       "      <td>0</td>\n",
       "      <td>chr1</td>\n",
       "      <td>4488931</td>\n",
       "      <td>4499354</td>\n",
       "      <td>ENSMUSG00000025902.9</td>\n",
       "      <td>-</td>\n",
       "      <td>Sox17</td>\n",
       "      <td>protein_coding</td>\n",
       "    </tr>\n",
       "    <tr>\n",
       "      <th>4</th>\n",
       "      <td>chr1</td>\n",
       "      <td>4490000</td>\n",
       "      <td>4500000</td>\n",
       "      <td>chr1</td>\n",
       "      <td>4760000</td>\n",
       "      <td>4770000</td>\n",
       "      <td>0.054755</td>\n",
       "      <td>0.984268</td>\n",
       "      <td>0.228385</td>\n",
       "      <td>0.004900</td>\n",
       "      <td>...</td>\n",
       "      <td>0.295557</td>\n",
       "      <td>0.322144</td>\n",
       "      <td>0</td>\n",
       "      <td>chr1</td>\n",
       "      <td>4494551</td>\n",
       "      <td>4501558</td>\n",
       "      <td>ENSMUSG00000104238.1</td>\n",
       "      <td>+</td>\n",
       "      <td>RP23-285G23.2</td>\n",
       "      <td>processed_transcript</td>\n",
       "    </tr>\n",
       "    <tr>\n",
       "      <th>...</th>\n",
       "      <td>...</td>\n",
       "      <td>...</td>\n",
       "      <td>...</td>\n",
       "      <td>...</td>\n",
       "      <td>...</td>\n",
       "      <td>...</td>\n",
       "      <td>...</td>\n",
       "      <td>...</td>\n",
       "      <td>...</td>\n",
       "      <td>...</td>\n",
       "      <td>...</td>\n",
       "      <td>...</td>\n",
       "      <td>...</td>\n",
       "      <td>...</td>\n",
       "      <td>...</td>\n",
       "      <td>...</td>\n",
       "      <td>...</td>\n",
       "      <td>...</td>\n",
       "      <td>...</td>\n",
       "      <td>...</td>\n",
       "      <td>...</td>\n",
       "    </tr>\n",
       "    <tr>\n",
       "      <th>340748</th>\n",
       "      <td>chr19</td>\n",
       "      <td>60520000</td>\n",
       "      <td>60530000</td>\n",
       "      <td>chr19</td>\n",
       "      <td>60420000</td>\n",
       "      <td>60430000</td>\n",
       "      <td>2.817003</td>\n",
       "      <td>5.021049</td>\n",
       "      <td>1.330845</td>\n",
       "      <td>0.009071</td>\n",
       "      <td>...</td>\n",
       "      <td>0.241299</td>\n",
       "      <td>0.306562</td>\n",
       "      <td>0</td>\n",
       "      <td>chr19</td>\n",
       "      <td>60522696</td>\n",
       "      <td>60583023</td>\n",
       "      <td>ENSMUSG00000033417.11</td>\n",
       "      <td>-</td>\n",
       "      <td>Cacul1</td>\n",
       "      <td>protein_coding</td>\n",
       "    </tr>\n",
       "    <tr>\n",
       "      <th>340749</th>\n",
       "      <td>chr19</td>\n",
       "      <td>60520000</td>\n",
       "      <td>60530000</td>\n",
       "      <td>chr19</td>\n",
       "      <td>60430000</td>\n",
       "      <td>60440000</td>\n",
       "      <td>1.125436</td>\n",
       "      <td>3.943785</td>\n",
       "      <td>0.830614</td>\n",
       "      <td>0.011542</td>\n",
       "      <td>...</td>\n",
       "      <td>0.222674</td>\n",
       "      <td>0.276658</td>\n",
       "      <td>0</td>\n",
       "      <td>chr19</td>\n",
       "      <td>60522696</td>\n",
       "      <td>60583023</td>\n",
       "      <td>ENSMUSG00000033417.11</td>\n",
       "      <td>-</td>\n",
       "      <td>Cacul1</td>\n",
       "      <td>protein_coding</td>\n",
       "    </tr>\n",
       "    <tr>\n",
       "      <th>340750</th>\n",
       "      <td>chr19</td>\n",
       "      <td>60520000</td>\n",
       "      <td>60530000</td>\n",
       "      <td>chr19</td>\n",
       "      <td>60440000</td>\n",
       "      <td>60450000</td>\n",
       "      <td>1.045204</td>\n",
       "      <td>4.186615</td>\n",
       "      <td>1.426995</td>\n",
       "      <td>0.012078</td>\n",
       "      <td>...</td>\n",
       "      <td>0.234325</td>\n",
       "      <td>0.303569</td>\n",
       "      <td>0</td>\n",
       "      <td>chr19</td>\n",
       "      <td>60522696</td>\n",
       "      <td>60583023</td>\n",
       "      <td>ENSMUSG00000033417.11</td>\n",
       "      <td>-</td>\n",
       "      <td>Cacul1</td>\n",
       "      <td>protein_coding</td>\n",
       "    </tr>\n",
       "    <tr>\n",
       "      <th>340751</th>\n",
       "      <td>chr19</td>\n",
       "      <td>60520000</td>\n",
       "      <td>60530000</td>\n",
       "      <td>chr19</td>\n",
       "      <td>60450000</td>\n",
       "      <td>60460000</td>\n",
       "      <td>0.573376</td>\n",
       "      <td>2.861494</td>\n",
       "      <td>2.225769</td>\n",
       "      <td>0.011378</td>\n",
       "      <td>...</td>\n",
       "      <td>0.164777</td>\n",
       "      <td>0.233473</td>\n",
       "      <td>0</td>\n",
       "      <td>chr19</td>\n",
       "      <td>60522696</td>\n",
       "      <td>60583023</td>\n",
       "      <td>ENSMUSG00000033417.11</td>\n",
       "      <td>-</td>\n",
       "      <td>Cacul1</td>\n",
       "      <td>protein_coding</td>\n",
       "    </tr>\n",
       "    <tr>\n",
       "      <th>340752</th>\n",
       "      <td>chr19</td>\n",
       "      <td>60520000</td>\n",
       "      <td>60530000</td>\n",
       "      <td>chr19</td>\n",
       "      <td>60460000</td>\n",
       "      <td>60470000</td>\n",
       "      <td>0.619703</td>\n",
       "      <td>2.873313</td>\n",
       "      <td>0.796050</td>\n",
       "      <td>0.012989</td>\n",
       "      <td>...</td>\n",
       "      <td>0.211657</td>\n",
       "      <td>0.259248</td>\n",
       "      <td>0</td>\n",
       "      <td>chr19</td>\n",
       "      <td>60522696</td>\n",
       "      <td>60583023</td>\n",
       "      <td>ENSMUSG00000033417.11</td>\n",
       "      <td>-</td>\n",
       "      <td>Cacul1</td>\n",
       "      <td>protein_coding</td>\n",
       "    </tr>\n",
       "  </tbody>\n",
       "</table>\n",
       "<p>681002 rows × 23 columns</p>\n",
       "</div>"
      ],
      "text/plain": [
       "        chrom  anchor1_start  anchor1_end  chrom  anchor2_start  anchor2_end  \\\n",
       "0        chr1        4480000      4490000   chr1        4750000      4760000   \n",
       "1        chr1        4480000      4490000   chr1        4760000      4770000   \n",
       "2        chr1        4490000      4500000   chr1        4750000      4760000   \n",
       "3        chr1        4490000      4500000   chr1        4750000      4760000   \n",
       "4        chr1        4490000      4500000   chr1        4760000      4770000   \n",
       "...       ...            ...          ...    ...            ...          ...   \n",
       "340748  chr19       60520000     60530000  chr19       60420000     60430000   \n",
       "340749  chr19       60520000     60530000  chr19       60430000     60440000   \n",
       "340750  chr19       60520000     60530000  chr19       60440000     60450000   \n",
       "340751  chr19       60520000     60530000  chr19       60450000     60460000   \n",
       "340752  chr19       60520000     60530000  chr19       60460000     60470000   \n",
       "\n",
       "          Qanova    Eanova    Tanova     2mo.Q  ...     9mo.T    18mo.T  \\\n",
       "0       0.183779  1.465435  1.146259  0.004058  ...  0.218420  0.228002   \n",
       "1       0.799520  0.909355  0.632955  0.004602  ...  0.248998  0.269647   \n",
       "2       0.082422  1.363373  0.463700  0.004666  ...  0.262034  0.274437   \n",
       "3       0.082422  1.363373  0.463700  0.004666  ...  0.262034  0.274437   \n",
       "4       0.054755  0.984268  0.228385  0.004900  ...  0.295557  0.322144   \n",
       "...          ...       ...       ...       ...  ...       ...       ...   \n",
       "340748  2.817003  5.021049  1.330845  0.009071  ...  0.241299  0.306562   \n",
       "340749  1.125436  3.943785  0.830614  0.011542  ...  0.222674  0.276658   \n",
       "340750  1.045204  4.186615  1.426995  0.012078  ...  0.234325  0.303569   \n",
       "340751  0.573376  2.861494  2.225769  0.011378  ...  0.164777  0.233473   \n",
       "340752  0.619703  2.873313  0.796050  0.012989  ...  0.211657  0.259248   \n",
       "\n",
       "        Diff_Loop  gene_chrom  gene_start  gene_end                gene_id  \\\n",
       "0               0        chr1     4488931   4499354   ENSMUSG00000025902.9   \n",
       "1               0        chr1     4488931   4499354   ENSMUSG00000025902.9   \n",
       "2               0        chr1     4494551   4501558   ENSMUSG00000104238.1   \n",
       "3               0        chr1     4488931   4499354   ENSMUSG00000025902.9   \n",
       "4               0        chr1     4494551   4501558   ENSMUSG00000104238.1   \n",
       "...           ...         ...         ...       ...                    ...   \n",
       "340748          0       chr19    60522696  60583023  ENSMUSG00000033417.11   \n",
       "340749          0       chr19    60522696  60583023  ENSMUSG00000033417.11   \n",
       "340750          0       chr19    60522696  60583023  ENSMUSG00000033417.11   \n",
       "340751          0       chr19    60522696  60583023  ENSMUSG00000033417.11   \n",
       "340752          0       chr19    60522696  60583023  ENSMUSG00000033417.11   \n",
       "\n",
       "        strand      gene_name             gene_type  \n",
       "0            -          Sox17        protein_coding  \n",
       "1            -          Sox17        protein_coding  \n",
       "2            +  RP23-285G23.2  processed_transcript  \n",
       "3            -          Sox17        protein_coding  \n",
       "4            +  RP23-285G23.2  processed_transcript  \n",
       "...        ...            ...                   ...  \n",
       "340748       -         Cacul1        protein_coding  \n",
       "340749       -         Cacul1        protein_coding  \n",
       "340750       -         Cacul1        protein_coding  \n",
       "340751       -         Cacul1        protein_coding  \n",
       "340752       -         Cacul1        protein_coding  \n",
       "\n",
       "[681002 rows x 23 columns]"
      ]
     },
     "execution_count": 14,
     "metadata": {},
     "output_type": "execute_result"
    }
   ],
   "source": [
    "anchor.columns = ['chrom','anchor1_start','anchor1_end','chrom','anchor2_start','anchor2_end',\n",
    "                'Qanova','Eanova','Tanova','2mo.Q','9mo.Q','18mo.Q','2mo.T','9mo.T','18mo.T','Diff_Loop',\n",
    "                'gene_chrom','gene_start','gene_end','gene_id','strand','gene_name','gene_type']\n",
    "anchor"
   ]
  },
  {
   "cell_type": "code",
   "execution_count": 15,
   "id": "8b483f05",
   "metadata": {
    "execution": {
     "iopub.execute_input": "2024-12-08T03:36:26.096019Z",
     "iopub.status.busy": "2024-12-08T03:36:26.095804Z",
     "iopub.status.idle": "2024-12-08T03:36:26.114347Z",
     "shell.execute_reply": "2024-12-08T03:36:26.113709Z"
    },
    "papermill": {
     "duration": 0.023831,
     "end_time": "2024-12-08T03:36:26.115573",
     "exception": false,
     "start_time": "2024-12-08T03:36:26.091742",
     "status": "completed"
    },
    "tags": []
   },
   "outputs": [
    {
     "data": {
      "text/plain": [
       "CompletedProcess(args='rm Astro-TE_NN.anchor2_loop_gene.bed', returncode=0)"
      ]
     },
     "execution_count": 15,
     "metadata": {},
     "output_type": "execute_result"
    }
   ],
   "source": [
    "subprocess.run(f\"rm {ct}.anchor1_loop_gene.bed\", shell=True)\n",
    "subprocess.run(f\"rm {ct}.anchor2_loop_gene.bed\", shell=True)"
   ]
  },
  {
   "cell_type": "code",
   "execution_count": 16,
   "id": "214a4f74",
   "metadata": {
    "execution": {
     "iopub.execute_input": "2024-12-08T03:36:26.123604Z",
     "iopub.status.busy": "2024-12-08T03:36:26.123401Z",
     "iopub.status.idle": "2024-12-08T03:36:26.165707Z",
     "shell.execute_reply": "2024-12-08T03:36:26.165130Z"
    },
    "papermill": {
     "duration": 0.047437,
     "end_time": "2024-12-08T03:36:26.166885",
     "exception": false,
     "start_time": "2024-12-08T03:36:26.119448",
     "status": "completed"
    },
    "tags": []
   },
   "outputs": [
    {
     "data": {
      "text/html": [
       "<div>\n",
       "<style scoped>\n",
       "    .dataframe tbody tr th:only-of-type {\n",
       "        vertical-align: middle;\n",
       "    }\n",
       "\n",
       "    .dataframe tbody tr th {\n",
       "        vertical-align: top;\n",
       "    }\n",
       "\n",
       "    .dataframe thead th {\n",
       "        text-align: right;\n",
       "    }\n",
       "</style>\n",
       "<table border=\"1\" class=\"dataframe\">\n",
       "  <thead>\n",
       "    <tr style=\"text-align: right;\">\n",
       "      <th></th>\n",
       "      <th>Qanova</th>\n",
       "      <th>Eanova</th>\n",
       "      <th>Tanova</th>\n",
       "      <th>2mo.Q</th>\n",
       "      <th>9mo.Q</th>\n",
       "      <th>18mo.Q</th>\n",
       "      <th>2mo.T</th>\n",
       "      <th>9mo.T</th>\n",
       "      <th>18mo.T</th>\n",
       "      <th>Diff_Loop</th>\n",
       "      <th>gene_id</th>\n",
       "      <th>gene_name</th>\n",
       "      <th>anchor1_distance</th>\n",
       "      <th>anchor2_distance</th>\n",
       "      <th>gene_length</th>\n",
       "    </tr>\n",
       "  </thead>\n",
       "  <tbody>\n",
       "    <tr>\n",
       "      <th>0</th>\n",
       "      <td>0.183779</td>\n",
       "      <td>1.465435</td>\n",
       "      <td>1.146259</td>\n",
       "      <td>0.004058</td>\n",
       "      <td>0.003762</td>\n",
       "      <td>0.003847</td>\n",
       "      <td>0.274210</td>\n",
       "      <td>0.218420</td>\n",
       "      <td>0.228002</td>\n",
       "      <td>0</td>\n",
       "      <td>ENSMUSG00000025902.9</td>\n",
       "      <td>Sox17</td>\n",
       "      <td>8931</td>\n",
       "      <td>250646</td>\n",
       "      <td>10423</td>\n",
       "    </tr>\n",
       "    <tr>\n",
       "      <th>1</th>\n",
       "      <td>0.799520</td>\n",
       "      <td>0.909355</td>\n",
       "      <td>0.632955</td>\n",
       "      <td>0.004602</td>\n",
       "      <td>0.003975</td>\n",
       "      <td>0.004071</td>\n",
       "      <td>0.294052</td>\n",
       "      <td>0.248998</td>\n",
       "      <td>0.269647</td>\n",
       "      <td>0</td>\n",
       "      <td>ENSMUSG00000025902.9</td>\n",
       "      <td>Sox17</td>\n",
       "      <td>8931</td>\n",
       "      <td>260646</td>\n",
       "      <td>10423</td>\n",
       "    </tr>\n",
       "    <tr>\n",
       "      <th>2</th>\n",
       "      <td>0.082422</td>\n",
       "      <td>1.363373</td>\n",
       "      <td>0.463700</td>\n",
       "      <td>0.004666</td>\n",
       "      <td>0.004642</td>\n",
       "      <td>0.004455</td>\n",
       "      <td>0.300205</td>\n",
       "      <td>0.262034</td>\n",
       "      <td>0.274437</td>\n",
       "      <td>0</td>\n",
       "      <td>ENSMUSG00000104238.1</td>\n",
       "      <td>RP23-285G23.2</td>\n",
       "      <td>4551</td>\n",
       "      <td>248442</td>\n",
       "      <td>7007</td>\n",
       "    </tr>\n",
       "    <tr>\n",
       "      <th>3</th>\n",
       "      <td>0.082422</td>\n",
       "      <td>1.363373</td>\n",
       "      <td>0.463700</td>\n",
       "      <td>0.004666</td>\n",
       "      <td>0.004642</td>\n",
       "      <td>0.004455</td>\n",
       "      <td>0.300205</td>\n",
       "      <td>0.262034</td>\n",
       "      <td>0.274437</td>\n",
       "      <td>0</td>\n",
       "      <td>ENSMUSG00000025902.9</td>\n",
       "      <td>Sox17</td>\n",
       "      <td>1069</td>\n",
       "      <td>250646</td>\n",
       "      <td>10423</td>\n",
       "    </tr>\n",
       "    <tr>\n",
       "      <th>4</th>\n",
       "      <td>0.054755</td>\n",
       "      <td>0.984268</td>\n",
       "      <td>0.228385</td>\n",
       "      <td>0.004900</td>\n",
       "      <td>0.005079</td>\n",
       "      <td>0.004913</td>\n",
       "      <td>0.315871</td>\n",
       "      <td>0.295557</td>\n",
       "      <td>0.322144</td>\n",
       "      <td>0</td>\n",
       "      <td>ENSMUSG00000104238.1</td>\n",
       "      <td>RP23-285G23.2</td>\n",
       "      <td>4551</td>\n",
       "      <td>258442</td>\n",
       "      <td>7007</td>\n",
       "    </tr>\n",
       "    <tr>\n",
       "      <th>...</th>\n",
       "      <td>...</td>\n",
       "      <td>...</td>\n",
       "      <td>...</td>\n",
       "      <td>...</td>\n",
       "      <td>...</td>\n",
       "      <td>...</td>\n",
       "      <td>...</td>\n",
       "      <td>...</td>\n",
       "      <td>...</td>\n",
       "      <td>...</td>\n",
       "      <td>...</td>\n",
       "      <td>...</td>\n",
       "      <td>...</td>\n",
       "      <td>...</td>\n",
       "      <td>...</td>\n",
       "    </tr>\n",
       "    <tr>\n",
       "      <th>340748</th>\n",
       "      <td>2.817003</td>\n",
       "      <td>5.021049</td>\n",
       "      <td>1.330845</td>\n",
       "      <td>0.009071</td>\n",
       "      <td>0.008548</td>\n",
       "      <td>0.010494</td>\n",
       "      <td>0.276966</td>\n",
       "      <td>0.241299</td>\n",
       "      <td>0.306562</td>\n",
       "      <td>0</td>\n",
       "      <td>ENSMUSG00000033417.11</td>\n",
       "      <td>Cacul1</td>\n",
       "      <td>2696</td>\n",
       "      <td>102696</td>\n",
       "      <td>60327</td>\n",
       "    </tr>\n",
       "    <tr>\n",
       "      <th>340749</th>\n",
       "      <td>1.125436</td>\n",
       "      <td>3.943785</td>\n",
       "      <td>0.830614</td>\n",
       "      <td>0.011542</td>\n",
       "      <td>0.010661</td>\n",
       "      <td>0.012195</td>\n",
       "      <td>0.253496</td>\n",
       "      <td>0.222674</td>\n",
       "      <td>0.276658</td>\n",
       "      <td>0</td>\n",
       "      <td>ENSMUSG00000033417.11</td>\n",
       "      <td>Cacul1</td>\n",
       "      <td>2696</td>\n",
       "      <td>92696</td>\n",
       "      <td>60327</td>\n",
       "    </tr>\n",
       "    <tr>\n",
       "      <th>340750</th>\n",
       "      <td>1.045204</td>\n",
       "      <td>4.186615</td>\n",
       "      <td>1.426995</td>\n",
       "      <td>0.012078</td>\n",
       "      <td>0.011027</td>\n",
       "      <td>0.012436</td>\n",
       "      <td>0.277992</td>\n",
       "      <td>0.234325</td>\n",
       "      <td>0.303569</td>\n",
       "      <td>0</td>\n",
       "      <td>ENSMUSG00000033417.11</td>\n",
       "      <td>Cacul1</td>\n",
       "      <td>2696</td>\n",
       "      <td>82696</td>\n",
       "      <td>60327</td>\n",
       "    </tr>\n",
       "    <tr>\n",
       "      <th>340751</th>\n",
       "      <td>0.573376</td>\n",
       "      <td>2.861494</td>\n",
       "      <td>2.225769</td>\n",
       "      <td>0.011378</td>\n",
       "      <td>0.011132</td>\n",
       "      <td>0.012139</td>\n",
       "      <td>0.243311</td>\n",
       "      <td>0.164777</td>\n",
       "      <td>0.233473</td>\n",
       "      <td>0</td>\n",
       "      <td>ENSMUSG00000033417.11</td>\n",
       "      <td>Cacul1</td>\n",
       "      <td>2696</td>\n",
       "      <td>72696</td>\n",
       "      <td>60327</td>\n",
       "    </tr>\n",
       "    <tr>\n",
       "      <th>340752</th>\n",
       "      <td>0.619703</td>\n",
       "      <td>2.873313</td>\n",
       "      <td>0.796050</td>\n",
       "      <td>0.012989</td>\n",
       "      <td>0.012262</td>\n",
       "      <td>0.013391</td>\n",
       "      <td>0.250445</td>\n",
       "      <td>0.211657</td>\n",
       "      <td>0.259248</td>\n",
       "      <td>0</td>\n",
       "      <td>ENSMUSG00000033417.11</td>\n",
       "      <td>Cacul1</td>\n",
       "      <td>2696</td>\n",
       "      <td>62696</td>\n",
       "      <td>60327</td>\n",
       "    </tr>\n",
       "  </tbody>\n",
       "</table>\n",
       "<p>681002 rows × 15 columns</p>\n",
       "</div>"
      ],
      "text/plain": [
       "          Qanova    Eanova    Tanova     2mo.Q     9mo.Q    18mo.Q     2mo.T  \\\n",
       "0       0.183779  1.465435  1.146259  0.004058  0.003762  0.003847  0.274210   \n",
       "1       0.799520  0.909355  0.632955  0.004602  0.003975  0.004071  0.294052   \n",
       "2       0.082422  1.363373  0.463700  0.004666  0.004642  0.004455  0.300205   \n",
       "3       0.082422  1.363373  0.463700  0.004666  0.004642  0.004455  0.300205   \n",
       "4       0.054755  0.984268  0.228385  0.004900  0.005079  0.004913  0.315871   \n",
       "...          ...       ...       ...       ...       ...       ...       ...   \n",
       "340748  2.817003  5.021049  1.330845  0.009071  0.008548  0.010494  0.276966   \n",
       "340749  1.125436  3.943785  0.830614  0.011542  0.010661  0.012195  0.253496   \n",
       "340750  1.045204  4.186615  1.426995  0.012078  0.011027  0.012436  0.277992   \n",
       "340751  0.573376  2.861494  2.225769  0.011378  0.011132  0.012139  0.243311   \n",
       "340752  0.619703  2.873313  0.796050  0.012989  0.012262  0.013391  0.250445   \n",
       "\n",
       "           9mo.T    18mo.T  Diff_Loop                gene_id      gene_name  \\\n",
       "0       0.218420  0.228002          0   ENSMUSG00000025902.9          Sox17   \n",
       "1       0.248998  0.269647          0   ENSMUSG00000025902.9          Sox17   \n",
       "2       0.262034  0.274437          0   ENSMUSG00000104238.1  RP23-285G23.2   \n",
       "3       0.262034  0.274437          0   ENSMUSG00000025902.9          Sox17   \n",
       "4       0.295557  0.322144          0   ENSMUSG00000104238.1  RP23-285G23.2   \n",
       "...          ...       ...        ...                    ...            ...   \n",
       "340748  0.241299  0.306562          0  ENSMUSG00000033417.11         Cacul1   \n",
       "340749  0.222674  0.276658          0  ENSMUSG00000033417.11         Cacul1   \n",
       "340750  0.234325  0.303569          0  ENSMUSG00000033417.11         Cacul1   \n",
       "340751  0.164777  0.233473          0  ENSMUSG00000033417.11         Cacul1   \n",
       "340752  0.211657  0.259248          0  ENSMUSG00000033417.11         Cacul1   \n",
       "\n",
       "        anchor1_distance  anchor2_distance  gene_length  \n",
       "0                   8931            250646        10423  \n",
       "1                   8931            260646        10423  \n",
       "2                   4551            248442         7007  \n",
       "3                   1069            250646        10423  \n",
       "4                   4551            258442         7007  \n",
       "...                  ...               ...          ...  \n",
       "340748              2696            102696        60327  \n",
       "340749              2696             92696        60327  \n",
       "340750              2696             82696        60327  \n",
       "340751              2696             72696        60327  \n",
       "340752              2696             62696        60327  \n",
       "\n",
       "[681002 rows x 15 columns]"
      ]
     },
     "execution_count": 16,
     "metadata": {},
     "output_type": "execute_result"
    }
   ],
   "source": [
    "# add a distance columns, anchor1_start to gene_start and gene end, use which ever is closer\n",
    "anchor['anchor1_distance'] = np.minimum(abs(anchor['anchor1_start'] - anchor['gene_start']), abs(anchor['anchor1_start'] - anchor['gene_end']))\n",
    "anchor['anchor2_distance'] = np.minimum(abs(anchor['anchor2_start'] - anchor['gene_start']), abs(anchor['anchor2_start'] - anchor['gene_end']))\n",
    "anchor['gene_length'] = anchor['gene_end'] - anchor['gene_start']\n",
    "# drop chrom\tanchor1_start\tanchor1_end\tchrom\tanchor2_start\tanchor2_end\t, 'gene_chrom', 'gene_start','gene_end', 'strand', 'gene_type'\n",
    "anchor = anchor.drop(columns = ['chrom','anchor1_start','anchor1_end','chrom','anchor2_start','anchor2_end','gene_chrom', 'gene_start','gene_end', 'strand', 'gene_type'])\n",
    "anchor"
   ]
  },
  {
   "cell_type": "code",
   "execution_count": 17,
   "id": "4670623e",
   "metadata": {
    "execution": {
     "iopub.execute_input": "2024-12-08T03:36:26.174813Z",
     "iopub.status.busy": "2024-12-08T03:36:26.174623Z",
     "iopub.status.idle": "2024-12-08T03:36:30.756759Z",
     "shell.execute_reply": "2024-12-08T03:36:30.756110Z"
    },
    "papermill": {
     "duration": 4.587923,
     "end_time": "2024-12-08T03:36:30.758411",
     "exception": false,
     "start_time": "2024-12-08T03:36:26.170488",
     "status": "completed"
    },
    "tags": []
   },
   "outputs": [],
   "source": [
    "anchor.to_csv(f\"{home_dir}/ml_input/{ct}/{ct}.Loop_gene.csv\",  header = True, index = False)"
   ]
  },
  {
   "cell_type": "code",
   "execution_count": 18,
   "id": "08048efa",
   "metadata": {
    "execution": {
     "iopub.execute_input": "2024-12-08T03:36:30.768093Z",
     "iopub.status.busy": "2024-12-08T03:36:30.767497Z",
     "iopub.status.idle": "2024-12-08T03:36:35.801697Z",
     "shell.execute_reply": "2024-12-08T03:36:35.801203Z"
    },
    "papermill": {
     "duration": 5.040246,
     "end_time": "2024-12-08T03:36:35.802899",
     "exception": false,
     "start_time": "2024-12-08T03:36:30.762653",
     "status": "completed"
    },
    "tags": []
   },
   "outputs": [
    {
     "data": {
      "text/plain": [
       "CompletedProcess(args='gzip -k /home/qzeng_salk_edu/project/241018_pre_ml/ml_input/Astro-TE_NN/Astro-TE_NN.Loop_gene.csv', returncode=0)"
      ]
     },
     "execution_count": 18,
     "metadata": {},
     "output_type": "execute_result"
    }
   ],
   "source": [
    "import subprocess\n",
    "#ct = 'L6_IT_CTX_Glut'\n",
    "#subprocess.run(f\"tar -cjvf ml_input/{ct}/{ct}.Loop_gene.csv.gz ml_input/{ct}/{ct}.Loop_gene.csv\", shell=True)\n",
    "subprocess.run(f\"gzip -k {home_dir}/ml_input/{ct}/{ct}.Loop_gene.csv\", shell=True)"
   ]
  },
  {
   "cell_type": "code",
   "execution_count": 19,
   "id": "36c8f400",
   "metadata": {
    "execution": {
     "iopub.execute_input": "2024-12-08T03:36:35.811365Z",
     "iopub.status.busy": "2024-12-08T03:36:35.811161Z",
     "iopub.status.idle": "2024-12-08T03:36:35.824713Z",
     "shell.execute_reply": "2024-12-08T03:36:35.824283Z"
    },
    "papermill": {
     "duration": 0.01949,
     "end_time": "2024-12-08T03:36:35.826351",
     "exception": false,
     "start_time": "2024-12-08T03:36:35.806861",
     "status": "completed"
    },
    "tags": []
   },
   "outputs": [
    {
     "data": {
      "text/plain": [
       "CompletedProcess(args='rm /home/qzeng_salk_edu/project/241018_pre_ml/ml_input/Astro-TE_NN/Astro-TE_NN.Loop_gene.csv', returncode=0)"
      ]
     },
     "execution_count": 19,
     "metadata": {},
     "output_type": "execute_result"
    }
   ],
   "source": [
    "subprocess.run(f\"rm {home_dir}/ml_input/{ct}/{ct}.Loop_gene.csv\", shell=True)"
   ]
  },
  {
   "cell_type": "code",
   "execution_count": null,
   "id": "37496662",
   "metadata": {
    "papermill": {
     "duration": 0.003713,
     "end_time": "2024-12-08T03:36:35.834272",
     "exception": false,
     "start_time": "2024-12-08T03:36:35.830559",
     "status": "completed"
    },
    "tags": []
   },
   "outputs": [],
   "source": []
  },
  {
   "cell_type": "code",
   "execution_count": 20,
   "id": "05e745f1",
   "metadata": {
    "execution": {
     "iopub.execute_input": "2024-12-08T03:36:35.842540Z",
     "iopub.status.busy": "2024-12-08T03:36:35.842332Z",
     "iopub.status.idle": "2024-12-08T03:36:35.845026Z",
     "shell.execute_reply": "2024-12-08T03:36:35.844532Z"
    },
    "papermill": {
     "duration": 0.008193,
     "end_time": "2024-12-08T03:36:35.846101",
     "exception": false,
     "start_time": "2024-12-08T03:36:35.837908",
     "status": "completed"
    },
    "tags": []
   },
   "outputs": [],
   "source": [
    "#anchor.to_csv(f\"ml_input/{ct}.diff_loop_gene.csv\",  header = True, index = False)"
   ]
  },
  {
   "cell_type": "code",
   "execution_count": null,
   "id": "90532d86",
   "metadata": {
    "papermill": {
     "duration": 0.003699,
     "end_time": "2024-12-08T03:36:35.853635",
     "exception": false,
     "start_time": "2024-12-08T03:36:35.849936",
     "status": "completed"
    },
    "tags": []
   },
   "outputs": [],
   "source": []
  }
 ],
 "metadata": {
  "kernelspec": {
   "display_name": "base",
   "language": "python",
   "name": "python3"
  },
  "language_info": {
   "codemirror_mode": {
    "name": "ipython",
    "version": 3
   },
   "file_extension": ".py",
   "mimetype": "text/x-python",
   "name": "python",
   "nbconvert_exporter": "python",
   "pygments_lexer": "ipython3",
   "version": "3.10.12"
  },
  "papermill": {
   "default_parameters": {},
   "duration": 22.741431,
   "end_time": "2024-12-08T03:36:36.273897",
   "environment_variables": {},
   "exception": null,
   "input_path": "/home/qzeng_salk_edu/project/241018_pre_ml/gen_ml_input/notebooks/06.pre_hic_loop.ipynb",
   "output_path": "Astro-TE_NN/06.pre_hic_loop.ipynb",
   "parameters": {
    "cpu": 8,
    "group_name": "Astro-TE_NN",
    "mem_gb": 10
   },
   "start_time": "2024-12-08T03:36:13.532466",
   "version": "2.4.0"
  }
 },
 "nbformat": 4,
 "nbformat_minor": 5
}