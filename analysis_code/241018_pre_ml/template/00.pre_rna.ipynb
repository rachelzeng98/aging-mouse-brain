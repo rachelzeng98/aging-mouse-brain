{
 "cells": [
  {
   "cell_type": "code",
   "execution_count": 1,
   "id": "a69fc741",
   "metadata": {
    "execution": {
     "iopub.execute_input": "2024-12-08T03:33:44.921842Z",
     "iopub.status.busy": "2024-12-08T03:33:44.921139Z",
     "iopub.status.idle": "2024-12-08T03:33:44.929167Z",
     "shell.execute_reply": "2024-12-08T03:33:44.928657Z"
    },
    "papermill": {
     "duration": 0.013225,
     "end_time": "2024-12-08T03:33:44.930298",
     "exception": false,
     "start_time": "2024-12-08T03:33:44.917073",
     "status": "completed"
    },
    "tags": [
     "injected-parameters"
    ]
   },
   "outputs": [],
   "source": [
    "# Parameters\n",
    "cpu = 8\n",
    "group_name = \"Astro-TE_NN\"\n",
    "mem_gb = 10\n"
   ]
  },
  {
   "cell_type": "code",
   "execution_count": 2,
   "id": "36f3d5eb-3551-4eca-b807-f5d017e28690",
   "metadata": {
    "execution": {
     "iopub.execute_input": "2024-12-08T03:33:44.936438Z",
     "iopub.status.busy": "2024-12-08T03:33:44.935863Z",
     "iopub.status.idle": "2024-12-08T03:33:50.836408Z",
     "shell.execute_reply": "2024-12-08T03:33:50.835850Z"
    },
    "papermill": {
     "duration": 5.905167,
     "end_time": "2024-12-08T03:33:50.837930",
     "exception": false,
     "start_time": "2024-12-08T03:33:44.932763",
     "status": "completed"
    },
    "tags": []
   },
   "outputs": [],
   "source": [
    "import numpy as np\n",
    "import pandas as pd\n",
    "import seaborn as sns\n",
    "import matplotlib as mpl\n",
    "import matplotlib.pyplot as plt\n",
    "import anndata\n",
    "import scanpy as sc\n",
    "from glob import glob\n",
    "import time\n",
    "import cooler\n",
    "import subprocess\n",
    "import glob\n",
    "import pathlib\n",
    "from tqdm import tqdm\n",
    "from collections import defaultdict"
   ]
  },
  {
   "cell_type": "code",
   "execution_count": 3,
   "id": "d6a8cfd4",
   "metadata": {
    "execution": {
     "iopub.execute_input": "2024-12-08T03:33:50.844205Z",
     "iopub.status.busy": "2024-12-08T03:33:50.843718Z",
     "iopub.status.idle": "2024-12-08T03:33:50.846640Z",
     "shell.execute_reply": "2024-12-08T03:33:50.846159Z"
    },
    "papermill": {
     "duration": 0.00726,
     "end_time": "2024-12-08T03:33:50.847847",
     "exception": false,
     "start_time": "2024-12-08T03:33:50.840587",
     "status": "completed"
    },
    "tags": []
   },
   "outputs": [],
   "source": [
    "#group_name = 'DG_Glut'"
   ]
  },
  {
   "cell_type": "code",
   "execution_count": 4,
   "id": "b52380c0",
   "metadata": {
    "execution": {
     "iopub.execute_input": "2024-12-08T03:33:50.853580Z",
     "iopub.status.busy": "2024-12-08T03:33:50.853111Z",
     "iopub.status.idle": "2024-12-08T03:33:50.855902Z",
     "shell.execute_reply": "2024-12-08T03:33:50.855369Z"
    },
    "papermill": {
     "duration": 0.006888,
     "end_time": "2024-12-08T03:33:50.857038",
     "exception": false,
     "start_time": "2024-12-08T03:33:50.850150",
     "status": "completed"
    },
    "tags": []
   },
   "outputs": [],
   "source": [
    "home_dir = '/home/qzeng_salk_edu/project/241018_pre_ml/'\n",
    "ct = group_name\n"
   ]
  },
  {
   "cell_type": "code",
   "execution_count": 5,
   "id": "f5764520",
   "metadata": {
    "execution": {
     "iopub.execute_input": "2024-12-08T03:33:50.862774Z",
     "iopub.status.busy": "2024-12-08T03:33:50.862430Z",
     "iopub.status.idle": "2024-12-08T03:33:51.511048Z",
     "shell.execute_reply": "2024-12-08T03:33:51.510363Z"
    },
    "papermill": {
     "duration": 0.653112,
     "end_time": "2024-12-08T03:33:51.512591",
     "exception": false,
     "start_time": "2024-12-08T03:33:50.859479",
     "status": "completed"
    },
    "tags": []
   },
   "outputs": [],
   "source": [
    "gene_meta = pd.read_csv('/data/ref/gencode.vM22.basic.annotation.gene.flat.tsv.gz', sep = '\\t')\n",
    "use_gene_types = ['protein_coding','lncRNA']\n",
    "\n",
    "use_genes = pd.read_csv(f'{home_dir}/mm10_gene_2kb.bed', index_col = None, header = None, sep = '\\t')\n",
    "use_genes = use_genes[5].values"
   ]
  },
  {
   "cell_type": "code",
   "execution_count": 6,
   "id": "d6c6cad1",
   "metadata": {
    "execution": {
     "iopub.execute_input": "2024-12-08T03:33:51.519226Z",
     "iopub.status.busy": "2024-12-08T03:33:51.519032Z",
     "iopub.status.idle": "2024-12-08T03:33:51.522070Z",
     "shell.execute_reply": "2024-12-08T03:33:51.521577Z"
    },
    "papermill": {
     "duration": 0.008027,
     "end_time": "2024-12-08T03:33:51.523354",
     "exception": false,
     "start_time": "2024-12-08T03:33:51.515327",
     "status": "completed"
    },
    "tags": []
   },
   "outputs": [],
   "source": [
    "import pathlib\n",
    "# make a dir ml_input/{ct}\n",
    "pathlib.Path(f'{home_dir}/ml_input/{ct}').mkdir(parents=True, exist_ok=True)"
   ]
  },
  {
   "cell_type": "code",
   "execution_count": 7,
   "id": "ef9d3a08",
   "metadata": {
    "execution": {
     "iopub.execute_input": "2024-12-08T03:33:51.529985Z",
     "iopub.status.busy": "2024-12-08T03:33:51.529565Z",
     "iopub.status.idle": "2024-12-08T03:33:52.107434Z",
     "shell.execute_reply": "2024-12-08T03:33:52.106854Z"
    },
    "papermill": {
     "duration": 0.582412,
     "end_time": "2024-12-08T03:33:52.108941",
     "exception": false,
     "start_time": "2024-12-08T03:33:51.526529",
     "status": "completed"
    },
    "tags": []
   },
   "outputs": [
    {
     "data": {
      "text/html": [
       "<div>\n",
       "<style scoped>\n",
       "    .dataframe tbody tr th:only-of-type {\n",
       "        vertical-align: middle;\n",
       "    }\n",
       "\n",
       "    .dataframe tbody tr th {\n",
       "        vertical-align: top;\n",
       "    }\n",
       "\n",
       "    .dataframe thead th {\n",
       "        text-align: right;\n",
       "    }\n",
       "</style>\n",
       "<table border=\"1\" class=\"dataframe\">\n",
       "  <thead>\n",
       "    <tr style=\"text-align: right;\">\n",
       "      <th></th>\n",
       "      <th>stats</th>\n",
       "      <th>fdr</th>\n",
       "      <th>log2(old/young)</th>\n",
       "      <th>DEG</th>\n",
       "      <th>-log10(fdr)</th>\n",
       "    </tr>\n",
       "    <tr>\n",
       "      <th>gene</th>\n",
       "      <th></th>\n",
       "      <th></th>\n",
       "      <th></th>\n",
       "      <th></th>\n",
       "      <th></th>\n",
       "    </tr>\n",
       "  </thead>\n",
       "  <tbody>\n",
       "    <tr>\n",
       "      <th>Xkr4</th>\n",
       "      <td>23.941545</td>\n",
       "      <td>0.000044</td>\n",
       "      <td>0.500929</td>\n",
       "      <td>0</td>\n",
       "      <td>4.354202</td>\n",
       "    </tr>\n",
       "    <tr>\n",
       "      <th>Mrpl15</th>\n",
       "      <td>3.136794</td>\n",
       "      <td>0.290830</td>\n",
       "      <td>-0.269553</td>\n",
       "      <td>0</td>\n",
       "      <td>0.536361</td>\n",
       "    </tr>\n",
       "    <tr>\n",
       "      <th>Lypla1</th>\n",
       "      <td>23.228939</td>\n",
       "      <td>0.000060</td>\n",
       "      <td>0.207979</td>\n",
       "      <td>0</td>\n",
       "      <td>4.222170</td>\n",
       "    </tr>\n",
       "    <tr>\n",
       "      <th>Tcea1</th>\n",
       "      <td>23.091860</td>\n",
       "      <td>0.000064</td>\n",
       "      <td>-0.363972</td>\n",
       "      <td>0</td>\n",
       "      <td>4.197146</td>\n",
       "    </tr>\n",
       "    <tr>\n",
       "      <th>Rgs20</th>\n",
       "      <td>0.094349</td>\n",
       "      <td>0.964279</td>\n",
       "      <td>0.009778</td>\n",
       "      <td>0</td>\n",
       "      <td>0.015797</td>\n",
       "    </tr>\n",
       "    <tr>\n",
       "      <th>...</th>\n",
       "      <td>...</td>\n",
       "      <td>...</td>\n",
       "      <td>...</td>\n",
       "      <td>...</td>\n",
       "      <td>...</td>\n",
       "    </tr>\n",
       "    <tr>\n",
       "      <th>Ugt1a7c</th>\n",
       "      <td>4.431107</td>\n",
       "      <td>0.171815</td>\n",
       "      <td>2.399207</td>\n",
       "      <td>0</td>\n",
       "      <td>0.764940</td>\n",
       "    </tr>\n",
       "    <tr>\n",
       "      <th>Fxyd3</th>\n",
       "      <td>1.814598</td>\n",
       "      <td>0.493208</td>\n",
       "      <td>1.681933</td>\n",
       "      <td>0</td>\n",
       "      <td>0.306970</td>\n",
       "    </tr>\n",
       "    <tr>\n",
       "      <th>Acsm5</th>\n",
       "      <td>28.559128</td>\n",
       "      <td>0.000007</td>\n",
       "      <td>0.120010</td>\n",
       "      <td>0</td>\n",
       "      <td>5.177882</td>\n",
       "    </tr>\n",
       "    <tr>\n",
       "      <th>Gm14902</th>\n",
       "      <td>1.815748</td>\n",
       "      <td>0.493083</td>\n",
       "      <td>1.986005</td>\n",
       "      <td>0</td>\n",
       "      <td>0.307080</td>\n",
       "    </tr>\n",
       "    <tr>\n",
       "      <th>4933413C19Rik</th>\n",
       "      <td>5.635365</td>\n",
       "      <td>0.105174</td>\n",
       "      <td>1.580603</td>\n",
       "      <td>0</td>\n",
       "      <td>0.978091</td>\n",
       "    </tr>\n",
       "  </tbody>\n",
       "</table>\n",
       "<p>13592 rows × 5 columns</p>\n",
       "</div>"
      ],
      "text/plain": [
       "                   stats       fdr  log2(old/young)  DEG  -log10(fdr)\n",
       "gene                                                                 \n",
       "Xkr4           23.941545  0.000044         0.500929    0     4.354202\n",
       "Mrpl15          3.136794  0.290830        -0.269553    0     0.536361\n",
       "Lypla1         23.228939  0.000060         0.207979    0     4.222170\n",
       "Tcea1          23.091860  0.000064        -0.363972    0     4.197146\n",
       "Rgs20           0.094349  0.964279         0.009778    0     0.015797\n",
       "...                  ...       ...              ...  ...          ...\n",
       "Ugt1a7c         4.431107  0.171815         2.399207    0     0.764940\n",
       "Fxyd3           1.814598  0.493208         1.681933    0     0.306970\n",
       "Acsm5          28.559128  0.000007         0.120010    0     5.177882\n",
       "Gm14902         1.815748  0.493083         1.986005    0     0.307080\n",
       "4933413C19Rik   5.635365  0.105174         1.580603    0     0.978091\n",
       "\n",
       "[13592 rows x 5 columns]"
      ]
     },
     "execution_count": 7,
     "metadata": {},
     "output_type": "execute_result"
    }
   ],
   "source": [
    "# my deg analysis\n",
    "pvalue_cut = 1e-5\n",
    "log2fc_cut = 0.3\n",
    "\n",
    "\n",
    "expr = pd.read_hdf(f'/data/female-amb/Diff.Result/DEG.stats/{ct}/expr.hdf').T\n",
    "expr = expr + 1e-5\n",
    "all_genes = pd.read_hdf(f'/data/female-amb/Diff.Result/DEG.stats/{ct}/deg_stats.hdf')\n",
    "all_genes['log2(old/young)'] = np.log2(expr[f\"{ct}.18mo\"]/expr[f\"{ct}.2mo\"])\n",
    "\n",
    "# highly expressed genes\n",
    "highly_expressed_genes = expr.sum(axis = 1)[expr.sum(axis = 1) > 1e-3].index\n",
    "all_genes = all_genes.loc[all_genes.index.isin(highly_expressed_genes)]\n",
    "\n",
    "# add a column in all_genes, if the gene not in deg_df the value = 0; if the value in deg_df['avg_log2FC'] > 0, the value = -1; if the value in deg_df['avg_log2FC'] < 0, the value = 1\n",
    "deg_df = all_genes[(all_genes['fdr'] < pvalue_cut) & (np.abs(all_genes['log2(old/young)']) > log2fc_cut)]\n",
    "all_genes['DEG'] = 0\n",
    "all_genes.loc[deg_df.index, 'DEG'] = all_genes.loc[deg_df.index, 'log2(old/young)'].apply(lambda x: 1 if x > 0 else -1)\n",
    "all_genes = all_genes[all_genes.index.isin(use_genes)]\n",
    "\n",
    "min_value = all_genes[all_genes['fdr'] != 0].sort_values('fdr').iloc[0]['fdr']\n",
    "all_genes['-log10(fdr)'] = -np.log10(all_genes['fdr'] + min_value)\n",
    "all_genes"
   ]
  },
  {
   "cell_type": "code",
   "execution_count": 8,
   "id": "8ca8425a",
   "metadata": {
    "execution": {
     "iopub.execute_input": "2024-12-08T03:33:52.115371Z",
     "iopub.status.busy": "2024-12-08T03:33:52.115193Z",
     "iopub.status.idle": "2024-12-08T03:33:52.122283Z",
     "shell.execute_reply": "2024-12-08T03:33:52.121804Z"
    },
    "papermill": {
     "duration": 0.011426,
     "end_time": "2024-12-08T03:33:52.123348",
     "exception": false,
     "start_time": "2024-12-08T03:33:52.111922",
     "status": "completed"
    },
    "tags": []
   },
   "outputs": [
    {
     "data": {
      "text/plain": [
       "DEG\n",
       " 0    13098\n",
       " 1      259\n",
       "-1      235\n",
       "Name: count, dtype: int64"
      ]
     },
     "execution_count": 8,
     "metadata": {},
     "output_type": "execute_result"
    }
   ],
   "source": [
    "all_genes = all_genes[all_genes.index.isin(use_genes)]\n",
    "all_genes['DEG'].value_counts()"
   ]
  },
  {
   "cell_type": "code",
   "execution_count": 9,
   "id": "736c2cb8",
   "metadata": {
    "execution": {
     "iopub.execute_input": "2024-12-08T03:33:52.131089Z",
     "iopub.status.busy": "2024-12-08T03:33:52.130912Z",
     "iopub.status.idle": "2024-12-08T03:33:52.196203Z",
     "shell.execute_reply": "2024-12-08T03:33:52.195626Z"
    },
    "papermill": {
     "duration": 0.070219,
     "end_time": "2024-12-08T03:33:52.197839",
     "exception": false,
     "start_time": "2024-12-08T03:33:52.127620",
     "status": "completed"
    },
    "tags": []
   },
   "outputs": [],
   "source": [
    "all_genes.to_csv(f\"{home_dir}/ml_input/{ct}/{ct}.RNA_DEG.csv\")"
   ]
  },
  {
   "cell_type": "markdown",
   "id": "f46a50d5",
   "metadata": {
    "papermill": {
     "duration": 0.00272,
     "end_time": "2024-12-08T03:33:52.203490",
     "exception": false,
     "start_time": "2024-12-08T03:33:52.200770",
     "status": "completed"
    },
    "tags": []
   },
   "source": [
    "## luida deg"
   ]
  },
  {
   "cell_type": "code",
   "execution_count": 10,
   "id": "f3e0ce31",
   "metadata": {
    "execution": {
     "iopub.execute_input": "2024-12-08T03:33:52.210022Z",
     "iopub.status.busy": "2024-12-08T03:33:52.209519Z",
     "iopub.status.idle": "2024-12-08T03:33:52.449474Z",
     "shell.execute_reply": "2024-12-08T03:33:52.448947Z"
    },
    "papermill": {
     "duration": 0.244585,
     "end_time": "2024-12-08T03:33:52.450707",
     "exception": false,
     "start_time": "2024-12-08T03:33:52.206122",
     "status": "completed"
    },
    "tags": []
   },
   "outputs": [
    {
     "data": {
      "text/html": [
       "<div>\n",
       "<style scoped>\n",
       "    .dataframe tbody tr th:only-of-type {\n",
       "        vertical-align: middle;\n",
       "    }\n",
       "\n",
       "    .dataframe tbody tr th {\n",
       "        vertical-align: top;\n",
       "    }\n",
       "\n",
       "    .dataframe thead th {\n",
       "        text-align: right;\n",
       "    }\n",
       "</style>\n",
       "<table border=\"1\" class=\"dataframe\">\n",
       "  <thead>\n",
       "    <tr style=\"text-align: right;\">\n",
       "      <th></th>\n",
       "      <th>p_val</th>\n",
       "      <th>avg_log2FC</th>\n",
       "      <th>pct.1</th>\n",
       "      <th>pct.2</th>\n",
       "      <th>p_val_adj</th>\n",
       "    </tr>\n",
       "  </thead>\n",
       "  <tbody>\n",
       "    <tr>\n",
       "      <th>Apoe</th>\n",
       "      <td>4.010310e-146</td>\n",
       "      <td>1.018486</td>\n",
       "      <td>0.849</td>\n",
       "      <td>0.636</td>\n",
       "      <td>1.041638e-141</td>\n",
       "    </tr>\n",
       "    <tr>\n",
       "      <th>Clu</th>\n",
       "      <td>1.275650e-123</td>\n",
       "      <td>1.344176</td>\n",
       "      <td>0.621</td>\n",
       "      <td>0.366</td>\n",
       "      <td>3.313372e-119</td>\n",
       "    </tr>\n",
       "    <tr>\n",
       "      <th>Cst3</th>\n",
       "      <td>1.423438e-120</td>\n",
       "      <td>1.101727</td>\n",
       "      <td>0.830</td>\n",
       "      <td>0.663</td>\n",
       "      <td>3.697239e-116</td>\n",
       "    </tr>\n",
       "    <tr>\n",
       "      <th>Dach1</th>\n",
       "      <td>6.551953e-77</td>\n",
       "      <td>-1.430716</td>\n",
       "      <td>0.214</td>\n",
       "      <td>0.396</td>\n",
       "      <td>1.701804e-72</td>\n",
       "    </tr>\n",
       "    <tr>\n",
       "      <th>Sema6d</th>\n",
       "      <td>8.820603e-66</td>\n",
       "      <td>0.835293</td>\n",
       "      <td>0.638</td>\n",
       "      <td>0.453</td>\n",
       "      <td>2.291063e-61</td>\n",
       "    </tr>\n",
       "  </tbody>\n",
       "</table>\n",
       "</div>"
      ],
      "text/plain": [
       "                p_val  avg_log2FC  pct.1  pct.2      p_val_adj\n",
       "Apoe    4.010310e-146    1.018486  0.849  0.636  1.041638e-141\n",
       "Clu     1.275650e-123    1.344176  0.621  0.366  3.313372e-119\n",
       "Cst3    1.423438e-120    1.101727  0.830  0.663  3.697239e-116\n",
       "Dach1    6.551953e-77   -1.430716  0.214  0.396   1.701804e-72\n",
       "Sema6d   8.820603e-66    0.835293  0.638  0.453   2.291063e-61"
      ]
     },
     "execution_count": 10,
     "metadata": {},
     "output_type": "execute_result"
    }
   ],
   "source": [
    "pvalue_cut = 1e-2\n",
    "log2fc_cut = 0.3\n",
    "\n",
    "#luisa deg analysis\n",
    "deg_dir = '/data/female-amb/Diff.Result/luisa_deg'\n",
    "# load luisa results\n",
    "df= pd.read_csv(f'{deg_dir}/{ct}.csv', index_col=0)\n",
    "#select the DEGs bt the cutoffs\n",
    "deg_df = df[(df['p_val_adj'] < pvalue_cut) & (np.abs(df['avg_log2FC']) > log2fc_cut)]\n",
    "deg_df.head()"
   ]
  },
  {
   "cell_type": "code",
   "execution_count": 11,
   "id": "14e023a6-b23f-4c2f-9376-a94cd4a5ce71",
   "metadata": {
    "execution": {
     "iopub.execute_input": "2024-12-08T03:33:52.458327Z",
     "iopub.status.busy": "2024-12-08T03:33:52.458095Z",
     "iopub.status.idle": "2024-12-08T03:33:52.673476Z",
     "shell.execute_reply": "2024-12-08T03:33:52.672957Z"
    },
    "papermill": {
     "duration": 0.22016,
     "end_time": "2024-12-08T03:33:52.674638",
     "exception": false,
     "start_time": "2024-12-08T03:33:52.454478",
     "status": "completed"
    },
    "tags": []
   },
   "outputs": [
    {
     "data": {
      "text/plain": [
       "<matplotlib.collections.PathCollection at 0x7fb05d8db2b0>"
      ]
     },
     "execution_count": 11,
     "metadata": {},
     "output_type": "execute_result"
    },
    {
     "data": {
      "image/png": "[encoded data removed]",
      "text/plain": [
       "<Figure size 200x200 with 1 Axes>"
      ]
     },
     "metadata": {},
     "output_type": "display_data"
    }
   ],
   "source": [
    "# plot the volcano plot, with df in the background  and DEGs in the foreground\n",
    "fig, ax = plt.subplots(figsize=(2,2))\n",
    "ax.scatter(df['avg_log2FC'], -np.log10(df['p_val_adj']), s=3, color='lightgray')\n",
    "ax.scatter(deg_df['avg_log2FC'], -np.log10(deg_df['p_val_adj']), s=5)"
   ]
  },
  {
   "cell_type": "code",
   "execution_count": 12,
   "id": "194d532c",
   "metadata": {
    "execution": {
     "iopub.execute_input": "2024-12-08T03:33:52.681974Z",
     "iopub.status.busy": "2024-12-08T03:33:52.681799Z",
     "iopub.status.idle": "2024-12-08T03:33:52.686543Z",
     "shell.execute_reply": "2024-12-08T03:33:52.686043Z"
    },
    "papermill": {
     "duration": 0.009639,
     "end_time": "2024-12-08T03:33:52.687603",
     "exception": false,
     "start_time": "2024-12-08T03:33:52.677964",
     "status": "completed"
    },
    "tags": []
   },
   "outputs": [],
   "source": [
    "df['DEG'] = 0\n",
    "df.loc[deg_df.index, 'DEG'] = df.loc[deg_df.index, 'avg_log2FC'].apply(lambda x: -1 if x > 0 else 1)"
   ]
  },
  {
   "cell_type": "code",
   "execution_count": 13,
   "id": "795b2939",
   "metadata": {
    "execution": {
     "iopub.execute_input": "2024-12-08T03:33:52.694488Z",
     "iopub.status.busy": "2024-12-08T03:33:52.694327Z",
     "iopub.status.idle": "2024-12-08T03:33:52.699503Z",
     "shell.execute_reply": "2024-12-08T03:33:52.699013Z"
    },
    "papermill": {
     "duration": 0.00993,
     "end_time": "2024-12-08T03:33:52.700544",
     "exception": false,
     "start_time": "2024-12-08T03:33:52.690614",
     "status": "completed"
    },
    "tags": []
   },
   "outputs": [],
   "source": [
    "df = df.loc[df.index.isin(use_genes)]"
   ]
  },
  {
   "cell_type": "code",
   "execution_count": 14,
   "id": "eb43dbda",
   "metadata": {
    "execution": {
     "iopub.execute_input": "2024-12-08T03:33:52.707750Z",
     "iopub.status.busy": "2024-12-08T03:33:52.707392Z",
     "iopub.status.idle": "2024-12-08T03:33:52.718358Z",
     "shell.execute_reply": "2024-12-08T03:33:52.717691Z"
    },
    "papermill": {
     "duration": 0.015821,
     "end_time": "2024-12-08T03:33:52.719476",
     "exception": false,
     "start_time": "2024-12-08T03:33:52.703655",
     "status": "completed"
    },
    "tags": []
   },
   "outputs": [
    {
     "data": {
      "text/html": [
       "<div>\n",
       "<style scoped>\n",
       "    .dataframe tbody tr th:only-of-type {\n",
       "        vertical-align: middle;\n",
       "    }\n",
       "\n",
       "    .dataframe tbody tr th {\n",
       "        vertical-align: top;\n",
       "    }\n",
       "\n",
       "    .dataframe thead th {\n",
       "        text-align: right;\n",
       "    }\n",
       "</style>\n",
       "<table border=\"1\" class=\"dataframe\">\n",
       "  <thead>\n",
       "    <tr style=\"text-align: right;\">\n",
       "      <th></th>\n",
       "      <th>p_val</th>\n",
       "      <th>avg_log2FC</th>\n",
       "      <th>pct.1</th>\n",
       "      <th>pct.2</th>\n",
       "      <th>p_val_adj</th>\n",
       "      <th>DEG</th>\n",
       "    </tr>\n",
       "  </thead>\n",
       "  <tbody>\n",
       "    <tr>\n",
       "      <th>Apoe</th>\n",
       "      <td>4.010310e-146</td>\n",
       "      <td>1.018486</td>\n",
       "      <td>0.849</td>\n",
       "      <td>0.636</td>\n",
       "      <td>1.041638e-141</td>\n",
       "      <td>-1</td>\n",
       "    </tr>\n",
       "    <tr>\n",
       "      <th>Clu</th>\n",
       "      <td>1.275650e-123</td>\n",
       "      <td>1.344176</td>\n",
       "      <td>0.621</td>\n",
       "      <td>0.366</td>\n",
       "      <td>3.313372e-119</td>\n",
       "      <td>-1</td>\n",
       "    </tr>\n",
       "    <tr>\n",
       "      <th>Cst3</th>\n",
       "      <td>1.423438e-120</td>\n",
       "      <td>1.101727</td>\n",
       "      <td>0.830</td>\n",
       "      <td>0.663</td>\n",
       "      <td>3.697239e-116</td>\n",
       "      <td>-1</td>\n",
       "    </tr>\n",
       "    <tr>\n",
       "      <th>Dach1</th>\n",
       "      <td>6.551953e-77</td>\n",
       "      <td>-1.430716</td>\n",
       "      <td>0.214</td>\n",
       "      <td>0.396</td>\n",
       "      <td>1.701804e-72</td>\n",
       "      <td>1</td>\n",
       "    </tr>\n",
       "    <tr>\n",
       "      <th>Sema6d</th>\n",
       "      <td>8.820603e-66</td>\n",
       "      <td>0.835293</td>\n",
       "      <td>0.638</td>\n",
       "      <td>0.453</td>\n",
       "      <td>2.291063e-61</td>\n",
       "      <td>-1</td>\n",
       "    </tr>\n",
       "    <tr>\n",
       "      <th>Mt1</th>\n",
       "      <td>9.984511e-56</td>\n",
       "      <td>1.082526</td>\n",
       "      <td>0.431</td>\n",
       "      <td>0.244</td>\n",
       "      <td>2.593377e-51</td>\n",
       "      <td>-1</td>\n",
       "    </tr>\n",
       "    <tr>\n",
       "      <th>Fgf14</th>\n",
       "      <td>6.019670e-53</td>\n",
       "      <td>-0.467315</td>\n",
       "      <td>0.947</td>\n",
       "      <td>0.985</td>\n",
       "      <td>1.563549e-48</td>\n",
       "      <td>1</td>\n",
       "    </tr>\n",
       "    <tr>\n",
       "      <th>Brinp3</th>\n",
       "      <td>1.590475e-52</td>\n",
       "      <td>-0.750221</td>\n",
       "      <td>0.480</td>\n",
       "      <td>0.601</td>\n",
       "      <td>4.131099e-48</td>\n",
       "      <td>1</td>\n",
       "    </tr>\n",
       "    <tr>\n",
       "      <th>Csmd1</th>\n",
       "      <td>1.703904e-50</td>\n",
       "      <td>0.510916</td>\n",
       "      <td>0.935</td>\n",
       "      <td>0.890</td>\n",
       "      <td>4.425719e-46</td>\n",
       "      <td>-1</td>\n",
       "    </tr>\n",
       "    <tr>\n",
       "      <th>Gpr37l1</th>\n",
       "      <td>2.469246e-47</td>\n",
       "      <td>1.003263</td>\n",
       "      <td>0.358</td>\n",
       "      <td>0.191</td>\n",
       "      <td>6.413619e-43</td>\n",
       "      <td>-1</td>\n",
       "    </tr>\n",
       "    <tr>\n",
       "      <th>Ctnna2</th>\n",
       "      <td>2.559074e-47</td>\n",
       "      <td>0.448350</td>\n",
       "      <td>0.958</td>\n",
       "      <td>0.900</td>\n",
       "      <td>6.646938e-43</td>\n",
       "      <td>-1</td>\n",
       "    </tr>\n",
       "    <tr>\n",
       "      <th>Cped1</th>\n",
       "      <td>1.903025e-46</td>\n",
       "      <td>-1.877316</td>\n",
       "      <td>0.045</td>\n",
       "      <td>0.151</td>\n",
       "      <td>4.942917e-42</td>\n",
       "      <td>1</td>\n",
       "    </tr>\n",
       "    <tr>\n",
       "      <th>Pcdh9</th>\n",
       "      <td>3.892650e-46</td>\n",
       "      <td>-0.344057</td>\n",
       "      <td>1.000</td>\n",
       "      <td>1.000</td>\n",
       "      <td>1.011077e-41</td>\n",
       "      <td>1</td>\n",
       "    </tr>\n",
       "    <tr>\n",
       "      <th>Shroom3</th>\n",
       "      <td>3.730037e-42</td>\n",
       "      <td>-1.861931</td>\n",
       "      <td>0.034</td>\n",
       "      <td>0.129</td>\n",
       "      <td>9.688399e-38</td>\n",
       "      <td>1</td>\n",
       "    </tr>\n",
       "    <tr>\n",
       "      <th>Dcc</th>\n",
       "      <td>8.465964e-38</td>\n",
       "      <td>0.582999</td>\n",
       "      <td>0.838</td>\n",
       "      <td>0.746</td>\n",
       "      <td>2.198950e-33</td>\n",
       "      <td>-1</td>\n",
       "    </tr>\n",
       "    <tr>\n",
       "      <th>Grip1</th>\n",
       "      <td>4.840137e-37</td>\n",
       "      <td>0.601793</td>\n",
       "      <td>0.662</td>\n",
       "      <td>0.566</td>\n",
       "      <td>1.257177e-32</td>\n",
       "      <td>-1</td>\n",
       "    </tr>\n",
       "    <tr>\n",
       "      <th>Cd81</th>\n",
       "      <td>3.948060e-35</td>\n",
       "      <td>0.906917</td>\n",
       "      <td>0.332</td>\n",
       "      <td>0.191</td>\n",
       "      <td>1.025469e-30</td>\n",
       "      <td>-1</td>\n",
       "    </tr>\n",
       "    <tr>\n",
       "      <th>Mt3</th>\n",
       "      <td>8.832008e-34</td>\n",
       "      <td>0.966088</td>\n",
       "      <td>0.320</td>\n",
       "      <td>0.188</td>\n",
       "      <td>2.294026e-29</td>\n",
       "      <td>-1</td>\n",
       "    </tr>\n",
       "    <tr>\n",
       "      <th>Lrrc4c</th>\n",
       "      <td>7.880578e-32</td>\n",
       "      <td>-0.366611</td>\n",
       "      <td>0.983</td>\n",
       "      <td>0.991</td>\n",
       "      <td>2.046901e-27</td>\n",
       "      <td>1</td>\n",
       "    </tr>\n",
       "    <tr>\n",
       "      <th>Erbb4</th>\n",
       "      <td>2.428762e-30</td>\n",
       "      <td>-0.499272</td>\n",
       "      <td>0.609</td>\n",
       "      <td>0.720</td>\n",
       "      <td>6.308466e-26</td>\n",
       "      <td>1</td>\n",
       "    </tr>\n",
       "  </tbody>\n",
       "</table>\n",
       "</div>"
      ],
      "text/plain": [
       "                 p_val  avg_log2FC  pct.1  pct.2      p_val_adj  DEG\n",
       "Apoe     4.010310e-146    1.018486  0.849  0.636  1.041638e-141   -1\n",
       "Clu      1.275650e-123    1.344176  0.621  0.366  3.313372e-119   -1\n",
       "Cst3     1.423438e-120    1.101727  0.830  0.663  3.697239e-116   -1\n",
       "Dach1     6.551953e-77   -1.430716  0.214  0.396   1.701804e-72    1\n",
       "Sema6d    8.820603e-66    0.835293  0.638  0.453   2.291063e-61   -1\n",
       "Mt1       9.984511e-56    1.082526  0.431  0.244   2.593377e-51   -1\n",
       "Fgf14     6.019670e-53   -0.467315  0.947  0.985   1.563549e-48    1\n",
       "Brinp3    1.590475e-52   -0.750221  0.480  0.601   4.131099e-48    1\n",
       "Csmd1     1.703904e-50    0.510916  0.935  0.890   4.425719e-46   -1\n",
       "Gpr37l1   2.469246e-47    1.003263  0.358  0.191   6.413619e-43   -1\n",
       "Ctnna2    2.559074e-47    0.448350  0.958  0.900   6.646938e-43   -1\n",
       "Cped1     1.903025e-46   -1.877316  0.045  0.151   4.942917e-42    1\n",
       "Pcdh9     3.892650e-46   -0.344057  1.000  1.000   1.011077e-41    1\n",
       "Shroom3   3.730037e-42   -1.861931  0.034  0.129   9.688399e-38    1\n",
       "Dcc       8.465964e-38    0.582999  0.838  0.746   2.198950e-33   -1\n",
       "Grip1     4.840137e-37    0.601793  0.662  0.566   1.257177e-32   -1\n",
       "Cd81      3.948060e-35    0.906917  0.332  0.191   1.025469e-30   -1\n",
       "Mt3       8.832008e-34    0.966088  0.320  0.188   2.294026e-29   -1\n",
       "Lrrc4c    7.880578e-32   -0.366611  0.983  0.991   2.046901e-27    1\n",
       "Erbb4     2.428762e-30   -0.499272  0.609  0.720   6.308466e-26    1"
      ]
     },
     "execution_count": 14,
     "metadata": {},
     "output_type": "execute_result"
    }
   ],
   "source": [
    "df.sort_values('p_val_adj').head(20)"
   ]
  },
  {
   "cell_type": "code",
   "execution_count": 15,
   "id": "47aafa62",
   "metadata": {
    "execution": {
     "iopub.execute_input": "2024-12-08T03:33:52.727161Z",
     "iopub.status.busy": "2024-12-08T03:33:52.726955Z",
     "iopub.status.idle": "2024-12-08T03:33:52.731436Z",
     "shell.execute_reply": "2024-12-08T03:33:52.730958Z"
    },
    "papermill": {
     "duration": 0.009364,
     "end_time": "2024-12-08T03:33:52.732467",
     "exception": false,
     "start_time": "2024-12-08T03:33:52.723103",
     "status": "completed"
    },
    "tags": []
   },
   "outputs": [
    {
     "data": {
      "text/plain": [
       "DEG\n",
       " 0    6436\n",
       "-1     117\n",
       " 1      76\n",
       "Name: count, dtype: int64"
      ]
     },
     "execution_count": 15,
     "metadata": {},
     "output_type": "execute_result"
    }
   ],
   "source": [
    "df['DEG'].value_counts()"
   ]
  },
  {
   "cell_type": "code",
   "execution_count": 16,
   "id": "57b192ba-12a3-461d-bc47-a61bcf81529f",
   "metadata": {
    "execution": {
     "iopub.execute_input": "2024-12-08T03:33:52.739947Z",
     "iopub.status.busy": "2024-12-08T03:33:52.739790Z",
     "iopub.status.idle": "2024-12-08T03:33:52.764684Z",
     "shell.execute_reply": "2024-12-08T03:33:52.764107Z"
    },
    "papermill": {
     "duration": 0.030127,
     "end_time": "2024-12-08T03:33:52.765995",
     "exception": false,
     "start_time": "2024-12-08T03:33:52.735868",
     "status": "completed"
    },
    "tags": []
   },
   "outputs": [],
   "source": [
    "# save the table out as f\"{ct}.RNAseq_DEG.hdf\"\n",
    "df.to_csv(f\"{home_dir}/ml_input/{ct}/{ct}.luisa_RNA_DEG.csv\")"
   ]
  },
  {
   "cell_type": "markdown",
   "id": "63bcd329",
   "metadata": {
    "papermill": {
     "duration": 0.003504,
     "end_time": "2024-12-08T03:33:52.773122",
     "exception": false,
     "start_time": "2024-12-08T03:33:52.769618",
     "status": "completed"
    },
    "tags": []
   },
   "source": [
    "## gene meta"
   ]
  },
  {
   "cell_type": "code",
   "execution_count": 17,
   "id": "464c6f8e",
   "metadata": {
    "execution": {
     "iopub.execute_input": "2024-12-08T03:33:52.780997Z",
     "iopub.status.busy": "2024-12-08T03:33:52.780597Z",
     "iopub.status.idle": "2024-12-08T03:33:52.783404Z",
     "shell.execute_reply": "2024-12-08T03:33:52.782903Z"
    },
    "papermill": {
     "duration": 0.007998,
     "end_time": "2024-12-08T03:33:52.784479",
     "exception": false,
     "start_time": "2024-12-08T03:33:52.776481",
     "status": "completed"
    },
    "tags": []
   },
   "outputs": [],
   "source": [
    "# gene_meta = pd.read_csv('/data/ref/gencode.vM22.basic.annotation.gene.flat.tsv.gz', sep = '\\t')\n",
    "# gene_meta = gene_meta[['chrom','start','end','gene_id','strand','gene_name','gene_type']]\n",
    "# # slop start and end 2000\n",
    "# gene_meta['start'] = gene_meta['start'] - 2000\n",
    "# gene_meta['end'] = gene_meta['end'] + 2000\n",
    "# # remove chrM, chrX and chrY\n",
    "# gene_meta = gene_meta[~gene_meta['chrom'].isin(['chrM','chrX','chrY'])]\n",
    "# gene_meta"
   ]
  },
  {
   "cell_type": "code",
   "execution_count": 18,
   "id": "10dc347c",
   "metadata": {
    "execution": {
     "iopub.execute_input": "2024-12-08T03:33:52.792234Z",
     "iopub.status.busy": "2024-12-08T03:33:52.792038Z",
     "iopub.status.idle": "2024-12-08T03:33:52.795166Z",
     "shell.execute_reply": "2024-12-08T03:33:52.794555Z"
    },
    "papermill": {
     "duration": 0.008408,
     "end_time": "2024-12-08T03:33:52.796368",
     "exception": false,
     "start_time": "2024-12-08T03:33:52.787960",
     "status": "completed"
    },
    "tags": []
   },
   "outputs": [],
   "source": [
    "# gene_meta.to_csv('mm10_gene_2kb.bed', sep = '\\t', index = False, header = False)"
   ]
  },
  {
   "cell_type": "code",
   "execution_count": null,
   "id": "a112b31a",
   "metadata": {
    "papermill": {
     "duration": 0.00338,
     "end_time": "2024-12-08T03:33:52.803198",
     "exception": false,
     "start_time": "2024-12-08T03:33:52.799818",
     "status": "completed"
    },
    "tags": []
   },
   "outputs": [],
   "source": []
  },
  {
   "cell_type": "code",
   "execution_count": null,
   "id": "37c9cd46",
   "metadata": {
    "papermill": {
     "duration": 0.003409,
     "end_time": "2024-12-08T03:33:52.809943",
     "exception": false,
     "start_time": "2024-12-08T03:33:52.806534",
     "status": "completed"
    },
    "tags": []
   },
   "outputs": [],
   "source": []
  }
 ],
 "metadata": {
  "kernelspec": {
   "display_name": "Python 3 (ipykernel)",
   "language": "python",
   "name": "python3"
  },
  "language_info": {
   "codemirror_mode": {
    "name": "ipython",
    "version": 3
   },
   "file_extension": ".py",
   "mimetype": "text/x-python",
   "name": "python",
   "nbconvert_exporter": "python",
   "pygments_lexer": "ipython3",
   "version": "3.10.12"
  },
  "papermill": {
   "default_parameters": {},
   "duration": 10.174241,
   "end_time": "2024-12-08T03:33:54.132718",
   "environment_variables": {},
   "exception": null,
   "input_path": "/home/qzeng_salk_edu/project/241018_pre_ml/gen_ml_input/notebooks/00.pre_rna.ipynb",
   "output_path": "Astro-TE_NN/00.pre_rna.ipynb",
   "parameters": {
    "cpu": 8,
    "group_name": "Astro-TE_NN",
    "mem_gb": 10
   },
   "start_time": "2024-12-08T03:33:43.958477",
   "version": "2.4.0"
  }
 },
 "nbformat": 4,
 "nbformat_minor": 5
}