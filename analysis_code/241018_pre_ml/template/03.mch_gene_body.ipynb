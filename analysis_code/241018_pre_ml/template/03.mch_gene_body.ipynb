{
 "cells": [
  {
   "cell_type": "code",
   "execution_count": 1,
   "id": "1a7a2d88",
   "metadata": {
    "execution": {
     "iopub.execute_input": "2024-12-08T03:35:18.984866Z",
     "iopub.status.busy": "2024-12-08T03:35:18.984438Z",
     "iopub.status.idle": "2024-12-08T03:35:18.989929Z",
     "shell.execute_reply": "2024-12-08T03:35:18.989381Z"
    },
    "papermill": {
     "duration": 0.009493,
     "end_time": "2024-12-08T03:35:18.991060",
     "exception": false,
     "start_time": "2024-12-08T03:35:18.981567",
     "status": "completed"
    },
    "tags": [
     "injected-parameters"
    ]
   },
   "outputs": [],
   "source": [
    "# Parameters\n",
    "cpu = 8\n",
    "group_name = \"Astro-TE_NN\"\n",
    "mem_gb = 10\n"
   ]
  },
  {
   "cell_type": "code",
   "execution_count": 2,
   "id": "d064615d",
   "metadata": {
    "execution": {
     "iopub.execute_input": "2024-12-08T03:35:18.994551Z",
     "iopub.status.busy": "2024-12-08T03:35:18.994200Z",
     "iopub.status.idle": "2024-12-08T03:35:19.256942Z",
     "shell.execute_reply": "2024-12-08T03:35:19.256393Z"
    },
    "papermill": {
     "duration": 0.266108,
     "end_time": "2024-12-08T03:35:19.258556",
     "exception": false,
     "start_time": "2024-12-08T03:35:18.992448",
     "status": "completed"
    },
    "tags": []
   },
   "outputs": [],
   "source": [
    "import pandas as pd\n",
    "import subprocess\n",
    "import numpy as np"
   ]
  },
  {
   "cell_type": "code",
   "execution_count": 3,
   "id": "0c4c0fa0",
   "metadata": {
    "execution": {
     "iopub.execute_input": "2024-12-08T03:35:19.262559Z",
     "iopub.status.busy": "2024-12-08T03:35:19.262005Z",
     "iopub.status.idle": "2024-12-08T03:35:19.264812Z",
     "shell.execute_reply": "2024-12-08T03:35:19.264347Z"
    },
    "papermill": {
     "duration": 0.005747,
     "end_time": "2024-12-08T03:35:19.265811",
     "exception": false,
     "start_time": "2024-12-08T03:35:19.260064",
     "status": "completed"
    },
    "tags": []
   },
   "outputs": [],
   "source": [
    "home_dir = '/home/qzeng_salk_edu/project/241018_pre_ml'\n",
    "ct = group_name\n",
    "_dir ='/data/dmg_result'"
   ]
  },
  {
   "cell_type": "code",
   "execution_count": 4,
   "id": "6df2a9a7",
   "metadata": {
    "execution": {
     "iopub.execute_input": "2024-12-08T03:35:19.269155Z",
     "iopub.status.busy": "2024-12-08T03:35:19.268749Z",
     "iopub.status.idle": "2024-12-08T03:35:20.945216Z",
     "shell.execute_reply": "2024-12-08T03:35:20.944545Z"
    },
    "papermill": {
     "duration": 1.680138,
     "end_time": "2024-12-08T03:35:20.947124",
     "exception": false,
     "start_time": "2024-12-08T03:35:19.266986",
     "status": "completed"
    },
    "tags": []
   },
   "outputs": [
    {
     "name": "stderr",
     "output_type": "stream",
     "text": [
      "/var/tmp/ipykernel_76867/190864294.py:1: DtypeWarning: Columns (10) have mixed types. Specify dtype option on import or set low_memory=False.\n",
      "  all_dmg = pd.read_csv(f\"{_dir}/Male.CHN.DMG.csv\", index_col =0)\n"
     ]
    }
   ],
   "source": [
    "all_dmg = pd.read_csv(f\"{_dir}/Male.CHN.DMG.csv\", index_col =0)\n",
    "all_dmg['celltype'] = all_dmg['celltype'].apply(lambda x: x.replace('/','').replace(' ','_'))"
   ]
  },
  {
   "cell_type": "code",
   "execution_count": 5,
   "id": "0e8f1d77",
   "metadata": {
    "execution": {
     "iopub.execute_input": "2024-12-08T03:35:20.952335Z",
     "iopub.status.busy": "2024-12-08T03:35:20.952144Z",
     "iopub.status.idle": "2024-12-08T03:35:21.148675Z",
     "shell.execute_reply": "2024-12-08T03:35:21.147843Z"
    },
    "papermill": {
     "duration": 0.200583,
     "end_time": "2024-12-08T03:35:21.150071",
     "exception": false,
     "start_time": "2024-12-08T03:35:20.949488",
     "status": "completed"
    },
    "tags": []
   },
   "outputs": [
    {
     "data": {
      "text/html": [
       "<div>\n",
       "<style scoped>\n",
       "    .dataframe tbody tr th:only-of-type {\n",
       "        vertical-align: middle;\n",
       "    }\n",
       "\n",
       "    .dataframe tbody tr th {\n",
       "        vertical-align: top;\n",
       "    }\n",
       "\n",
       "    .dataframe thead th {\n",
       "        text-align: right;\n",
       "    }\n",
       "</style>\n",
       "<table border=\"1\" class=\"dataframe\">\n",
       "  <thead>\n",
       "    <tr style=\"text-align: right;\">\n",
       "      <th></th>\n",
       "      <th>chrom</th>\n",
       "      <th>source</th>\n",
       "      <th>feature</th>\n",
       "      <th>start</th>\n",
       "      <th>end</th>\n",
       "      <th>score</th>\n",
       "      <th>strand</th>\n",
       "      <th>phase</th>\n",
       "      <th>gene_id</th>\n",
       "      <th>transcript_id</th>\n",
       "      <th>...</th>\n",
       "      <th>gene_name</th>\n",
       "      <th>transcript_type</th>\n",
       "      <th>transcript_status</th>\n",
       "      <th>transcript_name</th>\n",
       "      <th>exon_number</th>\n",
       "      <th>exon_id</th>\n",
       "      <th>level</th>\n",
       "      <th>mgi_id</th>\n",
       "      <th>havana_gene</th>\n",
       "      <th>tag</th>\n",
       "    </tr>\n",
       "  </thead>\n",
       "  <tbody>\n",
       "    <tr>\n",
       "      <th>0</th>\n",
       "      <td>chr1</td>\n",
       "      <td>HAVANA</td>\n",
       "      <td>gene</td>\n",
       "      <td>3073253</td>\n",
       "      <td>3074322</td>\n",
       "      <td>.</td>\n",
       "      <td>+</td>\n",
       "      <td>.</td>\n",
       "      <td>ENSMUSG00000102693.1</td>\n",
       "      <td>NaN</td>\n",
       "      <td>...</td>\n",
       "      <td>4933401J01Rik</td>\n",
       "      <td>NaN</td>\n",
       "      <td>NaN</td>\n",
       "      <td>NaN</td>\n",
       "      <td>NaN</td>\n",
       "      <td>NaN</td>\n",
       "      <td>2</td>\n",
       "      <td>MGI:1918292</td>\n",
       "      <td>OTTMUSG00000049935.1</td>\n",
       "      <td>NaN</td>\n",
       "    </tr>\n",
       "    <tr>\n",
       "      <th>1</th>\n",
       "      <td>chr1</td>\n",
       "      <td>ENSEMBL</td>\n",
       "      <td>gene</td>\n",
       "      <td>3102016</td>\n",
       "      <td>3102125</td>\n",
       "      <td>.</td>\n",
       "      <td>+</td>\n",
       "      <td>.</td>\n",
       "      <td>ENSMUSG00000064842.1</td>\n",
       "      <td>NaN</td>\n",
       "      <td>...</td>\n",
       "      <td>Gm26206</td>\n",
       "      <td>NaN</td>\n",
       "      <td>NaN</td>\n",
       "      <td>NaN</td>\n",
       "      <td>NaN</td>\n",
       "      <td>NaN</td>\n",
       "      <td>3</td>\n",
       "      <td>MGI:5455983</td>\n",
       "      <td>NaN</td>\n",
       "      <td>NaN</td>\n",
       "    </tr>\n",
       "    <tr>\n",
       "      <th>2</th>\n",
       "      <td>chr1</td>\n",
       "      <td>HAVANA</td>\n",
       "      <td>gene</td>\n",
       "      <td>3205901</td>\n",
       "      <td>3671498</td>\n",
       "      <td>.</td>\n",
       "      <td>-</td>\n",
       "      <td>.</td>\n",
       "      <td>ENSMUSG00000051951.5</td>\n",
       "      <td>NaN</td>\n",
       "      <td>...</td>\n",
       "      <td>Xkr4</td>\n",
       "      <td>NaN</td>\n",
       "      <td>NaN</td>\n",
       "      <td>NaN</td>\n",
       "      <td>NaN</td>\n",
       "      <td>NaN</td>\n",
       "      <td>2</td>\n",
       "      <td>MGI:3528744</td>\n",
       "      <td>OTTMUSG00000026353.2</td>\n",
       "      <td>NaN</td>\n",
       "    </tr>\n",
       "    <tr>\n",
       "      <th>3</th>\n",
       "      <td>chr1</td>\n",
       "      <td>HAVANA</td>\n",
       "      <td>gene</td>\n",
       "      <td>3252757</td>\n",
       "      <td>3253236</td>\n",
       "      <td>.</td>\n",
       "      <td>+</td>\n",
       "      <td>.</td>\n",
       "      <td>ENSMUSG00000102851.1</td>\n",
       "      <td>NaN</td>\n",
       "      <td>...</td>\n",
       "      <td>Gm18956</td>\n",
       "      <td>NaN</td>\n",
       "      <td>NaN</td>\n",
       "      <td>NaN</td>\n",
       "      <td>NaN</td>\n",
       "      <td>NaN</td>\n",
       "      <td>1</td>\n",
       "      <td>MGI:5011141</td>\n",
       "      <td>OTTMUSG00000049958.1</td>\n",
       "      <td>pseudo_consens</td>\n",
       "    </tr>\n",
       "    <tr>\n",
       "      <th>4</th>\n",
       "      <td>chr1</td>\n",
       "      <td>HAVANA</td>\n",
       "      <td>gene</td>\n",
       "      <td>3365731</td>\n",
       "      <td>3368549</td>\n",
       "      <td>.</td>\n",
       "      <td>-</td>\n",
       "      <td>.</td>\n",
       "      <td>ENSMUSG00000103377.1</td>\n",
       "      <td>NaN</td>\n",
       "      <td>...</td>\n",
       "      <td>Gm37180</td>\n",
       "      <td>NaN</td>\n",
       "      <td>NaN</td>\n",
       "      <td>NaN</td>\n",
       "      <td>NaN</td>\n",
       "      <td>NaN</td>\n",
       "      <td>2</td>\n",
       "      <td>MGI:5610408</td>\n",
       "      <td>OTTMUSG00000049960.1</td>\n",
       "      <td>NaN</td>\n",
       "    </tr>\n",
       "  </tbody>\n",
       "</table>\n",
       "<p>5 rows × 22 columns</p>\n",
       "</div>"
      ],
      "text/plain": [
       "  chrom   source feature    start      end score strand phase  \\\n",
       "0  chr1   HAVANA    gene  3073253  3074322     .      +     .   \n",
       "1  chr1  ENSEMBL    gene  3102016  3102125     .      +     .   \n",
       "2  chr1   HAVANA    gene  3205901  3671498     .      -     .   \n",
       "3  chr1   HAVANA    gene  3252757  3253236     .      +     .   \n",
       "4  chr1   HAVANA    gene  3365731  3368549     .      -     .   \n",
       "\n",
       "                gene_id  transcript_id  ...      gene_name  transcript_type  \\\n",
       "0  ENSMUSG00000102693.1            NaN  ...  4933401J01Rik              NaN   \n",
       "1  ENSMUSG00000064842.1            NaN  ...        Gm26206              NaN   \n",
       "2  ENSMUSG00000051951.5            NaN  ...           Xkr4              NaN   \n",
       "3  ENSMUSG00000102851.1            NaN  ...        Gm18956              NaN   \n",
       "4  ENSMUSG00000103377.1            NaN  ...        Gm37180              NaN   \n",
       "\n",
       "  transcript_status  transcript_name  exon_number  exon_id  level  \\\n",
       "0               NaN              NaN          NaN      NaN      2   \n",
       "1               NaN              NaN          NaN      NaN      3   \n",
       "2               NaN              NaN          NaN      NaN      2   \n",
       "3               NaN              NaN          NaN      NaN      1   \n",
       "4               NaN              NaN          NaN      NaN      2   \n",
       "\n",
       "        mgi_id           havana_gene             tag  \n",
       "0  MGI:1918292  OTTMUSG00000049935.1             NaN  \n",
       "1  MGI:5455983                   NaN             NaN  \n",
       "2  MGI:3528744  OTTMUSG00000026353.2             NaN  \n",
       "3  MGI:5011141  OTTMUSG00000049958.1  pseudo_consens  \n",
       "4  MGI:5610408  OTTMUSG00000049960.1             NaN  \n",
       "\n",
       "[5 rows x 22 columns]"
      ]
     },
     "execution_count": 5,
     "metadata": {},
     "output_type": "execute_result"
    }
   ],
   "source": [
    "gene_meta = pd.read_csv(f\"/data/ref/gencode.vM22.basic.annotation.gene.flat.tsv.gz\", sep = '\\t')\n",
    "gene_meta.head()"
   ]
  },
  {
   "cell_type": "code",
   "execution_count": 6,
   "id": "e9baa316",
   "metadata": {
    "execution": {
     "iopub.execute_input": "2024-12-08T03:35:21.154443Z",
     "iopub.status.busy": "2024-12-08T03:35:21.154250Z",
     "iopub.status.idle": "2024-12-08T03:35:21.319871Z",
     "shell.execute_reply": "2024-12-08T03:35:21.319371Z"
    },
    "papermill": {
     "duration": 0.169098,
     "end_time": "2024-12-08T03:35:21.321070",
     "exception": false,
     "start_time": "2024-12-08T03:35:21.151972",
     "status": "completed"
    },
    "tags": []
   },
   "outputs": [
    {
     "data": {
      "text/html": [
       "<div>\n",
       "<style scoped>\n",
       "    .dataframe tbody tr th:only-of-type {\n",
       "        vertical-align: middle;\n",
       "    }\n",
       "\n",
       "    .dataframe tbody tr th {\n",
       "        vertical-align: top;\n",
       "    }\n",
       "\n",
       "    .dataframe thead th {\n",
       "        text-align: right;\n",
       "    }\n",
       "</style>\n",
       "<table border=\"1\" class=\"dataframe\">\n",
       "  <thead>\n",
       "    <tr style=\"text-align: right;\">\n",
       "      <th></th>\n",
       "      <th>pvalue</th>\n",
       "      <th>corrected_pvalue</th>\n",
       "      <th>18mo</th>\n",
       "      <th>2mo</th>\n",
       "      <th>9mo</th>\n",
       "      <th>gene_length</th>\n",
       "      <th>DMG</th>\n",
       "      <th>gene_name</th>\n",
       "    </tr>\n",
       "    <tr>\n",
       "      <th>geneslop2k</th>\n",
       "      <th></th>\n",
       "      <th></th>\n",
       "      <th></th>\n",
       "      <th></th>\n",
       "      <th></th>\n",
       "      <th></th>\n",
       "      <th></th>\n",
       "      <th></th>\n",
       "    </tr>\n",
       "  </thead>\n",
       "  <tbody>\n",
       "    <tr>\n",
       "      <th>ENSMUSG00000095280.1</th>\n",
       "      <td>5.381474e-33</td>\n",
       "      <td>3.300510e-27</td>\n",
       "      <td>2.814152</td>\n",
       "      <td>2.082123</td>\n",
       "      <td>2.701660</td>\n",
       "      <td>3073</td>\n",
       "      <td>-1</td>\n",
       "      <td>Gm21738</td>\n",
       "    </tr>\n",
       "    <tr>\n",
       "      <th>ENSMUSG00000004791.7</th>\n",
       "      <td>9.615712e-07</td>\n",
       "      <td>4.755974e-03</td>\n",
       "      <td>1.200605</td>\n",
       "      <td>1.472659</td>\n",
       "      <td>1.289384</td>\n",
       "      <td>11155</td>\n",
       "      <td>1</td>\n",
       "      <td>Pgf</td>\n",
       "    </tr>\n",
       "    <tr>\n",
       "      <th>ENSMUSG00000047759.6</th>\n",
       "      <td>2.306516e-08</td>\n",
       "      <td>2.773742e-04</td>\n",
       "      <td>1.735770</td>\n",
       "      <td>2.049690</td>\n",
       "      <td>1.857097</td>\n",
       "      <td>87509</td>\n",
       "      <td>1</td>\n",
       "      <td>Hs3st3a1</td>\n",
       "    </tr>\n",
       "    <tr>\n",
       "      <th>ENSMUSG00000045287.6</th>\n",
       "      <td>2.310149e-07</td>\n",
       "      <td>1.475872e-03</td>\n",
       "      <td>1.278004</td>\n",
       "      <td>1.447865</td>\n",
       "      <td>1.280530</td>\n",
       "      <td>73986</td>\n",
       "      <td>1</td>\n",
       "      <td>Rtn4rl1</td>\n",
       "    </tr>\n",
       "    <tr>\n",
       "      <th>ENSMUSG00000090066.2</th>\n",
       "      <td>1.228733e-06</td>\n",
       "      <td>5.841811e-03</td>\n",
       "      <td>1.501487</td>\n",
       "      <td>1.796470</td>\n",
       "      <td>1.570389</td>\n",
       "      <td>16454</td>\n",
       "      <td>1</td>\n",
       "      <td>1110002E22Rik</td>\n",
       "    </tr>\n",
       "  </tbody>\n",
       "</table>\n",
       "</div>"
      ],
      "text/plain": [
       "                            pvalue  corrected_pvalue      18mo       2mo  \\\n",
       "geneslop2k                                                                 \n",
       "ENSMUSG00000095280.1  5.381474e-33      3.300510e-27  2.814152  2.082123   \n",
       "ENSMUSG00000004791.7  9.615712e-07      4.755974e-03  1.200605  1.472659   \n",
       "ENSMUSG00000047759.6  2.306516e-08      2.773742e-04  1.735770  2.049690   \n",
       "ENSMUSG00000045287.6  2.310149e-07      1.475872e-03  1.278004  1.447865   \n",
       "ENSMUSG00000090066.2  1.228733e-06      5.841811e-03  1.501487  1.796470   \n",
       "\n",
       "                           9mo  gene_length  DMG      gene_name  \n",
       "geneslop2k                                                       \n",
       "ENSMUSG00000095280.1  2.701660         3073   -1        Gm21738  \n",
       "ENSMUSG00000004791.7  1.289384        11155    1            Pgf  \n",
       "ENSMUSG00000047759.6  1.857097        87509    1       Hs3st3a1  \n",
       "ENSMUSG00000045287.6  1.280530        73986    1        Rtn4rl1  \n",
       "ENSMUSG00000090066.2  1.570389        16454    1  1110002E22Rik  "
      ]
     },
     "execution_count": 6,
     "metadata": {},
     "output_type": "execute_result"
    }
   ],
   "source": [
    "dmg =all_dmg[all_dmg['celltype'] == ct].copy()\n",
    "dmg['gene_name'] = dmg.index.map(gene_meta.set_index('gene_id')['gene_name'].to_dict())\n",
    "# change columns name 8wk to 2mo\n",
    "dmg.columns = dmg.columns.str.replace('8wk', '2mo')\n",
    "# add a column DMG, make corrected_pvalue < 0.05 and methylation_change > 0 as -1; corrected_pvalue < 0.05 and methylation_change < 0 as 1; the rest as 0\n",
    "dmg['DMG'] = np.where((dmg['methylation_change'] > 0) & (dmg['pvalue'] < 0.05), -1, np.where((dmg['methylation_change'] < 0) & (dmg['pvalue'] < 0.05), 1, 0))\n",
    "#dmg drop celltype, methylation_change, abs_change, trend\n",
    "dmg = dmg.drop(columns = ['celltype', 'methylation_change', 'abs_change', 'trend'])\n",
    "dmg.head()"
   ]
  },
  {
   "cell_type": "code",
   "execution_count": 7,
   "id": "7e9048d0",
   "metadata": {
    "execution": {
     "iopub.execute_input": "2024-12-08T03:35:21.325701Z",
     "iopub.status.busy": "2024-12-08T03:35:21.325518Z",
     "iopub.status.idle": "2024-12-08T03:35:21.502634Z",
     "shell.execute_reply": "2024-12-08T03:35:21.502086Z"
    },
    "papermill": {
     "duration": 0.181043,
     "end_time": "2024-12-08T03:35:21.504173",
     "exception": false,
     "start_time": "2024-12-08T03:35:21.323130",
     "status": "completed"
    },
    "tags": []
   },
   "outputs": [],
   "source": [
    "dmg.to_csv(f\"{home_dir}/ml_input/{ct}/{ct}.mCH_genebody_gene.csv\")"
   ]
  },
  {
   "cell_type": "code",
   "execution_count": null,
   "id": "f3c84fc9",
   "metadata": {
    "papermill": {
     "duration": 0.001759,
     "end_time": "2024-12-08T03:35:21.507885",
     "exception": false,
     "start_time": "2024-12-08T03:35:21.506126",
     "status": "completed"
    },
    "tags": []
   },
   "outputs": [],
   "source": []
  }
 ],
 "metadata": {
  "kernelspec": {
   "display_name": "base",
   "language": "python",
   "name": "python3"
  },
  "language_info": {
   "codemirror_mode": {
    "name": "ipython",
    "version": 3
   },
   "file_extension": ".py",
   "mimetype": "text/x-python",
   "name": "python",
   "nbconvert_exporter": "python",
   "pygments_lexer": "ipython3",
   "version": "3.10.12"
  },
  "papermill": {
   "default_parameters": {},
   "duration": 3.691837,
   "end_time": "2024-12-08T03:35:21.725937",
   "environment_variables": {},
   "exception": null,
   "input_path": "/home/qzeng_salk_edu/project/241018_pre_ml/gen_ml_input/notebooks/03.mch_gene_body.ipynb",
   "output_path": "Astro-TE_NN/03.mch_gene_body.ipynb",
   "parameters": {
    "cpu": 8,
    "group_name": "Astro-TE_NN",
    "mem_gb": 10
   },
   "start_time": "2024-12-08T03:35:18.034100",
   "version": "2.4.0"
  }
 },
 "nbformat": 4,
 "nbformat_minor": 5
}