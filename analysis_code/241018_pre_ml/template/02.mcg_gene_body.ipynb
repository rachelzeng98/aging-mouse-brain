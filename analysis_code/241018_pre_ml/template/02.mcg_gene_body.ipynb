{
 "cells": [
  {
   "cell_type": "code",
   "execution_count": 1,
   "id": "ba4ac6d4",
   "metadata": {
    "execution": {
     "iopub.execute_input": "2024-12-08T03:35:04.206338Z",
     "iopub.status.busy": "2024-12-08T03:35:04.205899Z",
     "iopub.status.idle": "2024-12-08T03:35:04.211256Z",
     "shell.execute_reply": "2024-12-08T03:35:04.210755Z"
    },
    "papermill": {
     "duration": 0.009423,
     "end_time": "2024-12-08T03:35:04.212512",
     "exception": false,
     "start_time": "2024-12-08T03:35:04.203089",
     "status": "completed"
    },
    "tags": [
     "injected-parameters"
    ]
   },
   "outputs": [],
   "source": [
    "# Parameters\n",
    "cpu = 8\n",
    "group_name = \"Astro-TE_NN\"\n",
    "mem_gb = 10\n"
   ]
  },
  {
   "cell_type": "code",
   "execution_count": 2,
   "id": "f9673de8",
   "metadata": {
    "execution": {
     "iopub.execute_input": "2024-12-08T03:35:04.218403Z",
     "iopub.status.busy": "2024-12-08T03:35:04.218054Z",
     "iopub.status.idle": "2024-12-08T03:35:04.525109Z",
     "shell.execute_reply": "2024-12-08T03:35:04.524433Z"
    },
    "papermill": {
     "duration": 0.311775,
     "end_time": "2024-12-08T03:35:04.526912",
     "exception": false,
     "start_time": "2024-12-08T03:35:04.215137",
     "status": "completed"
    },
    "tags": []
   },
   "outputs": [],
   "source": [
    "import pandas as pd\n",
    "import subprocess\n",
    "import numpy as np"
   ]
  },
  {
   "cell_type": "code",
   "execution_count": 3,
   "id": "1e23e479",
   "metadata": {
    "execution": {
     "iopub.execute_input": "2024-12-08T03:35:04.530843Z",
     "iopub.status.busy": "2024-12-08T03:35:04.530524Z",
     "iopub.status.idle": "2024-12-08T03:35:04.533605Z",
     "shell.execute_reply": "2024-12-08T03:35:04.533095Z"
    },
    "papermill": {
     "duration": 0.006356,
     "end_time": "2024-12-08T03:35:04.534821",
     "exception": false,
     "start_time": "2024-12-08T03:35:04.528465",
     "status": "completed"
    },
    "tags": []
   },
   "outputs": [],
   "source": [
    "#group_name = 'DG_Glut'"
   ]
  },
  {
   "cell_type": "code",
   "execution_count": 4,
   "id": "016145a2",
   "metadata": {
    "execution": {
     "iopub.execute_input": "2024-12-08T03:35:04.538216Z",
     "iopub.status.busy": "2024-12-08T03:35:04.538034Z",
     "iopub.status.idle": "2024-12-08T03:35:04.541053Z",
     "shell.execute_reply": "2024-12-08T03:35:04.540537Z"
    },
    "papermill": {
     "duration": 0.00605,
     "end_time": "2024-12-08T03:35:04.542160",
     "exception": false,
     "start_time": "2024-12-08T03:35:04.536110",
     "status": "completed"
    },
    "tags": []
   },
   "outputs": [],
   "source": [
    "home_dir = '/home/qzeng_salk_edu/project/241018_pre_ml'\n",
    "ct = group_name\n",
    "\n",
    "_dir ='/data/dmg_result'"
   ]
  },
  {
   "cell_type": "code",
   "execution_count": 5,
   "id": "2475015b",
   "metadata": {
    "execution": {
     "iopub.execute_input": "2024-12-08T03:35:04.545640Z",
     "iopub.status.busy": "2024-12-08T03:35:04.545441Z",
     "iopub.status.idle": "2024-12-08T03:35:07.799221Z",
     "shell.execute_reply": "2024-12-08T03:35:07.798632Z"
    },
    "papermill": {
     "duration": 3.257197,
     "end_time": "2024-12-08T03:35:07.800763",
     "exception": false,
     "start_time": "2024-12-08T03:35:04.543566",
     "status": "completed"
    },
    "tags": []
   },
   "outputs": [
    {
     "name": "stderr",
     "output_type": "stream",
     "text": [
      "/var/tmp/ipykernel_74973/2186674015.py:1: DtypeWarning: Columns (10) have mixed types. Specify dtype option on import or set low_memory=False.\n",
      "  all_dmg = pd.read_csv(f\"{_dir}/Male.CGN.DMG.csv\", index_col =0)\n"
     ]
    }
   ],
   "source": [
    "all_dmg = pd.read_csv(f\"{_dir}/Male.CGN.DMG.csv\", index_col =0)\n",
    "all_dmg['celltype'] = all_dmg['celltype'].apply(lambda x: x.replace('/','').replace(' ','_'))"
   ]
  },
  {
   "cell_type": "code",
   "execution_count": 6,
   "id": "66474b2f",
   "metadata": {
    "execution": {
     "iopub.execute_input": "2024-12-08T03:35:07.804830Z",
     "iopub.status.busy": "2024-12-08T03:35:07.804631Z",
     "iopub.status.idle": "2024-12-08T03:35:07.942662Z",
     "shell.execute_reply": "2024-12-08T03:35:07.942206Z"
    },
    "papermill": {
     "duration": 0.141416,
     "end_time": "2024-12-08T03:35:07.943895",
     "exception": false,
     "start_time": "2024-12-08T03:35:07.802479",
     "status": "completed"
    },
    "tags": []
   },
   "outputs": [
    {
     "data": {
      "text/html": [
       "<div>\n",
       "<style scoped>\n",
       "    .dataframe tbody tr th:only-of-type {\n",
       "        vertical-align: middle;\n",
       "    }\n",
       "\n",
       "    .dataframe tbody tr th {\n",
       "        vertical-align: top;\n",
       "    }\n",
       "\n",
       "    .dataframe thead th {\n",
       "        text-align: right;\n",
       "    }\n",
       "</style>\n",
       "<table border=\"1\" class=\"dataframe\">\n",
       "  <thead>\n",
       "    <tr style=\"text-align: right;\">\n",
       "      <th></th>\n",
       "      <th>chrom</th>\n",
       "      <th>source</th>\n",
       "      <th>feature</th>\n",
       "      <th>start</th>\n",
       "      <th>end</th>\n",
       "      <th>score</th>\n",
       "      <th>strand</th>\n",
       "      <th>phase</th>\n",
       "      <th>gene_id</th>\n",
       "      <th>transcript_id</th>\n",
       "      <th>...</th>\n",
       "      <th>gene_name</th>\n",
       "      <th>transcript_type</th>\n",
       "      <th>transcript_status</th>\n",
       "      <th>transcript_name</th>\n",
       "      <th>exon_number</th>\n",
       "      <th>exon_id</th>\n",
       "      <th>level</th>\n",
       "      <th>mgi_id</th>\n",
       "      <th>havana_gene</th>\n",
       "      <th>tag</th>\n",
       "    </tr>\n",
       "  </thead>\n",
       "  <tbody>\n",
       "    <tr>\n",
       "      <th>0</th>\n",
       "      <td>chr1</td>\n",
       "      <td>HAVANA</td>\n",
       "      <td>gene</td>\n",
       "      <td>3073253</td>\n",
       "      <td>3074322</td>\n",
       "      <td>.</td>\n",
       "      <td>+</td>\n",
       "      <td>.</td>\n",
       "      <td>ENSMUSG00000102693.1</td>\n",
       "      <td>NaN</td>\n",
       "      <td>...</td>\n",
       "      <td>4933401J01Rik</td>\n",
       "      <td>NaN</td>\n",
       "      <td>NaN</td>\n",
       "      <td>NaN</td>\n",
       "      <td>NaN</td>\n",
       "      <td>NaN</td>\n",
       "      <td>2</td>\n",
       "      <td>MGI:1918292</td>\n",
       "      <td>OTTMUSG00000049935.1</td>\n",
       "      <td>NaN</td>\n",
       "    </tr>\n",
       "    <tr>\n",
       "      <th>1</th>\n",
       "      <td>chr1</td>\n",
       "      <td>ENSEMBL</td>\n",
       "      <td>gene</td>\n",
       "      <td>3102016</td>\n",
       "      <td>3102125</td>\n",
       "      <td>.</td>\n",
       "      <td>+</td>\n",
       "      <td>.</td>\n",
       "      <td>ENSMUSG00000064842.1</td>\n",
       "      <td>NaN</td>\n",
       "      <td>...</td>\n",
       "      <td>Gm26206</td>\n",
       "      <td>NaN</td>\n",
       "      <td>NaN</td>\n",
       "      <td>NaN</td>\n",
       "      <td>NaN</td>\n",
       "      <td>NaN</td>\n",
       "      <td>3</td>\n",
       "      <td>MGI:5455983</td>\n",
       "      <td>NaN</td>\n",
       "      <td>NaN</td>\n",
       "    </tr>\n",
       "    <tr>\n",
       "      <th>2</th>\n",
       "      <td>chr1</td>\n",
       "      <td>HAVANA</td>\n",
       "      <td>gene</td>\n",
       "      <td>3205901</td>\n",
       "      <td>3671498</td>\n",
       "      <td>.</td>\n",
       "      <td>-</td>\n",
       "      <td>.</td>\n",
       "      <td>ENSMUSG00000051951.5</td>\n",
       "      <td>NaN</td>\n",
       "      <td>...</td>\n",
       "      <td>Xkr4</td>\n",
       "      <td>NaN</td>\n",
       "      <td>NaN</td>\n",
       "      <td>NaN</td>\n",
       "      <td>NaN</td>\n",
       "      <td>NaN</td>\n",
       "      <td>2</td>\n",
       "      <td>MGI:3528744</td>\n",
       "      <td>OTTMUSG00000026353.2</td>\n",
       "      <td>NaN</td>\n",
       "    </tr>\n",
       "    <tr>\n",
       "      <th>3</th>\n",
       "      <td>chr1</td>\n",
       "      <td>HAVANA</td>\n",
       "      <td>gene</td>\n",
       "      <td>3252757</td>\n",
       "      <td>3253236</td>\n",
       "      <td>.</td>\n",
       "      <td>+</td>\n",
       "      <td>.</td>\n",
       "      <td>ENSMUSG00000102851.1</td>\n",
       "      <td>NaN</td>\n",
       "      <td>...</td>\n",
       "      <td>Gm18956</td>\n",
       "      <td>NaN</td>\n",
       "      <td>NaN</td>\n",
       "      <td>NaN</td>\n",
       "      <td>NaN</td>\n",
       "      <td>NaN</td>\n",
       "      <td>1</td>\n",
       "      <td>MGI:5011141</td>\n",
       "      <td>OTTMUSG00000049958.1</td>\n",
       "      <td>pseudo_consens</td>\n",
       "    </tr>\n",
       "    <tr>\n",
       "      <th>4</th>\n",
       "      <td>chr1</td>\n",
       "      <td>HAVANA</td>\n",
       "      <td>gene</td>\n",
       "      <td>3365731</td>\n",
       "      <td>3368549</td>\n",
       "      <td>.</td>\n",
       "      <td>-</td>\n",
       "      <td>.</td>\n",
       "      <td>ENSMUSG00000103377.1</td>\n",
       "      <td>NaN</td>\n",
       "      <td>...</td>\n",
       "      <td>Gm37180</td>\n",
       "      <td>NaN</td>\n",
       "      <td>NaN</td>\n",
       "      <td>NaN</td>\n",
       "      <td>NaN</td>\n",
       "      <td>NaN</td>\n",
       "      <td>2</td>\n",
       "      <td>MGI:5610408</td>\n",
       "      <td>OTTMUSG00000049960.1</td>\n",
       "      <td>NaN</td>\n",
       "    </tr>\n",
       "  </tbody>\n",
       "</table>\n",
       "<p>5 rows × 22 columns</p>\n",
       "</div>"
      ],
      "text/plain": [
       "  chrom   source feature    start      end score strand phase  \\\n",
       "0  chr1   HAVANA    gene  3073253  3074322     .      +     .   \n",
       "1  chr1  ENSEMBL    gene  3102016  3102125     .      +     .   \n",
       "2  chr1   HAVANA    gene  3205901  3671498     .      -     .   \n",
       "3  chr1   HAVANA    gene  3252757  3253236     .      +     .   \n",
       "4  chr1   HAVANA    gene  3365731  3368549     .      -     .   \n",
       "\n",
       "                gene_id  transcript_id  ...      gene_name  transcript_type  \\\n",
       "0  ENSMUSG00000102693.1            NaN  ...  4933401J01Rik              NaN   \n",
       "1  ENSMUSG00000064842.1            NaN  ...        Gm26206              NaN   \n",
       "2  ENSMUSG00000051951.5            NaN  ...           Xkr4              NaN   \n",
       "3  ENSMUSG00000102851.1            NaN  ...        Gm18956              NaN   \n",
       "4  ENSMUSG00000103377.1            NaN  ...        Gm37180              NaN   \n",
       "\n",
       "  transcript_status  transcript_name  exon_number  exon_id  level  \\\n",
       "0               NaN              NaN          NaN      NaN      2   \n",
       "1               NaN              NaN          NaN      NaN      3   \n",
       "2               NaN              NaN          NaN      NaN      2   \n",
       "3               NaN              NaN          NaN      NaN      1   \n",
       "4               NaN              NaN          NaN      NaN      2   \n",
       "\n",
       "        mgi_id           havana_gene             tag  \n",
       "0  MGI:1918292  OTTMUSG00000049935.1             NaN  \n",
       "1  MGI:5455983                   NaN             NaN  \n",
       "2  MGI:3528744  OTTMUSG00000026353.2             NaN  \n",
       "3  MGI:5011141  OTTMUSG00000049958.1  pseudo_consens  \n",
       "4  MGI:5610408  OTTMUSG00000049960.1             NaN  \n",
       "\n",
       "[5 rows x 22 columns]"
      ]
     },
     "execution_count": 6,
     "metadata": {},
     "output_type": "execute_result"
    }
   ],
   "source": [
    "gene_meta = pd.read_csv(f\"/data/ref/gencode.vM22.basic.annotation.gene.flat.tsv.gz\", sep = '\\t')\n",
    "gene_meta.head()"
   ]
  },
  {
   "cell_type": "code",
   "execution_count": 7,
   "id": "5459663e",
   "metadata": {
    "execution": {
     "iopub.execute_input": "2024-12-08T03:35:07.948675Z",
     "iopub.status.busy": "2024-12-08T03:35:07.948307Z",
     "iopub.status.idle": "2024-12-08T03:35:08.184975Z",
     "shell.execute_reply": "2024-12-08T03:35:08.184503Z"
    },
    "papermill": {
     "duration": 0.240357,
     "end_time": "2024-12-08T03:35:08.186176",
     "exception": false,
     "start_time": "2024-12-08T03:35:07.945819",
     "status": "completed"
    },
    "tags": []
   },
   "outputs": [
    {
     "data": {
      "text/html": [
       "<div>\n",
       "<style scoped>\n",
       "    .dataframe tbody tr th:only-of-type {\n",
       "        vertical-align: middle;\n",
       "    }\n",
       "\n",
       "    .dataframe tbody tr th {\n",
       "        vertical-align: top;\n",
       "    }\n",
       "\n",
       "    .dataframe thead th {\n",
       "        text-align: right;\n",
       "    }\n",
       "</style>\n",
       "<table border=\"1\" class=\"dataframe\">\n",
       "  <thead>\n",
       "    <tr style=\"text-align: right;\">\n",
       "      <th></th>\n",
       "      <th>pvalue</th>\n",
       "      <th>corrected_pvalue</th>\n",
       "      <th>18mo</th>\n",
       "      <th>2mo</th>\n",
       "      <th>9mo</th>\n",
       "      <th>gene_length</th>\n",
       "      <th>DMG</th>\n",
       "      <th>gene_name</th>\n",
       "    </tr>\n",
       "    <tr>\n",
       "      <th>geneslop2k</th>\n",
       "      <th></th>\n",
       "      <th></th>\n",
       "      <th></th>\n",
       "      <th></th>\n",
       "      <th></th>\n",
       "      <th></th>\n",
       "      <th></th>\n",
       "      <th></th>\n",
       "    </tr>\n",
       "  </thead>\n",
       "  <tbody>\n",
       "    <tr>\n",
       "      <th>ENSMUSG00000117337.1</th>\n",
       "      <td>1.264014e-05</td>\n",
       "      <td>0.004679</td>\n",
       "      <td>0.754929</td>\n",
       "      <td>0.653444</td>\n",
       "      <td>0.719705</td>\n",
       "      <td>1713</td>\n",
       "      <td>-1</td>\n",
       "      <td>Gm49964</td>\n",
       "    </tr>\n",
       "    <tr>\n",
       "      <th>ENSMUSG00000094483.2</th>\n",
       "      <td>7.946205e-08</td>\n",
       "      <td>0.000148</td>\n",
       "      <td>0.634706</td>\n",
       "      <td>0.521179</td>\n",
       "      <td>0.604175</td>\n",
       "      <td>8318</td>\n",
       "      <td>-1</td>\n",
       "      <td>Purb</td>\n",
       "    </tr>\n",
       "    <tr>\n",
       "      <th>ENSMUSG00000036430.8</th>\n",
       "      <td>1.013756e-06</td>\n",
       "      <td>0.000840</td>\n",
       "      <td>0.664198</td>\n",
       "      <td>0.545210</td>\n",
       "      <td>0.593113</td>\n",
       "      <td>1163</td>\n",
       "      <td>-1</td>\n",
       "      <td>Tbcc</td>\n",
       "    </tr>\n",
       "    <tr>\n",
       "      <th>ENSMUSG00000106103.1</th>\n",
       "      <td>3.029019e-06</td>\n",
       "      <td>0.001746</td>\n",
       "      <td>0.844819</td>\n",
       "      <td>0.734021</td>\n",
       "      <td>0.763767</td>\n",
       "      <td>1379</td>\n",
       "      <td>-1</td>\n",
       "      <td>Gm43081</td>\n",
       "    </tr>\n",
       "    <tr>\n",
       "      <th>ENSMUSG00000028675.12</th>\n",
       "      <td>4.924092e-08</td>\n",
       "      <td>0.000106</td>\n",
       "      <td>0.686385</td>\n",
       "      <td>0.568628</td>\n",
       "      <td>0.635950</td>\n",
       "      <td>2932</td>\n",
       "      <td>-1</td>\n",
       "      <td>Pnrc2</td>\n",
       "    </tr>\n",
       "  </tbody>\n",
       "</table>\n",
       "</div>"
      ],
      "text/plain": [
       "                             pvalue  corrected_pvalue      18mo       2mo  \\\n",
       "geneslop2k                                                                  \n",
       "ENSMUSG00000117337.1   1.264014e-05          0.004679  0.754929  0.653444   \n",
       "ENSMUSG00000094483.2   7.946205e-08          0.000148  0.634706  0.521179   \n",
       "ENSMUSG00000036430.8   1.013756e-06          0.000840  0.664198  0.545210   \n",
       "ENSMUSG00000106103.1   3.029019e-06          0.001746  0.844819  0.734021   \n",
       "ENSMUSG00000028675.12  4.924092e-08          0.000106  0.686385  0.568628   \n",
       "\n",
       "                            9mo  gene_length  DMG gene_name  \n",
       "geneslop2k                                                   \n",
       "ENSMUSG00000117337.1   0.719705         1713   -1   Gm49964  \n",
       "ENSMUSG00000094483.2   0.604175         8318   -1      Purb  \n",
       "ENSMUSG00000036430.8   0.593113         1163   -1      Tbcc  \n",
       "ENSMUSG00000106103.1   0.763767         1379   -1   Gm43081  \n",
       "ENSMUSG00000028675.12  0.635950         2932   -1     Pnrc2  "
      ]
     },
     "execution_count": 7,
     "metadata": {},
     "output_type": "execute_result"
    }
   ],
   "source": [
    "dmg =all_dmg[all_dmg['celltype'] == ct].copy()\n",
    "dmg['gene_name'] = dmg.index.map(gene_meta.set_index('gene_id')['gene_name'].to_dict())\n",
    "# change columns name 8wk to 2mo\n",
    "dmg.columns = dmg.columns.str.replace('8wk', '2mo')\n",
    "# add a column DMG, make corrected_pvalue < 0.05 and methylation_change > 0 as -1; corrected_pvalue < 0.05 and methylation_change < 0 as 1; the rest as 0\n",
    "dmg['DMG'] = np.where((dmg['methylation_change'] > 0) & (dmg['pvalue'] < 0.05), -1, np.where((dmg['methylation_change'] < 0) & (dmg['pvalue'] < 0.05), 1, 0))\n",
    "#dmg drop celltype, methylation_change, abs_change, trend\n",
    "dmg = dmg.drop(columns = ['celltype', 'methylation_change', 'abs_change', 'trend'])\n",
    "dmg.head()"
   ]
  },
  {
   "cell_type": "code",
   "execution_count": 8,
   "id": "33d0e749",
   "metadata": {
    "execution": {
     "iopub.execute_input": "2024-12-08T03:35:08.191297Z",
     "iopub.status.busy": "2024-12-08T03:35:08.191134Z",
     "iopub.status.idle": "2024-12-08T03:35:08.372206Z",
     "shell.execute_reply": "2024-12-08T03:35:08.371680Z"
    },
    "papermill": {
     "duration": 0.185818,
     "end_time": "2024-12-08T03:35:08.374190",
     "exception": false,
     "start_time": "2024-12-08T03:35:08.188372",
     "status": "completed"
    },
    "tags": []
   },
   "outputs": [],
   "source": [
    "dmg.to_csv(f\"{home_dir}/ml_input/{ct}/{ct}.mCG_genebody_gene.csv\")"
   ]
  },
  {
   "cell_type": "code",
   "execution_count": null,
   "id": "03386d77",
   "metadata": {
    "papermill": {
     "duration": 0.003213,
     "end_time": "2024-12-08T03:35:08.380947",
     "exception": false,
     "start_time": "2024-12-08T03:35:08.377734",
     "status": "completed"
    },
    "tags": []
   },
   "outputs": [],
   "source": []
  }
 ],
 "metadata": {
  "kernelspec": {
   "display_name": "base",
   "language": "python",
   "name": "python3"
  },
  "language_info": {
   "codemirror_mode": {
    "name": "ipython",
    "version": 3
   },
   "file_extension": ".py",
   "mimetype": "text/x-python",
   "name": "python",
   "nbconvert_exporter": "python",
   "pygments_lexer": "ipython3",
   "version": "3.10.12"
  },
  "papermill": {
   "default_parameters": {},
   "duration": 5.677674,
   "end_time": "2024-12-08T03:35:08.701379",
   "environment_variables": {},
   "exception": null,
   "input_path": "/home/qzeng_salk_edu/project/241018_pre_ml/gen_ml_input/notebooks/02.mcg_gene_body.ipynb",
   "output_path": "Astro-TE_NN/02.mcg_gene_body.ipynb",
   "parameters": {
    "cpu": 8,
    "group_name": "Astro-TE_NN",
    "mem_gb": 10
   },
   "start_time": "2024-12-08T03:35:03.023705",
   "version": "2.4.0"
  }
 },
 "nbformat": 4,
 "nbformat_minor": 5
}