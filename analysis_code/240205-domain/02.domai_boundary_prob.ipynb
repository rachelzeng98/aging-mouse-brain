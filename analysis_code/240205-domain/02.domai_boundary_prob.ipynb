{
 "cells": [
  {
   "cell_type": "code",
   "execution_count": 1,
   "id": "e2263186-6649-4aab-8b31-1db3ab10e0ad",
   "metadata": {},
   "outputs": [],
   "source": [
    "import cooler\n",
    "import numpy as np\n",
    "import pandas as pd\n",
    "import anndata\n",
    "from glob import glob"
   ]
  },
  {
   "cell_type": "code",
   "execution_count": 12,
   "id": "8eb1c5a2-80c1-4b92-861a-fdd123fb3a11",
   "metadata": {},
   "outputs": [],
   "source": [
    "ct = 'Oligo_NN'"
   ]
  },
  {
   "cell_type": "code",
   "execution_count": 2,
   "id": "41531989-2b76-41b3-bb63-4f92dcddbb95",
   "metadata": {},
   "outputs": [],
   "source": [
    "indir = 'dataset/domain/'\n",
    "res = 25000"
   ]
  },
  {
   "cell_type": "code",
   "execution_count": 3,
   "id": "31772eb9-5de4-4522-8f92-3a7cd2297076",
   "metadata": {},
   "outputs": [],
   "source": [
    "chrom_size_path = '/ref/m3C/mm10.main.nochrM.nochrY.chrom.sizes'\n",
    "chrom_sizes = cooler.read_chromsizes(chrom_size_path, all_names=True)"
   ]
  },
  {
   "cell_type": "code",
   "execution_count": 16,
   "id": "13555c13-ca81-4125-b26d-12543ee66fbe",
   "metadata": {},
   "outputs": [],
   "source": [
    "meta_file = '/data/metadata/240104_m3C_META.csv'\n",
    "metadata = pd.read_csv(meta_file, index_col = 0)\n",
    "metadata['AgingMajorType'] = metadata['AgingMajorType'].apply(lambda x: x.replace(' ','_').replace('/',''))\n",
    "metadata = metadata[['AgingMajorType','Age','Replicate']]"
   ]
  },
  {
   "cell_type": "code",
   "execution_count": 17,
   "id": "1006f347-2a5f-4377-b1f6-a63e27676f6e",
   "metadata": {},
   "outputs": [
    {
     "name": "stdout",
     "output_type": "stream",
     "text": [
      "3\n"
     ]
    }
   ],
   "source": [
    "tad_path_list = glob(f'{indir}/*.boundary.h5ad')\n",
    "print(len(tad_path_list))"
   ]
  },
  {
   "cell_type": "code",
   "execution_count": 18,
   "id": "680f23aa-a308-4579-8674-6767d530bca7",
   "metadata": {},
   "outputs": [
    {
     "data": {
      "text/plain": [
       "AnnData object with n_obs × n_vars = 900 × 105362\n",
       "    obs: 'batch'\n",
       "    var: 'chrom', 'start', 'end'"
      ]
     },
     "execution_count": 18,
     "metadata": {},
     "output_type": "execute_result"
    }
   ],
   "source": [
    "sc_border = []\n",
    "for xx in tad_path_list:\n",
    "    sc_border.append(anndata.read_h5ad(xx))\n",
    "    \n",
    "sc_border = anndata.AnnData.concatenate(*sc_border, index_unique=None)\n",
    "sc_border"
   ]
  },
  {
   "cell_type": "code",
   "execution_count": 19,
   "id": "27e812b0-d5e5-4956-a07c-851c5b4abd3c",
   "metadata": {},
   "outputs": [],
   "source": [
    "sc_border.X = sc_border.X.astype(int)"
   ]
  },
  {
   "cell_type": "code",
   "execution_count": 20,
   "id": "bcf41815-8efd-4c9c-8b48-d33f1fe58147",
   "metadata": {},
   "outputs": [],
   "source": [
    "sc_border = sc_border[sc_border.obs.index.isin(metadata.index)].copy()\n",
    "sc_border = sc_border[:, ~sc_border.var['chrom'].isin(['chrX','chrY','chrM','chrL'])].copy()"
   ]
  },
  {
   "cell_type": "code",
   "execution_count": 21,
   "id": "204b077b-f462-4e12-af50-21f87ab6ab02",
   "metadata": {},
   "outputs": [],
   "source": [
    "sc_border.obs = metadata.loc[sc_border.obs.index]\n",
    "sc_border.raw = sc_border.copy()"
   ]
  },
  {
   "cell_type": "code",
   "execution_count": 22,
   "id": "b466c579-4461-46c3-8b7d-d86b24681ea2",
   "metadata": {},
   "outputs": [],
   "source": [
    "sc_border.write_h5ad(f'cell_{sc_border.shape[0]}_boundary.h5ad')"
   ]
  },
  {
   "cell_type": "code",
   "execution_count": 26,
   "id": "8bf47be7-94da-4e50-bb66-fed2fb4c4408",
   "metadata": {},
   "outputs": [],
   "source": [
    "sc_border.obs['AgingMajorType.Age'] = sc_border.obs['AgingMajorType'].astype(str) + '.' + sc_border.obs['Age'].astype(str)"
   ]
  },
  {
   "cell_type": "code",
   "execution_count": 29,
   "id": "5147c9e2-8701-411c-93ca-cbc6f4d94f6d",
   "metadata": {},
   "outputs": [],
   "source": [
    "leg = sc_border.obs['AgingMajorType.Age'].unique()"
   ]
  },
  {
   "cell_type": "code",
   "execution_count": 31,
   "id": "26814839-998f-42bf-9c07-8f337a3bd4d9",
   "metadata": {},
   "outputs": [],
   "source": [
    "bound_count_ct = []\n",
    "for xx in leg:\n",
    "    bound_count_ct.append(sc_border.raw.X[sc_border.obs['AgingMajorType.Age']==xx].getnnz(axis=0))\n",
    "\n",
    "bound_count_ct = pd.DataFrame(bound_count_ct, index=leg, \n",
    "                              columns=sc_border.raw.var['chrom'].astype(str) + '_' + (sc_border.raw.var['start'] // res).astype(str))\n",
    "cell_count_ct = sc_border.obs['AgingMajorType.Age'].value_counts().loc[leg]"
   ]
  },
  {
   "cell_type": "code",
   "execution_count": 35,
   "id": "bd56b019-09d8-4778-b90d-51b8551e82d5",
   "metadata": {},
   "outputs": [],
   "source": [
    "bound_count_ct.to_hdf(f'{ct}_boundcount.hdf', key='data')\n",
    "cell_count_ct.to_csv(f'{ct}_cellcount.csv.gz')"
   ]
  },
  {
   "cell_type": "code",
   "execution_count": null,
   "id": "7ba98027-21bc-4d4f-90b9-5f791116a3f2",
   "metadata": {},
   "outputs": [],
   "source": []
  },
  {
   "cell_type": "code",
   "execution_count": null,
   "id": "be1d1e9e-74b8-4118-9a24-d95a646f184a",
   "metadata": {},
   "outputs": [],
   "source": []
  },
  {
   "cell_type": "code",
   "execution_count": null,
   "id": "70340da3-b1a3-48ac-8ace-b1509d228dcb",
   "metadata": {},
   "outputs": [],
   "source": []
  },
  {
   "cell_type": "code",
   "execution_count": null,
   "id": "874597b4-f6ca-4155-8a78-23c3f9d178ba",
   "metadata": {},
   "outputs": [],
   "source": []
  },
  {
   "cell_type": "code",
   "execution_count": null,
   "id": "8f68aa88-9991-4109-891d-72fa27fb2d1d",
   "metadata": {},
   "outputs": [],
   "source": []
  },
  {
   "cell_type": "code",
   "execution_count": null,
   "id": "9fe255bc-43cb-4be9-857b-5407e492a82f",
   "metadata": {},
   "outputs": [],
   "source": []
  },
  {
   "cell_type": "code",
   "execution_count": null,
   "id": "19d0095b-c043-43ac-84ee-f9b3ec89e6ea",
   "metadata": {},
   "outputs": [],
   "source": []
  },
  {
   "cell_type": "code",
   "execution_count": null,
   "id": "2eb2d378-c5a6-4c0b-90d0-7428624d3862",
   "metadata": {},
   "outputs": [],
   "source": []
  }
 ],
 "metadata": {
  "kernelspec": {
   "display_name": "Python 3 (ipykernel)",
   "language": "python",
   "name": "python3"
  },
  "language_info": {
   "codemirror_mode": {
    "name": "ipython",
    "version": 3
   },
   "file_extension": ".py",
   "mimetype": "text/x-python",
   "name": "python",
   "nbconvert_exporter": "python",
   "pygments_lexer": "ipython3",
   "version": "3.10.12"
  }
 },
 "nbformat": 4,
 "nbformat_minor": 5
}
