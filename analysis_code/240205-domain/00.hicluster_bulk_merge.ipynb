{
 "cells": [
  {
   "cell_type": "code",
   "execution_count": 1,
   "id": "1a02ae59-66a1-49ca-a155-8eb92949ec6d",
   "metadata": {},
   "outputs": [],
   "source": [
    "def prepare_dir(output_dir, chunk_df, template, params):\n",
    "\n",
    "    os.makedirs(output_dir, exist_ok=True)\n",
    "    cell_table_path = f'{output_dir}cell_table.csv'\n",
    "    chunk_df.to_csv(cell_table_path, header=False, index=True)\n",
    "    params_str = '\\n'.join(f'{k} = {v}' for k, v in params.items())\n",
    "\n",
    "    with open(f'{output_dir}Snakefile_master', 'w') as f:\n",
    "        f.write(params_str + template)\n",
    "    return"
   ]
  },
  {
   "cell_type": "code",
   "execution_count": 2,
   "id": "550d9a63-95f3-43f2-a2b1-3f93fdd2dea2",
   "metadata": {},
   "outputs": [],
   "source": [
    "params = {\n",
    "    'resolution': 25000,\n",
    "    'chrom_size_path': '\"/ref/m3C/mm10.main.nochrM.nochrY.chrom.sizes\"',\n",
    "}\n"
   ]
  },
  {
   "cell_type": "code",
   "execution_count": 4,
   "id": "8807d1b3-d352-42a7-be12-158e1de4d4c4",
   "metadata": {
    "scrolled": true
   },
   "outputs": [],
   "source": [
    "# cell_table = pd.concat([pd.read_csv(path, sep = '\\t', header = None).set_index(0) \n",
    "#                         for path in glob(f\"cell_table/*\")])"
   ]
  },
  {
   "cell_type": "code",
   "execution_count": 5,
   "id": "7e7fe7c3-2c9e-42c8-8c01-cf0a2033f5ad",
   "metadata": {},
   "outputs": [],
   "source": [
    "import pandas as pd\n",
    "cell_table = pd.read_csv('All.25K.ImputedCool.csv').set_index('cell_id')[['file_paths']]"
   ]
  },
  {
   "cell_type": "code",
   "execution_count": 6,
   "id": "f67fe4b7-1fac-4671-aa83-63043ce2f4ac",
   "metadata": {},
   "outputs": [],
   "source": [
    "ct = 'Oligo_NN'"
   ]
  },
  {
   "cell_type": "code",
   "execution_count": 7,
   "id": "ce244a95-1796-4502-bfaf-2c6914542089",
   "metadata": {
    "scrolled": true
   },
   "outputs": [],
   "source": [
    "use_cts = joblib.load('/data/metadata/m3c_use_cts')\n",
    "use_cts = [ct.replace(' ','_').replace('/','') for ct in use_cts]\n",
    "\n",
    "meta = pd.read_csv('/data/metadata/240104_m3C_META.csv', index_col = 0)\n",
    "meta['AgingMajorType'] = meta['AgingMajorType'].apply(lambda x: x.replace(' ','_').replace('/',''))\n",
    "meta = meta[meta['AgingMajorType'].isin(use_cts)]\n",
    "meta['AgingMajorType.Age'] = meta['AgingMajorType'] + '.' + meta['Age']"
   ]
  },
  {
   "cell_type": "code",
   "execution_count": 8,
   "id": "cd640593-c870-4e88-babe-426287675a3d",
   "metadata": {},
   "outputs": [],
   "source": [
    "meta = meta[meta['AgingMajorType'] == ct]"
   ]
  },
  {
   "cell_type": "code",
   "execution_count": 9,
   "id": "1c9c641f-e474-4e0a-bfb1-6ce192a74904",
   "metadata": {},
   "outputs": [],
   "source": [
    "cell_table['cluster'] = meta['AgingMajorType.Age'].copy()\n",
    "cell_table = cell_table.dropna()"
   ]
  },
  {
   "cell_type": "code",
   "execution_count": 11,
   "id": "43aa8d0a-da81-446f-a0ec-c7b900fbc72c",
   "metadata": {},
   "outputs": [],
   "source": [
    "chunk_size = 200\n",
    "res = 25000\n",
    "total_chunk_dirs = []\n",
    "group_chunks = {}"
   ]
  },
  {
   "cell_type": "code",
   "execution_count": 12,
   "id": "f002e745-e5d1-4eef-8081-81a4f553f8fb",
   "metadata": {},
   "outputs": [],
   "source": [
    "with open(f'{PACKAGE_DIR}/cool/Snakefile_chunk_template') as tmp:\n",
    "    GENERATE_MATRIX_CHUNK_TEMPLATE = tmp.read()"
   ]
  },
  {
   "cell_type": "code",
   "execution_count": 13,
   "id": "c37a25ce-a3ec-4380-b473-334c2f69a776",
   "metadata": {},
   "outputs": [],
   "source": [
    "outdir = '/home/qzeng_salk_edu/project/240205-domain/dataset/hicluster_bulk/'"
   ]
  },
  {
   "cell_type": "code",
   "execution_count": 14,
   "id": "772d61fd-02e2-448e-b19b-05ef80b1aef4",
   "metadata": {},
   "outputs": [],
   "source": [
    "for group, group_df in cell_table.groupby('cluster'):\n",
    "    group_chunks[group] = []\n",
    "    if group_df.shape[0] <= chunk_size:\n",
    "        this_dir = f'{outdir}{group}_chunk0/'\n",
    "        params['cell_table_path'] = f'\"{this_dir}cell_table.csv\"'\n",
    "        prepare_dir(this_dir, group_df, GENERATE_MATRIX_CHUNK_TEMPLATE, params)\n",
    "        total_chunk_dirs.append(this_dir)\n",
    "        group_chunks[group].append(this_dir)\n",
    "    else:\n",
    "        group_df['chunk'] = [i // chunk_size for i in range(group_df.shape[0])]\n",
    "        for chunk, chunk_df in group_df.groupby('chunk'):\n",
    "            this_dir = f'{outdir}{group}_chunk{chunk}/'\n",
    "            params['cell_table_path'] = f'\"{this_dir}cell_table.csv\"'\n",
    "            prepare_dir(this_dir, chunk_df, GENERATE_MATRIX_CHUNK_TEMPLATE, params)\n",
    "            total_chunk_dirs.append(this_dir)\n",
    "            group_chunks[group].append(this_dir)\n",
    "\n",
    "            "
   ]
  },
  {
   "cell_type": "code",
   "execution_count": 15,
   "id": "5329ea1a-ce32-416c-8a2c-b4e1fa66bedc",
   "metadata": {},
   "outputs": [],
   "source": [
    "with open(f'{outdir}snakemake_cmd_step1.txt', 'w') as f:\n",
    "    for chunk_dir in total_chunk_dirs:\n",
    "        cmd = f'snakemake -d {chunk_dir} --snakefile {chunk_dir}Snakefile_master -j 5 --rerun-incomplete'\n",
    "        f.write(cmd + '\\n')"
   ]
  },
  {
   "cell_type": "code",
   "execution_count": 16,
   "id": "8a664d32-618a-49f3-8bfe-368a4d6465f5",
   "metadata": {},
   "outputs": [],
   "source": [
    "params.pop('cell_table_path')\n",
    "params_str = '\\n'.join(f'{k} = {v}' for k, v in params.items())\n",
    "\n",
    "with open(f'{PACKAGE_DIR}/cool/Snakefile_group_template') as tmp:\n",
    "    GENERATE_MATRIX_GROUP_TEMPLATE = tmp.read()\n",
    "\n",
    "with open(f'{outdir}Snakefile', 'w') as f:\n",
    "    f.write(params_str + '\\n' + GENERATE_MATRIX_GROUP_TEMPLATE)\n",
    "    \n",
    "with open(f'{outdir}snakemake_cmd_step2.txt', 'w') as f:\n",
    "    cmd = f'snakemake -d {outdir} --snakefile {outdir}Snakefile -j 10 --rerun-incomplete'\n",
    "    f.write(cmd + '\\n')"
   ]
  },
  {
   "cell_type": "code",
   "execution_count": null,
   "id": "d8ad23f8-3c54-4079-8980-d6a221fd0d79",
   "metadata": {},
   "outputs": [],
   "source": []
  },
  {
   "cell_type": "code",
   "execution_count": null,
   "id": "71adddcb-bcba-4f01-b9dd-31e83f4cc6c0",
   "metadata": {},
   "outputs": [],
   "source": []
  },
  {
   "cell_type": "code",
   "execution_count": null,
   "id": "35332af4-bea0-4847-a767-fbfe8197baa9",
   "metadata": {},
   "outputs": [],
   "source": []
  },
  {
   "cell_type": "code",
   "execution_count": null,
   "id": "de75b38e-fe15-4fcf-885e-ae25d1e9135e",
   "metadata": {},
   "outputs": [],
   "source": []
  },
  {
   "cell_type": "code",
   "execution_count": null,
   "id": "abe92708-8846-4b16-9ffb-e5cf4a0db609",
   "metadata": {},
   "outputs": [],
   "source": []
  },
  {
   "cell_type": "code",
   "execution_count": null,
   "id": "0d4102c3-5e6b-4b0e-b0b2-1a7fc8e4fab6",
   "metadata": {},
   "outputs": [],
   "source": []
  },
  {
   "cell_type": "code",
   "execution_count": null,
   "id": "8d9cdc7e-96d5-44f1-a92e-c6e9b8365648",
   "metadata": {},
   "outputs": [],
   "source": []
  },
  {
   "cell_type": "code",
   "execution_count": null,
   "id": "0e9797b7-b326-4914-8f26-c3d8db022845",
   "metadata": {},
   "outputs": [],
   "source": []
  },
  {
   "cell_type": "code",
   "execution_count": null,
   "id": "7e4ea1b4-3ba7-4f60-9860-ac52f46af0e4",
   "metadata": {},
   "outputs": [],
   "source": []
  },
  {
   "cell_type": "code",
   "execution_count": null,
   "id": "438cb927-a43c-44c5-ae48-dd9f16c47683",
   "metadata": {},
   "outputs": [],
   "source": []
  },
  {
   "cell_type": "code",
   "execution_count": null,
   "id": "597477f6-a137-4415-895f-a4d086a5ae81",
   "metadata": {},
   "outputs": [],
   "source": []
  },
  {
   "cell_type": "code",
   "execution_count": null,
   "id": "9b0d224c-1293-4ecc-bc10-40c75a4be555",
   "metadata": {},
   "outputs": [],
   "source": []
  }
 ],
 "metadata": {
  "kernelspec": {
   "display_name": "Python 3 (ipykernel)",
   "language": "python",
   "name": "python3"
  },
  "language_info": {
   "codemirror_mode": {
    "name": "ipython",
    "version": 3
   },
   "file_extension": ".py",
   "mimetype": "text/x-python",
   "name": "python",
   "nbconvert_exporter": "python",
   "pygments_lexer": "ipython3",
   "version": "3.10.12"
  }
 },
 "nbformat": 4,
 "nbformat_minor": 5
}
