{
 "cells": [
  {
   "cell_type": "code",
   "execution_count": 1,
   "id": "39a57f3c-fe2d-4a33-8687-bb7f7c4398eb",
   "metadata": {},
   "outputs": [],
   "source": [
    "import glob\n",
    "import subprocess\n",
    "import pathlib\n",
    "import pandas as pd"
   ]
  },
  {
   "cell_type": "code",
   "execution_count": 2,
   "id": "9f407c22-9c0d-453a-a38f-6c25296bbc18",
   "metadata": {},
   "outputs": [],
   "source": [
    "# for file in glob.glob('cell_table/*.tsv'):\n",
    "#     group = file.split('/')[-1].split('.tsv')[0]\n",
    "#     tmpdf = pd.read_csv(file, sep = '\\t', header = None)[[1]]\n",
    "#     tmpdf.to_csv(f'cell_table_for_merge/{group}.tsv', \n",
    "#                  index = None, header = None, sep = '\\t')"
   ]
  },
  {
   "cell_type": "code",
   "execution_count": 3,
   "id": "a8f67a2c-2f5c-4fdd-b966-4a444fb60b8b",
   "metadata": {},
   "outputs": [],
   "source": [
    "tsv_files = glob.glob('cell_table_for_merge/*.tsv')"
   ]
  },
  {
   "cell_type": "code",
   "execution_count": 4,
   "id": "2f43adb6-7562-49c8-83be-d32a98c3fcd4",
   "metadata": {},
   "outputs": [],
   "source": [
    "_dir = \"CellType.Age.Q.25kb\"\n",
    "p = pathlib.Path(_dir)\n",
    "p.mkdir(exist_ok= True)"
   ]
  },
  {
   "cell_type": "code",
   "execution_count": 7,
   "id": "bf23ca49-4287-499f-96aa-aff290730332",
   "metadata": {},
   "outputs": [],
   "source": [
    "with open('merge.sh', 'w') as file:\n",
    "    for file_path in tsv_files:\n",
    "        group = file_path.split('/')[-1].split('.tsv')[0]\n",
    "        command = f\"hicluster merge-cool \\\n",
    "--input_cool_tsv_file {file_path} \\\n",
    "--output_cool {_dir}/{group}.cool\"\n",
    "        file.write(command)\n",
    "        file.write('\\n')\n",
    "    "
   ]
  },
  {
   "cell_type": "code",
   "execution_count": 7,
   "id": "942432eb-679f-4537-b0a3-ca2ac29e72ea",
   "metadata": {},
   "outputs": [],
   "source": [
    "for file in tsv_files:\n",
    "    group = file.split('/')[-1].split('.tsv')[0]\n",
    "    command = f\"hicluster merge-cool \\\n",
    "--input_cool_tsv_file {file} \\\n",
    "--output_cool {_dir}/{group}.cool\""
   ]
  },
  {
   "cell_type": "code",
   "execution_count": 8,
   "id": "d55009e9-636d-40b0-a05f-135c5846ce4f",
   "metadata": {},
   "outputs": [
    {
     "data": {
      "text/plain": [
       "'hicluster merge-cool --input_cool_tsv_file cell_table_for_merge/Oligo_NN.9mo.tsv --output_cool CellType.Age.Q.25kb/Oligo_NN.9mo.cool'"
      ]
     },
     "execution_count": 8,
     "metadata": {},
     "output_type": "execute_result"
    }
   ],
   "source": [
    "command"
   ]
  },
  {
   "cell_type": "code",
   "execution_count": 1,
   "id": "2ecd881d-6943-443b-9fc7-945e682833d8",
   "metadata": {
    "scrolled": true
   },
   "outputs": [],
   "source": [
    "#subprocess.run(command, shell = True)"
   ]
  },
  {
   "cell_type": "code",
   "execution_count": null,
   "id": "ccd871ec-d860-4ef5-9a54-111551fcec54",
   "metadata": {},
   "outputs": [],
   "source": []
  },
  {
   "cell_type": "code",
   "execution_count": null,
   "id": "b6fa9798-16bb-4115-9bef-6f499ef2df7e",
   "metadata": {},
   "outputs": [],
   "source": []
  },
  {
   "cell_type": "code",
   "execution_count": null,
   "id": "e42ef864-eb47-4140-86f2-0a04cdae8474",
   "metadata": {},
   "outputs": [],
   "source": []
  },
  {
   "cell_type": "code",
   "execution_count": null,
   "id": "aa1a71f8-fa6d-4b8d-bb25-79c04012d95b",
   "metadata": {},
   "outputs": [],
   "source": []
  },
  {
   "cell_type": "code",
   "execution_count": null,
   "id": "00ae6b51-98ad-4523-b7f0-abf78a21de1b",
   "metadata": {},
   "outputs": [],
   "source": []
  },
  {
   "cell_type": "code",
   "execution_count": null,
   "id": "a50d869d-edca-4e26-a001-fa14456b8066",
   "metadata": {},
   "outputs": [],
   "source": []
  },
  {
   "cell_type": "code",
   "execution_count": null,
   "id": "cffbafcd-a145-40c2-a54f-3a7ece7b938d",
   "metadata": {},
   "outputs": [],
   "source": []
  },
  {
   "cell_type": "code",
   "execution_count": null,
   "id": "210b1335-7634-49d1-b2b4-3f45c8e7ca80",
   "metadata": {},
   "outputs": [],
   "source": []
  },
  {
   "cell_type": "code",
   "execution_count": null,
   "id": "8e1cf8b0-31c9-4b96-b33c-c4a0be8e2b3e",
   "metadata": {},
   "outputs": [],
   "source": []
  },
  {
   "cell_type": "code",
   "execution_count": null,
   "id": "1e3dbb27-9d14-4ebd-a543-c9fffd6b5003",
   "metadata": {},
   "outputs": [],
   "source": []
  }
 ],
 "metadata": {
  "kernelspec": {
   "display_name": "Python 3 (ipykernel)",
   "language": "python",
   "name": "python3"
  },
  "language_info": {
   "codemirror_mode": {
    "name": "ipython",
    "version": 3
   },
   "file_extension": ".py",
   "mimetype": "text/x-python",
   "name": "python",
   "nbconvert_exporter": "python",
   "pygments_lexer": "ipython3",
   "version": "3.10.12"
  }
 },
 "nbformat": 4,
 "nbformat_minor": 5
}
