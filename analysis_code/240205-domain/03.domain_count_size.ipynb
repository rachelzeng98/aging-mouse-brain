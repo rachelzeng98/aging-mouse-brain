{
 "cells": [
  {
   "cell_type": "code",
   "execution_count": 1,
   "id": "1a044c2b-4ce6-43c1-9266-a9f5c6746d89",
   "metadata": {},
   "outputs": [],
   "source": [
    "import numpy as np\n",
    "import pandas as pd\n",
    "from glob import glob\n",
    "from concurrent.futures import ProcessPoolExecutor, as_completed\n",
    "\n",
    "import anndata\n",
    "\n",
    "from scipy.stats import pearsonr, ranksums\n",
    "\n",
    "import matplotlib as mpl\n",
    "import matplotlib.pyplot as plt\n",
    "from matplotlib import cm as cm\n",
    "import seaborn as sns\n",
    "\n",
    "mpl.style.use('default')\n",
    "mpl.rcParams['pdf.fonttype'] = 42\n",
    "mpl.rcParams['ps.fonttype'] = 42"
   ]
  },
  {
   "cell_type": "code",
   "execution_count": 2,
   "id": "e248eb1a-7d3d-4114-87d3-3b2bc750548f",
   "metadata": {},
   "outputs": [],
   "source": [
    "indir = 'dataset/domain/'\n",
    "res = 25000"
   ]
  },
  {
   "cell_type": "code",
   "execution_count": 3,
   "id": "d6ae7ad5-fcbe-452e-a218-b2cb5f237193",
   "metadata": {},
   "outputs": [],
   "source": [
    "# sc_border = anndata.read_h5ad(f'cell_900_boundary.h5ad')\n",
    "# sc_border"
   ]
  },
  {
   "cell_type": "code",
   "execution_count": 4,
   "id": "f098278f-e6fb-4e16-9ea1-679ea4adffc6",
   "metadata": {},
   "outputs": [],
   "source": [
    "def compute_domain_size(i):\n",
    "    global res, sc_border\n",
    "    tmp = sc_border.raw.X[i]\n",
    "    tmp = np.repeat(tmp.indices, tmp.data).reshape((-1, 2))\n",
    "    return (tmp[:, 1] - tmp[:, 0]).sum() * res"
   ]
  },
  {
   "cell_type": "code",
   "execution_count": 5,
   "id": "d173ba2b-9fe6-4b0d-a675-b37364cdcb13",
   "metadata": {},
   "outputs": [],
   "source": [
    "meta_file = '/data/metadata/240104_m3C_META.csv'\n",
    "metadata = pd.read_csv(meta_file, index_col = 0)\n",
    "metadata['AgingMajorType'] = metadata['AgingMajorType'].apply(lambda x: x.replace(' ','_').replace('/',''))\n",
    "metadata = metadata[['AgingMajorType','Age','Replicate']]"
   ]
  },
  {
   "cell_type": "code",
   "execution_count": 6,
   "id": "1c284952-381f-44b4-aedb-a7bf949f6dea",
   "metadata": {},
   "outputs": [
    {
     "ename": "NameError",
     "evalue": "name 'sc_border' is not defined",
     "output_type": "error",
     "traceback": [
      "\u001b[0;31m---------------------------------------------------------------------------\u001b[0m",
      "\u001b[0;31mNameError\u001b[0m                                 Traceback (most recent call last)",
      "Cell \u001b[0;32mIn[6], line 1\u001b[0m\n\u001b[0;32m----> 1\u001b[0m metadata\u001b[38;5;241m=\u001b[39m metadata\u001b[38;5;241m.\u001b[39mloc[\u001b[43msc_border\u001b[49m\u001b[38;5;241m.\u001b[39mobs_names]\n",
      "\u001b[0;31mNameError\u001b[0m: name 'sc_border' is not defined"
     ]
    }
   ],
   "source": [
    "metadata= metadata.loc[sc_border.obs_names]"
   ]
  },
  {
   "cell_type": "code",
   "execution_count": 14,
   "id": "ce4d8cbf-3d4e-4bc4-8b79-4b85ab26e7a4",
   "metadata": {},
   "outputs": [],
   "source": [
    "ncpu = 20\n",
    "domain_size, cell_list = [], []\n",
    "with ProcessPoolExecutor(ncpu) as exe:\n",
    "    future_dict = {}\n",
    "    for i,cell in enumerate(metadata.index):\n",
    "        future = exe.submit(compute_domain_size, i=i)\n",
    "        future_dict[future] = cell\n",
    "\n",
    "    for future in as_completed(future_dict):\n",
    "        cell = future_dict[future]\n",
    "        # print(f'{cell} finished.')\n",
    "        domain_size.append(future.result())\n",
    "        cell_list.append(cell)"
   ]
  },
  {
   "cell_type": "code",
   "execution_count": 15,
   "id": "9ab9d777-409b-4369-b19f-1322f8eeb9ad",
   "metadata": {},
   "outputs": [],
   "source": [
    "domain_size = pd.Series(domain_size, index=cell_list)\n",
    "metadata['domain_coverage'] = domain_size.copy()\n",
    "metadata.loc[sc_border.obs.index, 'domain_count'] = sc_border.raw.X.sum(axis=1).A1 / 2"
   ]
  },
  {
   "cell_type": "code",
   "execution_count": 17,
   "id": "13d694e1-9cc8-4189-803a-c2d9aa3df1f0",
   "metadata": {},
   "outputs": [],
   "source": [
    "# sc_border.X.data = np.ones(sc_border.X.data.shape)\n",
    "metadata.loc[sc_border.obs.index, 'boundary_count'] = sc_border.raw.X.getnnz(axis=1)"
   ]
  },
  {
   "cell_type": "code",
   "execution_count": 33,
   "id": "b6d23fb5-1c5c-483a-bc7a-55624b751f2a",
   "metadata": {},
   "outputs": [],
   "source": [
    "metadata['domain_size'] = metadata['domain_coverage'] / metadata['domain_count']"
   ]
  },
  {
   "cell_type": "code",
   "execution_count": 18,
   "id": "82d8fe69-1a80-48f1-9459-09f09cd6ba78",
   "metadata": {},
   "outputs": [],
   "source": [
    "metadata['AgingMajorType.Age'] = metadata['AgingMajorType'].astype(str) + '.' + metadata['Age'].astype(str)"
   ]
  },
  {
   "cell_type": "code",
   "execution_count": 21,
   "id": "cda2b4fa-6fca-4e72-b591-f4bd9a810fee",
   "metadata": {},
   "outputs": [],
   "source": [
    "leg = ['Oligo_NN.8wk', 'Oligo_NN.9mo', 'Oligo_NN.18mo']"
   ]
  },
  {
   "cell_type": "code",
   "execution_count": 25,
   "id": "299339ac-758e-41cf-bda4-ae273d0ed8ae",
   "metadata": {},
   "outputs": [],
   "source": [
    "from amb import *\n",
    "age_dict = get_age_palette()\n",
    "age_dict['8wk'] = age_dict['2mo']"
   ]
  },
  {
   "cell_type": "code",
   "execution_count": 36,
   "id": "93346ff7-5353-45b4-b7c9-56ad59d769ec",
   "metadata": {},
   "outputs": [],
   "source": [
    "legname = 'Age'"
   ]
  },
  {
   "cell_type": "code",
   "execution_count": 37,
   "id": "7dea6a96-0649-4fc3-9839-d3068fe7d15a",
   "metadata": {},
   "outputs": [],
   "source": [
    "group_dict = {'Oligo_NN.8wk':age_dict['8wk'], \n",
    "              'Oligo_NN.9mo':age_dict['9mo'], \n",
    "              'Oligo_NN.18mo':age_dict['18mo']}"
   ]
  },
  {
   "cell_type": "code",
   "execution_count": 44,
   "id": "a3a224f4-4d61-41c9-860c-642782468716",
   "metadata": {},
   "outputs": [
    {
     "data": {
      "text/plain": [
       "AMB_220609_9mo_8E_9H_I8J_9J_2_P3-6-O5-N12     2798.0\n",
       "AMB_220609_9mo_13D_14C_2_P3-3-A11-O6          3751.0\n",
       "AMB_220609_9mo_13D_14C_2_P3-1-A11-J2          3500.0\n",
       "AMB_220609_9mo_8E_9H_I8J_9J_2_P2-1-E5-P13     2014.0\n",
       "AMB_220517_9mo_5E_6E_1_P3-6-L3-G23            2831.0\n",
       "                                               ...  \n",
       "AMB_220630_18mo_13D_14C_1_P2-3-I2-M17         2468.0\n",
       "AMB_220714_18mo_11E_11F_12E_2_P2-6-M17-M24    3355.0\n",
       "AMB_220707_18mo_2A_3A_1_P1-1-I3-P13           2235.0\n",
       "AMB_220712_18mo_7H_8H_9G_2_P2-6-E5-L11        3156.0\n",
       "AMB_220616_18mo_12D_13B_1_P3-4-C10-M7         2543.0\n",
       "Name: domain_count, Length: 600, dtype: float64"
      ]
     },
     "execution_count": 44,
     "metadata": {},
     "output_type": "execute_result"
    }
   ],
   "source": [
    "metadata.loc[~metadata['Age'].isin(['8wk']), 'domain_count']"
   ]
  },
  {
   "cell_type": "code",
   "execution_count": 46,
   "id": "3985d740-6952-4ce0-9f4b-0cf98b0522a8",
   "metadata": {},
   "outputs": [
    {
     "data": {
      "text/plain": [
       "RanksumsResult(statistic=-1.9000631101408252, pvalue=0.05742483808191474)"
      ]
     },
     "execution_count": 46,
     "metadata": {},
     "output_type": "execute_result"
    }
   ],
   "source": [
    "ranksums(metadata.loc[metadata['Age'].isin(['8wk']), 'domain_count'], \n",
    "         metadata.loc[metadata['Age'].isin(['18mo']), 'domain_count'])"
   ]
  },
  {
   "cell_type": "code",
   "execution_count": 41,
   "id": "a2d72a7c-00c6-41c6-aeab-e82d82418096",
   "metadata": {},
   "outputs": [
    {
     "data": {
      "image/png": "[encoded data removed]",
      "text/plain": [
       "<Figure size 300x600 with 3 Axes>"
      ]
     },
     "metadata": {},
     "output_type": "display_data"
    }
   ],
   "source": [
    "fig, axes = plt.subplots(3, 1, figsize=(3,6), sharex='all', dpi=100)\n",
    "ax = axes[0]\n",
    "sns.boxplot(data=metadata, x='AgingMajorType.Age', y='domain_count', order=leg, showfliers=False, palette=group_dict, ax=ax)\n",
    "ax = axes[1]\n",
    "sns.boxplot(data=metadata, x='AgingMajorType.Age', y='domain_size', order=leg, showfliers=False, palette=group_dict, ax=ax)\n",
    "ax = axes[2]\n",
    "sns.boxplot(data=metadata, x='AgingMajorType.Age', y='domain_coverage', order=leg, showfliers=False, palette=group_dict, ax=ax)\n",
    "ax.set_xticklabels(['8wk','9mo','18mo'],rotation=90)\n",
    "plt.tight_layout()\n",
    "# plt.savefig(f'cell_{sc_border.shape[0]}_majortype_domain_boxplot.pdf', transparent=True, dpi=300)"
   ]
  },
  {
   "cell_type": "code",
   "execution_count": null,
   "id": "334939ce-45ed-49d4-a9a9-f9571b54138c",
   "metadata": {},
   "outputs": [],
   "source": []
  },
  {
   "cell_type": "code",
   "execution_count": null,
   "id": "dc85dec3-a494-4aa6-a862-46fafbcadff8",
   "metadata": {},
   "outputs": [],
   "source": []
  },
  {
   "cell_type": "code",
   "execution_count": null,
   "id": "02cbe562-d791-4969-95cb-fb3e1e0eeac9",
   "metadata": {},
   "outputs": [],
   "source": []
  },
  {
   "cell_type": "code",
   "execution_count": null,
   "id": "6d575e47-98db-4f1f-877b-40169d930de6",
   "metadata": {},
   "outputs": [],
   "source": []
  },
  {
   "cell_type": "code",
   "execution_count": null,
   "id": "eef84bbf-031b-4a48-a58e-b01b1723b27b",
   "metadata": {},
   "outputs": [],
   "source": []
  },
  {
   "cell_type": "code",
   "execution_count": null,
   "id": "04af1a7c-a90c-4048-a486-e2707dcee962",
   "metadata": {},
   "outputs": [],
   "source": []
  },
  {
   "cell_type": "code",
   "execution_count": null,
   "id": "abb25ba6-8ef8-4145-bf67-44494d487d0a",
   "metadata": {},
   "outputs": [],
   "source": []
  }
 ],
 "metadata": {
  "kernelspec": {
   "display_name": "Python 3 (ipykernel)",
   "language": "python",
   "name": "python3"
  },
  "language_info": {
   "codemirror_mode": {
    "name": "ipython",
    "version": 3
   },
   "file_extension": ".py",
   "mimetype": "text/x-python",
   "name": "python",
   "nbconvert_exporter": "python",
   "pygments_lexer": "ipython3",
   "version": "3.10.12"
  }
 },
 "nbformat": 4,
 "nbformat_minor": 5
}
