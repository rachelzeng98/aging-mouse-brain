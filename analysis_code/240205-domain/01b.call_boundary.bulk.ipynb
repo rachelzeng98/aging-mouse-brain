{
 "cells": [
  {
   "cell_type": "code",
   "execution_count": 1,
   "id": "fe82b9c1-d4a4-4f2b-b3b4-1a17f005cc36",
   "metadata": {},
   "outputs": [],
   "source": [
    "import glob\n",
    "import pandas as pd\n",
    "import pathlib"
   ]
  },
  {
   "cell_type": "code",
   "execution_count": 2,
   "id": "2dd93f23-4080-4428-aa2b-a53aed6d593b",
   "metadata": {},
   "outputs": [],
   "source": [
    "all_cools = glob.glob(f'/data/female-amb/impute/merged-25k/*.Q.cool')\n",
    "ct_age = [path.split('/')[-1].split('.Q')[0] for path in all_cools]"
   ]
  },
  {
   "cell_type": "code",
   "execution_count": 3,
   "id": "ed3ac879-ca8f-4ad4-9c8b-b6f270c73070",
   "metadata": {},
   "outputs": [],
   "source": [
    "df = pd.DataFrame({'ct_age':ct_age,'all_cools':all_cools})"
   ]
  },
  {
   "cell_type": "code",
   "execution_count": 5,
   "id": "692f0cf6-e4bd-4037-9b81-ae3253c071c9",
   "metadata": {},
   "outputs": [],
   "source": [
    "df['ct'] = df['ct_age'].apply(lambda x: x.split('.')[0])"
   ]
  },
  {
   "cell_type": "code",
   "execution_count": 14,
   "id": "20b9b4ed-38ce-4860-a68a-0cc3e19d571f",
   "metadata": {},
   "outputs": [],
   "source": [
    "all_cts = []\n",
    "for ct, tmpdf in df.groupby('ct'):\n",
    "    tmpdf = tmpdf[['ct_age','all_cools']]\n",
    "    tmpdf.to_csv(f'bulk_table/{ct}.tsv', sep = '\\t', header = None, index= None)\n",
    "    all_cts.append(ct)"
   ]
  },
  {
   "cell_type": "code",
   "execution_count": 15,
   "id": "ace224a8-20ee-4f05-8499-ddcc85291a48",
   "metadata": {},
   "outputs": [],
   "source": [
    "output_dir = 'hicluster_bulk_domain'\n",
    "p = pathlib.Path(output_dir)\n",
    "p.mkdir(parents=True, exist_ok=True)"
   ]
  },
  {
   "cell_type": "code",
   "execution_count": 19,
   "id": "13969d41-61c5-4765-a7cd-7d72496672ee",
   "metadata": {},
   "outputs": [],
   "source": [
    "cpu = 15"
   ]
  },
  {
   "cell_type": "code",
   "execution_count": 21,
   "id": "66b21422-d956-4bd3-8e1e-8c31a0c9a8b1",
   "metadata": {},
   "outputs": [],
   "source": [
    "with open(\"boundary.sh\", 'w') as file:\n",
    "    command_count = 0\n",
    "    for ct in all_cts:\n",
    "        cell_table_path = f'bulk_table/{ct}.tsv'\n",
    "        output_prefix = f'hicluster_bulk_domain/{ct}'\n",
    "        command = f\"hicluster domain \\\n",
    "--cell_table_path {cell_table_path} \\\n",
    "--output_prefix {output_prefix} \\\n",
    "--resolution 25000 \\\n",
    "--save_count \\\n",
    "--window_size 10 \\\n",
    "--cpu {cpu} &\"\n",
    "        file.write(f\"{command}\\n\")\n",
    "        \n",
    "        command_count += 1\n",
    "        if command_count == 3:\n",
    "            file.write(\"wait\\n\")\n",
    "            command_count = 0\n"
   ]
  },
  {
   "cell_type": "code",
   "execution_count": 18,
   "id": "2a62d768-3546-4d9d-8eab-e2005b3713e3",
   "metadata": {},
   "outputs": [],
   "source": []
  },
  {
   "cell_type": "code",
   "execution_count": null,
   "id": "70aa863c-21cf-4c34-845a-6dad68043c88",
   "metadata": {},
   "outputs": [],
   "source": []
  },
  {
   "cell_type": "code",
   "execution_count": null,
   "id": "9419ed27-91d0-445c-b229-ab293b0d3c3b",
   "metadata": {},
   "outputs": [],
   "source": []
  },
  {
   "cell_type": "code",
   "execution_count": null,
   "id": "1c712918-423a-46fd-ac77-1332430c0b61",
   "metadata": {},
   "outputs": [],
   "source": []
  },
  {
   "cell_type": "code",
   "execution_count": null,
   "id": "3de61e5e-d9c1-4ebb-ac35-44c73761c073",
   "metadata": {},
   "outputs": [],
   "source": []
  },
  {
   "cell_type": "code",
   "execution_count": null,
   "id": "b0832a6c-00e9-459d-9915-8918cc50a8fb",
   "metadata": {},
   "outputs": [],
   "source": []
  }
 ],
 "metadata": {
  "kernelspec": {
   "display_name": "Python 3 (ipykernel)",
   "language": "python",
   "name": "python3"
  },
  "language_info": {
   "codemirror_mode": {
    "name": "ipython",
    "version": 3
   },
   "file_extension": ".py",
   "mimetype": "text/x-python",
   "name": "python",
   "nbconvert_exporter": "python",
   "pygments_lexer": "ipython3",
   "version": "3.10.12"
  }
 },
 "nbformat": 4,
 "nbformat_minor": 5
}
