{
 "cells": [
  {
   "cell_type": "code",
   "execution_count": 8,
   "id": "64ae6f9d-cc7d-4c57-a2d6-fc695a3b1faa",
   "metadata": {},
   "outputs": [],
   "source": [
    "# _dir = '/data/female-amb/glider_25K_impute/'\n",
    "# all_imputed_files = glob.glob(f'{_dir}/*/*/group*/impute/25K/group*/chunk*/*.cool')\n",
    "# cell_id = [path.split('/')[-1].split('.')[0] for path in all_imputed_files]\n",
    "# cell_teble = pd.DataFrame({'cell_id':cell_id,'file_paths':all_imputed_files})\n",
    "# cell_teble.to_csv('All.25K.ImputedCool.csv')"
   ]
  },
  {
   "cell_type": "code",
   "execution_count": 1,
   "id": "053ecae1-4bbe-4002-9c6a-97409c96714c",
   "metadata": {},
   "outputs": [],
   "source": [
    "import glob\n",
    "import pandas as pd\n",
    "import joblib\n",
    "import subprocess\n",
    "import pathlib"
   ]
  },
  {
   "cell_type": "code",
   "execution_count": 2,
   "id": "cfc9ca36-ef0b-4ed6-93bf-2ea4270aa51e",
   "metadata": {},
   "outputs": [],
   "source": [
    "ct = 'Oligo_NN'"
   ]
  },
  {
   "cell_type": "code",
   "execution_count": 3,
   "id": "dab2b239-da87-46dc-8843-eb2c6ee35d26",
   "metadata": {},
   "outputs": [],
   "source": [
    "use_cts = joblib.load('/data/metadata/m3c_use_cts')\n",
    "use_cts = [ct.replace(' ','_').replace('/','') for ct in use_cts]"
   ]
  },
  {
   "cell_type": "code",
   "execution_count": 4,
   "id": "1e600aa8-381d-4534-bfa6-af319dd08b66",
   "metadata": {},
   "outputs": [],
   "source": [
    "meta = pd.read_csv('/data/metadata/240104_m3C_META.csv', index_col = 0)\n",
    "meta['AgingMajorType'] = meta['AgingMajorType'].apply(lambda x: x.replace(' ','_').replace('/',''))\n",
    "meta = meta[meta['AgingMajorType'].isin(use_cts)]\n",
    "meta['AgingMajorType.Age'] = meta['AgingMajorType'] + '.' + meta['Age']"
   ]
  },
  {
   "cell_type": "code",
   "execution_count": 5,
   "id": "a1293bfc-8f96-4d42-995b-e2dc6d6c8b07",
   "metadata": {},
   "outputs": [
    {
     "data": {
      "text/html": [
       "<div>\n",
       "<style scoped>\n",
       "    .dataframe tbody tr th:only-of-type {\n",
       "        vertical-align: middle;\n",
       "    }\n",
       "\n",
       "    .dataframe tbody tr th {\n",
       "        vertical-align: top;\n",
       "    }\n",
       "\n",
       "    .dataframe thead th {\n",
       "        text-align: right;\n",
       "    }\n",
       "</style>\n",
       "<table border=\"1\" class=\"dataframe\">\n",
       "  <thead>\n",
       "    <tr style=\"text-align: right;\">\n",
       "      <th></th>\n",
       "      <th>file_paths</th>\n",
       "      <th>AgingMajorType</th>\n",
       "      <th>Age</th>\n",
       "      <th>AgingMajorType.Age</th>\n",
       "    </tr>\n",
       "  </thead>\n",
       "  <tbody>\n",
       "    <tr>\n",
       "      <th>AMB_220426_8wk_8E_9H_8J_9J_1_P1-1-K15-A1</th>\n",
       "      <td>/data/female-amb/glider_25K_impute/0/0/group43...</td>\n",
       "      <td>Sst_Gaba</td>\n",
       "      <td>8wk</td>\n",
       "      <td>Sst_Gaba.8wk</td>\n",
       "    </tr>\n",
       "    <tr>\n",
       "      <th>AMB_220426_8wk_8E_9H_8J_9J_1_P1-1-K15-A13</th>\n",
       "      <td>/data/female-amb/glider_25K_impute/0/0/group43...</td>\n",
       "      <td>Astro-TE_NN</td>\n",
       "      <td>8wk</td>\n",
       "      <td>Astro-TE_NN.8wk</td>\n",
       "    </tr>\n",
       "    <tr>\n",
       "      <th>AMB_220426_8wk_8E_9H_8J_9J_1_P1-1-K15-A14</th>\n",
       "      <td>/data/female-amb/glider_25K_impute/0/0/group43...</td>\n",
       "      <td>Astro-TE_NN</td>\n",
       "      <td>8wk</td>\n",
       "      <td>Astro-TE_NN.8wk</td>\n",
       "    </tr>\n",
       "    <tr>\n",
       "      <th>AMB_220426_8wk_8E_9H_8J_9J_1_P1-1-K15-B1</th>\n",
       "      <td>/data/female-amb/glider_25K_impute/0/0/group43...</td>\n",
       "      <td>Astro-TE_NN</td>\n",
       "      <td>8wk</td>\n",
       "      <td>Astro-TE_NN.8wk</td>\n",
       "    </tr>\n",
       "    <tr>\n",
       "      <th>AMB_220426_8wk_8E_9H_8J_9J_1_P1-1-K15-B13</th>\n",
       "      <td>/data/female-amb/glider_25K_impute/0/0/group43...</td>\n",
       "      <td>DG_Glut</td>\n",
       "      <td>8wk</td>\n",
       "      <td>DG_Glut.8wk</td>\n",
       "    </tr>\n",
       "  </tbody>\n",
       "</table>\n",
       "</div>"
      ],
      "text/plain": [
       "                                                                                  file_paths  \\\n",
       "AMB_220426_8wk_8E_9H_8J_9J_1_P1-1-K15-A1   /data/female-amb/glider_25K_impute/0/0/group43...   \n",
       "AMB_220426_8wk_8E_9H_8J_9J_1_P1-1-K15-A13  /data/female-amb/glider_25K_impute/0/0/group43...   \n",
       "AMB_220426_8wk_8E_9H_8J_9J_1_P1-1-K15-A14  /data/female-amb/glider_25K_impute/0/0/group43...   \n",
       "AMB_220426_8wk_8E_9H_8J_9J_1_P1-1-K15-B1   /data/female-amb/glider_25K_impute/0/0/group43...   \n",
       "AMB_220426_8wk_8E_9H_8J_9J_1_P1-1-K15-B13  /data/female-amb/glider_25K_impute/0/0/group43...   \n",
       "\n",
       "                                          AgingMajorType  Age  \\\n",
       "AMB_220426_8wk_8E_9H_8J_9J_1_P1-1-K15-A1        Sst_Gaba  8wk   \n",
       "AMB_220426_8wk_8E_9H_8J_9J_1_P1-1-K15-A13    Astro-TE_NN  8wk   \n",
       "AMB_220426_8wk_8E_9H_8J_9J_1_P1-1-K15-A14    Astro-TE_NN  8wk   \n",
       "AMB_220426_8wk_8E_9H_8J_9J_1_P1-1-K15-B1     Astro-TE_NN  8wk   \n",
       "AMB_220426_8wk_8E_9H_8J_9J_1_P1-1-K15-B13        DG_Glut  8wk   \n",
       "\n",
       "                                          AgingMajorType.Age  \n",
       "AMB_220426_8wk_8E_9H_8J_9J_1_P1-1-K15-A1        Sst_Gaba.8wk  \n",
       "AMB_220426_8wk_8E_9H_8J_9J_1_P1-1-K15-A13    Astro-TE_NN.8wk  \n",
       "AMB_220426_8wk_8E_9H_8J_9J_1_P1-1-K15-A14    Astro-TE_NN.8wk  \n",
       "AMB_220426_8wk_8E_9H_8J_9J_1_P1-1-K15-B1     Astro-TE_NN.8wk  \n",
       "AMB_220426_8wk_8E_9H_8J_9J_1_P1-1-K15-B13        DG_Glut.8wk  "
      ]
     },
     "execution_count": 5,
     "metadata": {},
     "output_type": "execute_result"
    }
   ],
   "source": [
    "cell_table = pd.read_csv('All.25K.ImputedCool.csv', index_col = 'cell_id')[['file_paths']]\n",
    "cell_table = pd.concat([cell_table, meta[['AgingMajorType','Age','AgingMajorType.Age']]], axis = 1)\n",
    "cell_table = cell_table.dropna()\n",
    "cell_table.head()"
   ]
  },
  {
   "cell_type": "code",
   "execution_count": 6,
   "id": "3c925749-f97a-48fb-84b5-ac1e20b9e4e5",
   "metadata": {},
   "outputs": [],
   "source": [
    "use_cell_table = cell_table[cell_table['AgingMajorType']== ct]"
   ]
  },
  {
   "cell_type": "code",
   "execution_count": 7,
   "id": "e5fab09f-6d4e-4a4c-8eb1-ca06df56f237",
   "metadata": {},
   "outputs": [],
   "source": [
    "all_groups = []\n",
    "for ct_age, tmpdf in use_cell_table.groupby('AgingMajorType.Age'):\n",
    "    tmpdf['cell_id'] = tmpdf.index\n",
    "    tmpdf = tmpdf[['cell_id','file_paths']]\n",
    "    tmpdf = tmpdf.sample(300)\n",
    "    tmpdf.to_csv(f\"cell_table/{ct_age}.tsv\", sep = '\\t', header = None, index = None)\n",
    "    all_groups.append(ct_age)"
   ]
  },
  {
   "cell_type": "code",
   "execution_count": 2,
   "id": "7ffd827d-4b3a-4874-9089-1307b967c263",
   "metadata": {},
   "outputs": [],
   "source": [
    "#output_dir = 'dataset/domain'\n",
    "output_dir = 'test'\n",
    "p = pathlib.Path(output_dir)\n",
    "p.mkdir(parents=True, exist_ok=True)"
   ]
  },
  {
   "cell_type": "code",
   "execution_count": 3,
   "id": "cfbd5cf7-4ad1-4baf-9e66-56eebfc04839",
   "metadata": {},
   "outputs": [],
   "source": [
    "cpu = 40"
   ]
  },
  {
   "cell_type": "code",
   "execution_count": 5,
   "id": "1efb92a9-02dd-4d7d-a9a6-a993d7d75ad0",
   "metadata": {},
   "outputs": [
    {
     "ename": "NameError",
     "evalue": "name 'all_groups' is not defined",
     "output_type": "error",
     "traceback": [
      "\u001b[0;31m---------------------------------------------------------------------------\u001b[0m",
      "\u001b[0;31mNameError\u001b[0m                                 Traceback (most recent call last)",
      "Cell \u001b[0;32mIn[5], line 2\u001b[0m\n\u001b[1;32m      1\u001b[0m \u001b[38;5;28;01mwith\u001b[39;00m \u001b[38;5;28mopen\u001b[39m(\u001b[38;5;124m\"\u001b[39m\u001b[38;5;124mboundary.sh\u001b[39m\u001b[38;5;124m\"\u001b[39m, \u001b[38;5;124m'\u001b[39m\u001b[38;5;124mw\u001b[39m\u001b[38;5;124m'\u001b[39m) \u001b[38;5;28;01mas\u001b[39;00m file:\n\u001b[0;32m----> 2\u001b[0m     \u001b[38;5;28;01mfor\u001b[39;00m group \u001b[38;5;129;01min\u001b[39;00m \u001b[43mall_groups\u001b[49m:\n\u001b[1;32m      3\u001b[0m         cell_table_path \u001b[38;5;241m=\u001b[39m \u001b[38;5;124mf\u001b[39m\u001b[38;5;124m'\u001b[39m\u001b[38;5;124mcool_table/\u001b[39m\u001b[38;5;132;01m{\u001b[39;00mgroup\u001b[38;5;132;01m}\u001b[39;00m\u001b[38;5;124m.tsv\u001b[39m\u001b[38;5;124m'\u001b[39m\n\u001b[1;32m      4\u001b[0m         output_prefix \u001b[38;5;241m=\u001b[39m \u001b[38;5;124mf\u001b[39m\u001b[38;5;124m'\u001b[39m\u001b[38;5;132;01m{\u001b[39;00moutput_dir\u001b[38;5;132;01m}\u001b[39;00m\u001b[38;5;124m/\u001b[39m\u001b[38;5;132;01m{\u001b[39;00mgroup\u001b[38;5;132;01m}\u001b[39;00m\u001b[38;5;124m'\u001b[39m\n",
      "\u001b[0;31mNameError\u001b[0m: name 'all_groups' is not defined"
     ]
    }
   ],
   "source": [
    "with open(\"boundary.sh\", 'w') as file:\n",
    "    for group in all_groups:\n",
    "        cell_table_path = f'cool_table/{group}.tsv'\n",
    "        output_prefix = f'{output_dir}/{group}'\n",
    "        command = f\"hicluster domain \\\n",
    "--cell_table_path {cell_table_path} \\\n",
    "--output_prefix {output_prefix} \\\n",
    "--resolution 25000 \\\n",
    "--window_size 10 \\\n",
    "--cpu {cpu}\"\n",
    "        file.write(f\"{command}\")   \n",
    "        file.write(\"\\n\")   "
   ]
  },
  {
   "cell_type": "code",
   "execution_count": 15,
   "id": "27fb6937-9702-40b9-8311-551556ce0d9e",
   "metadata": {
    "scrolled": true
   },
   "outputs": [],
   "source": [
    "#subprocess.run(command, shell = True)"
   ]
  },
  {
   "cell_type": "code",
   "execution_count": null,
   "id": "4eee136c-7165-4ee2-8bf4-c1ec057701d1",
   "metadata": {},
   "outputs": [],
   "source": []
  },
  {
   "cell_type": "code",
   "execution_count": null,
   "id": "209c78e1-319b-4a6f-a4ef-322a59bccbf1",
   "metadata": {},
   "outputs": [],
   "source": [
    "\n"
   ]
  },
  {
   "cell_type": "code",
   "execution_count": null,
   "id": "e0766aec-1ebe-4902-b76d-2a87aea3eef0",
   "metadata": {},
   "outputs": [],
   "source": []
  },
  {
   "cell_type": "code",
   "execution_count": null,
   "id": "079303a0-eed9-46f2-a5bb-084ba8c10551",
   "metadata": {},
   "outputs": [],
   "source": []
  },
  {
   "cell_type": "code",
   "execution_count": null,
   "id": "bfbae9ac-3779-49f4-82c5-35115c2c6eaf",
   "metadata": {},
   "outputs": [],
   "source": []
  },
  {
   "cell_type": "code",
   "execution_count": null,
   "id": "f7d667f7-fabf-4e75-b3a8-c055cf2ec7ba",
   "metadata": {},
   "outputs": [],
   "source": []
  },
  {
   "cell_type": "code",
   "execution_count": null,
   "id": "14383880-69ac-4d5c-991f-a690496ada9a",
   "metadata": {},
   "outputs": [],
   "source": []
  },
  {
   "cell_type": "code",
   "execution_count": null,
   "id": "e8d8d5c7-ee4a-4b3d-83c4-745c51b24c8b",
   "metadata": {},
   "outputs": [],
   "source": []
  },
  {
   "cell_type": "code",
   "execution_count": null,
   "id": "50433b01-b973-4a7d-8e1e-11deb3a29134",
   "metadata": {},
   "outputs": [],
   "source": []
  },
  {
   "cell_type": "code",
   "execution_count": null,
   "id": "726ac5a4-176d-4068-97a7-f76bbdc23af7",
   "metadata": {},
   "outputs": [],
   "source": []
  }
 ],
 "metadata": {
  "kernelspec": {
   "display_name": "Python 3 (ipykernel)",
   "language": "python",
   "name": "python3"
  },
  "language_info": {
   "codemirror_mode": {
    "name": "ipython",
    "version": 3
   },
   "file_extension": ".py",
   "mimetype": "text/x-python",
   "name": "python",
   "nbconvert_exporter": "python",
   "pygments_lexer": "ipython3",
   "version": "3.10.12"
  }
 },
 "nbformat": 4,
 "nbformat_minor": 5
}
