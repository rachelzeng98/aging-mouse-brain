{
 "cells": [
  {
   "cell_type": "code",
   "execution_count": 14,
   "id": "4c40dff5-f6ff-4bc6-8bc9-666406d16e7d",
   "metadata": {
    "editable": true,
    "slideshow": {
     "slide_type": ""
    },
    "tags": []
   },
   "outputs": [],
   "source": [
    "import glob\n",
    "import pandas as pd\n",
    "import joblib"
   ]
  },
  {
   "cell_type": "markdown",
   "id": "1f5e04e5-2519-4e17-9bf7-6399687248ef",
   "metadata": {},
   "source": [
    "1. prepare cool tables"
   ]
  },
  {
   "cell_type": "code",
   "execution_count": 11,
   "id": "54d0276d-33de-497f-98eb-39801c9ce150",
   "metadata": {},
   "outputs": [],
   "source": [
    "# _dir = '/data/female-amb/impute/25K'\n",
    "# all_imputed_files = glob.glob(f'{_dir}/*.cool')\n",
    "# cell_id = [path.split('/')[-1].split('.')[0] for path in all_imputed_files]\n",
    "# cell_teble = pd.DataFrame({'cell_id':cell_id,'file_paths':all_imputed_files})\n",
    "# cell_teble.to_csv('All.25K.ImputedCool.csv')"
   ]
  },
  {
   "cell_type": "code",
   "execution_count": 15,
   "id": "d53a182b-ca4d-4cd2-9835-1e2779fd324e",
   "metadata": {
    "editable": true,
    "slideshow": {
     "slide_type": ""
    },
    "tags": []
   },
   "outputs": [],
   "source": [
    "use_cts = joblib.load('/data/metadata/m3c_use_cts')\n",
    "use_cts = [ct.replace(' ','_').replace('/','') for ct in use_cts]"
   ]
  },
  {
   "cell_type": "code",
   "execution_count": 17,
   "id": "49ce27f0-013c-40fc-a27d-eff15418ca94",
   "metadata": {},
   "outputs": [],
   "source": [
    "meta = pd.read_csv('/data/metadata/240104_m3C_META.csv', index_col = 0)\n",
    "meta['AgingMajorType'] = meta['AgingMajorType'].apply(lambda x: x.replace(' ','_').replace('/',''))\n",
    "meta = meta[meta['AgingMajorType'].isin(use_cts)]\n",
    "meta['AgingMajorType.Age'] = meta['AgingMajorType'] + '.' + meta['Age']"
   ]
  },
  {
   "cell_type": "code",
   "execution_count": 16,
   "id": "0216eae5-a596-4f11-b1ae-6dab148e3612",
   "metadata": {},
   "outputs": [],
   "source": [
    "cell_teble = pd.read_csv('All.25K.ImputedCool.csv')[[]]"
   ]
  },
  {
   "cell_type": "code",
   "execution_count": 18,
   "id": "99d5e39e-41c6-41c3-9a63-1f4184fe443c",
   "metadata": {
    "scrolled": true
   },
   "outputs": [
    {
     "data": {
      "text/html": [
       "<div>\n",
       "<style scoped>\n",
       "    .dataframe tbody tr th:only-of-type {\n",
       "        vertical-align: middle;\n",
       "    }\n",
       "\n",
       "    .dataframe tbody tr th {\n",
       "        vertical-align: top;\n",
       "    }\n",
       "\n",
       "    .dataframe thead th {\n",
       "        text-align: right;\n",
       "    }\n",
       "</style>\n",
       "<table border=\"1\" class=\"dataframe\">\n",
       "  <thead>\n",
       "    <tr style=\"text-align: right;\">\n",
       "      <th></th>\n",
       "      <th>file_paths</th>\n",
       "      <th>AgingMajorType</th>\n",
       "      <th>Age</th>\n",
       "      <th>AgingMajorType.Age</th>\n",
       "    </tr>\n",
       "  </thead>\n",
       "  <tbody>\n",
       "    <tr>\n",
       "      <th>AMB_220405_8wk_11E_11F_12E_1_P1-1-B11-A1</th>\n",
       "      <td>/data/female-amb/impute/25K/AMB_220405_8wk_11E...</td>\n",
       "      <td>VLMC_NN</td>\n",
       "      <td>8wk</td>\n",
       "      <td>VLMC_NN.8wk</td>\n",
       "    </tr>\n",
       "    <tr>\n",
       "      <th>AMB_220405_8wk_11E_11F_12E_1_P1-1-B11-A13</th>\n",
       "      <td>/data/female-amb/impute/25K/AMB_220405_8wk_11E...</td>\n",
       "      <td>OPC_NN</td>\n",
       "      <td>8wk</td>\n",
       "      <td>OPC_NN.8wk</td>\n",
       "    </tr>\n",
       "    <tr>\n",
       "      <th>AMB_220405_8wk_11E_11F_12E_1_P1-1-B11-A14</th>\n",
       "      <td>/data/female-amb/impute/25K/AMB_220405_8wk_11E...</td>\n",
       "      <td>DG_Glut</td>\n",
       "      <td>8wk</td>\n",
       "      <td>DG_Glut.8wk</td>\n",
       "    </tr>\n",
       "    <tr>\n",
       "      <th>AMB_220405_8wk_11E_11F_12E_1_P1-1-B11-A2</th>\n",
       "      <td>/data/female-amb/impute/25K/AMB_220405_8wk_11E...</td>\n",
       "      <td>DG_Glut</td>\n",
       "      <td>8wk</td>\n",
       "      <td>DG_Glut.8wk</td>\n",
       "    </tr>\n",
       "    <tr>\n",
       "      <th>AMB_220405_8wk_11E_11F_12E_1_P1-1-B11-B1</th>\n",
       "      <td>/data/female-amb/impute/25K/AMB_220405_8wk_11E...</td>\n",
       "      <td>L23_IT_PPP_Glut</td>\n",
       "      <td>8wk</td>\n",
       "      <td>L23_IT_PPP_Glut.8wk</td>\n",
       "    </tr>\n",
       "  </tbody>\n",
       "</table>\n",
       "</div>"
      ],
      "text/plain": [
       "                                                                                  file_paths  \\\n",
       "AMB_220405_8wk_11E_11F_12E_1_P1-1-B11-A1   /data/female-amb/impute/25K/AMB_220405_8wk_11E...   \n",
       "AMB_220405_8wk_11E_11F_12E_1_P1-1-B11-A13  /data/female-amb/impute/25K/AMB_220405_8wk_11E...   \n",
       "AMB_220405_8wk_11E_11F_12E_1_P1-1-B11-A14  /data/female-amb/impute/25K/AMB_220405_8wk_11E...   \n",
       "AMB_220405_8wk_11E_11F_12E_1_P1-1-B11-A2   /data/female-amb/impute/25K/AMB_220405_8wk_11E...   \n",
       "AMB_220405_8wk_11E_11F_12E_1_P1-1-B11-B1   /data/female-amb/impute/25K/AMB_220405_8wk_11E...   \n",
       "\n",
       "                                            AgingMajorType  Age  \\\n",
       "AMB_220405_8wk_11E_11F_12E_1_P1-1-B11-A1           VLMC_NN  8wk   \n",
       "AMB_220405_8wk_11E_11F_12E_1_P1-1-B11-A13           OPC_NN  8wk   \n",
       "AMB_220405_8wk_11E_11F_12E_1_P1-1-B11-A14          DG_Glut  8wk   \n",
       "AMB_220405_8wk_11E_11F_12E_1_P1-1-B11-A2           DG_Glut  8wk   \n",
       "AMB_220405_8wk_11E_11F_12E_1_P1-1-B11-B1   L23_IT_PPP_Glut  8wk   \n",
       "\n",
       "                                            AgingMajorType.Age  \n",
       "AMB_220405_8wk_11E_11F_12E_1_P1-1-B11-A1           VLMC_NN.8wk  \n",
       "AMB_220405_8wk_11E_11F_12E_1_P1-1-B11-A13           OPC_NN.8wk  \n",
       "AMB_220405_8wk_11E_11F_12E_1_P1-1-B11-A14          DG_Glut.8wk  \n",
       "AMB_220405_8wk_11E_11F_12E_1_P1-1-B11-A2           DG_Glut.8wk  \n",
       "AMB_220405_8wk_11E_11F_12E_1_P1-1-B11-B1   L23_IT_PPP_Glut.8wk  "
      ]
     },
     "execution_count": 18,
     "metadata": {},
     "output_type": "execute_result"
    }
   ],
   "source": [
    "cell_table = pd.read_csv('All.25K.ImputedCool.csv', index_col = 'cell_id')[['file_paths']]\n",
    "cell_table = pd.concat([cell_table, meta[['AgingMajorType','Age','AgingMajorType.Age']]], axis = 1)\n",
    "cell_table = cell_table.dropna()\n",
    "cell_table.head()"
   ]
  },
  {
   "cell_type": "code",
   "execution_count": 34,
   "id": "3e1f9f26-22e7-4646-b1b2-ec21bb90d5a4",
   "metadata": {},
   "outputs": [
    {
     "name": "stdout",
     "output_type": "stream",
     "text": [
      "Astro-NT_NN:309 cells\n",
      "Astro-TE_NN:1412 cells\n",
      "CA1-ProS_Glut:501 cells\n",
      "CA3_Glut:271 cells\n",
      "CEA-BST_Gaba:414 cells\n",
      "CS-PRNr-DR_En1_Sox2_Gaba:133 cells\n",
      "DG-PIR_Ex_IMN:340 cells\n",
      "DG_Glut:1431 cells\n",
      "L23_IT_CTX_Glut:450 cells\n",
      "L23_IT_ENT_Glut:155 cells\n",
      "L23_IT_PPP_Glut:263 cells\n",
      "L45_IT_CTX_Glut:286 cells\n",
      "L5_ET_CTX_Glut:220 cells\n",
      "L5_IT_CTX_Glut:166 cells\n",
      "L5_NP_CTX_Glut:122 cells\n",
      "L6_CT_CTX_Glut:499 cells\n",
      "L6_IT_CTX_Glut:304 cells\n",
      "L6bCT_ENT_Glut:275 cells\n",
      "LA-BLA-BMA-PA_Glut:267 cells\n",
      "LDT-PCG-CS_Gata3_Lhx1_Gaba:107 cells\n",
      "Lamp5_Gaba:113 cells\n",
      "MEA-BST_Gaba:268 cells\n",
      "MEA-COA_Glut:386 cells\n",
      "MRN-VTN-PPN_Pax5_Cdh23_Gaba:128 cells\n",
      "Microglia_NN:720 cells\n",
      "OPC_NN:511 cells\n",
      "Oligo_NN:2338 cells\n",
      "PAG-PPN_Pax5_Sox21_Gaba:135 cells\n",
      "PAG_Glut:258 cells\n",
      "PB_Evx2_Glut:211 cells\n",
      "Pvalb_Gaba:342 cells\n",
      "STR-PAL_Chst9_Gaba:279 cells\n",
      "STR_D1_Gaba:1285 cells\n",
      "STR_D1_Sema5a_Gaba:140 cells\n",
      "STR_D2_Gaba:962 cells\n",
      "STR_Gaba:102 cells\n",
      "SUB-ProS_Glut:101 cells\n",
      "Sst_Gaba:296 cells\n",
      "VLMC_NN:615 cells\n",
      "Vip_Gaba:155 cells\n"
     ]
    }
   ],
   "source": [
    "all_groups = []\n",
    "for ct, ct_df in cell_table.groupby('AgingMajorType'):\n",
    "    ct_df['cell_id'] = ct_df.index\n",
    "    min = ct_df['Age'].value_counts().min()\n",
    "    print(f\"{ct}:{min} cells\")\n",
    "    for ct_age, tmpdf in ct_df.groupby('AgingMajorType.Age'):\n",
    "        tmpdf = tmpdf[['cell_id','file_paths']]\n",
    "        tmpdf = tmpdf.sample(min)\n",
    "        tmpdf.to_csv(f\"cool_tables/{ct_age}.tsv\", sep = '\\t', header = None, index = None)    \n",
    "        all_groups.append(ct_age)"
   ]
  },
  {
   "cell_type": "code",
   "execution_count": 37,
   "id": "64d15dfb-8ee8-4f7c-8077-1018fb3dd568",
   "metadata": {},
   "outputs": [
    {
     "data": {
      "text/plain": [
       "['all_groups_list']"
      ]
     },
     "execution_count": 37,
     "metadata": {},
     "output_type": "execute_result"
    }
   ],
   "source": [
    "joblib.dump(all_groups,'all_groups_list')"
   ]
  },
  {
   "cell_type": "code",
   "execution_count": null,
   "id": "d9b2029f-7408-4511-b01c-84b5c5e0cd00",
   "metadata": {},
   "outputs": [],
   "source": []
  },
  {
   "cell_type": "code",
   "execution_count": null,
   "id": "8ee71759-80c8-4884-b625-1e7c57698a3f",
   "metadata": {},
   "outputs": [],
   "source": []
  },
  {
   "cell_type": "code",
   "execution_count": null,
   "id": "b85a4794-ffcc-4d8c-a10a-79f98c6510c5",
   "metadata": {},
   "outputs": [],
   "source": []
  }
 ],
 "metadata": {
  "kernelspec": {
   "display_name": "Python 3 (ipykernel)",
   "language": "python",
   "name": "python3"
  },
  "language_info": {
   "codemirror_mode": {
    "name": "ipython",
    "version": 3
   },
   "file_extension": ".py",
   "mimetype": "text/x-python",
   "name": "python",
   "nbconvert_exporter": "python",
   "pygments_lexer": "ipython3",
   "version": "3.10.12"
  }
 },
 "nbformat": 4,
 "nbformat_minor": 5
}
