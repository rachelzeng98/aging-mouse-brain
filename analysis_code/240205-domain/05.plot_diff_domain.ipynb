{
 "cells": [
  {
   "cell_type": "code",
   "execution_count": 1,
   "id": "e1aec900-2110-4593-bdde-dcf1ee490380",
   "metadata": {},
   "outputs": [],
   "source": [
    "import os\n",
    "import cooler\n",
    "import numpy as np\n",
    "import pandas as pd\n",
    "from scipy.stats import norm, zscore\n",
    "\n",
    "import matplotlib as mpl\n",
    "import matplotlib.pyplot as plt\n",
    "from matplotlib.patches import Polygon\n",
    "from matplotlib import cm as cm\n",
    "import seaborn as sns\n",
    "from matplotlib.colors import LogNorm\n",
    "\n",
    "from itertools import cycle, islice\n",
    "import xarray as xr\n",
    "from glob import glob\n",
    "from scipy import ndimage as nd\n",
    "import matplotlib.pyplot as plt\n",
    "from matplotlib.backends.backend_pdf import PdfPages\n",
    "\n",
    "mpl.style.use('default')\n",
    "mpl.rcParams['pdf.fonttype'] = 42\n",
    "mpl.rcParams['ps.fonttype'] = 42\n",
    "#mpl.rcParams['font.family'] = 'sans-serif'\n",
    "#mpl.rcParams['font.sans-serif'] = 'Helvetica'"
   ]
  },
  {
   "cell_type": "code",
   "execution_count": 2,
   "id": "2ffde12e-4ba2-4044-b5bc-705eed9ab6e8",
   "metadata": {},
   "outputs": [
    {
     "data": {
      "text/plain": [
       "['MEA-BST_Gaba.8wk', 'MEA-BST_Gaba.9mo', 'MEA-BST_Gaba.18mo']"
      ]
     },
     "execution_count": 2,
     "metadata": {},
     "output_type": "execute_result"
    }
   ],
   "source": [
    "ct = 'MEA-BST_Gaba'\n",
    "leg = [f'{ct}.{age}' for age in ['8wk','9mo','18mo']]\n",
    "leg"
   ]
  },
  {
   "cell_type": "code",
   "execution_count": 3,
   "id": "8699e5b2-1569-4276-85ac-56d1a8325b59",
   "metadata": {
    "scrolled": true
   },
   "outputs": [],
   "source": [
    "chrom_size_path = '/ref/m3C/mm10.main.nochrM.nochrY.chrom.sizes'\n",
    "chrom_sizes = cooler.read_chromsizes(chrom_size_path, all_names=True)\n",
    "chrom_sizes = chrom_sizes.iloc[:-1]"
   ]
  },
  {
   "cell_type": "code",
   "execution_count": 4,
   "id": "6835321a-b937-4993-af2e-63832e471950",
   "metadata": {},
   "outputs": [],
   "source": [
    "indir = '/home/qzeng_salk_edu/project/240205-domain/CellType.Age.Diff.Domain/'"
   ]
  },
  {
   "cell_type": "code",
   "execution_count": 5,
   "id": "72f0eb42-1817-4c75-ad07-01b5a780c774",
   "metadata": {},
   "outputs": [
    {
     "data": {
      "text/html": [
       "<div>\n",
       "<style scoped>\n",
       "    .dataframe tbody tr th:only-of-type {\n",
       "        vertical-align: middle;\n",
       "    }\n",
       "\n",
       "    .dataframe tbody tr th {\n",
       "        vertical-align: top;\n",
       "    }\n",
       "\n",
       "    .dataframe thead th {\n",
       "        text-align: right;\n",
       "    }\n",
       "</style>\n",
       "<table border=\"1\" class=\"dataframe\">\n",
       "  <thead>\n",
       "    <tr style=\"text-align: right;\">\n",
       "      <th></th>\n",
       "      <th>chr1_0</th>\n",
       "      <th>chr1_1</th>\n",
       "      <th>chr1_2</th>\n",
       "      <th>chr1_3</th>\n",
       "      <th>chr1_4</th>\n",
       "      <th>chr1_5</th>\n",
       "      <th>chr1_6</th>\n",
       "      <th>chr1_7</th>\n",
       "      <th>chr1_8</th>\n",
       "      <th>chr1_9</th>\n",
       "      <th>...</th>\n",
       "      <th>chr19_2448</th>\n",
       "      <th>chr19_2449</th>\n",
       "      <th>chr19_2450</th>\n",
       "      <th>chr19_2451</th>\n",
       "      <th>chr19_2452</th>\n",
       "      <th>chr19_2453</th>\n",
       "      <th>chr19_2454</th>\n",
       "      <th>chr19_2455</th>\n",
       "      <th>chr19_2456</th>\n",
       "      <th>chr19_2457</th>\n",
       "    </tr>\n",
       "  </thead>\n",
       "  <tbody>\n",
       "    <tr>\n",
       "      <th>MEA-BST_Gaba.8wk</th>\n",
       "      <td>1.0</td>\n",
       "      <td>0.0</td>\n",
       "      <td>0.0</td>\n",
       "      <td>0.0</td>\n",
       "      <td>0.0</td>\n",
       "      <td>0.0</td>\n",
       "      <td>0.0</td>\n",
       "      <td>0.0</td>\n",
       "      <td>0.0</td>\n",
       "      <td>0.0</td>\n",
       "      <td>...</td>\n",
       "      <td>0.011194</td>\n",
       "      <td>0.085821</td>\n",
       "      <td>0.014925</td>\n",
       "      <td>0.000000</td>\n",
       "      <td>0.003731</td>\n",
       "      <td>0.007463</td>\n",
       "      <td>0.0</td>\n",
       "      <td>0.0</td>\n",
       "      <td>0.0</td>\n",
       "      <td>1.0</td>\n",
       "    </tr>\n",
       "    <tr>\n",
       "      <th>MEA-BST_Gaba.9mo</th>\n",
       "      <td>1.0</td>\n",
       "      <td>0.0</td>\n",
       "      <td>0.0</td>\n",
       "      <td>0.0</td>\n",
       "      <td>0.0</td>\n",
       "      <td>0.0</td>\n",
       "      <td>0.0</td>\n",
       "      <td>0.0</td>\n",
       "      <td>0.0</td>\n",
       "      <td>0.0</td>\n",
       "      <td>...</td>\n",
       "      <td>0.022388</td>\n",
       "      <td>0.048507</td>\n",
       "      <td>0.011194</td>\n",
       "      <td>0.007463</td>\n",
       "      <td>0.000000</td>\n",
       "      <td>0.007463</td>\n",
       "      <td>0.0</td>\n",
       "      <td>0.0</td>\n",
       "      <td>0.0</td>\n",
       "      <td>1.0</td>\n",
       "    </tr>\n",
       "    <tr>\n",
       "      <th>MEA-BST_Gaba.18mo</th>\n",
       "      <td>1.0</td>\n",
       "      <td>0.0</td>\n",
       "      <td>0.0</td>\n",
       "      <td>0.0</td>\n",
       "      <td>0.0</td>\n",
       "      <td>0.0</td>\n",
       "      <td>0.0</td>\n",
       "      <td>0.0</td>\n",
       "      <td>0.0</td>\n",
       "      <td>0.0</td>\n",
       "      <td>...</td>\n",
       "      <td>0.007463</td>\n",
       "      <td>0.100746</td>\n",
       "      <td>0.011194</td>\n",
       "      <td>0.003731</td>\n",
       "      <td>0.007463</td>\n",
       "      <td>0.007463</td>\n",
       "      <td>0.0</td>\n",
       "      <td>0.0</td>\n",
       "      <td>0.0</td>\n",
       "      <td>1.0</td>\n",
       "    </tr>\n",
       "  </tbody>\n",
       "</table>\n",
       "<p>3 rows × 98520 columns</p>\n",
       "</div>"
      ],
      "text/plain": [
       "                   chr1_0  chr1_1  chr1_2  chr1_3  chr1_4  chr1_5  chr1_6  \\\n",
       "MEA-BST_Gaba.8wk      1.0     0.0     0.0     0.0     0.0     0.0     0.0   \n",
       "MEA-BST_Gaba.9mo      1.0     0.0     0.0     0.0     0.0     0.0     0.0   \n",
       "MEA-BST_Gaba.18mo     1.0     0.0     0.0     0.0     0.0     0.0     0.0   \n",
       "\n",
       "                   chr1_7  chr1_8  chr1_9  ...  chr19_2448  chr19_2449  \\\n",
       "MEA-BST_Gaba.8wk      0.0     0.0     0.0  ...    0.011194    0.085821   \n",
       "MEA-BST_Gaba.9mo      0.0     0.0     0.0  ...    0.022388    0.048507   \n",
       "MEA-BST_Gaba.18mo     0.0     0.0     0.0  ...    0.007463    0.100746   \n",
       "\n",
       "                   chr19_2450  chr19_2451  chr19_2452  chr19_2453  chr19_2454  \\\n",
       "MEA-BST_Gaba.8wk     0.014925    0.000000    0.003731    0.007463         0.0   \n",
       "MEA-BST_Gaba.9mo     0.011194    0.007463    0.000000    0.007463         0.0   \n",
       "MEA-BST_Gaba.18mo    0.011194    0.003731    0.007463    0.007463         0.0   \n",
       "\n",
       "                   chr19_2455  chr19_2456  chr19_2457  \n",
       "MEA-BST_Gaba.8wk          0.0         0.0         1.0  \n",
       "MEA-BST_Gaba.9mo          0.0         0.0         1.0  \n",
       "MEA-BST_Gaba.18mo         0.0         0.0         1.0  \n",
       "\n",
       "[3 rows x 98520 columns]"
      ]
     },
     "execution_count": 5,
     "metadata": {},
     "output_type": "execute_result"
    }
   ],
   "source": [
    "## Load boundary probability\n",
    "bound_count_ct = pd.read_hdf(f'{indir}/{ct}/{ct}_boundcount.hdf', key='data').loc[leg]\n",
    "cell_count_ct = pd.read_csv(f'{indir}/{ct}/{ct}_cellcount.csv.gz', index_col=0, header=0)['count'].loc[leg]\n",
    "bound_prob_ct = bound_count_ct / cell_count_ct.values[:,None]\n",
    "bound_prob_ct"
   ]
  },
  {
   "cell_type": "code",
   "execution_count": 6,
   "id": "557f01a6-6e71-4050-a694-ca3cae45bcb3",
   "metadata": {},
   "outputs": [],
   "source": [
    "## Load insulation score\n",
    "ins_count = xr.open_dataset(f'/home/qzeng_salk_edu/project/240205-domain/hicluster_bulk_domain/{ct}.insulation.nc')\n",
    "ins_count = ins_count.sel({'bin': (ins_count['bin_chrom']!='chrX')})\n",
    "ins_count['ratio'] = (ins_count.sel({'type':'inter'})['__xarray_dataarray_variable__'] / ins_count.sel({'type':'intra'}))['__xarray_dataarray_variable__']\n",
    "ins = ins_count['ratio'].to_pandas().loc[leg]"
   ]
  },
  {
   "cell_type": "code",
   "execution_count": 7,
   "id": "5bd57ad6-acab-48c1-9432-b5f1fdc74adc",
   "metadata": {},
   "outputs": [],
   "source": [
    "genemeta = pd.read_csv('/ref/m3C/gencode.vM22.annotation.gene.sorted.bed.gz', sep='\\t', header=None, index_col=3)\n",
    "genemeta = genemeta[~genemeta.index.duplicated(keep='first')]"
   ]
  },
  {
   "cell_type": "code",
   "execution_count": 8,
   "id": "4f4d8107-6c30-4253-a275-53cb29e2141e",
   "metadata": {},
   "outputs": [
    {
     "data": {
      "text/plain": [
       "Index(['chr1_2350', 'chr1_6631', 'chr1_7784', 'chr2_180', 'chr2_1781',\n",
       "       'chr2_3212', 'chr2_6620', 'chr2_6860', 'chr3_265', 'chr4_4257',\n",
       "       'chr5_691', 'chr5_2696', 'chr5_2972', 'chr5_3637', 'chr5_4085',\n",
       "       'chr5_5161', 'chr5_5190', 'chr5_5415', 'chr5_5470', 'chr5_5940',\n",
       "       'chr6_2048', 'chr6_5007', 'chr6_5729', 'chr7_3254', 'chr7_4412',\n",
       "       'chr8_2887', 'chr8_3345', 'chr8_4833', 'chr10_233', 'chr11_220',\n",
       "       'chr11_2181', 'chr11_2801', 'chr12_2973', 'chr13_487', 'chr13_1742',\n",
       "       'chr13_4369', 'chr15_1618', 'chr15_2666', 'chr15_3478', 'chr16_3610',\n",
       "       'chr16_3801', 'chr17_2533'],\n",
       "      dtype='object')"
      ]
     },
     "execution_count": 8,
     "metadata": {},
     "output_type": "execute_result"
    }
   ],
   "source": [
    "##select all age diff domain\n",
    "binall = pd.read_hdf(f'CellType.Age.Diff.Domain/{ct}/{ct}_bin_stats.hdf', key='data')\n",
    "selb = (binall['chi2filter'] & binall['ins_lm'] & (binall['probdiff']>0.05) & binall['diff_sc'])\n",
    "selected_bins = selb[selb].index\n",
    "selected_bins"
   ]
  },
  {
   "cell_type": "code",
   "execution_count": 9,
   "id": "642ed868-808d-4d6d-8451-24844b9c29c6",
   "metadata": {},
   "outputs": [
    {
     "data": {
      "text/plain": [
       "42"
      ]
     },
     "execution_count": 9,
     "metadata": {},
     "output_type": "execute_result"
    }
   ],
   "source": [
    "len(selected_bins)"
   ]
  },
  {
   "cell_type": "code",
   "execution_count": 11,
   "id": "059e8543-1754-4fba-becb-f61fa7eba60a",
   "metadata": {},
   "outputs": [
    {
     "name": "stdout",
     "output_type": "stream",
     "text": [
      "chr11:54525000-54550000\n"
     ]
    }
   ],
   "source": [
    "_bin = 'chr11_2181'\n",
    "info_df = binall.loc[_bin] \n",
    "chrom, diff_domain_l, diff_domain_r = info_df['chrom'],info_df['start'], info_df['end']\n",
    "\n",
    "lslop, rslop = 2000000, 2000000\n",
    "ll, rr = (diff_domain_r - lslop), (diff_domain_l + rslop)\n",
    "print(f\"{chrom}:{diff_domain_l}-{diff_domain_r}\")"
   ]
  },
  {
   "cell_type": "code",
   "execution_count": 12,
   "id": "11a687cd-bedc-4691-a028-655dca71f184",
   "metadata": {},
   "outputs": [],
   "source": [
    "resl = 10000\n",
    "loopl, loopr = (ll//resl), (rr//resl)"
   ]
  },
  {
   "cell_type": "code",
   "execution_count": null,
   "id": "cde1c8aa-6377-444f-b10e-0a380a2d31da",
   "metadata": {},
   "outputs": [],
   "source": [
    "dstall = []\n",
    "for group in leg:\n",
    "    #cool = cooler.Cooler(f'dataset/hicluster_bulk/{group}/{group}.Q.cool')\n",
    "    cool = cooler.Cooler(f'/data/female-amb/loop/{group}/{group}/{group}.Q.cool')\n",
    "    #cool = cooler.Cooler(f'/data/female-amb/impute/merged-25k/{group}.Q.cool')\n",
    "    #cool = cooler.Cooler(f'/data/female-amb/CellType.Age.Merged.mcool/{group}.raw.mcool::resolutions/25000')\n",
    "    Q = cool.matrix(balance=False, sparse=True).fetch(chrom).tocsr()\n",
    "    tmp = Q[loopl:loopr, loopl:loopr].toarray()\n",
    "    dst = nd.rotate(tmp, 45, order=0, reshape=True, prefilter=False, cval=0)\n",
    "    dstall.append(dst)"
   ]
  },
  {
   "cell_type": "code",
   "execution_count": null,
   "id": "1801c9f4-fc8d-4bca-9562-842a32ca7863",
   "metadata": {},
   "outputs": [],
   "source": [
    "required_repetitions = len(leg)\n",
    "height_ratios = [1] + np.tile([3.5, 1,1], required_repetitions).tolist()\n",
    "\n",
    "\n",
    "fig, axes = plt.subplots(len(leg) * 3 + 1, 1, figsize=(10, np.sum(height_ratios)/2), \n",
    "                         gridspec_kw={'height_ratios': height_ratios}, dpi=300, sharex='all')\n",
    "legname = leg\n",
    "tmpd = binall.loc[selb, 'start'] // resl - loopl\n",
    "\n",
    "ax = axes[0]\n",
    "sel = (binall['chrom']==chrom) & (binall['start']>=ll) & (binall['start']<rr)\n",
    "xpos = (binall.loc[sel, 'start'] // resl - loopl) * np.sqrt(2)\n",
    "ax.plot(xpos, binall.loc[sel, 'chi2_sc'].values, \n",
    "        c='C0', alpha=0.7)\n",
    "\n",
    "ax.set_title('Chi-Square', fontsize=10)\n",
    "ax.set_xlim([0, (loopr-loopl-1)*np.sqrt(2)])\n",
    "\n",
    "for i in range(len(leg)):\n",
    "    ax = axes[i*3+1]\n",
    "    ax.set_title(legname[i], fontsize=10)\n",
    "    ax.spines['right'].set_visible(False)\n",
    "    ax.spines['top'].set_visible(False)\n",
    "    ax.spines['bottom'].set_visible(False)\n",
    "    ax.spines['left'].set_visible(False)\n",
    "    img = ax.imshow(dstall[i], cmap='afmhot_r',vmin=0, vmax=0.01) #\n",
    "    h = len(dstall[i])\n",
    "    ax.set_ylim([0.5*h, 0.4*h])\n",
    "    ax.set_xlim([0, h])\n",
    "    ax.set_yticks([])\n",
    "    ax.set_yticklabels([])\n",
    "\n",
    "    ax = axes[i*3+2]\n",
    "    ax.plot(xpos, bound_prob_ct.loc[leg[i], sel].values, c='C0', alpha=0.7)\n",
    "    ax.scatter(tmpd * np.sqrt(2), np.zeros(len(tmpd))+0.05, color='r', s=4)\n",
    "    ax.set_ylim([0, 0.3])\n",
    "\n",
    "    ax = axes[i*3+3]\n",
    "    sns.despine(bottom=True, ax=ax)\n",
    "    ## plot compartment, use 10k coordinate\n",
    "    selc = (bincomp['chr']==chrom) & (bincomp['start']>=ll) & (bincomp['start']<rr)\n",
    "    x = ( bincomp.loc[selc, 'start'] // resl - loopl ) * np.sqrt(2)\n",
    "    y = comp.loc[selc, leg[i]].values\n",
    "    ax.fill_between(x, y, 0, where=y >= 0, facecolor='C3', interpolate=True)\n",
    "    ax.fill_between(x, y, 0, where=y <= 0, facecolor='C0', interpolate=True)\n",
    "    \n",
    "    \n",
    "ax.set_xlim([0, (loopr-loopl-1)*np.sqrt(2)])\n",
    "ax.set_xticks(np.sqrt(2)*np.array(np.arange(0, loopr-loopl+1, 100).tolist() + [tss//resl-loopl, tes//resl-loopl]))\n",
    "ax.set_xticklabels([])\n",
    "ax.set_xticklabels([f'{(xx+loopl)/100}M' for xx in np.arange(0, loopr-loopl+1, 100)]+['L','R'])\n",
    "fig.suptitle(f\"{chrom}:{tss}-{tes}\", fontsize=16)"
   ]
  },
  {
   "cell_type": "code",
   "execution_count": null,
   "id": "9252b52d-57e1-44d2-8f18-e932a0c29bc3",
   "metadata": {},
   "outputs": [],
   "source": []
  },
  {
   "cell_type": "code",
   "execution_count": null,
   "id": "958f2e25-df29-4c45-9ca6-2e873148733c",
   "metadata": {},
   "outputs": [],
   "source": []
  },
  {
   "cell_type": "code",
   "execution_count": null,
   "id": "c0296fb1-90ad-41ea-aaea-83bfd112f591",
   "metadata": {},
   "outputs": [],
   "source": []
  },
  {
   "cell_type": "code",
   "execution_count": null,
   "id": "7f32f515-9fee-4a55-90be-d54aa4a8a95f",
   "metadata": {},
   "outputs": [],
   "source": []
  },
  {
   "cell_type": "code",
   "execution_count": null,
   "id": "e7532614-6f8f-4736-9cee-f19250de2c31",
   "metadata": {},
   "outputs": [],
   "source": []
  },
  {
   "cell_type": "code",
   "execution_count": null,
   "id": "0157ac78-dd7a-4807-90fc-b23372588243",
   "metadata": {},
   "outputs": [],
   "source": []
  },
  {
   "cell_type": "code",
   "execution_count": null,
   "id": "52ec71e8-f457-40d7-9667-6d4422b19e5e",
   "metadata": {},
   "outputs": [],
   "source": []
  },
  {
   "cell_type": "code",
   "execution_count": null,
   "id": "959b94f3-93e5-4241-804d-cfa496133379",
   "metadata": {},
   "outputs": [],
   "source": []
  },
  {
   "cell_type": "code",
   "execution_count": null,
   "id": "e1a62b35-e2ac-4b11-aa79-5c66950c4b6e",
   "metadata": {},
   "outputs": [],
   "source": []
  },
  {
   "cell_type": "code",
   "execution_count": null,
   "id": "f644fdff-cae1-424e-b3a4-62ffbe1c0d8e",
   "metadata": {},
   "outputs": [],
   "source": []
  },
  {
   "cell_type": "code",
   "execution_count": null,
   "id": "d0b92f73-0105-47e0-998b-309c4a409718",
   "metadata": {},
   "outputs": [],
   "source": []
  },
  {
   "cell_type": "code",
   "execution_count": null,
   "id": "a90e5f45-67c6-4c71-bb1b-2718583c2b64",
   "metadata": {},
   "outputs": [],
   "source": []
  },
  {
   "cell_type": "code",
   "execution_count": null,
   "id": "ba380fcb-f57f-4d79-a20b-6f0ac8b06651",
   "metadata": {},
   "outputs": [],
   "source": []
  },
  {
   "cell_type": "code",
   "execution_count": null,
   "id": "cf5bbd33-d804-46bd-96c1-3f31072341ec",
   "metadata": {},
   "outputs": [],
   "source": []
  },
  {
   "cell_type": "code",
   "execution_count": null,
   "id": "5b0cbf91-bc47-497b-a37d-5bba001bec3e",
   "metadata": {},
   "outputs": [],
   "source": []
  },
  {
   "cell_type": "code",
   "execution_count": null,
   "id": "fd2cb3f9-2c71-4438-bb68-e5d2fbf0518d",
   "metadata": {},
   "outputs": [],
   "source": []
  },
  {
   "cell_type": "code",
   "execution_count": 20,
   "id": "b20725e2-90d4-4b73-93c4-67b5d32ace4a",
   "metadata": {},
   "outputs": [],
   "source": [
    "# with PdfPages(f'{ct}.DiffDomain.pdf') as pdf:\n",
    "#     for _bin in selected_bins:\n",
    "#         info_df = binall.loc[_bin] \n",
    "#         chrom, tss, tes = info_df['chrom'],info_df['start'], info_df['end']\n",
    "#         lslop, rslop = 1000000, 2000000\n",
    "#         ll, rr = (tss - lslop), (tss + rslop)\n",
    "#         resl = 10000\n",
    "#         loopl, loopr = (ll//resl), (rr//resl)\n",
    "    \n",
    "#         dstall = []\n",
    "#         for group in leg:\n",
    "#             cool = cooler.Cooler(f'dataset/hicluster_bulk/{group}/{group}.Q.cool')\n",
    "#             #cool = cooler.Cooler(f'/data/female-amb/loop/{group}/{group}/{group}.Q.cool')\n",
    "#             #cool = cooler.Cooler(f'/data/female-amb/impute/merged-25k/{group}.Q.cool')\n",
    "#             #cool = cooler.Cooler(f'/data/female-amb/CellType.Age.Merged.mcool/{group}.raw.mcool::resolutions/25000')\n",
    "#             Q = cool.matrix(balance=False, sparse=True).fetch(chrom).tocsr()\n",
    "#             tmp = Q[loopl:loopr, loopl:loopr].toarray()\n",
    "#             dst = nd.rotate(tmp, 45, order=0, reshape=True, prefilter=False, cval=0)\n",
    "#             dstall.append(dst)\n",
    "        \n",
    "#         combined_array = np.concatenate([arr.flatten() for arr in dstall])\n",
    "#         quantile_95 = np.quantile(combined_array, 0.98)\n",
    "        \n",
    "#         fig, axes = plt.subplots(len(leg)*2+1, 1, figsize=(10, np.sum([1] + np.tile([3.5,1],len(leg)).tolist())/2), \n",
    "#                              gridspec_kw={'height_ratios':[1] + np.tile([3.5,1],len(leg)).tolist()}, dpi=300, sharex='all')\n",
    "#         legname = leg\n",
    "#         tmpd = binall.loc[selb, 'start'] // resl - loopl\n",
    "        \n",
    "#         ax = axes[0]\n",
    "#         sel = (binall['chrom']==chrom) & (binall['start']>=ll) & (binall['start']<rr)\n",
    "#         xpos = (binall.loc[sel, 'start'] // resl - loopl) * np.sqrt(2)\n",
    "#         ax.plot(xpos, binall.loc[sel, 'chi2_sc'].values, \n",
    "#                 c='C0', alpha=0.7)\n",
    "        \n",
    "#         ax.set_title('Chi-Square', fontsize=10)\n",
    "#         ax.set_xlim([0, (loopr-loopl-1)*np.sqrt(2)])\n",
    "        \n",
    "#         for i in range(len(leg)):\n",
    "#             ax = axes[i*2+1]\n",
    "#             ax.set_title(legname[i], fontsize=10)\n",
    "#             ax.spines['right'].set_visible(False)\n",
    "#             ax.spines['top'].set_visible(False)\n",
    "#             ax.spines['bottom'].set_visible(False)\n",
    "#             ax.spines['left'].set_visible(False)\n",
    "#             img = ax.imshow(dstall[i], cmap='afmhot_r',vmin=0, vmax=0.012) #\n",
    "#             h = len(dstall[i])\n",
    "#             ax.set_ylim([0.5*h, 0.4*h])\n",
    "#             ax.set_xlim([0, h])\n",
    "#             ax.set_yticks([])\n",
    "#             ax.set_yticklabels([])\n",
    "        \n",
    "#             ax = axes[i*2+2]\n",
    "#             ax.plot(xpos, bound_prob_ct.loc[leg[i], sel].values, c='C0', alpha=0.7)\n",
    "#             ax.scatter(tmpd * np.sqrt(2), np.zeros(len(tmpd))+0.05, color='r', s=4)\n",
    "#             ax.set_ylim([0, 0.3])\n",
    "#             # ax2 = ax.twinx()\n",
    "#             # ax2.plot(xpos, ins.loc[leg[i], sel].values, c='C1', alpha=0.7)\n",
    "#             # ax2.set_ylim([0.05, 0.4])\n",
    "            \n",
    "#         ax.set_xlim([0, (loopr-loopl-1)*np.sqrt(2)])\n",
    "#         ax.set_xticks(np.sqrt(2)*np.array(np.arange(0, loopr-loopl+1, 100).tolist() + [tss//resl-loopl, tes//resl-loopl]))\n",
    "#         ax.set_xticklabels([])\n",
    "#         ax.set_xticklabels([f'{(xx+loopl)/100}M' for xx in np.arange(0, loopr-loopl+1, 100)]+['TSS','TES'])\n",
    "#         fig.suptitle(f\"{chrom}:{tss}-{tes}\", fontsize=16)\n",
    "\n",
    "#         pdf.savefig(fig)\n",
    "#         print(_bin)\n",
    "#         #plt.show(close = True)\n",
    "#         # plt.savefig(f'/gale/netapp/entex/HBA/snm3C/plot/majortype_diff_FOXP2.pdf', transparent=True, dpi=300)"
   ]
  },
  {
   "cell_type": "code",
   "execution_count": null,
   "id": "27aa1da3-8d3a-494e-b722-2e6490bb73b6",
   "metadata": {},
   "outputs": [],
   "source": []
  },
  {
   "cell_type": "code",
   "execution_count": null,
   "id": "6b8140fa-f2ac-4c42-8011-0be361005ad7",
   "metadata": {},
   "outputs": [],
   "source": []
  },
  {
   "cell_type": "code",
   "execution_count": null,
   "id": "242ba6db-315a-4241-8c86-df3400bfe863",
   "metadata": {},
   "outputs": [],
   "source": []
  },
  {
   "cell_type": "code",
   "execution_count": null,
   "id": "5b4450f7-e98a-4d0a-baeb-b9cb8f4dc2eb",
   "metadata": {},
   "outputs": [],
   "source": []
  }
 ],
 "metadata": {
  "kernelspec": {
   "display_name": "Python 3 (ipykernel)",
   "language": "python",
   "name": "python3"
  },
  "language_info": {
   "codemirror_mode": {
    "name": "ipython",
    "version": 3
   },
   "file_extension": ".py",
   "mimetype": "text/x-python",
   "name": "python",
   "nbconvert_exporter": "python",
   "pygments_lexer": "ipython3",
   "version": "3.10.12"
  }
 },
 "nbformat": 4,
 "nbformat_minor": 5
}
