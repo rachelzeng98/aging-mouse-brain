{
 "cells": [
  {
   "cell_type": "code",
   "execution_count": 1,
   "id": "46758782-471a-4b1f-ba06-ded09b34ec48",
   "metadata": {},
   "outputs": [],
   "source": [
    "import pandas as pd\n",
    "import anndata\n",
    "import seaborn as sns\n",
    "import matplotlib.pyplot as plt\n",
    "from ALLCools.plot import *\n",
    "from ALLCools.mcds import MCDS\n",
    "import numpy as np\n",
    "import scanpy as sc\n",
    "from matplotlib.backends.backend_pdf import PdfPages\n",
    "from scipy.stats import ranksums, kruskal\n",
    "from concurrent.futures import ProcessPoolExecutor, as_completed\n",
    "from statsmodels.sandbox.stats.multicomp import multipletests as FDR\n",
    "from collections import defaultdict\n",
    "import pingouin as pg\n",
    "import joblib\n",
    "\n",
    "plt.rcParams['figure.dpi'] = 100\n",
    "plt.rcParams['savefig.dpi']=300\n",
    "plt.rcParams['pdf.fonttype']=42"
   ]
  },
  {
   "cell_type": "code",
   "execution_count": 2,
   "id": "3cfa9e20-a714-4cfc-9f2b-40d28dc711e6",
   "metadata": {},
   "outputs": [],
   "source": [
    "# Oligo NN in all slices\n",
    "ct= 'Astro-TE NN'"
   ]
  },
  {
   "cell_type": "code",
   "execution_count": 3,
   "id": "89a24287-74ba-4230-84c0-36293f4e53fa",
   "metadata": {},
   "outputs": [
    {
     "data": {
      "text/html": [
       "<div>\n",
       "<style scoped>\n",
       "    .dataframe tbody tr th:only-of-type {\n",
       "        vertical-align: middle;\n",
       "    }\n",
       "\n",
       "    .dataframe tbody tr th {\n",
       "        vertical-align: top;\n",
       "    }\n",
       "\n",
       "    .dataframe thead th {\n",
       "        text-align: right;\n",
       "    }\n",
       "</style>\n",
       "<table border=\"1\" class=\"dataframe\">\n",
       "  <thead>\n",
       "    <tr style=\"text-align: right;\">\n",
       "      <th></th>\n",
       "      <th>volume</th>\n",
       "      <th>z</th>\n",
       "      <th>fov</th>\n",
       "      <th>experiment</th>\n",
       "      <th>region</th>\n",
       "      <th>slice</th>\n",
       "      <th>age</th>\n",
       "      <th>sample</th>\n",
       "      <th>n_counts</th>\n",
       "      <th>n_genes</th>\n",
       "      <th>blank_count</th>\n",
       "      <th>x</th>\n",
       "      <th>y</th>\n",
       "      <th>L1</th>\n",
       "      <th>L2</th>\n",
       "      <th>L2_transfer</th>\n",
       "      <th>merf_clust</th>\n",
       "      <th>merf_clust_tt</th>\n",
       "      <th>final_annot</th>\n",
       "    </tr>\n",
       "    <tr>\n",
       "      <th>cell</th>\n",
       "      <th></th>\n",
       "      <th></th>\n",
       "      <th></th>\n",
       "      <th></th>\n",
       "      <th></th>\n",
       "      <th></th>\n",
       "      <th></th>\n",
       "      <th></th>\n",
       "      <th></th>\n",
       "      <th></th>\n",
       "      <th></th>\n",
       "      <th></th>\n",
       "      <th></th>\n",
       "      <th></th>\n",
       "      <th></th>\n",
       "      <th></th>\n",
       "      <th></th>\n",
       "      <th></th>\n",
       "      <th></th>\n",
       "    </tr>\n",
       "  </thead>\n",
       "  <tbody>\n",
       "    <tr>\n",
       "      <th>C2-2mo-5_1</th>\n",
       "      <td>825.513794</td>\n",
       "      <td>7</td>\n",
       "      <td>5</td>\n",
       "      <td>202309011129_aging-mouse-2mo-slice-25_VMSC01101</td>\n",
       "      <td>region_0</td>\n",
       "      <td>C2</td>\n",
       "      <td>2mo</td>\n",
       "      <td>C2-2mo</td>\n",
       "      <td>40.0</td>\n",
       "      <td>24.0</td>\n",
       "      <td>0.0</td>\n",
       "      <td>324.190735</td>\n",
       "      <td>2504.009521</td>\n",
       "      <td>11.0</td>\n",
       "      <td>20.0</td>\n",
       "      <td>Astro-TE NN</td>\n",
       "      <td>r1_3_0</td>\n",
       "      <td>r1_3_0</td>\n",
       "      <td>Astro-TE NN</td>\n",
       "    </tr>\n",
       "    <tr>\n",
       "      <th>C2-2mo-6_7</th>\n",
       "      <td>480.265198</td>\n",
       "      <td>4</td>\n",
       "      <td>6</td>\n",
       "      <td>202309011129_aging-mouse-2mo-slice-25_VMSC01101</td>\n",
       "      <td>region_0</td>\n",
       "      <td>C2</td>\n",
       "      <td>2mo</td>\n",
       "      <td>C2-2mo</td>\n",
       "      <td>28.0</td>\n",
       "      <td>22.0</td>\n",
       "      <td>0.0</td>\n",
       "      <td>281.575378</td>\n",
       "      <td>2594.869141</td>\n",
       "      <td>11.0</td>\n",
       "      <td>20.0</td>\n",
       "      <td>Astro-TE NN</td>\n",
       "      <td>r1_3_0</td>\n",
       "      <td>r1_3_0</td>\n",
       "      <td>Astro-TE NN</td>\n",
       "    </tr>\n",
       "    <tr>\n",
       "      <th>C2-2mo-6_17</th>\n",
       "      <td>1087.918823</td>\n",
       "      <td>7</td>\n",
       "      <td>6</td>\n",
       "      <td>202309011129_aging-mouse-2mo-slice-25_VMSC01101</td>\n",
       "      <td>region_0</td>\n",
       "      <td>C2</td>\n",
       "      <td>2mo</td>\n",
       "      <td>C2-2mo</td>\n",
       "      <td>65.0</td>\n",
       "      <td>45.0</td>\n",
       "      <td>1.0</td>\n",
       "      <td>312.261841</td>\n",
       "      <td>2706.029297</td>\n",
       "      <td>11.0</td>\n",
       "      <td>20.0</td>\n",
       "      <td>Astro-TE NN</td>\n",
       "      <td>r1_3_0</td>\n",
       "      <td>r1_3_0</td>\n",
       "      <td>Astro-TE NN</td>\n",
       "    </tr>\n",
       "    <tr>\n",
       "      <th>C2-2mo-6_20</th>\n",
       "      <td>527.241943</td>\n",
       "      <td>3</td>\n",
       "      <td>6</td>\n",
       "      <td>202309011129_aging-mouse-2mo-slice-25_VMSC01101</td>\n",
       "      <td>region_0</td>\n",
       "      <td>C2</td>\n",
       "      <td>2mo</td>\n",
       "      <td>C2-2mo</td>\n",
       "      <td>21.0</td>\n",
       "      <td>15.0</td>\n",
       "      <td>0.0</td>\n",
       "      <td>252.470856</td>\n",
       "      <td>2713.178223</td>\n",
       "      <td>11.0</td>\n",
       "      <td>20.0</td>\n",
       "      <td>Astro-TE NN</td>\n",
       "      <td>r1_3_0</td>\n",
       "      <td>r1_3_0</td>\n",
       "      <td>Astro-TE NN</td>\n",
       "    </tr>\n",
       "    <tr>\n",
       "      <th>C2-2mo-6_30</th>\n",
       "      <td>645.234985</td>\n",
       "      <td>6</td>\n",
       "      <td>6</td>\n",
       "      <td>202309011129_aging-mouse-2mo-slice-25_VMSC01101</td>\n",
       "      <td>region_0</td>\n",
       "      <td>C2</td>\n",
       "      <td>2mo</td>\n",
       "      <td>C2-2mo</td>\n",
       "      <td>76.0</td>\n",
       "      <td>46.0</td>\n",
       "      <td>0.0</td>\n",
       "      <td>402.384918</td>\n",
       "      <td>2698.655273</td>\n",
       "      <td>11.0</td>\n",
       "      <td>20.0</td>\n",
       "      <td>Astro-TE NN</td>\n",
       "      <td>r1_3_0</td>\n",
       "      <td>r1_3_0</td>\n",
       "      <td>Astro-TE NN</td>\n",
       "    </tr>\n",
       "  </tbody>\n",
       "</table>\n",
       "</div>"
      ],
      "text/plain": [
       "                  volume  z  fov  \\\n",
       "cell                               \n",
       "C2-2mo-5_1    825.513794  7    5   \n",
       "C2-2mo-6_7    480.265198  4    6   \n",
       "C2-2mo-6_17  1087.918823  7    6   \n",
       "C2-2mo-6_20   527.241943  3    6   \n",
       "C2-2mo-6_30   645.234985  6    6   \n",
       "\n",
       "                                                  experiment    region slice  \\\n",
       "cell                                                                           \n",
       "C2-2mo-5_1   202309011129_aging-mouse-2mo-slice-25_VMSC01101  region_0    C2   \n",
       "C2-2mo-6_7   202309011129_aging-mouse-2mo-slice-25_VMSC01101  region_0    C2   \n",
       "C2-2mo-6_17  202309011129_aging-mouse-2mo-slice-25_VMSC01101  region_0    C2   \n",
       "C2-2mo-6_20  202309011129_aging-mouse-2mo-slice-25_VMSC01101  region_0    C2   \n",
       "C2-2mo-6_30  202309011129_aging-mouse-2mo-slice-25_VMSC01101  region_0    C2   \n",
       "\n",
       "             age  sample  n_counts  n_genes  blank_count           x  \\\n",
       "cell                                                                   \n",
       "C2-2mo-5_1   2mo  C2-2mo      40.0     24.0          0.0  324.190735   \n",
       "C2-2mo-6_7   2mo  C2-2mo      28.0     22.0          0.0  281.575378   \n",
       "C2-2mo-6_17  2mo  C2-2mo      65.0     45.0          1.0  312.261841   \n",
       "C2-2mo-6_20  2mo  C2-2mo      21.0     15.0          0.0  252.470856   \n",
       "C2-2mo-6_30  2mo  C2-2mo      76.0     46.0          0.0  402.384918   \n",
       "\n",
       "                       y    L1    L2  L2_transfer merf_clust merf_clust_tt  \\\n",
       "cell                                                                         \n",
       "C2-2mo-5_1   2504.009521  11.0  20.0  Astro-TE NN     r1_3_0        r1_3_0   \n",
       "C2-2mo-6_7   2594.869141  11.0  20.0  Astro-TE NN     r1_3_0        r1_3_0   \n",
       "C2-2mo-6_17  2706.029297  11.0  20.0  Astro-TE NN     r1_3_0        r1_3_0   \n",
       "C2-2mo-6_20  2713.178223  11.0  20.0  Astro-TE NN     r1_3_0        r1_3_0   \n",
       "C2-2mo-6_30  2698.655273  11.0  20.0  Astro-TE NN     r1_3_0        r1_3_0   \n",
       "\n",
       "             final_annot  \n",
       "cell                      \n",
       "C2-2mo-5_1   Astro-TE NN  \n",
       "C2-2mo-6_7   Astro-TE NN  \n",
       "C2-2mo-6_17  Astro-TE NN  \n",
       "C2-2mo-6_20  Astro-TE NN  \n",
       "C2-2mo-6_30  Astro-TE NN  "
      ]
     },
     "execution_count": 3,
     "metadata": {},
     "output_type": "execute_result"
    }
   ],
   "source": [
    "annot = pd.read_hdf('/data/male-amb/MERFISH/MERFISH.integrated.01.hdf' )\n",
    "annot = annot[annot['final_annot'] == ct]\n",
    "annot['sample'] = annot.index.map(lambda x: '-'.join(x.split('-')[:-1]))\n",
    "annot.head()"
   ]
  },
  {
   "cell_type": "code",
   "execution_count": 4,
   "id": "d86577bc",
   "metadata": {},
   "outputs": [
    {
     "data": {
      "text/plain": [
       "slice\n",
       "C11    8914\n",
       "C5     8766\n",
       "C12    8714\n",
       "C8     5826\n",
       "C3     5619\n",
       "C2     4141\n",
       "C13    1172\n",
       "Name: count, dtype: int64"
      ]
     },
     "execution_count": 4,
     "metadata": {},
     "output_type": "execute_result"
    }
   ],
   "source": [
    "annot['slice'].value_counts()"
   ]
  },
  {
   "cell_type": "code",
   "execution_count": 5,
   "id": "246cdcca-17c6-44ec-a791-b24a570e77ed",
   "metadata": {},
   "outputs": [
    {
     "data": {
      "text/plain": [
       "{'C2': ['C2-2mo', 'C2-9mo', 'C2-18mo'],\n",
       " 'C3': ['C3-2mo', 'C3-9mo', 'C3-18mo'],\n",
       " 'C5': ['C5-2mo', 'C5-9mo', 'C5-18mo'],\n",
       " 'C8': ['C8-2mo', 'C8-9mo', 'C8-18mo'],\n",
       " 'C11': ['C11-2mo', 'C11-9mo-repeat', 'C11-18mo'],\n",
       " 'C12': ['C12-2mo', 'C12-9mo-repeat', 'C12-18mo']}"
      ]
     },
     "execution_count": 5,
     "metadata": {},
     "output_type": "execute_result"
    }
   ],
   "source": [
    "# get a dict with keys as the Cxxx and values as the slices, order by 2mo, 9mo and 18mo\n",
    "all_samples = annot['sample'].unique()\n",
    "sample_dict = defaultdict(list)\n",
    "for sample in all_samples:\n",
    "    _slice = sample.split('-')[0]\n",
    "    sample_dict[_slice].append(sample)\n",
    "    # order the list by 2mo, 9mo and 18mo\n",
    "    sample_dict[_slice].sort(key=lambda x: int(x.split('-')[1][:-2]))\n",
    "\n",
    "# order the slices by number small to large\n",
    "sample_dict = dict(sorted(sample_dict.items(), key=lambda x: int(x[0][1:])))\n",
    "# remove C13\n",
    "sample_dict.pop('C13')\n",
    "sample_dict"
   ]
  },
  {
   "cell_type": "code",
   "execution_count": 6,
   "id": "a976f48b",
   "metadata": {},
   "outputs": [],
   "source": [
    "#joblib.dump(sample_dict,'sample_dict')"
   ]
  },
  {
   "cell_type": "code",
   "execution_count": 7,
   "id": "e5e82bbd-17f5-495a-af02-3f045dc042fb",
   "metadata": {},
   "outputs": [],
   "source": [
    "all_results = joblib.load(f\"result/{ct}_deg_result\")"
   ]
  },
  {
   "cell_type": "markdown",
   "id": "7657c514-5f93-4c7d-b04d-d4b9263ca428",
   "metadata": {},
   "source": [
    "## plot"
   ]
  },
  {
   "cell_type": "code",
   "execution_count": 8,
   "id": "19eb498c-ca40-45a0-9874-bcff59f44c31",
   "metadata": {},
   "outputs": [],
   "source": [
    "# get all from differents slices(keys) in all_results\n",
    "all_degs = []\n",
    "pvalue = 1e-20\n",
    "log_fc = 0.3\n",
    "for _slice in all_results.keys():\n",
    "    deg_df = all_results[_slice]\n",
    "    leg = sample_dict[_slice]\n",
    "    deg_df[f'{_slice}.log2_18mo_2mo'] = np.log2((deg_df[f\"{leg[2]}\"] + 0.001)/(deg_df[f\"{leg[0]}\"] + 0.001))\n",
    "    deg_list = list(deg_df[(deg_df[f'fdr'] < pvalue) & (np.abs(deg_df[f'{_slice}.log2_18mo_2mo']) > log_fc)].index)\n",
    "    all_degs += deg_list"
   ]
  },
  {
   "cell_type": "code",
   "execution_count": 9,
   "id": "150d6566-3f59-4d7c-862d-17b40a0f8d21",
   "metadata": {},
   "outputs": [
    {
     "data": {
      "text/plain": [
       "28"
      ]
     },
     "execution_count": 9,
     "metadata": {},
     "output_type": "execute_result"
    }
   ],
   "source": [
    "deg_counts = pd.Index(all_degs).value_counts()\n",
    "common_degs = deg_counts[deg_counts >= 2].index\n",
    "len(common_degs)"
   ]
  },
  {
   "cell_type": "code",
   "execution_count": 10,
   "id": "91352d1a-87d0-4b51-b4b5-695d559787c2",
   "metadata": {},
   "outputs": [
    {
     "data": {
      "text/plain": [
       "Index(['Neat1', 'C4b'], dtype='object')"
      ]
     },
     "execution_count": 10,
     "metadata": {},
     "output_type": "execute_result"
    }
   ],
   "source": [
    "goi = ['Il33','Mobp','Neat1','Spock1','C4b']\n",
    "#goi = ['Trem2','Nlrp3','Il18','Il1b','Apoe','App','Tff1','Psen1']\n",
    "#goi = ['Meg3','Ighm']\n",
    "#goi = ['Trem2','Nlrp3','Il18','Il1b','Apoe','App','Tff1','Psen1']\n",
    "common_degs.intersection(goi)"
   ]
  },
  {
   "cell_type": "code",
   "execution_count": 11,
   "id": "94f9b6b9-731a-4a04-a3f9-787a7dca7ea7",
   "metadata": {},
   "outputs": [],
   "source": [
    "all_fc_df = []\n",
    "all_fdr_df = []\n",
    "\n",
    "for _slice in all_results.keys():\n",
    "    deg_df = all_results[_slice]\n",
    "    leg = sample_dict[_slice]\n",
    "    deg_df[f'{_slice}.log2_18mo_2mo'] = np.log2((deg_df[f\"{leg[2]}\"] + 0.001)/(deg_df[f\"{leg[0]}\"] + 0.001))\n",
    "    fc_df= deg_df.loc[:,[f'{_slice}.log2_18mo_2mo']]\n",
    "    fdr_df = deg_df.loc[:,['fdr']]\n",
    "    all_fdr_df.append(fdr_df)\n",
    "    all_fc_df.append(fc_df)\n",
    "\n",
    "all_fc_df = pd.concat(all_fc_df, axis=1)\n",
    "all_fc_df.columns = all_results.keys()\n",
    "\n",
    "all_fdr_df = pd.concat(all_fdr_df, axis=1)\n",
    "all_fdr_df.columns = all_results.keys()\n"
   ]
  },
  {
   "cell_type": "markdown",
   "id": "3539047b-33bc-4c90-857b-b7e490b1dfb3",
   "metadata": {},
   "source": [
    "## plot scatter"
   ]
  },
  {
   "cell_type": "code",
   "execution_count": 12,
   "id": "d2141e40-b781-41cd-8b83-c43bc28d57d9",
   "metadata": {},
   "outputs": [
    {
     "data": {
      "text/html": [
       "<div>\n",
       "<style scoped>\n",
       "    .dataframe tbody tr th:only-of-type {\n",
       "        vertical-align: middle;\n",
       "    }\n",
       "\n",
       "    .dataframe tbody tr th {\n",
       "        vertical-align: top;\n",
       "    }\n",
       "\n",
       "    .dataframe thead th {\n",
       "        text-align: right;\n",
       "    }\n",
       "</style>\n",
       "<table border=\"1\" class=\"dataframe\">\n",
       "  <thead>\n",
       "    <tr style=\"text-align: right;\">\n",
       "      <th></th>\n",
       "      <th>gene</th>\n",
       "      <th>slice</th>\n",
       "      <th>log2_fc</th>\n",
       "    </tr>\n",
       "  </thead>\n",
       "  <tbody>\n",
       "    <tr>\n",
       "      <th>0</th>\n",
       "      <td>Msi2</td>\n",
       "      <td>C2</td>\n",
       "      <td>1.025453</td>\n",
       "    </tr>\n",
       "    <tr>\n",
       "      <th>1</th>\n",
       "      <td>Msi2</td>\n",
       "      <td>C3</td>\n",
       "      <td>0.285143</td>\n",
       "    </tr>\n",
       "    <tr>\n",
       "      <th>2</th>\n",
       "      <td>Msi2</td>\n",
       "      <td>C5</td>\n",
       "      <td>0.900475</td>\n",
       "    </tr>\n",
       "    <tr>\n",
       "      <th>3</th>\n",
       "      <td>Msi2</td>\n",
       "      <td>C8</td>\n",
       "      <td>0.055717</td>\n",
       "    </tr>\n",
       "    <tr>\n",
       "      <th>4</th>\n",
       "      <td>Msi2</td>\n",
       "      <td>C11</td>\n",
       "      <td>0.304044</td>\n",
       "    </tr>\n",
       "  </tbody>\n",
       "</table>\n",
       "</div>"
      ],
      "text/plain": [
       "   gene slice   log2_fc\n",
       "0  Msi2    C2  1.025453\n",
       "1  Msi2    C3  0.285143\n",
       "2  Msi2    C5  0.900475\n",
       "3  Msi2    C8  0.055717\n",
       "4  Msi2   C11  0.304044"
      ]
     },
     "execution_count": 12,
     "metadata": {},
     "output_type": "execute_result"
    }
   ],
   "source": [
    "# make it a long format, with columns as slice, genes,log2_fc\n",
    "plot_fc_df = all_fc_df.loc[common_degs]\n",
    "plot_fc_df = plot_fc_df.stack().reset_index()\n",
    "plot_fc_df.columns = ['gene', 'slice', 'log2_fc']\n",
    "plot_fc_df.head()"
   ]
  },
  {
   "cell_type": "code",
   "execution_count": 13,
   "id": "c6e711d2-a08c-4dca-94e5-76a7870d0841",
   "metadata": {},
   "outputs": [
    {
     "data": {
      "text/html": [
       "<div>\n",
       "<style scoped>\n",
       "    .dataframe tbody tr th:only-of-type {\n",
       "        vertical-align: middle;\n",
       "    }\n",
       "\n",
       "    .dataframe tbody tr th {\n",
       "        vertical-align: top;\n",
       "    }\n",
       "\n",
       "    .dataframe thead th {\n",
       "        text-align: right;\n",
       "    }\n",
       "</style>\n",
       "<table border=\"1\" class=\"dataframe\">\n",
       "  <thead>\n",
       "    <tr style=\"text-align: right;\">\n",
       "      <th></th>\n",
       "      <th>C2</th>\n",
       "      <th>C3</th>\n",
       "      <th>C5</th>\n",
       "      <th>C8</th>\n",
       "      <th>C11</th>\n",
       "      <th>C12</th>\n",
       "    </tr>\n",
       "    <tr>\n",
       "      <th>gene</th>\n",
       "      <th></th>\n",
       "      <th></th>\n",
       "      <th></th>\n",
       "      <th></th>\n",
       "      <th></th>\n",
       "      <th></th>\n",
       "    </tr>\n",
       "  </thead>\n",
       "  <tbody>\n",
       "    <tr>\n",
       "      <th>Msi2</th>\n",
       "      <td>99.007187</td>\n",
       "      <td>64.600586</td>\n",
       "      <td>152.125281</td>\n",
       "      <td>5.413940</td>\n",
       "      <td>99.230358</td>\n",
       "      <td>87.691497</td>\n",
       "    </tr>\n",
       "    <tr>\n",
       "      <th>Cxcl14</th>\n",
       "      <td>79.471027</td>\n",
       "      <td>48.288498</td>\n",
       "      <td>100.066164</td>\n",
       "      <td>72.232676</td>\n",
       "      <td>20.004663</td>\n",
       "      <td>28.608832</td>\n",
       "    </tr>\n",
       "    <tr>\n",
       "      <th>Sox9</th>\n",
       "      <td>48.959056</td>\n",
       "      <td>0.087770</td>\n",
       "      <td>40.104388</td>\n",
       "      <td>4.216581</td>\n",
       "      <td>17.773106</td>\n",
       "      <td>5.872539</td>\n",
       "    </tr>\n",
       "    <tr>\n",
       "      <th>Zfp219</th>\n",
       "      <td>41.180197</td>\n",
       "      <td>61.867008</td>\n",
       "      <td>65.576046</td>\n",
       "      <td>32.727718</td>\n",
       "      <td>160.845492</td>\n",
       "      <td>183.241570</td>\n",
       "    </tr>\n",
       "    <tr>\n",
       "      <th>Paqr8</th>\n",
       "      <td>38.949732</td>\n",
       "      <td>6.805022</td>\n",
       "      <td>86.933965</td>\n",
       "      <td>6.394965</td>\n",
       "      <td>32.037856</td>\n",
       "      <td>40.142739</td>\n",
       "    </tr>\n",
       "  </tbody>\n",
       "</table>\n",
       "</div>"
      ],
      "text/plain": [
       "               C2         C3          C5         C8         C11         C12\n",
       "gene                                                                       \n",
       "Msi2    99.007187  64.600586  152.125281   5.413940   99.230358   87.691497\n",
       "Cxcl14  79.471027  48.288498  100.066164  72.232676   20.004663   28.608832\n",
       "Sox9    48.959056   0.087770   40.104388   4.216581   17.773106    5.872539\n",
       "Zfp219  41.180197  61.867008   65.576046  32.727718  160.845492  183.241570\n",
       "Paqr8   38.949732   6.805022   86.933965   6.394965   32.037856   40.142739"
      ]
     },
     "execution_count": 13,
     "metadata": {},
     "output_type": "execute_result"
    }
   ],
   "source": [
    "## use pg to apply fdr correction to all columns\n",
    "#all_fdr_df = all_fdr_df.apply(lambda x: pg.multicomp(x, method='fdr_bh')[1])\n",
    "all_fdr_df = all_fdr_df.fillna(1)\n",
    "all_fdr_df= all_fdr_df +  1e-300\n",
    "all_fdr_df = -np.log10(all_fdr_df)\n",
    "all_fdr_df.head()"
   ]
  },
  {
   "cell_type": "code",
   "execution_count": 14,
   "id": "51abc60a-29c5-480f-95b3-6a1292c760fb",
   "metadata": {},
   "outputs": [
    {
     "data": {
      "image/png": "[encoded data removed]",
      "text/plain": [
       "<Figure size 500x500 with 4 Axes>"
      ]
     },
     "metadata": {},
     "output_type": "display_data"
    }
   ],
   "source": [
    "## cluster map and get the row order\n",
    "clustermap_df = all_fdr_df.loc[common_degs]\n",
    "g = sns.clustermap(clustermap_df, cmap='viridis', figsize=(5, 5), col_cluster=False, row_cluster=True)\n",
    "# get the clustermap ordered gene list\n",
    "gene_order = clustermap_df.index[g.dendrogram_row.reordered_ind]"
   ]
  },
  {
   "cell_type": "code",
   "execution_count": 15,
   "id": "2820aefb-4591-4b34-9c27-c38b48fee051",
   "metadata": {},
   "outputs": [],
   "source": [
    "plot_deg_df = all_fdr_df.loc[common_degs]\n",
    "# make it a long format, with columns as slice, genes,-log10_fdr\n",
    "plot_deg_df = plot_deg_df.stack().reset_index()\n",
    "plot_deg_df.columns = ['gene', 'slice', '-log10_fdr']\n",
    "plot_deg_df = pd.concat([plot_deg_df, plot_fc_df['log2_fc']], axis=1)"
   ]
  },
  {
   "cell_type": "code",
   "execution_count": 16,
   "id": "98a68612-f2b3-4b60-9c30-015e8099ae7e",
   "metadata": {},
   "outputs": [
    {
     "data": {
      "text/html": [
       "<div>\n",
       "<style scoped>\n",
       "    .dataframe tbody tr th:only-of-type {\n",
       "        vertical-align: middle;\n",
       "    }\n",
       "\n",
       "    .dataframe tbody tr th {\n",
       "        vertical-align: top;\n",
       "    }\n",
       "\n",
       "    .dataframe thead th {\n",
       "        text-align: right;\n",
       "    }\n",
       "</style>\n",
       "<table border=\"1\" class=\"dataframe\">\n",
       "  <thead>\n",
       "    <tr style=\"text-align: right;\">\n",
       "      <th></th>\n",
       "      <th>gene</th>\n",
       "      <th>slice</th>\n",
       "      <th>-log10_fdr</th>\n",
       "      <th>log2_fc</th>\n",
       "    </tr>\n",
       "  </thead>\n",
       "  <tbody>\n",
       "    <tr>\n",
       "      <th>54</th>\n",
       "      <td>Zfp219</td>\n",
       "      <td>C2</td>\n",
       "      <td>41.180197</td>\n",
       "      <td>0.980443</td>\n",
       "    </tr>\n",
       "    <tr>\n",
       "      <th>55</th>\n",
       "      <td>Zfp219</td>\n",
       "      <td>C3</td>\n",
       "      <td>61.867008</td>\n",
       "      <td>-0.092772</td>\n",
       "    </tr>\n",
       "    <tr>\n",
       "      <th>56</th>\n",
       "      <td>Zfp219</td>\n",
       "      <td>C5</td>\n",
       "      <td>65.576046</td>\n",
       "      <td>0.859811</td>\n",
       "    </tr>\n",
       "    <tr>\n",
       "      <th>57</th>\n",
       "      <td>Zfp219</td>\n",
       "      <td>C8</td>\n",
       "      <td>32.727718</td>\n",
       "      <td>-0.018244</td>\n",
       "    </tr>\n",
       "    <tr>\n",
       "      <th>58</th>\n",
       "      <td>Zfp219</td>\n",
       "      <td>C11</td>\n",
       "      <td>160.845492</td>\n",
       "      <td>0.300631</td>\n",
       "    </tr>\n",
       "  </tbody>\n",
       "</table>\n",
       "</div>"
      ],
      "text/plain": [
       "      gene slice  -log10_fdr   log2_fc\n",
       "54  Zfp219    C2   41.180197  0.980443\n",
       "55  Zfp219    C3   61.867008 -0.092772\n",
       "56  Zfp219    C5   65.576046  0.859811\n",
       "57  Zfp219    C8   32.727718 -0.018244\n",
       "58  Zfp219   C11  160.845492  0.300631"
      ]
     },
     "execution_count": 16,
     "metadata": {},
     "output_type": "execute_result"
    }
   ],
   "source": [
    "# sort the slice by sample_dict.keys() and cort gene by gene_order\n",
    "plot_deg_df['slice'] = pd.Categorical(plot_deg_df['slice'], categories=sample_dict.keys(), ordered=True)\n",
    "plot_deg_df['gene'] = pd.Categorical(plot_deg_df['gene'], categories=gene_order, ordered=True)\n",
    "plot_deg_df = plot_deg_df.sort_values(['gene', 'slice'])\n",
    "plot_deg_df.head()"
   ]
  },
  {
   "cell_type": "code",
   "execution_count": 17,
   "id": "55691f80-ad12-4c5b-9868-d0a1ef2d53f7",
   "metadata": {},
   "outputs": [],
   "source": [
    "f_plot_deg_df = plot_deg_df[plot_deg_df['-log10_fdr'] >= -np.log10(pvalue)]"
   ]
  },
  {
   "cell_type": "code",
   "execution_count": 20,
   "id": "d49c5dd1-7a61-4111-a093-a4a0cad3418b",
   "metadata": {},
   "outputs": [],
   "source": [
    "size_norm_dict = {'Oligo NN':(50,200), 'Microglia NN':(10,50),'OPC NN':(10,50), \n",
    "                    'DG Glut':(5,30), 'Astro-NT NN':(10,50), 'Astro-TE NN':(10,50),'STR D2 Gaba':(10,50)}\n",
    "hue_norm_dict = {'Oligo NN':(-0.5,0.5)}"
   ]
  },
  {
   "cell_type": "code",
   "execution_count": 22,
   "id": "2cc97432-3de2-4a51-983d-f8db8e7124fa",
   "metadata": {},
   "outputs": [
    {
     "data": {
      "image/png": "[encoded data removed]",
      "text/plain": [
       "<Figure size 600x800 with 1 Axes>"
      ]
     },
     "metadata": {},
     "output_type": "display_data"
    }
   ],
   "source": [
    "plt.rcParams['figure.dpi'] = 100\n",
    "plt.rcParams['savefig.dpi']=300\n",
    "plt.rcParams['pdf.fonttype']=42\n",
    "\n",
    "fig, ax = plt.subplots(figsize=(6,8), dpi = 100, constrained_layout = True)\n",
    "\n",
    "sns.scatterplot(data=f_plot_deg_df,\n",
    "                x='slice', \n",
    "                y='gene', rasterized = True,\n",
    "                size='-log10_fdr', size_norm = size_norm_dict[ct],sizes=(50,250),\n",
    "                hue='log2_fc', hue_norm = (-0.5,0.5),\n",
    "                palette = 'coolwarm', \n",
    "                ax=ax )\n",
    "                         \n",
    " # move legend outside\n",
    "plt.legend(bbox_to_anchor=(1.05, 1), loc=2, borderaxespad=0.) \n",
    "fig.savefig(f\"figure/{ct}.{pvalue}.{log_fc}.a_to_p.deg.pdf\", bbox_inches='tight')                    "
   ]
  },
  {
   "cell_type": "code",
   "execution_count": null,
   "id": "6ec3be26-d07a-413c-a4f0-df74b7739095",
   "metadata": {},
   "outputs": [
    {
     "data": {
      "text/plain": [
       "'/home/qzeng_salk_edu/project/241107_merfish_analysis'"
      ]
     },
     "execution_count": 1,
     "metadata": {},
     "output_type": "execute_result"
    }
   ],
   "source": [
    "pwd"
   ]
  },
  {
   "cell_type": "code",
   "execution_count": null,
   "id": "3fe190d0-57ba-4f52-bd6a-ad60bae94d81",
   "metadata": {},
   "outputs": [],
   "source": []
  },
  {
   "cell_type": "code",
   "execution_count": null,
   "id": "86bfab0f-e5c7-46cb-b9f4-40476ff97087",
   "metadata": {},
   "outputs": [],
   "source": []
  },
  {
   "cell_type": "code",
   "execution_count": null,
   "id": "5cc849e4-87aa-4785-aba5-8a8706aa9541",
   "metadata": {},
   "outputs": [],
   "source": []
  },
  {
   "cell_type": "code",
   "execution_count": null,
   "id": "a995f5c3-0053-43ab-95cc-92ef99989fe6",
   "metadata": {},
   "outputs": [],
   "source": []
  },
  {
   "cell_type": "code",
   "execution_count": null,
   "id": "961817e8-b22a-4f2a-b7c3-aaea7f00f010",
   "metadata": {},
   "outputs": [],
   "source": []
  },
  {
   "cell_type": "code",
   "execution_count": null,
   "id": "012d4f91-45bc-4a08-a6df-3e3e66f92c1f",
   "metadata": {},
   "outputs": [],
   "source": []
  },
  {
   "cell_type": "code",
   "execution_count": null,
   "id": "b8fdb168-fe62-4b55-9c7f-83a77172f830",
   "metadata": {},
   "outputs": [],
   "source": []
  },
  {
   "cell_type": "code",
   "execution_count": null,
   "id": "bc46df23-9f08-4126-96c8-3bbe66e8620d",
   "metadata": {},
   "outputs": [],
   "source": []
  },
  {
   "cell_type": "code",
   "execution_count": null,
   "id": "d28099f2-60a3-454e-92e4-5a49ff5b03d1",
   "metadata": {},
   "outputs": [],
   "source": []
  },
  {
   "cell_type": "code",
   "execution_count": null,
   "id": "1a6cd94b-63e1-4d14-97ca-eb68e4587c7c",
   "metadata": {},
   "outputs": [],
   "source": []
  },
  {
   "cell_type": "code",
   "execution_count": null,
   "id": "8088221e-6f74-49ec-9c83-39900985a04a",
   "metadata": {},
   "outputs": [],
   "source": []
  },
  {
   "cell_type": "code",
   "execution_count": null,
   "id": "2a219a6d-ed1f-4466-8df2-52336c5561b3",
   "metadata": {},
   "outputs": [],
   "source": []
  },
  {
   "cell_type": "code",
   "execution_count": null,
   "id": "9fc42413-642b-4f49-9d9a-807a5974ec96",
   "metadata": {},
   "outputs": [],
   "source": []
  },
  {
   "cell_type": "code",
   "execution_count": null,
   "id": "37f0808f-84fb-4f56-a014-58c70b3be795",
   "metadata": {},
   "outputs": [],
   "source": []
  },
  {
   "cell_type": "code",
   "execution_count": null,
   "id": "f7ad77c4-e5c3-40e8-9131-f080abf148e8",
   "metadata": {},
   "outputs": [],
   "source": []
  },
  {
   "cell_type": "code",
   "execution_count": null,
   "id": "7b073708-1d22-423f-8174-0800f51e8ea0",
   "metadata": {},
   "outputs": [],
   "source": []
  },
  {
   "cell_type": "code",
   "execution_count": null,
   "id": "ee55ebf9-fe44-40d4-a51a-8c5a2e385be6",
   "metadata": {},
   "outputs": [],
   "source": []
  },
  {
   "cell_type": "code",
   "execution_count": null,
   "id": "86556f5a-8fe1-4c0d-b4c2-ed322f1a7c44",
   "metadata": {},
   "outputs": [],
   "source": []
  },
  {
   "cell_type": "code",
   "execution_count": null,
   "id": "21ee95e6-2905-4956-ba5e-8b11ca8a4779",
   "metadata": {},
   "outputs": [],
   "source": []
  },
  {
   "cell_type": "code",
   "execution_count": null,
   "id": "ff0312ac-3001-494a-86d3-82e4f8078b80",
   "metadata": {},
   "outputs": [],
   "source": []
  },
  {
   "cell_type": "code",
   "execution_count": null,
   "id": "fa31d84b-fe3a-47ed-a029-63a9b2738051",
   "metadata": {},
   "outputs": [],
   "source": []
  }
 ],
 "metadata": {
  "kernelspec": {
   "display_name": "Python 3 (ipykernel)",
   "language": "python",
   "name": "python3"
  },
  "language_info": {
   "codemirror_mode": {
    "name": "ipython",
    "version": 3
   },
   "file_extension": ".py",
   "mimetype": "text/x-python",
   "name": "python",
   "nbconvert_exporter": "python",
   "pygments_lexer": "ipython3",
   "version": "3.10.12"
  }
 },
 "nbformat": 4,
 "nbformat_minor": 5
}
