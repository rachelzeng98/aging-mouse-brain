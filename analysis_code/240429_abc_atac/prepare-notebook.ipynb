{
 "cells": [
  {
   "cell_type": "code",
   "execution_count": 1,
   "id": "1ea87cf7-9117-4e3f-887c-e50ce079e862",
   "metadata": {
    "editable": true,
    "slideshow": {
     "slide_type": ""
    },
    "tags": []
   },
   "outputs": [
    {
     "name": "stderr",
     "output_type": "stream",
     "text": [
      "INFO:numexpr.utils:Note: NumExpr detected 48 cores but \"NUMEXPR_MAX_THREADS\" not set, so enforcing safe limit of 8.\n"
     ]
    }
   ],
   "source": [
    "import glob\n",
    "from gliderport.preset import notebook_snakemake\n",
    "import pathlib\n",
    "import subprocess\n",
    "import pandas as pd"
   ]
  },
  {
   "cell_type": "code",
   "execution_count": 2,
   "id": "fbe36a35-2ff5-45f2-8f56-5bad053052b3",
   "metadata": {},
   "outputs": [],
   "source": [
    "cemba_dmr = [pathlib.Path(path).name.split('_Hypo')[0] for path in glob.glob('/data/CembaData/celltype_dmr_bed/*.DMR.bed')]\n",
    "aging_dmr = [pathlib.Path(path).name.split('.')[0] for path in glob.glob('/data/mC_FILTER_DMR_BED/*.Hypo-Hyper.aDMR.bed')]"
   ]
  },
  {
   "cell_type": "code",
   "execution_count": 3,
   "id": "c3479a14-0660-4edd-ab39-2281ba905339",
   "metadata": {},
   "outputs": [],
   "source": [
    "allc_paths = [pathlib.Path(path).name.split('.')[0] for path in glob.glob(\"/data/female-amb/Celltype.Age.CGN-Merge/*.8wk.CGN-Merge.allc.tsv.gz\")]\n",
    "cool_files = [pathlib.Path(path).name.split('.')[0] for path in glob.glob('/data/female-amb/AMB.CoolFiles/CellType.Age.Raw.5kb.mcool/*.8wk.raw.mcool')]\n",
    "deg_files = [pathlib.Path(path).name for path in glob.glob('/data/female-amb/Diff.Result/DEG.stats/*')]"
   ]
  },
  {
   "cell_type": "code",
   "execution_count": 4,
   "id": "0350b786-7fed-4ee4-8e1b-803128be9361",
   "metadata": {},
   "outputs": [
    {
     "data": {
      "text/plain": [
       "21"
      ]
     },
     "execution_count": 4,
     "metadata": {},
     "output_type": "execute_result"
    }
   ],
   "source": [
    "shared_cts = list(set(aging_dmr) & set(allc_paths) & set(cool_files) & set(deg_files) & set(cemba_dmr)) \n",
    "shared_cts = shared_cts + ['STR_D1_Gaba','STR_D2_Gaba']\n",
    "len(shared_cts)"
   ]
  },
  {
   "cell_type": "code",
   "execution_count": 5,
   "id": "d41edd83-0f2f-4e7a-80ad-ecc1192ce730",
   "metadata": {},
   "outputs": [],
   "source": [
    "shared_cts = ['L6_IT_CTX_Glut',\n",
    " 'CA1-ProS_Glut',\n",
    " 'STR-PAL_Chst9_Gaba',\n",
    " 'Pvalb_Gaba',\n",
    " 'L23_IT_ENT_Glut',\n",
    " 'OPC_NN',\n",
    " 'L23_IT_CTX_Glut',\n",
    " 'L5_ET_CTX_Glut',\n",
    " 'L23_IT_PPP_Glut',\n",
    " 'Lamp5_Gaba',\n",
    " 'CA3_Glut',\n",
    " 'Sst_Gaba',\n",
    " 'LA-BLA-BMA-PA_Glut',\n",
    " 'SUB-ProS_Glut',\n",
    " 'Microglia_NN',\n",
    " 'Astro-NT_NN',\n",
    " 'Oligo_NN',\n",
    " 'L6_CT_CTX_Glut',\n",
    " 'L5_NP_CTX_Glut',\n",
    " 'Vip_Gaba',\n",
    " 'STR_D1_Sema5a_Gaba',\n",
    " 'Astro-TE_NN',\n",
    " 'DG_Glut',\n",
    " 'VLMC_NN',\n",
    " 'L6bCT_ENT_Glut',\n",
    " ]"
   ]
  },
  {
   "cell_type": "code",
   "execution_count": 6,
   "id": "35be0dc4-1029-47d7-90cb-f10ff887af1c",
   "metadata": {},
   "outputs": [
    {
     "data": {
      "text/plain": [
       "19"
      ]
     },
     "execution_count": 6,
     "metadata": {},
     "output_type": "execute_result"
    }
   ],
   "source": [
    "raw_cool_cts = [path.split('/')[-1].split('.')[0] for path in glob.glob(f\"/data/female-amb/AMB.CoolFiles/CellType.Age.Raw.5kb.mcool/*.8wk.raw.mcool\")]\n",
    "shared_cts = list(set(shared_cts) & set(raw_cool_cts))\n",
    "len(shared_cts)"
   ]
  },
  {
   "cell_type": "code",
   "execution_count": 7,
   "id": "e190827e-3d20-4655-aef7-39b0b5802694",
   "metadata": {
    "scrolled": true
   },
   "outputs": [
    {
     "data": {
      "text/plain": [
       "19"
      ]
     },
     "execution_count": 7,
     "metadata": {},
     "output_type": "execute_result"
    }
   ],
   "source": [
    "groups = shared_cts\n",
    "len(groups)"
   ]
  },
  {
   "cell_type": "code",
   "execution_count": 8,
   "id": "0143174c-ae26-4e88-91ad-7d5a86aea114",
   "metadata": {},
   "outputs": [],
   "source": [
    "notebook_snakemake(\n",
    "    work_dir='ABC.By.ATAC.RPM.Raw.Cool',\n",
    "    notebook_dir=\"template\",\n",
    "    groups=groups,\n",
    "    default_cpu=24,\n",
    "    default_mem_gb=10,\n",
    "    redo_prepare=True,\n",
    ")"
   ]
  },
  {
   "cell_type": "code",
   "execution_count": 11,
   "id": "9ece59f4-b91f-4a28-91d3-e5e50e850736",
   "metadata": {},
   "outputs": [
    {
     "data": {
      "text/plain": [
       "'/home/qzeng_salk_edu/project/240429_abc_atac'"
      ]
     },
     "execution_count": 11,
     "metadata": {},
     "output_type": "execute_result"
    }
   ],
   "source": [
    "pwd"
   ]
  },
  {
   "cell_type": "code",
   "execution_count": null,
   "id": "7e2cf1d2-3b99-453e-b6b6-4a28259922ad",
   "metadata": {
    "editable": true,
    "slideshow": {
     "slide_type": ""
    },
    "tags": []
   },
   "outputs": [],
   "source": []
  },
  {
   "cell_type": "code",
   "execution_count": null,
   "id": "683aad2b-3497-4df2-a5f0-d6e0cae8e4e6",
   "metadata": {},
   "outputs": [],
   "source": []
  },
  {
   "cell_type": "code",
   "execution_count": null,
   "id": "bacd6738-26c0-47cb-930e-5a62f4f7fc3a",
   "metadata": {},
   "outputs": [],
   "source": []
  },
  {
   "cell_type": "code",
   "execution_count": null,
   "id": "168ee175-bb8c-4eff-85f8-f3e686bbd178",
   "metadata": {},
   "outputs": [],
   "source": []
  },
  {
   "cell_type": "code",
   "execution_count": null,
   "id": "002bb839-6d5e-4fa5-9498-19f2add3e263",
   "metadata": {},
   "outputs": [],
   "source": []
  },
  {
   "cell_type": "code",
   "execution_count": null,
   "id": "d314d571-834d-4a39-b06d-bd2f3111561f",
   "metadata": {},
   "outputs": [],
   "source": []
  },
  {
   "cell_type": "code",
   "execution_count": null,
   "id": "8209b2fb-284d-4477-be23-6e850b7cb5ab",
   "metadata": {},
   "outputs": [],
   "source": []
  },
  {
   "cell_type": "code",
   "execution_count": null,
   "id": "25c53c7f-5256-4ef5-ae0b-ff2a01427c5b",
   "metadata": {},
   "outputs": [],
   "source": []
  }
 ],
 "metadata": {
  "kernelspec": {
   "display_name": "Python 3 (ipykernel)",
   "language": "python",
   "name": "python3"
  },
  "language_info": {
   "codemirror_mode": {
    "name": "ipython",
    "version": 3
   },
   "file_extension": ".py",
   "mimetype": "text/x-python",
   "name": "python",
   "nbconvert_exporter": "python",
   "pygments_lexer": "ipython3",
   "version": "3.10.12"
  }
 },
 "nbformat": 4,
 "nbformat_minor": 5
}
