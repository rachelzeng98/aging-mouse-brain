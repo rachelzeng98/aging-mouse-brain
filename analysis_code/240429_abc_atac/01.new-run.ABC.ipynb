{
 "cells": [
  {
   "cell_type": "code",
   "execution_count": 1,
   "id": "ab9ec1c4-2072-4ed5-b775-277eda16e112",
   "metadata": {},
   "outputs": [],
   "source": [
    "import os\n",
    "import re\n",
    "import glob\n",
    "import pysam\n",
    "import networkx as nx\n",
    "import pandas as pd\n",
    "import numpy as np\n",
    "from itertools import combinations\n",
    "from subprocess import check_output\n",
    "import xarray as xr\n",
    "from pybedtools import BedTool\n",
    "from collections import defaultdict, Counter\n",
    "import dask\n",
    "from ALLCools.plot import *\n",
    "from ALLCools.mcds import MCDS, RegionDS\n",
    "from ALLCools.dmr import call_dms, call_dmr\n",
    "import pathlib\n",
    "import matplotlib.pyplot as plt\n",
    "from scipy.stats import spearmanr, pearsonr\n",
    "from ALLCools.mcds.correlation import region_correlation, get_corr_table\n",
    "from ALLCools.dmr.parse_methylpy import methylpy_to_region_ds\n",
    "import seaborn as sns\n",
    "from multiprocessing import Pool, Manager, Process\n",
    "from functools import partial\n",
    "import argparse\n",
    "from pingouin import partial_corr\n",
    "from ALLCools.mcds import MCDS\n",
    "import cooler"
   ]
  },
  {
   "cell_type": "code",
   "execution_count": 2,
   "id": "dcbfb2dd-5dbf-45a5-a7cd-d4b190abab69",
   "metadata": {},
   "outputs": [],
   "source": [
    "group_name = 'DG_Glut'"
   ]
  },
  {
   "cell_type": "code",
   "execution_count": 3,
   "id": "f86c36e4-e230-43c7-aeed-5d8a7c2a2d32",
   "metadata": {},
   "outputs": [],
   "source": [
    "ct = group_name"
   ]
  },
  {
   "cell_type": "markdown",
   "id": "e3e37094-df98-413d-bba7-332d8bc6ec83",
   "metadata": {},
   "source": [
    "## identify deg"
   ]
  },
  {
   "cell_type": "code",
   "execution_count": 4,
   "id": "6e7d95f0-6e8c-487c-8cc7-2d842ce87433",
   "metadata": {},
   "outputs": [],
   "source": [
    "deg_dir = f'/data/female-amb/Diff.Result/DEG.stats/{ct}'\n",
    "expr = pd.read_hdf(f'{deg_dir}/expr.hdf').T\n",
    "stats = np.load(f\"{deg_dir}/{ct}.2mo-{ct}.18mo.npz\") #fc:(2mo/18mo)"
   ]
  },
  {
   "cell_type": "code",
   "execution_count": 5,
   "id": "1cbedf6b-0693-4c24-a8fb-3404f353baaf",
   "metadata": {},
   "outputs": [
    {
     "data": {
      "text/plain": [
       "14227"
      ]
     },
     "execution_count": 5,
     "metadata": {},
     "output_type": "execute_result"
    }
   ],
   "source": [
    "_sum = expr.sum(axis = 1)\n",
    "use_genes = _sum[_sum > 0.005].index\n",
    "len(use_genes)"
   ]
  },
  {
   "cell_type": "markdown",
   "id": "130a055b-9ef4-4ca2-b818-44bf976ff7e6",
   "metadata": {},
   "source": [
    "## cal abc score"
   ]
  },
  {
   "cell_type": "code",
   "execution_count": 6,
   "id": "1a79801b-8842-42d7-9d50-e8ac2bbbde14",
   "metadata": {},
   "outputs": [],
   "source": [
    "chrom_size_path = '/ref/m3C/mm10.main.nochrM.nochrY.chrom.sizes'\n",
    "gene_meta_path = '/data/metadata/gencode.vM22.basic.annotation.gene.flat.tsv.gz'\n",
    "dmr_zarr_path = f\"{ct}.AllDMR.mcds\"\n",
    "cool_path = '/data/female-amb/AMB.CoolFiles/CellType.Age.Raw.5kb.mcool'\n",
    "leg = [f\"{ct}.{age}\" for age in ['8wk','9mo','18mo']]\n",
    "age_order = ['2mo','9mo','18mo']"
   ]
  },
  {
   "cell_type": "code",
   "execution_count": 7,
   "id": "3c822669-d3b1-4062-b0d3-fe42539fa087",
   "metadata": {},
   "outputs": [],
   "source": [
    "mouse_chrs = ['chr' + str(x) for x in range(1,20)] + ['chrX']\n",
    "mouse_size = pd.read_csv(chrom_size_path, sep=\"\\t\", index_col=0, names=['length']).loc[mouse_chrs]"
   ]
  },
  {
   "cell_type": "code",
   "execution_count": 8,
   "id": "2d6364a0-9d5b-4e6f-a042-bbffa7f01e1b",
   "metadata": {},
   "outputs": [],
   "source": [
    "mouse_genes = pd.read_csv(gene_meta_path,sep=\"\\t\")[['chrom', 'start', 'end', 'gene_id','gene_name']]\n",
    "mouse_genes.columns = ['chrom', 'start', 'end', 'geneID','gene_name']\n",
    "mouse_genes['geneID'] = [re.sub(\"\\.[0-9]+$\", \"\", x) for x in mouse_genes['geneID']]\n",
    "mouse_genes.index = mouse_genes['geneID']\n",
    "mouse_genes = mouse_genes[~mouse_genes['chrom'].isin(['chrY', 'chrM'])]"
   ]
  },
  {
   "cell_type": "code",
   "execution_count": 9,
   "id": "9e5f5b74-fb64-4dbf-aa2b-7151ee3ac63a",
   "metadata": {},
   "outputs": [],
   "source": [
    "atac_rpm_path = f\"/home/qzeng_salk_edu/project/240429_abc_atac/celltype_age_RPM_files/{ct}_RPM.txt\"\n",
    "atac_rpm =pd.read_csv(atac_rpm_path, sep = '\\t')"
   ]
  },
  {
   "cell_type": "code",
   "execution_count": 10,
   "id": "a0fcb411-29de-4266-9c99-9900e69cb850",
   "metadata": {},
   "outputs": [
    {
     "data": {
      "text/html": [
       "<div>\n",
       "<style scoped>\n",
       "    .dataframe tbody tr th:only-of-type {\n",
       "        vertical-align: middle;\n",
       "    }\n",
       "\n",
       "    .dataframe tbody tr th {\n",
       "        vertical-align: top;\n",
       "    }\n",
       "\n",
       "    .dataframe thead th {\n",
       "        text-align: right;\n",
       "    }\n",
       "</style>\n",
       "<table border=\"1\" class=\"dataframe\">\n",
       "  <thead>\n",
       "    <tr style=\"text-align: right;\">\n",
       "      <th></th>\n",
       "      <th>chrom</th>\n",
       "      <th>start</th>\n",
       "      <th>end</th>\n",
       "    </tr>\n",
       "  </thead>\n",
       "  <tbody>\n",
       "    <tr>\n",
       "      <th>chr1:3012480-3012981</th>\n",
       "      <td>chr1</td>\n",
       "      <td>3012480</td>\n",
       "      <td>3012981</td>\n",
       "    </tr>\n",
       "    <tr>\n",
       "      <th>chr1:3060761-3061262</th>\n",
       "      <td>chr1</td>\n",
       "      <td>3060761</td>\n",
       "      <td>3061262</td>\n",
       "    </tr>\n",
       "    <tr>\n",
       "      <th>chr1:3113502-3114003</th>\n",
       "      <td>chr1</td>\n",
       "      <td>3113502</td>\n",
       "      <td>3114003</td>\n",
       "    </tr>\n",
       "    <tr>\n",
       "      <th>chr1:3112919-3113420</th>\n",
       "      <td>chr1</td>\n",
       "      <td>3112919</td>\n",
       "      <td>3113420</td>\n",
       "    </tr>\n",
       "    <tr>\n",
       "      <th>chr1:3120282-3120783</th>\n",
       "      <td>chr1</td>\n",
       "      <td>3120282</td>\n",
       "      <td>3120783</td>\n",
       "    </tr>\n",
       "  </tbody>\n",
       "</table>\n",
       "</div>"
      ],
      "text/plain": [
       "                     chrom    start      end\n",
       "chr1:3012480-3012981  chr1  3012480  3012981\n",
       "chr1:3060761-3061262  chr1  3060761  3061262\n",
       "chr1:3113502-3114003  chr1  3113502  3114003\n",
       "chr1:3112919-3113420  chr1  3112919  3113420\n",
       "chr1:3120282-3120783  chr1  3120282  3120783"
      ]
     },
     "execution_count": 10,
     "metadata": {},
     "output_type": "execute_result"
    }
   ],
   "source": [
    "peak_bed = pd.DataFrame({'chrom':[_id.split(':')[0] for _id in atac_rpm.index],\n",
    "                         'start':[int(_id.split(':')[1].split('-')[0]) for _id in atac_rpm.index],\n",
    "                         'end':[int(_id.split(':')[1].split('-')[-1]) for _id in atac_rpm.index]}, index = atac_rpm.index)\n",
    "peak_bed.head()"
   ]
  },
  {
   "cell_type": "code",
   "execution_count": 11,
   "id": "a7612f82-e67b-4216-8ebd-a8c96b84f88e",
   "metadata": {},
   "outputs": [],
   "source": [
    "atac_rpm =pd.read_csv(atac_rpm_path, sep = '\\t')\n",
    "atac_rpm.columns = [_.split(':')[-1] for _ in atac_rpm.columns] \n",
    "dmr_activity_dict = atac_rpm[age_order].T\n",
    "dmr_activity_dict.index = leg\n",
    "dmr_activity_dict = dmr_activity_dict.to_dict()"
   ]
  },
  {
   "cell_type": "code",
   "execution_count": 12,
   "id": "d6d1d0a6-4841-457d-8c91-cd0028bc9f6e",
   "metadata": {},
   "outputs": [],
   "source": [
    "def get_gene_abc_score(group, gene_id):\n",
    "    ct_age_cool = cooler.Cooler(f\"/data/female-amb/loop/{group}/{group}/{group}.Q.cool\")\n",
    "    #ct_age_cool = cooler.Cooler(f'{cool_path}/{group}.raw.mcool::resolutions/10000')\n",
    "\n",
    "    max_distance = 5000000\n",
    "    ABC_score = defaultdict(dict)\n",
    "    \n",
    "    gene_coords = mouse_genes.loc[gene_id].to_dict()\n",
    "    chrom = gene_coords['chrom']\n",
    "    gene_start = int(gene_coords['start']) - 2000\n",
    "    gene_end = int(gene_coords['end']) + 2000\n",
    "    \n",
    "    start = int(gene_coords['start']) - max_distance\n",
    "    end = int(gene_coords['start']) + max_distance\n",
    "    start = 1 if start < 0 else start\n",
    "    end = mouse_size.loc[chrom, 'length'] if end > mouse_size.loc[chrom, 'length'] else end\n",
    "\n",
    "    ct_age_dmr = peak_bed\n",
    "    gene_dmr = ct_age_dmr[(ct_age_dmr['chrom'] == gene_coords['chrom']) & (ct_age_dmr['start'] > start)\n",
    "                                       & (ct_age_dmr['end'] < end)]\n",
    "    gene_dmr = gene_dmr[gene_dmr['end'] - gene_dmr['start']>=10]\n",
    "\n",
    "\n",
    "    # calculate interactions of each DMR to target gene\n",
    "    dmr_contacts = defaultdict(dict)\n",
    "    contacts = ct_age_cool.matrix(balance=False, as_pixels=True, join=True).fetch(f'{chrom}:{start}-{end}')\n",
    "\n",
    "    gene_contacts_upper = contacts[(contacts['start1'] >= gene_start) & (contacts['start1'] <= gene_end)]\n",
    "    gene_contacts_down = contacts[(contacts['start2'] >= gene_start) & (contacts['start2'] <= gene_end)]\n",
    "    gene_contacts_upper = gene_contacts_upper[(gene_contacts_upper['start2'] >= gene_start) & (gene_contacts_upper['start2'] <= end)]\n",
    "    gene_contacts_down = gene_contacts_down[(gene_contacts_down['start1'] >= start) & (gene_contacts_down['start1'] <= gene_start)]\n",
    "\n",
    "    for z, row in gene_contacts_upper.iterrows():\n",
    "        z_bin_dmrs = gene_dmr[(gene_dmr['start'] >= row.start2) & (gene_dmr['end'] <= row.end2)]         \n",
    "        for dmr in z_bin_dmrs.index:\n",
    "            dmr_contacts[dmr] = row['count']\n",
    "    \n",
    "    for y, row in gene_contacts_down.iterrows():\n",
    "        y_bin_dmrs = gene_dmr[(gene_dmr['start'] >= row.start1) & (gene_dmr['end'] <= row.end1)]         \n",
    "        for dmr in y_bin_dmrs.index:\n",
    "            dmr_contacts[dmr] = row['count']\n",
    "    \n",
    "    total_ABC =[]\n",
    "    for dmr in dmr_contacts:\n",
    "        total_ABC.append(dmr_activity_dict[dmr][group] * dmr_contacts[dmr])\n",
    "    total_ABC = sum(total_ABC)\n",
    "\n",
    "    for dmr in dmr_contacts:\n",
    "        EG = f'{dmr}-{gene_id}'\n",
    "        try:\n",
    "            activity = dmr_activity_dict[dmr][group]\n",
    "            contact = dmr_contacts[dmr]\n",
    "            ABC_score[EG] = activity, contact, (activity *  contact/ total_ABC)\n",
    "        except:\n",
    "            ABC_score[EG][celltype] = np.nan\n",
    "    ABC_score_df = pd.DataFrame.from_dict(ABC_score, orient='index')\n",
    "    #ABC_score_df.columns = [group]\n",
    "    return ABC_score_df"
   ]
  },
  {
   "cell_type": "code",
   "execution_count": 13,
   "id": "660b00d9-6bd9-4235-b5f4-3cf74530dc8e",
   "metadata": {},
   "outputs": [
    {
     "data": {
      "text/plain": [
       "14145"
      ]
     },
     "execution_count": 13,
     "metadata": {},
     "output_type": "execute_result"
    }
   ],
   "source": [
    "all_genes = mouse_genes[mouse_genes['gene_name'].isin(use_genes)].index\n",
    "len(all_genes)"
   ]
  },
  {
   "cell_type": "code",
   "execution_count": 14,
   "id": "6692cb8b-5a93-40bb-9cfe-01599091a507",
   "metadata": {},
   "outputs": [
    {
     "name": "stderr",
     "output_type": "stream",
     "text": [
      "2024-05-08 22:43:17,910\tINFO worker.py:1620 -- Started a local Ray instance. View the dashboard at \u001b[1m\u001b[32m127.0.0.1:8265 \u001b[39m\u001b[22m\n"
     ]
    }
   ],
   "source": [
    "import ray \n",
    "ray.init(ignore_reinit_error=True)\n",
    "\n",
    "@ray.remote(num_cpus = 2)\n",
    "def get_gene_abc_score(group, gene_id):\n",
    "    #ct_age_cool = cooler.Cooler(f'{cool_path}/{group}.raw.mcool::resolutions/10000')\n",
    "    ct_age_cool = cooler.Cooler(f\"/data/female-amb/loop/{group}/{group}/{group}.Q.cool\")\n",
    "    \n",
    "    max_distance = 5000000\n",
    "    ABC_score = defaultdict(dict)\n",
    "    total_ABC =[]\n",
    "    \n",
    "    gene_coords = mouse_genes.loc[gene_id].to_dict()\n",
    "    chrom = gene_coords['chrom']\n",
    "    gene_start = int(gene_coords['start']) - 2000\n",
    "    gene_end = int(gene_coords['end']) + 2000\n",
    "    \n",
    "    start = int(gene_coords['start']) - max_distance\n",
    "    end = int(gene_coords['start']) + max_distance\n",
    "    start = 1 if start < 0 else start\n",
    "    end = mouse_size.loc[chrom, 'length'] if end > mouse_size.loc[chrom, 'length'] else end\n",
    "\n",
    "    ct_age_dmr = peak_bed\n",
    "    gene_dmr = ct_age_dmr[(ct_age_dmr['chrom'] == gene_coords['chrom']) & (ct_age_dmr['start'] > start)\n",
    "                                       & (ct_age_dmr['end'] < end)]\n",
    "    gene_dmr = gene_dmr[gene_dmr['end'] - gene_dmr['start']>=10]\n",
    "\n",
    "\n",
    "    # calculate interactions of each DMR to target gene\n",
    "    dmr_contacts = defaultdict(dict)\n",
    "    contacts = ct_age_cool.matrix(balance=False, as_pixels=True, join=True).fetch(f'{chrom}:{start}-{end}')\n",
    "\n",
    "    gene_contacts_upper = contacts[(contacts['start1'] >= gene_start) & (contacts['start1'] <= gene_end)]\n",
    "    gene_contacts_down = contacts[(contacts['start2'] >= gene_start) & (contacts['start2'] <= gene_end)]\n",
    "    gene_contacts_upper = gene_contacts_upper[(gene_contacts_upper['start2'] >= gene_start) & (gene_contacts_upper['start2'] <= end)]\n",
    "    gene_contacts_down = gene_contacts_down[(gene_contacts_down['start1'] >= start) & (gene_contacts_down['start1'] <= gene_start)]\n",
    "\n",
    "    for z, row in gene_contacts_upper.iterrows():\n",
    "        z_bin_dmrs = gene_dmr[(gene_dmr['start'] >= row.start2) & (gene_dmr['end'] <= row.end2)]         \n",
    "        for dmr in z_bin_dmrs.index:\n",
    "            dmr_contacts[dmr] = row['count']\n",
    "    \n",
    "    for y, row in gene_contacts_down.iterrows():\n",
    "        y_bin_dmrs = gene_dmr[(gene_dmr['start'] >= row.start1) & (gene_dmr['end'] <= row.end1)]         \n",
    "        for dmr in y_bin_dmrs.index:\n",
    "            dmr_contacts[dmr] = row['count']\n",
    "    \n",
    "    \n",
    "    for dmr in dmr_contacts:\n",
    "        total_ABC.append(dmr_activity_dict[dmr][group] * dmr_contacts[dmr])\n",
    "    total_ABC = sum(total_ABC)\n",
    "\n",
    "    for dmr in dmr_contacts:\n",
    "        EG = f'{dmr}-{gene_id}'\n",
    "        try:\n",
    "            activity = dmr_activity_dict[dmr][group]\n",
    "            contact = dmr_contacts[dmr]\n",
    "            ABC_score[EG] = activity, contact, (activity *  contact/ total_ABC)\n",
    "        except:\n",
    "            ABC_score[EG][celltype] = np.nan\n",
    "    ABC_score_df = pd.DataFrame.from_dict(ABC_score, orient='index')\n",
    "    #ABC_score_df.columns = [group]\n",
    "    return ABC_score_df"
   ]
  },
  {
   "cell_type": "code",
   "execution_count": 15,
   "id": "e0da17eb-859e-43c1-88f7-04ce9c922cea",
   "metadata": {},
   "outputs": [
    {
     "name": "stderr",
     "output_type": "stream",
     "text": [
      "2024-05-08 22:43:19,237\tWARNING worker.py:2000 -- Warning: The remote function __main__.get_gene_abc_score is very large (33 MiB). Check that its definition is not implicitly capturing a large array or other object in scope. Tip: use ray.put() to put large objects in the Ray object store.\n"
     ]
    },
    {
     "name": "stdout",
     "output_type": "stream",
     "text": [
      "DG_Glut.8wk done\n",
      "DG_Glut.18mo done\n"
     ]
    }
   ],
   "source": [
    "for group in [leg[0],leg[2]]:\n",
    "    ct, age = group.split('.')\n",
    "    results = [get_gene_abc_score.remote(group, gene) for gene in all_genes]\n",
    "    all_results = ray.get(results)\n",
    "    all_results = pd.concat(all_results)\n",
    "    all_results.columns = ['activity', 'contact','abc_score']\n",
    "    all_results.to_csv(f\"{group}.abc_score.csv\")\n",
    "    print(f\"{group} done\")    "
   ]
  },
  {
   "cell_type": "code",
   "execution_count": 16,
   "id": "9d7845cd-b54f-4f6d-b27f-395ac9345872",
   "metadata": {},
   "outputs": [
    {
     "data": {
      "text/plain": [
       "count    1.554558e+07\n",
       "mean     8.748467e-04\n",
       "std      6.546922e-03\n",
       "min      7.272110e-11\n",
       "25%      2.522037e-05\n",
       "50%      7.732945e-05\n",
       "75%      2.852757e-04\n",
       "max      1.000000e+00\n",
       "Name: abc_score, dtype: float64"
      ]
     },
     "execution_count": 16,
     "metadata": {},
     "output_type": "execute_result"
    }
   ],
   "source": [
    "all_results['abc_score'].describe()"
   ]
  },
  {
   "cell_type": "code",
   "execution_count": null,
   "id": "68cf867b-5539-4644-8abb-0986405c8c8a",
   "metadata": {},
   "outputs": [],
   "source": []
  },
  {
   "cell_type": "code",
   "execution_count": 17,
   "id": "edbff43d-49f2-4a36-9960-075d3ffd34a8",
   "metadata": {},
   "outputs": [],
   "source": [
    "# import ray \n",
    "# ray.init(ignore_reinit_error=True)\n",
    "\n",
    "# @ray.remote(num_cpus = 2)\n",
    "# def get_gene_abc_score_by_chunk(group, gene_list):\n",
    "#     tmp = []\n",
    "#     for gene_id in gene_list:\n",
    "#         abc_df = get_gene_abc_score(group, gene_id)\n",
    "#         tmp.append(abc_df)\n",
    "#     tmp = pd.concat(tmp)\n",
    "#     return tmp"
   ]
  },
  {
   "cell_type": "code",
   "execution_count": null,
   "id": "50cfd023-10e4-41c4-aaac-10e52ec4ba25",
   "metadata": {},
   "outputs": [],
   "source": []
  },
  {
   "cell_type": "code",
   "execution_count": null,
   "id": "26981ce2-e5eb-44d9-b742-29cb8a42ecc8",
   "metadata": {},
   "outputs": [],
   "source": []
  },
  {
   "cell_type": "code",
   "execution_count": null,
   "id": "6d647a72-725b-4d2c-a236-280548a39c07",
   "metadata": {},
   "outputs": [],
   "source": []
  },
  {
   "cell_type": "code",
   "execution_count": null,
   "id": "8f4b9f63-3b45-4fc4-9662-55f53e5604f9",
   "metadata": {},
   "outputs": [],
   "source": []
  }
 ],
 "metadata": {
  "kernelspec": {
   "display_name": "Python 3 (ipykernel)",
   "language": "python",
   "name": "python3"
  },
  "language_info": {
   "codemirror_mode": {
    "name": "ipython",
    "version": 3
   },
   "file_extension": ".py",
   "mimetype": "text/x-python",
   "name": "python",
   "nbconvert_exporter": "python",
   "pygments_lexer": "ipython3",
   "version": "3.10.12"
  }
 },
 "nbformat": 4,
 "nbformat_minor": 5
}
