{
 "cells": [
  {
   "cell_type": "code",
   "execution_count": 1,
   "id": "53771fba-c1a8-49de-9f13-a008118db1df",
   "metadata": {},
   "outputs": [],
   "source": [
    "import glob\n",
    "import subprocess\n",
    "import pathlib"
   ]
  },
  {
   "cell_type": "code",
   "execution_count": 2,
   "id": "c8fbd65a-05b1-4013-a7d2-bcfdb37ceae1",
   "metadata": {},
   "outputs": [],
   "source": [
    "all_files = glob.glob(f\"celltype_age_RPM_files/*.txt\")"
   ]
  },
  {
   "cell_type": "code",
   "execution_count": 3,
   "id": "4e1f60e7-2465-4c72-888d-548ab1737ac7",
   "metadata": {},
   "outputs": [],
   "source": [
    "name_dict = {}\n",
    "for _path in all_files:\n",
    "    old_ct = pathlib.Path(_path).name.split('_')[0]\n",
    "    new_ct = old_ct.replace('.','_')\n",
    "    name_dict[old_ct] = new_ct  "
   ]
  },
  {
   "cell_type": "code",
   "execution_count": 7,
   "id": "b0b3c321-40f6-40dc-9c3f-4812b2a0f6f8",
   "metadata": {},
   "outputs": [],
   "source": [
    "\n",
    "name_dict['L6b.CT.ENT.Glut'] = 'L6bCT_ENT_Glut'\n",
    "name_dict['STR.PAL.Chst9.Gaba'] = 'STR-PAL_Chst9_Gaba'\n",
    "name_dict['L2.3.IT.PPP.Glut'] = 'L23_IT_PPP_Glut'\n",
    "name_dict['L2.3.IT.CTX.Glut'] = 'L23_IT_CTX_Glut'\n",
    "name_dict['CA1.ProS.Glut'] = 'CA1-ProS_Glut'\n",
    "name_dict['LA.BLA.BMA.PA.Glut'] = 'LA-BLA-BMA-PA_Glut'\n",
    "name_dict['L2.3.IT.ENT.Glut'] = 'L23_IT_ENT_Glut'\n",
    "\n",
    "name_dict['Astro.TE.NN'] = 'Astro-TE_NN'\n",
    "name_dict['Astro.NT.NN'] = 'Astro-NT_NN'\n",
    "name_dict['STR.D12.Gaba'] = 'STR_D1_Gaba'\n",
    "name_dict['SUB.ProS.Glut'] = 'SUB-ProS_Glut'"
   ]
  },
  {
   "cell_type": "code",
   "execution_count": 8,
   "id": "5e97b91a-4ee4-4d33-b324-eee0559a8a81",
   "metadata": {},
   "outputs": [],
   "source": [
    "shared_cts = ['STR_D1_Sema5a_Gaba',\n",
    " 'Sst_Gaba',\n",
    " 'SUB-ProS_Glut',\n",
    " 'L6bCT_ENT_Glut',\n",
    " 'STR-PAL_Chst9_Gaba',\n",
    " 'L23_IT_PPP_Glut',\n",
    " 'L6_IT_CTX_Glut',\n",
    " 'CA1-ProS_Glut',\n",
    " 'LA-BLA-BMA-PA_Glut',\n",
    " 'Vip_Gaba',\n",
    " 'L6_CT_CTX_Glut',\n",
    " 'L23_IT_ENT_Glut',\n",
    " 'OPC_NN',\n",
    " 'CA3_Glut',\n",
    " 'L5_ET_CTX_Glut',\n",
    " 'L23_IT_CTX_Glut',\n",
    " 'Astro-TE_NN',\n",
    " 'L5_NP_CTX_Glut',\n",
    " 'Microglia_NN',\n",
    " 'Pvalb_Gaba',\n",
    " 'Astro-NT_NN',\n",
    " 'Lamp5_Gaba',\n",
    " 'VLMC_NN',\n",
    " 'Oligo_NN',\n",
    " 'DG_Glut',\n",
    " 'STR_D1_Gaba',\n",
    " 'STR_D2_Gaba']"
   ]
  },
  {
   "cell_type": "code",
   "execution_count": 9,
   "id": "a07ef186-e3e7-4544-86cf-0812f444d8a0",
   "metadata": {},
   "outputs": [
    {
     "name": "stdout",
     "output_type": "stream",
     "text": [
      "STR_D2_Gaba\n"
     ]
    }
   ],
   "source": [
    "for ct in shared_cts:\n",
    "    if ct not in name_dict.values():\n",
    "        print(ct)"
   ]
  },
  {
   "cell_type": "code",
   "execution_count": 14,
   "id": "37a8cd08-0d8e-40e1-b968-0c007d7eeae1",
   "metadata": {},
   "outputs": [
    {
     "name": "stderr",
     "output_type": "stream",
     "text": [
      "mv: 'celltype_age_RPM_files/Lymphoid_RPM.txt' and 'celltype_age_RPM_files/Lymphoid_RPM.txt' are the same file\n"
     ]
    }
   ],
   "source": [
    "for _path in all_files:\n",
    "    old_ct = pathlib.Path(_path).name.split('_')[0]\n",
    "    new_path = _path.replace(old_ct, name_dict[old_ct])\n",
    "    command = f\"mv {_path} {new_path}\"\n",
    "    subprocess.run(command, shell = True)"
   ]
  },
  {
   "cell_type": "code",
   "execution_count": null,
   "id": "22924f64-f709-47e3-8dd0-4f9ef1f5ff3d",
   "metadata": {},
   "outputs": [],
   "source": []
  },
  {
   "cell_type": "code",
   "execution_count": null,
   "id": "57796d1c-0f94-4a56-9638-ac38c6ad4a00",
   "metadata": {},
   "outputs": [],
   "source": []
  },
  {
   "cell_type": "code",
   "execution_count": null,
   "id": "80213fc4-7ea3-4871-a9fd-19d2d25da948",
   "metadata": {},
   "outputs": [],
   "source": []
  },
  {
   "cell_type": "code",
   "execution_count": null,
   "id": "c36ea9ae-be15-4a2d-8322-52692f237355",
   "metadata": {},
   "outputs": [],
   "source": []
  },
  {
   "cell_type": "code",
   "execution_count": null,
   "id": "b5f7331a-1ef7-4ab6-8e4a-61bcc356b82c",
   "metadata": {},
   "outputs": [],
   "source": []
  },
  {
   "cell_type": "code",
   "execution_count": null,
   "id": "5c42a088-5641-48d3-9340-91f6d0c9b7f8",
   "metadata": {},
   "outputs": [],
   "source": []
  },
  {
   "cell_type": "code",
   "execution_count": null,
   "id": "b76da12e-157a-42d8-b2ec-c399c205536a",
   "metadata": {},
   "outputs": [],
   "source": []
  },
  {
   "cell_type": "code",
   "execution_count": null,
   "id": "57dc578a-23b5-4571-beef-1c97c28c509f",
   "metadata": {},
   "outputs": [],
   "source": []
  },
  {
   "cell_type": "code",
   "execution_count": null,
   "id": "915c6658-3e9c-4b05-975c-189caea841da",
   "metadata": {},
   "outputs": [],
   "source": []
  },
  {
   "cell_type": "code",
   "execution_count": null,
   "id": "628bb63b-f42e-4648-9618-9c1e40349015",
   "metadata": {},
   "outputs": [],
   "source": []
  },
  {
   "cell_type": "code",
   "execution_count": null,
   "id": "de9ab945-6a6a-4ea7-908d-d6f5e39d059a",
   "metadata": {},
   "outputs": [],
   "source": []
  },
  {
   "cell_type": "code",
   "execution_count": null,
   "id": "c6b84ac3-f113-4553-ac19-ed2eb1bb8db2",
   "metadata": {},
   "outputs": [],
   "source": []
  },
  {
   "cell_type": "code",
   "execution_count": null,
   "id": "77ede1f3-cf9c-490a-bbbe-f466f8c75efd",
   "metadata": {},
   "outputs": [],
   "source": []
  },
  {
   "cell_type": "code",
   "execution_count": null,
   "id": "e954fc5b-c547-49ca-8922-ff73d55dae7d",
   "metadata": {},
   "outputs": [],
   "source": []
  },
  {
   "cell_type": "code",
   "execution_count": null,
   "id": "fd17666c-4d99-43cd-a816-cddbb2f112e1",
   "metadata": {},
   "outputs": [],
   "source": []
  },
  {
   "cell_type": "code",
   "execution_count": null,
   "id": "777feede-118c-4608-ba43-0161ebb210ee",
   "metadata": {},
   "outputs": [],
   "source": []
  },
  {
   "cell_type": "code",
   "execution_count": null,
   "id": "c965fb1c-907e-41e3-844c-db4c92256596",
   "metadata": {},
   "outputs": [],
   "source": []
  },
  {
   "cell_type": "code",
   "execution_count": null,
   "id": "7fa743b1-bfba-4802-9497-ee3da4c83665",
   "metadata": {},
   "outputs": [],
   "source": []
  },
  {
   "cell_type": "code",
   "execution_count": null,
   "id": "2b47e9ad-da76-4e5f-adab-32eb2f3f52fe",
   "metadata": {},
   "outputs": [],
   "source": []
  },
  {
   "cell_type": "code",
   "execution_count": null,
   "id": "1bb1d1cc-5cf3-4675-ba7c-9de796a56cce",
   "metadata": {},
   "outputs": [],
   "source": []
  },
  {
   "cell_type": "code",
   "execution_count": null,
   "id": "830afc54-b221-47ad-b200-0896a3f9fe7b",
   "metadata": {},
   "outputs": [],
   "source": []
  },
  {
   "cell_type": "code",
   "execution_count": null,
   "id": "a1194fa9-4619-41f9-a0a6-7d900d267fe9",
   "metadata": {},
   "outputs": [],
   "source": []
  }
 ],
 "metadata": {
  "kernelspec": {
   "display_name": "Python 3 (ipykernel)",
   "language": "python",
   "name": "python3"
  },
  "language_info": {
   "codemirror_mode": {
    "name": "ipython",
    "version": 3
   },
   "file_extension": ".py",
   "mimetype": "text/x-python",
   "name": "python",
   "nbconvert_exporter": "python",
   "pygments_lexer": "ipython3",
   "version": "3.10.12"
  }
 },
 "nbformat": 4,
 "nbformat_minor": 5
}
