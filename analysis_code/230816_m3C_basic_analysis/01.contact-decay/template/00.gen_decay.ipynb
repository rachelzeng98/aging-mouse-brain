{
 "cells": [
  {
   "cell_type": "code",
   "execution_count": null,
   "id": "80da4cbe-6761-4926-aa23-c372caa524c0",
   "metadata": {},
   "outputs": [],
   "source": [
    "import glob\n",
    "import os\n",
    "import pathlib\n",
    "import subprocess\n",
    "\n",
    "import pandas as pd\n",
    "import matplotlib.pyplot as plt\n",
    "from concurrent.futures import ProcessPoolExecutor, as_completed\n",
    "\n",
    "import numpy as np\n",
    "from schicluster.cool.contact_distance import compute_decay, contact_distance"
   ]
  },
  {
   "cell_type": "code",
   "execution_count": null,
   "id": "293dde0a-f729-41eb-83b6-c1724f4f4d01",
   "metadata": {},
   "outputs": [],
   "source": [
    "ref_dir = \"/ref/m3C/\"\n",
    "_dir = '/home/qzeng_salk_edu/project/230816_m3C_basic_analysis/01.contact-decay'"
   ]
  },
  {
   "cell_type": "code",
   "execution_count": null,
   "id": "e192744e-ddf0-4b72-80b8-9508554904cb",
   "metadata": {},
   "outputs": [],
   "source": [
    "cell_table_path = f\"{_dir}/contact_table/{group_name}.contact_table_rmbkl.tsv\"\n",
    "chrom_size_path = f\"{ref_dir}/mm10.main.nochrM.nochrY.chrom.sizes\""
   ]
  },
  {
   "cell_type": "code",
   "execution_count": null,
   "id": "269fb8bb-1a51-41c9-bafc-fca4adc87297",
   "metadata": {},
   "outputs": [],
   "source": [
    "command = f\"hicluster contact-distance \\\n",
    "--contact_table {cell_table_path} \\\n",
    "--chrom_size_path {chrom_size_path} \\\n",
    "--output_prefix {group_name}.contact_distance \\\n",
    "--resolution 10000 \\\n",
    "--chr1 1 \\\n",
    "--pos1 2 \\\n",
    "--chr2 5 \\\n",
    "--pos2 6 \\\n",
    "--cpu 20\""
   ]
  },
  {
   "cell_type": "code",
   "execution_count": null,
   "id": "835717d4-957a-416e-b447-9c9b308bb315",
   "metadata": {},
   "outputs": [],
   "source": [
    "subprocess.run(command , shell = True)\n",
    "subprocess.run(f'touch {group_name}.finish' , shell = True)"
   ]
  },
  {
   "cell_type": "code",
   "execution_count": null,
   "id": "6eb0f6ad-6e11-412b-97ed-fc72f9f73c03",
   "metadata": {},
   "outputs": [],
   "source": []
  },
  {
   "cell_type": "code",
   "execution_count": null,
   "id": "19221b4d-933e-43ef-96a1-6a442f3bec7f",
   "metadata": {},
   "outputs": [],
   "source": []
  },
  {
   "cell_type": "code",
   "execution_count": null,
   "id": "e4d4a761-84ad-4907-833c-33ba4634643f",
   "metadata": {},
   "outputs": [],
   "source": []
  },
  {
   "cell_type": "code",
   "execution_count": null,
   "id": "a7851744-ac3c-49c5-b61e-debbde3887c6",
   "metadata": {},
   "outputs": [],
   "source": []
  },
  {
   "cell_type": "code",
   "execution_count": null,
   "id": "17cf8979-02b2-46e3-b810-aef2c52fe8ef",
   "metadata": {},
   "outputs": [],
   "source": []
  },
  {
   "cell_type": "code",
   "execution_count": null,
   "id": "c7f42478-a86f-483f-932b-2aa2321977a0",
   "metadata": {},
   "outputs": [],
   "source": []
  },
  {
   "cell_type": "code",
   "execution_count": null,
   "id": "274a1103-e726-4068-8a63-2c95e912f2ee",
   "metadata": {},
   "outputs": [],
   "source": []
  },
  {
   "cell_type": "code",
   "execution_count": null,
   "id": "20da8546-5014-4524-9b97-37717e11d4fe",
   "metadata": {},
   "outputs": [],
   "source": []
  },
  {
   "cell_type": "code",
   "execution_count": null,
   "id": "3f67cf0f-6342-492e-bc0d-f157d99c6278",
   "metadata": {},
   "outputs": [],
   "source": []
  },
  {
   "cell_type": "code",
   "execution_count": null,
   "id": "e2d4320b-38f0-4998-8747-0868fd38610d",
   "metadata": {},
   "outputs": [],
   "source": []
  },
  {
   "cell_type": "code",
   "execution_count": null,
   "id": "08c74e33-4425-479c-b350-d21a8659dc7b",
   "metadata": {},
   "outputs": [],
   "source": []
  },
  {
   "cell_type": "code",
   "execution_count": null,
   "id": "f8f23eff-d6e5-4950-b050-0b2e920fd1c3",
   "metadata": {},
   "outputs": [],
   "source": []
  }
 ],
 "metadata": {
  "kernelspec": {
   "display_name": "Python 3 (ipykernel)",
   "language": "python",
   "name": "python3"
  },
  "language_info": {
   "codemirror_mode": {
    "name": "ipython",
    "version": 3
   },
   "file_extension": ".py",
   "mimetype": "text/x-python",
   "name": "python",
   "nbconvert_exporter": "python",
   "pygments_lexer": "ipython3",
   "version": "3.7.12"
  }
 },
 "nbformat": 4,
 "nbformat_minor": 5
}
