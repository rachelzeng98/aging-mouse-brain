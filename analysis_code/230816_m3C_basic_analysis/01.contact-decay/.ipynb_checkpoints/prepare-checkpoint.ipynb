{
 "cells": [
  {
   "cell_type": "code",
   "execution_count": 2,
   "id": "c710c2a9-cc9c-4767-b4c9-e24defe68e14",
   "metadata": {
    "execution": {
     "iopub.execute_input": "2023-08-19T00:19:37.508412Z",
     "iopub.status.busy": "2023-08-19T00:19:37.508165Z",
     "iopub.status.idle": "2023-08-19T00:19:38.826490Z",
     "shell.execute_reply": "2023-08-19T00:19:38.825726Z",
     "shell.execute_reply.started": "2023-08-19T00:19:37.508394Z"
    },
    "tags": []
   },
   "outputs": [],
   "source": [
    "import glob\n",
    "import os\n",
    "import pathlib\n",
    "import subprocess\n",
    "\n",
    "import pandas as pd\n",
    "import matplotlib.pyplot as plt\n",
    "from concurrent.futures import ProcessPoolExecutor, as_completed\n",
    "\n",
    "import numpy as np\n",
    "from schicluster.cool.contact_distance import compute_decay, contact_distance\n",
    "from gliderport.preset.notebook import notebook_snakemake"
   ]
  },
  {
   "cell_type": "code",
   "execution_count": 3,
   "id": "0557df33-1724-4187-9ed3-eb1f76b47f0b",
   "metadata": {
    "execution": {
     "iopub.execute_input": "2023-08-19T00:19:38.832765Z",
     "iopub.status.busy": "2023-08-19T00:19:38.832601Z",
     "iopub.status.idle": "2023-08-19T00:19:38.835622Z",
     "shell.execute_reply": "2023-08-19T00:19:38.835050Z",
     "shell.execute_reply.started": "2023-08-19T00:19:38.832750Z"
    },
    "tags": []
   },
   "outputs": [],
   "source": [
    "data_dir = '/data/female-amb/female-m3c-rmbkl/'\n",
    "ref_dir = \"/data/aging/ref/m3C\""
   ]
  },
  {
   "cell_type": "code",
   "execution_count": 4,
   "id": "cae4c615-43a3-4230-9944-332c895a5440",
   "metadata": {
    "execution": {
     "iopub.execute_input": "2023-08-19T00:19:38.836824Z",
     "iopub.status.busy": "2023-08-19T00:19:38.836615Z",
     "iopub.status.idle": "2023-08-19T00:19:38.891194Z",
     "shell.execute_reply": "2023-08-19T00:19:38.890600Z",
     "shell.execute_reply.started": "2023-08-19T00:19:38.836808Z"
    },
    "tags": []
   },
   "outputs": [],
   "source": [
    "_dir = '/home/qzeng_salk_edu/project/230816_m3C_basic_analysis/00.filter-contact/filter_contact'"
   ]
  },
  {
   "cell_type": "markdown",
   "id": "d07d7c7c-d063-4809-9508-522fe44b6235",
   "metadata": {
    "execution": {
     "iopub.execute_input": "2023-08-18T18:41:30.637540Z",
     "iopub.status.busy": "2023-08-18T18:41:30.637256Z",
     "iopub.status.idle": "2023-08-18T18:41:30.641020Z",
     "shell.execute_reply": "2023-08-18T18:41:30.640436Z",
     "shell.execute_reply.started": "2023-08-18T18:41:30.637520Z"
    },
    "tags": []
   },
   "source": [
    "## pre contact_table"
   ]
  },
  {
   "cell_type": "code",
   "execution_count": 3,
   "id": "34dd7bbe-3d44-4a16-b23a-53f92e318f0a",
   "metadata": {
    "execution": {
     "iopub.execute_input": "2023-08-18T19:19:51.168006Z",
     "iopub.status.busy": "2023-08-18T19:19:51.167783Z",
     "iopub.status.idle": "2023-08-18T19:19:51.310431Z",
     "shell.execute_reply": "2023-08-18T19:19:51.309803Z",
     "shell.execute_reply.started": "2023-08-18T19:19:51.167987Z"
    },
    "tags": []
   },
   "outputs": [],
   "source": [
    "all_pool_paths = glob.glob(f'{data_dir}/*')"
   ]
  },
  {
   "cell_type": "code",
   "execution_count": 4,
   "id": "726ebd80-721b-49b6-b90d-49b18b72987b",
   "metadata": {
    "execution": {
     "iopub.execute_input": "2023-08-18T19:20:19.433398Z",
     "iopub.status.busy": "2023-08-18T19:20:19.433077Z",
     "iopub.status.idle": "2023-08-18T19:20:19.841325Z",
     "shell.execute_reply": "2023-08-18T19:20:19.840592Z",
     "shell.execute_reply.started": "2023-08-18T19:20:19.433374Z"
    }
   },
   "outputs": [],
   "source": [
    "meta = pd.read_csv('/data/metadata/m3C_META_230814.csv', index_col = 0)"
   ]
  },
  {
   "cell_type": "code",
   "execution_count": 10,
   "id": "2328855a-f5c0-4bd0-bcc3-7bed09ce8ce1",
   "metadata": {
    "execution": {
     "iopub.execute_input": "2023-08-18T19:22:19.120816Z",
     "iopub.status.busy": "2023-08-18T19:22:19.120509Z",
     "iopub.status.idle": "2023-08-18T19:22:20.003739Z",
     "shell.execute_reply": "2023-08-18T19:22:20.003020Z",
     "shell.execute_reply.started": "2023-08-18T19:22:19.120792Z"
    },
    "tags": []
   },
   "outputs": [
    {
     "name": "stdout",
     "output_type": "stream",
     "text": [
      "pool_amb58 has 2902 nuclei\n",
      "pool_amb60 has 2805 nuclei\n",
      "pool_amb65 has 2751 nuclei\n"
     ]
    }
   ],
   "source": [
    "for pool_path in glob.glob(f'{data_dir}/*'):\n",
    "    pool_name = pathlib.Path(pool_path).name\n",
    "    all_hic_files = glob.glob(f'{pool_path}/*')\n",
    "    cell_id_list = [pathlib.Path(path).name.split('.')[0] for path in all_hic_files]\n",
    "    tmpdf = pd.DataFrame({'cell_id':cell_id_list,'hic_paths':all_hic_files})\n",
    "    shared_cells = list(set(meta.index) & set(tmpdf['cell_id'])) \n",
    "    # tmpdf = tmpdf[tmpdf['cell_id'].isin(shared_cells)]\n",
    "    # print(f'{pool_name} has {tmpdf.shape[0]} nuclei')\n",
    "    tmpdf.to_csv(f'contact_table/{pool_name}.contact_table_rmbkl.tsv', sep = '\\t', header = None, index = None)\n"
   ]
  },
  {
   "cell_type": "code",
   "execution_count": 3,
   "id": "14a6a784-bd37-4dc2-a0c4-3ddfcbf3ef7b",
   "metadata": {},
   "outputs": [],
   "source": [
    "cell_table_path = f\"{_dir}/contact_table_rmbkl.tsv\"\n",
    "chrom_size_path = f\"{ref_dir}/mm10.main.nochrM.nochrY.chrom.sizes\""
   ]
  },
  {
   "cell_type": "markdown",
   "id": "0c1eb6d0-51cc-4f2e-8cc8-2aa0e164a89a",
   "metadata": {},
   "source": [
    "## regnerate non-complete"
   ]
  },
  {
   "cell_type": "code",
   "execution_count": null,
   "id": "3073b6cc-6037-4cbf-aafc-825170a135df",
   "metadata": {
    "execution": {
     "iopub.execute_input": "2023-08-19T00:20:12.423283Z",
     "iopub.status.busy": "2023-08-19T00:20:12.423010Z",
     "iopub.status.idle": "2023-08-19T00:20:12.427833Z",
     "shell.execute_reply": "2023-08-19T00:20:12.427317Z",
     "shell.execute_reply.started": "2023-08-19T00:20:12.423249Z"
    },
    "tags": []
   },
   "outputs": [
    {
     "data": {
      "text/plain": [
       "['/home/qzeng_salk_edu/project/230816_m3C_basic_analysis/00.filter-contact/filter_contact/pool_amb65',\n",
       " '/home/qzeng_salk_edu/project/230816_m3C_basic_analysis/00.filter-contact/filter_contact/Snakefile',\n",
       " '/home/qzeng_salk_edu/project/230816_m3C_basic_analysis/00.filter-contact/filter_contact/pool_amb58',\n",
       " '/home/qzeng_salk_edu/project/230816_m3C_basic_analysis/00.filter-contact/filter_contact/notebooks',\n",
       " '/home/qzeng_salk_edu/project/230816_m3C_basic_analysis/00.filter-contact/filter_contact/Snakemake.success',\n",
       " '/home/qzeng_salk_edu/project/230816_m3C_basic_analysis/00.filter-contact/filter_contact/pool_amb60']"
      ]
     },
     "execution_count": 10,
     "metadata": {},
     "output_type": "execute_result"
    }
   ],
   "source": [
    "all_pool_paths = glob.glob(f'{_dir}/*')\n",
    "all_pool_paths"
   ]
  },
  {
   "cell_type": "code",
   "execution_count": 11,
   "id": "efef4b13-c809-4265-ab2a-629074719950",
   "metadata": {
    "execution": {
     "iopub.execute_input": "2023-08-19T00:20:57.484229Z",
     "iopub.status.busy": "2023-08-19T00:20:57.483928Z",
     "iopub.status.idle": "2023-08-19T00:20:57.591710Z",
     "shell.execute_reply": "2023-08-19T00:20:57.591084Z",
     "shell.execute_reply.started": "2023-08-19T00:20:57.484190Z"
    },
    "tags": []
   },
   "outputs": [],
   "source": [
    "for pool_path in all_pool_paths:\n",
    "    pool_name = pathlib.Path(pool_path).name\n",
    "    if pool_name in ['pool_amb58','pool_amb60','pool_amb65']:\n",
    "        all_hic_files = glob.glob(f'{pool_path}/*/*/*')\n",
    "        cell_id_list = [pathlib.Path(path).name.split('.')[0] for path in all_hic_files]\n",
    "        tmpdf = pd.DataFrame({'cell_id':cell_id_list,'hic_paths':all_hic_files})\n",
    "        tmpdf.to_csv(f'contact_table/{pool_name}.contact_table_rmbkl.tsv', sep = '\\t', header = None, index = None)"
   ]
  },
  {
   "cell_type": "code",
   "execution_count": null,
   "id": "e2e7b2c0-45ff-4849-9826-01a309a09278",
   "metadata": {},
   "outputs": [],
   "source": []
  },
  {
   "cell_type": "markdown",
   "id": "d0d42886-de55-4f53-81a9-00fec997f54c",
   "metadata": {},
   "source": [
    "## pre snakemake"
   ]
  },
  {
   "cell_type": "code",
   "execution_count": 4,
   "id": "69b9510f-39f0-4237-aa60-220408257108",
   "metadata": {
    "execution": {
     "iopub.execute_input": "2023-08-18T18:41:43.960971Z",
     "iopub.status.busy": "2023-08-18T18:41:43.960706Z",
     "iopub.status.idle": "2023-08-18T18:41:44.317193Z",
     "shell.execute_reply": "2023-08-18T18:41:44.316460Z",
     "shell.execute_reply.started": "2023-08-18T18:41:43.960951Z"
    },
    "tags": []
   },
   "outputs": [
    {
     "data": {
      "text/plain": [
       "29"
      ]
     },
     "execution_count": 4,
     "metadata": {},
     "output_type": "execute_result"
    }
   ],
   "source": [
    "groups = [pathlib.Path(pool_path).name for pool_path in glob.glob(f'{data_dir}/*')]\n",
    "len(groups)"
   ]
  },
  {
   "cell_type": "code",
   "execution_count": 8,
   "id": "515fea45-bd80-4a13-9855-fa4f2817abd3",
   "metadata": {
    "execution": {
     "iopub.execute_input": "2023-08-18T18:47:01.379392Z",
     "iopub.status.busy": "2023-08-18T18:47:01.379140Z",
     "iopub.status.idle": "2023-08-18T18:47:01.399890Z",
     "shell.execute_reply": "2023-08-18T18:47:01.399210Z",
     "shell.execute_reply.started": "2023-08-18T18:47:01.379373Z"
    },
    "tags": []
   },
   "outputs": [],
   "source": [
    "notebook_snakemake(work_dir = 'gen_contact_decay', \n",
    "                   notebook_dir = 'template', \n",
    "                   groups = groups, \n",
    "                   group_files=None, \n",
    "                   default_cpu=20, \n",
    "                   default_mem_gb=20, \n",
    "                   redo_prepare=False)"
   ]
  },
  {
   "cell_type": "code",
   "execution_count": null,
   "id": "3cea7616-5e28-439e-97e7-bc48c83fe4ae",
   "metadata": {},
   "outputs": [],
   "source": [
    "#this step is very fast"
   ]
  },
  {
   "cell_type": "code",
   "execution_count": null,
   "id": "20ba29e6-c71e-45cc-b9aa-d46f564092bf",
   "metadata": {},
   "outputs": [],
   "source": []
  },
  {
   "cell_type": "code",
   "execution_count": null,
   "id": "0543426a-cdc0-47e4-9a3e-5b94f2c0a07d",
   "metadata": {},
   "outputs": [],
   "source": []
  },
  {
   "cell_type": "code",
   "execution_count": 4,
   "id": "404e5a93-9280-4d3f-a167-e22b962876da",
   "metadata": {},
   "outputs": [
    {
     "data": {
      "text/html": [
       "<div>\n",
       "<style scoped>\n",
       "    .dataframe tbody tr th:only-of-type {\n",
       "        vertical-align: middle;\n",
       "    }\n",
       "\n",
       "    .dataframe tbody tr th {\n",
       "        vertical-align: top;\n",
       "    }\n",
       "\n",
       "    .dataframe thead th {\n",
       "        text-align: right;\n",
       "    }\n",
       "</style>\n",
       "<table border=\"1\" class=\"dataframe\">\n",
       "  <thead>\n",
       "    <tr style=\"text-align: right;\">\n",
       "      <th></th>\n",
       "      <th>0</th>\n",
       "      <th>1</th>\n",
       "      <th>2</th>\n",
       "      <th>3</th>\n",
       "      <th>4</th>\n",
       "      <th>5</th>\n",
       "      <th>6</th>\n",
       "      <th>7</th>\n",
       "      <th>8</th>\n",
       "      <th>9</th>\n",
       "      <th>...</th>\n",
       "      <th>120</th>\n",
       "      <th>121</th>\n",
       "      <th>122</th>\n",
       "      <th>123</th>\n",
       "      <th>124</th>\n",
       "      <th>125</th>\n",
       "      <th>126</th>\n",
       "      <th>127</th>\n",
       "      <th>128</th>\n",
       "      <th>129</th>\n",
       "    </tr>\n",
       "  </thead>\n",
       "  <tbody>\n",
       "    <tr>\n",
       "      <th>AMB_220712_18mo_12D_13B_2_P4-1-I15-K1</th>\n",
       "      <td>0</td>\n",
       "      <td>1</td>\n",
       "      <td>0</td>\n",
       "      <td>0</td>\n",
       "      <td>0</td>\n",
       "      <td>0</td>\n",
       "      <td>0</td>\n",
       "      <td>2</td>\n",
       "      <td>984</td>\n",
       "      <td>1252</td>\n",
       "      <td>...</td>\n",
       "      <td>1793</td>\n",
       "      <td>1656</td>\n",
       "      <td>1047</td>\n",
       "      <td>827</td>\n",
       "      <td>776</td>\n",
       "      <td>376</td>\n",
       "      <td>240</td>\n",
       "      <td>92</td>\n",
       "      <td>28</td>\n",
       "      <td>1</td>\n",
       "    </tr>\n",
       "    <tr>\n",
       "      <th>AMB_220712_18mo_12D_13B_2_P4-1-I15-D13</th>\n",
       "      <td>0</td>\n",
       "      <td>0</td>\n",
       "      <td>0</td>\n",
       "      <td>0</td>\n",
       "      <td>0</td>\n",
       "      <td>0</td>\n",
       "      <td>1</td>\n",
       "      <td>3</td>\n",
       "      <td>907</td>\n",
       "      <td>1234</td>\n",
       "      <td>...</td>\n",
       "      <td>1720</td>\n",
       "      <td>1427</td>\n",
       "      <td>1376</td>\n",
       "      <td>766</td>\n",
       "      <td>443</td>\n",
       "      <td>394</td>\n",
       "      <td>374</td>\n",
       "      <td>139</td>\n",
       "      <td>57</td>\n",
       "      <td>48</td>\n",
       "    </tr>\n",
       "    <tr>\n",
       "      <th>AMB_220712_18mo_12D_13B_2_P4-1-I15-E13</th>\n",
       "      <td>0</td>\n",
       "      <td>0</td>\n",
       "      <td>0</td>\n",
       "      <td>0</td>\n",
       "      <td>0</td>\n",
       "      <td>1</td>\n",
       "      <td>0</td>\n",
       "      <td>1</td>\n",
       "      <td>927</td>\n",
       "      <td>1222</td>\n",
       "      <td>...</td>\n",
       "      <td>2147</td>\n",
       "      <td>2048</td>\n",
       "      <td>1592</td>\n",
       "      <td>985</td>\n",
       "      <td>734</td>\n",
       "      <td>394</td>\n",
       "      <td>351</td>\n",
       "      <td>286</td>\n",
       "      <td>132</td>\n",
       "      <td>25</td>\n",
       "    </tr>\n",
       "    <tr>\n",
       "      <th>AMB_220712_18mo_12D_13B_2_P4-1-I15-F13</th>\n",
       "      <td>1</td>\n",
       "      <td>0</td>\n",
       "      <td>0</td>\n",
       "      <td>0</td>\n",
       "      <td>0</td>\n",
       "      <td>0</td>\n",
       "      <td>0</td>\n",
       "      <td>0</td>\n",
       "      <td>1197</td>\n",
       "      <td>1503</td>\n",
       "      <td>...</td>\n",
       "      <td>1814</td>\n",
       "      <td>1557</td>\n",
       "      <td>1146</td>\n",
       "      <td>973</td>\n",
       "      <td>602</td>\n",
       "      <td>395</td>\n",
       "      <td>286</td>\n",
       "      <td>70</td>\n",
       "      <td>25</td>\n",
       "      <td>15</td>\n",
       "    </tr>\n",
       "    <tr>\n",
       "      <th>AMB_220712_18mo_12D_13B_2_P4-1-I15-K13</th>\n",
       "      <td>0</td>\n",
       "      <td>0</td>\n",
       "      <td>0</td>\n",
       "      <td>0</td>\n",
       "      <td>1</td>\n",
       "      <td>0</td>\n",
       "      <td>1</td>\n",
       "      <td>0</td>\n",
       "      <td>1005</td>\n",
       "      <td>1274</td>\n",
       "      <td>...</td>\n",
       "      <td>1129</td>\n",
       "      <td>1058</td>\n",
       "      <td>858</td>\n",
       "      <td>600</td>\n",
       "      <td>331</td>\n",
       "      <td>391</td>\n",
       "      <td>178</td>\n",
       "      <td>68</td>\n",
       "      <td>63</td>\n",
       "      <td>8</td>\n",
       "    </tr>\n",
       "  </tbody>\n",
       "</table>\n",
       "<p>5 rows × 130 columns</p>\n",
       "</div>"
      ],
      "text/plain": [
       "                                        0    1    2    3    4    5    6    \\\n",
       "AMB_220712_18mo_12D_13B_2_P4-1-I15-K1     0    1    0    0    0    0    0   \n",
       "AMB_220712_18mo_12D_13B_2_P4-1-I15-D13    0    0    0    0    0    0    1   \n",
       "AMB_220712_18mo_12D_13B_2_P4-1-I15-E13    0    0    0    0    0    1    0   \n",
       "AMB_220712_18mo_12D_13B_2_P4-1-I15-F13    1    0    0    0    0    0    0   \n",
       "AMB_220712_18mo_12D_13B_2_P4-1-I15-K13    0    0    0    0    1    0    1   \n",
       "\n",
       "                                        7     8     9    ...   120   121  \\\n",
       "AMB_220712_18mo_12D_13B_2_P4-1-I15-K1     2   984  1252  ...  1793  1656   \n",
       "AMB_220712_18mo_12D_13B_2_P4-1-I15-D13    3   907  1234  ...  1720  1427   \n",
       "AMB_220712_18mo_12D_13B_2_P4-1-I15-E13    1   927  1222  ...  2147  2048   \n",
       "AMB_220712_18mo_12D_13B_2_P4-1-I15-F13    0  1197  1503  ...  1814  1557   \n",
       "AMB_220712_18mo_12D_13B_2_P4-1-I15-K13    0  1005  1274  ...  1129  1058   \n",
       "\n",
       "                                         122  123  124  125  126  127  128  \\\n",
       "AMB_220712_18mo_12D_13B_2_P4-1-I15-K1   1047  827  776  376  240   92   28   \n",
       "AMB_220712_18mo_12D_13B_2_P4-1-I15-D13  1376  766  443  394  374  139   57   \n",
       "AMB_220712_18mo_12D_13B_2_P4-1-I15-E13  1592  985  734  394  351  286  132   \n",
       "AMB_220712_18mo_12D_13B_2_P4-1-I15-F13  1146  973  602  395  286   70   25   \n",
       "AMB_220712_18mo_12D_13B_2_P4-1-I15-K13   858  600  331  391  178   68   63   \n",
       "\n",
       "                                        129  \n",
       "AMB_220712_18mo_12D_13B_2_P4-1-I15-K1     1  \n",
       "AMB_220712_18mo_12D_13B_2_P4-1-I15-D13   48  \n",
       "AMB_220712_18mo_12D_13B_2_P4-1-I15-E13   25  \n",
       "AMB_220712_18mo_12D_13B_2_P4-1-I15-F13   15  \n",
       "AMB_220712_18mo_12D_13B_2_P4-1-I15-K13    8  \n",
       "\n",
       "[5 rows x 130 columns]"
      ]
     },
     "execution_count": 4,
     "metadata": {},
     "output_type": "execute_result"
    }
   ],
   "source": [
    "decay = pd.read_hdf(\"contact_distance_decay.hdf5\", key=\"data\")\n",
    "decay.head()"
   ]
  },
  {
   "cell_type": "code",
   "execution_count": 6,
   "id": "ec6198fc-cc08-4f6a-b372-b674a891c759",
   "metadata": {},
   "outputs": [
    {
     "data": {
      "text/html": [
       "<div>\n",
       "<style scoped>\n",
       "    .dataframe tbody tr th:only-of-type {\n",
       "        vertical-align: middle;\n",
       "    }\n",
       "\n",
       "    .dataframe tbody tr th {\n",
       "        vertical-align: top;\n",
       "    }\n",
       "\n",
       "    .dataframe thead th {\n",
       "        text-align: right;\n",
       "    }\n",
       "</style>\n",
       "<table border=\"1\" class=\"dataframe\">\n",
       "  <thead>\n",
       "    <tr style=\"text-align: right;\">\n",
       "      <th></th>\n",
       "      <th>chr1</th>\n",
       "      <th>chr2</th>\n",
       "      <th>chr3</th>\n",
       "      <th>chr5</th>\n",
       "      <th>chrX</th>\n",
       "      <th>chr4</th>\n",
       "      <th>chr6</th>\n",
       "      <th>chr10</th>\n",
       "      <th>chr13</th>\n",
       "      <th>chr11</th>\n",
       "      <th>chr7</th>\n",
       "      <th>chr12</th>\n",
       "      <th>chr14</th>\n",
       "      <th>chr8</th>\n",
       "      <th>chr9</th>\n",
       "      <th>chr16</th>\n",
       "      <th>chr15</th>\n",
       "      <th>chr17</th>\n",
       "      <th>chr18</th>\n",
       "      <th>chr19</th>\n",
       "    </tr>\n",
       "  </thead>\n",
       "  <tbody>\n",
       "    <tr>\n",
       "      <th>AMB_220712_18mo_12D_13B_2_P4-1-I15-K1</th>\n",
       "      <td>17268</td>\n",
       "      <td>16424</td>\n",
       "      <td>12531</td>\n",
       "      <td>12289</td>\n",
       "      <td>12001</td>\n",
       "      <td>12744</td>\n",
       "      <td>13018</td>\n",
       "      <td>10417</td>\n",
       "      <td>9742</td>\n",
       "      <td>10054</td>\n",
       "      <td>11477</td>\n",
       "      <td>9198</td>\n",
       "      <td>9104</td>\n",
       "      <td>10179</td>\n",
       "      <td>11539</td>\n",
       "      <td>7489</td>\n",
       "      <td>7586</td>\n",
       "      <td>7501</td>\n",
       "      <td>6266</td>\n",
       "      <td>4313</td>\n",
       "    </tr>\n",
       "    <tr>\n",
       "      <th>AMB_220712_18mo_12D_13B_2_P4-1-I15-D13</th>\n",
       "      <td>15765</td>\n",
       "      <td>13761</td>\n",
       "      <td>11724</td>\n",
       "      <td>10694</td>\n",
       "      <td>11138</td>\n",
       "      <td>12458</td>\n",
       "      <td>11303</td>\n",
       "      <td>9599</td>\n",
       "      <td>8679</td>\n",
       "      <td>10798</td>\n",
       "      <td>10197</td>\n",
       "      <td>7883</td>\n",
       "      <td>7483</td>\n",
       "      <td>9885</td>\n",
       "      <td>10608</td>\n",
       "      <td>6053</td>\n",
       "      <td>6897</td>\n",
       "      <td>6777</td>\n",
       "      <td>7123</td>\n",
       "      <td>3488</td>\n",
       "    </tr>\n",
       "    <tr>\n",
       "      <th>AMB_220712_18mo_12D_13B_2_P4-1-I15-E13</th>\n",
       "      <td>12755</td>\n",
       "      <td>14006</td>\n",
       "      <td>9072</td>\n",
       "      <td>13508</td>\n",
       "      <td>11305</td>\n",
       "      <td>9001</td>\n",
       "      <td>8634</td>\n",
       "      <td>9783</td>\n",
       "      <td>8564</td>\n",
       "      <td>9530</td>\n",
       "      <td>11630</td>\n",
       "      <td>8160</td>\n",
       "      <td>9351</td>\n",
       "      <td>9755</td>\n",
       "      <td>10314</td>\n",
       "      <td>6888</td>\n",
       "      <td>7807</td>\n",
       "      <td>7197</td>\n",
       "      <td>4946</td>\n",
       "      <td>4353</td>\n",
       "    </tr>\n",
       "    <tr>\n",
       "      <th>AMB_220712_18mo_12D_13B_2_P4-1-I15-F13</th>\n",
       "      <td>19056</td>\n",
       "      <td>18320</td>\n",
       "      <td>14686</td>\n",
       "      <td>14656</td>\n",
       "      <td>13075</td>\n",
       "      <td>14744</td>\n",
       "      <td>14754</td>\n",
       "      <td>11417</td>\n",
       "      <td>10842</td>\n",
       "      <td>11397</td>\n",
       "      <td>12973</td>\n",
       "      <td>11429</td>\n",
       "      <td>10102</td>\n",
       "      <td>12097</td>\n",
       "      <td>12370</td>\n",
       "      <td>8842</td>\n",
       "      <td>8924</td>\n",
       "      <td>8621</td>\n",
       "      <td>8207</td>\n",
       "      <td>4935</td>\n",
       "    </tr>\n",
       "    <tr>\n",
       "      <th>AMB_220712_18mo_12D_13B_2_P4-1-I15-K13</th>\n",
       "      <td>16378</td>\n",
       "      <td>15901</td>\n",
       "      <td>12590</td>\n",
       "      <td>13767</td>\n",
       "      <td>10505</td>\n",
       "      <td>12788</td>\n",
       "      <td>13136</td>\n",
       "      <td>11996</td>\n",
       "      <td>9927</td>\n",
       "      <td>11401</td>\n",
       "      <td>11360</td>\n",
       "      <td>9755</td>\n",
       "      <td>8732</td>\n",
       "      <td>11216</td>\n",
       "      <td>10683</td>\n",
       "      <td>8150</td>\n",
       "      <td>7766</td>\n",
       "      <td>7543</td>\n",
       "      <td>7273</td>\n",
       "      <td>4705</td>\n",
       "    </tr>\n",
       "  </tbody>\n",
       "</table>\n",
       "</div>"
      ],
      "text/plain": [
       "                                         chr1   chr2   chr3   chr5   chrX  \\\n",
       "AMB_220712_18mo_12D_13B_2_P4-1-I15-K1   17268  16424  12531  12289  12001   \n",
       "AMB_220712_18mo_12D_13B_2_P4-1-I15-D13  15765  13761  11724  10694  11138   \n",
       "AMB_220712_18mo_12D_13B_2_P4-1-I15-E13  12755  14006   9072  13508  11305   \n",
       "AMB_220712_18mo_12D_13B_2_P4-1-I15-F13  19056  18320  14686  14656  13075   \n",
       "AMB_220712_18mo_12D_13B_2_P4-1-I15-K13  16378  15901  12590  13767  10505   \n",
       "\n",
       "                                         chr4   chr6  chr10  chr13  chr11  \\\n",
       "AMB_220712_18mo_12D_13B_2_P4-1-I15-K1   12744  13018  10417   9742  10054   \n",
       "AMB_220712_18mo_12D_13B_2_P4-1-I15-D13  12458  11303   9599   8679  10798   \n",
       "AMB_220712_18mo_12D_13B_2_P4-1-I15-E13   9001   8634   9783   8564   9530   \n",
       "AMB_220712_18mo_12D_13B_2_P4-1-I15-F13  14744  14754  11417  10842  11397   \n",
       "AMB_220712_18mo_12D_13B_2_P4-1-I15-K13  12788  13136  11996   9927  11401   \n",
       "\n",
       "                                         chr7  chr12  chr14   chr8   chr9  \\\n",
       "AMB_220712_18mo_12D_13B_2_P4-1-I15-K1   11477   9198   9104  10179  11539   \n",
       "AMB_220712_18mo_12D_13B_2_P4-1-I15-D13  10197   7883   7483   9885  10608   \n",
       "AMB_220712_18mo_12D_13B_2_P4-1-I15-E13  11630   8160   9351   9755  10314   \n",
       "AMB_220712_18mo_12D_13B_2_P4-1-I15-F13  12973  11429  10102  12097  12370   \n",
       "AMB_220712_18mo_12D_13B_2_P4-1-I15-K13  11360   9755   8732  11216  10683   \n",
       "\n",
       "                                        chr16  chr15  chr17  chr18  chr19  \n",
       "AMB_220712_18mo_12D_13B_2_P4-1-I15-K1    7489   7586   7501   6266   4313  \n",
       "AMB_220712_18mo_12D_13B_2_P4-1-I15-D13   6053   6897   6777   7123   3488  \n",
       "AMB_220712_18mo_12D_13B_2_P4-1-I15-E13   6888   7807   7197   4946   4353  \n",
       "AMB_220712_18mo_12D_13B_2_P4-1-I15-F13   8842   8924   8621   8207   4935  \n",
       "AMB_220712_18mo_12D_13B_2_P4-1-I15-K13   8150   7766   7543   7273   4705  "
      ]
     },
     "execution_count": 6,
     "metadata": {},
     "output_type": "execute_result"
    }
   ],
   "source": [
    "sparsity = pd.read_hdf(\"contact_distance_chromsparsity.hdf5\")\n",
    "sparsity.head()"
   ]
  },
  {
   "cell_type": "code",
   "execution_count": 14,
   "id": "45467185-8222-423b-a86c-58f4f7396db5",
   "metadata": {},
   "outputs": [
    {
     "name": "stderr",
     "output_type": "stream",
     "text": [
      "/opt/conda/lib/python3.7/site-packages/ipykernel_launcher.py:1: FutureWarning: Support for multi-dimensional indexing (e.g. `obj[:, None]`) is deprecated and will be removed in a future version.  Convert to a numpy array before indexing instead.\n",
      "  \"\"\"Entry point for launching an IPython kernel.\n"
     ]
    }
   ],
   "source": [
    "data = decay / decay.sum(axis=1)[:, None]\n",
    "ratio = data.iloc[:, 50:70].sum(axis=1) / data.iloc[:, 90:110].sum(axis=1)"
   ]
  },
  {
   "cell_type": "code",
   "execution_count": 15,
   "id": "660d8214-10a1-4ed9-99ba-3cbc0677fadd",
   "metadata": {},
   "outputs": [
    {
     "data": {
      "text/plain": [
       "<matplotlib.image.AxesImage at 0x7f00b6424bd0>"
      ]
     },
     "execution_count": 15,
     "metadata": {},
     "output_type": "execute_result"
    },
    {
     "data": {
      "image/png": "[encoded data removed]",
      "text/plain": [
       "<Figure size 432x288 with 1 Axes>"
      ]
     },
     "metadata": {
      "needs_background": "light"
     },
     "output_type": "display_data"
    }
   ],
   "source": [
    "fig, ax = plt.subplots()\n",
    "ax.imshow(data.iloc[ratio.argsort()], aspect=\"auto\", cmap=\"Blues\")"
   ]
  },
  {
   "cell_type": "code",
   "execution_count": null,
   "id": "32e957c1-692f-4911-9849-62a90512462b",
   "metadata": {},
   "outputs": [],
   "source": []
  },
  {
   "cell_type": "code",
   "execution_count": null,
   "id": "7643d29b-f40f-4c5b-beaf-da55a7404ec6",
   "metadata": {},
   "outputs": [],
   "source": []
  },
  {
   "cell_type": "code",
   "execution_count": null,
   "id": "35c6c69d-7cbf-4727-91fb-a709afbb4a8e",
   "metadata": {},
   "outputs": [],
   "source": []
  }
 ],
 "metadata": {
  "kernelspec": {
   "display_name": "Python 3 (ipykernel)",
   "language": "python",
   "name": "python3"
  },
  "language_info": {
   "codemirror_mode": {
    "name": "ipython",
    "version": 3
   },
   "file_extension": ".py",
   "mimetype": "text/x-python",
   "name": "python",
   "nbconvert_exporter": "python",
   "pygments_lexer": "ipython3",
   "version": "3.7.12"
  }
 },
 "nbformat": 4,
 "nbformat_minor": 5
}
