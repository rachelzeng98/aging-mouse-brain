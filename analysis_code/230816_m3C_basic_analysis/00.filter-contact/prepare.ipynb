{
 "cells": [
  {
   "cell_type": "code",
   "execution_count": 1,
   "id": "b91b50b1-304a-4a94-9616-19ea228e01ec",
   "metadata": {
    "execution": {
     "iopub.execute_input": "2023-08-18T19:47:46.515866Z",
     "iopub.status.busy": "2023-08-18T19:47:46.515697Z",
     "iopub.status.idle": "2023-08-18T19:47:47.134439Z",
     "shell.execute_reply": "2023-08-18T19:47:47.133731Z",
     "shell.execute_reply.started": "2023-08-18T19:47:46.515849Z"
    },
    "tags": []
   },
   "outputs": [],
   "source": [
    "import glob\n",
    "import pathlib\n",
    "import pandas as pd\n",
    "import subprocess\n",
    "from gliderport.preset.notebook import notebook_snakemake"
   ]
  },
  {
   "cell_type": "code",
   "execution_count": 2,
   "id": "0187d643-4e6f-4739-bb7f-80e6216bed41",
   "metadata": {
    "execution": {
     "iopub.execute_input": "2023-08-18T19:47:47.135640Z",
     "iopub.status.busy": "2023-08-18T19:47:47.135369Z",
     "iopub.status.idle": "2023-08-18T19:47:47.138847Z",
     "shell.execute_reply": "2023-08-18T19:47:47.138365Z",
     "shell.execute_reply.started": "2023-08-18T19:47:47.135621Z"
    },
    "tags": []
   },
   "outputs": [],
   "source": [
    "ref_dir= '/ref/m3C'\n",
    "data_dir = '/data/female-amb/AMB-F-mapping'"
   ]
  },
  {
   "cell_type": "markdown",
   "id": "4d1c8a50-54fc-460d-9e1f-976c3284c597",
   "metadata": {
    "jp-MarkdownHeadingCollapsed": true,
    "tags": []
   },
   "source": [
    "## prepare contact_table.tsv"
   ]
  },
  {
   "cell_type": "code",
   "execution_count": 3,
   "id": "bf3621b9-2416-4443-8dde-efa25ddc266c",
   "metadata": {
    "execution": {
     "iopub.execute_input": "2023-08-18T19:36:09.051650Z",
     "iopub.status.busy": "2023-08-18T19:36:09.049263Z",
     "iopub.status.idle": "2023-08-18T19:36:10.032984Z",
     "shell.execute_reply": "2023-08-18T19:36:10.032087Z",
     "shell.execute_reply.started": "2023-08-18T19:36:09.051337Z"
    },
    "tags": []
   },
   "outputs": [],
   "source": [
    "all_pools = [pathlib.Path(path).name for path in glob.glob('/data/female-amb/AMB-F-mapping/*')]"
   ]
  },
  {
   "cell_type": "code",
   "execution_count": null,
   "id": "7b1255b7-a10c-4642-bc0b-237760962b8f",
   "metadata": {
    "execution": {
     "iopub.execute_input": "2023-08-18T19:36:42.419286Z",
     "iopub.status.busy": "2023-08-18T19:36:42.418988Z"
    },
    "tags": []
   },
   "outputs": [],
   "source": [
    "for _pool in all_pools:\n",
    "    if _pool in ['pool_amb58','pool_amb60','pool_amb65']:\n",
    "        hic_files = glob.glob(f'{data_dir}/{_pool}/*/*/hic/*.all_reads.3C.contact.tsv.gz')\n",
    "        cell_id = [pathlib.Path(file).name.split('.')[0] for file in hic_files]\n",
    "        contact_tables = pd.DataFrame({'cell_id':cell_id, 'hic_files':hic_files})\n",
    "        contact_tables.to_csv(f'tmp/{_pool}.contact_table.tsv', sep = '\\t', header = None, index = None,)"
   ]
  },
  {
   "cell_type": "code",
   "execution_count": 16,
   "id": "86b261c6-9440-4251-8241-bce6f588a6dd",
   "metadata": {
    "execution": {
     "iopub.execute_input": "2023-08-17T17:46:34.417815Z",
     "iopub.status.busy": "2023-08-17T17:46:34.417560Z",
     "iopub.status.idle": "2023-08-17T17:46:34.421995Z",
     "shell.execute_reply": "2023-08-17T17:46:34.421211Z",
     "shell.execute_reply.started": "2023-08-17T17:46:34.417797Z"
    }
   },
   "outputs": [],
   "source": [
    "all_pools.remove('pool_amb34')"
   ]
  },
  {
   "cell_type": "markdown",
   "id": "e870111e-8c0a-492d-a52b-ce5f379a682e",
   "metadata": {},
   "source": [
    "## prepare snakemake "
   ]
  },
  {
   "cell_type": "code",
   "execution_count": 3,
   "id": "2760ca7b-bffc-452e-8b89-e1702e0f2722",
   "metadata": {
    "execution": {
     "iopub.execute_input": "2023-08-18T19:47:47.139770Z",
     "iopub.status.busy": "2023-08-18T19:47:47.139507Z",
     "iopub.status.idle": "2023-08-18T19:47:47.169871Z",
     "shell.execute_reply": "2023-08-18T19:47:47.169390Z",
     "shell.execute_reply.started": "2023-08-18T19:47:47.139752Z"
    },
    "tags": []
   },
   "outputs": [
    {
     "data": {
      "text/plain": [
       "['pool_amb60', 'pool_amb58', 'pool_amb65']"
      ]
     },
     "execution_count": 3,
     "metadata": {},
     "output_type": "execute_result"
    }
   ],
   "source": [
    "groups = [pathlib.Path(path).name.split('.')[0]for path in glob.glob('tmp/*')]\n",
    "groups"
   ]
  },
  {
   "cell_type": "code",
   "execution_count": 4,
   "id": "9ee5cb8c-b1c0-4df7-9365-a0af63a32d65",
   "metadata": {
    "execution": {
     "iopub.execute_input": "2023-08-18T19:47:47.175796Z",
     "iopub.status.busy": "2023-08-18T19:47:47.175625Z",
     "iopub.status.idle": "2023-08-18T19:47:47.211637Z",
     "shell.execute_reply": "2023-08-18T19:47:47.211065Z",
     "shell.execute_reply.started": "2023-08-18T19:47:47.175780Z"
    },
    "tags": []
   },
   "outputs": [],
   "source": [
    "notebook_snakemake(work_dir = 'filter_contact', \n",
    "                   notebook_dir = 'template', \n",
    "                   groups = groups, \n",
    "                   group_files=None, \n",
    "                   default_cpu=20, \n",
    "                   default_mem_gb=20, \n",
    "                   redo_prepare=True)"
   ]
  },
  {
   "cell_type": "code",
   "execution_count": null,
   "id": "3a4a2b51-a3be-4acd-88fd-e117fb392bff",
   "metadata": {},
   "outputs": [],
   "source": []
  },
  {
   "cell_type": "code",
   "execution_count": null,
   "id": "94523152-68d8-408a-b2e0-0a2791bba049",
   "metadata": {},
   "outputs": [],
   "source": []
  },
  {
   "cell_type": "code",
   "execution_count": null,
   "id": "9fc60c64-db27-48a2-8ff1-d830d4146a89",
   "metadata": {},
   "outputs": [],
   "source": []
  },
  {
   "cell_type": "code",
   "execution_count": null,
   "id": "d00c6fcc-30dc-4154-8b90-c3df3693a3e7",
   "metadata": {},
   "outputs": [],
   "source": []
  },
  {
   "cell_type": "code",
   "execution_count": null,
   "id": "1be96754-ca22-497f-973c-4cc4a066b6ed",
   "metadata": {},
   "outputs": [],
   "source": []
  },
  {
   "cell_type": "code",
   "execution_count": null,
   "id": "8086f471-0b7d-4944-a201-27aa0a1f881b",
   "metadata": {},
   "outputs": [],
   "source": []
  },
  {
   "cell_type": "code",
   "execution_count": null,
   "id": "d0cd22d3-da58-41f7-a4d3-ea4753669c8e",
   "metadata": {},
   "outputs": [],
   "source": []
  },
  {
   "cell_type": "markdown",
   "id": "04fcd828-3436-42b5-a62c-46a336f6e9ec",
   "metadata": {},
   "source": [
    "## filter-contact"
   ]
  },
  {
   "cell_type": "code",
   "execution_count": 5,
   "id": "272e33bf-2094-43e7-856f-968bdbe006d2",
   "metadata": {
    "execution": {
     "iopub.execute_input": "2023-08-17T17:44:26.069972Z",
     "iopub.status.busy": "2023-08-17T17:44:26.069801Z",
     "iopub.status.idle": "2023-08-17T17:44:26.072994Z",
     "shell.execute_reply": "2023-08-17T17:44:26.072440Z",
     "shell.execute_reply.started": "2023-08-17T17:44:26.069956Z"
    },
    "tags": []
   },
   "outputs": [],
   "source": [
    "blacklist_1d_path = f'{ref_dir}/mm10-blacklist.v2.bed.gz'\n",
    "blacklist_2d_path = f'{ref_dir}/mm10_2d_blacklist.bedpe'\n",
    "chrom_size_path = f'{ref_dir}/mm10.main.nochrM.nochrY.chrom.sizes'"
   ]
  },
  {
   "cell_type": "code",
   "execution_count": 6,
   "id": "6afa67c5-9d6a-4b5c-9838-5381ef51b19a",
   "metadata": {
    "execution": {
     "iopub.execute_input": "2023-08-17T17:44:26.073798Z",
     "iopub.status.busy": "2023-08-17T17:44:26.073635Z",
     "iopub.status.idle": "2023-08-17T17:44:26.211609Z",
     "shell.execute_reply": "2023-08-17T17:44:26.210893Z",
     "shell.execute_reply.started": "2023-08-17T17:44:26.073783Z"
    }
   },
   "outputs": [],
   "source": [
    "filtered_list = glob.glob('/data/female-amb/female-m3c-rmbkl/*')"
   ]
  },
  {
   "cell_type": "code",
   "execution_count": 7,
   "id": "45066624-53b1-4f91-976e-42e289864231",
   "metadata": {
    "execution": {
     "iopub.execute_input": "2023-08-17T17:44:26.212564Z",
     "iopub.status.busy": "2023-08-17T17:44:26.212382Z",
     "iopub.status.idle": "2023-08-17T17:44:26.274465Z",
     "shell.execute_reply": "2023-08-17T17:44:26.273774Z",
     "shell.execute_reply.started": "2023-08-17T17:44:26.212548Z"
    }
   },
   "outputs": [],
   "source": [
    "filtered_list = [pathlib.Path(path).name for path in glob.glob('/data/female-amb/female-m3c-rmbkl/*')]"
   ]
  },
  {
   "cell_type": "code",
   "execution_count": 21,
   "id": "5378afab-d832-44e0-8032-2e8395cf7ab2",
   "metadata": {
    "execution": {
     "iopub.execute_input": "2023-08-17T17:47:21.981733Z",
     "iopub.status.busy": "2023-08-17T17:47:21.981482Z",
     "iopub.status.idle": "2023-08-17T17:47:21.985577Z",
     "shell.execute_reply": "2023-08-17T17:47:21.984909Z",
     "shell.execute_reply.started": "2023-08-17T17:47:21.981714Z"
    },
    "tags": []
   },
   "outputs": [],
   "source": [
    "remained_pools= list(set(filtered_list) ^ set(all_pools))"
   ]
  },
  {
   "cell_type": "code",
   "execution_count": 23,
   "id": "74b884ef-db8c-4611-b6db-3a178a58c4c1",
   "metadata": {
    "execution": {
     "iopub.execute_input": "2023-08-17T17:49:23.506478Z",
     "iopub.status.busy": "2023-08-17T17:49:23.506218Z",
     "iopub.status.idle": "2023-08-17T17:49:23.512325Z",
     "shell.execute_reply": "2023-08-17T17:49:23.511604Z",
     "shell.execute_reply.started": "2023-08-17T17:49:23.506459Z"
    },
    "tags": []
   },
   "outputs": [],
   "source": [
    "for _pool in remained_pools:\n",
    "    output_dir = f'female-m3c-rmbkl/{_pool}/'\n",
    "    contact_table = f'tmp/{_pool}.contact_table.tsv'\n",
    "\n",
    "    # Remove blacklist\n",
    "    command = f\"hicluster filter-contact \\\n",
    "--output_dir {output_dir} \\\n",
    "--blacklist_1d_path {blacklist_1d_path} \\\n",
    "--blacklist_2d_path {blacklist_2d_path} \\\n",
    "--chr1 1 \\\n",
    "--pos1 2 \\\n",
    "--chr2 5 \\\n",
    "--pos2 6 \\\n",
    "--contact_table {contact_table} \\\n",
    "--chrom_size_path {chrom_size_path} \\\n",
    "--cpu 20\"\n",
    "\n",
    "    with open('gen-rmbkl.sh', \"a\") as file:\n",
    "        file.write(f\"{command} &\")\n",
    "        file.write(\"\\n\")\n",
    "with open('gen-rmbkl.sh', \"a\") as file:\n",
    "    file.write('wait')"
   ]
  },
  {
   "cell_type": "code",
   "execution_count": null,
   "id": "33493410-86aa-40d8-831c-60b32e8901ba",
   "metadata": {},
   "outputs": [],
   "source": []
  },
  {
   "cell_type": "code",
   "execution_count": null,
   "id": "6af4c003-6848-47ec-ae80-29f362bab818",
   "metadata": {},
   "outputs": [],
   "source": []
  },
  {
   "cell_type": "code",
   "execution_count": null,
   "id": "4f0dc1ea-99aa-465d-b6bd-18bd045ec1d1",
   "metadata": {},
   "outputs": [],
   "source": []
  },
  {
   "cell_type": "code",
   "execution_count": null,
   "id": "528d7938-4842-4ba5-8ebc-8d8af7546dbd",
   "metadata": {},
   "outputs": [],
   "source": []
  },
  {
   "cell_type": "code",
   "execution_count": null,
   "id": "1ee4a390-89aa-4faf-bf29-e41a54e839c8",
   "metadata": {},
   "outputs": [],
   "source": []
  },
  {
   "cell_type": "code",
   "execution_count": null,
   "id": "d405260f-363d-4751-b5fa-11ac6eb839ac",
   "metadata": {},
   "outputs": [],
   "source": []
  },
  {
   "cell_type": "code",
   "execution_count": null,
   "id": "23026f37-5ac9-4342-aa7d-1792e446d521",
   "metadata": {},
   "outputs": [],
   "source": []
  }
 ],
 "metadata": {
  "kernelspec": {
   "display_name": "Python 3 (ipykernel)",
   "language": "python",
   "name": "python3"
  },
  "language_info": {
   "codemirror_mode": {
    "name": "ipython",
    "version": 3
   },
   "file_extension": ".py",
   "mimetype": "text/x-python",
   "name": "python",
   "nbconvert_exporter": "python",
   "pygments_lexer": "ipython3",
   "version": "3.7.12"
  }
 },
 "nbformat": 4,
 "nbformat_minor": 5
}
