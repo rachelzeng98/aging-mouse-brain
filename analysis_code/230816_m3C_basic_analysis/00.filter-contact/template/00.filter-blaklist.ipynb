{
 "cells": [
  {
   "cell_type": "code",
   "execution_count": 2,
   "id": "1b735a93-0080-44bf-9f60-6e7171173897",
   "metadata": {
    "execution": {
     "iopub.execute_input": "2023-08-18T19:42:41.802422Z",
     "iopub.status.busy": "2023-08-18T19:42:41.802156Z",
     "iopub.status.idle": "2023-08-18T19:42:42.016858Z",
     "shell.execute_reply": "2023-08-18T19:42:42.016075Z",
     "shell.execute_reply.started": "2023-08-18T19:42:41.802402Z"
    },
    "tags": []
   },
   "outputs": [],
   "source": [
    "import glob\n",
    "import pathlib\n",
    "import pandas as pd\n",
    "import subprocess"
   ]
  },
  {
   "cell_type": "code",
   "execution_count": 5,
   "id": "001881e7-7a27-45d6-80cc-55423da61437",
   "metadata": {
    "execution": {
     "iopub.execute_input": "2023-08-18T19:43:35.383865Z",
     "iopub.status.busy": "2023-08-18T19:43:35.383561Z",
     "iopub.status.idle": "2023-08-18T19:43:35.388284Z",
     "shell.execute_reply": "2023-08-18T19:43:35.387607Z",
     "shell.execute_reply.started": "2023-08-18T19:43:35.383841Z"
    },
    "tags": []
   },
   "outputs": [],
   "source": [
    "ref_dir= '/ref/m3C'\n",
    "data_dir = '/data/female-amb/AMB-F-mapping'\n",
    "_dir = '/home/qzeng_salk_edu/project/230816_m3C_basic_analysis/00.filter-contact'"
   ]
  },
  {
   "cell_type": "code",
   "execution_count": 5,
   "id": "1b8f9bd7-e601-4438-a5c2-ad3f7e0fe3ef",
   "metadata": {
    "execution": {
     "iopub.execute_input": "2023-08-18T19:37:50.723031Z",
     "iopub.status.busy": "2023-08-18T19:37:50.722852Z",
     "iopub.status.idle": "2023-08-18T19:37:50.726237Z",
     "shell.execute_reply": "2023-08-18T19:37:50.725642Z",
     "shell.execute_reply.started": "2023-08-18T19:37:50.723015Z"
    }
   },
   "outputs": [],
   "source": [
    "blacklist_1d_path = f'{ref_dir}/mm10-blacklist.v2.bed.gz'\n",
    "blacklist_2d_path = f'{ref_dir}/mm10_2d_blacklist.bedpe'\n",
    "chrom_size_path = f'{ref_dir}/mm10.main.nochrM.nochrY.chrom.sizes'"
   ]
  },
  {
   "cell_type": "code",
   "execution_count": 3,
   "id": "2e82621e-1dbb-4428-a1e2-8ee31e04a4a8",
   "metadata": {
    "execution": {
     "iopub.execute_input": "2023-08-18T19:42:43.099686Z",
     "iopub.status.busy": "2023-08-18T19:42:43.099404Z",
     "iopub.status.idle": "2023-08-18T19:42:43.103724Z",
     "shell.execute_reply": "2023-08-18T19:42:43.103123Z",
     "shell.execute_reply.started": "2023-08-18T19:42:43.099665Z"
    },
    "tags": []
   },
   "outputs": [],
   "source": [
    "p = pathlib.Path(\"female-m3c-rmbkl\").mkdir(parents=True, exist_ok=True)"
   ]
  },
  {
   "cell_type": "code",
   "execution_count": 6,
   "id": "51c7e3e0-53dd-4127-889d-5307a577aba8",
   "metadata": {
    "execution": {
     "iopub.execute_input": "2023-08-18T19:37:52.098127Z",
     "iopub.status.busy": "2023-08-18T19:37:52.097851Z",
     "iopub.status.idle": "2023-08-18T19:37:52.119724Z",
     "shell.execute_reply": "2023-08-18T19:37:52.118917Z",
     "shell.execute_reply.started": "2023-08-18T19:37:52.098106Z"
    },
    "tags": []
   },
   "outputs": [
    {
     "ename": "NameError",
     "evalue": "name 'group_name' is not defined",
     "output_type": "error",
     "traceback": [
      "\u001b[0;31m---------------------------------------------------------------------------\u001b[0m",
      "\u001b[0;31mNameError\u001b[0m                                 Traceback (most recent call last)",
      "\u001b[0;32m/tmp/ipykernel_47149/2498738392.py\u001b[0m in \u001b[0;36m<module>\u001b[0;34m\u001b[0m\n\u001b[0;32m----> 1\u001b[0;31m \u001b[0moutput_dir\u001b[0m \u001b[0;34m=\u001b[0m \u001b[0;34mf'female-m3c-rmbkl/{group_name}/'\u001b[0m\u001b[0;34m\u001b[0m\u001b[0;34m\u001b[0m\u001b[0m\n\u001b[0m\u001b[1;32m      2\u001b[0m \u001b[0mcontact_table\u001b[0m \u001b[0;34m=\u001b[0m \u001b[0;34mf'tmp/{group_name}.contact_table.tsv'\u001b[0m\u001b[0;34m\u001b[0m\u001b[0;34m\u001b[0m\u001b[0m\n\u001b[1;32m      3\u001b[0m \u001b[0;34m\u001b[0m\u001b[0m\n\u001b[1;32m      4\u001b[0m     \u001b[0;31m# Remove blacklist\u001b[0m\u001b[0;34m\u001b[0m\u001b[0;34m\u001b[0m\u001b[0;34m\u001b[0m\u001b[0m\n\u001b[1;32m      5\u001b[0m \u001b[0mcommand\u001b[0m \u001b[0;34m=\u001b[0m \u001b[0mf\u001b[0m\u001b[0;31m\"\u001b[0m\u001b[0mhicluster\u001b[0m \u001b[0mfilter\u001b[0m\u001b[0;34m-\u001b[0m\u001b[0mcontact\u001b[0m\u001b[0;31m \u001b[0m\u001b[0;31m\\\u001b[0m\u001b[0;34m\u001b[0m\u001b[0;34m\u001b[0m\u001b[0m\n",
      "\u001b[0;31mNameError\u001b[0m: name 'group_name' is not defined"
     ]
    }
   ],
   "source": [
    "output_dir = f'female-m3c-rmbkl/{group_name}/'\n",
    "contact_table = f'{_dir}/tmp/{group_name}.contact_table.tsv'\n",
    "\n",
    "# Remove blacklist\n",
    "command = f\"hicluster filter-contact \\\n",
    "--output_dir {output_dir} \\\n",
    "--blacklist_1d_path {blacklist_1d_path} \\\n",
    "--blacklist_2d_path {blacklist_2d_path} \\\n",
    "--chr1 1 \\\n",
    "--pos1 2 \\\n",
    "--chr2 5 \\\n",
    "--pos2 6 \\\n",
    "--contact_table {contact_table} \\\n",
    "--chrom_size_path {chrom_size_path} \\\n",
    "--cpu 20\""
   ]
  },
  {
   "cell_type": "code",
   "execution_count": null,
   "id": "70f9a1e3-a8e0-42c8-8910-bee0c743abbc",
   "metadata": {},
   "outputs": [],
   "source": [
    "subprocess.run(command , shell = True)\n",
    "subprocess.run(f'touch {group_name}.finish' , shell = True)"
   ]
  },
  {
   "cell_type": "code",
   "execution_count": null,
   "id": "534724f9-789f-4690-98e7-9c4675facb33",
   "metadata": {},
   "outputs": [],
   "source": []
  },
  {
   "cell_type": "code",
   "execution_count": null,
   "id": "c91bf95d-a1f6-4521-84a5-b3453cd7a78a",
   "metadata": {},
   "outputs": [],
   "source": []
  },
  {
   "cell_type": "code",
   "execution_count": null,
   "id": "68ad27e0-25ea-42a4-a210-55fec2127d3f",
   "metadata": {},
   "outputs": [],
   "source": []
  },
  {
   "cell_type": "code",
   "execution_count": null,
   "id": "904f1b9e-642c-4300-b4eb-330a93c5ca0c",
   "metadata": {},
   "outputs": [],
   "source": []
  },
  {
   "cell_type": "code",
   "execution_count": null,
   "id": "3992f017-187d-4fbd-a986-56a225188ff9",
   "metadata": {},
   "outputs": [],
   "source": []
  },
  {
   "cell_type": "code",
   "execution_count": null,
   "id": "ccfe3b88-b594-4343-a710-b6bbbaf04cfd",
   "metadata": {},
   "outputs": [],
   "source": []
  },
  {
   "cell_type": "code",
   "execution_count": null,
   "id": "f7aca3cc-3a53-418b-ac75-91f8736d36a0",
   "metadata": {},
   "outputs": [],
   "source": []
  },
  {
   "cell_type": "code",
   "execution_count": null,
   "id": "b2338eb2-4dcb-4ebb-b3eb-d9b8d4c95942",
   "metadata": {},
   "outputs": [],
   "source": []
  },
  {
   "cell_type": "code",
   "execution_count": null,
   "id": "94f2f61c-adb6-4a29-9705-1cbf0408f8ad",
   "metadata": {},
   "outputs": [],
   "source": []
  },
  {
   "cell_type": "code",
   "execution_count": null,
   "id": "49028f99-0b52-4978-b1b8-cbb353f983bb",
   "metadata": {},
   "outputs": [],
   "source": []
  },
  {
   "cell_type": "code",
   "execution_count": null,
   "id": "2bea9d9c-9c6d-4e9b-b0fd-221084de9036",
   "metadata": {},
   "outputs": [],
   "source": []
  },
  {
   "cell_type": "code",
   "execution_count": null,
   "id": "b1b1fe41-4e65-46a3-9982-9380c2b48b13",
   "metadata": {},
   "outputs": [],
   "source": []
  }
 ],
 "metadata": {
  "kernelspec": {
   "display_name": "Python 3 (ipykernel)",
   "language": "python",
   "name": "python3"
  },
  "language_info": {
   "codemirror_mode": {
    "name": "ipython",
    "version": 3
   },
   "file_extension": ".py",
   "mimetype": "text/x-python",
   "name": "python",
   "nbconvert_exporter": "python",
   "pygments_lexer": "ipython3",
   "version": "3.7.12"
  }
 },
 "nbformat": 4,
 "nbformat_minor": 5
}
