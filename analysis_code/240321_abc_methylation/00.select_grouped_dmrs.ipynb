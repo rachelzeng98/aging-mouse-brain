{
 "cells": [
  {
   "cell_type": "code",
   "execution_count": 1,
   "id": "328824a2-0cf2-4afc-8bc3-d32a238a4c45",
   "metadata": {},
   "outputs": [],
   "source": [
    "from wmb import cemba\n",
    "import pandas as pd\n",
    "from ALLCools.dmr.rms_test import permute_root_mean_square_test_and_estimate_p, downsample_table\n",
    "import joblib\n",
    "import pathlib\n",
    "from tqdm import tqdm\n",
    "from ALLCools.mcds import RegionDS\n",
    "import xarray as xr\n",
    "from collections import defaultdict\n",
    "import joblib"
   ]
  },
  {
   "cell_type": "code",
   "execution_count": 2,
   "id": "05bbde8c-753b-4b0d-ab56-9e2278a517fe",
   "metadata": {},
   "outputs": [],
   "source": [
    "celltype_dmr_zarr_path =  '/cemba/wmb/genome/DMR/CEMBA.snmC.AllGroupedDMRs.CellType.mC.zarr/'"
   ]
  },
  {
   "cell_type": "code",
   "execution_count": 3,
   "id": "b2ab007e-07e5-48f8-b4db-d78bb1d77a2e",
   "metadata": {},
   "outputs": [],
   "source": [
    "mc_ds = xr.open_zarr(celltype_dmr_zarr_path)\n",
    "_ds = [mc_ds]\n",
    "dmr_ds = RegionDS(xr.merge(_ds))\n",
    "dmr_ds.region_dim = 'dmr'"
   ]
  },
  {
   "cell_type": "markdown",
   "id": "1be31daa-6495-4605-b0bc-1cb243c19d02",
   "metadata": {},
   "source": [
    "## get all dmrs"
   ]
  },
  {
   "cell_type": "code",
   "execution_count": 4,
   "id": "904dec0b-3032-4007-a311-652e857a6fd8",
   "metadata": {},
   "outputs": [],
   "source": [
    "all_dmrs = dmr_ds.get_index('dmr')"
   ]
  },
  {
   "cell_type": "code",
   "execution_count": 5,
   "id": "19dbebc6-c359-4ae3-ac7f-a2a73776ad00",
   "metadata": {},
   "outputs": [],
   "source": [
    "all_dmr_groups = defaultdict(list)\n",
    "for dmr in all_dmrs:\n",
    "    group, length =dmr.split(':')\n",
    "    all_dmr_groups[group].append(dmr)   \n",
    "    "
   ]
  },
  {
   "cell_type": "code",
   "execution_count": 6,
   "id": "f01e6575-09f2-46f9-90fb-6804297fcbf3",
   "metadata": {},
   "outputs": [],
   "source": [
    "use_dmrs = []\n",
    "for group, dmrs in all_dmr_groups.items():\n",
    "    dmr_lengths = {}\n",
    "    for dmr in dmrs:\n",
    "        length = int(dmr.split(':')[1].split('-')[1])\n",
    "        dmr_lengths[dmr] = length\n",
    "    longest_dmr = max(dmr_lengths, key=lambda k: dmr_lengths[k])\n",
    "    use_dmrs.append(longest_dmr)\n"
   ]
  },
  {
   "cell_type": "code",
   "execution_count": 7,
   "id": "9324eafd-ae36-4c20-9886-e670969743bf",
   "metadata": {},
   "outputs": [],
   "source": [
    "assert len(use_dmrs) == len(all_dmr_groups)"
   ]
  },
  {
   "cell_type": "code",
   "execution_count": 8,
   "id": "4fd8982a-7055-47f1-a641-1fcd67141f7e",
   "metadata": {},
   "outputs": [
    {
     "data": {
      "text/plain": [
       "2564356"
      ]
     },
     "execution_count": 8,
     "metadata": {},
     "output_type": "execute_result"
    }
   ],
   "source": [
    "len(use_dmrs)"
   ]
  },
  {
   "cell_type": "code",
   "execution_count": 9,
   "id": "98213f54-0b1d-468f-80f5-f743b681082a",
   "metadata": {},
   "outputs": [
    {
     "data": {
      "text/plain": [
       "['use_dmrs_list']"
      ]
     },
     "execution_count": 9,
     "metadata": {},
     "output_type": "execute_result"
    }
   ],
   "source": [
    "joblib.dump(use_dmrs, 'use_dmrs_list')"
   ]
  },
  {
   "cell_type": "code",
   "execution_count": 31,
   "id": "15904e76-a7ed-4653-b9a7-a38576ddd611",
   "metadata": {},
   "outputs": [],
   "source": [
    "chrs_list= []\n",
    "dmr_start_list= []\n",
    "dmr_end_list = []\n",
    "\n",
    "for dmr in use_dmrs:\n",
    "    group, start_length = dmr.split(':')\n",
    "    _chr, group_start = group.split('-')\n",
    "    dist_to_group_start, length = start_length.split('-')\n",
    "    dmr_start = int(group_start) + int(dist_to_group_start)\n",
    "    dmr_end = dmr_start + int(length)\n",
    "    chrs_list.append(_chr)\n",
    "    dmr_start_list.append(dmr_start)\n",
    "    dmr_end_list.append(dmr_end)"
   ]
  },
  {
   "cell_type": "code",
   "execution_count": 33,
   "id": "ad6aa557-e28c-4163-a5df-ccf0b349d93d",
   "metadata": {},
   "outputs": [],
   "source": [
    "all_dmr_df = pd.DataFrame({'chrom':chrs_list,'start':dmr_start_list,'end':dmr_end_list})"
   ]
  },
  {
   "cell_type": "code",
   "execution_count": 34,
   "id": "9e039cdc-468f-4986-998a-93ff7452017f",
   "metadata": {},
   "outputs": [],
   "source": [
    "all_dmr_df.to_csv('CEMBA.mC.grouped-DMR.bed', sep = '\\t', header = None, index= None)"
   ]
  },
  {
   "cell_type": "code",
   "execution_count": 35,
   "id": "bd9cb039-45aa-4100-8055-c230b6652f23",
   "metadata": {},
   "outputs": [
    {
     "name": "stdout",
     "output_type": "stream",
     "text": [
      "/home/qzeng_salk_edu/project/cemba/230830_DMR_DAR\n"
     ]
    }
   ],
   "source": [
    "! pwd"
   ]
  },
  {
   "cell_type": "code",
   "execution_count": 38,
   "id": "f105ed03-5e4b-43a0-97e1-12393a3f9e80",
   "metadata": {},
   "outputs": [
    {
     "data": {
      "text/html": [
       "<div>\n",
       "<style scoped>\n",
       "    .dataframe tbody tr th:only-of-type {\n",
       "        vertical-align: middle;\n",
       "    }\n",
       "\n",
       "    .dataframe tbody tr th {\n",
       "        vertical-align: top;\n",
       "    }\n",
       "\n",
       "    .dataframe thead th {\n",
       "        text-align: right;\n",
       "    }\n",
       "</style>\n",
       "<table border=\"1\" class=\"dataframe\">\n",
       "  <thead>\n",
       "    <tr style=\"text-align: right;\">\n",
       "      <th></th>\n",
       "      <th>chrom</th>\n",
       "      <th>start</th>\n",
       "      <th>end</th>\n",
       "    </tr>\n",
       "  </thead>\n",
       "  <tbody>\n",
       "    <tr>\n",
       "      <th>0</th>\n",
       "      <td>chr1</td>\n",
       "      <td>3003581</td>\n",
       "      <td>3003583</td>\n",
       "    </tr>\n",
       "    <tr>\n",
       "      <th>1</th>\n",
       "      <td>chr1</td>\n",
       "      <td>3003639</td>\n",
       "      <td>3003641</td>\n",
       "    </tr>\n",
       "    <tr>\n",
       "      <th>2</th>\n",
       "      <td>chr1</td>\n",
       "      <td>3003720</td>\n",
       "      <td>3003899</td>\n",
       "    </tr>\n",
       "    <tr>\n",
       "      <th>3</th>\n",
       "      <td>chr1</td>\n",
       "      <td>3005997</td>\n",
       "      <td>3005999</td>\n",
       "    </tr>\n",
       "    <tr>\n",
       "      <th>4</th>\n",
       "      <td>chr1</td>\n",
       "      <td>3006781</td>\n",
       "      <td>3006783</td>\n",
       "    </tr>\n",
       "    <tr>\n",
       "      <th>...</th>\n",
       "      <td>...</td>\n",
       "      <td>...</td>\n",
       "      <td>...</td>\n",
       "    </tr>\n",
       "    <tr>\n",
       "      <th>2564351</th>\n",
       "      <td>chrX</td>\n",
       "      <td>170844078</td>\n",
       "      <td>170844080</td>\n",
       "    </tr>\n",
       "    <tr>\n",
       "      <th>2564352</th>\n",
       "      <td>chrX</td>\n",
       "      <td>170844465</td>\n",
       "      <td>170844467</td>\n",
       "    </tr>\n",
       "    <tr>\n",
       "      <th>2564353</th>\n",
       "      <td>chrX</td>\n",
       "      <td>170849226</td>\n",
       "      <td>170849228</td>\n",
       "    </tr>\n",
       "    <tr>\n",
       "      <th>2564354</th>\n",
       "      <td>chrX</td>\n",
       "      <td>170854561</td>\n",
       "      <td>170854563</td>\n",
       "    </tr>\n",
       "    <tr>\n",
       "      <th>2564355</th>\n",
       "      <td>chrX</td>\n",
       "      <td>170860316</td>\n",
       "      <td>170860318</td>\n",
       "    </tr>\n",
       "  </tbody>\n",
       "</table>\n",
       "<p>2564356 rows × 3 columns</p>\n",
       "</div>"
      ],
      "text/plain": [
       "        chrom      start        end\n",
       "0        chr1    3003581    3003583\n",
       "1        chr1    3003639    3003641\n",
       "2        chr1    3003720    3003899\n",
       "3        chr1    3005997    3005999\n",
       "4        chr1    3006781    3006783\n",
       "...       ...        ...        ...\n",
       "2564351  chrX  170844078  170844080\n",
       "2564352  chrX  170844465  170844467\n",
       "2564353  chrX  170849226  170849228\n",
       "2564354  chrX  170854561  170854563\n",
       "2564355  chrX  170860316  170860318\n",
       "\n",
       "[2564356 rows x 3 columns]"
      ]
     },
     "execution_count": 38,
     "metadata": {},
     "output_type": "execute_result"
    }
   ],
   "source": [
    "all_dmr_df"
   ]
  },
  {
   "cell_type": "code",
   "execution_count": null,
   "id": "fbae2e82-94c4-4028-a95d-b2e4c7e147dd",
   "metadata": {},
   "outputs": [],
   "source": []
  }
 ],
 "metadata": {
  "kernelspec": {
   "display_name": "Python 3 (ipykernel)",
   "language": "python",
   "name": "python3"
  },
  "language_info": {
   "codemirror_mode": {
    "name": "ipython",
    "version": 3
   },
   "file_extension": ".py",
   "mimetype": "text/x-python",
   "name": "python",
   "nbconvert_exporter": "python",
   "pygments_lexer": "ipython3",
   "version": "3.10.12"
  }
 },
 "nbformat": 4,
 "nbformat_minor": 5
}
