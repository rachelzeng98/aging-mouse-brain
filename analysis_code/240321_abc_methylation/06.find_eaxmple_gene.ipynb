{
 "cells": [
  {
   "cell_type": "code",
   "execution_count": 1,
   "id": "565a28aa-56b8-4409-9f64-7b8690e04942",
   "metadata": {},
   "outputs": [],
   "source": [
    "import pandas as pd\n",
    "import numpy as np\n",
    "import matplotlib.pyplot as plt\n",
    "import seaborn as sns\n",
    "from matplotlib_venn import venn2\n",
    "import pybedtools"
   ]
  },
  {
   "cell_type": "markdown",
   "id": "1ae4ec0f-ef5f-440e-928e-c1256dd94665",
   "metadata": {},
   "source": [
    "This notebooks aims to:\n",
    "1. check for diff domain on down-regulated long DEGs\n",
    "2. plot it on the heatmap\n",
    "3. then check for the enhancer pairs to see if less long range enhancer after domain splitting"
   ]
  },
  {
   "cell_type": "code",
   "execution_count": 26,
   "id": "5d663a68-e81d-4ad2-8efd-97cfc24c0e67",
   "metadata": {},
   "outputs": [],
   "source": [
    "ct = 'DG_Glut'"
   ]
  },
  {
   "cell_type": "markdown",
   "id": "f7dbca71-80da-4af8-973d-79f371105547",
   "metadata": {},
   "source": [
    "## plot long gene expression"
   ]
  },
  {
   "cell_type": "code",
   "execution_count": 27,
   "id": "c72ded78-c77f-4d9e-b962-b3cd26f4d19b",
   "metadata": {},
   "outputs": [],
   "source": [
    "gene_meta_path = '/data/metadata/gencode.vM22.basic.annotation.gene.flat.tsv.gz'\n",
    "mouse_genes = pd.read_csv(gene_meta_path,sep=\"\\t\")[['chrom', 'start', 'end', 'gene_id','gene_name']]\n",
    "mouse_genes['length'] = mouse_genes['end'] - mouse_genes['start']"
   ]
  },
  {
   "cell_type": "code",
   "execution_count": 28,
   "id": "ad66c239-7aae-4ca8-963a-b10989b93659",
   "metadata": {},
   "outputs": [],
   "source": [
    "deg_dir = f'/data/female-amb/Diff.Result/DEG.stats/{ct}'\n",
    "expr = pd.read_hdf(f'{deg_dir}/expr.hdf').T\n",
    "stats = np.load(f\"{deg_dir}/{ct}.2mo-{ct}.18mo.npz\") #fc:(2mo/18mo)"
   ]
  },
  {
   "cell_type": "code",
   "execution_count": 29,
   "id": "61ae5965-22f8-4451-a137-2ef0b0b626b3",
   "metadata": {},
   "outputs": [
    {
     "data": {
      "text/html": [
       "<div>\n",
       "<style scoped>\n",
       "    .dataframe tbody tr th:only-of-type {\n",
       "        vertical-align: middle;\n",
       "    }\n",
       "\n",
       "    .dataframe tbody tr th {\n",
       "        vertical-align: top;\n",
       "    }\n",
       "\n",
       "    .dataframe thead th {\n",
       "        text-align: right;\n",
       "    }\n",
       "</style>\n",
       "<table border=\"1\" class=\"dataframe\">\n",
       "  <thead>\n",
       "    <tr style=\"text-align: right;\">\n",
       "      <th></th>\n",
       "      <th>fc</th>\n",
       "      <th>fdr</th>\n",
       "      <th>log2(18mo/2mo)</th>\n",
       "      <th>-log10(padj)</th>\n",
       "    </tr>\n",
       "    <tr>\n",
       "      <th>gene</th>\n",
       "      <th></th>\n",
       "      <th></th>\n",
       "      <th></th>\n",
       "      <th></th>\n",
       "    </tr>\n",
       "  </thead>\n",
       "  <tbody>\n",
       "    <tr>\n",
       "      <th>Xkr4</th>\n",
       "      <td>0.787165</td>\n",
       "      <td>9.060851e-107</td>\n",
       "      <td>-0.345262</td>\n",
       "      <td>106.042831</td>\n",
       "    </tr>\n",
       "    <tr>\n",
       "      <th>Gm1992</th>\n",
       "      <td>0.369641</td>\n",
       "      <td>1.208492e-01</td>\n",
       "      <td>-1.435803</td>\n",
       "      <td>0.917756</td>\n",
       "    </tr>\n",
       "    <tr>\n",
       "      <th>Gm19938</th>\n",
       "      <td>1.789986</td>\n",
       "      <td>1.000000e+00</td>\n",
       "      <td>0.839949</td>\n",
       "      <td>-0.000000</td>\n",
       "    </tr>\n",
       "    <tr>\n",
       "      <th>Mrpl15</th>\n",
       "      <td>1.012254</td>\n",
       "      <td>4.511315e-01</td>\n",
       "      <td>0.017571</td>\n",
       "      <td>0.345697</td>\n",
       "    </tr>\n",
       "    <tr>\n",
       "      <th>Lypla1</th>\n",
       "      <td>1.155931</td>\n",
       "      <td>8.404700e-01</td>\n",
       "      <td>0.209055</td>\n",
       "      <td>0.075478</td>\n",
       "    </tr>\n",
       "  </tbody>\n",
       "</table>\n",
       "</div>"
      ],
      "text/plain": [
       "               fc            fdr  log2(18mo/2mo)  -log10(padj)\n",
       "gene                                                          \n",
       "Xkr4     0.787165  9.060851e-107       -0.345262    106.042831\n",
       "Gm1992   0.369641   1.208492e-01       -1.435803      0.917756\n",
       "Gm19938  1.789986   1.000000e+00        0.839949     -0.000000\n",
       "Mrpl15   1.012254   4.511315e-01        0.017571      0.345697\n",
       "Lypla1   1.155931   8.404700e-01        0.209055      0.075478"
      ]
     },
     "execution_count": 29,
     "metadata": {},
     "output_type": "execute_result"
    }
   ],
   "source": [
    "result = pd.DataFrame({'fc': (expr[f'{ct}.18mo'] /expr[f'{ct}.2mo']).values,'fdr':stats['fdr']}, index = expr.index)\n",
    "result['log2(18mo/2mo)'] = np.log2(result['fc'])\n",
    "result['-log10(padj)'] = -np.log10(result['fdr'])\n",
    "result.head()"
   ]
  },
  {
   "cell_type": "code",
   "execution_count": 30,
   "id": "c6cdbfd9-ae75-4ce8-9426-6e6b00645c52",
   "metadata": {},
   "outputs": [],
   "source": [
    "sig_result = result[(result['fdr'] < 0.01) & (abs(result['log2(18mo/2mo)']) > 0.5)]\n",
    "sig_result['length'] = sig_result.index.map(mouse_genes.set_index('gene_name')['length'].to_dict())"
   ]
  },
  {
   "cell_type": "code",
   "execution_count": 31,
   "id": "72035fa7-1489-466b-98f0-95473187d176",
   "metadata": {},
   "outputs": [],
   "source": [
    "all_long_gene = mouse_genes[mouse_genes['length'] > 100000].shape[0]\n",
    "all_degs = sig_result.shape[0]\n",
    "\n",
    "long_gene_sig_result = sig_result[sig_result['length'] > 100000]\n",
    "overlap = long_gene_sig_result.shape[0]"
   ]
  },
  {
   "cell_type": "code",
   "execution_count": 32,
   "id": "52682434-523d-4d3d-b84e-476f70328879",
   "metadata": {},
   "outputs": [
    {
     "data": {
      "image/png": "[encoded data removed]",
      "text/plain": [
       "<Figure size 640x480 with 1 Axes>"
      ]
     },
     "metadata": {},
     "output_type": "display_data"
    }
   ],
   "source": [
    "venn2(subsets = (all_long_gene- overlap, all_degs-overlap,overlap), set_labels = ('Long Genes', 'Age DEGs'))\n",
    "plt.show()"
   ]
  },
  {
   "cell_type": "code",
   "execution_count": 33,
   "id": "7e37ff8b-239e-487e-a465-08e44ce911c0",
   "metadata": {},
   "outputs": [
    {
     "data": {
      "image/png": "[encoded data removed]",
      "text/plain": [
       "<Figure size 450x450 with 1 Axes>"
      ]
     },
     "metadata": {},
     "output_type": "display_data"
    }
   ],
   "source": [
    "fig, ax = plt.subplots(figsize = (3,3), dpi = 150)\n",
    "sns.scatterplot(data = result,\n",
    "                ax = ax,\n",
    "                color = 'lightgrey',\n",
    "                s = 3,\n",
    "                x = 'log2(18mo/2mo)',\n",
    "                y = '-log10(padj)')\n",
    "\n",
    "sns.scatterplot(data = sig_result[sig_result['log2(18mo/2mo)'] > 0],\n",
    "                ax = ax,\n",
    "                color = 'red',\n",
    "                s = 3,\n",
    "                x = 'log2(18mo/2mo)',\n",
    "                y = '-log10(padj)')\n",
    "\n",
    "sns.scatterplot(data = sig_result[sig_result['log2(18mo/2mo)'] < 0],\n",
    "                ax = ax,\n",
    "                color = 'blue',\n",
    "                s = 3,\n",
    "                x = 'log2(18mo/2mo)',\n",
    "                y = '-log10(padj)')\n",
    "\n",
    "for i, row in sig_result.iterrows():\n",
    "    if row['-log10(padj)'] > 100 and (row['log2(18mo/2mo)'] > 3 or row['log2(18mo/2mo)'] < -3):\n",
    "        ax.text(row['log2(18mo/2mo)'], row['-log10(padj)'], \n",
    "                row.name, \n",
    "                color='black', fontsize=6)"
   ]
  },
  {
   "cell_type": "markdown",
   "id": "6c7bf195-fbe6-42f8-bb6a-ebfdd8ffa4df",
   "metadata": {},
   "source": [
    "## check those overlap with spillting domain"
   ]
  },
  {
   "cell_type": "code",
   "execution_count": 34,
   "id": "547f9f8e-9ad8-45fb-af0a-60b97621259f",
   "metadata": {},
   "outputs": [],
   "source": [
    "_dir = '/home/qzeng_salk_edu/project/240315-domain-split_score'\n",
    "all_diff_domain = pd.read_csv(f'{_dir}/ALL.Diff.Domain.csv', index_col =0)\n",
    "ct_diff_domain = all_diff_domain[all_diff_domain['celltype'] == ct]"
   ]
  },
  {
   "cell_type": "code",
   "execution_count": 35,
   "id": "cee98568-3523-4b7d-a53b-60719c2e5636",
   "metadata": {},
   "outputs": [
    {
     "data": {
      "text/html": [
       "<div>\n",
       "<style scoped>\n",
       "    .dataframe tbody tr th:only-of-type {\n",
       "        vertical-align: middle;\n",
       "    }\n",
       "\n",
       "    .dataframe tbody tr th {\n",
       "        vertical-align: top;\n",
       "    }\n",
       "\n",
       "    .dataframe thead th {\n",
       "        text-align: right;\n",
       "    }\n",
       "</style>\n",
       "<table border=\"1\" class=\"dataframe\">\n",
       "  <thead>\n",
       "    <tr style=\"text-align: right;\">\n",
       "      <th></th>\n",
       "      <th>boudary_chr</th>\n",
       "      <th>boudary_start</th>\n",
       "      <th>boudary_end</th>\n",
       "      <th>8wk</th>\n",
       "      <th>9mo</th>\n",
       "      <th>18mo</th>\n",
       "      <th>18mo-8wk</th>\n",
       "      <th>celltype</th>\n",
       "    </tr>\n",
       "  </thead>\n",
       "  <tbody>\n",
       "    <tr>\n",
       "      <th>chr1_1020</th>\n",
       "      <td>chr1</td>\n",
       "      <td>25500000</td>\n",
       "      <td>25525000</td>\n",
       "      <td>0.092942</td>\n",
       "      <td>0.098532</td>\n",
       "      <td>0.144654</td>\n",
       "      <td>0.051712</td>\n",
       "      <td>DG_Glut</td>\n",
       "    </tr>\n",
       "    <tr>\n",
       "      <th>chr1_1690</th>\n",
       "      <td>chr1</td>\n",
       "      <td>42250000</td>\n",
       "      <td>42275000</td>\n",
       "      <td>0.056604</td>\n",
       "      <td>0.071279</td>\n",
       "      <td>0.107617</td>\n",
       "      <td>0.051013</td>\n",
       "      <td>DG_Glut</td>\n",
       "    </tr>\n",
       "    <tr>\n",
       "      <th>chr1_6152</th>\n",
       "      <td>chr1</td>\n",
       "      <td>153800000</td>\n",
       "      <td>153825000</td>\n",
       "      <td>0.085954</td>\n",
       "      <td>0.095737</td>\n",
       "      <td>0.138365</td>\n",
       "      <td>0.052411</td>\n",
       "      <td>DG_Glut</td>\n",
       "    </tr>\n",
       "    <tr>\n",
       "      <th>chr1_6370</th>\n",
       "      <td>chr1</td>\n",
       "      <td>159250000</td>\n",
       "      <td>159275000</td>\n",
       "      <td>0.076869</td>\n",
       "      <td>0.078966</td>\n",
       "      <td>0.127184</td>\n",
       "      <td>0.050314</td>\n",
       "      <td>DG_Glut</td>\n",
       "    </tr>\n",
       "    <tr>\n",
       "      <th>chr2_1706</th>\n",
       "      <td>chr2</td>\n",
       "      <td>42650000</td>\n",
       "      <td>42675000</td>\n",
       "      <td>0.089448</td>\n",
       "      <td>0.088749</td>\n",
       "      <td>0.151642</td>\n",
       "      <td>0.062194</td>\n",
       "      <td>DG_Glut</td>\n",
       "    </tr>\n",
       "  </tbody>\n",
       "</table>\n",
       "</div>"
      ],
      "text/plain": [
       "          boudary_chr  boudary_start  boudary_end       8wk       9mo  \\\n",
       "chr1_1020        chr1       25500000     25525000  0.092942  0.098532   \n",
       "chr1_1690        chr1       42250000     42275000  0.056604  0.071279   \n",
       "chr1_6152        chr1      153800000    153825000  0.085954  0.095737   \n",
       "chr1_6370        chr1      159250000    159275000  0.076869  0.078966   \n",
       "chr2_1706        chr2       42650000     42675000  0.089448  0.088749   \n",
       "\n",
       "               18mo  18mo-8wk celltype  \n",
       "chr1_1020  0.144654  0.051712  DG_Glut  \n",
       "chr1_1690  0.107617  0.051013  DG_Glut  \n",
       "chr1_6152  0.138365  0.052411  DG_Glut  \n",
       "chr1_6370  0.127184  0.050314  DG_Glut  \n",
       "chr2_1706  0.151642  0.062194  DG_Glut  "
      ]
     },
     "execution_count": 35,
     "metadata": {},
     "output_type": "execute_result"
    }
   ],
   "source": [
    "ct_diff_domain =  ct_diff_domain[(ct_diff_domain['8wk'] < 0.1) & (ct_diff_domain['18mo-8wk'] > 0.05)]\n",
    "binall = pd.read_csv(f'{_dir}/binall.csv', index_col =0)\n",
    "ct_diff_domain =pd.concat([binall, ct_diff_domain], axis =1).dropna()\n",
    "ct_diff_domain.columns = ['boudary_chr', 'boudary_start', 'boudary_end', '8wk', '9mo', '18mo', '18mo-8wk', 'celltype']\n",
    "ct_diff_domain.head()"
   ]
  },
  {
   "cell_type": "code",
   "execution_count": 36,
   "id": "bb55043c-7d97-43ad-b7c0-5be57f4e2a95",
   "metadata": {
    "scrolled": true
   },
   "outputs": [
    {
     "data": {
      "text/html": [
       "<div>\n",
       "<style scoped>\n",
       "    .dataframe tbody tr th:only-of-type {\n",
       "        vertical-align: middle;\n",
       "    }\n",
       "\n",
       "    .dataframe tbody tr th {\n",
       "        vertical-align: top;\n",
       "    }\n",
       "\n",
       "    .dataframe thead th {\n",
       "        text-align: right;\n",
       "    }\n",
       "</style>\n",
       "<table border=\"1\" class=\"dataframe\">\n",
       "  <thead>\n",
       "    <tr style=\"text-align: right;\">\n",
       "      <th></th>\n",
       "      <th>chrom</th>\n",
       "      <th>start</th>\n",
       "      <th>end</th>\n",
       "      <th>fc</th>\n",
       "      <th>fdr</th>\n",
       "      <th>gene_name</th>\n",
       "    </tr>\n",
       "  </thead>\n",
       "  <tbody>\n",
       "    <tr>\n",
       "      <th>St18</th>\n",
       "      <td>chr1</td>\n",
       "      <td>6487231</td>\n",
       "      <td>6860940</td>\n",
       "      <td>0.695524</td>\n",
       "      <td>2.377091e-114</td>\n",
       "      <td>St18</td>\n",
       "    </tr>\n",
       "    <tr>\n",
       "      <th>Cpa6</th>\n",
       "      <td>chr1</td>\n",
       "      <td>10324720</td>\n",
       "      <td>10719945</td>\n",
       "      <td>2.451023</td>\n",
       "      <td>9.745680e-04</td>\n",
       "      <td>Cpa6</td>\n",
       "    </tr>\n",
       "    <tr>\n",
       "      <th>Prex2</th>\n",
       "      <td>chr1</td>\n",
       "      <td>10993465</td>\n",
       "      <td>11303681</td>\n",
       "      <td>0.615280</td>\n",
       "      <td>2.143322e-24</td>\n",
       "      <td>Prex2</td>\n",
       "    </tr>\n",
       "    <tr>\n",
       "      <th>A830018L16Rik</th>\n",
       "      <td>chr1</td>\n",
       "      <td>11414105</td>\n",
       "      <td>11975901</td>\n",
       "      <td>0.652336</td>\n",
       "      <td>1.757006e-237</td>\n",
       "      <td>A830018L16Rik</td>\n",
       "    </tr>\n",
       "    <tr>\n",
       "      <th>Ncoa2</th>\n",
       "      <td>chr1</td>\n",
       "      <td>13139105</td>\n",
       "      <td>13374083</td>\n",
       "      <td>0.697405</td>\n",
       "      <td>7.013813e-81</td>\n",
       "      <td>Ncoa2</td>\n",
       "    </tr>\n",
       "  </tbody>\n",
       "</table>\n",
       "</div>"
      ],
      "text/plain": [
       "              chrom     start       end        fc            fdr  \\\n",
       "St18           chr1   6487231   6860940  0.695524  2.377091e-114   \n",
       "Cpa6           chr1  10324720  10719945  2.451023   9.745680e-04   \n",
       "Prex2          chr1  10993465  11303681  0.615280   2.143322e-24   \n",
       "A830018L16Rik  chr1  11414105  11975901  0.652336  1.757006e-237   \n",
       "Ncoa2          chr1  13139105  13374083  0.697405   7.013813e-81   \n",
       "\n",
       "                   gene_name  \n",
       "St18                    St18  \n",
       "Cpa6                    Cpa6  \n",
       "Prex2                  Prex2  \n",
       "A830018L16Rik  A830018L16Rik  \n",
       "Ncoa2                  Ncoa2  "
      ]
     },
     "execution_count": 36,
     "metadata": {},
     "output_type": "execute_result"
    }
   ],
   "source": [
    "sig_long_meta = mouse_genes[mouse_genes['gene_name'].isin(long_gene_sig_result.index)].set_index('gene_name')[['chrom', 'start','end']]\n",
    "long_gene_sig_result = pd.concat([sig_long_meta, long_gene_sig_result], axis = 1)\n",
    "long_gene_sig_result['gene_name'] = long_gene_sig_result.index\n",
    "long_gene_sig_result = long_gene_sig_result[['chrom','start','end','fc','fdr','gene_name']].copy()\n",
    "long_gene_sig_result.head()"
   ]
  },
  {
   "cell_type": "code",
   "execution_count": 37,
   "id": "bb577645-cfcc-47d4-958a-5990cd6537b1",
   "metadata": {},
   "outputs": [],
   "source": [
    "bed1 = pybedtools.BedTool.from_dataframe(ct_diff_domain)\n",
    "bed2 = pybedtools.BedTool.from_dataframe(long_gene_sig_result)\n",
    "\n",
    "intersection = bed1.intersect(bed2, wa=True, wb=True)\n",
    "names = ct_diff_domain.columns.tolist() + long_gene_sig_result.columns.tolist()\n",
    "intersection_df = pybedtools.BedTool.to_dataframe(intersection, names = names)"
   ]
  },
  {
   "cell_type": "code",
   "execution_count": 38,
   "id": "25d62167-4405-40fc-979d-95729711591c",
   "metadata": {},
   "outputs": [
    {
     "data": {
      "text/html": [
       "<div>\n",
       "<style scoped>\n",
       "    .dataframe tbody tr th:only-of-type {\n",
       "        vertical-align: middle;\n",
       "    }\n",
       "\n",
       "    .dataframe tbody tr th {\n",
       "        vertical-align: top;\n",
       "    }\n",
       "\n",
       "    .dataframe thead th {\n",
       "        text-align: right;\n",
       "    }\n",
       "</style>\n",
       "<table border=\"1\" class=\"dataframe\">\n",
       "  <thead>\n",
       "    <tr style=\"text-align: right;\">\n",
       "      <th></th>\n",
       "      <th>boudary_chr</th>\n",
       "      <th>boudary_start</th>\n",
       "      <th>boudary_end</th>\n",
       "      <th>8wk</th>\n",
       "      <th>9mo</th>\n",
       "      <th>18mo</th>\n",
       "      <th>18mo-8wk</th>\n",
       "      <th>celltype</th>\n",
       "      <th>chrom</th>\n",
       "      <th>start</th>\n",
       "      <th>end</th>\n",
       "      <th>fc</th>\n",
       "      <th>fdr</th>\n",
       "      <th>gene_name</th>\n",
       "    </tr>\n",
       "  </thead>\n",
       "  <tbody>\n",
       "    <tr>\n",
       "      <th>0</th>\n",
       "      <td>chr1</td>\n",
       "      <td>159250000</td>\n",
       "      <td>159275000</td>\n",
       "      <td>0.076869</td>\n",
       "      <td>0.078966</td>\n",
       "      <td>0.127184</td>\n",
       "      <td>0.050314</td>\n",
       "      <td>DG_Glut</td>\n",
       "      <td>chr1</td>\n",
       "      <td>159232320</td>\n",
       "      <td>159347640</td>\n",
       "      <td>0.553667</td>\n",
       "      <td>1.202787e-148</td>\n",
       "      <td>Cop1</td>\n",
       "    </tr>\n",
       "    <tr>\n",
       "      <th>1</th>\n",
       "      <td>chr10</td>\n",
       "      <td>63425000</td>\n",
       "      <td>63450000</td>\n",
       "      <td>0.085255</td>\n",
       "      <td>0.085954</td>\n",
       "      <td>0.144654</td>\n",
       "      <td>0.059399</td>\n",
       "      <td>DG_Glut</td>\n",
       "      <td>chr10</td>\n",
       "      <td>63430098</td>\n",
       "      <td>65003667</td>\n",
       "      <td>0.459872</td>\n",
       "      <td>9.494642e-16</td>\n",
       "      <td>Ctnna3</td>\n",
       "    </tr>\n",
       "    <tr>\n",
       "      <th>2</th>\n",
       "      <td>chr11</td>\n",
       "      <td>93100000</td>\n",
       "      <td>93125000</td>\n",
       "      <td>0.050314</td>\n",
       "      <td>0.065688</td>\n",
       "      <td>0.111111</td>\n",
       "      <td>0.060797</td>\n",
       "      <td>DG_Glut</td>\n",
       "      <td>chr11</td>\n",
       "      <td>93098028</td>\n",
       "      <td>93601749</td>\n",
       "      <td>0.588722</td>\n",
       "      <td>1.230007e-34</td>\n",
       "      <td>Car10</td>\n",
       "    </tr>\n",
       "    <tr>\n",
       "      <th>3</th>\n",
       "      <td>chr15</td>\n",
       "      <td>40650000</td>\n",
       "      <td>40675000</td>\n",
       "      <td>0.096436</td>\n",
       "      <td>0.099930</td>\n",
       "      <td>0.155136</td>\n",
       "      <td>0.058700</td>\n",
       "      <td>DG_Glut</td>\n",
       "      <td>chr15</td>\n",
       "      <td>40655035</td>\n",
       "      <td>41104592</td>\n",
       "      <td>0.598270</td>\n",
       "      <td>0.000000e+00</td>\n",
       "      <td>Zfpm2</td>\n",
       "    </tr>\n",
       "  </tbody>\n",
       "</table>\n",
       "</div>"
      ],
      "text/plain": [
       "  boudary_chr  boudary_start  boudary_end       8wk       9mo      18mo  \\\n",
       "0        chr1      159250000    159275000  0.076869  0.078966  0.127184   \n",
       "1       chr10       63425000     63450000  0.085255  0.085954  0.144654   \n",
       "2       chr11       93100000     93125000  0.050314  0.065688  0.111111   \n",
       "3       chr15       40650000     40675000  0.096436  0.099930  0.155136   \n",
       "\n",
       "   18mo-8wk celltype  chrom      start        end        fc            fdr  \\\n",
       "0  0.050314  DG_Glut   chr1  159232320  159347640  0.553667  1.202787e-148   \n",
       "1  0.059399  DG_Glut  chr10   63430098   65003667  0.459872   9.494642e-16   \n",
       "2  0.060797  DG_Glut  chr11   93098028   93601749  0.588722   1.230007e-34   \n",
       "3  0.058700  DG_Glut  chr15   40655035   41104592  0.598270   0.000000e+00   \n",
       "\n",
       "  gene_name  \n",
       "0      Cop1  \n",
       "1    Ctnna3  \n",
       "2     Car10  \n",
       "3     Zfpm2  "
      ]
     },
     "execution_count": 38,
     "metadata": {},
     "output_type": "execute_result"
    }
   ],
   "source": [
    "intersection_df"
   ]
  },
  {
   "cell_type": "markdown",
   "id": "72b4a9bf-ec33-4c8d-a625-9993690a13e7",
   "metadata": {},
   "source": [
    "## check for putative enhancers"
   ]
  },
  {
   "cell_type": "code",
   "execution_count": 198,
   "id": "fe92d597-8a76-4eab-8cfb-90c800e77b52",
   "metadata": {},
   "outputs": [],
   "source": [
    "example_gene = 'Aven'"
   ]
  },
  {
   "cell_type": "code",
   "execution_count": 199,
   "id": "10e06d09-3ba6-4358-87a0-6614d3773072",
   "metadata": {},
   "outputs": [],
   "source": [
    "_dir = 'ABC.By.Methylation/'\n",
    "_factor = 10000000"
   ]
  },
  {
   "cell_type": "code",
   "execution_count": 200,
   "id": "df178e71-1ca8-49b2-b34e-f8872d2e7d04",
   "metadata": {},
   "outputs": [],
   "source": [
    "gene_meta = pd.read_csv('/home/qzeng_salk_edu/project/240321_abc_score/use.mouse_genes.csv', index_col = 0)\n",
    "gene_name_to_id= {v:k for k,v in gene_meta['gene_name'].to_dict().items()}"
   ]
  },
  {
   "cell_type": "code",
   "execution_count": 201,
   "id": "cf1f3089-6664-43be-8125-e736dae01222",
   "metadata": {},
   "outputs": [],
   "source": [
    "def genome_pos(x):\n",
    "    _chr, e_start, e_end, gene_id = x.split('-')\n",
    "    e_start, e_end = int(e_start), int(e_end)\n",
    "    #gene_start = int(gene_meta.loc[gene_id]['start'])\n",
    "    #distance = abs(e_start - gene_start)\n",
    "    return e_start\n",
    "    \n",
    "def prepare_df(ct,age):\n",
    "    tmpdf = pd.read_csv(f'{_dir}/{ct}/{ct}.{age}.abc_score.csv', index_col = 0)\n",
    "    tmpdf['normalized_count'] = (tmpdf['1']/tmpdf['1'].sum())*_factor #normalization\n",
    "    tmpdf = tmpdf[tmpdf['1'] >= 5] # filter for noise\n",
    "    tmpdf['gene_id'] = tmpdf.index.map(lambda x: x.split('-')[-1])\n",
    "    tmpdf['gene_start'] = tmpdf['gene_id'].map(gene_meta['start'].to_dict())\n",
    "    tmpdf['e_start'] = tmpdf.index.map(lambda x: genome_pos(x))\n",
    "    tmpdf['eg_dist'] = abs(tmpdf['e_start'] - tmpdf['gene_start'])\n",
    "    return tmpdf"
   ]
  },
  {
   "cell_type": "code",
   "execution_count": 202,
   "id": "cc158e1a-6be7-4f3c-9890-477878ed5ffa",
   "metadata": {},
   "outputs": [],
   "source": [
    "young_abc_df = prepare_df(ct, '8wk')\n",
    "old_abc_df =  prepare_df(ct, '18mo')"
   ]
  },
  {
   "cell_type": "code",
   "execution_count": 203,
   "id": "f48ac32a-bbf6-4eab-aa33-5c66011d265d",
   "metadata": {},
   "outputs": [],
   "source": [
    "young_gene_df = young_abc_df[young_abc_df['gene_id'] == gene_name_to_id[example_gene]]\n",
    "old_gene_df = old_abc_df[old_abc_df['gene_id'] == gene_name_to_id[example_gene]]"
   ]
  },
  {
   "cell_type": "code",
   "execution_count": 213,
   "id": "49164edf-ac04-4912-933b-79ba7d11acf8",
   "metadata": {},
   "outputs": [
    {
     "data": {
      "text/plain": [
       "(112490964, 112636573)"
      ]
     },
     "execution_count": 213,
     "metadata": {},
     "output_type": "execute_result"
    }
   ],
   "source": [
    "slop = 2000\n",
    "gene_start, gene_end = gene_meta[gene_meta['gene_name'] == example_gene].T.loc['start'].values[0]-slop, gene_meta[gene_meta['gene_name'] == example_gene].T.loc['end'].values[0]+slop\n",
    "gene_start, gene_end"
   ]
  },
  {
   "cell_type": "code",
   "execution_count": 157,
   "id": "2b3a5f6e-5bf3-4b64-9181-60f53446f33a",
   "metadata": {},
   "outputs": [],
   "source": [
    "tad_start, tad_end = 111025000, 112550000"
   ]
  },
  {
   "cell_type": "code",
   "execution_count": 154,
   "id": "f32a1eca-23e8-46ca-80d9-6360e22534a9",
   "metadata": {},
   "outputs": [],
   "source": [
    "#ene_meta[gene_meta['gene_name'] == example_gene]"
   ]
  },
  {
   "cell_type": "code",
   "execution_count": 156,
   "id": "ff164a2a-e296-470c-bd01-0adaa04c5e2f",
   "metadata": {},
   "outputs": [],
   "source": [
    "## check enhancers locate in the splitted domain"
   ]
  },
  {
   "cell_type": "code",
   "execution_count": 185,
   "id": "a5a186d3-45f6-433e-bc5e-67cd90d789c3",
   "metadata": {},
   "outputs": [],
   "source": [
    "## upstream\n",
    "up_use_young = young_gene_df[(young_gene_df['e_start'] < gene_start) & (young_gene_df['e_start'] > tad_start)]\n",
    "up_use_old = old_gene_df[(old_gene_df['e_start'] < gene_start) & (old_gene_df['e_start'] > tad_start)]"
   ]
  },
  {
   "cell_type": "code",
   "execution_count": 186,
   "id": "403e67ed-232f-45a1-bad4-bd47a1b84a69",
   "metadata": {},
   "outputs": [],
   "source": [
    "# up_use_young = young_gene_df[(young_gene_df['e_start'] < gene_start)]\n",
    "# up_use_old = old_gene_df[(old_gene_df['e_start'] < gene_start)]"
   ]
  },
  {
   "cell_type": "code",
   "execution_count": 187,
   "id": "57e15cf1-7953-43e4-9f9f-a2a535c78898",
   "metadata": {},
   "outputs": [
    {
     "data": {
      "text/plain": [
       "0"
      ]
     },
     "execution_count": 187,
     "metadata": {},
     "output_type": "execute_result"
    }
   ],
   "source": [
    "shared_e_g_pairs = list(set(use_young.index) & set(use_old.index))\n",
    "shared_df = pd.concat([young_gene_df.loc[shared_e_g_pairs], old_gene_df.loc[shared_e_g_pairs]], axis = 1)\n",
    "len(shared_e_g_pairs)"
   ]
  },
  {
   "cell_type": "code",
   "execution_count": 188,
   "id": "d6f1b962-27fd-47b4-b855-aa1657e92a53",
   "metadata": {},
   "outputs": [],
   "source": [
    "# ## downstream\n",
    "# down_use_young = young_gene_df[(young_gene_df['e_start'] > gene_end) & (young_gene_df['e_start'] < tad_end)]\n",
    "# down_use_old = old_gene_df[(old_gene_df['e_start'] > gene_end) & (old_gene_df['e_start'] < tad_end)]\n",
    "\n",
    "# use_young = pd.concat([up_use_young, down_use_young])\n",
    "# use_old = pd.concat([up_use_old, down_use_old])"
   ]
  },
  {
   "cell_type": "code",
   "execution_count": 189,
   "id": "dfd4a0c4-3b0e-4eaa-85a2-4351eefc223a",
   "metadata": {},
   "outputs": [],
   "source": [
    "use_young = up_use_young\n",
    "use_old = up_use_old"
   ]
  },
  {
   "cell_type": "code",
   "execution_count": 196,
   "id": "24c89d2e-4a55-449f-86ae-1c4344c22d83",
   "metadata": {},
   "outputs": [
    {
     "data": {
      "text/plain": [
       "Text(0.5, 0.98, 'Itfg1 Putative Enhancer')"
      ]
     },
     "execution_count": 196,
     "metadata": {},
     "output_type": "execute_result"
    },
    {
     "data": {
      "image/png": "[encoded data removed]",
      "text/plain": [
       "<Figure size 1200x600 with 2 Axes>"
      ]
     },
     "metadata": {},
     "output_type": "display_data"
    }
   ],
   "source": [
    "fig, axes= plt.subplots(figsize = (6,3), ncols = 2, dpi = 200, constrained_layout = True)\n",
    "\n",
    "ax = axes[0]\n",
    "sns.scatterplot(data = use_young, \n",
    "                x = 'eg_dist',\n",
    "                y = 'normalized_count',\n",
    "                alpha = 0.8,linewidth = 0,\n",
    "                s =15,\n",
    "                ax = ax)\n",
    "ax.set_title(f\"Young\")\n",
    "ax.set(xlim = (0,270000), ylim = (7, 20))\n",
    "\n",
    "ax = axes[1]\n",
    "sns.scatterplot(data = use_old, \n",
    "                x = 'eg_dist',\n",
    "                y = 'normalized_count',\n",
    "                alpha = 0.8,linewidth = 0,\n",
    "                s =15,\n",
    "                ax = ax)\n",
    "ax.set_title(f\"Old\")\n",
    "ax.set(xlim = (0,270000), ylim = (7, 20))\n",
    "\n",
    "plt.suptitle(f\"{example_gene} Putative Enhancer\")"
   ]
  },
  {
   "cell_type": "code",
   "execution_count": null,
   "id": "2876a5bd-b8b6-4079-9968-1c9a0b44fcf0",
   "metadata": {},
   "outputs": [],
   "source": []
  },
  {
   "cell_type": "code",
   "execution_count": null,
   "id": "50eebfcd-6524-4c97-b0d4-ce476814c494",
   "metadata": {},
   "outputs": [],
   "source": []
  },
  {
   "cell_type": "code",
   "execution_count": null,
   "id": "6324ddfd-4489-4ad4-917a-ba84c2008278",
   "metadata": {},
   "outputs": [],
   "source": []
  },
  {
   "cell_type": "code",
   "execution_count": null,
   "id": "04f460de-505b-40fa-a293-4c518c29e06c",
   "metadata": {},
   "outputs": [],
   "source": []
  },
  {
   "cell_type": "code",
   "execution_count": null,
   "id": "3b1cd0ad-1a73-4400-928e-a944879d20ae",
   "metadata": {},
   "outputs": [],
   "source": []
  }
 ],
 "metadata": {
  "kernelspec": {
   "display_name": "Python 3 (ipykernel)",
   "language": "python",
   "name": "python3"
  },
  "language_info": {
   "codemirror_mode": {
    "name": "ipython",
    "version": 3
   },
   "file_extension": ".py",
   "mimetype": "text/x-python",
   "name": "python",
   "nbconvert_exporter": "python",
   "pygments_lexer": "ipython3",
   "version": "3.10.12"
  }
 },
 "nbformat": 4,
 "nbformat_minor": 5
}
