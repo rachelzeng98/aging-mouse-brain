{
 "cells": [
  {
   "cell_type": "code",
   "execution_count": 1,
   "id": "01e57eda-030a-4396-b9bb-92ac45477a29",
   "metadata": {
    "execution": {
     "iopub.execute_input": "2023-06-04T22:30:35.740783Z",
     "iopub.status.busy": "2023-06-04T22:30:35.740636Z",
     "iopub.status.idle": "2023-06-04T22:30:35.935757Z",
     "shell.execute_reply": "2023-06-04T22:30:35.935165Z",
     "shell.execute_reply.started": "2023-06-04T22:30:35.740768Z"
    },
    "tags": []
   },
   "outputs": [],
   "source": [
    "import pathlib\n",
    "import subprocess\n",
    "import pandas as pd"
   ]
  },
  {
   "cell_type": "code",
   "execution_count": 2,
   "id": "50afaebb-a423-440b-90e4-6c222bfab375",
   "metadata": {
    "execution": {
     "iopub.execute_input": "2023-06-04T22:30:35.936680Z",
     "iopub.status.busy": "2023-06-04T22:30:35.936473Z",
     "iopub.status.idle": "2023-06-04T22:30:35.939488Z",
     "shell.execute_reply": "2023-06-04T22:30:35.938969Z",
     "shell.execute_reply.started": "2023-06-04T22:30:35.936664Z"
    },
    "tags": []
   },
   "outputs": [],
   "source": [
    "_dir = '/data/tmp/allc_table_3k'"
   ]
  },
  {
   "cell_type": "code",
   "execution_count": 3,
   "id": "efd7915a-b244-4070-95d1-cc6f3b23bc15",
   "metadata": {
    "execution": {
     "iopub.execute_input": "2023-06-04T22:30:35.940245Z",
     "iopub.status.busy": "2023-06-04T22:30:35.940074Z",
     "iopub.status.idle": "2023-06-04T22:30:35.944183Z",
     "shell.execute_reply": "2023-06-04T22:30:35.943630Z",
     "shell.execute_reply.started": "2023-06-04T22:30:35.940230Z"
    },
    "tags": [
     "parameters"
    ]
   },
   "outputs": [],
   "source": [
    "#group_name = 'chunk_0'"
   ]
  },
  {
   "cell_type": "code",
   "execution_count": 4,
   "id": "cbc6b9bd-4ef5-4f9e-b470-ea2f2e03fed5",
   "metadata": {
    "execution": {
     "iopub.execute_input": "2023-06-04T22:30:35.945016Z",
     "iopub.status.busy": "2023-06-04T22:30:35.944855Z",
     "iopub.status.idle": "2023-06-04T22:30:35.948850Z",
     "shell.execute_reply": "2023-06-04T22:30:35.948334Z",
     "shell.execute_reply.started": "2023-06-04T22:30:35.945000Z"
    },
    "tags": []
   },
   "outputs": [],
   "source": [
    "batch = f'{_dir}/{group_name}'"
   ]
  },
  {
   "cell_type": "code",
   "execution_count": 5,
   "id": "c508f071-8d81-499a-ac03-8b732374530c",
   "metadata": {
    "execution": {
     "iopub.execute_input": "2023-06-04T22:30:35.982286Z",
     "iopub.status.busy": "2023-06-04T22:30:35.982092Z",
     "iopub.status.idle": "2023-06-04T22:30:35.985279Z",
     "shell.execute_reply": "2023-06-04T22:30:35.984704Z",
     "shell.execute_reply.started": "2023-06-04T22:30:35.982268Z"
    },
    "tags": []
   },
   "outputs": [],
   "source": [
    "command = f\"allcools generate-dataset \\\n",
    "--allc_table {batch}.tsv \\\n",
    "--output_path {group_name}.mcds \\\n",
    "--chrom_size_path  /ref/mm10/fasta/with_chrl/mm10.main.chrom.sizes \\\n",
    "--obs_dim cell \\\n",
    "--cpu 91 \\\n",
    "--chunk_size 50 \\\n",
    "--regions chrom5k 5000 \\\n",
    "--quantifiers chrom5k hypo-score CGN cutoff=0.9 \\\n",
    "\"\n",
    "\n",
    "# with open(f'gen_mcds.sh', 'w') as f:\n",
    "#     f.write(command+'\\n')"
   ]
  },
  {
   "cell_type": "code",
   "execution_count": 6,
   "id": "d5ec0f4c-c24e-4697-ade3-4f09fd2b71fd",
   "metadata": {
    "execution": {
     "iopub.execute_input": "2023-06-04T22:30:36.735662Z",
     "iopub.status.busy": "2023-06-04T22:30:36.735476Z",
     "iopub.status.idle": "2023-06-04T22:30:36.738689Z",
     "shell.execute_reply": "2023-06-04T22:30:36.738134Z",
     "shell.execute_reply.started": "2023-06-04T22:30:36.735646Z"
    },
    "tags": []
   },
   "outputs": [],
   "source": [
    "tag_path = f'/data/aging/dataset/mcds_5kb/{group_name}.finish'\n",
    "tag_path = pathlib.Path(tag_path)"
   ]
  },
  {
   "cell_type": "code",
   "execution_count": 9,
   "id": "e8d30022-9ecc-47d0-adb6-fd806825166e",
   "metadata": {
    "execution": {
     "iopub.execute_input": "2023-06-04T22:32:44.388195Z",
     "iopub.status.busy": "2023-06-04T22:32:44.387926Z",
     "iopub.status.idle": "2023-06-04T22:32:44.552143Z",
     "shell.execute_reply": "2023-06-04T22:32:44.551436Z",
     "shell.execute_reply.started": "2023-06-04T22:32:44.388174Z"
    },
    "tags": []
   },
   "outputs": [
    {
     "name": "stdout",
     "output_type": "stream",
     "text": [
      "chunk_0 done\n"
     ]
    }
   ],
   "source": [
    "if tag_path.exists() == False:\n",
    "    subprocess.run(f'{command}', shell = True)\n",
    "    subprocess.run(f'gsutil -m cp -r {group_name}.mcds gs://ecker-rachel-analysis/aging/dataset/mcds_5kb', shell = True)\n",
    "    subprocess.run(f'touch {group_name}.finish', shell = True)\n",
    "    subprocess.run(f'gsutil cp {group_name}.finish gs://ecker-rachel-analysis/aging/dataset/mcds_5kb', shell = True)\n",
    "else:\n",
    "    print(f'{group_name} done')"
   ]
  },
  {
   "cell_type": "code",
   "execution_count": null,
   "id": "4affa262-862e-4317-b6a9-1683dc04ef37",
   "metadata": {},
   "outputs": [],
   "source": []
  },
  {
   "cell_type": "code",
   "execution_count": null,
   "id": "4df0a726-cff9-4e22-885e-2aad72324908",
   "metadata": {},
   "outputs": [],
   "source": []
  },
  {
   "cell_type": "code",
   "execution_count": null,
   "id": "7d9b80dc-5bfc-4e2f-b90e-bffa48cd5f89",
   "metadata": {},
   "outputs": [],
   "source": []
  },
  {
   "cell_type": "code",
   "execution_count": null,
   "id": "a5bdf1ba-d30b-47b5-95c3-b6c5a80986cb",
   "metadata": {},
   "outputs": [],
   "source": []
  },
  {
   "cell_type": "code",
   "execution_count": null,
   "id": "1eb37333-f70b-4664-8ce0-ef41954b44f1",
   "metadata": {},
   "outputs": [],
   "source": []
  }
 ],
 "metadata": {
  "kernelspec": {
   "display_name": "Python 3 (ipykernel)",
   "language": "python",
   "name": "python3"
  },
  "language_info": {
   "codemirror_mode": {
    "name": "ipython",
    "version": 3
   },
   "file_extension": ".py",
   "mimetype": "text/x-python",
   "name": "python",
   "nbconvert_exporter": "python",
   "pygments_lexer": "ipython3",
   "version": "3.7.12"
  }
 },
 "nbformat": 4,
 "nbformat_minor": 5
}
