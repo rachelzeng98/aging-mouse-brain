{
 "cells": [
  {
   "cell_type": "code",
   "execution_count": 1,
   "id": "34017c26-dfc2-4d79-a45a-6d505a4eb669",
   "metadata": {},
   "outputs": [],
   "source": [
    "import pandas as pd\n",
    "from wmb import cemba\n",
    "from gliderport.preset.snakemake import prepare_snakemake\n",
    "import json\n",
    "import joblib\n"
   ]
  },
  {
   "cell_type": "markdown",
   "id": "133c0476-3375-4cc9-a6df-3a5a01817a02",
   "metadata": {},
   "source": [
    "## check unfinished "
   ]
  },
  {
   "cell_type": "code",
   "execution_count": 2,
   "id": "83a752b8-055d-44dc-89cf-b8e0fc94c1d4",
   "metadata": {},
   "outputs": [],
   "source": [
    "# groups = joblib.load('all_groups_list')\n",
    "# groups = sorted(groups)\n",
    "# groups[:5]"
   ]
  },
  {
   "cell_type": "code",
   "execution_count": 3,
   "id": "a23dc8ff-2fe3-4c03-8391-720c89780e55",
   "metadata": {},
   "outputs": [
    {
     "data": {
      "text/plain": [
       "3"
      ]
     },
     "execution_count": 3,
     "metadata": {},
     "output_type": "execute_result"
    }
   ],
   "source": [
    "groups= ['chunk_4','chunk_5','chunk_8']\n",
    "len(groups)"
   ]
  },
  {
   "cell_type": "code",
   "execution_count": 6,
   "id": "f2a9b6f8-c07d-495b-8b91-71b341602e7d",
   "metadata": {},
   "outputs": [],
   "source": [
    "#\n",
    "prepare_snakemake(\n",
    "    job_dir='gen-5kb-mcds2',\n",
    "    template_dir='template2/',\n",
    "    groups=groups,\n",
    "    output_bucket='ecker-rachel-analysis',\n",
    "    output_prefix='aging/dataset/mcds_5kb_output',\n",
    "    sky_template='sky-jupyter.yaml',\n",
    "    total_jobs=None,\n",
    "    total_mem_gb=None,\n",
    "    default_cpu=91,\n",
    "    default_mem_gb=200,\n",
    "    batches= 4  ##how many vm to open\n",
    ")"
   ]
  },
  {
   "cell_type": "code",
   "execution_count": null,
   "id": "a586bcfd-718c-44c7-ae41-381b8af20392",
   "metadata": {},
   "outputs": [],
   "source": [
    "glider port --local_job_dir gen-5kb-mcds2 --n_worker 3 --use_hash 230605-mcds"
   ]
  },
  {
   "cell_type": "code",
   "execution_count": null,
   "id": "197a7711-efbb-4ee1-9ea2-8a5d00c1e796",
   "metadata": {},
   "outputs": [],
   "source": []
  },
  {
   "cell_type": "code",
   "execution_count": null,
   "id": "92e5d3f3-c3f7-49a9-8dff-414f61e03bae",
   "metadata": {},
   "outputs": [],
   "source": []
  },
  {
   "cell_type": "code",
   "execution_count": null,
   "id": "74f02227-a48a-46ab-b582-ddb4557f8f6c",
   "metadata": {},
   "outputs": [],
   "source": []
  },
  {
   "cell_type": "code",
   "execution_count": null,
   "id": "94bdcd62-4b50-4ddd-95bb-755767ad7d28",
   "metadata": {},
   "outputs": [],
   "source": []
  },
  {
   "cell_type": "code",
   "execution_count": null,
   "id": "65b0e585-1868-4a30-acfd-f2df74fef68c",
   "metadata": {},
   "outputs": [],
   "source": []
  },
  {
   "cell_type": "code",
   "execution_count": null,
   "id": "e71bede8-8e7b-4894-af53-d0488958ac07",
   "metadata": {},
   "outputs": [],
   "source": []
  },
  {
   "cell_type": "code",
   "execution_count": null,
   "id": "f7fc35c8-6211-466f-9a0f-507ebd950bbb",
   "metadata": {},
   "outputs": [],
   "source": []
  }
 ],
 "metadata": {
  "kernelspec": {
   "display_name": "Python 3 (ipykernel)",
   "language": "python",
   "name": "python3"
  },
  "language_info": {
   "codemirror_mode": {
    "name": "ipython",
    "version": 3
   },
   "file_extension": ".py",
   "mimetype": "text/x-python",
   "name": "python",
   "nbconvert_exporter": "python",
   "pygments_lexer": "ipython3",
   "version": "3.7.12"
  }
 },
 "nbformat": 4,
 "nbformat_minor": 5
}
